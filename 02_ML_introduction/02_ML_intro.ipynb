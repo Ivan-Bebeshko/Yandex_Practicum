{
 "cells": [
  {
   "cell_type": "markdown",
   "metadata": {
    "toc": true
   },
   "source": [
    "<h1>Table of Contents<span class=\"tocSkip\"></span></h1>\n",
    "<div class=\"toc\"><ul class=\"toc-item\"><li><span><a href=\"#Загрузка-и-изучение-файла\" data-toc-modified-id=\"Загрузка-и-изучение-файла-1\"><span class=\"toc-item-num\">1&nbsp;&nbsp;</span>Загрузка и изучение файла</a></span></li><li><span><a href=\"#Разделение-данных-на-выборки\" data-toc-modified-id=\"Разделение-данных-на-выборки-2\"><span class=\"toc-item-num\">2&nbsp;&nbsp;</span>Разделение данных на выборки</a></span></li><li><span><a href=\"#Исследование-моделей\" data-toc-modified-id=\"Исследование-моделей-3\"><span class=\"toc-item-num\">3&nbsp;&nbsp;</span>Исследование моделей</a></span><ul class=\"toc-item\"><li><span><a href=\"#Модель-&quot;дерево-решений&quot;\" data-toc-modified-id=\"Модель-&quot;дерево-решений&quot;-3.1\"><span class=\"toc-item-num\">3.1&nbsp;&nbsp;</span>Модель \"дерево решений\"</a></span></li><li><span><a href=\"#Модель-&quot;случайный-лес&quot;\" data-toc-modified-id=\"Модель-&quot;случайный-лес&quot;-3.2\"><span class=\"toc-item-num\">3.2&nbsp;&nbsp;</span>Модель \"случайный лес\"</a></span></li><li><span><a href=\"#Модель-&quot;логистическая-регрессия&quot;\" data-toc-modified-id=\"Модель-&quot;логистическая-регрессия&quot;-3.3\"><span class=\"toc-item-num\">3.3&nbsp;&nbsp;</span>Модель \"логистическая регрессия\"</a></span></li></ul></li><li><span><a href=\"#Проверка-модели-на-тестовой-выборке\" data-toc-modified-id=\"Проверка-модели-на-тестовой-выборке-4\"><span class=\"toc-item-num\">4&nbsp;&nbsp;</span>Проверка модели на тестовой выборке</a></span></li><li><span><a href=\"#(бонус)-Проверка-модели-на-адекватность\" data-toc-modified-id=\"(бонус)-Проверка-модели-на-адекватность-5\"><span class=\"toc-item-num\">5&nbsp;&nbsp;</span>(бонус) Проверка модели на адекватность</a></span></li><li><span><a href=\"#Вывод:\" data-toc-modified-id=\"Вывод:-6\"><span class=\"toc-item-num\">6&nbsp;&nbsp;</span>Вывод:</a></span></li><li><span><a href=\"#Чек-лист-готовности-проекта\" data-toc-modified-id=\"Чек-лист-готовности-проекта-7\"><span class=\"toc-item-num\">7&nbsp;&nbsp;</span>Чек-лист готовности проекта</a></span></li></ul></div>"
   ]
  },
  {
   "cell_type": "markdown",
   "metadata": {},
   "source": [
    "# Рекомендация тарифов"
   ]
  },
  {
   "attachments": {},
   "cell_type": "markdown",
   "metadata": {},
   "source": [
    "Нужно построить модель для задачи классификации, которая выберет подходящий тариф.\n",
    "\n",
    "Постройте модель с максимально большим значением *accuracy*. Чтобы сдать проект успешно, нужно довести долю правильных ответов по крайней мере до 0.75. Проверьте *accuracy* на тестовой выборке самостоятельно."
   ]
  },
  {
   "cell_type": "markdown",
   "metadata": {},
   "source": [
    "**Описание данных:**\n",
    "Каждый объект в наборе данных — это информация о поведении одного пользователя за месяц.\n",
    "\n",
    "`Известно:`\n",
    "- сalls — количество звонков,\n",
    "- minutes — суммарная длительность звонков в минутах,\n",
    "- messages — количество sms-сообщений,\n",
    "- mb_used — израсходованный интернет-трафик в Мб,\n",
    "- is_ultra — каким тарифом пользовался в течение месяца («Ультра» — 1, «Смарт» — 0)."
   ]
  },
  {
   "cell_type": "markdown",
   "metadata": {},
   "source": [
    "## Загрузка и изучение файла"
   ]
  },
  {
   "cell_type": "code",
   "execution_count": 91,
   "metadata": {},
   "outputs": [],
   "source": [
    "# импорт требуемых библиотек\n",
    "\n",
    "import pandas as pd #программная библиотека для обработки и анализа данных. Работа pandas с данными строится поверх библиотеки NumPy\n",
    "\n",
    "import numpy as np #поддержка многомерных массивов; поддержка высокоуровневых математических функций, предназначенных для работы с многомерными массивами\n",
    "\n",
    "# импорт требуемых библиотек для работы с машинным обучением \"с учителем\" для классификации (категориальные переменные)\n",
    "\n",
    "from sklearn.tree import DecisionTreeClassifier #алгоритм классификации \"деревом решений\"\n",
    "\n",
    "from sklearn.ensemble import RandomForestClassifier #алгоритм классификации \"случайным лесом\"\n",
    "\n",
    "from sklearn.linear_model import LogisticRegression #алгоритм — логистическая регрессия\n",
    "\n",
    "from sklearn.model_selection import train_test_split #функция train_test_split (от англ. «разделить на обучающую и тестовую») из модуля .model_selection\n",
    "\n",
    "from sklearn.metrics import accuracy_score #импорт одной из метрик качества модели\n",
    "\n",
    "\n",
    "from sklearn.dummy import DummyClassifier  #DummyClassifier делает прогнозы, которые игнорируют входные функции для оценки вменяемости\n",
    "\n",
    "#__________________________#\n",
    "\n",
    "import matplotlib.pyplot as plt #библиотека для визуализации данных двумерной графикой\n"
   ]
  },
  {
   "cell_type": "code",
   "execution_count": 92,
   "metadata": {},
   "outputs": [],
   "source": [
    "df = pd.read_csv('/datasets/users_behavior.csv')  #серверный путь"
   ]
  },
  {
   "cell_type": "code",
   "execution_count": 93,
   "metadata": {},
   "outputs": [
    {
     "data": {
      "text/html": [
       "<div>\n",
       "<style scoped>\n",
       "    .dataframe tbody tr th:only-of-type {\n",
       "        vertical-align: middle;\n",
       "    }\n",
       "\n",
       "    .dataframe tbody tr th {\n",
       "        vertical-align: top;\n",
       "    }\n",
       "\n",
       "    .dataframe thead th {\n",
       "        text-align: right;\n",
       "    }\n",
       "</style>\n",
       "<table border=\"1\" class=\"dataframe\">\n",
       "  <thead>\n",
       "    <tr style=\"text-align: right;\">\n",
       "      <th></th>\n",
       "      <th>calls</th>\n",
       "      <th>minutes</th>\n",
       "      <th>messages</th>\n",
       "      <th>mb_used</th>\n",
       "      <th>is_ultra</th>\n",
       "    </tr>\n",
       "  </thead>\n",
       "  <tbody>\n",
       "    <tr>\n",
       "      <th>0</th>\n",
       "      <td>40.0</td>\n",
       "      <td>311.90</td>\n",
       "      <td>83.0</td>\n",
       "      <td>19915.42</td>\n",
       "      <td>0</td>\n",
       "    </tr>\n",
       "    <tr>\n",
       "      <th>1</th>\n",
       "      <td>85.0</td>\n",
       "      <td>516.75</td>\n",
       "      <td>56.0</td>\n",
       "      <td>22696.96</td>\n",
       "      <td>0</td>\n",
       "    </tr>\n",
       "    <tr>\n",
       "      <th>2</th>\n",
       "      <td>77.0</td>\n",
       "      <td>467.66</td>\n",
       "      <td>86.0</td>\n",
       "      <td>21060.45</td>\n",
       "      <td>0</td>\n",
       "    </tr>\n",
       "    <tr>\n",
       "      <th>3</th>\n",
       "      <td>106.0</td>\n",
       "      <td>745.53</td>\n",
       "      <td>81.0</td>\n",
       "      <td>8437.39</td>\n",
       "      <td>1</td>\n",
       "    </tr>\n",
       "    <tr>\n",
       "      <th>4</th>\n",
       "      <td>66.0</td>\n",
       "      <td>418.74</td>\n",
       "      <td>1.0</td>\n",
       "      <td>14502.75</td>\n",
       "      <td>0</td>\n",
       "    </tr>\n",
       "  </tbody>\n",
       "</table>\n",
       "</div>"
      ],
      "text/plain": [
       "   calls  minutes  messages   mb_used  is_ultra\n",
       "0   40.0   311.90      83.0  19915.42         0\n",
       "1   85.0   516.75      56.0  22696.96         0\n",
       "2   77.0   467.66      86.0  21060.45         0\n",
       "3  106.0   745.53      81.0   8437.39         1\n",
       "4   66.0   418.74       1.0  14502.75         0"
      ]
     },
     "execution_count": 93,
     "metadata": {},
     "output_type": "execute_result"
    }
   ],
   "source": [
    "df.head()"
   ]
  },
  {
   "cell_type": "code",
   "execution_count": 94,
   "metadata": {},
   "outputs": [
    {
     "name": "stdout",
     "output_type": "stream",
     "text": [
      "<class 'pandas.core.frame.DataFrame'>\n",
      "RangeIndex: 3214 entries, 0 to 3213\n",
      "Data columns (total 5 columns):\n",
      " #   Column    Non-Null Count  Dtype  \n",
      "---  ------    --------------  -----  \n",
      " 0   calls     3214 non-null   float64\n",
      " 1   minutes   3214 non-null   float64\n",
      " 2   messages  3214 non-null   float64\n",
      " 3   mb_used   3214 non-null   float64\n",
      " 4   is_ultra  3214 non-null   int64  \n",
      "dtypes: float64(4), int64(1)\n",
      "memory usage: 125.7 KB\n"
     ]
    }
   ],
   "source": [
    "df.info()"
   ]
  },
  {
   "cell_type": "code",
   "execution_count": 95,
   "metadata": {},
   "outputs": [
    {
     "name": "stdout",
     "output_type": "stream",
     "text": [
      "Количество явных дубликатов под удаление: 0\n"
     ]
    }
   ],
   "source": [
    "print('Количество явных дубликатов под удаление:', df.duplicated().sum()) # подсчёт явных дубликатов"
   ]
  },
  {
   "cell_type": "markdown",
   "metadata": {},
   "source": [
    "Описание данных:\n",
    "\n",
    "- 3214 строк, 5 столбцов;\n",
    "- нет отсутствующих значений;\n",
    "- не требуется изменение имен столбцов;\n",
    "- не требуется изменение типа данных;\n",
    "- дубликатов нет."
   ]
  },
  {
   "cell_type": "code",
   "execution_count": 96,
   "metadata": {},
   "outputs": [
    {
     "name": "stdout",
     "output_type": "stream",
     "text": [
      "CALLS\n"
     ]
    },
    {
     "data": {
      "text/plain": [
       "count    3214.0\n",
       "mean       63.0\n",
       "std        33.2\n",
       "min         0.0\n",
       "25%        40.0\n",
       "50%        62.0\n",
       "75%        82.0\n",
       "max       244.0\n",
       "Name: calls, dtype: float64"
      ]
     },
     "metadata": {},
     "output_type": "display_data"
    },
    {
     "name": "stdout",
     "output_type": "stream",
     "text": [
      "\n",
      "MINUTES\n"
     ]
    },
    {
     "data": {
      "text/plain": [
       "count    3214.0\n",
       "mean      438.2\n",
       "std       234.6\n",
       "min         0.0\n",
       "25%       274.6\n",
       "50%       430.6\n",
       "75%       571.9\n",
       "max      1632.1\n",
       "Name: minutes, dtype: float64"
      ]
     },
     "metadata": {},
     "output_type": "display_data"
    },
    {
     "name": "stdout",
     "output_type": "stream",
     "text": [
      "\n",
      "MESSAGES\n"
     ]
    },
    {
     "data": {
      "text/plain": [
       "count    3214.0\n",
       "mean       38.3\n",
       "std        36.1\n",
       "min         0.0\n",
       "25%         9.0\n",
       "50%        30.0\n",
       "75%        57.0\n",
       "max       224.0\n",
       "Name: messages, dtype: float64"
      ]
     },
     "metadata": {},
     "output_type": "display_data"
    },
    {
     "name": "stdout",
     "output_type": "stream",
     "text": [
      "\n",
      "MB_USED\n"
     ]
    },
    {
     "data": {
      "text/plain": [
       "count     3214.0\n",
       "mean     17207.7\n",
       "std       7571.0\n",
       "min          0.0\n",
       "25%      12491.9\n",
       "50%      16943.2\n",
       "75%      21424.7\n",
       "max      49745.7\n",
       "Name: mb_used, dtype: float64"
      ]
     },
     "metadata": {},
     "output_type": "display_data"
    },
    {
     "name": "stdout",
     "output_type": "stream",
     "text": [
      "\n"
     ]
    }
   ],
   "source": [
    "#оценим данные в столбцах на отрицальные, аномально высокие значения или другие отклонения\n",
    "\n",
    "columns_list = ['calls', 'minutes', 'messages', 'mb_used']\n",
    "\n",
    "for column in columns_list:\n",
    "    print(column.upper())\n",
    "    display(round(df[column].describe(),1))\n",
    "    print()"
   ]
  },
  {
   "cell_type": "markdown",
   "metadata": {},
   "source": [
    "Выбросов по данным (сверхвысокие или отрицательные значения) для столбцов 'calls', 'minutes', 'messages', 'mb_used' не отмечено."
   ]
  },
  {
   "cell_type": "code",
   "execution_count": 97,
   "metadata": {},
   "outputs": [
    {
     "data": {
      "image/png": "[encoded data removed]",
      "text/plain": [
       "<Figure size 1080x216 with 1 Axes>"
      ]
     },
     "metadata": {
      "needs_background": "light"
     },
     "output_type": "display_data"
    },
    {
     "data": {
      "image/png": "[encoded data removed]",
      "text/plain": [
       "<Figure size 1080x216 with 1 Axes>"
      ]
     },
     "metadata": {
      "needs_background": "light"
     },
     "output_type": "display_data"
    },
    {
     "data": {
      "image/png": "[encoded data removed]",
      "text/plain": [
       "<Figure size 1080x216 with 1 Axes>"
      ]
     },
     "metadata": {
      "needs_background": "light"
     },
     "output_type": "display_data"
    },
    {
     "data": {
      "image/png": "[encoded data removed]",
      "text/plain": [
       "<Figure size 1080x216 with 1 Axes>"
      ]
     },
     "metadata": {
      "needs_background": "light"
     },
     "output_type": "display_data"
    }
   ],
   "source": [
    "#оценим данные в столбцах по гистограммам\n",
    "\n",
    "columns_list = ['calls', 'minutes', 'messages', 'mb_used']\n",
    "\n",
    "for column in columns_list:\n",
    "    df[column].hist(\n",
    "        bins=100,\n",
    "        grid=True,\n",
    "        figsize=(15,3),\n",
    "        color='green'\n",
    "    ).set_xlabel(column)\n",
    "    plt.show()"
   ]
  },
  {
   "attachments": {},
   "cell_type": "markdown",
   "metadata": {},
   "source": [
    "Критичных отклонений нет. Можно отметить, что достаточно много 0 значений."
   ]
  },
  {
   "cell_type": "markdown",
   "metadata": {},
   "source": [
    "**Вывод:**\n",
    "    \n",
    "1. Данные пригодны для машинного обучения и не требуют предобработки.\n",
    "2. Тарифы - категориальные переменные:\n",
    "    - `1 - ultra`,\n",
    "    - `0 - smart`."
   ]
  },
  {
   "cell_type": "markdown",
   "metadata": {},
   "source": [
    "## Разделение данных на выборки"
   ]
  },
  {
   "cell_type": "markdown",
   "metadata": {},
   "source": [
    "Требуется разделить весть датафрейм на 3 выборки:\n",
    "\n",
    "    1. Обучающая (60% доля )\n",
    "    2. Валидационная (20% доля)\n",
    "    3. Тестовая (20% доля)"
   ]
  },
  {
   "cell_type": "markdown",
   "metadata": {},
   "source": [
    "- Разделим дата фрейм сначала на две части (60% и 40%), а затем вторую часть разделим пополам (20% и 20%).\n",
    "- Тестовую выборку использовать не будем, \"спрячем\"."
   ]
  },
  {
   "cell_type": "code",
   "execution_count": 98,
   "metadata": {},
   "outputs": [],
   "source": [
    "df_main, df_40 = train_test_split(df, test_size=0.40, random_state=321)"
   ]
  },
  {
   "cell_type": "code",
   "execution_count": 99,
   "metadata": {},
   "outputs": [],
   "source": [
    "df_valid, df_test = train_test_split(df_40, test_size=0.50, random_state=321)"
   ]
  },
  {
   "cell_type": "code",
   "execution_count": 100,
   "metadata": {},
   "outputs": [
    {
     "name": "stdout",
     "output_type": "stream",
     "text": [
      "Размер обучающего датафрейма: (1928, 5)\n",
      "Размер валидационного датафрейма: (643, 5)\n",
      "Размер тестового датафрейма: (643, 5)\n"
     ]
    }
   ],
   "source": [
    "#проверим размерности датафреймов\n",
    "\n",
    "print('Размер обучающего датафрейма:', df_main.shape)\n",
    "print('Размер валидационного датафрейма:', df_valid.shape)\n",
    "print('Размер тестового датафрейма:', df_test.shape)"
   ]
  },
  {
   "cell_type": "markdown",
   "metadata": {},
   "source": [
    "Разделим датафреймы на \"признаки\" (features) и \"целевой признак\" (target)"
   ]
  },
  {
   "cell_type": "code",
   "execution_count": 101,
   "metadata": {},
   "outputs": [],
   "source": [
    "features_train = df_main.drop(['is_ultra'], axis=1) #обучающий датафрейм по \"признакам\"\n",
    "\n",
    "target_train = df_main['is_ultra'] #обучающий датафрейм по \"целевому признаку\"\n",
    "\n",
    "features_valid = df_valid.drop(['is_ultra'], axis=1) #валидационный датафрейм по \"признакам\"\n",
    "\n",
    "target_valid = df_valid['is_ultra'] #валидационный датафрейм по \"целевому признаку\"\n",
    "\n",
    "features_test = df_test.drop(['is_ultra'], axis=1) #тестовый датафрейм по \"признакам\"\n",
    "\n",
    "target_test = df_test['is_ultra'] #тестовый датафрейм по \"целевому признаку\""
   ]
  },
  {
   "cell_type": "markdown",
   "metadata": {},
   "source": [
    "## Исследование моделей"
   ]
  },
  {
   "cell_type": "markdown",
   "metadata": {},
   "source": [
    "### Модель \"дерево решений\" ###"
   ]
  },
  {
   "cell_type": "code",
   "execution_count": 102,
   "metadata": {},
   "outputs": [
    {
     "name": "stdout",
     "output_type": "stream",
     "text": [
      "Лучшая модель \"дерево решений\"\n",
      "DecisionTreeClassifier(max_depth=6, min_samples_split=14, random_state=321)\n",
      "\n",
      "Accuracy_score \"дерево решений\": 0.79005\n",
      "Глубина дерева: 6\n"
     ]
    }
   ],
   "source": [
    "#создадим цикл с перебором гипперпараметров:\n",
    "# - глубина дерева\n",
    "# - min_samples_split -  гиперпараметр запрещает создавать узлы, в которые попадает слишком мало объектов обучающей выборки\n",
    "# - min_samples_leaf - гиперпараметр не разрешает создавать лист, в котором слишком мало объектов обучающей выборки.\n",
    "#и поиска модели обеспечивающей лучшее значение метрики качества модели - accuracy\n",
    "\n",
    "best_model_tree = None\n",
    "best_result_tree = 0\n",
    "best_depth_tree = 0\n",
    "\n",
    "for depth_tree in range(1, 11):                                           # глубина дерева от 1 до 10\n",
    "    for samples_split in range(2, 25):                                     # min_samples_split must be an integer greater than 1\n",
    "        for samples_leaf in range(1, 5):\n",
    "            \n",
    "            model_tree = DecisionTreeClassifier(\n",
    "                random_state=321,\n",
    "                max_depth=depth_tree,\n",
    "                min_samples_leaf=samples_leaf,\n",
    "                min_samples_split=samples_split\n",
    "            )                                                             # модель с заданным количеством деревьев\n",
    "    \n",
    "            model_tree.fit(features_train,target_train)                   # обучение модели на тренировочной выборке\n",
    "    \n",
    "            predictions_valid = model_tree.predict(features_valid)        # предсказание модели\n",
    "    \n",
    "            result_tree = accuracy_score(predictions_valid,target_valid)  # качество модели на валидационной выборке\n",
    "    \n",
    "            if result_tree > best_result_tree:\n",
    "                best_model_tree = model_tree                              # сохранение наилучшей модели\n",
    "                best_result_tree = result_tree                            # сохранение наилучшего значения метрики accuracy\n",
    "                best_depth_tree = depth_tree                                   # сохранение наилучщей глубины деревьев\n",
    "        \n",
    "print(f'Лучшая модель \"дерево решений\"')\n",
    "print(best_model_tree)\n",
    "print()\n",
    "print(f'Accuracy_score \"дерево решений\": {round(best_result_tree,5)}')\n",
    "print(f'Глубина дерева: {best_depth_tree}')"
   ]
  },
  {
   "cell_type": "markdown",
   "metadata": {},
   "source": [
    "**Вывод:** Лучшая модель обеспечивает аккуратность модели в 0.7900, что выше целевого значения в 0.75."
   ]
  },
  {
   "cell_type": "markdown",
   "metadata": {},
   "source": [
    "### Модель \"случайный лес\" ###"
   ]
  },
  {
   "cell_type": "code",
   "execution_count": 103,
   "metadata": {
    "scrolled": true
   },
   "outputs": [
    {
     "name": "stdout",
     "output_type": "stream",
     "text": [
      "Лучшая модель \"случайный лес\"\n",
      "RandomForestClassifier(max_depth=14, n_estimators=22, random_state=321)\n",
      "\n",
      "Accuracy_score \"случайный лес\": 0.8087\n",
      "Количество деревьев: 22\n",
      "Глубина дерева: 14\n"
     ]
    }
   ],
   "source": [
    "#создадим цикл с перебором гипперпараметров:\n",
    "# - количество деревьев в лесу, шагом и глубиной деревьев\n",
    "#для поиска модели обеспечивающей лучшее значение метрики качества модели - accuracy\n",
    "\n",
    "best_model_forest = None\n",
    "best_result_forest = 0\n",
    "best_estimator = 0\n",
    "best_depth_forest = 0\n",
    "\n",
    "for estimator in range(10, 51, 1):                                   #с количеством деревьев: от 10 до 50 с шагом 1\n",
    "    for depth_forest in range(1, 20):                                # глубина дерева от 1 до 19\n",
    "        model_forest = RandomForestClassifier(\n",
    "            random_state=321,\n",
    "            n_estimators=estimator,\n",
    "            max_depth=depth_forest\n",
    "        )                                                             # модель с заданным количеством деревьев\n",
    "        \n",
    "        model_forest.fit(features_train,target_train)                 # обучение модели на тренировочной выборке\n",
    "    \n",
    "        predictions_valid_fr = model_forest.predict(features_valid)   # предсказание модели\n",
    "        \n",
    "        result_forest = accuracy_score(predictions_valid_fr,target_valid)  # качество модели на валидационной выборке\n",
    "        \n",
    "        if result_forest > best_result_forest:\n",
    "            best_model_forest = model_forest                          # сохранение наилучшей модели\n",
    "            best_result_forest = result_forest                        # сохранение наилучшего значения метрики accuracy\n",
    "            best_estimator = estimator                                # сохранение наилучщего количества деревьев в \"случайном лесу\"\n",
    "            best_depth_forest = depth_forest                          # сохранение наилучщей глубины деревьев\n",
    "        \n",
    "        \n",
    "print(f'Лучшая модель \"случайный лес\"')\n",
    "print(best_model_forest)\n",
    "print()\n",
    "print(f'Accuracy_score \"случайный лес\": {round(best_result_forest,4)}')\n",
    "print(f'Количество деревьев: {best_estimator}')\n",
    "print(f'Глубина дерева: {best_depth_forest}')"
   ]
  },
  {
   "cell_type": "markdown",
   "metadata": {},
   "source": [
    "**Вывод:** Лучшая модель обеспечивает аккуратность модели в 0.8087, что выше целевого значения в 0.75."
   ]
  },
  {
   "cell_type": "markdown",
   "metadata": {},
   "source": [
    "### Модель \"логистическая регрессия\" ###"
   ]
  },
  {
   "cell_type": "code",
   "execution_count": 104,
   "metadata": {
    "scrolled": true
   },
   "outputs": [
    {
     "name": "stdout",
     "output_type": "stream",
     "text": [
      "Лучшая модель \"логистическая регрессия\":     LogisticRegression(max_iter=500, random_state=321)\n",
      "\n",
      "Accuracy_score \"логистическая регрессия\": 0.7247\n",
      "Количество итераций: 500\n"
     ]
    }
   ],
   "source": [
    "#создадим цикл с перебором гипперпараметров:\n",
    "# - количество итераций\n",
    "#для поиска модели обеспечивающей лучшее значение метрики качества модели - accuracy через функцию .score()\n",
    "\n",
    "best_model_log_reg = None\n",
    "best_result_log_reg = 0\n",
    "best_iteration_log_reg = 0\n",
    "\n",
    "for iteration in range(500, 2001, 50):                               #с количеством итераций от 500 до 2000 с шагом 50\n",
    "    \n",
    "    model_log_reg = LogisticRegression(\n",
    "        random_state=321,                                             # гипперпараметр рандома\n",
    "        solver='lbfgs',                                               # алгоритм, который будет строить модель\n",
    "        max_iter=iteration                                            # максимальное количество итераций обучения\n",
    "    )  # модель логистической регрессии \n",
    "    \n",
    "    model_log_reg.fit(features_train,target_train)                    # обучение модели на тренировочной выборке\n",
    "    \n",
    "    result_log_reg = model_log_reg.score(features_valid,target_valid) # получите метрику качества модели через .score()\n",
    "    \n",
    "    if result_log_reg > best_result_log_reg:\n",
    "        best_model_log_reg = model_log_reg                            # сохранение наилучшей модели\n",
    "        best_result_log_reg = result_log_reg                          # сохранение наилучшего значения метрики accuracy\n",
    "        best_iteration_log_reg = iteration                            # сохранение наилучшей итерации\n",
    "        \n",
    "print(f'Лучшая модель \"логистическая регрессия\": \\\n",
    "    {best_model_log_reg}')\n",
    "print()\n",
    "print(f'Accuracy_score \"логистическая регрессия\": {round(best_result_log_reg,4)}')\n",
    "print(f'Количество итераций: {best_iteration_log_reg}')"
   ]
  },
  {
   "cell_type": "markdown",
   "metadata": {},
   "source": [
    "**Вывод:** Лучшая модель обеспечивает аккуратность модели в 0.7247, что НИЖЕ целевого значения в 0.75."
   ]
  },
  {
   "cell_type": "markdown",
   "metadata": {},
   "source": [
    "## Проверка модели на тестовой выборке"
   ]
  },
  {
   "cell_type": "markdown",
   "metadata": {},
   "source": [
    "Для текущего проекта примем допущение, что модель \"дерево решений\" дает наилучший результат:"
   ]
  },
  {
   "cell_type": "code",
   "execution_count": 105,
   "metadata": {},
   "outputs": [
    {
     "name": "stdout",
     "output_type": "stream",
     "text": [
      "Accuracy_score \"дерево решений\" для тестовой выборки: 0.7776\n"
     ]
    }
   ],
   "source": [
    "predictions_test = best_model_tree.predict(features_test)        # предсказание лучшей модели на тестовой выборке\n",
    "    \n",
    "result_tree_test = accuracy_score(predictions_test,target_test)  # качество модели на тестовой выборке\n",
    "\n",
    "print(f'Accuracy_score \"дерево решений\" для тестовой выборки: {round(result_tree_test,4)}')"
   ]
  },
  {
   "cell_type": "markdown",
   "metadata": {},
   "source": [
    "**Вывод**:\n",
    "\n",
    "Аккуратность модели на тестовой выборке снизилась, что ожидаемо для новых данных, в тоже время показатели выше целевого - 0.75."
   ]
  },
  {
   "attachments": {},
   "cell_type": "markdown",
   "metadata": {},
   "source": [
    "## Проверка модели на адекватность"
   ]
  },
  {
   "cell_type": "markdown",
   "metadata": {},
   "source": [
    "Проверим модель на базе DummyClassifier, который делает прогнозы, которые игнорируют входные функции."
   ]
  },
  {
   "cell_type": "code",
   "execution_count": 106,
   "metadata": {},
   "outputs": [],
   "source": [
    "#создадим модель, которая делает предсказания на основе часто встречаемой величины целевого параметра без учета входных\n",
    "\n",
    "model_dummy = DummyClassifier(random_state=321, strategy=\"most_frequent\") \n",
    "\n",
    "model_dummy.fit(predictions_test,target_test)\n",
    "                            \n",
    "predictions_model_dummy = model_dummy.predict(features_test)       # предсказание модели на базе DummyClassifier\n",
    "        \n",
    "result_model_dummy = accuracy_score(predictions_model_dummy,target_test)  # качество модели на валидационной выборке по accuracy_score"
   ]
  },
  {
   "cell_type": "code",
   "execution_count": 107,
   "metadata": {},
   "outputs": [
    {
     "name": "stdout",
     "output_type": "stream",
     "text": [
      "Accuracy_score для DummyClassifier по тестовой выборке: 0.703\n"
     ]
    }
   ],
   "source": [
    "print(f'Accuracy_score для DummyClassifier по тестовой выборке: {round(result_model_dummy,4)}')"
   ]
  },
  {
   "cell_type": "markdown",
   "metadata": {},
   "source": [
    "**Вывод**:\n",
    "\n",
    "Простая модель на тестовой выборке, которая делает предсказания на основе часто встречаемой величины целевого параметра без учета входных, дает \"точность\" прогноза   - 0.703. Выбранная модель \"дерево решений\" дает наилучший результат - 0.7776 на той же тестовой выборке, что говорит об адекватности выбранной модели."
   ]
  },
  {
   "cell_type": "markdown",
   "metadata": {},
   "source": [
    "## Вывод:"
   ]
  },
  {
   "cell_type": "markdown",
   "metadata": {},
   "source": [
    "По результатам выполнения проекта были реализованы следующие этапы:\n",
    "    \n",
    "1. Описание данных:\n",
    "    - 3214 строк, 5 столбцов;\n",
    "    - нет отсутствующих значений;\n",
    "    - не требуется изменение имен столбцов;\n",
    "    - не требуется изменение типа данных;\n",
    "    - дубликатов нет.\n",
    "    \n",
    "\n",
    "Выбросов по данным (сверхвысокие или отрицательные значения) для столбцов 'calls', 'minutes', 'messages', 'mb_used' не отмечено. Данные пригодны для машинного обучения и не требуют предобработки.\n",
    "Тарифы - категориальные переменные: `1 - ultra,` `0 - smart.`\n",
    "\n",
    "2. Весть датафрейм был разделен на 3 выборки:\n",
    "    - Обучающая (60% доля )\n",
    "    - Валидационная (20% доля)\n",
    "    - Тестовая (20% доля)\n",
    "    \n",
    "\n",
    "3. Для машинного обучения категориальных переменных было выбрано 3 подхода:\n",
    "- Дерево решений:\n",
    "    - обеспечивает аккуратность модели в 0.7900, что выше целевого значения в 0.75\n",
    "- Случайный лес:\n",
    "    - обеспечивает аккуратность модели в 0.8087, что выше целевого значения в 0.75\n",
    "- Логистическая регрессия:\n",
    "    - обеспечивает аккуратность модели в 0.7247, что НИЖЕ целевого значения в 0.75\n",
    "    \n",
    "4. Тестовый датафрейм был проверен по лучшей модели \"дерево решений\":\n",
    "    - Аккуратность модели на тестовой выборке снизилась - 0.7776, что ожидаемо для новых данных, в тоже время показатели выше целевого - 0.75\n",
    "    \n",
    "5. Проведена проверка на адекватность на базе DummyClassifier, который делает прогнозы, которые игнорируют входные функции.\n",
    "- Простая модель на тестовой выборке, которая делает предсказания на основе часто встречаемой величины целевого параметра без учета входных, дает \"точность\" прогноза - 0.703.\n",
    "- Выбранная модель \"дерево решений\" дает наилучший результат - 0.7776 на той же тестовой выборке, что говорит об адекватности выбранной модели."
   ]
  },
  {
   "cell_type": "markdown",
   "metadata": {},
   "source": [
    "## Чек-лист готовности проекта"
   ]
  },
  {
   "cell_type": "markdown",
   "metadata": {},
   "source": [
    "- [x] Jupyter Notebook открыт\n",
    "- [x] Весь код исполняется без ошибок\n",
    "- [x] Ячейки с кодом расположены в порядке исполнения\n",
    "- [x] Выполнено задание 1: данные загружены и изучены\n",
    "- [x] Выполнено задание 2: данные разбиты на три выборки\n",
    "- [x] Выполнено задание 3: проведено исследование моделей\n",
    "    - [x] Рассмотрено больше одной модели\n",
    "    - [x] Рассмотрено хотя бы 3 значения гипепараметров для какой-нибудь модели\n",
    "    - [x] Написаны выводы по результатам исследования\n",
    "- [x] Выполнено задание 4: Проведено тестирование\n",
    "- [x] Удалось достичь accuracy не меньше 0.75\n"
   ]
  }
 ],
 "metadata": {
  "ExecuteTimeLog": [
   {
    "duration": 2237,
    "start_time": "2022-03-14T12:55:02.567Z"
   },
   {
    "duration": 4,
    "start_time": "2022-03-14T12:55:30.327Z"
   },
   {
    "duration": 16,
    "start_time": "2022-03-14T12:58:08.602Z"
   },
   {
    "duration": 5,
    "start_time": "2022-03-14T12:58:41.910Z"
   },
   {
    "duration": 4,
    "start_time": "2022-03-14T12:59:43.256Z"
   },
   {
    "duration": 5,
    "start_time": "2022-03-14T13:00:34.041Z"
   },
   {
    "duration": 5,
    "start_time": "2022-03-14T13:10:15.640Z"
   },
   {
    "duration": 21,
    "start_time": "2022-03-14T13:11:18.793Z"
   },
   {
    "duration": 22,
    "start_time": "2022-03-14T13:11:26.858Z"
   },
   {
    "duration": 9,
    "start_time": "2022-03-14T13:11:40.168Z"
   },
   {
    "duration": 8,
    "start_time": "2022-03-14T13:14:38.074Z"
   },
   {
    "duration": 5,
    "start_time": "2022-03-14T13:14:41.948Z"
   },
   {
    "duration": 26,
    "start_time": "2022-03-14T13:14:41.955Z"
   },
   {
    "duration": 12,
    "start_time": "2022-03-14T13:14:41.984Z"
   },
   {
    "duration": 12,
    "start_time": "2022-03-14T13:14:41.998Z"
   },
   {
    "duration": 11,
    "start_time": "2022-03-14T13:14:42.012Z"
   },
   {
    "duration": 39,
    "start_time": "2022-03-14T13:16:52.336Z"
   },
   {
    "duration": 269,
    "start_time": "2022-03-14T13:17:13.836Z"
   },
   {
    "duration": 281,
    "start_time": "2022-03-14T13:17:36.761Z"
   },
   {
    "duration": 256,
    "start_time": "2022-03-14T13:17:49.513Z"
   },
   {
    "duration": 34,
    "start_time": "2022-03-14T13:18:19.208Z"
   },
   {
    "duration": 256,
    "start_time": "2022-03-14T13:18:27.874Z"
   },
   {
    "duration": 35,
    "start_time": "2022-03-14T13:18:33.880Z"
   },
   {
    "duration": 83,
    "start_time": "2022-03-14T13:20:16.184Z"
   },
   {
    "duration": 89,
    "start_time": "2022-03-14T13:30:51.317Z"
   },
   {
    "duration": 5,
    "start_time": "2022-03-14T13:36:08.365Z"
   },
   {
    "duration": 11,
    "start_time": "2022-03-14T13:36:22.971Z"
   },
   {
    "duration": 302,
    "start_time": "2022-03-14T13:46:41.486Z"
   },
   {
    "duration": 5,
    "start_time": "2022-03-14T13:46:45.036Z"
   },
   {
    "duration": 13,
    "start_time": "2022-03-14T13:46:45.486Z"
   },
   {
    "duration": 6,
    "start_time": "2022-03-14T13:46:46.076Z"
   },
   {
    "duration": 269,
    "start_time": "2022-03-14T13:46:48.525Z"
   },
   {
    "duration": 7,
    "start_time": "2022-03-14T13:51:38.046Z"
   },
   {
    "duration": 6,
    "start_time": "2022-03-14T13:52:30.780Z"
   },
   {
    "duration": 3,
    "start_time": "2022-03-14T13:53:15.101Z"
   },
   {
    "duration": 7,
    "start_time": "2022-03-14T13:53:28.349Z"
   },
   {
    "duration": 7,
    "start_time": "2022-03-14T13:53:28.961Z"
   },
   {
    "duration": 5,
    "start_time": "2022-03-14T13:53:29.500Z"
   },
   {
    "duration": 5,
    "start_time": "2022-03-14T13:53:51.304Z"
   },
   {
    "duration": 6,
    "start_time": "2022-03-14T13:54:55.069Z"
   },
   {
    "duration": 7,
    "start_time": "2022-03-14T13:55:37.839Z"
   },
   {
    "duration": 9,
    "start_time": "2022-03-14T13:57:15.613Z"
   },
   {
    "duration": 1504,
    "start_time": "2022-03-15T06:50:38.822Z"
   },
   {
    "duration": 18,
    "start_time": "2022-03-15T06:50:40.330Z"
   },
   {
    "duration": 31,
    "start_time": "2022-03-15T06:50:40.351Z"
   },
   {
    "duration": 9,
    "start_time": "2022-03-15T06:50:40.385Z"
   },
   {
    "duration": 9,
    "start_time": "2022-03-15T06:50:40.396Z"
   },
   {
    "duration": 90,
    "start_time": "2022-03-15T06:50:40.408Z"
   },
   {
    "duration": 8,
    "start_time": "2022-03-15T06:50:40.500Z"
   },
   {
    "duration": 8,
    "start_time": "2022-03-15T06:50:40.511Z"
   },
   {
    "duration": 9,
    "start_time": "2022-03-15T06:50:40.522Z"
   },
   {
    "duration": 49,
    "start_time": "2022-03-15T06:50:40.533Z"
   },
   {
    "duration": 575,
    "start_time": "2022-03-15T07:15:00.532Z"
   },
   {
    "duration": 282,
    "start_time": "2022-03-15T07:15:16.388Z"
   },
   {
    "duration": 736,
    "start_time": "2022-03-15T07:16:30.340Z"
   },
   {
    "duration": 80,
    "start_time": "2022-03-15T07:16:41.845Z"
   },
   {
    "duration": 82,
    "start_time": "2022-03-15T07:17:37.620Z"
   },
   {
    "duration": 76,
    "start_time": "2022-03-15T07:17:45.060Z"
   },
   {
    "duration": 79,
    "start_time": "2022-03-15T07:17:53.620Z"
   },
   {
    "duration": 291,
    "start_time": "2022-03-15T07:17:58.852Z"
   },
   {
    "duration": 77,
    "start_time": "2022-03-15T07:18:04.900Z"
   },
   {
    "duration": 350,
    "start_time": "2022-03-15T07:18:10.707Z"
   },
   {
    "duration": 77,
    "start_time": "2022-03-15T07:18:15.508Z"
   },
   {
    "duration": 97,
    "start_time": "2022-03-15T07:18:19.156Z"
   },
   {
    "duration": 94,
    "start_time": "2022-03-15T07:18:23.220Z"
   },
   {
    "duration": 77,
    "start_time": "2022-03-15T07:18:28.884Z"
   },
   {
    "duration": 150,
    "start_time": "2022-03-15T07:19:00.467Z"
   },
   {
    "duration": 8,
    "start_time": "2022-03-15T07:19:20.004Z"
   },
   {
    "duration": 103,
    "start_time": "2022-03-15T07:19:39.891Z"
   },
   {
    "duration": 950,
    "start_time": "2022-03-15T07:20:10.563Z"
   },
   {
    "duration": 76,
    "start_time": "2022-03-15T07:20:35.477Z"
   },
   {
    "duration": 8,
    "start_time": "2022-03-15T07:20:57.748Z"
   },
   {
    "duration": 77,
    "start_time": "2022-03-15T07:21:28.308Z"
   },
   {
    "duration": 685,
    "start_time": "2022-03-15T07:24:07.174Z"
   },
   {
    "duration": 354,
    "start_time": "2022-03-15T07:24:42.934Z"
   },
   {
    "duration": 264,
    "start_time": "2022-03-15T07:24:58.005Z"
   },
   {
    "duration": 585,
    "start_time": "2022-03-15T07:25:12.677Z"
   },
   {
    "duration": 269,
    "start_time": "2022-03-15T07:25:24.694Z"
   },
   {
    "duration": 1179,
    "start_time": "2022-03-15T07:26:41.637Z"
   },
   {
    "duration": 1176,
    "start_time": "2022-03-15T07:39:19.814Z"
   },
   {
    "duration": 4675,
    "start_time": "2022-03-15T07:39:51.237Z"
   },
   {
    "duration": 3123,
    "start_time": "2022-03-15T07:41:03.493Z"
   },
   {
    "duration": 3275,
    "start_time": "2022-03-15T07:41:41.669Z"
   },
   {
    "duration": 3409,
    "start_time": "2022-03-15T07:42:15.638Z"
   },
   {
    "duration": 3046,
    "start_time": "2022-03-15T07:42:25.270Z"
   },
   {
    "duration": 3249,
    "start_time": "2022-03-15T07:50:29.768Z"
   },
   {
    "duration": 4815,
    "start_time": "2022-03-15T07:50:46.119Z"
   },
   {
    "duration": 832,
    "start_time": "2022-03-15T07:51:21.271Z"
   },
   {
    "duration": 3130,
    "start_time": "2022-03-15T07:51:25.686Z"
   },
   {
    "duration": 3109,
    "start_time": "2022-03-15T07:53:25.274Z"
   },
   {
    "duration": 3070,
    "start_time": "2022-03-15T07:53:56.342Z"
   },
   {
    "duration": 3199,
    "start_time": "2022-03-15T07:57:01.704Z"
   },
   {
    "duration": 3201,
    "start_time": "2022-03-15T07:57:20.822Z"
   },
   {
    "duration": 936,
    "start_time": "2022-03-15T07:58:05.687Z"
   },
   {
    "duration": 5,
    "start_time": "2022-03-15T07:58:19.915Z"
   },
   {
    "duration": 23,
    "start_time": "2022-03-15T07:58:19.923Z"
   },
   {
    "duration": 12,
    "start_time": "2022-03-15T07:58:19.950Z"
   },
   {
    "duration": 13,
    "start_time": "2022-03-15T07:58:19.965Z"
   },
   {
    "duration": 9,
    "start_time": "2022-03-15T07:58:19.982Z"
   },
   {
    "duration": 42,
    "start_time": "2022-03-15T07:58:19.994Z"
   },
   {
    "duration": 49,
    "start_time": "2022-03-15T07:58:20.038Z"
   },
   {
    "duration": 10,
    "start_time": "2022-03-15T07:58:20.089Z"
   },
   {
    "duration": 6,
    "start_time": "2022-03-15T07:58:20.102Z"
   },
   {
    "duration": 12,
    "start_time": "2022-03-15T07:58:20.111Z"
   },
   {
    "duration": 839,
    "start_time": "2022-03-15T07:58:20.126Z"
   },
   {
    "duration": 3162,
    "start_time": "2022-03-15T07:58:20.968Z"
   },
   {
    "duration": 788,
    "start_time": "2022-03-15T07:59:29.895Z"
   },
   {
    "duration": 787,
    "start_time": "2022-03-15T07:59:55.927Z"
   },
   {
    "duration": 3174,
    "start_time": "2022-03-15T08:00:16.504Z"
   },
   {
    "duration": 2661,
    "start_time": "2022-03-15T08:00:37.511Z"
   },
   {
    "duration": 1782,
    "start_time": "2022-03-15T08:00:50.136Z"
   },
   {
    "duration": 742,
    "start_time": "2022-03-15T08:01:12.569Z"
   },
   {
    "duration": 179,
    "start_time": "2022-03-15T08:02:50.007Z"
   },
   {
    "duration": 737,
    "start_time": "2022-03-15T08:02:56.264Z"
   },
   {
    "duration": 743,
    "start_time": "2022-03-15T08:03:02.120Z"
   },
   {
    "duration": 92,
    "start_time": "2022-03-15T08:04:58.104Z"
   },
   {
    "duration": 97,
    "start_time": "2022-03-15T08:05:38.392Z"
   },
   {
    "duration": 1125,
    "start_time": "2022-03-15T14:27:54.770Z"
   },
   {
    "duration": 23,
    "start_time": "2022-03-15T14:27:55.897Z"
   },
   {
    "duration": 28,
    "start_time": "2022-03-15T14:27:55.922Z"
   },
   {
    "duration": 11,
    "start_time": "2022-03-15T14:27:55.952Z"
   },
   {
    "duration": 17,
    "start_time": "2022-03-15T14:27:55.964Z"
   },
   {
    "duration": 50,
    "start_time": "2022-03-15T14:27:55.983Z"
   },
   {
    "duration": 5,
    "start_time": "2022-03-15T14:27:56.035Z"
   },
   {
    "duration": 28,
    "start_time": "2022-03-15T14:27:56.041Z"
   },
   {
    "duration": 16,
    "start_time": "2022-03-15T14:27:56.072Z"
   },
   {
    "duration": 24,
    "start_time": "2022-03-15T14:27:56.090Z"
   },
   {
    "duration": 684,
    "start_time": "2022-03-15T14:27:56.116Z"
   },
   {
    "duration": 586,
    "start_time": "2022-03-15T14:27:56.802Z"
   },
   {
    "duration": 88,
    "start_time": "2022-03-15T14:42:50.828Z"
   },
   {
    "duration": 152,
    "start_time": "2022-03-15T14:42:58.749Z"
   },
   {
    "duration": 88,
    "start_time": "2022-03-15T14:43:13.867Z"
   },
   {
    "duration": 150,
    "start_time": "2022-03-15T14:43:20.302Z"
   },
   {
    "duration": 160,
    "start_time": "2022-03-15T14:43:42.365Z"
   },
   {
    "duration": 84,
    "start_time": "2022-03-15T14:43:55.152Z"
   },
   {
    "duration": 157,
    "start_time": "2022-03-15T14:44:01.421Z"
   },
   {
    "duration": 938,
    "start_time": "2022-03-15T14:47:28.189Z"
   },
   {
    "duration": 649,
    "start_time": "2022-03-15T14:47:54.125Z"
   },
   {
    "duration": 660,
    "start_time": "2022-03-15T14:48:46.188Z"
   },
   {
    "duration": 587,
    "start_time": "2022-03-15T14:51:21.133Z"
   },
   {
    "duration": 640,
    "start_time": "2022-03-15T14:52:11.406Z"
   },
   {
    "duration": 637,
    "start_time": "2022-03-15T14:52:38.792Z"
   },
   {
    "duration": 603,
    "start_time": "2022-03-15T14:53:05.820Z"
   },
   {
    "duration": 598,
    "start_time": "2022-03-15T14:53:16.765Z"
   },
   {
    "duration": 153,
    "start_time": "2022-03-15T14:54:15.167Z"
   },
   {
    "duration": 33,
    "start_time": "2022-03-15T14:54:24.476Z"
   },
   {
    "duration": 155,
    "start_time": "2022-03-15T14:54:33.438Z"
   },
   {
    "duration": 159,
    "start_time": "2022-03-15T14:54:58.460Z"
   },
   {
    "duration": 156,
    "start_time": "2022-03-15T14:56:47.181Z"
   },
   {
    "duration": 156,
    "start_time": "2022-03-15T14:58:17.389Z"
   },
   {
    "duration": 155,
    "start_time": "2022-03-15T14:58:45.853Z"
   },
   {
    "duration": 3,
    "start_time": "2022-03-15T14:59:02.677Z"
   },
   {
    "duration": 26,
    "start_time": "2022-03-15T14:59:02.683Z"
   },
   {
    "duration": 11,
    "start_time": "2022-03-15T14:59:02.711Z"
   },
   {
    "duration": 10,
    "start_time": "2022-03-15T14:59:02.724Z"
   },
   {
    "duration": 9,
    "start_time": "2022-03-15T14:59:02.736Z"
   },
   {
    "duration": 30,
    "start_time": "2022-03-15T14:59:02.748Z"
   },
   {
    "duration": 6,
    "start_time": "2022-03-15T14:59:02.779Z"
   },
   {
    "duration": 7,
    "start_time": "2022-03-15T14:59:02.787Z"
   },
   {
    "duration": 39,
    "start_time": "2022-03-15T14:59:02.797Z"
   },
   {
    "duration": 19,
    "start_time": "2022-03-15T14:59:02.838Z"
   },
   {
    "duration": 678,
    "start_time": "2022-03-15T14:59:02.859Z"
   },
   {
    "duration": 594,
    "start_time": "2022-03-15T14:59:03.538Z"
   },
   {
    "duration": 159,
    "start_time": "2022-03-15T14:59:04.134Z"
   },
   {
    "duration": 1288,
    "start_time": "2022-03-15T15:03:21.901Z"
   },
   {
    "duration": 94,
    "start_time": "2022-03-15T15:03:32.413Z"
   },
   {
    "duration": 170,
    "start_time": "2022-03-15T15:03:38.349Z"
   },
   {
    "duration": 185,
    "start_time": "2022-03-15T15:03:42.351Z"
   },
   {
    "duration": 153,
    "start_time": "2022-03-15T15:03:51.812Z"
   },
   {
    "duration": 654,
    "start_time": "2022-03-15T15:04:41.998Z"
   },
   {
    "duration": 678,
    "start_time": "2022-03-15T15:04:50.158Z"
   },
   {
    "duration": 604,
    "start_time": "2022-03-15T15:04:57.533Z"
   },
   {
    "duration": 155,
    "start_time": "2022-03-15T15:05:06.420Z"
   },
   {
    "duration": 641,
    "start_time": "2022-03-15T15:05:43.936Z"
   },
   {
    "duration": 639,
    "start_time": "2022-03-15T15:05:49.373Z"
   },
   {
    "duration": 640,
    "start_time": "2022-03-15T15:05:54.557Z"
   },
   {
    "duration": 658,
    "start_time": "2022-03-15T15:06:00.591Z"
   },
   {
    "duration": 5,
    "start_time": "2022-03-15T15:08:52.140Z"
   },
   {
    "duration": 7,
    "start_time": "2022-03-15T15:09:23.804Z"
   },
   {
    "duration": 94,
    "start_time": "2022-03-15T15:10:51.166Z"
   },
   {
    "duration": 6,
    "start_time": "2022-03-15T15:11:26.109Z"
   },
   {
    "duration": 3,
    "start_time": "2022-03-15T15:11:33.999Z"
   },
   {
    "duration": 5,
    "start_time": "2022-03-15T15:15:51.772Z"
   },
   {
    "duration": 211,
    "start_time": "2022-03-16T07:54:48.068Z"
   },
   {
    "duration": 1598,
    "start_time": "2022-03-16T07:54:52.011Z"
   },
   {
    "duration": 20,
    "start_time": "2022-03-16T07:54:53.612Z"
   },
   {
    "duration": 39,
    "start_time": "2022-03-16T07:54:53.636Z"
   },
   {
    "duration": 12,
    "start_time": "2022-03-16T07:54:53.678Z"
   },
   {
    "duration": 10,
    "start_time": "2022-03-16T07:54:53.693Z"
   },
   {
    "duration": 78,
    "start_time": "2022-03-16T07:54:53.706Z"
   },
   {
    "duration": 8,
    "start_time": "2022-03-16T07:54:53.786Z"
   },
   {
    "duration": 7,
    "start_time": "2022-03-16T07:54:53.797Z"
   },
   {
    "duration": 6,
    "start_time": "2022-03-16T07:54:53.850Z"
   },
   {
    "duration": 9,
    "start_time": "2022-03-16T07:54:53.858Z"
   },
   {
    "duration": 858,
    "start_time": "2022-03-16T07:54:53.869Z"
   },
   {
    "duration": 849,
    "start_time": "2022-03-16T07:54:54.729Z"
   },
   {
    "duration": 227,
    "start_time": "2022-03-16T07:54:55.580Z"
   },
   {
    "duration": 6,
    "start_time": "2022-03-16T07:54:55.810Z"
   },
   {
    "duration": 8,
    "start_time": "2022-03-16T07:55:31.715Z"
   },
   {
    "duration": 827,
    "start_time": "2022-03-16T07:55:52.535Z"
   },
   {
    "duration": 63,
    "start_time": "2022-03-16T11:20:20.392Z"
   },
   {
    "duration": 233,
    "start_time": "2022-03-16T11:39:51.193Z"
   },
   {
    "duration": 1400,
    "start_time": "2022-03-16T11:39:59.430Z"
   },
   {
    "duration": 20,
    "start_time": "2022-03-16T11:40:00.833Z"
   },
   {
    "duration": 26,
    "start_time": "2022-03-16T11:40:00.855Z"
   },
   {
    "duration": 20,
    "start_time": "2022-03-16T11:40:00.884Z"
   },
   {
    "duration": 25,
    "start_time": "2022-03-16T11:40:00.907Z"
   },
   {
    "duration": 41,
    "start_time": "2022-03-16T11:40:00.934Z"
   },
   {
    "duration": 8,
    "start_time": "2022-03-16T11:40:00.977Z"
   },
   {
    "duration": 17,
    "start_time": "2022-03-16T11:40:00.987Z"
   },
   {
    "duration": 37,
    "start_time": "2022-03-16T11:40:01.007Z"
   },
   {
    "duration": 22,
    "start_time": "2022-03-16T11:40:01.047Z"
   },
   {
    "duration": 671,
    "start_time": "2022-03-16T11:40:01.071Z"
   },
   {
    "duration": 601,
    "start_time": "2022-03-16T11:40:01.744Z"
   },
   {
    "duration": 148,
    "start_time": "2022-03-16T11:40:02.347Z"
   },
   {
    "duration": 5,
    "start_time": "2022-03-16T11:40:02.497Z"
   },
   {
    "duration": 34,
    "start_time": "2022-03-16T11:40:02.504Z"
   },
   {
    "duration": 4,
    "start_time": "2022-03-16T11:41:12.008Z"
   },
   {
    "duration": 3,
    "start_time": "2022-03-16T11:41:12.695Z"
   },
   {
    "duration": 7,
    "start_time": "2022-03-16T11:55:01.145Z"
   },
   {
    "duration": 4,
    "start_time": "2022-03-16T11:55:02.020Z"
   },
   {
    "duration": 3,
    "start_time": "2022-03-16T11:55:02.889Z"
   },
   {
    "duration": 5,
    "start_time": "2022-03-16T11:59:56.199Z"
   },
   {
    "duration": 4,
    "start_time": "2022-03-16T11:59:56.663Z"
   },
   {
    "duration": 4,
    "start_time": "2022-03-16T12:04:41.597Z"
   },
   {
    "duration": 37,
    "start_time": "2022-03-16T12:04:41.603Z"
   },
   {
    "duration": 15,
    "start_time": "2022-03-16T12:04:41.643Z"
   },
   {
    "duration": 17,
    "start_time": "2022-03-16T12:04:41.660Z"
   },
   {
    "duration": 19,
    "start_time": "2022-03-16T12:04:41.678Z"
   },
   {
    "duration": 38,
    "start_time": "2022-03-16T12:04:41.699Z"
   },
   {
    "duration": 12,
    "start_time": "2022-03-16T12:04:41.738Z"
   },
   {
    "duration": 13,
    "start_time": "2022-03-16T12:04:41.752Z"
   },
   {
    "duration": 19,
    "start_time": "2022-03-16T12:04:41.767Z"
   },
   {
    "duration": 19,
    "start_time": "2022-03-16T12:04:41.788Z"
   },
   {
    "duration": 602,
    "start_time": "2022-03-16T12:04:41.809Z"
   },
   {
    "duration": 541,
    "start_time": "2022-03-16T12:04:42.412Z"
   },
   {
    "duration": 141,
    "start_time": "2022-03-16T12:04:42.954Z"
   },
   {
    "duration": 5,
    "start_time": "2022-03-16T12:04:43.097Z"
   },
   {
    "duration": 14,
    "start_time": "2022-03-16T12:04:43.104Z"
   },
   {
    "duration": 34,
    "start_time": "2022-03-16T12:04:43.120Z"
   },
   {
    "duration": 1174,
    "start_time": "2022-03-17T08:10:58.461Z"
   },
   {
    "duration": 13,
    "start_time": "2022-03-17T08:10:59.637Z"
   },
   {
    "duration": 15,
    "start_time": "2022-03-17T08:10:59.652Z"
   },
   {
    "duration": 12,
    "start_time": "2022-03-17T08:10:59.670Z"
   },
   {
    "duration": 6,
    "start_time": "2022-03-17T08:10:59.683Z"
   },
   {
    "duration": 57,
    "start_time": "2022-03-17T08:10:59.691Z"
   },
   {
    "duration": 5,
    "start_time": "2022-03-17T08:10:59.749Z"
   },
   {
    "duration": 11,
    "start_time": "2022-03-17T08:10:59.755Z"
   },
   {
    "duration": 10,
    "start_time": "2022-03-17T08:10:59.767Z"
   },
   {
    "duration": 13,
    "start_time": "2022-03-17T08:10:59.779Z"
   },
   {
    "duration": 754,
    "start_time": "2022-03-17T08:10:59.794Z"
   },
   {
    "duration": 592,
    "start_time": "2022-03-17T08:11:00.550Z"
   },
   {
    "duration": 172,
    "start_time": "2022-03-17T08:11:01.144Z"
   },
   {
    "duration": 7,
    "start_time": "2022-03-17T08:11:01.318Z"
   },
   {
    "duration": 6,
    "start_time": "2022-03-17T08:11:01.338Z"
   },
   {
    "duration": 35,
    "start_time": "2022-03-17T08:11:01.346Z"
   },
   {
    "duration": 1743,
    "start_time": "2022-03-18T07:08:45.695Z"
   },
   {
    "duration": 25,
    "start_time": "2022-03-18T07:08:47.442Z"
   },
   {
    "duration": 34,
    "start_time": "2022-03-18T07:08:47.469Z"
   },
   {
    "duration": 44,
    "start_time": "2022-03-18T07:08:47.507Z"
   },
   {
    "duration": 22,
    "start_time": "2022-03-18T07:08:47.554Z"
   },
   {
    "duration": 51,
    "start_time": "2022-03-18T07:08:47.578Z"
   },
   {
    "duration": 8,
    "start_time": "2022-03-18T07:08:47.632Z"
   },
   {
    "duration": 42,
    "start_time": "2022-03-18T07:08:47.642Z"
   },
   {
    "duration": 20,
    "start_time": "2022-03-18T07:08:47.686Z"
   },
   {
    "duration": 28,
    "start_time": "2022-03-18T07:08:47.708Z"
   },
   {
    "duration": 1075,
    "start_time": "2022-03-18T07:08:47.738Z"
   },
   {
    "duration": 935,
    "start_time": "2022-03-18T07:08:48.816Z"
   },
   {
    "duration": 243,
    "start_time": "2022-03-18T07:08:49.754Z"
   },
   {
    "duration": 9,
    "start_time": "2022-03-18T07:08:50.001Z"
   },
   {
    "duration": 17,
    "start_time": "2022-03-18T07:08:50.012Z"
   },
   {
    "duration": 37,
    "start_time": "2022-03-18T07:08:50.031Z"
   },
   {
    "duration": 4447,
    "start_time": "2022-03-18T07:09:50.680Z"
   },
   {
    "duration": 1065,
    "start_time": "2022-03-18T07:10:09.129Z"
   },
   {
    "duration": 255,
    "start_time": "2022-03-18T07:16:28.653Z"
   },
   {
    "duration": 683,
    "start_time": "2022-03-18T07:16:37.695Z"
   },
   {
    "duration": 33,
    "start_time": "2022-03-18T07:17:31.871Z"
   },
   {
    "duration": 16,
    "start_time": "2022-03-18T07:18:11.790Z"
   },
   {
    "duration": 148,
    "start_time": "2022-03-18T07:18:29.152Z"
   },
   {
    "duration": 1903,
    "start_time": "2022-03-18T07:18:58.753Z"
   },
   {
    "duration": 432,
    "start_time": "2022-03-18T07:19:29.224Z"
   },
   {
    "duration": 483,
    "start_time": "2022-03-18T07:20:17.264Z"
   },
   {
    "duration": 1793,
    "start_time": "2022-03-18T07:20:28.676Z"
   },
   {
    "duration": 462,
    "start_time": "2022-03-18T07:20:39.502Z"
   },
   {
    "duration": 438,
    "start_time": "2022-03-18T07:20:52.244Z"
   },
   {
    "duration": 1822,
    "start_time": "2022-03-18T07:20:57.010Z"
   },
   {
    "duration": 2137,
    "start_time": "2022-03-18T07:21:06.878Z"
   },
   {
    "duration": 145,
    "start_time": "2022-03-18T07:24:38.255Z"
   },
   {
    "duration": 17,
    "start_time": "2022-03-18T07:27:49.840Z"
   },
   {
    "duration": 12,
    "start_time": "2022-03-18T07:27:53.777Z"
   },
   {
    "duration": 13,
    "start_time": "2022-03-18T07:28:02.048Z"
   },
   {
    "duration": 1545,
    "start_time": "2022-03-18T07:28:08.033Z"
   },
   {
    "duration": 1759,
    "start_time": "2022-03-18T07:28:14.543Z"
   },
   {
    "duration": 148,
    "start_time": "2022-03-18T07:28:29.153Z"
   },
   {
    "duration": 11732,
    "start_time": "2022-03-18T07:30:06.728Z"
   },
   {
    "duration": 27963,
    "start_time": "2022-03-18T07:33:18.657Z"
   },
   {
    "duration": 23002,
    "start_time": "2022-03-18T07:34:15.526Z"
   },
   {
    "duration": 6,
    "start_time": "2022-03-18T07:38:24.016Z"
   },
   {
    "duration": 40,
    "start_time": "2022-03-18T07:38:24.026Z"
   },
   {
    "duration": 15,
    "start_time": "2022-03-18T07:38:24.069Z"
   },
   {
    "duration": 20,
    "start_time": "2022-03-18T07:38:24.087Z"
   },
   {
    "duration": 21,
    "start_time": "2022-03-18T07:38:24.110Z"
   },
   {
    "duration": 76,
    "start_time": "2022-03-18T07:38:24.134Z"
   },
   {
    "duration": 1733,
    "start_time": "2022-03-18T07:38:24.213Z"
   },
   {
    "duration": 8,
    "start_time": "2022-03-18T07:38:25.949Z"
   },
   {
    "duration": 29,
    "start_time": "2022-03-18T07:38:25.960Z"
   },
   {
    "duration": 7,
    "start_time": "2022-03-18T07:38:25.994Z"
   },
   {
    "duration": 18,
    "start_time": "2022-03-18T07:38:26.004Z"
   },
   {
    "duration": 12001,
    "start_time": "2022-03-18T07:38:26.025Z"
   },
   {
    "duration": 23713,
    "start_time": "2022-03-18T07:38:38.030Z"
   },
   {
    "duration": 270,
    "start_time": "2022-03-18T07:39:01.746Z"
   },
   {
    "duration": 11,
    "start_time": "2022-03-18T07:39:02.019Z"
   },
   {
    "duration": 20,
    "start_time": "2022-03-18T07:39:02.033Z"
   },
   {
    "duration": 27,
    "start_time": "2022-03-18T07:39:02.056Z"
   },
   {
    "duration": 6,
    "start_time": "2022-03-18T07:39:33.601Z"
   },
   {
    "duration": 48,
    "start_time": "2022-03-18T07:39:33.609Z"
   },
   {
    "duration": 15,
    "start_time": "2022-03-18T07:39:33.660Z"
   },
   {
    "duration": 45,
    "start_time": "2022-03-18T07:39:33.678Z"
   },
   {
    "duration": 38,
    "start_time": "2022-03-18T07:39:33.728Z"
   },
   {
    "duration": 78,
    "start_time": "2022-03-18T07:39:33.772Z"
   },
   {
    "duration": 2556,
    "start_time": "2022-03-18T07:39:33.853Z"
   },
   {
    "duration": 9,
    "start_time": "2022-03-18T07:39:36.412Z"
   },
   {
    "duration": 13,
    "start_time": "2022-03-18T07:39:36.424Z"
   },
   {
    "duration": 20,
    "start_time": "2022-03-18T07:39:36.440Z"
   },
   {
    "duration": 17,
    "start_time": "2022-03-18T07:39:36.481Z"
   },
   {
    "duration": 8523,
    "start_time": "2022-03-18T07:39:36.501Z"
   },
   {
    "duration": 116687,
    "start_time": "2022-03-18T07:39:45.027Z"
   },
   {
    "duration": 279,
    "start_time": "2022-03-18T07:41:41.719Z"
   },
   {
    "duration": 12,
    "start_time": "2022-03-18T07:41:42.001Z"
   },
   {
    "duration": 8,
    "start_time": "2022-03-18T07:41:42.017Z"
   },
   {
    "duration": 12,
    "start_time": "2022-03-18T07:41:42.028Z"
   },
   {
    "duration": 137940,
    "start_time": "2022-03-18T07:44:21.135Z"
   },
   {
    "duration": 1211,
    "start_time": "2022-03-18T07:46:51.125Z"
   },
   {
    "duration": 3443,
    "start_time": "2022-03-18T07:47:02.739Z"
   },
   {
    "duration": 6776,
    "start_time": "2022-03-18T07:47:19.506Z"
   },
   {
    "duration": 6612,
    "start_time": "2022-03-18T07:47:47.107Z"
   },
   {
    "duration": 476,
    "start_time": "2022-03-18T07:48:02.410Z"
   },
   {
    "duration": 499,
    "start_time": "2022-03-18T07:48:19.763Z"
   },
   {
    "duration": 451,
    "start_time": "2022-03-18T07:48:28.727Z"
   },
   {
    "duration": 1958,
    "start_time": "2022-03-18T07:48:39.810Z"
   },
   {
    "duration": 2368,
    "start_time": "2022-03-18T07:49:31.060Z"
   },
   {
    "duration": 188,
    "start_time": "2022-03-18T07:50:19.635Z"
   },
   {
    "duration": 22,
    "start_time": "2022-03-18T07:50:30.228Z"
   },
   {
    "duration": 2622,
    "start_time": "2022-03-18T07:50:44.387Z"
   },
   {
    "duration": 1716,
    "start_time": "2022-03-18T07:50:54.708Z"
   },
   {
    "duration": 7,
    "start_time": "2022-03-18T07:51:54.172Z"
   },
   {
    "duration": 26,
    "start_time": "2022-03-18T07:51:54.183Z"
   },
   {
    "duration": 15,
    "start_time": "2022-03-18T07:51:54.211Z"
   },
   {
    "duration": 21,
    "start_time": "2022-03-18T07:51:54.228Z"
   },
   {
    "duration": 40,
    "start_time": "2022-03-18T07:51:54.252Z"
   },
   {
    "duration": 92,
    "start_time": "2022-03-18T07:51:54.296Z"
   },
   {
    "duration": 2578,
    "start_time": "2022-03-18T07:51:54.391Z"
   },
   {
    "duration": 15,
    "start_time": "2022-03-18T07:51:56.971Z"
   },
   {
    "duration": 8,
    "start_time": "2022-03-18T07:51:56.989Z"
   },
   {
    "duration": 9,
    "start_time": "2022-03-18T07:51:57.000Z"
   },
   {
    "duration": 11,
    "start_time": "2022-03-18T07:51:57.012Z"
   },
   {
    "duration": 12206,
    "start_time": "2022-03-18T07:51:57.026Z"
   },
   {
    "duration": 142829,
    "start_time": "2022-03-18T07:52:09.236Z"
   },
   {
    "duration": 2357,
    "start_time": "2022-03-18T07:54:32.082Z"
   },
   {
    "duration": 11,
    "start_time": "2022-03-18T07:54:34.442Z"
   },
   {
    "duration": 30,
    "start_time": "2022-03-18T07:54:34.456Z"
   },
   {
    "duration": 12,
    "start_time": "2022-03-18T07:54:34.489Z"
   }
  ],
  "kernelspec": {
   "display_name": "Python 3",
   "language": "python",
   "name": "python3"
  },
  "language_info": {
   "codemirror_mode": {
    "name": "ipython",
    "version": 3
   },
   "file_extension": ".py",
   "mimetype": "text/x-python",
   "name": "python",
   "nbconvert_exporter": "python",
   "pygments_lexer": "ipython3",
   "version": "3.10.7 (tags/v3.10.7:6cc6b13, Sep  5 2022, 14:08:36) [MSC v.1933 64 bit (AMD64)]"
  },
  "toc": {
   "base_numbering": 1,
   "nav_menu": {
    "height": "253.984px",
    "width": "230px"
   },
   "number_sections": true,
   "sideBar": true,
   "skip_h1_title": true,
   "title_cell": "Table of Contents",
   "title_sidebar": "Contents",
   "toc_cell": true,
   "toc_position": {},
   "toc_section_display": true,
   "toc_window_display": true
  },
  "vscode": {
   "interpreter": {
    "hash": "55897f39ac7fcb5d9dfece991134c735844144358f4a79aa62d757304fbf59da"
   }
  }
 },
 "nbformat": 4,
 "nbformat_minor": 2
}
