{
 "cells": [
  {
   "cell_type": "markdown",
   "metadata": {
    "id": "E0vqbgi9ay0H"
   },
   "source": [
    "# Яндекс.Музыка"
   ]
  },
  {
   "cell_type": "markdown",
   "metadata": {
    "id": "VUC88oWjTJw2"
   },
   "source": [
    "Сравнение Москвы и Петербурга окружено мифами. Например:\n",
    " * Москва — мегаполис, подчинённый жёсткому ритму рабочей недели;\n",
    " * Петербург — культурная столица, со своими вкусами.\n",
    "\n",
    "На данных Яндекс.Музыки вы сравните поведение пользователей двух столиц.\n",
    "\n",
    "**Цель исследования** — проверьте три гипотезы:\n",
    "1. Активность пользователей зависит от дня недели. Причём в Москве и Петербурге это проявляется по-разному.\n",
    "2. В понедельник утром в Москве преобладают одни жанры, а в Петербурге — другие. Так же и вечером пятницы преобладают разные жанры — в зависимости от города. \n",
    "3. Москва и Петербург предпочитают разные жанры музыки. В Москве чаще слушают поп-музыку, в Петербурге — русский рэп.\n",
    "\n",
    "**Ход исследования**\n",
    "\n",
    "Данные о поведении пользователей вы получите из файла `yandex_music_project.csv`. О качестве данных ничего не известно. Поэтому перед проверкой гипотез понадобится обзор данных. \n",
    "\n",
    "Вы проверите данные на ошибки и оцените их влияние на исследование. Затем, на этапе предобработки вы поищете возможность исправить самые критичные ошибки данных.\n",
    " \n",
    "Таким образом, исследование пройдёт в три этапа:\n",
    " 1. Обзор данных.\n",
    " 2. Предобработка данных.\n",
    " 3. Проверка гипотез.\n",
    "\n"
   ]
  },
  {
   "cell_type": "markdown",
   "metadata": {
    "id": "Ml1hmfXC_Zcs"
   },
   "source": [
    "## Обзор данных\n",
    "\n",
    "Составьте первое представление о данных Яндекс.Музыки.\n",
    "\n",
    "\n"
   ]
  },
  {
   "cell_type": "markdown",
   "metadata": {
    "id": "57eAOGIz_Zcs"
   },
   "source": [
    "Основной инструмент аналитика — `pandas`. Импортируйте эту библиотеку."
   ]
  },
  {
   "cell_type": "code",
   "execution_count": 36,
   "metadata": {
    "id": "AXN7PHPN_Zcs"
   },
   "outputs": [],
   "source": [
    "import pandas as pd # импорт библиотеки pandas"
   ]
  },
  {
   "cell_type": "markdown",
   "metadata": {
    "id": "SG23P8tt_Zcs"
   },
   "source": [
    "Прочитайте файл `yandex_music_project.csv` из папки `/datasets` и сохраните его в переменной `df`:"
   ]
  },
  {
   "cell_type": "code",
   "execution_count": 37,
   "metadata": {
    "id": "fFVu7vqh_Zct"
   },
   "outputs": [],
   "source": [
    "df = pd.read_csv('/datasets/yandex_music_project.csv') # чтение файла с данными и сохранение в df"
   ]
  },
  {
   "cell_type": "markdown",
   "metadata": {
    "id": "rDoOMd3uTqnZ"
   },
   "source": [
    "Выведите на экран первые десять строк таблицы:"
   ]
  },
  {
   "cell_type": "code",
   "execution_count": 38,
   "metadata": {
    "id": "oWTVX3gW_Zct"
   },
   "outputs": [
    {
     "data": {
      "text/html": [
       "<div>\n",
       "<style scoped>\n",
       "    .dataframe tbody tr th:only-of-type {\n",
       "        vertical-align: middle;\n",
       "    }\n",
       "\n",
       "    .dataframe tbody tr th {\n",
       "        vertical-align: top;\n",
       "    }\n",
       "\n",
       "    .dataframe thead th {\n",
       "        text-align: right;\n",
       "    }\n",
       "</style>\n",
       "<table border=\"1\" class=\"dataframe\">\n",
       "  <thead>\n",
       "    <tr style=\"text-align: right;\">\n",
       "      <th></th>\n",
       "      <th>userID</th>\n",
       "      <th>Track</th>\n",
       "      <th>artist</th>\n",
       "      <th>genre</th>\n",
       "      <th>City</th>\n",
       "      <th>time</th>\n",
       "      <th>Day</th>\n",
       "    </tr>\n",
       "  </thead>\n",
       "  <tbody>\n",
       "    <tr>\n",
       "      <td>0</td>\n",
       "      <td>FFB692EC</td>\n",
       "      <td>Kamigata To Boots</td>\n",
       "      <td>The Mass Missile</td>\n",
       "      <td>rock</td>\n",
       "      <td>Saint-Petersburg</td>\n",
       "      <td>20:28:33</td>\n",
       "      <td>Wednesday</td>\n",
       "    </tr>\n",
       "    <tr>\n",
       "      <td>1</td>\n",
       "      <td>55204538</td>\n",
       "      <td>Delayed Because of Accident</td>\n",
       "      <td>Andreas Rönnberg</td>\n",
       "      <td>rock</td>\n",
       "      <td>Moscow</td>\n",
       "      <td>14:07:09</td>\n",
       "      <td>Friday</td>\n",
       "    </tr>\n",
       "    <tr>\n",
       "      <td>2</td>\n",
       "      <td>20EC38</td>\n",
       "      <td>Funiculì funiculà</td>\n",
       "      <td>Mario Lanza</td>\n",
       "      <td>pop</td>\n",
       "      <td>Saint-Petersburg</td>\n",
       "      <td>20:58:07</td>\n",
       "      <td>Wednesday</td>\n",
       "    </tr>\n",
       "    <tr>\n",
       "      <td>3</td>\n",
       "      <td>A3DD03C9</td>\n",
       "      <td>Dragons in the Sunset</td>\n",
       "      <td>Fire + Ice</td>\n",
       "      <td>folk</td>\n",
       "      <td>Saint-Petersburg</td>\n",
       "      <td>08:37:09</td>\n",
       "      <td>Monday</td>\n",
       "    </tr>\n",
       "    <tr>\n",
       "      <td>4</td>\n",
       "      <td>E2DC1FAE</td>\n",
       "      <td>Soul People</td>\n",
       "      <td>Space Echo</td>\n",
       "      <td>dance</td>\n",
       "      <td>Moscow</td>\n",
       "      <td>08:34:34</td>\n",
       "      <td>Monday</td>\n",
       "    </tr>\n",
       "    <tr>\n",
       "      <td>5</td>\n",
       "      <td>842029A1</td>\n",
       "      <td>Преданная</td>\n",
       "      <td>IMPERVTOR</td>\n",
       "      <td>rusrap</td>\n",
       "      <td>Saint-Petersburg</td>\n",
       "      <td>13:09:41</td>\n",
       "      <td>Friday</td>\n",
       "    </tr>\n",
       "    <tr>\n",
       "      <td>6</td>\n",
       "      <td>4CB90AA5</td>\n",
       "      <td>True</td>\n",
       "      <td>Roman Messer</td>\n",
       "      <td>dance</td>\n",
       "      <td>Moscow</td>\n",
       "      <td>13:00:07</td>\n",
       "      <td>Wednesday</td>\n",
       "    </tr>\n",
       "    <tr>\n",
       "      <td>7</td>\n",
       "      <td>F03E1C1F</td>\n",
       "      <td>Feeling This Way</td>\n",
       "      <td>Polina Griffith</td>\n",
       "      <td>dance</td>\n",
       "      <td>Moscow</td>\n",
       "      <td>20:47:49</td>\n",
       "      <td>Wednesday</td>\n",
       "    </tr>\n",
       "    <tr>\n",
       "      <td>8</td>\n",
       "      <td>8FA1D3BE</td>\n",
       "      <td>И вновь продолжается бой</td>\n",
       "      <td>NaN</td>\n",
       "      <td>ruspop</td>\n",
       "      <td>Moscow</td>\n",
       "      <td>09:17:40</td>\n",
       "      <td>Friday</td>\n",
       "    </tr>\n",
       "    <tr>\n",
       "      <td>9</td>\n",
       "      <td>E772D5C0</td>\n",
       "      <td>Pessimist</td>\n",
       "      <td>NaN</td>\n",
       "      <td>dance</td>\n",
       "      <td>Saint-Petersburg</td>\n",
       "      <td>21:20:49</td>\n",
       "      <td>Wednesday</td>\n",
       "    </tr>\n",
       "  </tbody>\n",
       "</table>\n",
       "</div>"
      ],
      "text/plain": [
       "     userID                        Track            artist   genre  \\\n",
       "0  FFB692EC            Kamigata To Boots  The Mass Missile    rock   \n",
       "1  55204538  Delayed Because of Accident  Andreas Rönnberg    rock   \n",
       "2    20EC38            Funiculì funiculà       Mario Lanza     pop   \n",
       "3  A3DD03C9        Dragons in the Sunset        Fire + Ice    folk   \n",
       "4  E2DC1FAE                  Soul People        Space Echo   dance   \n",
       "5  842029A1                    Преданная         IMPERVTOR  rusrap   \n",
       "6  4CB90AA5                         True      Roman Messer   dance   \n",
       "7  F03E1C1F             Feeling This Way   Polina Griffith   dance   \n",
       "8  8FA1D3BE     И вновь продолжается бой               NaN  ruspop   \n",
       "9  E772D5C0                    Pessimist               NaN   dance   \n",
       "\n",
       "             City        time        Day  \n",
       "0  Saint-Petersburg  20:28:33  Wednesday  \n",
       "1            Moscow  14:07:09     Friday  \n",
       "2  Saint-Petersburg  20:58:07  Wednesday  \n",
       "3  Saint-Petersburg  08:37:09     Monday  \n",
       "4            Moscow  08:34:34     Monday  \n",
       "5  Saint-Petersburg  13:09:41     Friday  \n",
       "6            Moscow  13:00:07  Wednesday  \n",
       "7            Moscow  20:47:49  Wednesday  \n",
       "8            Moscow  09:17:40     Friday  \n",
       "9  Saint-Petersburg  21:20:49  Wednesday  "
      ]
     },
     "metadata": {},
     "output_type": "display_data"
    }
   ],
   "source": [
    "display(df.head(10))# получение первых 10 строк таблицы df"
   ]
  },
  {
   "cell_type": "markdown",
   "metadata": {},
   "source": [
    "`display()` лучше подходит для отображения табличных данных"
   ]
  },
  {
   "cell_type": "markdown",
   "metadata": {
    "id": "EO73Kwic_Zct"
   },
   "source": [
    "Одной командой получить общую информацию о таблице:"
   ]
  },
  {
   "cell_type": "code",
   "execution_count": 44,
   "metadata": {
    "id": "DSf2kIb-_Zct"
   },
   "outputs": [
    {
     "name": "stdout",
     "output_type": "stream",
     "text": [
      "<class 'pandas.core.frame.DataFrame'>\n",
      "RangeIndex: 65079 entries, 0 to 65078\n",
      "Data columns (total 7 columns):\n",
      "  userID    65079 non-null object\n",
      "Track       63848 non-null object\n",
      "artist      57876 non-null object\n",
      "genre       63881 non-null object\n",
      "  City      65079 non-null object\n",
      "time        65079 non-null object\n",
      "Day         65079 non-null object\n",
      "dtypes: object(7)\n",
      "memory usage: 3.5+ MB\n",
      "None\n"
     ]
    }
   ],
   "source": [
    "print(df.info())# получение общей информации о данных в таблице df"
   ]
  },
  {
   "cell_type": "markdown",
   "metadata": {
    "id": "TaQ2Iwbr_Zct"
   },
   "source": [
    "Итак, в таблице семь столбцов. Тип данных во всех столбцах — `object`.\n",
    "\n",
    "Согласно документации к данным:\n",
    "* `userID` — идентификатор пользователя;\n",
    "* `Track` — название трека;  \n",
    "* `artist` — имя исполнителя;\n",
    "* `genre` — название жанра;\n",
    "* `City` — город пользователя;\n",
    "* `time` — время начала прослушивания;\n",
    "* `Day` — день недели.\n",
    "\n",
    "В названиях колонок видны три нарушения стиля:\n",
    "1. Строчные буквы сочетаются с прописными (`\" userID\"`, `\"Track\"`,`\" City \"`, `\"Day\"`).\n",
    "2. Встречаются пробелы (`\" userID\"`, `\" City'`).\n",
    "3. Слитное написание наименования (\"` userID`\")\n",
    "\n",
    "\n",
    "\n",
    "Количество значений в столбцах различается. Значит, в данных есть пропущенные значения.\n"
   ]
  },
  {
   "cell_type": "markdown",
   "metadata": {
    "id": "MCB6-dXG_Zct"
   },
   "source": [
    "**Выводы**\n",
    "\n",
    "В каждой строке таблицы — данные о прослушанном треке. Часть колонок описывает саму композицию: название, исполнителя и жанр. Остальные данные рассказывают о пользователе: из какого он города, когда он слушал музыку. \n",
    "\n",
    "Предварительно можно утверждать, что, данных достаточно для проверки гипотез. Но встречаются пропуски в данных, а в названиях колонок — расхождения с хорошим стилем.\n",
    "\n",
    "Чтобы двигаться дальше, нужно устранить проблемы в данных."
   ]
  },
  {
   "cell_type": "markdown",
   "metadata": {
    "id": "SjYF6Ub9_Zct"
   },
   "source": [
    "## Предобработка данных\n",
    "Исправьте стиль в заголовках столбцов, исключите пропуски. Затем проверьте данные на дубликаты."
   ]
  },
  {
   "cell_type": "markdown",
   "metadata": {
    "id": "dIaKXr29_Zct"
   },
   "source": [
    "### Стиль заголовков\n",
    "Выведите на экран названия столбцов:"
   ]
  },
  {
   "cell_type": "code",
   "execution_count": 45,
   "metadata": {
    "id": "oKOTdF_Q_Zct"
   },
   "outputs": [
    {
     "data": {
      "text/plain": [
       "Index(['  userID', 'Track', 'artist', 'genre', '  City  ', 'time', 'Day'], dtype='object')"
      ]
     },
     "execution_count": 45,
     "metadata": {},
     "output_type": "execute_result"
    }
   ],
   "source": [
    "df.columns # перечень названий столбцов таблицы df"
   ]
  },
  {
   "cell_type": "markdown",
   "metadata": {
    "id": "zj5534cv_Zct"
   },
   "source": [
    "Приведите названия в соответствие с хорошим стилем:\n",
    "* несколько слов в названии запишите в «змеином_регистре»,\n",
    "* все символы сделайте строчными,\n",
    "* устраните пробелы.\n",
    "\n",
    "Для этого переименуйте колонки так:\n",
    "* `'  userID'` → `'user_id'`;\n",
    "* `'Track'` → `'track'`;\n",
    "* `'  City  '` → `'city'`;\n",
    "* `'Day'` → `'day'`."
   ]
  },
  {
   "cell_type": "code",
   "execution_count": 46,
   "metadata": {
    "id": "ISlFqs5y_Zct",
    "scrolled": true
   },
   "outputs": [],
   "source": [
    "df = df.rename(columns={'  userID':'user_id','Track':'track','  City  ':'city','Day':'day'})\n",
    "# переименование столбцов (*использование словарей, ключ: значение)"
   ]
  },
  {
   "cell_type": "markdown",
   "metadata": {
    "id": "1dqbh00J_Zct"
   },
   "source": [
    "Проверьте результат. Для этого ещё раз выведите на экран названия столбцов:"
   ]
  },
  {
   "cell_type": "code",
   "execution_count": 47,
   "metadata": {
    "id": "d4NOAmTW_Zct"
   },
   "outputs": [
    {
     "name": "stdout",
     "output_type": "stream",
     "text": [
      "Index(['user_id', 'track', 'artist', 'genre', 'city', 'time', 'day'], dtype='object')\n"
     ]
    }
   ],
   "source": [
    "print(df.columns) # проверка результатов - перечень названий столбцов"
   ]
  },
  {
   "cell_type": "markdown",
   "metadata": {
    "id": "5ISfbcfY_Zct"
   },
   "source": [
    "### Пропуски значений\n",
    "Сначала посчитайте, сколько в таблице пропущенных значений. Для этого достаточно двух методов `pandas`:"
   ]
  },
  {
   "cell_type": "code",
   "execution_count": 48,
   "metadata": {
    "id": "RskX29qr_Zct"
   },
   "outputs": [
    {
     "name": "stdout",
     "output_type": "stream",
     "text": [
      "user_id       0\n",
      "track      1231\n",
      "artist     7203\n",
      "genre      1198\n",
      "city          0\n",
      "time          0\n",
      "day           0\n",
      "dtype: int64\n"
     ]
    }
   ],
   "source": [
    "print(df.isna().sum()) # подсчёт пропусков"
   ]
  },
  {
   "cell_type": "markdown",
   "metadata": {
    "id": "qubhgnlO_Zct"
   },
   "source": [
    "Не все пропущенные значения влияют на исследование. Так в `track` и `artist` пропуски не важны для вашей работы. Достаточно заменить их явными обозначениями.\n",
    "\n",
    "Но пропуски в `genre` могут помешать сравнению музыкальных вкусов в Москве и Санкт-Петербурге. На практике было бы правильно установить причину пропусков и восстановить данные. Такой возможности нет в учебном проекте. Придётся:\n",
    "* заполнить и эти пропуски явными обозначениями,\n",
    "* оценить, насколько они повредят расчётам. "
   ]
  },
  {
   "cell_type": "markdown",
   "metadata": {
    "id": "fSv2laPA_Zct"
   },
   "source": [
    "Замените пропущенные значения в столбцах `track`, `artist` и `genre` на строку `'unknown'`. Для этого создайте список `columns_to_replace`, переберите его элементы циклом `for` и для каждого столбца выполните замену пропущенных значений:"
   ]
  },
  {
   "cell_type": "code",
   "execution_count": 49,
   "metadata": {
    "id": "KplB5qWs_Zct"
   },
   "outputs": [],
   "source": [
    "# перебор названий столбцов в цикле и замена пропущенных значений на 'unknown'\n",
    "\n",
    "columns_to_replace = ['track', 'artist', 'genre']\n",
    "\n",
    "for column in columns_to_replace:\n",
    "    df[column] = df[column].fillna('unknown')\n"
   ]
  },
  {
   "cell_type": "markdown",
   "metadata": {
    "id": "Ilsm-MZo_Zct"
   },
   "source": [
    "Убедитесь, что в таблице не осталось пропусков. Для этого ещё раз посчитайте пропущенные значения."
   ]
  },
  {
   "cell_type": "code",
   "execution_count": 50,
   "metadata": {
    "id": "Tq4nYRX4_Zct"
   },
   "outputs": [
    {
     "name": "stdout",
     "output_type": "stream",
     "text": [
      "user_id    0\n",
      "track      0\n",
      "artist     0\n",
      "genre      0\n",
      "city       0\n",
      "time       0\n",
      "day        0\n",
      "dtype: int64\n"
     ]
    }
   ],
   "source": [
    "print(df.isna().sum()) # подсчёт пропусков"
   ]
  },
  {
   "cell_type": "markdown",
   "metadata": {
    "id": "BWKRtBJ3_Zct"
   },
   "source": [
    "### Дубликаты\n",
    "Посчитайте явные дубликаты в таблице одной командой:"
   ]
  },
  {
   "cell_type": "code",
   "execution_count": 51,
   "metadata": {
    "id": "36eES_S0_Zct"
   },
   "outputs": [
    {
     "name": "stdout",
     "output_type": "stream",
     "text": [
      "3826\n"
     ]
    }
   ],
   "source": [
    "print(df.duplicated().sum()) # подсчёт явных дубликатов"
   ]
  },
  {
   "cell_type": "markdown",
   "metadata": {
    "id": "Ot25h6XR_Zct"
   },
   "source": [
    "Вызовите специальный метод `pandas`, чтобы удалить явные дубликаты:"
   ]
  },
  {
   "cell_type": "code",
   "execution_count": 52,
   "metadata": {
    "id": "exFHq6tt_Zct"
   },
   "outputs": [],
   "source": [
    "# удаление явных дубликатов (с удалением старых индексов и формированием новых)\n",
    "df = df.drop_duplicates().reset_index(drop=True)"
   ]
  },
  {
   "cell_type": "markdown",
   "metadata": {
    "id": "Im2YwBEG_Zct"
   },
   "source": [
    "Ещё раз посчитайте явные дубликаты в таблице — убедитесь, что полностью от них избавились:"
   ]
  },
  {
   "cell_type": "code",
   "execution_count": 53,
   "metadata": {
    "id": "-8PuNWQ0_Zct"
   },
   "outputs": [
    {
     "name": "stdout",
     "output_type": "stream",
     "text": [
      "0\n"
     ]
    }
   ],
   "source": [
    "print(df.duplicated().sum()) # проверка на отсутствие дубликатов"
   ]
  },
  {
   "cell_type": "markdown",
   "metadata": {
    "id": "QlFBsxAr_Zct"
   },
   "source": [
    "Теперь избавьтесь от неявных дубликатов в колонке `genre`. Например, название одного и того же жанра может быть записано немного по-разному. Такие ошибки тоже повлияют на результат исследования."
   ]
  },
  {
   "cell_type": "markdown",
   "metadata": {
    "id": "eSjWwsOh_Zct"
   },
   "source": [
    "Выведите на экран список уникальных названий жанров, отсортированный в алфавитном порядке. Для этого:\n",
    "* извлеките нужный столбец датафрейма, \n",
    "* примените к нему метод сортировки,\n",
    "* для отсортированного столбца вызовите метод, который вернёт уникальные значения из столбца."
   ]
  },
  {
   "cell_type": "code",
   "execution_count": 54,
   "metadata": {
    "id": "JIUcqzZN_Zct"
   },
   "outputs": [
    {
     "data": {
      "text/plain": [
       "['acid',\n",
       " 'acoustic',\n",
       " 'action',\n",
       " 'adult',\n",
       " 'africa',\n",
       " 'afrikaans',\n",
       " 'alternative',\n",
       " 'alternativepunk',\n",
       " 'ambient',\n",
       " 'americana',\n",
       " 'animated',\n",
       " 'anime',\n",
       " 'arabesk',\n",
       " 'arabic',\n",
       " 'arena',\n",
       " 'argentinetango',\n",
       " 'art',\n",
       " 'audiobook',\n",
       " 'author',\n",
       " 'avantgarde',\n",
       " 'axé',\n",
       " 'baile',\n",
       " 'balkan',\n",
       " 'beats',\n",
       " 'bigroom',\n",
       " 'black',\n",
       " 'bluegrass',\n",
       " 'blues',\n",
       " 'bollywood',\n",
       " 'bossa',\n",
       " 'brazilian',\n",
       " 'breakbeat',\n",
       " 'breaks',\n",
       " 'broadway',\n",
       " 'cantautori',\n",
       " 'cantopop',\n",
       " 'canzone',\n",
       " 'caribbean',\n",
       " 'caucasian',\n",
       " 'celtic',\n",
       " 'chamber',\n",
       " 'chanson',\n",
       " 'children',\n",
       " 'chill',\n",
       " 'chinese',\n",
       " 'choral',\n",
       " 'christian',\n",
       " 'christmas',\n",
       " 'classical',\n",
       " 'classicmetal',\n",
       " 'club',\n",
       " 'colombian',\n",
       " 'comedy',\n",
       " 'conjazz',\n",
       " 'contemporary',\n",
       " 'country',\n",
       " 'cuban',\n",
       " 'dance',\n",
       " 'dancehall',\n",
       " 'dancepop',\n",
       " 'dark',\n",
       " 'death',\n",
       " 'deep',\n",
       " 'deutschrock',\n",
       " 'deutschspr',\n",
       " 'dirty',\n",
       " 'disco',\n",
       " 'dnb',\n",
       " 'documentary',\n",
       " 'downbeat',\n",
       " 'downtempo',\n",
       " 'drum',\n",
       " 'dub',\n",
       " 'dubstep',\n",
       " 'eastern',\n",
       " 'easy',\n",
       " 'electronic',\n",
       " 'electropop',\n",
       " 'emo',\n",
       " 'entehno',\n",
       " 'epicmetal',\n",
       " 'estrada',\n",
       " 'ethnic',\n",
       " 'eurofolk',\n",
       " 'european',\n",
       " 'experimental',\n",
       " 'extrememetal',\n",
       " 'fado',\n",
       " 'fairytail',\n",
       " 'film',\n",
       " 'fitness',\n",
       " 'flamenco',\n",
       " 'folk',\n",
       " 'folklore',\n",
       " 'folkmetal',\n",
       " 'folkrock',\n",
       " 'folktronica',\n",
       " 'forró',\n",
       " 'frankreich',\n",
       " 'französisch',\n",
       " 'french',\n",
       " 'funk',\n",
       " 'future',\n",
       " 'gangsta',\n",
       " 'garage',\n",
       " 'german',\n",
       " 'ghazal',\n",
       " 'gitarre',\n",
       " 'glitch',\n",
       " 'gospel',\n",
       " 'gothic',\n",
       " 'grime',\n",
       " 'grunge',\n",
       " 'gypsy',\n",
       " 'handsup',\n",
       " \"hard'n'heavy\",\n",
       " 'hardcore',\n",
       " 'hardstyle',\n",
       " 'hardtechno',\n",
       " 'hip',\n",
       " 'hip-hop',\n",
       " 'hiphop',\n",
       " 'historisch',\n",
       " 'holiday',\n",
       " 'hop',\n",
       " 'horror',\n",
       " 'house',\n",
       " 'hymn',\n",
       " 'idm',\n",
       " 'independent',\n",
       " 'indian',\n",
       " 'indie',\n",
       " 'indipop',\n",
       " 'industrial',\n",
       " 'inspirational',\n",
       " 'instrumental',\n",
       " 'international',\n",
       " 'irish',\n",
       " 'jam',\n",
       " 'japanese',\n",
       " 'jazz',\n",
       " 'jewish',\n",
       " 'jpop',\n",
       " 'jungle',\n",
       " 'k-pop',\n",
       " 'karadeniz',\n",
       " 'karaoke',\n",
       " 'kayokyoku',\n",
       " 'korean',\n",
       " 'laiko',\n",
       " 'latin',\n",
       " 'latino',\n",
       " 'leftfield',\n",
       " 'local',\n",
       " 'lounge',\n",
       " 'loungeelectronic',\n",
       " 'lovers',\n",
       " 'malaysian',\n",
       " 'mandopop',\n",
       " 'marschmusik',\n",
       " 'meditative',\n",
       " 'mediterranean',\n",
       " 'melodic',\n",
       " 'metal',\n",
       " 'metalcore',\n",
       " 'mexican',\n",
       " 'middle',\n",
       " 'minimal',\n",
       " 'miscellaneous',\n",
       " 'modern',\n",
       " 'mood',\n",
       " 'mpb',\n",
       " 'muslim',\n",
       " 'native',\n",
       " 'neoklassik',\n",
       " 'neue',\n",
       " 'new',\n",
       " 'newage',\n",
       " 'newwave',\n",
       " 'nu',\n",
       " 'nujazz',\n",
       " 'numetal',\n",
       " 'oceania',\n",
       " 'old',\n",
       " 'opera',\n",
       " 'orchestral',\n",
       " 'other',\n",
       " 'piano',\n",
       " 'podcasts',\n",
       " 'pop',\n",
       " 'popdance',\n",
       " 'popelectronic',\n",
       " 'popeurodance',\n",
       " 'poprussian',\n",
       " 'post',\n",
       " 'posthardcore',\n",
       " 'postrock',\n",
       " 'power',\n",
       " 'progmetal',\n",
       " 'progressive',\n",
       " 'psychedelic',\n",
       " 'punjabi',\n",
       " 'punk',\n",
       " 'quebecois',\n",
       " 'ragga',\n",
       " 'ram',\n",
       " 'rancheras',\n",
       " 'rap',\n",
       " 'rave',\n",
       " 'reggae',\n",
       " 'reggaeton',\n",
       " 'regional',\n",
       " 'relax',\n",
       " 'religious',\n",
       " 'retro',\n",
       " 'rhythm',\n",
       " 'rnb',\n",
       " 'rnr',\n",
       " 'rock',\n",
       " 'rockabilly',\n",
       " 'rockalternative',\n",
       " 'rockindie',\n",
       " 'rockother',\n",
       " 'romance',\n",
       " 'roots',\n",
       " 'ruspop',\n",
       " 'rusrap',\n",
       " 'rusrock',\n",
       " 'russian',\n",
       " 'salsa',\n",
       " 'samba',\n",
       " 'scenic',\n",
       " 'schlager',\n",
       " 'self',\n",
       " 'sertanejo',\n",
       " 'shanson',\n",
       " 'shoegazing',\n",
       " 'showtunes',\n",
       " 'singer',\n",
       " 'ska',\n",
       " 'skarock',\n",
       " 'slow',\n",
       " 'smooth',\n",
       " 'soft',\n",
       " 'soul',\n",
       " 'soulful',\n",
       " 'sound',\n",
       " 'soundtrack',\n",
       " 'southern',\n",
       " 'specialty',\n",
       " 'speech',\n",
       " 'spiritual',\n",
       " 'sport',\n",
       " 'stonerrock',\n",
       " 'surf',\n",
       " 'swing',\n",
       " 'synthpop',\n",
       " 'synthrock',\n",
       " 'sängerportrait',\n",
       " 'tango',\n",
       " 'tanzorchester',\n",
       " 'taraftar',\n",
       " 'tatar',\n",
       " 'tech',\n",
       " 'techno',\n",
       " 'teen',\n",
       " 'thrash',\n",
       " 'top',\n",
       " 'traditional',\n",
       " 'tradjazz',\n",
       " 'trance',\n",
       " 'tribal',\n",
       " 'trip',\n",
       " 'triphop',\n",
       " 'tropical',\n",
       " 'türk',\n",
       " 'türkçe',\n",
       " 'ukrrock',\n",
       " 'unknown',\n",
       " 'urban',\n",
       " 'uzbek',\n",
       " 'variété',\n",
       " 'vi',\n",
       " 'videogame',\n",
       " 'vocal',\n",
       " 'western',\n",
       " 'world',\n",
       " 'worldbeat',\n",
       " 'ïîï',\n",
       " 'электроника']"
      ]
     },
     "metadata": {},
     "output_type": "display_data"
    }
   ],
   "source": [
    "display(sorted(df['genre'].unique())) # Просмотр уникальных названий жанров\n",
    "# `display()` лучше подходит для отображения табличных данных"
   ]
  },
  {
   "cell_type": "markdown",
   "metadata": {
    "id": "qej-Qmuo_Zct"
   },
   "source": [
    "Просмотрите список и найдите неявные дубликаты названия `hiphop`. Это могут быть названия с ошибками или альтернативные названия того же жанра.\n",
    "\n",
    "Вы увидите следующие неявные дубликаты:\n",
    "* *hip*,\n",
    "* *hop*,\n",
    "* *hip-hop*.\n",
    "\n",
    "Чтобы очистить от них таблицу, напишите функцию `replace_wrong_genres()` с двумя параметрами: \n",
    "* `wrong_genres` — список дубликатов,\n",
    "* `correct_genre` — строка с правильным значением.\n",
    "\n",
    "Функция должна исправить колонку `genre` в таблице `df`: заменить каждое значение из списка `wrong_genres` на значение из `correct_genre`."
   ]
  },
  {
   "cell_type": "code",
   "execution_count": 55,
   "metadata": {
    "id": "ErNDkmns_Zct"
   },
   "outputs": [],
   "source": [
    "# Функция для замены неявных дубликатов\n",
    "\n",
    "\n",
    "def replace_wrong_genres(wrong_genres,correct_genre):\n",
    "    for wrong_genre in wrong_genres:\n",
    "        df['genre'] = df['genre'].replace(wrong_genres,correct_genre)\n",
    "\n",
    "\n",
    "wrong_genres = ['hip','hip-hop','hop']\n",
    "correct_genre = 'hiphop'\n",
    "\n"
   ]
  },
  {
   "cell_type": "markdown",
   "metadata": {
    "id": "aDoBJxbA_Zct"
   },
   "source": [
    "Вызовите `replace_wrong_genres()` и передайте ей такие аргументы, чтобы она устранила неявные дубликаты: вместо `hip`, `hop` и `hip-hop` в таблице должно быть значение `hiphop`:"
   ]
  },
  {
   "cell_type": "code",
   "execution_count": 56,
   "metadata": {
    "id": "YN5i2hpmSo09"
   },
   "outputs": [],
   "source": [
    "replace_wrong_genres(wrong_genres,correct_genre) # Устранение неявных дубликатов"
   ]
  },
  {
   "cell_type": "markdown",
   "metadata": {
    "id": "zQKF16_RG15m"
   },
   "source": [
    "Проверьте, что заменили неправильные названия:\n",
    "\n",
    "*   hip\n",
    "*   hop\n",
    "*   hip-hop\n",
    "\n",
    "Выведите отсортированный список уникальных значений столбца `genre`:"
   ]
  },
  {
   "cell_type": "code",
   "execution_count": 57,
   "metadata": {
    "id": "wvixALnFG15m"
   },
   "outputs": [
    {
     "data": {
      "text/plain": [
       "['acid',\n",
       " 'acoustic',\n",
       " 'action',\n",
       " 'adult',\n",
       " 'africa',\n",
       " 'afrikaans',\n",
       " 'alternative',\n",
       " 'alternativepunk',\n",
       " 'ambient',\n",
       " 'americana',\n",
       " 'animated',\n",
       " 'anime',\n",
       " 'arabesk',\n",
       " 'arabic',\n",
       " 'arena',\n",
       " 'argentinetango',\n",
       " 'art',\n",
       " 'audiobook',\n",
       " 'author',\n",
       " 'avantgarde',\n",
       " 'axé',\n",
       " 'baile',\n",
       " 'balkan',\n",
       " 'beats',\n",
       " 'bigroom',\n",
       " 'black',\n",
       " 'bluegrass',\n",
       " 'blues',\n",
       " 'bollywood',\n",
       " 'bossa',\n",
       " 'brazilian',\n",
       " 'breakbeat',\n",
       " 'breaks',\n",
       " 'broadway',\n",
       " 'cantautori',\n",
       " 'cantopop',\n",
       " 'canzone',\n",
       " 'caribbean',\n",
       " 'caucasian',\n",
       " 'celtic',\n",
       " 'chamber',\n",
       " 'chanson',\n",
       " 'children',\n",
       " 'chill',\n",
       " 'chinese',\n",
       " 'choral',\n",
       " 'christian',\n",
       " 'christmas',\n",
       " 'classical',\n",
       " 'classicmetal',\n",
       " 'club',\n",
       " 'colombian',\n",
       " 'comedy',\n",
       " 'conjazz',\n",
       " 'contemporary',\n",
       " 'country',\n",
       " 'cuban',\n",
       " 'dance',\n",
       " 'dancehall',\n",
       " 'dancepop',\n",
       " 'dark',\n",
       " 'death',\n",
       " 'deep',\n",
       " 'deutschrock',\n",
       " 'deutschspr',\n",
       " 'dirty',\n",
       " 'disco',\n",
       " 'dnb',\n",
       " 'documentary',\n",
       " 'downbeat',\n",
       " 'downtempo',\n",
       " 'drum',\n",
       " 'dub',\n",
       " 'dubstep',\n",
       " 'eastern',\n",
       " 'easy',\n",
       " 'electronic',\n",
       " 'electropop',\n",
       " 'emo',\n",
       " 'entehno',\n",
       " 'epicmetal',\n",
       " 'estrada',\n",
       " 'ethnic',\n",
       " 'eurofolk',\n",
       " 'european',\n",
       " 'experimental',\n",
       " 'extrememetal',\n",
       " 'fado',\n",
       " 'fairytail',\n",
       " 'film',\n",
       " 'fitness',\n",
       " 'flamenco',\n",
       " 'folk',\n",
       " 'folklore',\n",
       " 'folkmetal',\n",
       " 'folkrock',\n",
       " 'folktronica',\n",
       " 'forró',\n",
       " 'frankreich',\n",
       " 'französisch',\n",
       " 'french',\n",
       " 'funk',\n",
       " 'future',\n",
       " 'gangsta',\n",
       " 'garage',\n",
       " 'german',\n",
       " 'ghazal',\n",
       " 'gitarre',\n",
       " 'glitch',\n",
       " 'gospel',\n",
       " 'gothic',\n",
       " 'grime',\n",
       " 'grunge',\n",
       " 'gypsy',\n",
       " 'handsup',\n",
       " \"hard'n'heavy\",\n",
       " 'hardcore',\n",
       " 'hardstyle',\n",
       " 'hardtechno',\n",
       " 'hiphop',\n",
       " 'historisch',\n",
       " 'holiday',\n",
       " 'horror',\n",
       " 'house',\n",
       " 'hymn',\n",
       " 'idm',\n",
       " 'independent',\n",
       " 'indian',\n",
       " 'indie',\n",
       " 'indipop',\n",
       " 'industrial',\n",
       " 'inspirational',\n",
       " 'instrumental',\n",
       " 'international',\n",
       " 'irish',\n",
       " 'jam',\n",
       " 'japanese',\n",
       " 'jazz',\n",
       " 'jewish',\n",
       " 'jpop',\n",
       " 'jungle',\n",
       " 'k-pop',\n",
       " 'karadeniz',\n",
       " 'karaoke',\n",
       " 'kayokyoku',\n",
       " 'korean',\n",
       " 'laiko',\n",
       " 'latin',\n",
       " 'latino',\n",
       " 'leftfield',\n",
       " 'local',\n",
       " 'lounge',\n",
       " 'loungeelectronic',\n",
       " 'lovers',\n",
       " 'malaysian',\n",
       " 'mandopop',\n",
       " 'marschmusik',\n",
       " 'meditative',\n",
       " 'mediterranean',\n",
       " 'melodic',\n",
       " 'metal',\n",
       " 'metalcore',\n",
       " 'mexican',\n",
       " 'middle',\n",
       " 'minimal',\n",
       " 'miscellaneous',\n",
       " 'modern',\n",
       " 'mood',\n",
       " 'mpb',\n",
       " 'muslim',\n",
       " 'native',\n",
       " 'neoklassik',\n",
       " 'neue',\n",
       " 'new',\n",
       " 'newage',\n",
       " 'newwave',\n",
       " 'nu',\n",
       " 'nujazz',\n",
       " 'numetal',\n",
       " 'oceania',\n",
       " 'old',\n",
       " 'opera',\n",
       " 'orchestral',\n",
       " 'other',\n",
       " 'piano',\n",
       " 'podcasts',\n",
       " 'pop',\n",
       " 'popdance',\n",
       " 'popelectronic',\n",
       " 'popeurodance',\n",
       " 'poprussian',\n",
       " 'post',\n",
       " 'posthardcore',\n",
       " 'postrock',\n",
       " 'power',\n",
       " 'progmetal',\n",
       " 'progressive',\n",
       " 'psychedelic',\n",
       " 'punjabi',\n",
       " 'punk',\n",
       " 'quebecois',\n",
       " 'ragga',\n",
       " 'ram',\n",
       " 'rancheras',\n",
       " 'rap',\n",
       " 'rave',\n",
       " 'reggae',\n",
       " 'reggaeton',\n",
       " 'regional',\n",
       " 'relax',\n",
       " 'religious',\n",
       " 'retro',\n",
       " 'rhythm',\n",
       " 'rnb',\n",
       " 'rnr',\n",
       " 'rock',\n",
       " 'rockabilly',\n",
       " 'rockalternative',\n",
       " 'rockindie',\n",
       " 'rockother',\n",
       " 'romance',\n",
       " 'roots',\n",
       " 'ruspop',\n",
       " 'rusrap',\n",
       " 'rusrock',\n",
       " 'russian',\n",
       " 'salsa',\n",
       " 'samba',\n",
       " 'scenic',\n",
       " 'schlager',\n",
       " 'self',\n",
       " 'sertanejo',\n",
       " 'shanson',\n",
       " 'shoegazing',\n",
       " 'showtunes',\n",
       " 'singer',\n",
       " 'ska',\n",
       " 'skarock',\n",
       " 'slow',\n",
       " 'smooth',\n",
       " 'soft',\n",
       " 'soul',\n",
       " 'soulful',\n",
       " 'sound',\n",
       " 'soundtrack',\n",
       " 'southern',\n",
       " 'specialty',\n",
       " 'speech',\n",
       " 'spiritual',\n",
       " 'sport',\n",
       " 'stonerrock',\n",
       " 'surf',\n",
       " 'swing',\n",
       " 'synthpop',\n",
       " 'synthrock',\n",
       " 'sängerportrait',\n",
       " 'tango',\n",
       " 'tanzorchester',\n",
       " 'taraftar',\n",
       " 'tatar',\n",
       " 'tech',\n",
       " 'techno',\n",
       " 'teen',\n",
       " 'thrash',\n",
       " 'top',\n",
       " 'traditional',\n",
       " 'tradjazz',\n",
       " 'trance',\n",
       " 'tribal',\n",
       " 'trip',\n",
       " 'triphop',\n",
       " 'tropical',\n",
       " 'türk',\n",
       " 'türkçe',\n",
       " 'ukrrock',\n",
       " 'unknown',\n",
       " 'urban',\n",
       " 'uzbek',\n",
       " 'variété',\n",
       " 'vi',\n",
       " 'videogame',\n",
       " 'vocal',\n",
       " 'western',\n",
       " 'world',\n",
       " 'worldbeat',\n",
       " 'ïîï',\n",
       " 'электроника']"
      ]
     },
     "metadata": {},
     "output_type": "display_data"
    }
   ],
   "source": [
    "display(sorted(df['genre'].unique())) # Проверка на неявные дубликаты 'hiphop', остальные жанры без изменений!"
   ]
  },
  {
   "cell_type": "markdown",
   "metadata": {
    "id": "jz6a9-7HQUDd"
   },
   "source": [
    "**Выводы**\n",
    "\n",
    "Предобработка обнаружила три проблемы в данных:\n",
    "\n",
    "- нарушения в стиле заголовков,\n",
    "- пропущенные значения,\n",
    "- дубликаты — явные и неявные.\n",
    "\n",
    "Вы исправили заголовки, чтобы упростить работу с таблицей. Без дубликатов исследование станет более точным.\n",
    "\n",
    "Пропущенные значения вы заменили на `'unknown'`. Ещё предстоит увидеть, не повредят ли исследованию пропуски в колонке `genre`.\n",
    "\n",
    "Теперь можно перейти к проверке гипотез. "
   ]
  },
  {
   "cell_type": "markdown",
   "metadata": {
    "id": "WttZHXH0SqKk"
   },
   "source": [
    "## Проверка гипотез"
   ]
  },
  {
   "cell_type": "markdown",
   "metadata": {
    "id": "Im936VVi_Zcu"
   },
   "source": [
    "### Сравнение поведения пользователей двух столиц"
   ]
  },
  {
   "cell_type": "markdown",
   "metadata": {
    "id": "nwt_MuaL_Zcu"
   },
   "source": [
    "Первая гипотеза утверждает, что пользователи по-разному слушают музыку в Москве и Санкт-Петербурге. Проверьте это предположение по данным о трёх днях недели — понедельнике, среде и пятнице. Для этого:\n",
    "\n",
    "* Разделите пользователей Москвы и Санкт-Петербурга\n",
    "* Сравните, сколько треков послушала каждая группа пользователей в понедельник, среду и пятницу.\n"
   ]
  },
  {
   "cell_type": "markdown",
   "metadata": {
    "id": "8Dw_YMmT_Zcu"
   },
   "source": [
    "Для тренировки сначала выполните каждый из расчётов по отдельности. \n",
    "\n",
    "Оцените активность пользователей в каждом городе. Сгруппируйте данные по городу и посчитайте прослушивания в каждой группе.\n",
    "\n"
   ]
  },
  {
   "cell_type": "code",
   "execution_count": 58,
   "metadata": {
    "id": "0_Qs96oh_Zcu"
   },
   "outputs": [
    {
     "name": "stdout",
     "output_type": "stream",
     "text": [
      "city\n",
      "Moscow              42741\n",
      "Saint-Petersburg    18512\n",
      "Name: track, dtype: int64\n"
     ]
    }
   ],
   "source": [
    "# Подсчёт прослушиваний (треков) в каждом городе\n",
    "\n",
    "df_count_by_city = df.groupby('city')['track'].count()\n",
    "print(df_count_by_city)"
   ]
  },
  {
   "cell_type": "markdown",
   "metadata": {
    "id": "dzli3w8o_Zcu"
   },
   "source": [
    "В Москве прослушиваний больше, чем в Петербурге. Из этого не следует, что московские пользователи чаще слушают музыку. Просто самих пользователей в Москве больше.\n",
    "\n",
    "Теперь сгруппируйте данные по дню недели и подсчитайте прослушивания в понедельник, среду и пятницу. Учтите, что в данных есть информация только о прослушиваниях только за эти дни.\n"
   ]
  },
  {
   "cell_type": "code",
   "execution_count": 59,
   "metadata": {
    "id": "uZMKjiJz_Zcu"
   },
   "outputs": [
    {
     "name": "stdout",
     "output_type": "stream",
     "text": [
      "day\n",
      "Friday       21840\n",
      "Monday       21354\n",
      "Wednesday    18059\n",
      "Name: track, dtype: int64\n"
     ]
    }
   ],
   "source": [
    "# Подсчёт прослушиваний в каждый из трёх дней\n",
    "\n",
    "df_count_by_city = df.groupby('day')['track'].count()\n",
    "print(df_count_by_city)\n"
   ]
  },
  {
   "cell_type": "markdown",
   "metadata": {
    "id": "cC2tNrlL_Zcu"
   },
   "source": [
    "В среднем пользователи из двух городов менее активны по средам. Но картина может измениться, если рассмотреть каждый город в отдельности."
   ]
  },
  {
   "cell_type": "markdown",
   "metadata": {
    "id": "POzs8bGa_Zcu"
   },
   "source": [
    "Вы видели, как работает группировка по городу и по дням недели. Теперь напишите функцию, которая объединит два эти расчёта.\n",
    "\n",
    "Создайте функцию `number_tracks()`, которая посчитает прослушивания для заданного дня и города. Ей понадобятся два параметра:\n",
    "* день недели,\n",
    "* название города.\n",
    "\n",
    "В функции сохраните в переменную строки исходной таблицы, у которых значение:\n",
    "  * в колонке `day` равно параметру `day`,\n",
    "  * в колонке `city` равно параметру `city`.\n",
    "\n",
    "Для этого примените последовательную фильтрацию с логической индексацией.\n",
    "\n",
    "Затем посчитайте значения в столбце `user_id` получившейся таблицы. Результат сохраните в новую переменную. Верните эту переменную из функции."
   ]
  },
  {
   "cell_type": "code",
   "execution_count": 60,
   "metadata": {
    "id": "Nz3GdQB1_Zcu"
   },
   "outputs": [],
   "source": [
    "def number_tracks(day,city):\n",
    "    track_list = df[df['day'] == day]\n",
    "    track_list = track_list[track_list['city'] == city]\n",
    "    track_list_count = track_list['user_id'].count()\n",
    "    return track_list_count\n",
    "\n",
    "# Функция для подсчёта прослушиваний для конкретного города и дня.\n",
    "# С помощью последовательной фильтрации с логической индексацией она \n",
    "# сначала получит из исходной таблицы строки с нужным днём,\n",
    "# затем из результата отфильтрует строки с нужным городом,\n",
    "# методом count() посчитает количество значений в колонке user_id (количество слущающих музыку, не количество ). \n",
    "# Это количество функция вернёт в качестве результата"
   ]
  },
  {
   "cell_type": "markdown",
   "metadata": {
    "id": "ytf7xFrFJQ2r"
   },
   "source": [
    "Вызовите `number_tracks()` шесть раз, меняя значение параметров — так, чтобы получить данные для каждого города в каждый из трёх дней."
   ]
  },
  {
   "cell_type": "code",
   "execution_count": 61,
   "metadata": {
    "id": "rJcRATNQ_Zcu"
   },
   "outputs": [
    {
     "name": "stdout",
     "output_type": "stream",
     "text": [
      "15740\n"
     ]
    }
   ],
   "source": [
    "print(number_tracks('Monday','Moscow')) # количество прослушиваний в Москве по понедельникам"
   ]
  },
  {
   "cell_type": "code",
   "execution_count": 62,
   "metadata": {
    "id": "hq_ncZ5T_Zcu"
   },
   "outputs": [
    {
     "name": "stdout",
     "output_type": "stream",
     "text": [
      "5614\n"
     ]
    }
   ],
   "source": [
    "print(number_tracks('Monday','Saint-Petersburg')) # количество прослушиваний в Санкт-Петербурге по понедельникам"
   ]
  },
  {
   "cell_type": "code",
   "execution_count": 63,
   "metadata": {
    "id": "_NTy2VPU_Zcu"
   },
   "outputs": [
    {
     "name": "stdout",
     "output_type": "stream",
     "text": [
      "11056\n"
     ]
    }
   ],
   "source": [
    "print(number_tracks('Wednesday','Moscow'))# количество прослушиваний в Москве по средам"
   ]
  },
  {
   "cell_type": "code",
   "execution_count": 64,
   "metadata": {
    "id": "j2y3TAwo_Zcu"
   },
   "outputs": [
    {
     "name": "stdout",
     "output_type": "stream",
     "text": [
      "7003\n"
     ]
    }
   ],
   "source": [
    "print(number_tracks('Wednesday','Saint-Petersburg')) # количество прослушиваний в Санкт-Петербурге по средам"
   ]
  },
  {
   "cell_type": "code",
   "execution_count": 65,
   "metadata": {
    "id": "vYDw5u_K_Zcu"
   },
   "outputs": [
    {
     "name": "stdout",
     "output_type": "stream",
     "text": [
      "15945\n"
     ]
    }
   ],
   "source": [
    "print(number_tracks('Friday','Moscow')) # количество прослушиваний в Москве по пятницам"
   ]
  },
  {
   "cell_type": "code",
   "execution_count": 66,
   "metadata": {
    "id": "8_yzFtW3_Zcu"
   },
   "outputs": [
    {
     "name": "stdout",
     "output_type": "stream",
     "text": [
      "5895\n"
     ]
    }
   ],
   "source": [
    "print(number_tracks('Friday','Saint-Petersburg')) # количество прослушиваний в Санкт-Петербурге по пятницам"
   ]
  },
  {
   "cell_type": "markdown",
   "metadata": {
    "id": "7QXffbO-_Zcu"
   },
   "source": [
    "Создайте c помощью конструктора `pd.DataFrame` таблицу, где\n",
    "* названия колонок — `['city', 'monday', 'wednesday', 'friday']`;\n",
    "* данные — результаты, которые вы получили с помощью `number_tracks`."
   ]
  },
  {
   "cell_type": "code",
   "execution_count": 28,
   "metadata": {
    "id": "APAcLpOr_Zcu"
   },
   "outputs": [
    {
     "data": {
      "text/html": [
       "<div>\n",
       "<style scoped>\n",
       "    .dataframe tbody tr th:only-of-type {\n",
       "        vertical-align: middle;\n",
       "    }\n",
       "\n",
       "    .dataframe tbody tr th {\n",
       "        vertical-align: top;\n",
       "    }\n",
       "\n",
       "    .dataframe thead th {\n",
       "        text-align: right;\n",
       "    }\n",
       "</style>\n",
       "<table border=\"1\" class=\"dataframe\">\n",
       "  <thead>\n",
       "    <tr style=\"text-align: right;\">\n",
       "      <th></th>\n",
       "      <th>city</th>\n",
       "      <th>Monday</th>\n",
       "      <th>Wednesday</th>\n",
       "      <th>Friday</th>\n",
       "    </tr>\n",
       "  </thead>\n",
       "  <tbody>\n",
       "    <tr>\n",
       "      <td>0</td>\n",
       "      <td>Moscow</td>\n",
       "      <td>15740</td>\n",
       "      <td>11056</td>\n",
       "      <td>15945</td>\n",
       "    </tr>\n",
       "    <tr>\n",
       "      <td>1</td>\n",
       "      <td>Saint-Petersburg</td>\n",
       "      <td>5614</td>\n",
       "      <td>7003</td>\n",
       "      <td>5895</td>\n",
       "    </tr>\n",
       "  </tbody>\n",
       "</table>\n",
       "</div>"
      ],
      "text/plain": [
       "               city  Monday  Wednesday  Friday\n",
       "0            Moscow   15740      11056   15945\n",
       "1  Saint-Petersburg    5614       7003    5895"
      ]
     },
     "metadata": {},
     "output_type": "display_data"
    }
   ],
   "source": [
    "# Таблица с результатами\n",
    "\n",
    "columns_name = ['city', 'Monday', 'Wednesday', 'Friday']\n",
    "\n",
    "data_source = [\n",
    "    ['Moscow',15740,11056,15945],\n",
    "    ['Saint-Petersburg',5614,7003,5895]\n",
    "]\n",
    "\n",
    "summary_table = pd.DataFrame(data=data_source, columns=columns_name)\n",
    "\n",
    "display(summary_table)"
   ]
  },
  {
   "cell_type": "markdown",
   "metadata": {
    "id": "-EgPIHYu_Zcu"
   },
   "source": [
    "**Выводы**\n",
    "\n",
    "Данные показывают разницу поведения пользователей:\n",
    "\n",
    "- В Москве пик прослушиваний приходится на понедельник и пятницу, а в среду заметен спад.\n",
    "- В Петербурге, наоборот, больше слушают музыку по средам. Активность в понедельник и пятницу здесь почти в равной мере уступает среде.\n",
    "\n",
    "Значит, данные говорят в пользу первой гипотезы."
   ]
  },
  {
   "cell_type": "markdown",
   "metadata": {
    "id": "atZAxtq4_Zcu"
   },
   "source": [
    "### Музыка в начале и в конце недели"
   ]
  },
  {
   "cell_type": "markdown",
   "metadata": {
    "id": "eXrQqXFH_Zcu"
   },
   "source": [
    "Согласно второй гипотезе, утром в понедельник в Москве преобладают одни жанры, а в Петербурге — другие. Так же и вечером пятницы преобладают разные жанры — в зависимости от города."
   ]
  },
  {
   "cell_type": "markdown",
   "metadata": {
    "id": "S8UcW6Hw_Zcu"
   },
   "source": [
    "Сохраните таблицы с данными в две переменные:\n",
    "* по Москве — в `moscow_general`;\n",
    "* по Санкт-Петербургу — в `spb_general`."
   ]
  },
  {
   "cell_type": "code",
   "execution_count": null,
   "metadata": {
    "id": "qeaFfM_P_Zcu"
   },
   "outputs": [],
   "source": [
    "# получение таблицы moscow_general из тех строк таблицы df, \n",
    "# для которых значение в столбце 'city' равно 'Moscow'\n",
    "\n",
    "moscow_general = df[df['city'] == 'Moscow']"
   ]
  },
  {
   "cell_type": "code",
   "execution_count": null,
   "metadata": {
    "id": "ORaVRKto_Zcu"
   },
   "outputs": [],
   "source": [
    "# получение таблицы spb_general из тех строк таблицы df,\n",
    "# для которых значение в столбце 'city' равно 'Saint-Petersburg'\n",
    "\n",
    "spb_general = df[df['city'] == 'Saint-Petersburg']"
   ]
  },
  {
   "cell_type": "markdown",
   "metadata": {
    "id": "MEJV-CX2_Zcu"
   },
   "source": [
    "Создайте функцию `genre_weekday()` с четырьмя параметрами:\n",
    "* таблица (датафрейм) с данными,\n",
    "* день недели,\n",
    "* начальная временная метка в формате 'hh:mm', \n",
    "* последняя временная метка в формате 'hh:mm'.\n",
    "\n",
    "Функция должна вернуть информацию о топ-10 жанров тех треков, которые прослушивали в указанный день, в промежутке между двумя отметками времени."
   ]
  },
  {
   "cell_type": "code",
   "execution_count": null,
   "metadata": {
    "id": "laJT9BYl_Zcu"
   },
   "outputs": [],
   "source": [
    "# Объявление функции genre_weekday() с параметрами table, day, time1, time2,\n",
    "# которая возвращает информацию о самых популярных жанрах в указанный день в\n",
    "# заданное время:\n",
    "# 1) в переменную genre_df сохраняются те строки переданного датафрейма table, для\n",
    "#    которых одновременно:\n",
    "#    - значение в столбце day равно значению аргумента day\n",
    "#    - значение в столбце time больше значения аргумента time1\n",
    "#    - значение в столбце time меньше значения аргумента time2\n",
    "#    Используйте последовательную фильтрацию с помощью логической индексации.\n",
    "# 2) сгруппировать датафрейм genre_df по столбцу genre, взять один из его\n",
    "#    столбцов и посчитать методом count() количество записей для каждого из\n",
    "#    присутствующих жанров, получившийся Series записать в переменную\n",
    "#    genre_df_count\n",
    "# 3) отсортировать genre_df_count по убыванию встречаемости и сохранить\n",
    "#    в переменную genre_df_sorted\n",
    "# 4) вернуть Series из 10 первых значений genre_df_sorted, это будут топ-10\n",
    "#    популярных жанров (в указанный день, в заданное время)\n",
    "\n",
    "def genre_weekday(table, day, time1, time2):\n",
    "    genre_df = table[table['day'] == day]\n",
    "    genre_df = genre_df[genre_df['time'] > time1]\n",
    "    genre_df = genre_df[genre_df['time'] < time2]\n",
    "    genre_df_count = genre_df.groupby('genre')['track'].count() #Serias type of data in result\n",
    "    genre_df_sorted = genre_df_count.sort_values(ascending=False) #Serias sorting\n",
    "    return genre_df_sorted.head(10)"
   ]
  },
  {
   "cell_type": "markdown",
   "metadata": {
    "id": "la2s2_PF_Zcu"
   },
   "source": [
    "Cравните результаты функции `genre_weekday()` для Москвы и Санкт-Петербурга в понедельник утром (с 7:00 до 11:00) и в пятницу вечером (с 17:00 до 23:00):"
   ]
  },
  {
   "cell_type": "code",
   "execution_count": null,
   "metadata": {
    "id": "yz7itPUQ_Zcu"
   },
   "outputs": [],
   "source": [
    "# вызов функции для утра понедельника в Москве (вместо df — таблица moscow_general)\n",
    "# объекты, хранящие время, являются строками и сравниваются как строки\n",
    "# пример вызова: genre_weekday(moscow_general, 'Monday', '07:00', '11:00')\n",
    "\n",
    "print(genre_weekday(moscow_general, 'Monday', '07:00', '11:00'))"
   ]
  },
  {
   "cell_type": "code",
   "execution_count": null,
   "metadata": {
    "id": "kwUcHPdy_Zcu"
   },
   "outputs": [],
   "source": [
    "# вызов функции для утра понедельника в Петербурге (вместо df — таблица spb_general)\n",
    "\n",
    "print(genre_weekday(spb_general, 'Monday', '07:00', '11:00'))"
   ]
  },
  {
   "cell_type": "code",
   "execution_count": null,
   "metadata": {
    "id": "EzXVRE1o_Zcu"
   },
   "outputs": [],
   "source": [
    "# вызов функции для вечера пятницы в Москве вечером (с 17:00 до 23:00):\n",
    "\n",
    "print(genre_weekday(moscow_general, 'Friday', '17:00', '23:00'))"
   ]
  },
  {
   "cell_type": "code",
   "execution_count": null,
   "metadata": {
    "id": "JZaEKu5v_Zcu"
   },
   "outputs": [],
   "source": [
    "# вызов функции для вечера пятницы в Петербурге вечером (с 17:00 до 23:00):\n",
    "\n",
    "print(genre_weekday(spb_general, 'Friday', '17:00', '23:00'))"
   ]
  },
  {
   "cell_type": "markdown",
   "metadata": {
    "id": "wrCe4MNX_Zcu"
   },
   "source": [
    "**Выводы**\n",
    "\n",
    "Если сравнить топ-10 жанров в понедельник утром, можно сделать такие выводы:\n",
    "\n",
    "1. В Москве и Петербурге слушают похожую музыку. Единственное отличие — в московский рейтинг вошёл жанр “world”, а в петербургский — джаз и классика.\n",
    "\n",
    "2. В Москве пропущенных значений оказалось так много, что значение `'unknown'` заняло десятое место среди самых популярных жанров. Значит, пропущенные значения занимают существенную долю в данных и угрожают достоверности исследования.\n",
    "\n",
    "Вечер пятницы не меняет эту картину. Некоторые жанры поднимаются немного выше, другие спускаются, но в целом топ-10 остаётся тем же самым.\n",
    "\n",
    "Таким образом, вторая гипотеза подтвердилась лишь частично:\n",
    "* Пользователи слушают похожую музыку в начале недели и в конце.\n",
    "* Разница между Москвой и Петербургом не слишком выражена. В Москве чаще слушают русскую популярную музыку, в Петербурге — джаз.\n",
    "\n",
    "Однако пропуски в данных ставят под сомнение этот результат. В Москве их так много, что рейтинг топ-10 мог бы выглядеть иначе, если бы не утерянные  данные о жанрах."
   ]
  },
  {
   "cell_type": "markdown",
   "metadata": {
    "id": "JolODAqr_Zcu"
   },
   "source": [
    "### Жанровые предпочтения в Москве и Петербурге\n",
    "\n",
    "Гипотеза: Петербург — столица рэпа, музыку этого жанра там слушают чаще, чем в Москве.  А Москва — город контрастов, в котором, тем не менее, преобладает поп-музыка."
   ]
  },
  {
   "cell_type": "markdown",
   "metadata": {
    "id": "DlegSvaT_Zcu"
   },
   "source": [
    "Сгруппируйте таблицу `moscow_general` по жанру и посчитайте прослушивания треков каждого жанра методом `count()`. Затем отсортируйте результат в порядке убывания и сохраните его в таблице `moscow_genres`."
   ]
  },
  {
   "cell_type": "code",
   "execution_count": null,
   "metadata": {
    "id": "r19lIPke_Zcu"
   },
   "outputs": [],
   "source": [
    "# одной строкой: группировка таблицы moscow_general по столбцу 'genre', \n",
    "# подсчёт числа значений 'genre' в этой группировке методом count(), \n",
    "# сортировка получившегося Series в порядке убывания и сохранение в moscow_genres\n",
    "\n",
    "moscow_general = moscow_general.groupby('genre')['genre'].count()\n",
    "moscow_genres = moscow_general.sort_values(ascending=False)"
   ]
  },
  {
   "cell_type": "markdown",
   "metadata": {
    "id": "6kMuomxTiIr8"
   },
   "source": [
    "Выведите на экран первые десять строк `moscow_genres`:"
   ]
  },
  {
   "cell_type": "code",
   "execution_count": null,
   "metadata": {
    "id": "WhCSooF8_Zcv"
   },
   "outputs": [],
   "source": [
    "# просмотр первых 10 строк moscow_genres\n",
    "\n",
    "print(moscow_genres.head(10))"
   ]
  },
  {
   "cell_type": "markdown",
   "metadata": {
    "id": "cnPG2vnN_Zcv"
   },
   "source": [
    "Теперь повторите то же и для Петербурга.\n",
    "\n",
    "Сгруппируйте таблицу `spb_general` по жанру. Посчитайте прослушивания треков каждого жанра. Результат отсортируйте в порядке убывания и сохраните в таблице `spb_genres`:\n"
   ]
  },
  {
   "cell_type": "code",
   "execution_count": null,
   "metadata": {
    "id": "gluLIpE7_Zcv"
   },
   "outputs": [],
   "source": [
    "# одной строкой: группировка таблицы spb_general по столбцу 'genre', \n",
    "# подсчёт числа значений 'genre' в этой группировке методом count(), \n",
    "# сортировка получившегося Series в порядке убывания и сохранение в spb_genres\n",
    "\n",
    "spb_general = spb_general.groupby('genre')['genre'].count()\n",
    "spb_genres = spb_general.sort_values(ascending=False)"
   ]
  },
  {
   "cell_type": "markdown",
   "metadata": {
    "id": "5Doha_ODgyQ8"
   },
   "source": [
    "Выведите на экран первые десять строк `spb_genres`:"
   ]
  },
  {
   "cell_type": "code",
   "execution_count": null,
   "metadata": {
    "id": "uaGJHjVU_Zcv"
   },
   "outputs": [],
   "source": [
    "# просмотр первых 10 строк spb_genres\n",
    "\n",
    "print(spb_genres.head(10))"
   ]
  },
  {
   "cell_type": "markdown",
   "metadata": {
    "id": "RY51YJYu_Zcv"
   },
   "source": [
    "**Выводы**"
   ]
  },
  {
   "cell_type": "markdown",
   "metadata": {
    "id": "nVhnJEm__Zcv"
   },
   "source": [
    "Гипотеза частично подтвердилась:\n",
    "* Поп-музыка — самый популярный жанр в Москве, как и предполагала гипотеза. Более того, в топ-10 жанров встречается близкий жанр — русская популярная музыка.\n",
    "* Вопреки ожиданиям, рэп одинаково популярен в Москве и Петербурге. \n"
   ]
  },
  {
   "cell_type": "markdown",
   "metadata": {
    "id": "ykKQ0N65_Zcv"
   },
   "source": [
    "## Итоги исследования"
   ]
  },
  {
   "cell_type": "markdown",
   "metadata": {
    "id": "tjUwbHb3_Zcv"
   },
   "source": [
    "Вы проверили три гипотезы и установили:\n",
    "\n",
    "1. День недели по-разному влияет на активность пользователей в Москве и Петербурге. \n",
    "\n",
    "Первая гипотеза полностью подтвердилась.\n",
    "\n",
    "2. Музыкальные предпочтения не сильно меняются в течение недели — будь то Москва или Петербург. Небольшие различия заметны в начале недели, по понедельникам:\n",
    "* в Москве слушают музыку жанра “world”,\n",
    "* в Петербурге — джаз и классику.\n",
    "\n",
    "Таким образом, вторая гипотеза подтвердилась лишь отчасти. Этот результат мог оказаться иным, если бы не пропуски в данных.\n",
    "\n",
    "3. Во вкусах пользователей Москвы и Петербурга больше общего чем различий. Вопреки ожиданиям, предпочтения жанров в Петербурге напоминают московские.\n",
    "\n",
    "Третья гипотеза не подтвердилась. Если различия в предпочтениях и существуют, на основной массе пользователей они незаметны.\n",
    "\n",
    "**На практике исследования содержат проверки статистических гипотез.**\n",
    "Из данных одного сервиса не всегда можно сделать вывод о всех жителях города.\n",
    "Проверки статистических гипотез покажут, насколько они достоверны, исходя из имеющихся данных. \n",
    "С методами проверок гипотез вы ещё познакомитесь в следующих темах."
   ]
  }
 ],
 "metadata": {
  "ExecuteTimeLog": [
   {
    "duration": 844,
    "start_time": "2021-12-29T07:05:02.288Z"
   },
   {
    "duration": 191,
    "start_time": "2021-12-29T07:08:04.995Z"
   },
   {
    "duration": 30,
    "start_time": "2021-12-29T07:08:31.112Z"
   },
   {
    "duration": 10,
    "start_time": "2021-12-29T07:08:42.349Z"
   },
   {
    "duration": 17,
    "start_time": "2021-12-29T07:08:48.893Z"
   },
   {
    "duration": 15,
    "start_time": "2021-12-29T07:09:34.809Z"
   },
   {
    "duration": 37,
    "start_time": "2021-12-29T07:11:20.723Z"
   },
   {
    "duration": 33,
    "start_time": "2021-12-29T07:12:08.872Z"
   },
   {
    "duration": 6,
    "start_time": "2021-12-29T07:18:27.616Z"
   },
   {
    "duration": 5,
    "start_time": "2021-12-29T07:20:31.601Z"
   },
   {
    "duration": 299,
    "start_time": "2021-12-29T07:24:30.453Z"
   },
   {
    "duration": 43,
    "start_time": "2021-12-29T07:24:59.649Z"
   },
   {
    "duration": 5,
    "start_time": "2021-12-29T07:25:46.847Z"
   },
   {
    "duration": 38,
    "start_time": "2021-12-29T07:26:10.366Z"
   },
   {
    "duration": 5,
    "start_time": "2021-12-29T07:26:12.639Z"
   },
   {
    "duration": 21,
    "start_time": "2021-12-29T07:26:30.847Z"
   },
   {
    "duration": 5,
    "start_time": "2021-12-29T07:26:37.431Z"
   },
   {
    "duration": 85,
    "start_time": "2021-12-29T07:27:45.215Z"
   },
   {
    "duration": 51,
    "start_time": "2021-12-29T07:28:09.969Z"
   },
   {
    "duration": 288,
    "start_time": "2021-12-29T07:28:20.663Z"
   },
   {
    "duration": 35,
    "start_time": "2021-12-29T07:28:28.191Z"
   },
   {
    "duration": 31,
    "start_time": "2021-12-29T07:28:34.071Z"
   },
   {
    "duration": 24,
    "start_time": "2021-12-29T07:37:43.141Z"
   },
   {
    "duration": 30,
    "start_time": "2021-12-29T07:37:58.184Z"
   },
   {
    "duration": 88,
    "start_time": "2021-12-29T07:38:39.152Z"
   },
   {
    "duration": 274,
    "start_time": "2021-12-29T07:43:53.668Z"
   },
   {
    "duration": 95,
    "start_time": "2021-12-29T07:45:04.393Z"
   },
   {
    "duration": 83,
    "start_time": "2021-12-29T07:45:30.805Z"
   },
   {
    "duration": 9,
    "start_time": "2021-12-29T07:47:00.337Z"
   },
   {
    "duration": 9,
    "start_time": "2021-12-29T07:47:13.921Z"
   },
   {
    "duration": 9,
    "start_time": "2021-12-29T07:47:21.876Z"
   },
   {
    "duration": 102,
    "start_time": "2021-12-29T07:48:23.189Z"
   },
   {
    "duration": 7,
    "start_time": "2021-12-29T07:48:49.188Z"
   },
   {
    "duration": 22,
    "start_time": "2021-12-29T07:49:04.373Z"
   },
   {
    "duration": 20,
    "start_time": "2021-12-29T07:49:47.862Z"
   },
   {
    "duration": 5,
    "start_time": "2021-12-29T07:58:05.845Z"
   },
   {
    "duration": 5,
    "start_time": "2021-12-29T08:04:05.317Z"
   },
   {
    "duration": 534,
    "start_time": "2021-12-29T08:04:07.719Z"
   },
   {
    "duration": 5,
    "start_time": "2021-12-29T08:04:22.662Z"
   },
   {
    "duration": 27,
    "start_time": "2021-12-29T08:04:30.270Z"
   },
   {
    "duration": 5,
    "start_time": "2021-12-29T08:04:53.678Z"
   },
   {
    "duration": 601,
    "start_time": "2021-12-29T08:05:00.053Z"
   },
   {
    "duration": 5,
    "start_time": "2021-12-29T08:05:23.639Z"
   },
   {
    "duration": 23,
    "start_time": "2021-12-29T08:05:26.078Z"
   },
   {
    "duration": 17,
    "start_time": "2021-12-29T08:06:08.543Z"
   },
   {
    "duration": 15,
    "start_time": "2021-12-29T08:31:30.710Z"
   },
   {
    "duration": 16,
    "start_time": "2021-12-29T08:32:50.185Z"
   },
   {
    "duration": 3076,
    "start_time": "2021-12-29T08:33:50.768Z"
   },
   {
    "duration": 15,
    "start_time": "2021-12-29T08:33:55.058Z"
   },
   {
    "duration": 84,
    "start_time": "2021-12-29T08:49:08.440Z"
   },
   {
    "duration": 87,
    "start_time": "2021-12-29T08:55:14.299Z"
   },
   {
    "duration": 4,
    "start_time": "2021-12-29T08:55:25.818Z"
   },
   {
    "duration": 286,
    "start_time": "2021-12-29T08:57:57.762Z"
   },
   {
    "duration": 24,
    "start_time": "2021-12-29T08:58:15.099Z"
   },
   {
    "duration": 21,
    "start_time": "2021-12-29T08:59:47.007Z"
   },
   {
    "duration": 20,
    "start_time": "2021-12-29T09:00:58.259Z"
   },
   {
    "duration": 22,
    "start_time": "2021-12-29T09:01:00.114Z"
   },
   {
    "duration": 21,
    "start_time": "2021-12-29T09:01:04.817Z"
   },
   {
    "duration": 20,
    "start_time": "2021-12-29T09:04:47.056Z"
   },
   {
    "duration": 12,
    "start_time": "2021-12-29T09:07:38.353Z"
   },
   {
    "duration": 15,
    "start_time": "2021-12-29T09:25:42.931Z"
   },
   {
    "duration": 15,
    "start_time": "2021-12-29T09:26:20.636Z"
   },
   {
    "duration": 4,
    "start_time": "2021-12-29T09:26:47.313Z"
   },
   {
    "duration": 195,
    "start_time": "2021-12-29T09:26:47.320Z"
   },
   {
    "duration": 15,
    "start_time": "2021-12-29T09:26:47.519Z"
   },
   {
    "duration": 52,
    "start_time": "2021-12-29T09:26:47.537Z"
   },
   {
    "duration": 4,
    "start_time": "2021-12-29T09:26:47.591Z"
   },
   {
    "duration": 25,
    "start_time": "2021-12-29T09:26:47.598Z"
   },
   {
    "duration": 5,
    "start_time": "2021-12-29T09:26:47.625Z"
   },
   {
    "duration": 61,
    "start_time": "2021-12-29T09:26:47.634Z"
   },
   {
    "duration": 30,
    "start_time": "2021-12-29T09:26:47.698Z"
   },
   {
    "duration": 45,
    "start_time": "2021-12-29T09:26:47.731Z"
   },
   {
    "duration": 101,
    "start_time": "2021-12-29T09:26:47.778Z"
   },
   {
    "duration": 111,
    "start_time": "2021-12-29T09:26:47.881Z"
   },
   {
    "duration": 90,
    "start_time": "2021-12-29T09:26:47.994Z"
   },
   {
    "duration": 14,
    "start_time": "2021-12-29T09:26:48.086Z"
   },
   {
    "duration": 5,
    "start_time": "2021-12-29T09:26:48.102Z"
   },
   {
    "duration": 29,
    "start_time": "2021-12-29T09:26:48.109Z"
   },
   {
    "duration": 39,
    "start_time": "2021-12-29T09:26:48.141Z"
   },
   {
    "duration": 15,
    "start_time": "2021-12-29T09:26:48.183Z"
   },
   {
    "duration": 15,
    "start_time": "2021-12-29T09:26:48.201Z"
   },
   {
    "duration": 5,
    "start_time": "2021-12-29T09:26:48.218Z"
   },
   {
    "duration": 59,
    "start_time": "2021-12-29T09:26:48.225Z"
   },
   {
    "duration": 19,
    "start_time": "2021-12-29T09:26:48.287Z"
   },
   {
    "duration": 20,
    "start_time": "2021-12-29T09:26:48.310Z"
   },
   {
    "duration": 50,
    "start_time": "2021-12-29T09:26:48.333Z"
   },
   {
    "duration": 22,
    "start_time": "2021-12-29T09:26:48.386Z"
   },
   {
    "duration": 20,
    "start_time": "2021-12-29T09:26:48.410Z"
   },
   {
    "duration": 222,
    "start_time": "2021-12-29T12:41:26.445Z"
   },
   {
    "duration": 568,
    "start_time": "2021-12-29T12:41:48.756Z"
   },
   {
    "duration": 131,
    "start_time": "2021-12-29T12:41:49.326Z"
   },
   {
    "duration": 15,
    "start_time": "2021-12-29T12:41:49.460Z"
   },
   {
    "duration": 34,
    "start_time": "2021-12-29T12:41:49.477Z"
   },
   {
    "duration": 3,
    "start_time": "2021-12-29T12:41:49.513Z"
   },
   {
    "duration": 28,
    "start_time": "2021-12-29T12:41:49.517Z"
   },
   {
    "duration": 8,
    "start_time": "2021-12-29T12:41:49.547Z"
   },
   {
    "duration": 36,
    "start_time": "2021-12-29T12:41:49.558Z"
   },
   {
    "duration": 16,
    "start_time": "2021-12-29T12:41:49.596Z"
   },
   {
    "duration": 27,
    "start_time": "2021-12-29T12:41:49.613Z"
   },
   {
    "duration": 73,
    "start_time": "2021-12-29T12:41:49.642Z"
   },
   {
    "duration": 77,
    "start_time": "2021-12-29T12:41:49.717Z"
   },
   {
    "duration": 51,
    "start_time": "2021-12-29T12:41:49.795Z"
   },
   {
    "duration": 10,
    "start_time": "2021-12-29T12:41:49.848Z"
   },
   {
    "duration": 4,
    "start_time": "2021-12-29T12:41:49.859Z"
   },
   {
    "duration": 36,
    "start_time": "2021-12-29T12:41:49.864Z"
   },
   {
    "duration": 10,
    "start_time": "2021-12-29T12:41:49.902Z"
   },
   {
    "duration": 10,
    "start_time": "2021-12-29T12:41:49.913Z"
   },
   {
    "duration": 11,
    "start_time": "2021-12-29T12:41:55.630Z"
   },
   {
    "duration": 3,
    "start_time": "2021-12-29T12:42:20.339Z"
   },
   {
    "duration": 145,
    "start_time": "2021-12-29T12:42:20.343Z"
   },
   {
    "duration": 11,
    "start_time": "2021-12-29T12:42:20.492Z"
   },
   {
    "duration": 24,
    "start_time": "2021-12-29T12:42:20.505Z"
   },
   {
    "duration": 3,
    "start_time": "2021-12-29T12:42:20.531Z"
   },
   {
    "duration": 23,
    "start_time": "2021-12-29T12:42:20.536Z"
   },
   {
    "duration": 30,
    "start_time": "2021-12-29T12:42:20.561Z"
   },
   {
    "duration": 22,
    "start_time": "2021-12-29T12:42:20.594Z"
   },
   {
    "duration": 30,
    "start_time": "2021-12-29T12:42:20.617Z"
   },
   {
    "duration": 27,
    "start_time": "2021-12-29T12:42:20.649Z"
   },
   {
    "duration": 63,
    "start_time": "2021-12-29T12:42:20.678Z"
   },
   {
    "duration": 77,
    "start_time": "2021-12-29T12:42:20.742Z"
   },
   {
    "duration": 49,
    "start_time": "2021-12-29T12:42:20.820Z"
   },
   {
    "duration": 24,
    "start_time": "2021-12-29T12:42:20.871Z"
   },
   {
    "duration": 5,
    "start_time": "2021-12-29T12:42:20.897Z"
   },
   {
    "duration": 15,
    "start_time": "2021-12-29T12:42:20.904Z"
   },
   {
    "duration": 9,
    "start_time": "2021-12-29T12:42:20.921Z"
   },
   {
    "duration": 11,
    "start_time": "2021-12-29T12:42:20.931Z"
   },
   {
    "duration": 3,
    "start_time": "2021-12-29T12:43:01.960Z"
   },
   {
    "duration": 3,
    "start_time": "2021-12-29T12:43:11.307Z"
   },
   {
    "duration": 159,
    "start_time": "2021-12-29T12:43:11.312Z"
   },
   {
    "duration": 20,
    "start_time": "2021-12-29T12:43:11.473Z"
   },
   {
    "duration": 26,
    "start_time": "2021-12-29T12:43:11.495Z"
   },
   {
    "duration": 3,
    "start_time": "2021-12-29T12:43:11.523Z"
   },
   {
    "duration": 27,
    "start_time": "2021-12-29T12:43:11.528Z"
   },
   {
    "duration": 3,
    "start_time": "2021-12-29T12:43:11.592Z"
   },
   {
    "duration": 32,
    "start_time": "2021-12-29T12:43:11.598Z"
   },
   {
    "duration": 17,
    "start_time": "2021-12-29T12:43:11.633Z"
   },
   {
    "duration": 39,
    "start_time": "2021-12-29T12:43:11.652Z"
   },
   {
    "duration": 57,
    "start_time": "2021-12-29T12:43:11.693Z"
   },
   {
    "duration": 93,
    "start_time": "2021-12-29T12:43:11.752Z"
   },
   {
    "duration": 60,
    "start_time": "2021-12-29T12:43:11.846Z"
   },
   {
    "duration": 11,
    "start_time": "2021-12-29T12:43:11.908Z"
   },
   {
    "duration": 4,
    "start_time": "2021-12-29T12:43:11.921Z"
   },
   {
    "duration": 18,
    "start_time": "2021-12-29T12:43:11.927Z"
   },
   {
    "duration": 9,
    "start_time": "2021-12-29T12:43:11.947Z"
   },
   {
    "duration": 35,
    "start_time": "2021-12-29T12:43:11.958Z"
   },
   {
    "duration": 11,
    "start_time": "2021-12-29T12:43:11.995Z"
   },
   {
    "duration": 3,
    "start_time": "2021-12-29T12:43:12.008Z"
   },
   {
    "duration": 21,
    "start_time": "2021-12-29T12:43:12.012Z"
   },
   {
    "duration": 14,
    "start_time": "2021-12-29T12:43:12.035Z"
   },
   {
    "duration": 49,
    "start_time": "2021-12-29T12:43:12.052Z"
   },
   {
    "duration": 15,
    "start_time": "2021-12-29T12:43:12.103Z"
   },
   {
    "duration": 18,
    "start_time": "2021-12-29T12:43:12.120Z"
   },
   {
    "duration": 15,
    "start_time": "2021-12-29T12:43:12.140Z"
   },
   {
    "duration": 3,
    "start_time": "2021-12-29T12:43:21.943Z"
   },
   {
    "duration": 149,
    "start_time": "2021-12-29T12:43:21.948Z"
   },
   {
    "duration": 11,
    "start_time": "2021-12-29T12:43:22.099Z"
   },
   {
    "duration": 25,
    "start_time": "2021-12-29T12:43:22.112Z"
   },
   {
    "duration": 3,
    "start_time": "2021-12-29T12:43:22.139Z"
   },
   {
    "duration": 19,
    "start_time": "2021-12-29T12:43:22.144Z"
   },
   {
    "duration": 27,
    "start_time": "2021-12-29T12:43:22.165Z"
   },
   {
    "duration": 23,
    "start_time": "2021-12-29T12:43:22.194Z"
   },
   {
    "duration": 18,
    "start_time": "2021-12-29T12:43:22.220Z"
   },
   {
    "duration": 23,
    "start_time": "2021-12-29T12:43:22.240Z"
   },
   {
    "duration": 59,
    "start_time": "2021-12-29T12:43:22.292Z"
   },
   {
    "duration": 86,
    "start_time": "2021-12-29T12:43:22.353Z"
   },
   {
    "duration": 63,
    "start_time": "2021-12-29T12:43:22.440Z"
   },
   {
    "duration": 14,
    "start_time": "2021-12-29T12:43:22.505Z"
   },
   {
    "duration": 4,
    "start_time": "2021-12-29T12:43:22.520Z"
   },
   {
    "duration": 18,
    "start_time": "2021-12-29T12:43:22.526Z"
   },
   {
    "duration": 9,
    "start_time": "2021-12-29T12:43:22.546Z"
   },
   {
    "duration": 40,
    "start_time": "2021-12-29T12:43:22.557Z"
   },
   {
    "duration": 11,
    "start_time": "2021-12-29T12:43:22.599Z"
   },
   {
    "duration": 4,
    "start_time": "2021-12-29T12:43:22.612Z"
   },
   {
    "duration": 18,
    "start_time": "2021-12-29T12:43:22.618Z"
   },
   {
    "duration": 14,
    "start_time": "2021-12-29T12:43:22.637Z"
   },
   {
    "duration": 43,
    "start_time": "2021-12-29T12:43:22.653Z"
   },
   {
    "duration": 16,
    "start_time": "2021-12-29T12:43:22.698Z"
   },
   {
    "duration": 19,
    "start_time": "2021-12-29T12:43:22.715Z"
   },
   {
    "duration": 16,
    "start_time": "2021-12-29T12:43:22.736Z"
   },
   {
    "duration": 12,
    "start_time": "2021-12-29T13:00:53.495Z"
   },
   {
    "duration": 14,
    "start_time": "2021-12-29T13:01:07.415Z"
   },
   {
    "duration": 10,
    "start_time": "2021-12-29T13:01:44.184Z"
   },
   {
    "duration": 61,
    "start_time": "2021-12-29T13:13:29.859Z"
   },
   {
    "duration": 4,
    "start_time": "2021-12-29T13:14:35.208Z"
   },
   {
    "duration": 20,
    "start_time": "2021-12-29T13:15:54.496Z"
   },
   {
    "duration": 19,
    "start_time": "2021-12-29T13:16:04.339Z"
   },
   {
    "duration": 14,
    "start_time": "2021-12-29T13:17:24.032Z"
   },
   {
    "duration": 17,
    "start_time": "2021-12-29T13:18:43.473Z"
   },
   {
    "duration": 17,
    "start_time": "2021-12-29T13:19:36.577Z"
   },
   {
    "duration": 12,
    "start_time": "2021-12-29T13:20:16.137Z"
   },
   {
    "duration": 11,
    "start_time": "2021-12-29T13:24:46.706Z"
   },
   {
    "duration": 4,
    "start_time": "2021-12-29T13:25:14.689Z"
   },
   {
    "duration": 7,
    "start_time": "2021-12-29T13:26:27.473Z"
   },
   {
    "duration": 4,
    "start_time": "2021-12-29T13:26:39.860Z"
   },
   {
    "duration": 2,
    "start_time": "2021-12-29T13:27:12.527Z"
   },
   {
    "duration": 162,
    "start_time": "2021-12-29T13:27:12.531Z"
   },
   {
    "duration": 10,
    "start_time": "2021-12-29T13:27:12.695Z"
   },
   {
    "duration": 29,
    "start_time": "2021-12-29T13:27:12.707Z"
   },
   {
    "duration": 3,
    "start_time": "2021-12-29T13:27:12.738Z"
   },
   {
    "duration": 49,
    "start_time": "2021-12-29T13:27:12.743Z"
   },
   {
    "duration": 4,
    "start_time": "2021-12-29T13:27:12.794Z"
   },
   {
    "duration": 27,
    "start_time": "2021-12-29T13:27:12.800Z"
   },
   {
    "duration": 23,
    "start_time": "2021-12-29T13:27:12.830Z"
   },
   {
    "duration": 36,
    "start_time": "2021-12-29T13:27:12.856Z"
   },
   {
    "duration": 54,
    "start_time": "2021-12-29T13:27:12.894Z"
   },
   {
    "duration": 81,
    "start_time": "2021-12-29T13:27:12.950Z"
   },
   {
    "duration": 59,
    "start_time": "2021-12-29T13:27:13.033Z"
   },
   {
    "duration": 9,
    "start_time": "2021-12-29T13:27:13.094Z"
   },
   {
    "duration": 2,
    "start_time": "2021-12-29T13:27:13.105Z"
   },
   {
    "duration": 17,
    "start_time": "2021-12-29T13:27:13.109Z"
   },
   {
    "duration": 9,
    "start_time": "2021-12-29T13:27:13.127Z"
   },
   {
    "duration": 10,
    "start_time": "2021-12-29T13:27:13.137Z"
   },
   {
    "duration": 42,
    "start_time": "2021-12-29T13:27:13.149Z"
   },
   {
    "duration": 3,
    "start_time": "2021-12-29T13:27:13.194Z"
   },
   {
    "duration": 22,
    "start_time": "2021-12-29T13:27:13.199Z"
   },
   {
    "duration": 14,
    "start_time": "2021-12-29T13:27:13.223Z"
   },
   {
    "duration": 15,
    "start_time": "2021-12-29T13:27:13.239Z"
   },
   {
    "duration": 38,
    "start_time": "2021-12-29T13:27:13.256Z"
   },
   {
    "duration": 17,
    "start_time": "2021-12-29T13:27:13.296Z"
   },
   {
    "duration": 15,
    "start_time": "2021-12-29T13:27:13.315Z"
   },
   {
    "duration": 8,
    "start_time": "2021-12-29T13:27:13.334Z"
   },
   {
    "duration": 47,
    "start_time": "2021-12-29T13:27:13.344Z"
   },
   {
    "duration": 11,
    "start_time": "2021-12-29T13:27:13.393Z"
   },
   {
    "duration": 4,
    "start_time": "2021-12-29T13:27:13.406Z"
   },
   {
    "duration": 23,
    "start_time": "2021-12-29T13:27:13.411Z"
   },
   {
    "duration": 11,
    "start_time": "2021-12-29T13:27:13.436Z"
   },
   {
    "duration": 15,
    "start_time": "2021-12-29T13:27:13.449Z"
   },
   {
    "duration": 14,
    "start_time": "2021-12-29T13:27:13.492Z"
   },
   {
    "duration": 11,
    "start_time": "2021-12-29T13:27:13.507Z"
   },
   {
    "duration": 4,
    "start_time": "2021-12-29T13:27:13.519Z"
   },
   {
    "duration": 10,
    "start_time": "2021-12-29T13:27:13.524Z"
   },
   {
    "duration": 828,
    "start_time": "2021-12-30T12:35:16.772Z"
   },
   {
    "duration": 208,
    "start_time": "2021-12-30T12:35:17.602Z"
   },
   {
    "duration": 27,
    "start_time": "2021-12-30T12:35:17.812Z"
   },
   {
    "duration": 59,
    "start_time": "2021-12-30T12:35:17.842Z"
   },
   {
    "duration": 4,
    "start_time": "2021-12-30T12:35:17.905Z"
   },
   {
    "duration": 69,
    "start_time": "2021-12-30T12:35:17.912Z"
   },
   {
    "duration": 6,
    "start_time": "2021-12-30T12:35:17.984Z"
   },
   {
    "duration": 38,
    "start_time": "2021-12-30T12:35:17.992Z"
   },
   {
    "duration": 44,
    "start_time": "2021-12-30T12:35:18.035Z"
   },
   {
    "duration": 38,
    "start_time": "2021-12-30T12:35:18.084Z"
   },
   {
    "duration": 121,
    "start_time": "2021-12-30T12:35:18.125Z"
   },
   {
    "duration": 132,
    "start_time": "2021-12-30T12:35:18.249Z"
   },
   {
    "duration": 100,
    "start_time": "2021-12-30T12:35:18.384Z"
   },
   {
    "duration": 18,
    "start_time": "2021-12-30T12:35:18.487Z"
   },
   {
    "duration": 6,
    "start_time": "2021-12-30T12:35:18.508Z"
   },
   {
    "duration": 58,
    "start_time": "2021-12-30T12:35:18.517Z"
   },
   {
    "duration": 15,
    "start_time": "2021-12-30T12:35:18.579Z"
   },
   {
    "duration": 15,
    "start_time": "2021-12-30T12:35:18.596Z"
   },
   {
    "duration": 14,
    "start_time": "2021-12-30T12:35:18.613Z"
   },
   {
    "duration": 5,
    "start_time": "2021-12-30T12:35:18.666Z"
   },
   {
    "duration": 29,
    "start_time": "2021-12-30T12:35:18.674Z"
   },
   {
    "duration": 19,
    "start_time": "2021-12-30T12:35:18.706Z"
   },
   {
    "duration": 51,
    "start_time": "2021-12-30T12:35:18.728Z"
   },
   {
    "duration": 18,
    "start_time": "2021-12-30T12:35:18.783Z"
   },
   {
    "duration": 22,
    "start_time": "2021-12-30T12:35:18.804Z"
   },
   {
    "duration": 68,
    "start_time": "2021-12-30T12:35:18.829Z"
   },
   {
    "duration": 13,
    "start_time": "2021-12-30T12:35:18.908Z"
   },
   {
    "duration": 52,
    "start_time": "2021-12-30T12:35:18.924Z"
   },
   {
    "duration": 13,
    "start_time": "2021-12-30T12:35:18.980Z"
   },
   {
    "duration": 6,
    "start_time": "2021-12-30T12:35:18.996Z"
   },
   {
    "duration": 32,
    "start_time": "2021-12-30T12:35:19.005Z"
   },
   {
    "duration": 41,
    "start_time": "2021-12-30T12:35:19.039Z"
   },
   {
    "duration": 27,
    "start_time": "2021-12-30T12:35:19.083Z"
   },
   {
    "duration": 15,
    "start_time": "2021-12-30T12:35:19.112Z"
   },
   {
    "duration": 53,
    "start_time": "2021-12-30T12:35:19.130Z"
   },
   {
    "duration": 5,
    "start_time": "2021-12-30T12:35:19.185Z"
   },
   {
    "duration": 22,
    "start_time": "2021-12-30T12:35:19.193Z"
   },
   {
    "duration": 12,
    "start_time": "2021-12-30T12:35:19.217Z"
   },
   {
    "duration": 4,
    "start_time": "2021-12-30T12:38:03.244Z"
   },
   {
    "duration": 27,
    "start_time": "2021-12-30T12:38:04.267Z"
   },
   {
    "duration": 5,
    "start_time": "2021-12-30T12:38:12.035Z"
   },
   {
    "duration": 28,
    "start_time": "2021-12-30T12:38:13.086Z"
   },
   {
    "duration": 4,
    "start_time": "2021-12-30T12:38:19.796Z"
   },
   {
    "duration": 21,
    "start_time": "2021-12-30T12:38:55.317Z"
   },
   {
    "duration": 337,
    "start_time": "2021-12-30T15:03:34.584Z"
   },
   {
    "duration": 720,
    "start_time": "2021-12-30T15:03:42.549Z"
   },
   {
    "duration": 184,
    "start_time": "2021-12-30T15:03:43.272Z"
   },
   {
    "duration": 25,
    "start_time": "2021-12-30T15:03:43.458Z"
   },
   {
    "duration": 48,
    "start_time": "2021-12-30T15:03:43.486Z"
   },
   {
    "duration": 10,
    "start_time": "2021-12-30T15:03:43.536Z"
   },
   {
    "duration": 10,
    "start_time": "2021-12-30T15:23:27.664Z"
   },
   {
    "duration": 16,
    "start_time": "2021-12-30T15:23:35.273Z"
   },
   {
    "duration": 85,
    "start_time": "2021-12-30T15:25:13.272Z"
   },
   {
    "duration": 4,
    "start_time": "2021-12-30T15:28:30.991Z"
   },
   {
    "duration": 220,
    "start_time": "2021-12-30T15:28:30.997Z"
   },
   {
    "duration": 15,
    "start_time": "2021-12-30T15:28:31.219Z"
   },
   {
    "duration": 39,
    "start_time": "2021-12-30T15:28:31.237Z"
   },
   {
    "duration": 5,
    "start_time": "2021-12-30T15:28:31.279Z"
   },
   {
    "duration": 59,
    "start_time": "2021-12-30T15:28:31.287Z"
   },
   {
    "duration": 4,
    "start_time": "2021-12-30T15:28:31.349Z"
   },
   {
    "duration": 60,
    "start_time": "2021-12-30T15:28:31.357Z"
   },
   {
    "duration": 23,
    "start_time": "2021-12-30T15:28:31.420Z"
   },
   {
    "duration": 30,
    "start_time": "2021-12-30T15:28:31.445Z"
   },
   {
    "duration": 119,
    "start_time": "2021-12-30T15:28:31.478Z"
   },
   {
    "duration": 102,
    "start_time": "2021-12-30T15:28:31.599Z"
   },
   {
    "duration": 79,
    "start_time": "2021-12-30T15:28:31.703Z"
   },
   {
    "duration": 34,
    "start_time": "2021-12-30T15:28:31.784Z"
   },
   {
    "duration": 4,
    "start_time": "2021-12-30T15:28:31.821Z"
   },
   {
    "duration": 23,
    "start_time": "2021-12-30T15:28:31.827Z"
   },
   {
    "duration": 13,
    "start_time": "2021-12-30T15:28:31.852Z"
   },
   {
    "duration": 51,
    "start_time": "2021-12-30T15:28:31.867Z"
   },
   {
    "duration": 14,
    "start_time": "2021-12-30T15:28:31.921Z"
   },
   {
    "duration": 5,
    "start_time": "2021-12-30T15:28:31.937Z"
   },
   {
    "duration": 24,
    "start_time": "2021-12-30T15:28:31.945Z"
   },
   {
    "duration": 54,
    "start_time": "2021-12-30T15:28:31.972Z"
   },
   {
    "duration": 27,
    "start_time": "2021-12-30T15:28:32.032Z"
   },
   {
    "duration": 24,
    "start_time": "2021-12-30T15:28:32.062Z"
   },
   {
    "duration": 24,
    "start_time": "2021-12-30T15:28:32.118Z"
   },
   {
    "duration": 4,
    "start_time": "2021-12-30T15:29:10.080Z"
   },
   {
    "duration": 193,
    "start_time": "2021-12-30T15:29:10.086Z"
   },
   {
    "duration": 15,
    "start_time": "2021-12-30T15:29:10.282Z"
   },
   {
    "duration": 47,
    "start_time": "2021-12-30T15:29:10.300Z"
   },
   {
    "duration": 6,
    "start_time": "2021-12-30T15:29:10.350Z"
   },
   {
    "duration": 28,
    "start_time": "2021-12-30T15:29:10.358Z"
   },
   {
    "duration": 30,
    "start_time": "2021-12-30T15:29:10.389Z"
   },
   {
    "duration": 29,
    "start_time": "2021-12-30T15:29:10.423Z"
   },
   {
    "duration": 22,
    "start_time": "2021-12-30T15:29:10.455Z"
   },
   {
    "duration": 61,
    "start_time": "2021-12-30T15:29:10.480Z"
   },
   {
    "duration": 100,
    "start_time": "2021-12-30T15:29:10.543Z"
   },
   {
    "duration": 100,
    "start_time": "2021-12-30T15:29:10.645Z"
   },
   {
    "duration": 83,
    "start_time": "2021-12-30T15:29:10.748Z"
   },
   {
    "duration": 13,
    "start_time": "2021-12-30T15:29:10.834Z"
   },
   {
    "duration": 4,
    "start_time": "2021-12-30T15:29:10.849Z"
   },
   {
    "duration": 22,
    "start_time": "2021-12-30T15:29:10.855Z"
   },
   {
    "duration": 42,
    "start_time": "2021-12-30T15:29:10.879Z"
   },
   {
    "duration": 14,
    "start_time": "2021-12-30T15:29:10.923Z"
   },
   {
    "duration": 15,
    "start_time": "2021-12-30T15:29:10.939Z"
   },
   {
    "duration": 109,
    "start_time": "2021-12-30T15:29:10.956Z"
   },
   {
    "duration": -24,
    "start_time": "2021-12-30T15:29:11.093Z"
   },
   {
    "duration": -26,
    "start_time": "2021-12-30T15:29:11.097Z"
   },
   {
    "duration": -32,
    "start_time": "2021-12-30T15:29:11.105Z"
   },
   {
    "duration": -33,
    "start_time": "2021-12-30T15:29:11.109Z"
   },
   {
    "duration": -33,
    "start_time": "2021-12-30T15:29:11.111Z"
   },
   {
    "duration": 3,
    "start_time": "2021-12-30T15:31:52.131Z"
   },
   {
    "duration": 199,
    "start_time": "2021-12-30T15:31:52.137Z"
   },
   {
    "duration": 16,
    "start_time": "2021-12-30T15:31:52.340Z"
   },
   {
    "duration": 34,
    "start_time": "2021-12-30T15:31:52.358Z"
   },
   {
    "duration": 26,
    "start_time": "2021-12-30T15:31:52.394Z"
   },
   {
    "duration": 23,
    "start_time": "2021-12-30T15:31:52.422Z"
   },
   {
    "duration": 5,
    "start_time": "2021-12-30T15:31:52.447Z"
   },
   {
    "duration": 64,
    "start_time": "2021-12-30T15:31:52.454Z"
   },
   {
    "duration": 22,
    "start_time": "2021-12-30T15:31:52.522Z"
   },
   {
    "duration": 29,
    "start_time": "2021-12-30T15:31:52.547Z"
   },
   {
    "duration": 109,
    "start_time": "2021-12-30T15:31:52.578Z"
   },
   {
    "duration": 107,
    "start_time": "2021-12-30T15:31:52.689Z"
   },
   {
    "duration": 81,
    "start_time": "2021-12-30T15:31:52.799Z"
   },
   {
    "duration": 14,
    "start_time": "2021-12-30T15:31:52.882Z"
   },
   {
    "duration": 21,
    "start_time": "2021-12-30T15:31:52.898Z"
   },
   {
    "duration": 23,
    "start_time": "2021-12-30T15:31:52.922Z"
   },
   {
    "duration": 13,
    "start_time": "2021-12-30T15:31:52.947Z"
   },
   {
    "duration": 14,
    "start_time": "2021-12-30T15:31:52.963Z"
   },
   {
    "duration": 51,
    "start_time": "2021-12-30T15:31:52.979Z"
   },
   {
    "duration": 144,
    "start_time": "2021-12-30T15:31:53.033Z"
   },
   {
    "duration": -26,
    "start_time": "2021-12-30T15:31:53.207Z"
   },
   {
    "duration": -27,
    "start_time": "2021-12-30T15:31:53.209Z"
   },
   {
    "duration": -30,
    "start_time": "2021-12-30T15:31:53.215Z"
   },
   {
    "duration": -36,
    "start_time": "2021-12-30T15:31:53.223Z"
   },
   {
    "duration": -36,
    "start_time": "2021-12-30T15:31:53.225Z"
   },
   {
    "duration": -37,
    "start_time": "2021-12-30T15:31:53.228Z"
   },
   {
    "duration": 3,
    "start_time": "2021-12-30T15:32:06.785Z"
   },
   {
    "duration": 198,
    "start_time": "2021-12-30T15:32:06.791Z"
   },
   {
    "duration": 16,
    "start_time": "2021-12-30T15:32:06.991Z"
   },
   {
    "duration": 38,
    "start_time": "2021-12-30T15:32:07.009Z"
   },
   {
    "duration": 7,
    "start_time": "2021-12-30T15:32:07.050Z"
   },
   {
    "duration": 57,
    "start_time": "2021-12-30T15:32:07.060Z"
   },
   {
    "duration": 5,
    "start_time": "2021-12-30T15:32:07.119Z"
   },
   {
    "duration": 41,
    "start_time": "2021-12-30T15:32:07.126Z"
   },
   {
    "duration": 46,
    "start_time": "2021-12-30T15:32:07.171Z"
   },
   {
    "duration": 29,
    "start_time": "2021-12-30T15:32:07.220Z"
   },
   {
    "duration": 110,
    "start_time": "2021-12-30T15:32:07.252Z"
   },
   {
    "duration": 98,
    "start_time": "2021-12-30T15:32:07.364Z"
   },
   {
    "duration": 78,
    "start_time": "2021-12-30T15:32:07.465Z"
   },
   {
    "duration": 13,
    "start_time": "2021-12-30T15:32:07.545Z"
   },
   {
    "duration": 5,
    "start_time": "2021-12-30T15:32:07.560Z"
   },
   {
    "duration": 23,
    "start_time": "2021-12-30T15:32:07.567Z"
   },
   {
    "duration": 25,
    "start_time": "2021-12-30T15:32:07.592Z"
   },
   {
    "duration": 15,
    "start_time": "2021-12-30T15:32:07.620Z"
   },
   {
    "duration": 14,
    "start_time": "2021-12-30T15:32:07.637Z"
   },
   {
    "duration": 136,
    "start_time": "2021-12-30T15:32:07.654Z"
   },
   {
    "duration": -685,
    "start_time": "2021-12-30T15:32:08.477Z"
   },
   {
    "duration": -686,
    "start_time": "2021-12-30T15:32:08.480Z"
   },
   {
    "duration": -694,
    "start_time": "2021-12-30T15:32:08.489Z"
   },
   {
    "duration": -696,
    "start_time": "2021-12-30T15:32:08.493Z"
   },
   {
    "duration": -699,
    "start_time": "2021-12-30T15:32:08.497Z"
   },
   {
    "duration": -702,
    "start_time": "2021-12-30T15:32:08.501Z"
   },
   {
    "duration": -702,
    "start_time": "2021-12-30T15:32:08.503Z"
   },
   {
    "duration": 12,
    "start_time": "2021-12-30T15:32:27.625Z"
   },
   {
    "duration": 105,
    "start_time": "2021-12-30T15:33:50.005Z"
   },
   {
    "duration": 739,
    "start_time": "2021-12-30T21:48:46.150Z"
   },
   {
    "duration": 186,
    "start_time": "2021-12-30T21:48:46.891Z"
   },
   {
    "duration": 25,
    "start_time": "2021-12-30T21:48:47.080Z"
   },
   {
    "duration": 32,
    "start_time": "2021-12-30T21:48:47.117Z"
   },
   {
    "duration": 6,
    "start_time": "2021-12-30T21:48:47.152Z"
   },
   {
    "duration": 31,
    "start_time": "2021-12-30T21:48:47.160Z"
   },
   {
    "duration": 5,
    "start_time": "2021-12-30T21:48:47.218Z"
   },
   {
    "duration": 30,
    "start_time": "2021-12-30T21:48:47.227Z"
   },
   {
    "duration": 25,
    "start_time": "2021-12-30T21:48:47.259Z"
   },
   {
    "duration": 59,
    "start_time": "2021-12-30T21:48:47.287Z"
   },
   {
    "duration": 116,
    "start_time": "2021-12-30T21:48:47.349Z"
   },
   {
    "duration": 115,
    "start_time": "2021-12-30T21:48:47.467Z"
   },
   {
    "duration": 122,
    "start_time": "2021-12-30T21:48:47.584Z"
   },
   {
    "duration": 31,
    "start_time": "2021-12-30T21:48:47.709Z"
   },
   {
    "duration": 6,
    "start_time": "2021-12-30T21:48:47.744Z"
   },
   {
    "duration": 63,
    "start_time": "2021-12-30T21:48:47.754Z"
   },
   {
    "duration": 14,
    "start_time": "2021-12-30T21:48:47.821Z"
   },
   {
    "duration": 14,
    "start_time": "2021-12-30T21:48:47.838Z"
   },
   {
    "duration": 15,
    "start_time": "2021-12-30T21:48:47.855Z"
   },
   {
    "duration": 116,
    "start_time": "2021-12-30T21:48:47.872Z"
   },
   {
    "duration": -1148,
    "start_time": "2021-12-30T21:48:49.139Z"
   },
   {
    "duration": -1154,
    "start_time": "2021-12-30T21:48:49.147Z"
   },
   {
    "duration": -1155,
    "start_time": "2021-12-30T21:48:49.149Z"
   },
   {
    "duration": -1155,
    "start_time": "2021-12-30T21:48:49.151Z"
   },
   {
    "duration": -1156,
    "start_time": "2021-12-30T21:48:49.153Z"
   },
   {
    "duration": -1155,
    "start_time": "2021-12-30T21:48:49.154Z"
   },
   {
    "duration": -1157,
    "start_time": "2021-12-30T21:48:49.157Z"
   },
   {
    "duration": -1157,
    "start_time": "2021-12-30T21:48:49.159Z"
   },
   {
    "duration": -1158,
    "start_time": "2021-12-30T21:48:49.161Z"
   },
   {
    "duration": -1160,
    "start_time": "2021-12-30T21:48:49.165Z"
   },
   {
    "duration": -1161,
    "start_time": "2021-12-30T21:48:49.167Z"
   },
   {
    "duration": -1161,
    "start_time": "2021-12-30T21:48:49.169Z"
   },
   {
    "duration": -1161,
    "start_time": "2021-12-30T21:48:49.171Z"
   },
   {
    "duration": -1161,
    "start_time": "2021-12-30T21:48:49.173Z"
   },
   {
    "duration": -1161,
    "start_time": "2021-12-30T21:48:49.175Z"
   },
   {
    "duration": -1162,
    "start_time": "2021-12-30T21:48:49.177Z"
   },
   {
    "duration": -1164,
    "start_time": "2021-12-30T21:48:49.182Z"
   },
   {
    "duration": -1164,
    "start_time": "2021-12-30T21:48:49.184Z"
   },
   {
    "duration": 781,
    "start_time": "2021-12-30T21:49:25.986Z"
   },
   {
    "duration": 218,
    "start_time": "2021-12-30T21:49:26.769Z"
   },
   {
    "duration": 36,
    "start_time": "2021-12-30T21:49:26.993Z"
   },
   {
    "duration": 16,
    "start_time": "2021-12-30T21:49:27.032Z"
   },
   {
    "duration": 16,
    "start_time": "2021-12-30T21:49:27.050Z"
   },
   {
    "duration": 12,
    "start_time": "2021-12-30T21:49:27.069Z"
   },
   {
    "duration": 5,
    "start_time": "2021-12-30T21:49:27.118Z"
   },
   {
    "duration": 17,
    "start_time": "2021-12-30T21:49:27.127Z"
   },
   {
    "duration": 34,
    "start_time": "2021-12-30T21:49:27.147Z"
   },
   {
    "duration": 39,
    "start_time": "2021-12-30T21:49:27.183Z"
   },
   {
    "duration": 30,
    "start_time": "2021-12-30T21:49:27.224Z"
   },
   {
    "duration": 7,
    "start_time": "2021-12-30T21:49:27.257Z"
   },
   {
    "duration": 56,
    "start_time": "2021-12-30T21:49:27.266Z"
   },
   {
    "duration": 22,
    "start_time": "2021-12-30T21:49:27.324Z"
   },
   {
    "duration": 30,
    "start_time": "2021-12-30T21:49:27.348Z"
   },
   {
    "duration": 106,
    "start_time": "2021-12-30T21:49:27.380Z"
   },
   {
    "duration": 116,
    "start_time": "2021-12-30T21:49:27.488Z"
   },
   {
    "duration": 79,
    "start_time": "2021-12-30T21:49:27.606Z"
   },
   {
    "duration": 30,
    "start_time": "2021-12-30T21:49:27.687Z"
   },
   {
    "duration": 4,
    "start_time": "2021-12-30T21:49:27.719Z"
   },
   {
    "duration": 23,
    "start_time": "2021-12-30T21:49:27.725Z"
   },
   {
    "duration": 14,
    "start_time": "2021-12-30T21:49:27.750Z"
   },
   {
    "duration": 14,
    "start_time": "2021-12-30T21:49:27.766Z"
   },
   {
    "duration": 14,
    "start_time": "2021-12-30T21:49:27.817Z"
   },
   {
    "duration": 116,
    "start_time": "2021-12-30T21:49:27.833Z"
   },
   {
    "duration": -1155,
    "start_time": "2021-12-30T21:49:29.107Z"
   },
   {
    "duration": -1155,
    "start_time": "2021-12-30T21:49:29.109Z"
   },
   {
    "duration": -1157,
    "start_time": "2021-12-30T21:49:29.112Z"
   },
   {
    "duration": -1164,
    "start_time": "2021-12-30T21:49:29.120Z"
   },
   {
    "duration": -1165,
    "start_time": "2021-12-30T21:49:29.123Z"
   },
   {
    "duration": -1166,
    "start_time": "2021-12-30T21:49:29.125Z"
   },
   {
    "duration": -1170,
    "start_time": "2021-12-30T21:49:29.131Z"
   },
   {
    "duration": -1171,
    "start_time": "2021-12-30T21:49:29.133Z"
   },
   {
    "duration": -1172,
    "start_time": "2021-12-30T21:49:29.135Z"
   },
   {
    "duration": -1173,
    "start_time": "2021-12-30T21:49:29.138Z"
   },
   {
    "duration": -1175,
    "start_time": "2021-12-30T21:49:29.141Z"
   },
   {
    "duration": -1180,
    "start_time": "2021-12-30T21:49:29.148Z"
   },
   {
    "duration": -1181,
    "start_time": "2021-12-30T21:49:29.150Z"
   },
   {
    "duration": -1181,
    "start_time": "2021-12-30T21:49:29.152Z"
   },
   {
    "duration": -1182,
    "start_time": "2021-12-30T21:49:29.154Z"
   },
   {
    "duration": -1183,
    "start_time": "2021-12-30T21:49:29.156Z"
   },
   {
    "duration": -1183,
    "start_time": "2021-12-30T21:49:29.157Z"
   },
   {
    "duration": -1183,
    "start_time": "2021-12-30T21:49:29.159Z"
   },
   {
    "duration": 447,
    "start_time": "2021-12-30T21:52:42.017Z"
   },
   {
    "duration": -1174,
    "start_time": "2021-12-30T21:52:43.641Z"
   },
   {
    "duration": -1178,
    "start_time": "2021-12-30T21:52:43.646Z"
   },
   {
    "duration": 417,
    "start_time": "2021-12-30T21:52:42.555Z"
   },
   {
    "duration": -1169,
    "start_time": "2021-12-30T21:52:44.144Z"
   },
   {
    "duration": -1170,
    "start_time": "2021-12-30T21:52:44.146Z"
   },
   {
    "duration": 12,
    "start_time": "2021-12-30T21:52:43.320Z"
   },
   {
    "duration": 291,
    "start_time": "2021-12-31T05:35:22.398Z"
   },
   {
    "duration": 259,
    "start_time": "2021-12-31T05:35:31.276Z"
   },
   {
    "duration": 560,
    "start_time": "2021-12-31T05:35:37.204Z"
   },
   {
    "duration": 138,
    "start_time": "2021-12-31T05:35:37.766Z"
   },
   {
    "duration": 15,
    "start_time": "2021-12-31T05:35:41.727Z"
   },
   {
    "duration": 2,
    "start_time": "2021-12-31T05:35:44.932Z"
   },
   {
    "duration": 145,
    "start_time": "2021-12-31T05:35:44.936Z"
   },
   {
    "duration": 11,
    "start_time": "2021-12-31T05:35:45.083Z"
   },
   {
    "duration": 13,
    "start_time": "2021-12-31T05:35:45.096Z"
   },
   {
    "duration": 3,
    "start_time": "2021-12-31T05:39:06.307Z"
   },
   {
    "duration": 141,
    "start_time": "2021-12-31T05:39:06.312Z"
   },
   {
    "duration": 10,
    "start_time": "2021-12-31T05:39:06.455Z"
   },
   {
    "duration": 11,
    "start_time": "2021-12-31T05:39:06.467Z"
   },
   {
    "duration": 11,
    "start_time": "2021-12-31T05:39:06.479Z"
   },
   {
    "duration": 8,
    "start_time": "2021-12-31T05:39:06.492Z"
   },
   {
    "duration": 5,
    "start_time": "2021-12-31T05:39:06.503Z"
   },
   {
    "duration": 12,
    "start_time": "2021-12-31T05:39:06.510Z"
   },
   {
    "duration": 56,
    "start_time": "2021-12-31T05:39:06.524Z"
   },
   {
    "duration": 4,
    "start_time": "2021-12-31T05:39:06.581Z"
   },
   {
    "duration": 23,
    "start_time": "2021-12-31T05:39:06.586Z"
   },
   {
    "duration": 6,
    "start_time": "2021-12-31T05:39:06.611Z"
   },
   {
    "duration": 49,
    "start_time": "2021-12-31T05:39:06.618Z"
   },
   {
    "duration": 19,
    "start_time": "2021-12-31T05:39:06.669Z"
   },
   {
    "duration": 24,
    "start_time": "2021-12-31T05:39:06.690Z"
   },
   {
    "duration": 107,
    "start_time": "2021-12-31T05:39:06.716Z"
   },
   {
    "duration": 117,
    "start_time": "2021-12-31T05:39:06.825Z"
   },
   {
    "duration": 58,
    "start_time": "2021-12-31T05:39:06.944Z"
   },
   {
    "duration": 10,
    "start_time": "2021-12-31T05:39:07.005Z"
   },
   {
    "duration": 3,
    "start_time": "2021-12-31T05:39:07.017Z"
   },
   {
    "duration": 18,
    "start_time": "2021-12-31T05:39:07.021Z"
   },
   {
    "duration": 10,
    "start_time": "2021-12-31T05:39:07.061Z"
   },
   {
    "duration": 11,
    "start_time": "2021-12-31T05:39:07.073Z"
   },
   {
    "duration": 10,
    "start_time": "2021-12-31T05:39:07.086Z"
   },
   {
    "duration": 81,
    "start_time": "2021-12-31T05:39:07.098Z"
   },
   {
    "duration": 313,
    "start_time": "2021-12-31T05:39:06.868Z"
   },
   {
    "duration": 308,
    "start_time": "2021-12-31T05:39:06.874Z"
   },
   {
    "duration": 306,
    "start_time": "2021-12-31T05:39:06.877Z"
   },
   {
    "duration": 304,
    "start_time": "2021-12-31T05:39:06.880Z"
   },
   {
    "duration": 302,
    "start_time": "2021-12-31T05:39:06.883Z"
   },
   {
    "duration": 270,
    "start_time": "2021-12-31T05:39:15.356Z"
   },
   {
    "duration": 3,
    "start_time": "2021-12-31T05:39:27.242Z"
   },
   {
    "duration": 149,
    "start_time": "2021-12-31T05:39:27.247Z"
   },
   {
    "duration": 10,
    "start_time": "2021-12-31T05:39:27.398Z"
   },
   {
    "duration": 13,
    "start_time": "2021-12-31T05:39:27.409Z"
   },
   {
    "duration": 11,
    "start_time": "2021-12-31T05:39:27.424Z"
   },
   {
    "duration": 8,
    "start_time": "2021-12-31T05:39:27.436Z"
   },
   {
    "duration": 4,
    "start_time": "2021-12-31T05:39:27.461Z"
   },
   {
    "duration": 11,
    "start_time": "2021-12-31T05:39:27.467Z"
   },
   {
    "duration": 26,
    "start_time": "2021-12-31T05:39:27.479Z"
   },
   {
    "duration": 4,
    "start_time": "2021-12-31T05:39:27.507Z"
   },
   {
    "duration": 15,
    "start_time": "2021-12-31T05:39:27.513Z"
   },
   {
    "duration": 33,
    "start_time": "2021-12-31T05:39:27.529Z"
   },
   {
    "duration": 24,
    "start_time": "2021-12-31T05:39:27.564Z"
   },
   {
    "duration": 17,
    "start_time": "2021-12-31T05:39:27.590Z"
   },
   {
    "duration": 20,
    "start_time": "2021-12-31T05:39:27.609Z"
   },
   {
    "duration": 84,
    "start_time": "2021-12-31T05:39:27.631Z"
   },
   {
    "duration": 75,
    "start_time": "2021-12-31T05:39:27.717Z"
   },
   {
    "duration": 47,
    "start_time": "2021-12-31T05:39:27.794Z"
   },
   {
    "duration": 18,
    "start_time": "2021-12-31T05:39:27.844Z"
   },
   {
    "duration": 3,
    "start_time": "2021-12-31T05:39:27.864Z"
   },
   {
    "duration": 31,
    "start_time": "2021-12-31T05:39:27.868Z"
   },
   {
    "duration": 11,
    "start_time": "2021-12-31T05:39:27.901Z"
   },
   {
    "duration": 12,
    "start_time": "2021-12-31T05:39:27.914Z"
   },
   {
    "duration": 22,
    "start_time": "2021-12-31T05:39:27.928Z"
   },
   {
    "duration": 16,
    "start_time": "2021-12-31T05:39:27.951Z"
   },
   {
    "duration": 29,
    "start_time": "2021-12-31T05:39:27.968Z"
   },
   {
    "duration": 23,
    "start_time": "2021-12-31T05:39:27.999Z"
   },
   {
    "duration": 14,
    "start_time": "2021-12-31T05:39:28.024Z"
   },
   {
    "duration": 23,
    "start_time": "2021-12-31T05:39:28.039Z"
   },
   {
    "duration": 16,
    "start_time": "2021-12-31T05:39:28.065Z"
   },
   {
    "duration": 15,
    "start_time": "2021-12-31T05:39:32.220Z"
   }
  ],
  "colab": {
   "collapsed_sections": [
    "E0vqbgi9ay0H",
    "VUC88oWjTJw2"
   ],
   "name": "yandex_music_project_2021.2.ipynb",
   "provenance": []
  },
  "kernelspec": {
   "display_name": "Python 3 (ipykernel)",
   "language": "python",
   "name": "python3"
  },
  "language_info": {
   "codemirror_mode": {
    "name": "ipython",
    "version": 3
   },
   "file_extension": ".py",
   "mimetype": "text/x-python",
   "name": "python",
   "nbconvert_exporter": "python",
   "pygments_lexer": "ipython3",
   "version": "3.9.5"
  },
  "toc": {
   "base_numbering": 1,
   "nav_menu": {},
   "number_sections": true,
   "sideBar": true,
   "skip_h1_title": true,
   "title_cell": "Table of Contents",
   "title_sidebar": "Contents",
   "toc_cell": false,
   "toc_position": {},
   "toc_section_display": true,
   "toc_window_display": true
  }
 },
 "nbformat": 4,
 "nbformat_minor": 1
}
