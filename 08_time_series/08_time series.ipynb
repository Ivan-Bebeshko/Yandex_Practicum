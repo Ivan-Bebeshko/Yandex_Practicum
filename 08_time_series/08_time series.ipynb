{
 "cells": [
  {
   "attachments": {},
   "cell_type": "markdown",
   "metadata": {
    "toc": true
   },
   "source": [
    "<h1>Содержание<span class=\"tocSkip\"></span></h1>\n",
    "</span></li></ul></li><li><span><a href=\"#Подготовка\" data-toc-modified-id=\"Подготовка-1\"><span class=\"toc-item-num\">1&nbsp;&nbsp;</span>Подготовка</a></span></li><li><span><a href=\"#Анализ\" data-toc-modified-id=\"Анализ-2\"><span class=\"toc-item-num\">2&nbsp;&nbsp;</span>Анализ</a></span><ul class=\"toc-item\"><li><span><a href=\"#Тренд-и-сезонность\" data-toc-modified-id=\"Тренд-и-сезонность-2.1\"><span class=\"toc-item-num\">2.1&nbsp;&nbsp;</span>Тренд и сезонность</a></span></li><li><span><a href=\"#Сбор-признаков-датафрейма\" data-toc-modified-id=\"Сбор-признаков-датафрейма-2.2\"><span class=\"toc-item-num\">2.2&nbsp;&nbsp;</span>Сбор признаков датафрейма</a></span></li><li><span><a href=\"#Разделение-выборки\" data-toc-modified-id=\"Разделение-выборки-2.3\"><span class=\"toc-item-num\">2.3&nbsp;&nbsp;</span>Разделение выборки</a></span></li></ul></li><li><span><a href=\"#Обучение\" data-toc-modified-id=\"Обучение-3\"><span class=\"toc-item-num\">3&nbsp;&nbsp;</span>Обучение</a></span><ul class=\"toc-item\"><li><span><a href=\"#Кросс-валидация-RandomizedSearchCV-для-CatBoostRegressor\" data-toc-modified-id=\"Кросс-валидация-RandomizedSearchCV-для-CatBoostRegressor-3.1\"><span class=\"toc-item-num\">3.1&nbsp;&nbsp;</span>Кросс-валидация RandomizedSearchCV для CatBoostRegressor</a></span></li><li><span><a href=\"#Кросс-валидация-RandomizedSearchCV-для-LGBMRegressor\" data-toc-modified-id=\"Кросс-валидация-RandomizedSearchCV-для-LGBMRegressor-3.2\"><span class=\"toc-item-num\">3.2&nbsp;&nbsp;</span>Кросс-валидация RandomizedSearchCV для LGBMRegressor</a></span></li></ul></li><li><span><a href=\"#Тестирование\" data-toc-modified-id=\"Тестирование-4\"><span class=\"toc-item-num\">4&nbsp;&nbsp;</span>Тестирование</a></span><ul class=\"toc-item\"><li><span><a href=\"#Результат-на-тестовой-выборке-для-CatBoostRegressor\" data-toc-modified-id=\"Результат-на-тестовой-выборке-для-CatBoostRegressor-4.1\"><span class=\"toc-item-num\">4.1&nbsp;&nbsp;</span>Результат на тестовой выборке для CatBoostRegressor</a></span></li><li><span><a href=\"#Результат-на-тестовой-выборке-для-для-LGBMRegressor\" data-toc-modified-id=\"Результат-на-тестовой-выборке-для-для-LGBMRegressor-4.2\"><span class=\"toc-item-num\">4.2&nbsp;&nbsp;</span>Результат на тестовой выборке для для LGBMRegressor</a></span></li></ul></li><li><span><a href=\"#Проверка-модели-на-адекватность\" data-toc-modified-id=\"Проверка-модели-на-адекватность-5\"><span class=\"toc-item-num\">5&nbsp;&nbsp;</span>Проверка модели на адекватность</a></span><ul class=\"toc-item\"><li><span><a href=\"#Проверка-предсказанием-среднего-значения\" data-toc-modified-id=\"Проверка-предсказанием-среднего-значения-5.1\"><span class=\"toc-item-num\">5.1&nbsp;&nbsp;</span>Проверка предсказанием среднего значения</a></span></li><li><span><a href=\"#Проверка-предсказанием-предыдущего-значения\" data-toc-modified-id=\"Проверка-предсказанием-предыдущего-значения-5.2\"><span class=\"toc-item-num\">5.2&nbsp;&nbsp;</span>Проверка предсказанием предыдущего значения</a></span></li></ul></li><li><span><a href=\"#Вывод\" data-toc-modified-id=\"Вывод-6\"><span class=\"toc-item-num\">6&nbsp;&nbsp;</span>Вывод</a></span></li><li><span><a href=\"#Чек-лист-проверки\" data-toc-modified-id=\"Чек-лист-проверки-7\"><span class=\"toc-item-num\">7&nbsp;&nbsp;</span>Чек-лист проверки</a></span></li></ul></div>"
   ]
  },
  {
   "cell_type": "markdown",
   "metadata": {},
   "source": [
    "#  Прогнозирование заказов такси"
   ]
  },
  {
   "attachments": {},
   "cell_type": "markdown",
   "metadata": {},
   "source": [
    "Компания по такси собрала исторические данные о заказах в аэропортах. Чтобы привлекать больше водителей в период пиковой нагрузки, нужно спрогнозировать количество заказов такси на следующий час. Постройте модель для такого предсказания.\n",
    "\n",
    "Значение метрики *RMSE* на тестовой выборке должно быть не больше 48.\n",
    "\n",
    "Нужно:\n",
    "\n",
    "1. Загрузить данные и выполнить их ресемплирование по одному часу.\n",
    "2. Проанализировать данные.\n",
    "3. Обучить разные модели с различными гиперпараметрами. Сделать тестовую выборку размером 10% от исходных данных.\n",
    "4. Проверить данные на тестовой выборке и сделать выводы."
   ]
  },
  {
   "cell_type": "markdown",
   "metadata": {},
   "source": [
    "## Подготовка"
   ]
  },
  {
   "cell_type": "code",
   "execution_count": 222,
   "metadata": {},
   "outputs": [],
   "source": [
    "# импорт требуемых библиотек\n",
    "\n",
    "import pandas as pd              # программная библиотека для обработки и анализа данных, поверх библиотеки NumPy\n",
    "import numpy as np               # поддержка многомерных массивов; поддержка высокоуровневых математических функций\n",
    "import matplotlib.pyplot as plt  # библиотека для визуализации данных двумерной графикой\n",
    "\n",
    "from statsmodels.tsa.seasonal import seasonal_decompose # функция инструмент декомпозиции временных рядов\n",
    "\n",
    "from sklearn.model_selection import train_test_split   # функция train_test_split для разделения датафрейма\n",
    "\n",
    "from sklearn.metrics import mean_squared_error         # импорт среднеквардатичного отклонения для оценки качества модели\n",
    "\n",
    "from sklearn.model_selection import RandomizedSearchCV      # импортируем инструмент кросс-валидации и обучения модели (рандом)\n",
    "from scipy.stats import randint                             # подбор рандомных значений в диапазоне\n",
    "from lightgbm import LGBMRegressor                          # алгоритм «лёгкого градиентного бустинга»\n",
    "from catboost import CatBoostRegressor                      # алгоритм «градиентного бустинга CatBoost»\n",
    "\n",
    "from sklearn.model_selection import TimeSeriesSplit         # инструмент кросс-валидации для временных рядов"
   ]
  },
  {
   "cell_type": "code",
   "execution_count": 203,
   "metadata": {},
   "outputs": [],
   "source": [
    "df = pd.read_csv('/datasets/taxi.csv', index_col=[0], parse_dates=[0])"
   ]
  },
  {
   "cell_type": "code",
   "execution_count": 204,
   "metadata": {
    "scrolled": true
   },
   "outputs": [
    {
     "data": {
      "text/html": [
       "<div>\n",
       "<style scoped>\n",
       "    .dataframe tbody tr th:only-of-type {\n",
       "        vertical-align: middle;\n",
       "    }\n",
       "\n",
       "    .dataframe tbody tr th {\n",
       "        vertical-align: top;\n",
       "    }\n",
       "\n",
       "    .dataframe thead th {\n",
       "        text-align: right;\n",
       "    }\n",
       "</style>\n",
       "<table border=\"1\" class=\"dataframe\">\n",
       "  <thead>\n",
       "    <tr style=\"text-align: right;\">\n",
       "      <th></th>\n",
       "      <th>num_orders</th>\n",
       "    </tr>\n",
       "    <tr>\n",
       "      <th>datetime</th>\n",
       "      <th></th>\n",
       "    </tr>\n",
       "  </thead>\n",
       "  <tbody>\n",
       "    <tr>\n",
       "      <th>2018-03-01 00:00:00</th>\n",
       "      <td>9</td>\n",
       "    </tr>\n",
       "    <tr>\n",
       "      <th>2018-03-01 00:10:00</th>\n",
       "      <td>14</td>\n",
       "    </tr>\n",
       "    <tr>\n",
       "      <th>2018-03-01 00:20:00</th>\n",
       "      <td>28</td>\n",
       "    </tr>\n",
       "    <tr>\n",
       "      <th>2018-03-01 00:30:00</th>\n",
       "      <td>20</td>\n",
       "    </tr>\n",
       "    <tr>\n",
       "      <th>2018-03-01 00:40:00</th>\n",
       "      <td>32</td>\n",
       "    </tr>\n",
       "  </tbody>\n",
       "</table>\n",
       "</div>"
      ],
      "text/plain": [
       "                     num_orders\n",
       "datetime                       \n",
       "2018-03-01 00:00:00           9\n",
       "2018-03-01 00:10:00          14\n",
       "2018-03-01 00:20:00          28\n",
       "2018-03-01 00:30:00          20\n",
       "2018-03-01 00:40:00          32"
      ]
     },
     "execution_count": 204,
     "metadata": {},
     "output_type": "execute_result"
    }
   ],
   "source": [
    "# внешний вид исходного датафрейма\n",
    "\n",
    "df.head()"
   ]
  },
  {
   "cell_type": "code",
   "execution_count": 205,
   "metadata": {},
   "outputs": [
    {
     "name": "stdout",
     "output_type": "stream",
     "text": [
      "True\n"
     ]
    }
   ],
   "source": [
    "# проверим хронологический порядок дат / индексов\n",
    "\n",
    "print(df.index.is_monotonic)"
   ]
  },
  {
   "cell_type": "code",
   "execution_count": 206,
   "metadata": {},
   "outputs": [],
   "source": [
    "# проведем ресемплированние данных за один час (по сумме заказов)\n",
    "\n",
    "df = df.resample('1H').sum()"
   ]
  },
  {
   "cell_type": "code",
   "execution_count": 207,
   "metadata": {},
   "outputs": [
    {
     "data": {
      "image/png": "[encoded data removed]",
      "text/plain": [
       "<Figure size 1224x216 with 1 Axes>"
      ]
     },
     "metadata": {
      "needs_background": "light"
     },
     "output_type": "display_data"
    }
   ],
   "source": [
    "df['num_orders'].plot(\n",
    "    figsize=(17,3),\n",
    "    title='Orders  count per timeline'\n",
    ").set_ylabel('Count')                 \n",
    "plt.show()"
   ]
  },
  {
   "cell_type": "code",
   "execution_count": 208,
   "metadata": {
    "scrolled": false
   },
   "outputs": [
    {
     "name": "stdout",
     "output_type": "stream",
     "text": [
      "<class 'pandas.core.frame.DataFrame'>\n",
      "DatetimeIndex: 4416 entries, 2018-03-01 00:00:00 to 2018-08-31 23:00:00\n",
      "Freq: H\n",
      "Data columns (total 1 columns):\n",
      " #   Column      Non-Null Count  Dtype\n",
      "---  ------      --------------  -----\n",
      " 0   num_orders  4416 non-null   int64\n",
      "dtypes: int64(1)\n",
      "memory usage: 69.0 KB\n"
     ]
    }
   ],
   "source": [
    "# общая информация\n",
    "\n",
    "df.info()"
   ]
  },
  {
   "cell_type": "markdown",
   "metadata": {},
   "source": [
    "**Выводы:**\n",
    "- 26496 объекта / строк и один столбец с количеством заказов - 'num_orders';\n",
    "    - 4416 объектов / строк и 1 столбец после группировки данных за 1 час;\n",
    "    - данные за каждые 10 минут переведены в сумму за час;\n",
    "- данные с марта по сентябрь 2018г. в хронологическом порядке;\n",
    "- пропусков в данных нет."
   ]
  },
  {
   "cell_type": "markdown",
   "metadata": {},
   "source": [
    "## Анализ"
   ]
  },
  {
   "cell_type": "markdown",
   "metadata": {},
   "source": [
    "### Тренд и сезонность"
   ]
  },
  {
   "cell_type": "code",
   "execution_count": 209,
   "metadata": {},
   "outputs": [],
   "source": [
    "decomposed = seasonal_decompose(df)"
   ]
  },
  {
   "cell_type": "code",
   "execution_count": 210,
   "metadata": {
    "scrolled": false
   },
   "outputs": [
    {
     "data": {
      "image/png": "[encoded data removed]",
      "text/plain": [
       "<Figure size 1224x504 with 3 Axes>"
      ]
     },
     "metadata": {
      "needs_background": "light"
     },
     "output_type": "display_data"
    }
   ],
   "source": [
    "plt.figure(figsize=(17,7))\n",
    "\n",
    "plt.subplot(5,1,1)\n",
    "plt.title(\"Seasonal\")\n",
    "decomposed.seasonal.plot(ax=plt.gca())\n",
    "\n",
    "plt.subplot(5,1,3)\n",
    "plt.title(\"Trend\")\n",
    "decomposed.trend.plot(ax=plt.gca())\n",
    "\n",
    "plt.subplot(5,1,5)\n",
    "plt.title(\"Residuals\")\n",
    "decomposed.resid.plot(ax=plt.gca())\n",
    "plt.show()"
   ]
  },
  {
   "cell_type": "markdown",
   "metadata": {},
   "source": [
    "Визуально виден тренд на увеличение числа заказов такси, начиная с начала года."
   ]
  },
  {
   "attachments": {},
   "cell_type": "markdown",
   "metadata": {},
   "source": [
    "Cезонность на коротком интервале (за 2 недели июня 2018г.):"
   ]
  },
  {
   "cell_type": "code",
   "execution_count": 211,
   "metadata": {},
   "outputs": [
    {
     "data": {
      "image/png": "[encoded data removed]",
      "text/plain": [
       "<Figure size 1224x360 with 1 Axes>"
      ]
     },
     "metadata": {
      "needs_background": "light"
     },
     "output_type": "display_data"
    }
   ],
   "source": [
    "plt.figure(figsize=(17,5))\n",
    "plt.title(\"Seasonal June 2018\")\n",
    "seasonal_decompose(df['2018-06-01 00:00:00':'2018-06-14 23:00:00']).seasonal.plot()\n",
    "plt.show()"
   ]
  },
  {
   "cell_type": "code",
   "execution_count": 212,
   "metadata": {
    "scrolled": true
   },
   "outputs": [
    {
     "data": {
      "text/plain": [
       "count    4416.000000\n",
       "mean       84.422781\n",
       "std        45.023853\n",
       "min         0.000000\n",
       "25%        54.000000\n",
       "50%        78.000000\n",
       "75%       107.000000\n",
       "max       462.000000\n",
       "Name: num_orders, dtype: float64"
      ]
     },
     "execution_count": 212,
     "metadata": {},
     "output_type": "execute_result"
    }
   ],
   "source": [
    "df['num_orders'].describe() #проверим данные на аномалии и вылеты по значениям"
   ]
  },
  {
   "cell_type": "code",
   "execution_count": 213,
   "metadata": {},
   "outputs": [
    {
     "name": "stdout",
     "output_type": "stream",
     "text": [
      "Количество пропусков в данных: 4416\n"
     ]
    }
   ],
   "source": [
    "print(\"Количество пропусков в данных:\", df['num_orders'].isna().count()) #проверим данные отсутствующие значения"
   ]
  },
  {
   "cell_type": "code",
   "execution_count": 214,
   "metadata": {},
   "outputs": [],
   "source": [
    "# заменим пропуски на нулевые значения\n",
    "\n",
    "df['num_orders'] = df['num_orders'].fillna(0)"
   ]
  },
  {
   "cell_type": "markdown",
   "metadata": {},
   "source": [
    "### Сбор признаков датафрейма"
   ]
  },
  {
   "cell_type": "code",
   "execution_count": 215,
   "metadata": {},
   "outputs": [],
   "source": [
    "# соберем признаки датафрейма в новый массив:\n",
    "    # данные за прошлые периоды\n",
    "    # плавающее среднее от величина окна\n",
    "    \n",
    "def collect_features_df(dataframe, lag_count, rolling_window):\n",
    "    new_df = dataframe.copy()\n",
    "    \n",
    "    new_df['year'] = dataframe.index.year\n",
    "    new_df['month'] = dataframe.index.month\n",
    "    new_df['day'] = dataframe.index.day\n",
    "    new_df['dayofweek'] = dataframe.index.dayofweek\n",
    "    new_df['hour'] = dataframe.index.hour\n",
    "    \n",
    "    for lag in range(1, lag_count+1):\n",
    "        new_df['lag_{}'.format(lag)] = new_df.iloc[:, 0].shift(lag)\n",
    "        \n",
    "    new_df['rolling_mean'] = new_df.iloc[:, 0].shift().rolling(rolling_window).mean()\n",
    "    \n",
    "    return new_df"
   ]
  },
  {
   "cell_type": "code",
   "execution_count": 216,
   "metadata": {},
   "outputs": [],
   "source": [
    "lag_count = 7          # задаем значение отставания, чтобы учесть тренд и сезонность\n",
    "\n",
    "rolling_window = 7     # задаем окно прогнозирования среднего значения (насколько точный нужен прогноз)\n",
    "\n",
    "df_new = collect_features_df(df, lag_count, rolling_window)"
   ]
  },
  {
   "cell_type": "code",
   "execution_count": 220,
   "metadata": {
    "scrolled": true
   },
   "outputs": [
    {
     "data": {
      "text/html": [
       "<div>\n",
       "<style scoped>\n",
       "    .dataframe tbody tr th:only-of-type {\n",
       "        vertical-align: middle;\n",
       "    }\n",
       "\n",
       "    .dataframe tbody tr th {\n",
       "        vertical-align: top;\n",
       "    }\n",
       "\n",
       "    .dataframe thead th {\n",
       "        text-align: right;\n",
       "    }\n",
       "</style>\n",
       "<table border=\"1\" class=\"dataframe\">\n",
       "  <thead>\n",
       "    <tr style=\"text-align: right;\">\n",
       "      <th></th>\n",
       "      <th>num_orders</th>\n",
       "      <th>year</th>\n",
       "      <th>month</th>\n",
       "      <th>day</th>\n",
       "      <th>dayofweek</th>\n",
       "      <th>hour</th>\n",
       "      <th>lag_1</th>\n",
       "      <th>lag_2</th>\n",
       "      <th>lag_3</th>\n",
       "      <th>lag_4</th>\n",
       "      <th>lag_5</th>\n",
       "      <th>lag_6</th>\n",
       "      <th>lag_7</th>\n",
       "      <th>rolling_mean</th>\n",
       "    </tr>\n",
       "    <tr>\n",
       "      <th>datetime</th>\n",
       "      <th></th>\n",
       "      <th></th>\n",
       "      <th></th>\n",
       "      <th></th>\n",
       "      <th></th>\n",
       "      <th></th>\n",
       "      <th></th>\n",
       "      <th></th>\n",
       "      <th></th>\n",
       "      <th></th>\n",
       "      <th></th>\n",
       "      <th></th>\n",
       "      <th></th>\n",
       "      <th></th>\n",
       "    </tr>\n",
       "  </thead>\n",
       "  <tbody>\n",
       "    <tr>\n",
       "      <th>2018-03-01 00:00:00</th>\n",
       "      <td>124</td>\n",
       "      <td>2018</td>\n",
       "      <td>3</td>\n",
       "      <td>1</td>\n",
       "      <td>3</td>\n",
       "      <td>0</td>\n",
       "      <td>NaN</td>\n",
       "      <td>NaN</td>\n",
       "      <td>NaN</td>\n",
       "      <td>NaN</td>\n",
       "      <td>NaN</td>\n",
       "      <td>NaN</td>\n",
       "      <td>NaN</td>\n",
       "      <td>NaN</td>\n",
       "    </tr>\n",
       "    <tr>\n",
       "      <th>2018-03-01 01:00:00</th>\n",
       "      <td>85</td>\n",
       "      <td>2018</td>\n",
       "      <td>3</td>\n",
       "      <td>1</td>\n",
       "      <td>3</td>\n",
       "      <td>1</td>\n",
       "      <td>124.0</td>\n",
       "      <td>NaN</td>\n",
       "      <td>NaN</td>\n",
       "      <td>NaN</td>\n",
       "      <td>NaN</td>\n",
       "      <td>NaN</td>\n",
       "      <td>NaN</td>\n",
       "      <td>NaN</td>\n",
       "    </tr>\n",
       "    <tr>\n",
       "      <th>2018-03-01 02:00:00</th>\n",
       "      <td>71</td>\n",
       "      <td>2018</td>\n",
       "      <td>3</td>\n",
       "      <td>1</td>\n",
       "      <td>3</td>\n",
       "      <td>2</td>\n",
       "      <td>85.0</td>\n",
       "      <td>124.0</td>\n",
       "      <td>NaN</td>\n",
       "      <td>NaN</td>\n",
       "      <td>NaN</td>\n",
       "      <td>NaN</td>\n",
       "      <td>NaN</td>\n",
       "      <td>NaN</td>\n",
       "    </tr>\n",
       "    <tr>\n",
       "      <th>2018-03-01 03:00:00</th>\n",
       "      <td>66</td>\n",
       "      <td>2018</td>\n",
       "      <td>3</td>\n",
       "      <td>1</td>\n",
       "      <td>3</td>\n",
       "      <td>3</td>\n",
       "      <td>71.0</td>\n",
       "      <td>85.0</td>\n",
       "      <td>124.0</td>\n",
       "      <td>NaN</td>\n",
       "      <td>NaN</td>\n",
       "      <td>NaN</td>\n",
       "      <td>NaN</td>\n",
       "      <td>NaN</td>\n",
       "    </tr>\n",
       "    <tr>\n",
       "      <th>2018-03-01 04:00:00</th>\n",
       "      <td>43</td>\n",
       "      <td>2018</td>\n",
       "      <td>3</td>\n",
       "      <td>1</td>\n",
       "      <td>3</td>\n",
       "      <td>4</td>\n",
       "      <td>66.0</td>\n",
       "      <td>71.0</td>\n",
       "      <td>85.0</td>\n",
       "      <td>124.0</td>\n",
       "      <td>NaN</td>\n",
       "      <td>NaN</td>\n",
       "      <td>NaN</td>\n",
       "      <td>NaN</td>\n",
       "    </tr>\n",
       "    <tr>\n",
       "      <th>2018-03-01 05:00:00</th>\n",
       "      <td>6</td>\n",
       "      <td>2018</td>\n",
       "      <td>3</td>\n",
       "      <td>1</td>\n",
       "      <td>3</td>\n",
       "      <td>5</td>\n",
       "      <td>43.0</td>\n",
       "      <td>66.0</td>\n",
       "      <td>71.0</td>\n",
       "      <td>85.0</td>\n",
       "      <td>124.0</td>\n",
       "      <td>NaN</td>\n",
       "      <td>NaN</td>\n",
       "      <td>NaN</td>\n",
       "    </tr>\n",
       "    <tr>\n",
       "      <th>2018-03-01 06:00:00</th>\n",
       "      <td>12</td>\n",
       "      <td>2018</td>\n",
       "      <td>3</td>\n",
       "      <td>1</td>\n",
       "      <td>3</td>\n",
       "      <td>6</td>\n",
       "      <td>6.0</td>\n",
       "      <td>43.0</td>\n",
       "      <td>66.0</td>\n",
       "      <td>71.0</td>\n",
       "      <td>85.0</td>\n",
       "      <td>124.0</td>\n",
       "      <td>NaN</td>\n",
       "      <td>NaN</td>\n",
       "    </tr>\n",
       "    <tr>\n",
       "      <th>2018-03-01 07:00:00</th>\n",
       "      <td>15</td>\n",
       "      <td>2018</td>\n",
       "      <td>3</td>\n",
       "      <td>1</td>\n",
       "      <td>3</td>\n",
       "      <td>7</td>\n",
       "      <td>12.0</td>\n",
       "      <td>6.0</td>\n",
       "      <td>43.0</td>\n",
       "      <td>66.0</td>\n",
       "      <td>71.0</td>\n",
       "      <td>85.0</td>\n",
       "      <td>124.0</td>\n",
       "      <td>58.142857</td>\n",
       "    </tr>\n",
       "    <tr>\n",
       "      <th>2018-03-01 08:00:00</th>\n",
       "      <td>34</td>\n",
       "      <td>2018</td>\n",
       "      <td>3</td>\n",
       "      <td>1</td>\n",
       "      <td>3</td>\n",
       "      <td>8</td>\n",
       "      <td>15.0</td>\n",
       "      <td>12.0</td>\n",
       "      <td>6.0</td>\n",
       "      <td>43.0</td>\n",
       "      <td>66.0</td>\n",
       "      <td>71.0</td>\n",
       "      <td>85.0</td>\n",
       "      <td>42.571429</td>\n",
       "    </tr>\n",
       "    <tr>\n",
       "      <th>2018-03-01 09:00:00</th>\n",
       "      <td>69</td>\n",
       "      <td>2018</td>\n",
       "      <td>3</td>\n",
       "      <td>1</td>\n",
       "      <td>3</td>\n",
       "      <td>9</td>\n",
       "      <td>34.0</td>\n",
       "      <td>15.0</td>\n",
       "      <td>12.0</td>\n",
       "      <td>6.0</td>\n",
       "      <td>43.0</td>\n",
       "      <td>66.0</td>\n",
       "      <td>71.0</td>\n",
       "      <td>35.285714</td>\n",
       "    </tr>\n",
       "  </tbody>\n",
       "</table>\n",
       "</div>"
      ],
      "text/plain": [
       "                     num_orders  year  month  day  dayofweek  hour  lag_1  \\\n",
       "datetime                                                                    \n",
       "2018-03-01 00:00:00         124  2018      3    1          3     0    NaN   \n",
       "2018-03-01 01:00:00          85  2018      3    1          3     1  124.0   \n",
       "2018-03-01 02:00:00          71  2018      3    1          3     2   85.0   \n",
       "2018-03-01 03:00:00          66  2018      3    1          3     3   71.0   \n",
       "2018-03-01 04:00:00          43  2018      3    1          3     4   66.0   \n",
       "2018-03-01 05:00:00           6  2018      3    1          3     5   43.0   \n",
       "2018-03-01 06:00:00          12  2018      3    1          3     6    6.0   \n",
       "2018-03-01 07:00:00          15  2018      3    1          3     7   12.0   \n",
       "2018-03-01 08:00:00          34  2018      3    1          3     8   15.0   \n",
       "2018-03-01 09:00:00          69  2018      3    1          3     9   34.0   \n",
       "\n",
       "                     lag_2  lag_3  lag_4  lag_5  lag_6  lag_7  rolling_mean  \n",
       "datetime                                                                     \n",
       "2018-03-01 00:00:00    NaN    NaN    NaN    NaN    NaN    NaN           NaN  \n",
       "2018-03-01 01:00:00    NaN    NaN    NaN    NaN    NaN    NaN           NaN  \n",
       "2018-03-01 02:00:00  124.0    NaN    NaN    NaN    NaN    NaN           NaN  \n",
       "2018-03-01 03:00:00   85.0  124.0    NaN    NaN    NaN    NaN           NaN  \n",
       "2018-03-01 04:00:00   71.0   85.0  124.0    NaN    NaN    NaN           NaN  \n",
       "2018-03-01 05:00:00   66.0   71.0   85.0  124.0    NaN    NaN           NaN  \n",
       "2018-03-01 06:00:00   43.0   66.0   71.0   85.0  124.0    NaN           NaN  \n",
       "2018-03-01 07:00:00    6.0   43.0   66.0   71.0   85.0  124.0     58.142857  \n",
       "2018-03-01 08:00:00   12.0    6.0   43.0   66.0   71.0   85.0     42.571429  \n",
       "2018-03-01 09:00:00   15.0   12.0    6.0   43.0   66.0   71.0     35.285714  "
      ]
     },
     "execution_count": 220,
     "metadata": {},
     "output_type": "execute_result"
    }
   ],
   "source": [
    "df_new.head(10)"
   ]
  },
  {
   "cell_type": "markdown",
   "metadata": {},
   "source": [
    "### Разделение выборки"
   ]
  },
  {
   "cell_type": "code",
   "execution_count": 218,
   "metadata": {},
   "outputs": [
    {
     "name": "stdout",
     "output_type": "stream",
     "text": [
      "Размер обучающей выборки: (3974, 14)\n",
      "Размер тестовой выборки: (442, 14)\n"
     ]
    }
   ],
   "source": [
    "# размер тестовой выборки 10%\n",
    "# не перемешивать, чтобы не сбить временной ряд\n",
    "\n",
    "train, test = train_test_split(df_new, test_size=0.1, random_state=42, shuffle=False)\n",
    "\n",
    "print(\"Размер обучающей выборки:\", train.shape)\n",
    "print(\"Размер тестовой выборки:\", test.shape)"
   ]
  },
  {
   "cell_type": "code",
   "execution_count": 219,
   "metadata": {},
   "outputs": [],
   "source": [
    "train_features = train.drop('num_orders', axis=1)\n",
    "train_target = train['num_orders']\n",
    "\n",
    "test_features = test.drop('num_orders', axis=1)\n",
    "test_target = test['num_orders']"
   ]
  },
  {
   "cell_type": "markdown",
   "metadata": {},
   "source": [
    "## Обучение"
   ]
  },
  {
   "cell_type": "markdown",
   "metadata": {},
   "source": [
    "### Кросс-валидация RandomizedSearchCV для CatBoostRegressor"
   ]
  },
  {
   "cell_type": "markdown",
   "metadata": {},
   "source": [
    "Модель выбрана по балансу: точность прогноза и время обучения, предсказания модели."
   ]
  },
  {
   "cell_type": "code",
   "execution_count": 223,
   "metadata": {},
   "outputs": [],
   "source": [
    "# необходимо разделение временного ряда для кросс валидации\n",
    "\n",
    "tscv = TimeSeriesSplit(n_splits=5)"
   ]
  },
  {
   "cell_type": "code",
   "execution_count": 225,
   "metadata": {},
   "outputs": [
    {
     "name": "stdout",
     "output_type": "stream",
     "text": [
      "CPU times: user 12min 40s, sys: 23.8 s, total: 13min 4s\n",
      "Wall time: 13min 23s\n"
     ]
    },
    {
     "data": {
      "text/plain": [
       "RandomizedSearchCV(cv=TimeSeriesSplit(gap=0, max_train_size=None, n_splits=5, test_size=None),\n",
       "                   estimator=<catboost.core.CatBoostRegressor object at 0x7f784c965280>,\n",
       "                   n_jobs=-1,\n",
       "                   param_distributions={'learning_rate': array([0.1, 0.2, 0.3, 0.4, 0.5]),\n",
       "                                        'max_depth': <scipy.stats._distn_infrastructure.rv_frozen object at 0x7f784c87bcd0>,\n",
       "                                        'n_estimators': <scipy.stats._distn_infrastructure.rv_frozen object at 0x7f784c99ad90>},\n",
       "                   random_state=42, scoring='neg_root_mean_squared_error')"
      ]
     },
     "execution_count": 225,
     "metadata": {},
     "output_type": "execute_result"
    }
   ],
   "source": [
    "%%time\n",
    "\n",
    "param_grid = {'n_estimators': randint(100, 500),           # количество деревьев в модели\n",
    "              'learning_rate': np.linspace(0.1, 0.5, 5),  # скорость обучения модели / скорость сокращения шага градиентного спуска\n",
    "              'max_depth': randint(5, 15)                  # глубина дерева в модели\n",
    "             }\n",
    "\n",
    "random_search_cat = RandomizedSearchCV(\n",
    "                                   CatBoostRegressor(loss_function=\"RMSE\",random_state=42,verbose=False),\n",
    "                                   param_grid,\n",
    "                                   scoring='neg_root_mean_squared_error',\n",
    "                                   random_state=42,\n",
    "                                   cv=tscv,\n",
    "                                   n_jobs=-1\n",
    "                                  )\n",
    "\n",
    "random_search_cat.fit(train_features, train_target)"
   ]
  },
  {
   "cell_type": "code",
   "execution_count": 226,
   "metadata": {
    "scrolled": true
   },
   "outputs": [
    {
     "name": "stdout",
     "output_type": "stream",
     "text": [
      "Результат по RMSE для CatBoost -26.14\n",
      "\n",
      "Параметры модели: {'learning_rate': 0.2, 'max_depth': 9, 'n_estimators': 260}\n"
     ]
    }
   ],
   "source": [
    "print(\"Результат по RMSE для CatBoost\", round(random_search_cat.best_score_,2))\n",
    "print()\n",
    "print(\"Параметры модели:\", random_search_cat.best_params_)"
   ]
  },
  {
   "cell_type": "markdown",
   "metadata": {},
   "source": [
    "### Кросс-валидация RandomizedSearchCV для LGBMRegressor"
   ]
  },
  {
   "cell_type": "markdown",
   "metadata": {},
   "source": [
    "Модель выбрана за высокий результат по прогнозу, однако, время обученя модели может быть очень продолжительным."
   ]
  },
  {
   "cell_type": "code",
   "execution_count": 227,
   "metadata": {},
   "outputs": [
    {
     "name": "stdout",
     "output_type": "stream",
     "text": [
      "[LightGBM] [Warning] No further splits with positive gain, best gain: -inf\n",
      "[LightGBM] [Warning] No further splits with positive gain, best gain: -inf\n",
      "[LightGBM] [Warning] No further splits with positive gain, best gain: -inf\n",
      "[LightGBM] [Warning] No further splits with positive gain, best gain: -inf\n",
      "[LightGBM] [Warning] No further splits with positive gain, best gain: -inf\n",
      "[LightGBM] [Warning] No further splits with positive gain, best gain: -inf\n",
      "[LightGBM] [Warning] No further splits with positive gain, best gain: -inf\n",
      "[LightGBM] [Warning] No further splits with positive gain, best gain: -inf\n",
      "[LightGBM] [Warning] No further splits with positive gain, best gain: -inf\n",
      "[LightGBM] [Warning] No further splits with positive gain, best gain: -inf\n",
      "[LightGBM] [Warning] No further splits with positive gain, best gain: -inf\n",
      "[LightGBM] [Warning] No further splits with positive gain, best gain: -inf\n",
      "[LightGBM] [Warning] No further splits with positive gain, best gain: -inf\n",
      "[LightGBM] [Warning] No further splits with positive gain, best gain: -inf\n",
      "[LightGBM] [Warning] No further splits with positive gain, best gain: -inf\n",
      "[LightGBM] [Warning] No further splits with positive gain, best gain: -inf\n",
      "[LightGBM] [Warning] No further splits with positive gain, best gain: -inf\n",
      "[LightGBM] [Warning] No further splits with positive gain, best gain: -inf\n",
      "[LightGBM] [Warning] No further splits with positive gain, best gain: -inf\n",
      "[LightGBM] [Warning] No further splits with positive gain, best gain: -inf\n",
      "[LightGBM] [Warning] No further splits with positive gain, best gain: -inf\n",
      "[LightGBM] [Warning] No further splits with positive gain, best gain: -inf\n",
      "[LightGBM] [Warning] No further splits with positive gain, best gain: -inf\n",
      "[LightGBM] [Warning] No further splits with positive gain, best gain: -inf\n",
      "[LightGBM] [Warning] No further splits with positive gain, best gain: -inf\n",
      "[LightGBM] [Warning] No further splits with positive gain, best gain: -inf\n",
      "[LightGBM] [Warning] No further splits with positive gain, best gain: -inf\n",
      "[LightGBM] [Warning] No further splits with positive gain, best gain: -inf\n",
      "[LightGBM] [Warning] No further splits with positive gain, best gain: -inf\n",
      "[LightGBM] [Warning] No further splits with positive gain, best gain: -inf\n",
      "[LightGBM] [Warning] No further splits with positive gain, best gain: -inf\n",
      "[LightGBM] [Warning] No further splits with positive gain, best gain: -inf\n",
      "[LightGBM] [Warning] No further splits with positive gain, best gain: -inf\n",
      "[LightGBM] [Warning] No further splits with positive gain, best gain: -inf\n",
      "[LightGBM] [Warning] No further splits with positive gain, best gain: -inf\n",
      "[LightGBM] [Warning] No further splits with positive gain, best gain: -inf\n",
      "[LightGBM] [Warning] No further splits with positive gain, best gain: -inf\n",
      "[LightGBM] [Warning] No further splits with positive gain, best gain: -inf\n",
      "[LightGBM] [Warning] No further splits with positive gain, best gain: -inf\n",
      "[LightGBM] [Warning] No further splits with positive gain, best gain: -inf\n",
      "[LightGBM] [Warning] No further splits with positive gain, best gain: -inf\n",
      "[LightGBM] [Warning] No further splits with positive gain, best gain: -inf\n",
      "[LightGBM] [Warning] No further splits with positive gain, best gain: -inf\n",
      "[LightGBM] [Warning] No further splits with positive gain, best gain: -inf\n",
      "[LightGBM] [Warning] No further splits with positive gain, best gain: -inf\n",
      "[LightGBM] [Warning] No further splits with positive gain, best gain: -inf\n",
      "[LightGBM] [Warning] No further splits with positive gain, best gain: -inf\n",
      "[LightGBM] [Warning] No further splits with positive gain, best gain: -inf\n",
      "[LightGBM] [Warning] No further splits with positive gain, best gain: -inf\n",
      "[LightGBM] [Warning] No further splits with positive gain, best gain: -inf\n",
      "[LightGBM] [Warning] No further splits with positive gain, best gain: -inf\n",
      "[LightGBM] [Warning] No further splits with positive gain, best gain: -inf\n",
      "[LightGBM] [Warning] No further splits with positive gain, best gain: -inf\n",
      "[LightGBM] [Warning] No further splits with positive gain, best gain: -inf\n",
      "[LightGBM] [Warning] No further splits with positive gain, best gain: -inf\n",
      "[LightGBM] [Warning] No further splits with positive gain, best gain: -inf\n",
      "[LightGBM] [Warning] No further splits with positive gain, best gain: -inf\n",
      "[LightGBM] [Warning] No further splits with positive gain, best gain: -inf\n",
      "[LightGBM] [Warning] No further splits with positive gain, best gain: -inf\n",
      "[LightGBM] [Warning] No further splits with positive gain, best gain: -inf\n",
      "[LightGBM] [Warning] No further splits with positive gain, best gain: -inf\n",
      "[LightGBM] [Warning] No further splits with positive gain, best gain: -inf\n",
      "[LightGBM] [Warning] No further splits with positive gain, best gain: -inf\n",
      "[LightGBM] [Warning] No further splits with positive gain, best gain: -inf\n",
      "[LightGBM] [Warning] No further splits with positive gain, best gain: -inf\n",
      "[LightGBM] [Warning] No further splits with positive gain, best gain: -inf\n",
      "[LightGBM] [Warning] No further splits with positive gain, best gain: -inf\n",
      "[LightGBM] [Warning] No further splits with positive gain, best gain: -inf\n",
      "[LightGBM] [Warning] No further splits with positive gain, best gain: -inf\n",
      "[LightGBM] [Warning] No further splits with positive gain, best gain: -inf\n",
      "[LightGBM] [Warning] No further splits with positive gain, best gain: -inf\n",
      "[LightGBM] [Warning] No further splits with positive gain, best gain: -inf\n",
      "[LightGBM] [Warning] No further splits with positive gain, best gain: -inf\n",
      "[LightGBM] [Warning] No further splits with positive gain, best gain: -inf\n",
      "[LightGBM] [Warning] No further splits with positive gain, best gain: -inf\n",
      "[LightGBM] [Warning] No further splits with positive gain, best gain: -inf\n",
      "[LightGBM] [Warning] No further splits with positive gain, best gain: -inf\n",
      "[LightGBM] [Warning] No further splits with positive gain, best gain: -inf\n",
      "[LightGBM] [Warning] No further splits with positive gain, best gain: -inf\n",
      "[LightGBM] [Warning] No further splits with positive gain, best gain: -inf\n",
      "[LightGBM] [Warning] No further splits with positive gain, best gain: -inf\n",
      "[LightGBM] [Warning] No further splits with positive gain, best gain: -inf\n",
      "[LightGBM] [Warning] No further splits with positive gain, best gain: -inf\n",
      "[LightGBM] [Warning] No further splits with positive gain, best gain: -inf\n",
      "[LightGBM] [Warning] No further splits with positive gain, best gain: -inf\n",
      "[LightGBM] [Warning] No further splits with positive gain, best gain: -inf\n",
      "[LightGBM] [Warning] No further splits with positive gain, best gain: -inf\n",
      "[LightGBM] [Warning] No further splits with positive gain, best gain: -inf\n",
      "[LightGBM] [Warning] No further splits with positive gain, best gain: -inf\n",
      "[LightGBM] [Warning] No further splits with positive gain, best gain: -inf\n",
      "[LightGBM] [Warning] No further splits with positive gain, best gain: -inf\n",
      "[LightGBM] [Warning] No further splits with positive gain, best gain: -inf\n",
      "[LightGBM] [Warning] No further splits with positive gain, best gain: -inf\n",
      "[LightGBM] [Warning] No further splits with positive gain, best gain: -inf\n",
      "[LightGBM] [Warning] No further splits with positive gain, best gain: -inf\n",
      "[LightGBM] [Warning] No further splits with positive gain, best gain: -inf\n",
      "[LightGBM] [Warning] No further splits with positive gain, best gain: -inf\n",
      "[LightGBM] [Warning] No further splits with positive gain, best gain: -inf\n",
      "[LightGBM] [Warning] No further splits with positive gain, best gain: -inf\n",
      "[LightGBM] [Warning] No further splits with positive gain, best gain: -inf\n",
      "[LightGBM] [Warning] No further splits with positive gain, best gain: -inf\n",
      "[LightGBM] [Warning] No further splits with positive gain, best gain: -inf\n",
      "[LightGBM] [Warning] No further splits with positive gain, best gain: -inf\n",
      "[LightGBM] [Warning] No further splits with positive gain, best gain: -inf\n",
      "[LightGBM] [Warning] No further splits with positive gain, best gain: -inf\n",
      "[LightGBM] [Warning] No further splits with positive gain, best gain: -inf\n",
      "[LightGBM] [Warning] No further splits with positive gain, best gain: -inf\n",
      "[LightGBM] [Warning] No further splits with positive gain, best gain: -inf\n",
      "[LightGBM] [Warning] No further splits with positive gain, best gain: -inf\n",
      "[LightGBM] [Warning] No further splits with positive gain, best gain: -inf\n",
      "[LightGBM] [Warning] No further splits with positive gain, best gain: -inf\n",
      "[LightGBM] [Warning] No further splits with positive gain, best gain: -inf\n",
      "[LightGBM] [Warning] No further splits with positive gain, best gain: -inf\n",
      "[LightGBM] [Warning] No further splits with positive gain, best gain: -inf\n",
      "[LightGBM] [Warning] No further splits with positive gain, best gain: -inf\n",
      "[LightGBM] [Warning] No further splits with positive gain, best gain: -inf\n",
      "[LightGBM] [Warning] No further splits with positive gain, best gain: -inf\n",
      "[LightGBM] [Warning] No further splits with positive gain, best gain: -inf\n",
      "[LightGBM] [Warning] No further splits with positive gain, best gain: -inf\n",
      "[LightGBM] [Warning] No further splits with positive gain, best gain: -inf\n",
      "[LightGBM] [Warning] No further splits with positive gain, best gain: -inf\n",
      "[LightGBM] [Warning] No further splits with positive gain, best gain: -inf\n",
      "[LightGBM] [Warning] No further splits with positive gain, best gain: -inf\n",
      "[LightGBM] [Warning] No further splits with positive gain, best gain: -inf\n",
      "[LightGBM] [Warning] No further splits with positive gain, best gain: -inf\n",
      "[LightGBM] [Warning] No further splits with positive gain, best gain: -inf\n",
      "[LightGBM] [Warning] No further splits with positive gain, best gain: -inf\n",
      "[LightGBM] [Warning] No further splits with positive gain, best gain: -inf\n",
      "[LightGBM] [Warning] No further splits with positive gain, best gain: -inf\n",
      "[LightGBM] [Warning] No further splits with positive gain, best gain: -inf\n",
      "[LightGBM] [Warning] No further splits with positive gain, best gain: -inf\n",
      "[LightGBM] [Warning] No further splits with positive gain, best gain: -inf\n",
      "[LightGBM] [Warning] No further splits with positive gain, best gain: -inf\n",
      "[LightGBM] [Warning] No further splits with positive gain, best gain: -inf\n",
      "[LightGBM] [Warning] No further splits with positive gain, best gain: -inf\n",
      "[LightGBM] [Warning] No further splits with positive gain, best gain: -inf\n",
      "[LightGBM] [Warning] No further splits with positive gain, best gain: -inf\n",
      "[LightGBM] [Warning] No further splits with positive gain, best gain: -inf\n",
      "[LightGBM] [Warning] No further splits with positive gain, best gain: -inf\n",
      "[LightGBM] [Warning] No further splits with positive gain, best gain: -inf\n",
      "[LightGBM] [Warning] No further splits with positive gain, best gain: -inf\n",
      "[LightGBM] [Warning] No further splits with positive gain, best gain: -inf\n",
      "[LightGBM] [Warning] No further splits with positive gain, best gain: -inf\n",
      "[LightGBM] [Warning] No further splits with positive gain, best gain: -inf\n",
      "[LightGBM] [Warning] No further splits with positive gain, best gain: -inf\n",
      "[LightGBM] [Warning] No further splits with positive gain, best gain: -inf\n",
      "[LightGBM] [Warning] No further splits with positive gain, best gain: -inf\n",
      "[LightGBM] [Warning] No further splits with positive gain, best gain: -inf\n",
      "[LightGBM] [Warning] No further splits with positive gain, best gain: -inf\n",
      "[LightGBM] [Warning] No further splits with positive gain, best gain: -inf\n",
      "[LightGBM] [Warning] No further splits with positive gain, best gain: -inf\n",
      "[LightGBM] [Warning] No further splits with positive gain, best gain: -inf\n",
      "[LightGBM] [Warning] No further splits with positive gain, best gain: -inf\n",
      "[LightGBM] [Warning] No further splits with positive gain, best gain: -inf\n",
      "[LightGBM] [Warning] No further splits with positive gain, best gain: -inf\n",
      "[LightGBM] [Warning] No further splits with positive gain, best gain: -inf\n",
      "[LightGBM] [Warning] No further splits with positive gain, best gain: -inf\n",
      "[LightGBM] [Warning] No further splits with positive gain, best gain: -inf\n",
      "[LightGBM] [Warning] No further splits with positive gain, best gain: -inf\n",
      "[LightGBM] [Warning] No further splits with positive gain, best gain: -inf\n",
      "[LightGBM] [Warning] No further splits with positive gain, best gain: -inf\n",
      "[LightGBM] [Warning] No further splits with positive gain, best gain: -inf\n",
      "[LightGBM] [Warning] No further splits with positive gain, best gain: -inf\n",
      "[LightGBM] [Warning] No further splits with positive gain, best gain: -inf\n",
      "[LightGBM] [Warning] No further splits with positive gain, best gain: -inf\n",
      "[LightGBM] [Warning] No further splits with positive gain, best gain: -inf\n",
      "[LightGBM] [Warning] No further splits with positive gain, best gain: -inf\n",
      "[LightGBM] [Warning] No further splits with positive gain, best gain: -inf\n",
      "[LightGBM] [Warning] No further splits with positive gain, best gain: -inf\n",
      "[LightGBM] [Warning] No further splits with positive gain, best gain: -inf\n",
      "[LightGBM] [Warning] No further splits with positive gain, best gain: -inf\n",
      "[LightGBM] [Warning] No further splits with positive gain, best gain: -inf\n",
      "[LightGBM] [Warning] No further splits with positive gain, best gain: -inf\n",
      "[LightGBM] [Warning] No further splits with positive gain, best gain: -inf\n",
      "[LightGBM] [Warning] No further splits with positive gain, best gain: -inf\n",
      "[LightGBM] [Warning] No further splits with positive gain, best gain: -inf\n",
      "[LightGBM] [Warning] No further splits with positive gain, best gain: -inf\n",
      "[LightGBM] [Warning] No further splits with positive gain, best gain: -inf\n",
      "[LightGBM] [Warning] No further splits with positive gain, best gain: -inf\n",
      "[LightGBM] [Warning] No further splits with positive gain, best gain: -inf\n",
      "[LightGBM] [Warning] No further splits with positive gain, best gain: -inf\n",
      "[LightGBM] [Warning] No further splits with positive gain, best gain: -inf\n",
      "[LightGBM] [Warning] No further splits with positive gain, best gain: -inf\n",
      "[LightGBM] [Warning] No further splits with positive gain, best gain: -inf\n",
      "[LightGBM] [Warning] No further splits with positive gain, best gain: -inf\n",
      "[LightGBM] [Warning] No further splits with positive gain, best gain: -inf\n",
      "[LightGBM] [Warning] No further splits with positive gain, best gain: -inf\n",
      "[LightGBM] [Warning] No further splits with positive gain, best gain: -inf\n",
      "[LightGBM] [Warning] No further splits with positive gain, best gain: -inf\n",
      "[LightGBM] [Warning] No further splits with positive gain, best gain: -inf\n",
      "[LightGBM] [Warning] No further splits with positive gain, best gain: -inf\n",
      "[LightGBM] [Warning] No further splits with positive gain, best gain: -inf\n",
      "CPU times: user 1min 3s, sys: 330 ms, total: 1min 3s\n",
      "Wall time: 1min 4s\n"
     ]
    },
    {
     "data": {
      "text/plain": [
       "RandomizedSearchCV(cv=TimeSeriesSplit(gap=0, max_train_size=None, n_splits=5, test_size=None),\n",
       "                   estimator=LGBMRegressor(force_col_wise=True, random_state=42,\n",
       "                                           verbose=0),\n",
       "                   n_jobs=-1,\n",
       "                   param_distributions={'learning_rate': array([0.1, 0.2, 0.3, 0.4, 0.5]),\n",
       "                                        'max_depth': <scipy.stats._distn_infrastructure.rv_frozen object at 0x7f784c1a9cd0>,\n",
       "                                        'n_estimators': <scipy.stats._distn_infrastructure.rv_frozen object at 0x7f784c0247c0>,\n",
       "                                        'num_leaves': <scipy.stats._distn_infrastructure.rv_frozen object at 0x7f784c99a310>},\n",
       "                   random_state=42, scoring='neg_root_mean_squared_error')"
      ]
     },
     "execution_count": 227,
     "metadata": {},
     "output_type": "execute_result"
    }
   ],
   "source": [
    "%%time\n",
    "\n",
    " param_grid = {'n_estimators': randint(100, 500),          # количество деревьев в модели\n",
    "              'learning_rate': np.linspace(0.1, 0.5, 5),   # скорость обучения модели / скорость сокращения шага градиентного спуска\n",
    "              'max_depth': randint(5, 15),                  # глубина дерева в модели\n",
    "              'num_leaves': randint(2, 15) \n",
    "             }\n",
    "\n",
    "random_search_lgbm = RandomizedSearchCV(\n",
    "                                   LGBMRegressor(random_state=42,verbose=0,force_col_wise=True),\n",
    "                                   param_grid,\n",
    "                                   scoring='neg_root_mean_squared_error',\n",
    "                                   random_state=42,\n",
    "                                   cv=tscv,\n",
    "                                   n_jobs=-1\n",
    "                                  )\n",
    "\n",
    "random_search_lgbm.fit(train_features, train_target)"
   ]
  },
  {
   "cell_type": "code",
   "execution_count": 228,
   "metadata": {},
   "outputs": [
    {
     "name": "stdout",
     "output_type": "stream",
     "text": [
      "Результат по RMSE для LGBM -25.83\n",
      "\n",
      "Параметры модели: {'learning_rate': 0.30000000000000004, 'max_depth': 10, 'n_estimators': 408, 'num_leaves': 3}\n"
     ]
    }
   ],
   "source": [
    "print(\"Результат по RMSE для LGBM\", round(random_search_lgbm.best_score_,2))\n",
    "print()\n",
    "print(\"Параметры модели:\", random_search_lgbm.best_params_)"
   ]
  },
  {
   "cell_type": "markdown",
   "metadata": {},
   "source": [
    "## Тестирование"
   ]
  },
  {
   "cell_type": "markdown",
   "metadata": {},
   "source": [
    "### Результат на тестовой выборке для CatBoostRegressor"
   ]
  },
  {
   "cell_type": "code",
   "execution_count": 80,
   "metadata": {},
   "outputs": [
    {
     "name": "stdout",
     "output_type": "stream",
     "text": [
      "Результат по RMSE для CatBoost на тестовой выборке 44.79167\n",
      "CPU times: user 3.15 ms, sys: 0 ns, total: 3.15 ms\n",
      "Wall time: 2.89 ms\n"
     ]
    }
   ],
   "source": [
    "%%time\n",
    "\n",
    "predictions_cat = random_search_cat.predict(test_features)\n",
    "\n",
    "rmse_cat = mean_squared_error(test_target, predictions_cat)**0.5\n",
    "\n",
    "print(\"Результат по RMSE для CatBoost на тестовой выборке\", round(rmse_cat,5))"
   ]
  },
  {
   "cell_type": "markdown",
   "metadata": {},
   "source": [
    "**Вывод:** Значение RMSE ниже целевого показателя, равного 48, модель может быть принята основной после проверки на адекватность."
   ]
  },
  {
   "cell_type": "markdown",
   "metadata": {},
   "source": [
    "### Результат на тестовой выборке для для LGBMRegressor"
   ]
  },
  {
   "cell_type": "code",
   "execution_count": 81,
   "metadata": {},
   "outputs": [
    {
     "name": "stdout",
     "output_type": "stream",
     "text": [
      "Результат по RMSE для LGBM на тестовой выборке 44.92187\n",
      "CPU times: user 14.5 ms, sys: 3.59 ms, total: 18.1 ms\n",
      "Wall time: 67 ms\n"
     ]
    }
   ],
   "source": [
    "%%time\n",
    "\n",
    "predictions_lgbm = random_search_lgbm.predict(test_features)\n",
    "\n",
    "rmse_lgbm = mean_squared_error(test_target, predictions_lgbm)**0.5\n",
    "\n",
    "print(\"Результат по RMSE для LGBM на тестовой выборке\", round(rmse_lgbm,5))"
   ]
  },
  {
   "cell_type": "markdown",
   "metadata": {},
   "source": [
    "**Вывод:** Значение RMSE ниже целевого показателя, равного 48, модель может быть принята основной после проверки на адекватность."
   ]
  },
  {
   "cell_type": "markdown",
   "metadata": {},
   "source": [
    "## Проверка модели на адекватность"
   ]
  },
  {
   "cell_type": "markdown",
   "metadata": {},
   "source": [
    "### Проверка предсказанием среднего значения"
   ]
  },
  {
   "cell_type": "code",
   "execution_count": 86,
   "metadata": {},
   "outputs": [],
   "source": [
    "# создадим ряд/вектор длинной равный тестовой выборке на базе медианного значения\n",
    "\n",
    "median_test_target = np.ones(test_target.shape)*test_target.median()"
   ]
  },
  {
   "cell_type": "code",
   "execution_count": 97,
   "metadata": {},
   "outputs": [
    {
     "name": "stdout",
     "output_type": "stream",
     "text": [
      "Результат по RMSE на тестовой выборке по медианному значению:\n",
      "58.73\n"
     ]
    }
   ],
   "source": [
    "print(\"Результат по RMSE на тестовой выборке по медианному значению:\")\n",
    "print(round(mean_squared_error(test_target, median_test_target)**0.5,2))"
   ]
  },
  {
   "cell_type": "markdown",
   "metadata": {},
   "source": [
    "**Вывод:** Обе рассмотренные модели обеспечивают предсказание лучше, что прогноз на базе предыдущего значения."
   ]
  },
  {
   "cell_type": "markdown",
   "metadata": {},
   "source": [
    "### Проверка предсказанием предыдущего значения"
   ]
  },
  {
   "cell_type": "code",
   "execution_count": 98,
   "metadata": {},
   "outputs": [],
   "source": [
    "prev_test_target = test_target.shift() # сдвигаем ряд целевого признака на 1\n",
    "\n",
    "prev_test_target.iloc[0] = prev_test_target.iloc[-1] # заменяем первое пропущенное значение на последнее из-за смещения"
   ]
  },
  {
   "cell_type": "code",
   "execution_count": 99,
   "metadata": {},
   "outputs": [
    {
     "name": "stdout",
     "output_type": "stream",
     "text": [
      "Результат по RMSE на тестовой выборке по предыдущему значению:\n",
      "59.13\n"
     ]
    }
   ],
   "source": [
    "print(\"Результат по RMSE на тестовой выборке по предыдущему значению:\")\n",
    "print(round(mean_squared_error(test_target, prev_test_target)**0.5,2))"
   ]
  },
  {
   "cell_type": "markdown",
   "metadata": {},
   "source": [
    "**Вывод:** Обе рассмотренные модели обеспечивают предсказание лучше, что прогноз на базе предыдущего значения."
   ]
  },
  {
   "cell_type": "markdown",
   "metadata": {},
   "source": [
    "## Вывод"
   ]
  },
  {
   "cell_type": "markdown",
   "metadata": {},
   "source": [
    "По результатам реализации проекта были выполнены следующие шаги:\n",
    "\n",
    "1. Проведен анализ данных:\n",
    "    - Оценена сезонность и тренд роста числа заказов.\n",
    "    - Обработаны пропущенные значения.\n",
    "    \n",
    "    \n",
    "2. Собраны признаки для работы временного ряда при машинном обучении.\n",
    "    - Вручную заданы \"лаг\" и \"окно\" анализа временного ряда.\n",
    "    \n",
    "    \n",
    "3. Проведено машинное обучение для двух моделей: CatBoost и LGBM с подбором параметров по методу кросс-валидации RandomizedSearchCV.\n",
    "\n",
    "\n",
    "4. Результаты моделей по RMSE на тестовой выборке получены выше целевого показателя равного 48:\n",
    "    - RMSE CatBoost: 44.79167\n",
    "    - RMSE LGBM: 44.92187\n",
    "    \n",
    "    \n",
    "5. Проведен анализ адекватности построенных моделей по методу предсказания 1) медианы и 2) предыдущего значения.\n"
   ]
  },
  {
   "cell_type": "markdown",
   "metadata": {},
   "source": [
    "## Чек-лист проверки"
   ]
  },
  {
   "cell_type": "markdown",
   "metadata": {},
   "source": [
    "- [x]  Jupyter Notebook открыт\n",
    "- [x]  Весь код выполняется без ошибок\n",
    "- [x]  Ячейки с кодом расположены в порядке исполнения\n",
    "- [x]  Данные загружены и подготовлены\n",
    "- [x]  Данные проанализированы\n",
    "- [x]  Модель обучена, гиперпараметры подобраны\n",
    "- [x]  Качество моделей проверено, выводы сделаны\n",
    "- [x]  Значение *RMSE* на тестовой выборке не больше 48"
   ]
  }
 ],
 "metadata": {
  "ExecuteTimeLog": [
   {
    "duration": 944,
    "start_time": "2022-06-03T10:23:38.444Z"
   },
   {
    "duration": 516,
    "start_time": "2022-06-03T10:24:38.870Z"
   },
   {
    "duration": 3,
    "start_time": "2022-06-03T10:25:09.070Z"
   },
   {
    "duration": 116,
    "start_time": "2022-06-03T10:25:51.641Z"
   },
   {
    "duration": 117,
    "start_time": "2022-06-03T10:25:55.441Z"
   },
   {
    "duration": 13,
    "start_time": "2022-06-03T10:26:00.770Z"
   },
   {
    "duration": 44,
    "start_time": "2022-06-03T10:27:11.670Z"
   },
   {
    "duration": 10,
    "start_time": "2022-06-03T10:27:12.331Z"
   },
   {
    "duration": 6,
    "start_time": "2022-06-03T10:27:48.406Z"
   },
   {
    "duration": 3,
    "start_time": "2022-06-03T10:27:56.170Z"
   },
   {
    "duration": 55,
    "start_time": "2022-06-03T10:27:56.444Z"
   },
   {
    "duration": 7,
    "start_time": "2022-06-03T10:27:57.069Z"
   },
   {
    "duration": 18,
    "start_time": "2022-06-03T10:28:09.424Z"
   },
   {
    "duration": 10,
    "start_time": "2022-06-03T10:28:37.217Z"
   },
   {
    "duration": 7,
    "start_time": "2022-06-03T10:29:21.743Z"
   },
   {
    "duration": 4,
    "start_time": "2022-06-03T10:30:59.678Z"
   },
   {
    "duration": 5,
    "start_time": "2022-06-03T10:31:30.740Z"
   },
   {
    "duration": 9,
    "start_time": "2022-06-03T10:31:31.296Z"
   },
   {
    "duration": 317,
    "start_time": "2022-06-03T10:34:51.452Z"
   },
   {
    "duration": 730,
    "start_time": "2022-06-03T10:35:06.199Z"
   },
   {
    "duration": 613,
    "start_time": "2022-06-03T10:35:14.396Z"
   },
   {
    "duration": 737,
    "start_time": "2022-06-03T10:38:28.938Z"
   },
   {
    "duration": 638,
    "start_time": "2022-06-03T10:38:39.081Z"
   },
   {
    "duration": 37,
    "start_time": "2022-06-03T10:48:50.702Z"
   },
   {
    "duration": 49,
    "start_time": "2022-06-03T10:48:54.011Z"
   },
   {
    "duration": 136,
    "start_time": "2022-06-03T10:49:01.149Z"
   },
   {
    "duration": 741,
    "start_time": "2022-06-03T10:49:11.654Z"
   },
   {
    "duration": 609,
    "start_time": "2022-06-03T10:50:22.457Z"
   },
   {
    "duration": 709,
    "start_time": "2022-06-03T10:50:43.914Z"
   },
   {
    "duration": 606,
    "start_time": "2022-06-03T10:50:53.755Z"
   },
   {
    "duration": 26,
    "start_time": "2022-06-03T10:54:01.418Z"
   },
   {
    "duration": 263,
    "start_time": "2022-06-03T10:54:02.198Z"
   },
   {
    "duration": 13,
    "start_time": "2022-06-03T10:54:03.818Z"
   },
   {
    "duration": 4,
    "start_time": "2022-06-03T10:54:09.849Z"
   },
   {
    "duration": 47,
    "start_time": "2022-06-03T10:54:09.855Z"
   },
   {
    "duration": 7,
    "start_time": "2022-06-03T10:54:09.903Z"
   },
   {
    "duration": 10,
    "start_time": "2022-06-03T10:54:09.913Z"
   },
   {
    "duration": 19,
    "start_time": "2022-06-03T10:54:09.924Z"
   },
   {
    "duration": 227,
    "start_time": "2022-06-03T10:54:09.944Z"
   },
   {
    "duration": 10,
    "start_time": "2022-06-03T10:54:10.173Z"
   },
   {
    "duration": 299,
    "start_time": "2022-06-03T10:55:02.591Z"
   },
   {
    "duration": 11,
    "start_time": "2022-06-03T10:55:46.637Z"
   },
   {
    "duration": 5,
    "start_time": "2022-06-03T10:56:32.717Z"
   },
   {
    "duration": 293,
    "start_time": "2022-06-03T10:56:34.397Z"
   },
   {
    "duration": 3,
    "start_time": "2022-06-03T10:57:10.961Z"
   },
   {
    "duration": 47,
    "start_time": "2022-06-03T10:57:10.966Z"
   },
   {
    "duration": 7,
    "start_time": "2022-06-03T10:57:11.015Z"
   },
   {
    "duration": 14,
    "start_time": "2022-06-03T10:57:11.023Z"
   },
   {
    "duration": 17,
    "start_time": "2022-06-03T10:57:11.040Z"
   },
   {
    "duration": 364,
    "start_time": "2022-06-03T10:57:11.059Z"
   },
   {
    "duration": 22,
    "start_time": "2022-06-03T10:57:11.424Z"
   },
   {
    "duration": 231,
    "start_time": "2022-06-03T10:57:28.120Z"
   },
   {
    "duration": 10,
    "start_time": "2022-06-03T10:57:31.503Z"
   },
   {
    "duration": 1509,
    "start_time": "2022-06-03T13:28:00.674Z"
   },
   {
    "duration": 149,
    "start_time": "2022-06-03T13:28:02.185Z"
   },
   {
    "duration": 11,
    "start_time": "2022-06-03T13:28:02.335Z"
   },
   {
    "duration": 11,
    "start_time": "2022-06-03T13:28:02.348Z"
   },
   {
    "duration": 12,
    "start_time": "2022-06-03T13:28:02.361Z"
   },
   {
    "duration": 328,
    "start_time": "2022-06-03T13:28:02.374Z"
   },
   {
    "duration": 11,
    "start_time": "2022-06-03T13:28:02.703Z"
   },
   {
    "duration": 17,
    "start_time": "2022-06-03T13:28:02.716Z"
   },
   {
    "duration": 4,
    "start_time": "2022-06-03T13:30:55.794Z"
   },
   {
    "duration": 4,
    "start_time": "2022-06-03T13:31:19.879Z"
   },
   {
    "duration": 10,
    "start_time": "2022-06-03T13:31:20.867Z"
   },
   {
    "duration": 139,
    "start_time": "2022-06-03T13:31:32.165Z"
   },
   {
    "duration": 8,
    "start_time": "2022-06-03T13:31:40.881Z"
   },
   {
    "duration": 4,
    "start_time": "2022-06-03T13:36:02.029Z"
   },
   {
    "duration": 5,
    "start_time": "2022-06-03T13:37:15.078Z"
   },
   {
    "duration": 16,
    "start_time": "2022-06-03T13:37:26.876Z"
   },
   {
    "duration": 4,
    "start_time": "2022-06-03T13:37:36.790Z"
   },
   {
    "duration": 542,
    "start_time": "2022-06-03T13:37:37.369Z"
   },
   {
    "duration": 35,
    "start_time": "2022-06-03T13:38:14.420Z"
   },
   {
    "duration": 5,
    "start_time": "2022-06-03T13:38:30.745Z"
   },
   {
    "duration": 20,
    "start_time": "2022-06-03T13:38:32.484Z"
   },
   {
    "duration": 4,
    "start_time": "2022-06-03T13:38:39.493Z"
   },
   {
    "duration": 19,
    "start_time": "2022-06-03T13:38:40.195Z"
   },
   {
    "duration": 10,
    "start_time": "2022-06-03T13:38:41.280Z"
   },
   {
    "duration": 4,
    "start_time": "2022-06-03T13:39:10.391Z"
   },
   {
    "duration": 11,
    "start_time": "2022-06-03T13:39:10.933Z"
   },
   {
    "duration": 12,
    "start_time": "2022-06-03T13:39:11.478Z"
   },
   {
    "duration": 5,
    "start_time": "2022-06-03T13:39:49.797Z"
   },
   {
    "duration": 910,
    "start_time": "2022-06-03T13:39:50.532Z"
   },
   {
    "duration": 13,
    "start_time": "2022-06-03T13:39:51.446Z"
   },
   {
    "duration": 5,
    "start_time": "2022-06-03T13:39:58.880Z"
   },
   {
    "duration": 8,
    "start_time": "2022-06-03T13:39:59.384Z"
   },
   {
    "duration": 13,
    "start_time": "2022-06-03T13:39:59.974Z"
   },
   {
    "duration": 9,
    "start_time": "2022-06-03T13:40:18.089Z"
   },
   {
    "duration": 14,
    "start_time": "2022-06-03T13:40:18.790Z"
   },
   {
    "duration": 14,
    "start_time": "2022-06-03T13:40:24.996Z"
   },
   {
    "duration": 5,
    "start_time": "2022-06-03T13:40:33.507Z"
   },
   {
    "duration": 59,
    "start_time": "2022-06-03T13:40:33.514Z"
   },
   {
    "duration": 7,
    "start_time": "2022-06-03T13:40:33.575Z"
   },
   {
    "duration": 6,
    "start_time": "2022-06-03T13:40:33.583Z"
   },
   {
    "duration": 9,
    "start_time": "2022-06-03T13:40:33.592Z"
   },
   {
    "duration": 256,
    "start_time": "2022-06-03T13:40:33.602Z"
   },
   {
    "duration": 12,
    "start_time": "2022-06-03T13:40:33.861Z"
   },
   {
    "duration": 16,
    "start_time": "2022-06-03T13:40:33.875Z"
   },
   {
    "duration": 16,
    "start_time": "2022-06-03T13:40:33.893Z"
   },
   {
    "duration": 13,
    "start_time": "2022-06-03T13:40:33.911Z"
   },
   {
    "duration": 9,
    "start_time": "2022-06-03T13:40:45.429Z"
   },
   {
    "duration": 16,
    "start_time": "2022-06-03T13:40:45.909Z"
   },
   {
    "duration": 4,
    "start_time": "2022-06-03T13:40:54.609Z"
   },
   {
    "duration": 52,
    "start_time": "2022-06-03T13:40:54.616Z"
   },
   {
    "duration": 8,
    "start_time": "2022-06-03T13:40:54.671Z"
   },
   {
    "duration": 5,
    "start_time": "2022-06-03T13:40:54.680Z"
   },
   {
    "duration": 11,
    "start_time": "2022-06-03T13:40:54.688Z"
   },
   {
    "duration": 275,
    "start_time": "2022-06-03T13:40:54.700Z"
   },
   {
    "duration": 17,
    "start_time": "2022-06-03T13:40:54.977Z"
   },
   {
    "duration": 6,
    "start_time": "2022-06-03T13:40:54.996Z"
   },
   {
    "duration": 20,
    "start_time": "2022-06-03T13:40:55.004Z"
   },
   {
    "duration": 15,
    "start_time": "2022-06-03T13:40:55.025Z"
   },
   {
    "duration": 20,
    "start_time": "2022-06-03T13:41:03.872Z"
   },
   {
    "duration": 7,
    "start_time": "2022-06-03T13:41:43.333Z"
   },
   {
    "duration": 56,
    "start_time": "2022-06-03T13:41:52.501Z"
   },
   {
    "duration": 6,
    "start_time": "2022-06-03T13:41:56.502Z"
   },
   {
    "duration": 606,
    "start_time": "2022-06-03T13:42:00.949Z"
   },
   {
    "duration": 5,
    "start_time": "2022-06-03T13:43:16.682Z"
   },
   {
    "duration": 779,
    "start_time": "2022-06-03T13:43:17.385Z"
   },
   {
    "duration": 0,
    "start_time": "2022-06-03T13:43:18.166Z"
   },
   {
    "duration": 5,
    "start_time": "2022-06-03T13:44:09.786Z"
   },
   {
    "duration": 10,
    "start_time": "2022-06-03T13:44:10.426Z"
   },
   {
    "duration": 20,
    "start_time": "2022-06-03T13:44:10.933Z"
   },
   {
    "duration": 4,
    "start_time": "2022-06-03T13:44:16.499Z"
   },
   {
    "duration": 54,
    "start_time": "2022-06-03T13:44:16.505Z"
   },
   {
    "duration": 7,
    "start_time": "2022-06-03T13:44:16.561Z"
   },
   {
    "duration": 6,
    "start_time": "2022-06-03T13:44:16.570Z"
   },
   {
    "duration": 9,
    "start_time": "2022-06-03T13:44:16.578Z"
   },
   {
    "duration": 252,
    "start_time": "2022-06-03T13:44:16.589Z"
   },
   {
    "duration": 11,
    "start_time": "2022-06-03T13:44:16.843Z"
   },
   {
    "duration": 6,
    "start_time": "2022-06-03T13:44:16.856Z"
   },
   {
    "duration": 36,
    "start_time": "2022-06-03T13:44:16.863Z"
   },
   {
    "duration": 26,
    "start_time": "2022-06-03T13:44:16.901Z"
   },
   {
    "duration": 2,
    "start_time": "2022-06-03T13:46:43.002Z"
   },
   {
    "duration": 10,
    "start_time": "2022-06-03T13:47:53.083Z"
   },
   {
    "duration": 6,
    "start_time": "2022-06-03T13:48:17.333Z"
   },
   {
    "duration": 5,
    "start_time": "2022-06-03T13:49:31.010Z"
   },
   {
    "duration": 5,
    "start_time": "2022-06-03T13:50:17.909Z"
   },
   {
    "duration": 6,
    "start_time": "2022-06-03T13:50:32.390Z"
   },
   {
    "duration": 11,
    "start_time": "2022-06-03T13:50:38.482Z"
   },
   {
    "duration": 109,
    "start_time": "2022-06-03T13:53:28.790Z"
   },
   {
    "duration": 6,
    "start_time": "2022-06-03T13:53:57.984Z"
   },
   {
    "duration": 11,
    "start_time": "2022-06-03T13:54:15.209Z"
   },
   {
    "duration": 3,
    "start_time": "2022-06-03T13:54:51.658Z"
   },
   {
    "duration": 966,
    "start_time": "2022-06-03T16:00:15.929Z"
   },
   {
    "duration": 561,
    "start_time": "2022-06-03T16:00:38.966Z"
   },
   {
    "duration": 4,
    "start_time": "2022-06-03T16:00:42.264Z"
   },
   {
    "duration": 153,
    "start_time": "2022-06-03T16:00:42.271Z"
   },
   {
    "duration": 14,
    "start_time": "2022-06-03T16:00:42.426Z"
   },
   {
    "duration": 9,
    "start_time": "2022-06-03T16:00:42.442Z"
   },
   {
    "duration": 21,
    "start_time": "2022-06-03T16:00:42.453Z"
   },
   {
    "duration": 390,
    "start_time": "2022-06-03T16:00:42.475Z"
   },
   {
    "duration": 14,
    "start_time": "2022-06-03T16:00:42.867Z"
   },
   {
    "duration": 41,
    "start_time": "2022-06-03T16:00:42.883Z"
   },
   {
    "duration": 29,
    "start_time": "2022-06-03T16:00:42.926Z"
   },
   {
    "duration": 21,
    "start_time": "2022-06-03T16:00:42.958Z"
   },
   {
    "duration": 9,
    "start_time": "2022-06-03T16:00:42.980Z"
   },
   {
    "duration": 10,
    "start_time": "2022-06-03T16:00:42.991Z"
   },
   {
    "duration": 76,
    "start_time": "2022-06-03T16:00:59.823Z"
   },
   {
    "duration": 10,
    "start_time": "2022-06-03T16:02:08.211Z"
   },
   {
    "duration": 19,
    "start_time": "2022-06-03T16:04:21.439Z"
   },
   {
    "duration": 6,
    "start_time": "2022-06-03T16:04:27.502Z"
   },
   {
    "duration": 4,
    "start_time": "2022-06-03T16:04:36.843Z"
   },
   {
    "duration": 62,
    "start_time": "2022-06-03T16:04:36.849Z"
   },
   {
    "duration": 7,
    "start_time": "2022-06-03T16:04:36.913Z"
   },
   {
    "duration": 8,
    "start_time": "2022-06-03T16:04:36.921Z"
   },
   {
    "duration": 10,
    "start_time": "2022-06-03T16:04:36.930Z"
   },
   {
    "duration": 230,
    "start_time": "2022-06-03T16:04:36.941Z"
   },
   {
    "duration": 11,
    "start_time": "2022-06-03T16:04:37.172Z"
   },
   {
    "duration": 8,
    "start_time": "2022-06-03T16:04:37.184Z"
   },
   {
    "duration": 10,
    "start_time": "2022-06-03T16:04:37.194Z"
   },
   {
    "duration": 19,
    "start_time": "2022-06-03T16:04:37.206Z"
   },
   {
    "duration": 19,
    "start_time": "2022-06-03T16:04:37.226Z"
   },
   {
    "duration": 17,
    "start_time": "2022-06-03T16:04:37.247Z"
   },
   {
    "duration": 6,
    "start_time": "2022-06-03T16:04:37.266Z"
   },
   {
    "duration": 4,
    "start_time": "2022-06-03T16:04:37.275Z"
   },
   {
    "duration": 14,
    "start_time": "2022-06-03T16:05:13.080Z"
   },
   {
    "duration": 7,
    "start_time": "2022-06-03T16:05:29.937Z"
   },
   {
    "duration": 137,
    "start_time": "2022-06-03T16:05:48.670Z"
   },
   {
    "duration": 126,
    "start_time": "2022-06-03T16:05:55.919Z"
   },
   {
    "duration": 138,
    "start_time": "2022-06-03T16:06:11.166Z"
   },
   {
    "duration": 134,
    "start_time": "2022-06-03T16:06:50.925Z"
   },
   {
    "duration": 101,
    "start_time": "2022-06-03T16:08:14.477Z"
   },
   {
    "duration": 120,
    "start_time": "2022-06-03T16:08:31.150Z"
   },
   {
    "duration": 142,
    "start_time": "2022-06-03T16:09:22.270Z"
   },
   {
    "duration": 138,
    "start_time": "2022-06-03T16:09:33.343Z"
   },
   {
    "duration": 302,
    "start_time": "2022-06-03T16:10:47.877Z"
   },
   {
    "duration": 318,
    "start_time": "2022-06-03T16:12:27.394Z"
   },
   {
    "duration": 469,
    "start_time": "2022-06-03T16:12:35.401Z"
   },
   {
    "duration": 521,
    "start_time": "2022-06-03T16:13:18.834Z"
   },
   {
    "duration": 638,
    "start_time": "2022-06-03T16:13:29.897Z"
   },
   {
    "duration": 613,
    "start_time": "2022-06-03T16:14:42.625Z"
   },
   {
    "duration": 708,
    "start_time": "2022-06-03T16:14:55.545Z"
   },
   {
    "duration": 1524,
    "start_time": "2022-06-04T10:26:36.105Z"
   },
   {
    "duration": 154,
    "start_time": "2022-06-04T10:26:37.632Z"
   },
   {
    "duration": 12,
    "start_time": "2022-06-04T10:26:37.788Z"
   },
   {
    "duration": 5,
    "start_time": "2022-06-04T10:26:37.802Z"
   },
   {
    "duration": 12,
    "start_time": "2022-06-04T10:26:37.809Z"
   },
   {
    "duration": 392,
    "start_time": "2022-06-04T10:26:37.823Z"
   },
   {
    "duration": 16,
    "start_time": "2022-06-04T10:26:38.220Z"
   },
   {
    "duration": 40,
    "start_time": "2022-06-04T10:26:38.239Z"
   },
   {
    "duration": 506,
    "start_time": "2022-06-04T10:26:38.281Z"
   },
   {
    "duration": 0,
    "start_time": "2022-06-04T10:26:38.789Z"
   },
   {
    "duration": 0,
    "start_time": "2022-06-04T10:26:38.791Z"
   },
   {
    "duration": 0,
    "start_time": "2022-06-04T10:26:38.793Z"
   },
   {
    "duration": 0,
    "start_time": "2022-06-04T10:26:38.795Z"
   },
   {
    "duration": 0,
    "start_time": "2022-06-04T10:26:38.796Z"
   },
   {
    "duration": 10,
    "start_time": "2022-06-04T10:26:50.189Z"
   },
   {
    "duration": 9,
    "start_time": "2022-06-04T10:27:00.073Z"
   },
   {
    "duration": 4,
    "start_time": "2022-06-04T10:27:06.625Z"
   },
   {
    "duration": 74,
    "start_time": "2022-06-04T10:27:06.632Z"
   },
   {
    "duration": 10,
    "start_time": "2022-06-04T10:27:06.708Z"
   },
   {
    "duration": 16,
    "start_time": "2022-06-04T10:27:06.720Z"
   },
   {
    "duration": 15,
    "start_time": "2022-06-04T10:27:06.739Z"
   },
   {
    "duration": 292,
    "start_time": "2022-06-04T10:27:06.756Z"
   },
   {
    "duration": 13,
    "start_time": "2022-06-04T10:27:07.050Z"
   },
   {
    "duration": 30,
    "start_time": "2022-06-04T10:27:07.066Z"
   },
   {
    "duration": 294,
    "start_time": "2022-06-04T10:27:07.098Z"
   },
   {
    "duration": 0,
    "start_time": "2022-06-04T10:27:07.394Z"
   },
   {
    "duration": 0,
    "start_time": "2022-06-04T10:27:07.396Z"
   },
   {
    "duration": 0,
    "start_time": "2022-06-04T10:27:07.397Z"
   },
   {
    "duration": 0,
    "start_time": "2022-06-04T10:27:07.398Z"
   },
   {
    "duration": 0,
    "start_time": "2022-06-04T10:27:07.400Z"
   },
   {
    "duration": 0,
    "start_time": "2022-06-04T10:27:07.402Z"
   },
   {
    "duration": 765,
    "start_time": "2022-06-04T10:27:20.977Z"
   },
   {
    "duration": 673,
    "start_time": "2022-06-04T10:27:34.777Z"
   },
   {
    "duration": 675,
    "start_time": "2022-06-04T10:28:11.705Z"
   },
   {
    "duration": 676,
    "start_time": "2022-06-04T10:28:32.928Z"
   },
   {
    "duration": 5,
    "start_time": "2022-06-04T10:28:33.606Z"
   },
   {
    "duration": 15,
    "start_time": "2022-06-04T10:28:33.789Z"
   },
   {
    "duration": 20,
    "start_time": "2022-06-04T10:28:34.013Z"
   },
   {
    "duration": 7,
    "start_time": "2022-06-04T10:28:34.423Z"
   },
   {
    "duration": 5,
    "start_time": "2022-06-04T10:28:34.981Z"
   },
   {
    "duration": 15,
    "start_time": "2022-06-04T10:28:37.601Z"
   },
   {
    "duration": 626,
    "start_time": "2022-06-04T10:29:12.689Z"
   },
   {
    "duration": 786,
    "start_time": "2022-06-04T10:29:38.700Z"
   },
   {
    "duration": 5,
    "start_time": "2022-06-04T10:29:58.294Z"
   },
   {
    "duration": 73,
    "start_time": "2022-06-04T10:29:58.301Z"
   },
   {
    "duration": 9,
    "start_time": "2022-06-04T10:29:58.377Z"
   },
   {
    "duration": 12,
    "start_time": "2022-06-04T10:29:58.388Z"
   },
   {
    "duration": 14,
    "start_time": "2022-06-04T10:29:58.404Z"
   },
   {
    "duration": 300,
    "start_time": "2022-06-04T10:29:58.421Z"
   },
   {
    "duration": 11,
    "start_time": "2022-06-04T10:29:58.722Z"
   },
   {
    "duration": 13,
    "start_time": "2022-06-04T10:29:58.734Z"
   },
   {
    "duration": 644,
    "start_time": "2022-06-04T10:29:58.749Z"
   },
   {
    "duration": 8,
    "start_time": "2022-06-04T10:30:35.693Z"
   },
   {
    "duration": 11,
    "start_time": "2022-06-04T10:31:01.585Z"
   },
   {
    "duration": 28,
    "start_time": "2022-06-04T10:31:08.134Z"
   },
   {
    "duration": 30,
    "start_time": "2022-06-04T10:31:13.877Z"
   },
   {
    "duration": 9,
    "start_time": "2022-06-04T10:31:19.101Z"
   },
   {
    "duration": 765,
    "start_time": "2022-06-04T10:34:59.489Z"
   },
   {
    "duration": 598,
    "start_time": "2022-06-04T10:35:19.129Z"
   },
   {
    "duration": 602,
    "start_time": "2022-06-04T10:35:24.812Z"
   },
   {
    "duration": 9,
    "start_time": "2022-06-04T10:37:26.214Z"
   },
   {
    "duration": 10,
    "start_time": "2022-06-04T10:37:31.009Z"
   },
   {
    "duration": 2,
    "start_time": "2022-06-04T10:39:15.909Z"
   },
   {
    "duration": 249,
    "start_time": "2022-06-04T10:40:10.585Z"
   },
   {
    "duration": 5,
    "start_time": "2022-06-04T10:44:36.905Z"
   },
   {
    "duration": 4,
    "start_time": "2022-06-04T10:45:14.606Z"
   },
   {
    "duration": 5,
    "start_time": "2022-06-04T10:45:54.084Z"
   },
   {
    "duration": 15,
    "start_time": "2022-06-04T10:47:44.028Z"
   },
   {
    "duration": 29,
    "start_time": "2022-06-04T10:47:45.104Z"
   },
   {
    "duration": 5,
    "start_time": "2022-06-04T10:47:50.430Z"
   },
   {
    "duration": 57,
    "start_time": "2022-06-04T10:47:50.436Z"
   },
   {
    "duration": 7,
    "start_time": "2022-06-04T10:47:50.495Z"
   },
   {
    "duration": 8,
    "start_time": "2022-06-04T10:47:50.503Z"
   },
   {
    "duration": 7,
    "start_time": "2022-06-04T10:47:50.514Z"
   },
   {
    "duration": 263,
    "start_time": "2022-06-04T10:47:50.523Z"
   },
   {
    "duration": 10,
    "start_time": "2022-06-04T10:47:50.789Z"
   },
   {
    "duration": 10,
    "start_time": "2022-06-04T10:47:50.801Z"
   },
   {
    "duration": 612,
    "start_time": "2022-06-04T10:47:50.813Z"
   },
   {
    "duration": 10,
    "start_time": "2022-06-04T10:47:51.426Z"
   },
   {
    "duration": 5,
    "start_time": "2022-06-04T10:47:51.438Z"
   },
   {
    "duration": 19,
    "start_time": "2022-06-04T10:47:51.445Z"
   },
   {
    "duration": 40,
    "start_time": "2022-06-04T10:47:51.466Z"
   },
   {
    "duration": 7,
    "start_time": "2022-06-04T10:47:51.509Z"
   },
   {
    "duration": 7,
    "start_time": "2022-06-04T10:47:51.518Z"
   },
   {
    "duration": 1430,
    "start_time": "2022-06-04T11:49:31.619Z"
   },
   {
    "duration": 54,
    "start_time": "2022-06-04T11:49:33.051Z"
   },
   {
    "duration": 11,
    "start_time": "2022-06-04T11:49:33.107Z"
   },
   {
    "duration": 14,
    "start_time": "2022-06-04T11:49:33.119Z"
   },
   {
    "duration": 11,
    "start_time": "2022-06-04T11:49:33.135Z"
   },
   {
    "duration": 292,
    "start_time": "2022-06-04T11:49:33.148Z"
   },
   {
    "duration": 12,
    "start_time": "2022-06-04T11:49:33.441Z"
   },
   {
    "duration": 43,
    "start_time": "2022-06-04T11:49:33.456Z"
   },
   {
    "duration": 643,
    "start_time": "2022-06-04T11:49:33.501Z"
   },
   {
    "duration": 10,
    "start_time": "2022-06-04T11:49:34.146Z"
   },
   {
    "duration": 20,
    "start_time": "2022-06-04T11:49:34.158Z"
   },
   {
    "duration": 36,
    "start_time": "2022-06-04T11:49:34.180Z"
   },
   {
    "duration": 22,
    "start_time": "2022-06-04T11:49:34.218Z"
   },
   {
    "duration": 16,
    "start_time": "2022-06-04T11:49:34.243Z"
   },
   {
    "duration": 18,
    "start_time": "2022-06-04T11:49:34.261Z"
   },
   {
    "duration": 1260001,
    "start_time": "2022-06-04T12:10:22.356Z"
   },
   {
    "duration": 3,
    "start_time": "2022-06-04T12:31:22.359Z"
   },
   {
    "duration": 43,
    "start_time": "2022-06-04T12:52:08.660Z"
   },
   {
    "duration": 139,
    "start_time": "2022-06-04T12:52:15.014Z"
   },
   {
    "duration": 5,
    "start_time": "2022-06-04T12:52:25.037Z"
   },
   {
    "duration": 4,
    "start_time": "2022-06-04T12:52:30.999Z"
   },
   {
    "duration": 5,
    "start_time": "2022-06-04T12:52:50.101Z"
   },
   {
    "duration": 50,
    "start_time": "2022-06-04T12:56:36.888Z"
   },
   {
    "duration": 10,
    "start_time": "2022-06-04T12:56:57.254Z"
   },
   {
    "duration": 329,
    "start_time": "2022-06-04T12:58:20.854Z"
   },
   {
    "duration": 1516,
    "start_time": "2022-06-04T13:01:09.636Z"
   },
   {
    "duration": 55,
    "start_time": "2022-06-04T13:01:11.154Z"
   },
   {
    "duration": 10,
    "start_time": "2022-06-04T13:01:11.211Z"
   },
   {
    "duration": 3,
    "start_time": "2022-06-04T13:01:11.224Z"
   },
   {
    "duration": 10,
    "start_time": "2022-06-04T13:01:11.229Z"
   },
   {
    "duration": 288,
    "start_time": "2022-06-04T13:01:11.241Z"
   },
   {
    "duration": 13,
    "start_time": "2022-06-04T13:01:11.531Z"
   },
   {
    "duration": 10,
    "start_time": "2022-06-04T13:01:11.546Z"
   },
   {
    "duration": 678,
    "start_time": "2022-06-04T13:01:11.558Z"
   },
   {
    "duration": 10,
    "start_time": "2022-06-04T13:01:12.239Z"
   },
   {
    "duration": 6,
    "start_time": "2022-06-04T13:01:12.250Z"
   },
   {
    "duration": 21,
    "start_time": "2022-06-04T13:01:12.258Z"
   },
   {
    "duration": 36,
    "start_time": "2022-06-04T13:01:12.281Z"
   },
   {
    "duration": 7,
    "start_time": "2022-06-04T13:01:12.319Z"
   },
   {
    "duration": 7,
    "start_time": "2022-06-04T13:01:12.328Z"
   },
   {
    "duration": 1268091,
    "start_time": "2022-06-04T13:01:12.336Z"
   },
   {
    "duration": 5,
    "start_time": "2022-06-04T13:22:20.429Z"
   },
   {
    "duration": 179,
    "start_time": "2022-06-04T13:22:20.436Z"
   },
   {
    "duration": 0,
    "start_time": "2022-06-04T13:22:20.617Z"
   },
   {
    "duration": 0,
    "start_time": "2022-06-04T13:22:20.618Z"
   },
   {
    "duration": 3082164,
    "start_time": "2022-06-04T16:22:15.544Z"
   },
   {
    "duration": 4,
    "start_time": "2022-06-04T17:13:37.710Z"
   },
   {
    "duration": 52310,
    "start_time": "2022-06-04T17:23:11.626Z"
   },
   {
    "duration": 36,
    "start_time": "2022-06-04T17:24:07.825Z"
   },
   {
    "duration": 37,
    "start_time": "2022-06-04T17:24:12.544Z"
   },
   {
    "duration": 8431,
    "start_time": "2022-06-04T17:24:31.201Z"
   },
   {
    "duration": 134037,
    "start_time": "2022-06-04T17:24:54.658Z"
   },
   {
    "duration": 30481,
    "start_time": "2022-06-04T17:27:10.332Z"
   },
   {
    "duration": 148534,
    "start_time": "2022-06-04T17:27:43.834Z"
   },
   {
    "duration": 21,
    "start_time": "2022-06-04T17:30:12.370Z"
   },
   {
    "duration": 10341592,
    "start_time": "2022-06-04T17:30:19.318Z"
   },
   {
    "duration": 11,
    "start_time": "2022-06-04T20:22:40.912Z"
   },
   {
    "duration": 1472,
    "start_time": "2022-06-05T05:21:40.424Z"
   },
   {
    "duration": 115,
    "start_time": "2022-06-05T05:21:41.898Z"
   },
   {
    "duration": 10,
    "start_time": "2022-06-05T05:21:42.015Z"
   },
   {
    "duration": 4,
    "start_time": "2022-06-05T05:21:42.028Z"
   },
   {
    "duration": 13,
    "start_time": "2022-06-05T05:21:42.034Z"
   },
   {
    "duration": 248,
    "start_time": "2022-06-05T05:21:42.049Z"
   },
   {
    "duration": 11,
    "start_time": "2022-06-05T05:21:42.299Z"
   },
   {
    "duration": 9,
    "start_time": "2022-06-05T05:21:42.312Z"
   },
   {
    "duration": 578,
    "start_time": "2022-06-05T05:21:42.323Z"
   },
   {
    "duration": 9,
    "start_time": "2022-06-05T05:21:42.903Z"
   },
   {
    "duration": 4,
    "start_time": "2022-06-05T05:21:42.914Z"
   },
   {
    "duration": 17,
    "start_time": "2022-06-05T05:21:42.920Z"
   },
   {
    "duration": 16,
    "start_time": "2022-06-05T05:21:42.939Z"
   },
   {
    "duration": 7,
    "start_time": "2022-06-05T05:21:42.957Z"
   },
   {
    "duration": 9,
    "start_time": "2022-06-05T05:21:42.995Z"
   },
   {
    "duration": 1193195,
    "start_time": "2022-06-05T05:21:43.006Z"
   },
   {
    "duration": 5,
    "start_time": "2022-06-05T05:41:36.202Z"
   },
   {
    "duration": 47398,
    "start_time": "2022-06-05T05:41:36.208Z"
   },
   {
    "duration": 4,
    "start_time": "2022-06-05T05:42:23.608Z"
   },
   {
    "duration": 973637,
    "start_time": "2022-06-05T05:45:15.784Z"
   },
   {
    "duration": 4,
    "start_time": "2022-06-05T06:01:29.423Z"
   },
   {
    "duration": 35,
    "start_time": "2022-06-05T06:14:03.984Z"
   },
   {
    "duration": 19,
    "start_time": "2022-06-05T06:20:25.426Z"
   },
   {
    "duration": 146,
    "start_time": "2022-06-05T06:21:10.446Z"
   },
   {
    "duration": 8,
    "start_time": "2022-06-05T06:21:52.954Z"
   },
   {
    "duration": 7,
    "start_time": "2022-06-05T06:23:10.262Z"
   },
   {
    "duration": 10,
    "start_time": "2022-06-05T06:23:14.792Z"
   },
   {
    "duration": 12,
    "start_time": "2022-06-05T06:23:47.757Z"
   },
   {
    "duration": 7,
    "start_time": "2022-06-05T06:23:50.862Z"
   },
   {
    "duration": 6,
    "start_time": "2022-06-05T06:23:59.850Z"
   },
   {
    "duration": 20,
    "start_time": "2022-06-05T06:24:00.306Z"
   },
   {
    "duration": 7,
    "start_time": "2022-06-05T06:24:40.037Z"
   },
   {
    "duration": 12,
    "start_time": "2022-06-05T06:24:40.570Z"
   },
   {
    "duration": 16,
    "start_time": "2022-06-05T06:24:54.938Z"
   },
   {
    "duration": 7,
    "start_time": "2022-06-05T06:24:57.465Z"
   },
   {
    "duration": 5,
    "start_time": "2022-06-05T06:25:29.038Z"
   },
   {
    "duration": 8,
    "start_time": "2022-06-05T06:25:29.725Z"
   },
   {
    "duration": 12,
    "start_time": "2022-06-05T06:25:30.157Z"
   },
   {
    "duration": 14,
    "start_time": "2022-06-05T06:27:47.838Z"
   },
   {
    "duration": 3,
    "start_time": "2022-06-05T06:48:53.265Z"
   },
   {
    "duration": 4,
    "start_time": "2022-06-05T06:48:57.781Z"
   },
   {
    "duration": 6,
    "start_time": "2022-06-05T06:49:45.170Z"
   },
   {
    "duration": 4,
    "start_time": "2022-06-05T06:49:49.937Z"
   },
   {
    "duration": 18,
    "start_time": "2022-06-05T06:51:57.703Z"
   },
   {
    "duration": 16,
    "start_time": "2022-06-05T06:52:23.714Z"
   },
   {
    "duration": 18,
    "start_time": "2022-06-05T06:53:00.913Z"
   },
   {
    "duration": 4,
    "start_time": "2022-06-05T06:53:06.705Z"
   },
   {
    "duration": 16,
    "start_time": "2022-06-05T06:53:11.633Z"
   },
   {
    "duration": 7,
    "start_time": "2022-06-05T06:53:34.914Z"
   },
   {
    "duration": 7,
    "start_time": "2022-06-05T06:53:56.960Z"
   },
   {
    "duration": 5,
    "start_time": "2022-06-05T06:54:36.112Z"
   },
   {
    "duration": 4,
    "start_time": "2022-06-05T06:54:41.104Z"
   },
   {
    "duration": 31,
    "start_time": "2022-06-05T06:55:32.386Z"
   },
   {
    "duration": 4,
    "start_time": "2022-06-05T06:55:37.248Z"
   },
   {
    "duration": 4,
    "start_time": "2022-06-05T06:56:10.625Z"
   },
   {
    "duration": 9,
    "start_time": "2022-06-05T06:56:48.481Z"
   },
   {
    "duration": 4,
    "start_time": "2022-06-05T06:56:54.487Z"
   },
   {
    "duration": 4,
    "start_time": "2022-06-05T06:57:07.465Z"
   },
   {
    "duration": 5,
    "start_time": "2022-06-05T06:57:20.281Z"
   },
   {
    "duration": 53,
    "start_time": "2022-06-05T06:57:20.288Z"
   },
   {
    "duration": 7,
    "start_time": "2022-06-05T06:57:20.343Z"
   },
   {
    "duration": 6,
    "start_time": "2022-06-05T06:57:20.353Z"
   },
   {
    "duration": 11,
    "start_time": "2022-06-05T06:57:20.360Z"
   },
   {
    "duration": 206,
    "start_time": "2022-06-05T06:57:20.373Z"
   },
   {
    "duration": 19,
    "start_time": "2022-06-05T06:57:20.582Z"
   },
   {
    "duration": 9,
    "start_time": "2022-06-05T06:57:20.603Z"
   },
   {
    "duration": 644,
    "start_time": "2022-06-05T06:57:20.613Z"
   },
   {
    "duration": 8,
    "start_time": "2022-06-05T06:57:21.260Z"
   },
   {
    "duration": 15,
    "start_time": "2022-06-05T06:57:21.270Z"
   },
   {
    "duration": 9,
    "start_time": "2022-06-05T06:57:21.295Z"
   },
   {
    "duration": 11,
    "start_time": "2022-06-05T06:57:21.306Z"
   },
   {
    "duration": 25,
    "start_time": "2022-06-05T06:57:21.318Z"
   },
   {
    "duration": 34,
    "start_time": "2022-06-05T06:57:21.345Z"
   },
   {
    "duration": 14,
    "start_time": "2022-06-05T06:57:21.381Z"
   },
   {
    "duration": 40,
    "start_time": "2022-06-05T06:57:21.396Z"
   },
   {
    "duration": 1115902,
    "start_time": "2022-06-05T06:57:21.438Z"
   },
   {
    "duration": 4,
    "start_time": "2022-06-05T07:15:57.342Z"
   },
   {
    "duration": 55559,
    "start_time": "2022-06-05T07:15:57.348Z"
   },
   {
    "duration": 4,
    "start_time": "2022-06-05T07:16:52.908Z"
   },
   {
    "duration": 9,
    "start_time": "2022-06-05T07:16:52.914Z"
   },
   {
    "duration": 73,
    "start_time": "2022-06-05T07:16:52.925Z"
   },
   {
    "duration": 3,
    "start_time": "2022-06-05T07:16:53.000Z"
   },
   {
    "duration": 8,
    "start_time": "2022-06-05T07:16:53.005Z"
   },
   {
    "duration": 31,
    "start_time": "2022-06-05T07:27:17.907Z"
   },
   {
    "duration": 34,
    "start_time": "2022-06-05T07:27:28.686Z"
   },
   {
    "duration": 4,
    "start_time": "2022-06-05T07:30:53.990Z"
   },
   {
    "duration": 4,
    "start_time": "2022-06-05T07:31:17.220Z"
   },
   {
    "duration": 4,
    "start_time": "2022-06-05T07:31:28.821Z"
   },
   {
    "duration": 4,
    "start_time": "2022-06-05T07:31:35.590Z"
   },
   {
    "duration": 28,
    "start_time": "2022-06-05T07:31:59.893Z"
   },
   {
    "duration": 4,
    "start_time": "2022-06-05T07:32:05.386Z"
   },
   {
    "duration": 4,
    "start_time": "2022-06-05T07:32:11.045Z"
   },
   {
    "duration": 4,
    "start_time": "2022-06-05T07:32:20.821Z"
   },
   {
    "duration": 5,
    "start_time": "2022-06-05T07:32:24.023Z"
   },
   {
    "duration": 4,
    "start_time": "2022-06-05T07:32:40.886Z"
   },
   {
    "duration": 21,
    "start_time": "2022-06-05T07:32:44.149Z"
   },
   {
    "duration": 4,
    "start_time": "2022-06-05T07:32:47.893Z"
   },
   {
    "duration": 4,
    "start_time": "2022-06-05T07:32:48.756Z"
   },
   {
    "duration": 6,
    "start_time": "2022-06-05T07:32:49.160Z"
   },
   {
    "duration": 5,
    "start_time": "2022-06-05T16:11:33.971Z"
   },
   {
    "duration": 1527,
    "start_time": "2022-06-06T12:20:57.450Z"
   },
   {
    "duration": 117,
    "start_time": "2022-06-06T12:20:58.979Z"
   },
   {
    "duration": 10,
    "start_time": "2022-06-06T12:20:59.098Z"
   },
   {
    "duration": 16,
    "start_time": "2022-06-06T12:20:59.111Z"
   },
   {
    "duration": 31,
    "start_time": "2022-06-06T12:20:59.129Z"
   },
   {
    "duration": 268,
    "start_time": "2022-06-06T12:20:59.161Z"
   },
   {
    "duration": 11,
    "start_time": "2022-06-06T12:20:59.431Z"
   },
   {
    "duration": 15,
    "start_time": "2022-06-06T12:20:59.444Z"
   },
   {
    "duration": 608,
    "start_time": "2022-06-06T12:20:59.461Z"
   },
   {
    "duration": 218,
    "start_time": "2022-06-06T12:21:00.072Z"
   },
   {
    "duration": 9,
    "start_time": "2022-06-06T12:21:00.291Z"
   },
   {
    "duration": 8,
    "start_time": "2022-06-06T12:21:00.302Z"
   },
   {
    "duration": 10,
    "start_time": "2022-06-06T12:21:00.312Z"
   },
   {
    "duration": 6,
    "start_time": "2022-06-06T12:21:00.327Z"
   },
   {
    "duration": 22,
    "start_time": "2022-06-06T12:21:00.334Z"
   },
   {
    "duration": 17,
    "start_time": "2022-06-06T12:21:00.358Z"
   },
   {
    "duration": 18,
    "start_time": "2022-06-06T12:21:00.377Z"
   },
   {
    "duration": 8,
    "start_time": "2022-06-06T12:21:00.397Z"
   },
   {
    "duration": 727,
    "start_time": "2022-06-06T12:23:29.007Z"
   },
   {
    "duration": 165,
    "start_time": "2022-06-06T12:23:46.856Z"
   },
   {
    "duration": 243,
    "start_time": "2022-06-06T12:25:26.667Z"
   },
   {
    "duration": 21,
    "start_time": "2022-06-06T12:25:47.239Z"
   },
   {
    "duration": 23,
    "start_time": "2022-06-06T12:25:57.584Z"
   },
   {
    "duration": 4,
    "start_time": "2022-06-06T12:26:06.971Z"
   },
   {
    "duration": 93,
    "start_time": "2022-06-06T12:26:06.977Z"
   },
   {
    "duration": 9,
    "start_time": "2022-06-06T12:26:07.073Z"
   },
   {
    "duration": 8,
    "start_time": "2022-06-06T12:26:07.083Z"
   },
   {
    "duration": 11,
    "start_time": "2022-06-06T12:26:07.092Z"
   },
   {
    "duration": 269,
    "start_time": "2022-06-06T12:26:07.105Z"
   },
   {
    "duration": 10,
    "start_time": "2022-06-06T12:26:07.375Z"
   },
   {
    "duration": 24,
    "start_time": "2022-06-06T12:26:07.386Z"
   },
   {
    "duration": 589,
    "start_time": "2022-06-06T12:26:07.412Z"
   },
   {
    "duration": 12,
    "start_time": "2022-06-06T12:26:08.003Z"
   },
   {
    "duration": 321,
    "start_time": "2022-06-06T12:26:08.027Z"
   },
   {
    "duration": 9,
    "start_time": "2022-06-06T12:26:08.350Z"
   },
   {
    "duration": 28,
    "start_time": "2022-06-06T12:26:08.361Z"
   },
   {
    "duration": 11,
    "start_time": "2022-06-06T12:26:08.392Z"
   },
   {
    "duration": 12,
    "start_time": "2022-06-06T12:26:08.405Z"
   },
   {
    "duration": 26,
    "start_time": "2022-06-06T12:26:08.418Z"
   },
   {
    "duration": 30,
    "start_time": "2022-06-06T12:26:08.446Z"
   },
   {
    "duration": 21,
    "start_time": "2022-06-06T12:26:08.477Z"
   },
   {
    "duration": 15,
    "start_time": "2022-06-06T12:26:08.500Z"
   },
   {
    "duration": 177,
    "start_time": "2022-06-06T12:26:51.158Z"
   },
   {
    "duration": 4,
    "start_time": "2022-06-06T12:26:57.955Z"
   },
   {
    "duration": 58,
    "start_time": "2022-06-06T12:26:57.961Z"
   },
   {
    "duration": 7,
    "start_time": "2022-06-06T12:26:58.021Z"
   },
   {
    "duration": 27,
    "start_time": "2022-06-06T12:26:58.030Z"
   },
   {
    "duration": 12,
    "start_time": "2022-06-06T12:26:58.059Z"
   },
   {
    "duration": 233,
    "start_time": "2022-06-06T12:26:58.073Z"
   },
   {
    "duration": 10,
    "start_time": "2022-06-06T12:26:58.308Z"
   },
   {
    "duration": 22,
    "start_time": "2022-06-06T12:26:58.319Z"
   },
   {
    "duration": 647,
    "start_time": "2022-06-06T12:26:58.343Z"
   },
   {
    "duration": 267,
    "start_time": "2022-06-06T12:26:58.992Z"
   },
   {
    "duration": 10,
    "start_time": "2022-06-06T12:26:59.261Z"
   },
   {
    "duration": 13,
    "start_time": "2022-06-06T12:26:59.272Z"
   },
   {
    "duration": 5,
    "start_time": "2022-06-06T12:26:59.287Z"
   },
   {
    "duration": 8,
    "start_time": "2022-06-06T12:26:59.295Z"
   },
   {
    "duration": 34,
    "start_time": "2022-06-06T12:26:59.305Z"
   },
   {
    "duration": 19,
    "start_time": "2022-06-06T12:26:59.341Z"
   },
   {
    "duration": 9,
    "start_time": "2022-06-06T12:26:59.362Z"
   },
   {
    "duration": 12,
    "start_time": "2022-06-06T12:26:59.373Z"
   },
   {
    "duration": 29,
    "start_time": "2022-06-06T12:36:15.817Z"
   },
   {
    "duration": 25,
    "start_time": "2022-06-06T12:36:43.064Z"
   },
   {
    "duration": 141,
    "start_time": "2022-06-06T12:37:57.672Z"
   },
   {
    "duration": 4,
    "start_time": "2022-06-06T12:38:04.474Z"
   },
   {
    "duration": 52,
    "start_time": "2022-06-06T12:38:04.480Z"
   },
   {
    "duration": 9,
    "start_time": "2022-06-06T12:38:04.535Z"
   },
   {
    "duration": 8,
    "start_time": "2022-06-06T12:38:04.546Z"
   },
   {
    "duration": 14,
    "start_time": "2022-06-06T12:38:04.556Z"
   },
   {
    "duration": 254,
    "start_time": "2022-06-06T12:38:04.572Z"
   },
   {
    "duration": 14,
    "start_time": "2022-06-06T12:38:04.828Z"
   },
   {
    "duration": 18,
    "start_time": "2022-06-06T12:38:04.844Z"
   },
   {
    "duration": 667,
    "start_time": "2022-06-06T12:38:04.864Z"
   },
   {
    "duration": 268,
    "start_time": "2022-06-06T12:38:05.534Z"
   },
   {
    "duration": 8,
    "start_time": "2022-06-06T12:38:05.804Z"
   },
   {
    "duration": 16,
    "start_time": "2022-06-06T12:38:05.813Z"
   },
   {
    "duration": 8,
    "start_time": "2022-06-06T12:38:05.831Z"
   },
   {
    "duration": 5,
    "start_time": "2022-06-06T12:38:05.842Z"
   },
   {
    "duration": 14,
    "start_time": "2022-06-06T12:38:05.849Z"
   },
   {
    "duration": 17,
    "start_time": "2022-06-06T12:38:05.864Z"
   },
   {
    "duration": 7,
    "start_time": "2022-06-06T12:38:05.883Z"
   },
   {
    "duration": 6,
    "start_time": "2022-06-06T12:38:05.891Z"
   },
   {
    "duration": 157,
    "start_time": "2022-06-06T12:38:15.495Z"
   },
   {
    "duration": 7,
    "start_time": "2022-06-06T12:38:21.125Z"
   },
   {
    "duration": 56,
    "start_time": "2022-06-06T12:38:21.135Z"
   },
   {
    "duration": 6,
    "start_time": "2022-06-06T12:38:21.193Z"
   },
   {
    "duration": 10,
    "start_time": "2022-06-06T12:38:21.200Z"
   },
   {
    "duration": 7,
    "start_time": "2022-06-06T12:38:21.212Z"
   },
   {
    "duration": 248,
    "start_time": "2022-06-06T12:38:21.221Z"
   },
   {
    "duration": 14,
    "start_time": "2022-06-06T12:38:21.471Z"
   },
   {
    "duration": 21,
    "start_time": "2022-06-06T12:38:21.487Z"
   },
   {
    "duration": 623,
    "start_time": "2022-06-06T12:38:21.510Z"
   },
   {
    "duration": 247,
    "start_time": "2022-06-06T12:38:22.135Z"
   },
   {
    "duration": 18,
    "start_time": "2022-06-06T12:39:09.353Z"
   },
   {
    "duration": 11,
    "start_time": "2022-06-06T12:39:10.249Z"
   },
   {
    "duration": 4,
    "start_time": "2022-06-06T12:39:24.792Z"
   },
   {
    "duration": 71,
    "start_time": "2022-06-06T12:39:24.797Z"
   },
   {
    "duration": 7,
    "start_time": "2022-06-06T12:39:24.869Z"
   },
   {
    "duration": 30,
    "start_time": "2022-06-06T12:39:24.878Z"
   },
   {
    "duration": 35,
    "start_time": "2022-06-06T12:39:24.910Z"
   },
   {
    "duration": 367,
    "start_time": "2022-06-06T12:39:24.947Z"
   },
   {
    "duration": 18,
    "start_time": "2022-06-06T12:39:25.315Z"
   },
   {
    "duration": 10,
    "start_time": "2022-06-06T12:39:25.335Z"
   },
   {
    "duration": 589,
    "start_time": "2022-06-06T12:39:25.349Z"
   },
   {
    "duration": 242,
    "start_time": "2022-06-06T12:39:25.941Z"
   },
   {
    "duration": 8,
    "start_time": "2022-06-06T12:39:26.184Z"
   },
   {
    "duration": 6,
    "start_time": "2022-06-06T12:39:26.194Z"
   },
   {
    "duration": 32,
    "start_time": "2022-06-06T12:39:26.201Z"
   },
   {
    "duration": 9,
    "start_time": "2022-06-06T12:39:26.235Z"
   },
   {
    "duration": 25,
    "start_time": "2022-06-06T12:39:26.247Z"
   },
   {
    "duration": 9,
    "start_time": "2022-06-06T12:39:26.273Z"
   },
   {
    "duration": 0,
    "start_time": "2022-06-06T12:39:26.283Z"
   },
   {
    "duration": 0,
    "start_time": "2022-06-06T12:39:26.284Z"
   },
   {
    "duration": 6,
    "start_time": "2022-06-06T12:39:41.750Z"
   },
   {
    "duration": 87,
    "start_time": "2022-06-06T12:39:41.758Z"
   },
   {
    "duration": 20,
    "start_time": "2022-06-06T12:39:41.847Z"
   },
   {
    "duration": 17,
    "start_time": "2022-06-06T12:39:41.870Z"
   },
   {
    "duration": 9,
    "start_time": "2022-06-06T12:39:42.478Z"
   },
   {
    "duration": 244,
    "start_time": "2022-06-06T12:39:42.489Z"
   },
   {
    "duration": 14,
    "start_time": "2022-06-06T12:39:42.735Z"
   },
   {
    "duration": 14,
    "start_time": "2022-06-06T12:39:42.751Z"
   },
   {
    "duration": 674,
    "start_time": "2022-06-06T12:39:42.767Z"
   },
   {
    "duration": 235,
    "start_time": "2022-06-06T12:39:43.443Z"
   },
   {
    "duration": 9,
    "start_time": "2022-06-06T12:39:43.679Z"
   },
   {
    "duration": 5,
    "start_time": "2022-06-06T12:39:43.690Z"
   },
   {
    "duration": 6,
    "start_time": "2022-06-06T12:39:43.697Z"
   },
   {
    "duration": 28,
    "start_time": "2022-06-06T12:39:43.704Z"
   },
   {
    "duration": 20,
    "start_time": "2022-06-06T12:39:43.735Z"
   },
   {
    "duration": 21,
    "start_time": "2022-06-06T12:39:43.757Z"
   },
   {
    "duration": 0,
    "start_time": "2022-06-06T12:39:43.780Z"
   },
   {
    "duration": 0,
    "start_time": "2022-06-06T12:39:43.781Z"
   },
   {
    "duration": 2,
    "start_time": "2022-06-06T12:39:49.991Z"
   },
   {
    "duration": 4,
    "start_time": "2022-06-06T12:40:00.156Z"
   },
   {
    "duration": 3,
    "start_time": "2022-06-06T12:40:08.616Z"
   },
   {
    "duration": 9,
    "start_time": "2022-06-06T12:40:12.746Z"
   },
   {
    "duration": 3,
    "start_time": "2022-06-06T12:40:13.480Z"
   },
   {
    "duration": 9,
    "start_time": "2022-06-06T12:40:26.494Z"
   },
   {
    "duration": 9,
    "start_time": "2022-06-06T12:40:27.255Z"
   },
   {
    "duration": 5,
    "start_time": "2022-06-06T12:40:30.664Z"
   },
   {
    "duration": 73,
    "start_time": "2022-06-06T12:40:30.670Z"
   },
   {
    "duration": 10,
    "start_time": "2022-06-06T12:40:30.748Z"
   },
   {
    "duration": 7,
    "start_time": "2022-06-06T12:40:30.761Z"
   },
   {
    "duration": 15,
    "start_time": "2022-06-06T12:40:30.770Z"
   },
   {
    "duration": 282,
    "start_time": "2022-06-06T12:40:30.786Z"
   },
   {
    "duration": 10,
    "start_time": "2022-06-06T12:40:31.069Z"
   },
   {
    "duration": 16,
    "start_time": "2022-06-06T12:40:31.080Z"
   },
   {
    "duration": 652,
    "start_time": "2022-06-06T12:40:31.097Z"
   },
   {
    "duration": 260,
    "start_time": "2022-06-06T12:40:31.753Z"
   },
   {
    "duration": 23,
    "start_time": "2022-06-06T12:40:32.015Z"
   },
   {
    "duration": 44,
    "start_time": "2022-06-06T12:40:32.041Z"
   },
   {
    "duration": 42,
    "start_time": "2022-06-06T12:40:32.087Z"
   },
   {
    "duration": 21,
    "start_time": "2022-06-06T12:40:32.131Z"
   },
   {
    "duration": 45,
    "start_time": "2022-06-06T12:40:32.154Z"
   },
   {
    "duration": 28,
    "start_time": "2022-06-06T12:40:32.201Z"
   },
   {
    "duration": 19,
    "start_time": "2022-06-06T12:40:39.670Z"
   },
   {
    "duration": 5,
    "start_time": "2022-06-06T12:49:17.454Z"
   },
   {
    "duration": 102,
    "start_time": "2022-06-06T12:49:17.461Z"
   },
   {
    "duration": 8,
    "start_time": "2022-06-06T12:49:17.565Z"
   },
   {
    "duration": 17,
    "start_time": "2022-06-06T12:49:17.575Z"
   },
   {
    "duration": 14,
    "start_time": "2022-06-06T12:49:17.594Z"
   },
   {
    "duration": 298,
    "start_time": "2022-06-06T12:49:17.610Z"
   },
   {
    "duration": 22,
    "start_time": "2022-06-06T12:49:17.910Z"
   },
   {
    "duration": 24,
    "start_time": "2022-06-06T12:49:17.934Z"
   },
   {
    "duration": 719,
    "start_time": "2022-06-06T12:49:17.960Z"
   },
   {
    "duration": 235,
    "start_time": "2022-06-06T12:49:18.681Z"
   },
   {
    "duration": 17,
    "start_time": "2022-06-06T12:49:18.917Z"
   },
   {
    "duration": 17,
    "start_time": "2022-06-06T12:49:18.937Z"
   },
   {
    "duration": 10,
    "start_time": "2022-06-06T12:49:18.955Z"
   },
   {
    "duration": 14,
    "start_time": "2022-06-06T12:49:18.968Z"
   },
   {
    "duration": 9,
    "start_time": "2022-06-06T12:49:18.984Z"
   },
   {
    "duration": 18,
    "start_time": "2022-06-06T12:49:18.994Z"
   },
   {
    "duration": 18,
    "start_time": "2022-06-06T12:49:19.013Z"
   },
   {
    "duration": 10,
    "start_time": "2022-06-06T12:49:19.034Z"
   },
   {
    "duration": 9,
    "start_time": "2022-06-06T12:49:19.046Z"
   },
   {
    "duration": 9,
    "start_time": "2022-06-06T12:49:33.113Z"
   },
   {
    "duration": 4,
    "start_time": "2022-06-06T12:49:55.608Z"
   },
   {
    "duration": 54,
    "start_time": "2022-06-06T12:49:55.614Z"
   },
   {
    "duration": 7,
    "start_time": "2022-06-06T12:49:55.671Z"
   },
   {
    "duration": 9,
    "start_time": "2022-06-06T12:49:55.680Z"
   },
   {
    "duration": 17,
    "start_time": "2022-06-06T12:49:55.691Z"
   },
   {
    "duration": 223,
    "start_time": "2022-06-06T12:49:55.710Z"
   },
   {
    "duration": 11,
    "start_time": "2022-06-06T12:49:55.935Z"
   },
   {
    "duration": 16,
    "start_time": "2022-06-06T12:49:55.948Z"
   },
   {
    "duration": 607,
    "start_time": "2022-06-06T12:49:55.967Z"
   },
   {
    "duration": 222,
    "start_time": "2022-06-06T12:49:56.576Z"
   },
   {
    "duration": 7,
    "start_time": "2022-06-06T12:49:56.800Z"
   },
   {
    "duration": 17,
    "start_time": "2022-06-06T12:49:56.809Z"
   },
   {
    "duration": 8,
    "start_time": "2022-06-06T12:49:56.828Z"
   },
   {
    "duration": 7,
    "start_time": "2022-06-06T12:49:56.837Z"
   },
   {
    "duration": 22,
    "start_time": "2022-06-06T12:49:56.846Z"
   },
   {
    "duration": 17,
    "start_time": "2022-06-06T12:49:56.870Z"
   },
   {
    "duration": 9,
    "start_time": "2022-06-06T12:51:37.497Z"
   },
   {
    "duration": 16,
    "start_time": "2022-06-06T12:51:46.522Z"
   },
   {
    "duration": 5,
    "start_time": "2022-06-06T12:51:50.234Z"
   },
   {
    "duration": 5,
    "start_time": "2022-06-06T12:51:56.776Z"
   },
   {
    "duration": 4,
    "start_time": "2022-06-06T12:53:36.339Z"
   },
   {
    "duration": 4,
    "start_time": "2022-06-06T12:53:50.104Z"
   },
   {
    "duration": 13,
    "start_time": "2022-06-06T12:54:14.442Z"
   },
   {
    "duration": 9,
    "start_time": "2022-06-06T12:54:23.654Z"
   },
   {
    "duration": 4,
    "start_time": "2022-06-06T12:54:29.548Z"
   },
   {
    "duration": 9,
    "start_time": "2022-06-06T12:54:34.968Z"
   },
   {
    "duration": 4,
    "start_time": "2022-06-06T12:54:48.284Z"
   },
   {
    "duration": 9,
    "start_time": "2022-06-06T12:54:49.946Z"
   },
   {
    "duration": 18,
    "start_time": "2022-06-06T12:55:01.497Z"
   },
   {
    "duration": 5,
    "start_time": "2022-06-06T12:55:39.082Z"
   },
   {
    "duration": 4,
    "start_time": "2022-06-06T12:57:04.387Z"
   },
   {
    "duration": 50,
    "start_time": "2022-06-06T12:57:04.393Z"
   },
   {
    "duration": 6,
    "start_time": "2022-06-06T12:57:04.445Z"
   },
   {
    "duration": 5,
    "start_time": "2022-06-06T12:57:04.453Z"
   },
   {
    "duration": 11,
    "start_time": "2022-06-06T12:57:04.459Z"
   },
   {
    "duration": 317,
    "start_time": "2022-06-06T12:57:04.472Z"
   },
   {
    "duration": 9,
    "start_time": "2022-06-06T12:57:04.791Z"
   },
   {
    "duration": 15,
    "start_time": "2022-06-06T12:57:04.801Z"
   },
   {
    "duration": 529,
    "start_time": "2022-06-06T12:57:04.818Z"
   },
   {
    "duration": 213,
    "start_time": "2022-06-06T12:57:05.349Z"
   },
   {
    "duration": 8,
    "start_time": "2022-06-06T12:57:05.564Z"
   },
   {
    "duration": 15,
    "start_time": "2022-06-06T12:57:05.573Z"
   },
   {
    "duration": 19,
    "start_time": "2022-06-06T12:57:05.589Z"
   },
   {
    "duration": 11,
    "start_time": "2022-06-06T12:57:05.609Z"
   },
   {
    "duration": 31,
    "start_time": "2022-06-06T12:57:05.621Z"
   },
   {
    "duration": 41,
    "start_time": "2022-06-06T12:57:05.653Z"
   },
   {
    "duration": 36,
    "start_time": "2022-06-06T12:57:05.696Z"
   },
   {
    "duration": 16,
    "start_time": "2022-06-06T12:57:05.735Z"
   },
   {
    "duration": 18,
    "start_time": "2022-06-06T12:59:31.418Z"
   },
   {
    "duration": 4,
    "start_time": "2022-06-06T13:12:41.676Z"
   },
   {
    "duration": 4,
    "start_time": "2022-06-06T13:13:48.667Z"
   },
   {
    "duration": 2,
    "start_time": "2022-06-06T13:38:36.764Z"
   },
   {
    "duration": 4,
    "start_time": "2022-06-06T13:39:22.700Z"
   },
   {
    "duration": 803386,
    "start_time": "2022-06-06T13:42:06.912Z"
   },
   {
    "duration": 4,
    "start_time": "2022-06-06T13:55:30.300Z"
   },
   {
    "duration": 64130,
    "start_time": "2022-06-06T13:55:30.305Z"
   },
   {
    "duration": 4,
    "start_time": "2022-06-06T13:56:34.437Z"
   }
  ],
  "kernelspec": {
   "display_name": "Python 3 (ipykernel)",
   "language": "python",
   "name": "python3"
  },
  "language_info": {
   "codemirror_mode": {
    "name": "ipython",
    "version": 3
   },
   "file_extension": ".py",
   "mimetype": "text/x-python",
   "name": "python",
   "nbconvert_exporter": "python",
   "pygments_lexer": "ipython3",
   "version": "3.9.7"
  },
  "toc": {
   "base_numbering": 1,
   "nav_menu": {},
   "number_sections": true,
   "sideBar": true,
   "skip_h1_title": true,
   "title_cell": "Содержание",
   "title_sidebar": "Contents",
   "toc_cell": true,
   "toc_position": {},
   "toc_section_display": true,
   "toc_window_display": false
  }
 },
 "nbformat": 4,
 "nbformat_minor": 2
}
