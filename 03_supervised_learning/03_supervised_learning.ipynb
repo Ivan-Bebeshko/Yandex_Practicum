{
 "cells": [
  {
   "cell_type": "markdown",
   "metadata": {
    "toc": true
   },
   "source": [
    "<h1>Содержание<span class=\"tocSkip\"></span></h1>\n",
    "<div class=\"toc\"><ul class=\"toc-item\"><li><span><a href=\"#Подготовка-данных\" data-toc-modified-id=\"Подготовка-данных-1\"><span class=\"toc-item-num\">1&nbsp;&nbsp;</span>Подготовка данных</a></span></li><li><span><a href=\"#Прямое-кодирование\" data-toc-modified-id=\"Прямое-кодирование-2\"><span class=\"toc-item-num\">2&nbsp;&nbsp;</span>Прямое кодирование</a></span></li><li><span><a href=\"#Разделение-данных-на-выборки\" data-toc-modified-id=\"Разделение-данных-на-выборки-3\"><span class=\"toc-item-num\">3&nbsp;&nbsp;</span>Разделение данных на выборки</a></span></li><li><span><a href=\"#Масштабирование-данных\" data-toc-modified-id=\"Масштабирование-данных-4\"><span class=\"toc-item-num\">4&nbsp;&nbsp;</span>Масштабирование данных</a></span></li><li><span><a href=\"#Исследование-задачи\" data-toc-modified-id=\"Исследование-задачи-5\"><span class=\"toc-item-num\">5&nbsp;&nbsp;</span>Исследование задачи</a></span><ul class=\"toc-item\"><li><span><a href=\"#Модель-&quot;случайный-лес&quot;\" data-toc-modified-id=\"Модель-&quot;случайный-лес&quot;-5.1\"><span class=\"toc-item-num\">5.1&nbsp;&nbsp;</span>Модель \"случайный лес\"</a></span></li></ul></li><li><span><a href=\"#Борьба-с-дисбалансом\" data-toc-modified-id=\"Борьба-с-дисбалансом-6\"><span class=\"toc-item-num\">6&nbsp;&nbsp;</span>Борьба с дисбалансом</a></span><ul class=\"toc-item\"><li><span><a href=\"#Увеличение-выборки\" data-toc-modified-id=\"Увеличение-выборки-6.1\"><span class=\"toc-item-num\">6.1&nbsp;&nbsp;</span>Увеличение выборки</a></span></li><li><span><a href=\"#Уменьшение-выборки\" data-toc-modified-id=\"Уменьшение-выборки-6.2\"><span class=\"toc-item-num\">6.2&nbsp;&nbsp;</span>Уменьшение выборки</a></span></li></ul></li><li><span><a href=\"#Тестирование-модели\" data-toc-modified-id=\"Тестирование-модели-7\"><span class=\"toc-item-num\">7&nbsp;&nbsp;</span>Тестирование модели</a></span><ul class=\"toc-item\"><li><span><a href=\"#Модель-&quot;случайный-лес&quot;\" data-toc-modified-id=\"Модель-&quot;случайный-лес&quot;-7.1\"><span class=\"toc-item-num\">7.1&nbsp;&nbsp;</span>Модель \"случайный лес\"</a></span><ul class=\"toc-item\"><li><span><a href=\"#Изменение-порога:-модель-&quot;Случайный-лес&quot;\" data-toc-modified-id=\"Изменение-порога:-модель-&quot;Случайный-лес&quot;-7.1.1\"><span class=\"toc-item-num\">7.1.1&nbsp;&nbsp;</span>Изменение порога: модель \"Случайный лес\"</a></span></li><li><span><a href=\"#AUC-ROC:-модель-&quot;случайный-лес&quot;\" data-toc-modified-id=\"AUC-ROC:-модель-&quot;случайный-лес&quot;-7.1.2\"><span class=\"toc-item-num\">7.1.2&nbsp;&nbsp;</span>AUC-ROC: модель \"случайный лес\"</a></span></li></ul></li><li><span><a href=\"#Модель-&quot;логистическая-регрессия&quot;\" data-toc-modified-id=\"Модель-&quot;логистическая-регрессия&quot;-7.2\"><span class=\"toc-item-num\">7.2&nbsp;&nbsp;</span>Модель \"логистическая регрессия\"</a></span><ul class=\"toc-item\"><li><span><a href=\"#Изменение-порога:-модель-&quot;Логистическая-регрессия&quot;\" data-toc-modified-id=\"Изменение-порога:-модель-&quot;Логистическая-регрессия&quot;-7.2.1\"><span class=\"toc-item-num\">7.2.1&nbsp;&nbsp;</span>Изменение порога: модель \"Логистическая регрессия\"</a></span></li></ul></li><li><span><a href=\"#Дообучение-модели-&quot;случайный-лес&quot;-и-проверка-на-тестовой-выборке\" data-toc-modified-id=\"Дообучение-модели-&quot;случайный-лес&quot;-и-проверка-на-тестовой-выборке-7.3\"><span class=\"toc-item-num\">7.3&nbsp;&nbsp;</span>Дообучение модели \"случайный лес\" и проверка на тестовой выборке</a></span><ul class=\"toc-item\"><li><span><a href=\"#AUC-ROC:-модель-&quot;случайный-лес&quot;-на-дообученной-модели\" data-toc-modified-id=\"AUC-ROC:-модель-&quot;случайный-лес&quot;-на-дообученной-модели-7.3.1\"><span class=\"toc-item-num\">7.3.1&nbsp;&nbsp;</span>AUC-ROC: модель \"случайный лес\" на дообученной модели</a></span></li></ul></li></ul></li><li><span><a href=\"#Проверка-модели-на-адекватность\" data-toc-modified-id=\"Проверка-модели-на-адекватность-8\"><span class=\"toc-item-num\">8&nbsp;&nbsp;</span>Проверка модели на адекватность</a></span></li><li><span><a href=\"#Вывод\" data-toc-modified-id=\"Вывод-9\"><span class=\"toc-item-num\">9&nbsp;&nbsp;</span>Вывод</a></span></li><li><span><a href=\"#Чек-лист-готовности-проекта\" data-toc-modified-id=\"Чек-лист-готовности-проекта-10\"><span class=\"toc-item-num\">10&nbsp;&nbsp;</span>Чек-лист готовности проекта</a></span></li></ul></div>"
   ]
  },
  {
   "cell_type": "markdown",
   "metadata": {},
   "source": [
    "# Отток клиентов"
   ]
  },
  {
   "cell_type": "markdown",
   "metadata": {},
   "source": [
    "Из «Бета-Банка» стали уходить клиенты. Каждый месяц. Немного, но заметно. Банковские маркетологи посчитали: сохранять текущих клиентов дешевле, чем привлекать новых.\n",
    "\n",
    "Нужно спрогнозировать, уйдёт клиент из банка в ближайшее время или нет. Вам предоставлены исторические данные о поведении клиентов и расторжении договоров с банком. \n",
    "\n",
    "Постройте модель с предельно большим значением *F1*-меры. Чтобы сдать проект успешно, нужно довести метрику до 0.59. Проверьте *F1*-меру на тестовой выборке самостоятельно.\n",
    "\n",
    "Дополнительно измеряйте *AUC-ROC*, сравнивайте её значение с *F1*-мерой.\n",
    "\n",
    "Источник данных: [https://www.kaggle.com/barelydedicated/bank-customer-churn-modeling](https://www.kaggle.com/barelydedicated/bank-customer-churn-modeling)"
   ]
  },
  {
   "cell_type": "markdown",
   "metadata": {},
   "source": [
    "`Признаки`:\n",
    "- RowNumber — индекс строки в данных\n",
    "- CustomerId — уникальный идентификатор клиента\n",
    "- Surname — фамилия\n",
    "- CreditScore — кредитный рейтинг\n",
    "- Geography — страна проживания\n",
    "- Gender — пол\n",
    "- Age — возраст\n",
    "- Tenure — сколько лет человек является клиентом банка\n",
    "- Balance — баланс на счёте\n",
    "- NumOfProducts — количество продуктов банка, используемых клиентом\n",
    "- HasCrCard — наличие кредитной карты\n",
    "- IsActiveMember — активность клиента\n",
    "- EstimatedSalary — предполагаемая зарплата\n",
    "\n",
    "`Целевой признак`:\n",
    "- Exited — факт ухода клиента"
   ]
  },
  {
   "cell_type": "markdown",
   "metadata": {},
   "source": [
    "## Подготовка данных"
   ]
  },
  {
   "cell_type": "code",
   "execution_count": 76,
   "metadata": {},
   "outputs": [],
   "source": [
    "# импорт требуемых библиотек\n",
    "\n",
    "import pandas as pd #программная библиотека для обработки и анализа данных. Работа pandas с данными строится поверх библиотеки NumPy\n",
    "import numpy as np #поддержка многомерных массивов; поддержка высокоуровневых математических функций, предназначенных для работы с многомерными массивами\n",
    "import matplotlib.pyplot as plt #библиотека для визуализации данных двумерной графикой\n",
    "\n",
    "from sklearn.tree import DecisionTreeClassifier            #алгоритм классификации \"деревом решений\"\n",
    "from sklearn.ensemble import RandomForestClassifier        #алгоритм классификации \"случайным лесом\"\n",
    "from sklearn.linear_model import LogisticRegression        #алгоритм — логистическая регрессия\n",
    "from sklearn.dummy import DummyClassifier                  #алгоритм — dummy\n",
    "\n",
    "from sklearn.model_selection import train_test_split       #функция train_test_split для разделения датафрейма\n",
    "\n",
    "from sklearn.preprocessing import StandardScaler           #инструмент масштабирования числовых данных\n",
    "\n",
    "from sklearn.metrics import precision_score                #precision - точность\n",
    "from sklearn.metrics import recall_score                   #recall - полнота \n",
    "from sklearn.metrics import f1_score                       #f1 мера (среднее гармоническое полноты и точности)\n",
    "from sklearn.metrics import roc_auc_score                  #площадь под ROC-кривой\n",
    "from sklearn.metrics import confusion_matrix               #Матрица ошибок\n",
    "\n",
    "from sklearn.utils import shuffle \n"
   ]
  },
  {
   "cell_type": "code",
   "execution_count": 77,
   "metadata": {},
   "outputs": [],
   "source": [
    "df = pd.read_csv('/datasets/Churn.csv')  #серверный путь"
   ]
  },
  {
   "cell_type": "code",
   "execution_count": 78,
   "metadata": {},
   "outputs": [
    {
     "data": {
      "text/html": [
       "<div>\n",
       "<style scoped>\n",
       "    .dataframe tbody tr th:only-of-type {\n",
       "        vertical-align: middle;\n",
       "    }\n",
       "\n",
       "    .dataframe tbody tr th {\n",
       "        vertical-align: top;\n",
       "    }\n",
       "\n",
       "    .dataframe thead th {\n",
       "        text-align: right;\n",
       "    }\n",
       "</style>\n",
       "<table border=\"1\" class=\"dataframe\">\n",
       "  <thead>\n",
       "    <tr style=\"text-align: right;\">\n",
       "      <th></th>\n",
       "      <th>RowNumber</th>\n",
       "      <th>CustomerId</th>\n",
       "      <th>Surname</th>\n",
       "      <th>CreditScore</th>\n",
       "      <th>Geography</th>\n",
       "      <th>Gender</th>\n",
       "      <th>Age</th>\n",
       "      <th>Tenure</th>\n",
       "      <th>Balance</th>\n",
       "      <th>NumOfProducts</th>\n",
       "      <th>HasCrCard</th>\n",
       "      <th>IsActiveMember</th>\n",
       "      <th>EstimatedSalary</th>\n",
       "      <th>Exited</th>\n",
       "    </tr>\n",
       "  </thead>\n",
       "  <tbody>\n",
       "    <tr>\n",
       "      <th>0</th>\n",
       "      <td>1</td>\n",
       "      <td>15634602</td>\n",
       "      <td>Hargrave</td>\n",
       "      <td>619</td>\n",
       "      <td>France</td>\n",
       "      <td>Female</td>\n",
       "      <td>42</td>\n",
       "      <td>2.0</td>\n",
       "      <td>0.00</td>\n",
       "      <td>1</td>\n",
       "      <td>1</td>\n",
       "      <td>1</td>\n",
       "      <td>101348.88</td>\n",
       "      <td>1</td>\n",
       "    </tr>\n",
       "    <tr>\n",
       "      <th>1</th>\n",
       "      <td>2</td>\n",
       "      <td>15647311</td>\n",
       "      <td>Hill</td>\n",
       "      <td>608</td>\n",
       "      <td>Spain</td>\n",
       "      <td>Female</td>\n",
       "      <td>41</td>\n",
       "      <td>1.0</td>\n",
       "      <td>83807.86</td>\n",
       "      <td>1</td>\n",
       "      <td>0</td>\n",
       "      <td>1</td>\n",
       "      <td>112542.58</td>\n",
       "      <td>0</td>\n",
       "    </tr>\n",
       "    <tr>\n",
       "      <th>2</th>\n",
       "      <td>3</td>\n",
       "      <td>15619304</td>\n",
       "      <td>Onio</td>\n",
       "      <td>502</td>\n",
       "      <td>France</td>\n",
       "      <td>Female</td>\n",
       "      <td>42</td>\n",
       "      <td>8.0</td>\n",
       "      <td>159660.80</td>\n",
       "      <td>3</td>\n",
       "      <td>1</td>\n",
       "      <td>0</td>\n",
       "      <td>113931.57</td>\n",
       "      <td>1</td>\n",
       "    </tr>\n",
       "    <tr>\n",
       "      <th>3</th>\n",
       "      <td>4</td>\n",
       "      <td>15701354</td>\n",
       "      <td>Boni</td>\n",
       "      <td>699</td>\n",
       "      <td>France</td>\n",
       "      <td>Female</td>\n",
       "      <td>39</td>\n",
       "      <td>1.0</td>\n",
       "      <td>0.00</td>\n",
       "      <td>2</td>\n",
       "      <td>0</td>\n",
       "      <td>0</td>\n",
       "      <td>93826.63</td>\n",
       "      <td>0</td>\n",
       "    </tr>\n",
       "    <tr>\n",
       "      <th>4</th>\n",
       "      <td>5</td>\n",
       "      <td>15737888</td>\n",
       "      <td>Mitchell</td>\n",
       "      <td>850</td>\n",
       "      <td>Spain</td>\n",
       "      <td>Female</td>\n",
       "      <td>43</td>\n",
       "      <td>2.0</td>\n",
       "      <td>125510.82</td>\n",
       "      <td>1</td>\n",
       "      <td>1</td>\n",
       "      <td>1</td>\n",
       "      <td>79084.10</td>\n",
       "      <td>0</td>\n",
       "    </tr>\n",
       "  </tbody>\n",
       "</table>\n",
       "</div>"
      ],
      "text/plain": [
       "   RowNumber  CustomerId   Surname  CreditScore Geography  Gender  Age  \\\n",
       "0          1    15634602  Hargrave          619    France  Female   42   \n",
       "1          2    15647311      Hill          608     Spain  Female   41   \n",
       "2          3    15619304      Onio          502    France  Female   42   \n",
       "3          4    15701354      Boni          699    France  Female   39   \n",
       "4          5    15737888  Mitchell          850     Spain  Female   43   \n",
       "\n",
       "   Tenure    Balance  NumOfProducts  HasCrCard  IsActiveMember  \\\n",
       "0     2.0       0.00              1          1               1   \n",
       "1     1.0   83807.86              1          0               1   \n",
       "2     8.0  159660.80              3          1               0   \n",
       "3     1.0       0.00              2          0               0   \n",
       "4     2.0  125510.82              1          1               1   \n",
       "\n",
       "   EstimatedSalary  Exited  \n",
       "0        101348.88       1  \n",
       "1        112542.58       0  \n",
       "2        113931.57       1  \n",
       "3         93826.63       0  \n",
       "4         79084.10       0  "
      ]
     },
     "execution_count": 78,
     "metadata": {},
     "output_type": "execute_result"
    }
   ],
   "source": [
    "df.head()"
   ]
  },
  {
   "cell_type": "code",
   "execution_count": 79,
   "metadata": {},
   "outputs": [],
   "source": [
    "#три столбца датафрейма не нужны для дальнейшего анализа и машинного обучения, опустим их\n",
    "\n",
    "df = df.drop(columns=['RowNumber', 'CustomerId', 'Surname'])"
   ]
  },
  {
   "cell_type": "code",
   "execution_count": 80,
   "metadata": {},
   "outputs": [
    {
     "data": {
      "text/html": [
       "<div>\n",
       "<style scoped>\n",
       "    .dataframe tbody tr th:only-of-type {\n",
       "        vertical-align: middle;\n",
       "    }\n",
       "\n",
       "    .dataframe tbody tr th {\n",
       "        vertical-align: top;\n",
       "    }\n",
       "\n",
       "    .dataframe thead th {\n",
       "        text-align: right;\n",
       "    }\n",
       "</style>\n",
       "<table border=\"1\" class=\"dataframe\">\n",
       "  <thead>\n",
       "    <tr style=\"text-align: right;\">\n",
       "      <th></th>\n",
       "      <th>CreditScore</th>\n",
       "      <th>Geography</th>\n",
       "      <th>Gender</th>\n",
       "      <th>Age</th>\n",
       "      <th>Tenure</th>\n",
       "      <th>Balance</th>\n",
       "      <th>NumOfProducts</th>\n",
       "      <th>HasCrCard</th>\n",
       "      <th>IsActiveMember</th>\n",
       "      <th>EstimatedSalary</th>\n",
       "      <th>Exited</th>\n",
       "    </tr>\n",
       "  </thead>\n",
       "  <tbody>\n",
       "    <tr>\n",
       "      <th>0</th>\n",
       "      <td>619</td>\n",
       "      <td>France</td>\n",
       "      <td>Female</td>\n",
       "      <td>42</td>\n",
       "      <td>2.0</td>\n",
       "      <td>0.00</td>\n",
       "      <td>1</td>\n",
       "      <td>1</td>\n",
       "      <td>1</td>\n",
       "      <td>101348.88</td>\n",
       "      <td>1</td>\n",
       "    </tr>\n",
       "    <tr>\n",
       "      <th>1</th>\n",
       "      <td>608</td>\n",
       "      <td>Spain</td>\n",
       "      <td>Female</td>\n",
       "      <td>41</td>\n",
       "      <td>1.0</td>\n",
       "      <td>83807.86</td>\n",
       "      <td>1</td>\n",
       "      <td>0</td>\n",
       "      <td>1</td>\n",
       "      <td>112542.58</td>\n",
       "      <td>0</td>\n",
       "    </tr>\n",
       "    <tr>\n",
       "      <th>2</th>\n",
       "      <td>502</td>\n",
       "      <td>France</td>\n",
       "      <td>Female</td>\n",
       "      <td>42</td>\n",
       "      <td>8.0</td>\n",
       "      <td>159660.80</td>\n",
       "      <td>3</td>\n",
       "      <td>1</td>\n",
       "      <td>0</td>\n",
       "      <td>113931.57</td>\n",
       "      <td>1</td>\n",
       "    </tr>\n",
       "    <tr>\n",
       "      <th>3</th>\n",
       "      <td>699</td>\n",
       "      <td>France</td>\n",
       "      <td>Female</td>\n",
       "      <td>39</td>\n",
       "      <td>1.0</td>\n",
       "      <td>0.00</td>\n",
       "      <td>2</td>\n",
       "      <td>0</td>\n",
       "      <td>0</td>\n",
       "      <td>93826.63</td>\n",
       "      <td>0</td>\n",
       "    </tr>\n",
       "    <tr>\n",
       "      <th>4</th>\n",
       "      <td>850</td>\n",
       "      <td>Spain</td>\n",
       "      <td>Female</td>\n",
       "      <td>43</td>\n",
       "      <td>2.0</td>\n",
       "      <td>125510.82</td>\n",
       "      <td>1</td>\n",
       "      <td>1</td>\n",
       "      <td>1</td>\n",
       "      <td>79084.10</td>\n",
       "      <td>0</td>\n",
       "    </tr>\n",
       "  </tbody>\n",
       "</table>\n",
       "</div>"
      ],
      "text/plain": [
       "   CreditScore Geography  Gender  Age  Tenure    Balance  NumOfProducts  \\\n",
       "0          619    France  Female   42     2.0       0.00              1   \n",
       "1          608     Spain  Female   41     1.0   83807.86              1   \n",
       "2          502    France  Female   42     8.0  159660.80              3   \n",
       "3          699    France  Female   39     1.0       0.00              2   \n",
       "4          850     Spain  Female   43     2.0  125510.82              1   \n",
       "\n",
       "   HasCrCard  IsActiveMember  EstimatedSalary  Exited  \n",
       "0          1               1        101348.88       1  \n",
       "1          0               1        112542.58       0  \n",
       "2          1               0        113931.57       1  \n",
       "3          0               0         93826.63       0  \n",
       "4          1               1         79084.10       0  "
      ]
     },
     "execution_count": 80,
     "metadata": {},
     "output_type": "execute_result"
    }
   ],
   "source": [
    "df.head()"
   ]
  },
  {
   "cell_type": "code",
   "execution_count": 81,
   "metadata": {},
   "outputs": [
    {
     "name": "stdout",
     "output_type": "stream",
     "text": [
      "<class 'pandas.core.frame.DataFrame'>\n",
      "RangeIndex: 10000 entries, 0 to 9999\n",
      "Data columns (total 11 columns):\n",
      " #   Column           Non-Null Count  Dtype  \n",
      "---  ------           --------------  -----  \n",
      " 0   CreditScore      10000 non-null  int64  \n",
      " 1   Geography        10000 non-null  object \n",
      " 2   Gender           10000 non-null  object \n",
      " 3   Age              10000 non-null  int64  \n",
      " 4   Tenure           9091 non-null   float64\n",
      " 5   Balance          10000 non-null  float64\n",
      " 6   NumOfProducts    10000 non-null  int64  \n",
      " 7   HasCrCard        10000 non-null  int64  \n",
      " 8   IsActiveMember   10000 non-null  int64  \n",
      " 9   EstimatedSalary  10000 non-null  float64\n",
      " 10  Exited           10000 non-null  int64  \n",
      "dtypes: float64(3), int64(6), object(2)\n",
      "memory usage: 859.5+ KB\n"
     ]
    }
   ],
   "source": [
    "df.info()"
   ]
  },
  {
   "cell_type": "code",
   "execution_count": 82,
   "metadata": {},
   "outputs": [
    {
     "name": "stdout",
     "output_type": "stream",
     "text": [
      "Количество явных дубликатов под удаление: 0\n"
     ]
    }
   ],
   "source": [
    "print('Количество явных дубликатов под удаление:', df.duplicated().sum()) # подсчёт явных дубликатов"
   ]
  },
  {
   "cell_type": "markdown",
   "metadata": {},
   "source": [
    "*Описание данных:*\n",
    "- 10000 строк, 11 столбцов;\n",
    "- есть пропуски в данных по 'Tenure' — сколько лет человек является клиентом банка\n",
    "- не требуется изменение имен столбцов, но можно привести к нижнему регистру (в рамках задания делать не будем);\n",
    "- не требуется изменение типа данных;\n",
    "- дубликатов нет."
   ]
  },
  {
   "cell_type": "code",
   "execution_count": 83,
   "metadata": {},
   "outputs": [
    {
     "data": {
      "text/html": [
       "<div>\n",
       "<style scoped>\n",
       "    .dataframe tbody tr th:only-of-type {\n",
       "        vertical-align: middle;\n",
       "    }\n",
       "\n",
       "    .dataframe tbody tr th {\n",
       "        vertical-align: top;\n",
       "    }\n",
       "\n",
       "    .dataframe thead th {\n",
       "        text-align: right;\n",
       "    }\n",
       "</style>\n",
       "<table border=\"1\" class=\"dataframe\">\n",
       "  <thead>\n",
       "    <tr style=\"text-align: right;\">\n",
       "      <th></th>\n",
       "      <th>CreditScore</th>\n",
       "      <th>Geography</th>\n",
       "      <th>Gender</th>\n",
       "      <th>Age</th>\n",
       "      <th>Tenure</th>\n",
       "      <th>Balance</th>\n",
       "      <th>NumOfProducts</th>\n",
       "      <th>HasCrCard</th>\n",
       "      <th>IsActiveMember</th>\n",
       "      <th>EstimatedSalary</th>\n",
       "      <th>Exited</th>\n",
       "    </tr>\n",
       "  </thead>\n",
       "  <tbody>\n",
       "    <tr>\n",
       "      <th>30</th>\n",
       "      <td>591</td>\n",
       "      <td>Spain</td>\n",
       "      <td>Female</td>\n",
       "      <td>39</td>\n",
       "      <td>NaN</td>\n",
       "      <td>0.00</td>\n",
       "      <td>3</td>\n",
       "      <td>1</td>\n",
       "      <td>0</td>\n",
       "      <td>140469.38</td>\n",
       "      <td>1</td>\n",
       "    </tr>\n",
       "    <tr>\n",
       "      <th>48</th>\n",
       "      <td>550</td>\n",
       "      <td>Germany</td>\n",
       "      <td>Male</td>\n",
       "      <td>38</td>\n",
       "      <td>NaN</td>\n",
       "      <td>103391.38</td>\n",
       "      <td>1</td>\n",
       "      <td>0</td>\n",
       "      <td>1</td>\n",
       "      <td>90878.13</td>\n",
       "      <td>0</td>\n",
       "    </tr>\n",
       "    <tr>\n",
       "      <th>51</th>\n",
       "      <td>585</td>\n",
       "      <td>Germany</td>\n",
       "      <td>Male</td>\n",
       "      <td>36</td>\n",
       "      <td>NaN</td>\n",
       "      <td>146050.97</td>\n",
       "      <td>2</td>\n",
       "      <td>0</td>\n",
       "      <td>0</td>\n",
       "      <td>86424.57</td>\n",
       "      <td>0</td>\n",
       "    </tr>\n",
       "    <tr>\n",
       "      <th>53</th>\n",
       "      <td>655</td>\n",
       "      <td>Germany</td>\n",
       "      <td>Male</td>\n",
       "      <td>41</td>\n",
       "      <td>NaN</td>\n",
       "      <td>125561.97</td>\n",
       "      <td>1</td>\n",
       "      <td>0</td>\n",
       "      <td>0</td>\n",
       "      <td>164040.94</td>\n",
       "      <td>1</td>\n",
       "    </tr>\n",
       "    <tr>\n",
       "      <th>60</th>\n",
       "      <td>742</td>\n",
       "      <td>Germany</td>\n",
       "      <td>Male</td>\n",
       "      <td>35</td>\n",
       "      <td>NaN</td>\n",
       "      <td>136857.00</td>\n",
       "      <td>1</td>\n",
       "      <td>0</td>\n",
       "      <td>0</td>\n",
       "      <td>84509.57</td>\n",
       "      <td>0</td>\n",
       "    </tr>\n",
       "    <tr>\n",
       "      <th>82</th>\n",
       "      <td>543</td>\n",
       "      <td>France</td>\n",
       "      <td>Female</td>\n",
       "      <td>36</td>\n",
       "      <td>NaN</td>\n",
       "      <td>0.00</td>\n",
       "      <td>2</td>\n",
       "      <td>0</td>\n",
       "      <td>0</td>\n",
       "      <td>26019.59</td>\n",
       "      <td>0</td>\n",
       "    </tr>\n",
       "    <tr>\n",
       "      <th>85</th>\n",
       "      <td>652</td>\n",
       "      <td>Spain</td>\n",
       "      <td>Female</td>\n",
       "      <td>75</td>\n",
       "      <td>NaN</td>\n",
       "      <td>0.00</td>\n",
       "      <td>2</td>\n",
       "      <td>1</td>\n",
       "      <td>1</td>\n",
       "      <td>114675.75</td>\n",
       "      <td>0</td>\n",
       "    </tr>\n",
       "    <tr>\n",
       "      <th>94</th>\n",
       "      <td>730</td>\n",
       "      <td>Spain</td>\n",
       "      <td>Male</td>\n",
       "      <td>42</td>\n",
       "      <td>NaN</td>\n",
       "      <td>0.00</td>\n",
       "      <td>2</td>\n",
       "      <td>0</td>\n",
       "      <td>1</td>\n",
       "      <td>85982.47</td>\n",
       "      <td>0</td>\n",
       "    </tr>\n",
       "    <tr>\n",
       "      <th>99</th>\n",
       "      <td>413</td>\n",
       "      <td>France</td>\n",
       "      <td>Male</td>\n",
       "      <td>34</td>\n",
       "      <td>NaN</td>\n",
       "      <td>0.00</td>\n",
       "      <td>2</td>\n",
       "      <td>0</td>\n",
       "      <td>0</td>\n",
       "      <td>6534.18</td>\n",
       "      <td>0</td>\n",
       "    </tr>\n",
       "    <tr>\n",
       "      <th>111</th>\n",
       "      <td>538</td>\n",
       "      <td>Germany</td>\n",
       "      <td>Male</td>\n",
       "      <td>39</td>\n",
       "      <td>NaN</td>\n",
       "      <td>108055.10</td>\n",
       "      <td>2</td>\n",
       "      <td>1</td>\n",
       "      <td>0</td>\n",
       "      <td>27231.26</td>\n",
       "      <td>0</td>\n",
       "    </tr>\n",
       "  </tbody>\n",
       "</table>\n",
       "</div>"
      ],
      "text/plain": [
       "     CreditScore Geography  Gender  Age  Tenure    Balance  NumOfProducts  \\\n",
       "30           591     Spain  Female   39     NaN       0.00              3   \n",
       "48           550   Germany    Male   38     NaN  103391.38              1   \n",
       "51           585   Germany    Male   36     NaN  146050.97              2   \n",
       "53           655   Germany    Male   41     NaN  125561.97              1   \n",
       "60           742   Germany    Male   35     NaN  136857.00              1   \n",
       "82           543    France  Female   36     NaN       0.00              2   \n",
       "85           652     Spain  Female   75     NaN       0.00              2   \n",
       "94           730     Spain    Male   42     NaN       0.00              2   \n",
       "99           413    France    Male   34     NaN       0.00              2   \n",
       "111          538   Germany    Male   39     NaN  108055.10              2   \n",
       "\n",
       "     HasCrCard  IsActiveMember  EstimatedSalary  Exited  \n",
       "30           1               0        140469.38       1  \n",
       "48           0               1         90878.13       0  \n",
       "51           0               0         86424.57       0  \n",
       "53           0               0        164040.94       1  \n",
       "60           0               0         84509.57       0  \n",
       "82           0               0         26019.59       0  \n",
       "85           1               1        114675.75       0  \n",
       "94           0               1         85982.47       0  \n",
       "99           0               0          6534.18       0  \n",
       "111          1               0         27231.26       0  "
      ]
     },
     "execution_count": 83,
     "metadata": {},
     "output_type": "execute_result"
    }
   ],
   "source": [
    "#посмотрим на пропуски в данных по 'Tenure'\n",
    "\n",
    "df.loc[df['Tenure'].isna()].head(10)"
   ]
  },
  {
   "cell_type": "code",
   "execution_count": 84,
   "metadata": {},
   "outputs": [],
   "source": [
    "#заменим пропущенные значения на -1, чтобы не потерять данные для обучения и осталось понимание, где были пропуски по 'Tenure' \n",
    "#причины пропущенных значений необходимо уточнить с ответственными за выгрузку специалистами\n",
    "\n",
    "#df['Tenure'] = df['Tenure'].fillna()\n",
    "\n",
    "#удалим пропущенные значения\n",
    "df = df.dropna(subset = ['Tenure'])\n"
   ]
  },
  {
   "cell_type": "markdown",
   "metadata": {},
   "source": [
    "*Категориальные переменные:*\n",
    "- Geography (требуется прямое кодирование ОНЕ для машинного обучения)\n",
    "- Gender (требуется прямое кодирование ОНЕ для машинного обучения)\n",
    "- HasCrCard\n",
    "- IsActiveMember\n",
    "- Exited (целевой признак)"
   ]
  },
  {
   "cell_type": "code",
   "execution_count": 85,
   "metadata": {},
   "outputs": [
    {
     "data": {
      "image/png": "[encoded data removed]",
      "text/plain": [
       "<Figure size 1080x216 with 1 Axes>"
      ]
     },
     "metadata": {
      "needs_background": "light"
     },
     "output_type": "display_data"
    },
    {
     "data": {
      "image/png": "[encoded data removed]",
      "text/plain": [
       "<Figure size 1080x216 with 1 Axes>"
      ]
     },
     "metadata": {
      "needs_background": "light"
     },
     "output_type": "display_data"
    },
    {
     "data": {
      "image/png": "[encoded data removed]",
      "text/plain": [
       "<Figure size 1080x216 with 1 Axes>"
      ]
     },
     "metadata": {
      "needs_background": "light"
     },
     "output_type": "display_data"
    },
    {
     "data": {
      "image/png": "[encoded data removed]",
      "text/plain": [
       "<Figure size 1080x216 with 1 Axes>"
      ]
     },
     "metadata": {
      "needs_background": "light"
     },
     "output_type": "display_data"
    },
    {
     "data": {
      "image/png": "[encoded data removed]",
      "text/plain": [
       "<Figure size 1080x216 with 1 Axes>"
      ]
     },
     "metadata": {
      "needs_background": "light"
     },
     "output_type": "display_data"
    },
    {
     "data": {
      "image/png": "[encoded data removed]",
      "text/plain": [
       "<Figure size 1080x216 with 1 Axes>"
      ]
     },
     "metadata": {
      "needs_background": "light"
     },
     "output_type": "display_data"
    }
   ],
   "source": [
    "#оценим данные в столбцах на отрицальные, аномально высокие значения или другие отклонения\n",
    "\n",
    "columns_list = ['CreditScore', 'Age', 'Tenure', 'Balance', 'NumOfProducts', 'EstimatedSalary']\n",
    "\n",
    "for column in columns_list:\n",
    "    df[column].hist(\n",
    "        bins=100,\n",
    "        grid=True,\n",
    "        figsize=(15,3),\n",
    "        color='green'\n",
    "    ).set_xlabel(column)\n",
    "    plt.show()"
   ]
  },
  {
   "cell_type": "markdown",
   "metadata": {},
   "source": [
    "Критичных отклонений нет. Можно отметить:\n",
    "- много клиентов с очень высоким кредитным рейтингом - 'CreditScore';\n",
    "- много клиентов с пропуском (-1) в данных по количеству лет лояльности - 'Tenure';\n",
    "- много клиентов с нулевым балансом на счету - 'Balance'."
   ]
  },
  {
   "cell_type": "code",
   "execution_count": 86,
   "metadata": {},
   "outputs": [
    {
     "name": "stdout",
     "output_type": "stream",
     "text": [
      "Количество ушедших клиентов: 1854\n",
      "Количество оставшихся клиентов: 7237\n",
      "\n",
      "Отношение \"оставшихся\" к \"ушедшим\" 3.9\n"
     ]
    }
   ],
   "source": [
    "#проверим баланс 'Exited' оставшихся и клиентов (1) и отказавшихся от услуг банка (0)\n",
    "\n",
    "df_ones = df.loc[df['Exited'] == 1, 'Exited'].count()\n",
    "print(f'Количество ушедших клиентов: {df_ones}')\n",
    "\n",
    "df_zeros = df.loc[df['Exited'] == 0, 'Exited'].count()\n",
    "print(f'Количество оставшихся клиентов: {df_zeros}')\n",
    "\n",
    "print()\n",
    "\n",
    "print(f'Отношение \"оставшихся\" к \"ушедшим\" {round((df_zeros/df_ones),1)}')"
   ]
  },
  {
   "cell_type": "markdown",
   "metadata": {},
   "source": [
    "## Прямое кодирование ##\n"
   ]
  },
  {
   "cell_type": "markdown",
   "metadata": {},
   "source": [
    "Преобразовать категориальные признаки в численные поможет техника прямого кодирования, или отображения (англ. One-Hot Encoding, OHE)."
   ]
  },
  {
   "cell_type": "code",
   "execution_count": 87,
   "metadata": {},
   "outputs": [],
   "source": [
    "df_ohe = pd.get_dummies(df, columns=['Geography','Gender'], drop_first=True)"
   ]
  },
  {
   "cell_type": "code",
   "execution_count": 88,
   "metadata": {
    "scrolled": true
   },
   "outputs": [
    {
     "data": {
      "text/html": [
       "<div>\n",
       "<style scoped>\n",
       "    .dataframe tbody tr th:only-of-type {\n",
       "        vertical-align: middle;\n",
       "    }\n",
       "\n",
       "    .dataframe tbody tr th {\n",
       "        vertical-align: top;\n",
       "    }\n",
       "\n",
       "    .dataframe thead th {\n",
       "        text-align: right;\n",
       "    }\n",
       "</style>\n",
       "<table border=\"1\" class=\"dataframe\">\n",
       "  <thead>\n",
       "    <tr style=\"text-align: right;\">\n",
       "      <th></th>\n",
       "      <th>CreditScore</th>\n",
       "      <th>Age</th>\n",
       "      <th>Tenure</th>\n",
       "      <th>Balance</th>\n",
       "      <th>NumOfProducts</th>\n",
       "      <th>HasCrCard</th>\n",
       "      <th>IsActiveMember</th>\n",
       "      <th>EstimatedSalary</th>\n",
       "      <th>Exited</th>\n",
       "      <th>Geography_Germany</th>\n",
       "      <th>Geography_Spain</th>\n",
       "      <th>Gender_Male</th>\n",
       "    </tr>\n",
       "  </thead>\n",
       "  <tbody>\n",
       "    <tr>\n",
       "      <th>0</th>\n",
       "      <td>619</td>\n",
       "      <td>42</td>\n",
       "      <td>2.0</td>\n",
       "      <td>0.00</td>\n",
       "      <td>1</td>\n",
       "      <td>1</td>\n",
       "      <td>1</td>\n",
       "      <td>101348.88</td>\n",
       "      <td>1</td>\n",
       "      <td>0</td>\n",
       "      <td>0</td>\n",
       "      <td>0</td>\n",
       "    </tr>\n",
       "    <tr>\n",
       "      <th>1</th>\n",
       "      <td>608</td>\n",
       "      <td>41</td>\n",
       "      <td>1.0</td>\n",
       "      <td>83807.86</td>\n",
       "      <td>1</td>\n",
       "      <td>0</td>\n",
       "      <td>1</td>\n",
       "      <td>112542.58</td>\n",
       "      <td>0</td>\n",
       "      <td>0</td>\n",
       "      <td>1</td>\n",
       "      <td>0</td>\n",
       "    </tr>\n",
       "    <tr>\n",
       "      <th>2</th>\n",
       "      <td>502</td>\n",
       "      <td>42</td>\n",
       "      <td>8.0</td>\n",
       "      <td>159660.80</td>\n",
       "      <td>3</td>\n",
       "      <td>1</td>\n",
       "      <td>0</td>\n",
       "      <td>113931.57</td>\n",
       "      <td>1</td>\n",
       "      <td>0</td>\n",
       "      <td>0</td>\n",
       "      <td>0</td>\n",
       "    </tr>\n",
       "    <tr>\n",
       "      <th>3</th>\n",
       "      <td>699</td>\n",
       "      <td>39</td>\n",
       "      <td>1.0</td>\n",
       "      <td>0.00</td>\n",
       "      <td>2</td>\n",
       "      <td>0</td>\n",
       "      <td>0</td>\n",
       "      <td>93826.63</td>\n",
       "      <td>0</td>\n",
       "      <td>0</td>\n",
       "      <td>0</td>\n",
       "      <td>0</td>\n",
       "    </tr>\n",
       "    <tr>\n",
       "      <th>4</th>\n",
       "      <td>850</td>\n",
       "      <td>43</td>\n",
       "      <td>2.0</td>\n",
       "      <td>125510.82</td>\n",
       "      <td>1</td>\n",
       "      <td>1</td>\n",
       "      <td>1</td>\n",
       "      <td>79084.10</td>\n",
       "      <td>0</td>\n",
       "      <td>0</td>\n",
       "      <td>1</td>\n",
       "      <td>0</td>\n",
       "    </tr>\n",
       "  </tbody>\n",
       "</table>\n",
       "</div>"
      ],
      "text/plain": [
       "   CreditScore  Age  Tenure    Balance  NumOfProducts  HasCrCard  \\\n",
       "0          619   42     2.0       0.00              1          1   \n",
       "1          608   41     1.0   83807.86              1          0   \n",
       "2          502   42     8.0  159660.80              3          1   \n",
       "3          699   39     1.0       0.00              2          0   \n",
       "4          850   43     2.0  125510.82              1          1   \n",
       "\n",
       "   IsActiveMember  EstimatedSalary  Exited  Geography_Germany  \\\n",
       "0               1        101348.88       1                  0   \n",
       "1               1        112542.58       0                  0   \n",
       "2               0        113931.57       1                  0   \n",
       "3               0         93826.63       0                  0   \n",
       "4               1         79084.10       0                  0   \n",
       "\n",
       "   Geography_Spain  Gender_Male  \n",
       "0                0            0  \n",
       "1                1            0  \n",
       "2                0            0  \n",
       "3                0            0  \n",
       "4                1            0  "
      ]
     },
     "execution_count": 88,
     "metadata": {},
     "output_type": "execute_result"
    }
   ],
   "source": [
    "df_ohe.head()"
   ]
  },
  {
   "cell_type": "code",
   "execution_count": 89,
   "metadata": {},
   "outputs": [
    {
     "name": "stdout",
     "output_type": "stream",
     "text": [
      "Содержание столбца \"Gender\": ['Female' 'Male']\n"
     ]
    }
   ],
   "source": [
    "print('Содержание столбца \"Gender\":', df['Gender'].unique())"
   ]
  },
  {
   "cell_type": "code",
   "execution_count": 90,
   "metadata": {
    "scrolled": true
   },
   "outputs": [
    {
     "name": "stdout",
     "output_type": "stream",
     "text": [
      "Содержание столбца \"Geography\": ['France' 'Spain' 'Germany']\n"
     ]
    }
   ],
   "source": [
    "print('Содержание столбца \"Geography\":', df['Geography'].unique())"
   ]
  },
  {
   "cell_type": "markdown",
   "metadata": {},
   "source": [
    "**Вывод:** Дублирования нет, прямое кодирование возможно без предобработки."
   ]
  },
  {
   "cell_type": "markdown",
   "metadata": {},
   "source": [
    "## Разделение данных на выборки ##\n"
   ]
  },
  {
   "cell_type": "markdown",
   "metadata": {},
   "source": [
    "Требуется разделить весть датафрейм на 3 выборки:\n",
    "\n",
    "1. Обучающая (60% доля )\n",
    "2. Валидационная (20% доля)\n",
    "3. Тестовая (20% доля):\n",
    "\n",
    "Разделим дата фрейм сначала на две части (60% и 40%), а затем вторую часть разделим пополам (20% и 20%).\n",
    "Тестовую выборку использовать не будем, \"спрячем\"."
   ]
  },
  {
   "cell_type": "code",
   "execution_count": 91,
   "metadata": {},
   "outputs": [],
   "source": [
    "df_main, df_40 = train_test_split(df_ohe, test_size=0.40, random_state=42)"
   ]
  },
  {
   "cell_type": "code",
   "execution_count": 92,
   "metadata": {},
   "outputs": [],
   "source": [
    "df_valid, df_test = train_test_split(df_40, test_size=0.50, random_state=42)"
   ]
  },
  {
   "cell_type": "code",
   "execution_count": 93,
   "metadata": {
    "scrolled": true
   },
   "outputs": [
    {
     "name": "stdout",
     "output_type": "stream",
     "text": [
      "Размер обучающего датафрейма: (5454, 12)\n",
      "Размер валидационного датафрейма: (1818, 12)\n",
      "Размер тестового датафрейма: (1819, 12)\n"
     ]
    }
   ],
   "source": [
    "#проверим размерности датафреймов\n",
    "\n",
    "print('Размер обучающего датафрейма:', df_main.shape)\n",
    "print('Размер валидационного датафрейма:', df_valid.shape)\n",
    "print('Размер тестового датафрейма:', df_test.shape)"
   ]
  },
  {
   "cell_type": "code",
   "execution_count": 94,
   "metadata": {},
   "outputs": [],
   "source": [
    "#Разделим датафреймы на \"признаки\" (features) и \"целевой признак\" (target)\n",
    "\n",
    "features_train = df_main.drop(['Exited'], axis=1)   #обучающий датафрейм по \"признакам\"\n",
    "target_train = df_main['Exited']                     #обучающий датафрейм по \"целевому признаку\"\n",
    "\n",
    "features_valid = df_valid.drop(['Exited'], axis=1)\n",
    "target_valid = df_valid['Exited']\n",
    "\n",
    "features_test = df_test.drop(['Exited'], axis=1)\n",
    "target_test = df_test['Exited']"
   ]
  },
  {
   "cell_type": "markdown",
   "metadata": {},
   "source": [
    "## Масштабирование данных ##"
   ]
  },
  {
   "cell_type": "markdown",
   "metadata": {},
   "source": [
    "Все числовые значения (не категориальные переменные) необходимо привести к одному масштабу, чтобы вес признаков был одинаковым."
   ]
  },
  {
   "cell_type": "code",
   "execution_count": 95,
   "metadata": {},
   "outputs": [],
   "source": [
    "#числовые столбцы\n",
    "\n",
    "numeric = ['CreditScore', 'Age', 'Tenure', 'Balance', 'NumOfProducts', 'EstimatedSalary']\n",
    "\n",
    "scaler = StandardScaler()\n",
    "\n",
    "scaler.fit(features_train[numeric]) #признаки масштабируются — приводятся к одному масштабу: расчет среднего и дисперсии \n",
    "\n",
    "features_train[numeric] = scaler.transform(features_train[numeric])\n",
    "features_valid[numeric] = scaler.transform(features_valid[numeric]) \n",
    "features_test[numeric] = scaler.transform(features_test[numeric])\n",
    "\n",
    "pd.options.mode.chained_assignment = None #костыль для перезаписи датафреймов самих в себя после преобразования"
   ]
  },
  {
   "cell_type": "code",
   "execution_count": 96,
   "metadata": {
    "scrolled": true
   },
   "outputs": [
    {
     "data": {
      "text/html": [
       "<div>\n",
       "<style scoped>\n",
       "    .dataframe tbody tr th:only-of-type {\n",
       "        vertical-align: middle;\n",
       "    }\n",
       "\n",
       "    .dataframe tbody tr th {\n",
       "        vertical-align: top;\n",
       "    }\n",
       "\n",
       "    .dataframe thead th {\n",
       "        text-align: right;\n",
       "    }\n",
       "</style>\n",
       "<table border=\"1\" class=\"dataframe\">\n",
       "  <thead>\n",
       "    <tr style=\"text-align: right;\">\n",
       "      <th></th>\n",
       "      <th>CreditScore</th>\n",
       "      <th>Age</th>\n",
       "      <th>Tenure</th>\n",
       "      <th>Balance</th>\n",
       "      <th>NumOfProducts</th>\n",
       "      <th>HasCrCard</th>\n",
       "      <th>IsActiveMember</th>\n",
       "      <th>EstimatedSalary</th>\n",
       "      <th>Geography_Germany</th>\n",
       "      <th>Geography_Spain</th>\n",
       "      <th>Gender_Male</th>\n",
       "    </tr>\n",
       "  </thead>\n",
       "  <tbody>\n",
       "    <tr>\n",
       "      <th>7073</th>\n",
       "      <td>0.312962</td>\n",
       "      <td>0.100855</td>\n",
       "      <td>-1.400319</td>\n",
       "      <td>-1.224819</td>\n",
       "      <td>-0.911479</td>\n",
       "      <td>1</td>\n",
       "      <td>1</td>\n",
       "      <td>-1.447317</td>\n",
       "      <td>0</td>\n",
       "      <td>0</td>\n",
       "      <td>1</td>\n",
       "    </tr>\n",
       "    <tr>\n",
       "      <th>9313</th>\n",
       "      <td>0.759094</td>\n",
       "      <td>-0.184547</td>\n",
       "      <td>-1.745043</td>\n",
       "      <td>0.791445</td>\n",
       "      <td>-0.911479</td>\n",
       "      <td>0</td>\n",
       "      <td>0</td>\n",
       "      <td>1.047180</td>\n",
       "      <td>1</td>\n",
       "      <td>0</td>\n",
       "      <td>0</td>\n",
       "    </tr>\n",
       "    <tr>\n",
       "      <th>3573</th>\n",
       "      <td>0.219585</td>\n",
       "      <td>2.764607</td>\n",
       "      <td>-0.366150</td>\n",
       "      <td>-1.224819</td>\n",
       "      <td>0.804506</td>\n",
       "      <td>1</td>\n",
       "      <td>1</td>\n",
       "      <td>-1.542568</td>\n",
       "      <td>0</td>\n",
       "      <td>0</td>\n",
       "      <td>1</td>\n",
       "    </tr>\n",
       "    <tr>\n",
       "      <th>898</th>\n",
       "      <td>-1.305566</td>\n",
       "      <td>0.100855</td>\n",
       "      <td>-1.055596</td>\n",
       "      <td>0.423166</td>\n",
       "      <td>-0.911479</td>\n",
       "      <td>1</td>\n",
       "      <td>0</td>\n",
       "      <td>0.499401</td>\n",
       "      <td>0</td>\n",
       "      <td>0</td>\n",
       "      <td>0</td>\n",
       "    </tr>\n",
       "    <tr>\n",
       "      <th>2671</th>\n",
       "      <td>1.557983</td>\n",
       "      <td>-0.374815</td>\n",
       "      <td>0.668020</td>\n",
       "      <td>-1.224819</td>\n",
       "      <td>0.804506</td>\n",
       "      <td>0</td>\n",
       "      <td>1</td>\n",
       "      <td>0.709712</td>\n",
       "      <td>0</td>\n",
       "      <td>1</td>\n",
       "      <td>1</td>\n",
       "    </tr>\n",
       "    <tr>\n",
       "      <th>...</th>\n",
       "      <td>...</td>\n",
       "      <td>...</td>\n",
       "      <td>...</td>\n",
       "      <td>...</td>\n",
       "      <td>...</td>\n",
       "      <td>...</td>\n",
       "      <td>...</td>\n",
       "      <td>...</td>\n",
       "      <td>...</td>\n",
       "      <td>...</td>\n",
       "      <td>...</td>\n",
       "    </tr>\n",
       "    <tr>\n",
       "      <th>6312</th>\n",
       "      <td>0.095083</td>\n",
       "      <td>-1.040753</td>\n",
       "      <td>1.357466</td>\n",
       "      <td>1.220933</td>\n",
       "      <td>-0.911479</td>\n",
       "      <td>1</td>\n",
       "      <td>0</td>\n",
       "      <td>1.160707</td>\n",
       "      <td>1</td>\n",
       "      <td>0</td>\n",
       "      <td>0</td>\n",
       "    </tr>\n",
       "    <tr>\n",
       "      <th>5722</th>\n",
       "      <td>0.333712</td>\n",
       "      <td>-0.469949</td>\n",
       "      <td>-0.710873</td>\n",
       "      <td>-1.224819</td>\n",
       "      <td>0.804506</td>\n",
       "      <td>0</td>\n",
       "      <td>0</td>\n",
       "      <td>-0.769669</td>\n",
       "      <td>0</td>\n",
       "      <td>0</td>\n",
       "      <td>1</td>\n",
       "    </tr>\n",
       "    <tr>\n",
       "      <th>5940</th>\n",
       "      <td>2.076742</td>\n",
       "      <td>0.195989</td>\n",
       "      <td>0.323296</td>\n",
       "      <td>-1.224819</td>\n",
       "      <td>0.804506</td>\n",
       "      <td>1</td>\n",
       "      <td>1</td>\n",
       "      <td>1.204601</td>\n",
       "      <td>0</td>\n",
       "      <td>0</td>\n",
       "      <td>0</td>\n",
       "    </tr>\n",
       "    <tr>\n",
       "      <th>966</th>\n",
       "      <td>-0.890559</td>\n",
       "      <td>-0.469949</td>\n",
       "      <td>0.323296</td>\n",
       "      <td>1.012833</td>\n",
       "      <td>-0.911479</td>\n",
       "      <td>1</td>\n",
       "      <td>1</td>\n",
       "      <td>0.912333</td>\n",
       "      <td>0</td>\n",
       "      <td>0</td>\n",
       "      <td>0</td>\n",
       "    </tr>\n",
       "    <tr>\n",
       "      <th>8005</th>\n",
       "      <td>-0.153921</td>\n",
       "      <td>-0.279681</td>\n",
       "      <td>-1.400319</td>\n",
       "      <td>-0.112174</td>\n",
       "      <td>-0.911479</td>\n",
       "      <td>1</td>\n",
       "      <td>0</td>\n",
       "      <td>0.282386</td>\n",
       "      <td>0</td>\n",
       "      <td>0</td>\n",
       "      <td>0</td>\n",
       "    </tr>\n",
       "  </tbody>\n",
       "</table>\n",
       "<p>5454 rows × 11 columns</p>\n",
       "</div>"
      ],
      "text/plain": [
       "      CreditScore       Age    Tenure   Balance  NumOfProducts  HasCrCard  \\\n",
       "7073     0.312962  0.100855 -1.400319 -1.224819      -0.911479          1   \n",
       "9313     0.759094 -0.184547 -1.745043  0.791445      -0.911479          0   \n",
       "3573     0.219585  2.764607 -0.366150 -1.224819       0.804506          1   \n",
       "898     -1.305566  0.100855 -1.055596  0.423166      -0.911479          1   \n",
       "2671     1.557983 -0.374815  0.668020 -1.224819       0.804506          0   \n",
       "...           ...       ...       ...       ...            ...        ...   \n",
       "6312     0.095083 -1.040753  1.357466  1.220933      -0.911479          1   \n",
       "5722     0.333712 -0.469949 -0.710873 -1.224819       0.804506          0   \n",
       "5940     2.076742  0.195989  0.323296 -1.224819       0.804506          1   \n",
       "966     -0.890559 -0.469949  0.323296  1.012833      -0.911479          1   \n",
       "8005    -0.153921 -0.279681 -1.400319 -0.112174      -0.911479          1   \n",
       "\n",
       "      IsActiveMember  EstimatedSalary  Geography_Germany  Geography_Spain  \\\n",
       "7073               1        -1.447317                  0                0   \n",
       "9313               0         1.047180                  1                0   \n",
       "3573               1        -1.542568                  0                0   \n",
       "898                0         0.499401                  0                0   \n",
       "2671               1         0.709712                  0                1   \n",
       "...              ...              ...                ...              ...   \n",
       "6312               0         1.160707                  1                0   \n",
       "5722               0        -0.769669                  0                0   \n",
       "5940               1         1.204601                  0                0   \n",
       "966                1         0.912333                  0                0   \n",
       "8005               0         0.282386                  0                0   \n",
       "\n",
       "      Gender_Male  \n",
       "7073            1  \n",
       "9313            0  \n",
       "3573            1  \n",
       "898             0  \n",
       "2671            1  \n",
       "...           ...  \n",
       "6312            0  \n",
       "5722            1  \n",
       "5940            0  \n",
       "966             0  \n",
       "8005            0  \n",
       "\n",
       "[5454 rows x 11 columns]"
      ]
     },
     "execution_count": 96,
     "metadata": {},
     "output_type": "execute_result"
    }
   ],
   "source": [
    "features_train"
   ]
  },
  {
   "cell_type": "markdown",
   "metadata": {},
   "source": [
    "**Вывод**: Числовые признаки приведены к единому масштабу."
   ]
  },
  {
   "cell_type": "markdown",
   "metadata": {},
   "source": [
    "## Исследование задачи"
   ]
  },
  {
   "cell_type": "markdown",
   "metadata": {},
   "source": [
    "### Модель \"случайный лес\" ###"
   ]
  },
  {
   "cell_type": "code",
   "execution_count": 97,
   "metadata": {
    "scrolled": false
   },
   "outputs": [
    {
     "name": "stdout",
     "output_type": "stream",
     "text": [
      "Лучшая модель \"случайный лес\"\n",
      "RandomForestClassifier(max_depth=12, n_estimators=60, random_state=42)\n",
      "\n",
      "Метрика качества f1: 0.5337837837837838\n",
      "Глубина дерева: 12\n",
      "Количество деревьев: 60\n",
      "\n",
      "CPU times: user 51.4 s, sys: 183 ms, total: 51.6 s\n",
      "Wall time: 52.2 s\n"
     ]
    }
   ],
   "source": [
    "%%time \n",
    "\n",
    "#создадим цикл с перебором гипперпараметров:\n",
    "# - количество деревьев в лесу, шагом и глубиной деревьев\n",
    "#для поиска модели обеспечивающей лучшее значение метрики качества модели: f1, точность и полнота\n",
    "\n",
    "best_model_forest = None\n",
    "best_result_f1 = 0\n",
    "best_depth_forest = 0\n",
    "best_estimator_forest = 0\n",
    "best_predictions_valid_forest = []\n",
    "\n",
    "for estimator in range(40, 81, 5):  \n",
    "    for depth_forest in range(1, 21):                                 # глубина дерева от 1 до 20\n",
    "        model_forest = RandomForestClassifier(\n",
    "            random_state=42,\n",
    "            n_estimators=estimator,\n",
    "            max_depth=depth_forest                                    # модель с заданным количеством деревьев\n",
    "        )                                                             \n",
    "        \n",
    "        model_forest.fit(features_train,target_train)                 # обучение модели на тренировочной выборке\n",
    "    \n",
    "        predictions_valid_forest = model_forest.predict(features_valid)   # предсказание модели\n",
    "        \n",
    "        f1_forest = f1_score(target_valid, predictions_valid_forest)\n",
    "        \n",
    "        if f1_forest > best_result_f1:\n",
    "            best_model_forest = model_forest                          # сохранение наилучшей модели\n",
    "            best_result_f1 = f1_forest                                # сохранение наилучшего значения метрики\n",
    "            best_depth_forest = depth_forest                          # сохранение наилучщей глубины деревьев\n",
    "            best_estimator_forest = estimator                         #сохранение наилучшего количества деревьев\n",
    "            best_predictions_valid_forest = predictions_valid_forest\n",
    "        \n",
    "print(f'Лучшая модель \"случайный лес\"')\n",
    "print(best_model_forest)\n",
    "print()\n",
    "print(f'Метрика качества f1: {best_result_f1}')\n",
    "print(f'Глубина дерева: {best_depth_forest}')\n",
    "print(f'Количество деревьев: {best_estimator_forest}')\n",
    "print()"
   ]
  },
  {
   "cell_type": "code",
   "execution_count": 98,
   "metadata": {
    "scrolled": true
   },
   "outputs": [
    {
     "name": "stdout",
     "output_type": "stream",
     "text": [
      "Матрица ошибок: \n",
      " [[1384   53]\n",
      " [ 223  158]]\n"
     ]
    }
   ],
   "source": [
    "print(f'Матрица ошибок: \\n {confusion_matrix(target_valid, best_predictions_valid_forest)}')"
   ]
  },
  {
   "cell_type": "markdown",
   "metadata": {},
   "source": [
    "**Вывод:**\n",
    "- Согласно матрицы ошибок модель плохо предсказывает \"1\" (уходящих клиентов): количество False Negative больше True Positive.\n",
    "- Требуется балансировка классов к отношению 50/50 для обучающей выборки."
   ]
  },
  {
   "cell_type": "code",
   "execution_count": 99,
   "metadata": {},
   "outputs": [],
   "source": [
    "#посчитаем значение параметра AUC-ROC: функция расчёта этой площади False Positive Rate vs. True positive Rate\n",
    "\n",
    "f1_forest_proba = best_model_forest.predict_proba(features_valid) # рассчет появления вероятности 0 и 1 по целевомму признаку на тестовой выборке\n",
    "\n",
    "probabilities_one_f1_forest = f1_forest_proba[:, 1]      # найдем вероятности появления 1 \n",
    "\n",
    "roc_auc_f1_forest = roc_auc_score(target_valid, probabilities_one_f1_forest)"
   ]
  },
  {
   "cell_type": "code",
   "execution_count": 100,
   "metadata": {
    "scrolled": true
   },
   "outputs": [
    {
     "name": "stdout",
     "output_type": "stream",
     "text": [
      "Функция расчёта этой площади False Positive Rate vs. True positive Rate (макс = 1)\n",
      "ROC-AUC: 0.86\n"
     ]
    }
   ],
   "source": [
    "print('Функция расчёта этой площади False Positive Rate vs. True positive Rate (макс = 1)')\n",
    "print(f'ROC-AUC: {round(roc_auc_f1_forest,2)}')"
   ]
  },
  {
   "cell_type": "markdown",
   "metadata": {},
   "source": [
    "## Борьба с дисбалансом"
   ]
  },
  {
   "cell_type": "markdown",
   "metadata": {},
   "source": [
    "### Увеличение выборки ###"
   ]
  },
  {
   "cell_type": "code",
   "execution_count": 101,
   "metadata": {},
   "outputs": [],
   "source": [
    "#напишем функцию, которая добавит в обучающий датафрейм значений 1 и перемешает полученный массив\n",
    "\n",
    "\n",
    "def upsample(features, target, repeat):\n",
    "    \n",
    "    features_zeros = features[target == 0]                         #все строки признаков, где целевой признак = 0\n",
    "    target_zeros = target[target == 0]                             #все строки, где целевые признаки = 0\n",
    "    \n",
    "    features_ones = features[target == 1]                          #все строки признаков, где целевой признак = 1\n",
    "    target_ones =  target[target == 1]                             #все строки, где целевые признаки = 1\n",
    "    \n",
    "    features_upsampled = pd.concat([features_zeros] + [features_ones]*repeat) #увеличение строк по целевому признаку и увеличение на требуемое количество\n",
    "    target_upsampled = pd.concat([target_zeros] + [target_ones]*repeat)\n",
    "    \n",
    "    features_upsampled, target_upsampled = shuffle(features_upsampled, target_upsampled, random_state=42)\n",
    "    \n",
    "    return features_upsampled, target_upsampled"
   ]
  },
  {
   "cell_type": "code",
   "execution_count": 102,
   "metadata": {},
   "outputs": [],
   "source": [
    "# произведем уменьшение обучающего датафрейма для обеспечения баланса классов\n",
    "\n",
    "features_train_up, target_train_up = upsample(features_train, target_train, 4)"
   ]
  },
  {
   "cell_type": "code",
   "execution_count": 103,
   "metadata": {
    "scrolled": true
   },
   "outputs": [
    {
     "name": "stdout",
     "output_type": "stream",
     "text": [
      "Баланс классов: 1 к 0: 1.0232558139534884\n"
     ]
    }
   ],
   "source": [
    "print(f'Баланс классов: 1 к 0: {target_train_up[target_train_up == 1].count()/target_train_up[target_train_up == 0].count()}')"
   ]
  },
  {
   "cell_type": "markdown",
   "metadata": {},
   "source": [
    "**Вывод:** Баланс привели в правильное отношение 1:1 для целевого признака. "
   ]
  },
  {
   "cell_type": "code",
   "execution_count": 104,
   "metadata": {},
   "outputs": [
    {
     "name": "stdout",
     "output_type": "stream",
     "text": [
      "Размер сбалансированного обучающего датафрейма по признакам: (8787, 11)\n",
      "Размер сбалансированного обучающего датафрейма по ключевому признаку: (8787,)\n"
     ]
    }
   ],
   "source": [
    "print('Размер сбалансированного обучающего датафрейма по признакам:', features_train_up.shape)\n",
    "print('Размер сбалансированного обучающего датафрейма по ключевому признаку:', target_train_up.shape)"
   ]
  },
  {
   "cell_type": "markdown",
   "metadata": {},
   "source": [
    "### Уменьшение выборки ###"
   ]
  },
  {
   "cell_type": "code",
   "execution_count": 105,
   "metadata": {},
   "outputs": [],
   "source": [
    "#напишем функцию, которая убирает рандомно часть избыточных \"0\" значений и перемешивает полученный массив\n",
    "\n",
    "\n",
    "def downsample(features, target, fraction):\n",
    "    \n",
    "    features_zeros = features[target == 0]                         #все строки признаков, где целевой признак = 0\n",
    "    target_zeros = target[target == 0]                             #все строки, где целевые признаки = 0\n",
    "    \n",
    "    features_ones = features[target == 1]                          #все строки признаков, где целевой признак = 1\n",
    "    target_ones =  target[target == 1]                             #все строки, где целевые признаки = 1\n",
    "    \n",
    "    features_downsampled = pd.concat(\n",
    "        [features_zeros.sample(frac=fraction, random_state=42)] + [features_ones])\n",
    "    \n",
    "    target_downsampled = pd.concat(\n",
    "        [target_zeros.sample(frac=fraction, random_state=42)] + [target_ones])\n",
    "    \n",
    "    features_downsampled, target_downsampled = shuffle(features_downsampled, target_downsampled, random_state=42)\n",
    "    \n",
    "    return features_downsampled, target_downsampled"
   ]
  },
  {
   "cell_type": "code",
   "execution_count": 106,
   "metadata": {
    "scrolled": true
   },
   "outputs": [],
   "source": [
    "# произведем уменьшение обучающего датафрейма для обеспечения баланса классов\n",
    "\n",
    "features_train_down, target_train_down = downsample(features_train, target_train, 0.25)"
   ]
  },
  {
   "cell_type": "code",
   "execution_count": 107,
   "metadata": {},
   "outputs": [
    {
     "name": "stdout",
     "output_type": "stream",
     "text": [
      "Баланс классов: 1 к 0: 1.0230202578268877\n"
     ]
    }
   ],
   "source": [
    "print(f'Баланс классов: 1 к 0: {target_train_down[target_train_down == 1].count()/target_train_down[target_train_down == 0].count()}')"
   ]
  },
  {
   "cell_type": "code",
   "execution_count": 108,
   "metadata": {},
   "outputs": [
    {
     "name": "stdout",
     "output_type": "stream",
     "text": [
      "Размер сбалансированного обучающего датафрейма (downsample) по признакам: (2197, 11)\n",
      "Размер сбалансированного обучающего датафрейма (downsample) по ключевому признаку: (2197,)\n"
     ]
    }
   ],
   "source": [
    "print('Размер сбалансированного обучающего датафрейма (downsample) по признакам:', features_train_down.shape)\n",
    "print('Размер сбалансированного обучающего датафрейма (downsample) по ключевому признаку:', target_train_down.shape)"
   ]
  },
  {
   "cell_type": "markdown",
   "metadata": {},
   "source": [
    "**Вывод:** Для дальнейшей работы с проектом будем использовать увеличенную выборку."
   ]
  },
  {
   "cell_type": "markdown",
   "metadata": {},
   "source": [
    "## Тестирование модели"
   ]
  },
  {
   "cell_type": "markdown",
   "metadata": {},
   "source": [
    "### Модель \"случайный лес\" ###"
   ]
  },
  {
   "cell_type": "code",
   "execution_count": 125,
   "metadata": {},
   "outputs": [
    {
     "name": "stdout",
     "output_type": "stream",
     "text": [
      "Лучшая модель \"случайный лес\"\n",
      "RandomForestClassifier(criterion='entropy', max_depth=9, n_estimators=70,\n",
      "                       random_state=42)\n",
      "\n",
      "Метрика качества f1: 0.62\n",
      "Глубина дерева: 9\n",
      "Количество деревьев: 70\n",
      "\n",
      "CPU times: user 1min 37s, sys: 266 ms, total: 1min 37s\n",
      "Wall time: 1min 37s\n"
     ]
    }
   ],
   "source": [
    "%%time \n",
    "\n",
    "#создадим цикл с перебором гипперпараметров:\n",
    "# - количество деревьев в лесу, шагом и глубиной деревьев\n",
    "#для поиска модели обеспечивающей лучшее значение метрики качества модели: f1, точность и полнота\n",
    "\n",
    "best_model_forest_v2 = None\n",
    "best_result_f1_v2 = 0\n",
    "best_depth_forest_v2 = 0\n",
    "best_estimator_forest_v2 = 0\n",
    "best_predictions_valid_forest_v2 = []\n",
    "\n",
    "for estimator_v2 in range(10, 81, 5):                    # количество деревьев\n",
    "    for depth_forest_v2 in range(1, 21):                 # глубина дерева от 1 до 20\n",
    "        model_forest_v2 = RandomForestClassifier(\n",
    "            random_state=42,\n",
    "            n_estimators=estimator_v2,                   # модель с заданным количеством деревьев\n",
    "            max_depth=depth_forest_v2,                   # модель с заданной глубиной дерева\n",
    "            criterion = \"entropy\"                        # функция измерения качества разделения, поддерживаемые критерии: «джини» и «энтропия»\n",
    "        )                                                             \n",
    "        \n",
    "        model_forest_v2.fit(features_train_up,target_train_up)                    # обучение модели на тренировочной выборке\n",
    "    \n",
    "        predictions_valid_forest_v2 = model_forest_v2.predict(features_valid)     # предсказание модели\n",
    "        \n",
    "        f1_forest_v2 = f1_score(target_valid, predictions_valid_forest_v2)\n",
    "        \n",
    "        if f1_forest_v2 > best_result_f1_v2:\n",
    "            best_model_forest_v2 = model_forest_v2                          # сохранение наилучшей модели\n",
    "            best_result_f1_v2 = f1_forest_v2                                # сохранение наилучшего значения метрики\n",
    "            best_depth_forest_v2 = depth_forest_v2                          # сохранение наилучщей глубины деревьев\n",
    "            best_estimator_forest_v2 = estimator_v2                         # сохранение наилучшего количества деревьев\n",
    "            best_predictions_valid_forest_v2 = predictions_valid_forest_v2\n",
    "        \n",
    "print(f'Лучшая модель \"случайный лес\"')\n",
    "print(best_model_forest_v2)\n",
    "print()\n",
    "print(f'Метрика качества f1: {round(best_result_f1_v2,2)}')\n",
    "print(f'Глубина дерева: {best_depth_forest_v2}')\n",
    "print(f'Количество деревьев: {best_estimator_forest_v2}')\n",
    "print()"
   ]
  },
  {
   "cell_type": "code",
   "execution_count": 110,
   "metadata": {},
   "outputs": [
    {
     "name": "stdout",
     "output_type": "stream",
     "text": [
      "[[1248  189]\n",
      " [ 122  259]]\n"
     ]
    }
   ],
   "source": [
    "print(confusion_matrix(target_valid, best_predictions_valid_forest_v2))"
   ]
  },
  {
   "cell_type": "markdown",
   "metadata": {},
   "source": [
    "**Вывод:** Значение метрики f1 увеличилось и превысило значение целевого показателя в 0.59. В тоже время модель все еще пропускает большое количество ушедших клиентов - False Negative. Посмотрим на пороговые значения:"
   ]
  },
  {
   "cell_type": "markdown",
   "metadata": {},
   "source": [
    "#### Изменение порога: модель \"Случайный лес\" ####"
   ]
  },
  {
   "cell_type": "code",
   "execution_count": 111,
   "metadata": {},
   "outputs": [
    {
     "name": "stdout",
     "output_type": "stream",
     "text": [
      "Порог = 0.30 | Точность = 0.381, Полнота = 0.895, f1 = 0.535\n",
      "Порог = 0.32 | Точность = 0.402, Полнота = 0.885, f1 = 0.553\n",
      "Порог = 0.34 | Точность = 0.416, Полнота = 0.858, f1 = 0.560\n",
      "Порог = 0.36 | Точность = 0.434, Полнота = 0.843, f1 = 0.573\n",
      "Порог = 0.38 | Точность = 0.453, Полнота = 0.808, f1 = 0.581\n",
      "Порог = 0.40 | Точность = 0.472, Полнота = 0.782, f1 = 0.589\n",
      "Порог = 0.42 | Точность = 0.492, Полнота = 0.753, f1 = 0.595\n",
      "Порог = 0.44 | Точность = 0.510, Полнота = 0.727, f1 = 0.600\n",
      "Порог = 0.46 | Точность = 0.535, Полнота = 0.711, f1 = 0.610\n",
      "Порог = 0.48 | Точность = 0.557, Полнота = 0.693, f1 = 0.618\n",
      "Порог = 0.50 | Точность = 0.578, Полнота = 0.680, f1 = 0.625\n",
      "Порог = 0.52 | Точность = 0.596, Полнота = 0.651, f1 = 0.622\n",
      "Порог = 0.54 | Точность = 0.610, Полнота = 0.619, f1 = 0.615\n",
      "Порог = 0.56 | Точность = 0.626, Полнота = 0.601, f1 = 0.613\n",
      "Порог = 0.58 | Точность = 0.636, Полнота = 0.570, f1 = 0.601\n"
     ]
    }
   ],
   "source": [
    "probabilities_valid_forest = best_model_forest_v2.predict_proba(features_valid) # рассчет появления вероятности 0 и 1 по целевомму признаку\n",
    "\n",
    "probabilities_one_valid_forest = probabilities_valid_forest[:, 1]      # найдем вероятности появления 1 \n",
    "\n",
    "for threshold in np.arange(0.3, 0.6, 0.02):                            # перебираем пороги для нашей модели\n",
    "    predicted_valid = probabilities_one_valid_forest > threshold       # создаем Series из True-False, если условие выполняетсяЖ значения 1-0\n",
    "    precision = precision_score(target_valid, predicted_valid)         # рассчет точности\n",
    "    recall = recall_score(target_valid, predicted_valid)               # рассчет полноты\n",
    "    f1 = f1_score(target_valid, predicted_valid)                       # рассчет f1 метрики\n",
    "\n",
    "    print(\"Порог = {:.2f} | Точность = {:.3f}, Полнота = {:.3f}, f1 = {:.3f}\".format(\n",
    "        threshold, precision, recall, f1))"
   ]
  },
  {
   "cell_type": "markdown",
   "metadata": {},
   "source": [
    "**Вывод:** Мождель best_model_forest_v2 дает лучший прогноз при дефолтном пороге (по умолчанию) равному 0.5."
   ]
  },
  {
   "cell_type": "markdown",
   "metadata": {},
   "source": [
    "#### AUC-ROC: модель \"случайный лес\" ####"
   ]
  },
  {
   "cell_type": "code",
   "execution_count": 112,
   "metadata": {},
   "outputs": [],
   "source": [
    "#посчитаем значение параметра AUC-ROC: функция расчёта этой площади False Positive Rate vs. True positive Rate\n",
    "\n",
    "roc_auc = roc_auc_score(target_valid, probabilities_one_valid_forest)"
   ]
  },
  {
   "cell_type": "code",
   "execution_count": 113,
   "metadata": {},
   "outputs": [
    {
     "name": "stdout",
     "output_type": "stream",
     "text": [
      "Функция расчёта этой площади False Positive Rate vs. True positive Rate (макс = 1)\n",
      "ROC-AUC: 0.86\n"
     ]
    }
   ],
   "source": [
    "print('Функция расчёта этой площади False Positive Rate vs. True positive Rate (макс = 1)')\n",
    "print(f'ROC-AUC: {round(roc_auc,2)}')"
   ]
  },
  {
   "cell_type": "markdown",
   "metadata": {},
   "source": [
    "**Вывод:** Площадь кривой ROC-AUC выше случайной модели (значение 0.5) и может быть принята как успешный результат обучения модели."
   ]
  },
  {
   "cell_type": "markdown",
   "metadata": {},
   "source": [
    "### Модель \"логистическая регрессия\" ###"
   ]
  },
  {
   "cell_type": "code",
   "execution_count": 114,
   "metadata": {},
   "outputs": [
    {
     "name": "stdout",
     "output_type": "stream",
     "text": [
      "Лучшая модель \"логистическая регрессия\":     LogisticRegression(max_iter=500, random_state=42)\n",
      "\n",
      "Метрика качества f1 \"логистическая регрессия\": 0.506\n",
      "Количество итераций: 500\n",
      "\n",
      "CPU times: user 1.88 s, sys: 1.53 s, total: 3.41 s\n",
      "Wall time: 3.33 s\n"
     ]
    }
   ],
   "source": [
    "%%time \n",
    "\n",
    "#создадим цикл с перебором гипперпараметров:\n",
    "# - количество итераций\n",
    "#для поиска модели обеспечивающей лучшее значение метрики качества модели - accuracy через функцию .score()\n",
    "\n",
    "best_model_log_reg = None\n",
    "best_result_log_reg = 0\n",
    "best_iteration_log_reg = 0\n",
    "\n",
    "for iteration in range(500, 1001, 50):                                # с количеством итераций от 500 до 1000 с шагом 50\n",
    "    \n",
    "    model_log_reg = LogisticRegression(\n",
    "        random_state=42,                                              # гипперпараметр рандома\n",
    "        solver='lbfgs',                                               # алгоритм, который будет строить модель\n",
    "        max_iter=iteration,                                           # максимальное количество итераций обучения\n",
    "    )                                                                 # модель логистической регрессии \n",
    "    \n",
    "    model_log_reg.fit(features_train_up, target_train_up)                    # обучение модели на тренировочной выборке\n",
    "    \n",
    "    predictions_valid_log_reg = model_log_reg.predict(features_valid)   # предсказание модели \n",
    "    \n",
    "    result_log_reg = f1_score(target_valid, predictions_valid_log_reg) # получите метрику качества модели через .score()\n",
    "    \n",
    "    if result_log_reg > best_result_log_reg:\n",
    "        best_model_log_reg = model_log_reg                            # сохранение наилучшей модели\n",
    "        best_result_log_reg = result_log_reg                          # сохранение наилучшего значения метрики accuracy\n",
    "        best_iteration_log_reg = iteration                            # сохранение наилучшей итерации\n",
    "        \n",
    "print(f'Лучшая модель \"логистическая регрессия\": \\\n",
    "    {best_model_log_reg}')\n",
    "print()\n",
    "print(f'Метрика качества f1 \"логистическая регрессия\": {round(best_result_log_reg,4)}')\n",
    "print(f'Количество итераций: {best_iteration_log_reg}')\n",
    "print()"
   ]
  },
  {
   "cell_type": "markdown",
   "metadata": {},
   "source": [
    "#### Изменение порога: модель \"Логистическая регрессия\" ####"
   ]
  },
  {
   "cell_type": "code",
   "execution_count": 115,
   "metadata": {},
   "outputs": [
    {
     "name": "stdout",
     "output_type": "stream",
     "text": [
      "Логистическая регрессия\n",
      "Порог = 0.30 | Точность = 0.284, Полнота = 0.927, f1 = 0.435\n",
      "Порог = 0.35 | Точность = 0.311, Полнота = 0.882, f1 = 0.460\n",
      "Порог = 0.40 | Точность = 0.331, Полнота = 0.829, f1 = 0.473\n",
      "Порог = 0.45 | Точность = 0.365, Полнота = 0.787, f1 = 0.499\n",
      "Порог = 0.50 | Точность = 0.391, Полнота = 0.717, f1 = 0.506\n",
      "Порог = 0.55 | Точность = 0.427, Полнота = 0.648, f1 = 0.515\n",
      "Порог = 0.60 | Точность = 0.469, Полнота = 0.593, f1 = 0.524\n",
      "Порог = 0.65 | Точность = 0.515, Полнота = 0.496, f1 = 0.505\n",
      "Порог = 0.70 | Точность = 0.511, Полнота = 0.381, f1 = 0.436\n",
      "Порог = 0.75 | Точность = 0.495, Полнота = 0.281, f1 = 0.358\n"
     ]
    }
   ],
   "source": [
    "print('Логистическая регрессия') \n",
    "\n",
    "probabilities_valid_log_reg = best_model_log_reg.predict_proba(features_valid)     # рассчет появления вероятности 0 и 1 по целевомму признаку\n",
    "\n",
    "probabilities_one_valid_log_reg = probabilities_valid_log_reg[:, 1]           # найдем вероятности появления 1 \n",
    "\n",
    "for threshold_log_reg in np.arange(0.3, 0.8, 0.05):                                         # перебираем пороги для нашей модели\n",
    "    predicted_valid_log_reg = probabilities_one_valid_log_reg > threshold_log_reg       # создаем Series из True-False, если условие выполняетсяЖ значения 1-0\n",
    "    precision_log_reg = precision_score(target_valid, predicted_valid_log_reg)          # рассчет точности\n",
    "    recall_log_reg = recall_score(target_valid, predicted_valid_log_reg)                # рассчет полноты\n",
    "    f1_log_reg = f1_score(target_valid, predicted_valid_log_reg)                        # рассчет f1 метрики\n",
    "                                                   \n",
    "    print(\"Порог = {:.2f} | Точность = {:.3f}, Полнота = {:.3f}, f1 = {:.3f}\".format(\n",
    "        threshold_log_reg, precision_log_reg, recall_log_reg, f1_log_reg))"
   ]
  },
  {
   "cell_type": "markdown",
   "metadata": {},
   "source": [
    "**Вывод**: Результаты модели \"логистической регрессии\" ниже (f1 - 0.524 при пороге равном 0.60), чем у \"случайного леса\". В дальнейшем продолжим работу по улучшению модели \"случайный лес\"."
   ]
  },
  {
   "cell_type": "markdown",
   "metadata": {},
   "source": [
    "### Дообучение модели \"случайный лес\" и проверка на тестовой выборке ###"
   ]
  },
  {
   "cell_type": "markdown",
   "metadata": {},
   "source": [
    "`Лучшая модель:`\n",
    "- model_forest_v2 (случайный лес)\n",
    "- Метрика f1: 0.62\n",
    "- Глубина дерева: 9\n",
    "- Количество деревьев: 70\n",
    "- Критерий: \"entropy\"\n",
    "- Рандом: 42\n",
    "\n",
    "**Дообучим модель на комбинации обучающей и валидационной выборки.**"
   ]
  },
  {
   "cell_type": "code",
   "execution_count": 116,
   "metadata": {},
   "outputs": [],
   "source": [
    "# отбъединим 2 датафрейма\n",
    "\n",
    "features_combo = pd.concat([features_train] + [features_valid])\n",
    "target_combo = pd.concat([target_train] + [target_valid])\n",
    "\n",
    "# сбалансируем классы функцией def upsample(features, target, repeat):\n",
    "\n",
    "features_combo_up, target_combo_up = upsample(features_combo, target_combo, 4)"
   ]
  },
  {
   "cell_type": "code",
   "execution_count": 117,
   "metadata": {},
   "outputs": [
    {
     "name": "stdout",
     "output_type": "stream",
     "text": [
      "Размерность новой обучающей выборки: (11748, 11)\n"
     ]
    }
   ],
   "source": [
    "print(f'Размерность новой обучающей выборки: {features_combo_up.shape}')"
   ]
  },
  {
   "cell_type": "code",
   "execution_count": 118,
   "metadata": {},
   "outputs": [
    {
     "name": "stdout",
     "output_type": "stream",
     "text": [
      "Лучшая модель \"случайный лес\"\n",
      "RandomForestClassifier(criterion='entropy', max_depth=9, n_estimators=70,\n",
      "                       random_state=42)\n",
      "Метрика качества f1: 0.601\n",
      "\n",
      "CPU times: user 685 ms, sys: 0 ns, total: 685 ms\n",
      "Wall time: 713 ms\n"
     ]
    }
   ],
   "source": [
    "%%time\n",
    "\n",
    "# произведем обучение модели на большем объеме данных\n",
    "\n",
    "model_forest_v3 = RandomForestClassifier(\n",
    "    random_state=42,\n",
    "    n_estimators=70,                   # модель с заданным количеством деревьев\n",
    "    max_depth=9,                       # модель с заданной глубиной дерева\n",
    "    criterion = \"entropy\"              # функция измерения качества разделения, поддерживаемые критерии: «джини» и «энтропия»\n",
    ")                                                             \n",
    "        \n",
    "model_forest_v3.fit(features_combo_up,target_combo_up)                    # обучение модели на комбинированной выборке\n",
    "    \n",
    "predictions_valid_forest_v3 = model_forest_v3.predict(features_test)      # предсказание модели на тестовой выборке\n",
    "        \n",
    "f1_forest_v3 = f1_score(predictions_valid_forest_v3, target_test)\n",
    "        \n",
    "print(f'Лучшая модель \"случайный лес\"')\n",
    "print(model_forest_v3)\n",
    "print(f'Метрика качества f1: {round(f1_forest_v3,3)}')\n",
    "print()"
   ]
  },
  {
   "cell_type": "code",
   "execution_count": 119,
   "metadata": {},
   "outputs": [
    {
     "name": "stdout",
     "output_type": "stream",
     "text": [
      "Матрица ошибок: \n",
      " [[1225  232]\n",
      " [ 107  255]]\n"
     ]
    }
   ],
   "source": [
    "print(f'Матрица ошибок: \\n {confusion_matrix(target_test, predictions_valid_forest_v3)}')"
   ]
  },
  {
   "cell_type": "markdown",
   "metadata": {},
   "source": [
    "**Вывод:** Метрика качества модели f1 на тестовой выборке уменьшилась с 0.62 до 0.60, однако выше целевого показателя в 0.59. \n",
    "\n",
    "Данных стало больше, что лучше для обучения модели и понимания взаимосвязей величин, снижение f1 *тестовой выборке* ожидаемо."
   ]
  },
  {
   "cell_type": "markdown",
   "metadata": {},
   "source": [
    "#### AUC-ROC: модель \"случайный лес\" на дообученной модели ####"
   ]
  },
  {
   "cell_type": "code",
   "execution_count": 120,
   "metadata": {},
   "outputs": [],
   "source": [
    "#посчитаем значение параметра AUC-ROC: функция расчёта этой площади False Positive Rate vs. True positive Rate\n",
    "\n",
    "probabilities_forest = model_forest_v3.predict_proba(features_test) # рассчет появления вероятности 0 и 1 по целевомму признаку на тестовой выборке\n",
    "\n",
    "probabilities_one_forest = probabilities_forest[:, 1]      # найдем вероятности появления 1 \n",
    "\n",
    "roc_auc_test = roc_auc_score(target_test, probabilities_one_forest)"
   ]
  },
  {
   "cell_type": "code",
   "execution_count": 121,
   "metadata": {
    "scrolled": true
   },
   "outputs": [
    {
     "name": "stdout",
     "output_type": "stream",
     "text": [
      "Функция расчёта этой площади False Positive Rate vs. True positive Rate (макс = 1)\n",
      "ROC-AUC: 0.86\n"
     ]
    }
   ],
   "source": [
    "print('Функция расчёта этой площади False Positive Rate vs. True positive Rate (макс = 1)')\n",
    "print(f'ROC-AUC: {round(roc_auc_test,2)}')"
   ]
  },
  {
   "cell_type": "markdown",
   "metadata": {},
   "source": [
    "**Вывод:** Площадь кривой ROC-AUC увеличилась с 0.84 до 0.86 после дообучения модели на комбинированной выборке - точность прогнозирования модели выросла; значит модель model_forest_v3 может быть принята как успешная."
   ]
  },
  {
   "cell_type": "markdown",
   "metadata": {},
   "source": [
    "## Проверка модели на адекватность ##"
   ]
  },
  {
   "cell_type": "code",
   "execution_count": 122,
   "metadata": {},
   "outputs": [],
   "source": [
    "#создадим модель, которая делает предсказания на основе часто встречаемой величины целевого параметра без учета входных\n",
    "\n",
    "model_dummy = DummyClassifier(random_state=42, strategy=\"most_frequent\") \n",
    "\n",
    "model_dummy.fit(features_combo_up, target_combo_up)\n",
    "                            \n",
    "predictions_model_dummy = model_dummy.predict(features_test)       # предсказание модели на базе DummyClassifier\n",
    "        \n",
    "f1_result_model_dummy = f1_score(target_test, predictions_model_dummy)  # качество модели на валидационной выборке по accuracy_score"
   ]
  },
  {
   "cell_type": "code",
   "execution_count": 123,
   "metadata": {},
   "outputs": [
    {
     "name": "stdout",
     "output_type": "stream",
     "text": [
      "DummyClassifier: f1 метрика по тестовой выборке: 0.332\n"
     ]
    }
   ],
   "source": [
    "print(f'DummyClassifier: f1 метрика по тестовой выборке: {round(f1_result_model_dummy,4)}')"
   ]
  },
  {
   "cell_type": "markdown",
   "metadata": {},
   "source": [
    "**Вывод:**\n",
    "\n",
    "Простая модель на тестовой выборке, которая делает предсказания на основе часто встречаемой величины целевого параметра без учета входных, дает метрику прогноза f1 - 0.332. Выбранная модель \"дерево решений\" дает наилучший результат - 0.60 на той же тестовой выборке, что говорит об адекватности выбранной модели."
   ]
  },
  {
   "cell_type": "markdown",
   "metadata": {},
   "source": [
    "## Вывод ##"
   ]
  },
  {
   "cell_type": "markdown",
   "metadata": {},
   "source": [
    "По результатам выполнения проекта были реализованы следующие этапы:\n",
    "\n",
    "1. Подготовка данных к машинному обучению:\n",
    "    - заполнены пропущенные значения по 'Tenure' yf \"\"-1\";\n",
    "    - проведено прямое кодирование для категориальных признаков - 'Geography', 'Gender';\n",
    "    - проведено масштабирование данных для равномерного \"веса\" каждого числового признака при анализе.\n",
    "    \n",
    "2. Весть датафрейм был разделен на 3 выборки:\n",
    "    - Обучающая (60% доля )\n",
    "    - Валидационная (20% доля)\n",
    "    - Тестовая (20% доля)\n",
    "    \n",
    "   2.1 Проведен анализ на несбалансированной выборке. Получен низкий прогноз по количеству уходящих клиентов. \n",
    "   \n",
    "\n",
    "3. Для машинного обучения категориальных переменных было выбрано 2 подхода:\n",
    "    - Случайный лес:\n",
    "        - обеспечивает метрику качества модели f1 - 0,62, что выше целевого значения;\n",
    "        - метрика качества площади кривой ROC - ROC-AUC: 0.84\n",
    "    - Логистическая регрессия:\n",
    "        - обеспечивает метрику качества модели f1 - 0.524 при пороге равном 0.60, что НИЖЕ целевого значения в 0.59;\n",
    "        - модель признана не удачной.\n",
    "\n",
    "4. Модель \"Случайный лес\" была дообучена на комбинированной выборке: обучающей и валидационной.\n",
    "\n",
    "5. Тестовый датафрейм был проверен по лучшей модели \"дерево решений\":\n",
    "\n",
    "`Лучшая модель:`\n",
    "\n",
    "- model_forest_v2 (случайный лес)\n",
    "- Метрика f1: 0.59\n",
    "- Глубина дерева: 9\n",
    "- Количество деревьев: 70\n",
    "- Критерий: \"entropy\"\n",
    "- Рандом: 42\n",
    "\n",
    "Метрика качества модели f1 на тестовой выборке снизилась до 0.60, показатель выше целевого - 0.59. Площадь кривой ROC-AUC увеличилась с 0.84 до 0.86 после дообучения модели на комбинированной выборке - точность прогнозирования модели выросла; значит модель model_forest_v3 может быть принята как успешная.\n",
    "\n",
    "6. Проведена проверка на адекватность на базе DummyClassifier, который делает прогнозы, которые игнорируют входные функции.\n",
    "\n",
    "Простая модель на тестовой выборке, которая делает предсказания на основе часто встречаемой величины целевого параметра без учета входных, дает \"точность\" прогноза - 0.332. Выбранная модель \"дерево решений\" дает наилучший результат - 0.60 на той же тестовой выборке, что говорит об адекватности выбранной модели."
   ]
  },
  {
   "cell_type": "markdown",
   "metadata": {},
   "source": [
    "## Чек-лист готовности проекта"
   ]
  },
  {
   "cell_type": "markdown",
   "metadata": {},
   "source": [
    "- [x]  Jupyter Notebook открыт\n",
    "- [x]  Весь код выполняется без ошибок\n",
    "- [x]  Ячейки с кодом расположены в порядке исполнения\n",
    "- [x]  Выполнен шаг 1: данные подготовлены\n",
    "- [x]  Выполнен шаг 2: задача исследована\n",
    "    - [x]  Исследован баланс классов\n",
    "    - [x]  Изучены модели без учёта дисбаланса\n",
    "    - [x]  Написаны выводы по результатам исследования\n",
    "- [x]  Выполнен шаг 3: учтён дисбаланс\n",
    "    - [x]  Применено несколько способов борьбы с дисбалансом\n",
    "    - [x]  Написаны выводы по результатам исследования\n",
    "- [x]  Выполнен шаг 4: проведено тестирование\n",
    "- [x]  Удалось достичь *F1*-меры не менее 0.59\n",
    "- [x]  Исследована метрика *AUC-ROC*"
   ]
  }
 ],
 "metadata": {
  "ExecuteTimeLog": [
   {
    "duration": 578,
    "start_time": "2022-03-29T08:11:56.796Z"
   },
   {
    "duration": 4,
    "start_time": "2022-03-29T08:12:32.236Z"
   },
   {
    "duration": 1108,
    "start_time": "2022-03-29T08:13:10.573Z"
   },
   {
    "duration": 16,
    "start_time": "2022-03-29T08:13:45.839Z"
   },
   {
    "duration": 218,
    "start_time": "2022-03-29T08:13:53.469Z"
   },
   {
    "duration": 6,
    "start_time": "2022-03-29T08:13:58.878Z"
   },
   {
    "duration": 5,
    "start_time": "2022-03-29T08:16:33.966Z"
   },
   {
    "duration": 20,
    "start_time": "2022-03-29T08:22:16.607Z"
   },
   {
    "duration": 576,
    "start_time": "2022-03-29T08:23:25.711Z"
   },
   {
    "duration": 6,
    "start_time": "2022-03-29T08:25:37.662Z"
   },
   {
    "duration": 6,
    "start_time": "2022-03-29T08:25:53.694Z"
   },
   {
    "duration": 34,
    "start_time": "2022-03-29T08:26:27.869Z"
   },
   {
    "duration": 25,
    "start_time": "2022-03-29T08:27:04.622Z"
   },
   {
    "duration": 7,
    "start_time": "2022-03-29T08:57:21.464Z"
   },
   {
    "duration": 19,
    "start_time": "2022-03-29T08:57:29.336Z"
   },
   {
    "duration": 38,
    "start_time": "2022-03-29T08:57:58.504Z"
   },
   {
    "duration": 18,
    "start_time": "2022-03-29T08:58:04.795Z"
   },
   {
    "duration": 19,
    "start_time": "2022-03-29T08:58:05.352Z"
   },
   {
    "duration": 18,
    "start_time": "2022-03-29T08:58:05.952Z"
   },
   {
    "duration": 6,
    "start_time": "2022-03-29T08:58:15.301Z"
   },
   {
    "duration": 43,
    "start_time": "2022-03-29T08:58:15.311Z"
   },
   {
    "duration": 17,
    "start_time": "2022-03-29T08:58:15.356Z"
   },
   {
    "duration": 6,
    "start_time": "2022-03-29T08:58:15.375Z"
   },
   {
    "duration": 23,
    "start_time": "2022-03-29T08:58:15.384Z"
   },
   {
    "duration": 19,
    "start_time": "2022-03-29T09:01:42.113Z"
   },
   {
    "duration": 13,
    "start_time": "2022-03-29T09:02:11.967Z"
   },
   {
    "duration": 152,
    "start_time": "2022-03-29T09:07:22.127Z"
   },
   {
    "duration": 61,
    "start_time": "2022-03-29T09:12:55.264Z"
   },
   {
    "duration": 139,
    "start_time": "2022-03-29T09:13:16.768Z"
   },
   {
    "duration": 3375,
    "start_time": "2022-03-29T09:13:24.097Z"
   },
   {
    "duration": 2929,
    "start_time": "2022-03-29T09:14:06.671Z"
   },
   {
    "duration": 2579,
    "start_time": "2022-03-29T09:15:02.480Z"
   },
   {
    "duration": 6,
    "start_time": "2022-03-29T09:23:28.000Z"
   },
   {
    "duration": 3046,
    "start_time": "2022-03-29T09:23:32.041Z"
   },
   {
    "duration": 4,
    "start_time": "2022-03-29T09:24:38.142Z"
   },
   {
    "duration": 161,
    "start_time": "2022-03-29T09:25:13.905Z"
   },
   {
    "duration": 12,
    "start_time": "2022-03-29T09:25:41.113Z"
   },
   {
    "duration": 7,
    "start_time": "2022-03-29T09:25:46.741Z"
   },
   {
    "duration": 57,
    "start_time": "2022-03-29T09:25:46.750Z"
   },
   {
    "duration": 18,
    "start_time": "2022-03-29T09:25:46.809Z"
   },
   {
    "duration": 14,
    "start_time": "2022-03-29T09:25:46.829Z"
   },
   {
    "duration": 56,
    "start_time": "2022-03-29T09:25:46.847Z"
   },
   {
    "duration": 43,
    "start_time": "2022-03-29T09:25:46.906Z"
   },
   {
    "duration": 22,
    "start_time": "2022-03-29T09:25:46.951Z"
   },
   {
    "duration": 35,
    "start_time": "2022-03-29T09:25:46.975Z"
   },
   {
    "duration": 28,
    "start_time": "2022-03-29T09:25:47.013Z"
   },
   {
    "duration": 2567,
    "start_time": "2022-03-29T09:25:47.043Z"
   },
   {
    "duration": 13,
    "start_time": "2022-03-29T09:26:06.720Z"
   },
   {
    "duration": 8,
    "start_time": "2022-03-29T09:26:13.573Z"
   },
   {
    "duration": 63,
    "start_time": "2022-03-29T09:26:13.585Z"
   },
   {
    "duration": 22,
    "start_time": "2022-03-29T09:26:13.652Z"
   },
   {
    "duration": 9,
    "start_time": "2022-03-29T09:26:13.677Z"
   },
   {
    "duration": 42,
    "start_time": "2022-03-29T09:26:13.690Z"
   },
   {
    "duration": 23,
    "start_time": "2022-03-29T09:26:13.735Z"
   },
   {
    "duration": 16,
    "start_time": "2022-03-29T09:26:13.760Z"
   },
   {
    "duration": 23,
    "start_time": "2022-03-29T09:26:13.789Z"
   },
   {
    "duration": 4,
    "start_time": "2022-03-29T09:26:13.815Z"
   },
   {
    "duration": 2785,
    "start_time": "2022-03-29T09:26:13.823Z"
   },
   {
    "duration": 6,
    "start_time": "2022-03-29T09:32:37.543Z"
   },
   {
    "duration": 70,
    "start_time": "2022-03-29T09:32:37.552Z"
   },
   {
    "duration": 20,
    "start_time": "2022-03-29T09:32:37.625Z"
   },
   {
    "duration": 25,
    "start_time": "2022-03-29T09:32:37.647Z"
   },
   {
    "duration": 35,
    "start_time": "2022-03-29T09:32:37.676Z"
   },
   {
    "duration": 18,
    "start_time": "2022-03-29T09:32:37.714Z"
   },
   {
    "duration": 20,
    "start_time": "2022-03-29T09:32:37.735Z"
   },
   {
    "duration": 24,
    "start_time": "2022-03-29T09:32:37.758Z"
   },
   {
    "duration": 32,
    "start_time": "2022-03-29T09:32:37.785Z"
   },
   {
    "duration": 2643,
    "start_time": "2022-03-29T09:32:37.819Z"
   },
   {
    "duration": 18,
    "start_time": "2022-03-29T09:32:57.906Z"
   },
   {
    "duration": 270,
    "start_time": "2022-03-29T10:45:52.309Z"
   },
   {
    "duration": 66,
    "start_time": "2022-03-29T10:48:23.123Z"
   },
   {
    "duration": 2203,
    "start_time": "2022-03-29T10:48:26.825Z"
   },
   {
    "duration": 37,
    "start_time": "2022-03-29T10:48:29.031Z"
   },
   {
    "duration": 24,
    "start_time": "2022-03-29T10:48:29.070Z"
   },
   {
    "duration": 6,
    "start_time": "2022-03-29T10:48:29.096Z"
   },
   {
    "duration": 40,
    "start_time": "2022-03-29T10:48:29.105Z"
   },
   {
    "duration": 17,
    "start_time": "2022-03-29T10:48:29.148Z"
   },
   {
    "duration": 12,
    "start_time": "2022-03-29T10:48:29.167Z"
   },
   {
    "duration": 21,
    "start_time": "2022-03-29T10:48:29.181Z"
   },
   {
    "duration": 41,
    "start_time": "2022-03-29T10:48:29.204Z"
   },
   {
    "duration": 2499,
    "start_time": "2022-03-29T10:48:29.248Z"
   },
   {
    "duration": 15,
    "start_time": "2022-03-29T10:48:31.749Z"
   },
   {
    "duration": 18,
    "start_time": "2022-03-29T10:48:54.769Z"
   },
   {
    "duration": 9,
    "start_time": "2022-03-29T10:55:13.667Z"
   },
   {
    "duration": 7,
    "start_time": "2022-03-29T10:55:14.439Z"
   },
   {
    "duration": 5,
    "start_time": "2022-03-29T10:55:49.284Z"
   },
   {
    "duration": 15,
    "start_time": "2022-03-29T10:56:02.830Z"
   },
   {
    "duration": 18,
    "start_time": "2022-03-29T10:56:05.013Z"
   },
   {
    "duration": 7,
    "start_time": "2022-03-29T10:56:06.771Z"
   },
   {
    "duration": 7,
    "start_time": "2022-03-29T10:56:07.859Z"
   },
   {
    "duration": 6,
    "start_time": "2022-03-29T10:56:08.355Z"
   },
   {
    "duration": 1218,
    "start_time": "2022-03-29T11:00:19.861Z"
   },
   {
    "duration": 9,
    "start_time": "2022-03-29T11:00:46.456Z"
   },
   {
    "duration": 6,
    "start_time": "2022-03-29T11:00:57.813Z"
   },
   {
    "duration": 39,
    "start_time": "2022-03-29T11:00:57.822Z"
   },
   {
    "duration": 18,
    "start_time": "2022-03-29T11:00:57.863Z"
   },
   {
    "duration": 6,
    "start_time": "2022-03-29T11:00:57.883Z"
   },
   {
    "duration": 19,
    "start_time": "2022-03-29T11:00:57.892Z"
   },
   {
    "duration": 37,
    "start_time": "2022-03-29T11:00:57.913Z"
   },
   {
    "duration": 13,
    "start_time": "2022-03-29T11:00:57.952Z"
   },
   {
    "duration": 19,
    "start_time": "2022-03-29T11:00:57.967Z"
   },
   {
    "duration": 4,
    "start_time": "2022-03-29T11:00:57.988Z"
   },
   {
    "duration": 2392,
    "start_time": "2022-03-29T11:00:57.994Z"
   },
   {
    "duration": 15,
    "start_time": "2022-03-29T11:01:00.388Z"
   },
   {
    "duration": 47,
    "start_time": "2022-03-29T11:01:00.405Z"
   },
   {
    "duration": 8,
    "start_time": "2022-03-29T11:01:00.455Z"
   },
   {
    "duration": 21,
    "start_time": "2022-03-29T11:01:00.466Z"
   },
   {
    "duration": 14,
    "start_time": "2022-03-29T11:01:00.489Z"
   },
   {
    "duration": 12,
    "start_time": "2022-03-29T11:01:00.505Z"
   },
   {
    "duration": 18,
    "start_time": "2022-03-29T11:03:27.428Z"
   },
   {
    "duration": 20,
    "start_time": "2022-03-29T11:04:32.214Z"
   },
   {
    "duration": 11,
    "start_time": "2022-03-29T11:05:09.094Z"
   },
   {
    "duration": 8,
    "start_time": "2022-03-29T11:05:20.980Z"
   },
   {
    "duration": 8,
    "start_time": "2022-03-29T11:06:37.528Z"
   },
   {
    "duration": 9,
    "start_time": "2022-03-29T11:06:50.525Z"
   },
   {
    "duration": 9,
    "start_time": "2022-03-29T11:06:54.592Z"
   },
   {
    "duration": 11,
    "start_time": "2022-03-29T11:18:20.333Z"
   },
   {
    "duration": 7,
    "start_time": "2022-03-29T11:19:15.933Z"
   },
   {
    "duration": 6,
    "start_time": "2022-03-29T11:19:20.011Z"
   },
   {
    "duration": 53,
    "start_time": "2022-03-29T11:19:20.020Z"
   },
   {
    "duration": 26,
    "start_time": "2022-03-29T11:19:20.076Z"
   },
   {
    "duration": 10,
    "start_time": "2022-03-29T11:19:20.104Z"
   },
   {
    "duration": 28,
    "start_time": "2022-03-29T11:19:20.118Z"
   },
   {
    "duration": 26,
    "start_time": "2022-03-29T11:19:20.148Z"
   },
   {
    "duration": 13,
    "start_time": "2022-03-29T11:19:20.177Z"
   },
   {
    "duration": 52,
    "start_time": "2022-03-29T11:19:20.192Z"
   },
   {
    "duration": 5,
    "start_time": "2022-03-29T11:19:20.247Z"
   },
   {
    "duration": 2367,
    "start_time": "2022-03-29T11:19:20.254Z"
   },
   {
    "duration": 23,
    "start_time": "2022-03-29T11:19:22.624Z"
   },
   {
    "duration": 5,
    "start_time": "2022-03-29T11:19:22.650Z"
   },
   {
    "duration": 13,
    "start_time": "2022-03-29T11:19:22.657Z"
   },
   {
    "duration": 13,
    "start_time": "2022-03-29T11:19:22.674Z"
   },
   {
    "duration": 15,
    "start_time": "2022-03-29T11:19:22.690Z"
   },
   {
    "duration": 8,
    "start_time": "2022-03-29T11:19:22.744Z"
   },
   {
    "duration": 8,
    "start_time": "2022-03-29T11:19:22.754Z"
   },
   {
    "duration": 7,
    "start_time": "2022-03-29T11:19:22.764Z"
   },
   {
    "duration": 17,
    "start_time": "2022-03-29T11:19:22.773Z"
   },
   {
    "duration": 7,
    "start_time": "2022-03-29T11:19:35.456Z"
   },
   {
    "duration": 42,
    "start_time": "2022-03-29T11:19:35.465Z"
   },
   {
    "duration": 17,
    "start_time": "2022-03-29T11:19:35.509Z"
   },
   {
    "duration": 14,
    "start_time": "2022-03-29T11:19:35.528Z"
   },
   {
    "duration": 16,
    "start_time": "2022-03-29T11:19:35.545Z"
   },
   {
    "duration": 19,
    "start_time": "2022-03-29T11:19:35.564Z"
   },
   {
    "duration": 12,
    "start_time": "2022-03-29T11:19:35.585Z"
   },
   {
    "duration": 52,
    "start_time": "2022-03-29T11:19:35.599Z"
   },
   {
    "duration": 9,
    "start_time": "2022-03-29T11:19:35.653Z"
   },
   {
    "duration": 2326,
    "start_time": "2022-03-29T11:19:35.664Z"
   },
   {
    "duration": 11,
    "start_time": "2022-03-29T11:19:37.991Z"
   },
   {
    "duration": 18,
    "start_time": "2022-03-29T11:19:38.005Z"
   },
   {
    "duration": 9,
    "start_time": "2022-03-29T11:19:38.043Z"
   },
   {
    "duration": 20,
    "start_time": "2022-03-29T11:19:38.056Z"
   },
   {
    "duration": 15,
    "start_time": "2022-03-29T11:19:38.078Z"
   },
   {
    "duration": 8,
    "start_time": "2022-03-29T11:19:38.095Z"
   },
   {
    "duration": 39,
    "start_time": "2022-03-29T11:19:38.105Z"
   },
   {
    "duration": 7,
    "start_time": "2022-03-29T11:19:38.146Z"
   },
   {
    "duration": 17,
    "start_time": "2022-03-29T11:19:38.155Z"
   },
   {
    "duration": 11,
    "start_time": "2022-03-29T11:20:12.462Z"
   },
   {
    "duration": 11,
    "start_time": "2022-03-29T11:20:19.709Z"
   },
   {
    "duration": 12,
    "start_time": "2022-03-29T11:20:24.796Z"
   },
   {
    "duration": 12,
    "start_time": "2022-03-29T11:20:31.005Z"
   },
   {
    "duration": 10,
    "start_time": "2022-03-29T11:20:42.142Z"
   },
   {
    "duration": 12,
    "start_time": "2022-03-29T11:21:00.284Z"
   },
   {
    "duration": 6,
    "start_time": "2022-03-29T11:21:23.585Z"
   },
   {
    "duration": 41,
    "start_time": "2022-03-29T11:21:23.595Z"
   },
   {
    "duration": 18,
    "start_time": "2022-03-29T11:21:23.639Z"
   },
   {
    "duration": 8,
    "start_time": "2022-03-29T11:21:23.660Z"
   },
   {
    "duration": 16,
    "start_time": "2022-03-29T11:21:23.672Z"
   },
   {
    "duration": 53,
    "start_time": "2022-03-29T11:21:23.691Z"
   },
   {
    "duration": 134,
    "start_time": "2022-03-29T11:21:23.747Z"
   },
   {
    "duration": 21,
    "start_time": "2022-03-29T11:21:23.884Z"
   },
   {
    "duration": 5,
    "start_time": "2022-03-29T11:21:23.908Z"
   },
   {
    "duration": 2376,
    "start_time": "2022-03-29T11:21:23.944Z"
   },
   {
    "duration": 22,
    "start_time": "2022-03-29T11:21:26.322Z"
   },
   {
    "duration": 16,
    "start_time": "2022-03-29T11:21:26.347Z"
   },
   {
    "duration": 18,
    "start_time": "2022-03-29T11:21:26.365Z"
   },
   {
    "duration": 9,
    "start_time": "2022-03-29T11:21:26.388Z"
   },
   {
    "duration": 46,
    "start_time": "2022-03-29T11:21:26.400Z"
   },
   {
    "duration": 8,
    "start_time": "2022-03-29T11:21:26.448Z"
   },
   {
    "duration": 15,
    "start_time": "2022-03-29T11:21:26.458Z"
   },
   {
    "duration": 1740,
    "start_time": "2022-03-29T12:34:17.302Z"
   },
   {
    "duration": 41,
    "start_time": "2022-03-29T12:34:19.044Z"
   },
   {
    "duration": 19,
    "start_time": "2022-03-29T12:34:19.086Z"
   },
   {
    "duration": 4,
    "start_time": "2022-03-29T12:34:19.107Z"
   },
   {
    "duration": 15,
    "start_time": "2022-03-29T12:34:19.112Z"
   },
   {
    "duration": 14,
    "start_time": "2022-03-29T12:34:19.129Z"
   },
   {
    "duration": 9,
    "start_time": "2022-03-29T12:34:19.145Z"
   },
   {
    "duration": 14,
    "start_time": "2022-03-29T12:34:19.155Z"
   },
   {
    "duration": 6,
    "start_time": "2022-03-29T12:34:19.171Z"
   },
   {
    "duration": 1617,
    "start_time": "2022-03-29T12:34:19.179Z"
   },
   {
    "duration": 8,
    "start_time": "2022-03-29T12:34:20.797Z"
   },
   {
    "duration": 25,
    "start_time": "2022-03-29T12:34:20.807Z"
   },
   {
    "duration": 12,
    "start_time": "2022-03-29T12:34:20.833Z"
   },
   {
    "duration": 8,
    "start_time": "2022-03-29T12:34:20.847Z"
   },
   {
    "duration": 6,
    "start_time": "2022-03-29T12:34:20.857Z"
   },
   {
    "duration": 6,
    "start_time": "2022-03-29T12:34:20.865Z"
   },
   {
    "duration": 9,
    "start_time": "2022-03-29T12:34:20.873Z"
   },
   {
    "duration": 116,
    "start_time": "2022-03-29T12:38:09.784Z"
   },
   {
    "duration": 4,
    "start_time": "2022-03-29T12:38:28.505Z"
   },
   {
    "duration": 3,
    "start_time": "2022-03-29T12:39:24.808Z"
   },
   {
    "duration": 5,
    "start_time": "2022-03-29T12:44:04.278Z"
   },
   {
    "duration": 36,
    "start_time": "2022-03-29T12:44:04.286Z"
   },
   {
    "duration": 13,
    "start_time": "2022-03-29T12:44:04.324Z"
   },
   {
    "duration": 7,
    "start_time": "2022-03-29T12:44:04.339Z"
   },
   {
    "duration": 17,
    "start_time": "2022-03-29T12:44:04.348Z"
   },
   {
    "duration": 14,
    "start_time": "2022-03-29T12:44:04.367Z"
   },
   {
    "duration": 10,
    "start_time": "2022-03-29T12:44:04.383Z"
   },
   {
    "duration": 48,
    "start_time": "2022-03-29T12:44:04.396Z"
   },
   {
    "duration": 6,
    "start_time": "2022-03-29T12:44:04.446Z"
   },
   {
    "duration": 1650,
    "start_time": "2022-03-29T12:44:04.453Z"
   },
   {
    "duration": 8,
    "start_time": "2022-03-29T12:44:06.106Z"
   },
   {
    "duration": 26,
    "start_time": "2022-03-29T12:44:06.116Z"
   },
   {
    "duration": 13,
    "start_time": "2022-03-29T12:44:06.144Z"
   },
   {
    "duration": 7,
    "start_time": "2022-03-29T12:44:06.160Z"
   },
   {
    "duration": 9,
    "start_time": "2022-03-29T12:44:06.169Z"
   },
   {
    "duration": 10,
    "start_time": "2022-03-29T12:44:06.180Z"
   },
   {
    "duration": 40,
    "start_time": "2022-03-29T12:44:06.192Z"
   },
   {
    "duration": 24,
    "start_time": "2022-03-29T12:44:06.234Z"
   },
   {
    "duration": 11,
    "start_time": "2022-03-29T12:44:27.817Z"
   },
   {
    "duration": 10,
    "start_time": "2022-03-29T12:44:34.618Z"
   },
   {
    "duration": 12,
    "start_time": "2022-03-29T12:44:46.137Z"
   },
   {
    "duration": 13,
    "start_time": "2022-03-29T12:45:55.785Z"
   },
   {
    "duration": 11,
    "start_time": "2022-03-29T12:47:56.825Z"
   },
   {
    "duration": 1630,
    "start_time": "2022-03-29T14:32:21.855Z"
   },
   {
    "duration": 25,
    "start_time": "2022-03-29T14:32:23.487Z"
   },
   {
    "duration": 16,
    "start_time": "2022-03-29T14:32:23.514Z"
   },
   {
    "duration": 6,
    "start_time": "2022-03-29T14:32:23.532Z"
   },
   {
    "duration": 13,
    "start_time": "2022-03-29T14:32:23.540Z"
   },
   {
    "duration": 14,
    "start_time": "2022-03-29T14:32:23.554Z"
   },
   {
    "duration": 7,
    "start_time": "2022-03-29T14:32:23.570Z"
   },
   {
    "duration": 12,
    "start_time": "2022-03-29T14:32:23.579Z"
   },
   {
    "duration": 3,
    "start_time": "2022-03-29T14:32:23.593Z"
   },
   {
    "duration": 1477,
    "start_time": "2022-03-29T14:32:23.597Z"
   },
   {
    "duration": 7,
    "start_time": "2022-03-29T14:32:25.076Z"
   },
   {
    "duration": 9,
    "start_time": "2022-03-29T14:32:25.085Z"
   },
   {
    "duration": 11,
    "start_time": "2022-03-29T14:32:25.095Z"
   },
   {
    "duration": 11,
    "start_time": "2022-03-29T14:32:25.108Z"
   },
   {
    "duration": 22,
    "start_time": "2022-03-29T14:32:25.120Z"
   },
   {
    "duration": 9,
    "start_time": "2022-03-29T14:32:25.144Z"
   },
   {
    "duration": 10,
    "start_time": "2022-03-29T14:32:25.154Z"
   },
   {
    "duration": 30,
    "start_time": "2022-03-29T14:32:25.165Z"
   },
   {
    "duration": 4,
    "start_time": "2022-03-29T14:32:41.470Z"
   },
   {
    "duration": 30,
    "start_time": "2022-03-29T14:32:41.476Z"
   },
   {
    "duration": 12,
    "start_time": "2022-03-29T14:32:41.508Z"
   },
   {
    "duration": 6,
    "start_time": "2022-03-29T14:32:41.522Z"
   },
   {
    "duration": 15,
    "start_time": "2022-03-29T14:32:41.530Z"
   },
   {
    "duration": 12,
    "start_time": "2022-03-29T14:32:41.547Z"
   },
   {
    "duration": 8,
    "start_time": "2022-03-29T14:32:41.561Z"
   },
   {
    "duration": 12,
    "start_time": "2022-03-29T14:32:41.571Z"
   },
   {
    "duration": 4,
    "start_time": "2022-03-29T14:32:41.584Z"
   },
   {
    "duration": 1485,
    "start_time": "2022-03-29T14:32:41.590Z"
   },
   {
    "duration": 7,
    "start_time": "2022-03-29T14:32:43.077Z"
   },
   {
    "duration": 11,
    "start_time": "2022-03-29T14:32:43.086Z"
   },
   {
    "duration": 11,
    "start_time": "2022-03-29T14:32:43.098Z"
   },
   {
    "duration": 29,
    "start_time": "2022-03-29T14:32:43.111Z"
   },
   {
    "duration": 10,
    "start_time": "2022-03-29T14:32:43.142Z"
   },
   {
    "duration": 8,
    "start_time": "2022-03-29T14:32:43.153Z"
   },
   {
    "duration": 9,
    "start_time": "2022-03-29T14:32:43.163Z"
   },
   {
    "duration": 28,
    "start_time": "2022-03-29T14:32:43.173Z"
   },
   {
    "duration": 13,
    "start_time": "2022-03-29T14:33:14.341Z"
   },
   {
    "duration": 4,
    "start_time": "2022-03-29T14:50:18.629Z"
   },
   {
    "duration": 75,
    "start_time": "2022-03-29T14:50:18.635Z"
   },
   {
    "duration": 26,
    "start_time": "2022-03-29T14:50:18.712Z"
   },
   {
    "duration": 39,
    "start_time": "2022-03-29T14:50:18.740Z"
   },
   {
    "duration": 56,
    "start_time": "2022-03-29T14:50:18.782Z"
   },
   {
    "duration": 43,
    "start_time": "2022-03-29T14:50:18.839Z"
   },
   {
    "duration": 41,
    "start_time": "2022-03-29T14:50:18.883Z"
   },
   {
    "duration": 24,
    "start_time": "2022-03-29T14:50:18.925Z"
   },
   {
    "duration": 38,
    "start_time": "2022-03-29T14:50:18.951Z"
   },
   {
    "duration": 1513,
    "start_time": "2022-03-29T14:50:18.992Z"
   },
   {
    "duration": 7,
    "start_time": "2022-03-29T14:50:20.506Z"
   },
   {
    "duration": 50,
    "start_time": "2022-03-29T14:50:20.515Z"
   },
   {
    "duration": 42,
    "start_time": "2022-03-29T14:50:20.567Z"
   },
   {
    "duration": 39,
    "start_time": "2022-03-29T14:50:20.612Z"
   },
   {
    "duration": 56,
    "start_time": "2022-03-29T14:50:20.653Z"
   },
   {
    "duration": 27,
    "start_time": "2022-03-29T14:50:20.711Z"
   },
   {
    "duration": 46,
    "start_time": "2022-03-29T14:50:20.740Z"
   },
   {
    "duration": 61,
    "start_time": "2022-03-29T14:50:20.788Z"
   },
   {
    "duration": 21,
    "start_time": "2022-03-29T14:50:20.851Z"
   },
   {
    "duration": 30,
    "start_time": "2022-03-29T14:50:20.874Z"
   },
   {
    "duration": 8,
    "start_time": "2022-03-29T14:50:28.075Z"
   },
   {
    "duration": 115,
    "start_time": "2022-03-29T14:50:47.486Z"
   },
   {
    "duration": 4,
    "start_time": "2022-03-29T14:51:17.163Z"
   },
   {
    "duration": 35,
    "start_time": "2022-03-29T14:51:17.170Z"
   },
   {
    "duration": 13,
    "start_time": "2022-03-29T14:51:17.207Z"
   },
   {
    "duration": 9,
    "start_time": "2022-03-29T14:51:17.222Z"
   },
   {
    "duration": 16,
    "start_time": "2022-03-29T14:51:17.233Z"
   },
   {
    "duration": 15,
    "start_time": "2022-03-29T14:51:17.251Z"
   },
   {
    "duration": 10,
    "start_time": "2022-03-29T14:51:17.268Z"
   },
   {
    "duration": 14,
    "start_time": "2022-03-29T14:51:17.280Z"
   },
   {
    "duration": 4,
    "start_time": "2022-03-29T14:51:17.296Z"
   },
   {
    "duration": 1554,
    "start_time": "2022-03-29T14:51:17.301Z"
   },
   {
    "duration": 6,
    "start_time": "2022-03-29T14:51:18.857Z"
   },
   {
    "duration": 12,
    "start_time": "2022-03-29T14:51:18.865Z"
   },
   {
    "duration": 11,
    "start_time": "2022-03-29T14:51:18.878Z"
   },
   {
    "duration": 9,
    "start_time": "2022-03-29T14:51:18.893Z"
   },
   {
    "duration": 11,
    "start_time": "2022-03-29T14:51:18.903Z"
   },
   {
    "duration": 24,
    "start_time": "2022-03-29T14:51:18.915Z"
   },
   {
    "duration": 10,
    "start_time": "2022-03-29T14:51:18.941Z"
   },
   {
    "duration": 26,
    "start_time": "2022-03-29T14:51:18.953Z"
   },
   {
    "duration": 12,
    "start_time": "2022-03-29T14:51:18.981Z"
   },
   {
    "duration": 47,
    "start_time": "2022-03-29T14:51:18.995Z"
   },
   {
    "duration": 7,
    "start_time": "2022-03-29T14:53:32.287Z"
   },
   {
    "duration": 5,
    "start_time": "2022-03-29T14:53:32.929Z"
   },
   {
    "duration": 5,
    "start_time": "2022-03-29T14:53:33.838Z"
   },
   {
    "duration": 7,
    "start_time": "2022-03-29T14:53:36.078Z"
   },
   {
    "duration": 27,
    "start_time": "2022-03-29T14:53:40.767Z"
   },
   {
    "duration": 13,
    "start_time": "2022-03-29T14:53:41.390Z"
   },
   {
    "duration": 12,
    "start_time": "2022-03-29T14:53:47.039Z"
   },
   {
    "duration": 135151,
    "start_time": "2022-03-29T14:53:50.094Z"
   },
   {
    "duration": 134327,
    "start_time": "2022-03-29T15:03:01.426Z"
   },
   {
    "duration": 5,
    "start_time": "2022-03-29T15:13:31.827Z"
   },
   {
    "duration": 14,
    "start_time": "2022-03-29T15:13:39.651Z"
   },
   {
    "duration": 18,
    "start_time": "2022-03-29T16:07:40.394Z"
   },
   {
    "duration": 14,
    "start_time": "2022-03-29T16:07:41.238Z"
   },
   {
    "duration": 5,
    "start_time": "2022-03-29T16:07:50.035Z"
   },
   {
    "duration": 55,
    "start_time": "2022-03-29T16:07:50.042Z"
   },
   {
    "duration": 13,
    "start_time": "2022-03-29T16:07:50.099Z"
   },
   {
    "duration": 9,
    "start_time": "2022-03-29T16:07:50.114Z"
   },
   {
    "duration": 23,
    "start_time": "2022-03-29T16:07:50.125Z"
   },
   {
    "duration": 13,
    "start_time": "2022-03-29T16:07:50.149Z"
   },
   {
    "duration": 22,
    "start_time": "2022-03-29T16:07:50.164Z"
   },
   {
    "duration": 13,
    "start_time": "2022-03-29T16:07:50.189Z"
   },
   {
    "duration": 9,
    "start_time": "2022-03-29T16:07:50.203Z"
   },
   {
    "duration": 1531,
    "start_time": "2022-03-29T16:07:50.214Z"
   },
   {
    "duration": 7,
    "start_time": "2022-03-29T16:07:51.747Z"
   },
   {
    "duration": 12,
    "start_time": "2022-03-29T16:07:51.756Z"
   },
   {
    "duration": 12,
    "start_time": "2022-03-29T16:07:51.770Z"
   },
   {
    "duration": 6,
    "start_time": "2022-03-29T16:07:51.785Z"
   },
   {
    "duration": 7,
    "start_time": "2022-03-29T16:07:51.793Z"
   },
   {
    "duration": 36,
    "start_time": "2022-03-29T16:07:51.802Z"
   },
   {
    "duration": 12,
    "start_time": "2022-03-29T16:07:51.840Z"
   },
   {
    "duration": 15,
    "start_time": "2022-03-29T16:07:51.854Z"
   },
   {
    "duration": 10,
    "start_time": "2022-03-29T16:07:51.871Z"
   },
   {
    "duration": 0,
    "start_time": "2022-03-29T16:07:51.883Z"
   },
   {
    "duration": 6,
    "start_time": "2022-03-29T16:08:12.531Z"
   },
   {
    "duration": 28,
    "start_time": "2022-03-29T16:08:12.539Z"
   },
   {
    "duration": 13,
    "start_time": "2022-03-29T16:08:12.569Z"
   },
   {
    "duration": 6,
    "start_time": "2022-03-29T16:08:12.584Z"
   },
   {
    "duration": 18,
    "start_time": "2022-03-29T16:08:12.591Z"
   },
   {
    "duration": 31,
    "start_time": "2022-03-29T16:08:12.611Z"
   },
   {
    "duration": 10,
    "start_time": "2022-03-29T16:08:12.644Z"
   },
   {
    "duration": 16,
    "start_time": "2022-03-29T16:08:12.655Z"
   },
   {
    "duration": 4,
    "start_time": "2022-03-29T16:08:12.674Z"
   },
   {
    "duration": 1587,
    "start_time": "2022-03-29T16:08:12.679Z"
   },
   {
    "duration": 8,
    "start_time": "2022-03-29T16:08:14.268Z"
   },
   {
    "duration": 17,
    "start_time": "2022-03-29T16:08:14.277Z"
   },
   {
    "duration": 12,
    "start_time": "2022-03-29T16:08:14.296Z"
   },
   {
    "duration": 28,
    "start_time": "2022-03-29T16:08:14.310Z"
   },
   {
    "duration": 5,
    "start_time": "2022-03-29T16:08:14.340Z"
   },
   {
    "duration": 11,
    "start_time": "2022-03-29T16:08:14.348Z"
   },
   {
    "duration": 11,
    "start_time": "2022-03-29T16:08:14.361Z"
   },
   {
    "duration": 17,
    "start_time": "2022-03-29T16:08:14.374Z"
   },
   {
    "duration": 12,
    "start_time": "2022-03-29T16:08:14.393Z"
   },
   {
    "duration": 0,
    "start_time": "2022-03-29T16:08:14.407Z"
   },
   {
    "duration": 1516,
    "start_time": "2022-03-29T16:56:39.503Z"
   },
   {
    "duration": 29,
    "start_time": "2022-03-29T16:56:41.021Z"
   },
   {
    "duration": 17,
    "start_time": "2022-03-29T16:56:41.052Z"
   },
   {
    "duration": 4,
    "start_time": "2022-03-29T16:56:41.071Z"
   },
   {
    "duration": 19,
    "start_time": "2022-03-29T16:56:41.077Z"
   },
   {
    "duration": 17,
    "start_time": "2022-03-29T16:56:41.098Z"
   },
   {
    "duration": 8,
    "start_time": "2022-03-29T16:56:41.117Z"
   },
   {
    "duration": 15,
    "start_time": "2022-03-29T16:56:41.126Z"
   },
   {
    "duration": 3,
    "start_time": "2022-03-29T16:56:41.142Z"
   },
   {
    "duration": 1516,
    "start_time": "2022-03-29T16:56:41.147Z"
   },
   {
    "duration": 8,
    "start_time": "2022-03-29T16:56:42.664Z"
   },
   {
    "duration": 10,
    "start_time": "2022-03-29T16:56:42.674Z"
   },
   {
    "duration": 28,
    "start_time": "2022-03-29T16:56:42.685Z"
   },
   {
    "duration": 6,
    "start_time": "2022-03-29T16:56:42.715Z"
   },
   {
    "duration": 5,
    "start_time": "2022-03-29T16:56:42.723Z"
   },
   {
    "duration": 4,
    "start_time": "2022-03-29T16:56:42.729Z"
   },
   {
    "duration": 8,
    "start_time": "2022-03-29T16:56:42.734Z"
   },
   {
    "duration": 26,
    "start_time": "2022-03-29T16:56:42.744Z"
   },
   {
    "duration": 41,
    "start_time": "2022-03-29T16:56:42.772Z"
   },
   {
    "duration": 1666,
    "start_time": "2022-03-30T06:05:10.553Z"
   },
   {
    "duration": 42,
    "start_time": "2022-03-30T06:05:12.221Z"
   },
   {
    "duration": 18,
    "start_time": "2022-03-30T06:05:12.265Z"
   },
   {
    "duration": 4,
    "start_time": "2022-03-30T06:05:12.285Z"
   },
   {
    "duration": 18,
    "start_time": "2022-03-30T06:05:12.291Z"
   },
   {
    "duration": 20,
    "start_time": "2022-03-30T06:05:12.311Z"
   },
   {
    "duration": 9,
    "start_time": "2022-03-30T06:05:12.333Z"
   },
   {
    "duration": 15,
    "start_time": "2022-03-30T06:05:12.344Z"
   },
   {
    "duration": 10,
    "start_time": "2022-03-30T06:05:12.361Z"
   },
   {
    "duration": 1624,
    "start_time": "2022-03-30T06:05:12.373Z"
   },
   {
    "duration": 9,
    "start_time": "2022-03-30T06:05:13.998Z"
   },
   {
    "duration": 23,
    "start_time": "2022-03-30T06:05:14.008Z"
   },
   {
    "duration": 12,
    "start_time": "2022-03-30T06:05:14.033Z"
   },
   {
    "duration": 9,
    "start_time": "2022-03-30T06:05:14.048Z"
   },
   {
    "duration": 7,
    "start_time": "2022-03-30T06:05:14.058Z"
   },
   {
    "duration": 6,
    "start_time": "2022-03-30T06:05:14.067Z"
   },
   {
    "duration": 12,
    "start_time": "2022-03-30T06:05:14.074Z"
   },
   {
    "duration": 18,
    "start_time": "2022-03-30T06:05:14.088Z"
   },
   {
    "duration": 133,
    "start_time": "2022-03-30T06:05:14.108Z"
   },
   {
    "duration": 0,
    "start_time": "2022-03-30T06:05:14.243Z"
   },
   {
    "duration": 8,
    "start_time": "2022-03-30T06:06:08.098Z"
   },
   {
    "duration": 5,
    "start_time": "2022-03-30T06:06:20.581Z"
   },
   {
    "duration": 40,
    "start_time": "2022-03-30T06:06:20.587Z"
   },
   {
    "duration": 14,
    "start_time": "2022-03-30T06:06:20.628Z"
   },
   {
    "duration": 6,
    "start_time": "2022-03-30T06:06:20.644Z"
   },
   {
    "duration": 38,
    "start_time": "2022-03-30T06:06:20.652Z"
   },
   {
    "duration": 24,
    "start_time": "2022-03-30T06:06:20.692Z"
   },
   {
    "duration": 12,
    "start_time": "2022-03-30T06:06:20.718Z"
   },
   {
    "duration": 15,
    "start_time": "2022-03-30T06:06:20.732Z"
   },
   {
    "duration": 4,
    "start_time": "2022-03-30T06:06:20.749Z"
   },
   {
    "duration": 1603,
    "start_time": "2022-03-30T06:06:20.755Z"
   },
   {
    "duration": 7,
    "start_time": "2022-03-30T06:06:22.360Z"
   },
   {
    "duration": 11,
    "start_time": "2022-03-30T06:06:22.370Z"
   },
   {
    "duration": 13,
    "start_time": "2022-03-30T06:06:22.383Z"
   },
   {
    "duration": 33,
    "start_time": "2022-03-30T06:06:22.399Z"
   },
   {
    "duration": 6,
    "start_time": "2022-03-30T06:06:22.434Z"
   },
   {
    "duration": 6,
    "start_time": "2022-03-30T06:06:22.441Z"
   },
   {
    "duration": 8,
    "start_time": "2022-03-30T06:06:22.449Z"
   },
   {
    "duration": 12,
    "start_time": "2022-03-30T06:07:03.409Z"
   },
   {
    "duration": 5,
    "start_time": "2022-03-30T06:07:26.485Z"
   },
   {
    "duration": 36,
    "start_time": "2022-03-30T06:07:26.492Z"
   },
   {
    "duration": 13,
    "start_time": "2022-03-30T06:07:26.530Z"
   },
   {
    "duration": 7,
    "start_time": "2022-03-30T06:07:26.546Z"
   },
   {
    "duration": 21,
    "start_time": "2022-03-30T06:07:26.555Z"
   },
   {
    "duration": 21,
    "start_time": "2022-03-30T06:07:26.578Z"
   },
   {
    "duration": 13,
    "start_time": "2022-03-30T06:07:26.601Z"
   },
   {
    "duration": 19,
    "start_time": "2022-03-30T06:07:26.617Z"
   },
   {
    "duration": 3,
    "start_time": "2022-03-30T06:07:26.638Z"
   },
   {
    "duration": 1593,
    "start_time": "2022-03-30T06:07:26.644Z"
   },
   {
    "duration": 7,
    "start_time": "2022-03-30T06:07:28.239Z"
   },
   {
    "duration": 11,
    "start_time": "2022-03-30T06:07:28.248Z"
   },
   {
    "duration": 13,
    "start_time": "2022-03-30T06:07:28.261Z"
   },
   {
    "duration": 8,
    "start_time": "2022-03-30T06:07:28.276Z"
   },
   {
    "duration": 7,
    "start_time": "2022-03-30T06:07:28.286Z"
   },
   {
    "duration": 37,
    "start_time": "2022-03-30T06:07:28.295Z"
   },
   {
    "duration": 7,
    "start_time": "2022-03-30T06:10:39.747Z"
   },
   {
    "duration": 14,
    "start_time": "2022-03-30T06:10:52.443Z"
   },
   {
    "duration": 13,
    "start_time": "2022-03-30T06:11:15.729Z"
   },
   {
    "duration": 7,
    "start_time": "2022-03-30T06:11:23.044Z"
   },
   {
    "duration": 11,
    "start_time": "2022-03-30T06:12:07.953Z"
   },
   {
    "duration": 8,
    "start_time": "2022-03-30T06:12:22.830Z"
   },
   {
    "duration": 66,
    "start_time": "2022-03-30T06:12:22.841Z"
   },
   {
    "duration": 18,
    "start_time": "2022-03-30T06:12:22.909Z"
   },
   {
    "duration": 28,
    "start_time": "2022-03-30T06:12:22.928Z"
   },
   {
    "duration": 54,
    "start_time": "2022-03-30T06:12:22.959Z"
   },
   {
    "duration": 31,
    "start_time": "2022-03-30T06:12:23.014Z"
   },
   {
    "duration": 28,
    "start_time": "2022-03-30T06:12:23.047Z"
   },
   {
    "duration": 36,
    "start_time": "2022-03-30T06:12:23.077Z"
   },
   {
    "duration": 24,
    "start_time": "2022-03-30T06:12:23.115Z"
   },
   {
    "duration": 1670,
    "start_time": "2022-03-30T06:12:23.141Z"
   },
   {
    "duration": 7,
    "start_time": "2022-03-30T06:12:24.813Z"
   },
   {
    "duration": 14,
    "start_time": "2022-03-30T06:12:24.831Z"
   },
   {
    "duration": 13,
    "start_time": "2022-03-30T06:12:24.846Z"
   },
   {
    "duration": 9,
    "start_time": "2022-03-30T06:12:24.861Z"
   },
   {
    "duration": 12,
    "start_time": "2022-03-30T06:12:24.872Z"
   },
   {
    "duration": 6,
    "start_time": "2022-03-30T06:12:24.886Z"
   },
   {
    "duration": 8,
    "start_time": "2022-03-30T06:12:24.894Z"
   },
   {
    "duration": 33,
    "start_time": "2022-03-30T06:12:24.904Z"
   },
   {
    "duration": 6,
    "start_time": "2022-03-30T06:12:27.266Z"
   },
   {
    "duration": 9,
    "start_time": "2022-03-30T06:12:27.921Z"
   },
   {
    "duration": 7,
    "start_time": "2022-03-30T06:12:32.353Z"
   },
   {
    "duration": 9,
    "start_time": "2022-03-30T06:12:32.898Z"
   },
   {
    "duration": 9,
    "start_time": "2022-03-30T06:12:39.584Z"
   },
   {
    "duration": 11,
    "start_time": "2022-03-30T06:13:11.362Z"
   },
   {
    "duration": 9,
    "start_time": "2022-03-30T06:13:13.075Z"
   },
   {
    "duration": 17,
    "start_time": "2022-03-30T06:23:28.854Z"
   },
   {
    "duration": 12,
    "start_time": "2022-03-30T06:23:40.291Z"
   },
   {
    "duration": 10,
    "start_time": "2022-03-30T06:26:22.371Z"
   },
   {
    "duration": 19,
    "start_time": "2022-03-30T06:26:40.822Z"
   },
   {
    "duration": 16,
    "start_time": "2022-03-30T06:26:51.460Z"
   },
   {
    "duration": 7,
    "start_time": "2022-03-30T06:27:01.412Z"
   },
   {
    "duration": 6,
    "start_time": "2022-03-30T06:27:11.685Z"
   },
   {
    "duration": 22,
    "start_time": "2022-03-30T06:27:18.835Z"
   },
   {
    "duration": 5,
    "start_time": "2022-03-30T06:27:40.024Z"
   },
   {
    "duration": 58,
    "start_time": "2022-03-30T06:27:40.031Z"
   },
   {
    "duration": 14,
    "start_time": "2022-03-30T06:27:40.090Z"
   },
   {
    "duration": 9,
    "start_time": "2022-03-30T06:27:40.106Z"
   },
   {
    "duration": 39,
    "start_time": "2022-03-30T06:27:40.117Z"
   },
   {
    "duration": 19,
    "start_time": "2022-03-30T06:27:40.158Z"
   },
   {
    "duration": 14,
    "start_time": "2022-03-30T06:27:40.179Z"
   },
   {
    "duration": 44,
    "start_time": "2022-03-30T06:27:40.195Z"
   },
   {
    "duration": 13,
    "start_time": "2022-03-30T06:27:40.240Z"
   },
   {
    "duration": 1630,
    "start_time": "2022-03-30T06:27:40.255Z"
   },
   {
    "duration": 7,
    "start_time": "2022-03-30T06:27:41.887Z"
   },
   {
    "duration": 12,
    "start_time": "2022-03-30T06:27:41.895Z"
   },
   {
    "duration": 30,
    "start_time": "2022-03-30T06:27:41.909Z"
   },
   {
    "duration": 6,
    "start_time": "2022-03-30T06:27:41.942Z"
   },
   {
    "duration": 9,
    "start_time": "2022-03-30T06:27:41.950Z"
   },
   {
    "duration": 5,
    "start_time": "2022-03-30T06:27:41.961Z"
   },
   {
    "duration": 8,
    "start_time": "2022-03-30T06:27:41.967Z"
   },
   {
    "duration": 19,
    "start_time": "2022-03-30T06:27:41.977Z"
   },
   {
    "duration": 17,
    "start_time": "2022-03-30T06:31:16.439Z"
   },
   {
    "duration": 28,
    "start_time": "2022-03-30T06:31:19.060Z"
   },
   {
    "duration": 18,
    "start_time": "2022-03-30T06:31:27.781Z"
   },
   {
    "duration": 4,
    "start_time": "2022-03-30T06:32:13.244Z"
   },
   {
    "duration": 48,
    "start_time": "2022-03-30T06:32:13.251Z"
   },
   {
    "duration": 13,
    "start_time": "2022-03-30T06:32:13.301Z"
   },
   {
    "duration": 7,
    "start_time": "2022-03-30T06:32:13.316Z"
   },
   {
    "duration": 20,
    "start_time": "2022-03-30T06:32:13.325Z"
   },
   {
    "duration": 130,
    "start_time": "2022-03-30T06:32:13.346Z"
   },
   {
    "duration": 9,
    "start_time": "2022-03-30T06:32:13.478Z"
   },
   {
    "duration": 15,
    "start_time": "2022-03-30T06:32:13.489Z"
   },
   {
    "duration": 26,
    "start_time": "2022-03-30T06:32:13.506Z"
   },
   {
    "duration": 1584,
    "start_time": "2022-03-30T06:32:13.534Z"
   },
   {
    "duration": 14,
    "start_time": "2022-03-30T06:32:15.120Z"
   },
   {
    "duration": 17,
    "start_time": "2022-03-30T06:32:15.136Z"
   },
   {
    "duration": 12,
    "start_time": "2022-03-30T06:32:15.155Z"
   },
   {
    "duration": 11,
    "start_time": "2022-03-30T06:32:15.170Z"
   },
   {
    "duration": 12,
    "start_time": "2022-03-30T06:32:15.183Z"
   },
   {
    "duration": 7,
    "start_time": "2022-03-30T06:32:15.197Z"
   },
   {
    "duration": 26,
    "start_time": "2022-03-30T06:32:15.206Z"
   },
   {
    "duration": 31,
    "start_time": "2022-03-30T06:32:15.234Z"
   },
   {
    "duration": 17,
    "start_time": "2022-03-30T06:32:15.266Z"
   },
   {
    "duration": 145796,
    "start_time": "2022-03-30T06:32:15.285Z"
   },
   {
    "duration": 4,
    "start_time": "2022-03-30T06:36:26.196Z"
   },
   {
    "duration": 17,
    "start_time": "2022-03-30T06:36:45.699Z"
   },
   {
    "duration": 2468,
    "start_time": "2022-03-30T06:44:00.137Z"
   },
   {
    "duration": 6788,
    "start_time": "2022-03-30T06:44:27.235Z"
   },
   {
    "duration": 98,
    "start_time": "2022-03-30T06:45:28.003Z"
   },
   {
    "duration": 61781,
    "start_time": "2022-03-30T06:45:35.699Z"
   },
   {
    "duration": 23246,
    "start_time": "2022-03-30T06:47:21.155Z"
   },
   {
    "duration": 4,
    "start_time": "2022-03-30T06:49:22.615Z"
   },
   {
    "duration": 10,
    "start_time": "2022-03-30T06:50:34.867Z"
   },
   {
    "duration": 5,
    "start_time": "2022-03-30T06:50:40.975Z"
   },
   {
    "duration": 32,
    "start_time": "2022-03-30T06:50:40.986Z"
   },
   {
    "duration": 14,
    "start_time": "2022-03-30T06:50:41.021Z"
   },
   {
    "duration": 6,
    "start_time": "2022-03-30T06:50:41.037Z"
   },
   {
    "duration": 14,
    "start_time": "2022-03-30T06:50:41.045Z"
   },
   {
    "duration": 18,
    "start_time": "2022-03-30T06:50:41.062Z"
   },
   {
    "duration": 9,
    "start_time": "2022-03-30T06:50:41.082Z"
   },
   {
    "duration": 16,
    "start_time": "2022-03-30T06:50:41.093Z"
   },
   {
    "duration": 9,
    "start_time": "2022-03-30T06:50:41.132Z"
   },
   {
    "duration": 1591,
    "start_time": "2022-03-30T06:50:41.143Z"
   },
   {
    "duration": 7,
    "start_time": "2022-03-30T06:50:42.735Z"
   },
   {
    "duration": 12,
    "start_time": "2022-03-30T06:50:42.743Z"
   },
   {
    "duration": 15,
    "start_time": "2022-03-30T06:50:42.757Z"
   },
   {
    "duration": 9,
    "start_time": "2022-03-30T06:50:42.773Z"
   },
   {
    "duration": 7,
    "start_time": "2022-03-30T06:50:42.785Z"
   },
   {
    "duration": 18,
    "start_time": "2022-03-30T06:50:42.794Z"
   },
   {
    "duration": 25,
    "start_time": "2022-03-30T06:50:42.814Z"
   },
   {
    "duration": 29,
    "start_time": "2022-03-30T06:50:42.841Z"
   },
   {
    "duration": 17,
    "start_time": "2022-03-30T06:50:42.872Z"
   },
   {
    "duration": 23383,
    "start_time": "2022-03-30T06:50:42.891Z"
   },
   {
    "duration": 7,
    "start_time": "2022-03-30T06:51:06.277Z"
   },
   {
    "duration": 7,
    "start_time": "2022-03-30T06:53:06.700Z"
   },
   {
    "duration": 12,
    "start_time": "2022-03-30T06:53:18.997Z"
   },
   {
    "duration": 6,
    "start_time": "2022-03-30T06:53:31.757Z"
   },
   {
    "duration": 11,
    "start_time": "2022-03-30T07:15:08.516Z"
   },
   {
    "duration": 5,
    "start_time": "2022-03-30T07:15:33.377Z"
   },
   {
    "duration": 5,
    "start_time": "2022-03-30T07:15:36.469Z"
   },
   {
    "duration": 58,
    "start_time": "2022-03-30T07:15:36.476Z"
   },
   {
    "duration": 15,
    "start_time": "2022-03-30T07:15:36.536Z"
   },
   {
    "duration": 7,
    "start_time": "2022-03-30T07:15:36.554Z"
   },
   {
    "duration": 22,
    "start_time": "2022-03-30T07:15:36.564Z"
   },
   {
    "duration": 17,
    "start_time": "2022-03-30T07:15:36.588Z"
   },
   {
    "duration": 31,
    "start_time": "2022-03-30T07:15:36.607Z"
   },
   {
    "duration": 16,
    "start_time": "2022-03-30T07:15:36.640Z"
   },
   {
    "duration": 4,
    "start_time": "2022-03-30T07:15:36.658Z"
   },
   {
    "duration": 1720,
    "start_time": "2022-03-30T07:15:36.664Z"
   },
   {
    "duration": 8,
    "start_time": "2022-03-30T07:15:38.385Z"
   },
   {
    "duration": 15,
    "start_time": "2022-03-30T07:15:38.394Z"
   },
   {
    "duration": 32,
    "start_time": "2022-03-30T07:15:38.411Z"
   },
   {
    "duration": 6,
    "start_time": "2022-03-30T07:15:38.446Z"
   },
   {
    "duration": 7,
    "start_time": "2022-03-30T07:15:38.454Z"
   },
   {
    "duration": 4,
    "start_time": "2022-03-30T07:15:38.463Z"
   },
   {
    "duration": 10,
    "start_time": "2022-03-30T07:15:38.469Z"
   },
   {
    "duration": 58,
    "start_time": "2022-03-30T07:15:38.481Z"
   },
   {
    "duration": 19,
    "start_time": "2022-03-30T07:15:38.541Z"
   },
   {
    "duration": 23521,
    "start_time": "2022-03-30T07:15:38.562Z"
   },
   {
    "duration": 12,
    "start_time": "2022-03-30T07:16:02.085Z"
   },
   {
    "duration": 6,
    "start_time": "2022-03-30T07:16:34.177Z"
   },
   {
    "duration": 8,
    "start_time": "2022-03-30T07:16:45.012Z"
   },
   {
    "duration": 23171,
    "start_time": "2022-03-30T07:18:00.928Z"
   },
   {
    "duration": 23897,
    "start_time": "2022-03-30T07:18:33.144Z"
   },
   {
    "duration": 539,
    "start_time": "2022-03-30T07:21:41.972Z"
   },
   {
    "duration": 4,
    "start_time": "2022-03-30T07:21:47.221Z"
   },
   {
    "duration": 38,
    "start_time": "2022-03-30T07:21:47.228Z"
   },
   {
    "duration": 13,
    "start_time": "2022-03-30T07:21:47.268Z"
   },
   {
    "duration": 7,
    "start_time": "2022-03-30T07:21:47.283Z"
   },
   {
    "duration": 15,
    "start_time": "2022-03-30T07:21:47.293Z"
   },
   {
    "duration": 16,
    "start_time": "2022-03-30T07:21:47.310Z"
   },
   {
    "duration": 8,
    "start_time": "2022-03-30T07:21:47.328Z"
   },
   {
    "duration": 13,
    "start_time": "2022-03-30T07:21:47.338Z"
   },
   {
    "duration": 7,
    "start_time": "2022-03-30T07:21:47.353Z"
   },
   {
    "duration": 1741,
    "start_time": "2022-03-30T07:21:47.361Z"
   },
   {
    "duration": 7,
    "start_time": "2022-03-30T07:21:49.104Z"
   },
   {
    "duration": 27,
    "start_time": "2022-03-30T07:21:49.112Z"
   },
   {
    "duration": 12,
    "start_time": "2022-03-30T07:21:49.141Z"
   },
   {
    "duration": 10,
    "start_time": "2022-03-30T07:21:49.156Z"
   },
   {
    "duration": 17,
    "start_time": "2022-03-30T07:21:49.168Z"
   },
   {
    "duration": 17,
    "start_time": "2022-03-30T07:21:49.187Z"
   },
   {
    "duration": 21,
    "start_time": "2022-03-30T07:21:49.206Z"
   },
   {
    "duration": 46,
    "start_time": "2022-03-30T07:21:49.229Z"
   },
   {
    "duration": 21,
    "start_time": "2022-03-30T07:21:49.276Z"
   },
   {
    "duration": 1037,
    "start_time": "2022-03-30T07:21:49.299Z"
   },
   {
    "duration": 5,
    "start_time": "2022-03-30T07:22:15.180Z"
   },
   {
    "duration": 35,
    "start_time": "2022-03-30T07:22:15.187Z"
   },
   {
    "duration": 12,
    "start_time": "2022-03-30T07:22:15.224Z"
   },
   {
    "duration": 9,
    "start_time": "2022-03-30T07:22:15.238Z"
   },
   {
    "duration": 16,
    "start_time": "2022-03-30T07:22:15.248Z"
   },
   {
    "duration": 16,
    "start_time": "2022-03-30T07:22:15.266Z"
   },
   {
    "duration": 8,
    "start_time": "2022-03-30T07:22:15.284Z"
   },
   {
    "duration": 14,
    "start_time": "2022-03-30T07:22:15.294Z"
   },
   {
    "duration": 20,
    "start_time": "2022-03-30T07:22:15.314Z"
   },
   {
    "duration": 1662,
    "start_time": "2022-03-30T07:22:15.336Z"
   },
   {
    "duration": 8,
    "start_time": "2022-03-30T07:22:16.999Z"
   },
   {
    "duration": 30,
    "start_time": "2022-03-30T07:22:17.008Z"
   },
   {
    "duration": 13,
    "start_time": "2022-03-30T07:22:17.040Z"
   },
   {
    "duration": 8,
    "start_time": "2022-03-30T07:22:17.055Z"
   },
   {
    "duration": 8,
    "start_time": "2022-03-30T07:22:17.065Z"
   },
   {
    "duration": 5,
    "start_time": "2022-03-30T07:22:17.075Z"
   },
   {
    "duration": 8,
    "start_time": "2022-03-30T07:22:17.082Z"
   },
   {
    "duration": 54,
    "start_time": "2022-03-30T07:22:17.092Z"
   },
   {
    "duration": 18,
    "start_time": "2022-03-30T07:22:17.147Z"
   },
   {
    "duration": 975,
    "start_time": "2022-03-30T07:22:17.167Z"
   },
   {
    "duration": 179,
    "start_time": "2022-03-30T07:22:31.443Z"
   },
   {
    "duration": 537,
    "start_time": "2022-03-30T07:22:36.528Z"
   },
   {
    "duration": 568,
    "start_time": "2022-03-30T07:23:32.577Z"
   },
   {
    "duration": 401,
    "start_time": "2022-03-30T07:23:53.826Z"
   },
   {
    "duration": 23790,
    "start_time": "2022-03-30T07:25:08.561Z"
   },
   {
    "duration": 967,
    "start_time": "2022-03-30T07:28:26.784Z"
   },
   {
    "duration": 5,
    "start_time": "2022-03-30T07:28:36.765Z"
   },
   {
    "duration": 36,
    "start_time": "2022-03-30T07:28:36.772Z"
   },
   {
    "duration": 14,
    "start_time": "2022-03-30T07:28:36.810Z"
   },
   {
    "duration": 7,
    "start_time": "2022-03-30T07:28:36.826Z"
   },
   {
    "duration": 16,
    "start_time": "2022-03-30T07:28:36.835Z"
   },
   {
    "duration": 13,
    "start_time": "2022-03-30T07:28:36.853Z"
   },
   {
    "duration": 8,
    "start_time": "2022-03-30T07:28:36.868Z"
   },
   {
    "duration": 15,
    "start_time": "2022-03-30T07:28:36.877Z"
   },
   {
    "duration": 3,
    "start_time": "2022-03-30T07:28:36.894Z"
   },
   {
    "duration": 1616,
    "start_time": "2022-03-30T07:28:36.899Z"
   },
   {
    "duration": 16,
    "start_time": "2022-03-30T07:28:38.517Z"
   },
   {
    "duration": 11,
    "start_time": "2022-03-30T07:28:38.534Z"
   },
   {
    "duration": 16,
    "start_time": "2022-03-30T07:28:38.546Z"
   },
   {
    "duration": 8,
    "start_time": "2022-03-30T07:28:38.565Z"
   },
   {
    "duration": 8,
    "start_time": "2022-03-30T07:28:38.575Z"
   },
   {
    "duration": 7,
    "start_time": "2022-03-30T07:28:38.584Z"
   },
   {
    "duration": 11,
    "start_time": "2022-03-30T07:28:38.593Z"
   },
   {
    "duration": 50,
    "start_time": "2022-03-30T07:28:38.606Z"
   },
   {
    "duration": 18,
    "start_time": "2022-03-30T07:28:38.657Z"
   },
   {
    "duration": 964,
    "start_time": "2022-03-30T07:28:38.677Z"
   },
   {
    "duration": 409,
    "start_time": "2022-03-30T07:28:54.371Z"
   },
   {
    "duration": 410,
    "start_time": "2022-03-30T07:32:40.817Z"
   },
   {
    "duration": 418,
    "start_time": "2022-03-30T07:33:52.770Z"
   },
   {
    "duration": 434,
    "start_time": "2022-03-30T07:34:02.891Z"
   },
   {
    "duration": 417,
    "start_time": "2022-03-30T07:34:26.193Z"
   },
   {
    "duration": 25419,
    "start_time": "2022-03-30T07:34:35.644Z"
   },
   {
    "duration": 34448,
    "start_time": "2022-03-30T07:35:57.223Z"
   },
   {
    "duration": 35868,
    "start_time": "2022-03-30T07:37:47.444Z"
   },
   {
    "duration": 7,
    "start_time": "2022-03-30T07:38:37.991Z"
   },
   {
    "duration": 33970,
    "start_time": "2022-03-30T07:40:15.815Z"
   },
   {
    "duration": 6,
    "start_time": "2022-03-30T07:40:57.862Z"
   },
   {
    "duration": 27772,
    "start_time": "2022-03-30T07:49:14.973Z"
   },
   {
    "duration": 27592,
    "start_time": "2022-03-30T07:50:20.515Z"
   },
   {
    "duration": 27525,
    "start_time": "2022-03-30T07:50:55.284Z"
   },
   {
    "duration": 5,
    "start_time": "2022-03-30T07:51:22.811Z"
   },
   {
    "duration": 2217,
    "start_time": "2022-03-30T12:58:58.074Z"
   },
   {
    "duration": 6,
    "start_time": "2022-03-30T13:07:37.804Z"
   },
   {
    "duration": 157,
    "start_time": "2022-03-30T13:09:40.475Z"
   },
   {
    "duration": 6,
    "start_time": "2022-03-30T13:09:44.269Z"
   },
   {
    "duration": 37,
    "start_time": "2022-03-30T13:09:44.278Z"
   },
   {
    "duration": 26,
    "start_time": "2022-03-30T13:09:44.317Z"
   },
   {
    "duration": 6,
    "start_time": "2022-03-30T13:09:44.346Z"
   },
   {
    "duration": 39,
    "start_time": "2022-03-30T13:09:44.354Z"
   },
   {
    "duration": 20,
    "start_time": "2022-03-30T13:09:44.395Z"
   },
   {
    "duration": 15,
    "start_time": "2022-03-30T13:09:44.417Z"
   },
   {
    "duration": 58,
    "start_time": "2022-03-30T13:09:44.434Z"
   },
   {
    "duration": 4,
    "start_time": "2022-03-30T13:09:44.494Z"
   },
   {
    "duration": 2549,
    "start_time": "2022-03-30T13:09:44.502Z"
   },
   {
    "duration": 13,
    "start_time": "2022-03-30T13:09:47.054Z"
   },
   {
    "duration": 28,
    "start_time": "2022-03-30T13:09:47.069Z"
   },
   {
    "duration": 24,
    "start_time": "2022-03-30T13:09:47.099Z"
   },
   {
    "duration": 170,
    "start_time": "2022-03-30T13:09:47.125Z"
   },
   {
    "duration": 9,
    "start_time": "2022-03-30T13:09:47.297Z"
   },
   {
    "duration": 9,
    "start_time": "2022-03-30T13:09:47.308Z"
   },
   {
    "duration": 12,
    "start_time": "2022-03-30T13:09:47.319Z"
   },
   {
    "duration": 60,
    "start_time": "2022-03-30T13:09:47.334Z"
   },
   {
    "duration": 24,
    "start_time": "2022-03-30T13:09:47.396Z"
   },
   {
    "duration": 39545,
    "start_time": "2022-03-30T13:09:47.422Z"
   },
   {
    "duration": 16,
    "start_time": "2022-03-30T13:10:26.969Z"
   },
   {
    "duration": 6,
    "start_time": "2022-03-30T13:10:26.987Z"
   },
   {
    "duration": 133,
    "start_time": "2022-03-30T13:10:26.995Z"
   },
   {
    "duration": 0,
    "start_time": "2022-03-30T13:10:27.130Z"
   },
   {
    "duration": 9,
    "start_time": "2022-03-30T13:10:34.606Z"
   },
   {
    "duration": 10,
    "start_time": "2022-03-30T13:10:55.997Z"
   },
   {
    "duration": 124,
    "start_time": "2022-03-30T13:11:12.499Z"
   },
   {
    "duration": 14,
    "start_time": "2022-03-30T13:11:21.511Z"
   },
   {
    "duration": 21,
    "start_time": "2022-03-30T13:11:35.082Z"
   },
   {
    "duration": 15,
    "start_time": "2022-03-30T13:11:44.643Z"
   },
   {
    "duration": 8,
    "start_time": "2022-03-30T13:12:02.347Z"
   },
   {
    "duration": 21,
    "start_time": "2022-03-30T13:12:10.785Z"
   },
   {
    "duration": 14,
    "start_time": "2022-03-30T13:12:18.852Z"
   },
   {
    "duration": 15,
    "start_time": "2022-03-30T13:12:37.670Z"
   },
   {
    "duration": 15,
    "start_time": "2022-03-30T13:12:45.967Z"
   },
   {
    "duration": 13,
    "start_time": "2022-03-30T13:13:13.147Z"
   },
   {
    "duration": 116,
    "start_time": "2022-03-30T13:15:37.663Z"
   },
   {
    "duration": 14,
    "start_time": "2022-03-30T13:15:43.361Z"
   },
   {
    "duration": 7,
    "start_time": "2022-03-30T13:16:10.090Z"
   },
   {
    "duration": 7,
    "start_time": "2022-03-30T13:16:24.908Z"
   },
   {
    "duration": 7,
    "start_time": "2022-03-30T13:17:29.662Z"
   },
   {
    "duration": 12,
    "start_time": "2022-03-30T13:17:30.259Z"
   },
   {
    "duration": 6,
    "start_time": "2022-03-30T13:17:31.251Z"
   },
   {
    "duration": 13,
    "start_time": "2022-03-30T13:17:37.805Z"
   },
   {
    "duration": 6,
    "start_time": "2022-03-30T13:17:38.426Z"
   },
   {
    "duration": 3,
    "start_time": "2022-03-30T13:18:04.460Z"
   },
   {
    "duration": 6,
    "start_time": "2022-03-30T13:20:14.801Z"
   },
   {
    "duration": 34,
    "start_time": "2022-03-30T13:20:14.810Z"
   },
   {
    "duration": 19,
    "start_time": "2022-03-30T13:20:14.846Z"
   },
   {
    "duration": 18,
    "start_time": "2022-03-30T13:20:14.867Z"
   },
   {
    "duration": 28,
    "start_time": "2022-03-30T13:20:14.889Z"
   },
   {
    "duration": 26,
    "start_time": "2022-03-30T13:20:14.919Z"
   },
   {
    "duration": 25,
    "start_time": "2022-03-30T13:20:14.948Z"
   },
   {
    "duration": 31,
    "start_time": "2022-03-30T13:20:14.975Z"
   },
   {
    "duration": 8,
    "start_time": "2022-03-30T13:20:15.009Z"
   },
   {
    "duration": 2642,
    "start_time": "2022-03-30T13:20:15.020Z"
   },
   {
    "duration": 21,
    "start_time": "2022-03-30T13:20:17.665Z"
   },
   {
    "duration": 34,
    "start_time": "2022-03-30T13:20:17.689Z"
   },
   {
    "duration": 26,
    "start_time": "2022-03-30T13:20:17.725Z"
   },
   {
    "duration": 18,
    "start_time": "2022-03-30T13:20:17.757Z"
   },
   {
    "duration": 33,
    "start_time": "2022-03-30T13:20:17.777Z"
   },
   {
    "duration": 14,
    "start_time": "2022-03-30T13:20:17.812Z"
   },
   {
    "duration": 42,
    "start_time": "2022-03-30T13:20:17.828Z"
   },
   {
    "duration": 68,
    "start_time": "2022-03-30T13:20:17.872Z"
   },
   {
    "duration": 25,
    "start_time": "2022-03-30T13:20:17.942Z"
   },
   {
    "duration": 38938,
    "start_time": "2022-03-30T13:20:17.969Z"
   },
   {
    "duration": 7,
    "start_time": "2022-03-30T13:20:56.909Z"
   },
   {
    "duration": 7,
    "start_time": "2022-03-30T13:20:56.918Z"
   },
   {
    "duration": 18,
    "start_time": "2022-03-30T13:20:56.927Z"
   },
   {
    "duration": 6,
    "start_time": "2022-03-30T13:20:56.947Z"
   },
   {
    "duration": 56856,
    "start_time": "2022-03-30T13:20:56.983Z"
   },
   {
    "duration": 10,
    "start_time": "2022-03-30T13:23:01.800Z"
   },
   {
    "duration": 369,
    "start_time": "2022-03-30T13:25:38.487Z"
   },
   {
    "duration": 57160,
    "start_time": "2022-03-30T13:26:16.419Z"
   },
   {
    "duration": 10,
    "start_time": "2022-03-30T13:27:22.876Z"
   },
   {
    "duration": 56284,
    "start_time": "2022-03-30T13:27:40.436Z"
   },
   {
    "duration": 4,
    "start_time": "2022-03-30T14:18:29.066Z"
   },
   {
    "duration": 2,
    "start_time": "2022-03-30T14:18:37.800Z"
   },
   {
    "duration": 1740,
    "start_time": "2022-03-30T14:20:56.139Z"
   },
   {
    "duration": 30,
    "start_time": "2022-03-30T14:20:57.881Z"
   },
   {
    "duration": 15,
    "start_time": "2022-03-30T14:20:57.913Z"
   },
   {
    "duration": 4,
    "start_time": "2022-03-30T14:20:57.929Z"
   },
   {
    "duration": 13,
    "start_time": "2022-03-30T14:20:57.936Z"
   },
   {
    "duration": 11,
    "start_time": "2022-03-30T14:20:57.951Z"
   },
   {
    "duration": 8,
    "start_time": "2022-03-30T14:20:57.964Z"
   },
   {
    "duration": 34,
    "start_time": "2022-03-30T14:20:57.973Z"
   },
   {
    "duration": 3,
    "start_time": "2022-03-30T14:20:58.009Z"
   },
   {
    "duration": 1426,
    "start_time": "2022-03-30T14:20:58.014Z"
   },
   {
    "duration": 9,
    "start_time": "2022-03-30T14:20:59.442Z"
   },
   {
    "duration": 9,
    "start_time": "2022-03-30T14:20:59.453Z"
   },
   {
    "duration": 10,
    "start_time": "2022-03-30T14:20:59.464Z"
   },
   {
    "duration": 26,
    "start_time": "2022-03-30T14:20:59.477Z"
   },
   {
    "duration": 7,
    "start_time": "2022-03-30T14:20:59.505Z"
   },
   {
    "duration": 5,
    "start_time": "2022-03-30T14:20:59.513Z"
   },
   {
    "duration": 9,
    "start_time": "2022-03-30T14:20:59.520Z"
   },
   {
    "duration": 26,
    "start_time": "2022-03-30T14:20:59.530Z"
   },
   {
    "duration": 14,
    "start_time": "2022-03-30T14:20:59.558Z"
   },
   {
    "duration": 25138,
    "start_time": "2022-03-30T14:20:59.601Z"
   },
   {
    "duration": 4,
    "start_time": "2022-03-30T14:21:24.741Z"
   },
   {
    "duration": 5,
    "start_time": "2022-03-30T14:21:24.747Z"
   },
   {
    "duration": 13,
    "start_time": "2022-03-30T14:21:24.753Z"
   },
   {
    "duration": 9,
    "start_time": "2022-03-30T14:21:24.767Z"
   },
   {
    "duration": 34729,
    "start_time": "2022-03-30T14:21:24.778Z"
   },
   {
    "duration": 7,
    "start_time": "2022-03-30T14:21:59.509Z"
   },
   {
    "duration": 4,
    "start_time": "2022-03-30T14:25:13.737Z"
   },
   {
    "duration": 112,
    "start_time": "2022-03-30T14:25:20.938Z"
   },
   {
    "duration": 5,
    "start_time": "2022-03-30T14:25:31.398Z"
   },
   {
    "duration": 35,
    "start_time": "2022-03-30T14:25:31.405Z"
   },
   {
    "duration": 13,
    "start_time": "2022-03-30T14:25:31.441Z"
   },
   {
    "duration": 7,
    "start_time": "2022-03-30T14:25:31.456Z"
   },
   {
    "duration": 24,
    "start_time": "2022-03-30T14:25:31.465Z"
   },
   {
    "duration": 13,
    "start_time": "2022-03-30T14:25:31.491Z"
   },
   {
    "duration": 8,
    "start_time": "2022-03-30T14:25:31.506Z"
   },
   {
    "duration": 14,
    "start_time": "2022-03-30T14:25:31.516Z"
   },
   {
    "duration": 5,
    "start_time": "2022-03-30T14:25:31.531Z"
   },
   {
    "duration": 1417,
    "start_time": "2022-03-30T14:25:31.537Z"
   },
   {
    "duration": 7,
    "start_time": "2022-03-30T14:25:32.956Z"
   },
   {
    "duration": 11,
    "start_time": "2022-03-30T14:25:32.964Z"
   },
   {
    "duration": 26,
    "start_time": "2022-03-30T14:25:32.977Z"
   },
   {
    "duration": 6,
    "start_time": "2022-03-30T14:25:33.006Z"
   },
   {
    "duration": 6,
    "start_time": "2022-03-30T14:25:33.013Z"
   },
   {
    "duration": 6,
    "start_time": "2022-03-30T14:25:33.020Z"
   },
   {
    "duration": 7,
    "start_time": "2022-03-30T14:25:33.028Z"
   },
   {
    "duration": 30,
    "start_time": "2022-03-30T14:25:33.036Z"
   },
   {
    "duration": 36,
    "start_time": "2022-03-30T14:25:33.068Z"
   },
   {
    "duration": 24880,
    "start_time": "2022-03-30T14:25:33.105Z"
   },
   {
    "duration": 15,
    "start_time": "2022-03-30T14:25:57.987Z"
   },
   {
    "duration": 6,
    "start_time": "2022-03-30T14:25:58.004Z"
   },
   {
    "duration": 12,
    "start_time": "2022-03-30T14:25:58.012Z"
   },
   {
    "duration": 6,
    "start_time": "2022-03-30T14:25:58.028Z"
   },
   {
    "duration": 36818,
    "start_time": "2022-03-30T14:25:58.036Z"
   },
   {
    "duration": 7,
    "start_time": "2022-03-30T14:26:34.856Z"
   },
   {
    "duration": 13,
    "start_time": "2022-03-30T14:26:34.864Z"
   },
   {
    "duration": 46,
    "start_time": "2022-03-30T14:28:45.160Z"
   },
   {
    "duration": 85,
    "start_time": "2022-03-30T14:29:07.979Z"
   },
   {
    "duration": 124,
    "start_time": "2022-03-30T14:29:34.829Z"
   },
   {
    "duration": 113,
    "start_time": "2022-03-30T14:29:43.162Z"
   },
   {
    "duration": 83,
    "start_time": "2022-03-30T14:30:11.501Z"
   },
   {
    "duration": 122,
    "start_time": "2022-03-30T14:30:26.131Z"
   },
   {
    "duration": 117,
    "start_time": "2022-03-30T14:31:12.239Z"
   },
   {
    "duration": 123,
    "start_time": "2022-03-30T14:31:50.743Z"
   },
   {
    "duration": 127,
    "start_time": "2022-03-30T14:32:12.914Z"
   },
   {
    "duration": 6305,
    "start_time": "2022-03-30T14:44:03.297Z"
   },
   {
    "duration": 4736,
    "start_time": "2022-03-30T14:45:02.174Z"
   },
   {
    "duration": 5087,
    "start_time": "2022-03-30T14:45:15.422Z"
   },
   {
    "duration": 2194,
    "start_time": "2022-03-30T14:45:57.118Z"
   },
   {
    "duration": 3527,
    "start_time": "2022-03-30T14:47:41.283Z"
   },
   {
    "duration": 119,
    "start_time": "2022-03-30T14:52:26.877Z"
   },
   {
    "duration": 202,
    "start_time": "2022-03-30T14:55:08.577Z"
   },
   {
    "duration": 260,
    "start_time": "2022-03-30T14:55:30.179Z"
   },
   {
    "duration": 208,
    "start_time": "2022-03-30T14:55:45.653Z"
   },
   {
    "duration": 191,
    "start_time": "2022-03-30T14:55:51.727Z"
   },
   {
    "duration": 267,
    "start_time": "2022-03-30T14:56:08.293Z"
   },
   {
    "duration": 1723,
    "start_time": "2022-03-31T08:19:41.810Z"
   },
   {
    "duration": 32,
    "start_time": "2022-03-31T08:19:43.536Z"
   },
   {
    "duration": 18,
    "start_time": "2022-03-31T08:19:43.570Z"
   },
   {
    "duration": 11,
    "start_time": "2022-03-31T08:19:43.590Z"
   },
   {
    "duration": 13,
    "start_time": "2022-03-31T08:19:43.603Z"
   },
   {
    "duration": 15,
    "start_time": "2022-03-31T08:19:43.617Z"
   },
   {
    "duration": 9,
    "start_time": "2022-03-31T08:19:43.634Z"
   },
   {
    "duration": 15,
    "start_time": "2022-03-31T08:19:43.645Z"
   },
   {
    "duration": 39,
    "start_time": "2022-03-31T08:19:43.662Z"
   },
   {
    "duration": 1475,
    "start_time": "2022-03-31T08:19:43.703Z"
   },
   {
    "duration": 10,
    "start_time": "2022-03-31T08:19:45.180Z"
   },
   {
    "duration": 12,
    "start_time": "2022-03-31T08:19:45.200Z"
   },
   {
    "duration": 12,
    "start_time": "2022-03-31T08:19:45.214Z"
   },
   {
    "duration": 7,
    "start_time": "2022-03-31T08:19:45.230Z"
   },
   {
    "duration": 8,
    "start_time": "2022-03-31T08:19:45.239Z"
   },
   {
    "duration": 5,
    "start_time": "2022-03-31T08:19:45.249Z"
   },
   {
    "duration": 7,
    "start_time": "2022-03-31T08:19:45.256Z"
   },
   {
    "duration": 30,
    "start_time": "2022-03-31T08:19:45.301Z"
   },
   {
    "duration": 19,
    "start_time": "2022-03-31T08:19:45.332Z"
   },
   {
    "duration": 30075,
    "start_time": "2022-03-31T08:19:45.353Z"
   },
   {
    "duration": 6,
    "start_time": "2022-03-31T08:20:15.430Z"
   },
   {
    "duration": 16,
    "start_time": "2022-03-31T08:20:15.439Z"
   },
   {
    "duration": 13,
    "start_time": "2022-03-31T08:20:15.457Z"
   },
   {
    "duration": 6,
    "start_time": "2022-03-31T08:20:15.471Z"
   },
   {
    "duration": 47943,
    "start_time": "2022-03-31T08:20:15.479Z"
   },
   {
    "duration": 7,
    "start_time": "2022-03-31T08:21:03.424Z"
   },
   {
    "duration": 152,
    "start_time": "2022-03-31T08:21:03.433Z"
   },
   {
    "duration": 4121,
    "start_time": "2022-03-31T08:21:03.587Z"
   },
   {
    "duration": 365,
    "start_time": "2022-03-31T08:21:07.711Z"
   },
   {
    "duration": 37912,
    "start_time": "2022-03-31T08:26:27.179Z"
   },
   {
    "duration": 6,
    "start_time": "2022-03-31T08:27:53.797Z"
   },
   {
    "duration": 6,
    "start_time": "2022-03-31T08:28:00.779Z"
   },
   {
    "duration": 70,
    "start_time": "2022-03-31T08:28:00.787Z"
   },
   {
    "duration": 20,
    "start_time": "2022-03-31T08:28:00.859Z"
   },
   {
    "duration": 9,
    "start_time": "2022-03-31T08:28:00.880Z"
   },
   {
    "duration": 39,
    "start_time": "2022-03-31T08:28:00.892Z"
   },
   {
    "duration": 28,
    "start_time": "2022-03-31T08:28:00.933Z"
   },
   {
    "duration": 11,
    "start_time": "2022-03-31T08:28:00.963Z"
   },
   {
    "duration": 22,
    "start_time": "2022-03-31T08:28:00.976Z"
   },
   {
    "duration": 15,
    "start_time": "2022-03-31T08:28:01.000Z"
   },
   {
    "duration": 1510,
    "start_time": "2022-03-31T08:28:01.017Z"
   },
   {
    "duration": 7,
    "start_time": "2022-03-31T08:28:02.529Z"
   },
   {
    "duration": 11,
    "start_time": "2022-03-31T08:28:02.538Z"
   },
   {
    "duration": 12,
    "start_time": "2022-03-31T08:28:02.552Z"
   },
   {
    "duration": 37,
    "start_time": "2022-03-31T08:28:02.567Z"
   },
   {
    "duration": 18,
    "start_time": "2022-03-31T08:28:02.606Z"
   },
   {
    "duration": 15,
    "start_time": "2022-03-31T08:28:02.626Z"
   },
   {
    "duration": 10,
    "start_time": "2022-03-31T08:28:02.642Z"
   },
   {
    "duration": 47,
    "start_time": "2022-03-31T08:28:02.654Z"
   },
   {
    "duration": 21,
    "start_time": "2022-03-31T08:28:02.702Z"
   },
   {
    "duration": 27438,
    "start_time": "2022-03-31T08:28:02.725Z"
   },
   {
    "duration": 6,
    "start_time": "2022-03-31T08:28:30.165Z"
   },
   {
    "duration": 5,
    "start_time": "2022-03-31T08:28:30.172Z"
   },
   {
    "duration": 31,
    "start_time": "2022-03-31T08:28:30.179Z"
   },
   {
    "duration": 9,
    "start_time": "2022-03-31T08:28:30.212Z"
   },
   {
    "duration": 38708,
    "start_time": "2022-03-31T08:28:30.223Z"
   },
   {
    "duration": 6,
    "start_time": "2022-03-31T08:29:08.933Z"
   },
   {
    "duration": 131,
    "start_time": "2022-03-31T08:30:39.072Z"
   },
   {
    "duration": 73,
    "start_time": "2022-03-31T08:32:43.190Z"
   },
   {
    "duration": 172,
    "start_time": "2022-03-31T08:32:48.087Z"
   },
   {
    "duration": 106,
    "start_time": "2022-03-31T08:32:54.122Z"
   },
   {
    "duration": 42198,
    "start_time": "2022-03-31T08:35:20.215Z"
   },
   {
    "duration": 45153,
    "start_time": "2022-03-31T08:39:14.711Z"
   },
   {
    "duration": 7,
    "start_time": "2022-03-31T08:42:11.856Z"
   },
   {
    "duration": 107,
    "start_time": "2022-03-31T08:44:44.264Z"
   },
   {
    "duration": 3685,
    "start_time": "2022-03-31T08:46:17.725Z"
   },
   {
    "duration": 4403,
    "start_time": "2022-03-31T08:46:56.204Z"
   },
   {
    "duration": 254,
    "start_time": "2022-03-31T08:47:03.718Z"
   },
   {
    "duration": 43217,
    "start_time": "2022-03-31T08:48:02.885Z"
   },
   {
    "duration": 42737,
    "start_time": "2022-03-31T08:49:41.401Z"
   },
   {
    "duration": 42535,
    "start_time": "2022-03-31T08:52:16.768Z"
   },
   {
    "duration": 43467,
    "start_time": "2022-03-31T08:54:47.976Z"
   },
   {
    "duration": 44729,
    "start_time": "2022-03-31T08:56:54.103Z"
   },
   {
    "duration": 6,
    "start_time": "2022-03-31T09:09:04.186Z"
   },
   {
    "duration": 4,
    "start_time": "2022-03-31T09:13:25.305Z"
   },
   {
    "duration": 4,
    "start_time": "2022-03-31T09:13:30.985Z"
   },
   {
    "duration": 4,
    "start_time": "2022-03-31T09:13:44.239Z"
   },
   {
    "duration": 4,
    "start_time": "2022-03-31T09:14:14.937Z"
   },
   {
    "duration": 4,
    "start_time": "2022-03-31T09:14:30.664Z"
   },
   {
    "duration": 140,
    "start_time": "2022-03-31T09:17:28.522Z"
   },
   {
    "duration": 3,
    "start_time": "2022-03-31T09:17:32.281Z"
   },
   {
    "duration": 4,
    "start_time": "2022-03-31T09:18:03.675Z"
   },
   {
    "duration": 4,
    "start_time": "2022-03-31T09:18:08.266Z"
   },
   {
    "duration": 3,
    "start_time": "2022-03-31T09:18:24.602Z"
   },
   {
    "duration": 4,
    "start_time": "2022-03-31T09:18:44.266Z"
   },
   {
    "duration": 4,
    "start_time": "2022-03-31T09:19:00.832Z"
   },
   {
    "duration": 3,
    "start_time": "2022-03-31T09:19:08.602Z"
   },
   {
    "duration": 4,
    "start_time": "2022-03-31T09:19:12.536Z"
   },
   {
    "duration": 3,
    "start_time": "2022-03-31T09:19:18.926Z"
   },
   {
    "duration": 4,
    "start_time": "2022-03-31T09:19:35.674Z"
   },
   {
    "duration": 1695,
    "start_time": "2022-04-01T07:01:59.256Z"
   },
   {
    "duration": 41,
    "start_time": "2022-04-01T07:02:00.953Z"
   },
   {
    "duration": 19,
    "start_time": "2022-04-01T07:02:00.996Z"
   },
   {
    "duration": 5,
    "start_time": "2022-04-01T07:02:01.017Z"
   },
   {
    "duration": 27,
    "start_time": "2022-04-01T07:02:01.024Z"
   },
   {
    "duration": 22,
    "start_time": "2022-04-01T07:02:01.053Z"
   },
   {
    "duration": 12,
    "start_time": "2022-04-01T07:02:01.077Z"
   },
   {
    "duration": 17,
    "start_time": "2022-04-01T07:02:01.091Z"
   },
   {
    "duration": 17,
    "start_time": "2022-04-01T07:02:01.110Z"
   },
   {
    "duration": 1678,
    "start_time": "2022-04-01T07:02:01.130Z"
   },
   {
    "duration": 22,
    "start_time": "2022-04-01T07:02:02.810Z"
   },
   {
    "duration": 12,
    "start_time": "2022-04-01T07:02:02.834Z"
   },
   {
    "duration": 16,
    "start_time": "2022-04-01T07:02:02.848Z"
   },
   {
    "duration": 11,
    "start_time": "2022-04-01T07:02:02.866Z"
   },
   {
    "duration": 16,
    "start_time": "2022-04-01T07:02:02.879Z"
   },
   {
    "duration": 7,
    "start_time": "2022-04-01T07:02:02.897Z"
   },
   {
    "duration": 26,
    "start_time": "2022-04-01T07:02:02.906Z"
   },
   {
    "duration": 36,
    "start_time": "2022-04-01T07:02:02.934Z"
   },
   {
    "duration": 19,
    "start_time": "2022-04-01T07:02:02.971Z"
   },
   {
    "duration": 27051,
    "start_time": "2022-04-01T07:02:02.992Z"
   },
   {
    "duration": 8,
    "start_time": "2022-04-01T07:02:30.045Z"
   },
   {
    "duration": 11,
    "start_time": "2022-04-01T07:02:30.055Z"
   },
   {
    "duration": 18,
    "start_time": "2022-04-01T07:02:30.068Z"
   },
   {
    "duration": 4,
    "start_time": "2022-04-01T07:02:30.088Z"
   },
   {
    "duration": 43268,
    "start_time": "2022-04-01T07:02:30.094Z"
   },
   {
    "duration": 6,
    "start_time": "2022-04-01T07:03:13.363Z"
   },
   {
    "duration": 141,
    "start_time": "2022-04-01T07:03:13.370Z"
   },
   {
    "duration": 19,
    "start_time": "2022-04-01T07:03:13.514Z"
   },
   {
    "duration": 4,
    "start_time": "2022-04-01T07:03:13.535Z"
   },
   {
    "duration": 3793,
    "start_time": "2022-04-01T07:03:13.541Z"
   },
   {
    "duration": 363,
    "start_time": "2022-04-01T07:03:17.340Z"
   },
   {
    "duration": 144,
    "start_time": "2022-04-01T07:08:52.199Z"
   },
   {
    "duration": 4,
    "start_time": "2022-04-01T07:13:54.776Z"
   },
   {
    "duration": 6,
    "start_time": "2022-04-01T07:15:13.942Z"
   },
   {
    "duration": 5,
    "start_time": "2022-04-01T07:15:22.967Z"
   },
   {
    "duration": 6,
    "start_time": "2022-04-01T07:15:35.595Z"
   },
   {
    "duration": 4,
    "start_time": "2022-04-01T07:15:37.389Z"
   },
   {
    "duration": 7,
    "start_time": "2022-04-01T07:15:44.441Z"
   },
   {
    "duration": 3,
    "start_time": "2022-04-01T07:15:45.481Z"
   },
   {
    "duration": 4,
    "start_time": "2022-04-01T07:16:37.079Z"
   },
   {
    "duration": 13,
    "start_time": "2022-04-01T07:20:57.768Z"
   },
   {
    "duration": 4,
    "start_time": "2022-04-01T07:21:44.360Z"
   },
   {
    "duration": 208,
    "start_time": "2022-04-01T07:28:05.025Z"
   },
   {
    "duration": 891,
    "start_time": "2022-04-01T07:28:12.571Z"
   },
   {
    "duration": 896,
    "start_time": "2022-04-01T07:28:48.026Z"
   },
   {
    "duration": 907,
    "start_time": "2022-04-01T07:29:01.501Z"
   },
   {
    "duration": 6,
    "start_time": "2022-04-01T07:30:20.971Z"
   },
   {
    "duration": 7,
    "start_time": "2022-04-01T07:30:30.523Z"
   },
   {
    "duration": 7,
    "start_time": "2022-04-01T07:30:34.219Z"
   },
   {
    "duration": 8,
    "start_time": "2022-04-01T07:30:39.204Z"
   },
   {
    "duration": 6,
    "start_time": "2022-04-01T07:31:25.947Z"
   },
   {
    "duration": 42,
    "start_time": "2022-04-01T07:37:17.487Z"
   },
   {
    "duration": 45,
    "start_time": "2022-04-01T07:37:32.494Z"
   },
   {
    "duration": 3,
    "start_time": "2022-04-01T07:37:35.439Z"
   },
   {
    "duration": 116,
    "start_time": "2022-04-01T07:58:30.087Z"
   },
   {
    "duration": 6,
    "start_time": "2022-04-01T07:58:34.701Z"
   },
   {
    "duration": 59,
    "start_time": "2022-04-01T07:58:34.710Z"
   },
   {
    "duration": 13,
    "start_time": "2022-04-01T07:58:34.771Z"
   },
   {
    "duration": 6,
    "start_time": "2022-04-01T07:58:34.788Z"
   },
   {
    "duration": 13,
    "start_time": "2022-04-01T07:58:34.796Z"
   },
   {
    "duration": 29,
    "start_time": "2022-04-01T07:58:34.811Z"
   },
   {
    "duration": 11,
    "start_time": "2022-04-01T07:58:34.842Z"
   },
   {
    "duration": 15,
    "start_time": "2022-04-01T07:58:34.855Z"
   },
   {
    "duration": 7,
    "start_time": "2022-04-01T07:58:34.872Z"
   },
   {
    "duration": 1714,
    "start_time": "2022-04-01T07:58:34.882Z"
   },
   {
    "duration": 7,
    "start_time": "2022-04-01T07:58:36.598Z"
   },
   {
    "duration": 25,
    "start_time": "2022-04-01T07:58:36.606Z"
   },
   {
    "duration": 13,
    "start_time": "2022-04-01T07:58:36.633Z"
   },
   {
    "duration": 9,
    "start_time": "2022-04-01T07:58:36.648Z"
   },
   {
    "duration": 6,
    "start_time": "2022-04-01T07:58:36.659Z"
   },
   {
    "duration": 14,
    "start_time": "2022-04-01T07:58:36.667Z"
   },
   {
    "duration": 10,
    "start_time": "2022-04-01T07:58:36.683Z"
   },
   {
    "duration": 51,
    "start_time": "2022-04-01T07:58:36.695Z"
   },
   {
    "duration": 18,
    "start_time": "2022-04-01T07:58:36.747Z"
   },
   {
    "duration": 28314,
    "start_time": "2022-04-01T07:58:36.767Z"
   },
   {
    "duration": 6,
    "start_time": "2022-04-01T07:59:05.084Z"
   },
   {
    "duration": 9,
    "start_time": "2022-04-01T07:59:05.092Z"
   },
   {
    "duration": 18,
    "start_time": "2022-04-01T07:59:05.103Z"
   },
   {
    "duration": 6,
    "start_time": "2022-04-01T07:59:05.132Z"
   },
   {
    "duration": 43304,
    "start_time": "2022-04-01T07:59:05.140Z"
   },
   {
    "duration": 6,
    "start_time": "2022-04-01T07:59:48.446Z"
   },
   {
    "duration": 134,
    "start_time": "2022-04-01T07:59:48.454Z"
   },
   {
    "duration": 6,
    "start_time": "2022-04-01T07:59:48.591Z"
   },
   {
    "duration": 39,
    "start_time": "2022-04-01T07:59:48.599Z"
   },
   {
    "duration": 7097,
    "start_time": "2022-04-01T07:59:48.640Z"
   },
   {
    "duration": 371,
    "start_time": "2022-04-01T07:59:55.740Z"
   },
   {
    "duration": 31,
    "start_time": "2022-04-01T07:59:56.113Z"
   },
   {
    "duration": 3,
    "start_time": "2022-04-01T07:59:56.146Z"
   },
   {
    "duration": 908,
    "start_time": "2022-04-01T07:59:56.151Z"
   },
   {
    "duration": 7,
    "start_time": "2022-04-01T07:59:57.060Z"
   },
   {
    "duration": 43,
    "start_time": "2022-04-01T07:59:57.068Z"
   },
   {
    "duration": 4,
    "start_time": "2022-04-01T07:59:57.113Z"
   },
   {
    "duration": 11,
    "start_time": "2022-04-01T07:59:57.132Z"
   },
   {
    "duration": 0,
    "start_time": "2022-04-01T07:59:57.145Z"
   },
   {
    "duration": 8,
    "start_time": "2022-04-01T08:00:01.663Z"
   },
   {
    "duration": 4,
    "start_time": "2022-04-01T08:00:06.780Z"
   },
   {
    "duration": 9,
    "start_time": "2022-04-01T08:07:55.465Z"
   },
   {
    "duration": 6,
    "start_time": "2022-04-01T08:08:47.480Z"
   },
   {
    "duration": 4,
    "start_time": "2022-04-01T08:08:48.199Z"
   },
   {
    "duration": 7,
    "start_time": "2022-04-01T08:08:57.864Z"
   },
   {
    "duration": 3,
    "start_time": "2022-04-01T08:08:58.585Z"
   },
   {
    "duration": 5,
    "start_time": "2022-04-01T08:09:56.191Z"
   },
   {
    "duration": 36,
    "start_time": "2022-04-01T08:09:56.198Z"
   },
   {
    "duration": 14,
    "start_time": "2022-04-01T08:09:56.235Z"
   },
   {
    "duration": 5,
    "start_time": "2022-04-01T08:09:56.251Z"
   },
   {
    "duration": 14,
    "start_time": "2022-04-01T08:09:56.259Z"
   },
   {
    "duration": 16,
    "start_time": "2022-04-01T08:09:56.275Z"
   },
   {
    "duration": 39,
    "start_time": "2022-04-01T08:09:56.293Z"
   },
   {
    "duration": 14,
    "start_time": "2022-04-01T08:09:56.334Z"
   },
   {
    "duration": 7,
    "start_time": "2022-04-01T08:09:56.350Z"
   },
   {
    "duration": 1705,
    "start_time": "2022-04-01T08:09:56.359Z"
   },
   {
    "duration": 8,
    "start_time": "2022-04-01T08:09:58.065Z"
   },
   {
    "duration": 17,
    "start_time": "2022-04-01T08:09:58.075Z"
   },
   {
    "duration": 13,
    "start_time": "2022-04-01T08:09:58.094Z"
   },
   {
    "duration": 8,
    "start_time": "2022-04-01T08:09:58.132Z"
   },
   {
    "duration": 6,
    "start_time": "2022-04-01T08:09:58.141Z"
   },
   {
    "duration": 6,
    "start_time": "2022-04-01T08:09:58.149Z"
   },
   {
    "duration": 13,
    "start_time": "2022-04-01T08:09:58.157Z"
   },
   {
    "duration": 30,
    "start_time": "2022-04-01T08:09:58.172Z"
   },
   {
    "duration": 44,
    "start_time": "2022-04-01T08:09:58.204Z"
   },
   {
    "duration": 27970,
    "start_time": "2022-04-01T08:09:58.251Z"
   },
   {
    "duration": 13,
    "start_time": "2022-04-01T08:10:26.223Z"
   },
   {
    "duration": 30,
    "start_time": "2022-04-01T08:10:26.238Z"
   },
   {
    "duration": 34,
    "start_time": "2022-04-01T08:10:26.271Z"
   },
   {
    "duration": 17,
    "start_time": "2022-04-01T08:10:26.307Z"
   },
   {
    "duration": 43948,
    "start_time": "2022-04-01T08:10:26.326Z"
   },
   {
    "duration": 7,
    "start_time": "2022-04-01T08:11:10.276Z"
   },
   {
    "duration": 132,
    "start_time": "2022-04-01T08:11:10.284Z"
   },
   {
    "duration": 16,
    "start_time": "2022-04-01T08:11:10.418Z"
   },
   {
    "duration": 6,
    "start_time": "2022-04-01T08:11:10.436Z"
   },
   {
    "duration": 4689,
    "start_time": "2022-04-01T08:11:10.444Z"
   },
   {
    "duration": 368,
    "start_time": "2022-04-01T08:11:15.136Z"
   },
   {
    "duration": 28,
    "start_time": "2022-04-01T08:11:15.506Z"
   },
   {
    "duration": 4,
    "start_time": "2022-04-01T08:11:15.535Z"
   },
   {
    "duration": 924,
    "start_time": "2022-04-01T08:11:15.541Z"
   },
   {
    "duration": 8,
    "start_time": "2022-04-01T08:11:16.466Z"
   },
   {
    "duration": 59,
    "start_time": "2022-04-01T08:11:16.476Z"
   },
   {
    "duration": 5,
    "start_time": "2022-04-01T08:11:16.536Z"
   },
   {
    "duration": 15,
    "start_time": "2022-04-01T08:11:16.543Z"
   },
   {
    "duration": 10,
    "start_time": "2022-04-01T08:11:16.559Z"
   },
   {
    "duration": 8,
    "start_time": "2022-04-01T08:11:42.632Z"
   },
   {
    "duration": 4,
    "start_time": "2022-04-01T08:11:43.289Z"
   },
   {
    "duration": 8,
    "start_time": "2022-04-01T08:11:50.375Z"
   },
   {
    "duration": 4,
    "start_time": "2022-04-01T08:11:50.920Z"
   },
   {
    "duration": 6,
    "start_time": "2022-04-01T08:13:07.145Z"
   },
   {
    "duration": 4,
    "start_time": "2022-04-01T08:13:07.836Z"
   },
   {
    "duration": 7,
    "start_time": "2022-04-01T08:13:16.936Z"
   },
   {
    "duration": 4,
    "start_time": "2022-04-01T08:13:17.581Z"
   },
   {
    "duration": 7,
    "start_time": "2022-04-01T08:13:28.600Z"
   },
   {
    "duration": 6,
    "start_time": "2022-04-01T08:13:35.194Z"
   },
   {
    "duration": 4,
    "start_time": "2022-04-01T08:13:36.776Z"
   },
   {
    "duration": 865,
    "start_time": "2022-04-01T08:13:58.825Z"
   },
   {
    "duration": 7,
    "start_time": "2022-04-01T08:14:01.177Z"
   },
   {
    "duration": 6,
    "start_time": "2022-04-01T08:14:24.467Z"
   },
   {
    "duration": 60,
    "start_time": "2022-04-01T08:14:24.475Z"
   },
   {
    "duration": 19,
    "start_time": "2022-04-01T08:14:24.537Z"
   },
   {
    "duration": 34,
    "start_time": "2022-04-01T08:14:24.558Z"
   },
   {
    "duration": 41,
    "start_time": "2022-04-01T08:14:24.594Z"
   },
   {
    "duration": 47,
    "start_time": "2022-04-01T08:14:24.636Z"
   },
   {
    "duration": 27,
    "start_time": "2022-04-01T08:14:24.685Z"
   },
   {
    "duration": 34,
    "start_time": "2022-04-01T08:14:24.714Z"
   },
   {
    "duration": 11,
    "start_time": "2022-04-01T08:14:24.750Z"
   },
   {
    "duration": 1723,
    "start_time": "2022-04-01T08:14:24.763Z"
   },
   {
    "duration": 8,
    "start_time": "2022-04-01T08:14:26.487Z"
   },
   {
    "duration": 27,
    "start_time": "2022-04-01T08:14:26.496Z"
   },
   {
    "duration": 23,
    "start_time": "2022-04-01T08:14:26.525Z"
   },
   {
    "duration": 18,
    "start_time": "2022-04-01T08:14:26.552Z"
   },
   {
    "duration": 15,
    "start_time": "2022-04-01T08:14:26.571Z"
   },
   {
    "duration": 16,
    "start_time": "2022-04-01T08:14:26.588Z"
   },
   {
    "duration": 19,
    "start_time": "2022-04-01T08:14:26.606Z"
   },
   {
    "duration": 51,
    "start_time": "2022-04-01T08:14:26.627Z"
   },
   {
    "duration": 18,
    "start_time": "2022-04-01T08:14:26.681Z"
   },
   {
    "duration": 28059,
    "start_time": "2022-04-01T08:14:26.701Z"
   },
   {
    "duration": 6,
    "start_time": "2022-04-01T08:14:54.762Z"
   },
   {
    "duration": 10,
    "start_time": "2022-04-01T08:14:54.770Z"
   },
   {
    "duration": 17,
    "start_time": "2022-04-01T08:14:54.782Z"
   },
   {
    "duration": 30,
    "start_time": "2022-04-01T08:14:54.801Z"
   },
   {
    "duration": 43599,
    "start_time": "2022-04-01T08:14:54.833Z"
   },
   {
    "duration": 6,
    "start_time": "2022-04-01T08:15:38.434Z"
   },
   {
    "duration": 134,
    "start_time": "2022-04-01T08:15:38.442Z"
   },
   {
    "duration": 5,
    "start_time": "2022-04-01T08:15:38.578Z"
   },
   {
    "duration": 16,
    "start_time": "2022-04-01T08:15:38.585Z"
   },
   {
    "duration": 7034,
    "start_time": "2022-04-01T08:15:38.603Z"
   },
   {
    "duration": 398,
    "start_time": "2022-04-01T08:15:45.639Z"
   },
   {
    "duration": 15,
    "start_time": "2022-04-01T08:15:46.039Z"
   },
   {
    "duration": 4,
    "start_time": "2022-04-01T08:15:46.055Z"
   },
   {
    "duration": 913,
    "start_time": "2022-04-01T08:15:46.061Z"
   },
   {
    "duration": 6,
    "start_time": "2022-04-01T08:15:46.976Z"
   },
   {
    "duration": 53,
    "start_time": "2022-04-01T08:15:46.983Z"
   },
   {
    "duration": 4,
    "start_time": "2022-04-01T08:15:47.038Z"
   },
   {
    "duration": 16,
    "start_time": "2022-04-01T08:15:47.043Z"
   },
   {
    "duration": 3,
    "start_time": "2022-04-01T08:15:47.061Z"
   },
   {
    "duration": 43,
    "start_time": "2022-04-01T09:30:08.202Z"
   },
   {
    "duration": 4,
    "start_time": "2022-04-01T09:32:40.651Z"
   },
   {
    "duration": 3,
    "start_time": "2022-04-01T09:32:50.810Z"
   },
   {
    "duration": 3,
    "start_time": "2022-04-01T09:32:56.217Z"
   },
   {
    "duration": 5,
    "start_time": "2022-04-01T09:34:19.218Z"
   },
   {
    "duration": 47,
    "start_time": "2022-04-01T09:34:19.225Z"
   },
   {
    "duration": 14,
    "start_time": "2022-04-01T09:34:19.274Z"
   },
   {
    "duration": 8,
    "start_time": "2022-04-01T09:34:19.289Z"
   },
   {
    "duration": 19,
    "start_time": "2022-04-01T09:34:19.299Z"
   },
   {
    "duration": 17,
    "start_time": "2022-04-01T09:34:19.320Z"
   },
   {
    "duration": 9,
    "start_time": "2022-04-01T09:34:19.339Z"
   },
   {
    "duration": 15,
    "start_time": "2022-04-01T09:34:19.350Z"
   },
   {
    "duration": 4,
    "start_time": "2022-04-01T09:34:19.367Z"
   },
   {
    "duration": 1696,
    "start_time": "2022-04-01T09:34:19.372Z"
   },
   {
    "duration": 6,
    "start_time": "2022-04-01T09:34:21.070Z"
   },
   {
    "duration": 20,
    "start_time": "2022-04-01T09:34:21.078Z"
   },
   {
    "duration": 13,
    "start_time": "2022-04-01T09:34:21.099Z"
   },
   {
    "duration": 7,
    "start_time": "2022-04-01T09:34:21.115Z"
   },
   {
    "duration": 6,
    "start_time": "2022-04-01T09:34:21.124Z"
   },
   {
    "duration": 11,
    "start_time": "2022-04-01T09:34:21.131Z"
   },
   {
    "duration": 9,
    "start_time": "2022-04-01T09:34:21.144Z"
   },
   {
    "duration": 30,
    "start_time": "2022-04-01T09:34:21.155Z"
   },
   {
    "duration": 18,
    "start_time": "2022-04-01T09:34:21.187Z"
   },
   {
    "duration": 26508,
    "start_time": "2022-04-01T09:34:21.207Z"
   },
   {
    "duration": 6,
    "start_time": "2022-04-01T09:34:47.717Z"
   },
   {
    "duration": 4,
    "start_time": "2022-04-01T09:34:47.731Z"
   },
   {
    "duration": 14,
    "start_time": "2022-04-01T09:34:47.737Z"
   },
   {
    "duration": 5,
    "start_time": "2022-04-01T09:34:47.752Z"
   },
   {
    "duration": 41967,
    "start_time": "2022-04-01T09:34:47.759Z"
   },
   {
    "duration": 5,
    "start_time": "2022-04-01T09:35:29.731Z"
   },
   {
    "duration": 123,
    "start_time": "2022-04-01T09:35:29.737Z"
   },
   {
    "duration": 5,
    "start_time": "2022-04-01T09:35:29.862Z"
   },
   {
    "duration": 11,
    "start_time": "2022-04-01T09:35:29.868Z"
   },
   {
    "duration": 4152,
    "start_time": "2022-04-01T09:35:29.881Z"
   },
   {
    "duration": 369,
    "start_time": "2022-04-01T09:35:34.036Z"
   },
   {
    "duration": 31,
    "start_time": "2022-04-01T09:35:34.407Z"
   },
   {
    "duration": 3,
    "start_time": "2022-04-01T09:35:34.440Z"
   },
   {
    "duration": 906,
    "start_time": "2022-04-01T09:35:34.445Z"
   },
   {
    "duration": 6,
    "start_time": "2022-04-01T09:35:35.353Z"
   },
   {
    "duration": 44,
    "start_time": "2022-04-01T09:35:35.361Z"
   },
   {
    "duration": 3,
    "start_time": "2022-04-01T09:35:35.407Z"
   },
   {
    "duration": 29,
    "start_time": "2022-04-01T09:35:35.412Z"
   },
   {
    "duration": 7,
    "start_time": "2022-04-01T09:35:35.442Z"
   },
   {
    "duration": 4,
    "start_time": "2022-04-01T09:51:26.518Z"
   },
   {
    "duration": 39,
    "start_time": "2022-04-01T09:51:26.524Z"
   },
   {
    "duration": 15,
    "start_time": "2022-04-01T09:51:26.565Z"
   },
   {
    "duration": 6,
    "start_time": "2022-04-01T09:51:26.582Z"
   },
   {
    "duration": 15,
    "start_time": "2022-04-01T09:51:26.591Z"
   },
   {
    "duration": 15,
    "start_time": "2022-04-01T09:51:26.631Z"
   },
   {
    "duration": 11,
    "start_time": "2022-04-01T09:51:26.647Z"
   },
   {
    "duration": 23,
    "start_time": "2022-04-01T09:51:26.660Z"
   },
   {
    "duration": 10,
    "start_time": "2022-04-01T09:51:26.685Z"
   },
   {
    "duration": 1714,
    "start_time": "2022-04-01T09:51:26.697Z"
   },
   {
    "duration": 7,
    "start_time": "2022-04-01T09:51:28.413Z"
   },
   {
    "duration": 11,
    "start_time": "2022-04-01T09:51:28.432Z"
   },
   {
    "duration": 15,
    "start_time": "2022-04-01T09:51:28.445Z"
   },
   {
    "duration": 8,
    "start_time": "2022-04-01T09:51:28.463Z"
   },
   {
    "duration": 5,
    "start_time": "2022-04-01T09:51:28.473Z"
   },
   {
    "duration": 6,
    "start_time": "2022-04-01T09:51:28.479Z"
   },
   {
    "duration": 10,
    "start_time": "2022-04-01T09:51:28.486Z"
   },
   {
    "duration": 59,
    "start_time": "2022-04-01T09:51:28.497Z"
   },
   {
    "duration": 16,
    "start_time": "2022-04-01T09:51:28.558Z"
   },
   {
    "duration": 26956,
    "start_time": "2022-04-01T09:51:28.576Z"
   },
   {
    "duration": 6,
    "start_time": "2022-04-01T09:51:55.533Z"
   },
   {
    "duration": 17,
    "start_time": "2022-04-01T09:51:55.541Z"
   },
   {
    "duration": 34,
    "start_time": "2022-04-01T09:51:55.559Z"
   },
   {
    "duration": 31,
    "start_time": "2022-04-01T09:51:55.595Z"
   },
   {
    "duration": 42311,
    "start_time": "2022-04-01T09:51:55.628Z"
   },
   {
    "duration": 6,
    "start_time": "2022-04-01T09:52:37.940Z"
   },
   {
    "duration": 128,
    "start_time": "2022-04-01T09:52:37.947Z"
   },
   {
    "duration": 4,
    "start_time": "2022-04-01T09:52:38.077Z"
   },
   {
    "duration": 19,
    "start_time": "2022-04-01T09:52:38.083Z"
   },
   {
    "duration": 4136,
    "start_time": "2022-04-01T09:52:38.103Z"
   },
   {
    "duration": 377,
    "start_time": "2022-04-01T09:52:42.241Z"
   },
   {
    "duration": 14,
    "start_time": "2022-04-01T09:52:42.632Z"
   },
   {
    "duration": 4,
    "start_time": "2022-04-01T09:52:42.648Z"
   },
   {
    "duration": 874,
    "start_time": "2022-04-01T09:52:42.653Z"
   },
   {
    "duration": 6,
    "start_time": "2022-04-01T09:52:43.529Z"
   },
   {
    "duration": 44,
    "start_time": "2022-04-01T09:52:43.537Z"
   },
   {
    "duration": 3,
    "start_time": "2022-04-01T09:52:43.583Z"
   },
   {
    "duration": 14,
    "start_time": "2022-04-01T09:52:43.588Z"
   },
   {
    "duration": 6,
    "start_time": "2022-04-01T09:52:43.604Z"
   },
   {
    "duration": 140,
    "start_time": "2022-04-02T09:53:52.345Z"
   },
   {
    "duration": 130,
    "start_time": "2022-04-02T09:57:43.012Z"
   },
   {
    "duration": 2178,
    "start_time": "2022-04-04T08:00:29.239Z"
   },
   {
    "duration": 37,
    "start_time": "2022-04-04T08:00:31.420Z"
   },
   {
    "duration": 31,
    "start_time": "2022-04-04T08:00:31.459Z"
   },
   {
    "duration": 6,
    "start_time": "2022-04-04T08:00:31.492Z"
   },
   {
    "duration": 22,
    "start_time": "2022-04-04T08:00:31.500Z"
   },
   {
    "duration": 46,
    "start_time": "2022-04-04T08:00:31.524Z"
   },
   {
    "duration": 13,
    "start_time": "2022-04-04T08:00:31.572Z"
   },
   {
    "duration": 20,
    "start_time": "2022-04-04T08:00:31.587Z"
   },
   {
    "duration": 6,
    "start_time": "2022-04-04T08:00:31.609Z"
   },
   {
    "duration": 2362,
    "start_time": "2022-04-04T08:00:31.619Z"
   },
   {
    "duration": 13,
    "start_time": "2022-04-04T08:00:33.983Z"
   },
   {
    "duration": 14,
    "start_time": "2022-04-04T08:00:33.998Z"
   },
   {
    "duration": 16,
    "start_time": "2022-04-04T08:00:34.015Z"
   },
   {
    "duration": 42,
    "start_time": "2022-04-04T08:00:34.033Z"
   },
   {
    "duration": 6,
    "start_time": "2022-04-04T08:00:34.077Z"
   },
   {
    "duration": 5,
    "start_time": "2022-04-04T08:00:34.086Z"
   },
   {
    "duration": 9,
    "start_time": "2022-04-04T08:00:34.093Z"
   },
   {
    "duration": 92,
    "start_time": "2022-04-04T08:00:34.105Z"
   },
   {
    "duration": 24,
    "start_time": "2022-04-04T08:00:34.199Z"
   },
   {
    "duration": 36866,
    "start_time": "2022-04-04T08:00:34.226Z"
   },
   {
    "duration": 8,
    "start_time": "2022-04-04T08:01:11.095Z"
   },
   {
    "duration": 6,
    "start_time": "2022-04-04T08:01:11.105Z"
   },
   {
    "duration": 17,
    "start_time": "2022-04-04T08:01:11.113Z"
   },
   {
    "duration": 40,
    "start_time": "2022-04-04T08:01:11.132Z"
   },
   {
    "duration": 61946,
    "start_time": "2022-04-04T08:01:11.174Z"
   },
   {
    "duration": 7,
    "start_time": "2022-04-04T08:02:13.122Z"
   },
   {
    "duration": 170,
    "start_time": "2022-04-04T08:02:13.132Z"
   },
   {
    "duration": 6,
    "start_time": "2022-04-04T08:02:13.307Z"
   },
   {
    "duration": 32,
    "start_time": "2022-04-04T08:02:13.315Z"
   },
   {
    "duration": 5819,
    "start_time": "2022-04-04T08:02:13.350Z"
   },
   {
    "duration": 324,
    "start_time": "2022-04-04T08:02:19.172Z"
   },
   {
    "duration": 20,
    "start_time": "2022-04-04T08:02:19.498Z"
   },
   {
    "duration": 5,
    "start_time": "2022-04-04T08:02:19.520Z"
   },
   {
    "duration": 1258,
    "start_time": "2022-04-04T08:02:19.527Z"
   },
   {
    "duration": 8,
    "start_time": "2022-04-04T08:02:20.787Z"
   },
   {
    "duration": 42,
    "start_time": "2022-04-04T08:02:20.798Z"
   },
   {
    "duration": 5,
    "start_time": "2022-04-04T08:02:20.867Z"
   },
   {
    "duration": 13,
    "start_time": "2022-04-04T08:02:20.874Z"
   },
   {
    "duration": 175,
    "start_time": "2022-04-04T08:02:20.889Z"
   },
   {
    "duration": 134,
    "start_time": "2022-04-04T08:07:13.950Z"
   },
   {
    "duration": 24,
    "start_time": "2022-04-04T08:07:58.527Z"
   },
   {
    "duration": 7,
    "start_time": "2022-04-04T08:08:15.370Z"
   },
   {
    "duration": 17,
    "start_time": "2022-04-04T08:08:23.600Z"
   },
   {
    "duration": 8,
    "start_time": "2022-04-04T08:08:31.281Z"
   },
   {
    "duration": 124,
    "start_time": "2022-04-04T08:10:31.329Z"
   },
   {
    "duration": 104,
    "start_time": "2022-04-04T08:11:10.401Z"
   },
   {
    "duration": 6,
    "start_time": "2022-04-04T08:11:27.185Z"
   },
   {
    "duration": 5,
    "start_time": "2022-04-04T08:11:41.155Z"
   },
   {
    "duration": 118,
    "start_time": "2022-04-04T08:15:09.733Z"
   },
   {
    "duration": 104,
    "start_time": "2022-04-04T08:15:15.684Z"
   },
   {
    "duration": 98866,
    "start_time": "2022-04-04T08:19:12.113Z"
   },
   {
    "duration": 9,
    "start_time": "2022-04-04T08:20:50.982Z"
   },
   {
    "duration": 121,
    "start_time": "2022-04-04T08:22:57.764Z"
   },
   {
    "duration": 21,
    "start_time": "2022-04-04T08:22:58.624Z"
   },
   {
    "duration": 84881,
    "start_time": "2022-04-04T08:24:54.083Z"
   },
   {
    "duration": 13,
    "start_time": "2022-04-04T08:26:18.967Z"
   },
   {
    "duration": 124,
    "start_time": "2022-04-04T08:28:32.194Z"
   },
   {
    "duration": 7,
    "start_time": "2022-04-04T08:30:19.076Z"
   },
   {
    "duration": 13,
    "start_time": "2022-04-04T08:30:19.618Z"
   },
   {
    "duration": 7,
    "start_time": "2022-04-04T08:30:20.601Z"
   },
   {
    "duration": 11,
    "start_time": "2022-04-04T08:30:22.691Z"
   },
   {
    "duration": 7,
    "start_time": "2022-04-04T08:30:34.002Z"
   },
   {
    "duration": 35,
    "start_time": "2022-04-04T08:30:34.011Z"
   },
   {
    "duration": 24,
    "start_time": "2022-04-04T08:30:34.048Z"
   },
   {
    "duration": 11,
    "start_time": "2022-04-04T08:30:34.075Z"
   },
   {
    "duration": 22,
    "start_time": "2022-04-04T08:30:34.089Z"
   },
   {
    "duration": 18,
    "start_time": "2022-04-04T08:30:34.113Z"
   },
   {
    "duration": 45,
    "start_time": "2022-04-04T08:30:34.133Z"
   },
   {
    "duration": 28,
    "start_time": "2022-04-04T08:30:34.184Z"
   },
   {
    "duration": 6,
    "start_time": "2022-04-04T08:30:34.214Z"
   },
   {
    "duration": 2453,
    "start_time": "2022-04-04T08:30:34.223Z"
   },
   {
    "duration": 13,
    "start_time": "2022-04-04T08:30:36.678Z"
   },
   {
    "duration": 27,
    "start_time": "2022-04-04T08:30:36.693Z"
   },
   {
    "duration": 31,
    "start_time": "2022-04-04T08:30:36.722Z"
   },
   {
    "duration": 10,
    "start_time": "2022-04-04T08:30:36.756Z"
   },
   {
    "duration": 28,
    "start_time": "2022-04-04T08:30:36.768Z"
   },
   {
    "duration": 29,
    "start_time": "2022-04-04T08:30:36.798Z"
   },
   {
    "duration": 25,
    "start_time": "2022-04-04T08:30:36.829Z"
   },
   {
    "duration": 8,
    "start_time": "2022-04-04T08:30:36.856Z"
   },
   {
    "duration": 38,
    "start_time": "2022-04-04T08:30:36.866Z"
   },
   {
    "duration": 61,
    "start_time": "2022-04-04T08:30:36.907Z"
   },
   {
    "duration": 27,
    "start_time": "2022-04-04T08:30:36.972Z"
   },
   {
    "duration": 87409,
    "start_time": "2022-04-04T08:30:37.001Z"
   },
   {
    "duration": 9,
    "start_time": "2022-04-04T08:32:04.413Z"
   },
   {
    "duration": 7,
    "start_time": "2022-04-04T08:32:04.424Z"
   },
   {
    "duration": 40,
    "start_time": "2022-04-04T08:32:04.433Z"
   },
   {
    "duration": 7,
    "start_time": "2022-04-04T08:32:04.475Z"
   },
   {
    "duration": 37,
    "start_time": "2022-04-04T08:32:04.487Z"
   },
   {
    "duration": 0,
    "start_time": "2022-04-04T08:32:04.527Z"
   },
   {
    "duration": 0,
    "start_time": "2022-04-04T08:32:04.529Z"
   },
   {
    "duration": 0,
    "start_time": "2022-04-04T08:32:04.530Z"
   },
   {
    "duration": 0,
    "start_time": "2022-04-04T08:32:04.532Z"
   },
   {
    "duration": 0,
    "start_time": "2022-04-04T08:32:04.534Z"
   },
   {
    "duration": 0,
    "start_time": "2022-04-04T08:32:04.535Z"
   },
   {
    "duration": 0,
    "start_time": "2022-04-04T08:32:04.537Z"
   },
   {
    "duration": 0,
    "start_time": "2022-04-04T08:32:04.539Z"
   },
   {
    "duration": 0,
    "start_time": "2022-04-04T08:32:04.540Z"
   },
   {
    "duration": 0,
    "start_time": "2022-04-04T08:32:04.542Z"
   },
   {
    "duration": 0,
    "start_time": "2022-04-04T08:32:04.544Z"
   },
   {
    "duration": 0,
    "start_time": "2022-04-04T08:32:04.545Z"
   },
   {
    "duration": 0,
    "start_time": "2022-04-04T08:32:04.573Z"
   },
   {
    "duration": 0,
    "start_time": "2022-04-04T08:32:04.574Z"
   },
   {
    "duration": 0,
    "start_time": "2022-04-04T08:32:04.575Z"
   },
   {
    "duration": 5,
    "start_time": "2022-04-04T08:32:40.019Z"
   },
   {
    "duration": 50,
    "start_time": "2022-04-04T08:43:12.153Z"
   },
   {
    "duration": 6,
    "start_time": "2022-04-04T08:43:13.049Z"
   },
   {
    "duration": 128,
    "start_time": "2022-04-04T08:44:31.380Z"
   },
   {
    "duration": 61712,
    "start_time": "2022-04-04T08:44:50.917Z"
   },
   {
    "duration": 8,
    "start_time": "2022-04-04T08:45:52.633Z"
   },
   {
    "duration": 170,
    "start_time": "2022-04-04T08:45:52.644Z"
   },
   {
    "duration": 7,
    "start_time": "2022-04-04T08:51:37.213Z"
   },
   {
    "duration": 36,
    "start_time": "2022-04-04T08:51:37.224Z"
   },
   {
    "duration": 23,
    "start_time": "2022-04-04T08:51:37.263Z"
   },
   {
    "duration": 6,
    "start_time": "2022-04-04T08:51:37.288Z"
   },
   {
    "duration": 21,
    "start_time": "2022-04-04T08:51:37.297Z"
   },
   {
    "duration": 61,
    "start_time": "2022-04-04T08:51:37.320Z"
   },
   {
    "duration": 13,
    "start_time": "2022-04-04T08:51:37.387Z"
   },
   {
    "duration": 21,
    "start_time": "2022-04-04T08:51:37.403Z"
   },
   {
    "duration": 42,
    "start_time": "2022-04-04T08:51:37.426Z"
   },
   {
    "duration": 2454,
    "start_time": "2022-04-04T08:51:37.470Z"
   },
   {
    "duration": 10,
    "start_time": "2022-04-04T08:51:39.926Z"
   },
   {
    "duration": 40,
    "start_time": "2022-04-04T08:51:39.938Z"
   },
   {
    "duration": 19,
    "start_time": "2022-04-04T08:51:39.981Z"
   },
   {
    "duration": 6,
    "start_time": "2022-04-04T08:51:40.006Z"
   },
   {
    "duration": 6,
    "start_time": "2022-04-04T08:51:40.015Z"
   },
   {
    "duration": 51,
    "start_time": "2022-04-04T08:51:40.024Z"
   },
   {
    "duration": 18,
    "start_time": "2022-04-04T08:51:40.077Z"
   },
   {
    "duration": 10,
    "start_time": "2022-04-04T08:51:40.098Z"
   },
   {
    "duration": 11,
    "start_time": "2022-04-04T08:51:40.111Z"
   },
   {
    "duration": 79,
    "start_time": "2022-04-04T08:51:40.124Z"
   },
   {
    "duration": 33,
    "start_time": "2022-04-04T08:51:40.205Z"
   },
   {
    "duration": 112092,
    "start_time": "2022-04-04T08:51:40.241Z"
   },
   {
    "duration": 10,
    "start_time": "2022-04-04T08:53:32.335Z"
   },
   {
    "duration": 64,
    "start_time": "2022-04-04T08:53:32.348Z"
   },
   {
    "duration": 4,
    "start_time": "2022-04-04T08:53:32.415Z"
   },
   {
    "duration": 7,
    "start_time": "2022-04-04T08:53:32.421Z"
   },
   {
    "duration": 41,
    "start_time": "2022-04-04T08:53:32.430Z"
   },
   {
    "duration": 10,
    "start_time": "2022-04-04T08:53:32.474Z"
   },
   {
    "duration": 10,
    "start_time": "2022-04-04T08:53:32.488Z"
   },
   {
    "duration": 65433,
    "start_time": "2022-04-04T08:53:32.501Z"
   },
   {
    "duration": 11,
    "start_time": "2022-04-04T08:54:37.936Z"
   },
   {
    "duration": 208,
    "start_time": "2022-04-04T08:54:37.969Z"
   },
   {
    "duration": 7,
    "start_time": "2022-04-04T08:54:38.180Z"
   },
   {
    "duration": 15,
    "start_time": "2022-04-04T08:54:38.190Z"
   },
   {
    "duration": 6766,
    "start_time": "2022-04-04T08:54:38.208Z"
   },
   {
    "duration": 324,
    "start_time": "2022-04-04T08:54:44.977Z"
   },
   {
    "duration": 15,
    "start_time": "2022-04-04T08:54:45.303Z"
   },
   {
    "duration": 5,
    "start_time": "2022-04-04T08:54:45.321Z"
   },
   {
    "duration": 1593,
    "start_time": "2022-04-04T08:54:45.331Z"
   },
   {
    "duration": 10,
    "start_time": "2022-04-04T08:54:46.973Z"
   },
   {
    "duration": 111,
    "start_time": "2022-04-04T08:54:46.991Z"
   },
   {
    "duration": 5,
    "start_time": "2022-04-04T08:54:47.104Z"
   },
   {
    "duration": 26,
    "start_time": "2022-04-04T08:54:47.111Z"
   },
   {
    "duration": 43,
    "start_time": "2022-04-04T08:54:47.139Z"
   },
   {
    "duration": 4212,
    "start_time": "2022-04-04T09:10:31.862Z"
   },
   {
    "duration": 311,
    "start_time": "2022-04-04T09:10:36.983Z"
   },
   {
    "duration": 8,
    "start_time": "2022-04-04T09:33:11.979Z"
   },
   {
    "duration": 51,
    "start_time": "2022-04-04T09:33:11.990Z"
   },
   {
    "duration": 30,
    "start_time": "2022-04-04T09:33:12.044Z"
   },
   {
    "duration": 12,
    "start_time": "2022-04-04T09:33:12.077Z"
   },
   {
    "duration": 22,
    "start_time": "2022-04-04T09:33:12.092Z"
   },
   {
    "duration": 50,
    "start_time": "2022-04-04T09:33:12.117Z"
   },
   {
    "duration": 16,
    "start_time": "2022-04-04T09:33:12.170Z"
   },
   {
    "duration": 52,
    "start_time": "2022-04-04T09:33:12.188Z"
   },
   {
    "duration": 27,
    "start_time": "2022-04-04T09:33:12.246Z"
   },
   {
    "duration": 2473,
    "start_time": "2022-04-04T09:33:12.276Z"
   },
   {
    "duration": 23,
    "start_time": "2022-04-04T09:33:14.752Z"
   },
   {
    "duration": 28,
    "start_time": "2022-04-04T09:33:14.777Z"
   },
   {
    "duration": 21,
    "start_time": "2022-04-04T09:33:14.808Z"
   },
   {
    "duration": 6,
    "start_time": "2022-04-04T09:33:14.835Z"
   },
   {
    "duration": 9,
    "start_time": "2022-04-04T09:33:14.867Z"
   },
   {
    "duration": 17,
    "start_time": "2022-04-04T09:33:14.883Z"
   },
   {
    "duration": 9,
    "start_time": "2022-04-04T09:33:14.903Z"
   },
   {
    "duration": 9,
    "start_time": "2022-04-04T09:33:14.915Z"
   },
   {
    "duration": 56,
    "start_time": "2022-04-04T09:33:14.927Z"
   },
   {
    "duration": 44,
    "start_time": "2022-04-04T09:33:14.986Z"
   },
   {
    "duration": 42,
    "start_time": "2022-04-04T09:33:15.032Z"
   },
   {
    "duration": 82620,
    "start_time": "2022-04-04T09:33:15.077Z"
   },
   {
    "duration": 8,
    "start_time": "2022-04-04T09:34:37.699Z"
   },
   {
    "duration": 35,
    "start_time": "2022-04-04T09:34:37.709Z"
   },
   {
    "duration": 29,
    "start_time": "2022-04-04T09:34:37.746Z"
   },
   {
    "duration": 29,
    "start_time": "2022-04-04T09:34:37.778Z"
   },
   {
    "duration": 15,
    "start_time": "2022-04-04T09:34:37.809Z"
   },
   {
    "duration": 6,
    "start_time": "2022-04-04T09:34:37.826Z"
   },
   {
    "duration": 7,
    "start_time": "2022-04-04T09:34:37.835Z"
   },
   {
    "duration": 56903,
    "start_time": "2022-04-04T09:34:37.844Z"
   },
   {
    "duration": 25,
    "start_time": "2022-04-04T09:35:34.750Z"
   },
   {
    "duration": 154,
    "start_time": "2022-04-04T09:35:34.778Z"
   },
   {
    "duration": 8,
    "start_time": "2022-04-04T09:35:34.935Z"
   },
   {
    "duration": 26,
    "start_time": "2022-04-04T09:35:34.946Z"
   },
   {
    "duration": 6108,
    "start_time": "2022-04-04T09:35:34.975Z"
   },
   {
    "duration": 508,
    "start_time": "2022-04-04T09:35:41.087Z"
   },
   {
    "duration": 15,
    "start_time": "2022-04-04T09:35:41.599Z"
   },
   {
    "duration": 7,
    "start_time": "2022-04-04T09:35:41.667Z"
   },
   {
    "duration": 2840,
    "start_time": "2022-04-04T09:35:41.676Z"
   },
   {
    "duration": 8,
    "start_time": "2022-04-04T09:35:44.519Z"
   },
   {
    "duration": 67,
    "start_time": "2022-04-04T09:35:44.532Z"
   },
   {
    "duration": 5,
    "start_time": "2022-04-04T09:35:44.602Z"
   },
   {
    "duration": 11,
    "start_time": "2022-04-04T09:35:44.609Z"
   },
   {
    "duration": 4,
    "start_time": "2022-04-04T09:35:44.623Z"
   },
   {
    "duration": 9,
    "start_time": "2022-04-04T09:48:01.056Z"
   },
   {
    "duration": 2024,
    "start_time": "2022-04-04T09:49:36.499Z"
   },
   {
    "duration": 7,
    "start_time": "2022-04-04T09:49:49.344Z"
   },
   {
    "duration": 72,
    "start_time": "2022-04-04T09:49:49.353Z"
   },
   {
    "duration": 18,
    "start_time": "2022-04-04T09:49:49.427Z"
   },
   {
    "duration": 11,
    "start_time": "2022-04-04T09:49:49.448Z"
   },
   {
    "duration": 53,
    "start_time": "2022-04-04T09:49:49.461Z"
   },
   {
    "duration": 27,
    "start_time": "2022-04-04T09:49:49.516Z"
   },
   {
    "duration": 18,
    "start_time": "2022-04-04T09:49:49.545Z"
   },
   {
    "duration": 47,
    "start_time": "2022-04-04T09:49:49.565Z"
   },
   {
    "duration": 9,
    "start_time": "2022-04-04T09:49:49.616Z"
   },
   {
    "duration": 2656,
    "start_time": "2022-04-04T09:49:49.626Z"
   },
   {
    "duration": 10,
    "start_time": "2022-04-04T09:49:52.285Z"
   },
   {
    "duration": 2263,
    "start_time": "2022-04-04T09:49:52.298Z"
   },
   {
    "duration": 0,
    "start_time": "2022-04-04T09:49:54.564Z"
   },
   {
    "duration": 0,
    "start_time": "2022-04-04T09:49:54.566Z"
   },
   {
    "duration": 0,
    "start_time": "2022-04-04T09:49:54.568Z"
   },
   {
    "duration": 0,
    "start_time": "2022-04-04T09:49:54.569Z"
   },
   {
    "duration": 0,
    "start_time": "2022-04-04T09:49:54.571Z"
   },
   {
    "duration": 0,
    "start_time": "2022-04-04T09:49:54.573Z"
   },
   {
    "duration": 0,
    "start_time": "2022-04-04T09:49:54.575Z"
   },
   {
    "duration": 0,
    "start_time": "2022-04-04T09:49:54.577Z"
   },
   {
    "duration": 0,
    "start_time": "2022-04-04T09:49:54.579Z"
   },
   {
    "duration": 0,
    "start_time": "2022-04-04T09:49:54.581Z"
   },
   {
    "duration": 0,
    "start_time": "2022-04-04T09:49:54.583Z"
   },
   {
    "duration": 0,
    "start_time": "2022-04-04T09:49:54.585Z"
   },
   {
    "duration": 0,
    "start_time": "2022-04-04T09:49:54.587Z"
   },
   {
    "duration": 0,
    "start_time": "2022-04-04T09:49:54.589Z"
   },
   {
    "duration": 0,
    "start_time": "2022-04-04T09:49:54.590Z"
   },
   {
    "duration": 0,
    "start_time": "2022-04-04T09:49:54.592Z"
   },
   {
    "duration": 0,
    "start_time": "2022-04-04T09:49:54.594Z"
   },
   {
    "duration": 0,
    "start_time": "2022-04-04T09:49:54.596Z"
   },
   {
    "duration": 0,
    "start_time": "2022-04-04T09:49:54.598Z"
   },
   {
    "duration": 0,
    "start_time": "2022-04-04T09:49:54.600Z"
   },
   {
    "duration": 0,
    "start_time": "2022-04-04T09:49:54.601Z"
   },
   {
    "duration": 0,
    "start_time": "2022-04-04T09:49:54.603Z"
   },
   {
    "duration": 0,
    "start_time": "2022-04-04T09:49:54.605Z"
   },
   {
    "duration": 0,
    "start_time": "2022-04-04T09:49:54.606Z"
   },
   {
    "duration": 0,
    "start_time": "2022-04-04T09:49:54.608Z"
   },
   {
    "duration": 0,
    "start_time": "2022-04-04T09:49:54.611Z"
   },
   {
    "duration": 0,
    "start_time": "2022-04-04T09:49:54.612Z"
   },
   {
    "duration": 0,
    "start_time": "2022-04-04T09:49:54.614Z"
   },
   {
    "duration": 0,
    "start_time": "2022-04-04T09:49:54.668Z"
   },
   {
    "duration": 0,
    "start_time": "2022-04-04T09:49:54.669Z"
   },
   {
    "duration": 0,
    "start_time": "2022-04-04T09:49:54.670Z"
   },
   {
    "duration": 0,
    "start_time": "2022-04-04T09:49:54.675Z"
   },
   {
    "duration": 10,
    "start_time": "2022-04-04T09:50:51.647Z"
   },
   {
    "duration": 10,
    "start_time": "2022-04-04T09:50:53.546Z"
   },
   {
    "duration": 12,
    "start_time": "2022-04-04T09:50:59.389Z"
   },
   {
    "duration": 13,
    "start_time": "2022-04-04T09:50:59.982Z"
   },
   {
    "duration": 14,
    "start_time": "2022-04-04T09:51:09.533Z"
   },
   {
    "duration": 24,
    "start_time": "2022-04-04T09:51:10.081Z"
   },
   {
    "duration": 5,
    "start_time": "2022-04-04T09:51:26.414Z"
   },
   {
    "duration": 9,
    "start_time": "2022-04-04T09:51:26.925Z"
   },
   {
    "duration": 17,
    "start_time": "2022-04-04T09:51:34.478Z"
   },
   {
    "duration": 23,
    "start_time": "2022-04-04T09:51:35.071Z"
   },
   {
    "duration": 104,
    "start_time": "2022-04-04T09:52:53.550Z"
   },
   {
    "duration": 13,
    "start_time": "2022-04-04T09:52:59.201Z"
   },
   {
    "duration": 17,
    "start_time": "2022-04-04T09:52:59.951Z"
   },
   {
    "duration": 5,
    "start_time": "2022-04-04T09:54:16.207Z"
   },
   {
    "duration": 5,
    "start_time": "2022-04-04T09:54:16.783Z"
   },
   {
    "duration": 34,
    "start_time": "2022-04-04T09:54:33.496Z"
   },
   {
    "duration": 22,
    "start_time": "2022-04-04T09:54:34.300Z"
   },
   {
    "duration": 7,
    "start_time": "2022-04-04T09:54:40.542Z"
   },
   {
    "duration": 47,
    "start_time": "2022-04-04T09:54:40.554Z"
   },
   {
    "duration": 25,
    "start_time": "2022-04-04T09:54:40.603Z"
   },
   {
    "duration": 16,
    "start_time": "2022-04-04T09:54:40.633Z"
   },
   {
    "duration": 38,
    "start_time": "2022-04-04T09:54:40.651Z"
   },
   {
    "duration": 20,
    "start_time": "2022-04-04T09:54:40.691Z"
   },
   {
    "duration": 13,
    "start_time": "2022-04-04T09:54:40.713Z"
   },
   {
    "duration": 31,
    "start_time": "2022-04-04T09:54:40.768Z"
   },
   {
    "duration": 20,
    "start_time": "2022-04-04T09:54:40.802Z"
   },
   {
    "duration": 2696,
    "start_time": "2022-04-04T09:54:40.828Z"
   },
   {
    "duration": 8,
    "start_time": "2022-04-04T09:54:43.526Z"
   },
   {
    "duration": 17,
    "start_time": "2022-04-04T09:54:43.536Z"
   },
   {
    "duration": 36,
    "start_time": "2022-04-04T09:54:43.555Z"
   },
   {
    "duration": 8,
    "start_time": "2022-04-04T09:54:43.594Z"
   },
   {
    "duration": 7,
    "start_time": "2022-04-04T09:54:43.604Z"
   },
   {
    "duration": 8,
    "start_time": "2022-04-04T09:54:43.613Z"
   },
   {
    "duration": 49,
    "start_time": "2022-04-04T09:54:43.623Z"
   },
   {
    "duration": 13,
    "start_time": "2022-04-04T09:54:43.674Z"
   },
   {
    "duration": 20,
    "start_time": "2022-04-04T09:54:43.690Z"
   },
   {
    "duration": 38,
    "start_time": "2022-04-04T09:54:43.712Z"
   },
   {
    "duration": 50,
    "start_time": "2022-04-04T09:54:43.752Z"
   },
   {
    "duration": 88516,
    "start_time": "2022-04-04T09:54:43.806Z"
   },
   {
    "duration": 8,
    "start_time": "2022-04-04T09:56:12.325Z"
   },
   {
    "duration": 63,
    "start_time": "2022-04-04T09:56:12.335Z"
   },
   {
    "duration": 5,
    "start_time": "2022-04-04T09:56:12.400Z"
   },
   {
    "duration": 7,
    "start_time": "2022-04-04T09:56:12.407Z"
   },
   {
    "duration": 22,
    "start_time": "2022-04-04T09:56:12.416Z"
   },
   {
    "duration": 28,
    "start_time": "2022-04-04T09:56:12.443Z"
   },
   {
    "duration": 9,
    "start_time": "2022-04-04T09:56:12.478Z"
   },
   {
    "duration": 67119,
    "start_time": "2022-04-04T09:56:12.490Z"
   },
   {
    "duration": 8,
    "start_time": "2022-04-04T09:57:19.611Z"
   },
   {
    "duration": 173,
    "start_time": "2022-04-04T09:57:19.622Z"
   },
   {
    "duration": 8,
    "start_time": "2022-04-04T09:57:19.799Z"
   },
   {
    "duration": 7,
    "start_time": "2022-04-04T09:57:19.809Z"
   },
   {
    "duration": 5980,
    "start_time": "2022-04-04T09:57:19.819Z"
   },
   {
    "duration": 335,
    "start_time": "2022-04-04T09:57:25.867Z"
   },
   {
    "duration": 19,
    "start_time": "2022-04-04T09:57:26.204Z"
   },
   {
    "duration": 5,
    "start_time": "2022-04-04T09:57:26.225Z"
   },
   {
    "duration": 1314,
    "start_time": "2022-04-04T09:57:26.232Z"
   },
   {
    "duration": 24,
    "start_time": "2022-04-04T09:57:27.548Z"
   },
   {
    "duration": 48,
    "start_time": "2022-04-04T09:57:27.577Z"
   },
   {
    "duration": 5,
    "start_time": "2022-04-04T09:57:27.628Z"
   },
   {
    "duration": 16,
    "start_time": "2022-04-04T09:57:27.635Z"
   },
   {
    "duration": 6,
    "start_time": "2022-04-04T09:57:27.679Z"
   },
   {
    "duration": 87356,
    "start_time": "2022-04-04T09:59:57.683Z"
   },
   {
    "duration": 9,
    "start_time": "2022-04-04T10:01:25.042Z"
   },
   {
    "duration": 199,
    "start_time": "2022-04-04T10:01:47.324Z"
   },
   {
    "duration": 160949,
    "start_time": "2022-04-04T10:06:05.650Z"
   },
   {
    "duration": 8,
    "start_time": "2022-04-04T10:08:46.602Z"
   },
   {
    "duration": 1081,
    "start_time": "2022-04-04T10:24:23.348Z"
   },
   {
    "duration": 9,
    "start_time": "2022-04-04T10:24:24.662Z"
   },
   {
    "duration": 1086,
    "start_time": "2022-04-04T10:24:56.469Z"
   },
   {
    "duration": 7,
    "start_time": "2022-04-04T10:24:59.220Z"
   },
   {
    "duration": 38,
    "start_time": "2022-04-04T10:26:05.619Z"
   },
   {
    "duration": 5,
    "start_time": "2022-04-04T10:26:06.441Z"
   },
   {
    "duration": 9,
    "start_time": "2022-04-04T10:26:36.100Z"
   },
   {
    "duration": 4,
    "start_time": "2022-04-04T10:26:36.581Z"
   },
   {
    "duration": 8,
    "start_time": "2022-04-04T10:59:58.204Z"
   },
   {
    "duration": 48,
    "start_time": "2022-04-04T10:59:58.214Z"
   },
   {
    "duration": 24,
    "start_time": "2022-04-04T10:59:58.264Z"
   },
   {
    "duration": 13,
    "start_time": "2022-04-04T10:59:58.291Z"
   },
   {
    "duration": 21,
    "start_time": "2022-04-04T10:59:58.306Z"
   },
   {
    "duration": 49,
    "start_time": "2022-04-04T10:59:58.330Z"
   },
   {
    "duration": 13,
    "start_time": "2022-04-04T10:59:58.382Z"
   },
   {
    "duration": 21,
    "start_time": "2022-04-04T10:59:58.397Z"
   },
   {
    "duration": 8,
    "start_time": "2022-04-04T10:59:58.421Z"
   },
   {
    "duration": 2465,
    "start_time": "2022-04-04T10:59:58.433Z"
   },
   {
    "duration": 9,
    "start_time": "2022-04-04T11:00:00.900Z"
   },
   {
    "duration": 30,
    "start_time": "2022-04-04T11:00:00.912Z"
   },
   {
    "duration": 27,
    "start_time": "2022-04-04T11:00:00.945Z"
   },
   {
    "duration": 25,
    "start_time": "2022-04-04T11:00:00.975Z"
   },
   {
    "duration": 10,
    "start_time": "2022-04-04T11:00:01.002Z"
   },
   {
    "duration": 24,
    "start_time": "2022-04-04T11:00:01.015Z"
   },
   {
    "duration": 24,
    "start_time": "2022-04-04T11:00:01.041Z"
   },
   {
    "duration": 16,
    "start_time": "2022-04-04T11:00:01.067Z"
   },
   {
    "duration": 28,
    "start_time": "2022-04-04T11:00:01.085Z"
   },
   {
    "duration": 47,
    "start_time": "2022-04-04T11:00:01.115Z"
   },
   {
    "duration": 29,
    "start_time": "2022-04-04T11:00:01.165Z"
   },
   {
    "duration": 80782,
    "start_time": "2022-04-04T11:00:01.197Z"
   },
   {
    "duration": 9,
    "start_time": "2022-04-04T11:01:21.981Z"
   },
   {
    "duration": 55,
    "start_time": "2022-04-04T11:01:21.993Z"
   },
   {
    "duration": 4,
    "start_time": "2022-04-04T11:01:22.051Z"
   },
   {
    "duration": 35,
    "start_time": "2022-04-04T11:01:22.068Z"
   },
   {
    "duration": 43,
    "start_time": "2022-04-04T11:01:22.106Z"
   },
   {
    "duration": 12,
    "start_time": "2022-04-04T11:01:22.154Z"
   },
   {
    "duration": 41,
    "start_time": "2022-04-04T11:01:22.168Z"
   },
   {
    "duration": 160330,
    "start_time": "2022-04-04T11:01:22.211Z"
   },
   {
    "duration": 24,
    "start_time": "2022-04-04T11:04:02.544Z"
   },
   {
    "duration": 212,
    "start_time": "2022-04-04T11:04:02.570Z"
   },
   {
    "duration": 7,
    "start_time": "2022-04-04T11:04:02.785Z"
   },
   {
    "duration": 15,
    "start_time": "2022-04-04T11:04:02.794Z"
   },
   {
    "duration": 6261,
    "start_time": "2022-04-04T11:04:02.811Z"
   },
   {
    "duration": 316,
    "start_time": "2022-04-04T11:04:09.075Z"
   },
   {
    "duration": 18,
    "start_time": "2022-04-04T11:04:09.394Z"
   },
   {
    "duration": 13,
    "start_time": "2022-04-04T11:04:09.414Z"
   },
   {
    "duration": 1125,
    "start_time": "2022-04-04T11:04:09.430Z"
   },
   {
    "duration": 20,
    "start_time": "2022-04-04T11:04:10.557Z"
   },
   {
    "duration": 62,
    "start_time": "2022-04-04T11:04:10.580Z"
   },
   {
    "duration": 5,
    "start_time": "2022-04-04T11:04:10.644Z"
   },
   {
    "duration": 13,
    "start_time": "2022-04-04T11:04:10.651Z"
   },
   {
    "duration": 16,
    "start_time": "2022-04-04T11:04:10.667Z"
   },
   {
    "duration": 235,
    "start_time": "2022-04-04T11:07:45.324Z"
   },
   {
    "duration": 262,
    "start_time": "2022-04-04T11:08:08.479Z"
   },
   {
    "duration": 107,
    "start_time": "2022-04-04T11:08:19.008Z"
   },
   {
    "duration": 216,
    "start_time": "2022-04-04T11:08:28.690Z"
   },
   {
    "duration": 138,
    "start_time": "2022-04-04T11:12:46.298Z"
   },
   {
    "duration": 305,
    "start_time": "2022-04-04T11:15:08.395Z"
   },
   {
    "duration": 198,
    "start_time": "2022-04-04T11:15:53.916Z"
   },
   {
    "duration": 1019,
    "start_time": "2022-04-04T11:17:57.343Z"
   },
   {
    "duration": 9,
    "start_time": "2022-04-04T11:17:59.454Z"
   },
   {
    "duration": 39,
    "start_time": "2022-04-04T11:19:42.379Z"
   },
   {
    "duration": 5,
    "start_time": "2022-04-04T11:19:42.942Z"
   },
   {
    "duration": 49,
    "start_time": "2022-04-04T13:49:47.420Z"
   },
   {
    "duration": 7,
    "start_time": "2022-04-04T13:52:16.829Z"
   },
   {
    "duration": 1795,
    "start_time": "2022-04-04T13:52:21.670Z"
   },
   {
    "duration": 366,
    "start_time": "2022-04-04T13:52:23.468Z"
   },
   {
    "duration": 16,
    "start_time": "2022-04-04T13:52:23.836Z"
   },
   {
    "duration": 4,
    "start_time": "2022-04-04T13:52:23.854Z"
   },
   {
    "duration": 13,
    "start_time": "2022-04-04T13:52:23.860Z"
   },
   {
    "duration": 12,
    "start_time": "2022-04-04T13:52:23.875Z"
   },
   {
    "duration": 8,
    "start_time": "2022-04-04T13:52:23.889Z"
   },
   {
    "duration": 13,
    "start_time": "2022-04-04T13:52:23.899Z"
   },
   {
    "duration": 8,
    "start_time": "2022-04-04T13:52:23.914Z"
   },
   {
    "duration": 1376,
    "start_time": "2022-04-04T13:52:23.925Z"
   },
   {
    "duration": 6,
    "start_time": "2022-04-04T13:52:25.302Z"
   },
   {
    "duration": 12,
    "start_time": "2022-04-04T13:52:25.310Z"
   },
   {
    "duration": 10,
    "start_time": "2022-04-04T13:52:25.323Z"
   },
   {
    "duration": 5,
    "start_time": "2022-04-04T13:52:25.335Z"
   },
   {
    "duration": 9,
    "start_time": "2022-04-04T13:52:25.341Z"
   },
   {
    "duration": 8,
    "start_time": "2022-04-04T13:52:25.352Z"
   },
   {
    "duration": 39,
    "start_time": "2022-04-04T13:52:25.362Z"
   },
   {
    "duration": 4,
    "start_time": "2022-04-04T13:52:25.403Z"
   },
   {
    "duration": 10,
    "start_time": "2022-04-04T13:52:25.409Z"
   },
   {
    "duration": 27,
    "start_time": "2022-04-04T13:52:25.420Z"
   },
   {
    "duration": 14,
    "start_time": "2022-04-04T13:52:25.448Z"
   },
   {
    "duration": 52220,
    "start_time": "2022-04-04T13:52:25.464Z"
   },
   {
    "duration": 5,
    "start_time": "2022-04-04T13:53:17.686Z"
   },
   {
    "duration": 34,
    "start_time": "2022-04-04T13:53:17.692Z"
   },
   {
    "duration": 4,
    "start_time": "2022-04-04T13:53:17.727Z"
   },
   {
    "duration": 6,
    "start_time": "2022-04-04T13:53:17.732Z"
   },
   {
    "duration": 13,
    "start_time": "2022-04-04T13:53:17.740Z"
   },
   {
    "duration": 4,
    "start_time": "2022-04-04T13:53:17.757Z"
   },
   {
    "duration": 5,
    "start_time": "2022-04-04T13:53:17.763Z"
   },
   {
    "duration": 32,
    "start_time": "2022-04-04T13:53:17.769Z"
   },
   {
    "duration": 86,
    "start_time": "2022-04-04T13:53:17.803Z"
   },
   {
    "duration": 0,
    "start_time": "2022-04-04T13:53:17.891Z"
   },
   {
    "duration": 0,
    "start_time": "2022-04-04T13:53:17.893Z"
   },
   {
    "duration": 0,
    "start_time": "2022-04-04T13:53:17.901Z"
   },
   {
    "duration": 0,
    "start_time": "2022-04-04T13:53:17.903Z"
   },
   {
    "duration": 0,
    "start_time": "2022-04-04T13:53:17.904Z"
   },
   {
    "duration": 0,
    "start_time": "2022-04-04T13:53:17.905Z"
   },
   {
    "duration": 0,
    "start_time": "2022-04-04T13:53:17.906Z"
   },
   {
    "duration": 0,
    "start_time": "2022-04-04T13:53:17.907Z"
   },
   {
    "duration": 0,
    "start_time": "2022-04-04T13:53:17.909Z"
   },
   {
    "duration": 0,
    "start_time": "2022-04-04T13:53:17.910Z"
   },
   {
    "duration": 0,
    "start_time": "2022-04-04T13:53:17.911Z"
   },
   {
    "duration": 0,
    "start_time": "2022-04-04T13:53:17.912Z"
   },
   {
    "duration": 0,
    "start_time": "2022-04-04T13:53:17.913Z"
   },
   {
    "duration": 0,
    "start_time": "2022-04-04T13:53:17.914Z"
   },
   {
    "duration": 0,
    "start_time": "2022-04-04T13:53:17.917Z"
   },
   {
    "duration": 0,
    "start_time": "2022-04-04T13:53:17.918Z"
   },
   {
    "duration": 5,
    "start_time": "2022-04-04T13:54:44.347Z"
   },
   {
    "duration": 19,
    "start_time": "2022-04-04T13:55:11.629Z"
   },
   {
    "duration": 5,
    "start_time": "2022-04-04T14:00:50.847Z"
   },
   {
    "duration": 32,
    "start_time": "2022-04-04T14:00:50.853Z"
   },
   {
    "duration": 10,
    "start_time": "2022-04-04T14:00:50.887Z"
   },
   {
    "duration": 5,
    "start_time": "2022-04-04T14:00:50.899Z"
   },
   {
    "duration": 13,
    "start_time": "2022-04-04T14:00:50.905Z"
   },
   {
    "duration": 12,
    "start_time": "2022-04-04T14:00:50.919Z"
   },
   {
    "duration": 8,
    "start_time": "2022-04-04T14:00:50.932Z"
   },
   {
    "duration": 13,
    "start_time": "2022-04-04T14:00:50.941Z"
   },
   {
    "duration": 46,
    "start_time": "2022-04-04T14:00:50.955Z"
   },
   {
    "duration": 1354,
    "start_time": "2022-04-04T14:00:51.004Z"
   },
   {
    "duration": 6,
    "start_time": "2022-04-04T14:00:52.360Z"
   },
   {
    "duration": 11,
    "start_time": "2022-04-04T14:00:52.368Z"
   },
   {
    "duration": 24,
    "start_time": "2022-04-04T14:00:52.381Z"
   },
   {
    "duration": 6,
    "start_time": "2022-04-04T14:00:52.406Z"
   },
   {
    "duration": 5,
    "start_time": "2022-04-04T14:00:52.414Z"
   },
   {
    "duration": 6,
    "start_time": "2022-04-04T14:00:52.421Z"
   },
   {
    "duration": 5,
    "start_time": "2022-04-04T14:00:52.429Z"
   },
   {
    "duration": 5,
    "start_time": "2022-04-04T14:00:52.436Z"
   },
   {
    "duration": 10,
    "start_time": "2022-04-04T14:00:52.443Z"
   },
   {
    "duration": 65,
    "start_time": "2022-04-04T14:00:52.455Z"
   },
   {
    "duration": 15,
    "start_time": "2022-04-04T14:00:52.522Z"
   },
   {
    "duration": 52076,
    "start_time": "2022-04-04T14:00:52.539Z"
   },
   {
    "duration": 4,
    "start_time": "2022-04-04T14:01:44.617Z"
   },
   {
    "duration": 26,
    "start_time": "2022-04-04T14:01:44.623Z"
   },
   {
    "duration": 3,
    "start_time": "2022-04-04T14:01:44.651Z"
   },
   {
    "duration": 5,
    "start_time": "2022-04-04T14:01:44.655Z"
   },
   {
    "duration": 13,
    "start_time": "2022-04-04T14:01:44.661Z"
   },
   {
    "duration": 5,
    "start_time": "2022-04-04T14:01:44.702Z"
   },
   {
    "duration": 5,
    "start_time": "2022-04-04T14:01:44.708Z"
   },
   {
    "duration": 4,
    "start_time": "2022-04-04T14:01:44.715Z"
   },
   {
    "duration": 23,
    "start_time": "2022-04-04T14:01:44.721Z"
   },
   {
    "duration": 0,
    "start_time": "2022-04-04T14:01:44.745Z"
   },
   {
    "duration": 0,
    "start_time": "2022-04-04T14:01:44.746Z"
   },
   {
    "duration": 0,
    "start_time": "2022-04-04T14:01:44.747Z"
   },
   {
    "duration": 0,
    "start_time": "2022-04-04T14:01:44.748Z"
   },
   {
    "duration": 0,
    "start_time": "2022-04-04T14:01:44.750Z"
   },
   {
    "duration": 0,
    "start_time": "2022-04-04T14:01:44.751Z"
   },
   {
    "duration": 0,
    "start_time": "2022-04-04T14:01:44.752Z"
   },
   {
    "duration": 0,
    "start_time": "2022-04-04T14:01:44.752Z"
   },
   {
    "duration": 0,
    "start_time": "2022-04-04T14:01:44.754Z"
   },
   {
    "duration": 0,
    "start_time": "2022-04-04T14:01:44.755Z"
   },
   {
    "duration": 0,
    "start_time": "2022-04-04T14:01:44.756Z"
   },
   {
    "duration": 0,
    "start_time": "2022-04-04T14:01:44.757Z"
   },
   {
    "duration": 0,
    "start_time": "2022-04-04T14:01:44.758Z"
   },
   {
    "duration": 0,
    "start_time": "2022-04-04T14:01:44.759Z"
   },
   {
    "duration": 0,
    "start_time": "2022-04-04T14:01:44.760Z"
   },
   {
    "duration": 0,
    "start_time": "2022-04-04T14:01:44.761Z"
   },
   {
    "duration": 0,
    "start_time": "2022-04-04T14:01:44.762Z"
   },
   {
    "duration": 20,
    "start_time": "2022-04-04T14:06:05.261Z"
   },
   {
    "duration": 17,
    "start_time": "2022-04-04T14:06:12.413Z"
   },
   {
    "duration": 19,
    "start_time": "2022-04-04T14:06:17.373Z"
   },
   {
    "duration": 18,
    "start_time": "2022-04-04T14:06:23.278Z"
   },
   {
    "duration": 5,
    "start_time": "2022-04-04T14:07:35.245Z"
   },
   {
    "duration": 4,
    "start_time": "2022-04-04T14:07:43.299Z"
   },
   {
    "duration": 9,
    "start_time": "2022-04-04T14:07:43.836Z"
   },
   {
    "duration": 5,
    "start_time": "2022-04-04T14:07:45.828Z"
   },
   {
    "duration": 4,
    "start_time": "2022-04-04T14:07:49.292Z"
   },
   {
    "duration": 5,
    "start_time": "2022-04-04T14:09:26.270Z"
   },
   {
    "duration": 44,
    "start_time": "2022-04-04T14:09:26.277Z"
   },
   {
    "duration": 12,
    "start_time": "2022-04-04T14:09:26.322Z"
   },
   {
    "duration": 14,
    "start_time": "2022-04-04T14:09:26.337Z"
   },
   {
    "duration": 13,
    "start_time": "2022-04-04T14:09:26.353Z"
   },
   {
    "duration": 19,
    "start_time": "2022-04-04T14:09:26.368Z"
   },
   {
    "duration": 7,
    "start_time": "2022-04-04T14:09:26.401Z"
   },
   {
    "duration": 12,
    "start_time": "2022-04-04T14:09:26.410Z"
   },
   {
    "duration": 10,
    "start_time": "2022-04-04T14:09:26.424Z"
   },
   {
    "duration": 1347,
    "start_time": "2022-04-04T14:09:26.436Z"
   },
   {
    "duration": 16,
    "start_time": "2022-04-04T14:09:27.785Z"
   },
   {
    "duration": 9,
    "start_time": "2022-04-04T14:09:27.803Z"
   },
   {
    "duration": 13,
    "start_time": "2022-04-04T14:09:27.813Z"
   },
   {
    "duration": 19,
    "start_time": "2022-04-04T14:09:27.828Z"
   },
   {
    "duration": 17,
    "start_time": "2022-04-04T14:09:27.848Z"
   },
   {
    "duration": 6,
    "start_time": "2022-04-04T14:09:27.867Z"
   },
   {
    "duration": 5,
    "start_time": "2022-04-04T14:09:27.874Z"
   },
   {
    "duration": 4,
    "start_time": "2022-04-04T14:09:27.881Z"
   },
   {
    "duration": 20,
    "start_time": "2022-04-04T14:09:27.887Z"
   },
   {
    "duration": 26,
    "start_time": "2022-04-04T14:09:27.908Z"
   },
   {
    "duration": 15,
    "start_time": "2022-04-04T14:09:27.936Z"
   },
   {
    "duration": 52241,
    "start_time": "2022-04-04T14:09:27.953Z"
   },
   {
    "duration": 11,
    "start_time": "2022-04-04T14:10:20.195Z"
   },
   {
    "duration": 30,
    "start_time": "2022-04-04T14:10:20.208Z"
   },
   {
    "duration": 3,
    "start_time": "2022-04-04T14:10:20.240Z"
   },
   {
    "duration": 5,
    "start_time": "2022-04-04T14:10:20.245Z"
   },
   {
    "duration": 16,
    "start_time": "2022-04-04T14:10:20.252Z"
   },
   {
    "duration": 30,
    "start_time": "2022-04-04T14:10:20.272Z"
   },
   {
    "duration": 4,
    "start_time": "2022-04-04T14:10:20.303Z"
   },
   {
    "duration": 7,
    "start_time": "2022-04-04T14:10:20.309Z"
   },
   {
    "duration": 32,
    "start_time": "2022-04-04T14:10:20.318Z"
   },
   {
    "duration": 15,
    "start_time": "2022-04-04T14:10:20.352Z"
   },
   {
    "duration": 15,
    "start_time": "2022-04-04T14:10:20.369Z"
   },
   {
    "duration": 100126,
    "start_time": "2022-04-04T14:10:20.385Z"
   },
   {
    "duration": 6,
    "start_time": "2022-04-04T14:12:00.512Z"
   },
   {
    "duration": 102,
    "start_time": "2022-04-04T14:12:00.519Z"
   },
   {
    "duration": 5,
    "start_time": "2022-04-04T14:12:00.622Z"
   },
   {
    "duration": 29,
    "start_time": "2022-04-04T14:12:00.628Z"
   },
   {
    "duration": 3352,
    "start_time": "2022-04-04T14:12:00.659Z"
   },
   {
    "duration": 329,
    "start_time": "2022-04-04T14:12:04.102Z"
   },
   {
    "duration": 14,
    "start_time": "2022-04-04T14:12:04.432Z"
   },
   {
    "duration": 3,
    "start_time": "2022-04-04T14:12:04.448Z"
   },
   {
    "duration": 718,
    "start_time": "2022-04-04T14:12:04.453Z"
   },
   {
    "duration": 5,
    "start_time": "2022-04-04T14:12:05.173Z"
   },
   {
    "duration": 42,
    "start_time": "2022-04-04T14:12:05.179Z"
   },
   {
    "duration": 3,
    "start_time": "2022-04-04T14:12:05.222Z"
   },
   {
    "duration": 8,
    "start_time": "2022-04-04T14:12:05.227Z"
   },
   {
    "duration": 3,
    "start_time": "2022-04-04T14:12:05.237Z"
   },
   {
    "duration": 42793,
    "start_time": "2022-04-04T14:14:04.431Z"
   },
   {
    "duration": 97787,
    "start_time": "2022-04-04T14:15:19.664Z"
   }
  ],
  "kernelspec": {
   "display_name": "Python 3",
   "language": "python",
   "name": "python3"
  },
  "language_info": {
   "codemirror_mode": {
    "name": "ipython",
    "version": 3
   },
   "file_extension": ".py",
   "mimetype": "text/x-python",
   "name": "python",
   "nbconvert_exporter": "python",
   "pygments_lexer": "ipython3",
   "version": "3.10.7 (tags/v3.10.7:6cc6b13, Sep  5 2022, 14:08:36) [MSC v.1933 64 bit (AMD64)]"
  },
  "toc": {
   "base_numbering": 1,
   "nav_menu": {},
   "number_sections": true,
   "sideBar": true,
   "skip_h1_title": true,
   "title_cell": "Содержание",
   "title_sidebar": "Contents",
   "toc_cell": true,
   "toc_position": {
    "height": "calc(100% - 180px)",
    "left": "10px",
    "top": "150px",
    "width": "400.996px"
   },
   "toc_section_display": true,
   "toc_window_display": true
  },
  "vscode": {
   "interpreter": {
    "hash": "55897f39ac7fcb5d9dfece991134c735844144358f4a79aa62d757304fbf59da"
   }
  }
 },
 "nbformat": 4,
 "nbformat_minor": 2
}
