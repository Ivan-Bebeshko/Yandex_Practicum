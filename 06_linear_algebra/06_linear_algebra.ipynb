{
 "cells": [
  {
   "cell_type": "markdown",
   "metadata": {
    "toc": true
   },
   "source": [
    "<h1>Содержание<span class=\"tocSkip\"></span></h1>\n",
    "<div class=\"toc\"><ul class=\"toc-item\"><li><span><a href=\"#Загрузка-данных\" data-toc-modified-id=\"Загрузка-данных-1\"><span class=\"toc-item-num\">1&nbsp;&nbsp;</span>Загрузка данных</a></span></li><li><span><a href=\"#Умножение-матриц\" data-toc-modified-id=\"Умножение-матриц-2\"><span class=\"toc-item-num\">2&nbsp;&nbsp;</span>Умножение матриц</a></span><ul class=\"toc-item\"><li><span><a href=\"#Ответ\" data-toc-modified-id=\"Ответ-2.1\"><span class=\"toc-item-num\">2.1&nbsp;&nbsp;</span>Ответ</a></span></li><li><span><a href=\"#Обоснование\" data-toc-modified-id=\"Обоснование-2.2\"><span class=\"toc-item-num\">2.2&nbsp;&nbsp;</span>Обоснование</a></span></li></ul></li><li><span><a href=\"#Алгоритм-преобразования\" data-toc-modified-id=\"Алгоритм-преобразования-3\"><span class=\"toc-item-num\">3&nbsp;&nbsp;</span>Алгоритм преобразования</a></span><ul class=\"toc-item\"><li><span><a href=\"#Алгоритм\" data-toc-modified-id=\"Алгоритм-3.1\"><span class=\"toc-item-num\">3.1&nbsp;&nbsp;</span>Алгоритм</a></span></li><li><span><a href=\"#Обоснование\" data-toc-modified-id=\"Обоснование-3.2\"><span class=\"toc-item-num\">3.2&nbsp;&nbsp;</span>Обоснование</a></span></li></ul></li><li><span><a href=\"#Проверка-алгоритма:-расчеты\" data-toc-modified-id=\"Проверка-алгоритма:-расчеты-4\"><span class=\"toc-item-num\">4&nbsp;&nbsp;</span>Проверка алгоритма: расчеты</a></span><ul class=\"toc-item\"><li><span><a href=\"#до-кодирования\" data-toc-modified-id=\"до-кодирования-4.1\"><span class=\"toc-item-num\">4.1&nbsp;&nbsp;</span>до кодирования</a></span></li><li><span><a href=\"#после-кодирования\" data-toc-modified-id=\"после-кодирования-4.2\"><span class=\"toc-item-num\">4.2&nbsp;&nbsp;</span>после кодирования</a></span></li></ul></li><li><span><a href=\"#Вывод\" data-toc-modified-id=\"Вывод-5\"><span class=\"toc-item-num\">5&nbsp;&nbsp;</span>Вывод</a></span></li><li><span><a href=\"#Чек-лист-проверки\" data-toc-modified-id=\"Чек-лист-проверки-6\"><span class=\"toc-item-num\">6&nbsp;&nbsp;</span>Чек-лист проверки</a></span></li></ul></div>"
   ]
  },
  {
   "cell_type": "markdown",
   "metadata": {},
   "source": [
    "# Защита персональных данных клиентов"
   ]
  },
  {
   "attachments": {},
   "cell_type": "markdown",
   "metadata": {},
   "source": [
    "Вам нужно защитить данные клиентов страховой компании:\n",
    "- Разработать такой метод преобразования данных, чтобы по ним было сложно восстановить персональную информацию.\n",
    "- Обосновать корректность его работы.\n",
    "- При преобразовании качество моделей машинного обучения не должно ухудшиться. Подбирать наилучшую модель не требуется."
   ]
  },
  {
   "cell_type": "markdown",
   "metadata": {},
   "source": [
    "**Описание данных**:\n",
    "- `Признаки:` пол, возраст и зарплата застрахованного, количество членов его семьи.\n",
    "- `Целевой признак:` количество страховых выплат клиенту за последние 5 лет."
   ]
  },
  {
   "cell_type": "markdown",
   "metadata": {},
   "source": [
    "## Загрузка данных"
   ]
  },
  {
   "cell_type": "code",
   "execution_count": 1,
   "metadata": {},
   "outputs": [],
   "source": [
    "import pandas as pd                                    # программная библиотека для обработки и анализа данных, поверх библиотеки NumPy\n",
    "import numpy as np                                     # поддержка многомерных массивов; поддержка высокоуровневых математических функций\n",
    "import matplotlib.pyplot as plt                        # библиотека для визуализации данных двумерной графикой\n",
    "\n",
    "from sklearn.model_selection import train_test_split   # функция train_test_split для разделения датафрейма\n",
    "\n",
    "from sklearn.metrics import r2_score                   # импорт метрики качества из библиотеки sklearn"
   ]
  },
  {
   "cell_type": "code",
   "execution_count": 2,
   "metadata": {},
   "outputs": [],
   "source": [
    "df = pd.read_csv('/datasets/insurance.csv') #серверный путь к файлу"
   ]
  },
  {
   "cell_type": "code",
   "execution_count": 3,
   "metadata": {},
   "outputs": [],
   "source": [
    "def data_description(dataframe):\n",
    "    print('\\033[1m' \"Общий вид данных\" '\\033[0m')\n",
    "    print(dataframe.head())\n",
    "    print()\n",
    "    print('\\033[1m' \"Общая информация о датафрейме и типе данных\" '\\033[0m')\n",
    "    print(dataframe.info())\n",
    "    print()\n",
    "    print('\\033[1m' \"Описание данных в столбцах датафрейма\" '\\033[0m')\n",
    "    print(round(dataframe.describe(),2))\n",
    "    print()\n",
    "    print('\\033[1m' \"Количество пропусков\" '\\033[0m')\n",
    "    print(dataframe.isna().sum())\n",
    "    print()\n",
    "    print('\\033[1m' \"Количество дубликатов\" '\\033[0m')\n",
    "    print(dataframe.duplicated().sum())\n",
    "    print()\n",
    "    print('\\033[1m' \"Количество дубликатов в %\" '\\033[0m')\n",
    "    print(dataframe.duplicated().sum()/dataframe.shape[0]*100)\n",
    "    print()\n",
    "    for column in dataframe.columns:\n",
    "        dataframe[column].hist(\n",
    "            bins=100,\n",
    "            grid=True,\n",
    "            figsize=(15,3),\n",
    "            color='green').set_xlabel(column)\n",
    "        plt.show()\n",
    "    \n",
    "    "
   ]
  },
  {
   "cell_type": "code",
   "execution_count": 4,
   "metadata": {},
   "outputs": [
    {
     "name": "stdout",
     "output_type": "stream",
     "text": [
      "\u001b[1mОбщий вид данных\u001b[0m\n",
      "   Пол  Возраст  Зарплата  Члены семьи  Страховые выплаты\n",
      "0    1     41.0   49600.0            1                  0\n",
      "1    0     46.0   38000.0            1                  1\n",
      "2    0     29.0   21000.0            0                  0\n",
      "3    0     21.0   41700.0            2                  0\n",
      "4    1     28.0   26100.0            0                  0\n",
      "\n",
      "\u001b[1mОбщая информация о датафрейме и типе данных\u001b[0m\n",
      "<class 'pandas.core.frame.DataFrame'>\n",
      "RangeIndex: 5000 entries, 0 to 4999\n",
      "Data columns (total 5 columns):\n",
      " #   Column             Non-Null Count  Dtype  \n",
      "---  ------             --------------  -----  \n",
      " 0   Пол                5000 non-null   int64  \n",
      " 1   Возраст            5000 non-null   float64\n",
      " 2   Зарплата           5000 non-null   float64\n",
      " 3   Члены семьи        5000 non-null   int64  \n",
      " 4   Страховые выплаты  5000 non-null   int64  \n",
      "dtypes: float64(2), int64(3)\n",
      "memory usage: 195.4 KB\n",
      "None\n",
      "\n",
      "\u001b[1mОписание данных в столбцах датафрейма\u001b[0m\n",
      "          Пол  Возраст  Зарплата  Члены семьи  Страховые выплаты\n",
      "count  5000.0  5000.00   5000.00      5000.00            5000.00\n",
      "mean      0.5    30.95  39916.36         1.19               0.15\n",
      "std       0.5     8.44   9900.08         1.09               0.46\n",
      "min       0.0    18.00   5300.00         0.00               0.00\n",
      "25%       0.0    24.00  33300.00         0.00               0.00\n",
      "50%       0.0    30.00  40200.00         1.00               0.00\n",
      "75%       1.0    37.00  46600.00         2.00               0.00\n",
      "max       1.0    65.00  79000.00         6.00               5.00\n",
      "\n",
      "\u001b[1mКоличество пропусков\u001b[0m\n",
      "Пол                  0\n",
      "Возраст              0\n",
      "Зарплата             0\n",
      "Члены семьи          0\n",
      "Страховые выплаты    0\n",
      "dtype: int64\n",
      "\n",
      "\u001b[1mКоличество дубликатов\u001b[0m\n",
      "153\n",
      "\n",
      "\u001b[1mКоличество дубликатов в %\u001b[0m\n",
      "3.06\n",
      "\n"
     ]
    },
    {
     "data": {
      "image/png": "[encoded data removed]",
      "text/plain": [
       "<Figure size 1080x216 with 1 Axes>"
      ]
     },
     "metadata": {
      "needs_background": "light"
     },
     "output_type": "display_data"
    },
    {
     "data": {
      "image/png": "[encoded data removed]",
      "text/plain": [
       "<Figure size 1080x216 with 1 Axes>"
      ]
     },
     "metadata": {
      "needs_background": "light"
     },
     "output_type": "display_data"
    },
    {
     "data": {
      "image/png": "[encoded data removed]",
      "text/plain": [
       "<Figure size 1080x216 with 1 Axes>"
      ]
     },
     "metadata": {
      "needs_background": "light"
     },
     "output_type": "display_data"
    },
    {
     "data": {
      "image/png": "[encoded data removed]",
      "text/plain": [
       "<Figure size 1080x216 with 1 Axes>"
      ]
     },
     "metadata": {
      "needs_background": "light"
     },
     "output_type": "display_data"
    },
    {
     "data": {
      "image/png": "[encoded data removed]",
      "text/plain": [
       "<Figure size 1080x216 with 1 Axes>"
      ]
     },
     "metadata": {
      "needs_background": "light"
     },
     "output_type": "display_data"
    }
   ],
   "source": [
    "data_description(df)"
   ]
  },
  {
   "cell_type": "markdown",
   "metadata": {},
   "source": [
    "**Выводы и решения:**\n",
    "- Датафрейм представлен числовыми значениями.\n",
    "    - Можно изменить тип данных до целого числа, т.к. возраст и заработная плата предствлены дробным числом.\n",
    "- Пропусков в данных нет, выбросов нет согласно анализу гистограмм.\n",
    "- Есть дубликаты, которые удалять не будем ввиду их незначительного количества.\n",
    "- Вопрос, который надо уточнить: члены семьи равные нулю - это клиенты холостые или бездетные?"
   ]
  },
  {
   "cell_type": "markdown",
   "metadata": {},
   "source": [
    "## Умножение матриц"
   ]
  },
  {
   "cell_type": "markdown",
   "metadata": {},
   "source": [
    "Обозначения:\n",
    "\n",
    "- $X$ — матрица признаков (нулевой столбец состоит из единиц)\n",
    "\n",
    "- $X^T$ — транспонированная матрица, столбцы становятся строками\n",
    "\n",
    "- $y$ — вектор целевого признака\n",
    "\n",
    "- $P$ — матрица, на которую умножаются признаки (квадратная)\n",
    "\n",
    "- $w$ — вектор весов линейной регрессии (нулевой элемент равен сдвигу)\n",
    "\n",
    "- $(matrix)^{-1}$ — обратная для квадратной матрицы, произведение котороых равно единичной матрице. "
   ]
  },
  {
   "cell_type": "markdown",
   "metadata": {},
   "source": [
    "Предсказания — умножить признаки на вес каждого:\n",
    "\n",
    "$$\n",
    "a = Xw\n",
    "$$\n",
    "\n",
    "Задача обучения — минимизировать ошибку: разницу между предсказанием и фактом:\n",
    "\n",
    "$$\n",
    "w = \\arg\\min_w MSE(Xw, y)\n",
    "$$\n",
    "\n",
    "Формула обучения — взята производная, поиск локального минимума:\n",
    "\n",
    "$$\n",
    "w = (X^T X)^{-1} X^T y\n",
    "$$"
   ]
  },
  {
   "cell_type": "markdown",
   "metadata": {},
   "source": [
    "Укажем размерности матриц и векторов:\n",
    "\n",
    "- $X$ — *m x n*\n",
    "- $P$ — *n x n*\n",
    "- $XP$ — *m x n*\n",
    "- $X^T$ — *n x m*\n",
    "- $P^T$ — *n x n*\n",
    "- $X^T X$ — *(n x m) X (m x n) = n x n*\n",
    "- $y$ — *m*\n",
    "- $(matrix)^{-1}$ — *n x n*: размер не меняется для квадратной матрицы "
   ]
  },
  {
   "cell_type": "markdown",
   "metadata": {},
   "source": [
    "### Ответ"
   ]
  },
  {
   "cell_type": "markdown",
   "metadata": {},
   "source": [
    "Гипотеза H0 - предсказания модели не изменятся, равны."
   ]
  },
  {
   "cell_type": "markdown",
   "metadata": {},
   "source": [
    "### Обоснование"
   ]
  },
  {
   "cell_type": "markdown",
   "metadata": {},
   "source": [
    "1. Подставим в формулу $𝑋𝑃$:"
   ]
  },
  {
   "cell_type": "markdown",
   "metadata": {},
   "source": [
    "$$\n",
    "w_P = ((XP)^T XP)^{-1} (XP)^T y\n",
    "$$"
   ]
  },
  {
   "cell_type": "markdown",
   "metadata": {},
   "source": [
    "2. Раскроем скобки по правилу: $(AB)^T = B^TA^T$"
   ]
  },
  {
   "cell_type": "markdown",
   "metadata": {},
   "source": [
    "$$\n",
    "w_P = (P^T X^T XP)^{-1} P^T X^T y\n",
    "$$"
   ]
  },
  {
   "cell_type": "markdown",
   "metadata": {},
   "source": [
    "3. Раскроем скобки по правилу: $(AB)^{-1} = A^{-1}B^{-1}$, но сгруппируем $(X^TX)^{-1}$"
   ]
  },
  {
   "cell_type": "markdown",
   "metadata": {},
   "source": [
    "$$\n",
    "w_P = (P^T)^{-1} (X^TX)^{-1} P^{-1} P^T X^T y\n",
    "$$"
   ]
  },
  {
   "cell_type": "markdown",
   "metadata": {},
   "source": [
    "4. Проверим размерности множителей для возможности перестановки переменных в формуле:"
   ]
  },
  {
   "cell_type": "markdown",
   "metadata": {},
   "source": [
    "$$ size = (nxn) (nxn) (nxn) (nxn) (nxm) m $$"
   ]
  },
  {
   "cell_type": "markdown",
   "metadata": {},
   "source": [
    "5. Переставим множители, кроме последних двух:"
   ]
  },
  {
   "cell_type": "markdown",
   "metadata": {},
   "source": [
    "$$\n",
    "w_P = (P^T)^{-1} P^T P^{-1} (X^TX)^{-1} X^T y\n",
    "$$"
   ]
  },
  {
   "cell_type": "markdown",
   "metadata": {},
   "source": [
    "6. В результате $(P^T)^{-1} P^T = E $ - единичная матрица, $(X^TX)^{-1} X^T y = w$ "
   ]
  },
  {
   "cell_type": "markdown",
   "metadata": {},
   "source": [
    "$$\n",
    "w_P = E P^{-1} w\n",
    "$$\n",
    "\n",
    "или \n",
    "\n",
    "$$\n",
    "w_P = P^{-1} w\n",
    "$$"
   ]
  },
  {
   "cell_type": "markdown",
   "metadata": {},
   "source": [
    "7. Подставим результат в формулу предсказаний:"
   ]
  },
  {
   "cell_type": "markdown",
   "metadata": {},
   "source": [
    "$$\n",
    "a_P = XP𝑃^{−1}𝑤 \n",
    "$$\n",
    "\n",
    "$$\n",
    "a_P = XE𝑤\n",
    "$$\n",
    "\n",
    "$$\n",
    "a_P = X𝑤\n",
    "$$\n",
    "\n",
    "$$\n",
    "a_P = a\n",
    "$$"
   ]
  },
  {
   "cell_type": "markdown",
   "metadata": {},
   "source": [
    "**Вывод:** Предсказания модели не изменятся после умножения на квадратную обратимую матрицу, но изменятся веса признаков, а значит необходимо переобучение модели после кодирования."
   ]
  },
  {
   "cell_type": "markdown",
   "metadata": {},
   "source": [
    "## Алгоритм преобразования"
   ]
  },
  {
   "cell_type": "markdown",
   "metadata": {},
   "source": [
    "### Алгоритм"
   ]
  },
  {
   "cell_type": "code",
   "execution_count": 5,
   "metadata": {},
   "outputs": [],
   "source": [
    "features = df.drop(columns=['Страховые выплаты']) #соберем признаки\n",
    "target = df['Страховые выплаты']                  #соберем целевой признак"
   ]
  },
  {
   "cell_type": "code",
   "execution_count": 6,
   "metadata": {},
   "outputs": [
    {
     "data": {
      "text/html": [
       "<div>\n",
       "<style scoped>\n",
       "    .dataframe tbody tr th:only-of-type {\n",
       "        vertical-align: middle;\n",
       "    }\n",
       "\n",
       "    .dataframe tbody tr th {\n",
       "        vertical-align: top;\n",
       "    }\n",
       "\n",
       "    .dataframe thead th {\n",
       "        text-align: right;\n",
       "    }\n",
       "</style>\n",
       "<table border=\"1\" class=\"dataframe\">\n",
       "  <thead>\n",
       "    <tr style=\"text-align: right;\">\n",
       "      <th></th>\n",
       "      <th>Пол</th>\n",
       "      <th>Возраст</th>\n",
       "      <th>Зарплата</th>\n",
       "      <th>Члены семьи</th>\n",
       "    </tr>\n",
       "  </thead>\n",
       "  <tbody>\n",
       "    <tr>\n",
       "      <th>0</th>\n",
       "      <td>1</td>\n",
       "      <td>41.0</td>\n",
       "      <td>49600.0</td>\n",
       "      <td>1</td>\n",
       "    </tr>\n",
       "    <tr>\n",
       "      <th>1</th>\n",
       "      <td>0</td>\n",
       "      <td>46.0</td>\n",
       "      <td>38000.0</td>\n",
       "      <td>1</td>\n",
       "    </tr>\n",
       "    <tr>\n",
       "      <th>2</th>\n",
       "      <td>0</td>\n",
       "      <td>29.0</td>\n",
       "      <td>21000.0</td>\n",
       "      <td>0</td>\n",
       "    </tr>\n",
       "    <tr>\n",
       "      <th>3</th>\n",
       "      <td>0</td>\n",
       "      <td>21.0</td>\n",
       "      <td>41700.0</td>\n",
       "      <td>2</td>\n",
       "    </tr>\n",
       "    <tr>\n",
       "      <th>4</th>\n",
       "      <td>1</td>\n",
       "      <td>28.0</td>\n",
       "      <td>26100.0</td>\n",
       "      <td>0</td>\n",
       "    </tr>\n",
       "  </tbody>\n",
       "</table>\n",
       "</div>"
      ],
      "text/plain": [
       "   Пол  Возраст  Зарплата  Члены семьи\n",
       "0    1     41.0   49600.0            1\n",
       "1    0     46.0   38000.0            1\n",
       "2    0     29.0   21000.0            0\n",
       "3    0     21.0   41700.0            2\n",
       "4    1     28.0   26100.0            0"
      ]
     },
     "execution_count": 6,
     "metadata": {},
     "output_type": "execute_result"
    }
   ],
   "source": [
    "features.head()"
   ]
  },
  {
   "cell_type": "code",
   "execution_count": 7,
   "metadata": {},
   "outputs": [],
   "source": [
    "# создадим случайную матрицу для кодирования исходной (признаки)\n",
    "# для перемножения матриц ширина первой матрицы равна высоте второй матрицы, а количество столбцов должно остаться прежним\n",
    "# в результате получается квадратная матрица\n",
    "\n",
    "P = np.random.normal(size=(features.shape[1], features.shape[1]))"
   ]
  },
  {
   "cell_type": "code",
   "execution_count": 8,
   "metadata": {},
   "outputs": [
    {
     "data": {
      "text/plain": [
       "(4, 4)"
      ]
     },
     "execution_count": 8,
     "metadata": {},
     "output_type": "execute_result"
    }
   ],
   "source": [
    "P.shape"
   ]
  },
  {
   "cell_type": "code",
   "execution_count": 9,
   "metadata": {},
   "outputs": [],
   "source": [
    "# перемножим матрицы и проверим успешность кодирования\n",
    "features_coded = features.dot(P)"
   ]
  },
  {
   "cell_type": "code",
   "execution_count": 10,
   "metadata": {},
   "outputs": [
    {
     "data": {
      "text/html": [
       "<div>\n",
       "<style scoped>\n",
       "    .dataframe tbody tr th:only-of-type {\n",
       "        vertical-align: middle;\n",
       "    }\n",
       "\n",
       "    .dataframe tbody tr th {\n",
       "        vertical-align: top;\n",
       "    }\n",
       "\n",
       "    .dataframe thead th {\n",
       "        text-align: right;\n",
       "    }\n",
       "</style>\n",
       "<table border=\"1\" class=\"dataframe\">\n",
       "  <thead>\n",
       "    <tr style=\"text-align: right;\">\n",
       "      <th></th>\n",
       "      <th>0</th>\n",
       "      <th>1</th>\n",
       "      <th>2</th>\n",
       "      <th>3</th>\n",
       "    </tr>\n",
       "  </thead>\n",
       "  <tbody>\n",
       "    <tr>\n",
       "      <th>0</th>\n",
       "      <td>-66960.375319</td>\n",
       "      <td>-66005.279903</td>\n",
       "      <td>-96542.242248</td>\n",
       "      <td>42290.602239</td>\n",
       "    </tr>\n",
       "    <tr>\n",
       "      <th>1</th>\n",
       "      <td>-51308.742327</td>\n",
       "      <td>-50551.405392</td>\n",
       "      <td>-73951.129342</td>\n",
       "      <td>32438.718622</td>\n",
       "    </tr>\n",
       "    <tr>\n",
       "      <th>2</th>\n",
       "      <td>-28357.969263</td>\n",
       "      <td>-27930.277569</td>\n",
       "      <td>-40865.353145</td>\n",
       "      <td>17935.969530</td>\n",
       "    </tr>\n",
       "    <tr>\n",
       "      <th>3</th>\n",
       "      <td>-56284.422202</td>\n",
       "      <td>-55512.745408</td>\n",
       "      <td>-81173.785188</td>\n",
       "      <td>35518.170436</td>\n",
       "    </tr>\n",
       "    <tr>\n",
       "      <th>4</th>\n",
       "      <td>-35240.396776</td>\n",
       "      <td>-34722.930308</td>\n",
       "      <td>-50797.634900</td>\n",
       "      <td>22271.301157</td>\n",
       "    </tr>\n",
       "  </tbody>\n",
       "</table>\n",
       "</div>"
      ],
      "text/plain": [
       "              0             1             2             3\n",
       "0 -66960.375319 -66005.279903 -96542.242248  42290.602239\n",
       "1 -51308.742327 -50551.405392 -73951.129342  32438.718622\n",
       "2 -28357.969263 -27930.277569 -40865.353145  17935.969530\n",
       "3 -56284.422202 -55512.745408 -81173.785188  35518.170436\n",
       "4 -35240.396776 -34722.930308 -50797.634900  22271.301157"
      ]
     },
     "execution_count": 10,
     "metadata": {},
     "output_type": "execute_result"
    }
   ],
   "source": [
    "features_coded.head()"
   ]
  },
  {
   "cell_type": "code",
   "execution_count": 11,
   "metadata": {},
   "outputs": [],
   "source": [
    "# найдем обратную матрицу для декодирования зашифрованной\n",
    "\n",
    "P1 = np.linalg.inv(P)"
   ]
  },
  {
   "cell_type": "code",
   "execution_count": 12,
   "metadata": {},
   "outputs": [],
   "source": [
    "# перемножим матрицы и проверим успешность декодирования\n",
    "features_decoded = features_coded.dot(P1)"
   ]
  },
  {
   "cell_type": "code",
   "execution_count": 13,
   "metadata": {},
   "outputs": [],
   "source": [
    "features_decoded.columns=[features.columns]"
   ]
  },
  {
   "cell_type": "code",
   "execution_count": 14,
   "metadata": {
    "scrolled": false
   },
   "outputs": [
    {
     "data": {
      "text/html": [
       "<div>\n",
       "<style scoped>\n",
       "    .dataframe tbody tr th:only-of-type {\n",
       "        vertical-align: middle;\n",
       "    }\n",
       "\n",
       "    .dataframe tbody tr th {\n",
       "        vertical-align: top;\n",
       "    }\n",
       "\n",
       "    .dataframe thead tr th {\n",
       "        text-align: left;\n",
       "    }\n",
       "</style>\n",
       "<table border=\"1\" class=\"dataframe\">\n",
       "  <thead>\n",
       "    <tr>\n",
       "      <th></th>\n",
       "      <th>Пол</th>\n",
       "      <th>Возраст</th>\n",
       "      <th>Зарплата</th>\n",
       "      <th>Члены семьи</th>\n",
       "    </tr>\n",
       "  </thead>\n",
       "  <tbody>\n",
       "    <tr>\n",
       "      <th>0</th>\n",
       "      <td>1.0</td>\n",
       "      <td>41.0</td>\n",
       "      <td>49600.0</td>\n",
       "      <td>1.0</td>\n",
       "    </tr>\n",
       "    <tr>\n",
       "      <th>1</th>\n",
       "      <td>0.0</td>\n",
       "      <td>46.0</td>\n",
       "      <td>38000.0</td>\n",
       "      <td>1.0</td>\n",
       "    </tr>\n",
       "    <tr>\n",
       "      <th>2</th>\n",
       "      <td>0.0</td>\n",
       "      <td>29.0</td>\n",
       "      <td>21000.0</td>\n",
       "      <td>-0.0</td>\n",
       "    </tr>\n",
       "    <tr>\n",
       "      <th>3</th>\n",
       "      <td>0.0</td>\n",
       "      <td>21.0</td>\n",
       "      <td>41700.0</td>\n",
       "      <td>2.0</td>\n",
       "    </tr>\n",
       "    <tr>\n",
       "      <th>4</th>\n",
       "      <td>1.0</td>\n",
       "      <td>28.0</td>\n",
       "      <td>26100.0</td>\n",
       "      <td>0.0</td>\n",
       "    </tr>\n",
       "  </tbody>\n",
       "</table>\n",
       "</div>"
      ],
      "text/plain": [
       "   Пол Возраст Зарплата Члены семьи\n",
       "0  1.0    41.0  49600.0         1.0\n",
       "1  0.0    46.0  38000.0         1.0\n",
       "2  0.0    29.0  21000.0        -0.0\n",
       "3  0.0    21.0  41700.0         2.0\n",
       "4  1.0    28.0  26100.0         0.0"
      ]
     },
     "execution_count": 14,
     "metadata": {},
     "output_type": "execute_result"
    }
   ],
   "source": [
    "round(features_decoded,0).head()"
   ]
  },
  {
   "cell_type": "markdown",
   "metadata": {},
   "source": [
    "При округлении полученные после декодирования значения признаков близки к истинным."
   ]
  },
  {
   "cell_type": "markdown",
   "metadata": {},
   "source": [
    "### Обоснование"
   ]
  },
  {
   "cell_type": "markdown",
   "metadata": {},
   "source": [
    "`На основании пункта №2.2 умножение признаков в матрице на квадратную обратимую матрицу с целью шифрования не изменит прогноза модели, но изменятся веса признаков, а значит требуется переобучить модель после кодирования.`"
   ]
  },
  {
   "cell_type": "markdown",
   "metadata": {},
   "source": [
    "## Проверка алгоритма: расчеты"
   ]
  },
  {
   "cell_type": "markdown",
   "metadata": {},
   "source": [
    "### до кодирования"
   ]
  },
  {
   "cell_type": "code",
   "execution_count": 22,
   "metadata": {},
   "outputs": [],
   "source": [
    "features_train, features_valid, target_train, target_valid = train_test_split(\n",
    "    features, target,\n",
    "    test_size=0.25,\n",
    "    random_state=42)"
   ]
  },
  {
   "cell_type": "code",
   "execution_count": 23,
   "metadata": {},
   "outputs": [],
   "source": [
    "class LinearRegression:\n",
    "    def fit(self, train_features, train_target):\n",
    "        \n",
    "         # добавляем столбец 1 к массиву признаков\n",
    "        \n",
    "        X = np.concatenate((np.ones((train_features.shape[0], 1)), train_features), axis=1)\n",
    "        y = train_target\n",
    "        \n",
    "        # Транспонированная матрица признаков умножается на себя: X.T.dot(X)\n",
    "        # Вычисляется обратная к результату матрица: np.linalg.inv()\n",
    "        # Обратная умножается на транспонированную матрицу признаков: .dot(X.T)\n",
    "        # Результат умножается на вектор значений целевого признака: .dot(y)\n",
    "        \n",
    "        w = np.linalg.inv(X.T.dot(X)).dot(X.T).dot(y)\n",
    "        self.w = w[1:]\n",
    "        self.w0 = w[0]\n",
    "\n",
    "    def predict(self, test_features):\n",
    "        return test_features.dot(self.w) + self.w0"
   ]
  },
  {
   "cell_type": "code",
   "execution_count": 17,
   "metadata": {},
   "outputs": [
    {
     "name": "stdout",
     "output_type": "stream",
     "text": [
      "Значение метрики R2: 0.425477854\n"
     ]
    }
   ],
   "source": [
    "model = LinearRegression()                      # загружаем самодельную модель\n",
    "model.fit(features_train, target_train)         # обучаем модель на обучающей выборке\n",
    "predictions = model.predict(features_valid)     # предсказания на обучающей выборке\n",
    "print(\"Значение метрики R2:\", round(r2_score(target_valid, predictions),9))      # поиск значения метрики r2"
   ]
  },
  {
   "cell_type": "markdown",
   "metadata": {},
   "source": [
    "### после кодирования"
   ]
  },
  {
   "cell_type": "code",
   "execution_count": 18,
   "metadata": {},
   "outputs": [],
   "source": [
    "features_coded = features.dot(P)           # шифруем признаки умножением на матрицу\n",
    "target_2 = df['Страховые выплаты']         # целевой признак остается без изменения"
   ]
  },
  {
   "cell_type": "code",
   "execution_count": 19,
   "metadata": {},
   "outputs": [],
   "source": [
    "features_train_coded, features_valid_coded, target_train_2, target_valid_2 = train_test_split(features_coded, target_2, test_size=0.25, random_state=42)"
   ]
  },
  {
   "cell_type": "code",
   "execution_count": 20,
   "metadata": {},
   "outputs": [
    {
     "name": "stdout",
     "output_type": "stream",
     "text": [
      "Значение метрики R2: 0.425477829\n"
     ]
    }
   ],
   "source": [
    "model_coded = LinearRegression()                                       # загружаем самодельную модель\n",
    "model_coded.fit(features_train_coded, target_train_2)              # обучаем модель на обучающей выборке\n",
    "predictions_coded = model_coded.predict(features_valid_coded)          # предсказания на обучающей выборке\n",
    "print(\"Значение метрики R2:\", round(r2_score(target_valid_2, predictions_coded),9))      # поиск значения метрики r2"
   ]
  },
  {
   "cell_type": "markdown",
   "metadata": {},
   "source": [
    "## Вывод"
   ]
  },
  {
   "attachments": {},
   "cell_type": "markdown",
   "metadata": {},
   "source": [
    "**Метрика качества модели R2 на закодированных данных и данных без обработки получилось одинаковая до 6 знака после запятой. Незначительное отличие вызвано особенностью преобразования матриц и чисел с плавающей точкой.**"
   ]
  },
  {
   "cell_type": "markdown",
   "metadata": {},
   "source": [
    "## Чек-лист проверки"
   ]
  },
  {
   "cell_type": "markdown",
   "metadata": {},
   "source": [
    "- [x]  Jupyter Notebook открыт\n",
    "- [x]  Весь код выполняется без ошибок\n",
    "- [x]  Ячейки с кодом расположены в порядке исполнения\n",
    "- [x]  Выполнен шаг 1: данные загружены\n",
    "- [x]  Выполнен шаг 2: получен ответ на вопрос об умножении матриц\n",
    "    - [x]  Указан правильный вариант ответа\n",
    "    - [x]  Вариант обоснован\n",
    "- [x]  Выполнен шаг 3: предложен алгоритм преобразования\n",
    "    - [x]  Алгоритм описан\n",
    "    - [x]  Алгоритм обоснован\n",
    "- [x]  Выполнен шаг 4: алгоритм проверен\n",
    "    - [x]  Алгоритм реализован\n",
    "    - [x]  Проведено сравнение качества моделей до и после преобразования"
   ]
  }
 ],
 "metadata": {
  "ExecuteTimeLog": [
   {
    "duration": 449,
    "start_time": "2022-05-11T13:43:05.302Z"
   },
   {
    "duration": 26,
    "start_time": "2022-05-11T13:43:31.435Z"
   },
   {
    "duration": 14,
    "start_time": "2022-05-11T13:43:37.868Z"
   },
   {
    "duration": 12,
    "start_time": "2022-05-11T13:43:43.569Z"
   },
   {
    "duration": 3,
    "start_time": "2022-05-11T13:45:29.477Z"
   },
   {
    "duration": 17,
    "start_time": "2022-05-11T13:45:29.964Z"
   },
   {
    "duration": 12,
    "start_time": "2022-05-11T13:45:30.524Z"
   },
   {
    "duration": 4,
    "start_time": "2022-05-11T13:49:15.116Z"
   },
   {
    "duration": 15,
    "start_time": "2022-05-11T13:49:57.101Z"
   },
   {
    "duration": 22,
    "start_time": "2022-05-11T13:50:07.503Z"
   },
   {
    "duration": 29,
    "start_time": "2022-05-11T13:50:14.108Z"
   },
   {
    "duration": 70,
    "start_time": "2022-05-11T13:53:11.520Z"
   },
   {
    "duration": 9,
    "start_time": "2022-05-11T13:54:00.106Z"
   },
   {
    "duration": 7,
    "start_time": "2022-05-11T13:54:05.804Z"
   },
   {
    "duration": 8,
    "start_time": "2022-05-11T13:54:13.067Z"
   },
   {
    "duration": 6,
    "start_time": "2022-05-11T13:54:17.308Z"
   },
   {
    "duration": 3,
    "start_time": "2022-05-11T13:55:12.204Z"
   },
   {
    "duration": 5,
    "start_time": "2022-05-11T13:55:22.173Z"
   },
   {
    "duration": 8,
    "start_time": "2022-05-11T13:56:47.832Z"
   },
   {
    "duration": 20,
    "start_time": "2022-05-11T13:56:55.730Z"
   },
   {
    "duration": 22,
    "start_time": "2022-05-11T13:57:18.459Z"
   },
   {
    "duration": 22,
    "start_time": "2022-05-11T13:57:37.995Z"
   },
   {
    "duration": 24,
    "start_time": "2022-05-11T13:57:44.031Z"
   },
   {
    "duration": 21,
    "start_time": "2022-05-11T13:57:58.038Z"
   },
   {
    "duration": 55,
    "start_time": "2022-05-12T10:42:10.769Z"
   },
   {
    "duration": 401,
    "start_time": "2022-05-12T10:42:14.066Z"
   },
   {
    "duration": 27,
    "start_time": "2022-05-12T10:42:14.469Z"
   },
   {
    "duration": 13,
    "start_time": "2022-05-12T10:42:14.498Z"
   },
   {
    "duration": 28,
    "start_time": "2022-05-12T10:42:14.513Z"
   },
   {
    "duration": 6,
    "start_time": "2022-05-12T10:42:14.543Z"
   },
   {
    "duration": 5,
    "start_time": "2022-05-12T10:42:14.551Z"
   },
   {
    "duration": 6,
    "start_time": "2022-05-12T10:42:46.710Z"
   },
   {
    "duration": 182,
    "start_time": "2022-05-12T10:43:14.328Z"
   },
   {
    "duration": 33,
    "start_time": "2022-05-12T10:47:00.797Z"
   },
   {
    "duration": 3,
    "start_time": "2022-05-12T10:47:07.469Z"
   },
   {
    "duration": 9,
    "start_time": "2022-05-12T10:47:13.942Z"
   },
   {
    "duration": 3,
    "start_time": "2022-05-12T10:47:23.031Z"
   },
   {
    "duration": 3,
    "start_time": "2022-05-12T10:48:40.920Z"
   },
   {
    "duration": 3,
    "start_time": "2022-05-12T10:48:41.991Z"
   },
   {
    "duration": 3,
    "start_time": "2022-05-12T10:49:09.945Z"
   },
   {
    "duration": 4,
    "start_time": "2022-05-12T10:49:10.662Z"
   },
   {
    "duration": 7,
    "start_time": "2022-05-12T10:49:20.535Z"
   },
   {
    "duration": 4,
    "start_time": "2022-05-12T10:49:25.975Z"
   },
   {
    "duration": 201,
    "start_time": "2022-05-12T10:50:23.863Z"
   },
   {
    "duration": 4,
    "start_time": "2022-05-12T10:50:43.991Z"
   },
   {
    "duration": 4,
    "start_time": "2022-05-12T10:50:44.504Z"
   },
   {
    "duration": 567,
    "start_time": "2022-05-12T10:50:45.030Z"
   },
   {
    "duration": 5,
    "start_time": "2022-05-12T10:58:43.641Z"
   },
   {
    "duration": 3,
    "start_time": "2022-05-12T10:58:55.657Z"
   },
   {
    "duration": 4,
    "start_time": "2022-05-12T10:58:56.359Z"
   },
   {
    "duration": 4,
    "start_time": "2022-05-12T10:58:57.240Z"
   },
   {
    "duration": 3,
    "start_time": "2022-05-12T10:59:04.177Z"
   },
   {
    "duration": 29,
    "start_time": "2022-05-12T10:59:04.182Z"
   },
   {
    "duration": 12,
    "start_time": "2022-05-12T10:59:04.213Z"
   },
   {
    "duration": 30,
    "start_time": "2022-05-12T10:59:04.227Z"
   },
   {
    "duration": 6,
    "start_time": "2022-05-12T10:59:04.259Z"
   },
   {
    "duration": 10,
    "start_time": "2022-05-12T10:59:04.267Z"
   },
   {
    "duration": 6,
    "start_time": "2022-05-12T10:59:04.278Z"
   },
   {
    "duration": 6,
    "start_time": "2022-05-12T10:59:04.286Z"
   },
   {
    "duration": 8,
    "start_time": "2022-05-12T10:59:04.294Z"
   },
   {
    "duration": 5,
    "start_time": "2022-05-12T11:00:55.631Z"
   },
   {
    "duration": 5,
    "start_time": "2022-05-12T11:00:56.280Z"
   },
   {
    "duration": 4,
    "start_time": "2022-05-12T11:01:07.672Z"
   },
   {
    "duration": 180,
    "start_time": "2022-05-12T11:01:08.137Z"
   },
   {
    "duration": 181,
    "start_time": "2022-05-12T11:01:21.959Z"
   },
   {
    "duration": 1318,
    "start_time": "2022-05-12T11:01:31.511Z"
   },
   {
    "duration": 11,
    "start_time": "2022-05-12T11:02:37.785Z"
   },
   {
    "duration": 3,
    "start_time": "2022-05-12T11:02:44.909Z"
   },
   {
    "duration": 22,
    "start_time": "2022-05-12T11:02:44.915Z"
   },
   {
    "duration": 10,
    "start_time": "2022-05-12T11:02:44.939Z"
   },
   {
    "duration": 12,
    "start_time": "2022-05-12T11:02:44.951Z"
   },
   {
    "duration": 23,
    "start_time": "2022-05-12T11:02:44.966Z"
   },
   {
    "duration": 6,
    "start_time": "2022-05-12T11:02:44.991Z"
   },
   {
    "duration": 8,
    "start_time": "2022-05-12T11:02:45.033Z"
   },
   {
    "duration": 11,
    "start_time": "2022-05-12T11:02:45.043Z"
   },
   {
    "duration": 9,
    "start_time": "2022-05-12T11:02:45.056Z"
   },
   {
    "duration": 260,
    "start_time": "2022-05-12T11:02:45.067Z"
   },
   {
    "duration": 13,
    "start_time": "2022-05-12T11:02:56.107Z"
   },
   {
    "duration": 14,
    "start_time": "2022-05-12T11:03:08.360Z"
   },
   {
    "duration": 619,
    "start_time": "2022-05-12T11:03:46.731Z"
   },
   {
    "duration": 11,
    "start_time": "2022-05-12T11:04:02.713Z"
   },
   {
    "duration": 254,
    "start_time": "2022-05-12T11:05:45.084Z"
   },
   {
    "duration": 30,
    "start_time": "2022-05-12T11:05:50.297Z"
   },
   {
    "duration": 3,
    "start_time": "2022-05-12T11:06:21.769Z"
   },
   {
    "duration": 3,
    "start_time": "2022-05-12T11:06:22.297Z"
   },
   {
    "duration": 23,
    "start_time": "2022-05-12T11:06:22.858Z"
   },
   {
    "duration": 3,
    "start_time": "2022-05-12T11:06:33.113Z"
   },
   {
    "duration": 5,
    "start_time": "2022-05-12T11:06:33.578Z"
   },
   {
    "duration": 261,
    "start_time": "2022-05-12T11:06:34.074Z"
   },
   {
    "duration": 288,
    "start_time": "2022-05-12T11:09:15.852Z"
   },
   {
    "duration": 28,
    "start_time": "2022-05-12T11:09:22.025Z"
   },
   {
    "duration": 5,
    "start_time": "2022-05-12T11:09:28.396Z"
   },
   {
    "duration": 4,
    "start_time": "2022-05-12T11:09:38.857Z"
   },
   {
    "duration": 4,
    "start_time": "2022-05-12T11:09:39.561Z"
   },
   {
    "duration": 4,
    "start_time": "2022-05-12T11:09:40.330Z"
   },
   {
    "duration": 4,
    "start_time": "2022-05-12T11:09:41.034Z"
   },
   {
    "duration": 3,
    "start_time": "2022-05-12T11:09:44.668Z"
   },
   {
    "duration": 4,
    "start_time": "2022-05-12T11:11:58.329Z"
   },
   {
    "duration": 4,
    "start_time": "2022-05-12T11:11:59.113Z"
   },
   {
    "duration": 11,
    "start_time": "2022-05-12T11:12:04.521Z"
   },
   {
    "duration": 10,
    "start_time": "2022-05-12T11:12:22.137Z"
   },
   {
    "duration": 15,
    "start_time": "2022-05-12T11:12:27.033Z"
   },
   {
    "duration": 4,
    "start_time": "2022-05-12T11:12:38.632Z"
   },
   {
    "duration": 8,
    "start_time": "2022-05-12T11:13:36.746Z"
   },
   {
    "duration": 12,
    "start_time": "2022-05-12T11:13:41.042Z"
   },
   {
    "duration": 3,
    "start_time": "2022-05-12T11:13:41.690Z"
   },
   {
    "duration": 8,
    "start_time": "2022-05-12T11:13:42.238Z"
   },
   {
    "duration": 2,
    "start_time": "2022-05-12T11:14:07.896Z"
   },
   {
    "duration": 36,
    "start_time": "2022-05-12T11:14:07.901Z"
   },
   {
    "duration": 9,
    "start_time": "2022-05-12T11:14:07.939Z"
   },
   {
    "duration": 18,
    "start_time": "2022-05-12T11:14:07.951Z"
   },
   {
    "duration": 23,
    "start_time": "2022-05-12T11:14:07.971Z"
   },
   {
    "duration": 6,
    "start_time": "2022-05-12T11:14:07.996Z"
   },
   {
    "duration": 33,
    "start_time": "2022-05-12T11:14:08.003Z"
   },
   {
    "duration": 3,
    "start_time": "2022-05-12T11:14:08.038Z"
   },
   {
    "duration": 14,
    "start_time": "2022-05-12T11:14:08.043Z"
   },
   {
    "duration": 3,
    "start_time": "2022-05-12T11:14:08.059Z"
   },
   {
    "duration": 76,
    "start_time": "2022-05-12T11:14:08.065Z"
   },
   {
    "duration": 12,
    "start_time": "2022-05-12T11:14:28.074Z"
   },
   {
    "duration": 4,
    "start_time": "2022-05-12T11:14:29.017Z"
   },
   {
    "duration": 810,
    "start_time": "2022-05-12T11:14:50.361Z"
   },
   {
    "duration": 3,
    "start_time": "2022-05-12T11:14:57.386Z"
   },
   {
    "duration": 10,
    "start_time": "2022-05-12T11:14:57.913Z"
   },
   {
    "duration": 5,
    "start_time": "2022-05-12T11:15:00.171Z"
   },
   {
    "duration": 9,
    "start_time": "2022-05-12T11:15:01.690Z"
   },
   {
    "duration": 9,
    "start_time": "2022-05-12T11:15:37.577Z"
   },
   {
    "duration": 4,
    "start_time": "2022-05-12T11:15:45.113Z"
   },
   {
    "duration": 4,
    "start_time": "2022-05-12T11:15:50.106Z"
   },
   {
    "duration": 9,
    "start_time": "2022-05-12T11:15:54.746Z"
   },
   {
    "duration": 12,
    "start_time": "2022-05-12T11:16:07.722Z"
   },
   {
    "duration": 3,
    "start_time": "2022-05-12T11:16:21.959Z"
   },
   {
    "duration": 23,
    "start_time": "2022-05-12T11:16:21.965Z"
   },
   {
    "duration": 12,
    "start_time": "2022-05-12T11:16:21.990Z"
   },
   {
    "duration": 14,
    "start_time": "2022-05-12T11:16:22.004Z"
   },
   {
    "duration": 22,
    "start_time": "2022-05-12T11:16:22.020Z"
   },
   {
    "duration": 5,
    "start_time": "2022-05-12T11:16:22.044Z"
   },
   {
    "duration": 10,
    "start_time": "2022-05-12T11:16:22.051Z"
   },
   {
    "duration": 4,
    "start_time": "2022-05-12T11:16:22.063Z"
   },
   {
    "duration": 7,
    "start_time": "2022-05-12T11:16:22.069Z"
   },
   {
    "duration": 11,
    "start_time": "2022-05-12T11:16:22.078Z"
   },
   {
    "duration": 49,
    "start_time": "2022-05-12T11:16:22.091Z"
   },
   {
    "duration": 90,
    "start_time": "2022-05-12T11:16:22.144Z"
   },
   {
    "duration": 17,
    "start_time": "2022-05-12T11:16:22.236Z"
   },
   {
    "duration": 2,
    "start_time": "2022-05-12T11:16:48.961Z"
   },
   {
    "duration": 8,
    "start_time": "2022-05-12T11:16:57.801Z"
   },
   {
    "duration": 9,
    "start_time": "2022-05-12T11:17:05.610Z"
   },
   {
    "duration": 12,
    "start_time": "2022-05-12T11:17:13.802Z"
   },
   {
    "duration": 4,
    "start_time": "2022-05-12T11:17:28.154Z"
   },
   {
    "duration": 4,
    "start_time": "2022-05-12T11:17:28.668Z"
   },
   {
    "duration": 10,
    "start_time": "2022-05-12T11:17:29.161Z"
   },
   {
    "duration": 3,
    "start_time": "2022-05-12T11:17:29.964Z"
   },
   {
    "duration": 3,
    "start_time": "2022-05-12T11:17:34.906Z"
   },
   {
    "duration": 12,
    "start_time": "2022-05-12T11:17:35.561Z"
   },
   {
    "duration": 12,
    "start_time": "2022-05-12T11:17:37.099Z"
   },
   {
    "duration": 11,
    "start_time": "2022-05-12T11:18:06.154Z"
   },
   {
    "duration": 16,
    "start_time": "2022-05-12T11:22:16.235Z"
   },
   {
    "duration": 190,
    "start_time": "2022-05-12T11:22:50.924Z"
   },
   {
    "duration": 4,
    "start_time": "2022-05-12T11:23:35.003Z"
   },
   {
    "duration": 3,
    "start_time": "2022-05-12T11:23:48.363Z"
   },
   {
    "duration": 13,
    "start_time": "2022-05-12T11:23:48.890Z"
   },
   {
    "duration": 13,
    "start_time": "2022-05-12T11:23:58.539Z"
   },
   {
    "duration": 173,
    "start_time": "2022-05-12T11:23:59.082Z"
   },
   {
    "duration": 12,
    "start_time": "2022-05-12T11:24:05.354Z"
   },
   {
    "duration": 2,
    "start_time": "2022-05-12T11:24:27.353Z"
   },
   {
    "duration": 21,
    "start_time": "2022-05-12T11:24:27.357Z"
   },
   {
    "duration": 9,
    "start_time": "2022-05-12T11:24:27.380Z"
   },
   {
    "duration": 13,
    "start_time": "2022-05-12T11:24:27.391Z"
   },
   {
    "duration": 21,
    "start_time": "2022-05-12T11:24:27.407Z"
   },
   {
    "duration": 8,
    "start_time": "2022-05-12T11:24:27.432Z"
   },
   {
    "duration": 14,
    "start_time": "2022-05-12T11:24:27.442Z"
   },
   {
    "duration": 5,
    "start_time": "2022-05-12T11:24:27.459Z"
   },
   {
    "duration": 8,
    "start_time": "2022-05-12T11:24:27.465Z"
   },
   {
    "duration": 12,
    "start_time": "2022-05-12T11:24:27.474Z"
   },
   {
    "duration": 5,
    "start_time": "2022-05-12T11:24:27.488Z"
   },
   {
    "duration": 10,
    "start_time": "2022-05-12T11:24:27.538Z"
   },
   {
    "duration": 97,
    "start_time": "2022-05-12T11:24:27.554Z"
   },
   {
    "duration": 17,
    "start_time": "2022-05-12T11:24:27.653Z"
   },
   {
    "duration": 16,
    "start_time": "2022-05-12T11:24:27.671Z"
   },
   {
    "duration": 8,
    "start_time": "2022-05-12T11:24:52.508Z"
   },
   {
    "duration": 3,
    "start_time": "2022-05-12T11:24:59.113Z"
   },
   {
    "duration": 39,
    "start_time": "2022-05-12T11:24:59.118Z"
   },
   {
    "duration": 9,
    "start_time": "2022-05-12T11:24:59.159Z"
   },
   {
    "duration": 22,
    "start_time": "2022-05-12T11:24:59.170Z"
   },
   {
    "duration": 34,
    "start_time": "2022-05-12T11:24:59.195Z"
   },
   {
    "duration": 8,
    "start_time": "2022-05-12T11:24:59.231Z"
   },
   {
    "duration": 23,
    "start_time": "2022-05-12T11:24:59.241Z"
   },
   {
    "duration": 12,
    "start_time": "2022-05-12T11:24:59.266Z"
   },
   {
    "duration": 15,
    "start_time": "2022-05-12T11:24:59.279Z"
   },
   {
    "duration": 13,
    "start_time": "2022-05-12T11:24:59.295Z"
   },
   {
    "duration": 6,
    "start_time": "2022-05-12T11:24:59.310Z"
   },
   {
    "duration": 41,
    "start_time": "2022-05-12T11:24:59.318Z"
   },
   {
    "duration": 21,
    "start_time": "2022-05-12T11:24:59.438Z"
   },
   {
    "duration": 17,
    "start_time": "2022-05-12T11:24:59.462Z"
   },
   {
    "duration": 10,
    "start_time": "2022-05-12T11:24:59.481Z"
   },
   {
    "duration": 12,
    "start_time": "2022-05-12T11:25:04.753Z"
   },
   {
    "duration": 11,
    "start_time": "2022-05-12T11:25:27.995Z"
   },
   {
    "duration": 4,
    "start_time": "2022-05-12T11:25:28.538Z"
   },
   {
    "duration": 3,
    "start_time": "2022-05-12T11:25:29.051Z"
   },
   {
    "duration": 4,
    "start_time": "2022-05-12T11:25:29.530Z"
   },
   {
    "duration": 14,
    "start_time": "2022-05-12T11:25:30.011Z"
   },
   {
    "duration": 11,
    "start_time": "2022-05-12T11:25:36.396Z"
   },
   {
    "duration": 4,
    "start_time": "2022-05-12T11:26:46.972Z"
   },
   {
    "duration": 4,
    "start_time": "2022-05-12T11:26:47.195Z"
   },
   {
    "duration": 13,
    "start_time": "2022-05-12T11:26:48.857Z"
   },
   {
    "duration": 12,
    "start_time": "2022-05-12T11:29:03.931Z"
   },
   {
    "duration": 11,
    "start_time": "2022-05-12T11:30:11.324Z"
   },
   {
    "duration": 4,
    "start_time": "2022-05-12T11:30:20.701Z"
   },
   {
    "duration": 24,
    "start_time": "2022-05-12T11:30:33.484Z"
   },
   {
    "duration": 10,
    "start_time": "2022-05-12T11:32:20.892Z"
   },
   {
    "duration": 13,
    "start_time": "2022-05-12T11:33:07.883Z"
   },
   {
    "duration": 16,
    "start_time": "2022-05-12T11:33:53.244Z"
   },
   {
    "duration": 14,
    "start_time": "2022-05-12T11:34:20.363Z"
   },
   {
    "duration": 842,
    "start_time": "2022-05-12T11:52:42.984Z"
   },
   {
    "duration": 7,
    "start_time": "2022-05-12T11:55:24.542Z"
   },
   {
    "duration": 50,
    "start_time": "2022-05-12T11:55:54.941Z"
   },
   {
    "duration": 13,
    "start_time": "2022-05-12T11:56:09.390Z"
   },
   {
    "duration": 7,
    "start_time": "2022-05-12T11:57:30.157Z"
   },
   {
    "duration": 7,
    "start_time": "2022-05-12T11:58:53.343Z"
   },
   {
    "duration": 5,
    "start_time": "2022-05-12T12:03:09.761Z"
   },
   {
    "duration": 29,
    "start_time": "2022-05-12T12:03:51.710Z"
   },
   {
    "duration": 14,
    "start_time": "2022-05-12T12:14:08.576Z"
   },
   {
    "duration": 81,
    "start_time": "2022-05-12T12:14:13.854Z"
   },
   {
    "duration": 14,
    "start_time": "2022-05-12T12:15:35.200Z"
   },
   {
    "duration": 4,
    "start_time": "2022-05-12T12:15:57.408Z"
   },
   {
    "duration": 49,
    "start_time": "2022-05-12T12:15:57.415Z"
   },
   {
    "duration": 12,
    "start_time": "2022-05-12T12:15:57.467Z"
   },
   {
    "duration": 16,
    "start_time": "2022-05-12T12:15:57.483Z"
   },
   {
    "duration": 31,
    "start_time": "2022-05-12T12:15:57.501Z"
   },
   {
    "duration": 7,
    "start_time": "2022-05-12T12:15:57.542Z"
   },
   {
    "duration": 18,
    "start_time": "2022-05-12T12:15:57.551Z"
   },
   {
    "duration": 7,
    "start_time": "2022-05-12T12:15:57.572Z"
   },
   {
    "duration": 16,
    "start_time": "2022-05-12T12:15:57.582Z"
   },
   {
    "duration": 19,
    "start_time": "2022-05-12T12:15:57.601Z"
   },
   {
    "duration": 34,
    "start_time": "2022-05-12T12:15:57.622Z"
   },
   {
    "duration": 75,
    "start_time": "2022-05-12T12:15:57.660Z"
   },
   {
    "duration": 127,
    "start_time": "2022-05-12T12:15:57.737Z"
   },
   {
    "duration": 44,
    "start_time": "2022-05-12T12:15:57.866Z"
   },
   {
    "duration": 5,
    "start_time": "2022-05-12T12:15:57.912Z"
   },
   {
    "duration": 26,
    "start_time": "2022-05-12T12:15:57.919Z"
   },
   {
    "duration": 185,
    "start_time": "2022-05-12T12:15:57.950Z"
   },
   {
    "duration": 38,
    "start_time": "2022-05-12T12:15:58.138Z"
   },
   {
    "duration": 0,
    "start_time": "2022-05-12T12:15:58.178Z"
   },
   {
    "duration": 6,
    "start_time": "2022-05-12T12:16:05.503Z"
   },
   {
    "duration": 88,
    "start_time": "2022-05-12T12:16:09.776Z"
   },
   {
    "duration": 5,
    "start_time": "2022-05-12T12:16:10.798Z"
   },
   {
    "duration": 4,
    "start_time": "2022-05-12T12:16:26.241Z"
   },
   {
    "duration": 10,
    "start_time": "2022-05-12T12:16:26.803Z"
   },
   {
    "duration": 4,
    "start_time": "2022-05-12T12:16:28.510Z"
   },
   {
    "duration": 4,
    "start_time": "2022-05-12T12:16:29.168Z"
   },
   {
    "duration": 11,
    "start_time": "2022-05-12T12:16:55.487Z"
   },
   {
    "duration": 20,
    "start_time": "2022-05-12T12:17:07.423Z"
   },
   {
    "duration": 5,
    "start_time": "2022-05-12T12:17:27.968Z"
   },
   {
    "duration": 22,
    "start_time": "2022-05-12T12:17:33.569Z"
   },
   {
    "duration": 12,
    "start_time": "2022-05-12T12:17:54.767Z"
   },
   {
    "duration": 129,
    "start_time": "2022-05-12T12:17:57.519Z"
   },
   {
    "duration": 17,
    "start_time": "2022-05-12T12:17:58.448Z"
   },
   {
    "duration": 4,
    "start_time": "2022-05-12T12:18:03.284Z"
   },
   {
    "duration": 41,
    "start_time": "2022-05-12T12:18:03.291Z"
   },
   {
    "duration": 13,
    "start_time": "2022-05-12T12:18:03.339Z"
   },
   {
    "duration": 23,
    "start_time": "2022-05-12T12:18:03.355Z"
   },
   {
    "duration": 29,
    "start_time": "2022-05-12T12:18:03.379Z"
   },
   {
    "duration": 8,
    "start_time": "2022-05-12T12:18:03.410Z"
   },
   {
    "duration": 11,
    "start_time": "2022-05-12T12:18:03.437Z"
   },
   {
    "duration": 16,
    "start_time": "2022-05-12T12:18:03.450Z"
   },
   {
    "duration": 7,
    "start_time": "2022-05-12T12:18:03.468Z"
   },
   {
    "duration": 14,
    "start_time": "2022-05-12T12:18:03.478Z"
   },
   {
    "duration": 6,
    "start_time": "2022-05-12T12:18:03.494Z"
   },
   {
    "duration": 135,
    "start_time": "2022-05-12T12:18:03.502Z"
   },
   {
    "duration": 28,
    "start_time": "2022-05-12T12:18:03.641Z"
   },
   {
    "duration": 22,
    "start_time": "2022-05-12T12:18:03.672Z"
   },
   {
    "duration": 5,
    "start_time": "2022-05-12T12:18:03.697Z"
   },
   {
    "duration": 9,
    "start_time": "2022-05-12T12:18:03.704Z"
   },
   {
    "duration": 36,
    "start_time": "2022-05-12T12:18:03.715Z"
   },
   {
    "duration": 93,
    "start_time": "2022-05-12T12:18:03.755Z"
   },
   {
    "duration": 84,
    "start_time": "2022-05-12T12:18:03.855Z"
   },
   {
    "duration": 22,
    "start_time": "2022-05-12T12:18:03.944Z"
   },
   {
    "duration": 23,
    "start_time": "2022-05-12T12:18:37.326Z"
   },
   {
    "duration": 5,
    "start_time": "2022-05-12T12:18:50.668Z"
   },
   {
    "duration": 5,
    "start_time": "2022-05-12T12:19:08.770Z"
   },
   {
    "duration": 12,
    "start_time": "2022-05-12T12:21:30.369Z"
   },
   {
    "duration": 13,
    "start_time": "2022-05-12T12:21:45.561Z"
   },
   {
    "duration": 4,
    "start_time": "2022-05-12T12:21:54.319Z"
   },
   {
    "duration": 59,
    "start_time": "2022-05-12T12:21:54.325Z"
   },
   {
    "duration": 10,
    "start_time": "2022-05-12T12:21:54.386Z"
   },
   {
    "duration": 15,
    "start_time": "2022-05-12T12:21:54.398Z"
   },
   {
    "duration": 24,
    "start_time": "2022-05-12T12:21:54.416Z"
   },
   {
    "duration": 15,
    "start_time": "2022-05-12T12:21:54.441Z"
   },
   {
    "duration": 29,
    "start_time": "2022-05-12T12:21:54.458Z"
   },
   {
    "duration": 21,
    "start_time": "2022-05-12T12:21:54.488Z"
   },
   {
    "duration": 14,
    "start_time": "2022-05-12T12:21:54.511Z"
   },
   {
    "duration": 43,
    "start_time": "2022-05-12T12:21:54.527Z"
   },
   {
    "duration": 10,
    "start_time": "2022-05-12T12:21:54.572Z"
   },
   {
    "duration": 62,
    "start_time": "2022-05-12T12:21:54.585Z"
   },
   {
    "duration": 127,
    "start_time": "2022-05-12T12:21:54.650Z"
   },
   {
    "duration": 26,
    "start_time": "2022-05-12T12:21:54.781Z"
   },
   {
    "duration": 6,
    "start_time": "2022-05-12T12:21:54.809Z"
   },
   {
    "duration": 8,
    "start_time": "2022-05-12T12:21:54.817Z"
   },
   {
    "duration": 130,
    "start_time": "2022-05-12T12:21:54.827Z"
   },
   {
    "duration": 127,
    "start_time": "2022-05-12T12:21:54.959Z"
   },
   {
    "duration": 10,
    "start_time": "2022-05-12T12:21:55.089Z"
   },
   {
    "duration": 20,
    "start_time": "2022-05-12T12:21:55.102Z"
   },
   {
    "duration": 58,
    "start_time": "2022-05-12T12:21:55.125Z"
   },
   {
    "duration": 4,
    "start_time": "2022-05-12T12:27:18.742Z"
   },
   {
    "duration": 671,
    "start_time": "2022-05-12T12:27:18.747Z"
   },
   {
    "duration": 11,
    "start_time": "2022-05-12T12:27:19.421Z"
   },
   {
    "duration": 33,
    "start_time": "2022-05-12T12:27:19.435Z"
   },
   {
    "duration": 27,
    "start_time": "2022-05-12T12:27:19.471Z"
   },
   {
    "duration": 6,
    "start_time": "2022-05-12T12:27:19.500Z"
   },
   {
    "duration": 7,
    "start_time": "2022-05-12T12:27:19.509Z"
   },
   {
    "duration": 20,
    "start_time": "2022-05-12T12:27:19.536Z"
   },
   {
    "duration": 9,
    "start_time": "2022-05-12T12:27:19.560Z"
   },
   {
    "duration": 12,
    "start_time": "2022-05-12T12:27:19.572Z"
   },
   {
    "duration": 9,
    "start_time": "2022-05-12T12:27:19.586Z"
   },
   {
    "duration": 145,
    "start_time": "2022-05-12T12:27:19.598Z"
   },
   {
    "duration": 17,
    "start_time": "2022-05-12T12:27:19.745Z"
   },
   {
    "duration": 20,
    "start_time": "2022-05-12T12:27:19.765Z"
   },
   {
    "duration": 8,
    "start_time": "2022-05-12T12:27:19.787Z"
   },
   {
    "duration": 8,
    "start_time": "2022-05-12T12:27:19.797Z"
   },
   {
    "duration": 50,
    "start_time": "2022-05-12T12:27:19.807Z"
   },
   {
    "duration": 116,
    "start_time": "2022-05-12T12:27:19.859Z"
   },
   {
    "duration": 14,
    "start_time": "2022-05-12T12:27:19.978Z"
   },
   {
    "duration": 21,
    "start_time": "2022-05-12T12:27:20.034Z"
   },
   {
    "duration": 4,
    "start_time": "2022-05-12T12:27:24.671Z"
   },
   {
    "duration": 21,
    "start_time": "2022-05-12T12:27:24.677Z"
   },
   {
    "duration": 10,
    "start_time": "2022-05-12T12:27:24.700Z"
   },
   {
    "duration": 17,
    "start_time": "2022-05-12T12:27:24.711Z"
   },
   {
    "duration": 29,
    "start_time": "2022-05-12T12:27:24.730Z"
   },
   {
    "duration": 6,
    "start_time": "2022-05-12T12:27:24.761Z"
   },
   {
    "duration": 10,
    "start_time": "2022-05-12T12:27:24.769Z"
   },
   {
    "duration": 6,
    "start_time": "2022-05-12T12:27:24.780Z"
   },
   {
    "duration": 10,
    "start_time": "2022-05-12T12:27:24.788Z"
   },
   {
    "duration": 42,
    "start_time": "2022-05-12T12:27:24.800Z"
   },
   {
    "duration": 8,
    "start_time": "2022-05-12T12:27:24.847Z"
   },
   {
    "duration": 78,
    "start_time": "2022-05-12T12:27:24.860Z"
   },
   {
    "duration": 96,
    "start_time": "2022-05-12T12:27:24.941Z"
   },
   {
    "duration": 33,
    "start_time": "2022-05-12T12:27:25.040Z"
   },
   {
    "duration": 4,
    "start_time": "2022-05-12T12:27:25.076Z"
   },
   {
    "duration": 8,
    "start_time": "2022-05-12T12:27:25.082Z"
   },
   {
    "duration": 54,
    "start_time": "2022-05-12T12:27:25.093Z"
   },
   {
    "duration": 112,
    "start_time": "2022-05-12T12:27:25.152Z"
   },
   {
    "duration": 12,
    "start_time": "2022-05-12T12:27:25.266Z"
   },
   {
    "duration": 64,
    "start_time": "2022-05-12T12:27:25.280Z"
   },
   {
    "duration": 13,
    "start_time": "2022-05-12T12:27:43.712Z"
   },
   {
    "duration": 7,
    "start_time": "2022-05-12T12:27:50.688Z"
   },
   {
    "duration": 24,
    "start_time": "2022-05-12T12:28:02.224Z"
   },
   {
    "duration": 14,
    "start_time": "2022-05-12T12:29:38.529Z"
   },
   {
    "duration": 4,
    "start_time": "2022-05-12T12:37:34.817Z"
   },
   {
    "duration": 10,
    "start_time": "2022-05-12T12:37:35.554Z"
   },
   {
    "duration": 16,
    "start_time": "2022-05-12T12:37:36.177Z"
   },
   {
    "duration": 15,
    "start_time": "2022-05-12T12:39:22.554Z"
   },
   {
    "duration": 13,
    "start_time": "2022-05-12T12:39:28.934Z"
   },
   {
    "duration": 30,
    "start_time": "2022-05-12T12:39:28.950Z"
   },
   {
    "duration": 10,
    "start_time": "2022-05-12T12:39:28.982Z"
   },
   {
    "duration": 19,
    "start_time": "2022-05-12T12:39:28.995Z"
   },
   {
    "duration": 46,
    "start_time": "2022-05-12T12:39:29.017Z"
   },
   {
    "duration": 7,
    "start_time": "2022-05-12T12:39:29.065Z"
   },
   {
    "duration": 7,
    "start_time": "2022-05-12T12:39:29.074Z"
   },
   {
    "duration": 4,
    "start_time": "2022-05-12T12:39:29.083Z"
   },
   {
    "duration": 6,
    "start_time": "2022-05-12T12:39:29.089Z"
   },
   {
    "duration": 48,
    "start_time": "2022-05-12T12:39:29.098Z"
   },
   {
    "duration": 12,
    "start_time": "2022-05-12T12:39:29.148Z"
   },
   {
    "duration": 72,
    "start_time": "2022-05-12T12:39:29.164Z"
   },
   {
    "duration": 101,
    "start_time": "2022-05-12T12:39:29.238Z"
   },
   {
    "duration": 38,
    "start_time": "2022-05-12T12:39:29.341Z"
   },
   {
    "duration": 5,
    "start_time": "2022-05-12T12:39:29.381Z"
   },
   {
    "duration": 11,
    "start_time": "2022-05-12T12:39:29.388Z"
   },
   {
    "duration": 7,
    "start_time": "2022-05-12T12:39:29.401Z"
   },
   {
    "duration": 44,
    "start_time": "2022-05-12T12:39:29.410Z"
   },
   {
    "duration": 111,
    "start_time": "2022-05-12T12:39:29.457Z"
   },
   {
    "duration": 11,
    "start_time": "2022-05-12T12:39:29.570Z"
   },
   {
    "duration": 78,
    "start_time": "2022-05-12T12:39:29.583Z"
   },
   {
    "duration": 10,
    "start_time": "2022-05-12T12:40:37.941Z"
   },
   {
    "duration": 9,
    "start_time": "2022-05-12T12:41:50.930Z"
   },
   {
    "duration": 8,
    "start_time": "2022-05-12T12:41:51.555Z"
   },
   {
    "duration": 12,
    "start_time": "2022-05-12T12:42:25.754Z"
   },
   {
    "duration": 10,
    "start_time": "2022-05-12T12:42:29.357Z"
   },
   {
    "duration": 5,
    "start_time": "2022-05-12T12:42:29.795Z"
   },
   {
    "duration": 7,
    "start_time": "2022-05-12T12:42:30.273Z"
   },
   {
    "duration": 9,
    "start_time": "2022-05-12T12:42:30.770Z"
   },
   {
    "duration": 4,
    "start_time": "2022-05-12T12:47:58.419Z"
   },
   {
    "duration": 4,
    "start_time": "2022-05-12T12:48:44.771Z"
   },
   {
    "duration": 4,
    "start_time": "2022-05-12T12:48:59.123Z"
   },
   {
    "duration": 14,
    "start_time": "2022-05-12T12:49:03.332Z"
   },
   {
    "duration": 3,
    "start_time": "2022-05-12T12:49:16.404Z"
   },
   {
    "duration": 6,
    "start_time": "2022-05-12T12:50:01.731Z"
   },
   {
    "duration": 16,
    "start_time": "2022-05-12T12:50:18.854Z"
   },
   {
    "duration": 12,
    "start_time": "2022-05-12T12:50:29.891Z"
   },
   {
    "duration": 3,
    "start_time": "2022-05-12T12:50:33.924Z"
   },
   {
    "duration": 4,
    "start_time": "2022-05-12T12:50:34.803Z"
   },
   {
    "duration": 10,
    "start_time": "2022-05-12T12:50:35.924Z"
   },
   {
    "duration": 3,
    "start_time": "2022-05-12T12:50:59.365Z"
   },
   {
    "duration": 19,
    "start_time": "2022-05-12T12:50:59.924Z"
   },
   {
    "duration": 18,
    "start_time": "2022-05-12T12:51:05.154Z"
   },
   {
    "duration": 6,
    "start_time": "2022-05-12T12:51:40.423Z"
   },
   {
    "duration": 5,
    "start_time": "2022-05-12T12:51:41.108Z"
   },
   {
    "duration": 7,
    "start_time": "2022-05-12T12:51:41.987Z"
   },
   {
    "duration": 3,
    "start_time": "2022-05-12T12:53:06.004Z"
   },
   {
    "duration": 16,
    "start_time": "2022-05-12T12:53:36.724Z"
   },
   {
    "duration": 6,
    "start_time": "2022-05-12T12:53:36.931Z"
   },
   {
    "duration": 15,
    "start_time": "2022-05-12T12:54:38.841Z"
   },
   {
    "duration": 10,
    "start_time": "2022-05-12T12:55:07.781Z"
   },
   {
    "duration": 8,
    "start_time": "2022-05-12T12:56:50.804Z"
   },
   {
    "duration": 7,
    "start_time": "2022-05-12T12:57:01.620Z"
   },
   {
    "duration": 7,
    "start_time": "2022-05-12T12:57:03.796Z"
   },
   {
    "duration": 7,
    "start_time": "2022-05-12T12:57:23.893Z"
   },
   {
    "duration": 4,
    "start_time": "2022-05-12T12:57:25.300Z"
   },
   {
    "duration": 6,
    "start_time": "2022-05-12T12:57:25.962Z"
   },
   {
    "duration": 7,
    "start_time": "2022-05-12T12:57:26.500Z"
   },
   {
    "duration": 4,
    "start_time": "2022-05-12T12:57:40.107Z"
   },
   {
    "duration": 24,
    "start_time": "2022-05-12T12:57:40.113Z"
   },
   {
    "duration": 13,
    "start_time": "2022-05-12T12:57:40.139Z"
   },
   {
    "duration": 44,
    "start_time": "2022-05-12T12:57:40.153Z"
   },
   {
    "duration": 23,
    "start_time": "2022-05-12T12:57:40.200Z"
   },
   {
    "duration": 6,
    "start_time": "2022-05-12T12:57:40.226Z"
   },
   {
    "duration": 36,
    "start_time": "2022-05-12T12:57:40.244Z"
   },
   {
    "duration": 6,
    "start_time": "2022-05-12T12:57:40.282Z"
   },
   {
    "duration": 14,
    "start_time": "2022-05-12T12:57:40.290Z"
   },
   {
    "duration": 9,
    "start_time": "2022-05-12T12:57:40.306Z"
   },
   {
    "duration": 10,
    "start_time": "2022-05-12T12:57:40.317Z"
   },
   {
    "duration": 39,
    "start_time": "2022-05-12T12:57:40.329Z"
   },
   {
    "duration": 6,
    "start_time": "2022-05-12T12:57:40.371Z"
   },
   {
    "duration": 6,
    "start_time": "2022-05-12T12:57:40.381Z"
   },
   {
    "duration": 98,
    "start_time": "2022-05-12T12:57:40.390Z"
   },
   {
    "duration": 65,
    "start_time": "2022-05-12T12:57:40.490Z"
   },
   {
    "duration": 21,
    "start_time": "2022-05-12T12:57:40.559Z"
   },
   {
    "duration": 7,
    "start_time": "2022-05-12T12:57:40.582Z"
   },
   {
    "duration": 19,
    "start_time": "2022-05-12T12:57:40.591Z"
   },
   {
    "duration": 55,
    "start_time": "2022-05-12T12:57:40.634Z"
   },
   {
    "duration": 41,
    "start_time": "2022-05-12T12:57:40.735Z"
   },
   {
    "duration": 13,
    "start_time": "2022-05-12T12:57:40.778Z"
   },
   {
    "duration": 4,
    "start_time": "2022-05-12T12:59:01.610Z"
   },
   {
    "duration": 64,
    "start_time": "2022-05-12T12:59:01.616Z"
   },
   {
    "duration": 14,
    "start_time": "2022-05-12T12:59:01.682Z"
   },
   {
    "duration": 28,
    "start_time": "2022-05-12T12:59:01.697Z"
   },
   {
    "duration": 40,
    "start_time": "2022-05-12T12:59:01.728Z"
   },
   {
    "duration": 7,
    "start_time": "2022-05-12T12:59:01.769Z"
   },
   {
    "duration": 11,
    "start_time": "2022-05-12T12:59:01.778Z"
   },
   {
    "duration": 10,
    "start_time": "2022-05-12T12:59:01.791Z"
   },
   {
    "duration": 14,
    "start_time": "2022-05-12T12:59:01.803Z"
   },
   {
    "duration": 47,
    "start_time": "2022-05-12T12:59:01.819Z"
   },
   {
    "duration": 14,
    "start_time": "2022-05-12T12:59:01.868Z"
   },
   {
    "duration": 12,
    "start_time": "2022-05-12T12:59:01.884Z"
   },
   {
    "duration": 10,
    "start_time": "2022-05-12T12:59:01.898Z"
   },
   {
    "duration": 25,
    "start_time": "2022-05-12T12:59:01.912Z"
   },
   {
    "duration": 104,
    "start_time": "2022-05-12T12:59:01.942Z"
   },
   {
    "duration": 37,
    "start_time": "2022-05-12T12:59:02.047Z"
   },
   {
    "duration": 6,
    "start_time": "2022-05-12T12:59:02.085Z"
   },
   {
    "duration": 6,
    "start_time": "2022-05-12T12:59:02.092Z"
   },
   {
    "duration": 16,
    "start_time": "2022-05-12T12:59:02.099Z"
   },
   {
    "duration": 34,
    "start_time": "2022-05-12T12:59:02.140Z"
   },
   {
    "duration": 37,
    "start_time": "2022-05-12T12:59:02.235Z"
   },
   {
    "duration": 9,
    "start_time": "2022-05-12T12:59:02.273Z"
   },
   {
    "duration": 4,
    "start_time": "2022-05-12T12:59:12.759Z"
   },
   {
    "duration": 20,
    "start_time": "2022-05-12T12:59:12.766Z"
   },
   {
    "duration": 9,
    "start_time": "2022-05-12T12:59:12.788Z"
   },
   {
    "duration": 15,
    "start_time": "2022-05-12T12:59:12.800Z"
   },
   {
    "duration": 30,
    "start_time": "2022-05-12T12:59:12.816Z"
   },
   {
    "duration": 10,
    "start_time": "2022-05-12T12:59:12.849Z"
   },
   {
    "duration": 14,
    "start_time": "2022-05-12T12:59:12.861Z"
   },
   {
    "duration": 7,
    "start_time": "2022-05-12T12:59:12.876Z"
   },
   {
    "duration": 12,
    "start_time": "2022-05-12T12:59:12.885Z"
   },
   {
    "duration": 6,
    "start_time": "2022-05-12T12:59:12.900Z"
   },
   {
    "duration": 9,
    "start_time": "2022-05-12T12:59:12.908Z"
   },
   {
    "duration": 28,
    "start_time": "2022-05-12T12:59:12.918Z"
   },
   {
    "duration": 18,
    "start_time": "2022-05-12T12:59:12.948Z"
   },
   {
    "duration": 11,
    "start_time": "2022-05-12T12:59:12.969Z"
   },
   {
    "duration": 41,
    "start_time": "2022-05-12T12:59:13.033Z"
   },
   {
    "duration": 73,
    "start_time": "2022-05-12T12:59:13.077Z"
   },
   {
    "duration": 24,
    "start_time": "2022-05-12T12:59:13.152Z"
   },
   {
    "duration": 9,
    "start_time": "2022-05-12T12:59:13.178Z"
   },
   {
    "duration": 26,
    "start_time": "2022-05-12T12:59:13.189Z"
   },
   {
    "duration": 57,
    "start_time": "2022-05-12T12:59:13.217Z"
   },
   {
    "duration": 102,
    "start_time": "2022-05-12T12:59:13.276Z"
   },
   {
    "duration": 11,
    "start_time": "2022-05-12T12:59:13.380Z"
   },
   {
    "duration": 6,
    "start_time": "2022-05-12T13:14:19.250Z"
   },
   {
    "duration": 1719,
    "start_time": "2022-05-13T11:33:25.015Z"
   },
   {
    "duration": 29,
    "start_time": "2022-05-13T11:33:26.737Z"
   },
   {
    "duration": 24,
    "start_time": "2022-05-13T11:33:26.768Z"
   },
   {
    "duration": 19,
    "start_time": "2022-05-13T11:33:26.795Z"
   },
   {
    "duration": 29,
    "start_time": "2022-05-13T11:33:26.824Z"
   },
   {
    "duration": 7,
    "start_time": "2022-05-13T11:33:26.855Z"
   },
   {
    "duration": 11,
    "start_time": "2022-05-13T11:33:26.864Z"
   },
   {
    "duration": 6,
    "start_time": "2022-05-13T11:33:26.877Z"
   },
   {
    "duration": 54,
    "start_time": "2022-05-13T11:33:26.885Z"
   },
   {
    "duration": 4,
    "start_time": "2022-05-13T11:33:26.945Z"
   },
   {
    "duration": 183,
    "start_time": "2022-05-13T11:33:26.952Z"
   },
   {
    "duration": 0,
    "start_time": "2022-05-13T11:33:27.138Z"
   },
   {
    "duration": 0,
    "start_time": "2022-05-13T11:33:27.139Z"
   },
   {
    "duration": 0,
    "start_time": "2022-05-13T11:33:27.141Z"
   },
   {
    "duration": 0,
    "start_time": "2022-05-13T11:33:27.142Z"
   },
   {
    "duration": 0,
    "start_time": "2022-05-13T11:33:27.144Z"
   },
   {
    "duration": 0,
    "start_time": "2022-05-13T11:33:27.145Z"
   },
   {
    "duration": 0,
    "start_time": "2022-05-13T11:33:27.146Z"
   },
   {
    "duration": 0,
    "start_time": "2022-05-13T11:33:27.148Z"
   },
   {
    "duration": 0,
    "start_time": "2022-05-13T11:33:27.149Z"
   },
   {
    "duration": 0,
    "start_time": "2022-05-13T11:33:27.151Z"
   },
   {
    "duration": 0,
    "start_time": "2022-05-13T11:33:27.153Z"
   },
   {
    "duration": 0,
    "start_time": "2022-05-13T11:33:27.154Z"
   },
   {
    "duration": 6,
    "start_time": "2022-05-13T11:33:30.475Z"
   },
   {
    "duration": 3,
    "start_time": "2022-05-13T11:33:34.293Z"
   },
   {
    "duration": 21,
    "start_time": "2022-05-13T11:33:34.299Z"
   },
   {
    "duration": 12,
    "start_time": "2022-05-13T11:33:34.322Z"
   },
   {
    "duration": 20,
    "start_time": "2022-05-13T11:33:34.337Z"
   },
   {
    "duration": 29,
    "start_time": "2022-05-13T11:33:34.360Z"
   },
   {
    "duration": 37,
    "start_time": "2022-05-13T11:33:34.392Z"
   },
   {
    "duration": 7,
    "start_time": "2022-05-13T11:33:34.431Z"
   },
   {
    "duration": 6,
    "start_time": "2022-05-13T11:33:34.440Z"
   },
   {
    "duration": 15,
    "start_time": "2022-05-13T11:33:34.448Z"
   },
   {
    "duration": 6,
    "start_time": "2022-05-13T11:33:34.465Z"
   },
   {
    "duration": 51,
    "start_time": "2022-05-13T11:33:34.473Z"
   },
   {
    "duration": 5,
    "start_time": "2022-05-13T11:33:34.527Z"
   },
   {
    "duration": 17,
    "start_time": "2022-05-13T11:33:34.534Z"
   },
   {
    "duration": 7,
    "start_time": "2022-05-13T11:33:34.555Z"
   },
   {
    "duration": 77,
    "start_time": "2022-05-13T11:33:34.565Z"
   },
   {
    "duration": 81,
    "start_time": "2022-05-13T11:33:34.646Z"
   },
   {
    "duration": 26,
    "start_time": "2022-05-13T11:33:34.729Z"
   },
   {
    "duration": 7,
    "start_time": "2022-05-13T11:33:34.758Z"
   },
   {
    "duration": 7,
    "start_time": "2022-05-13T11:33:34.767Z"
   },
   {
    "duration": 55,
    "start_time": "2022-05-13T11:33:34.776Z"
   },
   {
    "duration": 5,
    "start_time": "2022-05-13T11:33:34.834Z"
   },
   {
    "duration": 97,
    "start_time": "2022-05-13T11:33:34.841Z"
   },
   {
    "duration": 10,
    "start_time": "2022-05-13T11:33:34.940Z"
   },
   {
    "duration": 1148,
    "start_time": "2022-05-15T10:59:18.782Z"
   },
   {
    "duration": 18,
    "start_time": "2022-05-15T10:59:19.932Z"
   },
   {
    "duration": 17,
    "start_time": "2022-05-15T10:59:19.952Z"
   },
   {
    "duration": 11,
    "start_time": "2022-05-15T10:59:19.970Z"
   },
   {
    "duration": 34,
    "start_time": "2022-05-15T10:59:19.983Z"
   },
   {
    "duration": 6,
    "start_time": "2022-05-15T10:59:20.020Z"
   },
   {
    "duration": 6,
    "start_time": "2022-05-15T10:59:20.027Z"
   },
   {
    "duration": 4,
    "start_time": "2022-05-15T10:59:20.035Z"
   },
   {
    "duration": 11,
    "start_time": "2022-05-15T10:59:20.040Z"
   },
   {
    "duration": 5,
    "start_time": "2022-05-15T10:59:20.052Z"
   },
   {
    "duration": 6,
    "start_time": "2022-05-15T10:59:20.058Z"
   },
   {
    "duration": 43,
    "start_time": "2022-05-15T10:59:20.065Z"
   },
   {
    "duration": 9,
    "start_time": "2022-05-15T10:59:20.109Z"
   },
   {
    "duration": 6,
    "start_time": "2022-05-15T10:59:20.120Z"
   },
   {
    "duration": 5,
    "start_time": "2022-05-15T10:59:20.128Z"
   },
   {
    "duration": 74,
    "start_time": "2022-05-15T10:59:20.134Z"
   },
   {
    "duration": 17,
    "start_time": "2022-05-15T10:59:20.210Z"
   },
   {
    "duration": 6,
    "start_time": "2022-05-15T10:59:20.308Z"
   },
   {
    "duration": 9,
    "start_time": "2022-05-15T10:59:20.315Z"
   },
   {
    "duration": 10,
    "start_time": "2022-05-15T10:59:20.326Z"
   },
   {
    "duration": 71,
    "start_time": "2022-05-15T10:59:20.339Z"
   },
   {
    "duration": 96,
    "start_time": "2022-05-15T10:59:20.413Z"
   },
   {
    "duration": 8,
    "start_time": "2022-05-15T10:59:20.510Z"
   },
   {
    "duration": 3,
    "start_time": "2022-05-15T11:00:37.166Z"
   },
   {
    "duration": 20,
    "start_time": "2022-05-15T11:02:40.999Z"
   },
   {
    "duration": 20,
    "start_time": "2022-05-15T11:02:49.303Z"
   },
   {
    "duration": 5,
    "start_time": "2022-05-15T11:04:54.351Z"
   },
   {
    "duration": 4,
    "start_time": "2022-05-15T11:04:59.367Z"
   },
   {
    "duration": 66,
    "start_time": "2022-05-15T11:05:40.840Z"
   },
   {
    "duration": 71,
    "start_time": "2022-05-15T11:06:11.784Z"
   },
   {
    "duration": 76,
    "start_time": "2022-05-15T11:06:34.040Z"
   },
   {
    "duration": 58,
    "start_time": "2022-05-15T11:07:26.824Z"
   },
   {
    "duration": 65,
    "start_time": "2022-05-15T11:07:46.808Z"
   },
   {
    "duration": 66,
    "start_time": "2022-05-15T11:08:28.168Z"
   },
   {
    "duration": 4,
    "start_time": "2022-05-15T11:08:48.553Z"
   },
   {
    "duration": 34,
    "start_time": "2022-05-15T11:09:27.480Z"
   },
   {
    "duration": 4,
    "start_time": "2022-05-15T11:10:24.984Z"
   },
   {
    "duration": 37,
    "start_time": "2022-05-15T11:10:25.816Z"
   },
   {
    "duration": 4,
    "start_time": "2022-05-15T11:11:09.064Z"
   },
   {
    "duration": 37,
    "start_time": "2022-05-15T11:11:10.600Z"
   },
   {
    "duration": 5,
    "start_time": "2022-05-15T11:11:20.137Z"
   },
   {
    "duration": 36,
    "start_time": "2022-05-15T11:11:20.697Z"
   },
   {
    "duration": 4,
    "start_time": "2022-05-15T11:11:26.521Z"
   },
   {
    "duration": 35,
    "start_time": "2022-05-15T11:11:27.832Z"
   },
   {
    "duration": 4,
    "start_time": "2022-05-15T11:11:58.729Z"
   },
   {
    "duration": 36,
    "start_time": "2022-05-15T11:11:59.240Z"
   },
   {
    "duration": 59,
    "start_time": "2022-05-15T11:12:29.848Z"
   },
   {
    "duration": 36,
    "start_time": "2022-05-15T11:12:30.968Z"
   },
   {
    "duration": 65,
    "start_time": "2022-05-15T11:12:35.385Z"
   },
   {
    "duration": 4,
    "start_time": "2022-05-15T11:12:46.344Z"
   },
   {
    "duration": 35,
    "start_time": "2022-05-15T11:12:48.029Z"
   },
   {
    "duration": 5,
    "start_time": "2022-05-15T11:13:22.904Z"
   },
   {
    "duration": 36,
    "start_time": "2022-05-15T11:13:23.855Z"
   },
   {
    "duration": 5,
    "start_time": "2022-05-15T11:13:29.864Z"
   },
   {
    "duration": 36,
    "start_time": "2022-05-15T11:13:30.523Z"
   },
   {
    "duration": 90,
    "start_time": "2022-05-15T11:13:36.057Z"
   },
   {
    "duration": 34,
    "start_time": "2022-05-15T11:13:37.016Z"
   },
   {
    "duration": 4,
    "start_time": "2022-05-15T11:13:45.066Z"
   },
   {
    "duration": 36,
    "start_time": "2022-05-15T11:13:45.784Z"
   },
   {
    "duration": 4,
    "start_time": "2022-05-15T11:13:55.306Z"
   },
   {
    "duration": 36,
    "start_time": "2022-05-15T11:13:56.152Z"
   },
   {
    "duration": 4,
    "start_time": "2022-05-15T11:14:25.353Z"
   },
   {
    "duration": 36,
    "start_time": "2022-05-15T11:14:26.632Z"
   },
   {
    "duration": 4,
    "start_time": "2022-05-15T11:14:48.713Z"
   },
   {
    "duration": 34,
    "start_time": "2022-05-15T11:14:49.416Z"
   },
   {
    "duration": 5,
    "start_time": "2022-05-15T11:15:10.313Z"
   },
   {
    "duration": 34,
    "start_time": "2022-05-15T11:15:10.825Z"
   },
   {
    "duration": 5,
    "start_time": "2022-05-15T11:15:20.618Z"
   },
   {
    "duration": 36,
    "start_time": "2022-05-15T11:15:21.032Z"
   },
   {
    "duration": 5,
    "start_time": "2022-05-15T11:16:18.073Z"
   },
   {
    "duration": 1537,
    "start_time": "2022-05-15T11:16:20.312Z"
   },
   {
    "duration": 115,
    "start_time": "2022-05-15T11:17:01.209Z"
   },
   {
    "duration": 4,
    "start_time": "2022-05-15T11:17:42.153Z"
   },
   {
    "duration": 6,
    "start_time": "2022-05-15T11:18:31.706Z"
   },
   {
    "duration": 1022,
    "start_time": "2022-05-15T11:18:32.537Z"
   },
   {
    "duration": 64,
    "start_time": "2022-05-15T11:18:54.793Z"
   },
   {
    "duration": 1093,
    "start_time": "2022-05-15T11:18:55.306Z"
   },
   {
    "duration": 5,
    "start_time": "2022-05-15T11:19:10.074Z"
   },
   {
    "duration": 1167,
    "start_time": "2022-05-15T11:19:10.656Z"
   },
   {
    "duration": 5,
    "start_time": "2022-05-15T11:19:22.314Z"
   },
   {
    "duration": 5,
    "start_time": "2022-05-15T11:20:17.897Z"
   },
   {
    "duration": 1219,
    "start_time": "2022-05-15T11:20:18.601Z"
   },
   {
    "duration": 5,
    "start_time": "2022-05-15T11:20:33.998Z"
   },
   {
    "duration": 1090,
    "start_time": "2022-05-15T11:20:34.825Z"
   },
   {
    "duration": 5,
    "start_time": "2022-05-15T11:20:51.097Z"
   },
   {
    "duration": 1239,
    "start_time": "2022-05-15T11:20:51.770Z"
   },
   {
    "duration": 118,
    "start_time": "2022-05-15T11:21:09.706Z"
   },
   {
    "duration": 1206,
    "start_time": "2022-05-15T11:21:10.489Z"
   },
   {
    "duration": 353,
    "start_time": "2022-05-15T11:22:21.707Z"
   },
   {
    "duration": 1092,
    "start_time": "2022-05-15T11:22:22.286Z"
   },
   {
    "duration": 5,
    "start_time": "2022-05-15T11:22:37.997Z"
   },
   {
    "duration": 1087,
    "start_time": "2022-05-15T11:22:39.034Z"
   },
   {
    "duration": 67,
    "start_time": "2022-05-15T11:22:51.931Z"
   },
   {
    "duration": 1045,
    "start_time": "2022-05-15T11:22:53.051Z"
   },
   {
    "duration": 61,
    "start_time": "2022-05-15T11:23:12.167Z"
   },
   {
    "duration": 1228,
    "start_time": "2022-05-15T11:23:12.890Z"
   },
   {
    "duration": 6,
    "start_time": "2022-05-15T11:23:23.818Z"
   },
   {
    "duration": 989,
    "start_time": "2022-05-15T11:23:24.554Z"
   },
   {
    "duration": 5,
    "start_time": "2022-05-15T11:23:49.722Z"
   },
   {
    "duration": 42,
    "start_time": "2022-05-15T11:23:50.346Z"
   },
   {
    "duration": 5,
    "start_time": "2022-05-15T11:23:58.043Z"
   },
   {
    "duration": 1190,
    "start_time": "2022-05-15T11:23:59.498Z"
   },
   {
    "duration": 6,
    "start_time": "2022-05-15T11:24:36.443Z"
   },
   {
    "duration": 1362,
    "start_time": "2022-05-15T11:24:38.186Z"
   },
   {
    "duration": 5,
    "start_time": "2022-05-15T11:24:52.939Z"
   },
   {
    "duration": 1299,
    "start_time": "2022-05-15T11:24:53.932Z"
   },
   {
    "duration": 6,
    "start_time": "2022-05-15T11:25:16.332Z"
   },
   {
    "duration": 1361,
    "start_time": "2022-05-15T11:25:16.970Z"
   },
   {
    "duration": 4,
    "start_time": "2022-05-15T11:46:57.342Z"
   },
   {
    "duration": 8,
    "start_time": "2022-05-15T11:46:57.847Z"
   },
   {
    "duration": 2,
    "start_time": "2022-05-15T11:46:58.430Z"
   },
   {
    "duration": 4,
    "start_time": "2022-05-15T11:47:01.245Z"
   },
   {
    "duration": 689,
    "start_time": "2022-05-15T12:19:56.033Z"
   },
   {
    "duration": 76,
    "start_time": "2022-05-15T12:23:33.441Z"
   },
   {
    "duration": 57,
    "start_time": "2022-05-15T12:26:38.146Z"
   },
   {
    "duration": 3,
    "start_time": "2022-05-15T12:29:27.793Z"
   },
   {
    "duration": 15,
    "start_time": "2022-05-15T12:29:27.798Z"
   },
   {
    "duration": 5,
    "start_time": "2022-05-15T12:29:27.815Z"
   },
   {
    "duration": 1366,
    "start_time": "2022-05-15T12:29:27.822Z"
   },
   {
    "duration": 3,
    "start_time": "2022-05-15T12:29:29.190Z"
   },
   {
    "duration": 25,
    "start_time": "2022-05-15T12:29:29.195Z"
   },
   {
    "duration": 4,
    "start_time": "2022-05-15T12:29:29.221Z"
   },
   {
    "duration": 5,
    "start_time": "2022-05-15T12:29:29.227Z"
   },
   {
    "duration": 3,
    "start_time": "2022-05-15T12:29:29.233Z"
   },
   {
    "duration": 9,
    "start_time": "2022-05-15T12:29:29.238Z"
   },
   {
    "duration": 4,
    "start_time": "2022-05-15T12:29:29.250Z"
   },
   {
    "duration": 5,
    "start_time": "2022-05-15T12:29:29.309Z"
   },
   {
    "duration": 92,
    "start_time": "2022-05-15T12:29:29.316Z"
   },
   {
    "duration": 14,
    "start_time": "2022-05-15T12:29:29.409Z"
   },
   {
    "duration": 5,
    "start_time": "2022-05-15T12:29:29.424Z"
   },
   {
    "duration": 5,
    "start_time": "2022-05-15T12:29:29.431Z"
   },
   {
    "duration": 11,
    "start_time": "2022-05-15T12:29:29.437Z"
   },
   {
    "duration": 5,
    "start_time": "2022-05-15T12:29:29.509Z"
   },
   {
    "duration": 91,
    "start_time": "2022-05-15T12:29:29.517Z"
   },
   {
    "duration": 8,
    "start_time": "2022-05-15T12:29:29.609Z"
   },
   {
    "duration": 1540,
    "start_time": "2022-05-16T09:56:22.800Z"
   },
   {
    "duration": 18,
    "start_time": "2022-05-16T09:56:24.342Z"
   },
   {
    "duration": 5,
    "start_time": "2022-05-16T09:56:24.362Z"
   },
   {
    "duration": 1086,
    "start_time": "2022-05-16T09:56:24.368Z"
   },
   {
    "duration": 8,
    "start_time": "2022-05-16T09:56:25.456Z"
   },
   {
    "duration": 14,
    "start_time": "2022-05-16T09:56:25.465Z"
   },
   {
    "duration": 5,
    "start_time": "2022-05-16T09:56:25.480Z"
   },
   {
    "duration": 11,
    "start_time": "2022-05-16T09:56:25.486Z"
   },
   {
    "duration": 5,
    "start_time": "2022-05-16T09:56:25.498Z"
   },
   {
    "duration": 10,
    "start_time": "2022-05-16T09:56:25.504Z"
   },
   {
    "duration": 49,
    "start_time": "2022-05-16T09:56:25.515Z"
   },
   {
    "duration": 4,
    "start_time": "2022-05-16T09:56:25.566Z"
   },
   {
    "duration": 94,
    "start_time": "2022-05-16T09:56:25.572Z"
   },
   {
    "duration": 13,
    "start_time": "2022-05-16T09:56:25.669Z"
   },
   {
    "duration": 4,
    "start_time": "2022-05-16T09:56:25.684Z"
   },
   {
    "duration": 4,
    "start_time": "2022-05-16T09:56:25.690Z"
   },
   {
    "duration": 68,
    "start_time": "2022-05-16T09:56:25.696Z"
   },
   {
    "duration": 4,
    "start_time": "2022-05-16T09:56:25.766Z"
   },
   {
    "duration": 92,
    "start_time": "2022-05-16T09:56:25.772Z"
   },
   {
    "duration": 5,
    "start_time": "2022-05-16T09:56:25.866Z"
   },
   {
    "duration": 198,
    "start_time": "2022-05-16T09:59:35.138Z"
   },
   {
    "duration": 4,
    "start_time": "2022-05-16T10:02:51.928Z"
   },
   {
    "duration": 4,
    "start_time": "2022-05-16T10:02:53.601Z"
   }
  ],
  "kernelspec": {
   "display_name": "Python 3 (ipykernel)",
   "language": "python",
   "name": "python3"
  },
  "language_info": {
   "codemirror_mode": {
    "name": "ipython",
    "version": 3
   },
   "file_extension": ".py",
   "mimetype": "text/x-python",
   "name": "python",
   "nbconvert_exporter": "python",
   "pygments_lexer": "ipython3",
   "version": "3.9.5"
  },
  "toc": {
   "base_numbering": 1,
   "nav_menu": {},
   "number_sections": true,
   "sideBar": true,
   "skip_h1_title": true,
   "title_cell": "Содержание",
   "title_sidebar": "Contents",
   "toc_cell": true,
   "toc_position": {
    "height": "calc(100% - 180px)",
    "left": "10px",
    "top": "150px",
    "width": "406.729px"
   },
   "toc_section_display": true,
   "toc_window_display": true
  }
 },
 "nbformat": 4,
 "nbformat_minor": 2
}
