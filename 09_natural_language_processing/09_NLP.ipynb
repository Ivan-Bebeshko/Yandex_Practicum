{
 "cells": [
  {
   "attachments": {},
   "cell_type": "markdown",
   "metadata": {
    "toc": true
   },
   "source": [
    "<h1>Содержание<span class=\"tocSkip\"></span></h1>\n",
    "</span></li></ul></li><li><span><a href=\"#Подготовка\" data-toc-modified-id=\"Подготовка-1\"><span class=\"toc-item-num\">1&nbsp;&nbsp;</span>Подготовка</a></span></li><li><span><a href=\"#Обучение\" data-toc-modified-id=\"Обучение-2\"><span class=\"toc-item-num\">2&nbsp;&nbsp;</span>Обучение</a></span><ul class=\"toc-item\"><li><span><a href=\"#Токенизация-и-лемматизация\" data-toc-modified-id=\"Токенизация-и-лемматизация-2.1\"><span class=\"toc-item-num\">2.1&nbsp;&nbsp;</span>Токенизация и лемматизация</a></span></li><li><span><a href=\"#Деление-выборки:-тестовая-и-валидационная\" data-toc-modified-id=\"Деление-выборки:-тестовая-и-валидационная-2.2\"><span class=\"toc-item-num\">2.2&nbsp;&nbsp;</span>Деление выборки: тестовая и валидационная</a></span></li><li><span><a href=\"#Векторизация-тестовой-и-валидационной-выборки\" data-toc-modified-id=\"Векторизация-тестовой-и-валидационной-выборки-2.3\"><span class=\"toc-item-num\">2.3&nbsp;&nbsp;</span>Векторизация тестовой и валидационной выборки</a></span></li><li><span><a href=\"#Обучение-моделей\" data-toc-modified-id=\"Обучение-моделей-2.4\"><span class=\"toc-item-num\">2.4&nbsp;&nbsp;</span>Обучение моделей</a></span><ul class=\"toc-item\"><li><span><a href=\"#Логистическая-регрессия\" data-toc-modified-id=\"Логистическая-регрессия-2.4.1\"><span class=\"toc-item-num\">2.4.1&nbsp;&nbsp;</span>Логистическая регрессия</a></span></li><li><span><a href=\"#Кросс-валидация-RandomizedSearchCV-для-LGBMRegressor\" data-toc-modified-id=\"Кросс-валидация-RandomizedSearchCV-для-LGBMRegressor-2.4.2\"><span class=\"toc-item-num\">2.4.2&nbsp;&nbsp;</span>Кросс-валидация RandomizedSearchCV для LGBMRegressor</a></span></li></ul></li></ul></li><li><span><a href=\"#Выводы\" data-toc-modified-id=\"Выводы-3\"><span class=\"toc-item-num\">3&nbsp;&nbsp;</span>Выводы</a></span></li><li><span><a href=\"#Чек-лист-проверки\" data-toc-modified-id=\"Чек-лист-проверки-4\"><span class=\"toc-item-num\">4&nbsp;&nbsp;</span>Чек-лист проверки</a></span></li></ul></div>"
   ]
  },
  {
   "cell_type": "markdown",
   "metadata": {
    "id": "U2vZT6WXr6nZ"
   },
   "source": [
    "# Проект для «Викишоп»"
   ]
  },
  {
   "attachments": {},
   "cell_type": "markdown",
   "metadata": {
    "id": "-C8ugwfVr6na"
   },
   "source": [
    "Интернет-магазин запускает новый сервис. Теперь пользователи могут редактировать и дополнять описания товаров, как в вики-сообществах. То есть клиенты предлагают свои правки и комментируют изменения других. Магазину нужен инструмент, который будет искать токсичные комментарии и отправлять их на модерацию. \n",
    "\n",
    "Обучите модель классифицировать комментарии на позитивные и негативные. В вашем распоряжении набор данных с разметкой о токсичности правок.\n",
    "\n",
    "Постройте модель со значением метрики качества *F1* не меньше 0.75. \n",
    "\n",
    "**Инструкция по выполнению проекта**\n",
    "\n",
    "1. Загрузить и подготовить данные.\n",
    "2. Обучить несколько моделей. \n",
    "3. Сформулировать выводы.\n",
    "\n",
    "**Описание данных**\n",
    "\n",
    "Данные находятся в файле `toxic_comments.csv`. Столбец *text* в нём содержит текст комментария, а *toxic* — целевой признак."
   ]
  },
  {
   "cell_type": "markdown",
   "metadata": {
    "id": "7TYFYYvjr6nb"
   },
   "source": [
    "## Подготовка"
   ]
  },
  {
   "cell_type": "code",
   "execution_count": 29,
   "metadata": {
    "colab": {
     "base_uri": "https://localhost:8080/"
    },
    "id": "LJxx-xa9r6nb",
    "outputId": "19457295-6f20-4e30-de21-f1b3ebeb5b49"
   },
   "outputs": [
    {
     "name": "stderr",
     "output_type": "stream",
     "text": [
      "[nltk_data] Downloading package wordnet to /root/nltk_data...\n",
      "[nltk_data]   Package wordnet is already up-to-date!\n"
     ]
    }
   ],
   "source": [
    "import pandas as pd                                         # библиотека pandas\n",
    "import numpy as np                                          # библиотека работы с массивами numpy\n",
    "import nltk                                                 # платформа для работы с данными человеческого языка\n",
    "import re                                                   # встроенный модуль для работы с регулярными выражениями\n",
    "from nltk.corpus import stopwords as nltk_stops             # загрузка стоп слов не несущих смысловой нагрузки               \n",
    "from nltk.stem import WordNetLemmatizer                     # иснтрумент лемматизации (английского языка)     \n",
    "nltk.download('wordnet')\n",
    "\n",
    "from sklearn.linear_model import LogisticRegression         # алгоритм — логистическая регрессия\n",
    "from sklearn.feature_extraction.text import TfidfVectorizer # класс TfidfVectorizer, счётчик упоминания слов для создания векторов\n",
    "from sklearn.model_selection import train_test_split        # иструмент деления выборки\n",
    "from sklearn.model_selection import RandomizedSearchCV      # импортируем инструмент кросс-валидации и обучения модели (рандом)\n",
    "from lightgbm import LGBMClassifier                         # алгоритм «лёгкого градиентного бустинга»\n",
    "from scipy.stats import randint                             # подбор рандомных значений в диапазоне\n",
    "\n",
    "from sklearn.metrics import f1_score                        #f1 мера (среднее гармоническое полноты и точности)"
   ]
  },
  {
   "cell_type": "code",
   "execution_count": null,
   "metadata": {
    "colab": {
     "base_uri": "https://localhost:8080/"
    },
    "id": "YRGwK-OOvI64",
    "outputId": "96a33a60-e1d7-4390-f77f-45d328186739"
   },
   "outputs": [
    {
     "name": "stderr",
     "output_type": "stream",
     "text": [
      "[nltk_data] Downloading package punkt to /root/nltk_data...\n",
      "[nltk_data]   Unzipping tokenizers/punkt.zip.\n",
      "[nltk_data] Downloading package omw-1.4 to /root/nltk_data...\n",
      "[nltk_data]   Unzipping corpora/omw-1.4.zip.\n"
     ]
    },
    {
     "data": {
      "text/plain": [
       "True"
      ]
     },
     "metadata": {},
     "output_type": "display_data"
    }
   ],
   "source": [
    "import nltk\n",
    "nltk.download('punkt')\n",
    "nltk.download('omw-1.4')"
   ]
  },
  {
   "cell_type": "code",
   "execution_count": 4,
   "metadata": {
    "id": "gPp_XW7Gr6nd"
   },
   "outputs": [],
   "source": [
    "df = pd.read_csv('/datasets/toxic_comments.csv')"
   ]
  },
  {
   "cell_type": "code",
   "execution_count": 5,
   "metadata": {
    "colab": {
     "base_uri": "https://localhost:8080/"
    },
    "id": "izoEI84kr6nd",
    "outputId": "e05f303f-b0e4-46ee-bc01-faa36dc7ae2a"
   },
   "outputs": [
    {
     "name": "stdout",
     "output_type": "stream",
     "text": [
      "<class 'pandas.core.frame.DataFrame'>\n",
      "RangeIndex: 159571 entries, 0 to 159570\n",
      "Data columns (total 2 columns):\n",
      " #   Column  Non-Null Count   Dtype \n",
      "---  ------  --------------   ----- \n",
      " 0   text    159571 non-null  object\n",
      " 1   toxic   159571 non-null  int64 \n",
      "dtypes: int64(1), object(1)\n",
      "memory usage: 2.4+ MB\n"
     ]
    }
   ],
   "source": [
    "df.info()"
   ]
  },
  {
   "cell_type": "code",
   "execution_count": 6,
   "metadata": {
    "colab": {
     "base_uri": "https://localhost:8080/",
     "height": 206
    },
    "id": "mD2586N8r6ne",
    "outputId": "f5b42332-474c-42f9-afca-399ca14865a7"
   },
   "outputs": [
    {
     "data": {
      "text/html": [
       "\n",
       "  <div id=\"df-9cddcbc9-4174-46df-ad01-2c6d5b0b320b\">\n",
       "    <div class=\"colab-df-container\">\n",
       "      <div>\n",
       "<style scoped>\n",
       "    .dataframe tbody tr th:only-of-type {\n",
       "        vertical-align: middle;\n",
       "    }\n",
       "\n",
       "    .dataframe tbody tr th {\n",
       "        vertical-align: top;\n",
       "    }\n",
       "\n",
       "    .dataframe thead th {\n",
       "        text-align: right;\n",
       "    }\n",
       "</style>\n",
       "<table border=\"1\" class=\"dataframe\">\n",
       "  <thead>\n",
       "    <tr style=\"text-align: right;\">\n",
       "      <th></th>\n",
       "      <th>text</th>\n",
       "      <th>toxic</th>\n",
       "    </tr>\n",
       "  </thead>\n",
       "  <tbody>\n",
       "    <tr>\n",
       "      <th>0</th>\n",
       "      <td>Explanation\\nWhy the edits made under my usern...</td>\n",
       "      <td>0</td>\n",
       "    </tr>\n",
       "    <tr>\n",
       "      <th>1</th>\n",
       "      <td>D'aww! He matches this background colour I'm s...</td>\n",
       "      <td>0</td>\n",
       "    </tr>\n",
       "    <tr>\n",
       "      <th>2</th>\n",
       "      <td>Hey man, I'm really not trying to edit war. It...</td>\n",
       "      <td>0</td>\n",
       "    </tr>\n",
       "    <tr>\n",
       "      <th>3</th>\n",
       "      <td>\"\\nMore\\nI can't make any real suggestions on ...</td>\n",
       "      <td>0</td>\n",
       "    </tr>\n",
       "    <tr>\n",
       "      <th>4</th>\n",
       "      <td>You, sir, are my hero. Any chance you remember...</td>\n",
       "      <td>0</td>\n",
       "    </tr>\n",
       "  </tbody>\n",
       "</table>\n",
       "</div>\n",
       "      <button class=\"colab-df-convert\" onclick=\"convertToInteractive('df-9cddcbc9-4174-46df-ad01-2c6d5b0b320b')\"\n",
       "              title=\"Convert this dataframe to an interactive table.\"\n",
       "              style=\"display:none;\">\n",
       "        \n",
       "  <svg xmlns=\"http://www.w3.org/2000/svg\" height=\"24px\"viewBox=\"0 0 24 24\"\n",
       "       width=\"24px\">\n",
       "    <path d=\"M0 0h24v24H0V0z\" fill=\"none\"/>\n",
       "    <path d=\"M18.56 5.44l.94 2.06.94-2.06 2.06-.94-2.06-.94-.94-2.06-.94 2.06-2.06.94zm-11 1L8.5 8.5l.94-2.06 2.06-.94-2.06-.94L8.5 2.5l-.94 2.06-2.06.94zm10 10l.94 2.06.94-2.06 2.06-.94-2.06-.94-.94-2.06-.94 2.06-2.06.94z\"/><path d=\"M17.41 7.96l-1.37-1.37c-.4-.4-.92-.59-1.43-.59-.52 0-1.04.2-1.43.59L10.3 9.45l-7.72 7.72c-.78.78-.78 2.05 0 2.83L4 21.41c.39.39.9.59 1.41.59.51 0 1.02-.2 1.41-.59l7.78-7.78 2.81-2.81c.8-.78.8-2.07 0-2.86zM5.41 20L4 18.59l7.72-7.72 1.47 1.35L5.41 20z\"/>\n",
       "  </svg>\n",
       "      </button>\n",
       "      \n",
       "  <style>\n",
       "    .colab-df-container {\n",
       "      display:flex;\n",
       "      flex-wrap:wrap;\n",
       "      gap: 12px;\n",
       "    }\n",
       "\n",
       "    .colab-df-convert {\n",
       "      background-color: #E8F0FE;\n",
       "      border: none;\n",
       "      border-radius: 50%;\n",
       "      cursor: pointer;\n",
       "      display: none;\n",
       "      fill: #1967D2;\n",
       "      height: 32px;\n",
       "      padding: 0 0 0 0;\n",
       "      width: 32px;\n",
       "    }\n",
       "\n",
       "    .colab-df-convert:hover {\n",
       "      background-color: #E2EBFA;\n",
       "      box-shadow: 0px 1px 2px rgba(60, 64, 67, 0.3), 0px 1px 3px 1px rgba(60, 64, 67, 0.15);\n",
       "      fill: #174EA6;\n",
       "    }\n",
       "\n",
       "    [theme=dark] .colab-df-convert {\n",
       "      background-color: #3B4455;\n",
       "      fill: #D2E3FC;\n",
       "    }\n",
       "\n",
       "    [theme=dark] .colab-df-convert:hover {\n",
       "      background-color: #434B5C;\n",
       "      box-shadow: 0px 1px 3px 1px rgba(0, 0, 0, 0.15);\n",
       "      filter: drop-shadow(0px 1px 2px rgba(0, 0, 0, 0.3));\n",
       "      fill: #FFFFFF;\n",
       "    }\n",
       "  </style>\n",
       "\n",
       "      <script>\n",
       "        const buttonEl =\n",
       "          document.querySelector('#df-9cddcbc9-4174-46df-ad01-2c6d5b0b320b button.colab-df-convert');\n",
       "        buttonEl.style.display =\n",
       "          google.colab.kernel.accessAllowed ? 'block' : 'none';\n",
       "\n",
       "        async function convertToInteractive(key) {\n",
       "          const element = document.querySelector('#df-9cddcbc9-4174-46df-ad01-2c6d5b0b320b');\n",
       "          const dataTable =\n",
       "            await google.colab.kernel.invokeFunction('convertToInteractive',\n",
       "                                                     [key], {});\n",
       "          if (!dataTable) return;\n",
       "\n",
       "          const docLinkHtml = 'Like what you see? Visit the ' +\n",
       "            '<a target=\"_blank\" href=https://colab.research.google.com/notebooks/data_table.ipynb>data table notebook</a>'\n",
       "            + ' to learn more about interactive tables.';\n",
       "          element.innerHTML = '';\n",
       "          dataTable['output_type'] = 'display_data';\n",
       "          await google.colab.output.renderOutput(dataTable, element);\n",
       "          const docLink = document.createElement('div');\n",
       "          docLink.innerHTML = docLinkHtml;\n",
       "          element.appendChild(docLink);\n",
       "        }\n",
       "      </script>\n",
       "    </div>\n",
       "  </div>\n",
       "  "
      ],
      "text/plain": [
       "                                                text  toxic\n",
       "0  Explanation\\nWhy the edits made under my usern...      0\n",
       "1  D'aww! He matches this background colour I'm s...      0\n",
       "2  Hey man, I'm really not trying to edit war. It...      0\n",
       "3  \"\\nMore\\nI can't make any real suggestions on ...      0\n",
       "4  You, sir, are my hero. Any chance you remember...      0"
      ]
     },
     "execution_count": 6,
     "metadata": {},
     "output_type": "execute_result"
    }
   ],
   "source": [
    "df.head()"
   ]
  },
  {
   "cell_type": "code",
   "execution_count": 7,
   "metadata": {
    "colab": {
     "base_uri": "https://localhost:8080/",
     "height": 143
    },
    "id": "_kKWUGvfr6nf",
    "outputId": "180b4360-78f9-470c-b581-6637c9bb862a"
   },
   "outputs": [
    {
     "data": {
      "text/html": [
       "\n",
       "  <div id=\"df-74c1e00a-a379-448c-9149-63113e7c3363\">\n",
       "    <div class=\"colab-df-container\">\n",
       "      <div>\n",
       "<style scoped>\n",
       "    .dataframe tbody tr th:only-of-type {\n",
       "        vertical-align: middle;\n",
       "    }\n",
       "\n",
       "    .dataframe tbody tr th {\n",
       "        vertical-align: top;\n",
       "    }\n",
       "\n",
       "    .dataframe thead th {\n",
       "        text-align: right;\n",
       "    }\n",
       "</style>\n",
       "<table border=\"1\" class=\"dataframe\">\n",
       "  <thead>\n",
       "    <tr style=\"text-align: right;\">\n",
       "      <th></th>\n",
       "      <th>text</th>\n",
       "    </tr>\n",
       "    <tr>\n",
       "      <th>toxic</th>\n",
       "      <th></th>\n",
       "    </tr>\n",
       "  </thead>\n",
       "  <tbody>\n",
       "    <tr>\n",
       "      <th>0</th>\n",
       "      <td>143346</td>\n",
       "    </tr>\n",
       "    <tr>\n",
       "      <th>1</th>\n",
       "      <td>16225</td>\n",
       "    </tr>\n",
       "  </tbody>\n",
       "</table>\n",
       "</div>\n",
       "      <button class=\"colab-df-convert\" onclick=\"convertToInteractive('df-74c1e00a-a379-448c-9149-63113e7c3363')\"\n",
       "              title=\"Convert this dataframe to an interactive table.\"\n",
       "              style=\"display:none;\">\n",
       "        \n",
       "  <svg xmlns=\"http://www.w3.org/2000/svg\" height=\"24px\"viewBox=\"0 0 24 24\"\n",
       "       width=\"24px\">\n",
       "    <path d=\"M0 0h24v24H0V0z\" fill=\"none\"/>\n",
       "    <path d=\"M18.56 5.44l.94 2.06.94-2.06 2.06-.94-2.06-.94-.94-2.06-.94 2.06-2.06.94zm-11 1L8.5 8.5l.94-2.06 2.06-.94-2.06-.94L8.5 2.5l-.94 2.06-2.06.94zm10 10l.94 2.06.94-2.06 2.06-.94-2.06-.94-.94-2.06-.94 2.06-2.06.94z\"/><path d=\"M17.41 7.96l-1.37-1.37c-.4-.4-.92-.59-1.43-.59-.52 0-1.04.2-1.43.59L10.3 9.45l-7.72 7.72c-.78.78-.78 2.05 0 2.83L4 21.41c.39.39.9.59 1.41.59.51 0 1.02-.2 1.41-.59l7.78-7.78 2.81-2.81c.8-.78.8-2.07 0-2.86zM5.41 20L4 18.59l7.72-7.72 1.47 1.35L5.41 20z\"/>\n",
       "  </svg>\n",
       "      </button>\n",
       "      \n",
       "  <style>\n",
       "    .colab-df-container {\n",
       "      display:flex;\n",
       "      flex-wrap:wrap;\n",
       "      gap: 12px;\n",
       "    }\n",
       "\n",
       "    .colab-df-convert {\n",
       "      background-color: #E8F0FE;\n",
       "      border: none;\n",
       "      border-radius: 50%;\n",
       "      cursor: pointer;\n",
       "      display: none;\n",
       "      fill: #1967D2;\n",
       "      height: 32px;\n",
       "      padding: 0 0 0 0;\n",
       "      width: 32px;\n",
       "    }\n",
       "\n",
       "    .colab-df-convert:hover {\n",
       "      background-color: #E2EBFA;\n",
       "      box-shadow: 0px 1px 2px rgba(60, 64, 67, 0.3), 0px 1px 3px 1px rgba(60, 64, 67, 0.15);\n",
       "      fill: #174EA6;\n",
       "    }\n",
       "\n",
       "    [theme=dark] .colab-df-convert {\n",
       "      background-color: #3B4455;\n",
       "      fill: #D2E3FC;\n",
       "    }\n",
       "\n",
       "    [theme=dark] .colab-df-convert:hover {\n",
       "      background-color: #434B5C;\n",
       "      box-shadow: 0px 1px 3px 1px rgba(0, 0, 0, 0.15);\n",
       "      filter: drop-shadow(0px 1px 2px rgba(0, 0, 0, 0.3));\n",
       "      fill: #FFFFFF;\n",
       "    }\n",
       "  </style>\n",
       "\n",
       "      <script>\n",
       "        const buttonEl =\n",
       "          document.querySelector('#df-74c1e00a-a379-448c-9149-63113e7c3363 button.colab-df-convert');\n",
       "        buttonEl.style.display =\n",
       "          google.colab.kernel.accessAllowed ? 'block' : 'none';\n",
       "\n",
       "        async function convertToInteractive(key) {\n",
       "          const element = document.querySelector('#df-74c1e00a-a379-448c-9149-63113e7c3363');\n",
       "          const dataTable =\n",
       "            await google.colab.kernel.invokeFunction('convertToInteractive',\n",
       "                                                     [key], {});\n",
       "          if (!dataTable) return;\n",
       "\n",
       "          const docLinkHtml = 'Like what you see? Visit the ' +\n",
       "            '<a target=\"_blank\" href=https://colab.research.google.com/notebooks/data_table.ipynb>data table notebook</a>'\n",
       "            + ' to learn more about interactive tables.';\n",
       "          element.innerHTML = '';\n",
       "          dataTable['output_type'] = 'display_data';\n",
       "          await google.colab.output.renderOutput(dataTable, element);\n",
       "          const docLink = document.createElement('div');\n",
       "          docLink.innerHTML = docLinkHtml;\n",
       "          element.appendChild(docLink);\n",
       "        }\n",
       "      </script>\n",
       "    </div>\n",
       "  </div>\n",
       "  "
      ],
      "text/plain": [
       "         text\n",
       "toxic        \n",
       "0      143346\n",
       "1       16225"
      ]
     },
     "metadata": {},
     "output_type": "display_data"
    }
   ],
   "source": [
    "# оценим балан классов по токсичности\n",
    "\n",
    "display(df.groupby('toxic').count())"
   ]
  },
  {
   "cell_type": "code",
   "execution_count": 8,
   "metadata": {
    "colab": {
     "base_uri": "https://localhost:8080/"
    },
    "id": "SafOUUqWr6nf",
    "outputId": "c7cc7b22-17bc-4098-bd9a-219b8ec58ee1"
   },
   "outputs": [
    {
     "name": "stdout",
     "output_type": "stream",
     "text": [
      "Отношение позитивных комментариев к негативным: 8.83\n"
     ]
    }
   ],
   "source": [
    "print(\"Отношение позитивных комментариев к негативным:\",\n",
    "      round(df.loc[df['toxic'] == 0, 'toxic'].count() / df.loc[df['toxic'] == 1, 'toxic'].count(),2))"
   ]
  },
  {
   "cell_type": "markdown",
   "metadata": {
    "id": "2RpG0IXRQrBi"
   },
   "source": [
    "**Вывод**: наблюдается дисбаланс классов, токсичных комментариев в 9 раз меньше, чем не токсичных."
   ]
  },
  {
   "cell_type": "markdown",
   "metadata": {
    "id": "SFETJFnMr6ng"
   },
   "source": [
    "## Обучение"
   ]
  },
  {
   "cell_type": "markdown",
   "metadata": {
    "id": "-Vt3frbBr6ng"
   },
   "source": [
    "Cхема:\n",
    "1. Проводится предобработка текста:\n",
    "    - Выполняют токенизацию каждого текста, то есть его разбивают на слова;\n",
    "    - Слова лемматизируют: приводят к начальной словарной форме;\n",
    "    - Текст очищают от стоп-слов и ненужных символов;\n",
    "    - Для корректной работы алгоритма добавляют маркеры начала и конца предложения (они приравниваются к токенам).\n",
    "2. На выходе у каждого исходного текста образуется свой список токенов.\n",
    "3. Затем токены передают модели, которая переводит их в векторные представления.\n",
    "    - На выходе для каждого текста образуются векторы заданной длины.\n",
    "4. На финальном этапе модели передают признаки (векторы) и она прогнозирует эмоциональную окраску текста."
   ]
  },
  {
   "cell_type": "code",
   "execution_count": 9,
   "metadata": {
    "id": "NusDGby8r6nh"
   },
   "outputs": [],
   "source": [
    "corpus = df['text'].values.astype('U') # переводим текс в корпус / лист слов "
   ]
  },
  {
   "cell_type": "code",
   "execution_count": 10,
   "metadata": {
    "colab": {
     "base_uri": "https://localhost:8080/"
    },
    "id": "b1eZApEkr6nh",
    "outputId": "af6f5003-77f3-4efb-f417-7f045c44b360",
    "scrolled": true
   },
   "outputs": [
    {
     "data": {
      "text/plain": [
       "array([\"Explanation\\nWhy the edits made under my username Hardcore Metallica Fan were reverted? They weren't vandalisms, just closure on some GAs after I voted at New York Dolls FAC. And please don't remove the template from the talk page since I'm retired now.89.205.38.27\",\n",
       "       \"D'aww! He matches this background colour I'm seemingly stuck with. Thanks.  (talk) 21:51, January 11, 2016 (UTC)\",\n",
       "       \"Hey man, I'm really not trying to edit war. It's just that this guy is constantly removing relevant information and talking to me through edits instead of my talk page. He seems to care more about the formatting than the actual info.\"],\n",
       "      dtype='<U5000')"
      ]
     },
     "execution_count": 10,
     "metadata": {},
     "output_type": "execute_result"
    }
   ],
   "source": [
    "corpus[0:3]"
   ]
  },
  {
   "cell_type": "markdown",
   "metadata": {
    "id": "OqbwhUhOr6nh"
   },
   "source": [
    "### Токенизация и лемматизация"
   ]
  },
  {
   "cell_type": "code",
   "execution_count": 11,
   "metadata": {
    "id": "QvotPN6hr6nh"
   },
   "outputs": [],
   "source": [
    "# функция перевода текста в лемматизированную форму:\n",
    "\n",
    "def lemma(text):\n",
    "    \n",
    "    lemmatizer = WordNetLemmatizer()\n",
    "    \n",
    "    token_list = nltk.word_tokenize(text)                                         # токенезируем текст, разделим на слова\n",
    "      \n",
    "    lemm_text = \" \".join([lemmatizer.lemmatize(w).lower() for w in token_list])   # лемматизируем и собираем текст в одну строку\n",
    "    \n",
    "    text_clear = \" \".join(re.sub(r'[0-9 ]', ' ', lemm_text).split())\n",
    "    \n",
    "    return text_clear"
   ]
  },
  {
   "cell_type": "code",
   "execution_count": 13,
   "metadata": {
    "id": "PnpZ0k_qr6ni"
   },
   "outputs": [],
   "source": [
    "for i in range(len(corpus)):                  # преобразуем каждую строку с помощью формулы\n",
    "    corpus[i] = lemma(corpus[i])"
   ]
  },
  {
   "cell_type": "code",
   "execution_count": 14,
   "metadata": {
    "colab": {
     "base_uri": "https://localhost:8080/"
    },
    "id": "kKTfZTg6r6nj",
    "outputId": "bd1ec427-4675-4b02-d5d2-148ee4f0179c"
   },
   "outputs": [
    {
     "data": {
      "text/plain": [
       "array([\"explanation why the edits made under my username hardcore metallica fan were reverted ? they were n't vandalism , just closure on some gas after i voted at new york dolls fac . and please do n't remove the template from the talk page since i 'm retired now. . . .\",\n",
       "       \"d'aww ! he match this background colour i 'm seemingly stuck with . thanks . ( talk ) : , january , ( utc )\",\n",
       "       \"hey man , i 'm really not trying to edit war . it 's just that this guy is constantly removing relevant information and talking to me through edits instead of my talk page . he seems to care more about the formatting than the actual info .\"],\n",
       "      dtype='<U5000')"
      ]
     },
     "execution_count": 14,
     "metadata": {},
     "output_type": "execute_result"
    }
   ],
   "source": [
    "corpus[0:3]"
   ]
  },
  {
   "cell_type": "markdown",
   "metadata": {
    "id": "S9XxYS8mr6nk"
   },
   "source": [
    "### Деление выборки: тестовая и валидационная"
   ]
  },
  {
   "cell_type": "code",
   "execution_count": 15,
   "metadata": {
    "id": "s5RBA9EvwXXm"
   },
   "outputs": [],
   "source": [
    "# разделим корпус текстов не перемешивая, с установленным random_state для повторяемости\n",
    "\n",
    "train_corpus, valid_corpus = train_test_split(corpus, random_state = 42, test_size = 0.25, shuffle = False)"
   ]
  },
  {
   "cell_type": "code",
   "execution_count": 16,
   "metadata": {
    "id": "S-BuhBS1wWRn"
   },
   "outputs": [],
   "source": [
    "# разделим целевой приззнак не перемешивая, с установленным random_state для повторяемости\n",
    "\n",
    "train_target, valid_target = train_test_split(df['toxic'], random_state = 42, test_size = 0.25, shuffle = False)"
   ]
  },
  {
   "cell_type": "markdown",
   "metadata": {
    "id": "fKxEL2VyxaDX"
   },
   "source": [
    "### Векторизация тестовой и валидационной выборки"
   ]
  },
  {
   "cell_type": "code",
   "execution_count": 17,
   "metadata": {
    "colab": {
     "base_uri": "https://localhost:8080/"
    },
    "id": "HEw1A8xcxspM",
    "outputId": "2f3a5766-4dfd-4125-e0a0-eb6ce4fee416"
   },
   "outputs": [
    {
     "name": "stderr",
     "output_type": "stream",
     "text": [
      "[nltk_data] Downloading package stopwords to /root/nltk_data...\n",
      "[nltk_data]   Unzipping corpora/stopwords.zip.\n"
     ]
    }
   ],
   "source": [
    "nltk.download('stopwords')                               # загрузка модуля стоп-слова\n",
    "\n",
    "stops = set(nltk_stops.words('english'))                 # загрузка стоп слов на английском языке\n",
    "\n",
    "count_tf_idf = TfidfVectorizer(stop_words=stops)         # модуль векторизации корпуса текстов\n",
    "\n",
    "tf_idf_train = count_tf_idf.fit_transform(train_corpus)  # обучение и векторизация обучающей выборки\n",
    "\n",
    "tf_idf_valid = count_tf_idf.transform(valid_corpus)      # векторизация валидационной выборки без обучения"
   ]
  },
  {
   "cell_type": "markdown",
   "metadata": {
    "id": "uvPM7rPO1rhS"
   },
   "source": [
    "### Обучение моделей"
   ]
  },
  {
   "cell_type": "markdown",
   "metadata": {
    "id": "QIMEib8n1vda"
   },
   "source": [
    "#### Логистическая регрессия"
   ]
  },
  {
   "cell_type": "code",
   "execution_count": 19,
   "metadata": {
    "id": "hfMb6IA21qtT"
   },
   "outputs": [],
   "source": [
    "reg_model = LogisticRegression(solver='lbfgs', random_state=42, max_iter=1500)\n",
    "\n",
    "reg_model.fit(tf_idf_train, train_target)\n",
    "\n",
    "predictions_reg = reg_model.predict(tf_idf_valid)\n",
    "    \n",
    "result_log_reg = f1_score(valid_target, predictions_reg)"
   ]
  },
  {
   "cell_type": "code",
   "execution_count": 22,
   "metadata": {
    "colab": {
     "base_uri": "https://localhost:8080/"
    },
    "id": "6zB1ICxdRyot",
    "outputId": "81dfb667-d2d2-47a4-9354-9a999471fde8"
   },
   "outputs": [
    {
     "name": "stdout",
     "output_type": "stream",
     "text": [
      "Результат метрики F1 для логистической регрессии: 0.72555\n"
     ]
    }
   ],
   "source": [
    "print(\"Результат метрики F1 для логистической регрессии:\", round(result_log_reg,5))"
   ]
  },
  {
   "cell_type": "markdown",
   "metadata": {
    "id": "_o3s0aa5SJTH"
   },
   "source": [
    "**Вывод**: Результат метрики ниже целевого показателя равного 0.75, продолжаем поиск модели. "
   ]
  },
  {
   "cell_type": "markdown",
   "metadata": {
    "id": "buMrhzswWNHX"
   },
   "source": [
    "#### Кросс-валидация RandomizedSearchCV для LGBMRegressor"
   ]
  },
  {
   "cell_type": "code",
   "execution_count": 31,
   "metadata": {
    "colab": {
     "base_uri": "https://localhost:8080/"
    },
    "id": "DL45gCUIS5Y-",
    "outputId": "856d9ce4-c5fc-4656-a814-1497391116be"
   },
   "outputs": [
    {
     "data": {
      "text/plain": [
       "RandomizedSearchCV(cv=5, estimator=LGBMClassifier(random_state=42, verbose=0),\n",
       "                   n_jobs=-1,\n",
       "                   param_distributions={'learning_rate': array([0.1, 0.2, 0.3, 0.4, 0.5]),\n",
       "                                        'max_depth': <scipy.stats._distn_infrastructure.rv_frozen object at 0x7f353fabcb50>,\n",
       "                                        'n_estimators': <scipy.stats._distn_infrastructure.rv_frozen object at 0x7f353faa3590>,\n",
       "                                        'num_leaves': <scipy.stats._distn_infrastructure.rv_frozen object at 0x7f353fabc790>},\n",
       "                   random_state=42, scoring='f1')"
      ]
     },
     "execution_count": 31,
     "metadata": {},
     "output_type": "execute_result"
    }
   ],
   "source": [
    "param_grid = {'n_estimators': randint(100, 300),          # количество деревьев в модели\n",
    "              'learning_rate': np.linspace(0.1, 0.5, 5),   # скорость обучения модели / скорость сокращения шага градиентного спуска\n",
    "              'max_depth': randint(5, 15),                 # глубина дерева в модели\n",
    "              'num_leaves': randint(2, 15) \n",
    "             }\n",
    "random_search_lgbm = RandomizedSearchCV(\n",
    "                                   LGBMClassifier(random_state=42,verbose=0),\n",
    "                                   param_grid,\n",
    "                                   scoring='f1',\n",
    "                                   random_state=42,\n",
    "                                   cv=5,\n",
    "                                   n_jobs=-1\n",
    "                                  )\n",
    "\n",
    "random_search_lgbm.fit(tf_idf_train, train_target)\n"
   ]
  },
  {
   "cell_type": "code",
   "execution_count": 32,
   "metadata": {
    "colab": {
     "base_uri": "https://localhost:8080/"
    },
    "id": "m0_0KfNCS5cY",
    "outputId": "379370ce-c177-4a1d-908f-07c087dcb292"
   },
   "outputs": [
    {
     "name": "stdout",
     "output_type": "stream",
     "text": [
      "Результат по f1 для LGBM 0.7621\n",
      "\n",
      "Параметры модели: {'learning_rate': 0.4, 'max_depth': 10, 'n_estimators': 229, 'num_leaves': 13}\n"
     ]
    }
   ],
   "source": [
    "print(\"Результат по f1 для LGBM\", round(random_search_lgbm.best_score_,4))\n",
    "print()\n",
    "print(\"Параметры модели:\", random_search_lgbm.best_params_)"
   ]
  },
  {
   "cell_type": "markdown",
   "metadata": {
    "id": "aMv2Z-qAibpH"
   },
   "source": [
    "**Вывод:** Результаты подбора параметров для модели \"Легкого градиентного бустинга\" позволили получить метрику, удовлетворяющую требованию задания. Параметры модели 'learning_rate': 0.4, 'max_depth': 10, 'n_estimators': 229, num_leaves': 13. Протестируем полученные результаты на валидационной выборке."
   ]
  },
  {
   "cell_type": "code",
   "execution_count": 34,
   "metadata": {
    "colab": {
     "base_uri": "https://localhost:8080/"
    },
    "id": "7e5-tjvejA2d",
    "outputId": "350fa570-ea04-4939-b43b-ce8ee860815a"
   },
   "outputs": [
    {
     "name": "stdout",
     "output_type": "stream",
     "text": [
      "Результат метрики F1 для LGBM на валидационной выборке: 0.7627\n"
     ]
    }
   ],
   "source": [
    "best_lgbm_model = LGBMClassifier(learning_rate = 0.4, max_depth = 10, n_estimators = 229, num_leaves = 13).fit(tf_idf_train, train_target)\n",
    "\n",
    "predictions_lgbm = best_lgbm_model.predict(tf_idf_valid)\n",
    "\n",
    "result_lgbm = f1_score(valid_target, predictions_lgbm)\n",
    "\n",
    "print(\"Результат метрики F1 для LGBM на валидационной выборке:\", round(result_lgbm,5))"
   ]
  },
  {
   "cell_type": "markdown",
   "metadata": {
    "id": "zwOAW9iQr6nm"
   },
   "source": [
    "## Выводы"
   ]
  },
  {
   "cell_type": "markdown",
   "metadata": {
    "id": "Uy7yMLYEkjYn"
   },
   "source": [
    "По результатам работы были проделаны следующие шаги:\n",
    "\n",
    "1. Подготовка текста к машинному обучению:\n",
    "  - токенизация, лемматизация;\n",
    "  - убраны \"лишние\" цифровые символы в данных;\n",
    "\n",
    "2. Осуществлено деление выборки на обучающую и валидационную.\n",
    "\n",
    "3. Осуществлена векторизация (TF-IDF) для обучающей выборки и валидационной.\n",
    "  - обучение векторизации не проводилось для валидационной выборке, только трансформация по результатам тренировки на обучающей.\n",
    "\n",
    "4. Проведено обучение моделей \"логистической регрессии\" и \"легкого градиентного бустинга\". Наилучшие результаты получены для бустинга: параметры модели 'learning_rate': 0.4, 'max_depth': 10, 'n_estimators': 229, num_leaves': 13.\n",
    "\n",
    "5. Полученный результат метрики f1 равен 0.76."
   ]
  },
  {
   "cell_type": "markdown",
   "metadata": {
    "id": "0sIM9hYDr6nm"
   },
   "source": [
    "## Чек-лист проверки"
   ]
  },
  {
   "cell_type": "markdown",
   "metadata": {
    "id": "Rh48oENKr6nm"
   },
   "source": [
    "- [x]  Jupyter Notebook открыт\n",
    "- [x]  Весь код выполняется без ошибок\n",
    "- [x]  Ячейки с кодом расположены в порядке исполнения\n",
    "- [x]  Данные загружены и подготовлены\n",
    "- [x]  Модели обучены\n",
    "- [x]  Значение метрики *F1* не меньше 0.75\n",
    "- [x]  Выводы написаны"
   ]
  }
 ],
 "metadata": {
  "ExecuteTimeLog": [
   {
    "duration": 410,
    "start_time": "2022-06-14T17:39:52.936Z"
   },
   {
    "duration": 76,
    "start_time": "2022-06-14T17:40:18.103Z"
   },
   {
    "duration": 2737,
    "start_time": "2022-06-14T17:40:40.613Z"
   },
   {
    "duration": 39,
    "start_time": "2022-06-14T17:40:48.901Z"
   },
   {
    "duration": 16,
    "start_time": "2022-06-14T17:41:05.013Z"
   },
   {
    "duration": 23,
    "start_time": "2022-06-14T17:44:13.157Z"
   },
   {
    "duration": 10,
    "start_time": "2022-06-14T17:45:58.136Z"
   },
   {
    "duration": 769,
    "start_time": "2022-06-14T17:46:02.919Z"
   },
   {
    "duration": 265,
    "start_time": "2022-06-14T17:50:06.913Z"
   },
   {
    "duration": 4,
    "start_time": "2022-06-14T17:50:17.877Z"
   },
   {
    "duration": 4,
    "start_time": "2022-06-14T18:02:56.559Z"
   },
   {
    "duration": 783,
    "start_time": "2022-06-14T18:02:56.968Z"
   },
   {
    "duration": 37,
    "start_time": "2022-06-14T18:02:57.754Z"
   },
   {
    "duration": 6,
    "start_time": "2022-06-14T18:02:57.794Z"
   },
   {
    "duration": 4,
    "start_time": "2022-06-14T18:04:11.550Z"
   },
   {
    "duration": 1215,
    "start_time": "2022-06-16T09:11:25.808Z"
   },
   {
    "duration": 2284,
    "start_time": "2022-06-16T09:11:27.025Z"
   },
   {
    "duration": 30,
    "start_time": "2022-06-16T09:11:29.311Z"
   },
   {
    "duration": 12,
    "start_time": "2022-06-16T09:11:29.342Z"
   },
   {
    "duration": 1955,
    "start_time": "2022-06-16T09:16:48.091Z"
   },
   {
    "duration": 4,
    "start_time": "2022-06-16T09:17:12.370Z"
   },
   {
    "duration": 3,
    "start_time": "2022-06-16T09:23:04.771Z"
   },
   {
    "duration": 3,
    "start_time": "2022-06-16T09:23:48.705Z"
   },
   {
    "duration": 3,
    "start_time": "2022-06-16T09:28:17.195Z"
   },
   {
    "duration": 1363,
    "start_time": "2022-06-16T09:30:22.194Z"
   },
   {
    "duration": 4,
    "start_time": "2022-06-16T09:30:36.770Z"
   },
   {
    "duration": 8,
    "start_time": "2022-06-16T09:31:09.384Z"
   },
   {
    "duration": 45,
    "start_time": "2022-06-16T09:31:09.394Z"
   },
   {
    "duration": 0,
    "start_time": "2022-06-16T09:31:09.441Z"
   },
   {
    "duration": 1194,
    "start_time": "2022-06-16T09:31:20.535Z"
   },
   {
    "duration": 2303,
    "start_time": "2022-06-16T09:31:21.731Z"
   },
   {
    "duration": 33,
    "start_time": "2022-06-16T09:31:24.035Z"
   },
   {
    "duration": 13,
    "start_time": "2022-06-16T09:31:24.070Z"
   },
   {
    "duration": 1938,
    "start_time": "2022-06-16T09:31:24.085Z"
   },
   {
    "duration": 7,
    "start_time": "2022-06-16T09:31:26.025Z"
   },
   {
    "duration": 1143,
    "start_time": "2022-06-16T09:31:26.034Z"
   },
   {
    "duration": 3,
    "start_time": "2022-06-16T09:31:27.180Z"
   },
   {
    "duration": 4,
    "start_time": "2022-06-16T10:03:53.098Z"
   },
   {
    "duration": 795,
    "start_time": "2022-06-16T10:03:53.104Z"
   },
   {
    "duration": 25,
    "start_time": "2022-06-16T10:03:53.901Z"
   },
   {
    "duration": 6,
    "start_time": "2022-06-16T10:03:53.927Z"
   },
   {
    "duration": 1325,
    "start_time": "2022-06-16T10:04:18.115Z"
   },
   {
    "duration": 2318,
    "start_time": "2022-06-16T10:04:19.442Z"
   },
   {
    "duration": 37,
    "start_time": "2022-06-16T10:04:21.762Z"
   },
   {
    "duration": 13,
    "start_time": "2022-06-16T10:04:21.801Z"
   },
   {
    "duration": 2044,
    "start_time": "2022-06-16T10:04:21.816Z"
   },
   {
    "duration": 15,
    "start_time": "2022-06-16T10:04:23.863Z"
   },
   {
    "duration": 1277,
    "start_time": "2022-06-16T10:04:23.880Z"
   },
   {
    "duration": 3,
    "start_time": "2022-06-16T10:04:25.159Z"
   },
   {
    "duration": 4,
    "start_time": "2022-06-16T10:05:14.926Z"
   },
   {
    "duration": 2,
    "start_time": "2022-06-16T10:05:15.568Z"
   },
   {
    "duration": 4,
    "start_time": "2022-06-16T10:05:16.328Z"
   },
   {
    "duration": 144,
    "start_time": "2022-06-16T10:06:19.275Z"
   },
   {
    "duration": 5,
    "start_time": "2022-06-16T10:06:31.965Z"
   },
   {
    "duration": 37,
    "start_time": "2022-06-16T10:06:31.972Z"
   },
   {
    "duration": 817,
    "start_time": "2022-06-16T10:06:32.010Z"
   },
   {
    "duration": 27,
    "start_time": "2022-06-16T10:06:32.828Z"
   },
   {
    "duration": 24,
    "start_time": "2022-06-16T10:06:32.857Z"
   },
   {
    "duration": 1256,
    "start_time": "2022-06-16T10:06:46.111Z"
   },
   {
    "duration": 214,
    "start_time": "2022-06-16T10:06:47.369Z"
   },
   {
    "duration": 2360,
    "start_time": "2022-06-16T10:06:47.585Z"
   },
   {
    "duration": 37,
    "start_time": "2022-06-16T10:06:49.947Z"
   },
   {
    "duration": 11,
    "start_time": "2022-06-16T10:06:49.987Z"
   },
   {
    "duration": 1976,
    "start_time": "2022-06-16T10:06:50.000Z"
   },
   {
    "duration": 12,
    "start_time": "2022-06-16T10:06:51.978Z"
   },
   {
    "duration": 1207,
    "start_time": "2022-06-16T10:06:51.992Z"
   },
   {
    "duration": 4,
    "start_time": "2022-06-16T10:06:53.201Z"
   },
   {
    "duration": 3,
    "start_time": "2022-06-16T10:11:05.750Z"
   },
   {
    "duration": 3,
    "start_time": "2022-06-16T10:11:06.511Z"
   },
   {
    "duration": 4,
    "start_time": "2022-06-16T10:11:07.134Z"
   },
   {
    "duration": 119,
    "start_time": "2022-06-16T10:17:07.315Z"
   },
   {
    "duration": 3,
    "start_time": "2022-06-16T10:17:18.798Z"
   },
   {
    "duration": 3,
    "start_time": "2022-06-16T10:17:27.662Z"
   },
   {
    "duration": 30,
    "start_time": "2022-06-16T10:18:49.998Z"
   },
   {
    "duration": 5,
    "start_time": "2022-06-16T10:19:07.996Z"
   },
   {
    "duration": 4,
    "start_time": "2022-06-16T10:19:09.584Z"
   },
   {
    "duration": 3,
    "start_time": "2022-06-16T10:20:41.752Z"
   },
   {
    "duration": 2,
    "start_time": "2022-06-16T10:20:42.466Z"
   },
   {
    "duration": 3,
    "start_time": "2022-06-16T10:20:43.068Z"
   },
   {
    "duration": 3,
    "start_time": "2022-06-16T10:20:44.508Z"
   },
   {
    "duration": 3,
    "start_time": "2022-06-16T10:21:00.125Z"
   },
   {
    "duration": 3,
    "start_time": "2022-06-16T10:21:05.727Z"
   },
   {
    "duration": 4,
    "start_time": "2022-06-16T10:21:32.221Z"
   },
   {
    "duration": 4,
    "start_time": "2022-06-16T10:21:45.693Z"
   },
   {
    "duration": 3,
    "start_time": "2022-06-16T10:22:03.069Z"
   },
   {
    "duration": 3,
    "start_time": "2022-06-16T10:22:14.457Z"
   },
   {
    "duration": 4,
    "start_time": "2022-06-16T10:22:55.689Z"
   },
   {
    "duration": 2,
    "start_time": "2022-06-16T10:22:58.544Z"
   },
   {
    "duration": 3,
    "start_time": "2022-06-16T10:22:58.993Z"
   },
   {
    "duration": 3,
    "start_time": "2022-06-16T10:22:59.422Z"
   },
   {
    "duration": 3,
    "start_time": "2022-06-16T10:23:02.899Z"
   },
   {
    "duration": 4,
    "start_time": "2022-06-16T10:24:00.766Z"
   },
   {
    "duration": 3,
    "start_time": "2022-06-16T10:24:03.214Z"
   },
   {
    "duration": 19,
    "start_time": "2022-06-16T10:24:03.901Z"
   },
   {
    "duration": 3,
    "start_time": "2022-06-16T10:24:04.867Z"
   },
   {
    "duration": 3,
    "start_time": "2022-06-16T10:24:05.597Z"
   },
   {
    "duration": 2,
    "start_time": "2022-06-16T10:24:23.613Z"
   },
   {
    "duration": 3,
    "start_time": "2022-06-16T10:24:24.174Z"
   },
   {
    "duration": 3,
    "start_time": "2022-06-16T10:24:25.069Z"
   },
   {
    "duration": 3,
    "start_time": "2022-06-16T10:24:26.056Z"
   },
   {
    "duration": 7,
    "start_time": "2022-06-16T10:24:58.800Z"
   },
   {
    "duration": 8,
    "start_time": "2022-06-16T10:25:13.660Z"
   },
   {
    "duration": 14,
    "start_time": "2022-06-16T10:25:26.646Z"
   },
   {
    "duration": 4,
    "start_time": "2022-06-16T10:25:27.308Z"
   },
   {
    "duration": 3,
    "start_time": "2022-06-16T10:25:27.919Z"
   },
   {
    "duration": 3,
    "start_time": "2022-06-16T10:25:37.004Z"
   },
   {
    "duration": 4,
    "start_time": "2022-06-16T10:25:37.612Z"
   },
   {
    "duration": 4,
    "start_time": "2022-06-16T10:25:38.220Z"
   },
   {
    "duration": 3,
    "start_time": "2022-06-16T10:25:55.962Z"
   },
   {
    "duration": 3,
    "start_time": "2022-06-16T10:26:51.862Z"
   },
   {
    "duration": 3,
    "start_time": "2022-06-16T10:27:49.565Z"
   },
   {
    "duration": 4,
    "start_time": "2022-06-16T10:27:58.510Z"
   },
   {
    "duration": 4,
    "start_time": "2022-06-16T10:27:59.885Z"
   },
   {
    "duration": 3,
    "start_time": "2022-06-16T10:28:55.677Z"
   },
   {
    "duration": 5,
    "start_time": "2022-06-16T10:29:02.107Z"
   },
   {
    "duration": 46,
    "start_time": "2022-06-16T10:32:43.492Z"
   },
   {
    "duration": 0,
    "start_time": "2022-06-16T10:32:43.539Z"
   },
   {
    "duration": 1337,
    "start_time": "2022-06-16T10:32:51.949Z"
   },
   {
    "duration": 2328,
    "start_time": "2022-06-16T10:32:53.289Z"
   },
   {
    "duration": 31,
    "start_time": "2022-06-16T10:32:55.619Z"
   },
   {
    "duration": 12,
    "start_time": "2022-06-16T10:32:55.652Z"
   },
   {
    "duration": 1976,
    "start_time": "2022-06-16T10:32:55.665Z"
   },
   {
    "duration": 143,
    "start_time": "2022-06-16T10:32:57.643Z"
   },
   {
    "duration": 1153,
    "start_time": "2022-06-16T10:32:57.788Z"
   },
   {
    "duration": 5,
    "start_time": "2022-06-16T10:32:58.943Z"
   },
   {
    "duration": 5,
    "start_time": "2022-06-16T10:35:04.014Z"
   },
   {
    "duration": 127,
    "start_time": "2022-06-16T10:35:05.628Z"
   },
   {
    "duration": 4,
    "start_time": "2022-06-16T10:35:06.715Z"
   },
   {
    "duration": 5,
    "start_time": "2022-06-16T10:36:15.598Z"
   },
   {
    "duration": 4,
    "start_time": "2022-06-16T10:37:16.270Z"
   },
   {
    "duration": 3,
    "start_time": "2022-06-16T10:37:17.164Z"
   },
   {
    "duration": 3,
    "start_time": "2022-06-16T10:37:19.749Z"
   },
   {
    "duration": 4,
    "start_time": "2022-06-16T10:41:03.334Z"
   },
   {
    "duration": 21,
    "start_time": "2022-06-16T10:41:04.173Z"
   },
   {
    "duration": 5,
    "start_time": "2022-06-16T10:41:04.797Z"
   },
   {
    "duration": 4,
    "start_time": "2022-06-16T10:41:23.277Z"
   },
   {
    "duration": 3,
    "start_time": "2022-06-16T10:41:24.509Z"
   },
   {
    "duration": 4,
    "start_time": "2022-06-16T10:41:25.262Z"
   },
   {
    "duration": 4,
    "start_time": "2022-06-16T10:50:18.657Z"
   },
   {
    "duration": 4,
    "start_time": "2022-06-16T10:53:23.685Z"
   },
   {
    "duration": 3,
    "start_time": "2022-06-16T10:53:24.672Z"
   },
   {
    "duration": 4,
    "start_time": "2022-06-16T10:53:25.495Z"
   },
   {
    "duration": 3,
    "start_time": "2022-06-16T10:54:21.374Z"
   },
   {
    "duration": 3,
    "start_time": "2022-06-16T10:54:21.997Z"
   },
   {
    "duration": 5,
    "start_time": "2022-06-16T10:54:22.546Z"
   },
   {
    "duration": 6,
    "start_time": "2022-06-16T10:54:53.357Z"
   },
   {
    "duration": 3,
    "start_time": "2022-06-16T10:54:53.917Z"
   },
   {
    "duration": 4,
    "start_time": "2022-06-16T10:54:54.458Z"
   },
   {
    "duration": 27,
    "start_time": "2022-06-16T10:55:10.050Z"
   },
   {
    "duration": 3,
    "start_time": "2022-06-16T10:55:10.464Z"
   },
   {
    "duration": 3,
    "start_time": "2022-06-16T10:55:29.620Z"
   },
   {
    "duration": 3,
    "start_time": "2022-06-16T10:55:30.287Z"
   },
   {
    "duration": 42,
    "start_time": "2022-06-16T10:56:42.158Z"
   },
   {
    "duration": 4,
    "start_time": "2022-06-16T10:56:42.878Z"
   },
   {
    "duration": 4,
    "start_time": "2022-06-16T10:56:43.500Z"
   },
   {
    "duration": 4,
    "start_time": "2022-06-16T10:56:44.109Z"
   },
   {
    "duration": 19,
    "start_time": "2022-06-16T10:56:48.381Z"
   },
   {
    "duration": 8,
    "start_time": "2022-06-16T10:57:53.062Z"
   },
   {
    "duration": 1486,
    "start_time": "2022-06-16T10:58:06.408Z"
   },
   {
    "duration": 2317,
    "start_time": "2022-06-16T10:58:07.896Z"
   },
   {
    "duration": 41,
    "start_time": "2022-06-16T10:58:10.215Z"
   },
   {
    "duration": 12,
    "start_time": "2022-06-16T10:58:10.257Z"
   },
   {
    "duration": 2053,
    "start_time": "2022-06-16T10:58:10.271Z"
   },
   {
    "duration": 7,
    "start_time": "2022-06-16T10:58:12.326Z"
   },
   {
    "duration": 121,
    "start_time": "2022-06-16T10:58:12.335Z"
   },
   {
    "duration": 7,
    "start_time": "2022-06-16T10:58:29.951Z"
   },
   {
    "duration": 4,
    "start_time": "2022-06-16T10:58:41.707Z"
   },
   {
    "duration": 134,
    "start_time": "2022-06-16T10:59:38.161Z"
   },
   {
    "duration": 129147,
    "start_time": "2022-06-16T10:59:47.762Z"
   },
   {
    "duration": 4,
    "start_time": "2022-06-16T11:01:56.912Z"
   },
   {
    "duration": 12,
    "start_time": "2022-06-16T11:01:56.917Z"
   },
   {
    "duration": 4,
    "start_time": "2022-06-16T11:05:33.174Z"
   },
   {
    "duration": 128117,
    "start_time": "2022-06-16T11:05:33.758Z"
   },
   {
    "duration": 4,
    "start_time": "2022-06-16T11:07:41.877Z"
   },
   {
    "duration": 4,
    "start_time": "2022-06-16T11:15:07.216Z"
   },
   {
    "duration": 5,
    "start_time": "2022-06-16T11:16:17.067Z"
   },
   {
    "duration": 4,
    "start_time": "2022-06-16T11:17:06.692Z"
   },
   {
    "duration": 5,
    "start_time": "2022-06-16T11:17:10.467Z"
   },
   {
    "duration": 5,
    "start_time": "2022-06-16T11:17:13.488Z"
   },
   {
    "duration": 5,
    "start_time": "2022-06-16T11:17:45.475Z"
   },
   {
    "duration": 5,
    "start_time": "2022-06-16T11:18:46.015Z"
   },
   {
    "duration": 13,
    "start_time": "2022-06-16T11:22:03.426Z"
   },
   {
    "duration": 4,
    "start_time": "2022-06-16T11:22:40.688Z"
   },
   {
    "duration": 9221,
    "start_time": "2022-06-16T11:22:44.000Z"
   },
   {
    "duration": 3,
    "start_time": "2022-06-16T11:22:53.223Z"
   },
   {
    "duration": 450,
    "start_time": "2022-06-16T11:24:09.696Z"
   },
   {
    "duration": 44,
    "start_time": "2022-06-16T11:25:05.921Z"
   },
   {
    "duration": 115,
    "start_time": "2022-06-16T11:26:59.760Z"
   },
   {
    "duration": 42,
    "start_time": "2022-06-16T11:27:12.190Z"
   },
   {
    "duration": 44,
    "start_time": "2022-06-16T11:27:16.459Z"
   },
   {
    "duration": 58,
    "start_time": "2022-06-16T11:27:36.360Z"
   },
   {
    "duration": 45,
    "start_time": "2022-06-16T11:27:56.388Z"
   },
   {
    "duration": 62,
    "start_time": "2022-06-16T11:28:09.116Z"
   },
   {
    "duration": 47,
    "start_time": "2022-06-16T11:28:26.271Z"
   },
   {
    "duration": 24,
    "start_time": "2022-06-16T11:28:59.060Z"
   },
   {
    "duration": 20,
    "start_time": "2022-06-16T11:29:16.808Z"
   },
   {
    "duration": 26,
    "start_time": "2022-06-16T11:29:42.722Z"
   },
   {
    "duration": 38,
    "start_time": "2022-06-16T11:29:56.194Z"
   },
   {
    "duration": 40,
    "start_time": "2022-06-16T11:30:04.274Z"
   },
   {
    "duration": 6,
    "start_time": "2022-06-16T11:30:20.960Z"
   },
   {
    "duration": 186,
    "start_time": "2022-06-16T11:30:38.086Z"
   },
   {
    "duration": 192,
    "start_time": "2022-06-16T11:30:50.189Z"
   },
   {
    "duration": 8,
    "start_time": "2022-06-16T11:30:56.706Z"
   },
   {
    "duration": 8,
    "start_time": "2022-06-16T11:31:03.764Z"
   },
   {
    "duration": 17,
    "start_time": "2022-06-16T11:31:13.556Z"
   },
   {
    "duration": 7,
    "start_time": "2022-06-16T11:31:17.602Z"
   },
   {
    "duration": 2,
    "start_time": "2022-06-16T11:32:19.686Z"
   },
   {
    "duration": 163,
    "start_time": "2022-06-16T12:13:25.748Z"
   },
   {
    "duration": 767,
    "start_time": "2022-06-16T12:13:25.912Z"
   },
   {
    "duration": 23,
    "start_time": "2022-06-16T12:13:26.681Z"
   },
   {
    "duration": 6,
    "start_time": "2022-06-16T12:13:26.706Z"
   },
   {
    "duration": 50,
    "start_time": "2022-06-16T12:13:26.714Z"
   },
   {
    "duration": 8,
    "start_time": "2022-06-16T12:13:26.767Z"
   },
   {
    "duration": 1547,
    "start_time": "2022-06-16T12:13:39.607Z"
   },
   {
    "duration": 2312,
    "start_time": "2022-06-16T12:13:41.156Z"
   },
   {
    "duration": 33,
    "start_time": "2022-06-16T12:13:43.470Z"
   },
   {
    "duration": 15,
    "start_time": "2022-06-16T12:13:43.504Z"
   },
   {
    "duration": 53,
    "start_time": "2022-06-16T12:13:43.522Z"
   },
   {
    "duration": 10,
    "start_time": "2022-06-16T12:13:43.576Z"
   },
   {
    "duration": 1941,
    "start_time": "2022-06-16T12:13:43.588Z"
   },
   {
    "duration": 7,
    "start_time": "2022-06-16T12:13:45.531Z"
   },
   {
    "duration": 5,
    "start_time": "2022-06-16T12:13:45.539Z"
   },
   {
    "duration": 9,
    "start_time": "2022-06-16T12:16:04.456Z"
   },
   {
    "duration": 754,
    "start_time": "2022-06-16T12:16:04.467Z"
   },
   {
    "duration": 28,
    "start_time": "2022-06-16T12:16:05.222Z"
   },
   {
    "duration": 10,
    "start_time": "2022-06-16T12:16:05.251Z"
   },
   {
    "duration": 46,
    "start_time": "2022-06-16T12:16:05.263Z"
   },
   {
    "duration": 7,
    "start_time": "2022-06-16T12:16:05.322Z"
   },
   {
    "duration": 82,
    "start_time": "2022-06-21T08:33:40.340Z"
   }
  ],
  "colab": {
   "collapsed_sections": [],
   "name": "fe3663ac-1d5f-458d-8d89-2df09be50987.ipynb",
   "provenance": [],
   "toc_visible": true
  },
  "kernelspec": {
   "display_name": "Python 3",
   "language": "python",
   "name": "python3"
  },
  "language_info": {
   "codemirror_mode": {
    "name": "ipython",
    "version": 3
   },
   "file_extension": ".py",
   "mimetype": "text/x-python",
   "name": "python",
   "nbconvert_exporter": "python",
   "pygments_lexer": "ipython3",
   "version": "3.10.7 (tags/v3.10.7:6cc6b13, Sep  5 2022, 14:08:36) [MSC v.1933 64 bit (AMD64)]"
  },
  "toc": {
   "base_numbering": 1,
   "nav_menu": {},
   "number_sections": true,
   "sideBar": true,
   "skip_h1_title": true,
   "title_cell": "Содержание",
   "title_sidebar": "Contents",
   "toc_cell": true,
   "toc_position": {
    "height": "calc(100% - 180px)",
    "left": "10px",
    "top": "150px",
    "width": "302.391px"
   },
   "toc_section_display": true,
   "toc_window_display": false
  },
  "vscode": {
   "interpreter": {
    "hash": "55897f39ac7fcb5d9dfece991134c735844144358f4a79aa62d757304fbf59da"
   }
  }
 },
 "nbformat": 4,
 "nbformat_minor": 1
}
