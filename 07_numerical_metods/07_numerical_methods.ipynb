{
 "cells": [
  {
   "cell_type": "markdown",
   "metadata": {},
   "source": [
    "# Определение стоимости автомобилей"
   ]
  },
  {
   "attachments": {},
   "cell_type": "markdown",
   "metadata": {},
   "source": [
    "Сервис по продаже автомобилей с пробегом разрабатывает приложение для привлечения новых клиентов. В нём можно быстро узнать рыночную стоимость своего автомобиля. В вашем распоряжении исторические данные: технические характеристики, комплектации и цены автомобилей. Вам нужно построить модель для определения стоимости. \n",
    "\n",
    "Заказчику важны:\n",
    "\n",
    "- качество предсказания;\n",
    "- скорость предсказания;\n",
    "- время обучения."
   ]
  },
  {
   "cell_type": "markdown",
   "metadata": {},
   "source": [
    "`Признаки`\n",
    "- DateCrawled — дата скачивания анкеты из базы\n",
    "- VehicleType — тип автомобильного кузова\n",
    "- RegistrationYear — год регистрации автомобиля\n",
    "- Gearbox — тип коробки передач\n",
    "- Power — мощность (л. с.)\n",
    "- Model — модель автомобиля\n",
    "- Kilometer — пробег (км)\n",
    "- RegistrationMonth — месяц регистрации автомобиля\n",
    "- FuelType — тип топлива\n",
    "- Brand — марка автомобиля\n",
    "- NotRepaired — была машина в ремонте или нет\n",
    "- DateCreated — дата создания анкеты\n",
    "- NumberOfPictures — количество фотографий автомобиля\n",
    "- PostalCode — почтовый индекс владельца анкеты (пользователя)\n",
    "- LastSeen — дата последней активности пользователя\n",
    "\n",
    "`Целевой признак`\n",
    "- Price — цена (евро)"
   ]
  },
  {
   "cell_type": "markdown",
   "metadata": {},
   "source": [
    "## Подготовка данных"
   ]
  },
  {
   "cell_type": "code",
   "execution_count": 50,
   "metadata": {},
   "outputs": [],
   "source": [
    "import pandas as pd                         # программная библиотека для обработки и анализа данных, поверх библиотеки NumPy\n",
    "import numpy as np                          # поддержка многомерных массивов; поддержка высокоуровневых математических функций\n",
    "import matplotlib.pyplot as plt             # библиотека для визуализации данных двумерной графикой\n",
    "\n",
    "from sklearn.model_selection import train_test_split   # функция train_test_split для разделения датафрейма\n",
    "\n",
    "from sklearn.tree import DecisionTreeRegressor              # алгоритм \"деревом решений\"\n",
    "from sklearn.ensemble import RandomForestRegressor          # алгоритм \"случайный лес\"\n",
    "from sklearn.linear_model import LinearRegression           # алгоритм \"регрессия\"\n",
    "from lightgbm import LGBMRegressor                          # алгоритм «лёгкого градиентного бустинга»\n",
    "from catboost import CatBoostRegressor                      # алгоритм «градиентного бустинга CatBoost»\n",
    "from sklearn.model_selection import RandomizedSearchCV      #инпортируем инструмент кросс-валидации и обучения модели (рандом)\n",
    "\n",
    "\n",
    "from sklearn.metrics import mean_squared_error         #импорт среднеквардатичного отклонения для оценки качества модели\n",
    "\n",
    "from scipy.stats import randint"
   ]
  },
  {
   "cell_type": "code",
   "execution_count": 2,
   "metadata": {},
   "outputs": [],
   "source": [
    "df = pd.read_csv('/datasets/autos.csv') #серверный путь к файлу"
   ]
  },
  {
   "cell_type": "code",
   "execution_count": 3,
   "metadata": {},
   "outputs": [],
   "source": [
    "def data_description(dataframe):\n",
    "    print('\\033[1m' \"Общий вид данных\" '\\033[0m')\n",
    "    print(dataframe.head())\n",
    "    print()\n",
    "    print('\\033[1m' \"Общая информация о датафрейме и типе данных\" '\\033[0m')\n",
    "    print(dataframe.info())\n",
    "    print()\n",
    "    print('\\033[1m' \"Описание данных в столбцах датафрейма\" '\\033[0m')\n",
    "    print(round(dataframe.describe(),2))\n",
    "    print()\n",
    "    print('\\033[1m' \"Количество пропусков\" '\\033[0m')\n",
    "    print(dataframe.isna().sum())\n",
    "    print()\n",
    "    print('\\033[1m' \"Количество дубликатов\" '\\033[0m')\n",
    "    print(dataframe.duplicated().sum())\n",
    "    print()\n",
    "    print('\\033[1m' \"Количество дубликатов в %\" '\\033[0m')\n",
    "    print(dataframe.duplicated().sum()/dataframe.shape[0]*100)"
   ]
  },
  {
   "cell_type": "code",
   "execution_count": 4,
   "metadata": {
    "scrolled": true
   },
   "outputs": [
    {
     "name": "stdout",
     "output_type": "stream",
     "text": [
      "\u001b[1mОбщий вид данных\u001b[0m\n",
      "           DateCrawled  Price VehicleType  RegistrationYear Gearbox  Power  \\\n",
      "0  2016-03-24 11:52:17    480         NaN              1993  manual      0   \n",
      "1  2016-03-24 10:58:45  18300       coupe              2011  manual    190   \n",
      "2  2016-03-14 12:52:21   9800         suv              2004    auto    163   \n",
      "3  2016-03-17 16:54:04   1500       small              2001  manual     75   \n",
      "4  2016-03-31 17:25:20   3600       small              2008  manual     69   \n",
      "\n",
      "   Model  Kilometer  RegistrationMonth  FuelType       Brand NotRepaired  \\\n",
      "0   golf     150000                  0    petrol  volkswagen         NaN   \n",
      "1    NaN     125000                  5  gasoline        audi         yes   \n",
      "2  grand     125000                  8  gasoline        jeep         NaN   \n",
      "3   golf     150000                  6    petrol  volkswagen          no   \n",
      "4  fabia      90000                  7  gasoline       skoda          no   \n",
      "\n",
      "           DateCreated  NumberOfPictures  PostalCode             LastSeen  \n",
      "0  2016-03-24 00:00:00                 0       70435  2016-04-07 03:16:57  \n",
      "1  2016-03-24 00:00:00                 0       66954  2016-04-07 01:46:50  \n",
      "2  2016-03-14 00:00:00                 0       90480  2016-04-05 12:47:46  \n",
      "3  2016-03-17 00:00:00                 0       91074  2016-03-17 17:40:17  \n",
      "4  2016-03-31 00:00:00                 0       60437  2016-04-06 10:17:21  \n",
      "\n",
      "\u001b[1mОбщая информация о датафрейме и типе данных\u001b[0m\n",
      "<class 'pandas.core.frame.DataFrame'>\n",
      "RangeIndex: 354369 entries, 0 to 354368\n",
      "Data columns (total 16 columns):\n",
      " #   Column             Non-Null Count   Dtype \n",
      "---  ------             --------------   ----- \n",
      " 0   DateCrawled        354369 non-null  object\n",
      " 1   Price              354369 non-null  int64 \n",
      " 2   VehicleType        316879 non-null  object\n",
      " 3   RegistrationYear   354369 non-null  int64 \n",
      " 4   Gearbox            334536 non-null  object\n",
      " 5   Power              354369 non-null  int64 \n",
      " 6   Model              334664 non-null  object\n",
      " 7   Kilometer          354369 non-null  int64 \n",
      " 8   RegistrationMonth  354369 non-null  int64 \n",
      " 9   FuelType           321474 non-null  object\n",
      " 10  Brand              354369 non-null  object\n",
      " 11  NotRepaired        283215 non-null  object\n",
      " 12  DateCreated        354369 non-null  object\n",
      " 13  NumberOfPictures   354369 non-null  int64 \n",
      " 14  PostalCode         354369 non-null  int64 \n",
      " 15  LastSeen           354369 non-null  object\n",
      "dtypes: int64(7), object(9)\n",
      "memory usage: 43.3+ MB\n",
      "None\n",
      "\n",
      "\u001b[1mОписание данных в столбцах датафрейма\u001b[0m\n",
      "           Price  RegistrationYear      Power  Kilometer  RegistrationMonth  \\\n",
      "count  354369.00         354369.00  354369.00  354369.00          354369.00   \n",
      "mean     4416.66           2004.23     110.09  128211.17               5.71   \n",
      "std      4514.16             90.23     189.85   37905.34               3.73   \n",
      "min         0.00           1000.00       0.00    5000.00               0.00   \n",
      "25%      1050.00           1999.00      69.00  125000.00               3.00   \n",
      "50%      2700.00           2003.00     105.00  150000.00               6.00   \n",
      "75%      6400.00           2008.00     143.00  150000.00               9.00   \n",
      "max     20000.00           9999.00   20000.00  150000.00              12.00   \n",
      "\n",
      "       NumberOfPictures  PostalCode  \n",
      "count          354369.0   354369.00  \n",
      "mean                0.0    50508.69  \n",
      "std                 0.0    25783.10  \n",
      "min                 0.0     1067.00  \n",
      "25%                 0.0    30165.00  \n",
      "50%                 0.0    49413.00  \n",
      "75%                 0.0    71083.00  \n",
      "max                 0.0    99998.00  \n",
      "\n",
      "\u001b[1mКоличество пропусков\u001b[0m\n",
      "DateCrawled              0\n",
      "Price                    0\n",
      "VehicleType          37490\n",
      "RegistrationYear         0\n",
      "Gearbox              19833\n",
      "Power                    0\n",
      "Model                19705\n",
      "Kilometer                0\n",
      "RegistrationMonth        0\n",
      "FuelType             32895\n",
      "Brand                    0\n",
      "NotRepaired          71154\n",
      "DateCreated              0\n",
      "NumberOfPictures         0\n",
      "PostalCode               0\n",
      "LastSeen                 0\n",
      "dtype: int64\n",
      "\n",
      "\u001b[1mКоличество дубликатов\u001b[0m\n",
      "4\n",
      "\n",
      "\u001b[1mКоличество дубликатов в %\u001b[0m\n",
      "0.0011287669068118262\n"
     ]
    }
   ],
   "source": [
    "data_description(df)"
   ]
  },
  {
   "attachments": {},
   "cell_type": "markdown",
   "metadata": {},
   "source": [
    "**Выводы:**\n",
    "\n",
    "- Данные представлены преимущественно за 2016г.\n",
    "- В данных есть:\n",
    "    - выбросы, аномальные значения;\n",
    "    - пропуски и нулевые значения;\n",
    "    - дубликаты.\n",
    "- В данных есть категориальные и количественные переменные.\n",
    "- Дата в формате текста и необходимо преобразование."
   ]
  },
  {
   "cell_type": "markdown",
   "metadata": {},
   "source": [
    "## Предобрботка признаков"
   ]
  },
  {
   "cell_type": "markdown",
   "metadata": {},
   "source": [
    "### Преобразование даты "
   ]
  },
  {
   "cell_type": "code",
   "execution_count": 5,
   "metadata": {},
   "outputs": [],
   "source": [
    "# переведем в формат даты 'date_time' для дальнейшей работы с переменной и добавим в датафрейм\n",
    "\n",
    "df['DateCreated_date_time'] = pd.to_datetime(df['DateCreated'], format = '%Y-%m-%dT%H:%M:%S').dt.year "
   ]
  },
  {
   "cell_type": "code",
   "execution_count": 6,
   "metadata": {
    "scrolled": true
   },
   "outputs": [
    {
     "data": {
      "text/html": [
       "<div>\n",
       "<style scoped>\n",
       "    .dataframe tbody tr th:only-of-type {\n",
       "        vertical-align: middle;\n",
       "    }\n",
       "\n",
       "    .dataframe tbody tr th {\n",
       "        vertical-align: top;\n",
       "    }\n",
       "\n",
       "    .dataframe thead th {\n",
       "        text-align: right;\n",
       "    }\n",
       "</style>\n",
       "<table border=\"1\" class=\"dataframe\">\n",
       "  <thead>\n",
       "    <tr style=\"text-align: right;\">\n",
       "      <th></th>\n",
       "      <th>DateCrawled</th>\n",
       "      <th>Price</th>\n",
       "      <th>VehicleType</th>\n",
       "      <th>RegistrationYear</th>\n",
       "      <th>Gearbox</th>\n",
       "      <th>Power</th>\n",
       "      <th>Model</th>\n",
       "      <th>Kilometer</th>\n",
       "      <th>RegistrationMonth</th>\n",
       "      <th>FuelType</th>\n",
       "      <th>Brand</th>\n",
       "      <th>NotRepaired</th>\n",
       "      <th>DateCreated</th>\n",
       "      <th>NumberOfPictures</th>\n",
       "      <th>PostalCode</th>\n",
       "      <th>LastSeen</th>\n",
       "      <th>DateCreated_date_time</th>\n",
       "    </tr>\n",
       "  </thead>\n",
       "  <tbody>\n",
       "    <tr>\n",
       "      <th>0</th>\n",
       "      <td>2016-03-24 11:52:17</td>\n",
       "      <td>480</td>\n",
       "      <td>NaN</td>\n",
       "      <td>1993</td>\n",
       "      <td>manual</td>\n",
       "      <td>0</td>\n",
       "      <td>golf</td>\n",
       "      <td>150000</td>\n",
       "      <td>0</td>\n",
       "      <td>petrol</td>\n",
       "      <td>volkswagen</td>\n",
       "      <td>NaN</td>\n",
       "      <td>2016-03-24 00:00:00</td>\n",
       "      <td>0</td>\n",
       "      <td>70435</td>\n",
       "      <td>2016-04-07 03:16:57</td>\n",
       "      <td>2016</td>\n",
       "    </tr>\n",
       "    <tr>\n",
       "      <th>1</th>\n",
       "      <td>2016-03-24 10:58:45</td>\n",
       "      <td>18300</td>\n",
       "      <td>coupe</td>\n",
       "      <td>2011</td>\n",
       "      <td>manual</td>\n",
       "      <td>190</td>\n",
       "      <td>NaN</td>\n",
       "      <td>125000</td>\n",
       "      <td>5</td>\n",
       "      <td>gasoline</td>\n",
       "      <td>audi</td>\n",
       "      <td>yes</td>\n",
       "      <td>2016-03-24 00:00:00</td>\n",
       "      <td>0</td>\n",
       "      <td>66954</td>\n",
       "      <td>2016-04-07 01:46:50</td>\n",
       "      <td>2016</td>\n",
       "    </tr>\n",
       "    <tr>\n",
       "      <th>2</th>\n",
       "      <td>2016-03-14 12:52:21</td>\n",
       "      <td>9800</td>\n",
       "      <td>suv</td>\n",
       "      <td>2004</td>\n",
       "      <td>auto</td>\n",
       "      <td>163</td>\n",
       "      <td>grand</td>\n",
       "      <td>125000</td>\n",
       "      <td>8</td>\n",
       "      <td>gasoline</td>\n",
       "      <td>jeep</td>\n",
       "      <td>NaN</td>\n",
       "      <td>2016-03-14 00:00:00</td>\n",
       "      <td>0</td>\n",
       "      <td>90480</td>\n",
       "      <td>2016-04-05 12:47:46</td>\n",
       "      <td>2016</td>\n",
       "    </tr>\n",
       "  </tbody>\n",
       "</table>\n",
       "</div>"
      ],
      "text/plain": [
       "           DateCrawled  Price VehicleType  RegistrationYear Gearbox  Power  \\\n",
       "0  2016-03-24 11:52:17    480         NaN              1993  manual      0   \n",
       "1  2016-03-24 10:58:45  18300       coupe              2011  manual    190   \n",
       "2  2016-03-14 12:52:21   9800         suv              2004    auto    163   \n",
       "\n",
       "   Model  Kilometer  RegistrationMonth  FuelType       Brand NotRepaired  \\\n",
       "0   golf     150000                  0    petrol  volkswagen         NaN   \n",
       "1    NaN     125000                  5  gasoline        audi         yes   \n",
       "2  grand     125000                  8  gasoline        jeep         NaN   \n",
       "\n",
       "           DateCreated  NumberOfPictures  PostalCode             LastSeen  \\\n",
       "0  2016-03-24 00:00:00                 0       70435  2016-04-07 03:16:57   \n",
       "1  2016-03-24 00:00:00                 0       66954  2016-04-07 01:46:50   \n",
       "2  2016-03-14 00:00:00                 0       90480  2016-04-05 12:47:46   \n",
       "\n",
       "   DateCreated_date_time  \n",
       "0                   2016  \n",
       "1                   2016  \n",
       "2                   2016  "
      ]
     },
     "execution_count": 6,
     "metadata": {},
     "output_type": "execute_result"
    }
   ],
   "source": [
    "df.head(3)"
   ]
  },
  {
   "cell_type": "code",
   "execution_count": 7,
   "metadata": {},
   "outputs": [],
   "source": [
    "df = df.drop(columns='DateCreated')"
   ]
  },
  {
   "cell_type": "code",
   "execution_count": 8,
   "metadata": {},
   "outputs": [
    {
     "data": {
      "text/plain": [
       "array([2016, 2015, 2014])"
      ]
     },
     "execution_count": 8,
     "metadata": {},
     "output_type": "execute_result"
    }
   ],
   "source": [
    "df['DateCreated_date_time'].unique() # проверим на какие года приходятся регистрации объявлений"
   ]
  },
  {
   "cell_type": "markdown",
   "metadata": {},
   "source": [
    "### Удаление признаков и дубликатов"
   ]
  },
  {
   "cell_type": "code",
   "execution_count": 9,
   "metadata": {},
   "outputs": [],
   "source": [
    "df = df.drop_duplicates().reset_index(drop=True)"
   ]
  },
  {
   "cell_type": "code",
   "execution_count": 10,
   "metadata": {},
   "outputs": [],
   "source": [
    "# удалим признаки, которые не нужны для анализа\n",
    "\n",
    "df = df.drop(columns=['PostalCode', 'NumberOfPictures','RegistrationMonth','LastSeen','DateCrawled'])\n",
    "\n",
    "# фотографии - все нулевые значения\n",
    "# DateCreated = DateCrawled\n",
    "# RegistrationMonth - год регистрации \"скажет больше\"\n",
    "# 'LastSeen' и 'PostalCode' опосредованно могут влиять на стоимость машины"
   ]
  },
  {
   "cell_type": "code",
   "execution_count": 11,
   "metadata": {
    "scrolled": true
   },
   "outputs": [
    {
     "data": {
      "text/html": [
       "<div>\n",
       "<style scoped>\n",
       "    .dataframe tbody tr th:only-of-type {\n",
       "        vertical-align: middle;\n",
       "    }\n",
       "\n",
       "    .dataframe tbody tr th {\n",
       "        vertical-align: top;\n",
       "    }\n",
       "\n",
       "    .dataframe thead th {\n",
       "        text-align: right;\n",
       "    }\n",
       "</style>\n",
       "<table border=\"1\" class=\"dataframe\">\n",
       "  <thead>\n",
       "    <tr style=\"text-align: right;\">\n",
       "      <th></th>\n",
       "      <th>Price</th>\n",
       "      <th>VehicleType</th>\n",
       "      <th>RegistrationYear</th>\n",
       "      <th>Gearbox</th>\n",
       "      <th>Power</th>\n",
       "      <th>Model</th>\n",
       "      <th>Kilometer</th>\n",
       "      <th>FuelType</th>\n",
       "      <th>Brand</th>\n",
       "      <th>NotRepaired</th>\n",
       "      <th>DateCreated_date_time</th>\n",
       "    </tr>\n",
       "  </thead>\n",
       "  <tbody>\n",
       "    <tr>\n",
       "      <th>0</th>\n",
       "      <td>480</td>\n",
       "      <td>NaN</td>\n",
       "      <td>1993</td>\n",
       "      <td>manual</td>\n",
       "      <td>0</td>\n",
       "      <td>golf</td>\n",
       "      <td>150000</td>\n",
       "      <td>petrol</td>\n",
       "      <td>volkswagen</td>\n",
       "      <td>NaN</td>\n",
       "      <td>2016</td>\n",
       "    </tr>\n",
       "    <tr>\n",
       "      <th>1</th>\n",
       "      <td>18300</td>\n",
       "      <td>coupe</td>\n",
       "      <td>2011</td>\n",
       "      <td>manual</td>\n",
       "      <td>190</td>\n",
       "      <td>NaN</td>\n",
       "      <td>125000</td>\n",
       "      <td>gasoline</td>\n",
       "      <td>audi</td>\n",
       "      <td>yes</td>\n",
       "      <td>2016</td>\n",
       "    </tr>\n",
       "    <tr>\n",
       "      <th>2</th>\n",
       "      <td>9800</td>\n",
       "      <td>suv</td>\n",
       "      <td>2004</td>\n",
       "      <td>auto</td>\n",
       "      <td>163</td>\n",
       "      <td>grand</td>\n",
       "      <td>125000</td>\n",
       "      <td>gasoline</td>\n",
       "      <td>jeep</td>\n",
       "      <td>NaN</td>\n",
       "      <td>2016</td>\n",
       "    </tr>\n",
       "  </tbody>\n",
       "</table>\n",
       "</div>"
      ],
      "text/plain": [
       "   Price VehicleType  RegistrationYear Gearbox  Power  Model  Kilometer  \\\n",
       "0    480         NaN              1993  manual      0   golf     150000   \n",
       "1  18300       coupe              2011  manual    190    NaN     125000   \n",
       "2   9800         suv              2004    auto    163  grand     125000   \n",
       "\n",
       "   FuelType       Brand NotRepaired  DateCreated_date_time  \n",
       "0    petrol  volkswagen         NaN                   2016  \n",
       "1  gasoline        audi         yes                   2016  \n",
       "2  gasoline        jeep         NaN                   2016  "
      ]
     },
     "execution_count": 11,
     "metadata": {},
     "output_type": "execute_result"
    }
   ],
   "source": [
    "df.head(3)"
   ]
  },
  {
   "cell_type": "markdown",
   "metadata": {},
   "source": [
    "### Удаление строк с нулевой ценой"
   ]
  },
  {
   "cell_type": "code",
   "execution_count": 12,
   "metadata": {},
   "outputs": [],
   "source": [
    "# оставим только те объявления, где цена больше 200 евро нуля\n",
    "# на случай если продают авто на запчасти и не на ходу\n",
    "\n",
    "df = df[df['Price']>= 200] "
   ]
  },
  {
   "cell_type": "markdown",
   "metadata": {},
   "source": [
    "### Обработка категориальных признаков"
   ]
  },
  {
   "cell_type": "markdown",
   "metadata": {},
   "source": [
    "#### Заполнение пропусков"
   ]
  },
  {
   "cell_type": "markdown",
   "metadata": {},
   "source": [
    "##### Заполнение NotRepaired, Model, Gearbox"
   ]
  },
  {
   "cell_type": "code",
   "execution_count": 13,
   "metadata": {},
   "outputs": [],
   "source": [
    "df['NotRepaired'] = df['NotRepaired'].fillna('unknown') #мы не можем предполагать ремонты, заполняем \"неизвестно\"\n",
    "df['Model'] = df['Model'].fillna('unknown') #мы не можем предполагать модель машины, заполняем \"неизвестно\"\n",
    "df['Gearbox'] = df['Gearbox'].fillna('unknown') # у одной и той же модели авто может быть разная коробка передач"
   ]
  },
  {
   "cell_type": "markdown",
   "metadata": {},
   "source": [
    "Определим уникальность значений в столбцах для выявления повторов, ошибок и пропусков."
   ]
  },
  {
   "cell_type": "code",
   "execution_count": 14,
   "metadata": {},
   "outputs": [
    {
     "name": "stdout",
     "output_type": "stream",
     "text": [
      "Уникальные значения: VehicleType\n",
      "[nan 'coupe' 'suv' 'small' 'sedan' 'convertible' 'bus' 'wagon' 'other']\n",
      "\n",
      "Уникальные значения: Gearbox\n",
      "['manual' 'auto' 'unknown']\n",
      "\n",
      "Уникальные значения: Model\n",
      "['golf' 'unknown' 'grand' 'fabia' '3er' '2_reihe' 'c_max' '3_reihe'\n",
      " 'passat' 'navara' 'ka' 'polo' 'twingo' 'a_klasse' 'scirocco' '5er'\n",
      " 'meriva' 'arosa' 'other' 'c4' 'civic' 'transporter' 'punto' 'e_klasse'\n",
      " 'clio' 'kadett' 'kangoo' 'one' 'fortwo' '1er' 'b_klasse' 'signum' 'astra'\n",
      " 'a8' 'jetta' 'fiesta' 'c_klasse' 'micra' 'vito' 'sprinter' '156' 'escort'\n",
      " 'forester' 'xc_reihe' 'scenic' 'a4' 'a1' 'insignia' 'combo' 'focus' 'tt'\n",
      " 'corsa' 'a6' 'jazz' 'omega' 'slk' '7er' '80' '147' 'z_reihe' 'sportage'\n",
      " 'sorento' 'v40' 'ibiza' 'mustang' 'eos' 'touran' 'getz' 'a3' 'almera'\n",
      " 'megane' 'lupo' 'r19' 'zafira' 'caddy' 'mondeo' 'cordoba' 'colt'\n",
      " 'impreza' 'vectra' 'berlingo' 'tiguan' 'i_reihe' 'espace' 'sharan'\n",
      " '6_reihe' 'panda' 'up' 'seicento' 'ceed' '5_reihe' 'yeti' 'octavia' 'mii'\n",
      " 'rx_reihe' '6er' 'modus' 'fox' 'matiz' 'beetle' 'c1' 'rio' 'touareg'\n",
      " 'logan' 'spider' 'cuore' 's_max' 'a2' 'galaxy' 'c3' 'viano' 's_klasse'\n",
      " '1_reihe' 'avensis' 'roomster' 'sl' 'kaefer' 'santa' 'cooper' 'leon'\n",
      " '4_reihe' 'a5' '500' 'laguna' 'ptcruiser' 'clk' 'primera' 'x_reihe'\n",
      " 'exeo' '159' 'transit' 'juke' 'qashqai' 'carisma' 'accord' 'corolla'\n",
      " 'lanos' 'phaeton' 'verso' 'swift' 'rav' 'picanto' 'boxster' 'kalos'\n",
      " 'superb' 'stilo' 'alhambra' 'roadster' 'ypsilon' 'galant' 'justy' '90'\n",
      " 'sirion' 'crossfire' 'agila' 'duster' 'cr_reihe' 'v50' 'mx_reihe'\n",
      " 'c_reihe' 'v_klasse' 'm_klasse' 'yaris' 'c5' 'aygo' 'cc' 'carnival'\n",
      " 'fusion' '911' 'bora' 'forfour' '100' 'cl' 'tigra' '300c' 'spark' 'v70'\n",
      " 'kuga' 'x_type' 'ducato' 's_type' 'x_trail' 'toledo' 'altea' 'voyager'\n",
      " 'bravo' 'antara' 'tucson' 'citigo' 'jimny' 'cayenne' 'wrangler' 'lybra'\n",
      " 'q7' 'lancer' 'captiva' 'c2' 'discovery' 'freelander' 'sandero' 'note'\n",
      " '900' 'cherokee' 'clubman' 'defender' '601' 'cx_reihe' 'legacy' 'pajero'\n",
      " 'auris' 'niva' 's60' 'm_reihe' 'nubira' 'vivaro' 'g_klasse' 'lodgy' '850'\n",
      " 'range_rover' 'q3' 'serie_2' 'calibra' 'glk' 'charade' 'croma'\n",
      " 'outlander' 'doblo' 'musa' 'move' '9000' 'v60' 'aveo' '200' '145' 'b_max'\n",
      " 'range_rover_sport' 'terios' 'samara' 'rangerover' 'q5'\n",
      " 'range_rover_evoque' 'materia' 'delta' 'gl' 'kalina' 'amarok'\n",
      " 'elefantino' 'i3' 'kappa' 'serie_3' 'serie_1']\n",
      "\n",
      "Уникальные значения: FuelType\n",
      "['petrol' 'gasoline' nan 'lpg' 'other' 'hybrid' 'cng' 'electric']\n",
      "\n",
      "Уникальные значения: Brand\n",
      "['volkswagen' 'audi' 'jeep' 'skoda' 'bmw' 'peugeot' 'ford' 'mazda'\n",
      " 'nissan' 'renault' 'mercedes_benz' 'opel' 'seat' 'citroen' 'honda' 'fiat'\n",
      " 'mini' 'smart' 'hyundai' 'alfa_romeo' 'subaru' 'volvo' 'mitsubishi' 'kia'\n",
      " 'suzuki' 'lancia' 'sonstige_autos' 'toyota' 'chevrolet' 'dacia'\n",
      " 'daihatsu' 'chrysler' 'jaguar' 'daewoo' 'rover' 'porsche' 'saab'\n",
      " 'trabant' 'land_rover' 'lada']\n",
      "\n",
      "Уникальные значения: NotRepaired\n",
      "['unknown' 'yes' 'no']\n",
      "\n"
     ]
    }
   ],
   "source": [
    "columns_list = ['VehicleType','Gearbox','Model','FuelType','Brand','NotRepaired']\n",
    "\n",
    "for column in columns_list:\n",
    "    print(f'Уникальные значения: {column}')\n",
    "    print(df[column].unique())\n",
    "    print()"
   ]
  },
  {
   "cell_type": "markdown",
   "metadata": {},
   "source": [
    "##### Заполнение VehicleType"
   ]
  },
  {
   "cell_type": "code",
   "execution_count": 15,
   "metadata": {},
   "outputs": [
    {
     "data": {
      "text/html": [
       "<div>\n",
       "<style scoped>\n",
       "    .dataframe tbody tr th:only-of-type {\n",
       "        vertical-align: middle;\n",
       "    }\n",
       "\n",
       "    .dataframe tbody tr th {\n",
       "        vertical-align: top;\n",
       "    }\n",
       "\n",
       "    .dataframe thead th {\n",
       "        text-align: right;\n",
       "    }\n",
       "</style>\n",
       "<table border=\"1\" class=\"dataframe\">\n",
       "  <thead>\n",
       "    <tr style=\"text-align: right;\">\n",
       "      <th></th>\n",
       "      <th>Price</th>\n",
       "      <th>VehicleType</th>\n",
       "      <th>RegistrationYear</th>\n",
       "      <th>Gearbox</th>\n",
       "      <th>Power</th>\n",
       "      <th>Model</th>\n",
       "      <th>Kilometer</th>\n",
       "      <th>FuelType</th>\n",
       "      <th>Brand</th>\n",
       "      <th>NotRepaired</th>\n",
       "      <th>DateCreated_date_time</th>\n",
       "    </tr>\n",
       "  </thead>\n",
       "  <tbody>\n",
       "    <tr>\n",
       "      <th>22</th>\n",
       "      <td>2900</td>\n",
       "      <td>NaN</td>\n",
       "      <td>2018</td>\n",
       "      <td>manual</td>\n",
       "      <td>90</td>\n",
       "      <td>meriva</td>\n",
       "      <td>150000</td>\n",
       "      <td>petrol</td>\n",
       "      <td>opel</td>\n",
       "      <td>no</td>\n",
       "      <td>2016</td>\n",
       "    </tr>\n",
       "    <tr>\n",
       "      <th>1066</th>\n",
       "      <td>2250</td>\n",
       "      <td>NaN</td>\n",
       "      <td>2017</td>\n",
       "      <td>manual</td>\n",
       "      <td>90</td>\n",
       "      <td>meriva</td>\n",
       "      <td>150000</td>\n",
       "      <td>NaN</td>\n",
       "      <td>opel</td>\n",
       "      <td>unknown</td>\n",
       "      <td>2016</td>\n",
       "    </tr>\n",
       "    <tr>\n",
       "      <th>1238</th>\n",
       "      <td>2000</td>\n",
       "      <td>bus</td>\n",
       "      <td>2003</td>\n",
       "      <td>manual</td>\n",
       "      <td>87</td>\n",
       "      <td>meriva</td>\n",
       "      <td>150000</td>\n",
       "      <td>petrol</td>\n",
       "      <td>opel</td>\n",
       "      <td>no</td>\n",
       "      <td>2016</td>\n",
       "    </tr>\n",
       "    <tr>\n",
       "      <th>1284</th>\n",
       "      <td>2500</td>\n",
       "      <td>NaN</td>\n",
       "      <td>2016</td>\n",
       "      <td>unknown</td>\n",
       "      <td>0</td>\n",
       "      <td>meriva</td>\n",
       "      <td>125000</td>\n",
       "      <td>petrol</td>\n",
       "      <td>opel</td>\n",
       "      <td>unknown</td>\n",
       "      <td>2016</td>\n",
       "    </tr>\n",
       "    <tr>\n",
       "      <th>1404</th>\n",
       "      <td>9700</td>\n",
       "      <td>suv</td>\n",
       "      <td>2011</td>\n",
       "      <td>manual</td>\n",
       "      <td>101</td>\n",
       "      <td>meriva</td>\n",
       "      <td>30000</td>\n",
       "      <td>petrol</td>\n",
       "      <td>opel</td>\n",
       "      <td>unknown</td>\n",
       "      <td>2016</td>\n",
       "    </tr>\n",
       "    <tr>\n",
       "      <th>...</th>\n",
       "      <td>...</td>\n",
       "      <td>...</td>\n",
       "      <td>...</td>\n",
       "      <td>...</td>\n",
       "      <td>...</td>\n",
       "      <td>...</td>\n",
       "      <td>...</td>\n",
       "      <td>...</td>\n",
       "      <td>...</td>\n",
       "      <td>...</td>\n",
       "      <td>...</td>\n",
       "    </tr>\n",
       "    <tr>\n",
       "      <th>351921</th>\n",
       "      <td>3899</td>\n",
       "      <td>wagon</td>\n",
       "      <td>2004</td>\n",
       "      <td>auto</td>\n",
       "      <td>101</td>\n",
       "      <td>meriva</td>\n",
       "      <td>150000</td>\n",
       "      <td>petrol</td>\n",
       "      <td>opel</td>\n",
       "      <td>no</td>\n",
       "      <td>2016</td>\n",
       "    </tr>\n",
       "    <tr>\n",
       "      <th>352444</th>\n",
       "      <td>1500</td>\n",
       "      <td>other</td>\n",
       "      <td>2004</td>\n",
       "      <td>manual</td>\n",
       "      <td>101</td>\n",
       "      <td>meriva</td>\n",
       "      <td>150000</td>\n",
       "      <td>gasoline</td>\n",
       "      <td>opel</td>\n",
       "      <td>no</td>\n",
       "      <td>2016</td>\n",
       "    </tr>\n",
       "    <tr>\n",
       "      <th>352592</th>\n",
       "      <td>2800</td>\n",
       "      <td>bus</td>\n",
       "      <td>2005</td>\n",
       "      <td>manual</td>\n",
       "      <td>101</td>\n",
       "      <td>meriva</td>\n",
       "      <td>150000</td>\n",
       "      <td>gasoline</td>\n",
       "      <td>opel</td>\n",
       "      <td>no</td>\n",
       "      <td>2016</td>\n",
       "    </tr>\n",
       "    <tr>\n",
       "      <th>352803</th>\n",
       "      <td>6999</td>\n",
       "      <td>bus</td>\n",
       "      <td>2011</td>\n",
       "      <td>manual</td>\n",
       "      <td>110</td>\n",
       "      <td>meriva</td>\n",
       "      <td>125000</td>\n",
       "      <td>gasoline</td>\n",
       "      <td>opel</td>\n",
       "      <td>no</td>\n",
       "      <td>2016</td>\n",
       "    </tr>\n",
       "    <tr>\n",
       "      <th>354196</th>\n",
       "      <td>1500</td>\n",
       "      <td>bus</td>\n",
       "      <td>2005</td>\n",
       "      <td>manual</td>\n",
       "      <td>0</td>\n",
       "      <td>meriva</td>\n",
       "      <td>50000</td>\n",
       "      <td>petrol</td>\n",
       "      <td>opel</td>\n",
       "      <td>yes</td>\n",
       "      <td>2016</td>\n",
       "    </tr>\n",
       "  </tbody>\n",
       "</table>\n",
       "<p>1033 rows × 11 columns</p>\n",
       "</div>"
      ],
      "text/plain": [
       "        Price VehicleType  RegistrationYear  Gearbox  Power   Model  \\\n",
       "22       2900         NaN              2018   manual     90  meriva   \n",
       "1066     2250         NaN              2017   manual     90  meriva   \n",
       "1238     2000         bus              2003   manual     87  meriva   \n",
       "1284     2500         NaN              2016  unknown      0  meriva   \n",
       "1404     9700         suv              2011   manual    101  meriva   \n",
       "...       ...         ...               ...      ...    ...     ...   \n",
       "351921   3899       wagon              2004     auto    101  meriva   \n",
       "352444   1500       other              2004   manual    101  meriva   \n",
       "352592   2800         bus              2005   manual    101  meriva   \n",
       "352803   6999         bus              2011   manual    110  meriva   \n",
       "354196   1500         bus              2005   manual      0  meriva   \n",
       "\n",
       "        Kilometer  FuelType Brand NotRepaired  DateCreated_date_time  \n",
       "22         150000    petrol  opel          no                   2016  \n",
       "1066       150000       NaN  opel     unknown                   2016  \n",
       "1238       150000    petrol  opel          no                   2016  \n",
       "1284       125000    petrol  opel     unknown                   2016  \n",
       "1404        30000    petrol  opel     unknown                   2016  \n",
       "...           ...       ...   ...         ...                    ...  \n",
       "351921     150000    petrol  opel          no                   2016  \n",
       "352444     150000  gasoline  opel          no                   2016  \n",
       "352592     150000  gasoline  opel          no                   2016  \n",
       "352803     125000  gasoline  opel          no                   2016  \n",
       "354196      50000    petrol  opel         yes                   2016  \n",
       "\n",
       "[1033 rows x 11 columns]"
      ]
     },
     "execution_count": 15,
     "metadata": {},
     "output_type": "execute_result"
    }
   ],
   "source": [
    "df[df['Brand'] == 'opel']           # срез датафрейма по бренду \n",
    "df[df['Model'] == 'meriva']         # срез датафрейма по модели авто"
   ]
  },
  {
   "cell_type": "markdown",
   "metadata": {},
   "source": [
    "На примере бренда \"opel\" и модели \"meriva\" мы видим, что тип кузова \"wagon\", \"bus\", \"suv\" и т.д. может быть различно указан пользователем. Не представляется возможным указать один тип кузова для комбинации \"Brand\" + \"Model\". Произведем замену на unknown."
   ]
  },
  {
   "cell_type": "code",
   "execution_count": 16,
   "metadata": {},
   "outputs": [],
   "source": [
    "df['VehicleType'] = df['VehicleType'].fillna('unknown') #у одного бренда и модели может быть разный тип кузова"
   ]
  },
  {
   "cell_type": "markdown",
   "metadata": {},
   "source": [
    "##### Заполнение FuelType"
   ]
  },
  {
   "cell_type": "markdown",
   "metadata": {},
   "source": [
    "Названия 'petrol' и 'gasoline' обозначают один и тот же продукт. Заменим все 'gasoline' на 'petrol', который более распространен."
   ]
  },
  {
   "cell_type": "code",
   "execution_count": 17,
   "metadata": {},
   "outputs": [
    {
     "data": {
      "text/plain": [
       "96829"
      ]
     },
     "execution_count": 17,
     "metadata": {},
     "output_type": "execute_result"
    }
   ],
   "source": [
    "df.loc[df['FuelType'] == \"gasoline\", 'FuelType'].count() # всего объектов с топливом \"gasoline\""
   ]
  },
  {
   "cell_type": "code",
   "execution_count": 18,
   "metadata": {},
   "outputs": [
    {
     "data": {
      "text/plain": [
       "206709"
      ]
     },
     "execution_count": 18,
     "metadata": {},
     "output_type": "execute_result"
    }
   ],
   "source": [
    "df.loc[df['FuelType'] == \"petrol\", 'FuelType'].count() # всего объектов с топливом \"petrol\""
   ]
  },
  {
   "cell_type": "code",
   "execution_count": 19,
   "metadata": {},
   "outputs": [],
   "source": [
    "df.loc[df['FuelType'] == \"gasoline\", 'FuelType'] = \"petrol\""
   ]
  },
  {
   "cell_type": "code",
   "execution_count": 20,
   "metadata": {},
   "outputs": [
    {
     "data": {
      "text/plain": [
       "303538"
      ]
     },
     "execution_count": 20,
     "metadata": {},
     "output_type": "execute_result"
    }
   ],
   "source": [
    "df.loc[df['FuelType'] == \"petrol\", 'FuelType'].count() # всего объектов с топливом \"petrol\" после замены"
   ]
  },
  {
   "cell_type": "code",
   "execution_count": 21,
   "metadata": {},
   "outputs": [
    {
     "data": {
      "text/html": [
       "<div>\n",
       "<style scoped>\n",
       "    .dataframe tbody tr th:only-of-type {\n",
       "        vertical-align: middle;\n",
       "    }\n",
       "\n",
       "    .dataframe tbody tr th {\n",
       "        vertical-align: top;\n",
       "    }\n",
       "\n",
       "    .dataframe thead th {\n",
       "        text-align: right;\n",
       "    }\n",
       "</style>\n",
       "<table border=\"1\" class=\"dataframe\">\n",
       "  <thead>\n",
       "    <tr style=\"text-align: right;\">\n",
       "      <th></th>\n",
       "      <th>FuelType</th>\n",
       "    </tr>\n",
       "    <tr>\n",
       "      <th>FuelType</th>\n",
       "      <th></th>\n",
       "    </tr>\n",
       "  </thead>\n",
       "  <tbody>\n",
       "    <tr>\n",
       "      <th>cng</th>\n",
       "      <td>548</td>\n",
       "    </tr>\n",
       "    <tr>\n",
       "      <th>electric</th>\n",
       "      <td>85</td>\n",
       "    </tr>\n",
       "    <tr>\n",
       "      <th>hybrid</th>\n",
       "      <td>225</td>\n",
       "    </tr>\n",
       "    <tr>\n",
       "      <th>lpg</th>\n",
       "      <td>5146</td>\n",
       "    </tr>\n",
       "    <tr>\n",
       "      <th>other</th>\n",
       "      <td>147</td>\n",
       "    </tr>\n",
       "    <tr>\n",
       "      <th>petrol</th>\n",
       "      <td>303538</td>\n",
       "    </tr>\n",
       "  </tbody>\n",
       "</table>\n",
       "</div>"
      ],
      "text/plain": [
       "          FuelType\n",
       "FuelType          \n",
       "cng            548\n",
       "electric        85\n",
       "hybrid         225\n",
       "lpg           5146\n",
       "other          147\n",
       "petrol      303538"
      ]
     },
     "execution_count": 21,
     "metadata": {},
     "output_type": "execute_result"
    }
   ],
   "source": [
    "df.groupby('FuelType').agg({'FuelType':'count'})"
   ]
  },
  {
   "cell_type": "markdown",
   "metadata": {},
   "source": [
    "В связи с тем, что тип топлива может отличаться для одной и той же марки автомобиля, есть два варианта замены пропущенных значений (NaN):\n",
    "- замена всех пропусков на самый популярный тип топлива - petrol\n",
    "    - Обычно, если топливо \"особое\", к примеру, газ, то продавец это указывает\n",
    "    - Второе по популярности топливо 'lpg' составляет <2%.\n",
    "    \n",
    "    \n",
    "- замена пропусков на 'unkown', что будет консервативным вариантом и отдельной веткой анализа при построении моделей.\n",
    "\n",
    "**Вывод**: заменим пропуски по самому популярному типу топлива."
   ]
  },
  {
   "cell_type": "code",
   "execution_count": 22,
   "metadata": {},
   "outputs": [],
   "source": [
    "df.loc[df['FuelType'].isna(), 'FuelType'] = \"petrol\""
   ]
  },
  {
   "cell_type": "code",
   "execution_count": 23,
   "metadata": {
    "scrolled": true
   },
   "outputs": [
    {
     "data": {
      "text/plain": [
       "Price                    0\n",
       "VehicleType              0\n",
       "RegistrationYear         0\n",
       "Gearbox                  0\n",
       "Power                    0\n",
       "Model                    0\n",
       "Kilometer                0\n",
       "FuelType                 0\n",
       "Brand                    0\n",
       "NotRepaired              0\n",
       "DateCreated_date_time    0\n",
       "dtype: int64"
      ]
     },
     "execution_count": 23,
     "metadata": {},
     "output_type": "execute_result"
    }
   ],
   "source": [
    "df.isna().sum()"
   ]
  },
  {
   "cell_type": "markdown",
   "metadata": {},
   "source": [
    "### Обработка количественных признаков"
   ]
  },
  {
   "cell_type": "code",
   "execution_count": 24,
   "metadata": {
    "scrolled": false
   },
   "outputs": [
    {
     "data": {
      "text/html": [
       "<div>\n",
       "<style scoped>\n",
       "    .dataframe tbody tr th:only-of-type {\n",
       "        vertical-align: middle;\n",
       "    }\n",
       "\n",
       "    .dataframe tbody tr th {\n",
       "        vertical-align: top;\n",
       "    }\n",
       "\n",
       "    .dataframe thead th {\n",
       "        text-align: right;\n",
       "    }\n",
       "</style>\n",
       "<table border=\"1\" class=\"dataframe\">\n",
       "  <thead>\n",
       "    <tr style=\"text-align: right;\">\n",
       "      <th></th>\n",
       "      <th>Price</th>\n",
       "      <th>VehicleType</th>\n",
       "      <th>RegistrationYear</th>\n",
       "      <th>Gearbox</th>\n",
       "      <th>Power</th>\n",
       "      <th>Model</th>\n",
       "      <th>Kilometer</th>\n",
       "      <th>FuelType</th>\n",
       "      <th>Brand</th>\n",
       "      <th>NotRepaired</th>\n",
       "      <th>DateCreated_date_time</th>\n",
       "    </tr>\n",
       "  </thead>\n",
       "  <tbody>\n",
       "    <tr>\n",
       "      <th>0</th>\n",
       "      <td>480</td>\n",
       "      <td>unknown</td>\n",
       "      <td>1993</td>\n",
       "      <td>manual</td>\n",
       "      <td>0</td>\n",
       "      <td>golf</td>\n",
       "      <td>150000</td>\n",
       "      <td>petrol</td>\n",
       "      <td>volkswagen</td>\n",
       "      <td>unknown</td>\n",
       "      <td>2016</td>\n",
       "    </tr>\n",
       "    <tr>\n",
       "      <th>1</th>\n",
       "      <td>18300</td>\n",
       "      <td>coupe</td>\n",
       "      <td>2011</td>\n",
       "      <td>manual</td>\n",
       "      <td>190</td>\n",
       "      <td>unknown</td>\n",
       "      <td>125000</td>\n",
       "      <td>petrol</td>\n",
       "      <td>audi</td>\n",
       "      <td>yes</td>\n",
       "      <td>2016</td>\n",
       "    </tr>\n",
       "    <tr>\n",
       "      <th>2</th>\n",
       "      <td>9800</td>\n",
       "      <td>suv</td>\n",
       "      <td>2004</td>\n",
       "      <td>auto</td>\n",
       "      <td>163</td>\n",
       "      <td>grand</td>\n",
       "      <td>125000</td>\n",
       "      <td>petrol</td>\n",
       "      <td>jeep</td>\n",
       "      <td>unknown</td>\n",
       "      <td>2016</td>\n",
       "    </tr>\n",
       "    <tr>\n",
       "      <th>3</th>\n",
       "      <td>1500</td>\n",
       "      <td>small</td>\n",
       "      <td>2001</td>\n",
       "      <td>manual</td>\n",
       "      <td>75</td>\n",
       "      <td>golf</td>\n",
       "      <td>150000</td>\n",
       "      <td>petrol</td>\n",
       "      <td>volkswagen</td>\n",
       "      <td>no</td>\n",
       "      <td>2016</td>\n",
       "    </tr>\n",
       "    <tr>\n",
       "      <th>4</th>\n",
       "      <td>3600</td>\n",
       "      <td>small</td>\n",
       "      <td>2008</td>\n",
       "      <td>manual</td>\n",
       "      <td>69</td>\n",
       "      <td>fabia</td>\n",
       "      <td>90000</td>\n",
       "      <td>petrol</td>\n",
       "      <td>skoda</td>\n",
       "      <td>no</td>\n",
       "      <td>2016</td>\n",
       "    </tr>\n",
       "  </tbody>\n",
       "</table>\n",
       "</div>"
      ],
      "text/plain": [
       "   Price VehicleType  RegistrationYear Gearbox  Power    Model  Kilometer  \\\n",
       "0    480     unknown              1993  manual      0     golf     150000   \n",
       "1  18300       coupe              2011  manual    190  unknown     125000   \n",
       "2   9800         suv              2004    auto    163    grand     125000   \n",
       "3   1500       small              2001  manual     75     golf     150000   \n",
       "4   3600       small              2008  manual     69    fabia      90000   \n",
       "\n",
       "  FuelType       Brand NotRepaired  DateCreated_date_time  \n",
       "0   petrol  volkswagen     unknown                   2016  \n",
       "1   petrol        audi         yes                   2016  \n",
       "2   petrol        jeep     unknown                   2016  \n",
       "3   petrol  volkswagen          no                   2016  \n",
       "4   petrol       skoda          no                   2016  "
      ]
     },
     "execution_count": 24,
     "metadata": {},
     "output_type": "execute_result"
    }
   ],
   "source": [
    "df.head() # общий вид датафрейма, но обрабатывать будем только количественные признаки "
   ]
  },
  {
   "cell_type": "code",
   "execution_count": 25,
   "metadata": {},
   "outputs": [
    {
     "data": {
      "image/png": "[encoded data removed]",
      "text/plain": [
       "<Figure size 1080x216 with 1 Axes>"
      ]
     },
     "metadata": {
      "needs_background": "light"
     },
     "output_type": "display_data"
    },
    {
     "data": {
      "image/png": "[encoded data removed]",
      "text/plain": [
       "<Figure size 1080x216 with 1 Axes>"
      ]
     },
     "metadata": {
      "needs_background": "light"
     },
     "output_type": "display_data"
    },
    {
     "data": {
      "image/png": "[encoded data removed]",
      "text/plain": [
       "<Figure size 1080x216 with 1 Axes>"
      ]
     },
     "metadata": {
      "needs_background": "light"
     },
     "output_type": "display_data"
    },
    {
     "data": {
      "image/png": "[encoded data removed]",
      "text/plain": [
       "<Figure size 1080x216 with 1 Axes>"
      ]
     },
     "metadata": {
      "needs_background": "light"
     },
     "output_type": "display_data"
    },
    {
     "data": {
      "image/png": "[encoded data removed]",
      "text/plain": [
       "<Figure size 1080x216 with 1 Axes>"
      ]
     },
     "metadata": {
      "needs_background": "light"
     },
     "output_type": "display_data"
    }
   ],
   "source": [
    "# построим диаграммы размаха для каждого столбца представленного цифрами\n",
    "\n",
    "numeric_columns_list = ['Price','RegistrationYear','Power','Kilometer','DateCreated_date_time']\n",
    "\n",
    "for numeric_column in numeric_columns_list:\n",
    "    df[numeric_column].plot(\n",
    "            kind='box',                         # тип графика\n",
    "            grid=True,                          # отображение сетки\n",
    "            figsize=(15,3),                     # размер графика\n",
    "            color='green',                      # цвет ящика\n",
    "            vert = 0                            # повернуть по горизонтали\n",
    "        )\n",
    "    plt.show()"
   ]
  },
  {
   "cell_type": "markdown",
   "metadata": {},
   "source": [
    "- `Price`: по диаграмме размаха данные выглядят правдободобно, без значительных выбросов, нули были удалены.\n",
    "\n",
    "\n",
    "- `RegistrationYear`: данные по году регистрации автомобилей с многочисленными выбросами от 1000 до 9999 года.\n",
    "\n",
    "\n",
    "- `Power`: данные с многочисленными выбросами, мощность спортивных машин максимально 2000 л.с., не считая спец.технику:\n",
    "    - вероятно ошибка в экспорте данных, надо уточнить у специалистов, предоставивших данные;\n",
    "    - возможно другая размерность мощности двигателя и ошибка конвертации.\n",
    "    \n",
    "\n",
    "- `Kilometer`: по диаграмме размаха данные выглядят правдободобно, без значительных выбросов.\n",
    "\n",
    "\n",
    "- `DateCreated_date_time`: данные за три года, преимущественно за 2016 год: практической пользы мало для машинного обучения."
   ]
  },
  {
   "cell_type": "markdown",
   "metadata": {},
   "source": [
    "##### Обработка RegistrationYear"
   ]
  },
  {
   "cell_type": "code",
   "execution_count": 26,
   "metadata": {},
   "outputs": [
    {
     "data": {
      "image/png": "[encoded data removed]",
      "text/plain": [
       "<Figure size 1080x72 with 1 Axes>"
      ]
     },
     "metadata": {
      "needs_background": "light"
     },
     "output_type": "display_data"
    }
   ],
   "source": [
    "df['RegistrationYear'].plot(\n",
    "        kind='box',\n",
    "        title=\"Дата регистрации\",\n",
    "        grid=True,\n",
    "        color='blue',\n",
    "        xlim=(1920,2020),\n",
    "        figsize=(15,1),\n",
    "        vert = 0\n",
    ")\n",
    "plt.show()"
   ]
  },
  {
   "cell_type": "code",
   "execution_count": 27,
   "metadata": {},
   "outputs": [
    {
     "data": {
      "text/plain": [
       "'Всего строк c аномалиями: 1) старше 1985 года 2) моложе даты публикации объявлений в 2016г.'"
      ]
     },
     "metadata": {},
     "output_type": "display_data"
    },
    {
     "data": {
      "text/plain": [
       "19058"
      ]
     },
     "execution_count": 27,
     "metadata": {},
     "output_type": "execute_result"
    }
   ],
   "source": [
    "display(\"Всего строк c аномалиями: 1) старше 1985 года 2) моложе даты публикации объявлений в 2016г.\")\n",
    "\n",
    "df.query('RegistrationYear <= 1985 or RegistrationYear >= 2017').shape[0] "
   ]
  },
  {
   "cell_type": "code",
   "execution_count": 28,
   "metadata": {},
   "outputs": [],
   "source": [
    "# отфильтруем эти значения из основного датафрейма ввиду незначительного количества\n",
    "\n",
    "df = df.query('1985 <= RegistrationYear <= 2017')"
   ]
  },
  {
   "cell_type": "markdown",
   "metadata": {},
   "source": [
    "##### Обработка Power"
   ]
  },
  {
   "cell_type": "code",
   "execution_count": 29,
   "metadata": {},
   "outputs": [
    {
     "data": {
      "image/png": "[encoded data removed]",
      "text/plain": [
       "<Figure size 1080x72 with 1 Axes>"
      ]
     },
     "metadata": {
      "needs_background": "light"
     },
     "output_type": "display_data"
    }
   ],
   "source": [
    "df['Power'].plot(\n",
    "        kind='box',\n",
    "        title=\"Мощность двигателя в л.с.\",\n",
    "        grid=True,\n",
    "        color='blue',\n",
    "        xlim=(-100,1000),\n",
    "        figsize=(15,1),\n",
    "        vert = 0\n",
    ")\n",
    "plt.show()"
   ]
  },
  {
   "cell_type": "code",
   "execution_count": 30,
   "metadata": {},
   "outputs": [
    {
     "name": "stdout",
     "output_type": "stream",
     "text": [
      "Всего строк со значениями мощности двигателя выше 1000 л.с.: 270\n"
     ]
    }
   ],
   "source": [
    "print(\"Всего строк со значениями мощности двигателя выше 1000 л.с.:\", df.query('Power >= 1000').shape[0])"
   ]
  },
  {
   "cell_type": "code",
   "execution_count": 31,
   "metadata": {},
   "outputs": [],
   "source": [
    "# отфильтруем эти значения из основного датафрейма ввиду незначительного количества\n",
    "# максимальная цена 20 000 евро, что не соответствует машинам с большой мощностью двигателя (можно поставить лимит еще ниже)\n",
    "\n",
    "df = df.query('Power <= 1000')"
   ]
  },
  {
   "cell_type": "code",
   "execution_count": 32,
   "metadata": {},
   "outputs": [
    {
     "data": {
      "text/html": [
       "<div>\n",
       "<style scoped>\n",
       "    .dataframe tbody tr th:only-of-type {\n",
       "        vertical-align: middle;\n",
       "    }\n",
       "\n",
       "    .dataframe tbody tr th {\n",
       "        vertical-align: top;\n",
       "    }\n",
       "\n",
       "    .dataframe thead th {\n",
       "        text-align: right;\n",
       "    }\n",
       "</style>\n",
       "<table border=\"1\" class=\"dataframe\">\n",
       "  <thead>\n",
       "    <tr style=\"text-align: right;\">\n",
       "      <th></th>\n",
       "      <th>Price</th>\n",
       "      <th>VehicleType</th>\n",
       "      <th>RegistrationYear</th>\n",
       "      <th>Gearbox</th>\n",
       "      <th>Power</th>\n",
       "      <th>Model</th>\n",
       "      <th>Kilometer</th>\n",
       "      <th>FuelType</th>\n",
       "      <th>Brand</th>\n",
       "      <th>NotRepaired</th>\n",
       "      <th>DateCreated_date_time</th>\n",
       "    </tr>\n",
       "  </thead>\n",
       "  <tbody>\n",
       "    <tr>\n",
       "      <th>0</th>\n",
       "      <td>480</td>\n",
       "      <td>unknown</td>\n",
       "      <td>1993</td>\n",
       "      <td>manual</td>\n",
       "      <td>0</td>\n",
       "      <td>golf</td>\n",
       "      <td>150000</td>\n",
       "      <td>petrol</td>\n",
       "      <td>volkswagen</td>\n",
       "      <td>unknown</td>\n",
       "      <td>2016</td>\n",
       "    </tr>\n",
       "    <tr>\n",
       "      <th>1</th>\n",
       "      <td>18300</td>\n",
       "      <td>coupe</td>\n",
       "      <td>2011</td>\n",
       "      <td>manual</td>\n",
       "      <td>190</td>\n",
       "      <td>unknown</td>\n",
       "      <td>125000</td>\n",
       "      <td>petrol</td>\n",
       "      <td>audi</td>\n",
       "      <td>yes</td>\n",
       "      <td>2016</td>\n",
       "    </tr>\n",
       "    <tr>\n",
       "      <th>2</th>\n",
       "      <td>9800</td>\n",
       "      <td>suv</td>\n",
       "      <td>2004</td>\n",
       "      <td>auto</td>\n",
       "      <td>163</td>\n",
       "      <td>grand</td>\n",
       "      <td>125000</td>\n",
       "      <td>petrol</td>\n",
       "      <td>jeep</td>\n",
       "      <td>unknown</td>\n",
       "      <td>2016</td>\n",
       "    </tr>\n",
       "  </tbody>\n",
       "</table>\n",
       "</div>"
      ],
      "text/plain": [
       "   Price VehicleType  RegistrationYear Gearbox  Power    Model  Kilometer  \\\n",
       "0    480     unknown              1993  manual      0     golf     150000   \n",
       "1  18300       coupe              2011  manual    190  unknown     125000   \n",
       "2   9800         suv              2004    auto    163    grand     125000   \n",
       "\n",
       "  FuelType       Brand NotRepaired  DateCreated_date_time  \n",
       "0   petrol  volkswagen     unknown                   2016  \n",
       "1   petrol        audi         yes                   2016  \n",
       "2   petrol        jeep     unknown                   2016  "
      ]
     },
     "execution_count": 32,
     "metadata": {},
     "output_type": "execute_result"
    }
   ],
   "source": [
    "df.head(3)"
   ]
  },
  {
   "cell_type": "code",
   "execution_count": 33,
   "metadata": {
    "scrolled": false
   },
   "outputs": [
    {
     "name": "stdout",
     "output_type": "stream",
     "text": [
      "Всего строк со значениями мощности двигателя НОЛЬ л.с.: 31489\n"
     ]
    }
   ],
   "source": [
    "# найдем значения мощности двигателя равной 0\n",
    "\n",
    "print(\"Всего строк со значениями мощности двигателя НОЛЬ л.с.:\",df[df['Power'] == 0].shape[0])"
   ]
  },
  {
   "cell_type": "code",
   "execution_count": 34,
   "metadata": {},
   "outputs": [],
   "source": [
    "# заменим нулевые значения на медианную мощность для модели автомобиля (чтобы исключить выбросы)\n",
    "\n",
    "df.loc[df['Power'] == 0, 'Power'] = df.groupby('Model')['Power'].transform('median')"
   ]
  },
  {
   "cell_type": "code",
   "execution_count": 35,
   "metadata": {
    "scrolled": false
   },
   "outputs": [
    {
     "name": "stdout",
     "output_type": "stream",
     "text": [
      "          Price  RegistrationYear     Power  Kilometer  DateCreated_date_time\n",
      "count  327988.0          327988.0  327988.0   327988.0               327988.0\n",
      "mean     4625.0            2004.0     120.0   128964.0                 2016.0\n",
      "std      4507.0               6.0      53.0    36647.0                    0.0\n",
      "min       200.0            1985.0       1.0     5000.0                 2014.0\n",
      "25%      1250.0            1999.0      78.0   125000.0                 2016.0\n",
      "50%      2950.0            2003.0     110.0   150000.0                 2016.0\n",
      "75%      6600.0            2008.0     145.0   150000.0                 2016.0\n",
      "max     20000.0            2017.0    1000.0   150000.0                 2016.0\n"
     ]
    }
   ],
   "source": [
    "print(round(df.describe(),0))"
   ]
  },
  {
   "cell_type": "code",
   "execution_count": 36,
   "metadata": {},
   "outputs": [],
   "source": [
    "# отфильтруем из основного датафрейма мощности двигателя ниже 25% персентиля\n",
    "\n",
    "df = df.query('Power >= 78')"
   ]
  },
  {
   "cell_type": "markdown",
   "metadata": {},
   "source": [
    "##### Обработка DateCreated_date_time"
   ]
  },
  {
   "cell_type": "code",
   "execution_count": 37,
   "metadata": {},
   "outputs": [],
   "source": [
    "df = df.drop(columns='DateCreated_date_time') # удалим данный столбец"
   ]
  },
  {
   "cell_type": "code",
   "execution_count": 38,
   "metadata": {
    "scrolled": false
   },
   "outputs": [
    {
     "data": {
      "text/html": [
       "<div>\n",
       "<style scoped>\n",
       "    .dataframe tbody tr th:only-of-type {\n",
       "        vertical-align: middle;\n",
       "    }\n",
       "\n",
       "    .dataframe tbody tr th {\n",
       "        vertical-align: top;\n",
       "    }\n",
       "\n",
       "    .dataframe thead th {\n",
       "        text-align: right;\n",
       "    }\n",
       "</style>\n",
       "<table border=\"1\" class=\"dataframe\">\n",
       "  <thead>\n",
       "    <tr style=\"text-align: right;\">\n",
       "      <th></th>\n",
       "      <th>Price</th>\n",
       "      <th>VehicleType</th>\n",
       "      <th>RegistrationYear</th>\n",
       "      <th>Gearbox</th>\n",
       "      <th>Power</th>\n",
       "      <th>Model</th>\n",
       "      <th>Kilometer</th>\n",
       "      <th>FuelType</th>\n",
       "      <th>Brand</th>\n",
       "      <th>NotRepaired</th>\n",
       "    </tr>\n",
       "  </thead>\n",
       "  <tbody>\n",
       "    <tr>\n",
       "      <th>0</th>\n",
       "      <td>480</td>\n",
       "      <td>unknown</td>\n",
       "      <td>1993</td>\n",
       "      <td>manual</td>\n",
       "      <td>101.0</td>\n",
       "      <td>golf</td>\n",
       "      <td>150000</td>\n",
       "      <td>petrol</td>\n",
       "      <td>volkswagen</td>\n",
       "      <td>unknown</td>\n",
       "    </tr>\n",
       "    <tr>\n",
       "      <th>1</th>\n",
       "      <td>18300</td>\n",
       "      <td>coupe</td>\n",
       "      <td>2011</td>\n",
       "      <td>manual</td>\n",
       "      <td>190.0</td>\n",
       "      <td>unknown</td>\n",
       "      <td>125000</td>\n",
       "      <td>petrol</td>\n",
       "      <td>audi</td>\n",
       "      <td>yes</td>\n",
       "    </tr>\n",
       "    <tr>\n",
       "      <th>2</th>\n",
       "      <td>9800</td>\n",
       "      <td>suv</td>\n",
       "      <td>2004</td>\n",
       "      <td>auto</td>\n",
       "      <td>163.0</td>\n",
       "      <td>grand</td>\n",
       "      <td>125000</td>\n",
       "      <td>petrol</td>\n",
       "      <td>jeep</td>\n",
       "      <td>unknown</td>\n",
       "    </tr>\n",
       "    <tr>\n",
       "      <th>5</th>\n",
       "      <td>650</td>\n",
       "      <td>sedan</td>\n",
       "      <td>1995</td>\n",
       "      <td>manual</td>\n",
       "      <td>102.0</td>\n",
       "      <td>3er</td>\n",
       "      <td>150000</td>\n",
       "      <td>petrol</td>\n",
       "      <td>bmw</td>\n",
       "      <td>yes</td>\n",
       "    </tr>\n",
       "    <tr>\n",
       "      <th>6</th>\n",
       "      <td>2200</td>\n",
       "      <td>convertible</td>\n",
       "      <td>2004</td>\n",
       "      <td>manual</td>\n",
       "      <td>109.0</td>\n",
       "      <td>2_reihe</td>\n",
       "      <td>150000</td>\n",
       "      <td>petrol</td>\n",
       "      <td>peugeot</td>\n",
       "      <td>no</td>\n",
       "    </tr>\n",
       "  </tbody>\n",
       "</table>\n",
       "</div>"
      ],
      "text/plain": [
       "   Price  VehicleType  RegistrationYear Gearbox  Power    Model  Kilometer  \\\n",
       "0    480      unknown              1993  manual  101.0     golf     150000   \n",
       "1  18300        coupe              2011  manual  190.0  unknown     125000   \n",
       "2   9800          suv              2004    auto  163.0    grand     125000   \n",
       "5    650        sedan              1995  manual  102.0      3er     150000   \n",
       "6   2200  convertible              2004  manual  109.0  2_reihe     150000   \n",
       "\n",
       "  FuelType       Brand NotRepaired  \n",
       "0   petrol  volkswagen     unknown  \n",
       "1   petrol        audi         yes  \n",
       "2   petrol        jeep     unknown  \n",
       "5   petrol         bmw         yes  \n",
       "6   petrol     peugeot          no  "
      ]
     },
     "execution_count": 38,
     "metadata": {},
     "output_type": "execute_result"
    }
   ],
   "source": [
    "df.head() # вид датафрейма после всех преобразований"
   ]
  },
  {
   "cell_type": "code",
   "execution_count": 39,
   "metadata": {},
   "outputs": [
    {
     "data": {
      "text/plain": [
       "(246153, 10)"
      ]
     },
     "execution_count": 39,
     "metadata": {},
     "output_type": "execute_result"
    }
   ],
   "source": [
    "df.shape # размер датафрейма после всех преобразований"
   ]
  },
  {
   "cell_type": "markdown",
   "metadata": {},
   "source": [
    "## Обучение моделей"
   ]
  },
  {
   "cell_type": "markdown",
   "metadata": {},
   "source": [
    "### Прямое кодирование"
   ]
  },
  {
   "cell_type": "code",
   "execution_count": 40,
   "metadata": {},
   "outputs": [],
   "source": [
    "df_ohe = pd.get_dummies(df, drop_first = True) # переведем категориальные переменные в числовые"
   ]
  },
  {
   "cell_type": "code",
   "execution_count": 41,
   "metadata": {
    "scrolled": true
   },
   "outputs": [
    {
     "data": {
      "text/plain": [
       "(246153, 301)"
      ]
     },
     "execution_count": 41,
     "metadata": {},
     "output_type": "execute_result"
    }
   ],
   "source": [
    "df_ohe.shape                                   # количество объектов и признаков + один целевой"
   ]
  },
  {
   "cell_type": "markdown",
   "metadata": {},
   "source": [
    "### Разделение выборки"
   ]
  },
  {
   "cell_type": "markdown",
   "metadata": {},
   "source": [
    "Требуется разделить весть датафрейм на 3 выборки:\n",
    "\n",
    "- Обучающая (60% доля)\n",
    "- Валидационная (20% доля)\n",
    "- Тестовая (20% доля)\n",
    "\n",
    "Разделим дата фрейм сначала на две части (60% и 40%), а затем вторую часть разделим пополам (20% и 20%). Тестовую выборку использовать не будем, \"спрячем\"."
   ]
  },
  {
   "cell_type": "code",
   "execution_count": 42,
   "metadata": {},
   "outputs": [],
   "source": [
    "df_main, df_40 = train_test_split(df_ohe, test_size=0.40, random_state=42)\n",
    "df_valid, df_test = train_test_split(df_40, test_size=0.50, random_state=42)"
   ]
  },
  {
   "cell_type": "code",
   "execution_count": 43,
   "metadata": {},
   "outputs": [
    {
     "name": "stdout",
     "output_type": "stream",
     "text": [
      "Размер обучающего датафрейма: (147691, 301)\n",
      "Размер валидационного датафрейма: (49231, 301)\n",
      "Размер тестового датафрейма: (49231, 301)\n"
     ]
    }
   ],
   "source": [
    "#проверим размерности датафреймов\n",
    "\n",
    "print('Размер обучающего датафрейма:', df_main.shape)\n",
    "print('Размер валидационного датафрейма:', df_valid.shape)\n",
    "print('Размер тестового датафрейма:', df_test.shape)"
   ]
  },
  {
   "cell_type": "code",
   "execution_count": 44,
   "metadata": {},
   "outputs": [],
   "source": [
    "#Разделим датафреймы на \"признаки\" (features) и \"целевой признак\" (target)\n",
    "\n",
    "features_train = df_main.drop('Price', axis=1)   #обучающий датафрейм по \"признакам\"\n",
    "target_train = df_main['Price']                  #обучающий датафрейм по \"целевому признаку\"\n",
    "\n",
    "features_valid = df_valid.drop('Price', axis=1)\n",
    "target_valid = df_valid['Price']\n",
    "\n",
    "features_test = df_test.drop('Price', axis=1)\n",
    "target_test = df_test['Price']"
   ]
  },
  {
   "cell_type": "markdown",
   "metadata": {},
   "source": [
    "## Анализ моделей"
   ]
  },
  {
   "cell_type": "markdown",
   "metadata": {},
   "source": [
    "### Алгоритм - дерево решений"
   ]
  },
  {
   "cell_type": "code",
   "execution_count": 53,
   "metadata": {},
   "outputs": [
    {
     "name": "stdout",
     "output_type": "stream",
     "text": [
      "Лучшая модель \"дерево решений\"\n",
      "DecisionTreeRegressor(max_depth=30, min_samples_split=55, random_state=42)\n",
      "\n",
      "RMSE \"дерево решений\": 1917.49055\n",
      "CPU times: user 3min 13s, sys: 3.69 s, total: 3min 16s\n",
      "Wall time: 3min 31s\n"
     ]
    }
   ],
   "source": [
    "%%time\n",
    "\n",
    "# создадим цикл с перебором гипперпараметров:\n",
    "# - глубина дерева / max_depth\n",
    "# - min_samples_split -  гиперпараметр запрещает создавать узлы, в которые попадает слишком мало объектов обучающей выборки\n",
    "\n",
    "best_tree_model = None\n",
    "#best_tree_depth = 0\n",
    "#best_tree_split = 0\n",
    "best_tree_rmse = 10000\n",
    "\n",
    "for depth_tree in range(20,50,5):\n",
    "    for samples_split in range(35,65,5):\n",
    "        model_tree = DecisionTreeRegressor(random_state=42,\n",
    "                                               max_depth = depth_tree,\n",
    "                                               min_samples_split = samples_split\n",
    "                                               )\n",
    "            \n",
    "        model_tree.fit(features_train, target_train)\n",
    "            \n",
    "        predictions_valid_tree = model_tree.predict(features_valid)\n",
    "            \n",
    "        rmse_tree = mean_squared_error(target_valid, predictions_valid_tree)**0.5\n",
    "            \n",
    "        if rmse_tree < best_tree_rmse:\n",
    "            best_tree_model = model_tree\n",
    "            best_tree_rmse = rmse_tree\n",
    "   \n",
    "print(f'Лучшая модель \"дерево решений\"')\n",
    "print(best_tree_model)\n",
    "print()\n",
    "print(f'RMSE \"дерево решений\": {round(best_tree_rmse,5)}')\n"
   ]
  },
  {
   "cell_type": "markdown",
   "metadata": {},
   "source": [
    "**Вывод:** Лучшая модель \"дерево решений\" ошибается в прогнозе в среднем на **1917** евро, что достаточно много для медианной цены в 2600 евро."
   ]
  },
  {
   "cell_type": "markdown",
   "metadata": {},
   "source": [
    "### Алгоритм - случайный лес"
   ]
  },
  {
   "cell_type": "code",
   "execution_count": 46,
   "metadata": {},
   "outputs": [
    {
     "name": "stdout",
     "output_type": "stream",
     "text": [
      "Лучшая модель \"случайный лес\"\n",
      "RandomForestRegressor(max_depth=30, n_estimators=80, random_state=42)\n",
      "\n",
      "RMSE \"случайный лес\": 1742.1212\n",
      "CPU times: user 36min 21s, sys: 4.18 s, total: 36min 25s\n",
      "Wall time: 37min 1s\n"
     ]
    }
   ],
   "source": [
    "%%time\n",
    "\n",
    "# создадим цикл с перебором гипперпараметров:\n",
    "# - глубина дерева / max_depth\n",
    "# - количество деревьев в лесу / n_estimators\n",
    "\n",
    "best_forest_model = None\n",
    "#best_forest_estimator = 0\n",
    "#best_forest_depth = 0\n",
    "best_forest_rmse = 10000\n",
    "\n",
    "for forest_estimator in range(70,85,5):\n",
    "    for forest_depth in range(20,35,5):\n",
    "        model_forest= RandomForestRegressor(random_state=42,\n",
    "                                               n_estimators = forest_estimator,\n",
    "                                               max_depth = forest_depth\n",
    "                                               )\n",
    "            \n",
    "        model_forest.fit(features_train, target_train)\n",
    "            \n",
    "        predictions_valid_forest = model_forest.predict(features_valid)\n",
    "            \n",
    "        rmse_forest = mean_squared_error(target_valid, predictions_valid_forest)**0.5\n",
    "            \n",
    "        if rmse_forest < best_forest_rmse:\n",
    "            best_forest_model = model_forest\n",
    "            best_forest_rmse = rmse_forest\n",
    "   \n",
    "print(f'Лучшая модель \"случайный лес\"')\n",
    "print(best_forest_model)\n",
    "print()\n",
    "print(f'RMSE \"случайный лес\": {round(best_forest_rmse,5)}')\n"
   ]
  },
  {
   "cell_type": "markdown",
   "metadata": {},
   "source": [
    "**Вывод:**\n",
    "- Лучшая модель \"случайный лес\" ошибается в прогнозе в среднем на **1742** евро, что достаточно много для медианной цены в 2600 евро.\n",
    "- Лучший результат для базовых моделей, однако, время обучения и прогнозирования занимает очень продолжительное время - час.\n",
    "    - Поиск оптимального значения \"n_estimators\" отложим, т.к. интерации занимают много времени."
   ]
  },
  {
   "cell_type": "markdown",
   "metadata": {},
   "source": [
    "### Алгоритм - линейная регрессия"
   ]
  },
  {
   "cell_type": "code",
   "execution_count": 47,
   "metadata": {},
   "outputs": [
    {
     "name": "stdout",
     "output_type": "stream",
     "text": [
      "Модель \"линейная регрессия\"\n",
      "LinearRegression()\n",
      "\n",
      "RMSE \"линейная регрессия\": 2631.82686\n",
      "CPU times: user 9.29 s, sys: 9.64 s, total: 18.9 s\n",
      "Wall time: 19.7 s\n"
     ]
    }
   ],
   "source": [
    "%%time\n",
    "\n",
    "model_linear = LinearRegression()\n",
    "\n",
    "model_linear.fit(features_train, target_train)\n",
    "            \n",
    "predictions_valid_linear = model_linear.predict(features_valid)\n",
    "            \n",
    "rmse_linear = mean_squared_error(target_valid, predictions_valid_linear)**0.5\n",
    "\n",
    "print(f'Модель \"линейная регрессия\"')\n",
    "print(model_linear)\n",
    "print()\n",
    "print(f'RMSE \"линейная регрессия\": {round(rmse_linear,5)}')"
   ]
  },
  {
   "cell_type": "markdown",
   "metadata": {},
   "source": [
    "**Вывод:** Лучшая модель \"линейная регрессия\" ошибается в прогнозе в среднем на **2632** евро, что много для медианной цены в 2600 евро."
   ]
  },
  {
   "cell_type": "markdown",
   "metadata": {},
   "source": [
    "### Алгоритм - LightGBM - «лёгкий градиентный бустинг»"
   ]
  },
  {
   "cell_type": "code",
   "execution_count": 59,
   "metadata": {},
   "outputs": [
    {
     "name": "stdout",
     "output_type": "stream",
     "text": [
      "Лучшая модель \"LightGBM\"\n",
      "LGBMRegressor(learning_rate=0.3, n_estimators=400, random_state=42)\n",
      "\n",
      "RMSE \"LightGBM\": 1707.42967\n",
      "CPU times: user 2h 57min 36s, sys: 1min 27s, total: 2h 59min 3s\n",
      "Wall time: 3h 4min 57s\n"
     ]
    }
   ],
   "source": [
    "%%time\n",
    "\n",
    "# создадим цикл с перебором гипперпараметров:\n",
    "# - скорости обучения / learning_rate \n",
    "# - количество деревьев в лесу / n_estimators \n",
    "\n",
    "best_lgbm_model = None\n",
    "#best_lgbm_estimator = 0\n",
    "#best_lgbm_rate = 0\n",
    "best_lgbm_rmse = 10000\n",
    "\n",
    "lgbm_rate_list = [0.3, 0.4, 0.5]\n",
    "\n",
    "for lgbm_rate in lgbm_rate_list:\n",
    "    for lgbm_estimator in range(100,500,100):\n",
    "        model_lgbm = LGBMRegressor(random_state=42,\n",
    "                                   learning_rate = lgbm_rate,\n",
    "                                   n_estimators = lgbm_estimator\n",
    "                                   )\n",
    "            \n",
    "        model_lgbm.fit(features_train, target_train)\n",
    "            \n",
    "        predictions_valid_lgbm = model_lgbm.predict(features_valid)\n",
    "            \n",
    "        rmse_lgbm = mean_squared_error(target_valid, predictions_valid_lgbm)**0.5\n",
    "            \n",
    "        if rmse_lgbm < best_lgbm_rmse:\n",
    "            best_lgbm_model = model_lgbm\n",
    "            best_lgbm_rmse = rmse_lgbm\n",
    "   \n",
    "print(f'Лучшая модель \"LightGBM\"')\n",
    "print(best_lgbm_model)\n",
    "print()\n",
    "print(f'RMSE \"LightGBM\": {round(best_lgbm_rmse,5)}')\n"
   ]
  },
  {
   "cell_type": "markdown",
   "metadata": {},
   "source": [
    "**Вывод:** Лучшая модель \"LightGBM\" ошибается в прогнозе в среднем на **1707** евро, что является вторым результатом по метрике RMSE и самым продолжительным циклом анализа данных."
   ]
  },
  {
   "cell_type": "markdown",
   "metadata": {},
   "source": [
    "### Алгоритм - CatBoost - «градиентный бустинг»"
   ]
  },
  {
   "cell_type": "code",
   "execution_count": 63,
   "metadata": {},
   "outputs": [
    {
     "name": "stdout",
     "output_type": "stream",
     "text": [
      "Лучшая модель \"CatBoost\"\n",
      "<catboost.core.CatBoostRegressor object at 0x7feb174f2ca0>\n",
      "Количество итераций: 500\n",
      "Скорость обучения: 0.5\n",
      "\n",
      "RMSE \"CatBoost\": 1729.97675\n",
      "CPU times: user 3min 13s, sys: 1.01 s, total: 3min 14s\n",
      "Wall time: 10min 50s\n"
     ]
    }
   ],
   "source": [
    "%%time\n",
    "\n",
    "# создадим цикл с перебором гипперпараметров:\n",
    "# - скорости обучения / learning_rate \n",
    "# - количество деревьев в лесу / n_estimators \n",
    "\n",
    "best_cat_model = None\n",
    "best_cat_iterations = 0\n",
    "best_cat_rate = 0\n",
    "best_cat_rmse = 100000\n",
    "\n",
    "cat_rate_list = [0.2, 0.3, 0.4, 0.5]\n",
    "\n",
    "for cat_rate in cat_rate_list:\n",
    "    for cat_iteration in range(100,600,100):\n",
    "        model_cat = CatBoostRegressor(random_state=42,\n",
    "                                   learning_rate = cat_rate,\n",
    "                                   iterations = cat_iteration,\n",
    "                                   verbose = False\n",
    "                                   )\n",
    "            \n",
    "        model_cat.fit(features_train, target_train)\n",
    "            \n",
    "        predictions_valid_cat = model_cat.predict(features_valid)\n",
    "            \n",
    "        rmse_cat = mean_squared_error(target_valid, predictions_valid_cat)**0.5\n",
    "            \n",
    "        if rmse_cat < best_cat_rmse:\n",
    "            best_cat_model = model_cat\n",
    "            best_cat_rmse = rmse_cat\n",
    "            best_cat_iterations = cat_iteration\n",
    "            best_cat_rate = cat_rate\n",
    "   \n",
    "print(f'Лучшая модель \"CatBoost\"')\n",
    "print(best_cat_model)\n",
    "print(\"Количество итераций:\", best_cat_iterations)\n",
    "print(\"Скорость обучения:\", best_cat_rate)\n",
    "print()\n",
    "print(f'RMSE \"CatBoost\": {round(best_cat_rmse,5)}')"
   ]
  },
  {
   "cell_type": "markdown",
   "metadata": {},
   "source": [
    "### Кросс-валидация RandomizedSearchCV для обучающей выборки"
   ]
  },
  {
   "cell_type": "code",
   "execution_count": 56,
   "metadata": {
    "scrolled": false
   },
   "outputs": [
    {
     "data": {
      "text/plain": [
       "RandomizedSearchCV(cv=5,\n",
       "                   estimator=<catboost.core.CatBoostRegressor object at 0x7fe7428ad730>,\n",
       "                   n_jobs=-1,\n",
       "                   param_distributions={'learning_rate': array([0.3       , 0.35555556, 0.41111111, 0.46666667, 0.52222222,\n",
       "       0.57777778, 0.63333333, 0.68888889, 0.74444444, 0.8       ]),\n",
       "                                        'max_depth': <scipy.stats._distn_infrastructure.rv_frozen object at 0x7fe7426264f0>,\n",
       "                                        'n_estimators': <scipy.stats._distn_infrastructure.rv_frozen object at 0x7fe7428ad190>},\n",
       "                   random_state=42, scoring='neg_root_mean_squared_error')"
      ]
     },
     "execution_count": 56,
     "metadata": {},
     "output_type": "execute_result"
    }
   ],
   "source": [
    "param_grid = {'n_estimators': randint(100, 500),\n",
    "              'learning_rate': np.linspace(0.3,0.8,10),\n",
    "              'max_depth': randint(3, 15)\n",
    "             }\n",
    "\n",
    "random_search = RandomizedSearchCV(CatBoostRegressor(loss_function=\"RMSE\",random_state=42,verbose=False),\n",
    "                                   param_grid,\n",
    "                                   scoring='neg_root_mean_squared_error',\n",
    "                                   random_state=42,\n",
    "                                   cv=5,\n",
    "                                   n_jobs=-1\n",
    "                                  )\n",
    "\n",
    "random_search.fit(features_train, target_train)"
   ]
  },
  {
   "cell_type": "code",
   "execution_count": 57,
   "metadata": {},
   "outputs": [
    {
     "name": "stdout",
     "output_type": "stream",
     "text": [
      "-1712.0987972356168\n",
      "{'learning_rate': 0.3, 'max_depth': 14, 'n_estimators': 413}\n"
     ]
    }
   ],
   "source": [
    "print(random_search.best_score_)\n",
    "\n",
    "print(random_search.best_params_)"
   ]
  },
  {
   "cell_type": "markdown",
   "metadata": {},
   "source": [
    "## Результаты"
   ]
  },
  {
   "cell_type": "code",
   "execution_count": 64,
   "metadata": {},
   "outputs": [],
   "source": [
    "datas = [\n",
    "    [best_tree_rmse, best_forest_rmse, rmse_linear, best_lgbm_rmse, best_cat_rmse],\n",
    "    ['3min 31s', '37min 1s', '19.7 s', '3h 4min 57s', '10min 50s']\n",
    "]\n",
    "\n",
    "columns_title = [\"Tree\", \"RandomForest\", \"LinearRegres\", \"LGBM\", \"CatBoost\"]\n",
    "\n",
    "row_indexes = ['RMSE','Wall time']\n",
    "\n",
    "summary = pd.DataFrame(data=datas, columns=columns_title, index=row_indexes)"
   ]
  },
  {
   "cell_type": "code",
   "execution_count": 65,
   "metadata": {},
   "outputs": [
    {
     "data": {
      "text/html": [
       "<div>\n",
       "<style scoped>\n",
       "    .dataframe tbody tr th:only-of-type {\n",
       "        vertical-align: middle;\n",
       "    }\n",
       "\n",
       "    .dataframe tbody tr th {\n",
       "        vertical-align: top;\n",
       "    }\n",
       "\n",
       "    .dataframe thead th {\n",
       "        text-align: right;\n",
       "    }\n",
       "</style>\n",
       "<table border=\"1\" class=\"dataframe\">\n",
       "  <thead>\n",
       "    <tr style=\"text-align: right;\">\n",
       "      <th></th>\n",
       "      <th>Tree</th>\n",
       "      <th>RandomForest</th>\n",
       "      <th>LinearRegres</th>\n",
       "      <th>LGBM</th>\n",
       "      <th>CatBoost</th>\n",
       "    </tr>\n",
       "  </thead>\n",
       "  <tbody>\n",
       "    <tr>\n",
       "      <th>RMSE</th>\n",
       "      <td>1917.490548</td>\n",
       "      <td>1742.121199</td>\n",
       "      <td>2631.826856</td>\n",
       "      <td>1707.429673</td>\n",
       "      <td>1729.976755</td>\n",
       "    </tr>\n",
       "    <tr>\n",
       "      <th>Wall time</th>\n",
       "      <td>3min 31s</td>\n",
       "      <td>37min 1s</td>\n",
       "      <td>19.7 s</td>\n",
       "      <td>3h 4min 57s</td>\n",
       "      <td>10min 50s</td>\n",
       "    </tr>\n",
       "  </tbody>\n",
       "</table>\n",
       "</div>"
      ],
      "text/plain": [
       "                  Tree RandomForest LinearRegres         LGBM     CatBoost\n",
       "RMSE       1917.490548  1742.121199  2631.826856  1707.429673  1729.976755\n",
       "Wall time     3min 31s     37min 1s       19.7 s  3h 4min 57s    10min 50s"
      ]
     },
     "execution_count": 65,
     "metadata": {},
     "output_type": "execute_result"
    }
   ],
   "source": [
    "summary"
   ]
  },
  {
   "cell_type": "markdown",
   "metadata": {},
   "source": [
    "Вывод:\n",
    "- Лучший результат дает «лёгкий градиентный бустинг» - LightGBM, однако, время анализа самое большое, что не отвечает целям заказчика по скорости обучения и предсказания.\n",
    "- Второй результат по метрике качества RMSE у \"CatBoost\" и лучший баланс по результату и времени выполнения анализа.\n",
    "- \"CatBoost\" будет использован для тестовой выборки."
   ]
  },
  {
   "cell_type": "markdown",
   "metadata": {},
   "source": [
    "## Анализ на тестовой выборке"
   ]
  },
  {
   "cell_type": "code",
   "execution_count": 66,
   "metadata": {},
   "outputs": [
    {
     "name": "stdout",
     "output_type": "stream",
     "text": [
      "RMSE \"CatBoost\" на тестовой выборке: 1746.03884\n"
     ]
    }
   ],
   "source": [
    "predictions_test_cat = best_cat_model.predict(features_test)\n",
    "\n",
    "rmse_cat_test = mean_squared_error(target_test, predictions_test_cat)**0.5\n",
    "\n",
    "print(f'RMSE \"CatBoost\" на тестовой выборке: {round(rmse_cat_test,5)}')"
   ]
  },
  {
   "cell_type": "markdown",
   "metadata": {},
   "source": [
    "**Вывод:**\n",
    "\n",
    "`Результаты на тестовой выборке сопоставимы с валидационной выборкой. Указанная модель принимается в качестве лучшей для рекомендации заказчику.`"
   ]
  },
  {
   "cell_type": "markdown",
   "metadata": {},
   "source": [
    "## Чек-лист проверки"
   ]
  },
  {
   "cell_type": "markdown",
   "metadata": {},
   "source": [
    "- [x]  Jupyter Notebook открыт\n",
    "- [x]  Весь код выполняется без ошибок\n",
    "- [x]  Ячейки с кодом расположены в порядке исполнения\n",
    "- [x]  Выполнена загрузка и подготовка данных\n",
    "- [x]  Выполнено обучение моделей\n",
    "- [x]  Есть анализ скорости работы и качества моделей"
   ]
  }
 ],
 "metadata": {
  "ExecuteTimeLog": [
   {
    "duration": 1440,
    "start_time": "2022-05-20T14:07:09.337Z"
   },
   {
    "duration": 1127,
    "start_time": "2022-05-20T14:07:59.907Z"
   },
   {
    "duration": 5,
    "start_time": "2022-05-20T14:08:37.020Z"
   },
   {
    "duration": 14,
    "start_time": "2022-05-20T14:12:36.432Z"
   },
   {
    "duration": 60,
    "start_time": "2022-05-20T14:12:36.989Z"
   },
   {
    "duration": 1162,
    "start_time": "2022-05-20T14:12:42.398Z"
   },
   {
    "duration": 824,
    "start_time": "2022-05-20T14:12:43.562Z"
   },
   {
    "duration": 6,
    "start_time": "2022-05-20T14:12:44.387Z"
   },
   {
    "duration": 1109,
    "start_time": "2022-05-20T14:14:33.241Z"
   },
   {
    "duration": 805,
    "start_time": "2022-05-20T14:14:34.352Z"
   },
   {
    "duration": 5,
    "start_time": "2022-05-20T14:14:35.158Z"
   },
   {
    "duration": 1198,
    "start_time": "2022-05-20T14:19:34.554Z"
   },
   {
    "duration": 1226,
    "start_time": "2022-05-20T14:19:35.754Z"
   },
   {
    "duration": 5,
    "start_time": "2022-05-20T14:19:36.982Z"
   },
   {
    "duration": 1236,
    "start_time": "2022-05-20T14:30:01.424Z"
   },
   {
    "duration": 1282,
    "start_time": "2022-05-20T14:30:02.661Z"
   },
   {
    "duration": 6,
    "start_time": "2022-05-20T14:30:03.944Z"
   },
   {
    "duration": 1358,
    "start_time": "2022-05-21T17:20:01.915Z"
   },
   {
    "duration": 1310,
    "start_time": "2022-05-21T17:20:03.276Z"
   },
   {
    "duration": 6,
    "start_time": "2022-05-21T17:20:04.590Z"
   },
   {
    "duration": 1297,
    "start_time": "2022-05-21T17:25:20.903Z"
   },
   {
    "duration": 1273,
    "start_time": "2022-05-21T17:25:22.202Z"
   },
   {
    "duration": 6,
    "start_time": "2022-05-21T17:25:23.477Z"
   },
   {
    "duration": 1286,
    "start_time": "2022-05-21T17:34:37.124Z"
   },
   {
    "duration": 1337,
    "start_time": "2022-05-21T17:34:39.022Z"
   },
   {
    "duration": 655,
    "start_time": "2022-05-21T17:34:45.486Z"
   },
   {
    "duration": 53,
    "start_time": "2022-05-21T17:34:47.710Z"
   },
   {
    "duration": 16,
    "start_time": "2022-05-21T17:34:55.492Z"
   },
   {
    "duration": 118,
    "start_time": "2022-05-21T17:37:05.737Z"
   },
   {
    "duration": 4,
    "start_time": "2022-05-21T17:37:17.449Z"
   },
   {
    "duration": 877,
    "start_time": "2022-05-21T17:37:17.910Z"
   },
   {
    "duration": 592,
    "start_time": "2022-05-21T17:37:21.182Z"
   },
   {
    "duration": 53,
    "start_time": "2022-05-21T17:37:21.776Z"
   },
   {
    "duration": 12,
    "start_time": "2022-05-21T17:37:22.463Z"
   },
   {
    "duration": 13,
    "start_time": "2022-05-21T17:39:50.566Z"
   },
   {
    "duration": 1172,
    "start_time": "2022-05-21T17:40:03.062Z"
   },
   {
    "duration": 970,
    "start_time": "2022-05-21T17:40:04.236Z"
   },
   {
    "duration": 9,
    "start_time": "2022-05-21T17:40:05.621Z"
   },
   {
    "duration": 666,
    "start_time": "2022-05-21T17:40:10.406Z"
   },
   {
    "duration": 56,
    "start_time": "2022-05-21T17:40:11.074Z"
   },
   {
    "duration": 14,
    "start_time": "2022-05-21T17:40:11.686Z"
   },
   {
    "duration": 84,
    "start_time": "2022-05-21T17:43:34.291Z"
   },
   {
    "duration": 12,
    "start_time": "2022-05-21T17:43:44.158Z"
   },
   {
    "duration": 7,
    "start_time": "2022-05-21T17:44:55.377Z"
   },
   {
    "duration": 3,
    "start_time": "2022-05-21T17:48:19.648Z"
   },
   {
    "duration": 24,
    "start_time": "2022-05-21T17:48:45.373Z"
   },
   {
    "duration": 123,
    "start_time": "2022-05-21T17:49:39.347Z"
   },
   {
    "duration": 36,
    "start_time": "2022-05-21T17:49:47.498Z"
   },
   {
    "duration": 24,
    "start_time": "2022-05-21T17:49:52.934Z"
   },
   {
    "duration": 19,
    "start_time": "2022-05-21T17:50:38.448Z"
   },
   {
    "duration": 34,
    "start_time": "2022-05-21T17:51:11.779Z"
   },
   {
    "duration": 2,
    "start_time": "2022-05-21T17:52:56.750Z"
   },
   {
    "duration": 316,
    "start_time": "2022-05-21T17:53:35.395Z"
   },
   {
    "duration": 18,
    "start_time": "2022-05-21T17:53:45.490Z"
   },
   {
    "duration": 96,
    "start_time": "2022-05-21T17:53:54.322Z"
   },
   {
    "duration": 28,
    "start_time": "2022-05-21T17:54:00.866Z"
   },
   {
    "duration": 26,
    "start_time": "2022-05-21T17:55:06.066Z"
   },
   {
    "duration": 24,
    "start_time": "2022-05-21T17:55:12.761Z"
   },
   {
    "duration": 86,
    "start_time": "2022-05-21T17:55:16.862Z"
   },
   {
    "duration": 15,
    "start_time": "2022-05-21T17:55:27.300Z"
   },
   {
    "duration": 24,
    "start_time": "2022-05-21T17:55:43.026Z"
   },
   {
    "duration": 27,
    "start_time": "2022-05-21T17:55:56.138Z"
   },
   {
    "duration": 38,
    "start_time": "2022-05-21T17:58:01.955Z"
   },
   {
    "duration": 13,
    "start_time": "2022-05-21T17:58:19.149Z"
   },
   {
    "duration": 5,
    "start_time": "2022-05-21T17:58:31.082Z"
   },
   {
    "duration": 34,
    "start_time": "2022-05-21T17:58:39.621Z"
   },
   {
    "duration": 5,
    "start_time": "2022-05-21T17:58:40.049Z"
   },
   {
    "duration": 4,
    "start_time": "2022-05-21T17:58:56.670Z"
   },
   {
    "duration": 920,
    "start_time": "2022-05-21T17:58:57.046Z"
   },
   {
    "duration": 8,
    "start_time": "2022-05-21T17:58:57.968Z"
   },
   {
    "duration": 571,
    "start_time": "2022-05-21T17:59:01.811Z"
   },
   {
    "duration": 62,
    "start_time": "2022-05-21T17:59:02.384Z"
   },
   {
    "duration": 11,
    "start_time": "2022-05-21T17:59:02.803Z"
   },
   {
    "duration": 5,
    "start_time": "2022-05-21T17:59:03.875Z"
   },
   {
    "duration": 27,
    "start_time": "2022-05-21T17:59:04.347Z"
   },
   {
    "duration": 4,
    "start_time": "2022-05-21T17:59:04.963Z"
   },
   {
    "duration": 32,
    "start_time": "2022-05-21T17:59:44.766Z"
   },
   {
    "duration": 79,
    "start_time": "2022-05-21T17:59:45.847Z"
   },
   {
    "duration": 12,
    "start_time": "2022-05-21T17:59:46.370Z"
   },
   {
    "duration": 7,
    "start_time": "2022-05-21T17:59:46.960Z"
   },
   {
    "duration": 34,
    "start_time": "2022-05-21T17:59:49.544Z"
   },
   {
    "duration": 85,
    "start_time": "2022-05-21T18:00:22.346Z"
   },
   {
    "duration": 1249,
    "start_time": "2022-05-23T07:11:31.642Z"
   },
   {
    "duration": 2682,
    "start_time": "2022-05-23T07:11:32.893Z"
   },
   {
    "duration": 6,
    "start_time": "2022-05-23T07:11:35.577Z"
   },
   {
    "duration": 1053,
    "start_time": "2022-05-23T07:13:19.570Z"
   },
   {
    "duration": 756,
    "start_time": "2022-05-23T07:13:20.625Z"
   },
   {
    "duration": 5,
    "start_time": "2022-05-23T07:13:21.382Z"
   },
   {
    "duration": 1172,
    "start_time": "2022-05-23T07:13:21.389Z"
   },
   {
    "duration": 504,
    "start_time": "2022-05-23T07:13:22.563Z"
   },
   {
    "duration": 43,
    "start_time": "2022-05-23T07:13:23.069Z"
   },
   {
    "duration": 17,
    "start_time": "2022-05-23T07:13:23.114Z"
   },
   {
    "duration": 23,
    "start_time": "2022-05-23T07:13:23.132Z"
   },
   {
    "duration": 87,
    "start_time": "2022-05-23T07:13:23.157Z"
   },
   {
    "duration": 11,
    "start_time": "2022-05-23T07:13:23.245Z"
   },
   {
    "duration": 9,
    "start_time": "2022-05-23T07:13:23.258Z"
   },
   {
    "duration": 48,
    "start_time": "2022-05-23T07:13:23.268Z"
   },
   {
    "duration": 79,
    "start_time": "2022-05-23T07:13:23.318Z"
   },
   {
    "duration": 110,
    "start_time": "2022-05-23T07:14:39.210Z"
   },
   {
    "duration": 283,
    "start_time": "2022-05-23T07:14:46.773Z"
   },
   {
    "duration": 14,
    "start_time": "2022-05-23T07:14:47.272Z"
   },
   {
    "duration": 3,
    "start_time": "2022-05-23T07:14:50.374Z"
   },
   {
    "duration": 709,
    "start_time": "2022-05-23T07:14:50.379Z"
   },
   {
    "duration": 4,
    "start_time": "2022-05-23T07:14:51.090Z"
   },
   {
    "duration": 1100,
    "start_time": "2022-05-23T07:14:51.095Z"
   },
   {
    "duration": 470,
    "start_time": "2022-05-23T07:14:52.197Z"
   },
   {
    "duration": 46,
    "start_time": "2022-05-23T07:14:52.669Z"
   },
   {
    "duration": 10,
    "start_time": "2022-05-23T07:14:52.717Z"
   },
   {
    "duration": 31,
    "start_time": "2022-05-23T07:14:52.729Z"
   },
   {
    "duration": 82,
    "start_time": "2022-05-23T07:14:52.762Z"
   },
   {
    "duration": 10,
    "start_time": "2022-05-23T07:14:52.846Z"
   },
   {
    "duration": 8,
    "start_time": "2022-05-23T07:14:52.858Z"
   },
   {
    "duration": 50,
    "start_time": "2022-05-23T07:14:52.867Z"
   },
   {
    "duration": 84,
    "start_time": "2022-05-23T07:14:52.918Z"
   },
   {
    "duration": 37,
    "start_time": "2022-05-23T07:16:34.146Z"
   },
   {
    "duration": 53,
    "start_time": "2022-05-23T07:16:52.280Z"
   },
   {
    "duration": 85,
    "start_time": "2022-05-23T07:16:53.394Z"
   },
   {
    "duration": 2,
    "start_time": "2022-05-23T07:17:57.540Z"
   },
   {
    "duration": 18,
    "start_time": "2022-05-23T07:19:21.282Z"
   },
   {
    "duration": 29,
    "start_time": "2022-05-23T07:19:45.362Z"
   },
   {
    "duration": 26,
    "start_time": "2022-05-23T07:19:48.463Z"
   },
   {
    "duration": 22,
    "start_time": "2022-05-23T07:19:56.114Z"
   },
   {
    "duration": 10,
    "start_time": "2022-05-23T07:20:04.063Z"
   },
   {
    "duration": 20,
    "start_time": "2022-05-23T07:20:08.403Z"
   },
   {
    "duration": 3,
    "start_time": "2022-05-23T07:20:15.647Z"
   },
   {
    "duration": 734,
    "start_time": "2022-05-23T07:20:15.659Z"
   },
   {
    "duration": 7,
    "start_time": "2022-05-23T07:20:16.395Z"
   },
   {
    "duration": 1106,
    "start_time": "2022-05-23T07:20:16.404Z"
   },
   {
    "duration": 465,
    "start_time": "2022-05-23T07:20:17.513Z"
   },
   {
    "duration": 45,
    "start_time": "2022-05-23T07:20:17.979Z"
   },
   {
    "duration": 15,
    "start_time": "2022-05-23T07:20:18.026Z"
   },
   {
    "duration": 33,
    "start_time": "2022-05-23T07:20:18.043Z"
   },
   {
    "duration": 90,
    "start_time": "2022-05-23T07:20:18.077Z"
   },
   {
    "duration": 11,
    "start_time": "2022-05-23T07:20:18.169Z"
   },
   {
    "duration": 41,
    "start_time": "2022-05-23T07:20:18.182Z"
   },
   {
    "duration": 33,
    "start_time": "2022-05-23T07:20:18.225Z"
   },
   {
    "duration": 82,
    "start_time": "2022-05-23T07:20:18.259Z"
   },
   {
    "duration": 19,
    "start_time": "2022-05-23T07:20:18.342Z"
   },
   {
    "duration": 23,
    "start_time": "2022-05-23T07:20:38.365Z"
   },
   {
    "duration": 55,
    "start_time": "2022-05-23T07:23:22.355Z"
   },
   {
    "duration": 53,
    "start_time": "2022-05-23T07:24:05.827Z"
   },
   {
    "duration": 23,
    "start_time": "2022-05-23T07:24:54.082Z"
   },
   {
    "duration": 19,
    "start_time": "2022-05-23T07:25:04.860Z"
   },
   {
    "duration": 110,
    "start_time": "2022-05-23T07:28:44.666Z"
   },
   {
    "duration": 102,
    "start_time": "2022-05-23T07:28:57.043Z"
   },
   {
    "duration": 93,
    "start_time": "2022-05-23T07:30:10.539Z"
   },
   {
    "duration": 98,
    "start_time": "2022-05-23T07:30:19.914Z"
   },
   {
    "duration": 37,
    "start_time": "2022-05-23T07:30:35.315Z"
   },
   {
    "duration": 29,
    "start_time": "2022-05-23T07:30:40.531Z"
   },
   {
    "duration": 94,
    "start_time": "2022-05-23T07:31:11.955Z"
   },
   {
    "duration": 3,
    "start_time": "2022-05-23T07:32:39.269Z"
   },
   {
    "duration": 725,
    "start_time": "2022-05-23T07:32:39.274Z"
   },
   {
    "duration": 5,
    "start_time": "2022-05-23T07:32:40.000Z"
   },
   {
    "duration": 1023,
    "start_time": "2022-05-23T07:32:40.006Z"
   },
   {
    "duration": 448,
    "start_time": "2022-05-23T07:32:41.031Z"
   },
   {
    "duration": 48,
    "start_time": "2022-05-23T07:32:41.481Z"
   },
   {
    "duration": 11,
    "start_time": "2022-05-23T07:32:41.531Z"
   },
   {
    "duration": 33,
    "start_time": "2022-05-23T07:32:41.544Z"
   },
   {
    "duration": 91,
    "start_time": "2022-05-23T07:32:41.580Z"
   },
   {
    "duration": 13,
    "start_time": "2022-05-23T07:32:41.673Z"
   },
   {
    "duration": 49,
    "start_time": "2022-05-23T07:32:41.688Z"
   },
   {
    "duration": 40,
    "start_time": "2022-05-23T07:32:41.739Z"
   },
   {
    "duration": 94,
    "start_time": "2022-05-23T07:32:41.781Z"
   },
   {
    "duration": 110,
    "start_time": "2022-05-23T07:32:41.878Z"
   },
   {
    "duration": 67,
    "start_time": "2022-05-23T07:32:41.990Z"
   },
   {
    "duration": 63,
    "start_time": "2022-05-23T07:37:29.556Z"
   },
   {
    "duration": 33,
    "start_time": "2022-05-23T07:37:34.203Z"
   },
   {
    "duration": 96,
    "start_time": "2022-05-23T07:37:39.557Z"
   },
   {
    "duration": 46,
    "start_time": "2022-05-23T07:48:47.565Z"
   },
   {
    "duration": 72,
    "start_time": "2022-05-23T07:48:48.213Z"
   },
   {
    "duration": 104,
    "start_time": "2022-05-23T07:48:49.465Z"
   },
   {
    "duration": 45,
    "start_time": "2022-05-23T07:49:22.964Z"
   },
   {
    "duration": 75,
    "start_time": "2022-05-23T07:49:23.425Z"
   },
   {
    "duration": 102,
    "start_time": "2022-05-23T07:49:24.500Z"
   },
   {
    "duration": 53,
    "start_time": "2022-05-23T07:49:26.325Z"
   },
   {
    "duration": 1258,
    "start_time": "2022-05-23T09:32:19.352Z"
   },
   {
    "duration": 1002,
    "start_time": "2022-05-23T09:32:20.614Z"
   },
   {
    "duration": 6,
    "start_time": "2022-05-23T09:32:21.617Z"
   },
   {
    "duration": 1137,
    "start_time": "2022-05-23T09:32:21.624Z"
   },
   {
    "duration": 505,
    "start_time": "2022-05-23T09:32:22.763Z"
   },
   {
    "duration": 39,
    "start_time": "2022-05-23T09:32:23.269Z"
   },
   {
    "duration": 12,
    "start_time": "2022-05-23T09:32:23.309Z"
   },
   {
    "duration": 30,
    "start_time": "2022-05-23T09:32:23.322Z"
   },
   {
    "duration": 84,
    "start_time": "2022-05-23T09:32:23.354Z"
   },
   {
    "duration": 11,
    "start_time": "2022-05-23T09:32:23.440Z"
   },
   {
    "duration": 48,
    "start_time": "2022-05-23T09:32:23.453Z"
   },
   {
    "duration": 53,
    "start_time": "2022-05-23T09:32:23.502Z"
   },
   {
    "duration": 85,
    "start_time": "2022-05-23T09:32:23.557Z"
   },
   {
    "duration": 103,
    "start_time": "2022-05-23T09:32:23.646Z"
   },
   {
    "duration": 105,
    "start_time": "2022-05-23T09:37:03.964Z"
   },
   {
    "duration": 99,
    "start_time": "2022-05-23T09:37:12.681Z"
   },
   {
    "duration": 24,
    "start_time": "2022-05-23T09:38:21.433Z"
   },
   {
    "duration": 101,
    "start_time": "2022-05-23T09:38:31.884Z"
   },
   {
    "duration": 33,
    "start_time": "2022-05-23T09:45:46.005Z"
   },
   {
    "duration": 47,
    "start_time": "2022-05-23T10:00:45.715Z"
   },
   {
    "duration": 50,
    "start_time": "2022-05-23T10:00:48.890Z"
   },
   {
    "duration": 55,
    "start_time": "2022-05-23T10:03:01.212Z"
   },
   {
    "duration": 17,
    "start_time": "2022-05-23T10:11:15.980Z"
   },
   {
    "duration": 72,
    "start_time": "2022-05-23T10:14:39.244Z"
   },
   {
    "duration": 40,
    "start_time": "2022-05-23T10:18:46.734Z"
   },
   {
    "duration": 52,
    "start_time": "2022-05-23T10:26:11.059Z"
   },
   {
    "duration": 5425,
    "start_time": "2022-05-23T10:26:21.292Z"
   },
   {
    "duration": 62,
    "start_time": "2022-05-23T10:26:29.551Z"
   },
   {
    "duration": 79,
    "start_time": "2022-05-23T10:26:48.190Z"
   },
   {
    "duration": 49,
    "start_time": "2022-05-23T10:27:22.382Z"
   },
   {
    "duration": 77,
    "start_time": "2022-05-23T10:27:24.318Z"
   },
   {
    "duration": 279,
    "start_time": "2022-05-23T10:27:46.145Z"
   },
   {
    "duration": 25,
    "start_time": "2022-05-23T10:27:57.119Z"
   },
   {
    "duration": 33,
    "start_time": "2022-05-23T10:28:16.510Z"
   },
   {
    "duration": 28,
    "start_time": "2022-05-23T10:28:34.295Z"
   },
   {
    "duration": 44,
    "start_time": "2022-05-23T10:28:55.582Z"
   },
   {
    "duration": 18,
    "start_time": "2022-05-23T10:29:48.956Z"
   },
   {
    "duration": 21,
    "start_time": "2022-05-23T10:29:51.390Z"
   },
   {
    "duration": 15,
    "start_time": "2022-05-23T10:29:52.621Z"
   },
   {
    "duration": 14,
    "start_time": "2022-05-23T10:29:53.037Z"
   },
   {
    "duration": 19,
    "start_time": "2022-05-23T10:29:53.455Z"
   },
   {
    "duration": 72,
    "start_time": "2022-05-23T10:29:54.301Z"
   },
   {
    "duration": 3,
    "start_time": "2022-05-23T10:29:57.876Z"
   },
   {
    "duration": 700,
    "start_time": "2022-05-23T10:29:57.880Z"
   },
   {
    "duration": 6,
    "start_time": "2022-05-23T10:29:58.582Z"
   },
   {
    "duration": 1103,
    "start_time": "2022-05-23T10:29:58.589Z"
   },
   {
    "duration": 470,
    "start_time": "2022-05-23T10:29:59.694Z"
   },
   {
    "duration": 43,
    "start_time": "2022-05-23T10:30:00.166Z"
   },
   {
    "duration": 10,
    "start_time": "2022-05-23T10:30:00.211Z"
   },
   {
    "duration": 38,
    "start_time": "2022-05-23T10:30:00.222Z"
   },
   {
    "duration": 65,
    "start_time": "2022-05-23T10:30:00.261Z"
   },
   {
    "duration": 11,
    "start_time": "2022-05-23T10:30:00.328Z"
   },
   {
    "duration": 33,
    "start_time": "2022-05-23T10:30:00.340Z"
   },
   {
    "duration": 51,
    "start_time": "2022-05-23T10:30:00.374Z"
   },
   {
    "duration": 108,
    "start_time": "2022-05-23T10:30:00.428Z"
   },
   {
    "duration": 66,
    "start_time": "2022-05-23T10:30:00.538Z"
   },
   {
    "duration": 19,
    "start_time": "2022-05-23T10:30:00.606Z"
   },
   {
    "duration": 46,
    "start_time": "2022-05-23T10:30:00.628Z"
   },
   {
    "duration": 64,
    "start_time": "2022-05-23T10:30:00.675Z"
   },
   {
    "duration": 64,
    "start_time": "2022-05-23T10:30:00.740Z"
   },
   {
    "duration": 73,
    "start_time": "2022-05-23T10:30:00.806Z"
   },
   {
    "duration": 14,
    "start_time": "2022-05-23T10:30:16.174Z"
   },
   {
    "duration": 9,
    "start_time": "2022-05-23T10:31:04.238Z"
   },
   {
    "duration": 15,
    "start_time": "2022-05-23T10:31:07.646Z"
   },
   {
    "duration": 16,
    "start_time": "2022-05-23T10:31:08.701Z"
   },
   {
    "duration": 66,
    "start_time": "2022-05-23T10:31:09.455Z"
   },
   {
    "duration": 14,
    "start_time": "2022-05-23T10:31:13.294Z"
   },
   {
    "duration": 15,
    "start_time": "2022-05-23T10:31:13.951Z"
   },
   {
    "duration": 16,
    "start_time": "2022-05-23T10:31:14.573Z"
   },
   {
    "duration": 3,
    "start_time": "2022-05-23T10:31:17.116Z"
   },
   {
    "duration": 760,
    "start_time": "2022-05-23T10:31:17.121Z"
   },
   {
    "duration": 5,
    "start_time": "2022-05-23T10:31:17.883Z"
   },
   {
    "duration": 1114,
    "start_time": "2022-05-23T10:31:17.894Z"
   },
   {
    "duration": 487,
    "start_time": "2022-05-23T10:31:19.010Z"
   },
   {
    "duration": 40,
    "start_time": "2022-05-23T10:31:19.499Z"
   },
   {
    "duration": 11,
    "start_time": "2022-05-23T10:31:19.540Z"
   },
   {
    "duration": 23,
    "start_time": "2022-05-23T10:31:19.552Z"
   },
   {
    "duration": 85,
    "start_time": "2022-05-23T10:31:19.577Z"
   },
   {
    "duration": 10,
    "start_time": "2022-05-23T10:31:19.664Z"
   },
   {
    "duration": 50,
    "start_time": "2022-05-23T10:31:19.676Z"
   },
   {
    "duration": 51,
    "start_time": "2022-05-23T10:31:19.728Z"
   },
   {
    "duration": 102,
    "start_time": "2022-05-23T10:31:19.793Z"
   },
   {
    "duration": 53,
    "start_time": "2022-05-23T10:31:19.897Z"
   },
   {
    "duration": 17,
    "start_time": "2022-05-23T10:31:19.952Z"
   },
   {
    "duration": 41,
    "start_time": "2022-05-23T10:31:19.971Z"
   },
   {
    "duration": 33,
    "start_time": "2022-05-23T10:31:20.014Z"
   },
   {
    "duration": 48,
    "start_time": "2022-05-23T10:31:20.049Z"
   },
   {
    "duration": 30,
    "start_time": "2022-05-23T10:31:20.098Z"
   },
   {
    "duration": 84,
    "start_time": "2022-05-23T10:31:20.129Z"
   },
   {
    "duration": 9,
    "start_time": "2022-05-23T10:38:38.831Z"
   },
   {
    "duration": 30,
    "start_time": "2022-05-23T10:38:42.272Z"
   },
   {
    "duration": 30,
    "start_time": "2022-05-23T10:39:14.784Z"
   },
   {
    "duration": 31,
    "start_time": "2022-05-23T10:39:15.645Z"
   },
   {
    "duration": 68,
    "start_time": "2022-05-23T10:39:17.454Z"
   },
   {
    "duration": 28,
    "start_time": "2022-05-23T10:42:22.863Z"
   },
   {
    "duration": 41,
    "start_time": "2022-05-23T10:42:23.473Z"
   },
   {
    "duration": 73,
    "start_time": "2022-05-23T10:42:27.006Z"
   },
   {
    "duration": 37,
    "start_time": "2022-05-23T10:43:52.624Z"
   },
   {
    "duration": 33,
    "start_time": "2022-05-23T10:43:56.497Z"
   },
   {
    "duration": 26,
    "start_time": "2022-05-23T10:45:05.168Z"
   },
   {
    "duration": 50,
    "start_time": "2022-05-23T10:45:54.216Z"
   },
   {
    "duration": 52,
    "start_time": "2022-05-23T10:46:15.712Z"
   },
   {
    "duration": 62,
    "start_time": "2022-05-23T10:47:02.544Z"
   },
   {
    "duration": 96,
    "start_time": "2022-05-23T10:47:31.584Z"
   },
   {
    "duration": 53,
    "start_time": "2022-05-23T10:47:42.896Z"
   },
   {
    "duration": 52,
    "start_time": "2022-05-23T10:47:59.688Z"
   },
   {
    "duration": 48,
    "start_time": "2022-05-23T10:48:46.418Z"
   },
   {
    "duration": 61,
    "start_time": "2022-05-23T10:49:27.408Z"
   },
   {
    "duration": 46,
    "start_time": "2022-05-23T10:49:49.441Z"
   },
   {
    "duration": 46,
    "start_time": "2022-05-23T10:50:00.058Z"
   },
   {
    "duration": 62,
    "start_time": "2022-05-23T10:50:13.840Z"
   },
   {
    "duration": 46,
    "start_time": "2022-05-23T10:51:00.064Z"
   },
   {
    "duration": 47,
    "start_time": "2022-05-23T10:51:22.593Z"
   },
   {
    "duration": 40,
    "start_time": "2022-05-23T10:51:33.968Z"
   },
   {
    "duration": 46,
    "start_time": "2022-05-23T10:51:44.449Z"
   },
   {
    "duration": 35,
    "start_time": "2022-05-23T10:53:58.244Z"
   },
   {
    "duration": 6,
    "start_time": "2022-05-23T10:54:03.601Z"
   },
   {
    "duration": 35,
    "start_time": "2022-05-23T10:55:18.482Z"
   },
   {
    "duration": 68,
    "start_time": "2022-05-23T10:56:12.257Z"
   },
   {
    "duration": 16778,
    "start_time": "2022-05-23T10:56:23.088Z"
   },
   {
    "duration": 4,
    "start_time": "2022-05-23T10:57:13.024Z"
   },
   {
    "duration": 36,
    "start_time": "2022-05-23T10:57:16.113Z"
   },
   {
    "duration": 3,
    "start_time": "2022-05-23T10:58:07.266Z"
   },
   {
    "duration": 34,
    "start_time": "2022-05-23T10:58:11.168Z"
   },
   {
    "duration": 6,
    "start_time": "2022-05-23T10:58:15.760Z"
   },
   {
    "duration": 5,
    "start_time": "2022-05-23T10:58:22.850Z"
   },
   {
    "duration": 40,
    "start_time": "2022-05-23T10:58:49.377Z"
   },
   {
    "duration": 32,
    "start_time": "2022-05-23T10:59:56.818Z"
   },
   {
    "duration": 30,
    "start_time": "2022-05-23T11:03:44.506Z"
   },
   {
    "duration": 49,
    "start_time": "2022-05-23T11:04:37.076Z"
   },
   {
    "duration": 48,
    "start_time": "2022-05-23T11:04:58.370Z"
   },
   {
    "duration": 35,
    "start_time": "2022-05-23T11:05:11.283Z"
   },
   {
    "duration": 47,
    "start_time": "2022-05-23T11:05:12.113Z"
   },
   {
    "duration": 48,
    "start_time": "2022-05-23T11:05:21.911Z"
   },
   {
    "duration": 47,
    "start_time": "2022-05-23T11:05:39.267Z"
   },
   {
    "duration": 20,
    "start_time": "2022-05-23T11:15:44.626Z"
   },
   {
    "duration": 74,
    "start_time": "2022-05-23T11:15:45.428Z"
   },
   {
    "duration": 2,
    "start_time": "2022-05-23T11:16:13.139Z"
   },
   {
    "duration": 3,
    "start_time": "2022-05-23T11:48:39.303Z"
   },
   {
    "duration": 701,
    "start_time": "2022-05-23T11:48:39.308Z"
   },
   {
    "duration": 4,
    "start_time": "2022-05-23T11:48:40.011Z"
   },
   {
    "duration": 1094,
    "start_time": "2022-05-23T11:48:40.017Z"
   },
   {
    "duration": 457,
    "start_time": "2022-05-23T11:48:41.113Z"
   },
   {
    "duration": 40,
    "start_time": "2022-05-23T11:48:41.572Z"
   },
   {
    "duration": 10,
    "start_time": "2022-05-23T11:48:41.614Z"
   },
   {
    "duration": 26,
    "start_time": "2022-05-23T11:48:41.626Z"
   },
   {
    "duration": 89,
    "start_time": "2022-05-23T11:48:41.653Z"
   },
   {
    "duration": 11,
    "start_time": "2022-05-23T11:48:41.743Z"
   },
   {
    "duration": 24,
    "start_time": "2022-05-23T11:48:41.755Z"
   },
   {
    "duration": 59,
    "start_time": "2022-05-23T11:48:41.780Z"
   },
   {
    "duration": 109,
    "start_time": "2022-05-23T11:48:41.840Z"
   },
   {
    "duration": 62,
    "start_time": "2022-05-23T11:48:41.952Z"
   },
   {
    "duration": 17,
    "start_time": "2022-05-23T11:48:42.016Z"
   },
   {
    "duration": 33,
    "start_time": "2022-05-23T11:48:42.034Z"
   },
   {
    "duration": 46,
    "start_time": "2022-05-23T11:48:42.069Z"
   },
   {
    "duration": 23,
    "start_time": "2022-05-23T11:48:42.117Z"
   },
   {
    "duration": 32,
    "start_time": "2022-05-23T11:48:42.142Z"
   },
   {
    "duration": 38,
    "start_time": "2022-05-23T11:48:42.193Z"
   },
   {
    "duration": 17,
    "start_time": "2022-05-23T11:48:42.232Z"
   },
   {
    "duration": 84,
    "start_time": "2022-05-23T11:48:42.250Z"
   },
   {
    "duration": 11,
    "start_time": "2022-05-23T11:53:46.490Z"
   },
   {
    "duration": 58,
    "start_time": "2022-05-23T11:58:49.320Z"
   },
   {
    "duration": 992,
    "start_time": "2022-05-23T11:58:56.305Z"
   },
   {
    "duration": 47,
    "start_time": "2022-05-23T12:00:45.622Z"
   },
   {
    "duration": 20,
    "start_time": "2022-05-23T12:00:56.225Z"
   },
   {
    "duration": 15,
    "start_time": "2022-05-23T12:01:14.070Z"
   },
   {
    "duration": 16,
    "start_time": "2022-05-23T12:11:43.134Z"
   },
   {
    "duration": 11,
    "start_time": "2022-05-23T12:11:55.098Z"
   },
   {
    "duration": 588,
    "start_time": "2022-05-23T12:12:29.387Z"
   },
   {
    "duration": 623,
    "start_time": "2022-05-23T12:13:07.083Z"
   },
   {
    "duration": 3,
    "start_time": "2022-05-23T12:34:54.867Z"
   },
   {
    "duration": 738,
    "start_time": "2022-05-23T12:34:54.873Z"
   },
   {
    "duration": 5,
    "start_time": "2022-05-23T12:34:55.612Z"
   },
   {
    "duration": 1067,
    "start_time": "2022-05-23T12:34:55.619Z"
   },
   {
    "duration": 481,
    "start_time": "2022-05-23T12:34:56.689Z"
   },
   {
    "duration": 51,
    "start_time": "2022-05-23T12:34:57.172Z"
   },
   {
    "duration": 10,
    "start_time": "2022-05-23T12:34:57.225Z"
   },
   {
    "duration": 33,
    "start_time": "2022-05-23T12:34:57.236Z"
   },
   {
    "duration": 75,
    "start_time": "2022-05-23T12:34:57.271Z"
   },
   {
    "duration": 11,
    "start_time": "2022-05-23T12:34:57.347Z"
   },
   {
    "duration": 52,
    "start_time": "2022-05-23T12:34:57.360Z"
   },
   {
    "duration": 47,
    "start_time": "2022-05-23T12:34:57.413Z"
   },
   {
    "duration": 104,
    "start_time": "2022-05-23T12:34:57.462Z"
   },
   {
    "duration": 64,
    "start_time": "2022-05-23T12:34:57.567Z"
   },
   {
    "duration": 17,
    "start_time": "2022-05-23T12:34:57.632Z"
   },
   {
    "duration": 45,
    "start_time": "2022-05-23T12:34:57.650Z"
   },
   {
    "duration": 30,
    "start_time": "2022-05-23T12:34:57.696Z"
   },
   {
    "duration": 23,
    "start_time": "2022-05-23T12:34:57.728Z"
   },
   {
    "duration": 53,
    "start_time": "2022-05-23T12:34:57.752Z"
   },
   {
    "duration": 38,
    "start_time": "2022-05-23T12:34:57.806Z"
   },
   {
    "duration": 17,
    "start_time": "2022-05-23T12:34:57.846Z"
   },
   {
    "duration": 89,
    "start_time": "2022-05-23T12:34:57.865Z"
   },
   {
    "duration": 10,
    "start_time": "2022-05-23T12:34:57.956Z"
   },
   {
    "duration": 784,
    "start_time": "2022-05-23T12:34:57.967Z"
   },
   {
    "duration": 218,
    "start_time": "2022-05-23T12:35:43.891Z"
   },
   {
    "duration": 865,
    "start_time": "2022-05-23T12:35:54.779Z"
   },
   {
    "duration": 56,
    "start_time": "2022-05-23T12:36:39.019Z"
   },
   {
    "duration": 67,
    "start_time": "2022-05-23T12:36:48.140Z"
   },
   {
    "duration": 60,
    "start_time": "2022-05-23T12:37:00.188Z"
   },
   {
    "duration": 79,
    "start_time": "2022-05-23T12:37:05.051Z"
   },
   {
    "duration": 2283,
    "start_time": "2022-05-23T12:37:59.451Z"
   },
   {
    "duration": 1178,
    "start_time": "2022-05-23T12:39:06.964Z"
   },
   {
    "duration": 831,
    "start_time": "2022-05-23T12:39:08.143Z"
   },
   {
    "duration": 7,
    "start_time": "2022-05-23T12:39:08.977Z"
   },
   {
    "duration": 1400,
    "start_time": "2022-05-23T12:39:08.985Z"
   },
   {
    "duration": 632,
    "start_time": "2022-05-23T12:39:10.393Z"
   },
   {
    "duration": 47,
    "start_time": "2022-05-23T12:39:11.028Z"
   },
   {
    "duration": 41,
    "start_time": "2022-05-23T12:39:11.076Z"
   },
   {
    "duration": 42,
    "start_time": "2022-05-23T12:39:11.119Z"
   },
   {
    "duration": 92,
    "start_time": "2022-05-23T12:39:11.164Z"
   },
   {
    "duration": 13,
    "start_time": "2022-05-23T12:39:11.258Z"
   },
   {
    "duration": 47,
    "start_time": "2022-05-23T12:39:11.273Z"
   },
   {
    "duration": 53,
    "start_time": "2022-05-23T12:39:11.322Z"
   },
   {
    "duration": 118,
    "start_time": "2022-05-23T12:39:11.376Z"
   },
   {
    "duration": 60,
    "start_time": "2022-05-23T12:39:11.498Z"
   },
   {
    "duration": 16,
    "start_time": "2022-05-23T12:39:11.560Z"
   },
   {
    "duration": 50,
    "start_time": "2022-05-23T12:39:11.578Z"
   },
   {
    "duration": 35,
    "start_time": "2022-05-23T12:39:11.630Z"
   },
   {
    "duration": 36,
    "start_time": "2022-05-23T12:39:11.666Z"
   },
   {
    "duration": 36,
    "start_time": "2022-05-23T12:39:11.704Z"
   },
   {
    "duration": 57,
    "start_time": "2022-05-23T12:39:11.742Z"
   },
   {
    "duration": 23,
    "start_time": "2022-05-23T12:39:11.801Z"
   },
   {
    "duration": 76,
    "start_time": "2022-05-23T12:39:11.825Z"
   },
   {
    "duration": 14,
    "start_time": "2022-05-23T12:39:11.902Z"
   },
   {
    "duration": 165,
    "start_time": "2022-05-23T12:39:11.917Z"
   },
   {
    "duration": 824,
    "start_time": "2022-05-23T12:39:38.188Z"
   },
   {
    "duration": 13,
    "start_time": "2022-05-23T12:40:23.935Z"
   },
   {
    "duration": 653,
    "start_time": "2022-05-23T12:41:11.123Z"
   },
   {
    "duration": 733,
    "start_time": "2022-05-23T12:41:20.108Z"
   },
   {
    "duration": 634,
    "start_time": "2022-05-23T12:41:43.673Z"
   },
   {
    "duration": 9,
    "start_time": "2022-05-23T12:42:16.923Z"
   },
   {
    "duration": 4,
    "start_time": "2022-05-23T12:42:23.569Z"
   },
   {
    "duration": 746,
    "start_time": "2022-05-23T12:42:23.576Z"
   },
   {
    "duration": 4,
    "start_time": "2022-05-23T12:42:24.324Z"
   },
   {
    "duration": 1105,
    "start_time": "2022-05-23T12:42:24.330Z"
   },
   {
    "duration": 488,
    "start_time": "2022-05-23T12:42:25.437Z"
   },
   {
    "duration": 34,
    "start_time": "2022-05-23T12:42:25.927Z"
   },
   {
    "duration": 10,
    "start_time": "2022-05-23T12:42:25.963Z"
   },
   {
    "duration": 39,
    "start_time": "2022-05-23T12:42:25.975Z"
   },
   {
    "duration": 79,
    "start_time": "2022-05-23T12:42:26.015Z"
   },
   {
    "duration": 10,
    "start_time": "2022-05-23T12:42:26.096Z"
   },
   {
    "duration": 24,
    "start_time": "2022-05-23T12:42:26.108Z"
   },
   {
    "duration": 71,
    "start_time": "2022-05-23T12:42:26.133Z"
   },
   {
    "duration": 116,
    "start_time": "2022-05-23T12:42:26.206Z"
   },
   {
    "duration": 61,
    "start_time": "2022-05-23T12:42:26.324Z"
   },
   {
    "duration": 17,
    "start_time": "2022-05-23T12:42:26.393Z"
   },
   {
    "duration": 27,
    "start_time": "2022-05-23T12:42:26.412Z"
   },
   {
    "duration": 32,
    "start_time": "2022-05-23T12:42:26.441Z"
   },
   {
    "duration": 25,
    "start_time": "2022-05-23T12:42:26.494Z"
   },
   {
    "duration": 39,
    "start_time": "2022-05-23T12:42:26.521Z"
   },
   {
    "duration": 60,
    "start_time": "2022-05-23T12:42:26.562Z"
   },
   {
    "duration": 20,
    "start_time": "2022-05-23T12:42:26.623Z"
   },
   {
    "duration": 89,
    "start_time": "2022-05-23T12:42:26.645Z"
   },
   {
    "duration": 10,
    "start_time": "2022-05-23T12:42:26.736Z"
   },
   {
    "duration": 9,
    "start_time": "2022-05-23T12:42:33.494Z"
   },
   {
    "duration": 11,
    "start_time": "2022-05-23T12:42:38.742Z"
   },
   {
    "duration": 9,
    "start_time": "2022-05-23T12:42:39.462Z"
   },
   {
    "duration": 150,
    "start_time": "2022-05-23T12:42:45.766Z"
   },
   {
    "duration": 1115,
    "start_time": "2022-05-23T12:44:40.590Z"
   },
   {
    "duration": 831,
    "start_time": "2022-05-23T12:44:41.707Z"
   },
   {
    "duration": 6,
    "start_time": "2022-05-23T12:44:42.540Z"
   },
   {
    "duration": 1242,
    "start_time": "2022-05-23T12:44:42.548Z"
   },
   {
    "duration": 589,
    "start_time": "2022-05-23T12:44:43.794Z"
   },
   {
    "duration": 55,
    "start_time": "2022-05-23T12:44:44.385Z"
   },
   {
    "duration": 16,
    "start_time": "2022-05-23T12:44:44.442Z"
   },
   {
    "duration": 41,
    "start_time": "2022-05-23T12:44:44.461Z"
   },
   {
    "duration": 72,
    "start_time": "2022-05-23T12:44:44.504Z"
   },
   {
    "duration": 18,
    "start_time": "2022-05-23T12:44:44.580Z"
   },
   {
    "duration": 45,
    "start_time": "2022-05-23T12:44:44.601Z"
   },
   {
    "duration": 72,
    "start_time": "2022-05-23T12:44:44.648Z"
   },
   {
    "duration": 119,
    "start_time": "2022-05-23T12:44:44.722Z"
   },
   {
    "duration": 100,
    "start_time": "2022-05-23T12:44:44.844Z"
   },
   {
    "duration": 29,
    "start_time": "2022-05-23T12:44:44.946Z"
   },
   {
    "duration": 52,
    "start_time": "2022-05-23T12:44:44.976Z"
   },
   {
    "duration": 33,
    "start_time": "2022-05-23T12:44:45.030Z"
   },
   {
    "duration": 38,
    "start_time": "2022-05-23T12:44:45.064Z"
   },
   {
    "duration": 57,
    "start_time": "2022-05-23T12:44:45.104Z"
   },
   {
    "duration": 48,
    "start_time": "2022-05-23T12:44:45.162Z"
   },
   {
    "duration": 20,
    "start_time": "2022-05-23T12:44:45.212Z"
   },
   {
    "duration": 87,
    "start_time": "2022-05-23T12:44:45.234Z"
   },
   {
    "duration": 9,
    "start_time": "2022-05-23T12:44:45.323Z"
   },
   {
    "duration": 138,
    "start_time": "2022-05-23T12:44:45.333Z"
   },
   {
    "duration": 755,
    "start_time": "2022-05-23T12:44:45.473Z"
   },
   {
    "duration": 173,
    "start_time": "2022-05-23T12:47:08.795Z"
   },
   {
    "duration": 167,
    "start_time": "2022-05-23T12:47:13.608Z"
   },
   {
    "duration": 1343,
    "start_time": "2022-05-23T12:47:51.422Z"
   },
   {
    "duration": 1102,
    "start_time": "2022-05-23T12:47:52.768Z"
   },
   {
    "duration": 6,
    "start_time": "2022-05-23T12:47:53.873Z"
   },
   {
    "duration": 1398,
    "start_time": "2022-05-23T12:47:53.882Z"
   },
   {
    "duration": 552,
    "start_time": "2022-05-23T12:47:55.281Z"
   },
   {
    "duration": 40,
    "start_time": "2022-05-23T12:47:55.835Z"
   },
   {
    "duration": 25,
    "start_time": "2022-05-23T12:47:55.877Z"
   },
   {
    "duration": 27,
    "start_time": "2022-05-23T12:47:55.904Z"
   },
   {
    "duration": 89,
    "start_time": "2022-05-23T12:47:55.933Z"
   },
   {
    "duration": 11,
    "start_time": "2022-05-23T12:47:56.026Z"
   },
   {
    "duration": 42,
    "start_time": "2022-05-23T12:47:56.039Z"
   },
   {
    "duration": 62,
    "start_time": "2022-05-23T12:47:56.093Z"
   },
   {
    "duration": 117,
    "start_time": "2022-05-23T12:47:56.157Z"
   },
   {
    "duration": 84,
    "start_time": "2022-05-23T12:47:56.275Z"
   },
   {
    "duration": 40,
    "start_time": "2022-05-23T12:47:56.361Z"
   },
   {
    "duration": 37,
    "start_time": "2022-05-23T12:47:56.404Z"
   },
   {
    "duration": 65,
    "start_time": "2022-05-23T12:47:56.443Z"
   },
   {
    "duration": 36,
    "start_time": "2022-05-23T12:47:56.510Z"
   },
   {
    "duration": 55,
    "start_time": "2022-05-23T12:47:56.548Z"
   },
   {
    "duration": 50,
    "start_time": "2022-05-23T12:47:56.605Z"
   },
   {
    "duration": 43,
    "start_time": "2022-05-23T12:47:56.657Z"
   },
   {
    "duration": 138,
    "start_time": "2022-05-23T12:47:56.703Z"
   },
   {
    "duration": 14,
    "start_time": "2022-05-23T12:47:56.843Z"
   },
   {
    "duration": 772,
    "start_time": "2022-05-23T12:47:56.859Z"
   },
   {
    "duration": 22,
    "start_time": "2022-05-23T13:33:14.912Z"
   },
   {
    "duration": 556,
    "start_time": "2022-05-23T13:34:45.159Z"
   },
   {
    "duration": 140,
    "start_time": "2022-05-23T13:34:50.465Z"
   },
   {
    "duration": 271,
    "start_time": "2022-05-23T13:35:01.601Z"
   },
   {
    "duration": 503,
    "start_time": "2022-05-23T13:35:18.896Z"
   },
   {
    "duration": 4,
    "start_time": "2022-05-23T13:35:27.152Z"
   },
   {
    "duration": 730,
    "start_time": "2022-05-23T13:35:27.158Z"
   },
   {
    "duration": 7,
    "start_time": "2022-05-23T13:35:27.889Z"
   },
   {
    "duration": 1139,
    "start_time": "2022-05-23T13:35:27.897Z"
   },
   {
    "duration": 493,
    "start_time": "2022-05-23T13:35:29.038Z"
   },
   {
    "duration": 42,
    "start_time": "2022-05-23T13:35:29.533Z"
   },
   {
    "duration": 29,
    "start_time": "2022-05-23T13:35:29.577Z"
   },
   {
    "duration": 36,
    "start_time": "2022-05-23T13:35:29.607Z"
   },
   {
    "duration": 78,
    "start_time": "2022-05-23T13:35:29.645Z"
   },
   {
    "duration": 11,
    "start_time": "2022-05-23T13:35:29.725Z"
   },
   {
    "duration": 53,
    "start_time": "2022-05-23T13:35:29.741Z"
   },
   {
    "duration": 52,
    "start_time": "2022-05-23T13:35:29.795Z"
   },
   {
    "duration": 108,
    "start_time": "2022-05-23T13:35:29.849Z"
   },
   {
    "duration": 72,
    "start_time": "2022-05-23T13:35:29.959Z"
   },
   {
    "duration": 24,
    "start_time": "2022-05-23T13:35:30.033Z"
   },
   {
    "duration": 35,
    "start_time": "2022-05-23T13:35:30.059Z"
   },
   {
    "duration": 32,
    "start_time": "2022-05-23T13:35:30.095Z"
   },
   {
    "duration": 24,
    "start_time": "2022-05-23T13:35:30.129Z"
   },
   {
    "duration": 56,
    "start_time": "2022-05-23T13:35:30.155Z"
   },
   {
    "duration": 39,
    "start_time": "2022-05-23T13:35:30.213Z"
   },
   {
    "duration": 40,
    "start_time": "2022-05-23T13:35:30.254Z"
   },
   {
    "duration": 77,
    "start_time": "2022-05-23T13:35:30.296Z"
   },
   {
    "duration": 9,
    "start_time": "2022-05-23T13:35:30.375Z"
   },
   {
    "duration": 740,
    "start_time": "2022-05-23T13:35:30.386Z"
   },
   {
    "duration": 247,
    "start_time": "2022-05-23T13:35:31.128Z"
   },
   {
    "duration": 26,
    "start_time": "2022-05-23T13:35:31.377Z"
   },
   {
    "duration": 223,
    "start_time": "2022-05-23T13:35:41.408Z"
   },
   {
    "duration": 52,
    "start_time": "2022-05-23T13:40:05.258Z"
   },
   {
    "duration": 1099,
    "start_time": "2022-05-23T13:40:09.896Z"
   },
   {
    "duration": 1031,
    "start_time": "2022-05-23T13:40:10.997Z"
   },
   {
    "duration": 4,
    "start_time": "2022-05-23T13:40:12.030Z"
   },
   {
    "duration": 1143,
    "start_time": "2022-05-23T13:40:12.035Z"
   },
   {
    "duration": 536,
    "start_time": "2022-05-23T13:40:13.180Z"
   },
   {
    "duration": 39,
    "start_time": "2022-05-23T13:40:13.718Z"
   },
   {
    "duration": 12,
    "start_time": "2022-05-23T13:40:13.758Z"
   },
   {
    "duration": 42,
    "start_time": "2022-05-23T13:40:13.772Z"
   },
   {
    "duration": 78,
    "start_time": "2022-05-23T13:40:13.816Z"
   },
   {
    "duration": 12,
    "start_time": "2022-05-23T13:40:13.896Z"
   },
   {
    "duration": 42,
    "start_time": "2022-05-23T13:40:13.909Z"
   },
   {
    "duration": 60,
    "start_time": "2022-05-23T13:40:13.953Z"
   },
   {
    "duration": 107,
    "start_time": "2022-05-23T13:40:14.015Z"
   },
   {
    "duration": 54,
    "start_time": "2022-05-23T13:40:14.125Z"
   },
   {
    "duration": 17,
    "start_time": "2022-05-23T13:40:14.195Z"
   },
   {
    "duration": 26,
    "start_time": "2022-05-23T13:40:14.214Z"
   },
   {
    "duration": 52,
    "start_time": "2022-05-23T13:40:14.242Z"
   },
   {
    "duration": 27,
    "start_time": "2022-05-23T13:40:14.296Z"
   },
   {
    "duration": 36,
    "start_time": "2022-05-23T13:40:14.324Z"
   },
   {
    "duration": 54,
    "start_time": "2022-05-23T13:40:14.362Z"
   },
   {
    "duration": 18,
    "start_time": "2022-05-23T13:40:14.418Z"
   },
   {
    "duration": 92,
    "start_time": "2022-05-23T13:40:14.437Z"
   },
   {
    "duration": 9,
    "start_time": "2022-05-23T13:40:14.531Z"
   },
   {
    "duration": 708,
    "start_time": "2022-05-23T13:40:14.542Z"
   },
   {
    "duration": 25,
    "start_time": "2022-05-23T13:40:15.251Z"
   },
   {
    "duration": 131,
    "start_time": "2022-05-23T13:40:15.278Z"
   },
   {
    "duration": 113,
    "start_time": "2022-05-23T13:40:38.465Z"
   },
   {
    "duration": 114,
    "start_time": "2022-05-23T13:41:24.576Z"
   },
   {
    "duration": 104,
    "start_time": "2022-05-23T13:41:36.288Z"
   },
   {
    "duration": 72,
    "start_time": "2022-05-23T13:43:13.266Z"
   },
   {
    "duration": 11,
    "start_time": "2022-05-23T13:43:20.849Z"
   },
   {
    "duration": 15,
    "start_time": "2022-05-23T13:43:27.969Z"
   },
   {
    "duration": 10,
    "start_time": "2022-05-23T13:43:53.169Z"
   },
   {
    "duration": 8,
    "start_time": "2022-05-23T13:43:59.633Z"
   },
   {
    "duration": 19,
    "start_time": "2022-05-23T13:44:33.553Z"
   },
   {
    "duration": 19,
    "start_time": "2022-05-23T13:45:23.243Z"
   },
   {
    "duration": 39,
    "start_time": "2022-05-23T13:45:42.241Z"
   },
   {
    "duration": 21,
    "start_time": "2022-05-23T13:46:07.570Z"
   },
   {
    "duration": 51,
    "start_time": "2022-05-23T13:46:56.512Z"
   },
   {
    "duration": 22,
    "start_time": "2022-05-23T13:47:07.441Z"
   },
   {
    "duration": 21,
    "start_time": "2022-05-23T13:47:30.035Z"
   },
   {
    "duration": 16,
    "start_time": "2022-05-23T13:48:05.714Z"
   },
   {
    "duration": 41,
    "start_time": "2022-05-23T13:48:14.914Z"
   },
   {
    "duration": 35,
    "start_time": "2022-05-23T13:48:28.689Z"
   },
   {
    "duration": 47,
    "start_time": "2022-05-23T13:48:35.137Z"
   },
   {
    "duration": 17,
    "start_time": "2022-05-23T13:48:56.354Z"
   },
   {
    "duration": 15,
    "start_time": "2022-05-23T13:49:09.057Z"
   },
   {
    "duration": 5,
    "start_time": "2022-05-23T13:49:11.730Z"
   },
   {
    "duration": 16,
    "start_time": "2022-05-23T13:49:16.929Z"
   },
   {
    "duration": 21,
    "start_time": "2022-05-23T13:50:19.442Z"
   },
   {
    "duration": 19,
    "start_time": "2022-05-23T13:50:33.490Z"
   },
   {
    "duration": 19,
    "start_time": "2022-05-23T13:51:07.106Z"
   },
   {
    "duration": 134,
    "start_time": "2022-05-23T13:51:40.468Z"
   },
   {
    "duration": 105,
    "start_time": "2022-05-23T13:51:46.276Z"
   },
   {
    "duration": 128,
    "start_time": "2022-05-23T13:51:51.298Z"
   },
   {
    "duration": 125,
    "start_time": "2022-05-23T13:51:55.586Z"
   },
   {
    "duration": 104,
    "start_time": "2022-05-23T13:52:00.850Z"
   },
   {
    "duration": 50,
    "start_time": "2022-05-23T13:52:13.122Z"
   },
   {
    "duration": 46,
    "start_time": "2022-05-23T13:52:29.155Z"
   },
   {
    "duration": 44,
    "start_time": "2022-05-23T13:53:10.805Z"
   },
   {
    "duration": 57,
    "start_time": "2022-05-23T13:53:58.010Z"
   },
   {
    "duration": 1064,
    "start_time": "2022-05-23T13:57:04.926Z"
   },
   {
    "duration": 782,
    "start_time": "2022-05-23T13:57:05.993Z"
   },
   {
    "duration": 5,
    "start_time": "2022-05-23T13:57:06.777Z"
   },
   {
    "duration": 1181,
    "start_time": "2022-05-23T13:57:06.784Z"
   },
   {
    "duration": 568,
    "start_time": "2022-05-23T13:57:07.966Z"
   },
   {
    "duration": 43,
    "start_time": "2022-05-23T13:57:08.536Z"
   },
   {
    "duration": 23,
    "start_time": "2022-05-23T13:57:08.580Z"
   },
   {
    "duration": 32,
    "start_time": "2022-05-23T13:57:08.604Z"
   },
   {
    "duration": 89,
    "start_time": "2022-05-23T13:57:08.637Z"
   },
   {
    "duration": 10,
    "start_time": "2022-05-23T13:57:08.730Z"
   },
   {
    "duration": 38,
    "start_time": "2022-05-23T13:57:08.742Z"
   },
   {
    "duration": 49,
    "start_time": "2022-05-23T13:57:08.795Z"
   },
   {
    "duration": 130,
    "start_time": "2022-05-23T13:57:08.846Z"
   },
   {
    "duration": 89,
    "start_time": "2022-05-23T13:57:08.979Z"
   },
   {
    "duration": 31,
    "start_time": "2022-05-23T13:57:09.070Z"
   },
   {
    "duration": 51,
    "start_time": "2022-05-23T13:57:09.103Z"
   },
   {
    "duration": 40,
    "start_time": "2022-05-23T13:57:09.157Z"
   },
   {
    "duration": 24,
    "start_time": "2022-05-23T13:57:09.198Z"
   },
   {
    "duration": 35,
    "start_time": "2022-05-23T13:57:09.223Z"
   },
   {
    "duration": 52,
    "start_time": "2022-05-23T13:57:09.260Z"
   },
   {
    "duration": 18,
    "start_time": "2022-05-23T13:57:09.314Z"
   },
   {
    "duration": 87,
    "start_time": "2022-05-23T13:57:09.334Z"
   },
   {
    "duration": 14,
    "start_time": "2022-05-23T13:57:09.423Z"
   },
   {
    "duration": 748,
    "start_time": "2022-05-23T13:57:09.439Z"
   },
   {
    "duration": 26,
    "start_time": "2022-05-23T13:57:10.189Z"
   },
   {
    "duration": 120,
    "start_time": "2022-05-23T13:57:10.216Z"
   },
   {
    "duration": 41,
    "start_time": "2022-05-23T13:57:10.338Z"
   },
   {
    "duration": 22,
    "start_time": "2022-05-23T14:00:36.787Z"
   },
   {
    "duration": 11,
    "start_time": "2022-05-23T14:00:51.232Z"
   },
   {
    "duration": 20,
    "start_time": "2022-05-23T14:01:40.754Z"
   },
   {
    "duration": 18,
    "start_time": "2022-05-23T14:02:00.111Z"
   },
   {
    "duration": 19,
    "start_time": "2022-05-23T14:02:10.816Z"
   },
   {
    "duration": 11,
    "start_time": "2022-05-23T14:02:46.599Z"
   },
   {
    "duration": 41,
    "start_time": "2022-05-23T14:03:16.512Z"
   },
   {
    "duration": 44,
    "start_time": "2022-05-23T14:04:14.964Z"
   },
   {
    "duration": 12,
    "start_time": "2022-05-23T14:04:27.728Z"
   },
   {
    "duration": 21,
    "start_time": "2022-05-23T14:04:45.657Z"
   },
   {
    "duration": 19,
    "start_time": "2022-05-23T14:05:16.784Z"
   },
   {
    "duration": 18,
    "start_time": "2022-05-23T14:05:35.506Z"
   },
   {
    "duration": 10,
    "start_time": "2022-05-23T14:05:41.456Z"
   },
   {
    "duration": 9,
    "start_time": "2022-05-23T14:07:04.497Z"
   },
   {
    "duration": 10,
    "start_time": "2022-05-23T14:07:41.488Z"
   },
   {
    "duration": 10,
    "start_time": "2022-05-23T14:07:56.972Z"
   },
   {
    "duration": 10,
    "start_time": "2022-05-23T14:08:07.937Z"
   },
   {
    "duration": 35,
    "start_time": "2022-05-23T14:09:36.401Z"
   },
   {
    "duration": 3,
    "start_time": "2022-05-23T14:10:10.791Z"
   },
   {
    "duration": 753,
    "start_time": "2022-05-23T14:10:10.797Z"
   },
   {
    "duration": 5,
    "start_time": "2022-05-23T14:10:11.551Z"
   },
   {
    "duration": 1158,
    "start_time": "2022-05-23T14:10:11.559Z"
   },
   {
    "duration": 516,
    "start_time": "2022-05-23T14:10:12.719Z"
   },
   {
    "duration": 41,
    "start_time": "2022-05-23T14:10:13.237Z"
   },
   {
    "duration": 18,
    "start_time": "2022-05-23T14:10:13.280Z"
   },
   {
    "duration": 31,
    "start_time": "2022-05-23T14:10:13.300Z"
   },
   {
    "duration": 84,
    "start_time": "2022-05-23T14:10:13.335Z"
   },
   {
    "duration": 12,
    "start_time": "2022-05-23T14:10:13.420Z"
   },
   {
    "duration": 39,
    "start_time": "2022-05-23T14:10:13.434Z"
   },
   {
    "duration": 95,
    "start_time": "2022-05-23T14:10:13.475Z"
   },
   {
    "duration": 178,
    "start_time": "2022-05-23T14:10:13.572Z"
   },
   {
    "duration": 89,
    "start_time": "2022-05-23T14:10:13.752Z"
   },
   {
    "duration": 18,
    "start_time": "2022-05-23T14:10:13.843Z"
   },
   {
    "duration": 53,
    "start_time": "2022-05-23T14:10:13.863Z"
   },
   {
    "duration": 34,
    "start_time": "2022-05-23T14:10:13.918Z"
   },
   {
    "duration": 41,
    "start_time": "2022-05-23T14:10:13.953Z"
   },
   {
    "duration": 39,
    "start_time": "2022-05-23T14:10:13.997Z"
   },
   {
    "duration": 88,
    "start_time": "2022-05-23T14:10:14.038Z"
   },
   {
    "duration": 30,
    "start_time": "2022-05-23T14:10:14.128Z"
   },
   {
    "duration": 88,
    "start_time": "2022-05-23T14:10:14.160Z"
   },
   {
    "duration": 15,
    "start_time": "2022-05-23T14:10:14.250Z"
   },
   {
    "duration": 650,
    "start_time": "2022-05-23T14:10:14.269Z"
   },
   {
    "duration": 120,
    "start_time": "2022-05-23T14:10:14.920Z"
   },
   {
    "duration": 10,
    "start_time": "2022-05-23T14:10:15.042Z"
   },
   {
    "duration": 46,
    "start_time": "2022-05-23T14:10:15.053Z"
   },
   {
    "duration": 36,
    "start_time": "2022-05-23T14:10:15.101Z"
   },
   {
    "duration": 40,
    "start_time": "2022-05-23T14:11:12.928Z"
   },
   {
    "duration": 127,
    "start_time": "2022-05-23T14:11:15.025Z"
   },
   {
    "duration": 3,
    "start_time": "2022-05-23T14:11:18.382Z"
   },
   {
    "duration": 750,
    "start_time": "2022-05-23T14:11:18.387Z"
   },
   {
    "duration": 6,
    "start_time": "2022-05-23T14:11:19.140Z"
   },
   {
    "duration": 1128,
    "start_time": "2022-05-23T14:11:19.148Z"
   },
   {
    "duration": 471,
    "start_time": "2022-05-23T14:11:20.278Z"
   },
   {
    "duration": 50,
    "start_time": "2022-05-23T14:11:20.750Z"
   },
   {
    "duration": 10,
    "start_time": "2022-05-23T14:11:20.802Z"
   },
   {
    "duration": 33,
    "start_time": "2022-05-23T14:11:20.814Z"
   },
   {
    "duration": 87,
    "start_time": "2022-05-23T14:11:20.849Z"
   },
   {
    "duration": 11,
    "start_time": "2022-05-23T14:11:20.938Z"
   },
   {
    "duration": 44,
    "start_time": "2022-05-23T14:11:20.950Z"
   },
   {
    "duration": 47,
    "start_time": "2022-05-23T14:11:20.996Z"
   },
   {
    "duration": 110,
    "start_time": "2022-05-23T14:11:21.045Z"
   },
   {
    "duration": 72,
    "start_time": "2022-05-23T14:11:21.157Z"
   },
   {
    "duration": 17,
    "start_time": "2022-05-23T14:11:21.231Z"
   },
   {
    "duration": 26,
    "start_time": "2022-05-23T14:11:21.249Z"
   },
   {
    "duration": 46,
    "start_time": "2022-05-23T14:11:21.277Z"
   },
   {
    "duration": 23,
    "start_time": "2022-05-23T14:11:21.325Z"
   },
   {
    "duration": 53,
    "start_time": "2022-05-23T14:11:21.350Z"
   },
   {
    "duration": 39,
    "start_time": "2022-05-23T14:11:21.405Z"
   },
   {
    "duration": 18,
    "start_time": "2022-05-23T14:11:21.445Z"
   },
   {
    "duration": 92,
    "start_time": "2022-05-23T14:11:21.465Z"
   },
   {
    "duration": 10,
    "start_time": "2022-05-23T14:11:21.559Z"
   },
   {
    "duration": 734,
    "start_time": "2022-05-23T14:11:21.571Z"
   },
   {
    "duration": 116,
    "start_time": "2022-05-23T14:11:22.307Z"
   },
   {
    "duration": 12,
    "start_time": "2022-05-23T14:11:22.426Z"
   },
   {
    "duration": 30,
    "start_time": "2022-05-23T14:11:22.440Z"
   },
   {
    "duration": 26,
    "start_time": "2022-05-23T14:11:22.493Z"
   },
   {
    "duration": 126,
    "start_time": "2022-05-23T14:12:41.217Z"
   },
   {
    "duration": 110,
    "start_time": "2022-05-23T14:13:46.705Z"
   },
   {
    "duration": 105,
    "start_time": "2022-05-23T14:13:55.249Z"
   },
   {
    "duration": 9,
    "start_time": "2022-05-23T14:14:37.346Z"
   },
   {
    "duration": 9,
    "start_time": "2022-05-23T14:15:24.370Z"
   },
   {
    "duration": 8,
    "start_time": "2022-05-23T14:16:08.669Z"
   },
   {
    "duration": 10,
    "start_time": "2022-05-23T14:17:02.553Z"
   },
   {
    "duration": 26,
    "start_time": "2022-05-23T14:17:03.354Z"
   },
   {
    "duration": 29,
    "start_time": "2022-05-23T14:17:37.522Z"
   },
   {
    "duration": 3,
    "start_time": "2022-05-23T14:17:42.616Z"
   },
   {
    "duration": 719,
    "start_time": "2022-05-23T14:17:42.621Z"
   },
   {
    "duration": 5,
    "start_time": "2022-05-23T14:17:43.341Z"
   },
   {
    "duration": 1061,
    "start_time": "2022-05-23T14:17:43.348Z"
   },
   {
    "duration": 469,
    "start_time": "2022-05-23T14:17:44.411Z"
   },
   {
    "duration": 43,
    "start_time": "2022-05-23T14:17:44.881Z"
   },
   {
    "duration": 11,
    "start_time": "2022-05-23T14:17:44.926Z"
   },
   {
    "duration": 35,
    "start_time": "2022-05-23T14:17:44.938Z"
   },
   {
    "duration": 80,
    "start_time": "2022-05-23T14:17:44.976Z"
   },
   {
    "duration": 15,
    "start_time": "2022-05-23T14:17:45.059Z"
   },
   {
    "duration": 49,
    "start_time": "2022-05-23T14:17:45.075Z"
   },
   {
    "duration": 50,
    "start_time": "2022-05-23T14:17:45.126Z"
   },
   {
    "duration": 119,
    "start_time": "2022-05-23T14:17:45.178Z"
   },
   {
    "duration": 54,
    "start_time": "2022-05-23T14:17:45.299Z"
   },
   {
    "duration": 18,
    "start_time": "2022-05-23T14:17:45.354Z"
   },
   {
    "duration": 41,
    "start_time": "2022-05-23T14:17:45.374Z"
   },
   {
    "duration": 34,
    "start_time": "2022-05-23T14:17:45.417Z"
   },
   {
    "duration": 43,
    "start_time": "2022-05-23T14:17:45.453Z"
   },
   {
    "duration": 38,
    "start_time": "2022-05-23T14:17:45.498Z"
   },
   {
    "duration": 60,
    "start_time": "2022-05-23T14:17:45.537Z"
   },
   {
    "duration": 19,
    "start_time": "2022-05-23T14:17:45.599Z"
   },
   {
    "duration": 90,
    "start_time": "2022-05-23T14:17:45.620Z"
   },
   {
    "duration": 10,
    "start_time": "2022-05-23T14:17:45.712Z"
   },
   {
    "duration": 609,
    "start_time": "2022-05-23T14:17:45.725Z"
   },
   {
    "duration": 113,
    "start_time": "2022-05-23T14:17:46.336Z"
   },
   {
    "duration": 11,
    "start_time": "2022-05-23T14:17:46.451Z"
   },
   {
    "duration": 42,
    "start_time": "2022-05-23T14:17:46.463Z"
   },
   {
    "duration": 212,
    "start_time": "2022-05-23T14:17:46.507Z"
   },
   {
    "duration": 9,
    "start_time": "2022-05-23T14:17:46.721Z"
   },
   {
    "duration": 31,
    "start_time": "2022-05-23T14:17:46.732Z"
   },
   {
    "duration": 37,
    "start_time": "2022-05-23T14:17:46.764Z"
   },
   {
    "duration": 9,
    "start_time": "2022-05-23T14:18:02.721Z"
   },
   {
    "duration": 4,
    "start_time": "2022-05-23T14:18:06.371Z"
   },
   {
    "duration": 8,
    "start_time": "2022-05-23T14:20:04.211Z"
   },
   {
    "duration": 27,
    "start_time": "2022-05-23T14:20:05.074Z"
   },
   {
    "duration": 5,
    "start_time": "2022-05-23T14:20:05.697Z"
   },
   {
    "duration": 3,
    "start_time": "2022-05-23T14:20:11.954Z"
   },
   {
    "duration": 719,
    "start_time": "2022-05-23T14:20:11.959Z"
   },
   {
    "duration": 5,
    "start_time": "2022-05-23T14:20:12.680Z"
   },
   {
    "duration": 1087,
    "start_time": "2022-05-23T14:20:12.686Z"
   },
   {
    "duration": 507,
    "start_time": "2022-05-23T14:20:13.776Z"
   },
   {
    "duration": 40,
    "start_time": "2022-05-23T14:20:14.285Z"
   },
   {
    "duration": 10,
    "start_time": "2022-05-23T14:20:14.328Z"
   },
   {
    "duration": 24,
    "start_time": "2022-05-23T14:20:14.340Z"
   },
   {
    "duration": 86,
    "start_time": "2022-05-23T14:20:14.366Z"
   },
   {
    "duration": 12,
    "start_time": "2022-05-23T14:20:14.453Z"
   },
   {
    "duration": 56,
    "start_time": "2022-05-23T14:20:14.467Z"
   },
   {
    "duration": 47,
    "start_time": "2022-05-23T14:20:14.525Z"
   },
   {
    "duration": 109,
    "start_time": "2022-05-23T14:20:14.574Z"
   },
   {
    "duration": 85,
    "start_time": "2022-05-23T14:20:14.693Z"
   },
   {
    "duration": 33,
    "start_time": "2022-05-23T14:20:14.780Z"
   },
   {
    "duration": 39,
    "start_time": "2022-05-23T14:20:14.815Z"
   },
   {
    "duration": 40,
    "start_time": "2022-05-23T14:20:14.856Z"
   },
   {
    "duration": 25,
    "start_time": "2022-05-23T14:20:14.898Z"
   },
   {
    "duration": 36,
    "start_time": "2022-05-23T14:20:14.925Z"
   },
   {
    "duration": 76,
    "start_time": "2022-05-23T14:20:14.963Z"
   },
   {
    "duration": 30,
    "start_time": "2022-05-23T14:20:15.041Z"
   },
   {
    "duration": 81,
    "start_time": "2022-05-23T14:20:15.073Z"
   },
   {
    "duration": 18,
    "start_time": "2022-05-23T14:20:15.155Z"
   },
   {
    "duration": 669,
    "start_time": "2022-05-23T14:20:15.174Z"
   },
   {
    "duration": 125,
    "start_time": "2022-05-23T14:20:15.845Z"
   },
   {
    "duration": 11,
    "start_time": "2022-05-23T14:20:15.971Z"
   },
   {
    "duration": 28,
    "start_time": "2022-05-23T14:20:15.994Z"
   },
   {
    "duration": 115,
    "start_time": "2022-05-23T14:20:16.024Z"
   },
   {
    "duration": 9,
    "start_time": "2022-05-23T14:20:16.140Z"
   },
   {
    "duration": 49,
    "start_time": "2022-05-23T14:20:16.150Z"
   },
   {
    "duration": 4,
    "start_time": "2022-05-23T14:20:16.201Z"
   },
   {
    "duration": 37,
    "start_time": "2022-05-23T14:20:16.207Z"
   },
   {
    "duration": 10,
    "start_time": "2022-05-23T14:20:37.973Z"
   },
   {
    "duration": 4,
    "start_time": "2022-05-23T14:20:55.812Z"
   },
   {
    "duration": 115,
    "start_time": "2022-05-23T14:22:46.611Z"
   },
   {
    "duration": 19,
    "start_time": "2022-05-23T14:23:47.313Z"
   },
   {
    "duration": 3,
    "start_time": "2022-05-23T14:23:52.675Z"
   },
   {
    "duration": 722,
    "start_time": "2022-05-23T14:23:52.680Z"
   },
   {
    "duration": 5,
    "start_time": "2022-05-23T14:23:53.404Z"
   },
   {
    "duration": 1122,
    "start_time": "2022-05-23T14:23:53.411Z"
   },
   {
    "duration": 506,
    "start_time": "2022-05-23T14:23:54.536Z"
   },
   {
    "duration": 54,
    "start_time": "2022-05-23T14:23:55.044Z"
   },
   {
    "duration": 10,
    "start_time": "2022-05-23T14:23:55.100Z"
   },
   {
    "duration": 37,
    "start_time": "2022-05-23T14:23:55.112Z"
   },
   {
    "duration": 87,
    "start_time": "2022-05-23T14:23:55.151Z"
   },
   {
    "duration": 10,
    "start_time": "2022-05-23T14:23:55.240Z"
   },
   {
    "duration": 45,
    "start_time": "2022-05-23T14:23:55.254Z"
   },
   {
    "duration": 47,
    "start_time": "2022-05-23T14:23:55.301Z"
   },
   {
    "duration": 110,
    "start_time": "2022-05-23T14:23:55.350Z"
   },
   {
    "duration": 61,
    "start_time": "2022-05-23T14:23:55.462Z"
   },
   {
    "duration": 17,
    "start_time": "2022-05-23T14:23:55.525Z"
   },
   {
    "duration": 28,
    "start_time": "2022-05-23T14:23:55.544Z"
   },
   {
    "duration": 52,
    "start_time": "2022-05-23T14:23:55.574Z"
   },
   {
    "duration": 32,
    "start_time": "2022-05-23T14:23:55.629Z"
   },
   {
    "duration": 58,
    "start_time": "2022-05-23T14:23:55.664Z"
   },
   {
    "duration": 44,
    "start_time": "2022-05-23T14:23:55.724Z"
   },
   {
    "duration": 30,
    "start_time": "2022-05-23T14:23:55.769Z"
   },
   {
    "duration": 75,
    "start_time": "2022-05-23T14:23:55.801Z"
   },
   {
    "duration": 25,
    "start_time": "2022-05-23T14:23:55.878Z"
   },
   {
    "duration": 635,
    "start_time": "2022-05-23T14:23:55.905Z"
   },
   {
    "duration": 211,
    "start_time": "2022-05-23T14:23:56.541Z"
   },
   {
    "duration": 9,
    "start_time": "2022-05-23T14:23:56.753Z"
   },
   {
    "duration": 35,
    "start_time": "2022-05-23T14:23:56.763Z"
   },
   {
    "duration": 106,
    "start_time": "2022-05-23T14:23:56.800Z"
   },
   {
    "duration": 9,
    "start_time": "2022-05-23T14:23:56.908Z"
   },
   {
    "duration": 18,
    "start_time": "2022-05-23T14:23:56.918Z"
   },
   {
    "duration": 0,
    "start_time": "2022-05-23T14:23:56.937Z"
   },
   {
    "duration": 0,
    "start_time": "2022-05-23T14:23:56.939Z"
   },
   {
    "duration": 0,
    "start_time": "2022-05-23T14:23:56.940Z"
   },
   {
    "duration": 0,
    "start_time": "2022-05-23T14:23:56.941Z"
   },
   {
    "duration": 14,
    "start_time": "2022-05-23T14:24:23.235Z"
   },
   {
    "duration": 26,
    "start_time": "2022-05-23T14:24:35.347Z"
   },
   {
    "duration": 1285,
    "start_time": "2022-05-24T08:10:31.704Z"
   },
   {
    "duration": 1074,
    "start_time": "2022-05-24T08:10:32.992Z"
   },
   {
    "duration": 5,
    "start_time": "2022-05-24T08:10:34.067Z"
   },
   {
    "duration": 1242,
    "start_time": "2022-05-24T08:10:34.074Z"
   },
   {
    "duration": 558,
    "start_time": "2022-05-24T08:10:35.319Z"
   },
   {
    "duration": 44,
    "start_time": "2022-05-24T08:10:35.879Z"
   },
   {
    "duration": 17,
    "start_time": "2022-05-24T08:10:35.925Z"
   },
   {
    "duration": 49,
    "start_time": "2022-05-24T08:10:35.944Z"
   },
   {
    "duration": 81,
    "start_time": "2022-05-24T08:10:35.995Z"
   },
   {
    "duration": 13,
    "start_time": "2022-05-24T08:10:36.078Z"
   },
   {
    "duration": 37,
    "start_time": "2022-05-24T08:10:36.093Z"
   },
   {
    "duration": 71,
    "start_time": "2022-05-24T08:10:36.131Z"
   },
   {
    "duration": 111,
    "start_time": "2022-05-24T08:10:36.204Z"
   },
   {
    "duration": 67,
    "start_time": "2022-05-24T08:10:36.319Z"
   },
   {
    "duration": 18,
    "start_time": "2022-05-24T08:10:36.388Z"
   },
   {
    "duration": 29,
    "start_time": "2022-05-24T08:10:36.407Z"
   },
   {
    "duration": 55,
    "start_time": "2022-05-24T08:10:36.438Z"
   },
   {
    "duration": 25,
    "start_time": "2022-05-24T08:10:36.494Z"
   },
   {
    "duration": 60,
    "start_time": "2022-05-24T08:10:36.521Z"
   },
   {
    "duration": 41,
    "start_time": "2022-05-24T08:10:36.582Z"
   },
   {
    "duration": 18,
    "start_time": "2022-05-24T08:10:36.624Z"
   },
   {
    "duration": 86,
    "start_time": "2022-05-24T08:10:36.643Z"
   },
   {
    "duration": 11,
    "start_time": "2022-05-24T08:10:36.731Z"
   },
   {
    "duration": 781,
    "start_time": "2022-05-24T08:10:36.743Z"
   },
   {
    "duration": 128,
    "start_time": "2022-05-24T08:10:37.526Z"
   },
   {
    "duration": 17,
    "start_time": "2022-05-24T08:10:37.656Z"
   },
   {
    "duration": 30,
    "start_time": "2022-05-24T08:10:37.675Z"
   },
   {
    "duration": 139,
    "start_time": "2022-05-24T08:10:37.707Z"
   },
   {
    "duration": 17,
    "start_time": "2022-05-24T08:10:37.848Z"
   },
   {
    "duration": 25,
    "start_time": "2022-05-24T08:10:37.867Z"
   },
   {
    "duration": 33,
    "start_time": "2022-05-24T08:10:37.893Z"
   },
   {
    "duration": 46,
    "start_time": "2022-05-24T08:10:37.928Z"
   },
   {
    "duration": 12,
    "start_time": "2022-05-24T08:10:37.976Z"
   },
   {
    "duration": 5,
    "start_time": "2022-05-24T08:10:37.990Z"
   },
   {
    "duration": 104,
    "start_time": "2022-05-24T08:11:16.666Z"
   },
   {
    "duration": 43,
    "start_time": "2022-05-24T08:13:19.818Z"
   },
   {
    "duration": 3,
    "start_time": "2022-05-24T08:14:29.768Z"
   },
   {
    "duration": 794,
    "start_time": "2022-05-24T08:14:29.773Z"
   },
   {
    "duration": 5,
    "start_time": "2022-05-24T08:14:30.568Z"
   },
   {
    "duration": 1140,
    "start_time": "2022-05-24T08:14:30.575Z"
   },
   {
    "duration": 492,
    "start_time": "2022-05-24T08:14:31.718Z"
   },
   {
    "duration": 39,
    "start_time": "2022-05-24T08:14:32.212Z"
   },
   {
    "duration": 21,
    "start_time": "2022-05-24T08:14:32.252Z"
   },
   {
    "duration": 30,
    "start_time": "2022-05-24T08:14:32.275Z"
   },
   {
    "duration": 80,
    "start_time": "2022-05-24T08:14:32.307Z"
   },
   {
    "duration": 10,
    "start_time": "2022-05-24T08:14:32.389Z"
   },
   {
    "duration": 34,
    "start_time": "2022-05-24T08:14:32.400Z"
   },
   {
    "duration": 66,
    "start_time": "2022-05-24T08:14:32.436Z"
   },
   {
    "duration": 121,
    "start_time": "2022-05-24T08:14:32.504Z"
   },
   {
    "duration": 63,
    "start_time": "2022-05-24T08:14:32.628Z"
   },
   {
    "duration": 20,
    "start_time": "2022-05-24T08:14:32.693Z"
   },
   {
    "duration": 29,
    "start_time": "2022-05-24T08:14:32.714Z"
   },
   {
    "duration": 52,
    "start_time": "2022-05-24T08:14:32.744Z"
   },
   {
    "duration": 25,
    "start_time": "2022-05-24T08:14:32.798Z"
   },
   {
    "duration": 55,
    "start_time": "2022-05-24T08:14:32.824Z"
   },
   {
    "duration": 42,
    "start_time": "2022-05-24T08:14:32.881Z"
   },
   {
    "duration": 20,
    "start_time": "2022-05-24T08:14:32.925Z"
   },
   {
    "duration": 88,
    "start_time": "2022-05-24T08:14:32.947Z"
   },
   {
    "duration": 10,
    "start_time": "2022-05-24T08:14:33.036Z"
   },
   {
    "duration": 676,
    "start_time": "2022-05-24T08:14:33.048Z"
   },
   {
    "duration": 124,
    "start_time": "2022-05-24T08:14:33.726Z"
   },
   {
    "duration": 17,
    "start_time": "2022-05-24T08:14:33.851Z"
   },
   {
    "duration": 33,
    "start_time": "2022-05-24T08:14:33.869Z"
   },
   {
    "duration": 132,
    "start_time": "2022-05-24T08:14:33.904Z"
   },
   {
    "duration": 8,
    "start_time": "2022-05-24T08:14:34.038Z"
   },
   {
    "duration": 35,
    "start_time": "2022-05-24T08:14:34.048Z"
   },
   {
    "duration": 32,
    "start_time": "2022-05-24T08:14:34.085Z"
   },
   {
    "duration": 25,
    "start_time": "2022-05-24T08:14:34.119Z"
   },
   {
    "duration": 11,
    "start_time": "2022-05-24T08:14:34.165Z"
   },
   {
    "duration": 9,
    "start_time": "2022-05-24T08:14:34.178Z"
   },
   {
    "duration": 239,
    "start_time": "2022-05-24T08:26:58.917Z"
   },
   {
    "duration": 7,
    "start_time": "2022-05-24T08:27:42.563Z"
   },
   {
    "duration": 135,
    "start_time": "2022-05-24T08:27:56.146Z"
   },
   {
    "duration": 11,
    "start_time": "2022-05-24T08:27:56.989Z"
   },
   {
    "duration": 4,
    "start_time": "2022-05-24T08:27:57.508Z"
   },
   {
    "duration": 3,
    "start_time": "2022-05-24T08:28:02.353Z"
   },
   {
    "duration": 787,
    "start_time": "2022-05-24T08:28:02.358Z"
   },
   {
    "duration": 5,
    "start_time": "2022-05-24T08:28:03.147Z"
   },
   {
    "duration": 1173,
    "start_time": "2022-05-24T08:28:03.154Z"
   },
   {
    "duration": 546,
    "start_time": "2022-05-24T08:28:04.329Z"
   },
   {
    "duration": 44,
    "start_time": "2022-05-24T08:28:04.876Z"
   },
   {
    "duration": 11,
    "start_time": "2022-05-24T08:28:04.922Z"
   },
   {
    "duration": 46,
    "start_time": "2022-05-24T08:28:04.935Z"
   },
   {
    "duration": 86,
    "start_time": "2022-05-24T08:28:04.983Z"
   },
   {
    "duration": 13,
    "start_time": "2022-05-24T08:28:05.070Z"
   },
   {
    "duration": 58,
    "start_time": "2022-05-24T08:28:05.085Z"
   },
   {
    "duration": 60,
    "start_time": "2022-05-24T08:28:05.144Z"
   },
   {
    "duration": 116,
    "start_time": "2022-05-24T08:28:05.208Z"
   },
   {
    "duration": 70,
    "start_time": "2022-05-24T08:28:05.326Z"
   },
   {
    "duration": 19,
    "start_time": "2022-05-24T08:28:05.398Z"
   },
   {
    "duration": 45,
    "start_time": "2022-05-24T08:28:05.419Z"
   },
   {
    "duration": 34,
    "start_time": "2022-05-24T08:28:05.467Z"
   },
   {
    "duration": 27,
    "start_time": "2022-05-24T08:28:05.503Z"
   },
   {
    "duration": 64,
    "start_time": "2022-05-24T08:28:05.532Z"
   },
   {
    "duration": 40,
    "start_time": "2022-05-24T08:28:05.597Z"
   },
   {
    "duration": 32,
    "start_time": "2022-05-24T08:28:05.639Z"
   },
   {
    "duration": 95,
    "start_time": "2022-05-24T08:28:05.672Z"
   },
   {
    "duration": 11,
    "start_time": "2022-05-24T08:28:05.769Z"
   },
   {
    "duration": 706,
    "start_time": "2022-05-24T08:28:05.782Z"
   },
   {
    "duration": 140,
    "start_time": "2022-05-24T08:28:06.490Z"
   },
   {
    "duration": 9,
    "start_time": "2022-05-24T08:28:06.632Z"
   },
   {
    "duration": 38,
    "start_time": "2022-05-24T08:28:06.643Z"
   },
   {
    "duration": 136,
    "start_time": "2022-05-24T08:28:06.683Z"
   },
   {
    "duration": 9,
    "start_time": "2022-05-24T08:28:06.821Z"
   },
   {
    "duration": 54,
    "start_time": "2022-05-24T08:28:06.832Z"
   },
   {
    "duration": 2,
    "start_time": "2022-05-24T08:28:06.888Z"
   },
   {
    "duration": 27,
    "start_time": "2022-05-24T08:28:06.892Z"
   },
   {
    "duration": 10,
    "start_time": "2022-05-24T08:28:06.921Z"
   },
   {
    "duration": 5,
    "start_time": "2022-05-24T08:28:06.933Z"
   },
   {
    "duration": 14,
    "start_time": "2022-05-24T08:28:41.891Z"
   },
   {
    "duration": 13,
    "start_time": "2022-05-24T08:29:13.603Z"
   },
   {
    "duration": 11,
    "start_time": "2022-05-24T08:29:24.370Z"
   },
   {
    "duration": 7,
    "start_time": "2022-05-24T08:29:40.195Z"
   },
   {
    "duration": 23,
    "start_time": "2022-05-24T08:29:40.802Z"
   },
   {
    "duration": 10,
    "start_time": "2022-05-24T08:29:41.333Z"
   },
   {
    "duration": 3,
    "start_time": "2022-05-24T08:29:48.880Z"
   },
   {
    "duration": 842,
    "start_time": "2022-05-24T08:29:48.886Z"
   },
   {
    "duration": 4,
    "start_time": "2022-05-24T08:29:49.730Z"
   },
   {
    "duration": 1137,
    "start_time": "2022-05-24T08:29:49.736Z"
   },
   {
    "duration": 500,
    "start_time": "2022-05-24T08:29:50.874Z"
   },
   {
    "duration": 41,
    "start_time": "2022-05-24T08:29:51.376Z"
   },
   {
    "duration": 11,
    "start_time": "2022-05-24T08:29:51.419Z"
   },
   {
    "duration": 50,
    "start_time": "2022-05-24T08:29:51.431Z"
   },
   {
    "duration": 81,
    "start_time": "2022-05-24T08:29:51.483Z"
   },
   {
    "duration": 12,
    "start_time": "2022-05-24T08:29:51.567Z"
   },
   {
    "duration": 40,
    "start_time": "2022-05-24T08:29:51.580Z"
   },
   {
    "duration": 61,
    "start_time": "2022-05-24T08:29:51.622Z"
   },
   {
    "duration": 110,
    "start_time": "2022-05-24T08:29:51.685Z"
   },
   {
    "duration": 70,
    "start_time": "2022-05-24T08:29:51.797Z"
   },
   {
    "duration": 18,
    "start_time": "2022-05-24T08:29:51.868Z"
   },
   {
    "duration": 30,
    "start_time": "2022-05-24T08:29:51.888Z"
   },
   {
    "duration": 48,
    "start_time": "2022-05-24T08:29:51.919Z"
   },
   {
    "duration": 25,
    "start_time": "2022-05-24T08:29:51.969Z"
   },
   {
    "duration": 38,
    "start_time": "2022-05-24T08:29:51.995Z"
   },
   {
    "duration": 70,
    "start_time": "2022-05-24T08:29:52.035Z"
   },
   {
    "duration": 20,
    "start_time": "2022-05-24T08:29:52.107Z"
   },
   {
    "duration": 99,
    "start_time": "2022-05-24T08:29:52.129Z"
   },
   {
    "duration": 19,
    "start_time": "2022-05-24T08:29:52.230Z"
   },
   {
    "duration": 781,
    "start_time": "2022-05-24T08:29:52.251Z"
   },
   {
    "duration": 218,
    "start_time": "2022-05-24T08:29:53.033Z"
   },
   {
    "duration": 16,
    "start_time": "2022-05-24T08:29:53.252Z"
   },
   {
    "duration": 29,
    "start_time": "2022-05-24T08:29:53.270Z"
   },
   {
    "duration": 132,
    "start_time": "2022-05-24T08:29:53.302Z"
   },
   {
    "duration": 8,
    "start_time": "2022-05-24T08:29:53.436Z"
   },
   {
    "duration": 41,
    "start_time": "2022-05-24T08:29:53.445Z"
   },
   {
    "duration": 10,
    "start_time": "2022-05-24T08:29:53.487Z"
   },
   {
    "duration": 23,
    "start_time": "2022-05-24T08:29:53.499Z"
   },
   {
    "duration": 13,
    "start_time": "2022-05-24T08:29:53.524Z"
   },
   {
    "duration": 27,
    "start_time": "2022-05-24T08:29:53.538Z"
   },
   {
    "duration": 18,
    "start_time": "2022-05-24T08:31:34.772Z"
   },
   {
    "duration": 16,
    "start_time": "2022-05-24T08:31:41.717Z"
   },
   {
    "duration": 71,
    "start_time": "2022-05-24T08:31:45.496Z"
   },
   {
    "duration": 17,
    "start_time": "2022-05-24T08:31:53.300Z"
   },
   {
    "duration": 10,
    "start_time": "2022-05-24T08:33:19.284Z"
   },
   {
    "duration": 3,
    "start_time": "2022-05-24T08:34:13.172Z"
   },
   {
    "duration": 44,
    "start_time": "2022-05-24T08:34:17.891Z"
   },
   {
    "duration": 4,
    "start_time": "2022-05-24T08:34:36.637Z"
   },
   {
    "duration": 795,
    "start_time": "2022-05-24T08:34:36.643Z"
   },
   {
    "duration": 5,
    "start_time": "2022-05-24T08:34:37.440Z"
   },
   {
    "duration": 1171,
    "start_time": "2022-05-24T08:34:37.447Z"
   },
   {
    "duration": 561,
    "start_time": "2022-05-24T08:34:38.620Z"
   },
   {
    "duration": 42,
    "start_time": "2022-05-24T08:34:39.182Z"
   },
   {
    "duration": 10,
    "start_time": "2022-05-24T08:34:39.226Z"
   },
   {
    "duration": 52,
    "start_time": "2022-05-24T08:34:39.238Z"
   },
   {
    "duration": 80,
    "start_time": "2022-05-24T08:34:39.291Z"
   },
   {
    "duration": 11,
    "start_time": "2022-05-24T08:34:39.373Z"
   },
   {
    "duration": 36,
    "start_time": "2022-05-24T08:34:39.385Z"
   },
   {
    "duration": 66,
    "start_time": "2022-05-24T08:34:39.423Z"
   },
   {
    "duration": 111,
    "start_time": "2022-05-24T08:34:39.490Z"
   },
   {
    "duration": 67,
    "start_time": "2022-05-24T08:34:39.604Z"
   },
   {
    "duration": 19,
    "start_time": "2022-05-24T08:34:39.672Z"
   },
   {
    "duration": 28,
    "start_time": "2022-05-24T08:34:39.692Z"
   },
   {
    "duration": 58,
    "start_time": "2022-05-24T08:34:39.722Z"
   },
   {
    "duration": 26,
    "start_time": "2022-05-24T08:34:39.781Z"
   },
   {
    "duration": 36,
    "start_time": "2022-05-24T08:34:39.808Z"
   },
   {
    "duration": 50,
    "start_time": "2022-05-24T08:34:39.846Z"
   },
   {
    "duration": 19,
    "start_time": "2022-05-24T08:34:39.898Z"
   },
   {
    "duration": 87,
    "start_time": "2022-05-24T08:34:39.919Z"
   },
   {
    "duration": 10,
    "start_time": "2022-05-24T08:34:40.008Z"
   },
   {
    "duration": 733,
    "start_time": "2022-05-24T08:34:40.020Z"
   },
   {
    "duration": 118,
    "start_time": "2022-05-24T08:34:40.755Z"
   },
   {
    "duration": 10,
    "start_time": "2022-05-24T08:34:40.874Z"
   },
   {
    "duration": 36,
    "start_time": "2022-05-24T08:34:40.885Z"
   },
   {
    "duration": 144,
    "start_time": "2022-05-24T08:34:40.922Z"
   },
   {
    "duration": 9,
    "start_time": "2022-05-24T08:34:41.068Z"
   },
   {
    "duration": 37,
    "start_time": "2022-05-24T08:34:41.078Z"
   },
   {
    "duration": 11,
    "start_time": "2022-05-24T08:34:41.117Z"
   },
   {
    "duration": 71,
    "start_time": "2022-05-24T08:34:41.130Z"
   },
   {
    "duration": 11,
    "start_time": "2022-05-24T08:34:41.203Z"
   },
   {
    "duration": 26,
    "start_time": "2022-05-24T08:34:41.216Z"
   },
   {
    "duration": 25,
    "start_time": "2022-05-24T08:34:41.244Z"
   },
   {
    "duration": 13,
    "start_time": "2022-05-24T08:34:41.271Z"
   },
   {
    "duration": 12,
    "start_time": "2022-05-24T08:35:05.459Z"
   },
   {
    "duration": 4,
    "start_time": "2022-05-24T08:35:08.122Z"
   },
   {
    "duration": 839,
    "start_time": "2022-05-24T08:35:08.128Z"
   },
   {
    "duration": 4,
    "start_time": "2022-05-24T08:35:08.970Z"
   },
   {
    "duration": 1171,
    "start_time": "2022-05-24T08:35:08.976Z"
   },
   {
    "duration": 481,
    "start_time": "2022-05-24T08:35:10.149Z"
   },
   {
    "duration": 47,
    "start_time": "2022-05-24T08:35:10.632Z"
   },
   {
    "duration": 11,
    "start_time": "2022-05-24T08:35:10.681Z"
   },
   {
    "duration": 37,
    "start_time": "2022-05-24T08:35:10.694Z"
   },
   {
    "duration": 84,
    "start_time": "2022-05-24T08:35:10.733Z"
   },
   {
    "duration": 11,
    "start_time": "2022-05-24T08:35:10.819Z"
   },
   {
    "duration": 45,
    "start_time": "2022-05-24T08:35:10.831Z"
   },
   {
    "duration": 49,
    "start_time": "2022-05-24T08:35:10.878Z"
   },
   {
    "duration": 116,
    "start_time": "2022-05-24T08:35:10.928Z"
   },
   {
    "duration": 64,
    "start_time": "2022-05-24T08:35:11.047Z"
   },
   {
    "duration": 17,
    "start_time": "2022-05-24T08:35:11.113Z"
   },
   {
    "duration": 42,
    "start_time": "2022-05-24T08:35:11.132Z"
   },
   {
    "duration": 34,
    "start_time": "2022-05-24T08:35:11.176Z"
   },
   {
    "duration": 25,
    "start_time": "2022-05-24T08:35:11.211Z"
   },
   {
    "duration": 59,
    "start_time": "2022-05-24T08:35:11.238Z"
   },
   {
    "duration": 41,
    "start_time": "2022-05-24T08:35:11.298Z"
   },
   {
    "duration": 34,
    "start_time": "2022-05-24T08:35:11.340Z"
   },
   {
    "duration": 72,
    "start_time": "2022-05-24T08:35:11.376Z"
   },
   {
    "duration": 23,
    "start_time": "2022-05-24T08:35:11.450Z"
   },
   {
    "duration": 769,
    "start_time": "2022-05-24T08:35:11.474Z"
   },
   {
    "duration": 122,
    "start_time": "2022-05-24T08:35:12.245Z"
   },
   {
    "duration": 9,
    "start_time": "2022-05-24T08:35:12.368Z"
   },
   {
    "duration": 27,
    "start_time": "2022-05-24T08:35:12.379Z"
   },
   {
    "duration": 126,
    "start_time": "2022-05-24T08:35:12.408Z"
   },
   {
    "duration": 7,
    "start_time": "2022-05-24T08:35:12.536Z"
   },
   {
    "duration": 48,
    "start_time": "2022-05-24T08:35:12.544Z"
   },
   {
    "duration": 11,
    "start_time": "2022-05-24T08:35:12.594Z"
   },
   {
    "duration": 25,
    "start_time": "2022-05-24T08:35:12.607Z"
   },
   {
    "duration": 48,
    "start_time": "2022-05-24T08:35:12.634Z"
   },
   {
    "duration": 11,
    "start_time": "2022-05-24T08:35:12.684Z"
   },
   {
    "duration": 27,
    "start_time": "2022-05-24T08:35:12.696Z"
   },
   {
    "duration": 23,
    "start_time": "2022-05-24T08:35:12.725Z"
   },
   {
    "duration": 6,
    "start_time": "2022-05-24T08:35:12.750Z"
   },
   {
    "duration": 6,
    "start_time": "2022-05-24T08:36:16.803Z"
   },
   {
    "duration": 11,
    "start_time": "2022-05-24T08:36:28.165Z"
   },
   {
    "duration": 10,
    "start_time": "2022-05-24T08:36:56.820Z"
   },
   {
    "duration": 3,
    "start_time": "2022-05-24T08:37:11.561Z"
   },
   {
    "duration": 810,
    "start_time": "2022-05-24T08:37:11.567Z"
   },
   {
    "duration": 5,
    "start_time": "2022-05-24T08:37:12.379Z"
   },
   {
    "duration": 1243,
    "start_time": "2022-05-24T08:37:12.386Z"
   },
   {
    "duration": 523,
    "start_time": "2022-05-24T08:37:13.631Z"
   },
   {
    "duration": 44,
    "start_time": "2022-05-24T08:37:14.155Z"
   },
   {
    "duration": 16,
    "start_time": "2022-05-24T08:37:14.201Z"
   },
   {
    "duration": 56,
    "start_time": "2022-05-24T08:37:14.218Z"
   },
   {
    "duration": 88,
    "start_time": "2022-05-24T08:37:14.276Z"
   },
   {
    "duration": 12,
    "start_time": "2022-05-24T08:37:14.367Z"
   },
   {
    "duration": 37,
    "start_time": "2022-05-24T08:37:14.382Z"
   },
   {
    "duration": 76,
    "start_time": "2022-05-24T08:37:14.421Z"
   },
   {
    "duration": 153,
    "start_time": "2022-05-24T08:37:14.499Z"
   },
   {
    "duration": 66,
    "start_time": "2022-05-24T08:37:14.655Z"
   },
   {
    "duration": 22,
    "start_time": "2022-05-24T08:37:14.723Z"
   },
   {
    "duration": 43,
    "start_time": "2022-05-24T08:37:14.765Z"
   },
   {
    "duration": 56,
    "start_time": "2022-05-24T08:37:14.810Z"
   },
   {
    "duration": 27,
    "start_time": "2022-05-24T08:37:14.868Z"
   },
   {
    "duration": 40,
    "start_time": "2022-05-24T08:37:14.897Z"
   },
   {
    "duration": 65,
    "start_time": "2022-05-24T08:37:14.939Z"
   },
   {
    "duration": 23,
    "start_time": "2022-05-24T08:37:15.006Z"
   },
   {
    "duration": 100,
    "start_time": "2022-05-24T08:37:15.031Z"
   },
   {
    "duration": 16,
    "start_time": "2022-05-24T08:37:15.133Z"
   },
   {
    "duration": 690,
    "start_time": "2022-05-24T08:37:15.150Z"
   },
   {
    "duration": 131,
    "start_time": "2022-05-24T08:37:15.842Z"
   },
   {
    "duration": 10,
    "start_time": "2022-05-24T08:37:15.975Z"
   },
   {
    "duration": 29,
    "start_time": "2022-05-24T08:37:15.987Z"
   },
   {
    "duration": 154,
    "start_time": "2022-05-24T08:37:16.020Z"
   },
   {
    "duration": 8,
    "start_time": "2022-05-24T08:37:16.176Z"
   },
   {
    "duration": 33,
    "start_time": "2022-05-24T08:37:16.186Z"
   },
   {
    "duration": 11,
    "start_time": "2022-05-24T08:37:16.221Z"
   },
   {
    "duration": 33,
    "start_time": "2022-05-24T08:37:16.234Z"
   },
   {
    "duration": 24,
    "start_time": "2022-05-24T08:37:16.269Z"
   },
   {
    "duration": 72,
    "start_time": "2022-05-24T08:37:16.295Z"
   },
   {
    "duration": 11,
    "start_time": "2022-05-24T08:37:16.369Z"
   },
   {
    "duration": 27,
    "start_time": "2022-05-24T08:37:16.382Z"
   },
   {
    "duration": 14,
    "start_time": "2022-05-24T08:37:16.411Z"
   },
   {
    "duration": 6,
    "start_time": "2022-05-24T08:37:16.427Z"
   },
   {
    "duration": 564,
    "start_time": "2022-05-24T08:38:04.469Z"
   },
   {
    "duration": 4,
    "start_time": "2022-05-24T08:38:15.443Z"
   },
   {
    "duration": 8,
    "start_time": "2022-05-24T08:38:34.766Z"
   },
   {
    "duration": 166,
    "start_time": "2022-05-24T08:40:55.108Z"
   },
   {
    "duration": 6,
    "start_time": "2022-05-24T08:41:42.246Z"
   },
   {
    "duration": 7,
    "start_time": "2022-05-24T08:41:55.060Z"
   },
   {
    "duration": 5,
    "start_time": "2022-05-24T08:42:05.188Z"
   },
   {
    "duration": 13,
    "start_time": "2022-05-24T08:42:36.036Z"
   },
   {
    "duration": 3,
    "start_time": "2022-05-24T08:42:38.746Z"
   },
   {
    "duration": 942,
    "start_time": "2022-05-24T08:42:38.752Z"
   },
   {
    "duration": 4,
    "start_time": "2022-05-24T08:42:39.696Z"
   },
   {
    "duration": 1294,
    "start_time": "2022-05-24T08:42:39.702Z"
   },
   {
    "duration": 532,
    "start_time": "2022-05-24T08:42:40.999Z"
   },
   {
    "duration": 49,
    "start_time": "2022-05-24T08:42:41.533Z"
   },
   {
    "duration": 12,
    "start_time": "2022-05-24T08:42:41.584Z"
   },
   {
    "duration": 38,
    "start_time": "2022-05-24T08:42:41.597Z"
   },
   {
    "duration": 105,
    "start_time": "2022-05-24T08:42:41.637Z"
   },
   {
    "duration": 20,
    "start_time": "2022-05-24T08:42:41.744Z"
   },
   {
    "duration": 34,
    "start_time": "2022-05-24T08:42:41.768Z"
   },
   {
    "duration": 73,
    "start_time": "2022-05-24T08:42:41.804Z"
   },
   {
    "duration": 134,
    "start_time": "2022-05-24T08:42:41.879Z"
   },
   {
    "duration": 67,
    "start_time": "2022-05-24T08:42:42.015Z"
   },
   {
    "duration": 20,
    "start_time": "2022-05-24T08:42:42.084Z"
   },
   {
    "duration": 52,
    "start_time": "2022-05-24T08:42:42.106Z"
   },
   {
    "duration": 61,
    "start_time": "2022-05-24T08:42:42.160Z"
   },
   {
    "duration": 26,
    "start_time": "2022-05-24T08:42:42.223Z"
   },
   {
    "duration": 48,
    "start_time": "2022-05-24T08:42:42.251Z"
   },
   {
    "duration": 43,
    "start_time": "2022-05-24T08:42:42.301Z"
   },
   {
    "duration": 36,
    "start_time": "2022-05-24T08:42:42.346Z"
   },
   {
    "duration": 94,
    "start_time": "2022-05-24T08:42:42.384Z"
   },
   {
    "duration": 12,
    "start_time": "2022-05-24T08:42:42.480Z"
   },
   {
    "duration": 819,
    "start_time": "2022-05-24T08:42:42.494Z"
   },
   {
    "duration": 125,
    "start_time": "2022-05-24T08:42:43.315Z"
   },
   {
    "duration": 9,
    "start_time": "2022-05-24T08:42:43.442Z"
   },
   {
    "duration": 35,
    "start_time": "2022-05-24T08:42:43.465Z"
   },
   {
    "duration": 130,
    "start_time": "2022-05-24T08:42:43.502Z"
   },
   {
    "duration": 8,
    "start_time": "2022-05-24T08:42:43.636Z"
   },
   {
    "duration": 52,
    "start_time": "2022-05-24T08:42:43.645Z"
   },
   {
    "duration": 12,
    "start_time": "2022-05-24T08:42:43.699Z"
   },
   {
    "duration": 24,
    "start_time": "2022-05-24T08:42:43.713Z"
   },
   {
    "duration": 38,
    "start_time": "2022-05-24T08:42:43.739Z"
   },
   {
    "duration": 46,
    "start_time": "2022-05-24T08:42:43.781Z"
   },
   {
    "duration": 12,
    "start_time": "2022-05-24T08:42:43.829Z"
   },
   {
    "duration": 9,
    "start_time": "2022-05-24T08:42:43.843Z"
   },
   {
    "duration": 35,
    "start_time": "2022-05-24T08:42:43.854Z"
   },
   {
    "duration": 18,
    "start_time": "2022-05-24T08:42:43.891Z"
   },
   {
    "duration": 7,
    "start_time": "2022-05-24T08:42:43.911Z"
   },
   {
    "duration": 5,
    "start_time": "2022-05-24T08:42:58.340Z"
   },
   {
    "duration": 6,
    "start_time": "2022-05-24T08:43:04.918Z"
   },
   {
    "duration": 40,
    "start_time": "2022-05-24T08:44:18.182Z"
   },
   {
    "duration": 12,
    "start_time": "2022-05-24T08:44:18.798Z"
   },
   {
    "duration": 6,
    "start_time": "2022-05-24T08:44:19.458Z"
   },
   {
    "duration": 3,
    "start_time": "2022-05-24T08:44:29.234Z"
   },
   {
    "duration": 787,
    "start_time": "2022-05-24T08:44:29.239Z"
   },
   {
    "duration": 5,
    "start_time": "2022-05-24T08:44:30.029Z"
   },
   {
    "duration": 1194,
    "start_time": "2022-05-24T08:44:30.036Z"
   },
   {
    "duration": 509,
    "start_time": "2022-05-24T08:44:31.233Z"
   },
   {
    "duration": 48,
    "start_time": "2022-05-24T08:44:31.744Z"
   },
   {
    "duration": 11,
    "start_time": "2022-05-24T08:44:31.794Z"
   },
   {
    "duration": 39,
    "start_time": "2022-05-24T08:44:31.807Z"
   },
   {
    "duration": 91,
    "start_time": "2022-05-24T08:44:31.848Z"
   },
   {
    "duration": 12,
    "start_time": "2022-05-24T08:44:31.941Z"
   },
   {
    "duration": 35,
    "start_time": "2022-05-24T08:44:31.967Z"
   },
   {
    "duration": 70,
    "start_time": "2022-05-24T08:44:32.004Z"
   },
   {
    "duration": 113,
    "start_time": "2022-05-24T08:44:32.076Z"
   },
   {
    "duration": 58,
    "start_time": "2022-05-24T08:44:32.191Z"
   },
   {
    "duration": 28,
    "start_time": "2022-05-24T08:44:32.251Z"
   },
   {
    "duration": 27,
    "start_time": "2022-05-24T08:44:32.281Z"
   },
   {
    "duration": 55,
    "start_time": "2022-05-24T08:44:32.310Z"
   },
   {
    "duration": 26,
    "start_time": "2022-05-24T08:44:32.367Z"
   },
   {
    "duration": 36,
    "start_time": "2022-05-24T08:44:32.395Z"
   },
   {
    "duration": 55,
    "start_time": "2022-05-24T08:44:32.433Z"
   },
   {
    "duration": 18,
    "start_time": "2022-05-24T08:44:32.490Z"
   },
   {
    "duration": 92,
    "start_time": "2022-05-24T08:44:32.510Z"
   },
   {
    "duration": 11,
    "start_time": "2022-05-24T08:44:32.604Z"
   },
   {
    "duration": 683,
    "start_time": "2022-05-24T08:44:32.616Z"
   },
   {
    "duration": 125,
    "start_time": "2022-05-24T08:44:33.301Z"
   },
   {
    "duration": 10,
    "start_time": "2022-05-24T08:44:33.427Z"
   },
   {
    "duration": 47,
    "start_time": "2022-05-24T08:44:33.438Z"
   },
   {
    "duration": 118,
    "start_time": "2022-05-24T08:44:33.487Z"
   },
   {
    "duration": 8,
    "start_time": "2022-05-24T08:44:33.610Z"
   },
   {
    "duration": 55,
    "start_time": "2022-05-24T08:44:33.620Z"
   },
   {
    "duration": 12,
    "start_time": "2022-05-24T08:44:33.677Z"
   },
   {
    "duration": 21,
    "start_time": "2022-05-24T08:44:33.691Z"
   },
   {
    "duration": 21,
    "start_time": "2022-05-24T08:44:33.714Z"
   },
   {
    "duration": 75,
    "start_time": "2022-05-24T08:44:33.737Z"
   },
   {
    "duration": 11,
    "start_time": "2022-05-24T08:44:33.814Z"
   },
   {
    "duration": 7,
    "start_time": "2022-05-24T08:44:33.827Z"
   },
   {
    "duration": 40,
    "start_time": "2022-05-24T08:44:33.835Z"
   },
   {
    "duration": 13,
    "start_time": "2022-05-24T08:44:33.877Z"
   },
   {
    "duration": 4,
    "start_time": "2022-05-24T08:44:33.892Z"
   },
   {
    "duration": 135,
    "start_time": "2022-05-24T08:45:52.485Z"
   },
   {
    "duration": 3,
    "start_time": "2022-05-24T08:46:25.626Z"
   },
   {
    "duration": 802,
    "start_time": "2022-05-24T08:46:25.632Z"
   },
   {
    "duration": 5,
    "start_time": "2022-05-24T08:46:26.436Z"
   },
   {
    "duration": 1181,
    "start_time": "2022-05-24T08:46:26.443Z"
   },
   {
    "duration": 485,
    "start_time": "2022-05-24T08:46:27.626Z"
   },
   {
    "duration": 40,
    "start_time": "2022-05-24T08:46:28.113Z"
   },
   {
    "duration": 17,
    "start_time": "2022-05-24T08:46:28.155Z"
   },
   {
    "duration": 35,
    "start_time": "2022-05-24T08:46:28.174Z"
   },
   {
    "duration": 90,
    "start_time": "2022-05-24T08:46:28.212Z"
   },
   {
    "duration": 11,
    "start_time": "2022-05-24T08:46:28.304Z"
   },
   {
    "duration": 33,
    "start_time": "2022-05-24T08:46:28.316Z"
   },
   {
    "duration": 60,
    "start_time": "2022-05-24T08:46:28.351Z"
   },
   {
    "duration": 117,
    "start_time": "2022-05-24T08:46:28.413Z"
   },
   {
    "duration": 72,
    "start_time": "2022-05-24T08:46:28.532Z"
   },
   {
    "duration": 18,
    "start_time": "2022-05-24T08:46:28.606Z"
   },
   {
    "duration": 28,
    "start_time": "2022-05-24T08:46:28.625Z"
   },
   {
    "duration": 40,
    "start_time": "2022-05-24T08:46:28.654Z"
   },
   {
    "duration": 31,
    "start_time": "2022-05-24T08:46:28.696Z"
   },
   {
    "duration": 56,
    "start_time": "2022-05-24T08:46:28.729Z"
   },
   {
    "duration": 40,
    "start_time": "2022-05-24T08:46:28.787Z"
   },
   {
    "duration": 40,
    "start_time": "2022-05-24T08:46:28.828Z"
   },
   {
    "duration": 105,
    "start_time": "2022-05-24T08:46:28.870Z"
   },
   {
    "duration": 19,
    "start_time": "2022-05-24T08:46:28.977Z"
   },
   {
    "duration": 792,
    "start_time": "2022-05-24T08:46:28.999Z"
   },
   {
    "duration": 122,
    "start_time": "2022-05-24T08:46:29.792Z"
   },
   {
    "duration": 9,
    "start_time": "2022-05-24T08:46:29.916Z"
   },
   {
    "duration": 41,
    "start_time": "2022-05-24T08:46:29.926Z"
   },
   {
    "duration": 126,
    "start_time": "2022-05-24T08:46:29.969Z"
   },
   {
    "duration": 8,
    "start_time": "2022-05-24T08:46:30.096Z"
   },
   {
    "duration": 31,
    "start_time": "2022-05-24T08:46:30.105Z"
   },
   {
    "duration": 30,
    "start_time": "2022-05-24T08:46:30.137Z"
   },
   {
    "duration": 12,
    "start_time": "2022-05-24T08:46:30.169Z"
   },
   {
    "duration": 45,
    "start_time": "2022-05-24T08:46:30.182Z"
   },
   {
    "duration": 11,
    "start_time": "2022-05-24T08:46:30.229Z"
   },
   {
    "duration": 44,
    "start_time": "2022-05-24T08:46:30.241Z"
   },
   {
    "duration": 13,
    "start_time": "2022-05-24T08:46:30.287Z"
   },
   {
    "duration": 11,
    "start_time": "2022-05-24T08:46:30.301Z"
   },
   {
    "duration": 139,
    "start_time": "2022-05-24T08:46:30.313Z"
   },
   {
    "duration": 5,
    "start_time": "2022-05-24T08:46:45.322Z"
   },
   {
    "duration": 13,
    "start_time": "2022-05-24T08:46:54.245Z"
   },
   {
    "duration": 5,
    "start_time": "2022-05-24T08:48:53.756Z"
   },
   {
    "duration": 38,
    "start_time": "2022-05-24T08:48:55.141Z"
   },
   {
    "duration": 11,
    "start_time": "2022-05-24T08:48:55.742Z"
   },
   {
    "duration": 13,
    "start_time": "2022-05-24T08:48:56.932Z"
   },
   {
    "duration": 11,
    "start_time": "2022-05-24T08:48:57.525Z"
   },
   {
    "duration": 4,
    "start_time": "2022-05-24T08:48:58.116Z"
   },
   {
    "duration": 127,
    "start_time": "2022-05-24T08:48:58.660Z"
   },
   {
    "duration": 3,
    "start_time": "2022-05-24T08:49:08.795Z"
   },
   {
    "duration": 846,
    "start_time": "2022-05-24T08:49:08.800Z"
   },
   {
    "duration": 4,
    "start_time": "2022-05-24T08:49:09.648Z"
   },
   {
    "duration": 1147,
    "start_time": "2022-05-24T08:49:09.654Z"
   },
   {
    "duration": 508,
    "start_time": "2022-05-24T08:49:10.803Z"
   },
   {
    "duration": 62,
    "start_time": "2022-05-24T08:49:11.313Z"
   },
   {
    "duration": 10,
    "start_time": "2022-05-24T08:49:11.377Z"
   },
   {
    "duration": 52,
    "start_time": "2022-05-24T08:49:11.388Z"
   },
   {
    "duration": 85,
    "start_time": "2022-05-24T08:49:11.441Z"
   },
   {
    "duration": 10,
    "start_time": "2022-05-24T08:49:11.528Z"
   },
   {
    "duration": 49,
    "start_time": "2022-05-24T08:49:11.540Z"
   },
   {
    "duration": 50,
    "start_time": "2022-05-24T08:49:11.591Z"
   },
   {
    "duration": 123,
    "start_time": "2022-05-24T08:49:11.644Z"
   },
   {
    "duration": 65,
    "start_time": "2022-05-24T08:49:11.768Z"
   },
   {
    "duration": 31,
    "start_time": "2022-05-24T08:49:11.836Z"
   },
   {
    "duration": 36,
    "start_time": "2022-05-24T08:49:11.870Z"
   },
   {
    "duration": 46,
    "start_time": "2022-05-24T08:49:11.908Z"
   },
   {
    "duration": 37,
    "start_time": "2022-05-24T08:49:11.956Z"
   },
   {
    "duration": 50,
    "start_time": "2022-05-24T08:49:11.995Z"
   },
   {
    "duration": 39,
    "start_time": "2022-05-24T08:49:12.046Z"
   },
   {
    "duration": 19,
    "start_time": "2022-05-24T08:49:12.086Z"
   },
   {
    "duration": 86,
    "start_time": "2022-05-24T08:49:12.107Z"
   },
   {
    "duration": 9,
    "start_time": "2022-05-24T08:49:12.195Z"
   },
   {
    "duration": 695,
    "start_time": "2022-05-24T08:49:12.206Z"
   },
   {
    "duration": 130,
    "start_time": "2022-05-24T08:49:12.903Z"
   },
   {
    "duration": 10,
    "start_time": "2022-05-24T08:49:13.034Z"
   },
   {
    "duration": 44,
    "start_time": "2022-05-24T08:49:13.046Z"
   },
   {
    "duration": 126,
    "start_time": "2022-05-24T08:49:13.091Z"
   },
   {
    "duration": 7,
    "start_time": "2022-05-24T08:49:13.219Z"
   },
   {
    "duration": 49,
    "start_time": "2022-05-24T08:49:13.228Z"
   },
   {
    "duration": 11,
    "start_time": "2022-05-24T08:49:13.279Z"
   },
   {
    "duration": 19,
    "start_time": "2022-05-24T08:49:13.292Z"
   },
   {
    "duration": 6,
    "start_time": "2022-05-24T08:49:13.313Z"
   },
   {
    "duration": 76,
    "start_time": "2022-05-24T08:49:13.320Z"
   },
   {
    "duration": 10,
    "start_time": "2022-05-24T08:49:13.398Z"
   },
   {
    "duration": 37,
    "start_time": "2022-05-24T08:49:13.410Z"
   },
   {
    "duration": 34,
    "start_time": "2022-05-24T08:49:13.450Z"
   },
   {
    "duration": 27,
    "start_time": "2022-05-24T08:49:13.485Z"
   },
   {
    "duration": 170,
    "start_time": "2022-05-24T08:49:13.514Z"
   },
   {
    "duration": 5,
    "start_time": "2022-05-24T08:49:32.789Z"
   },
   {
    "duration": 13,
    "start_time": "2022-05-24T08:49:42.470Z"
   },
   {
    "duration": 39,
    "start_time": "2022-05-24T08:50:35.013Z"
   },
   {
    "duration": 13,
    "start_time": "2022-05-24T08:51:18.456Z"
   },
   {
    "duration": 66,
    "start_time": "2022-05-24T08:51:27.685Z"
   },
   {
    "duration": 1130,
    "start_time": "2022-05-24T08:56:36.575Z"
   },
   {
    "duration": 1211,
    "start_time": "2022-05-24T08:56:53.001Z"
   },
   {
    "duration": 954,
    "start_time": "2022-05-24T08:57:08.598Z"
   },
   {
    "duration": 3,
    "start_time": "2022-05-24T08:57:33.324Z"
   },
   {
    "duration": 777,
    "start_time": "2022-05-24T08:57:33.329Z"
   },
   {
    "duration": 5,
    "start_time": "2022-05-24T08:57:34.108Z"
   },
   {
    "duration": 1164,
    "start_time": "2022-05-24T08:57:34.115Z"
   },
   {
    "duration": 508,
    "start_time": "2022-05-24T08:57:35.281Z"
   },
   {
    "duration": 39,
    "start_time": "2022-05-24T08:57:35.791Z"
   },
   {
    "duration": 10,
    "start_time": "2022-05-24T08:57:35.832Z"
   },
   {
    "duration": 44,
    "start_time": "2022-05-24T08:57:35.844Z"
   },
   {
    "duration": 82,
    "start_time": "2022-05-24T08:57:35.890Z"
   },
   {
    "duration": 11,
    "start_time": "2022-05-24T08:57:35.975Z"
   },
   {
    "duration": 46,
    "start_time": "2022-05-24T08:57:35.988Z"
   },
   {
    "duration": 66,
    "start_time": "2022-05-24T08:57:36.036Z"
   },
   {
    "duration": 120,
    "start_time": "2022-05-24T08:57:36.103Z"
   },
   {
    "duration": 70,
    "start_time": "2022-05-24T08:57:36.225Z"
   },
   {
    "duration": 18,
    "start_time": "2022-05-24T08:57:36.297Z"
   },
   {
    "duration": 28,
    "start_time": "2022-05-24T08:57:36.316Z"
   },
   {
    "duration": 48,
    "start_time": "2022-05-24T08:57:36.345Z"
   },
   {
    "duration": 25,
    "start_time": "2022-05-24T08:57:36.394Z"
   },
   {
    "duration": 56,
    "start_time": "2022-05-24T08:57:36.420Z"
   },
   {
    "duration": 39,
    "start_time": "2022-05-24T08:57:36.478Z"
   },
   {
    "duration": 19,
    "start_time": "2022-05-24T08:57:36.518Z"
   },
   {
    "duration": 89,
    "start_time": "2022-05-24T08:57:36.539Z"
   },
   {
    "duration": 10,
    "start_time": "2022-05-24T08:57:36.630Z"
   },
   {
    "duration": 782,
    "start_time": "2022-05-24T08:57:36.642Z"
   },
   {
    "duration": 141,
    "start_time": "2022-05-24T08:57:37.426Z"
   },
   {
    "duration": 12,
    "start_time": "2022-05-24T08:57:37.569Z"
   },
   {
    "duration": 28,
    "start_time": "2022-05-24T08:57:37.582Z"
   },
   {
    "duration": 141,
    "start_time": "2022-05-24T08:57:37.615Z"
   },
   {
    "duration": 14,
    "start_time": "2022-05-24T08:57:37.758Z"
   },
   {
    "duration": 33,
    "start_time": "2022-05-24T08:57:37.774Z"
   },
   {
    "duration": 10,
    "start_time": "2022-05-24T08:57:37.809Z"
   },
   {
    "duration": 11,
    "start_time": "2022-05-24T08:57:37.821Z"
   },
   {
    "duration": 5,
    "start_time": "2022-05-24T08:57:37.864Z"
   },
   {
    "duration": 49,
    "start_time": "2022-05-24T08:57:37.871Z"
   },
   {
    "duration": 11,
    "start_time": "2022-05-24T08:57:37.922Z"
   },
   {
    "duration": 43,
    "start_time": "2022-05-24T08:57:37.935Z"
   },
   {
    "duration": 17,
    "start_time": "2022-05-24T08:57:37.980Z"
   },
   {
    "duration": 6,
    "start_time": "2022-05-24T08:57:37.999Z"
   },
   {
    "duration": 77,
    "start_time": "2022-05-24T08:57:38.006Z"
   },
   {
    "duration": 1059,
    "start_time": "2022-05-24T08:57:58.792Z"
   },
   {
    "duration": 1046,
    "start_time": "2022-05-24T08:58:03.354Z"
   },
   {
    "duration": 1057,
    "start_time": "2022-05-24T08:58:07.670Z"
   },
   {
    "duration": 947,
    "start_time": "2022-05-24T08:58:11.323Z"
   },
   {
    "duration": 1166,
    "start_time": "2022-05-24T08:58:18.990Z"
   },
   {
    "duration": 950,
    "start_time": "2022-05-24T08:58:22.790Z"
   },
   {
    "duration": 4,
    "start_time": "2022-05-24T08:58:30.547Z"
   },
   {
    "duration": 824,
    "start_time": "2022-05-24T08:58:30.553Z"
   },
   {
    "duration": 5,
    "start_time": "2022-05-24T08:58:31.378Z"
   },
   {
    "duration": 1337,
    "start_time": "2022-05-24T08:58:31.384Z"
   },
   {
    "duration": 516,
    "start_time": "2022-05-24T08:58:32.723Z"
   },
   {
    "duration": 46,
    "start_time": "2022-05-24T08:58:33.241Z"
   },
   {
    "duration": 10,
    "start_time": "2022-05-24T08:58:33.289Z"
   },
   {
    "duration": 48,
    "start_time": "2022-05-24T08:58:33.301Z"
   },
   {
    "duration": 75,
    "start_time": "2022-05-24T08:58:33.351Z"
   },
   {
    "duration": 13,
    "start_time": "2022-05-24T08:58:33.427Z"
   },
   {
    "duration": 47,
    "start_time": "2022-05-24T08:58:33.441Z"
   },
   {
    "duration": 54,
    "start_time": "2022-05-24T08:58:33.490Z"
   },
   {
    "duration": 121,
    "start_time": "2022-05-24T08:58:33.547Z"
   },
   {
    "duration": 60,
    "start_time": "2022-05-24T08:58:33.669Z"
   },
   {
    "duration": 19,
    "start_time": "2022-05-24T08:58:33.730Z"
   },
   {
    "duration": 40,
    "start_time": "2022-05-24T08:58:33.750Z"
   },
   {
    "duration": 34,
    "start_time": "2022-05-24T08:58:33.792Z"
   },
   {
    "duration": 45,
    "start_time": "2022-05-24T08:58:33.827Z"
   },
   {
    "duration": 38,
    "start_time": "2022-05-24T08:58:33.874Z"
   },
   {
    "duration": 63,
    "start_time": "2022-05-24T08:58:33.914Z"
   },
   {
    "duration": 21,
    "start_time": "2022-05-24T08:58:33.979Z"
   },
   {
    "duration": 89,
    "start_time": "2022-05-24T08:58:34.002Z"
   },
   {
    "duration": 10,
    "start_time": "2022-05-24T08:58:34.092Z"
   },
   {
    "duration": 713,
    "start_time": "2022-05-24T08:58:34.104Z"
   },
   {
    "duration": 124,
    "start_time": "2022-05-24T08:58:34.819Z"
   },
   {
    "duration": 10,
    "start_time": "2022-05-24T08:58:34.945Z"
   },
   {
    "duration": 27,
    "start_time": "2022-05-24T08:58:34.965Z"
   },
   {
    "duration": 134,
    "start_time": "2022-05-24T08:58:34.993Z"
   },
   {
    "duration": 8,
    "start_time": "2022-05-24T08:58:35.129Z"
   },
   {
    "duration": 56,
    "start_time": "2022-05-24T08:58:35.140Z"
   },
   {
    "duration": 11,
    "start_time": "2022-05-24T08:58:35.198Z"
   },
   {
    "duration": 14,
    "start_time": "2022-05-24T08:58:35.211Z"
   },
   {
    "duration": 5,
    "start_time": "2022-05-24T08:58:35.227Z"
   },
   {
    "duration": 77,
    "start_time": "2022-05-24T08:58:35.233Z"
   },
   {
    "duration": 13,
    "start_time": "2022-05-24T08:58:35.312Z"
   },
   {
    "duration": 23,
    "start_time": "2022-05-24T08:58:35.326Z"
   },
   {
    "duration": 12,
    "start_time": "2022-05-24T08:58:35.367Z"
   },
   {
    "duration": 9,
    "start_time": "2022-05-24T08:58:35.381Z"
   },
   {
    "duration": 89,
    "start_time": "2022-05-24T08:58:35.391Z"
   },
   {
    "duration": 2,
    "start_time": "2022-05-24T09:00:55.381Z"
   },
   {
    "duration": 773,
    "start_time": "2022-05-24T09:01:51.126Z"
   },
   {
    "duration": 5,
    "start_time": "2022-05-24T09:02:43.686Z"
   },
   {
    "duration": 214,
    "start_time": "2022-05-24T09:04:53.112Z"
   },
   {
    "duration": 4,
    "start_time": "2022-05-24T09:05:00.645Z"
   },
   {
    "duration": 4,
    "start_time": "2022-05-24T09:05:06.348Z"
   },
   {
    "duration": 125,
    "start_time": "2022-05-24T09:05:46.363Z"
   },
   {
    "duration": 125,
    "start_time": "2022-05-24T09:06:25.861Z"
   },
   {
    "duration": 349,
    "start_time": "2022-05-24T09:08:11.830Z"
   },
   {
    "duration": 327,
    "start_time": "2022-05-24T09:08:47.831Z"
   },
   {
    "duration": 4,
    "start_time": "2022-05-24T09:54:04.603Z"
   },
   {
    "duration": 754,
    "start_time": "2022-05-24T09:54:04.609Z"
   },
   {
    "duration": 4,
    "start_time": "2022-05-24T09:54:05.365Z"
   },
   {
    "duration": 1224,
    "start_time": "2022-05-24T09:54:05.371Z"
   },
   {
    "duration": 505,
    "start_time": "2022-05-24T09:54:06.597Z"
   },
   {
    "duration": 41,
    "start_time": "2022-05-24T09:54:07.104Z"
   },
   {
    "duration": 18,
    "start_time": "2022-05-24T09:54:07.147Z"
   },
   {
    "duration": 32,
    "start_time": "2022-05-24T09:54:07.167Z"
   },
   {
    "duration": 82,
    "start_time": "2022-05-24T09:54:07.201Z"
   },
   {
    "duration": 11,
    "start_time": "2022-05-24T09:54:07.286Z"
   },
   {
    "duration": 35,
    "start_time": "2022-05-24T09:54:07.298Z"
   },
   {
    "duration": 70,
    "start_time": "2022-05-24T09:54:07.335Z"
   },
   {
    "duration": 122,
    "start_time": "2022-05-24T09:54:07.407Z"
   },
   {
    "duration": 64,
    "start_time": "2022-05-24T09:54:07.532Z"
   },
   {
    "duration": 19,
    "start_time": "2022-05-24T09:54:07.597Z"
   },
   {
    "duration": 29,
    "start_time": "2022-05-24T09:54:07.617Z"
   },
   {
    "duration": 33,
    "start_time": "2022-05-24T09:54:07.665Z"
   },
   {
    "duration": 26,
    "start_time": "2022-05-24T09:54:07.699Z"
   },
   {
    "duration": 53,
    "start_time": "2022-05-24T09:54:07.727Z"
   },
   {
    "duration": 40,
    "start_time": "2022-05-24T09:54:07.782Z"
   },
   {
    "duration": 19,
    "start_time": "2022-05-24T09:54:07.823Z"
   },
   {
    "duration": 71,
    "start_time": "2022-05-24T09:54:07.864Z"
   },
   {
    "duration": 10,
    "start_time": "2022-05-24T09:54:07.937Z"
   },
   {
    "duration": 701,
    "start_time": "2022-05-24T09:54:07.948Z"
   },
   {
    "duration": 122,
    "start_time": "2022-05-24T09:54:08.651Z"
   },
   {
    "duration": 10,
    "start_time": "2022-05-24T09:54:08.775Z"
   },
   {
    "duration": 48,
    "start_time": "2022-05-24T09:54:08.787Z"
   },
   {
    "duration": 257,
    "start_time": "2022-05-24T09:54:08.839Z"
   },
   {
    "duration": 9,
    "start_time": "2022-05-24T09:54:09.098Z"
   },
   {
    "duration": 42,
    "start_time": "2022-05-24T09:54:09.108Z"
   },
   {
    "duration": 19,
    "start_time": "2022-05-24T09:54:09.151Z"
   },
   {
    "duration": 27,
    "start_time": "2022-05-24T09:54:09.171Z"
   },
   {
    "duration": 13,
    "start_time": "2022-05-24T09:54:09.200Z"
   },
   {
    "duration": 72,
    "start_time": "2022-05-24T09:54:09.214Z"
   },
   {
    "duration": 11,
    "start_time": "2022-05-24T09:54:09.288Z"
   },
   {
    "duration": 57,
    "start_time": "2022-05-24T09:54:09.301Z"
   },
   {
    "duration": 28,
    "start_time": "2022-05-24T09:54:09.360Z"
   },
   {
    "duration": 21,
    "start_time": "2022-05-24T09:54:09.390Z"
   },
   {
    "duration": 96,
    "start_time": "2022-05-24T09:54:09.413Z"
   },
   {
    "duration": 770,
    "start_time": "2022-05-24T09:54:09.511Z"
   },
   {
    "duration": 4,
    "start_time": "2022-05-24T09:54:10.283Z"
   },
   {
    "duration": 220,
    "start_time": "2022-05-24T09:54:10.288Z"
   },
   {
    "duration": 335,
    "start_time": "2022-05-24T09:54:10.510Z"
   },
   {
    "duration": 3,
    "start_time": "2022-05-24T11:23:07.921Z"
   },
   {
    "duration": 829,
    "start_time": "2022-05-24T11:23:07.926Z"
   },
   {
    "duration": 5,
    "start_time": "2022-05-24T11:23:08.757Z"
   },
   {
    "duration": 1272,
    "start_time": "2022-05-24T11:23:08.763Z"
   },
   {
    "duration": 509,
    "start_time": "2022-05-24T11:23:10.037Z"
   },
   {
    "duration": 55,
    "start_time": "2022-05-24T11:23:10.548Z"
   },
   {
    "duration": 11,
    "start_time": "2022-05-24T11:23:10.605Z"
   },
   {
    "duration": 32,
    "start_time": "2022-05-24T11:23:10.618Z"
   },
   {
    "duration": 74,
    "start_time": "2022-05-24T11:23:10.664Z"
   },
   {
    "duration": 11,
    "start_time": "2022-05-24T11:23:10.740Z"
   },
   {
    "duration": 35,
    "start_time": "2022-05-24T11:23:10.764Z"
   },
   {
    "duration": 67,
    "start_time": "2022-05-24T11:23:10.801Z"
   },
   {
    "duration": 134,
    "start_time": "2022-05-24T11:23:10.870Z"
   },
   {
    "duration": 77,
    "start_time": "2022-05-24T11:23:11.006Z"
   },
   {
    "duration": 21,
    "start_time": "2022-05-24T11:23:11.085Z"
   },
   {
    "duration": 29,
    "start_time": "2022-05-24T11:23:11.108Z"
   },
   {
    "duration": 55,
    "start_time": "2022-05-24T11:23:11.139Z"
   },
   {
    "duration": 26,
    "start_time": "2022-05-24T11:23:11.196Z"
   },
   {
    "duration": 54,
    "start_time": "2022-05-24T11:23:11.224Z"
   },
   {
    "duration": 42,
    "start_time": "2022-05-24T11:23:11.279Z"
   },
   {
    "duration": 19,
    "start_time": "2022-05-24T11:23:11.323Z"
   },
   {
    "duration": 76,
    "start_time": "2022-05-24T11:23:11.364Z"
   },
   {
    "duration": 24,
    "start_time": "2022-05-24T11:23:11.442Z"
   },
   {
    "duration": 700,
    "start_time": "2022-05-24T11:23:11.468Z"
   },
   {
    "duration": 122,
    "start_time": "2022-05-24T11:23:12.170Z"
   },
   {
    "duration": 9,
    "start_time": "2022-05-24T11:23:12.294Z"
   },
   {
    "duration": 36,
    "start_time": "2022-05-24T11:23:12.305Z"
   },
   {
    "duration": 134,
    "start_time": "2022-05-24T11:23:12.343Z"
   },
   {
    "duration": 8,
    "start_time": "2022-05-24T11:23:12.481Z"
   },
   {
    "duration": 37,
    "start_time": "2022-05-24T11:23:12.490Z"
   },
   {
    "duration": 11,
    "start_time": "2022-05-24T11:23:12.529Z"
   },
   {
    "duration": 32,
    "start_time": "2022-05-24T11:23:12.542Z"
   },
   {
    "duration": 6,
    "start_time": "2022-05-24T11:23:12.577Z"
   },
   {
    "duration": 57,
    "start_time": "2022-05-24T11:23:12.584Z"
   },
   {
    "duration": 26,
    "start_time": "2022-05-24T11:23:12.643Z"
   },
   {
    "duration": 25,
    "start_time": "2022-05-24T11:23:12.671Z"
   },
   {
    "duration": 13,
    "start_time": "2022-05-24T11:23:12.698Z"
   },
   {
    "duration": 5,
    "start_time": "2022-05-24T11:23:12.713Z"
   },
   {
    "duration": 103,
    "start_time": "2022-05-24T11:23:12.720Z"
   },
   {
    "duration": 1092,
    "start_time": "2022-05-24T11:23:12.825Z"
   },
   {
    "duration": 4,
    "start_time": "2022-05-24T11:23:13.919Z"
   },
   {
    "duration": 570,
    "start_time": "2022-05-24T11:23:13.925Z"
   },
   {
    "duration": 4,
    "start_time": "2022-05-24T11:23:14.496Z"
   },
   {
    "duration": 168,
    "start_time": "2022-05-24T11:23:14.502Z"
   },
   {
    "duration": 5,
    "start_time": "2022-05-24T13:10:35.107Z"
   },
   {
    "duration": 909,
    "start_time": "2022-05-24T13:10:35.115Z"
   },
   {
    "duration": 7,
    "start_time": "2022-05-24T13:10:36.027Z"
   },
   {
    "duration": 1208,
    "start_time": "2022-05-24T13:10:36.036Z"
   },
   {
    "duration": 534,
    "start_time": "2022-05-24T13:10:37.249Z"
   },
   {
    "duration": 38,
    "start_time": "2022-05-24T13:10:37.784Z"
   },
   {
    "duration": 10,
    "start_time": "2022-05-24T13:10:37.824Z"
   },
   {
    "duration": 48,
    "start_time": "2022-05-24T13:10:37.836Z"
   },
   {
    "duration": 80,
    "start_time": "2022-05-24T13:10:37.886Z"
   },
   {
    "duration": 11,
    "start_time": "2022-05-24T13:10:37.968Z"
   },
   {
    "duration": 44,
    "start_time": "2022-05-24T13:10:37.980Z"
   },
   {
    "duration": 65,
    "start_time": "2022-05-24T13:10:38.026Z"
   },
   {
    "duration": 114,
    "start_time": "2022-05-24T13:10:38.095Z"
   },
   {
    "duration": 71,
    "start_time": "2022-05-24T13:10:38.211Z"
   },
   {
    "duration": 34,
    "start_time": "2022-05-24T13:10:38.284Z"
   },
   {
    "duration": 47,
    "start_time": "2022-05-24T13:10:38.320Z"
   },
   {
    "duration": 35,
    "start_time": "2022-05-24T13:10:38.369Z"
   },
   {
    "duration": 27,
    "start_time": "2022-05-24T13:10:38.406Z"
   },
   {
    "duration": 65,
    "start_time": "2022-05-24T13:10:38.435Z"
   },
   {
    "duration": 40,
    "start_time": "2022-05-24T13:10:38.502Z"
   },
   {
    "duration": 39,
    "start_time": "2022-05-24T13:10:38.544Z"
   },
   {
    "duration": 86,
    "start_time": "2022-05-24T13:10:38.586Z"
   },
   {
    "duration": 10,
    "start_time": "2022-05-24T13:10:38.674Z"
   },
   {
    "duration": 781,
    "start_time": "2022-05-24T13:10:38.686Z"
   },
   {
    "duration": 216,
    "start_time": "2022-05-24T13:10:39.469Z"
   },
   {
    "duration": 12,
    "start_time": "2022-05-24T13:10:39.688Z"
   },
   {
    "duration": 32,
    "start_time": "2022-05-24T13:10:39.702Z"
   },
   {
    "duration": 135,
    "start_time": "2022-05-24T13:10:39.735Z"
   },
   {
    "duration": 9,
    "start_time": "2022-05-24T13:10:39.872Z"
   },
   {
    "duration": 30,
    "start_time": "2022-05-24T13:10:39.884Z"
   },
   {
    "duration": 11,
    "start_time": "2022-05-24T13:10:39.915Z"
   },
   {
    "duration": 43,
    "start_time": "2022-05-24T13:10:39.928Z"
   },
   {
    "duration": 6,
    "start_time": "2022-05-24T13:10:39.973Z"
   },
   {
    "duration": 57,
    "start_time": "2022-05-24T13:10:39.980Z"
   },
   {
    "duration": 26,
    "start_time": "2022-05-24T13:10:40.039Z"
   },
   {
    "duration": 30,
    "start_time": "2022-05-24T13:10:40.068Z"
   },
   {
    "duration": 19,
    "start_time": "2022-05-24T13:10:40.103Z"
   },
   {
    "duration": 5,
    "start_time": "2022-05-24T13:10:40.125Z"
   },
   {
    "duration": 134,
    "start_time": "2022-05-24T13:10:40.132Z"
   },
   {
    "duration": 1078,
    "start_time": "2022-05-24T13:10:40.268Z"
   },
   {
    "duration": 5,
    "start_time": "2022-05-24T13:10:41.348Z"
   },
   {
    "duration": 558,
    "start_time": "2022-05-24T13:10:41.365Z"
   },
   {
    "duration": 5,
    "start_time": "2022-05-24T13:10:41.925Z"
   },
   {
    "duration": 122,
    "start_time": "2022-05-24T13:10:41.932Z"
   },
   {
    "duration": 48,
    "start_time": "2022-05-24T13:11:47.837Z"
   },
   {
    "duration": 3,
    "start_time": "2022-05-24T13:12:34.851Z"
   },
   {
    "duration": 24,
    "start_time": "2022-05-24T13:17:44.657Z"
   },
   {
    "duration": 5,
    "start_time": "2022-05-24T13:18:31.812Z"
   },
   {
    "duration": 29,
    "start_time": "2022-05-24T13:21:20.038Z"
   },
   {
    "duration": 37,
    "start_time": "2022-05-24T13:22:13.492Z"
   },
   {
    "duration": 4,
    "start_time": "2022-05-24T13:23:11.986Z"
   },
   {
    "duration": 4,
    "start_time": "2022-05-24T13:23:15.204Z"
   },
   {
    "duration": 886,
    "start_time": "2022-05-24T13:23:15.210Z"
   },
   {
    "duration": 6,
    "start_time": "2022-05-24T13:23:16.098Z"
   },
   {
    "duration": 1363,
    "start_time": "2022-05-24T13:23:16.107Z"
   },
   {
    "duration": 562,
    "start_time": "2022-05-24T13:23:17.473Z"
   },
   {
    "duration": 57,
    "start_time": "2022-05-24T13:23:18.037Z"
   },
   {
    "duration": 11,
    "start_time": "2022-05-24T13:23:18.096Z"
   },
   {
    "duration": 84,
    "start_time": "2022-05-24T13:23:18.109Z"
   },
   {
    "duration": 80,
    "start_time": "2022-05-24T13:23:18.195Z"
   },
   {
    "duration": 13,
    "start_time": "2022-05-24T13:23:18.280Z"
   },
   {
    "duration": 39,
    "start_time": "2022-05-24T13:23:18.295Z"
   },
   {
    "duration": 75,
    "start_time": "2022-05-24T13:23:18.336Z"
   },
   {
    "duration": 119,
    "start_time": "2022-05-24T13:23:18.413Z"
   },
   {
    "duration": 82,
    "start_time": "2022-05-24T13:23:18.533Z"
   },
   {
    "duration": 24,
    "start_time": "2022-05-24T13:23:18.616Z"
   },
   {
    "duration": 60,
    "start_time": "2022-05-24T13:23:18.642Z"
   },
   {
    "duration": 38,
    "start_time": "2022-05-24T13:23:18.704Z"
   },
   {
    "duration": 51,
    "start_time": "2022-05-24T13:23:18.743Z"
   },
   {
    "duration": 40,
    "start_time": "2022-05-24T13:23:18.795Z"
   },
   {
    "duration": 60,
    "start_time": "2022-05-24T13:23:18.837Z"
   },
   {
    "duration": 30,
    "start_time": "2022-05-24T13:23:18.900Z"
   },
   {
    "duration": 120,
    "start_time": "2022-05-24T13:23:18.933Z"
   },
   {
    "duration": 54,
    "start_time": "2022-05-24T13:23:19.055Z"
   },
   {
    "duration": 844,
    "start_time": "2022-05-24T13:23:19.113Z"
   },
   {
    "duration": 151,
    "start_time": "2022-05-24T13:23:19.960Z"
   },
   {
    "duration": 11,
    "start_time": "2022-05-24T13:23:20.113Z"
   },
   {
    "duration": 57,
    "start_time": "2022-05-24T13:23:20.126Z"
   },
   {
    "duration": 151,
    "start_time": "2022-05-24T13:23:20.189Z"
   },
   {
    "duration": 9,
    "start_time": "2022-05-24T13:23:20.342Z"
   },
   {
    "duration": 76,
    "start_time": "2022-05-24T13:23:20.365Z"
   },
   {
    "duration": 11,
    "start_time": "2022-05-24T13:23:20.443Z"
   },
   {
    "duration": 16,
    "start_time": "2022-05-24T13:23:20.456Z"
   },
   {
    "duration": 6,
    "start_time": "2022-05-24T13:23:20.474Z"
   },
   {
    "duration": 66,
    "start_time": "2022-05-24T13:23:20.482Z"
   },
   {
    "duration": 25,
    "start_time": "2022-05-24T13:23:20.550Z"
   },
   {
    "duration": 39,
    "start_time": "2022-05-24T13:23:20.578Z"
   },
   {
    "duration": 19,
    "start_time": "2022-05-24T13:23:20.620Z"
   },
   {
    "duration": 6,
    "start_time": "2022-05-24T13:23:20.641Z"
   },
   {
    "duration": 95,
    "start_time": "2022-05-24T13:23:20.665Z"
   },
   {
    "duration": 934,
    "start_time": "2022-05-24T13:23:20.765Z"
   },
   {
    "duration": 5,
    "start_time": "2022-05-24T13:23:21.701Z"
   },
   {
    "duration": 607,
    "start_time": "2022-05-24T13:23:21.708Z"
   },
   {
    "duration": 4,
    "start_time": "2022-05-24T13:23:22.316Z"
   },
   {
    "duration": 130,
    "start_time": "2022-05-24T13:23:22.322Z"
   },
   {
    "duration": 3,
    "start_time": "2022-05-24T13:32:28.281Z"
   },
   {
    "duration": 32,
    "start_time": "2022-05-24T13:56:58.535Z"
   },
   {
    "duration": 7,
    "start_time": "2022-05-24T13:57:11.713Z"
   },
   {
    "duration": 1261,
    "start_time": "2022-05-24T13:57:29.711Z"
   },
   {
    "duration": 1315,
    "start_time": "2022-05-24T13:57:30.978Z"
   },
   {
    "duration": 5,
    "start_time": "2022-05-24T13:57:32.295Z"
   },
   {
    "duration": 1400,
    "start_time": "2022-05-24T13:57:32.301Z"
   },
   {
    "duration": 631,
    "start_time": "2022-05-24T13:57:33.703Z"
   },
   {
    "duration": 64,
    "start_time": "2022-05-24T13:57:34.335Z"
   },
   {
    "duration": 13,
    "start_time": "2022-05-24T13:57:34.401Z"
   },
   {
    "duration": 32,
    "start_time": "2022-05-24T13:57:34.416Z"
   },
   {
    "duration": 90,
    "start_time": "2022-05-24T13:57:34.450Z"
   },
   {
    "duration": 31,
    "start_time": "2022-05-24T13:57:34.544Z"
   },
   {
    "duration": 42,
    "start_time": "2022-05-24T13:57:34.583Z"
   },
   {
    "duration": 59,
    "start_time": "2022-05-24T13:57:34.627Z"
   },
   {
    "duration": 117,
    "start_time": "2022-05-24T13:57:34.688Z"
   },
   {
    "duration": 75,
    "start_time": "2022-05-24T13:57:34.806Z"
   },
   {
    "duration": 19,
    "start_time": "2022-05-24T13:57:34.883Z"
   },
   {
    "duration": 28,
    "start_time": "2022-05-24T13:57:34.903Z"
   },
   {
    "duration": 56,
    "start_time": "2022-05-24T13:57:34.933Z"
   },
   {
    "duration": 29,
    "start_time": "2022-05-24T13:57:34.991Z"
   },
   {
    "duration": 68,
    "start_time": "2022-05-24T13:57:35.022Z"
   },
   {
    "duration": 42,
    "start_time": "2022-05-24T13:57:35.092Z"
   },
   {
    "duration": 37,
    "start_time": "2022-05-24T13:57:35.135Z"
   },
   {
    "duration": 77,
    "start_time": "2022-05-24T13:57:35.175Z"
   },
   {
    "duration": 22,
    "start_time": "2022-05-24T13:57:35.254Z"
   },
   {
    "duration": 763,
    "start_time": "2022-05-24T13:57:35.280Z"
   },
   {
    "duration": 138,
    "start_time": "2022-05-24T13:57:36.045Z"
   },
   {
    "duration": 10,
    "start_time": "2022-05-24T13:57:36.185Z"
   },
   {
    "duration": 32,
    "start_time": "2022-05-24T13:57:36.196Z"
   },
   {
    "duration": 151,
    "start_time": "2022-05-24T13:57:36.231Z"
   },
   {
    "duration": 8,
    "start_time": "2022-05-24T13:57:36.384Z"
   },
   {
    "duration": 37,
    "start_time": "2022-05-24T13:57:36.393Z"
   },
   {
    "duration": 11,
    "start_time": "2022-05-24T13:57:36.432Z"
   },
   {
    "duration": 38,
    "start_time": "2022-05-24T13:57:36.444Z"
   },
   {
    "duration": 7,
    "start_time": "2022-05-24T13:57:36.484Z"
   },
   {
    "duration": 58,
    "start_time": "2022-05-24T13:57:36.492Z"
   },
   {
    "duration": 30,
    "start_time": "2022-05-24T13:57:36.551Z"
   },
   {
    "duration": 29,
    "start_time": "2022-05-24T13:57:36.583Z"
   },
   {
    "duration": 13,
    "start_time": "2022-05-24T13:57:36.614Z"
   },
   {
    "duration": 5,
    "start_time": "2022-05-24T13:57:36.628Z"
   },
   {
    "duration": 103,
    "start_time": "2022-05-24T13:57:36.635Z"
   },
   {
    "duration": 882,
    "start_time": "2022-05-24T13:57:36.739Z"
   },
   {
    "duration": 5,
    "start_time": "2022-05-24T13:57:37.623Z"
   },
   {
    "duration": 585,
    "start_time": "2022-05-24T13:57:37.629Z"
   },
   {
    "duration": 5,
    "start_time": "2022-05-24T13:57:38.215Z"
   },
   {
    "duration": 135,
    "start_time": "2022-05-24T13:57:38.221Z"
   },
   {
    "duration": 1154,
    "start_time": "2022-05-24T14:03:56.304Z"
   },
   {
    "duration": 955,
    "start_time": "2022-05-24T14:03:57.461Z"
   },
   {
    "duration": 4,
    "start_time": "2022-05-24T14:03:58.418Z"
   },
   {
    "duration": 1476,
    "start_time": "2022-05-24T14:03:58.424Z"
   },
   {
    "duration": 679,
    "start_time": "2022-05-24T14:03:59.902Z"
   },
   {
    "duration": 48,
    "start_time": "2022-05-24T14:04:00.583Z"
   },
   {
    "duration": 16,
    "start_time": "2022-05-24T14:04:00.633Z"
   },
   {
    "duration": 63,
    "start_time": "2022-05-24T14:04:00.666Z"
   },
   {
    "duration": 84,
    "start_time": "2022-05-24T14:04:00.731Z"
   },
   {
    "duration": 12,
    "start_time": "2022-05-24T14:04:00.818Z"
   },
   {
    "duration": 59,
    "start_time": "2022-05-24T14:04:00.832Z"
   },
   {
    "duration": 51,
    "start_time": "2022-05-24T14:04:00.893Z"
   },
   {
    "duration": 144,
    "start_time": "2022-05-24T14:04:00.946Z"
   },
   {
    "duration": 73,
    "start_time": "2022-05-24T14:04:01.092Z"
   },
   {
    "duration": 27,
    "start_time": "2022-05-24T14:04:01.167Z"
   },
   {
    "duration": 34,
    "start_time": "2022-05-24T14:04:01.196Z"
   },
   {
    "duration": 57,
    "start_time": "2022-05-24T14:04:01.232Z"
   },
   {
    "duration": 66,
    "start_time": "2022-05-24T14:04:01.291Z"
   },
   {
    "duration": 58,
    "start_time": "2022-05-24T14:04:01.359Z"
   },
   {
    "duration": 41,
    "start_time": "2022-05-24T14:04:01.418Z"
   },
   {
    "duration": 44,
    "start_time": "2022-05-24T14:04:01.460Z"
   },
   {
    "duration": 85,
    "start_time": "2022-05-24T14:04:01.505Z"
   },
   {
    "duration": 25,
    "start_time": "2022-05-24T14:04:01.591Z"
   },
   {
    "duration": 824,
    "start_time": "2022-05-24T14:04:01.617Z"
   },
   {
    "duration": 134,
    "start_time": "2022-05-24T14:04:02.443Z"
   },
   {
    "duration": 27,
    "start_time": "2022-05-24T14:04:02.579Z"
   },
   {
    "duration": 35,
    "start_time": "2022-05-24T14:04:02.610Z"
   },
   {
    "duration": 141,
    "start_time": "2022-05-24T14:04:02.649Z"
   },
   {
    "duration": 9,
    "start_time": "2022-05-24T14:04:02.792Z"
   },
   {
    "duration": 36,
    "start_time": "2022-05-24T14:04:02.803Z"
   },
   {
    "duration": 28,
    "start_time": "2022-05-24T14:04:02.841Z"
   },
   {
    "duration": 34,
    "start_time": "2022-05-24T14:04:02.872Z"
   },
   {
    "duration": 4,
    "start_time": "2022-05-24T14:04:02.908Z"
   },
   {
    "duration": 72,
    "start_time": "2022-05-24T14:04:02.914Z"
   },
   {
    "duration": 12,
    "start_time": "2022-05-24T14:04:02.987Z"
   },
   {
    "duration": 85,
    "start_time": "2022-05-24T14:04:03.000Z"
   },
   {
    "duration": 39,
    "start_time": "2022-05-24T14:04:03.086Z"
   },
   {
    "duration": 19,
    "start_time": "2022-05-24T14:04:03.127Z"
   },
   {
    "duration": 104,
    "start_time": "2022-05-24T14:04:03.147Z"
   },
   {
    "duration": 888,
    "start_time": "2022-05-24T14:04:03.252Z"
   },
   {
    "duration": 4,
    "start_time": "2022-05-24T14:04:04.142Z"
   },
   {
    "duration": 598,
    "start_time": "2022-05-24T14:04:04.148Z"
   },
   {
    "duration": 4,
    "start_time": "2022-05-24T14:04:04.748Z"
   },
   {
    "duration": 154,
    "start_time": "2022-05-24T14:04:04.753Z"
   },
   {
    "duration": 1269,
    "start_time": "2022-05-24T14:14:29.481Z"
   },
   {
    "duration": 1045,
    "start_time": "2022-05-24T14:14:30.753Z"
   },
   {
    "duration": 5,
    "start_time": "2022-05-24T14:14:31.800Z"
   },
   {
    "duration": 1487,
    "start_time": "2022-05-24T14:14:31.806Z"
   },
   {
    "duration": 631,
    "start_time": "2022-05-24T14:14:33.296Z"
   },
   {
    "duration": 51,
    "start_time": "2022-05-24T14:14:33.929Z"
   },
   {
    "duration": 14,
    "start_time": "2022-05-24T14:14:33.982Z"
   },
   {
    "duration": 41,
    "start_time": "2022-05-24T14:14:33.999Z"
   },
   {
    "duration": 95,
    "start_time": "2022-05-24T14:14:34.042Z"
   },
   {
    "duration": 11,
    "start_time": "2022-05-24T14:14:34.139Z"
   },
   {
    "duration": 57,
    "start_time": "2022-05-24T14:14:34.152Z"
   },
   {
    "duration": 50,
    "start_time": "2022-05-24T14:14:34.211Z"
   },
   {
    "duration": 128,
    "start_time": "2022-05-24T14:14:34.263Z"
   },
   {
    "duration": 57,
    "start_time": "2022-05-24T14:14:34.394Z"
   },
   {
    "duration": 39,
    "start_time": "2022-05-24T14:14:34.452Z"
   },
   {
    "duration": 39,
    "start_time": "2022-05-24T14:14:34.493Z"
   },
   {
    "duration": 50,
    "start_time": "2022-05-24T14:14:34.534Z"
   },
   {
    "duration": 41,
    "start_time": "2022-05-24T14:14:34.589Z"
   },
   {
    "duration": 45,
    "start_time": "2022-05-24T14:14:34.632Z"
   },
   {
    "duration": 40,
    "start_time": "2022-05-24T14:14:34.680Z"
   },
   {
    "duration": 18,
    "start_time": "2022-05-24T14:14:34.722Z"
   },
   {
    "duration": 104,
    "start_time": "2022-05-24T14:14:34.742Z"
   },
   {
    "duration": 10,
    "start_time": "2022-05-24T14:14:34.848Z"
   },
   {
    "duration": 743,
    "start_time": "2022-05-24T14:14:34.866Z"
   },
   {
    "duration": 127,
    "start_time": "2022-05-24T14:14:35.611Z"
   },
   {
    "duration": 9,
    "start_time": "2022-05-24T14:14:35.740Z"
   },
   {
    "duration": 36,
    "start_time": "2022-05-24T14:14:35.766Z"
   },
   {
    "duration": 135,
    "start_time": "2022-05-24T14:14:35.804Z"
   },
   {
    "duration": 7,
    "start_time": "2022-05-24T14:14:35.940Z"
   },
   {
    "duration": 55,
    "start_time": "2022-05-24T14:14:35.949Z"
   },
   {
    "duration": 11,
    "start_time": "2022-05-24T14:14:36.006Z"
   },
   {
    "duration": 15,
    "start_time": "2022-05-24T14:14:36.019Z"
   },
   {
    "duration": 10,
    "start_time": "2022-05-24T14:14:36.036Z"
   },
   {
    "duration": 80,
    "start_time": "2022-05-24T14:14:36.048Z"
   },
   {
    "duration": 12,
    "start_time": "2022-05-24T14:14:36.129Z"
   },
   {
    "duration": 45,
    "start_time": "2022-05-24T14:14:36.143Z"
   },
   {
    "duration": 14,
    "start_time": "2022-05-24T14:14:36.190Z"
   },
   {
    "duration": 5,
    "start_time": "2022-05-24T14:14:36.206Z"
   },
   {
    "duration": 95,
    "start_time": "2022-05-24T14:14:36.213Z"
   },
   {
    "duration": 873,
    "start_time": "2022-05-24T14:14:36.310Z"
   },
   {
    "duration": 4,
    "start_time": "2022-05-24T14:14:37.187Z"
   },
   {
    "duration": 604,
    "start_time": "2022-05-24T14:14:37.192Z"
   },
   {
    "duration": 5,
    "start_time": "2022-05-24T14:14:37.798Z"
   },
   {
    "duration": 137,
    "start_time": "2022-05-24T14:14:37.804Z"
   },
   {
    "duration": 3,
    "start_time": "2022-05-24T14:14:47.723Z"
   },
   {
    "duration": 829,
    "start_time": "2022-05-24T14:14:47.729Z"
   },
   {
    "duration": 11,
    "start_time": "2022-05-24T14:14:48.560Z"
   },
   {
    "duration": 1251,
    "start_time": "2022-05-24T14:14:48.573Z"
   },
   {
    "duration": 522,
    "start_time": "2022-05-24T14:14:49.826Z"
   },
   {
    "duration": 49,
    "start_time": "2022-05-24T14:14:50.350Z"
   },
   {
    "duration": 11,
    "start_time": "2022-05-24T14:14:50.400Z"
   },
   {
    "duration": 31,
    "start_time": "2022-05-24T14:14:50.412Z"
   },
   {
    "duration": 98,
    "start_time": "2022-05-24T14:14:50.445Z"
   },
   {
    "duration": 20,
    "start_time": "2022-05-24T14:14:50.546Z"
   },
   {
    "duration": 44,
    "start_time": "2022-05-24T14:14:50.573Z"
   },
   {
    "duration": 65,
    "start_time": "2022-05-24T14:14:50.619Z"
   },
   {
    "duration": 117,
    "start_time": "2022-05-24T14:14:50.686Z"
   },
   {
    "duration": 80,
    "start_time": "2022-05-24T14:14:50.804Z"
   },
   {
    "duration": 18,
    "start_time": "2022-05-24T14:14:50.886Z"
   },
   {
    "duration": 37,
    "start_time": "2022-05-24T14:14:50.906Z"
   },
   {
    "duration": 63,
    "start_time": "2022-05-24T14:14:50.944Z"
   },
   {
    "duration": 26,
    "start_time": "2022-05-24T14:14:51.009Z"
   },
   {
    "duration": 70,
    "start_time": "2022-05-24T14:14:51.037Z"
   },
   {
    "duration": 42,
    "start_time": "2022-05-24T14:14:51.109Z"
   },
   {
    "duration": 40,
    "start_time": "2022-05-24T14:14:51.152Z"
   },
   {
    "duration": 95,
    "start_time": "2022-05-24T14:14:51.194Z"
   },
   {
    "duration": 11,
    "start_time": "2022-05-24T14:14:51.290Z"
   },
   {
    "duration": 777,
    "start_time": "2022-05-24T14:14:51.303Z"
   },
   {
    "duration": 242,
    "start_time": "2022-05-24T14:14:52.082Z"
   },
   {
    "duration": 10,
    "start_time": "2022-05-24T14:14:52.326Z"
   },
   {
    "duration": 47,
    "start_time": "2022-05-24T14:14:52.338Z"
   },
   {
    "duration": 138,
    "start_time": "2022-05-24T14:14:52.390Z"
   },
   {
    "duration": 9,
    "start_time": "2022-05-24T14:14:52.530Z"
   },
   {
    "duration": 54,
    "start_time": "2022-05-24T14:14:52.541Z"
   },
   {
    "duration": 14,
    "start_time": "2022-05-24T14:14:52.596Z"
   },
   {
    "duration": 19,
    "start_time": "2022-05-24T14:14:52.612Z"
   },
   {
    "duration": 10,
    "start_time": "2022-05-24T14:14:52.633Z"
   },
   {
    "duration": 84,
    "start_time": "2022-05-24T14:14:52.644Z"
   },
   {
    "duration": 12,
    "start_time": "2022-05-24T14:14:52.729Z"
   },
   {
    "duration": 40,
    "start_time": "2022-05-24T14:14:52.742Z"
   },
   {
    "duration": 15,
    "start_time": "2022-05-24T14:14:52.784Z"
   },
   {
    "duration": 6,
    "start_time": "2022-05-24T14:14:52.800Z"
   },
   {
    "duration": 95,
    "start_time": "2022-05-24T14:14:52.808Z"
   },
   {
    "duration": 917,
    "start_time": "2022-05-24T14:14:52.905Z"
   },
   {
    "duration": 3,
    "start_time": "2022-05-24T14:14:53.824Z"
   },
   {
    "duration": 614,
    "start_time": "2022-05-24T14:14:53.829Z"
   },
   {
    "duration": 5,
    "start_time": "2022-05-24T14:14:54.445Z"
   },
   {
    "duration": 133,
    "start_time": "2022-05-24T14:14:54.451Z"
   },
   {
    "duration": 210822,
    "start_time": "2022-05-24T14:14:54.587Z"
   },
   {
    "duration": 319396,
    "start_time": "2022-05-24T14:20:46.592Z"
   },
   {
    "duration": 183599,
    "start_time": "2022-05-24T14:28:38.880Z"
   },
   {
    "duration": 239142,
    "start_time": "2022-05-24T14:32:22.032Z"
   },
   {
    "duration": 290329,
    "start_time": "2022-05-24T14:40:06.699Z"
   },
   {
    "duration": 431635,
    "start_time": "2022-05-24T14:51:15.636Z"
   },
   {
    "duration": 1780,
    "start_time": "2022-05-25T08:34:17.892Z"
   },
   {
    "duration": 3207,
    "start_time": "2022-05-25T08:34:19.675Z"
   },
   {
    "duration": 4,
    "start_time": "2022-05-25T08:34:22.884Z"
   },
   {
    "duration": 1201,
    "start_time": "2022-05-25T08:34:22.890Z"
   },
   {
    "duration": 509,
    "start_time": "2022-05-25T08:34:24.092Z"
   },
   {
    "duration": 41,
    "start_time": "2022-05-25T08:34:24.603Z"
   },
   {
    "duration": 29,
    "start_time": "2022-05-25T08:34:24.646Z"
   },
   {
    "duration": 55,
    "start_time": "2022-05-25T08:34:24.676Z"
   },
   {
    "duration": 86,
    "start_time": "2022-05-25T08:34:24.733Z"
   },
   {
    "duration": 10,
    "start_time": "2022-05-25T08:34:24.822Z"
   },
   {
    "duration": 47,
    "start_time": "2022-05-25T08:34:24.834Z"
   },
   {
    "duration": 53,
    "start_time": "2022-05-25T08:34:24.882Z"
   },
   {
    "duration": 105,
    "start_time": "2022-05-25T08:34:24.936Z"
   },
   {
    "duration": 56,
    "start_time": "2022-05-25T08:34:25.042Z"
   },
   {
    "duration": 19,
    "start_time": "2022-05-25T08:34:25.111Z"
   },
   {
    "duration": 53,
    "start_time": "2022-05-25T08:34:25.132Z"
   },
   {
    "duration": 49,
    "start_time": "2022-05-25T08:34:25.186Z"
   },
   {
    "duration": 24,
    "start_time": "2022-05-25T08:34:25.236Z"
   },
   {
    "duration": 46,
    "start_time": "2022-05-25T08:34:25.262Z"
   },
   {
    "duration": 69,
    "start_time": "2022-05-25T08:34:25.311Z"
   },
   {
    "duration": 17,
    "start_time": "2022-05-25T08:34:25.382Z"
   },
   {
    "duration": 89,
    "start_time": "2022-05-25T08:34:25.402Z"
   },
   {
    "duration": 35,
    "start_time": "2022-05-25T08:34:25.492Z"
   },
   {
    "duration": 648,
    "start_time": "2022-05-25T08:34:25.529Z"
   },
   {
    "duration": 117,
    "start_time": "2022-05-25T08:34:26.179Z"
   },
   {
    "duration": 15,
    "start_time": "2022-05-25T08:34:26.297Z"
   },
   {
    "duration": 29,
    "start_time": "2022-05-25T08:34:26.313Z"
   },
   {
    "duration": 127,
    "start_time": "2022-05-25T08:34:26.345Z"
   },
   {
    "duration": 7,
    "start_time": "2022-05-25T08:34:26.473Z"
   },
   {
    "duration": 40,
    "start_time": "2022-05-25T08:34:26.481Z"
   },
   {
    "duration": 10,
    "start_time": "2022-05-25T08:34:26.523Z"
   },
   {
    "duration": 11,
    "start_time": "2022-05-25T08:34:26.535Z"
   },
   {
    "duration": 4,
    "start_time": "2022-05-25T08:34:26.547Z"
   },
   {
    "duration": 78,
    "start_time": "2022-05-25T08:34:26.553Z"
   },
   {
    "duration": 11,
    "start_time": "2022-05-25T08:34:26.633Z"
   },
   {
    "duration": 26,
    "start_time": "2022-05-25T08:34:26.645Z"
   },
   {
    "duration": 13,
    "start_time": "2022-05-25T08:34:26.673Z"
   },
   {
    "duration": 7,
    "start_time": "2022-05-25T08:34:26.688Z"
   },
   {
    "duration": 72,
    "start_time": "2022-05-25T08:34:26.712Z"
   },
   {
    "duration": 815,
    "start_time": "2022-05-25T08:34:26.786Z"
   },
   {
    "duration": 3,
    "start_time": "2022-05-25T08:34:27.603Z"
   },
   {
    "duration": 529,
    "start_time": "2022-05-25T08:34:27.608Z"
   },
   {
    "duration": 5,
    "start_time": "2022-05-25T08:34:28.139Z"
   },
   {
    "duration": 137,
    "start_time": "2022-05-25T08:34:28.145Z"
   },
   {
    "duration": 532512,
    "start_time": "2022-05-25T08:34:28.284Z"
   },
   {
    "duration": 1164,
    "start_time": "2022-05-25T10:30:28.305Z"
   },
   {
    "duration": 920,
    "start_time": "2022-05-25T10:30:29.472Z"
   },
   {
    "duration": 5,
    "start_time": "2022-05-25T10:30:30.393Z"
   },
   {
    "duration": 1377,
    "start_time": "2022-05-25T10:30:30.400Z"
   },
   {
    "duration": 601,
    "start_time": "2022-05-25T10:30:31.779Z"
   },
   {
    "duration": 49,
    "start_time": "2022-05-25T10:30:32.382Z"
   },
   {
    "duration": 18,
    "start_time": "2022-05-25T10:30:32.433Z"
   },
   {
    "duration": 44,
    "start_time": "2022-05-25T10:30:32.453Z"
   },
   {
    "duration": 85,
    "start_time": "2022-05-25T10:30:32.499Z"
   },
   {
    "duration": 11,
    "start_time": "2022-05-25T10:30:32.587Z"
   },
   {
    "duration": 43,
    "start_time": "2022-05-25T10:30:32.600Z"
   },
   {
    "duration": 48,
    "start_time": "2022-05-25T10:30:32.645Z"
   },
   {
    "duration": 133,
    "start_time": "2022-05-25T10:30:32.695Z"
   },
   {
    "duration": 57,
    "start_time": "2022-05-25T10:30:32.830Z"
   },
   {
    "duration": 36,
    "start_time": "2022-05-25T10:30:32.889Z"
   },
   {
    "duration": 42,
    "start_time": "2022-05-25T10:30:32.927Z"
   },
   {
    "duration": 62,
    "start_time": "2022-05-25T10:30:32.971Z"
   },
   {
    "duration": 33,
    "start_time": "2022-05-25T10:30:33.035Z"
   },
   {
    "duration": 54,
    "start_time": "2022-05-25T10:30:33.070Z"
   },
   {
    "duration": 44,
    "start_time": "2022-05-25T10:30:33.131Z"
   },
   {
    "duration": 21,
    "start_time": "2022-05-25T10:30:33.176Z"
   },
   {
    "duration": 105,
    "start_time": "2022-05-25T10:30:33.199Z"
   },
   {
    "duration": 17,
    "start_time": "2022-05-25T10:30:33.305Z"
   },
   {
    "duration": 709,
    "start_time": "2022-05-25T10:30:33.326Z"
   },
   {
    "duration": 125,
    "start_time": "2022-05-25T10:30:34.037Z"
   },
   {
    "duration": 10,
    "start_time": "2022-05-25T10:30:34.164Z"
   },
   {
    "duration": 55,
    "start_time": "2022-05-25T10:30:34.176Z"
   },
   {
    "duration": 123,
    "start_time": "2022-05-25T10:30:34.236Z"
   },
   {
    "duration": 9,
    "start_time": "2022-05-25T10:30:34.362Z"
   },
   {
    "duration": 55,
    "start_time": "2022-05-25T10:30:34.372Z"
   },
   {
    "duration": 24,
    "start_time": "2022-05-25T10:30:34.428Z"
   },
   {
    "duration": 34,
    "start_time": "2022-05-25T10:30:34.454Z"
   },
   {
    "duration": 35,
    "start_time": "2022-05-25T10:30:34.490Z"
   },
   {
    "duration": 71,
    "start_time": "2022-05-25T10:30:34.527Z"
   },
   {
    "duration": 15,
    "start_time": "2022-05-25T10:30:34.600Z"
   },
   {
    "duration": 30,
    "start_time": "2022-05-25T10:30:34.626Z"
   },
   {
    "duration": 34,
    "start_time": "2022-05-25T10:30:34.658Z"
   },
   {
    "duration": 20,
    "start_time": "2022-05-25T10:30:34.694Z"
   },
   {
    "duration": 91,
    "start_time": "2022-05-25T10:30:34.716Z"
   },
   {
    "duration": 915,
    "start_time": "2022-05-25T10:30:34.809Z"
   },
   {
    "duration": 5,
    "start_time": "2022-05-25T10:30:35.726Z"
   },
   {
    "duration": 592,
    "start_time": "2022-05-25T10:30:35.733Z"
   },
   {
    "duration": 4,
    "start_time": "2022-05-25T10:30:36.327Z"
   },
   {
    "duration": 122,
    "start_time": "2022-05-25T10:30:36.332Z"
   },
   {
    "duration": 539829,
    "start_time": "2022-05-25T10:30:36.456Z"
   },
   {
    "duration": 2144562,
    "start_time": "2022-05-25T10:39:36.287Z"
   },
   {
    "duration": 34000,
    "start_time": "2022-05-25T11:23:50.722Z"
   },
   {
    "duration": 4,
    "start_time": "2022-05-25T11:38:25.719Z"
   },
   {
    "duration": 840,
    "start_time": "2022-05-25T11:38:25.725Z"
   },
   {
    "duration": 4,
    "start_time": "2022-05-25T11:38:26.568Z"
   },
   {
    "duration": 1141,
    "start_time": "2022-05-25T11:38:26.575Z"
   },
   {
    "duration": 488,
    "start_time": "2022-05-25T11:38:27.719Z"
   },
   {
    "duration": 39,
    "start_time": "2022-05-25T11:38:28.209Z"
   },
   {
    "duration": 11,
    "start_time": "2022-05-25T11:38:28.250Z"
   },
   {
    "duration": 54,
    "start_time": "2022-05-25T11:38:28.263Z"
   },
   {
    "duration": 79,
    "start_time": "2022-05-25T11:38:28.319Z"
   },
   {
    "duration": 27,
    "start_time": "2022-05-25T11:38:28.399Z"
   },
   {
    "duration": 40,
    "start_time": "2022-05-25T11:38:28.427Z"
   },
   {
    "duration": 71,
    "start_time": "2022-05-25T11:38:28.469Z"
   },
   {
    "duration": 114,
    "start_time": "2022-05-25T11:38:28.543Z"
   },
   {
    "duration": 69,
    "start_time": "2022-05-25T11:38:28.659Z"
   },
   {
    "duration": 18,
    "start_time": "2022-05-25T11:38:28.730Z"
   },
   {
    "duration": 33,
    "start_time": "2022-05-25T11:38:28.750Z"
   },
   {
    "duration": 59,
    "start_time": "2022-05-25T11:38:28.785Z"
   },
   {
    "duration": 35,
    "start_time": "2022-05-25T11:38:28.846Z"
   },
   {
    "duration": 54,
    "start_time": "2022-05-25T11:38:28.883Z"
   },
   {
    "duration": 55,
    "start_time": "2022-05-25T11:38:28.939Z"
   },
   {
    "duration": 33,
    "start_time": "2022-05-25T11:38:28.996Z"
   },
   {
    "duration": 91,
    "start_time": "2022-05-25T11:38:29.031Z"
   },
   {
    "duration": 11,
    "start_time": "2022-05-25T11:38:29.124Z"
   },
   {
    "duration": 691,
    "start_time": "2022-05-25T11:38:29.136Z"
   },
   {
    "duration": 214,
    "start_time": "2022-05-25T11:38:29.829Z"
   },
   {
    "duration": 11,
    "start_time": "2022-05-25T11:38:30.045Z"
   },
   {
    "duration": 60,
    "start_time": "2022-05-25T11:38:30.058Z"
   },
   {
    "duration": 129,
    "start_time": "2022-05-25T11:38:30.121Z"
   },
   {
    "duration": 9,
    "start_time": "2022-05-25T11:38:30.251Z"
   },
   {
    "duration": 31,
    "start_time": "2022-05-25T11:38:30.261Z"
   },
   {
    "duration": 26,
    "start_time": "2022-05-25T11:38:30.294Z"
   },
   {
    "duration": 12,
    "start_time": "2022-05-25T11:38:30.322Z"
   },
   {
    "duration": 4,
    "start_time": "2022-05-25T11:38:30.336Z"
   },
   {
    "duration": 78,
    "start_time": "2022-05-25T11:38:30.342Z"
   },
   {
    "duration": 12,
    "start_time": "2022-05-25T11:38:30.423Z"
   },
   {
    "duration": 30,
    "start_time": "2022-05-25T11:38:30.437Z"
   },
   {
    "duration": 25,
    "start_time": "2022-05-25T11:38:30.471Z"
   },
   {
    "duration": 27,
    "start_time": "2022-05-25T11:38:30.498Z"
   },
   {
    "duration": 97,
    "start_time": "2022-05-25T11:38:30.527Z"
   },
   {
    "duration": 1013,
    "start_time": "2022-05-25T11:38:30.625Z"
   },
   {
    "duration": 5,
    "start_time": "2022-05-25T11:38:31.640Z"
   },
   {
    "duration": 571,
    "start_time": "2022-05-25T11:38:31.648Z"
   },
   {
    "duration": 4,
    "start_time": "2022-05-25T11:38:32.221Z"
   },
   {
    "duration": 115,
    "start_time": "2022-05-25T11:38:32.227Z"
   },
   {
    "duration": 553694,
    "start_time": "2022-05-25T11:38:32.343Z"
   },
   {
    "duration": 3583622,
    "start_time": "2022-05-25T11:47:46.039Z"
   },
   {
    "duration": 26353,
    "start_time": "2022-05-25T12:47:29.663Z"
   },
   {
    "duration": 4,
    "start_time": "2022-05-25T12:54:43.226Z"
   },
   {
    "duration": 786,
    "start_time": "2022-05-25T12:54:43.232Z"
   },
   {
    "duration": 4,
    "start_time": "2022-05-25T12:54:44.020Z"
   },
   {
    "duration": 1096,
    "start_time": "2022-05-25T12:54:44.026Z"
   },
   {
    "duration": 447,
    "start_time": "2022-05-25T12:54:45.124Z"
   },
   {
    "duration": 43,
    "start_time": "2022-05-25T12:54:45.574Z"
   },
   {
    "duration": 12,
    "start_time": "2022-05-25T12:54:45.618Z"
   },
   {
    "duration": 48,
    "start_time": "2022-05-25T12:54:45.632Z"
   },
   {
    "duration": 96,
    "start_time": "2022-05-25T12:54:45.685Z"
   },
   {
    "duration": 11,
    "start_time": "2022-05-25T12:54:45.784Z"
   },
   {
    "duration": 46,
    "start_time": "2022-05-25T12:54:45.796Z"
   },
   {
    "duration": 51,
    "start_time": "2022-05-25T12:54:45.844Z"
   },
   {
    "duration": 132,
    "start_time": "2022-05-25T12:54:45.897Z"
   },
   {
    "duration": 71,
    "start_time": "2022-05-25T12:54:46.031Z"
   },
   {
    "duration": 21,
    "start_time": "2022-05-25T12:54:46.113Z"
   },
   {
    "duration": 33,
    "start_time": "2022-05-25T12:54:46.136Z"
   },
   {
    "duration": 65,
    "start_time": "2022-05-25T12:54:46.171Z"
   },
   {
    "duration": 25,
    "start_time": "2022-05-25T12:54:46.238Z"
   },
   {
    "duration": 55,
    "start_time": "2022-05-25T12:54:46.265Z"
   },
   {
    "duration": 43,
    "start_time": "2022-05-25T12:54:46.322Z"
   },
   {
    "duration": 20,
    "start_time": "2022-05-25T12:54:46.378Z"
   },
   {
    "duration": 84,
    "start_time": "2022-05-25T12:54:46.400Z"
   },
   {
    "duration": 12,
    "start_time": "2022-05-25T12:54:46.486Z"
   },
   {
    "duration": 687,
    "start_time": "2022-05-25T12:54:46.499Z"
   },
   {
    "duration": 137,
    "start_time": "2022-05-25T12:54:47.188Z"
   },
   {
    "duration": 11,
    "start_time": "2022-05-25T12:54:47.327Z"
   },
   {
    "duration": 34,
    "start_time": "2022-05-25T12:54:47.340Z"
   },
   {
    "duration": 155,
    "start_time": "2022-05-25T12:54:47.378Z"
   },
   {
    "duration": 8,
    "start_time": "2022-05-25T12:54:47.534Z"
   },
   {
    "duration": 51,
    "start_time": "2022-05-25T12:54:47.544Z"
   },
   {
    "duration": 17,
    "start_time": "2022-05-25T12:54:47.597Z"
   },
   {
    "duration": 15,
    "start_time": "2022-05-25T12:54:47.616Z"
   },
   {
    "duration": 7,
    "start_time": "2022-05-25T12:54:47.633Z"
   },
   {
    "duration": 81,
    "start_time": "2022-05-25T12:54:47.642Z"
   },
   {
    "duration": 14,
    "start_time": "2022-05-25T12:54:47.726Z"
   },
   {
    "duration": 29,
    "start_time": "2022-05-25T12:54:47.742Z"
   },
   {
    "duration": 15,
    "start_time": "2022-05-25T12:54:47.773Z"
   },
   {
    "duration": 7,
    "start_time": "2022-05-25T12:54:47.790Z"
   },
   {
    "duration": 78,
    "start_time": "2022-05-25T12:54:47.812Z"
   },
   {
    "duration": 969,
    "start_time": "2022-05-25T12:54:47.892Z"
   },
   {
    "duration": 4,
    "start_time": "2022-05-25T12:54:48.863Z"
   },
   {
    "duration": 538,
    "start_time": "2022-05-25T12:54:48.869Z"
   },
   {
    "duration": 5,
    "start_time": "2022-05-25T12:54:49.409Z"
   },
   {
    "duration": 121,
    "start_time": "2022-05-25T12:54:49.415Z"
   },
   {
    "duration": 534451,
    "start_time": "2022-05-25T12:54:49.539Z"
   },
   {
    "duration": 3367709,
    "start_time": "2022-05-25T13:03:43.992Z"
   },
   {
    "duration": 34318,
    "start_time": "2022-05-25T13:59:51.704Z"
   },
   {
    "duration": 3,
    "start_time": "2022-05-25T14:03:02.161Z"
   },
   {
    "duration": 423,
    "start_time": "2022-05-25T14:03:12.860Z"
   },
   {
    "duration": 6,
    "start_time": "2022-05-25T14:03:28.814Z"
   },
   {
    "duration": 5,
    "start_time": "2022-05-25T14:03:34.796Z"
   },
   {
    "duration": 74,
    "start_time": "2022-05-25T14:17:42.004Z"
   },
   {
    "duration": 37,
    "start_time": "2022-05-25T14:17:53.034Z"
   },
   {
    "duration": 1454952,
    "start_time": "2022-05-25T14:21:43.484Z"
   },
   {
    "duration": 5561261,
    "start_time": "2022-05-25T14:49:06.471Z"
   },
   {
    "duration": 1560,
    "start_time": "2022-05-26T06:09:23.289Z"
   },
   {
    "duration": 1582,
    "start_time": "2022-05-26T06:09:24.852Z"
   },
   {
    "duration": 8,
    "start_time": "2022-05-26T06:09:26.437Z"
   },
   {
    "duration": 1560,
    "start_time": "2022-05-26T06:09:26.447Z"
   },
   {
    "duration": 590,
    "start_time": "2022-05-26T06:09:28.009Z"
   },
   {
    "duration": 40,
    "start_time": "2022-05-26T06:09:28.600Z"
   },
   {
    "duration": 14,
    "start_time": "2022-05-26T06:09:28.642Z"
   },
   {
    "duration": 56,
    "start_time": "2022-05-26T06:09:28.658Z"
   },
   {
    "duration": 71,
    "start_time": "2022-05-26T06:09:28.716Z"
   },
   {
    "duration": 13,
    "start_time": "2022-05-26T06:09:28.794Z"
   },
   {
    "duration": 63,
    "start_time": "2022-05-26T06:09:28.809Z"
   },
   {
    "duration": 77,
    "start_time": "2022-05-26T06:09:28.875Z"
   },
   {
    "duration": 197,
    "start_time": "2022-05-26T06:09:28.954Z"
   },
   {
    "duration": 89,
    "start_time": "2022-05-26T06:09:29.155Z"
   },
   {
    "duration": 30,
    "start_time": "2022-05-26T06:09:29.246Z"
   },
   {
    "duration": 89,
    "start_time": "2022-05-26T06:09:29.278Z"
   },
   {
    "duration": 58,
    "start_time": "2022-05-26T06:09:29.369Z"
   },
   {
    "duration": 38,
    "start_time": "2022-05-26T06:09:29.429Z"
   },
   {
    "duration": 65,
    "start_time": "2022-05-26T06:09:29.469Z"
   },
   {
    "duration": 77,
    "start_time": "2022-05-26T06:09:29.536Z"
   },
   {
    "duration": 19,
    "start_time": "2022-05-26T06:09:29.616Z"
   },
   {
    "duration": 82,
    "start_time": "2022-05-26T06:09:29.637Z"
   },
   {
    "duration": 16,
    "start_time": "2022-05-26T06:09:29.721Z"
   },
   {
    "duration": 754,
    "start_time": "2022-05-26T06:09:29.738Z"
   },
   {
    "duration": 123,
    "start_time": "2022-05-26T06:09:30.500Z"
   },
   {
    "duration": 13,
    "start_time": "2022-05-26T06:09:30.625Z"
   },
   {
    "duration": 40,
    "start_time": "2022-05-26T06:09:30.640Z"
   },
   {
    "duration": 134,
    "start_time": "2022-05-26T06:09:30.697Z"
   },
   {
    "duration": 9,
    "start_time": "2022-05-26T06:09:30.833Z"
   },
   {
    "duration": 59,
    "start_time": "2022-05-26T06:09:30.844Z"
   },
   {
    "duration": 16,
    "start_time": "2022-05-26T06:09:30.905Z"
   },
   {
    "duration": 21,
    "start_time": "2022-05-26T06:09:30.923Z"
   },
   {
    "duration": 6,
    "start_time": "2022-05-26T06:09:30.946Z"
   },
   {
    "duration": 77,
    "start_time": "2022-05-26T06:09:30.954Z"
   },
   {
    "duration": 17,
    "start_time": "2022-05-26T06:09:31.033Z"
   },
   {
    "duration": 33,
    "start_time": "2022-05-26T06:09:31.053Z"
   },
   {
    "duration": 47,
    "start_time": "2022-05-26T06:09:31.087Z"
   },
   {
    "duration": 8,
    "start_time": "2022-05-26T06:09:31.136Z"
   },
   {
    "duration": 91,
    "start_time": "2022-05-26T06:09:31.146Z"
   },
   {
    "duration": 893,
    "start_time": "2022-05-26T06:09:31.239Z"
   },
   {
    "duration": 8,
    "start_time": "2022-05-26T06:09:32.136Z"
   },
   {
    "duration": 645,
    "start_time": "2022-05-26T06:09:32.146Z"
   },
   {
    "duration": 14,
    "start_time": "2022-05-26T06:09:32.796Z"
   },
   {
    "duration": 134,
    "start_time": "2022-05-26T06:09:32.814Z"
   },
   {
    "duration": 10878668,
    "start_time": "2022-05-26T06:10:55.561Z"
   },
   {
    "duration": 22,
    "start_time": "2022-05-26T10:02:00.262Z"
   },
   {
    "duration": 28,
    "start_time": "2022-05-26T10:02:53.209Z"
   },
   {
    "duration": 39,
    "start_time": "2022-05-26T10:03:48.183Z"
   },
   {
    "duration": 55,
    "start_time": "2022-05-26T10:04:34.351Z"
   },
   {
    "duration": 52,
    "start_time": "2022-05-26T10:04:46.273Z"
   },
   {
    "duration": 42,
    "start_time": "2022-05-26T10:04:52.735Z"
   },
   {
    "duration": 28,
    "start_time": "2022-05-26T10:05:06.151Z"
   },
   {
    "duration": 32,
    "start_time": "2022-05-26T10:05:26.241Z"
   },
   {
    "duration": 124,
    "start_time": "2022-05-26T10:05:48.831Z"
   },
   {
    "duration": 12,
    "start_time": "2022-05-26T10:05:56.031Z"
   },
   {
    "duration": 11,
    "start_time": "2022-05-26T10:06:05.022Z"
   },
   {
    "duration": 20,
    "start_time": "2022-05-26T10:06:08.542Z"
   },
   {
    "duration": 10,
    "start_time": "2022-05-26T10:06:27.758Z"
   },
   {
    "duration": 582403,
    "start_time": "2022-05-26T10:06:49.643Z"
   },
   {
    "duration": 5,
    "start_time": "2022-05-26T10:16:32.049Z"
   },
   {
    "duration": 13,
    "start_time": "2022-05-26T10:17:29.513Z"
   },
   {
    "duration": 13,
    "start_time": "2022-05-26T10:17:32.592Z"
   },
   {
    "duration": 8,
    "start_time": "2022-05-26T10:17:33.342Z"
   },
   {
    "duration": 5,
    "start_time": "2022-05-26T10:17:48.487Z"
   },
   {
    "duration": 4,
    "start_time": "2022-05-26T10:18:00.830Z"
   },
   {
    "duration": 4,
    "start_time": "2022-05-26T10:18:11.646Z"
   },
   {
    "duration": 19,
    "start_time": "2022-05-26T10:18:31.392Z"
   },
   {
    "duration": 27,
    "start_time": "2022-05-26T10:18:39.871Z"
   },
   {
    "duration": 13,
    "start_time": "2022-05-26T10:19:11.070Z"
   },
   {
    "duration": 10,
    "start_time": "2022-05-26T10:19:11.728Z"
   },
   {
    "duration": 5,
    "start_time": "2022-05-26T10:19:16.638Z"
   },
   {
    "duration": 10,
    "start_time": "2022-05-26T10:19:17.871Z"
   },
   {
    "duration": 8,
    "start_time": "2022-05-26T10:19:54.848Z"
   },
   {
    "duration": 11,
    "start_time": "2022-05-26T10:19:55.609Z"
   },
   {
    "duration": 4,
    "start_time": "2022-05-26T10:20:30.255Z"
   },
   {
    "duration": 8,
    "start_time": "2022-05-26T10:20:38.241Z"
   },
   {
    "duration": 5,
    "start_time": "2022-05-26T10:22:34.159Z"
   },
   {
    "duration": 15,
    "start_time": "2022-05-26T10:22:34.792Z"
   },
   {
    "duration": 7,
    "start_time": "2022-05-26T10:23:15.791Z"
   },
   {
    "duration": 13,
    "start_time": "2022-05-26T10:23:17.086Z"
   },
   {
    "duration": 10,
    "start_time": "2022-05-26T10:23:29.919Z"
   },
   {
    "duration": 9,
    "start_time": "2022-05-26T10:23:30.788Z"
   },
   {
    "duration": 9,
    "start_time": "2022-05-26T10:23:58.625Z"
   },
   {
    "duration": 14,
    "start_time": "2022-05-26T10:24:04.658Z"
   },
   {
    "duration": 11,
    "start_time": "2022-05-26T10:24:10.160Z"
   },
   {
    "duration": 6,
    "start_time": "2022-05-26T10:24:11.647Z"
   },
   {
    "duration": 11,
    "start_time": "2022-05-26T10:24:12.128Z"
   },
   {
    "duration": 10,
    "start_time": "2022-05-26T10:24:20.464Z"
   },
   {
    "duration": 8,
    "start_time": "2022-05-26T10:24:24.808Z"
   },
   {
    "duration": 4,
    "start_time": "2022-05-26T10:25:24.480Z"
   },
   {
    "duration": 8,
    "start_time": "2022-05-26T10:25:24.912Z"
   },
   {
    "duration": 5,
    "start_time": "2022-05-26T10:29:01.185Z"
   },
   {
    "duration": 51,
    "start_time": "2022-05-26T10:38:52.004Z"
   },
   {
    "duration": 12,
    "start_time": "2022-05-26T10:39:26.017Z"
   },
   {
    "duration": 409,
    "start_time": "2022-05-26T10:39:49.522Z"
   },
   {
    "duration": 40541,
    "start_time": "2022-05-26T10:39:56.703Z"
   },
   {
    "duration": 163056,
    "start_time": "2022-05-26T10:41:51.510Z"
   },
   {
    "duration": 7,
    "start_time": "2022-05-26T10:45:57.635Z"
   },
   {
    "duration": 16,
    "start_time": "2022-05-26T10:45:58.971Z"
   },
   {
    "duration": 177574,
    "start_time": "2022-05-26T10:50:38.852Z"
   },
   {
    "duration": 5,
    "start_time": "2022-05-26T11:15:45.045Z"
   },
   {
    "duration": 14,
    "start_time": "2022-05-26T11:15:46.290Z"
   },
   {
    "duration": 141,
    "start_time": "2022-05-26T11:46:26.875Z"
   },
   {
    "duration": 184496,
    "start_time": "2022-05-26T11:50:30.140Z"
   },
   {
    "duration": 183805,
    "start_time": "2022-05-26T11:54:21.181Z"
   },
   {
    "duration": 930864,
    "start_time": "2022-05-26T11:59:04.270Z"
   },
   {
    "duration": 6,
    "start_time": "2022-05-26T12:30:14.988Z"
   },
   {
    "duration": 10,
    "start_time": "2022-05-26T12:30:15.978Z"
   },
   {
    "duration": 298,
    "start_time": "2022-05-26T12:30:36.068Z"
   },
   {
    "duration": 25,
    "start_time": "2022-05-27T06:27:46.576Z"
   },
   {
    "duration": 1977,
    "start_time": "2022-05-27T06:33:02.616Z"
   },
   {
    "duration": 1306,
    "start_time": "2022-05-27T06:33:04.596Z"
   },
   {
    "duration": 5,
    "start_time": "2022-05-27T06:33:05.904Z"
   },
   {
    "duration": 1285,
    "start_time": "2022-05-27T06:33:05.912Z"
   },
   {
    "duration": 561,
    "start_time": "2022-05-27T06:33:07.199Z"
   },
   {
    "duration": 41,
    "start_time": "2022-05-27T06:33:07.772Z"
   },
   {
    "duration": 13,
    "start_time": "2022-05-27T06:33:07.816Z"
   },
   {
    "duration": 91,
    "start_time": "2022-05-27T06:33:07.831Z"
   },
   {
    "duration": 13,
    "start_time": "2022-05-27T06:33:07.924Z"
   },
   {
    "duration": 38,
    "start_time": "2022-05-27T06:33:07.951Z"
   },
   {
    "duration": 5,
    "start_time": "2022-05-27T06:33:07.991Z"
   },
   {
    "duration": 6,
    "start_time": "2022-05-27T06:34:01.107Z"
   },
   {
    "duration": 261,
    "start_time": "2022-05-27T06:35:56.487Z"
   },
   {
    "duration": 5,
    "start_time": "2022-05-27T06:36:18.584Z"
   },
   {
    "duration": 833,
    "start_time": "2022-05-27T06:36:18.593Z"
   },
   {
    "duration": 4,
    "start_time": "2022-05-27T06:36:19.429Z"
   },
   {
    "duration": 1297,
    "start_time": "2022-05-27T06:36:19.435Z"
   },
   {
    "duration": 90,
    "start_time": "2022-05-27T06:36:20.734Z"
   },
   {
    "duration": 13,
    "start_time": "2022-05-27T06:36:20.827Z"
   },
   {
    "duration": 69,
    "start_time": "2022-05-27T06:36:20.853Z"
   },
   {
    "duration": 6,
    "start_time": "2022-05-27T06:36:20.924Z"
   },
   {
    "duration": 512,
    "start_time": "2022-05-27T06:36:20.931Z"
   },
   {
    "duration": 38,
    "start_time": "2022-05-27T06:36:21.445Z"
   },
   {
    "duration": 13,
    "start_time": "2022-05-27T06:36:21.490Z"
   },
   {
    "duration": 28,
    "start_time": "2022-05-27T06:36:21.504Z"
   },
   {
    "duration": 62,
    "start_time": "2022-05-27T06:36:21.534Z"
   },
   {
    "duration": 124,
    "start_time": "2022-05-27T06:36:21.598Z"
   },
   {
    "duration": 72,
    "start_time": "2022-05-27T06:36:21.724Z"
   },
   {
    "duration": 35,
    "start_time": "2022-05-27T06:36:21.798Z"
   },
   {
    "duration": 5,
    "start_time": "2022-05-27T06:36:57.609Z"
   },
   {
    "duration": 870,
    "start_time": "2022-05-27T06:36:57.616Z"
   },
   {
    "duration": 6,
    "start_time": "2022-05-27T06:36:58.489Z"
   },
   {
    "duration": 1319,
    "start_time": "2022-05-27T06:36:58.497Z"
   },
   {
    "duration": 98,
    "start_time": "2022-05-27T06:36:59.818Z"
   },
   {
    "duration": 15,
    "start_time": "2022-05-27T06:36:59.917Z"
   },
   {
    "duration": 53,
    "start_time": "2022-05-27T06:36:59.934Z"
   },
   {
    "duration": 9,
    "start_time": "2022-05-27T06:36:59.989Z"
   },
   {
    "duration": 554,
    "start_time": "2022-05-27T06:37:00.000Z"
   },
   {
    "duration": 31,
    "start_time": "2022-05-27T06:37:00.560Z"
   },
   {
    "duration": 22,
    "start_time": "2022-05-27T06:37:00.593Z"
   },
   {
    "duration": 45,
    "start_time": "2022-05-27T06:37:00.617Z"
   },
   {
    "duration": 73,
    "start_time": "2022-05-27T06:37:00.669Z"
   },
   {
    "duration": 145,
    "start_time": "2022-05-27T06:37:00.744Z"
   },
   {
    "duration": 53,
    "start_time": "2022-05-27T06:37:00.890Z"
   },
   {
    "duration": 37,
    "start_time": "2022-05-27T06:37:00.944Z"
   },
   {
    "duration": 48,
    "start_time": "2022-05-27T06:37:00.982Z"
   },
   {
    "duration": 54,
    "start_time": "2022-05-27T06:37:01.031Z"
   },
   {
    "duration": 37,
    "start_time": "2022-05-27T06:37:01.086Z"
   },
   {
    "duration": 61,
    "start_time": "2022-05-27T06:37:01.125Z"
   },
   {
    "duration": 46,
    "start_time": "2022-05-27T06:37:01.188Z"
   },
   {
    "duration": 5,
    "start_time": "2022-05-27T06:38:37.581Z"
   },
   {
    "duration": 895,
    "start_time": "2022-05-27T06:38:37.589Z"
   },
   {
    "duration": 6,
    "start_time": "2022-05-27T06:38:38.486Z"
   },
   {
    "duration": 1220,
    "start_time": "2022-05-27T06:38:38.493Z"
   },
   {
    "duration": 105,
    "start_time": "2022-05-27T06:38:39.715Z"
   },
   {
    "duration": 13,
    "start_time": "2022-05-27T06:38:39.822Z"
   },
   {
    "duration": 49,
    "start_time": "2022-05-27T06:38:39.837Z"
   },
   {
    "duration": 8,
    "start_time": "2022-05-27T06:38:39.889Z"
   },
   {
    "duration": 537,
    "start_time": "2022-05-27T06:38:39.899Z"
   },
   {
    "duration": 41,
    "start_time": "2022-05-27T06:38:40.437Z"
   },
   {
    "duration": 13,
    "start_time": "2022-05-27T06:38:40.480Z"
   },
   {
    "duration": 23,
    "start_time": "2022-05-27T06:38:40.495Z"
   },
   {
    "duration": 67,
    "start_time": "2022-05-27T06:38:40.519Z"
   },
   {
    "duration": 129,
    "start_time": "2022-05-27T06:38:40.588Z"
   },
   {
    "duration": 77,
    "start_time": "2022-05-27T06:38:40.719Z"
   },
   {
    "duration": 18,
    "start_time": "2022-05-27T06:38:40.798Z"
   },
   {
    "duration": 59,
    "start_time": "2022-05-27T06:38:40.818Z"
   },
   {
    "duration": 34,
    "start_time": "2022-05-27T06:38:40.878Z"
   },
   {
    "duration": 24,
    "start_time": "2022-05-27T06:38:40.914Z"
   },
   {
    "duration": 57,
    "start_time": "2022-05-27T06:38:40.940Z"
   },
   {
    "duration": 38,
    "start_time": "2022-05-27T06:38:40.999Z"
   },
   {
    "duration": 45,
    "start_time": "2022-05-27T06:38:41.039Z"
   },
   {
    "duration": 91,
    "start_time": "2022-05-27T06:38:41.087Z"
   },
   {
    "duration": 15,
    "start_time": "2022-05-27T06:40:16.695Z"
   },
   {
    "duration": 4,
    "start_time": "2022-05-27T06:40:26.589Z"
   },
   {
    "duration": 806,
    "start_time": "2022-05-27T06:40:26.595Z"
   },
   {
    "duration": 5,
    "start_time": "2022-05-27T06:40:27.403Z"
   },
   {
    "duration": 1195,
    "start_time": "2022-05-27T06:40:27.410Z"
   },
   {
    "duration": 92,
    "start_time": "2022-05-27T06:40:28.608Z"
   },
   {
    "duration": 16,
    "start_time": "2022-05-27T06:40:28.702Z"
   },
   {
    "duration": 52,
    "start_time": "2022-05-27T06:40:28.720Z"
   },
   {
    "duration": 7,
    "start_time": "2022-05-27T06:40:28.774Z"
   },
   {
    "duration": 507,
    "start_time": "2022-05-27T06:40:28.783Z"
   },
   {
    "duration": 27,
    "start_time": "2022-05-27T06:40:29.292Z"
   },
   {
    "duration": 11,
    "start_time": "2022-05-27T06:40:29.321Z"
   },
   {
    "duration": 75,
    "start_time": "2022-05-27T06:40:29.333Z"
   },
   {
    "duration": 50,
    "start_time": "2022-05-27T06:40:29.411Z"
   },
   {
    "duration": 126,
    "start_time": "2022-05-27T06:40:29.466Z"
   },
   {
    "duration": 83,
    "start_time": "2022-05-27T06:40:29.594Z"
   },
   {
    "duration": 18,
    "start_time": "2022-05-27T06:40:29.686Z"
   },
   {
    "duration": 27,
    "start_time": "2022-05-27T06:40:29.707Z"
   },
   {
    "duration": 54,
    "start_time": "2022-05-27T06:40:29.736Z"
   },
   {
    "duration": 28,
    "start_time": "2022-05-27T06:40:29.792Z"
   },
   {
    "duration": 63,
    "start_time": "2022-05-27T06:40:29.822Z"
   },
   {
    "duration": 39,
    "start_time": "2022-05-27T06:40:29.886Z"
   },
   {
    "duration": 37,
    "start_time": "2022-05-27T06:40:29.928Z"
   },
   {
    "duration": 84,
    "start_time": "2022-05-27T06:40:29.975Z"
   },
   {
    "duration": 13,
    "start_time": "2022-05-27T06:40:30.060Z"
   },
   {
    "duration": 1208,
    "start_time": "2022-05-27T06:40:30.075Z"
   },
   {
    "duration": 139,
    "start_time": "2022-05-27T06:40:31.285Z"
   },
   {
    "duration": 10,
    "start_time": "2022-05-27T06:40:31.426Z"
   },
   {
    "duration": 49,
    "start_time": "2022-05-27T06:40:31.438Z"
   },
   {
    "duration": 144,
    "start_time": "2022-05-27T06:40:31.489Z"
   },
   {
    "duration": 7,
    "start_time": "2022-05-27T06:40:31.635Z"
   },
   {
    "duration": 40,
    "start_time": "2022-05-27T06:40:31.652Z"
   },
   {
    "duration": 21,
    "start_time": "2022-05-27T06:40:31.693Z"
   },
   {
    "duration": 21,
    "start_time": "2022-05-27T06:40:31.715Z"
   },
   {
    "duration": 8,
    "start_time": "2022-05-27T06:40:31.737Z"
   },
   {
    "duration": 71,
    "start_time": "2022-05-27T06:40:31.756Z"
   },
   {
    "duration": 13,
    "start_time": "2022-05-27T06:40:31.829Z"
   },
   {
    "duration": 65,
    "start_time": "2022-05-27T06:40:31.846Z"
   },
   {
    "duration": 28,
    "start_time": "2022-05-27T06:40:31.913Z"
   },
   {
    "duration": 8,
    "start_time": "2022-05-27T06:40:31.943Z"
   },
   {
    "duration": 132,
    "start_time": "2022-05-27T06:40:31.959Z"
   },
   {
    "duration": 15,
    "start_time": "2022-05-27T06:42:40.575Z"
   },
   {
    "duration": 12,
    "start_time": "2022-05-27T06:42:47.993Z"
   },
   {
    "duration": 12,
    "start_time": "2022-05-27T06:43:00.482Z"
   },
   {
    "duration": 14,
    "start_time": "2022-05-27T06:43:12.183Z"
   },
   {
    "duration": 28,
    "start_time": "2022-05-27T06:43:13.309Z"
   },
   {
    "duration": 45,
    "start_time": "2022-05-27T06:43:25.489Z"
   },
   {
    "duration": 14,
    "start_time": "2022-05-27T06:45:18.488Z"
   },
   {
    "duration": 14,
    "start_time": "2022-05-27T06:47:11.582Z"
   },
   {
    "duration": 14,
    "start_time": "2022-05-27T06:47:36.923Z"
   },
   {
    "duration": 56,
    "start_time": "2022-05-27T06:47:45.182Z"
   },
   {
    "duration": 14,
    "start_time": "2022-05-27T06:47:51.926Z"
   },
   {
    "duration": 13,
    "start_time": "2022-05-27T06:47:57.076Z"
   },
   {
    "duration": 15,
    "start_time": "2022-05-27T06:48:12.278Z"
   },
   {
    "duration": 19,
    "start_time": "2022-05-27T06:54:27.677Z"
   },
   {
    "duration": 20,
    "start_time": "2022-05-27T06:54:39.154Z"
   },
   {
    "duration": 14,
    "start_time": "2022-05-27T06:54:51.004Z"
   },
   {
    "duration": 14,
    "start_time": "2022-05-27T06:55:02.280Z"
   },
   {
    "duration": 45,
    "start_time": "2022-05-27T06:55:11.762Z"
   },
   {
    "duration": 16,
    "start_time": "2022-05-27T06:55:15.479Z"
   },
   {
    "duration": 13,
    "start_time": "2022-05-27T06:55:26.081Z"
   },
   {
    "duration": 16,
    "start_time": "2022-05-27T06:55:45.629Z"
   },
   {
    "duration": 33,
    "start_time": "2022-05-27T06:55:59.759Z"
   },
   {
    "duration": 35,
    "start_time": "2022-05-27T06:56:06.347Z"
   },
   {
    "duration": 8,
    "start_time": "2022-05-27T06:56:48.496Z"
   },
   {
    "duration": 928,
    "start_time": "2022-05-27T06:56:48.507Z"
   },
   {
    "duration": 5,
    "start_time": "2022-05-27T06:56:49.438Z"
   },
   {
    "duration": 1594,
    "start_time": "2022-05-27T06:56:49.445Z"
   },
   {
    "duration": 100,
    "start_time": "2022-05-27T06:56:51.042Z"
   },
   {
    "duration": 21,
    "start_time": "2022-05-27T06:56:51.144Z"
   },
   {
    "duration": 80,
    "start_time": "2022-05-27T06:56:51.167Z"
   },
   {
    "duration": 10,
    "start_time": "2022-05-27T06:56:51.249Z"
   },
   {
    "duration": 585,
    "start_time": "2022-05-27T06:56:51.261Z"
   },
   {
    "duration": 33,
    "start_time": "2022-05-27T06:56:51.848Z"
   },
   {
    "duration": 44,
    "start_time": "2022-05-27T06:56:51.889Z"
   },
   {
    "duration": 29,
    "start_time": "2022-05-27T06:56:51.935Z"
   },
   {
    "duration": 66,
    "start_time": "2022-05-27T06:56:51.966Z"
   },
   {
    "duration": 147,
    "start_time": "2022-05-27T06:56:52.035Z"
   },
   {
    "duration": 89,
    "start_time": "2022-05-27T06:56:52.184Z"
   },
   {
    "duration": 35,
    "start_time": "2022-05-27T06:56:52.279Z"
   },
   {
    "duration": 43,
    "start_time": "2022-05-27T06:56:52.319Z"
   },
   {
    "duration": 47,
    "start_time": "2022-05-27T06:56:52.365Z"
   },
   {
    "duration": 51,
    "start_time": "2022-05-27T06:56:52.419Z"
   },
   {
    "duration": 94,
    "start_time": "2022-05-27T06:56:52.479Z"
   },
   {
    "duration": 86,
    "start_time": "2022-05-27T06:56:52.579Z"
   },
   {
    "duration": 87,
    "start_time": "2022-05-27T06:56:52.667Z"
   },
   {
    "duration": 183,
    "start_time": "2022-05-27T06:56:52.756Z"
   },
   {
    "duration": 23,
    "start_time": "2022-05-27T06:56:52.941Z"
   },
   {
    "duration": 1147,
    "start_time": "2022-05-27T06:56:52.977Z"
   },
   {
    "duration": 168,
    "start_time": "2022-05-27T06:56:54.126Z"
   },
   {
    "duration": 18,
    "start_time": "2022-05-27T06:56:54.299Z"
   },
   {
    "duration": 24,
    "start_time": "2022-05-27T06:56:54.319Z"
   },
   {
    "duration": 187,
    "start_time": "2022-05-27T06:56:54.345Z"
   },
   {
    "duration": 21,
    "start_time": "2022-05-27T06:56:54.535Z"
   },
   {
    "duration": 66,
    "start_time": "2022-05-27T06:56:54.564Z"
   },
   {
    "duration": 11,
    "start_time": "2022-05-27T06:56:54.632Z"
   },
   {
    "duration": 54,
    "start_time": "2022-05-27T06:56:54.645Z"
   },
   {
    "duration": 96,
    "start_time": "2022-05-27T06:56:54.701Z"
   },
   {
    "duration": 16,
    "start_time": "2022-05-27T06:56:54.799Z"
   },
   {
    "duration": 5,
    "start_time": "2022-05-27T07:00:36.385Z"
   },
   {
    "duration": 950,
    "start_time": "2022-05-27T07:00:36.393Z"
   },
   {
    "duration": 7,
    "start_time": "2022-05-27T07:00:37.346Z"
   },
   {
    "duration": 1342,
    "start_time": "2022-05-27T07:00:37.355Z"
   },
   {
    "duration": 97,
    "start_time": "2022-05-27T07:00:38.700Z"
   },
   {
    "duration": 14,
    "start_time": "2022-05-27T07:00:38.798Z"
   },
   {
    "duration": 68,
    "start_time": "2022-05-27T07:00:38.814Z"
   },
   {
    "duration": 9,
    "start_time": "2022-05-27T07:00:38.895Z"
   },
   {
    "duration": 528,
    "start_time": "2022-05-27T07:00:38.907Z"
   },
   {
    "duration": 34,
    "start_time": "2022-05-27T07:00:39.437Z"
   },
   {
    "duration": 15,
    "start_time": "2022-05-27T07:00:39.473Z"
   },
   {
    "duration": 45,
    "start_time": "2022-05-27T07:00:39.490Z"
   },
   {
    "duration": 64,
    "start_time": "2022-05-27T07:00:39.537Z"
   },
   {
    "duration": 124,
    "start_time": "2022-05-27T07:00:39.605Z"
   },
   {
    "duration": 75,
    "start_time": "2022-05-27T07:00:39.731Z"
   },
   {
    "duration": 18,
    "start_time": "2022-05-27T07:00:39.808Z"
   },
   {
    "duration": 62,
    "start_time": "2022-05-27T07:00:39.828Z"
   },
   {
    "duration": 39,
    "start_time": "2022-05-27T07:00:39.892Z"
   },
   {
    "duration": 33,
    "start_time": "2022-05-27T07:00:39.933Z"
   },
   {
    "duration": 62,
    "start_time": "2022-05-27T07:00:39.967Z"
   },
   {
    "duration": 57,
    "start_time": "2022-05-27T07:00:40.031Z"
   },
   {
    "duration": 21,
    "start_time": "2022-05-27T07:00:40.090Z"
   },
   {
    "duration": 101,
    "start_time": "2022-05-27T07:00:40.113Z"
   },
   {
    "duration": 16,
    "start_time": "2022-05-27T07:00:40.216Z"
   },
   {
    "duration": 842,
    "start_time": "2022-05-27T07:00:40.234Z"
   },
   {
    "duration": 185,
    "start_time": "2022-05-27T07:00:41.078Z"
   },
   {
    "duration": 24,
    "start_time": "2022-05-27T07:00:41.273Z"
   },
   {
    "duration": 54,
    "start_time": "2022-05-27T07:00:41.300Z"
   },
   {
    "duration": 145,
    "start_time": "2022-05-27T07:00:41.360Z"
   },
   {
    "duration": 9,
    "start_time": "2022-05-27T07:00:41.506Z"
   },
   {
    "duration": 55,
    "start_time": "2022-05-27T07:00:41.516Z"
   },
   {
    "duration": 15,
    "start_time": "2022-05-27T07:00:41.574Z"
   },
   {
    "duration": 15,
    "start_time": "2022-05-27T07:00:41.592Z"
   },
   {
    "duration": 76,
    "start_time": "2022-05-27T07:00:41.609Z"
   },
   {
    "duration": 13,
    "start_time": "2022-05-27T07:00:41.686Z"
   },
   {
    "duration": 92,
    "start_time": "2022-05-27T07:00:41.701Z"
   },
   {
    "duration": 22,
    "start_time": "2022-05-27T07:00:41.795Z"
   },
   {
    "duration": 19,
    "start_time": "2022-05-27T07:00:41.819Z"
   },
   {
    "duration": 55,
    "start_time": "2022-05-27T07:00:41.840Z"
   },
   {
    "duration": 78,
    "start_time": "2022-05-27T07:07:11.948Z"
   },
   {
    "duration": 57,
    "start_time": "2022-05-27T07:11:31.276Z"
   },
   {
    "duration": 89,
    "start_time": "2022-05-27T07:11:32.298Z"
   },
   {
    "duration": 86,
    "start_time": "2022-05-27T07:11:49.947Z"
   },
   {
    "duration": 11,
    "start_time": "2022-05-27T07:11:59.071Z"
   },
   {
    "duration": 115,
    "start_time": "2022-05-27T07:12:20.972Z"
   },
   {
    "duration": 41,
    "start_time": "2022-05-27T07:14:33.380Z"
   },
   {
    "duration": 229,
    "start_time": "2022-05-27T07:14:36.355Z"
   },
   {
    "duration": 12,
    "start_time": "2022-05-27T07:14:36.830Z"
   },
   {
    "duration": 8,
    "start_time": "2022-05-27T07:14:37.952Z"
   },
   {
    "duration": 6,
    "start_time": "2022-05-27T07:14:49.828Z"
   },
   {
    "duration": 1134,
    "start_time": "2022-05-27T07:14:49.836Z"
   },
   {
    "duration": 6,
    "start_time": "2022-05-27T07:14:50.972Z"
   },
   {
    "duration": 1529,
    "start_time": "2022-05-27T07:14:50.989Z"
   },
   {
    "duration": 138,
    "start_time": "2022-05-27T07:14:52.525Z"
   },
   {
    "duration": 34,
    "start_time": "2022-05-27T07:14:52.673Z"
   },
   {
    "duration": 131,
    "start_time": "2022-05-27T07:14:52.718Z"
   },
   {
    "duration": 69,
    "start_time": "2022-05-27T07:14:52.851Z"
   },
   {
    "duration": 627,
    "start_time": "2022-05-27T07:14:52.923Z"
   },
   {
    "duration": 35,
    "start_time": "2022-05-27T07:14:53.556Z"
   },
   {
    "duration": 74,
    "start_time": "2022-05-27T07:14:53.597Z"
   },
   {
    "duration": 79,
    "start_time": "2022-05-27T07:14:53.677Z"
   },
   {
    "duration": 113,
    "start_time": "2022-05-27T07:14:53.764Z"
   },
   {
    "duration": 158,
    "start_time": "2022-05-27T07:14:53.879Z"
   },
   {
    "duration": 92,
    "start_time": "2022-05-27T07:14:54.041Z"
   },
   {
    "duration": 41,
    "start_time": "2022-05-27T07:14:54.136Z"
   },
   {
    "duration": 129,
    "start_time": "2022-05-27T07:14:54.192Z"
   },
   {
    "duration": 86,
    "start_time": "2022-05-27T07:14:54.323Z"
   },
   {
    "duration": 66,
    "start_time": "2022-05-27T07:14:54.419Z"
   },
   {
    "duration": 75,
    "start_time": "2022-05-27T07:14:54.490Z"
   },
   {
    "duration": 82,
    "start_time": "2022-05-27T07:14:54.568Z"
   },
   {
    "duration": 53,
    "start_time": "2022-05-27T07:14:54.658Z"
   },
   {
    "duration": 106,
    "start_time": "2022-05-27T07:14:54.720Z"
   },
   {
    "duration": 16,
    "start_time": "2022-05-27T07:14:54.831Z"
   },
   {
    "duration": 1136,
    "start_time": "2022-05-27T07:14:54.849Z"
   },
   {
    "duration": 203,
    "start_time": "2022-05-27T07:14:55.987Z"
   },
   {
    "duration": 28,
    "start_time": "2022-05-27T07:14:56.192Z"
   },
   {
    "duration": 168,
    "start_time": "2022-05-27T07:14:56.222Z"
   },
   {
    "duration": 310,
    "start_time": "2022-05-27T07:14:56.396Z"
   },
   {
    "duration": 12,
    "start_time": "2022-05-27T07:14:56.709Z"
   },
   {
    "duration": 91,
    "start_time": "2022-05-27T07:14:56.724Z"
   },
   {
    "duration": 35,
    "start_time": "2022-05-27T07:14:56.823Z"
   },
   {
    "duration": 86,
    "start_time": "2022-05-27T07:14:56.866Z"
   },
   {
    "duration": 184,
    "start_time": "2022-05-27T07:14:56.958Z"
   },
   {
    "duration": 118,
    "start_time": "2022-05-27T07:14:57.149Z"
   },
   {
    "duration": 32,
    "start_time": "2022-05-27T07:14:57.273Z"
   },
   {
    "duration": 31,
    "start_time": "2022-05-27T07:14:57.312Z"
   },
   {
    "duration": 34,
    "start_time": "2022-05-27T07:14:57.350Z"
   },
   {
    "duration": 61,
    "start_time": "2022-05-27T07:14:57.389Z"
   },
   {
    "duration": 15,
    "start_time": "2022-05-27T07:16:32.054Z"
   },
   {
    "duration": 1814,
    "start_time": "2022-05-27T07:16:32.072Z"
   },
   {
    "duration": 10,
    "start_time": "2022-05-27T07:16:33.891Z"
   },
   {
    "duration": 2731,
    "start_time": "2022-05-27T07:16:33.906Z"
   },
   {
    "duration": 161,
    "start_time": "2022-05-27T07:16:36.644Z"
   },
   {
    "duration": 35,
    "start_time": "2022-05-27T07:16:36.807Z"
   },
   {
    "duration": 222,
    "start_time": "2022-05-27T07:16:36.844Z"
   },
   {
    "duration": 56,
    "start_time": "2022-05-27T07:16:37.078Z"
   },
   {
    "duration": 1268,
    "start_time": "2022-05-27T07:16:37.141Z"
   },
   {
    "duration": 47,
    "start_time": "2022-05-27T07:16:38.416Z"
   },
   {
    "duration": 128,
    "start_time": "2022-05-27T07:16:38.470Z"
   },
   {
    "duration": 148,
    "start_time": "2022-05-27T07:16:38.616Z"
   },
   {
    "duration": 280,
    "start_time": "2022-05-27T07:16:38.770Z"
   },
   {
    "duration": 274,
    "start_time": "2022-05-27T07:16:39.069Z"
   },
   {
    "duration": 148,
    "start_time": "2022-05-27T07:16:39.350Z"
   },
   {
    "duration": 58,
    "start_time": "2022-05-27T07:16:39.508Z"
   },
   {
    "duration": 183,
    "start_time": "2022-05-27T07:16:39.572Z"
   },
   {
    "duration": 204,
    "start_time": "2022-05-27T07:16:39.762Z"
   },
   {
    "duration": 153,
    "start_time": "2022-05-27T07:16:39.981Z"
   },
   {
    "duration": 232,
    "start_time": "2022-05-27T07:16:40.141Z"
   },
   {
    "duration": 131,
    "start_time": "2022-05-27T07:16:40.379Z"
   },
   {
    "duration": 89,
    "start_time": "2022-05-27T07:16:40.521Z"
   },
   {
    "duration": 270,
    "start_time": "2022-05-27T07:16:40.623Z"
   },
   {
    "duration": 31,
    "start_time": "2022-05-27T07:16:40.900Z"
   },
   {
    "duration": 1609,
    "start_time": "2022-05-27T07:16:40.945Z"
   },
   {
    "duration": 221,
    "start_time": "2022-05-27T07:16:42.561Z"
   },
   {
    "duration": 52,
    "start_time": "2022-05-27T07:16:42.789Z"
   },
   {
    "duration": 214,
    "start_time": "2022-05-27T07:16:42.854Z"
   },
   {
    "duration": 404,
    "start_time": "2022-05-27T07:16:43.079Z"
   },
   {
    "duration": 15,
    "start_time": "2022-05-27T07:16:43.489Z"
   },
   {
    "duration": 195,
    "start_time": "2022-05-27T07:16:43.510Z"
   },
   {
    "duration": 138,
    "start_time": "2022-05-27T07:16:43.716Z"
   },
   {
    "duration": 158,
    "start_time": "2022-05-27T07:16:43.860Z"
   },
   {
    "duration": 309,
    "start_time": "2022-05-27T07:16:44.024Z"
   },
   {
    "duration": 179,
    "start_time": "2022-05-27T07:16:44.339Z"
   },
   {
    "duration": 57,
    "start_time": "2022-05-27T07:16:44.525Z"
   },
   {
    "duration": 91,
    "start_time": "2022-05-27T07:16:44.589Z"
   },
   {
    "duration": 125,
    "start_time": "2022-05-27T07:16:44.694Z"
   },
   {
    "duration": 158,
    "start_time": "2022-05-27T07:16:44.833Z"
   },
   {
    "duration": 972,
    "start_time": "2022-05-27T07:16:44.997Z"
   },
   {
    "duration": 9,
    "start_time": "2022-05-27T07:16:45.979Z"
   },
   {
    "duration": 759,
    "start_time": "2022-05-27T07:16:45.994Z"
   },
   {
    "duration": 10,
    "start_time": "2022-05-27T07:16:46.760Z"
   },
   {
    "duration": 254,
    "start_time": "2022-05-27T07:16:46.776Z"
   },
   {
    "duration": 6,
    "start_time": "2022-05-27T07:22:16.741Z"
   },
   {
    "duration": 1294,
    "start_time": "2022-05-27T07:22:16.758Z"
   },
   {
    "duration": 6,
    "start_time": "2022-05-27T07:22:18.057Z"
   },
   {
    "duration": 1480,
    "start_time": "2022-05-27T07:22:18.065Z"
   },
   {
    "duration": 117,
    "start_time": "2022-05-27T07:22:19.548Z"
   },
   {
    "duration": 38,
    "start_time": "2022-05-27T07:22:19.672Z"
   },
   {
    "duration": 76,
    "start_time": "2022-05-27T07:22:19.712Z"
   },
   {
    "duration": 23,
    "start_time": "2022-05-27T07:22:19.790Z"
   },
   {
    "duration": 692,
    "start_time": "2022-05-27T07:22:19.819Z"
   },
   {
    "duration": 32,
    "start_time": "2022-05-27T07:22:20.519Z"
   },
   {
    "duration": 109,
    "start_time": "2022-05-27T07:22:20.557Z"
   },
   {
    "duration": 107,
    "start_time": "2022-05-27T07:22:20.670Z"
   },
   {
    "duration": 123,
    "start_time": "2022-05-27T07:22:20.779Z"
   },
   {
    "duration": 166,
    "start_time": "2022-05-27T07:22:20.904Z"
   },
   {
    "duration": 87,
    "start_time": "2022-05-27T07:22:21.074Z"
   },
   {
    "duration": 36,
    "start_time": "2022-05-27T07:22:21.166Z"
   },
   {
    "duration": 79,
    "start_time": "2022-05-27T07:22:21.207Z"
   },
   {
    "duration": 93,
    "start_time": "2022-05-27T07:22:21.295Z"
   },
   {
    "duration": 74,
    "start_time": "2022-05-27T07:22:21.390Z"
   },
   {
    "duration": 97,
    "start_time": "2022-05-27T07:22:21.475Z"
   },
   {
    "duration": 63,
    "start_time": "2022-05-27T07:22:21.575Z"
   },
   {
    "duration": 18,
    "start_time": "2022-05-27T07:22:21.640Z"
   },
   {
    "duration": 173,
    "start_time": "2022-05-27T07:22:21.660Z"
   },
   {
    "duration": 13,
    "start_time": "2022-05-27T07:22:21.835Z"
   },
   {
    "duration": 1168,
    "start_time": "2022-05-27T07:22:21.850Z"
   },
   {
    "duration": 189,
    "start_time": "2022-05-27T07:22:23.027Z"
   },
   {
    "duration": 25,
    "start_time": "2022-05-27T07:22:23.222Z"
   },
   {
    "duration": 46,
    "start_time": "2022-05-27T07:22:23.249Z"
   },
   {
    "duration": 194,
    "start_time": "2022-05-27T07:22:23.297Z"
   },
   {
    "duration": 10,
    "start_time": "2022-05-27T07:22:23.493Z"
   },
   {
    "duration": 70,
    "start_time": "2022-05-27T07:22:23.513Z"
   },
   {
    "duration": 45,
    "start_time": "2022-05-27T07:22:23.588Z"
   },
   {
    "duration": 16,
    "start_time": "2022-05-27T07:22:23.635Z"
   },
   {
    "duration": 90,
    "start_time": "2022-05-27T07:22:23.653Z"
   },
   {
    "duration": 94,
    "start_time": "2022-05-27T07:22:23.745Z"
   },
   {
    "duration": 24,
    "start_time": "2022-05-27T07:22:23.841Z"
   },
   {
    "duration": 93,
    "start_time": "2022-05-27T07:22:23.870Z"
   },
   {
    "duration": 72,
    "start_time": "2022-05-27T07:22:23.973Z"
   },
   {
    "duration": 61,
    "start_time": "2022-05-27T07:22:24.047Z"
   },
   {
    "duration": 595,
    "start_time": "2022-05-27T07:22:24.110Z"
   },
   {
    "duration": 13,
    "start_time": "2022-05-27T07:22:24.710Z"
   },
   {
    "duration": 528,
    "start_time": "2022-05-27T07:22:24.727Z"
   },
   {
    "duration": 14,
    "start_time": "2022-05-27T07:22:25.257Z"
   },
   {
    "duration": 180,
    "start_time": "2022-05-27T07:22:25.273Z"
   },
   {
    "duration": 97944,
    "start_time": "2022-05-27T07:22:25.461Z"
   },
   {
    "duration": 6279,
    "start_time": "2022-05-27T07:25:30.716Z"
   },
   {
    "duration": 1488,
    "start_time": "2022-05-27T07:25:36.997Z"
   },
   {
    "duration": 5,
    "start_time": "2022-05-27T07:25:38.487Z"
   },
   {
    "duration": 1451,
    "start_time": "2022-05-27T07:25:38.494Z"
   },
   {
    "duration": 89,
    "start_time": "2022-05-27T07:25:39.947Z"
   },
   {
    "duration": 52,
    "start_time": "2022-05-27T07:25:40.038Z"
   },
   {
    "duration": 77,
    "start_time": "2022-05-27T07:25:40.092Z"
   },
   {
    "duration": 12,
    "start_time": "2022-05-27T07:25:40.178Z"
   },
   {
    "duration": 605,
    "start_time": "2022-05-27T07:25:40.192Z"
   },
   {
    "duration": 32,
    "start_time": "2022-05-27T07:25:40.800Z"
   },
   {
    "duration": 37,
    "start_time": "2022-05-27T07:25:40.833Z"
   },
   {
    "duration": 51,
    "start_time": "2022-05-27T07:25:40.874Z"
   },
   {
    "duration": 65,
    "start_time": "2022-05-27T07:25:40.927Z"
   },
   {
    "duration": 145,
    "start_time": "2022-05-27T07:25:40.994Z"
   },
   {
    "duration": 89,
    "start_time": "2022-05-27T07:25:41.142Z"
   },
   {
    "duration": 27,
    "start_time": "2022-05-27T07:25:41.232Z"
   },
   {
    "duration": 43,
    "start_time": "2022-05-27T07:25:41.261Z"
   },
   {
    "duration": 63,
    "start_time": "2022-05-27T07:25:41.306Z"
   },
   {
    "duration": 29,
    "start_time": "2022-05-27T07:25:41.372Z"
   },
   {
    "duration": 40,
    "start_time": "2022-05-27T07:25:41.403Z"
   },
   {
    "duration": 55,
    "start_time": "2022-05-27T07:25:41.445Z"
   },
   {
    "duration": 19,
    "start_time": "2022-05-27T07:25:41.502Z"
   },
   {
    "duration": 92,
    "start_time": "2022-05-27T07:25:41.523Z"
   },
   {
    "duration": 11,
    "start_time": "2022-05-27T07:25:41.617Z"
   },
   {
    "duration": 905,
    "start_time": "2022-05-27T07:25:41.630Z"
   },
   {
    "duration": 152,
    "start_time": "2022-05-27T07:25:42.537Z"
   },
   {
    "duration": 22,
    "start_time": "2022-05-27T07:25:42.691Z"
   },
   {
    "duration": 59,
    "start_time": "2022-05-27T07:25:42.717Z"
   },
   {
    "duration": 135,
    "start_time": "2022-05-27T07:25:42.779Z"
   },
   {
    "duration": 8,
    "start_time": "2022-05-27T07:25:42.916Z"
   },
   {
    "duration": 53,
    "start_time": "2022-05-27T07:25:42.926Z"
   },
   {
    "duration": 11,
    "start_time": "2022-05-27T07:25:42.986Z"
   },
   {
    "duration": 13,
    "start_time": "2022-05-27T07:25:42.999Z"
   },
   {
    "duration": 68,
    "start_time": "2022-05-27T07:25:43.014Z"
   },
   {
    "duration": 84,
    "start_time": "2022-05-27T07:25:43.086Z"
   },
   {
    "duration": 24,
    "start_time": "2022-05-27T07:25:43.172Z"
   },
   {
    "duration": 21,
    "start_time": "2022-05-27T07:25:43.197Z"
   },
   {
    "duration": 21,
    "start_time": "2022-05-27T07:25:43.220Z"
   },
   {
    "duration": 33,
    "start_time": "2022-05-27T07:25:43.252Z"
   },
   {
    "duration": 459,
    "start_time": "2022-05-27T07:25:43.287Z"
   },
   {
    "duration": 26,
    "start_time": "2022-05-27T07:25:43.748Z"
   },
   {
    "duration": 418,
    "start_time": "2022-05-27T07:25:43.777Z"
   },
   {
    "duration": 5,
    "start_time": "2022-05-27T07:25:44.196Z"
   },
   {
    "duration": 101,
    "start_time": "2022-05-27T07:25:44.203Z"
   },
   {
    "duration": 50410,
    "start_time": "2022-05-27T07:25:44.306Z"
   },
   {
    "duration": 2221277,
    "start_time": "2022-05-27T07:26:34.718Z"
   },
   {
    "duration": 19741,
    "start_time": "2022-05-27T08:03:36.001Z"
   },
   {
    "duration": 3968926,
    "start_time": "2022-05-27T08:03:55.744Z"
   },
   {
    "duration": 1579412,
    "start_time": "2022-05-27T09:10:04.674Z"
   },
   {
    "duration": 10,
    "start_time": "2022-05-27T09:36:24.092Z"
   },
   {
    "duration": 141,
    "start_time": "2022-05-27T09:36:24.109Z"
   },
   {
    "duration": 307,
    "start_time": "2022-05-27T09:36:24.259Z"
   },
   {
    "duration": 211227,
    "start_time": "2022-05-27T09:38:03.985Z"
   },
   {
    "duration": 10,
    "start_time": "2022-05-27T09:41:35.218Z"
   },
   {
    "duration": 93,
    "start_time": "2022-05-27T09:41:35.234Z"
   },
   {
    "duration": 198,
    "start_time": "2022-05-27T09:42:14.844Z"
   },
   {
    "duration": 10,
    "start_time": "2022-05-27T09:42:24.405Z"
   },
   {
    "duration": 10,
    "start_time": "2022-05-27T09:42:26.218Z"
   },
   {
    "duration": 11097261,
    "start_time": "2022-05-27T09:43:26.041Z"
   },
   {
    "duration": 19,
    "start_time": "2022-05-27T12:49:02.006Z"
   },
   {
    "duration": 29,
    "start_time": "2022-05-27T12:49:03.012Z"
   },
   {
    "duration": 204117,
    "start_time": "2022-05-27T12:49:56.718Z"
   },
   {
    "duration": 650467,
    "start_time": "2022-05-27T12:54:39.539Z"
   },
   {
    "duration": 10,
    "start_time": "2022-05-27T13:15:43.020Z"
   },
   {
    "duration": 22,
    "start_time": "2022-05-27T13:15:44.056Z"
   },
   {
    "duration": 281,
    "start_time": "2022-05-27T13:16:04.444Z"
   },
   {
    "duration": 6,
    "start_time": "2022-05-27T13:32:39.512Z"
   },
   {
    "duration": 8,
    "start_time": "2022-05-27T13:33:58.676Z"
   },
   {
    "duration": 7,
    "start_time": "2022-05-27T13:34:16.119Z"
   },
   {
    "duration": 577,
    "start_time": "2022-05-27T13:42:21.303Z"
   },
   {
    "duration": 17,
    "start_time": "2022-05-27T13:42:29.798Z"
   },
   {
    "duration": 61,
    "start_time": "2022-05-27T13:44:09.884Z"
   },
   {
    "duration": 88,
    "start_time": "2022-05-27T13:46:09.380Z"
   },
   {
    "duration": 56585,
    "start_time": "2022-05-27T13:48:33.221Z"
   },
   {
    "duration": 282852,
    "start_time": "2022-05-27T13:51:55.746Z"
   },
   {
    "duration": 42,
    "start_time": "2022-05-29T08:35:51.235Z"
   },
   {
    "duration": 5,
    "start_time": "2022-05-30T05:54:52.853Z"
   },
   {
    "duration": 867,
    "start_time": "2022-05-30T05:54:52.859Z"
   },
   {
    "duration": 5,
    "start_time": "2022-05-30T05:54:53.728Z"
   },
   {
    "duration": 1179,
    "start_time": "2022-05-30T05:54:53.734Z"
   },
   {
    "duration": 92,
    "start_time": "2022-05-30T05:54:54.915Z"
   },
   {
    "duration": 15,
    "start_time": "2022-05-30T05:54:55.008Z"
   },
   {
    "duration": 53,
    "start_time": "2022-05-30T05:54:55.025Z"
   },
   {
    "duration": 7,
    "start_time": "2022-05-30T05:54:55.080Z"
   },
   {
    "duration": 537,
    "start_time": "2022-05-30T05:54:55.089Z"
   },
   {
    "duration": 27,
    "start_time": "2022-05-30T05:54:55.628Z"
   },
   {
    "duration": 11,
    "start_time": "2022-05-30T05:54:55.664Z"
   },
   {
    "duration": 28,
    "start_time": "2022-05-30T05:54:55.676Z"
   },
   {
    "duration": 71,
    "start_time": "2022-05-30T05:54:55.706Z"
   },
   {
    "duration": 123,
    "start_time": "2022-05-30T05:54:55.779Z"
   },
   {
    "duration": 72,
    "start_time": "2022-05-30T05:54:55.904Z"
   },
   {
    "duration": 19,
    "start_time": "2022-05-30T05:54:55.978Z"
   },
   {
    "duration": 29,
    "start_time": "2022-05-30T05:54:55.999Z"
   },
   {
    "duration": 53,
    "start_time": "2022-05-30T05:54:56.029Z"
   },
   {
    "duration": 26,
    "start_time": "2022-05-30T05:54:56.083Z"
   },
   {
    "duration": 56,
    "start_time": "2022-05-30T05:54:56.111Z"
   },
   {
    "duration": 42,
    "start_time": "2022-05-30T05:54:56.169Z"
   },
   {
    "duration": 20,
    "start_time": "2022-05-30T05:54:56.212Z"
   },
   {
    "duration": 94,
    "start_time": "2022-05-30T05:54:56.233Z"
   },
   {
    "duration": 11,
    "start_time": "2022-05-30T05:54:56.329Z"
   },
   {
    "duration": 816,
    "start_time": "2022-05-30T05:54:56.342Z"
   },
   {
    "duration": 132,
    "start_time": "2022-05-30T05:54:57.160Z"
   },
   {
    "duration": 16,
    "start_time": "2022-05-30T05:54:57.294Z"
   },
   {
    "duration": 28,
    "start_time": "2022-05-30T05:54:57.311Z"
   },
   {
    "duration": 148,
    "start_time": "2022-05-30T05:54:57.343Z"
   },
   {
    "duration": 8,
    "start_time": "2022-05-30T05:54:57.492Z"
   },
   {
    "duration": 35,
    "start_time": "2022-05-30T05:54:57.501Z"
   },
   {
    "duration": 30,
    "start_time": "2022-05-30T05:54:57.537Z"
   },
   {
    "duration": 10,
    "start_time": "2022-05-30T05:54:57.569Z"
   },
   {
    "duration": 49,
    "start_time": "2022-05-30T05:54:57.582Z"
   },
   {
    "duration": 93,
    "start_time": "2022-05-30T05:54:57.633Z"
   },
   {
    "duration": 23,
    "start_time": "2022-05-30T05:54:57.728Z"
   },
   {
    "duration": 19,
    "start_time": "2022-05-30T05:54:57.765Z"
   },
   {
    "duration": 14,
    "start_time": "2022-05-30T05:54:57.786Z"
   },
   {
    "duration": 6,
    "start_time": "2022-05-30T05:54:57.802Z"
   },
   {
    "duration": 487,
    "start_time": "2022-05-30T05:54:57.810Z"
   },
   {
    "duration": 4,
    "start_time": "2022-05-30T05:54:58.298Z"
   },
   {
    "duration": 395,
    "start_time": "2022-05-30T05:54:58.303Z"
   },
   {
    "duration": 4,
    "start_time": "2022-05-30T05:54:58.700Z"
   },
   {
    "duration": 88,
    "start_time": "2022-05-30T05:54:58.705Z"
   },
   {
    "duration": 6,
    "start_time": "2022-05-30T05:57:26.582Z"
   },
   {
    "duration": 5,
    "start_time": "2022-05-30T06:38:34.251Z"
   },
   {
    "duration": 145,
    "start_time": "2022-05-30T06:39:53.044Z"
   },
   {
    "duration": 2070,
    "start_time": "2022-05-30T07:49:42.122Z"
   },
   {
    "duration": 1503,
    "start_time": "2022-05-30T07:49:44.196Z"
   },
   {
    "duration": 11,
    "start_time": "2022-05-30T07:49:45.704Z"
   },
   {
    "duration": 3786,
    "start_time": "2022-05-30T07:49:45.718Z"
   },
   {
    "duration": 286,
    "start_time": "2022-05-30T07:49:49.506Z"
   },
   {
    "duration": 76,
    "start_time": "2022-05-30T07:49:49.796Z"
   },
   {
    "duration": 120,
    "start_time": "2022-05-30T07:49:49.875Z"
   },
   {
    "duration": 9,
    "start_time": "2022-05-30T07:49:49.998Z"
   },
   {
    "duration": 888,
    "start_time": "2022-05-30T07:49:50.010Z"
   },
   {
    "duration": 31,
    "start_time": "2022-05-30T07:49:50.902Z"
   },
   {
    "duration": 14,
    "start_time": "2022-05-30T07:49:50.936Z"
   },
   {
    "duration": 45,
    "start_time": "2022-05-30T07:49:50.968Z"
   },
   {
    "duration": 82,
    "start_time": "2022-05-30T07:49:51.015Z"
   },
   {
    "duration": 148,
    "start_time": "2022-05-30T07:49:51.099Z"
   },
   {
    "duration": 81,
    "start_time": "2022-05-30T07:49:51.250Z"
   },
   {
    "duration": 44,
    "start_time": "2022-05-30T07:49:51.334Z"
   },
   {
    "duration": 33,
    "start_time": "2022-05-30T07:49:51.381Z"
   },
   {
    "duration": 73,
    "start_time": "2022-05-30T07:49:51.416Z"
   },
   {
    "duration": 45,
    "start_time": "2022-05-30T07:49:51.492Z"
   },
   {
    "duration": 87,
    "start_time": "2022-05-30T07:49:51.539Z"
   },
   {
    "duration": 92,
    "start_time": "2022-05-30T07:49:51.627Z"
   },
   {
    "duration": 48,
    "start_time": "2022-05-30T07:49:51.721Z"
   },
   {
    "duration": 153,
    "start_time": "2022-05-30T07:49:51.771Z"
   },
   {
    "duration": 38,
    "start_time": "2022-05-30T07:49:51.927Z"
   },
   {
    "duration": 1202,
    "start_time": "2022-05-30T07:49:51.968Z"
   },
   {
    "duration": 228,
    "start_time": "2022-05-30T07:49:53.172Z"
   },
   {
    "duration": 23,
    "start_time": "2022-05-30T07:49:53.403Z"
   },
   {
    "duration": 68,
    "start_time": "2022-05-30T07:49:53.433Z"
   },
   {
    "duration": 207,
    "start_time": "2022-05-30T07:49:53.504Z"
   },
   {
    "duration": 12,
    "start_time": "2022-05-30T07:49:53.714Z"
   },
   {
    "duration": 61,
    "start_time": "2022-05-30T07:49:53.728Z"
   },
   {
    "duration": 21,
    "start_time": "2022-05-30T07:49:53.792Z"
   },
   {
    "duration": 20,
    "start_time": "2022-05-30T07:49:53.815Z"
   },
   {
    "duration": 95,
    "start_time": "2022-05-30T07:49:53.838Z"
   },
   {
    "duration": 130,
    "start_time": "2022-05-30T07:49:53.936Z"
   },
   {
    "duration": 30,
    "start_time": "2022-05-30T07:49:54.068Z"
   },
   {
    "duration": 28,
    "start_time": "2022-05-30T07:49:54.102Z"
   },
   {
    "duration": 36,
    "start_time": "2022-05-30T07:49:54.137Z"
   },
   {
    "duration": 11,
    "start_time": "2022-05-30T07:49:54.176Z"
   },
   {
    "duration": 738,
    "start_time": "2022-05-30T07:49:54.189Z"
   },
   {
    "duration": 5,
    "start_time": "2022-05-30T07:49:54.930Z"
   },
   {
    "duration": 590,
    "start_time": "2022-05-30T07:49:54.938Z"
   },
   {
    "duration": 6,
    "start_time": "2022-05-30T07:49:55.531Z"
   },
   {
    "duration": 118,
    "start_time": "2022-05-30T07:49:55.540Z"
   },
   {
    "duration": 200,
    "start_time": "2022-05-30T07:50:07.803Z"
   },
   {
    "duration": 6,
    "start_time": "2022-05-30T07:50:52.162Z"
   },
   {
    "duration": 289455,
    "start_time": "2022-05-30T07:50:58.791Z"
   },
   {
    "duration": 9,
    "start_time": "2022-05-30T10:20:08.418Z"
   },
   {
    "duration": 5,
    "start_time": "2022-05-30T10:22:04.563Z"
   },
   {
    "duration": 5,
    "start_time": "2022-05-30T10:22:23.806Z"
   },
   {
    "duration": 33384,
    "start_time": "2022-05-30T10:24:54.539Z"
   },
   {
    "duration": 5,
    "start_time": "2022-05-30T10:26:49.306Z"
   },
   {
    "duration": 5,
    "start_time": "2022-05-30T10:26:51.850Z"
   },
   {
    "duration": 21,
    "start_time": "2022-05-30T10:27:54.460Z"
   },
   {
    "duration": 14,
    "start_time": "2022-05-30T10:28:15.627Z"
   },
   {
    "duration": 33021,
    "start_time": "2022-05-30T10:28:26.834Z"
   },
   {
    "duration": 5,
    "start_time": "2022-05-30T10:29:17.858Z"
   },
   {
    "duration": 5,
    "start_time": "2022-05-30T10:29:19.147Z"
   },
   {
    "duration": 33053,
    "start_time": "2022-05-30T10:29:28.467Z"
   },
   {
    "duration": 4,
    "start_time": "2022-05-30T10:30:01.522Z"
   },
   {
    "duration": 32,
    "start_time": "2022-05-30T10:30:01.528Z"
   },
   {
    "duration": 31374,
    "start_time": "2022-05-30T10:31:53.746Z"
   },
   {
    "duration": 9,
    "start_time": "2022-05-30T10:33:30.437Z"
   },
   {
    "duration": 4,
    "start_time": "2022-05-30T10:33:36.371Z"
   },
   {
    "duration": 58,
    "start_time": "2022-05-30T10:33:49.267Z"
   },
   {
    "duration": 5,
    "start_time": "2022-05-30T10:33:56.352Z"
   },
   {
    "duration": 5,
    "start_time": "2022-05-30T11:13:27.717Z"
   },
   {
    "duration": 13,
    "start_time": "2022-05-30T11:13:39.975Z"
   },
   {
    "duration": 10,
    "start_time": "2022-05-30T11:13:43.957Z"
   },
   {
    "duration": 9,
    "start_time": "2022-05-30T11:13:49.830Z"
   },
   {
    "duration": 13,
    "start_time": "2022-05-30T11:16:38.941Z"
   },
   {
    "duration": 10,
    "start_time": "2022-05-30T11:16:42.041Z"
   },
   {
    "duration": 10,
    "start_time": "2022-05-30T11:16:55.013Z"
   },
   {
    "duration": 5,
    "start_time": "2022-05-30T11:17:06.247Z"
   },
   {
    "duration": 10,
    "start_time": "2022-05-30T11:17:17.350Z"
   },
   {
    "duration": 10,
    "start_time": "2022-05-30T11:17:23.174Z"
   },
   {
    "duration": 6,
    "start_time": "2022-05-30T11:17:31.686Z"
   },
   {
    "duration": 1777,
    "start_time": "2022-05-30T18:53:48.204Z"
   },
   {
    "duration": 1287,
    "start_time": "2022-05-30T18:53:49.984Z"
   },
   {
    "duration": 5,
    "start_time": "2022-05-30T18:53:51.273Z"
   },
   {
    "duration": 1329,
    "start_time": "2022-05-30T18:53:51.280Z"
   },
   {
    "duration": 92,
    "start_time": "2022-05-30T18:53:52.611Z"
   },
   {
    "duration": 14,
    "start_time": "2022-05-30T18:53:52.704Z"
   },
   {
    "duration": 57,
    "start_time": "2022-05-30T18:53:52.727Z"
   },
   {
    "duration": 5,
    "start_time": "2022-05-30T18:53:52.786Z"
   },
   {
    "duration": 511,
    "start_time": "2022-05-30T18:53:52.793Z"
   },
   {
    "duration": 45,
    "start_time": "2022-05-30T18:53:53.306Z"
   },
   {
    "duration": 10,
    "start_time": "2022-05-30T18:53:53.352Z"
   },
   {
    "duration": 36,
    "start_time": "2022-05-30T18:53:53.365Z"
   },
   {
    "duration": 68,
    "start_time": "2022-05-30T18:53:53.402Z"
   },
   {
    "duration": 124,
    "start_time": "2022-05-30T18:53:53.472Z"
   },
   {
    "duration": 65,
    "start_time": "2022-05-30T18:53:53.598Z"
   },
   {
    "duration": 17,
    "start_time": "2022-05-30T18:53:53.665Z"
   },
   {
    "duration": 26,
    "start_time": "2022-05-30T18:53:53.684Z"
   },
   {
    "duration": 59,
    "start_time": "2022-05-30T18:53:53.711Z"
   },
   {
    "duration": 22,
    "start_time": "2022-05-30T18:53:53.772Z"
   },
   {
    "duration": 69,
    "start_time": "2022-05-30T18:53:53.796Z"
   },
   {
    "duration": 44,
    "start_time": "2022-05-30T18:53:53.866Z"
   },
   {
    "duration": 23,
    "start_time": "2022-05-30T18:53:53.912Z"
   },
   {
    "duration": 110,
    "start_time": "2022-05-30T18:53:53.941Z"
   },
   {
    "duration": 12,
    "start_time": "2022-05-30T18:53:54.057Z"
   },
   {
    "duration": 731,
    "start_time": "2022-05-30T18:53:54.070Z"
   },
   {
    "duration": 151,
    "start_time": "2022-05-30T18:53:54.803Z"
   },
   {
    "duration": 16,
    "start_time": "2022-05-30T18:53:54.956Z"
   },
   {
    "duration": 62,
    "start_time": "2022-05-30T18:53:54.974Z"
   },
   {
    "duration": 127,
    "start_time": "2022-05-30T18:53:55.044Z"
   },
   {
    "duration": 7,
    "start_time": "2022-05-30T18:53:55.172Z"
   },
   {
    "duration": 34,
    "start_time": "2022-05-30T18:53:55.180Z"
   },
   {
    "duration": 40,
    "start_time": "2022-05-30T18:53:55.216Z"
   },
   {
    "duration": 15,
    "start_time": "2022-05-30T18:53:55.258Z"
   },
   {
    "duration": 51,
    "start_time": "2022-05-30T18:53:55.275Z"
   },
   {
    "duration": 67,
    "start_time": "2022-05-30T18:53:55.338Z"
   },
   {
    "duration": 19,
    "start_time": "2022-05-30T18:53:55.406Z"
   },
   {
    "duration": 30,
    "start_time": "2022-05-30T18:53:55.428Z"
   },
   {
    "duration": 14,
    "start_time": "2022-05-30T18:53:55.460Z"
   },
   {
    "duration": 8,
    "start_time": "2022-05-30T18:53:55.475Z"
   },
   {
    "duration": 455,
    "start_time": "2022-05-30T18:53:55.484Z"
   },
   {
    "duration": 13,
    "start_time": "2022-05-30T18:53:55.946Z"
   },
   {
    "duration": 404,
    "start_time": "2022-05-30T18:53:55.961Z"
   },
   {
    "duration": 6,
    "start_time": "2022-05-30T18:53:56.368Z"
   },
   {
    "duration": 115,
    "start_time": "2022-05-30T18:53:56.376Z"
   },
   {
    "duration": 32,
    "start_time": "2022-05-30T19:02:28.176Z"
   },
   {
    "duration": 211,
    "start_time": "2022-05-30T19:02:34.199Z"
   },
   {
    "duration": 9,
    "start_time": "2022-05-30T19:03:17.083Z"
   },
   {
    "duration": 21,
    "start_time": "2022-05-30T19:04:12.452Z"
   },
   {
    "duration": 36,
    "start_time": "2022-05-30T19:04:29.980Z"
   },
   {
    "duration": 4,
    "start_time": "2022-05-30T19:04:54.507Z"
   },
   {
    "duration": 4,
    "start_time": "2022-05-30T19:05:03.898Z"
   },
   {
    "duration": 5,
    "start_time": "2022-05-30T19:05:06.587Z"
   },
   {
    "duration": 22,
    "start_time": "2022-05-30T19:05:16.815Z"
   },
   {
    "duration": 90030,
    "start_time": "2022-05-30T19:05:59.466Z"
   },
   {
    "duration": 3,
    "start_time": "2022-05-30T19:07:29.499Z"
   },
   {
    "duration": 86960,
    "start_time": "2022-05-30T19:07:55.803Z"
   },
   {
    "duration": 3,
    "start_time": "2022-05-30T19:09:22.766Z"
   },
   {
    "duration": 84545,
    "start_time": "2022-05-30T19:11:40.377Z"
   },
   {
    "duration": 3,
    "start_time": "2022-05-30T19:13:04.924Z"
   },
   {
    "duration": 539858,
    "start_time": "2022-05-30T19:14:14.520Z"
   },
   {
    "duration": 3,
    "start_time": "2022-05-30T19:23:14.380Z"
   },
   {
    "duration": 4,
    "start_time": "2022-05-31T05:46:13.328Z"
   },
   {
    "duration": 750,
    "start_time": "2022-05-31T05:46:13.335Z"
   },
   {
    "duration": 5,
    "start_time": "2022-05-31T05:46:14.087Z"
   },
   {
    "duration": 1060,
    "start_time": "2022-05-31T05:46:14.093Z"
   },
   {
    "duration": 75,
    "start_time": "2022-05-31T05:46:15.155Z"
   },
   {
    "duration": 12,
    "start_time": "2022-05-31T05:46:15.231Z"
   },
   {
    "duration": 57,
    "start_time": "2022-05-31T05:46:15.244Z"
   },
   {
    "duration": 5,
    "start_time": "2022-05-31T05:46:15.303Z"
   },
   {
    "duration": 496,
    "start_time": "2022-05-31T05:46:15.311Z"
   },
   {
    "duration": 31,
    "start_time": "2022-05-31T05:46:15.809Z"
   },
   {
    "duration": 19,
    "start_time": "2022-05-31T05:46:15.842Z"
   },
   {
    "duration": 28,
    "start_time": "2022-05-31T05:46:15.863Z"
   },
   {
    "duration": 46,
    "start_time": "2022-05-31T05:46:15.892Z"
   },
   {
    "duration": 105,
    "start_time": "2022-05-31T05:46:15.940Z"
   },
   {
    "duration": 57,
    "start_time": "2022-05-31T05:46:16.046Z"
   },
   {
    "duration": 16,
    "start_time": "2022-05-31T05:46:16.105Z"
   },
   {
    "duration": 45,
    "start_time": "2022-05-31T05:46:16.123Z"
   },
   {
    "duration": 30,
    "start_time": "2022-05-31T05:46:16.169Z"
   },
   {
    "duration": 23,
    "start_time": "2022-05-31T05:46:16.200Z"
   },
   {
    "duration": 49,
    "start_time": "2022-05-31T05:46:16.225Z"
   },
   {
    "duration": 40,
    "start_time": "2022-05-31T05:46:16.276Z"
   },
   {
    "duration": 16,
    "start_time": "2022-05-31T05:46:16.319Z"
   },
   {
    "duration": 79,
    "start_time": "2022-05-31T05:46:16.354Z"
   },
   {
    "duration": 20,
    "start_time": "2022-05-31T05:46:16.436Z"
   },
   {
    "duration": 698,
    "start_time": "2022-05-31T05:46:16.458Z"
   },
   {
    "duration": 112,
    "start_time": "2022-05-31T05:46:17.157Z"
   },
   {
    "duration": 15,
    "start_time": "2022-05-31T05:46:17.271Z"
   },
   {
    "duration": 22,
    "start_time": "2022-05-31T05:46:17.288Z"
   },
   {
    "duration": 138,
    "start_time": "2022-05-31T05:46:17.312Z"
   },
   {
    "duration": 9,
    "start_time": "2022-05-31T05:46:17.454Z"
   },
   {
    "duration": 31,
    "start_time": "2022-05-31T05:46:17.464Z"
   },
   {
    "duration": 11,
    "start_time": "2022-05-31T05:46:17.497Z"
   },
   {
    "duration": 14,
    "start_time": "2022-05-31T05:46:17.509Z"
   },
   {
    "duration": 73,
    "start_time": "2022-05-31T05:46:17.525Z"
   },
   {
    "duration": 71,
    "start_time": "2022-05-31T05:46:17.600Z"
   },
   {
    "duration": 22,
    "start_time": "2022-05-31T05:46:17.673Z"
   },
   {
    "duration": 18,
    "start_time": "2022-05-31T05:46:17.696Z"
   },
   {
    "duration": 18,
    "start_time": "2022-05-31T05:46:17.716Z"
   },
   {
    "duration": 7,
    "start_time": "2022-05-31T05:46:17.754Z"
   },
   {
    "duration": 452,
    "start_time": "2022-05-31T05:46:17.762Z"
   },
   {
    "duration": 5,
    "start_time": "2022-05-31T05:46:18.216Z"
   },
   {
    "duration": 377,
    "start_time": "2022-05-31T05:46:18.222Z"
   },
   {
    "duration": 3,
    "start_time": "2022-05-31T05:46:18.601Z"
   },
   {
    "duration": 88,
    "start_time": "2022-05-31T05:46:18.606Z"
   },
   {
    "duration": 107,
    "start_time": "2022-05-31T05:47:55.866Z"
   },
   {
    "duration": 1269,
    "start_time": "2022-05-31T06:11:43.041Z"
   },
   {
    "duration": 772,
    "start_time": "2022-05-31T06:11:44.311Z"
   },
   {
    "duration": 4,
    "start_time": "2022-05-31T06:11:45.086Z"
   },
   {
    "duration": 1252,
    "start_time": "2022-05-31T06:11:45.092Z"
   },
   {
    "duration": 99,
    "start_time": "2022-05-31T06:11:46.346Z"
   },
   {
    "duration": 19,
    "start_time": "2022-05-31T06:11:46.447Z"
   },
   {
    "duration": 67,
    "start_time": "2022-05-31T06:11:46.470Z"
   },
   {
    "duration": 6,
    "start_time": "2022-05-31T06:11:46.538Z"
   },
   {
    "duration": 529,
    "start_time": "2022-05-31T06:11:46.545Z"
   },
   {
    "duration": 27,
    "start_time": "2022-05-31T06:11:47.077Z"
   },
   {
    "duration": 10,
    "start_time": "2022-05-31T06:11:47.105Z"
   },
   {
    "duration": 57,
    "start_time": "2022-05-31T06:11:47.116Z"
   },
   {
    "duration": 48,
    "start_time": "2022-05-31T06:11:47.175Z"
   },
   {
    "duration": 124,
    "start_time": "2022-05-31T06:11:47.225Z"
   },
   {
    "duration": 60,
    "start_time": "2022-05-31T06:11:47.351Z"
   },
   {
    "duration": 16,
    "start_time": "2022-05-31T06:11:47.412Z"
   },
   {
    "duration": 48,
    "start_time": "2022-05-31T06:11:47.430Z"
   },
   {
    "duration": 32,
    "start_time": "2022-05-31T06:11:47.480Z"
   },
   {
    "duration": 23,
    "start_time": "2022-05-31T06:11:47.514Z"
   },
   {
    "duration": 49,
    "start_time": "2022-05-31T06:11:47.538Z"
   },
   {
    "duration": 45,
    "start_time": "2022-05-31T06:11:47.588Z"
   },
   {
    "duration": 35,
    "start_time": "2022-05-31T06:11:47.634Z"
   },
   {
    "duration": 74,
    "start_time": "2022-05-31T06:11:47.671Z"
   },
   {
    "duration": 22,
    "start_time": "2022-05-31T06:11:47.746Z"
   },
   {
    "duration": 657,
    "start_time": "2022-05-31T06:11:47.770Z"
   },
   {
    "duration": 121,
    "start_time": "2022-05-31T06:11:48.428Z"
   },
   {
    "duration": 23,
    "start_time": "2022-05-31T06:11:48.553Z"
   },
   {
    "duration": 27,
    "start_time": "2022-05-31T06:11:48.581Z"
   },
   {
    "duration": 129,
    "start_time": "2022-05-31T06:11:48.609Z"
   },
   {
    "duration": 7,
    "start_time": "2022-05-31T06:11:48.740Z"
   },
   {
    "duration": 37,
    "start_time": "2022-05-31T06:11:48.748Z"
   },
   {
    "duration": 14,
    "start_time": "2022-05-31T06:11:48.788Z"
   },
   {
    "duration": 11,
    "start_time": "2022-05-31T06:11:48.804Z"
   },
   {
    "duration": 67,
    "start_time": "2022-05-31T06:11:48.817Z"
   },
   {
    "duration": 75,
    "start_time": "2022-05-31T06:11:48.886Z"
   },
   {
    "duration": 21,
    "start_time": "2022-05-31T06:11:48.973Z"
   },
   {
    "duration": 18,
    "start_time": "2022-05-31T06:11:48.996Z"
   },
   {
    "duration": 20,
    "start_time": "2022-05-31T06:11:49.015Z"
   },
   {
    "duration": 15,
    "start_time": "2022-05-31T06:11:49.037Z"
   },
   {
    "duration": 522,
    "start_time": "2022-05-31T06:11:49.053Z"
   },
   {
    "duration": 4,
    "start_time": "2022-05-31T06:11:49.576Z"
   },
   {
    "duration": 436,
    "start_time": "2022-05-31T06:11:49.582Z"
   },
   {
    "duration": 4,
    "start_time": "2022-05-31T06:11:50.020Z"
   },
   {
    "duration": 139,
    "start_time": "2022-05-31T06:11:50.025Z"
   },
   {
    "duration": 848821,
    "start_time": "2022-05-31T06:12:43.988Z"
   },
   {
    "duration": 0,
    "start_time": "2022-05-31T06:26:52.811Z"
   },
   {
    "duration": 406568,
    "start_time": "2022-05-31T06:29:25.880Z"
   },
   {
    "duration": 7,
    "start_time": "2022-05-31T06:36:12.450Z"
   },
   {
    "duration": 44,
    "start_time": "2022-05-31T06:38:38.023Z"
   },
   {
    "duration": 5890,
    "start_time": "2022-05-31T06:38:46.344Z"
   },
   {
    "duration": 0,
    "start_time": "2022-05-31T06:38:52.236Z"
   },
   {
    "duration": 4,
    "start_time": "2022-05-31T06:39:42.384Z"
   },
   {
    "duration": 1056126,
    "start_time": "2022-05-31T06:41:27.099Z"
   },
   {
    "duration": 3,
    "start_time": "2022-05-31T06:59:03.226Z"
   },
   {
    "duration": 7442,
    "start_time": "2022-05-31T07:04:46.983Z"
   },
   {
    "duration": 0,
    "start_time": "2022-05-31T07:04:54.427Z"
   },
   {
    "duration": 3211954,
    "start_time": "2022-05-31T07:26:09.756Z"
   },
   {
    "duration": 5,
    "start_time": "2022-05-31T08:19:41.712Z"
   }
  ],
  "kernelspec": {
   "display_name": "Python 3 (ipykernel)",
   "language": "python",
   "name": "python3"
  },
  "language_info": {
   "codemirror_mode": {
    "name": "ipython",
    "version": 3
   },
   "file_extension": ".py",
   "mimetype": "text/x-python",
   "name": "python",
   "nbconvert_exporter": "python",
   "pygments_lexer": "ipython3",
   "version": "3.9.7"
  },
  "toc": {
   "base_numbering": 1,
   "nav_menu": {},
   "number_sections": true,
   "sideBar": true,
   "skip_h1_title": true,
   "title_cell": "Table of Contents",
   "title_sidebar": "Contents",
   "toc_cell": false,
   "toc_position": {
    "height": "calc(100% - 180px)",
    "left": "10px",
    "top": "150px",
    "width": "227.729px"
   },
   "toc_section_display": true,
   "toc_window_display": true
  }
 },
 "nbformat": 4,
 "nbformat_minor": 2
}
