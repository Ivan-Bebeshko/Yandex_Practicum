{
 "cells": [
  {
   "cell_type": "markdown",
   "metadata": {},
   "source": [
    "## Описание проекта ##"
   ]
  },
  {
   "cell_type": "markdown",
   "metadata": {},
   "source": [
    "Клиентам предлагают два тарифных плана: «Смарт» и «Ультра». Чтобы скорректировать рекламный бюджет, коммерческий департамент хочет понять, какой тариф приносит больше денег."
   ]
  },
  {
   "cell_type": "markdown",
   "metadata": {},
   "source": [
    "**Описание тарифов:**\n",
    "- `Тариф «Смарт»`\n",
    "    - Ежемесячная плата: 550 рублей\n",
    "    - Включено 500 минут разговора, 50 сообщений и 15 Гб интернет-трафика\n",
    "    - Стоимость услуг сверх тарифного пакета:\n",
    "        - минута разговора: 3 рубля\n",
    "        - сообщение: 3 рубля\n",
    "        - 1 Гб интернет-трафика: 200 рублей\n",
    "        \n",
    "        \n",
    "- `Тариф «Ультра»`\n",
    "    - Ежемесячная плата: 1950 рублей\n",
    "    - Включено 3000 минут разговора, 1000 сообщений и 30 Гб интернет-трафика\n",
    "    - Стоимость услуг сверх тарифного пакета:\n",
    "        - минута разговора: 1 рубль\n",
    "        - сообщение: 1 рубль\n",
    "        - 1 Гб интернет-трафика: 150 рублей\n",
    "        \n",
    "*«Мегалайн» всегда округляет секунды до минут, а мегабайты — до гигабайт. Каждый звонок округляется отдельно: даже если он длился всего 1 секунду, будет засчитан как 1 минута.\n",
    "Для веб-трафика отдельные сессии не считаются. Вместо этого общая сумма за месяц округляется в бо́льшую сторону. Если абонент использует 1025 мегабайт в этом месяце, с него возьмут плату за 2 гигабайта.*"
   ]
  },
  {
   "cell_type": "markdown",
   "metadata": {},
   "source": [
    "**Легенда:**\n",
    "\n",
    "- Таблица users (информация о пользователях):\n",
    "   - user_id — уникальный идентификатор пользователя\n",
    "   - first_name — имя пользователя\n",
    "   - last_name — фамилия пользователя\n",
    "   - age — возраст пользователя (годы)\n",
    "   - reg_date — дата подключения тарифа (день, месяц, год)\n",
    "   - churn_date — дата прекращения пользования тарифом (если значение пропущено, тариф ещё действовал на момент выгрузки)\n",
    "   - city — город проживания пользователя\n",
    "   - tarif — название тарифного плана\n",
    "   \n",
    "   \n",
    "- Таблица calls (информация о звонках):\n",
    "    - id — уникальный номер звонка\n",
    "    - call_date — дата звонка\n",
    "    - duration — длительность звонка в минутах\n",
    "    - user_id — идентификатор пользователя, сделавшего звонок\n",
    "    \n",
    "    \n",
    "- Таблица messages (информация о сообщениях):\n",
    "    - id — уникальный номер сообщения\n",
    "    - message_date — дата сообщения\n",
    "    - user_id — идентификатор пользователя, отправившего сообщение\n",
    "    \n",
    "    \n",
    "- Таблица internet (информация об интернет-сессиях):\n",
    "    - id — уникальный номер сессии\n",
    "    - mb_used — объём потраченного за сессию интернет-трафика (в мегабайтах)\n",
    "    - session_date — дата интернет-сессии\n",
    "    - user_id — идентификатор пользователя\n",
    "    \n",
    "    \n",
    "- Таблица tariffs (информация о тарифах):\n",
    "    - tariff_name — название тарифа\n",
    "    - rub_monthly_fee — ежемесячная абонентская плата в рублях\n",
    "    - minutes_included — количество минут разговора в месяц, включённых в абонентскую плату\n",
    "    - messages_included — количество сообщений в месяц, включённых в абонентскую плату\n",
    "    - mb_per_month_included — объём интернет-трафика, включённого в абонентскую плату (в мегабайтах)\n",
    "    - rub_per_minute — стоимость минуты разговора сверх тарифного пакета (например, если в тарифе 100 минут разговора в месяц, то со 101 минуты будет взиматься плата)\n",
    "    - rub_per_message — стоимость отправки сообщения сверх тарифного пакета\n",
    "    - rub_per_gb — стоимость дополнительного гигабайта интернет-трафика сверх тарифного пакета (1 гигабайт = 1024 мегабайта)"
   ]
  },
  {
   "cell_type": "markdown",
   "metadata": {},
   "source": [
    "## Загрузка файлов с данными и изучение общей информации ##"
   ]
  },
  {
   "cell_type": "code",
   "execution_count": 3,
   "metadata": {},
   "outputs": [],
   "source": [
    "# импорт требуемых библиотек\n",
    "\n",
    "import pandas as pd #программная библиотека для обработки и анализа данных. Работа pandas с данными строится поверх библиотеки NumPy\n",
    "\n",
    "import numpy as np #поддержка многомерных массивов; поддержка высокоуровневых математических функций, предназначенных для работы с многомерными массивами\n",
    "\n",
    "import matplotlib.pyplot as plt #библиотека для визуализации данных двумерной графикой\n",
    "\n",
    "import math as mt #модуль содержит некоторые основные математические функции\n",
    "\n",
    "from scipy  import stats as st #библиотека, предназначенная для выполнения научных и инженерных расчётов"
   ]
  },
  {
   "cell_type": "markdown",
   "metadata": {},
   "source": [
    "### Датафрейм по пользователям ###"
   ]
  },
  {
   "cell_type": "code",
   "execution_count": 4,
   "metadata": {},
   "outputs": [],
   "source": [
    "df_users = pd.read_csv('/datasets/users.csv') #загрузка датафрейма по пользователям"
   ]
  },
  {
   "cell_type": "code",
   "execution_count": 5,
   "metadata": {
    "scrolled": true
   },
   "outputs": [
    {
     "data": {
      "text/html": [
       "<div>\n",
       "<style scoped>\n",
       "    .dataframe tbody tr th:only-of-type {\n",
       "        vertical-align: middle;\n",
       "    }\n",
       "\n",
       "    .dataframe tbody tr th {\n",
       "        vertical-align: top;\n",
       "    }\n",
       "\n",
       "    .dataframe thead th {\n",
       "        text-align: right;\n",
       "    }\n",
       "</style>\n",
       "<table border=\"1\" class=\"dataframe\">\n",
       "  <thead>\n",
       "    <tr style=\"text-align: right;\">\n",
       "      <th></th>\n",
       "      <th>user_id</th>\n",
       "      <th>age</th>\n",
       "      <th>churn_date</th>\n",
       "      <th>city</th>\n",
       "      <th>first_name</th>\n",
       "      <th>last_name</th>\n",
       "      <th>reg_date</th>\n",
       "      <th>tariff</th>\n",
       "    </tr>\n",
       "  </thead>\n",
       "  <tbody>\n",
       "    <tr>\n",
       "      <td>0</td>\n",
       "      <td>1000</td>\n",
       "      <td>52</td>\n",
       "      <td>NaN</td>\n",
       "      <td>Краснодар</td>\n",
       "      <td>Рафаил</td>\n",
       "      <td>Верещагин</td>\n",
       "      <td>2018-05-25</td>\n",
       "      <td>ultra</td>\n",
       "    </tr>\n",
       "    <tr>\n",
       "      <td>1</td>\n",
       "      <td>1001</td>\n",
       "      <td>41</td>\n",
       "      <td>NaN</td>\n",
       "      <td>Москва</td>\n",
       "      <td>Иван</td>\n",
       "      <td>Ежов</td>\n",
       "      <td>2018-11-01</td>\n",
       "      <td>smart</td>\n",
       "    </tr>\n",
       "    <tr>\n",
       "      <td>2</td>\n",
       "      <td>1002</td>\n",
       "      <td>59</td>\n",
       "      <td>NaN</td>\n",
       "      <td>Стерлитамак</td>\n",
       "      <td>Евгений</td>\n",
       "      <td>Абрамович</td>\n",
       "      <td>2018-06-17</td>\n",
       "      <td>smart</td>\n",
       "    </tr>\n",
       "  </tbody>\n",
       "</table>\n",
       "</div>"
      ],
      "text/plain": [
       "   user_id  age churn_date         city first_name  last_name    reg_date  \\\n",
       "0     1000   52        NaN    Краснодар     Рафаил  Верещагин  2018-05-25   \n",
       "1     1001   41        NaN       Москва       Иван       Ежов  2018-11-01   \n",
       "2     1002   59        NaN  Стерлитамак    Евгений  Абрамович  2018-06-17   \n",
       "\n",
       "  tariff  \n",
       "0  ultra  \n",
       "1  smart  \n",
       "2  smart  "
      ]
     },
     "execution_count": 5,
     "metadata": {},
     "output_type": "execute_result"
    }
   ],
   "source": [
    "df_users.head(3)"
   ]
  },
  {
   "cell_type": "code",
   "execution_count": 6,
   "metadata": {},
   "outputs": [
    {
     "name": "stdout",
     "output_type": "stream",
     "text": [
      "<class 'pandas.core.frame.DataFrame'>\n",
      "RangeIndex: 500 entries, 0 to 499\n",
      "Data columns (total 8 columns):\n",
      "user_id       500 non-null int64\n",
      "age           500 non-null int64\n",
      "churn_date    38 non-null object\n",
      "city          500 non-null object\n",
      "first_name    500 non-null object\n",
      "last_name     500 non-null object\n",
      "reg_date      500 non-null object\n",
      "tariff        500 non-null object\n",
      "dtypes: int64(2), object(6)\n",
      "memory usage: 31.4+ KB\n"
     ]
    }
   ],
   "source": [
    "df_users.info()"
   ]
  },
  {
   "cell_type": "code",
   "execution_count": 7,
   "metadata": {},
   "outputs": [
    {
     "name": "stdout",
     "output_type": "stream",
     "text": [
      "Количество явных дубликатов под удаление: 0\n"
     ]
    }
   ],
   "source": [
    "print('Количество явных дубликатов под удаление:', df_users.duplicated().sum()) # подсчёт явных дубликатов"
   ]
  },
  {
   "cell_type": "code",
   "execution_count": 8,
   "metadata": {},
   "outputs": [
    {
     "data": {
      "text/plain": [
       "count    500.00000\n",
       "mean      46.58800\n",
       "std       16.66763\n",
       "min       18.00000\n",
       "25%       32.00000\n",
       "50%       46.00000\n",
       "75%       62.00000\n",
       "max       75.00000\n",
       "Name: age, dtype: float64"
      ]
     },
     "execution_count": 8,
     "metadata": {},
     "output_type": "execute_result"
    }
   ],
   "source": [
    "df_users['age'].describe() # выгрузим статистику по возрасту"
   ]
  },
  {
   "cell_type": "code",
   "execution_count": 9,
   "metadata": {
    "scrolled": true
   },
   "outputs": [
    {
     "data": {
      "text/plain": [
       "array(['Краснодар', 'Москва', 'Стерлитамак', 'Новокузнецк',\n",
       "       'Набережные Челны', 'Ульяновск', 'Челябинск', 'Пермь', 'Тюмень',\n",
       "       'Самара', 'Санкт-Петербург', 'Иваново', 'Чебоксары', 'Омск', 'Уфа',\n",
       "       'Томск', 'Чита', 'Мурманск', 'Петрозаводск', 'Тверь',\n",
       "       'Екатеринбург', 'Махачкала', 'Вологда', 'Череповец', 'Ярославль',\n",
       "       'Сочи', 'Хабаровск', 'Ставрополь', 'Рязань', 'Улан-Удэ', 'Тула',\n",
       "       'Саратов', 'Ростов-на-Дону', 'Казань', 'Иркутск', 'Курск',\n",
       "       'Калуга', 'Якутск', 'Астрахань', 'Химки', 'Владикавказ',\n",
       "       'Волгоград', 'Саранск', 'Ижевск', 'Новосибирск', 'Брянск',\n",
       "       'Тольятти', 'Нижний Тагил', 'Орёл', 'Белгород', 'Воронеж',\n",
       "       'Волжский', 'Курган', 'Барнаул', 'Красноярск', 'Архангельск',\n",
       "       'Липецк', 'Кемерово', 'Киров', 'Сургут', 'Пенза', 'Магнитогорск',\n",
       "       'Нижний Новгород', 'Кострома', 'Владивосток', 'Тамбов', 'Балашиха',\n",
       "       'Севастополь', 'Калининград', 'Оренбург', 'Смоленск',\n",
       "       'Нижневартовск', 'Владимир', 'Новороссийск', 'Грозный', 'Подольск'],\n",
       "      dtype=object)"
      ]
     },
     "metadata": {},
     "output_type": "display_data"
    }
   ],
   "source": [
    "display(df_users['city'].unique()) #список городов - представлена вся страна"
   ]
  },
  {
   "cell_type": "code",
   "execution_count": 10,
   "metadata": {},
   "outputs": [],
   "source": [
    "# оставим только необходимые для анализа столбцы, принимая во внимание баланс: время анализа - качество \n",
    "\n",
    "columns = [\n",
    "    'user_id',\n",
    "    'city',\n",
    "    'tariff'  \n",
    "]\n",
    "\n",
    "df_users = df_users[columns]"
   ]
  },
  {
   "cell_type": "markdown",
   "metadata": {},
   "source": [
    "### Датафрейм по статистике звонков ###"
   ]
  },
  {
   "cell_type": "code",
   "execution_count": 11,
   "metadata": {},
   "outputs": [],
   "source": [
    "df_calls = pd.read_csv('/datasets/calls.csv') #загрузка датафрейма по звонкам"
   ]
  },
  {
   "cell_type": "code",
   "execution_count": 12,
   "metadata": {
    "scrolled": false
   },
   "outputs": [
    {
     "data": {
      "text/html": [
       "<div>\n",
       "<style scoped>\n",
       "    .dataframe tbody tr th:only-of-type {\n",
       "        vertical-align: middle;\n",
       "    }\n",
       "\n",
       "    .dataframe tbody tr th {\n",
       "        vertical-align: top;\n",
       "    }\n",
       "\n",
       "    .dataframe thead th {\n",
       "        text-align: right;\n",
       "    }\n",
       "</style>\n",
       "<table border=\"1\" class=\"dataframe\">\n",
       "  <thead>\n",
       "    <tr style=\"text-align: right;\">\n",
       "      <th></th>\n",
       "      <th>id</th>\n",
       "      <th>call_date</th>\n",
       "      <th>duration</th>\n",
       "      <th>user_id</th>\n",
       "    </tr>\n",
       "  </thead>\n",
       "  <tbody>\n",
       "    <tr>\n",
       "      <td>0</td>\n",
       "      <td>1000_0</td>\n",
       "      <td>2018-07-25</td>\n",
       "      <td>0.00</td>\n",
       "      <td>1000</td>\n",
       "    </tr>\n",
       "    <tr>\n",
       "      <td>1</td>\n",
       "      <td>1000_1</td>\n",
       "      <td>2018-08-17</td>\n",
       "      <td>0.00</td>\n",
       "      <td>1000</td>\n",
       "    </tr>\n",
       "    <tr>\n",
       "      <td>2</td>\n",
       "      <td>1000_2</td>\n",
       "      <td>2018-06-11</td>\n",
       "      <td>2.85</td>\n",
       "      <td>1000</td>\n",
       "    </tr>\n",
       "  </tbody>\n",
       "</table>\n",
       "</div>"
      ],
      "text/plain": [
       "       id   call_date  duration  user_id\n",
       "0  1000_0  2018-07-25      0.00     1000\n",
       "1  1000_1  2018-08-17      0.00     1000\n",
       "2  1000_2  2018-06-11      2.85     1000"
      ]
     },
     "execution_count": 12,
     "metadata": {},
     "output_type": "execute_result"
    }
   ],
   "source": [
    "df_calls.head(3)"
   ]
  },
  {
   "cell_type": "code",
   "execution_count": 13,
   "metadata": {},
   "outputs": [
    {
     "name": "stdout",
     "output_type": "stream",
     "text": [
      "<class 'pandas.core.frame.DataFrame'>\n",
      "RangeIndex: 202607 entries, 0 to 202606\n",
      "Data columns (total 4 columns):\n",
      "id           202607 non-null object\n",
      "call_date    202607 non-null object\n",
      "duration     202607 non-null float64\n",
      "user_id      202607 non-null int64\n",
      "dtypes: float64(1), int64(1), object(2)\n",
      "memory usage: 6.2+ MB\n"
     ]
    }
   ],
   "source": [
    "df_calls.info()"
   ]
  },
  {
   "cell_type": "code",
   "execution_count": 14,
   "metadata": {},
   "outputs": [
    {
     "name": "stdout",
     "output_type": "stream",
     "text": [
      "Количество явных дубликатов под удаление: 0\n"
     ]
    }
   ],
   "source": [
    "print('Количество явных дубликатов под удаление:', df_calls.duplicated().sum()) # подсчёт явных дубликатов"
   ]
  },
  {
   "cell_type": "code",
   "execution_count": 15,
   "metadata": {},
   "outputs": [
    {
     "data": {
      "text/plain": [
       "count    202607.000000\n",
       "mean          6.755887\n",
       "std           5.843365\n",
       "min           0.000000\n",
       "25%           1.300000\n",
       "50%           6.000000\n",
       "75%          10.700000\n",
       "max          38.000000\n",
       "Name: duration, dtype: float64"
      ]
     },
     "execution_count": 15,
     "metadata": {},
     "output_type": "execute_result"
    }
   ],
   "source": [
    "df_calls['duration'].describe() # выгрузим статистику по продолжительности звонков"
   ]
  },
  {
   "cell_type": "markdown",
   "metadata": {},
   "source": [
    "### Датафрейм по статистике расхода интернета ###"
   ]
  },
  {
   "cell_type": "code",
   "execution_count": 16,
   "metadata": {},
   "outputs": [],
   "source": [
    "df_internet = pd.read_csv('/datasets/internet.csv') #загрузка датафрейма по интернету"
   ]
  },
  {
   "cell_type": "code",
   "execution_count": 17,
   "metadata": {
    "scrolled": false
   },
   "outputs": [
    {
     "data": {
      "text/html": [
       "<div>\n",
       "<style scoped>\n",
       "    .dataframe tbody tr th:only-of-type {\n",
       "        vertical-align: middle;\n",
       "    }\n",
       "\n",
       "    .dataframe tbody tr th {\n",
       "        vertical-align: top;\n",
       "    }\n",
       "\n",
       "    .dataframe thead th {\n",
       "        text-align: right;\n",
       "    }\n",
       "</style>\n",
       "<table border=\"1\" class=\"dataframe\">\n",
       "  <thead>\n",
       "    <tr style=\"text-align: right;\">\n",
       "      <th></th>\n",
       "      <th>Unnamed: 0</th>\n",
       "      <th>id</th>\n",
       "      <th>mb_used</th>\n",
       "      <th>session_date</th>\n",
       "      <th>user_id</th>\n",
       "    </tr>\n",
       "  </thead>\n",
       "  <tbody>\n",
       "    <tr>\n",
       "      <td>149393</td>\n",
       "      <td>149393</td>\n",
       "      <td>1499_154</td>\n",
       "      <td>0.00</td>\n",
       "      <td>2018-10-27</td>\n",
       "      <td>1499</td>\n",
       "    </tr>\n",
       "    <tr>\n",
       "      <td>149394</td>\n",
       "      <td>149394</td>\n",
       "      <td>1499_155</td>\n",
       "      <td>1246.32</td>\n",
       "      <td>2018-11-26</td>\n",
       "      <td>1499</td>\n",
       "    </tr>\n",
       "    <tr>\n",
       "      <td>149395</td>\n",
       "      <td>149395</td>\n",
       "      <td>1499_156</td>\n",
       "      <td>544.37</td>\n",
       "      <td>2018-10-26</td>\n",
       "      <td>1499</td>\n",
       "    </tr>\n",
       "  </tbody>\n",
       "</table>\n",
       "</div>"
      ],
      "text/plain": [
       "        Unnamed: 0        id  mb_used session_date  user_id\n",
       "149393      149393  1499_154     0.00   2018-10-27     1499\n",
       "149394      149394  1499_155  1246.32   2018-11-26     1499\n",
       "149395      149395  1499_156   544.37   2018-10-26     1499"
      ]
     },
     "execution_count": 17,
     "metadata": {},
     "output_type": "execute_result"
    }
   ],
   "source": [
    "df_internet.tail(3)"
   ]
  },
  {
   "cell_type": "code",
   "execution_count": 18,
   "metadata": {},
   "outputs": [
    {
     "name": "stdout",
     "output_type": "stream",
     "text": [
      "<class 'pandas.core.frame.DataFrame'>\n",
      "RangeIndex: 149396 entries, 0 to 149395\n",
      "Data columns (total 5 columns):\n",
      "Unnamed: 0      149396 non-null int64\n",
      "id              149396 non-null object\n",
      "mb_used         149396 non-null float64\n",
      "session_date    149396 non-null object\n",
      "user_id         149396 non-null int64\n",
      "dtypes: float64(1), int64(2), object(2)\n",
      "memory usage: 5.7+ MB\n"
     ]
    }
   ],
   "source": [
    "df_internet.info()"
   ]
  },
  {
   "cell_type": "code",
   "execution_count": 19,
   "metadata": {},
   "outputs": [
    {
     "name": "stdout",
     "output_type": "stream",
     "text": [
      "Количество явных дубликатов под удаление: 0\n"
     ]
    }
   ],
   "source": [
    "print('Количество явных дубликатов под удаление:', df_internet.duplicated().sum()) # подсчёт явных дубликатов"
   ]
  },
  {
   "cell_type": "code",
   "execution_count": 20,
   "metadata": {},
   "outputs": [
    {
     "data": {
      "text/plain": [
       "count    149396.000000\n",
       "mean        370.192426\n",
       "std         278.300951\n",
       "min           0.000000\n",
       "25%         138.187500\n",
       "50%         348.015000\n",
       "75%         559.552500\n",
       "max        1724.830000\n",
       "Name: mb_used, dtype: float64"
      ]
     },
     "execution_count": 20,
     "metadata": {},
     "output_type": "execute_result"
    }
   ],
   "source": [
    "df_internet['mb_used'].describe() # выгрузим статистику по продолжительности сессии в сети Интернет"
   ]
  },
  {
   "cell_type": "markdown",
   "metadata": {},
   "source": [
    "### Датафрейм по расходу сообщений ###"
   ]
  },
  {
   "cell_type": "code",
   "execution_count": 21,
   "metadata": {},
   "outputs": [],
   "source": [
    "df_messages = pd.read_csv('/datasets/messages.csv') #загрузка датафрейма по сообщениям"
   ]
  },
  {
   "cell_type": "code",
   "execution_count": 22,
   "metadata": {
    "scrolled": false
   },
   "outputs": [
    {
     "data": {
      "text/html": [
       "<div>\n",
       "<style scoped>\n",
       "    .dataframe tbody tr th:only-of-type {\n",
       "        vertical-align: middle;\n",
       "    }\n",
       "\n",
       "    .dataframe tbody tr th {\n",
       "        vertical-align: top;\n",
       "    }\n",
       "\n",
       "    .dataframe thead th {\n",
       "        text-align: right;\n",
       "    }\n",
       "</style>\n",
       "<table border=\"1\" class=\"dataframe\">\n",
       "  <thead>\n",
       "    <tr style=\"text-align: right;\">\n",
       "      <th></th>\n",
       "      <th>id</th>\n",
       "      <th>message_date</th>\n",
       "      <th>user_id</th>\n",
       "    </tr>\n",
       "  </thead>\n",
       "  <tbody>\n",
       "    <tr>\n",
       "      <td>0</td>\n",
       "      <td>1000_0</td>\n",
       "      <td>2018-06-27</td>\n",
       "      <td>1000</td>\n",
       "    </tr>\n",
       "    <tr>\n",
       "      <td>1</td>\n",
       "      <td>1000_1</td>\n",
       "      <td>2018-10-08</td>\n",
       "      <td>1000</td>\n",
       "    </tr>\n",
       "    <tr>\n",
       "      <td>2</td>\n",
       "      <td>1000_2</td>\n",
       "      <td>2018-08-04</td>\n",
       "      <td>1000</td>\n",
       "    </tr>\n",
       "  </tbody>\n",
       "</table>\n",
       "</div>"
      ],
      "text/plain": [
       "       id message_date  user_id\n",
       "0  1000_0   2018-06-27     1000\n",
       "1  1000_1   2018-10-08     1000\n",
       "2  1000_2   2018-08-04     1000"
      ]
     },
     "execution_count": 22,
     "metadata": {},
     "output_type": "execute_result"
    }
   ],
   "source": [
    "df_messages.head(3)"
   ]
  },
  {
   "cell_type": "code",
   "execution_count": 23,
   "metadata": {},
   "outputs": [
    {
     "name": "stdout",
     "output_type": "stream",
     "text": [
      "<class 'pandas.core.frame.DataFrame'>\n",
      "RangeIndex: 123036 entries, 0 to 123035\n",
      "Data columns (total 3 columns):\n",
      "id              123036 non-null object\n",
      "message_date    123036 non-null object\n",
      "user_id         123036 non-null int64\n",
      "dtypes: int64(1), object(2)\n",
      "memory usage: 2.8+ MB\n"
     ]
    }
   ],
   "source": [
    "df_messages.info()"
   ]
  },
  {
   "cell_type": "code",
   "execution_count": 24,
   "metadata": {},
   "outputs": [
    {
     "name": "stdout",
     "output_type": "stream",
     "text": [
      "Количество явных дубликатов под удаление: 0\n"
     ]
    }
   ],
   "source": [
    "print('Количество явных дубликатов под удаление:', df_messages.duplicated().sum()) # подсчёт явных дубликатов"
   ]
  },
  {
   "cell_type": "markdown",
   "metadata": {},
   "source": [
    "### Датафрейм по описанию тарифов ###"
   ]
  },
  {
   "cell_type": "code",
   "execution_count": 25,
   "metadata": {},
   "outputs": [],
   "source": [
    "df_tariffs = pd.read_csv('/datasets/tariffs.csv') #загрузка датафрейма по тарифам"
   ]
  },
  {
   "cell_type": "code",
   "execution_count": 26,
   "metadata": {},
   "outputs": [],
   "source": [
    "#переименуем столбец 'tariff_name' в 'tariff' по аналогии со столбцом датафрейма df_users\n",
    "df_tariffs = df_tariffs.rename(columns={'tariff_name': 'tariff'})"
   ]
  },
  {
   "cell_type": "code",
   "execution_count": 27,
   "metadata": {
    "scrolled": true
   },
   "outputs": [
    {
     "data": {
      "text/html": [
       "<div>\n",
       "<style scoped>\n",
       "    .dataframe tbody tr th:only-of-type {\n",
       "        vertical-align: middle;\n",
       "    }\n",
       "\n",
       "    .dataframe tbody tr th {\n",
       "        vertical-align: top;\n",
       "    }\n",
       "\n",
       "    .dataframe thead th {\n",
       "        text-align: right;\n",
       "    }\n",
       "</style>\n",
       "<table border=\"1\" class=\"dataframe\">\n",
       "  <thead>\n",
       "    <tr style=\"text-align: right;\">\n",
       "      <th></th>\n",
       "      <th>messages_included</th>\n",
       "      <th>mb_per_month_included</th>\n",
       "      <th>minutes_included</th>\n",
       "      <th>rub_monthly_fee</th>\n",
       "      <th>rub_per_gb</th>\n",
       "      <th>rub_per_message</th>\n",
       "      <th>rub_per_minute</th>\n",
       "      <th>tariff</th>\n",
       "    </tr>\n",
       "  </thead>\n",
       "  <tbody>\n",
       "    <tr>\n",
       "      <td>0</td>\n",
       "      <td>50</td>\n",
       "      <td>15360</td>\n",
       "      <td>500</td>\n",
       "      <td>550</td>\n",
       "      <td>200</td>\n",
       "      <td>3</td>\n",
       "      <td>3</td>\n",
       "      <td>smart</td>\n",
       "    </tr>\n",
       "    <tr>\n",
       "      <td>1</td>\n",
       "      <td>1000</td>\n",
       "      <td>30720</td>\n",
       "      <td>3000</td>\n",
       "      <td>1950</td>\n",
       "      <td>150</td>\n",
       "      <td>1</td>\n",
       "      <td>1</td>\n",
       "      <td>ultra</td>\n",
       "    </tr>\n",
       "  </tbody>\n",
       "</table>\n",
       "</div>"
      ],
      "text/plain": [
       "   messages_included  mb_per_month_included  minutes_included  \\\n",
       "0                 50                  15360               500   \n",
       "1               1000                  30720              3000   \n",
       "\n",
       "   rub_monthly_fee  rub_per_gb  rub_per_message  rub_per_minute tariff  \n",
       "0              550         200                3               3  smart  \n",
       "1             1950         150                1               1  ultra  "
      ]
     },
     "execution_count": 27,
     "metadata": {},
     "output_type": "execute_result"
    }
   ],
   "source": [
    "df_tariffs.head()"
   ]
  },
  {
   "cell_type": "code",
   "execution_count": 28,
   "metadata": {},
   "outputs": [],
   "source": [
    "#добавим столбец с Гб для расчета тарификации в дальнейшем\n",
    "df_tariffs['gb_per_month_included'] = df_tariffs['mb_per_month_included']/1024\n",
    "\n",
    "#столбец 'mb_per_month_included' удалим\n",
    "df_tariffs = df_tariffs.drop(columns=['mb_per_month_included'])"
   ]
  },
  {
   "cell_type": "code",
   "execution_count": 29,
   "metadata": {
    "scrolled": false
   },
   "outputs": [
    {
     "data": {
      "text/html": [
       "<div>\n",
       "<style scoped>\n",
       "    .dataframe tbody tr th:only-of-type {\n",
       "        vertical-align: middle;\n",
       "    }\n",
       "\n",
       "    .dataframe tbody tr th {\n",
       "        vertical-align: top;\n",
       "    }\n",
       "\n",
       "    .dataframe thead th {\n",
       "        text-align: right;\n",
       "    }\n",
       "</style>\n",
       "<table border=\"1\" class=\"dataframe\">\n",
       "  <thead>\n",
       "    <tr style=\"text-align: right;\">\n",
       "      <th></th>\n",
       "      <th>messages_included</th>\n",
       "      <th>minutes_included</th>\n",
       "      <th>rub_monthly_fee</th>\n",
       "      <th>rub_per_gb</th>\n",
       "      <th>rub_per_message</th>\n",
       "      <th>rub_per_minute</th>\n",
       "      <th>tariff</th>\n",
       "      <th>gb_per_month_included</th>\n",
       "    </tr>\n",
       "  </thead>\n",
       "  <tbody>\n",
       "    <tr>\n",
       "      <td>0</td>\n",
       "      <td>50</td>\n",
       "      <td>500</td>\n",
       "      <td>550</td>\n",
       "      <td>200</td>\n",
       "      <td>3</td>\n",
       "      <td>3</td>\n",
       "      <td>smart</td>\n",
       "      <td>15.0</td>\n",
       "    </tr>\n",
       "    <tr>\n",
       "      <td>1</td>\n",
       "      <td>1000</td>\n",
       "      <td>3000</td>\n",
       "      <td>1950</td>\n",
       "      <td>150</td>\n",
       "      <td>1</td>\n",
       "      <td>1</td>\n",
       "      <td>ultra</td>\n",
       "      <td>30.0</td>\n",
       "    </tr>\n",
       "  </tbody>\n",
       "</table>\n",
       "</div>"
      ],
      "text/plain": [
       "   messages_included  minutes_included  rub_monthly_fee  rub_per_gb  \\\n",
       "0                 50               500              550         200   \n",
       "1               1000              3000             1950         150   \n",
       "\n",
       "   rub_per_message  rub_per_minute tariff  gb_per_month_included  \n",
       "0                3               3  smart                   15.0  \n",
       "1                1               1  ultra                   30.0  "
      ]
     },
     "execution_count": 29,
     "metadata": {},
     "output_type": "execute_result"
    }
   ],
   "source": [
    "df_tariffs.head()"
   ]
  },
  {
   "cell_type": "markdown",
   "metadata": {},
   "source": [
    "**Вывод:**\n",
    "- Заголовки датафреймов соответствуют правилам синтаксиса, исправлений не требуется.\n",
    "- Прямых дубликатов в данных нет.\n",
    "- Все датафреймы содержат данные, которые выглядят доверительными, очевидных отклонений нет.\n",
    "- Статистика представлена по всей стране от Астрахани до Якутска.\n",
    "- Дата во все датафреймах в формате строки, требуется изменение типа."
   ]
  },
  {
   "cell_type": "markdown",
   "metadata": {},
   "source": [
    "## Подготовка данных ##"
   ]
  },
  {
   "cell_type": "markdown",
   "metadata": {},
   "source": [
    "Переведем даты из строки в формат даты 'datetime' для дальнейшей работы с переменной и добавим в датафрейм:\n",
    "- для звонков;\n",
    "- для сессий в Интернет;\n",
    "- для сообщений."
   ]
  },
  {
   "cell_type": "markdown",
   "metadata": {},
   "source": [
    "### Подготовка датафрейма по звонкам ###"
   ]
  },
  {
   "cell_type": "code",
   "execution_count": 30,
   "metadata": {},
   "outputs": [],
   "source": [
    "df_calls['call_datetime'] = pd.to_datetime(df_calls['call_date'], format = '%Y-%m-%d') \n",
    "df_calls['transaction_month'] = df_calls['call_datetime'].dt.month #месяц в году\n",
    "df_calls['call_datetime_year'] = df_calls['call_datetime'].dt.year #месяц в году"
   ]
  },
  {
   "cell_type": "code",
   "execution_count": 31,
   "metadata": {},
   "outputs": [
    {
     "name": "stdout",
     "output_type": "stream",
     "text": [
      "Данные в выборке за [2018] год.\n"
     ]
    }
   ],
   "source": [
    "print('Данные в выборке за', sorted(df_calls['call_datetime_year'].unique()), 'год.') #посмотрим за какой год срез данных"
   ]
  },
  {
   "cell_type": "code",
   "execution_count": 32,
   "metadata": {},
   "outputs": [],
   "source": [
    "df_calls['duration_round'] = np.ceil(df_calls['duration']) #округление минут до большего значения "
   ]
  },
  {
   "cell_type": "code",
   "execution_count": 33,
   "metadata": {},
   "outputs": [
    {
     "data": {
      "text/html": [
       "<div>\n",
       "<style scoped>\n",
       "    .dataframe tbody tr th:only-of-type {\n",
       "        vertical-align: middle;\n",
       "    }\n",
       "\n",
       "    .dataframe tbody tr th {\n",
       "        vertical-align: top;\n",
       "    }\n",
       "\n",
       "    .dataframe thead th {\n",
       "        text-align: right;\n",
       "    }\n",
       "</style>\n",
       "<table border=\"1\" class=\"dataframe\">\n",
       "  <thead>\n",
       "    <tr style=\"text-align: right;\">\n",
       "      <th></th>\n",
       "      <th>id</th>\n",
       "      <th>call_date</th>\n",
       "      <th>duration</th>\n",
       "      <th>user_id</th>\n",
       "      <th>call_datetime</th>\n",
       "      <th>transaction_month</th>\n",
       "      <th>call_datetime_year</th>\n",
       "      <th>duration_round</th>\n",
       "    </tr>\n",
       "  </thead>\n",
       "  <tbody>\n",
       "    <tr>\n",
       "      <td>0</td>\n",
       "      <td>1000_0</td>\n",
       "      <td>2018-07-25</td>\n",
       "      <td>0.00</td>\n",
       "      <td>1000</td>\n",
       "      <td>2018-07-25</td>\n",
       "      <td>7</td>\n",
       "      <td>2018</td>\n",
       "      <td>0.0</td>\n",
       "    </tr>\n",
       "    <tr>\n",
       "      <td>1</td>\n",
       "      <td>1000_1</td>\n",
       "      <td>2018-08-17</td>\n",
       "      <td>0.00</td>\n",
       "      <td>1000</td>\n",
       "      <td>2018-08-17</td>\n",
       "      <td>8</td>\n",
       "      <td>2018</td>\n",
       "      <td>0.0</td>\n",
       "    </tr>\n",
       "    <tr>\n",
       "      <td>2</td>\n",
       "      <td>1000_2</td>\n",
       "      <td>2018-06-11</td>\n",
       "      <td>2.85</td>\n",
       "      <td>1000</td>\n",
       "      <td>2018-06-11</td>\n",
       "      <td>6</td>\n",
       "      <td>2018</td>\n",
       "      <td>3.0</td>\n",
       "    </tr>\n",
       "    <tr>\n",
       "      <td>3</td>\n",
       "      <td>1000_3</td>\n",
       "      <td>2018-09-21</td>\n",
       "      <td>13.80</td>\n",
       "      <td>1000</td>\n",
       "      <td>2018-09-21</td>\n",
       "      <td>9</td>\n",
       "      <td>2018</td>\n",
       "      <td>14.0</td>\n",
       "    </tr>\n",
       "    <tr>\n",
       "      <td>4</td>\n",
       "      <td>1000_4</td>\n",
       "      <td>2018-12-15</td>\n",
       "      <td>5.18</td>\n",
       "      <td>1000</td>\n",
       "      <td>2018-12-15</td>\n",
       "      <td>12</td>\n",
       "      <td>2018</td>\n",
       "      <td>6.0</td>\n",
       "    </tr>\n",
       "  </tbody>\n",
       "</table>\n",
       "</div>"
      ],
      "text/plain": [
       "       id   call_date  duration  user_id call_datetime  transaction_month  \\\n",
       "0  1000_0  2018-07-25      0.00     1000    2018-07-25                  7   \n",
       "1  1000_1  2018-08-17      0.00     1000    2018-08-17                  8   \n",
       "2  1000_2  2018-06-11      2.85     1000    2018-06-11                  6   \n",
       "3  1000_3  2018-09-21     13.80     1000    2018-09-21                  9   \n",
       "4  1000_4  2018-12-15      5.18     1000    2018-12-15                 12   \n",
       "\n",
       "   call_datetime_year  duration_round  \n",
       "0                2018             0.0  \n",
       "1                2018             0.0  \n",
       "2                2018             3.0  \n",
       "3                2018            14.0  \n",
       "4                2018             6.0  "
      ]
     },
     "execution_count": 33,
     "metadata": {},
     "output_type": "execute_result"
    }
   ],
   "source": [
    "df_calls.head()"
   ]
  },
  {
   "cell_type": "markdown",
   "metadata": {},
   "source": [
    "### Подготовка датафрейма по сессиям в Интернет ###"
   ]
  },
  {
   "cell_type": "code",
   "execution_count": 34,
   "metadata": {},
   "outputs": [],
   "source": [
    "df_internet['session_datetime'] = pd.to_datetime(df_internet['session_date'], format = '%Y-%m-%d')\n",
    "df_internet['transaction_month'] = df_internet['session_datetime'].dt.month #месяц в году"
   ]
  },
  {
   "cell_type": "code",
   "execution_count": 35,
   "metadata": {
    "scrolled": true
   },
   "outputs": [
    {
     "data": {
      "text/html": [
       "<div>\n",
       "<style scoped>\n",
       "    .dataframe tbody tr th:only-of-type {\n",
       "        vertical-align: middle;\n",
       "    }\n",
       "\n",
       "    .dataframe tbody tr th {\n",
       "        vertical-align: top;\n",
       "    }\n",
       "\n",
       "    .dataframe thead th {\n",
       "        text-align: right;\n",
       "    }\n",
       "</style>\n",
       "<table border=\"1\" class=\"dataframe\">\n",
       "  <thead>\n",
       "    <tr style=\"text-align: right;\">\n",
       "      <th></th>\n",
       "      <th>Unnamed: 0</th>\n",
       "      <th>id</th>\n",
       "      <th>mb_used</th>\n",
       "      <th>session_date</th>\n",
       "      <th>user_id</th>\n",
       "      <th>session_datetime</th>\n",
       "      <th>transaction_month</th>\n",
       "    </tr>\n",
       "  </thead>\n",
       "  <tbody>\n",
       "    <tr>\n",
       "      <td>0</td>\n",
       "      <td>0</td>\n",
       "      <td>1000_0</td>\n",
       "      <td>112.95</td>\n",
       "      <td>2018-11-25</td>\n",
       "      <td>1000</td>\n",
       "      <td>2018-11-25</td>\n",
       "      <td>11</td>\n",
       "    </tr>\n",
       "    <tr>\n",
       "      <td>1</td>\n",
       "      <td>1</td>\n",
       "      <td>1000_1</td>\n",
       "      <td>1052.81</td>\n",
       "      <td>2018-09-07</td>\n",
       "      <td>1000</td>\n",
       "      <td>2018-09-07</td>\n",
       "      <td>9</td>\n",
       "    </tr>\n",
       "    <tr>\n",
       "      <td>2</td>\n",
       "      <td>2</td>\n",
       "      <td>1000_2</td>\n",
       "      <td>1197.26</td>\n",
       "      <td>2018-06-25</td>\n",
       "      <td>1000</td>\n",
       "      <td>2018-06-25</td>\n",
       "      <td>6</td>\n",
       "    </tr>\n",
       "  </tbody>\n",
       "</table>\n",
       "</div>"
      ],
      "text/plain": [
       "   Unnamed: 0      id  mb_used session_date  user_id session_datetime  \\\n",
       "0           0  1000_0   112.95   2018-11-25     1000       2018-11-25   \n",
       "1           1  1000_1  1052.81   2018-09-07     1000       2018-09-07   \n",
       "2           2  1000_2  1197.26   2018-06-25     1000       2018-06-25   \n",
       "\n",
       "   transaction_month  \n",
       "0                 11  \n",
       "1                  9  \n",
       "2                  6  "
      ]
     },
     "execution_count": 35,
     "metadata": {},
     "output_type": "execute_result"
    }
   ],
   "source": [
    "df_internet.head(3)"
   ]
  },
  {
   "cell_type": "markdown",
   "metadata": {},
   "source": [
    "### Подготовка датафрейма по сообщениям ###"
   ]
  },
  {
   "cell_type": "code",
   "execution_count": 36,
   "metadata": {},
   "outputs": [],
   "source": [
    "df_messages['message_datetime'] = pd.to_datetime(df_messages['message_date'], format = '%Y-%m-%d')\n",
    "df_messages['transaction_month'] = df_messages['message_datetime'].dt.month #месяц в году"
   ]
  },
  {
   "cell_type": "code",
   "execution_count": 37,
   "metadata": {},
   "outputs": [
    {
     "data": {
      "text/html": [
       "<div>\n",
       "<style scoped>\n",
       "    .dataframe tbody tr th:only-of-type {\n",
       "        vertical-align: middle;\n",
       "    }\n",
       "\n",
       "    .dataframe tbody tr th {\n",
       "        vertical-align: top;\n",
       "    }\n",
       "\n",
       "    .dataframe thead th {\n",
       "        text-align: right;\n",
       "    }\n",
       "</style>\n",
       "<table border=\"1\" class=\"dataframe\">\n",
       "  <thead>\n",
       "    <tr style=\"text-align: right;\">\n",
       "      <th></th>\n",
       "      <th>id</th>\n",
       "      <th>message_date</th>\n",
       "      <th>user_id</th>\n",
       "      <th>message_datetime</th>\n",
       "      <th>transaction_month</th>\n",
       "    </tr>\n",
       "  </thead>\n",
       "  <tbody>\n",
       "    <tr>\n",
       "      <td>0</td>\n",
       "      <td>1000_0</td>\n",
       "      <td>2018-06-27</td>\n",
       "      <td>1000</td>\n",
       "      <td>2018-06-27</td>\n",
       "      <td>6</td>\n",
       "    </tr>\n",
       "    <tr>\n",
       "      <td>1</td>\n",
       "      <td>1000_1</td>\n",
       "      <td>2018-10-08</td>\n",
       "      <td>1000</td>\n",
       "      <td>2018-10-08</td>\n",
       "      <td>10</td>\n",
       "    </tr>\n",
       "    <tr>\n",
       "      <td>2</td>\n",
       "      <td>1000_2</td>\n",
       "      <td>2018-08-04</td>\n",
       "      <td>1000</td>\n",
       "      <td>2018-08-04</td>\n",
       "      <td>8</td>\n",
       "    </tr>\n",
       "  </tbody>\n",
       "</table>\n",
       "</div>"
      ],
      "text/plain": [
       "       id message_date  user_id message_datetime  transaction_month\n",
       "0  1000_0   2018-06-27     1000       2018-06-27                  6\n",
       "1  1000_1   2018-10-08     1000       2018-10-08                 10\n",
       "2  1000_2   2018-08-04     1000       2018-08-04                  8"
      ]
     },
     "execution_count": 37,
     "metadata": {},
     "output_type": "execute_result"
    }
   ],
   "source": [
    "df_messages.head(3)"
   ]
  },
  {
   "cell_type": "markdown",
   "metadata": {},
   "source": [
    "**Вывод:** Изменение типа данных успешно проведено для 3 датафреймов."
   ]
  },
  {
   "attachments": {},
   "cell_type": "markdown",
   "metadata": {},
   "source": [
    "Что касается нулевых значений, то может быть несколько причин:\n",
    "- Мессенджеры требуют постоянного подключения к сети и активной сессии, но их трафик не учитывается.\n",
    "- Слабое интернет соединение, подключение есть, но передать в сеть ничего не получается.\n",
    "Надо уточнить со специалистами, которые предоставили выгрузку.\n"
   ]
  },
  {
   "cell_type": "markdown",
   "metadata": {},
   "source": [
    "## Проведение расчетов ##"
   ]
  },
  {
   "cell_type": "markdown",
   "metadata": {},
   "source": [
    "### Анализ количества и продолжительности звонков по пользователям ###"
   ]
  },
  {
   "cell_type": "code",
   "execution_count": 38,
   "metadata": {},
   "outputs": [],
   "source": [
    "#группируем данные по пользователю, месяцу пользования и производим рассчет количества и суммы\n",
    "\n",
    "df_calls_id = df_calls.groupby(['user_id','transaction_month']).agg({'duration_round':['sum','count']})"
   ]
  },
  {
   "cell_type": "code",
   "execution_count": 39,
   "metadata": {},
   "outputs": [],
   "source": [
    "df_calls_id = df_calls_id.reset_index() #сбросим мульти-индекс у сводного датафрейма"
   ]
  },
  {
   "cell_type": "code",
   "execution_count": 40,
   "metadata": {},
   "outputs": [],
   "source": [
    "df_calls_id.columns = ['user_id', 'transaction_month', 'call_sum','call_count'] #переименуем колонки сводного датафрейма"
   ]
  },
  {
   "cell_type": "code",
   "execution_count": 41,
   "metadata": {},
   "outputs": [
    {
     "data": {
      "text/html": [
       "<div>\n",
       "<style scoped>\n",
       "    .dataframe tbody tr th:only-of-type {\n",
       "        vertical-align: middle;\n",
       "    }\n",
       "\n",
       "    .dataframe tbody tr th {\n",
       "        vertical-align: top;\n",
       "    }\n",
       "\n",
       "    .dataframe thead th {\n",
       "        text-align: right;\n",
       "    }\n",
       "</style>\n",
       "<table border=\"1\" class=\"dataframe\">\n",
       "  <thead>\n",
       "    <tr style=\"text-align: right;\">\n",
       "      <th></th>\n",
       "      <th>user_id</th>\n",
       "      <th>transaction_month</th>\n",
       "      <th>call_sum</th>\n",
       "      <th>call_count</th>\n",
       "    </tr>\n",
       "  </thead>\n",
       "  <tbody>\n",
       "    <tr>\n",
       "      <td>0</td>\n",
       "      <td>1000</td>\n",
       "      <td>5</td>\n",
       "      <td>159.0</td>\n",
       "      <td>22</td>\n",
       "    </tr>\n",
       "    <tr>\n",
       "      <td>1</td>\n",
       "      <td>1000</td>\n",
       "      <td>6</td>\n",
       "      <td>172.0</td>\n",
       "      <td>43</td>\n",
       "    </tr>\n",
       "    <tr>\n",
       "      <td>2</td>\n",
       "      <td>1000</td>\n",
       "      <td>7</td>\n",
       "      <td>340.0</td>\n",
       "      <td>47</td>\n",
       "    </tr>\n",
       "  </tbody>\n",
       "</table>\n",
       "</div>"
      ],
      "text/plain": [
       "   user_id  transaction_month  call_sum  call_count\n",
       "0     1000                  5     159.0          22\n",
       "1     1000                  6     172.0          43\n",
       "2     1000                  7     340.0          47"
      ]
     },
     "execution_count": 41,
     "metadata": {},
     "output_type": "execute_result"
    }
   ],
   "source": [
    "df_calls_id.head(3)"
   ]
  },
  {
   "cell_type": "markdown",
   "metadata": {},
   "source": [
    "### Анализ продолжительности по сессиям в сети Интернет ###"
   ]
  },
  {
   "cell_type": "code",
   "execution_count": 42,
   "metadata": {},
   "outputs": [],
   "source": [
    "#группируем данные по пользователю, месяцу пользования и производим рассчет количества и суммы\n",
    "df_internet_id = df_internet.groupby(['user_id','transaction_month']).agg({'mb_used':'sum'})"
   ]
  },
  {
   "cell_type": "code",
   "execution_count": 43,
   "metadata": {},
   "outputs": [],
   "source": [
    "#рассчитаем количество пакетов интернета по 1024мб, округлим в большую сторону\n",
    "\n",
    "df_internet_id['gb_used_round'] = (np.ceil(df_internet_id['mb_used']/1024)).astype('int')"
   ]
  },
  {
   "cell_type": "code",
   "execution_count": 44,
   "metadata": {},
   "outputs": [],
   "source": [
    "df_internet_id = df_internet_id.reset_index() #сбросим мульти-индекс у сводного датафрейма"
   ]
  },
  {
   "cell_type": "code",
   "execution_count": 45,
   "metadata": {
    "scrolled": true
   },
   "outputs": [
    {
     "data": {
      "text/html": [
       "<div>\n",
       "<style scoped>\n",
       "    .dataframe tbody tr th:only-of-type {\n",
       "        vertical-align: middle;\n",
       "    }\n",
       "\n",
       "    .dataframe tbody tr th {\n",
       "        vertical-align: top;\n",
       "    }\n",
       "\n",
       "    .dataframe thead th {\n",
       "        text-align: right;\n",
       "    }\n",
       "</style>\n",
       "<table border=\"1\" class=\"dataframe\">\n",
       "  <thead>\n",
       "    <tr style=\"text-align: right;\">\n",
       "      <th></th>\n",
       "      <th>user_id</th>\n",
       "      <th>transaction_month</th>\n",
       "      <th>mb_used</th>\n",
       "      <th>gb_used_round</th>\n",
       "    </tr>\n",
       "  </thead>\n",
       "  <tbody>\n",
       "    <tr>\n",
       "      <td>0</td>\n",
       "      <td>1000</td>\n",
       "      <td>5</td>\n",
       "      <td>2253.49</td>\n",
       "      <td>3</td>\n",
       "    </tr>\n",
       "    <tr>\n",
       "      <td>1</td>\n",
       "      <td>1000</td>\n",
       "      <td>6</td>\n",
       "      <td>23233.77</td>\n",
       "      <td>23</td>\n",
       "    </tr>\n",
       "    <tr>\n",
       "      <td>2</td>\n",
       "      <td>1000</td>\n",
       "      <td>7</td>\n",
       "      <td>14003.64</td>\n",
       "      <td>14</td>\n",
       "    </tr>\n",
       "  </tbody>\n",
       "</table>\n",
       "</div>"
      ],
      "text/plain": [
       "   user_id  transaction_month   mb_used  gb_used_round\n",
       "0     1000                  5   2253.49              3\n",
       "1     1000                  6  23233.77             23\n",
       "2     1000                  7  14003.64             14"
      ]
     },
     "execution_count": 45,
     "metadata": {},
     "output_type": "execute_result"
    }
   ],
   "source": [
    "df_internet_id.head(3)"
   ]
  },
  {
   "cell_type": "markdown",
   "metadata": {},
   "source": [
    "### Анализ количества сообщений ###"
   ]
  },
  {
   "cell_type": "code",
   "execution_count": 46,
   "metadata": {},
   "outputs": [],
   "source": [
    "#группируем данные по пользователю, месяцу пользования и производим рассчет количества\n",
    "df_messages_id = df_messages.groupby(['user_id','transaction_month']).agg({'id':'count'})"
   ]
  },
  {
   "cell_type": "code",
   "execution_count": 47,
   "metadata": {},
   "outputs": [],
   "source": [
    "#переименуем сболбцы датафрейма\n",
    "\n",
    "df_messages_id.columns = ['msg_count']"
   ]
  },
  {
   "cell_type": "code",
   "execution_count": 48,
   "metadata": {},
   "outputs": [],
   "source": [
    "df_messages_id = df_messages_id.reset_index() #сбросим мульти-индекс у сводного датафрейма"
   ]
  },
  {
   "cell_type": "code",
   "execution_count": 49,
   "metadata": {},
   "outputs": [
    {
     "data": {
      "text/html": [
       "<div>\n",
       "<style scoped>\n",
       "    .dataframe tbody tr th:only-of-type {\n",
       "        vertical-align: middle;\n",
       "    }\n",
       "\n",
       "    .dataframe tbody tr th {\n",
       "        vertical-align: top;\n",
       "    }\n",
       "\n",
       "    .dataframe thead th {\n",
       "        text-align: right;\n",
       "    }\n",
       "</style>\n",
       "<table border=\"1\" class=\"dataframe\">\n",
       "  <thead>\n",
       "    <tr style=\"text-align: right;\">\n",
       "      <th></th>\n",
       "      <th>user_id</th>\n",
       "      <th>transaction_month</th>\n",
       "      <th>msg_count</th>\n",
       "    </tr>\n",
       "  </thead>\n",
       "  <tbody>\n",
       "    <tr>\n",
       "      <td>0</td>\n",
       "      <td>1000</td>\n",
       "      <td>5</td>\n",
       "      <td>22</td>\n",
       "    </tr>\n",
       "    <tr>\n",
       "      <td>1</td>\n",
       "      <td>1000</td>\n",
       "      <td>6</td>\n",
       "      <td>60</td>\n",
       "    </tr>\n",
       "    <tr>\n",
       "      <td>2</td>\n",
       "      <td>1000</td>\n",
       "      <td>7</td>\n",
       "      <td>75</td>\n",
       "    </tr>\n",
       "    <tr>\n",
       "      <td>3</td>\n",
       "      <td>1000</td>\n",
       "      <td>8</td>\n",
       "      <td>81</td>\n",
       "    </tr>\n",
       "    <tr>\n",
       "      <td>4</td>\n",
       "      <td>1000</td>\n",
       "      <td>9</td>\n",
       "      <td>57</td>\n",
       "    </tr>\n",
       "  </tbody>\n",
       "</table>\n",
       "</div>"
      ],
      "text/plain": [
       "   user_id  transaction_month  msg_count\n",
       "0     1000                  5         22\n",
       "1     1000                  6         60\n",
       "2     1000                  7         75\n",
       "3     1000                  8         81\n",
       "4     1000                  9         57"
      ]
     },
     "execution_count": 49,
     "metadata": {},
     "output_type": "execute_result"
    }
   ],
   "source": [
    "df_messages_id.head()"
   ]
  },
  {
   "cell_type": "markdown",
   "metadata": {},
   "source": [
    "### Подготовка сборного датафрейма ###"
   ]
  },
  {
   "cell_type": "code",
   "execution_count": 50,
   "metadata": {},
   "outputs": [],
   "source": [
    "#объединим в промежуточный датафрейм 2 таблицы (df_users и df_tariffs) по тарифу \n",
    "df_raw = df_users.merge(df_tariffs, on='tariff', how='left')"
   ]
  },
  {
   "cell_type": "code",
   "execution_count": 51,
   "metadata": {
    "scrolled": false
   },
   "outputs": [
    {
     "data": {
      "text/html": [
       "<div>\n",
       "<style scoped>\n",
       "    .dataframe tbody tr th:only-of-type {\n",
       "        vertical-align: middle;\n",
       "    }\n",
       "\n",
       "    .dataframe tbody tr th {\n",
       "        vertical-align: top;\n",
       "    }\n",
       "\n",
       "    .dataframe thead th {\n",
       "        text-align: right;\n",
       "    }\n",
       "</style>\n",
       "<table border=\"1\" class=\"dataframe\">\n",
       "  <thead>\n",
       "    <tr style=\"text-align: right;\">\n",
       "      <th></th>\n",
       "      <th>user_id</th>\n",
       "      <th>city</th>\n",
       "      <th>tariff</th>\n",
       "      <th>messages_included</th>\n",
       "      <th>minutes_included</th>\n",
       "      <th>rub_monthly_fee</th>\n",
       "      <th>rub_per_gb</th>\n",
       "      <th>rub_per_message</th>\n",
       "      <th>rub_per_minute</th>\n",
       "      <th>gb_per_month_included</th>\n",
       "    </tr>\n",
       "  </thead>\n",
       "  <tbody>\n",
       "    <tr>\n",
       "      <td>0</td>\n",
       "      <td>1000</td>\n",
       "      <td>Краснодар</td>\n",
       "      <td>ultra</td>\n",
       "      <td>1000</td>\n",
       "      <td>3000</td>\n",
       "      <td>1950</td>\n",
       "      <td>150</td>\n",
       "      <td>1</td>\n",
       "      <td>1</td>\n",
       "      <td>30.0</td>\n",
       "    </tr>\n",
       "    <tr>\n",
       "      <td>1</td>\n",
       "      <td>1001</td>\n",
       "      <td>Москва</td>\n",
       "      <td>smart</td>\n",
       "      <td>50</td>\n",
       "      <td>500</td>\n",
       "      <td>550</td>\n",
       "      <td>200</td>\n",
       "      <td>3</td>\n",
       "      <td>3</td>\n",
       "      <td>15.0</td>\n",
       "    </tr>\n",
       "    <tr>\n",
       "      <td>2</td>\n",
       "      <td>1002</td>\n",
       "      <td>Стерлитамак</td>\n",
       "      <td>smart</td>\n",
       "      <td>50</td>\n",
       "      <td>500</td>\n",
       "      <td>550</td>\n",
       "      <td>200</td>\n",
       "      <td>3</td>\n",
       "      <td>3</td>\n",
       "      <td>15.0</td>\n",
       "    </tr>\n",
       "    <tr>\n",
       "      <td>3</td>\n",
       "      <td>1003</td>\n",
       "      <td>Москва</td>\n",
       "      <td>ultra</td>\n",
       "      <td>1000</td>\n",
       "      <td>3000</td>\n",
       "      <td>1950</td>\n",
       "      <td>150</td>\n",
       "      <td>1</td>\n",
       "      <td>1</td>\n",
       "      <td>30.0</td>\n",
       "    </tr>\n",
       "    <tr>\n",
       "      <td>4</td>\n",
       "      <td>1004</td>\n",
       "      <td>Новокузнецк</td>\n",
       "      <td>ultra</td>\n",
       "      <td>1000</td>\n",
       "      <td>3000</td>\n",
       "      <td>1950</td>\n",
       "      <td>150</td>\n",
       "      <td>1</td>\n",
       "      <td>1</td>\n",
       "      <td>30.0</td>\n",
       "    </tr>\n",
       "  </tbody>\n",
       "</table>\n",
       "</div>"
      ],
      "text/plain": [
       "   user_id         city tariff  messages_included  minutes_included  \\\n",
       "0     1000    Краснодар  ultra               1000              3000   \n",
       "1     1001       Москва  smart                 50               500   \n",
       "2     1002  Стерлитамак  smart                 50               500   \n",
       "3     1003       Москва  ultra               1000              3000   \n",
       "4     1004  Новокузнецк  ultra               1000              3000   \n",
       "\n",
       "   rub_monthly_fee  rub_per_gb  rub_per_message  rub_per_minute  \\\n",
       "0             1950         150                1               1   \n",
       "1              550         200                3               3   \n",
       "2              550         200                3               3   \n",
       "3             1950         150                1               1   \n",
       "4             1950         150                1               1   \n",
       "\n",
       "   gb_per_month_included  \n",
       "0                   30.0  \n",
       "1                   15.0  \n",
       "2                   15.0  \n",
       "3                   30.0  \n",
       "4                   30.0  "
      ]
     },
     "execution_count": 51,
     "metadata": {},
     "output_type": "execute_result"
    }
   ],
   "source": [
    "df_raw.head() #тарифы пользователей отображаются верно"
   ]
  },
  {
   "cell_type": "code",
   "execution_count": 52,
   "metadata": {},
   "outputs": [],
   "source": [
    "#объединим в итоговый датафрейм все звонки, сессии в Интернет и сообщения\n",
    "\n",
    "df = (\n",
    "    df_calls_id\n",
    "    .merge(df_messages_id, on=['user_id','transaction_month'], how='outer')\n",
    "    .merge(df_internet_id, on=['user_id','transaction_month'], how='outer')\n",
    "    .merge(df_raw, on='user_id', how='outer')\n",
    ")"
   ]
  },
  {
   "cell_type": "code",
   "execution_count": 53,
   "metadata": {
    "scrolled": true
   },
   "outputs": [
    {
     "name": "stdout",
     "output_type": "stream",
     "text": [
      "<class 'pandas.core.frame.DataFrame'>\n",
      "Int64Index: 3216 entries, 0 to 3215\n",
      "Data columns (total 16 columns):\n",
      "user_id                  3216 non-null int64\n",
      "transaction_month        3214 non-null float64\n",
      "call_sum                 3174 non-null float64\n",
      "call_count               3174 non-null float64\n",
      "msg_count                2717 non-null float64\n",
      "mb_used                  3203 non-null float64\n",
      "gb_used_round            3203 non-null float64\n",
      "city                     3216 non-null object\n",
      "tariff                   3216 non-null object\n",
      "messages_included        3216 non-null int64\n",
      "minutes_included         3216 non-null int64\n",
      "rub_monthly_fee          3216 non-null int64\n",
      "rub_per_gb               3216 non-null int64\n",
      "rub_per_message          3216 non-null int64\n",
      "rub_per_minute           3216 non-null int64\n",
      "gb_per_month_included    3216 non-null float64\n",
      "dtypes: float64(7), int64(7), object(2)\n",
      "memory usage: 427.1+ KB\n"
     ]
    }
   ],
   "source": [
    "df.info() #посмотрим общую информацию об итоговом датафрейме"
   ]
  },
  {
   "cell_type": "code",
   "execution_count": 54,
   "metadata": {
    "scrolled": true
   },
   "outputs": [
    {
     "data": {
      "text/html": [
       "<div>\n",
       "<style scoped>\n",
       "    .dataframe tbody tr th:only-of-type {\n",
       "        vertical-align: middle;\n",
       "    }\n",
       "\n",
       "    .dataframe tbody tr th {\n",
       "        vertical-align: top;\n",
       "    }\n",
       "\n",
       "    .dataframe thead th {\n",
       "        text-align: right;\n",
       "    }\n",
       "</style>\n",
       "<table border=\"1\" class=\"dataframe\">\n",
       "  <thead>\n",
       "    <tr style=\"text-align: right;\">\n",
       "      <th></th>\n",
       "      <th>user_id</th>\n",
       "      <th>transaction_month</th>\n",
       "      <th>call_sum</th>\n",
       "      <th>call_count</th>\n",
       "      <th>msg_count</th>\n",
       "      <th>mb_used</th>\n",
       "      <th>gb_used_round</th>\n",
       "      <th>city</th>\n",
       "      <th>tariff</th>\n",
       "      <th>messages_included</th>\n",
       "      <th>minutes_included</th>\n",
       "      <th>rub_monthly_fee</th>\n",
       "      <th>rub_per_gb</th>\n",
       "      <th>rub_per_message</th>\n",
       "      <th>rub_per_minute</th>\n",
       "      <th>gb_per_month_included</th>\n",
       "    </tr>\n",
       "  </thead>\n",
       "  <tbody>\n",
       "    <tr>\n",
       "      <td>3211</td>\n",
       "      <td>1489</td>\n",
       "      <td>10.0</td>\n",
       "      <td>NaN</td>\n",
       "      <td>NaN</td>\n",
       "      <td>21.0</td>\n",
       "      <td>19559.44</td>\n",
       "      <td>20.0</td>\n",
       "      <td>Санкт-Петербург</td>\n",
       "      <td>smart</td>\n",
       "      <td>50</td>\n",
       "      <td>500</td>\n",
       "      <td>550</td>\n",
       "      <td>200</td>\n",
       "      <td>3</td>\n",
       "      <td>3</td>\n",
       "      <td>15.0</td>\n",
       "    </tr>\n",
       "    <tr>\n",
       "      <td>3212</td>\n",
       "      <td>1489</td>\n",
       "      <td>11.0</td>\n",
       "      <td>NaN</td>\n",
       "      <td>NaN</td>\n",
       "      <td>20.0</td>\n",
       "      <td>17491.56</td>\n",
       "      <td>18.0</td>\n",
       "      <td>Санкт-Петербург</td>\n",
       "      <td>smart</td>\n",
       "      <td>50</td>\n",
       "      <td>500</td>\n",
       "      <td>550</td>\n",
       "      <td>200</td>\n",
       "      <td>3</td>\n",
       "      <td>3</td>\n",
       "      <td>15.0</td>\n",
       "    </tr>\n",
       "    <tr>\n",
       "      <td>3213</td>\n",
       "      <td>1489</td>\n",
       "      <td>12.0</td>\n",
       "      <td>NaN</td>\n",
       "      <td>NaN</td>\n",
       "      <td>35.0</td>\n",
       "      <td>17322.51</td>\n",
       "      <td>17.0</td>\n",
       "      <td>Санкт-Петербург</td>\n",
       "      <td>smart</td>\n",
       "      <td>50</td>\n",
       "      <td>500</td>\n",
       "      <td>550</td>\n",
       "      <td>200</td>\n",
       "      <td>3</td>\n",
       "      <td>3</td>\n",
       "      <td>15.0</td>\n",
       "    </tr>\n",
       "    <tr>\n",
       "      <td>3214</td>\n",
       "      <td>1128</td>\n",
       "      <td>NaN</td>\n",
       "      <td>NaN</td>\n",
       "      <td>NaN</td>\n",
       "      <td>NaN</td>\n",
       "      <td>NaN</td>\n",
       "      <td>NaN</td>\n",
       "      <td>Волжский</td>\n",
       "      <td>ultra</td>\n",
       "      <td>1000</td>\n",
       "      <td>3000</td>\n",
       "      <td>1950</td>\n",
       "      <td>150</td>\n",
       "      <td>1</td>\n",
       "      <td>1</td>\n",
       "      <td>30.0</td>\n",
       "    </tr>\n",
       "    <tr>\n",
       "      <td>3215</td>\n",
       "      <td>1371</td>\n",
       "      <td>NaN</td>\n",
       "      <td>NaN</td>\n",
       "      <td>NaN</td>\n",
       "      <td>NaN</td>\n",
       "      <td>NaN</td>\n",
       "      <td>NaN</td>\n",
       "      <td>Омск</td>\n",
       "      <td>smart</td>\n",
       "      <td>50</td>\n",
       "      <td>500</td>\n",
       "      <td>550</td>\n",
       "      <td>200</td>\n",
       "      <td>3</td>\n",
       "      <td>3</td>\n",
       "      <td>15.0</td>\n",
       "    </tr>\n",
       "  </tbody>\n",
       "</table>\n",
       "</div>"
      ],
      "text/plain": [
       "      user_id  transaction_month  call_sum  call_count  msg_count   mb_used  \\\n",
       "3211     1489               10.0       NaN         NaN       21.0  19559.44   \n",
       "3212     1489               11.0       NaN         NaN       20.0  17491.56   \n",
       "3213     1489               12.0       NaN         NaN       35.0  17322.51   \n",
       "3214     1128                NaN       NaN         NaN        NaN       NaN   \n",
       "3215     1371                NaN       NaN         NaN        NaN       NaN   \n",
       "\n",
       "      gb_used_round             city tariff  messages_included  \\\n",
       "3211           20.0  Санкт-Петербург  smart                 50   \n",
       "3212           18.0  Санкт-Петербург  smart                 50   \n",
       "3213           17.0  Санкт-Петербург  smart                 50   \n",
       "3214            NaN         Волжский  ultra               1000   \n",
       "3215            NaN             Омск  smart                 50   \n",
       "\n",
       "      minutes_included  rub_monthly_fee  rub_per_gb  rub_per_message  \\\n",
       "3211               500              550         200                3   \n",
       "3212               500              550         200                3   \n",
       "3213               500              550         200                3   \n",
       "3214              3000             1950         150                1   \n",
       "3215               500              550         200                3   \n",
       "\n",
       "      rub_per_minute  gb_per_month_included  \n",
       "3211               3                   15.0  \n",
       "3212               3                   15.0  \n",
       "3213               3                   15.0  \n",
       "3214               1                   30.0  \n",
       "3215               3                   15.0  "
      ]
     },
     "execution_count": 54,
     "metadata": {},
     "output_type": "execute_result"
    }
   ],
   "source": [
    "df.tail() #итоговый датафрейм выглядит собранным и доверительным"
   ]
  },
  {
   "cell_type": "code",
   "execution_count": 55,
   "metadata": {},
   "outputs": [
    {
     "data": {
      "text/html": [
       "<div>\n",
       "<style scoped>\n",
       "    .dataframe tbody tr th:only-of-type {\n",
       "        vertical-align: middle;\n",
       "    }\n",
       "\n",
       "    .dataframe tbody tr th {\n",
       "        vertical-align: top;\n",
       "    }\n",
       "\n",
       "    .dataframe thead th {\n",
       "        text-align: right;\n",
       "    }\n",
       "</style>\n",
       "<table border=\"1\" class=\"dataframe\">\n",
       "  <thead>\n",
       "    <tr style=\"text-align: right;\">\n",
       "      <th></th>\n",
       "      <th>user_id</th>\n",
       "      <th>transaction_month</th>\n",
       "      <th>call_sum</th>\n",
       "      <th>call_count</th>\n",
       "      <th>msg_count</th>\n",
       "      <th>gb_used_round</th>\n",
       "      <th>city</th>\n",
       "      <th>tariff</th>\n",
       "      <th>messages_included</th>\n",
       "      <th>minutes_included</th>\n",
       "      <th>rub_monthly_fee</th>\n",
       "      <th>rub_per_gb</th>\n",
       "      <th>rub_per_message</th>\n",
       "      <th>rub_per_minute</th>\n",
       "      <th>gb_per_month_included</th>\n",
       "    </tr>\n",
       "  </thead>\n",
       "  <tbody>\n",
       "    <tr>\n",
       "      <td>1890</td>\n",
       "      <td>1302</td>\n",
       "      <td>1.0</td>\n",
       "      <td>76.0</td>\n",
       "      <td>12.0</td>\n",
       "      <td>28.0</td>\n",
       "      <td>5.0</td>\n",
       "      <td>Уфа</td>\n",
       "      <td>smart</td>\n",
       "      <td>50</td>\n",
       "      <td>500</td>\n",
       "      <td>550</td>\n",
       "      <td>200</td>\n",
       "      <td>3</td>\n",
       "      <td>3</td>\n",
       "      <td>15.0</td>\n",
       "    </tr>\n",
       "    <tr>\n",
       "      <td>1891</td>\n",
       "      <td>1302</td>\n",
       "      <td>2.0</td>\n",
       "      <td>194.0</td>\n",
       "      <td>24.0</td>\n",
       "      <td>77.0</td>\n",
       "      <td>13.0</td>\n",
       "      <td>Уфа</td>\n",
       "      <td>smart</td>\n",
       "      <td>50</td>\n",
       "      <td>500</td>\n",
       "      <td>550</td>\n",
       "      <td>200</td>\n",
       "      <td>3</td>\n",
       "      <td>3</td>\n",
       "      <td>15.0</td>\n",
       "    </tr>\n",
       "    <tr>\n",
       "      <td>1892</td>\n",
       "      <td>1302</td>\n",
       "      <td>3.0</td>\n",
       "      <td>210.0</td>\n",
       "      <td>34.0</td>\n",
       "      <td>77.0</td>\n",
       "      <td>16.0</td>\n",
       "      <td>Уфа</td>\n",
       "      <td>smart</td>\n",
       "      <td>50</td>\n",
       "      <td>500</td>\n",
       "      <td>550</td>\n",
       "      <td>200</td>\n",
       "      <td>3</td>\n",
       "      <td>3</td>\n",
       "      <td>15.0</td>\n",
       "    </tr>\n",
       "    <tr>\n",
       "      <td>1893</td>\n",
       "      <td>1302</td>\n",
       "      <td>4.0</td>\n",
       "      <td>306.0</td>\n",
       "      <td>43.0</td>\n",
       "      <td>59.0</td>\n",
       "      <td>15.0</td>\n",
       "      <td>Уфа</td>\n",
       "      <td>smart</td>\n",
       "      <td>50</td>\n",
       "      <td>500</td>\n",
       "      <td>550</td>\n",
       "      <td>200</td>\n",
       "      <td>3</td>\n",
       "      <td>3</td>\n",
       "      <td>15.0</td>\n",
       "    </tr>\n",
       "    <tr>\n",
       "      <td>1894</td>\n",
       "      <td>1302</td>\n",
       "      <td>5.0</td>\n",
       "      <td>241.0</td>\n",
       "      <td>35.0</td>\n",
       "      <td>80.0</td>\n",
       "      <td>19.0</td>\n",
       "      <td>Уфа</td>\n",
       "      <td>smart</td>\n",
       "      <td>50</td>\n",
       "      <td>500</td>\n",
       "      <td>550</td>\n",
       "      <td>200</td>\n",
       "      <td>3</td>\n",
       "      <td>3</td>\n",
       "      <td>15.0</td>\n",
       "    </tr>\n",
       "    <tr>\n",
       "      <td>1895</td>\n",
       "      <td>1302</td>\n",
       "      <td>6.0</td>\n",
       "      <td>171.0</td>\n",
       "      <td>27.0</td>\n",
       "      <td>77.0</td>\n",
       "      <td>20.0</td>\n",
       "      <td>Уфа</td>\n",
       "      <td>smart</td>\n",
       "      <td>50</td>\n",
       "      <td>500</td>\n",
       "      <td>550</td>\n",
       "      <td>200</td>\n",
       "      <td>3</td>\n",
       "      <td>3</td>\n",
       "      <td>15.0</td>\n",
       "    </tr>\n",
       "    <tr>\n",
       "      <td>1896</td>\n",
       "      <td>1302</td>\n",
       "      <td>7.0</td>\n",
       "      <td>173.0</td>\n",
       "      <td>30.0</td>\n",
       "      <td>77.0</td>\n",
       "      <td>12.0</td>\n",
       "      <td>Уфа</td>\n",
       "      <td>smart</td>\n",
       "      <td>50</td>\n",
       "      <td>500</td>\n",
       "      <td>550</td>\n",
       "      <td>200</td>\n",
       "      <td>3</td>\n",
       "      <td>3</td>\n",
       "      <td>15.0</td>\n",
       "    </tr>\n",
       "    <tr>\n",
       "      <td>1897</td>\n",
       "      <td>1302</td>\n",
       "      <td>8.0</td>\n",
       "      <td>182.0</td>\n",
       "      <td>27.0</td>\n",
       "      <td>82.0</td>\n",
       "      <td>20.0</td>\n",
       "      <td>Уфа</td>\n",
       "      <td>smart</td>\n",
       "      <td>50</td>\n",
       "      <td>500</td>\n",
       "      <td>550</td>\n",
       "      <td>200</td>\n",
       "      <td>3</td>\n",
       "      <td>3</td>\n",
       "      <td>15.0</td>\n",
       "    </tr>\n",
       "    <tr>\n",
       "      <td>1898</td>\n",
       "      <td>1302</td>\n",
       "      <td>9.0</td>\n",
       "      <td>257.0</td>\n",
       "      <td>46.0</td>\n",
       "      <td>68.0</td>\n",
       "      <td>15.0</td>\n",
       "      <td>Уфа</td>\n",
       "      <td>smart</td>\n",
       "      <td>50</td>\n",
       "      <td>500</td>\n",
       "      <td>550</td>\n",
       "      <td>200</td>\n",
       "      <td>3</td>\n",
       "      <td>3</td>\n",
       "      <td>15.0</td>\n",
       "    </tr>\n",
       "    <tr>\n",
       "      <td>1899</td>\n",
       "      <td>1302</td>\n",
       "      <td>10.0</td>\n",
       "      <td>197.0</td>\n",
       "      <td>29.0</td>\n",
       "      <td>73.0</td>\n",
       "      <td>15.0</td>\n",
       "      <td>Уфа</td>\n",
       "      <td>smart</td>\n",
       "      <td>50</td>\n",
       "      <td>500</td>\n",
       "      <td>550</td>\n",
       "      <td>200</td>\n",
       "      <td>3</td>\n",
       "      <td>3</td>\n",
       "      <td>15.0</td>\n",
       "    </tr>\n",
       "    <tr>\n",
       "      <td>1900</td>\n",
       "      <td>1302</td>\n",
       "      <td>11.0</td>\n",
       "      <td>252.0</td>\n",
       "      <td>34.0</td>\n",
       "      <td>77.0</td>\n",
       "      <td>12.0</td>\n",
       "      <td>Уфа</td>\n",
       "      <td>smart</td>\n",
       "      <td>50</td>\n",
       "      <td>500</td>\n",
       "      <td>550</td>\n",
       "      <td>200</td>\n",
       "      <td>3</td>\n",
       "      <td>3</td>\n",
       "      <td>15.0</td>\n",
       "    </tr>\n",
       "    <tr>\n",
       "      <td>1901</td>\n",
       "      <td>1302</td>\n",
       "      <td>12.0</td>\n",
       "      <td>190.0</td>\n",
       "      <td>31.0</td>\n",
       "      <td>101.0</td>\n",
       "      <td>15.0</td>\n",
       "      <td>Уфа</td>\n",
       "      <td>smart</td>\n",
       "      <td>50</td>\n",
       "      <td>500</td>\n",
       "      <td>550</td>\n",
       "      <td>200</td>\n",
       "      <td>3</td>\n",
       "      <td>3</td>\n",
       "      <td>15.0</td>\n",
       "    </tr>\n",
       "  </tbody>\n",
       "</table>\n",
       "</div>"
      ],
      "text/plain": [
       "      user_id  transaction_month  call_sum  call_count  msg_count  \\\n",
       "1890     1302                1.0      76.0        12.0       28.0   \n",
       "1891     1302                2.0     194.0        24.0       77.0   \n",
       "1892     1302                3.0     210.0        34.0       77.0   \n",
       "1893     1302                4.0     306.0        43.0       59.0   \n",
       "1894     1302                5.0     241.0        35.0       80.0   \n",
       "1895     1302                6.0     171.0        27.0       77.0   \n",
       "1896     1302                7.0     173.0        30.0       77.0   \n",
       "1897     1302                8.0     182.0        27.0       82.0   \n",
       "1898     1302                9.0     257.0        46.0       68.0   \n",
       "1899     1302               10.0     197.0        29.0       73.0   \n",
       "1900     1302               11.0     252.0        34.0       77.0   \n",
       "1901     1302               12.0     190.0        31.0      101.0   \n",
       "\n",
       "      gb_used_round city tariff  messages_included  minutes_included  \\\n",
       "1890            5.0  Уфа  smart                 50               500   \n",
       "1891           13.0  Уфа  smart                 50               500   \n",
       "1892           16.0  Уфа  smart                 50               500   \n",
       "1893           15.0  Уфа  smart                 50               500   \n",
       "1894           19.0  Уфа  smart                 50               500   \n",
       "1895           20.0  Уфа  smart                 50               500   \n",
       "1896           12.0  Уфа  smart                 50               500   \n",
       "1897           20.0  Уфа  smart                 50               500   \n",
       "1898           15.0  Уфа  smart                 50               500   \n",
       "1899           15.0  Уфа  smart                 50               500   \n",
       "1900           12.0  Уфа  smart                 50               500   \n",
       "1901           15.0  Уфа  smart                 50               500   \n",
       "\n",
       "      rub_monthly_fee  rub_per_gb  rub_per_message  rub_per_minute  \\\n",
       "1890              550         200                3               3   \n",
       "1891              550         200                3               3   \n",
       "1892              550         200                3               3   \n",
       "1893              550         200                3               3   \n",
       "1894              550         200                3               3   \n",
       "1895              550         200                3               3   \n",
       "1896              550         200                3               3   \n",
       "1897              550         200                3               3   \n",
       "1898              550         200                3               3   \n",
       "1899              550         200                3               3   \n",
       "1900              550         200                3               3   \n",
       "1901              550         200                3               3   \n",
       "\n",
       "      gb_per_month_included  \n",
       "1890                   15.0  \n",
       "1891                   15.0  \n",
       "1892                   15.0  \n",
       "1893                   15.0  \n",
       "1894                   15.0  \n",
       "1895                   15.0  \n",
       "1896                   15.0  \n",
       "1897                   15.0  \n",
       "1898                   15.0  \n",
       "1899                   15.0  \n",
       "1900                   15.0  \n",
       "1901                   15.0  "
      ]
     },
     "execution_count": 55,
     "metadata": {},
     "output_type": "execute_result"
    }
   ],
   "source": [
    "df = df.drop(columns=['mb_used']) #избавимся от ненужной колонки 'mb_used', т.к. нам нужны Гб для тарификации\n",
    "df.loc[df['user_id'] == 1302].head(12) #посмотрим на датафрем для рандомного пользователя (12 месяцев 'transaction_month')"
   ]
  },
  {
   "cell_type": "code",
   "execution_count": 56,
   "metadata": {},
   "outputs": [],
   "source": [
    "def money(row):\n",
    "    \n",
    "    #ставки по тарифу\n",
    "    calls_tarif = row['minutes_included']\n",
    "    msg_tafiff = row['messages_included']\n",
    "    int_tafir = row['gb_per_month_included']\n",
    "    \n",
    "    #фактические расходы\n",
    "    calls = row['call_sum']\n",
    "    msg = row['msg_count']\n",
    "    internet = row['gb_used_round']    \n",
    "    \n",
    "    #тариф и дополнительные ставки за превышение\n",
    "    tarif = row['rub_monthly_fee']\n",
    "    calls_add_cost = row['rub_per_minute']\n",
    "    int_add_cost = row['rub_per_gb']\n",
    "    msg_add_cost = row['rub_per_message']\n",
    "    \n",
    "    money = 0 \n",
    "    money_calls = 0\n",
    "    money_msg = 0\n",
    "    money_int = 0\n",
    "    \n",
    "    if calls > calls_tarif:\n",
    "        money_calls = (calls-calls_tarif)*calls_add_cost #если идет превышение тарифа по звонкам, то расчет по условиям тарифа\n",
    "    else:\n",
    "        money_calls #если превышения нет, то 0 (ноль)\n",
    "        \n",
    "    if msg > msg_tafiff:\n",
    "        money_msg = (msg-msg_tafiff)*msg_add_cost #если идет превышение тарифа по сессиям в Интернет, то расчет по условиям тарифа\n",
    "    else:\n",
    "        money_msg #если превышения нет, то 0 (ноль)\n",
    "        \n",
    "    if internet > int_tafir:\n",
    "        money_int = (internet-int_tafir)*int_add_cost #если идет превышение тарифа по сообщениям, то расчет по условиям тарифа\n",
    "    else:\n",
    "        money_int #если превышения нет, то 0 (ноль)\n",
    "        \n",
    "    return money_calls + money_msg + money_int + tarif #сумма затрат по 3 категориям"
   ]
  },
  {
   "cell_type": "code",
   "execution_count": 57,
   "metadata": {},
   "outputs": [],
   "source": [
    "df['money'] = df.apply(money, axis=1)"
   ]
  },
  {
   "cell_type": "code",
   "execution_count": 58,
   "metadata": {
    "scrolled": true
   },
   "outputs": [
    {
     "data": {
      "text/html": [
       "<div>\n",
       "<style scoped>\n",
       "    .dataframe tbody tr th:only-of-type {\n",
       "        vertical-align: middle;\n",
       "    }\n",
       "\n",
       "    .dataframe tbody tr th {\n",
       "        vertical-align: top;\n",
       "    }\n",
       "\n",
       "    .dataframe thead th {\n",
       "        text-align: right;\n",
       "    }\n",
       "</style>\n",
       "<table border=\"1\" class=\"dataframe\">\n",
       "  <thead>\n",
       "    <tr style=\"text-align: right;\">\n",
       "      <th></th>\n",
       "      <th>user_id</th>\n",
       "      <th>transaction_month</th>\n",
       "      <th>call_sum</th>\n",
       "      <th>call_count</th>\n",
       "      <th>msg_count</th>\n",
       "      <th>gb_used_round</th>\n",
       "      <th>city</th>\n",
       "      <th>tariff</th>\n",
       "      <th>messages_included</th>\n",
       "      <th>minutes_included</th>\n",
       "      <th>rub_monthly_fee</th>\n",
       "      <th>rub_per_gb</th>\n",
       "      <th>rub_per_message</th>\n",
       "      <th>rub_per_minute</th>\n",
       "      <th>gb_per_month_included</th>\n",
       "      <th>money</th>\n",
       "    </tr>\n",
       "  </thead>\n",
       "  <tbody>\n",
       "    <tr>\n",
       "      <td>1890</td>\n",
       "      <td>1302</td>\n",
       "      <td>1.0</td>\n",
       "      <td>76.0</td>\n",
       "      <td>12.0</td>\n",
       "      <td>28.0</td>\n",
       "      <td>5.0</td>\n",
       "      <td>Уфа</td>\n",
       "      <td>smart</td>\n",
       "      <td>50</td>\n",
       "      <td>500</td>\n",
       "      <td>550</td>\n",
       "      <td>200</td>\n",
       "      <td>3</td>\n",
       "      <td>3</td>\n",
       "      <td>15.0</td>\n",
       "      <td>550.0</td>\n",
       "    </tr>\n",
       "    <tr>\n",
       "      <td>1891</td>\n",
       "      <td>1302</td>\n",
       "      <td>2.0</td>\n",
       "      <td>194.0</td>\n",
       "      <td>24.0</td>\n",
       "      <td>77.0</td>\n",
       "      <td>13.0</td>\n",
       "      <td>Уфа</td>\n",
       "      <td>smart</td>\n",
       "      <td>50</td>\n",
       "      <td>500</td>\n",
       "      <td>550</td>\n",
       "      <td>200</td>\n",
       "      <td>3</td>\n",
       "      <td>3</td>\n",
       "      <td>15.0</td>\n",
       "      <td>631.0</td>\n",
       "    </tr>\n",
       "    <tr>\n",
       "      <td>1892</td>\n",
       "      <td>1302</td>\n",
       "      <td>3.0</td>\n",
       "      <td>210.0</td>\n",
       "      <td>34.0</td>\n",
       "      <td>77.0</td>\n",
       "      <td>16.0</td>\n",
       "      <td>Уфа</td>\n",
       "      <td>smart</td>\n",
       "      <td>50</td>\n",
       "      <td>500</td>\n",
       "      <td>550</td>\n",
       "      <td>200</td>\n",
       "      <td>3</td>\n",
       "      <td>3</td>\n",
       "      <td>15.0</td>\n",
       "      <td>831.0</td>\n",
       "    </tr>\n",
       "    <tr>\n",
       "      <td>1893</td>\n",
       "      <td>1302</td>\n",
       "      <td>4.0</td>\n",
       "      <td>306.0</td>\n",
       "      <td>43.0</td>\n",
       "      <td>59.0</td>\n",
       "      <td>15.0</td>\n",
       "      <td>Уфа</td>\n",
       "      <td>smart</td>\n",
       "      <td>50</td>\n",
       "      <td>500</td>\n",
       "      <td>550</td>\n",
       "      <td>200</td>\n",
       "      <td>3</td>\n",
       "      <td>3</td>\n",
       "      <td>15.0</td>\n",
       "      <td>577.0</td>\n",
       "    </tr>\n",
       "    <tr>\n",
       "      <td>1894</td>\n",
       "      <td>1302</td>\n",
       "      <td>5.0</td>\n",
       "      <td>241.0</td>\n",
       "      <td>35.0</td>\n",
       "      <td>80.0</td>\n",
       "      <td>19.0</td>\n",
       "      <td>Уфа</td>\n",
       "      <td>smart</td>\n",
       "      <td>50</td>\n",
       "      <td>500</td>\n",
       "      <td>550</td>\n",
       "      <td>200</td>\n",
       "      <td>3</td>\n",
       "      <td>3</td>\n",
       "      <td>15.0</td>\n",
       "      <td>1440.0</td>\n",
       "    </tr>\n",
       "    <tr>\n",
       "      <td>1895</td>\n",
       "      <td>1302</td>\n",
       "      <td>6.0</td>\n",
       "      <td>171.0</td>\n",
       "      <td>27.0</td>\n",
       "      <td>77.0</td>\n",
       "      <td>20.0</td>\n",
       "      <td>Уфа</td>\n",
       "      <td>smart</td>\n",
       "      <td>50</td>\n",
       "      <td>500</td>\n",
       "      <td>550</td>\n",
       "      <td>200</td>\n",
       "      <td>3</td>\n",
       "      <td>3</td>\n",
       "      <td>15.0</td>\n",
       "      <td>1631.0</td>\n",
       "    </tr>\n",
       "    <tr>\n",
       "      <td>1896</td>\n",
       "      <td>1302</td>\n",
       "      <td>7.0</td>\n",
       "      <td>173.0</td>\n",
       "      <td>30.0</td>\n",
       "      <td>77.0</td>\n",
       "      <td>12.0</td>\n",
       "      <td>Уфа</td>\n",
       "      <td>smart</td>\n",
       "      <td>50</td>\n",
       "      <td>500</td>\n",
       "      <td>550</td>\n",
       "      <td>200</td>\n",
       "      <td>3</td>\n",
       "      <td>3</td>\n",
       "      <td>15.0</td>\n",
       "      <td>631.0</td>\n",
       "    </tr>\n",
       "    <tr>\n",
       "      <td>1897</td>\n",
       "      <td>1302</td>\n",
       "      <td>8.0</td>\n",
       "      <td>182.0</td>\n",
       "      <td>27.0</td>\n",
       "      <td>82.0</td>\n",
       "      <td>20.0</td>\n",
       "      <td>Уфа</td>\n",
       "      <td>smart</td>\n",
       "      <td>50</td>\n",
       "      <td>500</td>\n",
       "      <td>550</td>\n",
       "      <td>200</td>\n",
       "      <td>3</td>\n",
       "      <td>3</td>\n",
       "      <td>15.0</td>\n",
       "      <td>1646.0</td>\n",
       "    </tr>\n",
       "    <tr>\n",
       "      <td>1898</td>\n",
       "      <td>1302</td>\n",
       "      <td>9.0</td>\n",
       "      <td>257.0</td>\n",
       "      <td>46.0</td>\n",
       "      <td>68.0</td>\n",
       "      <td>15.0</td>\n",
       "      <td>Уфа</td>\n",
       "      <td>smart</td>\n",
       "      <td>50</td>\n",
       "      <td>500</td>\n",
       "      <td>550</td>\n",
       "      <td>200</td>\n",
       "      <td>3</td>\n",
       "      <td>3</td>\n",
       "      <td>15.0</td>\n",
       "      <td>604.0</td>\n",
       "    </tr>\n",
       "    <tr>\n",
       "      <td>1899</td>\n",
       "      <td>1302</td>\n",
       "      <td>10.0</td>\n",
       "      <td>197.0</td>\n",
       "      <td>29.0</td>\n",
       "      <td>73.0</td>\n",
       "      <td>15.0</td>\n",
       "      <td>Уфа</td>\n",
       "      <td>smart</td>\n",
       "      <td>50</td>\n",
       "      <td>500</td>\n",
       "      <td>550</td>\n",
       "      <td>200</td>\n",
       "      <td>3</td>\n",
       "      <td>3</td>\n",
       "      <td>15.0</td>\n",
       "      <td>619.0</td>\n",
       "    </tr>\n",
       "    <tr>\n",
       "      <td>1900</td>\n",
       "      <td>1302</td>\n",
       "      <td>11.0</td>\n",
       "      <td>252.0</td>\n",
       "      <td>34.0</td>\n",
       "      <td>77.0</td>\n",
       "      <td>12.0</td>\n",
       "      <td>Уфа</td>\n",
       "      <td>smart</td>\n",
       "      <td>50</td>\n",
       "      <td>500</td>\n",
       "      <td>550</td>\n",
       "      <td>200</td>\n",
       "      <td>3</td>\n",
       "      <td>3</td>\n",
       "      <td>15.0</td>\n",
       "      <td>631.0</td>\n",
       "    </tr>\n",
       "    <tr>\n",
       "      <td>1901</td>\n",
       "      <td>1302</td>\n",
       "      <td>12.0</td>\n",
       "      <td>190.0</td>\n",
       "      <td>31.0</td>\n",
       "      <td>101.0</td>\n",
       "      <td>15.0</td>\n",
       "      <td>Уфа</td>\n",
       "      <td>smart</td>\n",
       "      <td>50</td>\n",
       "      <td>500</td>\n",
       "      <td>550</td>\n",
       "      <td>200</td>\n",
       "      <td>3</td>\n",
       "      <td>3</td>\n",
       "      <td>15.0</td>\n",
       "      <td>703.0</td>\n",
       "    </tr>\n",
       "  </tbody>\n",
       "</table>\n",
       "</div>"
      ],
      "text/plain": [
       "      user_id  transaction_month  call_sum  call_count  msg_count  \\\n",
       "1890     1302                1.0      76.0        12.0       28.0   \n",
       "1891     1302                2.0     194.0        24.0       77.0   \n",
       "1892     1302                3.0     210.0        34.0       77.0   \n",
       "1893     1302                4.0     306.0        43.0       59.0   \n",
       "1894     1302                5.0     241.0        35.0       80.0   \n",
       "1895     1302                6.0     171.0        27.0       77.0   \n",
       "1896     1302                7.0     173.0        30.0       77.0   \n",
       "1897     1302                8.0     182.0        27.0       82.0   \n",
       "1898     1302                9.0     257.0        46.0       68.0   \n",
       "1899     1302               10.0     197.0        29.0       73.0   \n",
       "1900     1302               11.0     252.0        34.0       77.0   \n",
       "1901     1302               12.0     190.0        31.0      101.0   \n",
       "\n",
       "      gb_used_round city tariff  messages_included  minutes_included  \\\n",
       "1890            5.0  Уфа  smart                 50               500   \n",
       "1891           13.0  Уфа  smart                 50               500   \n",
       "1892           16.0  Уфа  smart                 50               500   \n",
       "1893           15.0  Уфа  smart                 50               500   \n",
       "1894           19.0  Уфа  smart                 50               500   \n",
       "1895           20.0  Уфа  smart                 50               500   \n",
       "1896           12.0  Уфа  smart                 50               500   \n",
       "1897           20.0  Уфа  smart                 50               500   \n",
       "1898           15.0  Уфа  smart                 50               500   \n",
       "1899           15.0  Уфа  smart                 50               500   \n",
       "1900           12.0  Уфа  smart                 50               500   \n",
       "1901           15.0  Уфа  smart                 50               500   \n",
       "\n",
       "      rub_monthly_fee  rub_per_gb  rub_per_message  rub_per_minute  \\\n",
       "1890              550         200                3               3   \n",
       "1891              550         200                3               3   \n",
       "1892              550         200                3               3   \n",
       "1893              550         200                3               3   \n",
       "1894              550         200                3               3   \n",
       "1895              550         200                3               3   \n",
       "1896              550         200                3               3   \n",
       "1897              550         200                3               3   \n",
       "1898              550         200                3               3   \n",
       "1899              550         200                3               3   \n",
       "1900              550         200                3               3   \n",
       "1901              550         200                3               3   \n",
       "\n",
       "      gb_per_month_included   money  \n",
       "1890                   15.0   550.0  \n",
       "1891                   15.0   631.0  \n",
       "1892                   15.0   831.0  \n",
       "1893                   15.0   577.0  \n",
       "1894                   15.0  1440.0  \n",
       "1895                   15.0  1631.0  \n",
       "1896                   15.0   631.0  \n",
       "1897                   15.0  1646.0  \n",
       "1898                   15.0   604.0  \n",
       "1899                   15.0   619.0  \n",
       "1900                   15.0   631.0  \n",
       "1901                   15.0   703.0  "
      ]
     },
     "execution_count": 58,
     "metadata": {},
     "output_type": "execute_result"
    }
   ],
   "source": [
    "df.loc[df['user_id'] == 1302].head(12) #посмотрим расчет для рандомного пользователя (12 месяцев 'transaction_month')"
   ]
  },
  {
   "cell_type": "markdown",
   "metadata": {},
   "source": [
    "**Вывод:**\n",
    "- Сводный датафрейм успешно собран и готов для использования при анализе данных.\n",
    "- Проведены расчеты для каждого пользователя по:\n",
    "        - количеству сделанных звонков и израсходованных минут разговора по месяцам;\n",
    "        - количеству отправленных сообщений по месяцам;\n",
    "        - объему израсходованного интернет-трафика по месяцам;\n",
    "        - помесячную выручку с каждого пользователя."
   ]
  },
  {
   "cell_type": "markdown",
   "metadata": {},
   "source": [
    "## Анализ данных ## "
   ]
  },
  {
   "cell_type": "markdown",
   "metadata": {},
   "source": [
    "### Гистограммы распределения ###"
   ]
  },
  {
   "cell_type": "markdown",
   "metadata": {},
   "source": [
    "- Проанализируем гистограммы распределения для каждого из тарифов по интересующим нас показателям:\n",
    "    - количество звонков;\n",
    "    - использование Интренет трафика;\n",
    "    - использование сообщений."
   ]
  },
  {
   "cell_type": "code",
   "execution_count": 75,
   "metadata": {},
   "outputs": [
    {
     "data": {
      "image/png": "[encoded data removed]",
      "text/plain": [
       "<Figure size 1080x360 with 1 Axes>"
      ]
     },
     "metadata": {
      "needs_background": "light"
     },
     "output_type": "display_data"
    },
    {
     "data": {
      "image/png": "[encoded data removed]",
      "text/plain": [
       "<Figure size 1080x360 with 1 Axes>"
      ]
     },
     "metadata": {
      "needs_background": "light"
     },
     "output_type": "display_data"
    },
    {
     "data": {
      "image/png": "[encoded data removed]",
      "text/plain": [
       "<Figure size 1080x360 with 1 Axes>"
      ]
     },
     "metadata": {
      "needs_background": "light"
     },
     "output_type": "display_data"
    },
    {
     "data": {
      "image/png": "[encoded data removed]",
      "text/plain": [
       "<Figure size 1080x360 with 1 Axes>"
      ]
     },
     "metadata": {
      "needs_background": "light"
     },
     "output_type": "display_data"
    },
    {
     "data": {
      "image/png": "[encoded data removed]",
      "text/plain": [
       "<Figure size 1080x360 with 1 Axes>"
      ]
     },
     "metadata": {
      "needs_background": "light"
     },
     "output_type": "display_data"
    },
    {
     "data": {
      "image/png": "[encoded data removed]",
      "text/plain": [
       "<Figure size 1080x360 with 1 Axes>"
      ]
     },
     "metadata": {
      "needs_background": "light"
     },
     "output_type": "display_data"
    },
    {
     "data": {
      "image/png": "[encoded data removed]",
      "text/plain": [
       "<Figure size 1080x360 with 1 Axes>"
      ]
     },
     "metadata": {
      "needs_background": "light"
     },
     "output_type": "display_data"
    },
    {
     "data": {
      "image/png": "[encoded data removed]",
      "text/plain": [
       "<Figure size 1080x360 with 1 Axes>"
      ]
     },
     "metadata": {
      "needs_background": "light"
     },
     "output_type": "display_data"
    }
   ],
   "source": [
    "tariff_list = list(df['tariff'].sort_values().unique())\n",
    "\n",
    "column_list = ['call_sum','gb_used_round','msg_count','money']\n",
    "\n",
    "for column in column_list:\n",
    "    for tariff_ in tariff_list:\n",
    "        plt.figure()\n",
    "        df.loc[df['tariff'] == tariff_, column].hist(\n",
    "        bins=100,\n",
    "        grid=True,\n",
    "        figsize=(15,5)\n",
    "    ).set_xlabel([tariff_,column])"
   ]
  },
  {
   "cell_type": "markdown",
   "metadata": {},
   "source": [
    "**Предварительные наблюдения:**\n",
    "\n",
    "**`call_sum`**\n",
    "- Клиенты тарифа \"смарт\" активно пользуются звонками. Наиболее часто встречаемые значения по количеству использованных минут от 300 до 500 в пределах лимита по тарифу, есть и превышения. Нормальное распределение для непрерывной переменной.\n",
    "- Клиенты тарифа \"ультра\" активно пользуются звонками, но много нулевых значений. Распределение более равномерное, без резкого увеличения частоты той или иной величины. Визуально, больше всего значений попадает в диапазон от 250 до 800 минут. Распределение не показывает, что кто-то выбирает все 3000 бесплатных минут: 50 часов, 1.67 часа разговоров каждый день. \n",
    "\n",
    "**`gb_used_round`**\n",
    "- Клиенты тарифа \"смарт\" активно пользуются интернетом (представлено нормальное распределение дискретной величины). Визуально большая часть значений попадает в интервал от 13 до 20 Гб с пиком в районе 16-17 Гб, что выше бесплатного лимита по тарифу.\n",
    "- Клиенты тарифа \"ультра\" еще более активно пользуются интернетом. Визуально большая часть значений попадает в интервал от 15 до 28 Гб. Значительная часть пользователей не выбирает все 30 Гб, входящих в тариф.\n",
    "\n",
    "**`msg_count`**\n",
    "- Клиенты тарифа \"смарт\" активно пользуются сообщениями до 60-70 сообщений в месяц, потом идет резкое снижение (представлено распределение дискретной величины, похожее на распределение Пуассона).\n",
    "- Клиенты тарифа \"ультра\" также активны в отправке сообщений, количество пиков меньше, чем у клиентов с тарифом \"смарт\". Много тех, кто отправляет свыше 120 сообщений в месяц, что редно для клиентов \"смарт\".\n",
    "\n",
    "**`money`**\n",
    "- Клиенты тарифа \"смарт\" по затратам в месяц чаще всего выбиваются за пределы тарифа, есть лидеры с затратами более 5000р в месяц (представлено распределение дискретной величины, похожее на распределение Пуассона). У клиентов тарифа \"ультра\" меньше таких выходов за пределы и максимальные затраты меньше (до 5000р)."
   ]
  },
  {
   "cell_type": "code",
   "execution_count": 81,
   "metadata": {},
   "outputs": [
    {
     "data": {
      "image/png": "[encoded data removed]",
      "text/plain": [
       "<Figure size 1080x360 with 1 Axes>"
      ]
     },
     "metadata": {
      "needs_background": "light"
     },
     "output_type": "display_data"
    }
   ],
   "source": [
    "tariff_list = list(df['tariff'].sort_values().unique())\n",
    "\n",
    "for tariff_ in tariff_list:\n",
    "    df.loc[df['tariff'] == tariff_, 'call_sum'].hist(\n",
    "        bins=100,\n",
    "        grid=True,\n",
    "        figsize=(15,5)\n",
    "    ).set_xlabel('call_sum')\n",
    "    plt.legend([\"smart\",\"ultra\"])"
   ]
  },
  {
   "cell_type": "markdown",
   "metadata": {},
   "source": [
    "### Среднее количество, дисперсия и стандартное отклонение ###"
   ]
  },
  {
   "cell_type": "code",
   "execution_count": 60,
   "metadata": {},
   "outputs": [
    {
     "name": "stdout",
     "output_type": "stream",
     "text": [
      "Тариф: smart\n",
      "Расчет для: call_sum\n",
      "Среднее количество: 419.1\n",
      "Дисперсия: 35844.2\n",
      "Cтандартное отклонение: 189.3\n",
      "\n",
      "Тариф: ultra\n",
      "Расчет для: call_sum\n",
      "Среднее количество: 545.5\n",
      "Дисперсия: 94203.4\n",
      "Cтандартное отклонение: 306.9\n",
      "\n",
      "Тариф: smart\n",
      "Расчет для: gb_used_round\n",
      "Среднее количество: 16.3\n",
      "Дисперсия: 32.9\n",
      "Cтандартное отклонение: 5.7\n",
      "\n",
      "Тариф: ultra\n",
      "Расчет для: gb_used_round\n",
      "Среднее количество: 19.7\n",
      "Дисперсия: 94.1\n",
      "Cтандартное отклонение: 9.7\n",
      "\n",
      "Тариф: smart\n",
      "Расчет для: msg_count\n",
      "Среднее количество: 38.7\n",
      "Дисперсия: 717.6\n",
      "Cтандартное отклонение: 26.8\n",
      "\n",
      "Тариф: ultra\n",
      "Расчет для: msg_count\n",
      "Среднее количество: 61.2\n",
      "Дисперсия: 2109.7\n",
      "Cтандартное отклонение: 45.9\n",
      "\n"
     ]
    }
   ],
   "source": [
    "column_list_2 = ['call_sum','gb_used_round','msg_count']\n",
    "\n",
    "for column in column_list_2:\n",
    "    for tariff_ in tariff_list:\n",
    "        mean = np.mean(df.loc[df['tariff'] == tariff_][column]) # расчет среднего\n",
    "        variance_est = np.var(df.loc[df['tariff'] == tariff_][column], ddof=1) # оцека дисперсии по части выборки\n",
    "        standard_deviation_est = np.std(df.loc[df['tariff'] == tariff_][column], ddof=1) #оцека стандартного отклонения (или корень из дисперсии)\n",
    "    \n",
    "        print('Тариф:',tariff_)\n",
    "        print('Расчет для:', column)\n",
    "        print('Среднее количество:', round((mean),1))\n",
    "        print('Дисперсия:', round((variance_est),1))\n",
    "        print('Cтандартное отклонение:', round((standard_deviation_est),1))\n",
    "        print()"
   ]
  },
  {
   "cell_type": "markdown",
   "metadata": {},
   "source": [
    "**Вывод:**\n",
    "\n",
    "**`call_sum`**\n",
    "- Клиенты тарифа \"ультра\" более активно пользуются звонками. Много пользователей, кто совершает много звонков либо они продолжительные, если принять что справа от среднего продолжительность звонков по правилу 3 сигм равна среднему + стандартное отклонение умноженное на 3. \n",
    "\n",
    "**`gb_used_round`**\n",
    "- В среднем клиенты тарифа \"смарт\" используют Интренет сверх установленного в тарифе лимита - 15 Гб и платят дополнительно в отличии от клиентов с тарифом \"ультра\", которые укладываются в 30 Гб.\n",
    "\n",
    "**`msg_count`**\n",
    "- Клиенты тарифа \"ультра\" более активно пользуются сообщениями. Высокий лимит в 1000 выглядит чрезмерным, пользователи не отправляют такое количество."
   ]
  },
  {
   "cell_type": "markdown",
   "metadata": {},
   "source": [
    "## Проверка гипотез ##"
   ]
  },
  {
   "cell_type": "markdown",
   "metadata": {},
   "source": [
    "### Cредняя выручка пользователей тарифов «Ультра» и «Смарт» ###"
   ]
  },
  {
   "cell_type": "markdown",
   "metadata": {},
   "source": [
    "`Гипотеза о равенстве средних двух генеральных совокупностей:`\n",
    "- Гипотеза H0: средняя выручка пользователей тарифов «Ультра» и «Смарт» равна (H0 всегда со знаком =).\n",
    "- Гипотеза H1: средняя выручка пользователей тарифов «Ультра» и «Смарт» не равна."
   ]
  },
  {
   "cell_type": "markdown",
   "metadata": {},
   "source": [
    "*Рассмотрим три аспекта, которые надо проверить, чтобы понять, можно ли применять t-тест:*\n",
    "\n",
    "- [x] Генеральные совокупности не должны зависеть друг от друга.\n",
    "    - Да, в нашем случае пользователи разных тарифов независимы друг от друга.\n",
    "- [x] Выборочные средние должны быть нормально распределены.\n",
    "    - А если выборка всего одна, то её среднее должно иметь нормальное распределение для разных выборок этого размера из определённой генеральной совокупности.\n",
    "    - Благодаря ЦПТ, если размер выборки составляет хотя бы несколько десятков значений, выборочные средние, которые можно получить из одной и той же генеральной совокупности, будут распределены нормально вокруг истинного среднего этой совокупности. Утверждение верно, даже если сама генеральная совокупность не распределена нормально."
   ]
  },
  {
   "cell_type": "code",
   "execution_count": 61,
   "metadata": {},
   "outputs": [],
   "source": [
    "#соберем два датафрейма по затратам клиентов, исходя из тарифа\n",
    "df_smart = df.query('tariff == \"smart\"')['money']\n",
    "df_ultra = df.query('tariff == \"ultra\"')['money']"
   ]
  },
  {
   "cell_type": "code",
   "execution_count": 62,
   "metadata": {},
   "outputs": [
    {
     "name": "stdout",
     "output_type": "stream",
     "text": [
      "Среднее по тарифу \"смарт\" 1289.6\n",
      "Среднее по тарифу \"ультра\" 2070.0\n",
      "p-значение:  8.081909555489933e-161\n",
      "\n",
      "Отвергаем нулевую гипотезу\n"
     ]
    }
   ],
   "source": [
    "alpha = .05 # критический уровень статистической значимости\n",
    "# если p-value окажется меньше него - отвегнем гипотезу\n",
    "\n",
    "results_tariff = st.ttest_ind(\n",
    "    df_smart, \n",
    "    df_ultra)\n",
    "\n",
    "print('Среднее по тарифу \"смарт\"', round(df_smart.mean(),1))\n",
    "print('Среднее по тарифу \"ультра\"', round(df_ultra.mean(),1))\n",
    "print('p-значение: ', results_tariff.pvalue)\n",
    "\n",
    "if results_tariff.pvalue < alpha:\n",
    "    print()\n",
    "    print(\"Отвергаем нулевую гипотезу\")\n",
    "else:\n",
    "    print()\n",
    "    print(\"Не получилось отвергнуть нулевую гипотезу\") "
   ]
  },
  {
   "cell_type": "markdown",
   "metadata": {},
   "source": [
    "**Вывод:**\n",
    "\n",
    "Полученное значение p-value говорит о том, что вероятность получить такое или большее различие случайно стремится к нулю. Это слишком маленькая вероятность, чтобы делать вывод о том, что выручка одинакова. Клиенты тарифа \"смарт\" в среднем переплачивают, но их затраты ниже клиентов \"ультра\"."
   ]
  },
  {
   "cell_type": "markdown",
   "metadata": {},
   "source": [
    "### Cредняя выручка пользователей из Москвы и других регионов ###"
   ]
  },
  {
   "cell_type": "markdown",
   "metadata": {},
   "source": [
    "`Гипотеза о равенстве средних двух генеральных совокупностей:`\n",
    "- Гипотеза H0: средняя выручка пользователей в Москве и других регионах одинакова.\n",
    "- Гипотеза H1: средняя выручка пользователей в Москве и других регионах не одинакова."
   ]
  },
  {
   "cell_type": "code",
   "execution_count": 63,
   "metadata": {},
   "outputs": [],
   "source": [
    "df['region'] = \"другой\" #добавление нового столбца 'region', где все регионы \"другие\"\n",
    "\n",
    "df.loc[df['city'] == \"Москва\", 'region'] = \"Москва\" #изменение всех \"других\" на \"первый\", если номер этажа 1"
   ]
  },
  {
   "cell_type": "code",
   "execution_count": 64,
   "metadata": {},
   "outputs": [],
   "source": [
    "#соберем два датафрейма по затратам клиентов, исходя из тарифа\n",
    "df_msk = df.query('region == \"Москва\"')['money']\n",
    "df_other = df.query('region == \"другой\"')['money']"
   ]
  },
  {
   "cell_type": "code",
   "execution_count": 65,
   "metadata": {},
   "outputs": [
    {
     "name": "stdout",
     "output_type": "stream",
     "text": [
      "Средняя выручка в Москве 1546.7\n",
      "Средняя выручка в регионах 1524.7\n",
      "p-значение:  0.5400751614511182\n",
      "\n",
      "Не получилось отвергнуть нулевую гипотезу\n"
     ]
    }
   ],
   "source": [
    "alpha = .05 # критический уровень статистической значимости\n",
    "# если p-value окажется меньше него - отвегнем гипотезу\n",
    "\n",
    "results_region = st.ttest_ind(\n",
    "    df_msk, \n",
    "    df_other)\n",
    "\n",
    "print('Средняя выручка в Москве', round(df_msk.mean(),1))\n",
    "print('Средняя выручка в регионах', round(df_other.mean(),1))\n",
    "print('p-значение: ', results_region.pvalue)\n",
    "\n",
    "if results_region.pvalue < alpha:\n",
    "    print()\n",
    "    print(\"Отвергаем нулевую гипотезу\")\n",
    "else:\n",
    "    print()\n",
    "    print(\"Не получилось отвергнуть нулевую гипотезу\") "
   ]
  },
  {
   "cell_type": "markdown",
   "metadata": {},
   "source": [
    "**Вывод:**\n",
    "\n",
    "Полученное значение p-value говорит о том, что вероятность получить такое или большее различие случайно >5% - большая вероятность (выше уровня статистической значимости), чтобы делать вывод о значимом различии между выручкой с пользователя в Москве и регионе."
   ]
  },
  {
   "cell_type": "markdown",
   "metadata": {},
   "source": [
    "## Вывод ##"
   ]
  },
  {
   "cell_type": "markdown",
   "metadata": {},
   "source": [
    "По итогам работы над проектом были проделаны следующие шаги:\n",
    "1. Загружены 5 различных датафреймов, которые были подготовлены для анализа.\n",
    "    - Данные были предобработаны, изменены форматы столбцов, к примеру, переведены в формат \"дата\" для работы с месяцами и годами. \n",
    "    - Информация была сведена по каждому пользователю и месяцу использования тарифа для каждой интересующей нас метрики:\n",
    "         - количество звонков;\n",
    "         - продолжительность сессий в сети Интернет;\n",
    "         - количество отправленных сообщений.\n",
    "         \n",
    "         \n",
    "2. Данные 5 датафреймов были сведены в единую таблицу для дальнейшего использования и анализа.\n",
    "\n",
    "\n",
    "3. Проведены расчеты для каждого пользователя по:\n",
    "    - количеству сделанных звонков и израсходованных минут разговора по месяцам;\n",
    "    - количеству отправленных сообщений по месяцам;\n",
    "    - объему израсходованного интернет-трафика по месяцам;\n",
    "    - помесячную выручку с каждого пользователя.\n",
    "    \n",
    "    \n",
    "4. Проведен анализ:\n",
    "\n",
    "- **По гистограммам**\n",
    "\n",
    "**`call_sum`**\n",
    "    - Клиенты тарифа \"смарт\" активно пользуются звонками. Наиболее часто встречаемые значения по количеству использованных минут от 300 до 500 в пределах лимита по тарифу, есть и превышения. Нормальное распределение для непрерывной переменной.\n",
    "    - Клиенты тарифа \"ультра\" активно пользуются звонками, но много нулевых значений. Распределение более равномерное, без резкого увеличения частоты той или иной величины. Визуально, больше всего значений попадает в диапазон от 250 до 800 минут. Распределение не показывает, что кто-то выбирает все 3000 бесплатных минут: 50 часов, 1.67 часа разговоров каждый день. \n",
    "\n",
    "**`gb_used_round`**\n",
    "    - Клиенты тарифа \"смарт\" активно пользуются интернетом (представлено нормальное распределение дискретной величины). Визуально большая часть значений попадает в интервал от 13 до 20 Гб с пиком в районе 16-17 Гб, что выше бесплатного лимита по тарифу.\n",
    "    - Клиенты тарифа \"ультра\" еще более активно пользуются интернетом. Визуально большая часть значений попадает в интервал от 15 до 28 Гб. Значительная часть пользователей не выбирает все 30 Гб, входящих в тариф.\n",
    "\n",
    "**`msg_count`**\n",
    "    - Клиенты тарифа \"смарт\" активно пользуются сообщениями до 60-70 сообщений в месяц, потом идет резкое снижение (представлено распределение дискретной величины, похожее на распределение Пуассона).\n",
    "    - Клиенты тарифа \"ультра\" также активны в отправке сообщений, количество пиков меньше, чем у клиентов с тарифом \"смарт\". Много тех, кто отправляет свыше 120 сообщений в месяц, что редно для клиентов \"смарт\".\n",
    "\n",
    "**`money`**\n",
    "    - Клиенты тарифа \"смарт\" по затратам в месяц чаще всего выбиваются за пределы тарифа, есть лидеры с затратами более 5000р в месяц (представлено распределение дискретной величины, похожее на распределение Пуассона). У клиентов тарифа \"ультра\" меньше таких выходов за пределы и максимальные затраты меньше (до 5000р).\n",
    "\n",
    "- **По среднему значению и стандартному отклонению:**\n",
    "\n",
    "**`call_sum`**\n",
    "    - Клиенты тарифа \"ультра\" более активно пользуются звонками. Много пользователей, кто совершает много звонков либо они продолжительные, если принять что справа от среднего продолжительность звонков по правилу 3 сигм равна среднему + стандартное отклонение умноженное на 3. \n",
    "\n",
    "**`gb_used_round`**\n",
    "    - В среднем клиенты тарифа \"смарт\" используют Интренет сверх установленного в тарифе лимита - 15 Гб и платят дополнительно в отличии от клиентов с тарифом \"ультра\", которые укладываются в 30 Гб.\n",
    "\n",
    "**`msg_count`**\n",
    "    - Клиенты тарифа \"ультра\" более активно пользуются сообщениями. Высокий лимит в 1000 выглядит чрезмерным, пользователи не отправляют такое количество.\n",
    "\n",
    "5. Выдвинуты гипотезы:\n",
    "\n",
    "    - Гипотеза H0: средняя выручка пользователей тарифов «Ультра» и «Смарт» равна.\n",
    "        - Отвергаем нулевую гипотезу. Полученное значение p-value говорит о том, что вероятность получить такое или большее различие случайно стремится к нулю. Это слишком маленькая вероятность, чтобы делать вывод о том, что выручка одинакова, она разная H1.\n",
    "        \n",
    "    - Гипотеза H0: средняя выручка пользователей в Москве и других регионах одинакова.\n",
    "        - Не получилось отвергнуть нулевую гипотезу. Полученное значение p-value говорит о том, что вероятность получить такое или большее различие случайно >5% - выше уровня статистической значимости, чтобы делать вывод о значимом различии между выручкой с пользователя в Москве и регионе."
   ]
  },
  {
   "cell_type": "markdown",
   "metadata": {},
   "source": [
    "**Чек-лист:**\n",
    "- [x] Открыть файл с данными и изучить общую информацию\n",
    "- [x] Подготовить данные:\n",
    "    - [x] Привести данные к нужным типам;\n",
    "    - [x] Найти и исправить ошибки в данных.\n",
    "- [x] Проведение расчетов:\n",
    "    - Посчитать для каждого пользователя:\n",
    "        - [x] количество сделанных звонков и израсходованных минут разговора по месяцам;\n",
    "        - [x] количество отправленных сообщений по месяцам;\n",
    "        - [x] объем израсходованного интернет-трафика по месяцам;\n",
    "        - [x] помесячную выручку с каждого пользователя (вычтите бесплатный лимит из суммарного количества звонков, сообщений и интернет-трафика; остаток умножьте на значение из тарифного плана; прибавьте абонентскую плату, соответствующую тарифному плану).\n",
    "- [x] Проанализировать данные: описать поведение клиентов оператора, исходя из выборки.\n",
    "    - [x] Сколько минут разговора, сколько сообщений и какой объём интернет-трафика требуется пользователям каждого тарифа в месяц?\n",
    "    - [x] Посчитайте среднее количество, дисперсию и стандартное отклонение. Постройте гистограммы. Опишите распределения.\n",
    "- [x] Проверить гипотезы:\n",
    "    - [x] средняя выручка пользователей тарифов «Ультра» и «Смарт» различаются;\n",
    "    - [x] средняя выручка пользователей из Москвы отличается от выручки пользователей из других регионов.\n",
    "        - [x] пояснить, как вы формулировали нулевую и альтернативную гипотезы;\n",
    "        - [x] пояснить, какой критерий использовали для проверки гипотез и почему.\n",
    "- [x] Привести вывод к каждой главе\n",
    "- [x] Привести общий вывод"
   ]
  }
 ],
 "metadata": {
  "ExecuteTimeLog": [
   {
    "duration": 4,
    "start_time": "2022-02-15T08:58:25.891Z"
   },
   {
    "duration": 3,
    "start_time": "2022-02-15T09:01:16.644Z"
   },
   {
    "duration": 4,
    "start_time": "2022-02-15T09:06:08.133Z"
   },
   {
    "duration": 1427,
    "start_time": "2022-02-15T15:13:54.246Z"
   },
   {
    "duration": 4,
    "start_time": "2022-02-15T15:14:02.361Z"
   },
   {
    "duration": 123,
    "start_time": "2022-02-15T15:19:09.747Z"
   },
   {
    "duration": 450,
    "start_time": "2022-02-15T15:19:14.547Z"
   },
   {
    "duration": 323,
    "start_time": "2022-02-15T15:19:22.594Z"
   },
   {
    "duration": 199,
    "start_time": "2022-02-15T15:20:17.461Z"
   },
   {
    "duration": 16,
    "start_time": "2022-02-15T15:20:41.131Z"
   },
   {
    "duration": 165,
    "start_time": "2022-02-15T15:21:54.885Z"
   },
   {
    "duration": 187,
    "start_time": "2022-02-15T15:22:06.298Z"
   },
   {
    "duration": 11,
    "start_time": "2022-02-15T15:22:07.540Z"
   },
   {
    "duration": 158,
    "start_time": "2022-02-15T15:22:09.315Z"
   },
   {
    "duration": 12,
    "start_time": "2022-02-15T15:22:10.147Z"
   },
   {
    "duration": 15,
    "start_time": "2022-02-15T15:22:28.772Z"
   },
   {
    "duration": 17,
    "start_time": "2022-02-15T15:22:31.764Z"
   },
   {
    "duration": 157,
    "start_time": "2022-02-15T15:23:01.732Z"
   },
   {
    "duration": 15,
    "start_time": "2022-02-15T15:23:08.196Z"
   },
   {
    "duration": 19,
    "start_time": "2022-02-15T15:23:42.948Z"
   },
   {
    "duration": 15,
    "start_time": "2022-02-15T15:23:46.836Z"
   },
   {
    "duration": 14,
    "start_time": "2022-02-15T15:24:48.516Z"
   },
   {
    "duration": 13,
    "start_time": "2022-02-15T15:25:28.503Z"
   },
   {
    "duration": 4,
    "start_time": "2022-02-15T15:25:32.342Z"
   },
   {
    "duration": 26,
    "start_time": "2022-02-15T15:25:32.349Z"
   },
   {
    "duration": 19,
    "start_time": "2022-02-15T15:25:32.378Z"
   },
   {
    "duration": 194,
    "start_time": "2022-02-15T15:25:32.399Z"
   },
   {
    "duration": 12,
    "start_time": "2022-02-15T15:25:32.595Z"
   },
   {
    "duration": 175,
    "start_time": "2022-02-15T15:25:32.624Z"
   },
   {
    "duration": 12,
    "start_time": "2022-02-15T15:25:32.801Z"
   },
   {
    "duration": 128,
    "start_time": "2022-02-15T15:25:32.823Z"
   },
   {
    "duration": 11,
    "start_time": "2022-02-15T15:25:32.954Z"
   },
   {
    "duration": 13,
    "start_time": "2022-02-15T15:25:32.969Z"
   },
   {
    "duration": 39,
    "start_time": "2022-02-15T15:25:32.984Z"
   },
   {
    "duration": 12,
    "start_time": "2022-02-15T15:25:41.302Z"
   },
   {
    "duration": 3,
    "start_time": "2022-02-15T15:29:27.211Z"
   },
   {
    "duration": 3,
    "start_time": "2022-02-15T15:29:58.357Z"
   },
   {
    "duration": 11,
    "start_time": "2022-02-15T15:35:37.892Z"
   },
   {
    "duration": 159,
    "start_time": "2022-02-15T15:36:01.525Z"
   },
   {
    "duration": 86,
    "start_time": "2022-02-15T15:36:19.173Z"
   },
   {
    "duration": 75,
    "start_time": "2022-02-15T15:36:31.751Z"
   },
   {
    "duration": 5,
    "start_time": "2022-02-15T15:36:36.311Z"
   },
   {
    "duration": 27,
    "start_time": "2022-02-15T15:36:36.319Z"
   },
   {
    "duration": 18,
    "start_time": "2022-02-15T15:36:36.351Z"
   },
   {
    "duration": 11,
    "start_time": "2022-02-15T15:36:36.373Z"
   },
   {
    "duration": 206,
    "start_time": "2022-02-15T15:36:36.386Z"
   },
   {
    "duration": 12,
    "start_time": "2022-02-15T15:36:36.595Z"
   },
   {
    "duration": 144,
    "start_time": "2022-02-15T15:36:36.624Z"
   },
   {
    "duration": 238,
    "start_time": "2022-02-15T15:36:36.771Z"
   },
   {
    "duration": 22,
    "start_time": "2022-02-15T15:36:37.016Z"
   },
   {
    "duration": 112,
    "start_time": "2022-02-15T15:36:37.041Z"
   },
   {
    "duration": 120,
    "start_time": "2022-02-15T15:36:37.156Z"
   },
   {
    "duration": 13,
    "start_time": "2022-02-15T15:36:37.278Z"
   },
   {
    "duration": 81,
    "start_time": "2022-02-15T15:36:37.294Z"
   },
   {
    "duration": 13,
    "start_time": "2022-02-15T15:36:37.378Z"
   },
   {
    "duration": 31,
    "start_time": "2022-02-15T15:36:37.394Z"
   },
   {
    "duration": 278,
    "start_time": "2022-02-15T15:44:32.597Z"
   },
   {
    "duration": 23,
    "start_time": "2022-02-15T15:44:39.590Z"
   },
   {
    "duration": 43,
    "start_time": "2022-02-15T15:45:17.064Z"
   },
   {
    "duration": 11,
    "start_time": "2022-02-15T15:45:49.029Z"
   },
   {
    "duration": 20,
    "start_time": "2022-02-15T15:46:00.374Z"
   },
   {
    "duration": -704,
    "start_time": "2022-02-15T15:46:40.144Z"
   },
   {
    "duration": 17,
    "start_time": "2022-02-15T15:46:40.628Z"
   },
   {
    "duration": 18,
    "start_time": "2022-02-15T15:50:15.094Z"
   },
   {
    "duration": 9,
    "start_time": "2022-02-15T15:52:15.117Z"
   },
   {
    "duration": 7,
    "start_time": "2022-02-15T15:52:40.773Z"
   },
   {
    "duration": 7,
    "start_time": "2022-02-15T15:53:07.141Z"
   },
   {
    "duration": 330,
    "start_time": "2022-02-15T18:21:01.763Z"
   },
   {
    "duration": 1493,
    "start_time": "2022-02-15T18:21:08.241Z"
   },
   {
    "duration": 29,
    "start_time": "2022-02-15T18:21:09.737Z"
   },
   {
    "duration": 21,
    "start_time": "2022-02-15T18:21:09.770Z"
   },
   {
    "duration": 10,
    "start_time": "2022-02-15T18:21:09.794Z"
   },
   {
    "duration": 11,
    "start_time": "2022-02-15T18:21:09.807Z"
   },
   {
    "duration": 50,
    "start_time": "2022-02-15T18:21:09.821Z"
   },
   {
    "duration": 7,
    "start_time": "2022-02-15T18:21:09.873Z"
   },
   {
    "duration": 236,
    "start_time": "2022-02-15T18:21:09.887Z"
   },
   {
    "duration": 12,
    "start_time": "2022-02-15T18:21:10.126Z"
   },
   {
    "duration": 167,
    "start_time": "2022-02-15T18:21:10.141Z"
   },
   {
    "duration": 25,
    "start_time": "2022-02-15T18:21:10.311Z"
   },
   {
    "duration": 199,
    "start_time": "2022-02-15T18:21:10.339Z"
   },
   {
    "duration": 11,
    "start_time": "2022-02-15T18:21:10.540Z"
   },
   {
    "duration": 139,
    "start_time": "2022-02-15T18:21:10.554Z"
   },
   {
    "duration": 24,
    "start_time": "2022-02-15T18:21:10.697Z"
   },
   {
    "duration": 132,
    "start_time": "2022-02-15T18:21:10.724Z"
   },
   {
    "duration": 12,
    "start_time": "2022-02-15T18:21:10.858Z"
   },
   {
    "duration": 62,
    "start_time": "2022-02-15T18:21:10.873Z"
   },
   {
    "duration": 13,
    "start_time": "2022-02-15T18:21:10.937Z"
   },
   {
    "duration": 11,
    "start_time": "2022-02-15T18:21:10.970Z"
   },
   {
    "duration": 26,
    "start_time": "2022-02-15T18:22:10.765Z"
   },
   {
    "duration": 23,
    "start_time": "2022-02-15T18:22:51.790Z"
   },
   {
    "duration": 21,
    "start_time": "2022-02-15T18:24:03.579Z"
   },
   {
    "duration": 344,
    "start_time": "2022-02-15T18:40:12.932Z"
   },
   {
    "duration": 279,
    "start_time": "2022-02-15T18:41:15.786Z"
   },
   {
    "duration": 164,
    "start_time": "2022-02-15T18:42:24.046Z"
   },
   {
    "duration": 54,
    "start_time": "2022-02-15T18:42:33.485Z"
   },
   {
    "duration": 44,
    "start_time": "2022-02-15T18:42:38.348Z"
   },
   {
    "duration": 72,
    "start_time": "2022-02-15T18:42:46.669Z"
   },
   {
    "duration": 19,
    "start_time": "2022-02-15T18:44:47.375Z"
   },
   {
    "duration": 15,
    "start_time": "2022-02-15T18:45:03.390Z"
   },
   {
    "duration": 12,
    "start_time": "2022-02-15T18:45:08.861Z"
   },
   {
    "duration": 4,
    "start_time": "2022-02-15T18:45:15.779Z"
   },
   {
    "duration": 33,
    "start_time": "2022-02-15T18:45:15.786Z"
   },
   {
    "duration": 15,
    "start_time": "2022-02-15T18:45:15.823Z"
   },
   {
    "duration": 9,
    "start_time": "2022-02-15T18:45:15.842Z"
   },
   {
    "duration": 19,
    "start_time": "2022-02-15T18:45:15.854Z"
   },
   {
    "duration": 11,
    "start_time": "2022-02-15T18:45:15.876Z"
   },
   {
    "duration": 7,
    "start_time": "2022-02-15T18:45:15.890Z"
   },
   {
    "duration": 279,
    "start_time": "2022-02-15T18:45:15.899Z"
   },
   {
    "duration": 11,
    "start_time": "2022-02-15T18:45:16.182Z"
   },
   {
    "duration": 32,
    "start_time": "2022-02-15T18:45:16.196Z"
   },
   {
    "duration": 154,
    "start_time": "2022-02-15T18:45:16.231Z"
   },
   {
    "duration": 19,
    "start_time": "2022-02-15T18:45:16.388Z"
   },
   {
    "duration": 189,
    "start_time": "2022-02-15T18:45:16.410Z"
   },
   {
    "duration": 12,
    "start_time": "2022-02-15T18:45:16.602Z"
   },
   {
    "duration": 26,
    "start_time": "2022-02-15T18:45:16.617Z"
   },
   {
    "duration": 132,
    "start_time": "2022-02-15T18:45:16.645Z"
   },
   {
    "duration": 18,
    "start_time": "2022-02-15T18:45:16.779Z"
   },
   {
    "duration": 133,
    "start_time": "2022-02-15T18:45:16.799Z"
   },
   {
    "duration": 14,
    "start_time": "2022-02-15T18:45:16.935Z"
   },
   {
    "duration": 35,
    "start_time": "2022-02-15T18:45:16.952Z"
   },
   {
    "duration": 60,
    "start_time": "2022-02-15T18:45:16.990Z"
   },
   {
    "duration": 18,
    "start_time": "2022-02-15T18:45:17.069Z"
   },
   {
    "duration": 16,
    "start_time": "2022-02-15T18:45:17.089Z"
   },
   {
    "duration": 108,
    "start_time": "2022-02-15T18:45:17.107Z"
   },
   {
    "duration": 14,
    "start_time": "2022-02-15T18:45:17.218Z"
   },
   {
    "duration": 68,
    "start_time": "2022-02-15T18:45:17.235Z"
   },
   {
    "duration": 15,
    "start_time": "2022-02-15T18:45:17.308Z"
   },
   {
    "duration": 65,
    "start_time": "2022-02-15T18:45:17.326Z"
   },
   {
    "duration": 12,
    "start_time": "2022-02-15T18:45:17.394Z"
   },
   {
    "duration": 4,
    "start_time": "2022-02-15T18:47:19.163Z"
   },
   {
    "duration": 32,
    "start_time": "2022-02-15T18:47:19.170Z"
   },
   {
    "duration": 15,
    "start_time": "2022-02-15T18:47:19.206Z"
   },
   {
    "duration": 11,
    "start_time": "2022-02-15T18:47:19.224Z"
   },
   {
    "duration": 38,
    "start_time": "2022-02-15T18:47:19.238Z"
   },
   {
    "duration": 11,
    "start_time": "2022-02-15T18:47:19.278Z"
   },
   {
    "duration": 7,
    "start_time": "2022-02-15T18:47:19.291Z"
   },
   {
    "duration": 226,
    "start_time": "2022-02-15T18:47:19.301Z"
   },
   {
    "duration": 11,
    "start_time": "2022-02-15T18:47:19.531Z"
   },
   {
    "duration": 46,
    "start_time": "2022-02-15T18:47:19.547Z"
   },
   {
    "duration": 139,
    "start_time": "2022-02-15T18:47:19.596Z"
   },
   {
    "duration": 36,
    "start_time": "2022-02-15T18:47:19.737Z"
   },
   {
    "duration": 180,
    "start_time": "2022-02-15T18:47:19.776Z"
   },
   {
    "duration": 19,
    "start_time": "2022-02-15T18:47:19.959Z"
   },
   {
    "duration": 29,
    "start_time": "2022-02-15T18:47:19.980Z"
   },
   {
    "duration": 128,
    "start_time": "2022-02-15T18:47:20.011Z"
   },
   {
    "duration": 41,
    "start_time": "2022-02-15T18:47:20.142Z"
   },
   {
    "duration": 112,
    "start_time": "2022-02-15T18:47:20.185Z"
   },
   {
    "duration": 10,
    "start_time": "2022-02-15T18:47:20.300Z"
   },
   {
    "duration": 26,
    "start_time": "2022-02-15T18:47:20.312Z"
   },
   {
    "duration": 81,
    "start_time": "2022-02-15T18:47:20.340Z"
   },
   {
    "duration": 14,
    "start_time": "2022-02-15T18:47:20.423Z"
   },
   {
    "duration": 30,
    "start_time": "2022-02-15T18:47:20.439Z"
   },
   {
    "duration": 65,
    "start_time": "2022-02-15T18:47:20.471Z"
   },
   {
    "duration": 35,
    "start_time": "2022-02-15T18:47:20.538Z"
   },
   {
    "duration": 54,
    "start_time": "2022-02-15T18:47:20.576Z"
   },
   {
    "duration": 14,
    "start_time": "2022-02-15T18:47:20.634Z"
   },
   {
    "duration": 43,
    "start_time": "2022-02-15T18:47:20.670Z"
   },
   {
    "duration": 13,
    "start_time": "2022-02-15T18:47:20.715Z"
   },
   {
    "duration": 23,
    "start_time": "2022-02-15T18:54:44.375Z"
   },
   {
    "duration": 11,
    "start_time": "2022-02-15T18:54:55.271Z"
   },
   {
    "duration": 16,
    "start_time": "2022-02-15T18:56:09.374Z"
   },
   {
    "duration": 17,
    "start_time": "2022-02-15T18:56:23.440Z"
   },
   {
    "duration": 4,
    "start_time": "2022-02-15T18:58:02.974Z"
   },
   {
    "duration": 346,
    "start_time": "2022-02-15T19:08:03.951Z"
   },
   {
    "duration": 358,
    "start_time": "2022-02-15T19:08:27.825Z"
   },
   {
    "duration": 291,
    "start_time": "2022-02-15T19:08:42.430Z"
   },
   {
    "duration": 7,
    "start_time": "2022-02-15T19:10:50.158Z"
   },
   {
    "duration": 18,
    "start_time": "2022-02-15T19:10:51.310Z"
   },
   {
    "duration": 6,
    "start_time": "2022-02-15T19:11:05.376Z"
   },
   {
    "duration": 20,
    "start_time": "2022-02-15T19:11:06.383Z"
   },
   {
    "duration": 6,
    "start_time": "2022-02-15T19:11:13.697Z"
   },
   {
    "duration": 23,
    "start_time": "2022-02-15T19:11:14.145Z"
   },
   {
    "duration": 11,
    "start_time": "2022-02-15T19:11:18.622Z"
   },
   {
    "duration": 44,
    "start_time": "2022-02-15T19:11:18.637Z"
   },
   {
    "duration": 36,
    "start_time": "2022-02-15T19:11:18.686Z"
   },
   {
    "duration": 34,
    "start_time": "2022-02-15T19:11:18.726Z"
   },
   {
    "duration": 18,
    "start_time": "2022-02-15T19:11:18.764Z"
   },
   {
    "duration": 26,
    "start_time": "2022-02-15T19:11:18.786Z"
   },
   {
    "duration": 32,
    "start_time": "2022-02-15T19:11:18.816Z"
   },
   {
    "duration": 312,
    "start_time": "2022-02-15T19:11:18.852Z"
   },
   {
    "duration": 13,
    "start_time": "2022-02-15T19:11:19.169Z"
   },
   {
    "duration": 60,
    "start_time": "2022-02-15T19:11:19.186Z"
   },
   {
    "duration": 149,
    "start_time": "2022-02-15T19:11:19.249Z"
   },
   {
    "duration": 29,
    "start_time": "2022-02-15T19:11:19.402Z"
   },
   {
    "duration": 211,
    "start_time": "2022-02-15T19:11:19.434Z"
   },
   {
    "duration": 24,
    "start_time": "2022-02-15T19:11:19.649Z"
   },
   {
    "duration": 28,
    "start_time": "2022-02-15T19:11:19.675Z"
   },
   {
    "duration": 163,
    "start_time": "2022-02-15T19:11:19.706Z"
   },
   {
    "duration": 29,
    "start_time": "2022-02-15T19:11:19.872Z"
   },
   {
    "duration": 220,
    "start_time": "2022-02-15T19:11:19.905Z"
   },
   {
    "duration": 15,
    "start_time": "2022-02-15T19:11:20.129Z"
   },
   {
    "duration": 43,
    "start_time": "2022-02-15T19:11:20.147Z"
   },
   {
    "duration": 98,
    "start_time": "2022-02-15T19:11:20.193Z"
   },
   {
    "duration": 17,
    "start_time": "2022-02-15T19:11:20.295Z"
   },
   {
    "duration": 26,
    "start_time": "2022-02-15T19:11:20.315Z"
   },
   {
    "duration": 110,
    "start_time": "2022-02-15T19:11:20.345Z"
   },
   {
    "duration": 21,
    "start_time": "2022-02-15T19:11:20.458Z"
   },
   {
    "duration": 17,
    "start_time": "2022-02-15T19:11:20.482Z"
   },
   {
    "duration": 86,
    "start_time": "2022-02-15T19:11:20.506Z"
   },
   {
    "duration": 20,
    "start_time": "2022-02-15T19:11:20.596Z"
   },
   {
    "duration": 69,
    "start_time": "2022-02-15T19:11:20.623Z"
   },
   {
    "duration": 17,
    "start_time": "2022-02-15T19:11:20.695Z"
   },
   {
    "duration": 76,
    "start_time": "2022-02-15T19:11:20.716Z"
   },
   {
    "duration": 17,
    "start_time": "2022-02-15T19:11:20.795Z"
   },
   {
    "duration": 18,
    "start_time": "2022-02-15T19:11:27.806Z"
   },
   {
    "duration": 6,
    "start_time": "2022-02-15T19:14:01.215Z"
   },
   {
    "duration": 40,
    "start_time": "2022-02-15T19:14:01.224Z"
   },
   {
    "duration": 15,
    "start_time": "2022-02-15T19:14:01.269Z"
   },
   {
    "duration": 19,
    "start_time": "2022-02-15T19:14:01.287Z"
   },
   {
    "duration": 14,
    "start_time": "2022-02-15T19:14:01.308Z"
   },
   {
    "duration": 16,
    "start_time": "2022-02-15T19:14:01.325Z"
   },
   {
    "duration": 32,
    "start_time": "2022-02-15T19:14:01.343Z"
   },
   {
    "duration": 263,
    "start_time": "2022-02-15T19:14:01.378Z"
   },
   {
    "duration": 12,
    "start_time": "2022-02-15T19:14:01.645Z"
   },
   {
    "duration": 33,
    "start_time": "2022-02-15T19:14:01.661Z"
   },
   {
    "duration": 148,
    "start_time": "2022-02-15T19:14:01.697Z"
   },
   {
    "duration": 26,
    "start_time": "2022-02-15T19:14:01.847Z"
   },
   {
    "duration": 208,
    "start_time": "2022-02-15T19:14:01.875Z"
   },
   {
    "duration": 16,
    "start_time": "2022-02-15T19:14:02.086Z"
   },
   {
    "duration": 203,
    "start_time": "2022-02-15T19:14:02.105Z"
   },
   {
    "duration": 147,
    "start_time": "2022-02-15T19:14:02.327Z"
   },
   {
    "duration": 25,
    "start_time": "2022-02-15T19:14:02.477Z"
   },
   {
    "duration": 133,
    "start_time": "2022-02-15T19:14:02.504Z"
   },
   {
    "duration": 12,
    "start_time": "2022-02-15T19:14:02.639Z"
   },
   {
    "duration": 31,
    "start_time": "2022-02-15T19:14:02.654Z"
   },
   {
    "duration": 100,
    "start_time": "2022-02-15T19:14:02.688Z"
   },
   {
    "duration": 15,
    "start_time": "2022-02-15T19:14:02.791Z"
   },
   {
    "duration": 45,
    "start_time": "2022-02-15T19:14:02.809Z"
   },
   {
    "duration": 91,
    "start_time": "2022-02-15T19:14:02.856Z"
   },
   {
    "duration": 7,
    "start_time": "2022-02-15T19:14:02.949Z"
   },
   {
    "duration": 30,
    "start_time": "2022-02-15T19:14:02.959Z"
   },
   {
    "duration": 115,
    "start_time": "2022-02-15T19:14:03.000Z"
   },
   {
    "duration": 22,
    "start_time": "2022-02-15T19:14:03.171Z"
   },
   {
    "duration": 97,
    "start_time": "2022-02-15T19:14:03.196Z"
   },
   {
    "duration": 13,
    "start_time": "2022-02-15T19:14:03.296Z"
   },
   {
    "duration": 78,
    "start_time": "2022-02-15T19:14:03.311Z"
   },
   {
    "duration": 11,
    "start_time": "2022-02-15T19:14:03.392Z"
   },
   {
    "duration": 20,
    "start_time": "2022-02-15T19:14:23.999Z"
   },
   {
    "duration": 12,
    "start_time": "2022-02-15T19:14:24.770Z"
   },
   {
    "duration": 81,
    "start_time": "2022-02-15T19:16:58.096Z"
   },
   {
    "duration": 79,
    "start_time": "2022-02-15T19:17:24.449Z"
   },
   {
    "duration": 24,
    "start_time": "2022-02-15T19:17:33.139Z"
   },
   {
    "duration": 14,
    "start_time": "2022-02-15T19:17:34.128Z"
   },
   {
    "duration": 63,
    "start_time": "2022-02-15T19:18:02.950Z"
   },
   {
    "duration": 22,
    "start_time": "2022-02-15T19:18:12.304Z"
   },
   {
    "duration": 18,
    "start_time": "2022-02-15T19:18:21.312Z"
   },
   {
    "duration": 25,
    "start_time": "2022-02-15T19:23:08.160Z"
   },
   {
    "duration": 49,
    "start_time": "2022-02-15T19:25:28.896Z"
   },
   {
    "duration": 16,
    "start_time": "2022-02-15T19:25:29.359Z"
   },
   {
    "duration": 5,
    "start_time": "2022-02-15T19:25:35.527Z"
   },
   {
    "duration": 39,
    "start_time": "2022-02-15T19:25:35.536Z"
   },
   {
    "duration": 16,
    "start_time": "2022-02-15T19:25:35.580Z"
   },
   {
    "duration": 12,
    "start_time": "2022-02-15T19:25:35.599Z"
   },
   {
    "duration": 13,
    "start_time": "2022-02-15T19:25:35.613Z"
   },
   {
    "duration": 45,
    "start_time": "2022-02-15T19:25:35.629Z"
   },
   {
    "duration": 9,
    "start_time": "2022-02-15T19:25:35.677Z"
   },
   {
    "duration": 251,
    "start_time": "2022-02-15T19:25:35.691Z"
   },
   {
    "duration": 24,
    "start_time": "2022-02-15T19:25:35.947Z"
   },
   {
    "duration": 49,
    "start_time": "2022-02-15T19:25:35.978Z"
   },
   {
    "duration": 177,
    "start_time": "2022-02-15T19:25:36.030Z"
   },
   {
    "duration": 22,
    "start_time": "2022-02-15T19:25:36.211Z"
   },
   {
    "duration": 197,
    "start_time": "2022-02-15T19:25:36.236Z"
   },
   {
    "duration": 13,
    "start_time": "2022-02-15T19:25:36.435Z"
   },
   {
    "duration": 38,
    "start_time": "2022-02-15T19:25:36.451Z"
   },
   {
    "duration": 125,
    "start_time": "2022-02-15T19:25:36.492Z"
   },
   {
    "duration": 24,
    "start_time": "2022-02-15T19:25:36.620Z"
   },
   {
    "duration": 130,
    "start_time": "2022-02-15T19:25:36.646Z"
   },
   {
    "duration": 14,
    "start_time": "2022-02-15T19:25:36.779Z"
   },
   {
    "duration": 29,
    "start_time": "2022-02-15T19:25:36.796Z"
   },
   {
    "duration": 95,
    "start_time": "2022-02-15T19:25:36.828Z"
   },
   {
    "duration": 20,
    "start_time": "2022-02-15T19:25:36.926Z"
   },
   {
    "duration": 30,
    "start_time": "2022-02-15T19:25:36.953Z"
   },
   {
    "duration": 79,
    "start_time": "2022-02-15T19:25:36.986Z"
   },
   {
    "duration": 6,
    "start_time": "2022-02-15T19:25:37.071Z"
   },
   {
    "duration": 23,
    "start_time": "2022-02-15T19:25:37.081Z"
   },
   {
    "duration": 94,
    "start_time": "2022-02-15T19:25:37.107Z"
   },
   {
    "duration": 19,
    "start_time": "2022-02-15T19:25:37.204Z"
   },
   {
    "duration": 77,
    "start_time": "2022-02-15T19:25:37.227Z"
   },
   {
    "duration": 19,
    "start_time": "2022-02-15T19:25:37.307Z"
   },
   {
    "duration": 45,
    "start_time": "2022-02-15T19:25:37.329Z"
   },
   {
    "duration": 14,
    "start_time": "2022-02-15T19:25:37.376Z"
   },
   {
    "duration": 517,
    "start_time": "2022-02-15T19:25:37.392Z"
   },
   {
    "duration": -33,
    "start_time": "2022-02-15T19:25:37.944Z"
   },
   {
    "duration": 336,
    "start_time": "2022-02-15T19:26:37.985Z"
   },
   {
    "duration": 19,
    "start_time": "2022-02-15T19:26:38.544Z"
   },
   {
    "duration": 23,
    "start_time": "2022-02-15T19:26:55.488Z"
   },
   {
    "duration": 15,
    "start_time": "2022-02-15T19:26:57.088Z"
   },
   {
    "duration": 469,
    "start_time": "2022-02-15T19:27:19.279Z"
   },
   {
    "duration": 362,
    "start_time": "2022-02-15T19:27:28.752Z"
   },
   {
    "duration": 4,
    "start_time": "2022-02-15T19:27:31.535Z"
   },
   {
    "duration": 42,
    "start_time": "2022-02-15T19:27:31.543Z"
   },
   {
    "duration": 31,
    "start_time": "2022-02-15T19:27:31.588Z"
   },
   {
    "duration": 20,
    "start_time": "2022-02-15T19:27:31.623Z"
   },
   {
    "duration": 14,
    "start_time": "2022-02-15T19:27:31.646Z"
   },
   {
    "duration": 14,
    "start_time": "2022-02-15T19:27:31.663Z"
   },
   {
    "duration": 12,
    "start_time": "2022-02-15T19:27:31.679Z"
   },
   {
    "duration": 228,
    "start_time": "2022-02-15T19:27:31.694Z"
   },
   {
    "duration": 12,
    "start_time": "2022-02-15T19:27:31.927Z"
   },
   {
    "duration": 46,
    "start_time": "2022-02-15T19:27:31.943Z"
   },
   {
    "duration": 141,
    "start_time": "2022-02-15T19:27:31.991Z"
   },
   {
    "duration": 36,
    "start_time": "2022-02-15T19:27:32.134Z"
   },
   {
    "duration": 176,
    "start_time": "2022-02-15T19:27:32.172Z"
   },
   {
    "duration": 13,
    "start_time": "2022-02-15T19:27:32.350Z"
   },
   {
    "duration": 33,
    "start_time": "2022-02-15T19:27:32.365Z"
   },
   {
    "duration": 125,
    "start_time": "2022-02-15T19:27:32.400Z"
   },
   {
    "duration": 19,
    "start_time": "2022-02-15T19:27:32.527Z"
   },
   {
    "duration": 125,
    "start_time": "2022-02-15T19:27:32.549Z"
   },
   {
    "duration": 11,
    "start_time": "2022-02-15T19:27:32.677Z"
   },
   {
    "duration": 24,
    "start_time": "2022-02-15T19:27:32.691Z"
   },
   {
    "duration": 103,
    "start_time": "2022-02-15T19:27:32.717Z"
   },
   {
    "duration": 14,
    "start_time": "2022-02-15T19:27:32.823Z"
   },
   {
    "duration": 32,
    "start_time": "2022-02-15T19:27:32.839Z"
   },
   {
    "duration": 65,
    "start_time": "2022-02-15T19:27:32.873Z"
   },
   {
    "duration": 28,
    "start_time": "2022-02-15T19:27:32.941Z"
   },
   {
    "duration": 16,
    "start_time": "2022-02-15T19:27:32.972Z"
   },
   {
    "duration": 51,
    "start_time": "2022-02-15T19:27:32.993Z"
   },
   {
    "duration": 37,
    "start_time": "2022-02-15T19:27:33.046Z"
   },
   {
    "duration": 45,
    "start_time": "2022-02-15T19:27:33.085Z"
   },
   {
    "duration": 40,
    "start_time": "2022-02-15T19:27:33.133Z"
   },
   {
    "duration": 35,
    "start_time": "2022-02-15T19:27:33.175Z"
   },
   {
    "duration": 14,
    "start_time": "2022-02-15T19:27:33.212Z"
   },
   {
    "duration": 288,
    "start_time": "2022-02-15T19:27:33.229Z"
   },
   {
    "duration": -33,
    "start_time": "2022-02-15T19:27:33.552Z"
   },
   {
    "duration": 23,
    "start_time": "2022-02-15T19:30:04.992Z"
   },
   {
    "duration": 17,
    "start_time": "2022-02-15T19:30:07.312Z"
   },
   {
    "duration": 272,
    "start_time": "2022-02-15T19:32:49.668Z"
   },
   {
    "duration": 13,
    "start_time": "2022-02-15T19:32:50.225Z"
   },
   {
    "duration": 19,
    "start_time": "2022-02-15T19:33:16.496Z"
   },
   {
    "duration": 11,
    "start_time": "2022-02-15T19:33:17.777Z"
   },
   {
    "duration": 4,
    "start_time": "2022-02-15T19:38:20.034Z"
   },
   {
    "duration": 13,
    "start_time": "2022-02-15T19:38:32.737Z"
   },
   {
    "duration": 22,
    "start_time": "2022-02-15T19:39:35.153Z"
   },
   {
    "duration": 4,
    "start_time": "2022-02-15T19:39:35.521Z"
   },
   {
    "duration": 17,
    "start_time": "2022-02-15T19:39:36.065Z"
   },
   {
    "duration": 4,
    "start_time": "2022-02-15T19:39:53.921Z"
   },
   {
    "duration": 13,
    "start_time": "2022-02-15T19:39:54.293Z"
   },
   {
    "duration": 1119,
    "start_time": "2022-02-15T19:40:27.377Z"
   },
   {
    "duration": -34,
    "start_time": "2022-02-15T19:40:28.533Z"
   },
   {
    "duration": 18,
    "start_time": "2022-02-15T19:40:33.138Z"
   },
   {
    "duration": 1080,
    "start_time": "2022-02-15T19:40:33.681Z"
   },
   {
    "duration": -24,
    "start_time": "2022-02-15T19:40:34.789Z"
   },
   {
    "duration": 6,
    "start_time": "2022-02-15T19:40:52.147Z"
   },
   {
    "duration": 13,
    "start_time": "2022-02-15T19:40:52.929Z"
   },
   {
    "duration": 92,
    "start_time": "2022-02-15T19:47:03.570Z"
   },
   {
    "duration": 5,
    "start_time": "2022-02-15T19:47:12.662Z"
   },
   {
    "duration": 12,
    "start_time": "2022-02-15T19:47:22.551Z"
   },
   {
    "duration": 6,
    "start_time": "2022-02-15T19:48:56.450Z"
   },
   {
    "duration": 9,
    "start_time": "2022-02-15T19:49:11.846Z"
   },
   {
    "duration": 31,
    "start_time": "2022-02-15T19:49:27.077Z"
   },
   {
    "duration": 21,
    "start_time": "2022-02-15T19:49:45.202Z"
   },
   {
    "duration": 26,
    "start_time": "2022-02-15T19:49:51.012Z"
   },
   {
    "duration": 41,
    "start_time": "2022-02-15T19:49:56.883Z"
   },
   {
    "duration": 28,
    "start_time": "2022-02-15T19:50:02.758Z"
   },
   {
    "duration": 31,
    "start_time": "2022-02-15T19:50:09.958Z"
   },
   {
    "duration": 41,
    "start_time": "2022-02-15T19:50:17.107Z"
   },
   {
    "duration": 39,
    "start_time": "2022-02-15T19:50:27.845Z"
   },
   {
    "duration": 30,
    "start_time": "2022-02-15T19:50:37.027Z"
   },
   {
    "duration": 44,
    "start_time": "2022-02-15T19:50:46.037Z"
   },
   {
    "duration": 76,
    "start_time": "2022-02-15T19:50:52.819Z"
   },
   {
    "duration": 1107,
    "start_time": "2022-02-16T07:56:33.875Z"
   },
   {
    "duration": 41,
    "start_time": "2022-02-16T07:56:34.984Z"
   },
   {
    "duration": 28,
    "start_time": "2022-02-16T07:56:35.027Z"
   },
   {
    "duration": 27,
    "start_time": "2022-02-16T07:56:35.057Z"
   },
   {
    "duration": 10,
    "start_time": "2022-02-16T07:56:35.086Z"
   },
   {
    "duration": 10,
    "start_time": "2022-02-16T07:56:35.097Z"
   },
   {
    "duration": 6,
    "start_time": "2022-02-16T07:56:35.108Z"
   },
   {
    "duration": 167,
    "start_time": "2022-02-16T07:56:35.116Z"
   },
   {
    "duration": 8,
    "start_time": "2022-02-16T07:56:35.286Z"
   },
   {
    "duration": 24,
    "start_time": "2022-02-16T07:56:35.296Z"
   },
   {
    "duration": 121,
    "start_time": "2022-02-16T07:56:35.322Z"
   },
   {
    "duration": 26,
    "start_time": "2022-02-16T07:56:35.445Z"
   },
   {
    "duration": 138,
    "start_time": "2022-02-16T07:56:35.473Z"
   },
   {
    "duration": 8,
    "start_time": "2022-02-16T07:56:35.612Z"
   },
   {
    "duration": 20,
    "start_time": "2022-02-16T07:56:35.622Z"
   },
   {
    "duration": 72,
    "start_time": "2022-02-16T07:56:35.644Z"
   },
   {
    "duration": 15,
    "start_time": "2022-02-16T07:56:35.718Z"
   },
   {
    "duration": 94,
    "start_time": "2022-02-16T07:56:35.734Z"
   },
   {
    "duration": 6,
    "start_time": "2022-02-16T07:56:35.830Z"
   },
   {
    "duration": 17,
    "start_time": "2022-02-16T07:56:35.838Z"
   },
   {
    "duration": 50,
    "start_time": "2022-02-16T07:56:35.857Z"
   },
   {
    "duration": 16,
    "start_time": "2022-02-16T07:56:35.910Z"
   },
   {
    "duration": 18,
    "start_time": "2022-02-16T07:56:35.928Z"
   },
   {
    "duration": 14,
    "start_time": "2022-02-16T07:56:35.948Z"
   },
   {
    "duration": 50,
    "start_time": "2022-02-16T07:56:35.964Z"
   },
   {
    "duration": 4,
    "start_time": "2022-02-16T07:56:36.016Z"
   },
   {
    "duration": 11,
    "start_time": "2022-02-16T07:56:36.023Z"
   },
   {
    "duration": 53,
    "start_time": "2022-02-16T07:56:36.036Z"
   },
   {
    "duration": 9,
    "start_time": "2022-02-16T07:56:36.091Z"
   },
   {
    "duration": 38,
    "start_time": "2022-02-16T07:56:36.102Z"
   },
   {
    "duration": 28,
    "start_time": "2022-02-16T07:56:36.142Z"
   },
   {
    "duration": 35,
    "start_time": "2022-02-16T07:56:36.172Z"
   },
   {
    "duration": 3,
    "start_time": "2022-02-16T07:56:36.208Z"
   },
   {
    "duration": 13,
    "start_time": "2022-02-16T07:56:36.213Z"
   },
   {
    "duration": 19,
    "start_time": "2022-02-16T07:56:36.227Z"
   },
   {
    "duration": 3,
    "start_time": "2022-02-16T07:56:36.248Z"
   },
   {
    "duration": 7164,
    "start_time": "2022-02-16T07:56:36.253Z"
   },
   {
    "duration": -164,
    "start_time": "2022-02-16T07:56:43.583Z"
   },
   {
    "duration": 5,
    "start_time": "2022-02-16T07:57:00.766Z"
   },
   {
    "duration": 10,
    "start_time": "2022-02-16T07:57:01.666Z"
   },
   {
    "duration": 4,
    "start_time": "2022-02-16T07:57:30.391Z"
   },
   {
    "duration": 11,
    "start_time": "2022-02-16T07:57:32.322Z"
   },
   {
    "duration": 4,
    "start_time": "2022-02-16T07:57:38.977Z"
   },
   {
    "duration": 9,
    "start_time": "2022-02-16T07:57:41.476Z"
   },
   {
    "duration": 4,
    "start_time": "2022-02-16T08:00:00.878Z"
   },
   {
    "duration": 11,
    "start_time": "2022-02-16T08:00:01.522Z"
   },
   {
    "duration": 4,
    "start_time": "2022-02-16T08:00:16.882Z"
   },
   {
    "duration": 5,
    "start_time": "2022-02-16T08:00:21.826Z"
   },
   {
    "duration": 12,
    "start_time": "2022-02-16T08:00:22.563Z"
   },
   {
    "duration": 17,
    "start_time": "2022-02-16T08:00:28.290Z"
   },
   {
    "duration": 3,
    "start_time": "2022-02-16T08:00:28.675Z"
   },
   {
    "duration": 5,
    "start_time": "2022-02-16T08:00:29.058Z"
   },
   {
    "duration": 14,
    "start_time": "2022-02-16T08:00:29.683Z"
   },
   {
    "duration": 4,
    "start_time": "2022-02-16T08:00:48.193Z"
   },
   {
    "duration": 33,
    "start_time": "2022-02-16T08:00:48.199Z"
   },
   {
    "duration": 13,
    "start_time": "2022-02-16T08:00:48.235Z"
   },
   {
    "duration": 8,
    "start_time": "2022-02-16T08:00:48.250Z"
   },
   {
    "duration": 10,
    "start_time": "2022-02-16T08:00:48.260Z"
   },
   {
    "duration": 7,
    "start_time": "2022-02-16T08:00:48.272Z"
   },
   {
    "duration": 10,
    "start_time": "2022-02-16T08:00:48.281Z"
   },
   {
    "duration": 159,
    "start_time": "2022-02-16T08:00:48.292Z"
   },
   {
    "duration": 8,
    "start_time": "2022-02-16T08:00:48.454Z"
   },
   {
    "duration": 23,
    "start_time": "2022-02-16T08:00:48.469Z"
   },
   {
    "duration": 97,
    "start_time": "2022-02-16T08:00:48.494Z"
   },
   {
    "duration": 18,
    "start_time": "2022-02-16T08:00:48.593Z"
   },
   {
    "duration": 138,
    "start_time": "2022-02-16T08:00:48.613Z"
   },
   {
    "duration": 9,
    "start_time": "2022-02-16T08:00:48.753Z"
   },
   {
    "duration": 20,
    "start_time": "2022-02-16T08:00:48.769Z"
   },
   {
    "duration": 53,
    "start_time": "2022-02-16T08:00:48.791Z"
   },
   {
    "duration": 32,
    "start_time": "2022-02-16T08:00:48.845Z"
   },
   {
    "duration": 85,
    "start_time": "2022-02-16T08:00:48.879Z"
   },
   {
    "duration": 7,
    "start_time": "2022-02-16T08:00:48.966Z"
   },
   {
    "duration": 18,
    "start_time": "2022-02-16T08:00:48.974Z"
   },
   {
    "duration": 41,
    "start_time": "2022-02-16T08:00:48.994Z"
   },
   {
    "duration": 31,
    "start_time": "2022-02-16T08:00:49.037Z"
   },
   {
    "duration": 9,
    "start_time": "2022-02-16T08:00:49.070Z"
   },
   {
    "duration": 5,
    "start_time": "2022-02-16T08:00:49.080Z"
   },
   {
    "duration": 47,
    "start_time": "2022-02-16T08:00:49.087Z"
   },
   {
    "duration": 4,
    "start_time": "2022-02-16T08:00:49.136Z"
   },
   {
    "duration": 29,
    "start_time": "2022-02-16T08:00:49.144Z"
   },
   {
    "duration": 37,
    "start_time": "2022-02-16T08:00:49.176Z"
   },
   {
    "duration": 10,
    "start_time": "2022-02-16T08:00:49.215Z"
   },
   {
    "duration": 52,
    "start_time": "2022-02-16T08:00:49.227Z"
   },
   {
    "duration": 9,
    "start_time": "2022-02-16T08:00:49.281Z"
   },
   {
    "duration": 25,
    "start_time": "2022-02-16T08:00:49.292Z"
   },
   {
    "duration": 4,
    "start_time": "2022-02-16T08:00:49.318Z"
   },
   {
    "duration": 12,
    "start_time": "2022-02-16T08:00:49.324Z"
   },
   {
    "duration": 48,
    "start_time": "2022-02-16T08:00:49.338Z"
   },
   {
    "duration": 4,
    "start_time": "2022-02-16T08:00:49.387Z"
   },
   {
    "duration": 6,
    "start_time": "2022-02-16T08:00:49.393Z"
   },
   {
    "duration": 12,
    "start_time": "2022-02-16T08:00:49.401Z"
   },
   {
    "duration": 20,
    "start_time": "2022-02-16T08:00:49.416Z"
   },
   {
    "duration": 3,
    "start_time": "2022-02-16T08:00:49.438Z"
   },
   {
    "duration": 38,
    "start_time": "2022-02-16T08:00:49.442Z"
   },
   {
    "duration": 13,
    "start_time": "2022-02-16T08:00:49.482Z"
   },
   {
    "duration": 13,
    "start_time": "2022-02-16T08:01:02.866Z"
   },
   {
    "duration": 1034,
    "start_time": "2022-02-16T08:01:44.755Z"
   },
   {
    "duration": -152,
    "start_time": "2022-02-16T08:01:45.943Z"
   },
   {
    "duration": -154,
    "start_time": "2022-02-16T08:01:45.946Z"
   },
   {
    "duration": 4,
    "start_time": "2022-02-16T08:02:02.756Z"
   },
   {
    "duration": 14,
    "start_time": "2022-02-16T08:02:06.389Z"
   },
   {
    "duration": 3,
    "start_time": "2022-02-16T08:02:07.100Z"
   },
   {
    "duration": 4,
    "start_time": "2022-02-16T08:02:07.971Z"
   },
   {
    "duration": 11,
    "start_time": "2022-02-16T08:02:08.723Z"
   },
   {
    "duration": 6,
    "start_time": "2022-02-16T08:03:33.732Z"
   },
   {
    "duration": 13,
    "start_time": "2022-02-16T08:03:34.646Z"
   },
   {
    "duration": 7,
    "start_time": "2022-02-16T08:05:07.059Z"
   },
   {
    "duration": 14,
    "start_time": "2022-02-16T08:05:07.891Z"
   },
   {
    "duration": 7,
    "start_time": "2022-02-16T08:05:22.926Z"
   },
   {
    "duration": 14,
    "start_time": "2022-02-16T08:05:23.652Z"
   },
   {
    "duration": 7,
    "start_time": "2022-02-16T08:05:40.820Z"
   },
   {
    "duration": 13,
    "start_time": "2022-02-16T08:05:41.667Z"
   },
   {
    "duration": 6,
    "start_time": "2022-02-16T08:06:09.909Z"
   },
   {
    "duration": 14,
    "start_time": "2022-02-16T08:06:10.580Z"
   },
   {
    "duration": 7,
    "start_time": "2022-02-16T08:06:19.412Z"
   },
   {
    "duration": 14,
    "start_time": "2022-02-16T08:06:20.035Z"
   },
   {
    "duration": 14,
    "start_time": "2022-02-16T08:08:52.085Z"
   },
   {
    "duration": 278,
    "start_time": "2022-02-16T08:10:00.902Z"
   },
   {
    "duration": 4,
    "start_time": "2022-02-16T08:12:44.806Z"
   },
   {
    "duration": 35,
    "start_time": "2022-02-16T08:12:44.812Z"
   },
   {
    "duration": 12,
    "start_time": "2022-02-16T08:12:44.850Z"
   },
   {
    "duration": 8,
    "start_time": "2022-02-16T08:12:44.864Z"
   },
   {
    "duration": 7,
    "start_time": "2022-02-16T08:12:44.874Z"
   },
   {
    "duration": 10,
    "start_time": "2022-02-16T08:12:44.883Z"
   },
   {
    "duration": 6,
    "start_time": "2022-02-16T08:12:44.895Z"
   },
   {
    "duration": 160,
    "start_time": "2022-02-16T08:12:44.903Z"
   },
   {
    "duration": 9,
    "start_time": "2022-02-16T08:12:45.066Z"
   },
   {
    "duration": 26,
    "start_time": "2022-02-16T08:12:45.077Z"
   },
   {
    "duration": 104,
    "start_time": "2022-02-16T08:12:45.105Z"
   },
   {
    "duration": 16,
    "start_time": "2022-02-16T08:12:45.211Z"
   },
   {
    "duration": 130,
    "start_time": "2022-02-16T08:12:45.229Z"
   },
   {
    "duration": 9,
    "start_time": "2022-02-16T08:12:45.361Z"
   },
   {
    "duration": 20,
    "start_time": "2022-02-16T08:12:45.372Z"
   },
   {
    "duration": 50,
    "start_time": "2022-02-16T08:12:45.394Z"
   },
   {
    "duration": 32,
    "start_time": "2022-02-16T08:12:45.446Z"
   },
   {
    "duration": 90,
    "start_time": "2022-02-16T08:12:45.480Z"
   },
   {
    "duration": 8,
    "start_time": "2022-02-16T08:12:45.571Z"
   },
   {
    "duration": 19,
    "start_time": "2022-02-16T08:12:45.580Z"
   },
   {
    "duration": 39,
    "start_time": "2022-02-16T08:12:45.601Z"
   },
   {
    "duration": 28,
    "start_time": "2022-02-16T08:12:45.642Z"
   },
   {
    "duration": 24,
    "start_time": "2022-02-16T08:12:45.672Z"
   },
   {
    "duration": 8,
    "start_time": "2022-02-16T08:12:45.698Z"
   },
   {
    "duration": 53,
    "start_time": "2022-02-16T08:12:45.708Z"
   },
   {
    "duration": 5,
    "start_time": "2022-02-16T08:12:45.762Z"
   },
   {
    "duration": 14,
    "start_time": "2022-02-16T08:12:45.771Z"
   },
   {
    "duration": 45,
    "start_time": "2022-02-16T08:12:45.788Z"
   },
   {
    "duration": 10,
    "start_time": "2022-02-16T08:12:45.835Z"
   },
   {
    "duration": 44,
    "start_time": "2022-02-16T08:12:45.847Z"
   },
   {
    "duration": 9,
    "start_time": "2022-02-16T08:12:45.893Z"
   },
   {
    "duration": 27,
    "start_time": "2022-02-16T08:12:45.903Z"
   },
   {
    "duration": 3,
    "start_time": "2022-02-16T08:12:45.931Z"
   },
   {
    "duration": 11,
    "start_time": "2022-02-16T08:12:45.936Z"
   },
   {
    "duration": 35,
    "start_time": "2022-02-16T08:12:45.949Z"
   },
   {
    "duration": 3,
    "start_time": "2022-02-16T08:12:45.986Z"
   },
   {
    "duration": 8,
    "start_time": "2022-02-16T08:12:45.990Z"
   },
   {
    "duration": 13,
    "start_time": "2022-02-16T08:12:45.999Z"
   },
   {
    "duration": 21,
    "start_time": "2022-02-16T08:12:46.014Z"
   },
   {
    "duration": 3,
    "start_time": "2022-02-16T08:12:46.037Z"
   },
   {
    "duration": 34,
    "start_time": "2022-02-16T08:12:46.041Z"
   },
   {
    "duration": 8,
    "start_time": "2022-02-16T08:12:46.077Z"
   },
   {
    "duration": 14,
    "start_time": "2022-02-16T08:12:46.086Z"
   },
   {
    "duration": 300,
    "start_time": "2022-02-16T08:12:46.101Z"
   },
   {
    "duration": 61,
    "start_time": "2022-02-16T08:14:39.561Z"
   },
   {
    "duration": 60,
    "start_time": "2022-02-16T08:14:42.440Z"
   },
   {
    "duration": 22,
    "start_time": "2022-02-16T08:14:50.139Z"
   },
   {
    "duration": 4,
    "start_time": "2022-02-16T08:15:34.440Z"
   },
   {
    "duration": 6,
    "start_time": "2022-02-16T08:18:38.898Z"
   },
   {
    "duration": 9,
    "start_time": "2022-02-16T08:18:48.500Z"
   },
   {
    "duration": 300,
    "start_time": "2022-02-16T08:21:07.256Z"
   },
   {
    "duration": 3,
    "start_time": "2022-02-16T08:22:03.318Z"
   },
   {
    "duration": 63,
    "start_time": "2022-02-16T08:22:03.322Z"
   },
   {
    "duration": 41,
    "start_time": "2022-02-16T08:22:03.387Z"
   },
   {
    "duration": 33,
    "start_time": "2022-02-16T08:22:03.430Z"
   },
   {
    "duration": 39,
    "start_time": "2022-02-16T08:22:03.464Z"
   },
   {
    "duration": 25,
    "start_time": "2022-02-16T08:22:03.505Z"
   },
   {
    "duration": 25,
    "start_time": "2022-02-16T08:22:03.532Z"
   },
   {
    "duration": 171,
    "start_time": "2022-02-16T08:22:03.558Z"
   },
   {
    "duration": 10,
    "start_time": "2022-02-16T08:22:03.731Z"
   },
   {
    "duration": 43,
    "start_time": "2022-02-16T08:22:03.743Z"
   },
   {
    "duration": 83,
    "start_time": "2022-02-16T08:22:03.788Z"
   },
   {
    "duration": 15,
    "start_time": "2022-02-16T08:22:03.873Z"
   },
   {
    "duration": 160,
    "start_time": "2022-02-16T08:22:03.890Z"
   },
   {
    "duration": 9,
    "start_time": "2022-02-16T08:22:04.052Z"
   },
   {
    "duration": 39,
    "start_time": "2022-02-16T08:22:04.062Z"
   },
   {
    "duration": 58,
    "start_time": "2022-02-16T08:22:04.103Z"
   },
   {
    "duration": 16,
    "start_time": "2022-02-16T08:22:04.163Z"
   },
   {
    "duration": 104,
    "start_time": "2022-02-16T08:22:04.180Z"
   },
   {
    "duration": 8,
    "start_time": "2022-02-16T08:22:04.285Z"
   },
   {
    "duration": 28,
    "start_time": "2022-02-16T08:22:04.294Z"
   },
   {
    "duration": 60,
    "start_time": "2022-02-16T08:22:04.324Z"
   },
   {
    "duration": 15,
    "start_time": "2022-02-16T08:22:04.386Z"
   },
   {
    "duration": 12,
    "start_time": "2022-02-16T08:22:04.403Z"
   },
   {
    "duration": 13,
    "start_time": "2022-02-16T08:22:04.417Z"
   },
   {
    "duration": 51,
    "start_time": "2022-02-16T08:22:04.432Z"
   },
   {
    "duration": 4,
    "start_time": "2022-02-16T08:22:04.485Z"
   },
   {
    "duration": 13,
    "start_time": "2022-02-16T08:22:04.493Z"
   },
   {
    "duration": 40,
    "start_time": "2022-02-16T08:22:04.508Z"
   },
   {
    "duration": 25,
    "start_time": "2022-02-16T08:22:04.550Z"
   },
   {
    "duration": 30,
    "start_time": "2022-02-16T08:22:04.576Z"
   },
   {
    "duration": 11,
    "start_time": "2022-02-16T08:22:04.608Z"
   },
   {
    "duration": 30,
    "start_time": "2022-02-16T08:22:04.621Z"
   },
   {
    "duration": 16,
    "start_time": "2022-02-16T08:22:04.653Z"
   },
   {
    "duration": 8,
    "start_time": "2022-02-16T08:22:04.671Z"
   },
   {
    "duration": 18,
    "start_time": "2022-02-16T08:22:04.681Z"
   },
   {
    "duration": 2,
    "start_time": "2022-02-16T08:22:04.701Z"
   },
   {
    "duration": 8,
    "start_time": "2022-02-16T08:22:04.705Z"
   },
   {
    "duration": 24,
    "start_time": "2022-02-16T08:22:04.716Z"
   },
   {
    "duration": 351,
    "start_time": "2022-02-16T08:22:04.742Z"
   },
   {
    "duration": -58,
    "start_time": "2022-02-16T08:22:05.154Z"
   },
   {
    "duration": -60,
    "start_time": "2022-02-16T08:22:05.158Z"
   },
   {
    "duration": -60,
    "start_time": "2022-02-16T08:22:05.160Z"
   },
   {
    "duration": -61,
    "start_time": "2022-02-16T08:22:05.162Z"
   },
   {
    "duration": -66,
    "start_time": "2022-02-16T08:22:05.169Z"
   },
   {
    "duration": -68,
    "start_time": "2022-02-16T08:22:05.173Z"
   },
   {
    "duration": -69,
    "start_time": "2022-02-16T08:22:05.175Z"
   },
   {
    "duration": 4,
    "start_time": "2022-02-16T08:22:21.265Z"
   },
   {
    "duration": 40,
    "start_time": "2022-02-16T08:22:21.272Z"
   },
   {
    "duration": 10,
    "start_time": "2022-02-16T08:22:21.314Z"
   },
   {
    "duration": 14,
    "start_time": "2022-02-16T08:22:21.326Z"
   },
   {
    "duration": 10,
    "start_time": "2022-02-16T08:22:21.342Z"
   },
   {
    "duration": 17,
    "start_time": "2022-02-16T08:22:21.353Z"
   },
   {
    "duration": 5,
    "start_time": "2022-02-16T08:22:21.372Z"
   },
   {
    "duration": 155,
    "start_time": "2022-02-16T08:22:21.379Z"
   },
   {
    "duration": 8,
    "start_time": "2022-02-16T08:22:21.537Z"
   },
   {
    "duration": 34,
    "start_time": "2022-02-16T08:22:21.547Z"
   },
   {
    "duration": 94,
    "start_time": "2022-02-16T08:22:21.584Z"
   },
   {
    "duration": 19,
    "start_time": "2022-02-16T08:22:21.680Z"
   },
   {
    "duration": 141,
    "start_time": "2022-02-16T08:22:21.700Z"
   },
   {
    "duration": 8,
    "start_time": "2022-02-16T08:22:21.843Z"
   },
   {
    "duration": 31,
    "start_time": "2022-02-16T08:22:21.853Z"
   },
   {
    "duration": 52,
    "start_time": "2022-02-16T08:22:21.886Z"
   },
   {
    "duration": 29,
    "start_time": "2022-02-16T08:22:21.940Z"
   },
   {
    "duration": 85,
    "start_time": "2022-02-16T08:22:21.971Z"
   },
   {
    "duration": 7,
    "start_time": "2022-02-16T08:22:22.057Z"
   },
   {
    "duration": 18,
    "start_time": "2022-02-16T08:22:22.069Z"
   },
   {
    "duration": 42,
    "start_time": "2022-02-16T08:22:22.089Z"
   },
   {
    "duration": 16,
    "start_time": "2022-02-16T08:22:22.132Z"
   },
   {
    "duration": 20,
    "start_time": "2022-02-16T08:22:22.150Z"
   },
   {
    "duration": 3,
    "start_time": "2022-02-16T08:22:22.172Z"
   },
   {
    "duration": 49,
    "start_time": "2022-02-16T08:22:22.177Z"
   },
   {
    "duration": 4,
    "start_time": "2022-02-16T08:22:22.227Z"
   },
   {
    "duration": 36,
    "start_time": "2022-02-16T08:22:22.234Z"
   },
   {
    "duration": 36,
    "start_time": "2022-02-16T08:22:22.272Z"
   },
   {
    "duration": 10,
    "start_time": "2022-02-16T08:22:22.310Z"
   },
   {
    "duration": 50,
    "start_time": "2022-02-16T08:22:22.322Z"
   },
   {
    "duration": 9,
    "start_time": "2022-02-16T08:22:22.374Z"
   },
   {
    "duration": 24,
    "start_time": "2022-02-16T08:22:22.385Z"
   },
   {
    "duration": 3,
    "start_time": "2022-02-16T08:22:22.410Z"
   },
   {
    "duration": 15,
    "start_time": "2022-02-16T08:22:22.415Z"
   },
   {
    "duration": 19,
    "start_time": "2022-02-16T08:22:22.432Z"
   },
   {
    "duration": 3,
    "start_time": "2022-02-16T08:22:22.469Z"
   },
   {
    "duration": 9,
    "start_time": "2022-02-16T08:22:22.474Z"
   },
   {
    "duration": 18,
    "start_time": "2022-02-16T08:22:22.484Z"
   },
   {
    "duration": 32,
    "start_time": "2022-02-16T08:22:22.504Z"
   },
   {
    "duration": 10,
    "start_time": "2022-02-16T08:22:22.538Z"
   },
   {
    "duration": 30,
    "start_time": "2022-02-16T08:22:22.549Z"
   },
   {
    "duration": 8,
    "start_time": "2022-02-16T08:22:22.581Z"
   },
   {
    "duration": 15,
    "start_time": "2022-02-16T08:22:22.590Z"
   },
   {
    "duration": 73,
    "start_time": "2022-02-16T08:22:22.606Z"
   },
   {
    "duration": 4,
    "start_time": "2022-02-16T08:22:22.681Z"
   },
   {
    "duration": 11,
    "start_time": "2022-02-16T08:22:55.626Z"
   },
   {
    "duration": 4,
    "start_time": "2022-02-16T08:22:56.379Z"
   },
   {
    "duration": 270,
    "start_time": "2022-02-16T08:23:29.113Z"
   },
   {
    "duration": 3,
    "start_time": "2022-02-16T08:23:33.646Z"
   },
   {
    "duration": 5,
    "start_time": "2022-02-16T08:24:03.912Z"
   },
   {
    "duration": 16,
    "start_time": "2022-02-16T08:24:17.705Z"
   },
   {
    "duration": 8,
    "start_time": "2022-02-16T08:25:32.699Z"
   },
   {
    "duration": 15,
    "start_time": "2022-02-16T08:25:33.288Z"
   },
   {
    "duration": 7,
    "start_time": "2022-02-16T08:26:21.226Z"
   },
   {
    "duration": 15,
    "start_time": "2022-02-16T08:26:22.153Z"
   },
   {
    "duration": 317,
    "start_time": "2022-02-16T11:40:22.734Z"
   },
   {
    "duration": 1309,
    "start_time": "2022-02-16T11:40:30.172Z"
   },
   {
    "duration": 24,
    "start_time": "2022-02-16T11:40:31.483Z"
   },
   {
    "duration": 26,
    "start_time": "2022-02-16T11:40:31.510Z"
   },
   {
    "duration": 19,
    "start_time": "2022-02-16T11:40:31.538Z"
   },
   {
    "duration": 21,
    "start_time": "2022-02-16T11:40:31.559Z"
   },
   {
    "duration": 13,
    "start_time": "2022-02-16T11:40:31.582Z"
   },
   {
    "duration": 10,
    "start_time": "2022-02-16T11:40:31.597Z"
   },
   {
    "duration": 207,
    "start_time": "2022-02-16T11:40:31.611Z"
   },
   {
    "duration": 15,
    "start_time": "2022-02-16T11:40:31.821Z"
   },
   {
    "duration": 46,
    "start_time": "2022-02-16T11:40:31.838Z"
   },
   {
    "duration": 135,
    "start_time": "2022-02-16T11:40:31.887Z"
   },
   {
    "duration": 24,
    "start_time": "2022-02-16T11:40:32.025Z"
   },
   {
    "duration": 172,
    "start_time": "2022-02-16T11:40:32.051Z"
   },
   {
    "duration": 12,
    "start_time": "2022-02-16T11:40:32.225Z"
   },
   {
    "duration": 36,
    "start_time": "2022-02-16T11:40:32.239Z"
   },
   {
    "duration": 105,
    "start_time": "2022-02-16T11:40:32.277Z"
   },
   {
    "duration": 15,
    "start_time": "2022-02-16T11:40:32.385Z"
   },
   {
    "duration": 119,
    "start_time": "2022-02-16T11:40:32.403Z"
   },
   {
    "duration": 12,
    "start_time": "2022-02-16T11:40:32.525Z"
   },
   {
    "duration": 23,
    "start_time": "2022-02-16T11:40:32.540Z"
   },
   {
    "duration": 74,
    "start_time": "2022-02-16T11:40:32.565Z"
   },
   {
    "duration": 13,
    "start_time": "2022-02-16T11:40:32.642Z"
   },
   {
    "duration": 13,
    "start_time": "2022-02-16T11:40:32.660Z"
   },
   {
    "duration": 5,
    "start_time": "2022-02-16T11:40:32.676Z"
   },
   {
    "duration": 117,
    "start_time": "2022-02-16T11:40:32.684Z"
   },
   {
    "duration": 6,
    "start_time": "2022-02-16T11:40:32.803Z"
   },
   {
    "duration": 29,
    "start_time": "2022-02-16T11:40:32.811Z"
   },
   {
    "duration": 51,
    "start_time": "2022-02-16T11:40:32.842Z"
   },
   {
    "duration": 36,
    "start_time": "2022-02-16T11:40:32.896Z"
   },
   {
    "duration": 43,
    "start_time": "2022-02-16T11:40:32.934Z"
   },
   {
    "duration": 13,
    "start_time": "2022-02-16T11:40:32.979Z"
   },
   {
    "duration": 61,
    "start_time": "2022-02-16T11:40:32.994Z"
   },
   {
    "duration": 4,
    "start_time": "2022-02-16T11:40:33.057Z"
   },
   {
    "duration": 14,
    "start_time": "2022-02-16T11:40:33.063Z"
   },
   {
    "duration": 24,
    "start_time": "2022-02-16T11:40:33.079Z"
   },
   {
    "duration": 27,
    "start_time": "2022-02-16T11:40:33.105Z"
   },
   {
    "duration": 10,
    "start_time": "2022-02-16T11:40:33.134Z"
   },
   {
    "duration": 13,
    "start_time": "2022-02-16T11:40:33.147Z"
   },
   {
    "duration": 20,
    "start_time": "2022-02-16T11:40:33.162Z"
   },
   {
    "duration": 3,
    "start_time": "2022-02-16T11:40:33.184Z"
   },
   {
    "duration": 45,
    "start_time": "2022-02-16T11:40:33.189Z"
   },
   {
    "duration": 10,
    "start_time": "2022-02-16T11:40:33.236Z"
   },
   {
    "duration": 20,
    "start_time": "2022-02-16T11:40:33.248Z"
   },
   {
    "duration": 338,
    "start_time": "2022-02-16T11:40:33.270Z"
   },
   {
    "duration": 6,
    "start_time": "2022-02-16T11:41:07.936Z"
   },
   {
    "duration": 6,
    "start_time": "2022-02-16T11:41:58.159Z"
   },
   {
    "duration": 24,
    "start_time": "2022-02-16T11:42:33.441Z"
   },
   {
    "duration": 4,
    "start_time": "2022-02-16T11:42:34.382Z"
   },
   {
    "duration": 12,
    "start_time": "2022-02-16T11:42:35.040Z"
   },
   {
    "duration": 258,
    "start_time": "2022-02-16T11:44:17.956Z"
   },
   {
    "duration": 8,
    "start_time": "2022-02-16T11:45:24.704Z"
   },
   {
    "duration": 17,
    "start_time": "2022-02-16T11:45:25.377Z"
   },
   {
    "duration": 10,
    "start_time": "2022-02-16T11:45:54.847Z"
   },
   {
    "duration": 235,
    "start_time": "2022-02-16T11:45:55.636Z"
   },
   {
    "duration": 22,
    "start_time": "2022-02-16T11:46:03.696Z"
   },
   {
    "duration": 270,
    "start_time": "2022-02-16T11:46:43.201Z"
   },
   {
    "duration": 6,
    "start_time": "2022-02-16T11:46:47.934Z"
   },
   {
    "duration": 11,
    "start_time": "2022-02-16T11:48:39.480Z"
   },
   {
    "duration": 20,
    "start_time": "2022-02-16T11:48:40.367Z"
   },
   {
    "duration": 21,
    "start_time": "2022-02-16T11:50:38.581Z"
   },
   {
    "duration": 4,
    "start_time": "2022-02-16T11:50:38.991Z"
   },
   {
    "duration": 11,
    "start_time": "2022-02-16T11:50:39.455Z"
   },
   {
    "duration": 12,
    "start_time": "2022-02-16T11:50:48.215Z"
   },
   {
    "duration": 12,
    "start_time": "2022-02-16T11:51:18.576Z"
   },
   {
    "duration": 66,
    "start_time": "2022-02-16T11:58:26.631Z"
   },
   {
    "duration": 42,
    "start_time": "2022-02-16T11:58:39.025Z"
   },
   {
    "duration": 12,
    "start_time": "2022-02-16T11:59:15.105Z"
   },
   {
    "duration": 9,
    "start_time": "2022-02-16T12:00:17.746Z"
   },
   {
    "duration": 9,
    "start_time": "2022-02-16T12:00:36.768Z"
   },
   {
    "duration": 46,
    "start_time": "2022-02-16T12:00:43.265Z"
   },
   {
    "duration": 62,
    "start_time": "2022-02-16T12:03:05.409Z"
   },
   {
    "duration": 43,
    "start_time": "2022-02-16T12:03:06.049Z"
   },
   {
    "duration": 1081,
    "start_time": "2022-02-16T12:03:08.768Z"
   },
   {
    "duration": 8,
    "start_time": "2022-02-16T12:03:46.673Z"
   },
   {
    "duration": 7,
    "start_time": "2022-02-16T12:07:40.692Z"
   },
   {
    "duration": 61,
    "start_time": "2022-02-16T12:07:42.194Z"
   },
   {
    "duration": 9,
    "start_time": "2022-02-16T12:08:20.273Z"
   },
   {
    "duration": 51,
    "start_time": "2022-02-16T12:08:20.914Z"
   },
   {
    "duration": 9,
    "start_time": "2022-02-16T12:08:42.882Z"
   },
   {
    "duration": 46,
    "start_time": "2022-02-16T12:08:44.466Z"
   },
   {
    "duration": 6,
    "start_time": "2022-02-16T12:11:51.562Z"
   },
   {
    "duration": 29,
    "start_time": "2022-02-16T12:11:51.571Z"
   },
   {
    "duration": 15,
    "start_time": "2022-02-16T12:11:51.603Z"
   },
   {
    "duration": 14,
    "start_time": "2022-02-16T12:11:51.620Z"
   },
   {
    "duration": 12,
    "start_time": "2022-02-16T12:11:51.636Z"
   },
   {
    "duration": 11,
    "start_time": "2022-02-16T12:11:51.651Z"
   },
   {
    "duration": 10,
    "start_time": "2022-02-16T12:11:51.664Z"
   },
   {
    "duration": 10,
    "start_time": "2022-02-16T12:11:51.676Z"
   },
   {
    "duration": 230,
    "start_time": "2022-02-16T12:11:51.690Z"
   },
   {
    "duration": 10,
    "start_time": "2022-02-16T12:11:51.923Z"
   },
   {
    "duration": 32,
    "start_time": "2022-02-16T12:11:51.936Z"
   },
   {
    "duration": 138,
    "start_time": "2022-02-16T12:11:51.970Z"
   },
   {
    "duration": 28,
    "start_time": "2022-02-16T12:11:52.110Z"
   },
   {
    "duration": 158,
    "start_time": "2022-02-16T12:11:52.140Z"
   },
   {
    "duration": 12,
    "start_time": "2022-02-16T12:11:52.300Z"
   },
   {
    "duration": 36,
    "start_time": "2022-02-16T12:11:52.314Z"
   },
   {
    "duration": 104,
    "start_time": "2022-02-16T12:11:52.352Z"
   },
   {
    "duration": 18,
    "start_time": "2022-02-16T12:11:52.458Z"
   },
   {
    "duration": 128,
    "start_time": "2022-02-16T12:11:52.479Z"
   },
   {
    "duration": 10,
    "start_time": "2022-02-16T12:11:52.610Z"
   },
   {
    "duration": 20,
    "start_time": "2022-02-16T12:11:52.633Z"
   },
   {
    "duration": 59,
    "start_time": "2022-02-16T12:11:52.655Z"
   },
   {
    "duration": 13,
    "start_time": "2022-02-16T12:11:52.733Z"
   },
   {
    "duration": 16,
    "start_time": "2022-02-16T12:11:52.749Z"
   },
   {
    "duration": 7,
    "start_time": "2022-02-16T12:11:52.768Z"
   },
   {
    "duration": 115,
    "start_time": "2022-02-16T12:11:52.777Z"
   },
   {
    "duration": 6,
    "start_time": "2022-02-16T12:11:52.897Z"
   },
   {
    "duration": 11,
    "start_time": "2022-02-16T12:11:52.906Z"
   },
   {
    "duration": 37,
    "start_time": "2022-02-16T12:11:52.920Z"
   },
   {
    "duration": 55,
    "start_time": "2022-02-16T12:11:52.959Z"
   },
   {
    "duration": 24,
    "start_time": "2022-02-16T12:11:53.017Z"
   },
   {
    "duration": 54,
    "start_time": "2022-02-16T12:11:53.043Z"
   },
   {
    "duration": 16,
    "start_time": "2022-02-16T12:11:53.100Z"
   },
   {
    "duration": 71,
    "start_time": "2022-02-16T12:11:53.133Z"
   },
   {
    "duration": 61,
    "start_time": "2022-02-16T12:11:53.207Z"
   },
   {
    "duration": 7,
    "start_time": "2022-02-16T12:11:53.271Z"
   },
   {
    "duration": 27,
    "start_time": "2022-02-16T12:11:53.280Z"
   },
   {
    "duration": 25,
    "start_time": "2022-02-16T12:11:53.309Z"
   },
   {
    "duration": 9,
    "start_time": "2022-02-16T12:11:53.336Z"
   },
   {
    "duration": 16,
    "start_time": "2022-02-16T12:11:53.348Z"
   },
   {
    "duration": 23,
    "start_time": "2022-02-16T12:11:53.366Z"
   },
   {
    "duration": 3,
    "start_time": "2022-02-16T12:11:53.391Z"
   },
   {
    "duration": 42,
    "start_time": "2022-02-16T12:11:53.396Z"
   },
   {
    "duration": 11,
    "start_time": "2022-02-16T12:11:53.441Z"
   },
   {
    "duration": 14,
    "start_time": "2022-02-16T12:11:53.454Z"
   },
   {
    "duration": 11,
    "start_time": "2022-02-16T12:11:53.470Z"
   },
   {
    "duration": 70,
    "start_time": "2022-02-16T12:11:53.483Z"
   },
   {
    "duration": 8,
    "start_time": "2022-02-16T12:12:09.388Z"
   },
   {
    "duration": 15,
    "start_time": "2022-02-16T12:12:09.954Z"
   },
   {
    "duration": 8,
    "start_time": "2022-02-16T12:12:11.745Z"
   },
   {
    "duration": 12,
    "start_time": "2022-02-16T12:12:42.243Z"
   },
   {
    "duration": 14,
    "start_time": "2022-02-16T12:12:42.694Z"
   },
   {
    "duration": 10,
    "start_time": "2022-02-16T12:12:55.062Z"
   },
   {
    "duration": 66,
    "start_time": "2022-02-16T12:12:57.012Z"
   },
   {
    "duration": 78,
    "start_time": "2022-02-16T12:15:42.548Z"
   },
   {
    "duration": 30,
    "start_time": "2022-02-16T12:15:54.947Z"
   },
   {
    "duration": 21,
    "start_time": "2022-02-16T12:16:07.158Z"
   },
   {
    "duration": 21,
    "start_time": "2022-02-16T12:17:32.722Z"
   },
   {
    "duration": 20,
    "start_time": "2022-02-16T12:17:33.379Z"
   },
   {
    "duration": 6,
    "start_time": "2022-02-16T12:18:16.003Z"
   },
   {
    "duration": 13,
    "start_time": "2022-02-16T12:18:16.817Z"
   },
   {
    "duration": 22,
    "start_time": "2022-02-16T12:18:17.921Z"
   },
   {
    "duration": 13,
    "start_time": "2022-02-16T12:18:21.939Z"
   },
   {
    "duration": 22,
    "start_time": "2022-02-16T12:18:22.452Z"
   },
   {
    "duration": 93,
    "start_time": "2022-02-16T12:19:03.123Z"
   },
   {
    "duration": 20,
    "start_time": "2022-02-16T12:19:07.059Z"
   },
   {
    "duration": 245,
    "start_time": "2022-02-16T12:19:16.226Z"
   },
   {
    "duration": 23,
    "start_time": "2022-02-16T12:19:26.373Z"
   },
   {
    "duration": 19,
    "start_time": "2022-02-16T12:19:27.250Z"
   },
   {
    "duration": 70,
    "start_time": "2022-02-16T12:23:40.167Z"
   },
   {
    "duration": 23,
    "start_time": "2022-02-16T12:25:08.757Z"
   },
   {
    "duration": 20,
    "start_time": "2022-02-16T12:25:13.955Z"
   },
   {
    "duration": 11,
    "start_time": "2022-02-16T12:25:16.547Z"
   },
   {
    "duration": 43,
    "start_time": "2022-02-16T12:25:22.820Z"
   },
   {
    "duration": 36,
    "start_time": "2022-02-16T12:26:16.578Z"
   },
   {
    "duration": 22,
    "start_time": "2022-02-16T12:26:27.586Z"
   },
   {
    "duration": 7,
    "start_time": "2022-02-16T12:26:48.307Z"
   },
   {
    "duration": 6,
    "start_time": "2022-02-16T12:26:56.050Z"
   },
   {
    "duration": 19,
    "start_time": "2022-02-16T12:29:00.722Z"
   },
   {
    "duration": 4,
    "start_time": "2022-02-16T12:29:01.180Z"
   },
   {
    "duration": 10,
    "start_time": "2022-02-16T12:29:01.667Z"
   },
   {
    "duration": 38,
    "start_time": "2022-02-16T12:29:02.531Z"
   },
   {
    "duration": 22,
    "start_time": "2022-02-16T12:29:03.264Z"
   },
   {
    "duration": 40,
    "start_time": "2022-02-16T12:29:42.072Z"
   },
   {
    "duration": 37,
    "start_time": "2022-02-16T12:29:43.173Z"
   },
   {
    "duration": 20,
    "start_time": "2022-02-16T12:29:44.067Z"
   },
   {
    "duration": 25,
    "start_time": "2022-02-16T12:29:52.516Z"
   },
   {
    "duration": 232,
    "start_time": "2022-02-16T12:31:59.016Z"
   },
   {
    "duration": 1119,
    "start_time": "2022-02-16T12:32:29.299Z"
   },
   {
    "duration": 246,
    "start_time": "2022-02-16T12:32:44.564Z"
   },
   {
    "duration": 20,
    "start_time": "2022-02-16T12:32:49.410Z"
   },
   {
    "duration": 3,
    "start_time": "2022-02-16T12:32:50.003Z"
   },
   {
    "duration": 4,
    "start_time": "2022-02-16T12:32:50.642Z"
   },
   {
    "duration": 22,
    "start_time": "2022-02-16T12:33:47.827Z"
   },
   {
    "duration": 5,
    "start_time": "2022-02-16T12:33:49.779Z"
   },
   {
    "duration": 4,
    "start_time": "2022-02-16T12:33:53.332Z"
   },
   {
    "duration": 31,
    "start_time": "2022-02-16T12:33:53.339Z"
   },
   {
    "duration": 17,
    "start_time": "2022-02-16T12:33:53.373Z"
   },
   {
    "duration": 40,
    "start_time": "2022-02-16T12:33:53.393Z"
   },
   {
    "duration": 10,
    "start_time": "2022-02-16T12:33:53.436Z"
   },
   {
    "duration": 10,
    "start_time": "2022-02-16T12:33:53.449Z"
   },
   {
    "duration": 7,
    "start_time": "2022-02-16T12:33:53.461Z"
   },
   {
    "duration": 6,
    "start_time": "2022-02-16T12:33:53.471Z"
   },
   {
    "duration": 238,
    "start_time": "2022-02-16T12:33:53.482Z"
   },
   {
    "duration": 14,
    "start_time": "2022-02-16T12:33:53.723Z"
   },
   {
    "duration": 34,
    "start_time": "2022-02-16T12:33:53.740Z"
   },
   {
    "duration": 137,
    "start_time": "2022-02-16T12:33:53.776Z"
   },
   {
    "duration": 29,
    "start_time": "2022-02-16T12:33:53.915Z"
   },
   {
    "duration": 178,
    "start_time": "2022-02-16T12:33:53.947Z"
   },
   {
    "duration": 14,
    "start_time": "2022-02-16T12:33:54.127Z"
   },
   {
    "duration": 27,
    "start_time": "2022-02-16T12:33:54.143Z"
   },
   {
    "duration": 124,
    "start_time": "2022-02-16T12:33:54.173Z"
   },
   {
    "duration": 17,
    "start_time": "2022-02-16T12:33:54.300Z"
   },
   {
    "duration": 115,
    "start_time": "2022-02-16T12:33:54.332Z"
   },
   {
    "duration": 11,
    "start_time": "2022-02-16T12:33:54.450Z"
   },
   {
    "duration": 23,
    "start_time": "2022-02-16T12:33:54.464Z"
   },
   {
    "duration": 94,
    "start_time": "2022-02-16T12:33:54.490Z"
   },
   {
    "duration": 13,
    "start_time": "2022-02-16T12:33:54.587Z"
   },
   {
    "duration": 20,
    "start_time": "2022-02-16T12:33:54.603Z"
   },
   {
    "duration": 13,
    "start_time": "2022-02-16T12:33:54.633Z"
   },
   {
    "duration": 115,
    "start_time": "2022-02-16T12:33:54.649Z"
   },
   {
    "duration": 6,
    "start_time": "2022-02-16T12:33:54.770Z"
   },
   {
    "duration": 7,
    "start_time": "2022-02-16T12:33:54.779Z"
   },
   {
    "duration": 17,
    "start_time": "2022-02-16T12:33:54.789Z"
   },
   {
    "duration": 53,
    "start_time": "2022-02-16T12:33:54.832Z"
   },
   {
    "duration": 15,
    "start_time": "2022-02-16T12:33:54.888Z"
   },
   {
    "duration": 66,
    "start_time": "2022-02-16T12:33:54.905Z"
   },
   {
    "duration": 14,
    "start_time": "2022-02-16T12:33:54.974Z"
   },
   {
    "duration": 93,
    "start_time": "2022-02-16T12:33:54.990Z"
   },
   {
    "duration": 47,
    "start_time": "2022-02-16T12:33:55.085Z"
   },
   {
    "duration": 7,
    "start_time": "2022-02-16T12:33:55.134Z"
   },
   {
    "duration": 22,
    "start_time": "2022-02-16T12:33:55.144Z"
   },
   {
    "duration": 1085,
    "start_time": "2022-02-16T12:33:55.169Z"
   },
   {
    "duration": -238,
    "start_time": "2022-02-16T12:33:56.494Z"
   },
   {
    "duration": -238,
    "start_time": "2022-02-16T12:33:56.496Z"
   },
   {
    "duration": -237,
    "start_time": "2022-02-16T12:33:56.497Z"
   },
   {
    "duration": -238,
    "start_time": "2022-02-16T12:33:56.499Z"
   },
   {
    "duration": -238,
    "start_time": "2022-02-16T12:33:56.501Z"
   },
   {
    "duration": -237,
    "start_time": "2022-02-16T12:33:56.502Z"
   },
   {
    "duration": -238,
    "start_time": "2022-02-16T12:33:56.504Z"
   },
   {
    "duration": -238,
    "start_time": "2022-02-16T12:33:56.506Z"
   },
   {
    "duration": -238,
    "start_time": "2022-02-16T12:33:56.508Z"
   },
   {
    "duration": -239,
    "start_time": "2022-02-16T12:33:56.510Z"
   },
   {
    "duration": -240,
    "start_time": "2022-02-16T12:33:56.512Z"
   },
   {
    "duration": -240,
    "start_time": "2022-02-16T12:33:56.513Z"
   },
   {
    "duration": 5,
    "start_time": "2022-02-16T12:34:15.650Z"
   },
   {
    "duration": 29,
    "start_time": "2022-02-16T12:34:15.657Z"
   },
   {
    "duration": 18,
    "start_time": "2022-02-16T12:34:15.689Z"
   },
   {
    "duration": 11,
    "start_time": "2022-02-16T12:34:15.710Z"
   },
   {
    "duration": 13,
    "start_time": "2022-02-16T12:34:15.723Z"
   },
   {
    "duration": 25,
    "start_time": "2022-02-16T12:34:15.739Z"
   },
   {
    "duration": 8,
    "start_time": "2022-02-16T12:34:15.766Z"
   },
   {
    "duration": 8,
    "start_time": "2022-02-16T12:34:15.776Z"
   },
   {
    "duration": 196,
    "start_time": "2022-02-16T12:34:15.787Z"
   },
   {
    "duration": 11,
    "start_time": "2022-02-16T12:34:15.986Z"
   },
   {
    "duration": 46,
    "start_time": "2022-02-16T12:34:15.999Z"
   },
   {
    "duration": 115,
    "start_time": "2022-02-16T12:34:16.048Z"
   },
   {
    "duration": 20,
    "start_time": "2022-02-16T12:34:16.165Z"
   },
   {
    "duration": 169,
    "start_time": "2022-02-16T12:34:16.188Z"
   },
   {
    "duration": 12,
    "start_time": "2022-02-16T12:34:16.359Z"
   },
   {
    "duration": 25,
    "start_time": "2022-02-16T12:34:16.373Z"
   },
   {
    "duration": 111,
    "start_time": "2022-02-16T12:34:16.400Z"
   },
   {
    "duration": 29,
    "start_time": "2022-02-16T12:34:16.514Z"
   },
   {
    "duration": 106,
    "start_time": "2022-02-16T12:34:16.545Z"
   },
   {
    "duration": 10,
    "start_time": "2022-02-16T12:34:16.654Z"
   },
   {
    "duration": 22,
    "start_time": "2022-02-16T12:34:16.666Z"
   },
   {
    "duration": 77,
    "start_time": "2022-02-16T12:34:16.690Z"
   },
   {
    "duration": 13,
    "start_time": "2022-02-16T12:34:16.769Z"
   },
   {
    "duration": 16,
    "start_time": "2022-02-16T12:34:16.784Z"
   },
   {
    "duration": 8,
    "start_time": "2022-02-16T12:34:16.802Z"
   },
   {
    "duration": 109,
    "start_time": "2022-02-16T12:34:16.812Z"
   },
   {
    "duration": 6,
    "start_time": "2022-02-16T12:34:16.936Z"
   },
   {
    "duration": 6,
    "start_time": "2022-02-16T12:34:16.945Z"
   },
   {
    "duration": 18,
    "start_time": "2022-02-16T12:34:16.953Z"
   },
   {
    "duration": 84,
    "start_time": "2022-02-16T12:34:16.973Z"
   },
   {
    "duration": 15,
    "start_time": "2022-02-16T12:34:17.059Z"
   },
   {
    "duration": 58,
    "start_time": "2022-02-16T12:34:17.077Z"
   },
   {
    "duration": 12,
    "start_time": "2022-02-16T12:34:17.138Z"
   },
   {
    "duration": 87,
    "start_time": "2022-02-16T12:34:17.153Z"
   },
   {
    "duration": 39,
    "start_time": "2022-02-16T12:34:17.242Z"
   },
   {
    "duration": 12,
    "start_time": "2022-02-16T12:34:17.283Z"
   },
   {
    "duration": 38,
    "start_time": "2022-02-16T12:34:17.297Z"
   },
   {
    "duration": 1064,
    "start_time": "2022-02-16T12:34:17.337Z"
   },
   {
    "duration": -137,
    "start_time": "2022-02-16T12:34:18.540Z"
   },
   {
    "duration": -139,
    "start_time": "2022-02-16T12:34:18.543Z"
   },
   {
    "duration": -139,
    "start_time": "2022-02-16T12:34:18.545Z"
   },
   {
    "duration": -138,
    "start_time": "2022-02-16T12:34:18.546Z"
   },
   {
    "duration": -138,
    "start_time": "2022-02-16T12:34:18.548Z"
   },
   {
    "duration": -137,
    "start_time": "2022-02-16T12:34:18.549Z"
   },
   {
    "duration": -138,
    "start_time": "2022-02-16T12:34:18.551Z"
   },
   {
    "duration": -137,
    "start_time": "2022-02-16T12:34:18.552Z"
   },
   {
    "duration": -137,
    "start_time": "2022-02-16T12:34:18.554Z"
   },
   {
    "duration": -137,
    "start_time": "2022-02-16T12:34:18.556Z"
   },
   {
    "duration": -140,
    "start_time": "2022-02-16T12:34:18.561Z"
   },
   {
    "duration": -139,
    "start_time": "2022-02-16T12:34:18.562Z"
   },
   {
    "duration": 21,
    "start_time": "2022-02-16T12:34:22.658Z"
   },
   {
    "duration": 5,
    "start_time": "2022-02-16T12:35:19.353Z"
   },
   {
    "duration": 38,
    "start_time": "2022-02-16T12:35:19.361Z"
   },
   {
    "duration": 28,
    "start_time": "2022-02-16T12:35:19.402Z"
   },
   {
    "duration": 19,
    "start_time": "2022-02-16T12:35:19.433Z"
   },
   {
    "duration": 18,
    "start_time": "2022-02-16T12:35:19.455Z"
   },
   {
    "duration": 10,
    "start_time": "2022-02-16T12:35:19.475Z"
   },
   {
    "duration": 8,
    "start_time": "2022-02-16T12:35:19.487Z"
   },
   {
    "duration": 10,
    "start_time": "2022-02-16T12:35:19.499Z"
   },
   {
    "duration": 214,
    "start_time": "2022-02-16T12:35:19.512Z"
   },
   {
    "duration": 12,
    "start_time": "2022-02-16T12:35:19.728Z"
   },
   {
    "duration": 33,
    "start_time": "2022-02-16T12:35:19.742Z"
   },
   {
    "duration": 126,
    "start_time": "2022-02-16T12:35:19.778Z"
   },
   {
    "duration": 31,
    "start_time": "2022-02-16T12:35:19.907Z"
   },
   {
    "duration": 171,
    "start_time": "2022-02-16T12:35:19.941Z"
   },
   {
    "duration": 12,
    "start_time": "2022-02-16T12:35:20.115Z"
   },
   {
    "duration": 25,
    "start_time": "2022-02-16T12:35:20.133Z"
   },
   {
    "duration": 121,
    "start_time": "2022-02-16T12:35:20.160Z"
   },
   {
    "duration": 18,
    "start_time": "2022-02-16T12:35:20.284Z"
   },
   {
    "duration": 132,
    "start_time": "2022-02-16T12:35:20.305Z"
   },
   {
    "duration": 12,
    "start_time": "2022-02-16T12:35:20.440Z"
   },
   {
    "duration": 22,
    "start_time": "2022-02-16T12:35:20.455Z"
   },
   {
    "duration": 86,
    "start_time": "2022-02-16T12:35:20.479Z"
   },
   {
    "duration": 14,
    "start_time": "2022-02-16T12:35:20.570Z"
   },
   {
    "duration": 23,
    "start_time": "2022-02-16T12:35:20.587Z"
   },
   {
    "duration": 6,
    "start_time": "2022-02-16T12:35:20.613Z"
   },
   {
    "duration": 100,
    "start_time": "2022-02-16T12:35:20.632Z"
   },
   {
    "duration": 6,
    "start_time": "2022-02-16T12:35:20.734Z"
   },
   {
    "duration": 8,
    "start_time": "2022-02-16T12:35:20.743Z"
   },
   {
    "duration": 17,
    "start_time": "2022-02-16T12:35:20.753Z"
   },
   {
    "duration": 76,
    "start_time": "2022-02-16T12:35:20.773Z"
   },
   {
    "duration": 15,
    "start_time": "2022-02-16T12:35:20.852Z"
   },
   {
    "duration": 44,
    "start_time": "2022-02-16T12:35:20.869Z"
   },
   {
    "duration": 29,
    "start_time": "2022-02-16T12:35:20.915Z"
   },
   {
    "duration": 91,
    "start_time": "2022-02-16T12:35:20.946Z"
   },
   {
    "duration": 43,
    "start_time": "2022-02-16T12:35:21.040Z"
   },
   {
    "duration": 7,
    "start_time": "2022-02-16T12:35:21.085Z"
   },
   {
    "duration": 44,
    "start_time": "2022-02-16T12:35:21.094Z"
   },
   {
    "duration": 6597,
    "start_time": "2022-02-16T12:35:21.140Z"
   },
   {
    "duration": -133,
    "start_time": "2022-02-16T12:35:27.873Z"
   },
   {
    "duration": -140,
    "start_time": "2022-02-16T12:35:27.881Z"
   },
   {
    "duration": -140,
    "start_time": "2022-02-16T12:35:27.883Z"
   },
   {
    "duration": -142,
    "start_time": "2022-02-16T12:35:27.886Z"
   },
   {
    "duration": -143,
    "start_time": "2022-02-16T12:35:27.888Z"
   },
   {
    "duration": -149,
    "start_time": "2022-02-16T12:35:27.896Z"
   },
   {
    "duration": -150,
    "start_time": "2022-02-16T12:35:27.898Z"
   },
   {
    "duration": -150,
    "start_time": "2022-02-16T12:35:27.900Z"
   },
   {
    "duration": -150,
    "start_time": "2022-02-16T12:35:27.901Z"
   },
   {
    "duration": -151,
    "start_time": "2022-02-16T12:35:27.903Z"
   },
   {
    "duration": -151,
    "start_time": "2022-02-16T12:35:27.905Z"
   },
   {
    "duration": 15,
    "start_time": "2022-02-16T12:35:33.075Z"
   },
   {
    "duration": 14,
    "start_time": "2022-02-16T12:36:31.123Z"
   },
   {
    "duration": 3,
    "start_time": "2022-02-16T12:36:36.404Z"
   },
   {
    "duration": 18,
    "start_time": "2022-02-16T12:36:47.445Z"
   },
   {
    "duration": 17,
    "start_time": "2022-02-16T12:36:56.835Z"
   },
   {
    "duration": 19,
    "start_time": "2022-02-16T12:36:58.114Z"
   },
   {
    "duration": 6,
    "start_time": "2022-02-16T12:37:16.724Z"
   },
   {
    "duration": 12,
    "start_time": "2022-02-16T12:37:18.434Z"
   },
   {
    "duration": 15,
    "start_time": "2022-02-16T12:37:26.835Z"
   },
   {
    "duration": 4,
    "start_time": "2022-02-16T12:37:27.795Z"
   },
   {
    "duration": 15,
    "start_time": "2022-02-16T12:37:38.243Z"
   },
   {
    "duration": 6,
    "start_time": "2022-02-16T12:37:38.683Z"
   },
   {
    "duration": 12,
    "start_time": "2022-02-16T12:37:39.255Z"
   },
   {
    "duration": 21,
    "start_time": "2022-02-16T12:37:40.339Z"
   },
   {
    "duration": 27,
    "start_time": "2022-02-16T12:37:41.123Z"
   },
   {
    "duration": 275,
    "start_time": "2022-02-16T12:38:10.291Z"
   },
   {
    "duration": 22,
    "start_time": "2022-02-16T12:38:17.539Z"
   },
   {
    "duration": 20,
    "start_time": "2022-02-16T12:38:18.309Z"
   },
   {
    "duration": 5,
    "start_time": "2022-02-16T12:38:29.913Z"
   },
   {
    "duration": 31,
    "start_time": "2022-02-16T12:38:29.921Z"
   },
   {
    "duration": 16,
    "start_time": "2022-02-16T12:38:29.955Z"
   },
   {
    "duration": 11,
    "start_time": "2022-02-16T12:38:29.974Z"
   },
   {
    "duration": 47,
    "start_time": "2022-02-16T12:38:29.988Z"
   },
   {
    "duration": 11,
    "start_time": "2022-02-16T12:38:30.037Z"
   },
   {
    "duration": 19,
    "start_time": "2022-02-16T12:38:30.051Z"
   },
   {
    "duration": 8,
    "start_time": "2022-02-16T12:38:30.074Z"
   },
   {
    "duration": 213,
    "start_time": "2022-02-16T12:38:30.085Z"
   },
   {
    "duration": 10,
    "start_time": "2022-02-16T12:38:30.301Z"
   },
   {
    "duration": 42,
    "start_time": "2022-02-16T12:38:30.314Z"
   },
   {
    "duration": 126,
    "start_time": "2022-02-16T12:38:30.358Z"
   },
   {
    "duration": 21,
    "start_time": "2022-02-16T12:38:30.486Z"
   },
   {
    "duration": 183,
    "start_time": "2022-02-16T12:38:30.510Z"
   },
   {
    "duration": 12,
    "start_time": "2022-02-16T12:38:30.696Z"
   },
   {
    "duration": 43,
    "start_time": "2022-02-16T12:38:30.710Z"
   },
   {
    "duration": 116,
    "start_time": "2022-02-16T12:38:30.756Z"
   },
   {
    "duration": 18,
    "start_time": "2022-02-16T12:38:30.875Z"
   },
   {
    "duration": 132,
    "start_time": "2022-02-16T12:38:30.896Z"
   },
   {
    "duration": 10,
    "start_time": "2022-02-16T12:38:31.033Z"
   },
   {
    "duration": 34,
    "start_time": "2022-02-16T12:38:31.046Z"
   },
   {
    "duration": 67,
    "start_time": "2022-02-16T12:38:31.083Z"
   },
   {
    "duration": 13,
    "start_time": "2022-02-16T12:38:31.156Z"
   },
   {
    "duration": 48,
    "start_time": "2022-02-16T12:38:31.171Z"
   },
   {
    "duration": 25,
    "start_time": "2022-02-16T12:38:31.221Z"
   },
   {
    "duration": 112,
    "start_time": "2022-02-16T12:38:31.248Z"
   },
   {
    "duration": 7,
    "start_time": "2022-02-16T12:38:31.362Z"
   },
   {
    "duration": 14,
    "start_time": "2022-02-16T12:38:31.372Z"
   },
   {
    "duration": 27,
    "start_time": "2022-02-16T12:38:31.388Z"
   },
   {
    "duration": 59,
    "start_time": "2022-02-16T12:38:31.418Z"
   },
   {
    "duration": 15,
    "start_time": "2022-02-16T12:38:31.479Z"
   },
   {
    "duration": 71,
    "start_time": "2022-02-16T12:38:31.497Z"
   },
   {
    "duration": 14,
    "start_time": "2022-02-16T12:38:31.570Z"
   },
   {
    "duration": 94,
    "start_time": "2022-02-16T12:38:31.587Z"
   },
   {
    "duration": 52,
    "start_time": "2022-02-16T12:38:31.684Z"
   },
   {
    "duration": 6,
    "start_time": "2022-02-16T12:38:31.739Z"
   },
   {
    "duration": 41,
    "start_time": "2022-02-16T12:38:31.748Z"
   },
   {
    "duration": 6,
    "start_time": "2022-02-16T12:38:31.792Z"
   },
   {
    "duration": 34,
    "start_time": "2022-02-16T12:38:31.800Z"
   },
   {
    "duration": 62,
    "start_time": "2022-02-16T12:38:31.837Z"
   },
   {
    "duration": 60,
    "start_time": "2022-02-16T12:38:31.902Z"
   },
   {
    "duration": 38,
    "start_time": "2022-02-16T12:38:31.964Z"
   },
   {
    "duration": 20,
    "start_time": "2022-02-16T12:38:32.005Z"
   },
   {
    "duration": 15,
    "start_time": "2022-02-16T12:38:32.031Z"
   },
   {
    "duration": 43,
    "start_time": "2022-02-16T12:38:32.049Z"
   },
   {
    "duration": 21,
    "start_time": "2022-02-16T12:38:32.094Z"
   },
   {
    "duration": 26,
    "start_time": "2022-02-16T12:38:32.117Z"
   },
   {
    "duration": 268,
    "start_time": "2022-02-16T12:38:32.145Z"
   },
   {
    "duration": -69,
    "start_time": "2022-02-16T12:38:32.484Z"
   },
   {
    "duration": 271,
    "start_time": "2022-02-16T12:39:00.148Z"
   },
   {
    "duration": 9,
    "start_time": "2022-02-16T12:39:05.187Z"
   },
   {
    "duration": 43,
    "start_time": "2022-02-16T12:39:06.674Z"
   },
   {
    "duration": 325,
    "start_time": "2022-02-16T12:39:54.262Z"
   },
   {
    "duration": 250,
    "start_time": "2022-02-16T12:40:07.460Z"
   },
   {
    "duration": 9,
    "start_time": "2022-02-16T12:40:14.358Z"
   },
   {
    "duration": 9,
    "start_time": "2022-02-16T12:40:37.348Z"
   },
   {
    "duration": 8,
    "start_time": "2022-02-16T12:40:48.372Z"
   },
   {
    "duration": 93,
    "start_time": "2022-02-16T12:41:05.044Z"
   },
   {
    "duration": 232,
    "start_time": "2022-02-16T12:41:14.531Z"
   },
   {
    "duration": 23,
    "start_time": "2022-02-16T12:41:44.099Z"
   },
   {
    "duration": 10,
    "start_time": "2022-02-16T12:42:53.108Z"
   },
   {
    "duration": 46,
    "start_time": "2022-02-16T12:42:53.892Z"
   },
   {
    "duration": 26,
    "start_time": "2022-02-16T12:42:55.444Z"
   },
   {
    "duration": 5,
    "start_time": "2022-02-16T12:45:12.186Z"
   },
   {
    "duration": 4,
    "start_time": "2022-02-16T12:45:18.219Z"
   },
   {
    "duration": 40,
    "start_time": "2022-02-16T12:45:18.226Z"
   },
   {
    "duration": 27,
    "start_time": "2022-02-16T12:45:18.270Z"
   },
   {
    "duration": 34,
    "start_time": "2022-02-16T12:45:18.301Z"
   },
   {
    "duration": 24,
    "start_time": "2022-02-16T12:45:18.338Z"
   },
   {
    "duration": 16,
    "start_time": "2022-02-16T12:45:18.365Z"
   },
   {
    "duration": 16,
    "start_time": "2022-02-16T12:45:18.383Z"
   },
   {
    "duration": 14,
    "start_time": "2022-02-16T12:45:18.401Z"
   },
   {
    "duration": 272,
    "start_time": "2022-02-16T12:45:18.419Z"
   },
   {
    "duration": 11,
    "start_time": "2022-02-16T12:45:18.694Z"
   },
   {
    "duration": 41,
    "start_time": "2022-02-16T12:45:18.707Z"
   },
   {
    "duration": 126,
    "start_time": "2022-02-16T12:45:18.751Z"
   },
   {
    "duration": 22,
    "start_time": "2022-02-16T12:45:18.880Z"
   },
   {
    "duration": 179,
    "start_time": "2022-02-16T12:45:18.905Z"
   },
   {
    "duration": 11,
    "start_time": "2022-02-16T12:45:19.086Z"
   },
   {
    "duration": 40,
    "start_time": "2022-02-16T12:45:19.099Z"
   },
   {
    "duration": 102,
    "start_time": "2022-02-16T12:45:19.141Z"
   },
   {
    "duration": 22,
    "start_time": "2022-02-16T12:45:19.246Z"
   },
   {
    "duration": 164,
    "start_time": "2022-02-16T12:45:19.271Z"
   },
   {
    "duration": 10,
    "start_time": "2022-02-16T12:45:19.438Z"
   },
   {
    "duration": 25,
    "start_time": "2022-02-16T12:45:19.451Z"
   },
   {
    "duration": 79,
    "start_time": "2022-02-16T12:45:19.478Z"
   },
   {
    "duration": 14,
    "start_time": "2022-02-16T12:45:19.559Z"
   },
   {
    "duration": 28,
    "start_time": "2022-02-16T12:45:19.576Z"
   },
   {
    "duration": 14,
    "start_time": "2022-02-16T12:45:19.606Z"
   },
   {
    "duration": 108,
    "start_time": "2022-02-16T12:45:19.622Z"
   },
   {
    "duration": 6,
    "start_time": "2022-02-16T12:45:19.735Z"
   },
   {
    "duration": 20,
    "start_time": "2022-02-16T12:45:19.745Z"
   },
   {
    "duration": 29,
    "start_time": "2022-02-16T12:45:19.767Z"
   },
   {
    "duration": 71,
    "start_time": "2022-02-16T12:45:19.799Z"
   },
   {
    "duration": 16,
    "start_time": "2022-02-16T12:45:19.873Z"
   },
   {
    "duration": 60,
    "start_time": "2022-02-16T12:45:19.892Z"
   },
   {
    "duration": 12,
    "start_time": "2022-02-16T12:45:19.955Z"
   },
   {
    "duration": 88,
    "start_time": "2022-02-16T12:45:19.970Z"
   },
   {
    "duration": 40,
    "start_time": "2022-02-16T12:45:20.060Z"
   },
   {
    "duration": 11,
    "start_time": "2022-02-16T12:45:20.103Z"
   },
   {
    "duration": 41,
    "start_time": "2022-02-16T12:45:20.117Z"
   },
   {
    "duration": 6,
    "start_time": "2022-02-16T12:45:20.160Z"
   },
   {
    "duration": 23,
    "start_time": "2022-02-16T12:45:20.168Z"
   },
   {
    "duration": 43,
    "start_time": "2022-02-16T12:45:20.194Z"
   },
   {
    "duration": 19,
    "start_time": "2022-02-16T12:45:20.239Z"
   },
   {
    "duration": 7,
    "start_time": "2022-02-16T12:45:20.260Z"
   },
   {
    "duration": 67,
    "start_time": "2022-02-16T12:45:20.269Z"
   },
   {
    "duration": 20,
    "start_time": "2022-02-16T12:45:20.339Z"
   },
   {
    "duration": 13,
    "start_time": "2022-02-16T12:45:20.362Z"
   },
   {
    "duration": 43,
    "start_time": "2022-02-16T12:45:20.378Z"
   },
   {
    "duration": 15,
    "start_time": "2022-02-16T12:45:20.423Z"
   },
   {
    "duration": 26,
    "start_time": "2022-02-16T12:45:20.441Z"
   },
   {
    "duration": 19,
    "start_time": "2022-02-16T12:45:20.469Z"
   },
   {
    "duration": 53,
    "start_time": "2022-02-16T12:45:20.490Z"
   },
   {
    "duration": 26,
    "start_time": "2022-02-16T12:45:20.545Z"
   },
   {
    "duration": 4,
    "start_time": "2022-02-16T12:45:42.149Z"
   },
   {
    "duration": 6,
    "start_time": "2022-02-16T12:45:45.372Z"
   },
   {
    "duration": 25,
    "start_time": "2022-02-16T12:45:45.383Z"
   },
   {
    "duration": 22,
    "start_time": "2022-02-16T12:45:45.413Z"
   },
   {
    "duration": 21,
    "start_time": "2022-02-16T12:45:45.438Z"
   },
   {
    "duration": 28,
    "start_time": "2022-02-16T12:45:45.463Z"
   },
   {
    "duration": 17,
    "start_time": "2022-02-16T12:45:45.494Z"
   },
   {
    "duration": 25,
    "start_time": "2022-02-16T12:45:45.514Z"
   },
   {
    "duration": 6,
    "start_time": "2022-02-16T12:45:45.543Z"
   },
   {
    "duration": 239,
    "start_time": "2022-02-16T12:45:45.552Z"
   },
   {
    "duration": 12,
    "start_time": "2022-02-16T12:45:45.793Z"
   },
   {
    "duration": 52,
    "start_time": "2022-02-16T12:45:45.807Z"
   },
   {
    "duration": 138,
    "start_time": "2022-02-16T12:45:45.862Z"
   },
   {
    "duration": 33,
    "start_time": "2022-02-16T12:45:46.003Z"
   },
   {
    "duration": 188,
    "start_time": "2022-02-16T12:45:46.039Z"
   },
   {
    "duration": 12,
    "start_time": "2022-02-16T12:45:46.229Z"
   },
   {
    "duration": 29,
    "start_time": "2022-02-16T12:45:46.243Z"
   },
   {
    "duration": 123,
    "start_time": "2022-02-16T12:45:46.274Z"
   },
   {
    "duration": 18,
    "start_time": "2022-02-16T12:45:46.399Z"
   },
   {
    "duration": 120,
    "start_time": "2022-02-16T12:45:46.432Z"
   },
   {
    "duration": 12,
    "start_time": "2022-02-16T12:45:46.555Z"
   },
   {
    "duration": 36,
    "start_time": "2022-02-16T12:45:46.570Z"
   },
   {
    "duration": 67,
    "start_time": "2022-02-16T12:45:46.609Z"
   },
   {
    "duration": 14,
    "start_time": "2022-02-16T12:45:46.682Z"
   },
   {
    "duration": 34,
    "start_time": "2022-02-16T12:45:46.699Z"
   },
   {
    "duration": 6,
    "start_time": "2022-02-16T12:45:46.737Z"
   },
   {
    "duration": 121,
    "start_time": "2022-02-16T12:45:46.746Z"
   },
   {
    "duration": 7,
    "start_time": "2022-02-16T12:45:46.869Z"
   },
   {
    "duration": 7,
    "start_time": "2022-02-16T12:45:46.878Z"
   },
   {
    "duration": 16,
    "start_time": "2022-02-16T12:45:46.888Z"
   },
   {
    "duration": 77,
    "start_time": "2022-02-16T12:45:46.907Z"
   },
   {
    "duration": 45,
    "start_time": "2022-02-16T12:45:46.987Z"
   },
   {
    "duration": 56,
    "start_time": "2022-02-16T12:45:47.035Z"
   },
   {
    "duration": 17,
    "start_time": "2022-02-16T12:45:47.094Z"
   },
   {
    "duration": 70,
    "start_time": "2022-02-16T12:45:47.135Z"
   },
   {
    "duration": 54,
    "start_time": "2022-02-16T12:45:47.207Z"
   },
   {
    "duration": 9,
    "start_time": "2022-02-16T12:45:47.263Z"
   },
   {
    "duration": 31,
    "start_time": "2022-02-16T12:45:47.274Z"
   },
   {
    "duration": 29,
    "start_time": "2022-02-16T12:45:47.308Z"
   },
   {
    "duration": 18,
    "start_time": "2022-02-16T12:45:47.340Z"
   },
   {
    "duration": 22,
    "start_time": "2022-02-16T12:45:47.361Z"
   },
   {
    "duration": 19,
    "start_time": "2022-02-16T12:45:47.385Z"
   },
   {
    "duration": 12,
    "start_time": "2022-02-16T12:45:47.432Z"
   },
   {
    "duration": 48,
    "start_time": "2022-02-16T12:45:47.447Z"
   },
   {
    "duration": 19,
    "start_time": "2022-02-16T12:45:47.497Z"
   },
   {
    "duration": 13,
    "start_time": "2022-02-16T12:45:47.519Z"
   },
   {
    "duration": 25,
    "start_time": "2022-02-16T12:45:47.534Z"
   },
   {
    "duration": 9,
    "start_time": "2022-02-16T12:45:47.561Z"
   },
   {
    "duration": 19,
    "start_time": "2022-02-16T12:45:47.573Z"
   },
   {
    "duration": 9,
    "start_time": "2022-02-16T12:45:47.594Z"
   },
   {
    "duration": 68,
    "start_time": "2022-02-16T12:45:47.606Z"
   },
   {
    "duration": 24,
    "start_time": "2022-02-16T12:45:47.676Z"
   },
   {
    "duration": 5,
    "start_time": "2022-02-16T12:48:13.943Z"
   },
   {
    "duration": 31,
    "start_time": "2022-02-16T12:48:13.953Z"
   },
   {
    "duration": 14,
    "start_time": "2022-02-16T12:48:13.987Z"
   },
   {
    "duration": 10,
    "start_time": "2022-02-16T12:48:14.004Z"
   },
   {
    "duration": 8,
    "start_time": "2022-02-16T12:48:14.034Z"
   },
   {
    "duration": 16,
    "start_time": "2022-02-16T12:48:14.045Z"
   },
   {
    "duration": 9,
    "start_time": "2022-02-16T12:48:14.063Z"
   },
   {
    "duration": 8,
    "start_time": "2022-02-16T12:48:14.074Z"
   },
   {
    "duration": 224,
    "start_time": "2022-02-16T12:48:14.085Z"
   },
   {
    "duration": 11,
    "start_time": "2022-02-16T12:48:14.312Z"
   },
   {
    "duration": 31,
    "start_time": "2022-02-16T12:48:14.333Z"
   },
   {
    "duration": 141,
    "start_time": "2022-02-16T12:48:14.367Z"
   },
   {
    "duration": 41,
    "start_time": "2022-02-16T12:48:14.510Z"
   },
   {
    "duration": 175,
    "start_time": "2022-02-16T12:48:14.555Z"
   },
   {
    "duration": 13,
    "start_time": "2022-02-16T12:48:14.733Z"
   },
   {
    "duration": 24,
    "start_time": "2022-02-16T12:48:14.749Z"
   },
   {
    "duration": 118,
    "start_time": "2022-02-16T12:48:14.776Z"
   },
   {
    "duration": 36,
    "start_time": "2022-02-16T12:48:14.897Z"
   },
   {
    "duration": 110,
    "start_time": "2022-02-16T12:48:14.936Z"
   },
   {
    "duration": 10,
    "start_time": "2022-02-16T12:48:15.049Z"
   },
   {
    "duration": 25,
    "start_time": "2022-02-16T12:48:15.062Z"
   },
   {
    "duration": 86,
    "start_time": "2022-02-16T12:48:15.090Z"
   },
   {
    "duration": 13,
    "start_time": "2022-02-16T12:48:15.178Z"
   },
   {
    "duration": 13,
    "start_time": "2022-02-16T12:48:15.197Z"
   },
   {
    "duration": 23,
    "start_time": "2022-02-16T12:48:15.213Z"
   },
   {
    "duration": 102,
    "start_time": "2022-02-16T12:48:15.238Z"
   },
   {
    "duration": 6,
    "start_time": "2022-02-16T12:48:15.343Z"
   },
   {
    "duration": 16,
    "start_time": "2022-02-16T12:48:15.352Z"
   },
   {
    "duration": 25,
    "start_time": "2022-02-16T12:48:15.371Z"
   },
   {
    "duration": 61,
    "start_time": "2022-02-16T12:48:15.398Z"
   },
   {
    "duration": 14,
    "start_time": "2022-02-16T12:48:15.462Z"
   },
   {
    "duration": 58,
    "start_time": "2022-02-16T12:48:15.478Z"
   },
   {
    "duration": 13,
    "start_time": "2022-02-16T12:48:15.538Z"
   },
   {
    "duration": 84,
    "start_time": "2022-02-16T12:48:15.553Z"
   },
   {
    "duration": 42,
    "start_time": "2022-02-16T12:48:15.639Z"
   },
   {
    "duration": 8,
    "start_time": "2022-02-16T12:48:15.683Z"
   },
   {
    "duration": 39,
    "start_time": "2022-02-16T12:48:15.694Z"
   },
   {
    "duration": 21,
    "start_time": "2022-02-16T12:48:15.735Z"
   },
   {
    "duration": 6,
    "start_time": "2022-02-16T12:48:15.758Z"
   },
   {
    "duration": 20,
    "start_time": "2022-02-16T12:48:15.766Z"
   },
   {
    "duration": 24,
    "start_time": "2022-02-16T12:48:15.789Z"
   },
   {
    "duration": 20,
    "start_time": "2022-02-16T12:48:15.831Z"
   },
   {
    "duration": 7,
    "start_time": "2022-02-16T12:48:15.854Z"
   },
   {
    "duration": 39,
    "start_time": "2022-02-16T12:48:15.864Z"
   },
   {
    "duration": 45,
    "start_time": "2022-02-16T12:48:15.906Z"
   },
   {
    "duration": 6,
    "start_time": "2022-02-16T12:48:15.954Z"
   },
   {
    "duration": 20,
    "start_time": "2022-02-16T12:48:15.963Z"
   },
   {
    "duration": 48,
    "start_time": "2022-02-16T12:48:15.985Z"
   },
   {
    "duration": 17,
    "start_time": "2022-02-16T12:48:16.036Z"
   },
   {
    "duration": 10,
    "start_time": "2022-02-16T12:48:16.056Z"
   },
   {
    "duration": 78,
    "start_time": "2022-02-16T12:48:16.068Z"
   },
   {
    "duration": 18,
    "start_time": "2022-02-16T12:48:16.149Z"
   },
   {
    "duration": 8,
    "start_time": "2022-02-16T12:58:26.358Z"
   },
   {
    "duration": 16,
    "start_time": "2022-02-16T12:58:54.197Z"
   },
   {
    "duration": 10,
    "start_time": "2022-02-16T12:59:53.386Z"
   },
   {
    "duration": 15,
    "start_time": "2022-02-16T13:00:01.606Z"
   },
   {
    "duration": 10,
    "start_time": "2022-02-16T13:00:02.372Z"
   },
   {
    "duration": 16,
    "start_time": "2022-02-16T13:00:03.223Z"
   },
   {
    "duration": 10,
    "start_time": "2022-02-16T13:00:11.589Z"
   },
   {
    "duration": 17,
    "start_time": "2022-02-16T13:00:13.525Z"
   },
   {
    "duration": 252,
    "start_time": "2022-02-16T13:02:26.599Z"
   },
   {
    "duration": 258,
    "start_time": "2022-02-16T13:02:49.351Z"
   },
   {
    "duration": 278,
    "start_time": "2022-02-16T13:07:14.489Z"
   },
   {
    "duration": 23,
    "start_time": "2022-02-16T13:15:02.152Z"
   },
   {
    "duration": 13,
    "start_time": "2022-02-16T13:15:10.408Z"
   },
   {
    "duration": 20,
    "start_time": "2022-02-16T13:17:28.918Z"
   },
   {
    "duration": 12,
    "start_time": "2022-02-16T13:17:40.955Z"
   },
   {
    "duration": 10,
    "start_time": "2022-02-16T13:17:48.439Z"
   },
   {
    "duration": 18,
    "start_time": "2022-02-16T13:19:55.560Z"
   },
   {
    "duration": 4,
    "start_time": "2022-02-16T13:19:56.039Z"
   },
   {
    "duration": 10,
    "start_time": "2022-02-16T13:19:56.663Z"
   },
   {
    "duration": 9,
    "start_time": "2022-02-16T13:20:12.599Z"
   },
   {
    "duration": 340,
    "start_time": "2022-02-16T18:06:14.826Z"
   },
   {
    "duration": 292,
    "start_time": "2022-02-16T18:06:15.388Z"
   },
   {
    "duration": 990,
    "start_time": "2022-02-16T18:06:18.708Z"
   },
   {
    "duration": 26,
    "start_time": "2022-02-16T18:06:19.700Z"
   },
   {
    "duration": 12,
    "start_time": "2022-02-16T18:06:19.728Z"
   },
   {
    "duration": 6,
    "start_time": "2022-02-16T18:06:19.742Z"
   },
   {
    "duration": 7,
    "start_time": "2022-02-16T18:06:19.750Z"
   },
   {
    "duration": 6,
    "start_time": "2022-02-16T18:06:19.759Z"
   },
   {
    "duration": 4,
    "start_time": "2022-02-16T18:06:19.767Z"
   },
   {
    "duration": 4,
    "start_time": "2022-02-16T18:06:19.772Z"
   },
   {
    "duration": 151,
    "start_time": "2022-02-16T18:06:19.778Z"
   },
   {
    "duration": 7,
    "start_time": "2022-02-16T18:06:19.931Z"
   },
   {
    "duration": 20,
    "start_time": "2022-02-16T18:06:19.940Z"
   },
   {
    "duration": 94,
    "start_time": "2022-02-16T18:06:19.961Z"
   },
   {
    "duration": 14,
    "start_time": "2022-02-16T18:06:20.057Z"
   },
   {
    "duration": 126,
    "start_time": "2022-02-16T18:06:20.072Z"
   },
   {
    "duration": 7,
    "start_time": "2022-02-16T18:06:20.200Z"
   },
   {
    "duration": 24,
    "start_time": "2022-02-16T18:06:20.208Z"
   },
   {
    "duration": 48,
    "start_time": "2022-02-16T18:06:20.233Z"
   },
   {
    "duration": 11,
    "start_time": "2022-02-16T18:06:20.283Z"
   },
   {
    "duration": 84,
    "start_time": "2022-02-16T18:06:20.296Z"
   },
   {
    "duration": 6,
    "start_time": "2022-02-16T18:06:20.382Z"
   },
   {
    "duration": 14,
    "start_time": "2022-02-16T18:06:20.389Z"
   },
   {
    "duration": 49,
    "start_time": "2022-02-16T18:06:20.404Z"
   },
   {
    "duration": 14,
    "start_time": "2022-02-16T18:06:20.455Z"
   },
   {
    "duration": 20,
    "start_time": "2022-02-16T18:06:20.471Z"
   },
   {
    "duration": 13,
    "start_time": "2022-02-16T18:06:20.492Z"
   },
   {
    "duration": 75,
    "start_time": "2022-02-16T18:06:20.507Z"
   },
   {
    "duration": 4,
    "start_time": "2022-02-16T18:06:20.586Z"
   },
   {
    "duration": 18,
    "start_time": "2022-02-16T18:06:20.592Z"
   },
   {
    "duration": 19,
    "start_time": "2022-02-16T18:06:20.611Z"
   },
   {
    "duration": 53,
    "start_time": "2022-02-16T18:06:20.631Z"
   },
   {
    "duration": 31,
    "start_time": "2022-02-16T18:06:20.685Z"
   },
   {
    "duration": 49,
    "start_time": "2022-02-16T18:06:20.718Z"
   },
   {
    "duration": 7,
    "start_time": "2022-02-16T18:06:20.769Z"
   },
   {
    "duration": 374,
    "start_time": "2022-02-16T18:06:20.778Z"
   },
   {
    "duration": -156,
    "start_time": "2022-02-16T18:06:21.309Z"
   },
   {
    "duration": -161,
    "start_time": "2022-02-16T18:06:21.315Z"
   },
   {
    "duration": -162,
    "start_time": "2022-02-16T18:06:21.317Z"
   },
   {
    "duration": -163,
    "start_time": "2022-02-16T18:06:21.319Z"
   },
   {
    "duration": -164,
    "start_time": "2022-02-16T18:06:21.321Z"
   },
   {
    "duration": -165,
    "start_time": "2022-02-16T18:06:21.323Z"
   },
   {
    "duration": -165,
    "start_time": "2022-02-16T18:06:21.324Z"
   },
   {
    "duration": -166,
    "start_time": "2022-02-16T18:06:21.326Z"
   },
   {
    "duration": -167,
    "start_time": "2022-02-16T18:06:21.328Z"
   },
   {
    "duration": -168,
    "start_time": "2022-02-16T18:06:21.330Z"
   },
   {
    "duration": -168,
    "start_time": "2022-02-16T18:06:21.331Z"
   },
   {
    "duration": -169,
    "start_time": "2022-02-16T18:06:21.333Z"
   },
   {
    "duration": -171,
    "start_time": "2022-02-16T18:06:21.335Z"
   },
   {
    "duration": -172,
    "start_time": "2022-02-16T18:06:21.337Z"
   },
   {
    "duration": -173,
    "start_time": "2022-02-16T18:06:21.339Z"
   },
   {
    "duration": -174,
    "start_time": "2022-02-16T18:06:21.340Z"
   },
   {
    "duration": -175,
    "start_time": "2022-02-16T18:06:21.342Z"
   },
   {
    "duration": -176,
    "start_time": "2022-02-16T18:06:21.344Z"
   },
   {
    "duration": -175,
    "start_time": "2022-02-16T18:06:21.345Z"
   },
   {
    "duration": -176,
    "start_time": "2022-02-16T18:06:21.347Z"
   },
   {
    "duration": -177,
    "start_time": "2022-02-16T18:06:21.349Z"
   },
   {
    "duration": -177,
    "start_time": "2022-02-16T18:06:21.350Z"
   },
   {
    "duration": -179,
    "start_time": "2022-02-16T18:06:21.352Z"
   },
   {
    "duration": 70,
    "start_time": "2022-02-16T18:07:34.203Z"
   },
   {
    "duration": 4,
    "start_time": "2022-02-16T18:07:34.925Z"
   },
   {
    "duration": 5,
    "start_time": "2022-02-16T18:07:35.788Z"
   },
   {
    "duration": 9,
    "start_time": "2022-02-16T18:07:36.717Z"
   },
   {
    "duration": 32,
    "start_time": "2022-02-16T18:07:39.053Z"
   },
   {
    "duration": 9,
    "start_time": "2022-02-16T18:07:39.822Z"
   },
   {
    "duration": 33,
    "start_time": "2022-02-16T18:08:36.571Z"
   },
   {
    "duration": 9,
    "start_time": "2022-02-16T18:08:37.547Z"
   },
   {
    "duration": 9,
    "start_time": "2022-02-16T18:09:20.700Z"
   },
   {
    "duration": 4,
    "start_time": "2022-02-16T18:09:23.938Z"
   },
   {
    "duration": 28,
    "start_time": "2022-02-16T18:09:23.944Z"
   },
   {
    "duration": 9,
    "start_time": "2022-02-16T18:09:23.975Z"
   },
   {
    "duration": 6,
    "start_time": "2022-02-16T18:09:23.985Z"
   },
   {
    "duration": 6,
    "start_time": "2022-02-16T18:09:23.993Z"
   },
   {
    "duration": 5,
    "start_time": "2022-02-16T18:09:24.001Z"
   },
   {
    "duration": 5,
    "start_time": "2022-02-16T18:09:24.033Z"
   },
   {
    "duration": 7,
    "start_time": "2022-02-16T18:09:24.041Z"
   },
   {
    "duration": 137,
    "start_time": "2022-02-16T18:09:24.050Z"
   },
   {
    "duration": 8,
    "start_time": "2022-02-16T18:09:24.188Z"
   },
   {
    "duration": 19,
    "start_time": "2022-02-16T18:09:24.198Z"
   },
   {
    "duration": 84,
    "start_time": "2022-02-16T18:09:24.219Z"
   },
   {
    "duration": 34,
    "start_time": "2022-02-16T18:09:24.305Z"
   },
   {
    "duration": 114,
    "start_time": "2022-02-16T18:09:24.340Z"
   },
   {
    "duration": 7,
    "start_time": "2022-02-16T18:09:24.456Z"
   },
   {
    "duration": 18,
    "start_time": "2022-02-16T18:09:24.465Z"
   },
   {
    "duration": 61,
    "start_time": "2022-02-16T18:09:24.485Z"
   },
   {
    "duration": 14,
    "start_time": "2022-02-16T18:09:24.548Z"
   },
   {
    "duration": 89,
    "start_time": "2022-02-16T18:09:24.563Z"
   },
   {
    "duration": 6,
    "start_time": "2022-02-16T18:09:24.654Z"
   },
   {
    "duration": 15,
    "start_time": "2022-02-16T18:09:24.662Z"
   },
   {
    "duration": 35,
    "start_time": "2022-02-16T18:09:24.679Z"
   },
   {
    "duration": 16,
    "start_time": "2022-02-16T18:09:24.733Z"
   },
   {
    "duration": 9,
    "start_time": "2022-02-16T18:09:24.751Z"
   },
   {
    "duration": 4,
    "start_time": "2022-02-16T18:09:24.762Z"
   },
   {
    "duration": 72,
    "start_time": "2022-02-16T18:09:24.767Z"
   },
   {
    "duration": 4,
    "start_time": "2022-02-16T18:09:24.841Z"
   },
   {
    "duration": 10,
    "start_time": "2022-02-16T18:09:24.847Z"
   },
   {
    "duration": 11,
    "start_time": "2022-02-16T18:09:24.859Z"
   },
   {
    "duration": 31,
    "start_time": "2022-02-16T18:09:24.871Z"
   },
   {
    "duration": 8,
    "start_time": "2022-02-16T18:09:24.904Z"
   },
   {
    "duration": 44,
    "start_time": "2022-02-16T18:09:24.913Z"
   },
   {
    "duration": 8,
    "start_time": "2022-02-16T18:09:24.958Z"
   },
   {
    "duration": 314,
    "start_time": "2022-02-16T18:09:24.967Z"
   },
   {
    "duration": -62,
    "start_time": "2022-02-16T18:09:25.345Z"
   },
   {
    "duration": -63,
    "start_time": "2022-02-16T18:09:25.347Z"
   },
   {
    "duration": -63,
    "start_time": "2022-02-16T18:09:25.348Z"
   },
   {
    "duration": -66,
    "start_time": "2022-02-16T18:09:25.352Z"
   },
   {
    "duration": -139,
    "start_time": "2022-02-16T18:09:25.426Z"
   },
   {
    "duration": -140,
    "start_time": "2022-02-16T18:09:25.428Z"
   },
   {
    "duration": -146,
    "start_time": "2022-02-16T18:09:25.434Z"
   },
   {
    "duration": -147,
    "start_time": "2022-02-16T18:09:25.436Z"
   },
   {
    "duration": -148,
    "start_time": "2022-02-16T18:09:25.438Z"
   },
   {
    "duration": -149,
    "start_time": "2022-02-16T18:09:25.440Z"
   },
   {
    "duration": -150,
    "start_time": "2022-02-16T18:09:25.442Z"
   },
   {
    "duration": -150,
    "start_time": "2022-02-16T18:09:25.443Z"
   },
   {
    "duration": -151,
    "start_time": "2022-02-16T18:09:25.445Z"
   },
   {
    "duration": -153,
    "start_time": "2022-02-16T18:09:25.447Z"
   },
   {
    "duration": -154,
    "start_time": "2022-02-16T18:09:25.449Z"
   },
   {
    "duration": -155,
    "start_time": "2022-02-16T18:09:25.451Z"
   },
   {
    "duration": -156,
    "start_time": "2022-02-16T18:09:25.453Z"
   },
   {
    "duration": -156,
    "start_time": "2022-02-16T18:09:25.454Z"
   },
   {
    "duration": -158,
    "start_time": "2022-02-16T18:09:25.456Z"
   },
   {
    "duration": -158,
    "start_time": "2022-02-16T18:09:25.457Z"
   },
   {
    "duration": -159,
    "start_time": "2022-02-16T18:09:25.459Z"
   },
   {
    "duration": -160,
    "start_time": "2022-02-16T18:09:25.461Z"
   },
   {
    "duration": -161,
    "start_time": "2022-02-16T18:09:25.463Z"
   },
   {
    "duration": 17,
    "start_time": "2022-02-16T18:10:43.741Z"
   },
   {
    "duration": 9,
    "start_time": "2022-02-16T18:10:44.700Z"
   },
   {
    "duration": 20,
    "start_time": "2022-02-16T18:12:15.230Z"
   },
   {
    "duration": 8,
    "start_time": "2022-02-16T18:12:15.646Z"
   },
   {
    "duration": 9,
    "start_time": "2022-02-16T18:13:14.956Z"
   },
   {
    "duration": 2,
    "start_time": "2022-02-16T18:13:27.070Z"
   },
   {
    "duration": 393,
    "start_time": "2022-02-16T18:13:34.525Z"
   },
   {
    "duration": 375,
    "start_time": "2022-02-16T18:13:41.422Z"
   },
   {
    "duration": 292,
    "start_time": "2022-02-16T18:13:42.000Z"
   },
   {
    "duration": 294,
    "start_time": "2022-02-16T18:13:46.620Z"
   },
   {
    "duration": 292,
    "start_time": "2022-02-16T18:13:47.633Z"
   },
   {
    "duration": 2,
    "start_time": "2022-02-16T18:13:51.349Z"
   },
   {
    "duration": 36,
    "start_time": "2022-02-16T18:13:51.353Z"
   },
   {
    "duration": 9,
    "start_time": "2022-02-16T18:13:51.391Z"
   },
   {
    "duration": 6,
    "start_time": "2022-02-16T18:13:51.402Z"
   },
   {
    "duration": 7,
    "start_time": "2022-02-16T18:13:51.410Z"
   },
   {
    "duration": 6,
    "start_time": "2022-02-16T18:13:51.418Z"
   },
   {
    "duration": 8,
    "start_time": "2022-02-16T18:13:51.426Z"
   },
   {
    "duration": 4,
    "start_time": "2022-02-16T18:13:51.435Z"
   },
   {
    "duration": 143,
    "start_time": "2022-02-16T18:13:51.442Z"
   },
   {
    "duration": 7,
    "start_time": "2022-02-16T18:13:51.587Z"
   },
   {
    "duration": 31,
    "start_time": "2022-02-16T18:13:51.596Z"
   },
   {
    "duration": 83,
    "start_time": "2022-02-16T18:13:51.628Z"
   },
   {
    "duration": 29,
    "start_time": "2022-02-16T18:13:51.712Z"
   },
   {
    "duration": 116,
    "start_time": "2022-02-16T18:13:51.743Z"
   },
   {
    "duration": 8,
    "start_time": "2022-02-16T18:13:51.860Z"
   },
   {
    "duration": 18,
    "start_time": "2022-02-16T18:13:51.869Z"
   },
   {
    "duration": 69,
    "start_time": "2022-02-16T18:13:51.889Z"
   },
   {
    "duration": 12,
    "start_time": "2022-02-16T18:13:51.960Z"
   },
   {
    "duration": 94,
    "start_time": "2022-02-16T18:13:51.973Z"
   },
   {
    "duration": 7,
    "start_time": "2022-02-16T18:13:52.069Z"
   },
   {
    "duration": 16,
    "start_time": "2022-02-16T18:13:52.077Z"
   },
   {
    "duration": 54,
    "start_time": "2022-02-16T18:13:52.095Z"
   },
   {
    "duration": 16,
    "start_time": "2022-02-16T18:13:52.151Z"
   },
   {
    "duration": 9,
    "start_time": "2022-02-16T18:13:52.168Z"
   },
   {
    "duration": 6,
    "start_time": "2022-02-16T18:13:52.178Z"
   },
   {
    "duration": 64,
    "start_time": "2022-02-16T18:13:52.186Z"
   },
   {
    "duration": 4,
    "start_time": "2022-02-16T18:13:52.253Z"
   },
   {
    "duration": 6,
    "start_time": "2022-02-16T18:13:52.259Z"
   },
   {
    "duration": 10,
    "start_time": "2022-02-16T18:13:52.266Z"
   },
   {
    "duration": 30,
    "start_time": "2022-02-16T18:13:52.278Z"
   },
   {
    "duration": 33,
    "start_time": "2022-02-16T18:13:52.309Z"
   },
   {
    "duration": 27,
    "start_time": "2022-02-16T18:13:52.344Z"
   },
   {
    "duration": 7,
    "start_time": "2022-02-16T18:13:52.372Z"
   },
   {
    "duration": 24,
    "start_time": "2022-02-16T18:13:52.380Z"
   },
   {
    "duration": 7,
    "start_time": "2022-02-16T18:13:52.405Z"
   },
   {
    "duration": 33,
    "start_time": "2022-02-16T18:13:52.414Z"
   },
   {
    "duration": 7,
    "start_time": "2022-02-16T18:13:52.448Z"
   },
   {
    "duration": 10,
    "start_time": "2022-02-16T18:14:02.334Z"
   },
   {
    "duration": 8,
    "start_time": "2022-02-16T18:14:16.797Z"
   },
   {
    "duration": 9,
    "start_time": "2022-02-16T18:14:17.388Z"
   },
   {
    "duration": 12,
    "start_time": "2022-02-16T18:14:40.908Z"
   },
   {
    "duration": 7,
    "start_time": "2022-02-16T18:14:41.581Z"
   },
   {
    "duration": 9,
    "start_time": "2022-02-16T18:14:43.340Z"
   },
   {
    "duration": 15,
    "start_time": "2022-02-16T18:15:20.304Z"
   },
   {
    "duration": 3,
    "start_time": "2022-02-16T18:15:21.054Z"
   },
   {
    "duration": 324,
    "start_time": "2022-02-16T18:15:22.379Z"
   },
   {
    "duration": 6,
    "start_time": "2022-02-16T18:15:28.140Z"
   },
   {
    "duration": 8,
    "start_time": "2022-02-16T18:15:34.208Z"
   },
   {
    "duration": 4,
    "start_time": "2022-02-16T18:15:52.805Z"
   },
   {
    "duration": 29,
    "start_time": "2022-02-16T18:15:52.810Z"
   },
   {
    "duration": 9,
    "start_time": "2022-02-16T18:15:52.841Z"
   },
   {
    "duration": 7,
    "start_time": "2022-02-16T18:15:52.853Z"
   },
   {
    "duration": 6,
    "start_time": "2022-02-16T18:15:52.862Z"
   },
   {
    "duration": 7,
    "start_time": "2022-02-16T18:15:52.870Z"
   },
   {
    "duration": 4,
    "start_time": "2022-02-16T18:15:52.879Z"
   },
   {
    "duration": 4,
    "start_time": "2022-02-16T18:15:52.885Z"
   },
   {
    "duration": 186,
    "start_time": "2022-02-16T18:15:52.892Z"
   },
   {
    "duration": 7,
    "start_time": "2022-02-16T18:15:53.081Z"
   },
   {
    "duration": 20,
    "start_time": "2022-02-16T18:15:53.089Z"
   },
   {
    "duration": 91,
    "start_time": "2022-02-16T18:15:53.110Z"
   },
   {
    "duration": 14,
    "start_time": "2022-02-16T18:15:53.203Z"
   },
   {
    "duration": 136,
    "start_time": "2022-02-16T18:15:53.219Z"
   },
   {
    "duration": 18,
    "start_time": "2022-02-16T18:15:53.357Z"
   },
   {
    "duration": 18,
    "start_time": "2022-02-16T18:15:53.377Z"
   },
   {
    "duration": 60,
    "start_time": "2022-02-16T18:15:53.396Z"
   },
   {
    "duration": 13,
    "start_time": "2022-02-16T18:15:53.458Z"
   },
   {
    "duration": 87,
    "start_time": "2022-02-16T18:15:53.473Z"
   },
   {
    "duration": 7,
    "start_time": "2022-02-16T18:15:53.562Z"
   },
   {
    "duration": 29,
    "start_time": "2022-02-16T18:15:53.571Z"
   },
   {
    "duration": 44,
    "start_time": "2022-02-16T18:15:53.602Z"
   },
   {
    "duration": 15,
    "start_time": "2022-02-16T18:15:53.648Z"
   },
   {
    "duration": 8,
    "start_time": "2022-02-16T18:15:53.665Z"
   },
   {
    "duration": 4,
    "start_time": "2022-02-16T18:15:53.674Z"
   },
   {
    "duration": 67,
    "start_time": "2022-02-16T18:15:53.680Z"
   },
   {
    "duration": 5,
    "start_time": "2022-02-16T18:15:53.751Z"
   },
   {
    "duration": 5,
    "start_time": "2022-02-16T18:15:53.757Z"
   },
   {
    "duration": 10,
    "start_time": "2022-02-16T18:15:53.763Z"
   },
   {
    "duration": 30,
    "start_time": "2022-02-16T18:15:53.774Z"
   },
   {
    "duration": 37,
    "start_time": "2022-02-16T18:15:53.805Z"
   },
   {
    "duration": 26,
    "start_time": "2022-02-16T18:15:53.844Z"
   },
   {
    "duration": 7,
    "start_time": "2022-02-16T18:15:53.872Z"
   },
   {
    "duration": 19,
    "start_time": "2022-02-16T18:15:53.881Z"
   },
   {
    "duration": 7,
    "start_time": "2022-02-16T18:15:53.902Z"
   },
   {
    "duration": 32,
    "start_time": "2022-02-16T18:15:53.910Z"
   },
   {
    "duration": 4,
    "start_time": "2022-02-16T18:15:53.944Z"
   },
   {
    "duration": 9,
    "start_time": "2022-02-16T18:15:53.949Z"
   },
   {
    "duration": 19,
    "start_time": "2022-02-16T18:15:53.959Z"
   },
   {
    "duration": 2,
    "start_time": "2022-02-16T18:15:53.979Z"
   },
   {
    "duration": 11,
    "start_time": "2022-02-16T18:15:53.982Z"
   },
   {
    "duration": 16,
    "start_time": "2022-02-16T18:15:53.994Z"
   },
   {
    "duration": 25,
    "start_time": "2022-02-16T18:15:54.011Z"
   },
   {
    "duration": 375,
    "start_time": "2022-02-16T18:15:54.038Z"
   },
   {
    "duration": -54,
    "start_time": "2022-02-16T18:15:54.468Z"
   },
   {
    "duration": 19,
    "start_time": "2022-02-16T18:17:03.228Z"
   },
   {
    "duration": 9,
    "start_time": "2022-02-16T18:17:03.790Z"
   },
   {
    "duration": 13,
    "start_time": "2022-02-16T18:17:05.085Z"
   },
   {
    "duration": 5,
    "start_time": "2022-02-16T18:17:45.949Z"
   },
   {
    "duration": 15,
    "start_time": "2022-02-16T18:18:11.629Z"
   },
   {
    "duration": 10,
    "start_time": "2022-02-16T18:18:23.500Z"
   },
   {
    "duration": 11,
    "start_time": "2022-02-16T18:18:40.589Z"
   },
   {
    "duration": 1299,
    "start_time": "2022-02-16T18:21:18.301Z"
   },
   {
    "duration": 16,
    "start_time": "2022-02-16T18:21:22.574Z"
   },
   {
    "duration": 9,
    "start_time": "2022-02-16T18:21:23.005Z"
   },
   {
    "duration": 13,
    "start_time": "2022-02-16T18:21:23.741Z"
   },
   {
    "duration": 1193,
    "start_time": "2022-02-16T18:21:24.557Z"
   },
   {
    "duration": 1239,
    "start_time": "2022-02-16T18:21:53.791Z"
   },
   {
    "duration": 16,
    "start_time": "2022-02-16T18:22:05.924Z"
   },
   {
    "duration": 9,
    "start_time": "2022-02-16T18:22:05.942Z"
   },
   {
    "duration": 11,
    "start_time": "2022-02-16T18:22:06.717Z"
   },
   {
    "duration": 6,
    "start_time": "2022-02-16T18:22:14.126Z"
   },
   {
    "duration": 1222,
    "start_time": "2022-02-16T18:22:14.957Z"
   },
   {
    "duration": 1151,
    "start_time": "2022-02-16T18:22:27.309Z"
   },
   {
    "duration": 14,
    "start_time": "2022-02-16T18:22:37.050Z"
   },
   {
    "duration": 8,
    "start_time": "2022-02-16T18:22:37.535Z"
   },
   {
    "duration": 6,
    "start_time": "2022-02-16T18:22:40.704Z"
   },
   {
    "duration": 4,
    "start_time": "2022-02-16T18:22:49.262Z"
   },
   {
    "duration": 1705,
    "start_time": "2022-02-16T18:23:06.609Z"
   },
   {
    "duration": 4,
    "start_time": "2022-02-16T18:23:21.469Z"
   },
   {
    "duration": 7,
    "start_time": "2022-02-16T18:23:31.504Z"
   },
   {
    "duration": 14,
    "start_time": "2022-02-16T18:23:50.765Z"
   },
   {
    "duration": 5,
    "start_time": "2022-02-16T18:23:51.326Z"
   },
   {
    "duration": 1252,
    "start_time": "2022-02-16T18:23:52.860Z"
   },
   {
    "duration": -160,
    "start_time": "2022-02-16T18:23:54.274Z"
   },
   {
    "duration": 3,
    "start_time": "2022-02-16T18:24:02.323Z"
   },
   {
    "duration": 27,
    "start_time": "2022-02-16T18:24:02.330Z"
   },
   {
    "duration": 9,
    "start_time": "2022-02-16T18:24:02.359Z"
   },
   {
    "duration": 6,
    "start_time": "2022-02-16T18:24:02.369Z"
   },
   {
    "duration": 6,
    "start_time": "2022-02-16T18:24:02.377Z"
   },
   {
    "duration": 7,
    "start_time": "2022-02-16T18:24:02.385Z"
   },
   {
    "duration": 5,
    "start_time": "2022-02-16T18:24:02.393Z"
   },
   {
    "duration": 7,
    "start_time": "2022-02-16T18:24:02.399Z"
   },
   {
    "duration": 165,
    "start_time": "2022-02-16T18:24:02.408Z"
   },
   {
    "duration": 7,
    "start_time": "2022-02-16T18:24:02.575Z"
   },
   {
    "duration": 20,
    "start_time": "2022-02-16T18:24:02.584Z"
   },
   {
    "duration": 92,
    "start_time": "2022-02-16T18:24:02.605Z"
   },
   {
    "duration": 15,
    "start_time": "2022-02-16T18:24:02.700Z"
   },
   {
    "duration": 124,
    "start_time": "2022-02-16T18:24:02.716Z"
   },
   {
    "duration": 9,
    "start_time": "2022-02-16T18:24:02.842Z"
   },
   {
    "duration": 18,
    "start_time": "2022-02-16T18:24:02.853Z"
   },
   {
    "duration": 60,
    "start_time": "2022-02-16T18:24:02.873Z"
   },
   {
    "duration": 15,
    "start_time": "2022-02-16T18:24:02.935Z"
   },
   {
    "duration": 75,
    "start_time": "2022-02-16T18:24:02.951Z"
   },
   {
    "duration": 11,
    "start_time": "2022-02-16T18:24:03.032Z"
   },
   {
    "duration": 13,
    "start_time": "2022-02-16T18:24:03.048Z"
   },
   {
    "duration": 32,
    "start_time": "2022-02-16T18:24:03.062Z"
   },
   {
    "duration": 14,
    "start_time": "2022-02-16T18:24:03.096Z"
   },
   {
    "duration": 22,
    "start_time": "2022-02-16T18:24:03.113Z"
   },
   {
    "duration": 4,
    "start_time": "2022-02-16T18:24:03.137Z"
   },
   {
    "duration": 61,
    "start_time": "2022-02-16T18:24:03.143Z"
   },
   {
    "duration": 27,
    "start_time": "2022-02-16T18:24:03.206Z"
   },
   {
    "duration": 6,
    "start_time": "2022-02-16T18:24:03.234Z"
   },
   {
    "duration": 13,
    "start_time": "2022-02-16T18:24:03.242Z"
   },
   {
    "duration": 36,
    "start_time": "2022-02-16T18:24:03.256Z"
   },
   {
    "duration": 9,
    "start_time": "2022-02-16T18:24:03.293Z"
   },
   {
    "duration": 55,
    "start_time": "2022-02-16T18:24:03.303Z"
   },
   {
    "duration": 11,
    "start_time": "2022-02-16T18:24:03.359Z"
   },
   {
    "duration": 22,
    "start_time": "2022-02-16T18:24:03.372Z"
   },
   {
    "duration": 6,
    "start_time": "2022-02-16T18:24:03.396Z"
   },
   {
    "duration": 1392,
    "start_time": "2022-02-16T18:24:03.403Z"
   },
   {
    "duration": -1414,
    "start_time": "2022-02-16T18:24:06.210Z"
   },
   {
    "duration": -1415,
    "start_time": "2022-02-16T18:24:06.212Z"
   },
   {
    "duration": -1416,
    "start_time": "2022-02-16T18:24:06.214Z"
   },
   {
    "duration": -1416,
    "start_time": "2022-02-16T18:24:06.215Z"
   },
   {
    "duration": -1418,
    "start_time": "2022-02-16T18:24:06.218Z"
   },
   {
    "duration": -1419,
    "start_time": "2022-02-16T18:24:06.220Z"
   },
   {
    "duration": -1419,
    "start_time": "2022-02-16T18:24:06.221Z"
   },
   {
    "duration": -1420,
    "start_time": "2022-02-16T18:24:06.223Z"
   },
   {
    "duration": -1420,
    "start_time": "2022-02-16T18:24:06.224Z"
   },
   {
    "duration": -1421,
    "start_time": "2022-02-16T18:24:06.226Z"
   },
   {
    "duration": -1423,
    "start_time": "2022-02-16T18:24:06.228Z"
   },
   {
    "duration": 3,
    "start_time": "2022-02-16T18:24:15.853Z"
   },
   {
    "duration": 8,
    "start_time": "2022-02-16T18:24:16.621Z"
   },
   {
    "duration": 3,
    "start_time": "2022-02-16T18:24:22.803Z"
   },
   {
    "duration": 29,
    "start_time": "2022-02-16T18:24:22.807Z"
   },
   {
    "duration": 14,
    "start_time": "2022-02-16T18:24:22.839Z"
   },
   {
    "duration": 9,
    "start_time": "2022-02-16T18:24:22.855Z"
   },
   {
    "duration": 14,
    "start_time": "2022-02-16T18:24:22.866Z"
   },
   {
    "duration": 7,
    "start_time": "2022-02-16T18:24:22.881Z"
   },
   {
    "duration": 5,
    "start_time": "2022-02-16T18:24:22.889Z"
   },
   {
    "duration": 3,
    "start_time": "2022-02-16T18:24:22.896Z"
   },
   {
    "duration": 169,
    "start_time": "2022-02-16T18:24:22.901Z"
   },
   {
    "duration": 7,
    "start_time": "2022-02-16T18:24:23.071Z"
   },
   {
    "duration": 20,
    "start_time": "2022-02-16T18:24:23.079Z"
   },
   {
    "duration": 82,
    "start_time": "2022-02-16T18:24:23.100Z"
   },
   {
    "duration": 14,
    "start_time": "2022-02-16T18:24:23.184Z"
   },
   {
    "duration": 130,
    "start_time": "2022-02-16T18:24:23.199Z"
   },
   {
    "duration": 14,
    "start_time": "2022-02-16T18:24:23.331Z"
   },
   {
    "duration": 23,
    "start_time": "2022-02-16T18:24:23.347Z"
   },
   {
    "duration": 79,
    "start_time": "2022-02-16T18:24:23.372Z"
   },
   {
    "duration": 14,
    "start_time": "2022-02-16T18:24:23.453Z"
   },
   {
    "duration": 93,
    "start_time": "2022-02-16T18:24:23.468Z"
   },
   {
    "duration": 7,
    "start_time": "2022-02-16T18:24:23.563Z"
   },
   {
    "duration": 13,
    "start_time": "2022-02-16T18:24:23.572Z"
   },
   {
    "duration": 53,
    "start_time": "2022-02-16T18:24:23.587Z"
   },
   {
    "duration": 15,
    "start_time": "2022-02-16T18:24:23.647Z"
   },
   {
    "duration": 10,
    "start_time": "2022-02-16T18:24:23.664Z"
   },
   {
    "duration": 4,
    "start_time": "2022-02-16T18:24:23.676Z"
   },
   {
    "duration": 67,
    "start_time": "2022-02-16T18:24:23.682Z"
   },
   {
    "duration": 6,
    "start_time": "2022-02-16T18:24:23.750Z"
   },
   {
    "duration": 4,
    "start_time": "2022-02-16T18:24:23.758Z"
   },
   {
    "duration": 10,
    "start_time": "2022-02-16T18:24:23.764Z"
   },
   {
    "duration": 61,
    "start_time": "2022-02-16T18:24:23.776Z"
   },
   {
    "duration": 13,
    "start_time": "2022-02-16T18:24:23.840Z"
   },
   {
    "duration": 30,
    "start_time": "2022-02-16T18:24:23.855Z"
   },
   {
    "duration": 9,
    "start_time": "2022-02-16T18:24:23.886Z"
   },
   {
    "duration": 45,
    "start_time": "2022-02-16T18:24:23.896Z"
   },
   {
    "duration": 6,
    "start_time": "2022-02-16T18:24:23.944Z"
   },
   {
    "duration": 8,
    "start_time": "2022-02-16T18:24:23.951Z"
   },
   {
    "duration": 12,
    "start_time": "2022-02-16T18:24:23.961Z"
   },
   {
    "duration": 16,
    "start_time": "2022-02-16T18:24:23.975Z"
   },
   {
    "duration": 17,
    "start_time": "2022-02-16T18:24:23.992Z"
   },
   {
    "duration": 10,
    "start_time": "2022-02-16T18:24:24.011Z"
   },
   {
    "duration": 22,
    "start_time": "2022-02-16T18:24:24.022Z"
   },
   {
    "duration": 2,
    "start_time": "2022-02-16T18:24:24.047Z"
   },
   {
    "duration": 12,
    "start_time": "2022-02-16T18:24:24.052Z"
   },
   {
    "duration": 13,
    "start_time": "2022-02-16T18:24:24.066Z"
   },
   {
    "duration": 25,
    "start_time": "2022-02-16T18:24:24.080Z"
   },
   {
    "duration": 322,
    "start_time": "2022-02-16T18:24:24.107Z"
   },
   {
    "duration": -49,
    "start_time": "2022-02-16T18:24:24.479Z"
   },
   {
    "duration": 16,
    "start_time": "2022-02-16T18:24:54.020Z"
   },
   {
    "duration": 6,
    "start_time": "2022-02-16T18:24:54.573Z"
   },
   {
    "duration": 4,
    "start_time": "2022-02-16T18:24:55.213Z"
   },
   {
    "duration": 10,
    "start_time": "2022-02-16T18:24:55.821Z"
   },
   {
    "duration": 14,
    "start_time": "2022-02-16T18:24:58.316Z"
   },
   {
    "duration": 6,
    "start_time": "2022-02-16T18:24:58.893Z"
   },
   {
    "duration": 7,
    "start_time": "2022-02-16T18:24:59.421Z"
   },
   {
    "duration": 2,
    "start_time": "2022-02-16T18:26:26.111Z"
   },
   {
    "duration": 11,
    "start_time": "2022-02-16T18:26:26.638Z"
   },
   {
    "duration": 10,
    "start_time": "2022-02-16T18:26:56.797Z"
   },
   {
    "duration": 4,
    "start_time": "2022-02-16T18:26:57.375Z"
   },
   {
    "duration": 5,
    "start_time": "2022-02-16T18:26:58.046Z"
   },
   {
    "duration": 9,
    "start_time": "2022-02-16T18:26:58.702Z"
   },
   {
    "duration": 14,
    "start_time": "2022-02-16T18:29:26.893Z"
   },
   {
    "duration": 3,
    "start_time": "2022-02-16T18:29:27.325Z"
   },
   {
    "duration": 7,
    "start_time": "2022-02-16T18:29:27.900Z"
   },
   {
    "duration": 5,
    "start_time": "2022-02-16T18:29:47.038Z"
   },
   {
    "duration": 7,
    "start_time": "2022-02-16T18:29:47.693Z"
   },
   {
    "duration": 5,
    "start_time": "2022-02-16T18:30:02.974Z"
   },
   {
    "duration": 9,
    "start_time": "2022-02-16T18:30:03.917Z"
   },
   {
    "duration": 337,
    "start_time": "2022-02-16T18:30:23.679Z"
   },
   {
    "duration": 11,
    "start_time": "2022-02-16T18:30:30.431Z"
   },
   {
    "duration": 320,
    "start_time": "2022-02-16T18:30:31.374Z"
   },
   {
    "duration": 7,
    "start_time": "2022-02-16T18:32:19.138Z"
   },
   {
    "duration": 9,
    "start_time": "2022-02-16T18:32:20.142Z"
   },
   {
    "duration": 10,
    "start_time": "2022-02-16T18:32:33.438Z"
   },
   {
    "duration": 12,
    "start_time": "2022-02-16T18:32:46.367Z"
   },
   {
    "duration": 8,
    "start_time": "2022-02-16T18:35:09.502Z"
   },
   {
    "duration": 43,
    "start_time": "2022-02-16T18:35:10.255Z"
   },
   {
    "duration": 16,
    "start_time": "2022-02-16T18:35:11.118Z"
   },
   {
    "duration": 17,
    "start_time": "2022-02-16T18:36:27.439Z"
   },
   {
    "duration": 18,
    "start_time": "2022-02-16T18:36:28.127Z"
   },
   {
    "duration": 17,
    "start_time": "2022-02-16T18:37:03.166Z"
   },
   {
    "duration": 16,
    "start_time": "2022-02-16T18:37:25.166Z"
   },
   {
    "duration": 16,
    "start_time": "2022-02-16T18:37:30.558Z"
   },
   {
    "duration": 14,
    "start_time": "2022-02-16T18:37:39.487Z"
   },
   {
    "duration": 17,
    "start_time": "2022-02-16T18:38:00.895Z"
   },
   {
    "duration": 17,
    "start_time": "2022-02-16T18:40:00.062Z"
   },
   {
    "duration": 23,
    "start_time": "2022-02-16T18:40:00.734Z"
   },
   {
    "duration": 12,
    "start_time": "2022-02-16T18:40:20.894Z"
   },
   {
    "duration": 7,
    "start_time": "2022-02-16T18:40:31.422Z"
   },
   {
    "duration": 16,
    "start_time": "2022-02-16T18:44:29.967Z"
   },
   {
    "duration": 19,
    "start_time": "2022-02-16T18:44:30.687Z"
   },
   {
    "duration": 9,
    "start_time": "2022-02-16T18:44:36.480Z"
   },
   {
    "duration": 11,
    "start_time": "2022-02-16T18:45:58.703Z"
   },
   {
    "duration": 5,
    "start_time": "2022-02-16T18:45:59.198Z"
   },
   {
    "duration": 5,
    "start_time": "2022-02-16T18:45:59.745Z"
   },
   {
    "duration": 9,
    "start_time": "2022-02-16T18:46:00.509Z"
   },
   {
    "duration": 7,
    "start_time": "2022-02-16T18:46:04.840Z"
   },
   {
    "duration": 28,
    "start_time": "2022-02-16T18:46:04.849Z"
   },
   {
    "duration": 8,
    "start_time": "2022-02-16T18:46:04.878Z"
   },
   {
    "duration": 6,
    "start_time": "2022-02-16T18:46:04.888Z"
   },
   {
    "duration": 5,
    "start_time": "2022-02-16T18:46:04.896Z"
   },
   {
    "duration": 6,
    "start_time": "2022-02-16T18:46:04.902Z"
   },
   {
    "duration": 5,
    "start_time": "2022-02-16T18:46:04.909Z"
   },
   {
    "duration": 16,
    "start_time": "2022-02-16T18:46:04.916Z"
   },
   {
    "duration": 144,
    "start_time": "2022-02-16T18:46:04.936Z"
   },
   {
    "duration": 8,
    "start_time": "2022-02-16T18:46:05.082Z"
   },
   {
    "duration": 20,
    "start_time": "2022-02-16T18:46:05.092Z"
   },
   {
    "duration": 118,
    "start_time": "2022-02-16T18:46:05.114Z"
   },
   {
    "duration": 20,
    "start_time": "2022-02-16T18:46:05.235Z"
   },
   {
    "duration": 131,
    "start_time": "2022-02-16T18:46:05.256Z"
   },
   {
    "duration": 7,
    "start_time": "2022-02-16T18:46:05.389Z"
   },
   {
    "duration": 18,
    "start_time": "2022-02-16T18:46:05.397Z"
   },
   {
    "duration": 50,
    "start_time": "2022-02-16T18:46:05.417Z"
   },
   {
    "duration": 12,
    "start_time": "2022-02-16T18:46:05.469Z"
   },
   {
    "duration": 82,
    "start_time": "2022-02-16T18:46:05.482Z"
   },
   {
    "duration": 6,
    "start_time": "2022-02-16T18:46:05.566Z"
   },
   {
    "duration": 14,
    "start_time": "2022-02-16T18:46:05.574Z"
   },
   {
    "duration": 32,
    "start_time": "2022-02-16T18:46:05.589Z"
   },
   {
    "duration": 17,
    "start_time": "2022-02-16T18:46:05.623Z"
   },
   {
    "duration": 10,
    "start_time": "2022-02-16T18:46:05.644Z"
   },
   {
    "duration": 8,
    "start_time": "2022-02-16T18:46:05.656Z"
   },
   {
    "duration": 65,
    "start_time": "2022-02-16T18:46:05.665Z"
   },
   {
    "duration": 6,
    "start_time": "2022-02-16T18:46:05.736Z"
   },
   {
    "duration": 5,
    "start_time": "2022-02-16T18:46:05.744Z"
   },
   {
    "duration": 13,
    "start_time": "2022-02-16T18:46:05.751Z"
   },
   {
    "duration": 34,
    "start_time": "2022-02-16T18:46:05.766Z"
   },
   {
    "duration": 8,
    "start_time": "2022-02-16T18:46:05.801Z"
   },
   {
    "duration": 28,
    "start_time": "2022-02-16T18:46:05.811Z"
   },
   {
    "duration": 10,
    "start_time": "2022-02-16T18:46:05.841Z"
   },
   {
    "duration": 23,
    "start_time": "2022-02-16T18:46:05.853Z"
   },
   {
    "duration": 5,
    "start_time": "2022-02-16T18:46:05.877Z"
   },
   {
    "duration": 6,
    "start_time": "2022-02-16T18:46:05.884Z"
   },
   {
    "duration": 13,
    "start_time": "2022-02-16T18:46:05.892Z"
   },
   {
    "duration": 22,
    "start_time": "2022-02-16T18:46:05.906Z"
   },
   {
    "duration": 4,
    "start_time": "2022-02-16T18:46:05.929Z"
   },
   {
    "duration": 9,
    "start_time": "2022-02-16T18:46:05.936Z"
   },
   {
    "duration": 11,
    "start_time": "2022-02-16T18:46:05.947Z"
   },
   {
    "duration": 23,
    "start_time": "2022-02-16T18:46:05.959Z"
   },
   {
    "duration": 2,
    "start_time": "2022-02-16T18:46:05.984Z"
   },
   {
    "duration": 12,
    "start_time": "2022-02-16T18:46:05.988Z"
   },
   {
    "duration": 10,
    "start_time": "2022-02-16T18:46:06.001Z"
   },
   {
    "duration": 12,
    "start_time": "2022-02-16T18:46:06.012Z"
   },
   {
    "duration": 16,
    "start_time": "2022-02-16T18:46:06.025Z"
   },
   {
    "duration": 22,
    "start_time": "2022-02-16T18:46:06.044Z"
   },
   {
    "duration": 19,
    "start_time": "2022-02-16T18:46:06.068Z"
   },
   {
    "duration": 7,
    "start_time": "2022-02-16T18:46:06.089Z"
   },
   {
    "duration": 6,
    "start_time": "2022-02-16T18:55:12.623Z"
   },
   {
    "duration": 14,
    "start_time": "2022-02-16T18:55:13.433Z"
   },
   {
    "duration": 16,
    "start_time": "2022-02-16T18:55:14.259Z"
   },
   {
    "duration": 23,
    "start_time": "2022-02-16T18:55:14.839Z"
   },
   {
    "duration": 11,
    "start_time": "2022-02-16T18:55:16.535Z"
   },
   {
    "duration": 18,
    "start_time": "2022-02-16T18:56:52.187Z"
   },
   {
    "duration": 16,
    "start_time": "2022-02-16T18:57:51.037Z"
   },
   {
    "duration": 13,
    "start_time": "2022-02-16T18:57:51.977Z"
   },
   {
    "duration": 7,
    "start_time": "2022-02-16T18:58:07.607Z"
   },
   {
    "duration": 16,
    "start_time": "2022-02-16T18:58:23.225Z"
   },
   {
    "duration": 17,
    "start_time": "2022-02-16T18:58:23.752Z"
   },
   {
    "duration": 15,
    "start_time": "2022-02-16T18:59:13.385Z"
   },
   {
    "duration": 13,
    "start_time": "2022-02-16T18:59:14.280Z"
   },
   {
    "duration": 7,
    "start_time": "2022-02-16T18:59:14.937Z"
   },
   {
    "duration": 16,
    "start_time": "2022-02-16T19:11:48.889Z"
   },
   {
    "duration": 24,
    "start_time": "2022-02-16T19:11:49.994Z"
   },
   {
    "duration": 351,
    "start_time": "2022-02-16T19:12:30.602Z"
   },
   {
    "duration": 9,
    "start_time": "2022-02-16T19:12:34.505Z"
   },
   {
    "duration": 321,
    "start_time": "2022-02-16T19:12:35.162Z"
   },
   {
    "duration": 3,
    "start_time": "2022-02-16T19:12:52.831Z"
   },
   {
    "duration": 39,
    "start_time": "2022-02-16T19:12:52.836Z"
   },
   {
    "duration": 8,
    "start_time": "2022-02-16T19:12:52.877Z"
   },
   {
    "duration": 7,
    "start_time": "2022-02-16T19:12:52.886Z"
   },
   {
    "duration": 9,
    "start_time": "2022-02-16T19:12:52.894Z"
   },
   {
    "duration": 6,
    "start_time": "2022-02-16T19:12:52.905Z"
   },
   {
    "duration": 4,
    "start_time": "2022-02-16T19:12:52.914Z"
   },
   {
    "duration": 3,
    "start_time": "2022-02-16T19:12:52.932Z"
   },
   {
    "duration": 135,
    "start_time": "2022-02-16T19:12:52.937Z"
   },
   {
    "duration": 9,
    "start_time": "2022-02-16T19:12:53.073Z"
   },
   {
    "duration": 19,
    "start_time": "2022-02-16T19:12:53.084Z"
   },
   {
    "duration": 83,
    "start_time": "2022-02-16T19:12:53.105Z"
   },
   {
    "duration": 14,
    "start_time": "2022-02-16T19:12:53.189Z"
   },
   {
    "duration": 137,
    "start_time": "2022-02-16T19:12:53.204Z"
   },
   {
    "duration": 7,
    "start_time": "2022-02-16T19:12:53.343Z"
   },
   {
    "duration": 17,
    "start_time": "2022-02-16T19:12:53.351Z"
   },
   {
    "duration": 68,
    "start_time": "2022-02-16T19:12:53.370Z"
   },
   {
    "duration": 14,
    "start_time": "2022-02-16T19:12:53.439Z"
   },
   {
    "duration": 77,
    "start_time": "2022-02-16T19:12:53.457Z"
   },
   {
    "duration": 7,
    "start_time": "2022-02-16T19:12:53.536Z"
   },
   {
    "duration": 19,
    "start_time": "2022-02-16T19:12:53.544Z"
   },
   {
    "duration": 32,
    "start_time": "2022-02-16T19:12:53.564Z"
   },
   {
    "duration": 15,
    "start_time": "2022-02-16T19:12:53.597Z"
   },
   {
    "duration": 19,
    "start_time": "2022-02-16T19:12:53.613Z"
   },
   {
    "duration": 3,
    "start_time": "2022-02-16T19:12:53.633Z"
   },
   {
    "duration": 60,
    "start_time": "2022-02-16T19:12:53.638Z"
   },
   {
    "duration": 4,
    "start_time": "2022-02-16T19:12:53.700Z"
   },
   {
    "duration": 4,
    "start_time": "2022-02-16T19:12:53.705Z"
   },
   {
    "duration": 27,
    "start_time": "2022-02-16T19:12:53.710Z"
   },
   {
    "duration": 37,
    "start_time": "2022-02-16T19:12:53.738Z"
   },
   {
    "duration": 8,
    "start_time": "2022-02-16T19:12:53.777Z"
   },
   {
    "duration": 27,
    "start_time": "2022-02-16T19:12:53.787Z"
   },
   {
    "duration": 8,
    "start_time": "2022-02-16T19:12:53.831Z"
   },
   {
    "duration": 20,
    "start_time": "2022-02-16T19:12:53.841Z"
   },
   {
    "duration": 6,
    "start_time": "2022-02-16T19:12:53.862Z"
   },
   {
    "duration": 3,
    "start_time": "2022-02-16T19:12:53.870Z"
   },
   {
    "duration": 13,
    "start_time": "2022-02-16T19:12:53.875Z"
   },
   {
    "duration": 42,
    "start_time": "2022-02-16T19:12:53.889Z"
   },
   {
    "duration": 4,
    "start_time": "2022-02-16T19:12:53.933Z"
   },
   {
    "duration": 6,
    "start_time": "2022-02-16T19:12:53.939Z"
   },
   {
    "duration": 12,
    "start_time": "2022-02-16T19:12:53.946Z"
   },
   {
    "duration": 17,
    "start_time": "2022-02-16T19:12:53.959Z"
   },
   {
    "duration": 2,
    "start_time": "2022-02-16T19:12:53.978Z"
   },
   {
    "duration": 10,
    "start_time": "2022-02-16T19:12:53.981Z"
   },
   {
    "duration": 16,
    "start_time": "2022-02-16T19:12:53.992Z"
   },
   {
    "duration": 9,
    "start_time": "2022-02-16T19:12:54.009Z"
   },
   {
    "duration": 13,
    "start_time": "2022-02-16T19:12:54.019Z"
   },
   {
    "duration": 308,
    "start_time": "2022-02-16T19:12:54.034Z"
   },
   {
    "duration": -240,
    "start_time": "2022-02-16T19:12:54.583Z"
   },
   {
    "duration": -241,
    "start_time": "2022-02-16T19:12:54.585Z"
   },
   {
    "duration": 19,
    "start_time": "2022-02-16T19:13:08.394Z"
   },
   {
    "duration": 16,
    "start_time": "2022-02-16T19:13:09.353Z"
   },
   {
    "duration": 7,
    "start_time": "2022-02-16T19:13:10.761Z"
   },
   {
    "duration": 9,
    "start_time": "2022-02-16T19:17:35.330Z"
   },
   {
    "duration": 6,
    "start_time": "2022-02-16T19:17:57.487Z"
   },
   {
    "duration": 10,
    "start_time": "2022-02-16T19:17:58.171Z"
   },
   {
    "duration": 6,
    "start_time": "2022-02-16T19:18:12.922Z"
   },
   {
    "duration": 9,
    "start_time": "2022-02-16T19:18:14.522Z"
   },
   {
    "duration": 6,
    "start_time": "2022-02-16T19:18:29.371Z"
   },
   {
    "duration": 10,
    "start_time": "2022-02-16T19:18:29.844Z"
   },
   {
    "duration": 17,
    "start_time": "2022-02-16T19:18:31.124Z"
   },
   {
    "duration": 17,
    "start_time": "2022-02-16T19:18:31.836Z"
   },
   {
    "duration": 10,
    "start_time": "2022-02-16T19:20:18.425Z"
   },
   {
    "duration": 9,
    "start_time": "2022-02-16T19:20:28.842Z"
   },
   {
    "duration": 15,
    "start_time": "2022-02-16T19:20:30.314Z"
   },
   {
    "duration": 17,
    "start_time": "2022-02-16T19:20:32.812Z"
   },
   {
    "duration": 315,
    "start_time": "2022-02-16T19:21:16.379Z"
   },
   {
    "duration": 16,
    "start_time": "2022-02-16T19:21:16.698Z"
   },
   {
    "duration": 16,
    "start_time": "2022-02-16T19:21:26.586Z"
   },
   {
    "duration": 17,
    "start_time": "2022-02-16T19:21:27.288Z"
   },
   {
    "duration": 17,
    "start_time": "2022-02-16T19:24:02.315Z"
   },
   {
    "duration": 25,
    "start_time": "2022-02-16T19:24:03.739Z"
   },
   {
    "duration": 6,
    "start_time": "2022-02-16T19:36:58.987Z"
   },
   {
    "duration": 9,
    "start_time": "2022-02-16T19:36:59.450Z"
   },
   {
    "duration": 105,
    "start_time": "2022-02-16T19:37:01.037Z"
   },
   {
    "duration": 10,
    "start_time": "2022-02-16T19:38:22.940Z"
   },
   {
    "duration": 11,
    "start_time": "2022-02-16T19:38:23.514Z"
   },
   {
    "duration": 17,
    "start_time": "2022-02-16T19:38:25.278Z"
   },
   {
    "duration": 7,
    "start_time": "2022-02-16T19:38:26.363Z"
   },
   {
    "duration": 18,
    "start_time": "2022-02-16T19:38:29.342Z"
   },
   {
    "duration": 13,
    "start_time": "2022-02-16T19:39:24.092Z"
   },
   {
    "duration": 12,
    "start_time": "2022-02-16T19:40:23.740Z"
   },
   {
    "duration": 28,
    "start_time": "2022-02-16T19:40:32.652Z"
   },
   {
    "duration": 16,
    "start_time": "2022-02-16T19:40:49.563Z"
   },
   {
    "duration": 6,
    "start_time": "2022-02-16T19:42:13.964Z"
   },
   {
    "duration": 9,
    "start_time": "2022-02-16T19:42:14.618Z"
   },
   {
    "duration": 18,
    "start_time": "2022-02-16T19:42:15.516Z"
   },
   {
    "duration": 7,
    "start_time": "2022-02-16T19:42:16.284Z"
   },
   {
    "duration": 23,
    "start_time": "2022-02-16T19:42:56.235Z"
   },
   {
    "duration": 19,
    "start_time": "2022-02-16T19:43:11.741Z"
   },
   {
    "duration": 6,
    "start_time": "2022-02-16T19:44:05.021Z"
   },
   {
    "duration": 10,
    "start_time": "2022-02-16T19:44:05.659Z"
   },
   {
    "duration": 18,
    "start_time": "2022-02-16T19:44:06.426Z"
   },
   {
    "duration": 7,
    "start_time": "2022-02-16T19:44:08.083Z"
   },
   {
    "duration": 18,
    "start_time": "2022-02-16T19:44:09.755Z"
   },
   {
    "duration": 328,
    "start_time": "2022-02-16T19:44:20.876Z"
   },
   {
    "duration": 19,
    "start_time": "2022-02-16T19:44:49.311Z"
   },
   {
    "duration": 26,
    "start_time": "2022-02-16T19:44:55.132Z"
   },
   {
    "duration": 7,
    "start_time": "2022-02-16T19:44:55.691Z"
   },
   {
    "duration": 16,
    "start_time": "2022-02-16T19:44:56.396Z"
   },
   {
    "duration": 307,
    "start_time": "2022-02-16T19:45:20.619Z"
   },
   {
    "duration": 362,
    "start_time": "2022-02-16T19:45:29.724Z"
   },
   {
    "duration": 9,
    "start_time": "2022-02-16T19:45:32.508Z"
   },
   {
    "duration": 318,
    "start_time": "2022-02-16T19:45:33.035Z"
   },
   {
    "duration": 8,
    "start_time": "2022-02-16T19:45:33.900Z"
   },
   {
    "duration": 27,
    "start_time": "2022-02-16T19:45:40.331Z"
   },
   {
    "duration": 8,
    "start_time": "2022-02-16T19:45:40.972Z"
   },
   {
    "duration": 26,
    "start_time": "2022-02-16T19:45:42.029Z"
   },
   {
    "duration": 311,
    "start_time": "2022-02-16T19:45:55.483Z"
   },
   {
    "duration": 22,
    "start_time": "2022-02-16T19:46:00.124Z"
   },
   {
    "duration": 7,
    "start_time": "2022-02-16T19:46:00.797Z"
   },
   {
    "duration": 17,
    "start_time": "2022-02-16T19:46:01.916Z"
   },
   {
    "duration": 18,
    "start_time": "2022-02-16T19:48:00.877Z"
   },
   {
    "duration": 18,
    "start_time": "2022-02-16T19:48:45.020Z"
   },
   {
    "duration": 14,
    "start_time": "2022-02-16T19:48:56.990Z"
   },
   {
    "duration": 15,
    "start_time": "2022-02-16T19:49:04.299Z"
   },
   {
    "duration": 15,
    "start_time": "2022-02-16T19:49:10.290Z"
   },
   {
    "duration": 16,
    "start_time": "2022-02-16T19:49:14.716Z"
   },
   {
    "duration": 9,
    "start_time": "2022-02-16T19:49:48.573Z"
   },
   {
    "duration": 12,
    "start_time": "2022-02-16T19:49:54.076Z"
   },
   {
    "duration": 13,
    "start_time": "2022-02-16T19:49:57.290Z"
   },
   {
    "duration": 14,
    "start_time": "2022-02-16T19:50:03.788Z"
   },
   {
    "duration": 13,
    "start_time": "2022-02-16T19:50:07.963Z"
   },
   {
    "duration": 18,
    "start_time": "2022-02-16T19:50:13.022Z"
   },
   {
    "duration": 7,
    "start_time": "2022-02-16T19:50:59.788Z"
   },
   {
    "duration": 14,
    "start_time": "2022-02-16T19:51:26.689Z"
   },
   {
    "duration": 12,
    "start_time": "2022-02-16T19:51:37.372Z"
   },
   {
    "duration": 13,
    "start_time": "2022-02-16T19:51:44.444Z"
   },
   {
    "duration": 17,
    "start_time": "2022-02-16T19:51:49.341Z"
   },
   {
    "duration": 12,
    "start_time": "2022-02-16T19:51:54.620Z"
   },
   {
    "duration": 16,
    "start_time": "2022-02-16T19:51:58.284Z"
   },
   {
    "duration": 287,
    "start_time": "2022-02-16T20:08:24.735Z"
   },
   {
    "duration": 14,
    "start_time": "2022-02-16T20:08:25.869Z"
   },
   {
    "duration": 299,
    "start_time": "2022-02-16T20:08:40.109Z"
   },
   {
    "duration": 307,
    "start_time": "2022-02-16T20:08:44.989Z"
   },
   {
    "duration": 18,
    "start_time": "2022-02-16T20:09:06.349Z"
   },
   {
    "duration": 11,
    "start_time": "2022-02-16T20:09:08.173Z"
   },
   {
    "duration": 7,
    "start_time": "2022-02-16T20:09:25.517Z"
   },
   {
    "duration": 13,
    "start_time": "2022-02-16T20:09:26.204Z"
   },
   {
    "duration": 18,
    "start_time": "2022-02-16T20:09:32.334Z"
   },
   {
    "duration": 15,
    "start_time": "2022-02-16T20:09:33.344Z"
   },
   {
    "duration": 11,
    "start_time": "2022-02-16T20:10:14.862Z"
   },
   {
    "duration": 13,
    "start_time": "2022-02-16T20:10:17.057Z"
   },
   {
    "duration": 365,
    "start_time": "2022-02-16T20:10:23.149Z"
   },
   {
    "duration": 20,
    "start_time": "2022-02-16T20:10:24.335Z"
   },
   {
    "duration": 2,
    "start_time": "2022-02-16T20:10:29.115Z"
   },
   {
    "duration": 54,
    "start_time": "2022-02-16T20:10:29.119Z"
   },
   {
    "duration": 19,
    "start_time": "2022-02-16T20:10:29.175Z"
   },
   {
    "duration": 12,
    "start_time": "2022-02-16T20:10:29.196Z"
   },
   {
    "duration": 7,
    "start_time": "2022-02-16T20:10:29.209Z"
   },
   {
    "duration": 6,
    "start_time": "2022-02-16T20:10:29.217Z"
   },
   {
    "duration": 5,
    "start_time": "2022-02-16T20:10:29.224Z"
   },
   {
    "duration": 3,
    "start_time": "2022-02-16T20:10:29.231Z"
   },
   {
    "duration": 131,
    "start_time": "2022-02-16T20:10:29.236Z"
   },
   {
    "duration": 6,
    "start_time": "2022-02-16T20:10:29.369Z"
   },
   {
    "duration": 23,
    "start_time": "2022-02-16T20:10:29.376Z"
   },
   {
    "duration": 105,
    "start_time": "2022-02-16T20:10:29.401Z"
   },
   {
    "duration": 23,
    "start_time": "2022-02-16T20:10:29.509Z"
   },
   {
    "duration": 120,
    "start_time": "2022-02-16T20:10:29.534Z"
   },
   {
    "duration": 7,
    "start_time": "2022-02-16T20:10:29.656Z"
   },
   {
    "duration": 22,
    "start_time": "2022-02-16T20:10:29.665Z"
   },
   {
    "duration": 58,
    "start_time": "2022-02-16T20:10:29.688Z"
   },
   {
    "duration": 13,
    "start_time": "2022-02-16T20:10:29.747Z"
   },
   {
    "duration": 88,
    "start_time": "2022-02-16T20:10:29.762Z"
   },
   {
    "duration": 9,
    "start_time": "2022-02-16T20:10:29.852Z"
   },
   {
    "duration": 21,
    "start_time": "2022-02-16T20:10:29.863Z"
   },
   {
    "duration": 67,
    "start_time": "2022-02-16T20:10:29.885Z"
   },
   {
    "duration": 16,
    "start_time": "2022-02-16T20:10:29.956Z"
   },
   {
    "duration": 10,
    "start_time": "2022-02-16T20:10:29.975Z"
   },
   {
    "duration": 4,
    "start_time": "2022-02-16T20:10:29.987Z"
   },
   {
    "duration": 77,
    "start_time": "2022-02-16T20:10:29.993Z"
   },
   {
    "duration": 6,
    "start_time": "2022-02-16T20:10:30.074Z"
   },
   {
    "duration": 5,
    "start_time": "2022-02-16T20:10:30.082Z"
   },
   {
    "duration": 21,
    "start_time": "2022-02-16T20:10:30.089Z"
   },
   {
    "duration": 58,
    "start_time": "2022-02-16T20:10:30.112Z"
   },
   {
    "duration": 15,
    "start_time": "2022-02-16T20:10:30.172Z"
   },
   {
    "duration": 51,
    "start_time": "2022-02-16T20:10:30.189Z"
   },
   {
    "duration": 12,
    "start_time": "2022-02-16T20:10:30.242Z"
   },
   {
    "duration": 48,
    "start_time": "2022-02-16T20:10:30.256Z"
   },
   {
    "duration": 6,
    "start_time": "2022-02-16T20:10:30.306Z"
   },
   {
    "duration": 27,
    "start_time": "2022-02-16T20:10:30.314Z"
   },
   {
    "duration": 30,
    "start_time": "2022-02-16T20:10:30.343Z"
   },
   {
    "duration": 26,
    "start_time": "2022-02-16T20:10:30.374Z"
   },
   {
    "duration": 16,
    "start_time": "2022-02-16T20:10:30.402Z"
   },
   {
    "duration": 38,
    "start_time": "2022-02-16T20:10:30.420Z"
   },
   {
    "duration": 22,
    "start_time": "2022-02-16T20:10:30.459Z"
   },
   {
    "duration": 47,
    "start_time": "2022-02-16T20:10:30.483Z"
   },
   {
    "duration": 33,
    "start_time": "2022-02-16T20:10:30.531Z"
   },
   {
    "duration": 27,
    "start_time": "2022-02-16T20:10:30.566Z"
   },
   {
    "duration": 32,
    "start_time": "2022-02-16T20:10:30.595Z"
   },
   {
    "duration": 18,
    "start_time": "2022-02-16T20:10:30.629Z"
   },
   {
    "duration": 29,
    "start_time": "2022-02-16T20:10:30.649Z"
   },
   {
    "duration": 39,
    "start_time": "2022-02-16T20:10:30.679Z"
   },
   {
    "duration": 9,
    "start_time": "2022-02-16T20:10:30.719Z"
   },
   {
    "duration": 34,
    "start_time": "2022-02-16T20:10:30.729Z"
   },
   {
    "duration": 26,
    "start_time": "2022-02-16T20:10:30.765Z"
   },
   {
    "duration": 11,
    "start_time": "2022-02-16T20:10:49.310Z"
   },
   {
    "duration": 11,
    "start_time": "2022-02-16T20:11:03.071Z"
   },
   {
    "duration": 15,
    "start_time": "2022-02-16T20:11:08.717Z"
   },
   {
    "duration": 11,
    "start_time": "2022-02-16T20:11:13.581Z"
   },
   {
    "duration": 12,
    "start_time": "2022-02-16T20:11:16.573Z"
   },
   {
    "duration": 14,
    "start_time": "2022-02-16T20:11:21.773Z"
   },
   {
    "duration": 12,
    "start_time": "2022-02-16T20:13:51.023Z"
   },
   {
    "duration": 302,
    "start_time": "2022-02-16T20:13:55.680Z"
   },
   {
    "duration": 9,
    "start_time": "2022-02-16T20:14:01.431Z"
   },
   {
    "duration": 12,
    "start_time": "2022-02-16T20:14:01.997Z"
   },
   {
    "duration": 296,
    "start_time": "2022-02-16T20:14:02.717Z"
   },
   {
    "duration": 3,
    "start_time": "2022-02-16T20:14:05.586Z"
   },
   {
    "duration": 30,
    "start_time": "2022-02-16T20:14:05.591Z"
   },
   {
    "duration": 10,
    "start_time": "2022-02-16T20:14:05.622Z"
   },
   {
    "duration": 9,
    "start_time": "2022-02-16T20:14:05.634Z"
   },
   {
    "duration": 8,
    "start_time": "2022-02-16T20:14:05.645Z"
   },
   {
    "duration": 7,
    "start_time": "2022-02-16T20:14:05.657Z"
   },
   {
    "duration": 5,
    "start_time": "2022-02-16T20:14:05.666Z"
   },
   {
    "duration": 8,
    "start_time": "2022-02-16T20:14:05.673Z"
   },
   {
    "duration": 185,
    "start_time": "2022-02-16T20:14:05.683Z"
   },
   {
    "duration": 7,
    "start_time": "2022-02-16T20:14:05.869Z"
   },
   {
    "duration": 21,
    "start_time": "2022-02-16T20:14:05.877Z"
   },
   {
    "duration": 117,
    "start_time": "2022-02-16T20:14:05.900Z"
   },
   {
    "duration": 23,
    "start_time": "2022-02-16T20:14:06.019Z"
   },
   {
    "duration": 125,
    "start_time": "2022-02-16T20:14:06.044Z"
   },
   {
    "duration": 7,
    "start_time": "2022-02-16T20:14:06.171Z"
   },
   {
    "duration": 16,
    "start_time": "2022-02-16T20:14:06.180Z"
   },
   {
    "duration": 69,
    "start_time": "2022-02-16T20:14:06.197Z"
   },
   {
    "duration": 13,
    "start_time": "2022-02-16T20:14:06.268Z"
   },
   {
    "duration": 106,
    "start_time": "2022-02-16T20:14:06.282Z"
   },
   {
    "duration": 8,
    "start_time": "2022-02-16T20:14:06.390Z"
   },
   {
    "duration": 33,
    "start_time": "2022-02-16T20:14:06.399Z"
   },
   {
    "duration": 48,
    "start_time": "2022-02-16T20:14:06.437Z"
   },
   {
    "duration": 15,
    "start_time": "2022-02-16T20:14:06.487Z"
   },
   {
    "duration": 9,
    "start_time": "2022-02-16T20:14:06.504Z"
   },
   {
    "duration": 5,
    "start_time": "2022-02-16T20:14:06.514Z"
   },
   {
    "duration": 67,
    "start_time": "2022-02-16T20:14:06.532Z"
   },
   {
    "duration": 4,
    "start_time": "2022-02-16T20:14:06.601Z"
   },
   {
    "duration": 4,
    "start_time": "2022-02-16T20:14:06.607Z"
   },
   {
    "duration": 33,
    "start_time": "2022-02-16T20:14:06.612Z"
   },
   {
    "duration": 33,
    "start_time": "2022-02-16T20:14:06.648Z"
   },
   {
    "duration": 8,
    "start_time": "2022-02-16T20:14:06.683Z"
   },
   {
    "duration": 52,
    "start_time": "2022-02-16T20:14:06.693Z"
   },
   {
    "duration": 8,
    "start_time": "2022-02-16T20:14:06.746Z"
   },
   {
    "duration": 26,
    "start_time": "2022-02-16T20:14:06.756Z"
   },
   {
    "duration": 5,
    "start_time": "2022-02-16T20:14:06.783Z"
   },
   {
    "duration": 22,
    "start_time": "2022-02-16T20:14:06.790Z"
   },
   {
    "duration": 28,
    "start_time": "2022-02-16T20:14:06.813Z"
   },
   {
    "duration": 21,
    "start_time": "2022-02-16T20:14:06.844Z"
   },
   {
    "duration": 13,
    "start_time": "2022-02-16T20:14:06.867Z"
   },
   {
    "duration": 20,
    "start_time": "2022-02-16T20:14:06.882Z"
   },
   {
    "duration": 14,
    "start_time": "2022-02-16T20:14:06.904Z"
   },
   {
    "duration": 32,
    "start_time": "2022-02-16T20:14:06.920Z"
   },
   {
    "duration": 13,
    "start_time": "2022-02-16T20:14:06.954Z"
   },
   {
    "duration": 24,
    "start_time": "2022-02-16T20:14:06.968Z"
   },
   {
    "duration": 13,
    "start_time": "2022-02-16T20:14:06.994Z"
   },
   {
    "duration": 20,
    "start_time": "2022-02-16T20:14:07.008Z"
   },
   {
    "duration": 19,
    "start_time": "2022-02-16T20:14:07.030Z"
   },
   {
    "duration": 19,
    "start_time": "2022-02-16T20:14:07.050Z"
   },
   {
    "duration": 9,
    "start_time": "2022-02-16T20:14:07.070Z"
   },
   {
    "duration": 22,
    "start_time": "2022-02-16T20:14:07.080Z"
   },
   {
    "duration": 24,
    "start_time": "2022-02-16T20:14:07.104Z"
   },
   {
    "duration": 306,
    "start_time": "2022-02-17T08:14:35.428Z"
   },
   {
    "duration": 1397,
    "start_time": "2022-02-17T08:14:40.009Z"
   },
   {
    "duration": 26,
    "start_time": "2022-02-17T08:14:41.409Z"
   },
   {
    "duration": 25,
    "start_time": "2022-02-17T08:14:41.438Z"
   },
   {
    "duration": 11,
    "start_time": "2022-02-17T08:14:41.466Z"
   },
   {
    "duration": 12,
    "start_time": "2022-02-17T08:14:41.480Z"
   },
   {
    "duration": 42,
    "start_time": "2022-02-17T08:14:41.495Z"
   },
   {
    "duration": 11,
    "start_time": "2022-02-17T08:14:41.540Z"
   },
   {
    "duration": 10,
    "start_time": "2022-02-17T08:14:41.556Z"
   },
   {
    "duration": 216,
    "start_time": "2022-02-17T08:14:41.569Z"
   },
   {
    "duration": 12,
    "start_time": "2022-02-17T08:14:41.787Z"
   },
   {
    "duration": 51,
    "start_time": "2022-02-17T08:14:41.802Z"
   },
   {
    "duration": 144,
    "start_time": "2022-02-17T08:14:41.856Z"
   },
   {
    "duration": 31,
    "start_time": "2022-02-17T08:14:42.002Z"
   },
   {
    "duration": 170,
    "start_time": "2022-02-17T08:14:42.035Z"
   },
   {
    "duration": 10,
    "start_time": "2022-02-17T08:14:42.208Z"
   },
   {
    "duration": 33,
    "start_time": "2022-02-17T08:14:42.220Z"
   },
   {
    "duration": 114,
    "start_time": "2022-02-17T08:14:42.255Z"
   },
   {
    "duration": 16,
    "start_time": "2022-02-17T08:14:42.371Z"
   },
   {
    "duration": 114,
    "start_time": "2022-02-17T08:14:42.389Z"
   },
   {
    "duration": 9,
    "start_time": "2022-02-17T08:14:42.505Z"
   },
   {
    "duration": 28,
    "start_time": "2022-02-17T08:14:42.516Z"
   },
   {
    "duration": 51,
    "start_time": "2022-02-17T08:14:42.547Z"
   },
   {
    "duration": 29,
    "start_time": "2022-02-17T08:14:42.604Z"
   },
   {
    "duration": 16,
    "start_time": "2022-02-17T08:14:42.637Z"
   },
   {
    "duration": 5,
    "start_time": "2022-02-17T08:14:42.655Z"
   },
   {
    "duration": 111,
    "start_time": "2022-02-17T08:14:42.662Z"
   },
   {
    "duration": 8,
    "start_time": "2022-02-17T08:14:42.775Z"
   },
   {
    "duration": 7,
    "start_time": "2022-02-17T08:14:42.786Z"
   },
   {
    "duration": 47,
    "start_time": "2022-02-17T08:14:42.795Z"
   },
   {
    "duration": 52,
    "start_time": "2022-02-17T08:14:42.845Z"
   },
   {
    "duration": 15,
    "start_time": "2022-02-17T08:14:42.899Z"
   },
   {
    "duration": 44,
    "start_time": "2022-02-17T08:14:42.933Z"
   },
   {
    "duration": 12,
    "start_time": "2022-02-17T08:14:42.979Z"
   },
   {
    "duration": 65,
    "start_time": "2022-02-17T08:14:42.993Z"
   },
   {
    "duration": 9,
    "start_time": "2022-02-17T08:14:43.061Z"
   },
   {
    "duration": 5,
    "start_time": "2022-02-17T08:14:43.073Z"
   },
   {
    "duration": 13,
    "start_time": "2022-02-17T08:14:43.080Z"
   },
   {
    "duration": 48,
    "start_time": "2022-02-17T08:14:43.095Z"
   },
   {
    "duration": 11,
    "start_time": "2022-02-17T08:14:43.146Z"
   },
   {
    "duration": 5,
    "start_time": "2022-02-17T08:14:43.160Z"
   },
   {
    "duration": 12,
    "start_time": "2022-02-17T08:14:43.167Z"
   },
   {
    "duration": 22,
    "start_time": "2022-02-17T08:14:43.182Z"
   },
   {
    "duration": 5,
    "start_time": "2022-02-17T08:14:43.233Z"
   },
   {
    "duration": 8,
    "start_time": "2022-02-17T08:14:43.241Z"
   },
   {
    "duration": 12,
    "start_time": "2022-02-17T08:14:43.251Z"
   },
   {
    "duration": 8,
    "start_time": "2022-02-17T08:14:43.265Z"
   },
   {
    "duration": 17,
    "start_time": "2022-02-17T08:14:43.275Z"
   },
   {
    "duration": 64,
    "start_time": "2022-02-17T08:14:43.294Z"
   },
   {
    "duration": 10,
    "start_time": "2022-02-17T08:14:43.361Z"
   },
   {
    "duration": 6,
    "start_time": "2022-02-17T08:14:43.373Z"
   },
   {
    "duration": 53,
    "start_time": "2022-02-17T08:14:43.381Z"
   },
   {
    "duration": 28,
    "start_time": "2022-02-17T08:14:43.436Z"
   },
   {
    "duration": 84,
    "start_time": "2022-02-17T08:14:43.466Z"
   },
   {
    "duration": 11,
    "start_time": "2022-02-17T08:15:08.970Z"
   },
   {
    "duration": 7,
    "start_time": "2022-02-17T08:15:50.444Z"
   },
   {
    "duration": 21,
    "start_time": "2022-02-17T08:15:50.923Z"
   },
   {
    "duration": 323,
    "start_time": "2022-02-17T08:15:52.925Z"
   },
   {
    "duration": 5,
    "start_time": "2022-02-17T08:16:09.800Z"
   },
   {
    "duration": 24,
    "start_time": "2022-02-17T08:16:09.807Z"
   },
   {
    "duration": 15,
    "start_time": "2022-02-17T08:16:09.834Z"
   },
   {
    "duration": 28,
    "start_time": "2022-02-17T08:16:09.851Z"
   },
   {
    "duration": 12,
    "start_time": "2022-02-17T08:16:09.883Z"
   },
   {
    "duration": 44,
    "start_time": "2022-02-17T08:16:09.897Z"
   },
   {
    "duration": 7,
    "start_time": "2022-02-17T08:16:09.944Z"
   },
   {
    "duration": 9,
    "start_time": "2022-02-17T08:16:09.954Z"
   },
   {
    "duration": 232,
    "start_time": "2022-02-17T08:16:09.965Z"
   },
   {
    "duration": 13,
    "start_time": "2022-02-17T08:16:10.199Z"
   },
   {
    "duration": 43,
    "start_time": "2022-02-17T08:16:10.215Z"
   },
   {
    "duration": 146,
    "start_time": "2022-02-17T08:16:10.260Z"
   },
   {
    "duration": 33,
    "start_time": "2022-02-17T08:16:10.408Z"
   },
   {
    "duration": 176,
    "start_time": "2022-02-17T08:16:10.443Z"
   },
   {
    "duration": 16,
    "start_time": "2022-02-17T08:16:10.622Z"
   },
   {
    "duration": 29,
    "start_time": "2022-02-17T08:16:10.641Z"
   },
   {
    "duration": 110,
    "start_time": "2022-02-17T08:16:10.672Z"
   },
   {
    "duration": 18,
    "start_time": "2022-02-17T08:16:10.784Z"
   },
   {
    "duration": 128,
    "start_time": "2022-02-17T08:16:10.808Z"
   },
   {
    "duration": 17,
    "start_time": "2022-02-17T08:16:10.940Z"
   },
   {
    "duration": 31,
    "start_time": "2022-02-17T08:16:10.959Z"
   },
   {
    "duration": 87,
    "start_time": "2022-02-17T08:16:10.993Z"
   },
   {
    "duration": 14,
    "start_time": "2022-02-17T08:16:11.082Z"
   },
   {
    "duration": 18,
    "start_time": "2022-02-17T08:16:11.099Z"
   },
   {
    "duration": 5,
    "start_time": "2022-02-17T08:16:11.131Z"
   },
   {
    "duration": 111,
    "start_time": "2022-02-17T08:16:11.138Z"
   },
   {
    "duration": 7,
    "start_time": "2022-02-17T08:16:11.252Z"
   },
   {
    "duration": 11,
    "start_time": "2022-02-17T08:16:11.261Z"
   },
   {
    "duration": 16,
    "start_time": "2022-02-17T08:16:11.274Z"
   },
   {
    "duration": 77,
    "start_time": "2022-02-17T08:16:11.292Z"
   },
   {
    "duration": 17,
    "start_time": "2022-02-17T08:16:11.372Z"
   },
   {
    "duration": 66,
    "start_time": "2022-02-17T08:16:11.391Z"
   },
   {
    "duration": 14,
    "start_time": "2022-02-17T08:16:11.460Z"
   },
   {
    "duration": 33,
    "start_time": "2022-02-17T08:16:11.476Z"
   },
   {
    "duration": 25,
    "start_time": "2022-02-17T08:16:11.512Z"
   },
   {
    "duration": 4,
    "start_time": "2022-02-17T08:16:11.540Z"
   },
   {
    "duration": 13,
    "start_time": "2022-02-17T08:16:11.548Z"
   },
   {
    "duration": 22,
    "start_time": "2022-02-17T08:16:11.564Z"
   },
   {
    "duration": 43,
    "start_time": "2022-02-17T08:16:11.589Z"
   },
   {
    "duration": 7,
    "start_time": "2022-02-17T08:16:11.635Z"
   },
   {
    "duration": 22,
    "start_time": "2022-02-17T08:16:11.644Z"
   },
   {
    "duration": 31,
    "start_time": "2022-02-17T08:16:11.668Z"
   },
   {
    "duration": 4,
    "start_time": "2022-02-17T08:16:11.701Z"
   },
   {
    "duration": 28,
    "start_time": "2022-02-17T08:16:11.707Z"
   },
   {
    "duration": 14,
    "start_time": "2022-02-17T08:16:11.737Z"
   },
   {
    "duration": 12,
    "start_time": "2022-02-17T08:16:11.754Z"
   },
   {
    "duration": 25,
    "start_time": "2022-02-17T08:16:11.769Z"
   },
   {
    "duration": 46,
    "start_time": "2022-02-17T08:16:11.796Z"
   },
   {
    "duration": 12,
    "start_time": "2022-02-17T08:16:11.844Z"
   },
   {
    "duration": 6,
    "start_time": "2022-02-17T08:16:11.858Z"
   },
   {
    "duration": 23,
    "start_time": "2022-02-17T08:16:11.866Z"
   },
   {
    "duration": 58,
    "start_time": "2022-02-17T08:16:11.891Z"
   },
   {
    "duration": 87,
    "start_time": "2022-02-17T08:16:11.953Z"
   },
   {
    "duration": 96,
    "start_time": "2022-02-17T08:36:04.602Z"
   },
   {
    "duration": 114,
    "start_time": "2022-02-17T08:36:18.877Z"
   },
   {
    "duration": 7,
    "start_time": "2022-02-17T08:36:26.856Z"
   },
   {
    "duration": 7,
    "start_time": "2022-02-17T08:37:41.440Z"
   },
   {
    "duration": 385,
    "start_time": "2022-02-17T08:37:51.677Z"
   },
   {
    "duration": 7,
    "start_time": "2022-02-17T08:37:55.721Z"
   },
   {
    "duration": 342,
    "start_time": "2022-02-17T08:37:56.556Z"
   },
   {
    "duration": 22,
    "start_time": "2022-02-17T08:38:45.101Z"
   },
   {
    "duration": 22,
    "start_time": "2022-02-17T08:39:40.302Z"
   },
   {
    "duration": 6,
    "start_time": "2022-02-17T08:57:45.079Z"
   },
   {
    "duration": 6,
    "start_time": "2022-02-17T08:57:46.307Z"
   },
   {
    "duration": 12,
    "start_time": "2022-02-17T08:57:46.835Z"
   },
   {
    "duration": 6,
    "start_time": "2022-02-17T09:06:21.190Z"
   },
   {
    "duration": 5,
    "start_time": "2022-02-17T09:06:50.894Z"
   },
   {
    "duration": 31,
    "start_time": "2022-02-17T09:06:50.902Z"
   },
   {
    "duration": 15,
    "start_time": "2022-02-17T09:06:50.936Z"
   },
   {
    "duration": 12,
    "start_time": "2022-02-17T09:06:50.953Z"
   },
   {
    "duration": 14,
    "start_time": "2022-02-17T09:06:50.967Z"
   },
   {
    "duration": 54,
    "start_time": "2022-02-17T09:06:50.983Z"
   },
   {
    "duration": 6,
    "start_time": "2022-02-17T09:06:51.040Z"
   },
   {
    "duration": 7,
    "start_time": "2022-02-17T09:06:51.052Z"
   },
   {
    "duration": 234,
    "start_time": "2022-02-17T09:06:51.062Z"
   },
   {
    "duration": 11,
    "start_time": "2022-02-17T09:06:51.298Z"
   },
   {
    "duration": 45,
    "start_time": "2022-02-17T09:06:51.311Z"
   },
   {
    "duration": 129,
    "start_time": "2022-02-17T09:06:51.358Z"
   },
   {
    "duration": 19,
    "start_time": "2022-02-17T09:06:51.490Z"
   },
   {
    "duration": 177,
    "start_time": "2022-02-17T09:06:51.512Z"
   },
   {
    "duration": 12,
    "start_time": "2022-02-17T09:06:51.691Z"
   },
   {
    "duration": 40,
    "start_time": "2022-02-17T09:06:51.705Z"
   },
   {
    "duration": 110,
    "start_time": "2022-02-17T09:06:51.747Z"
   },
   {
    "duration": 17,
    "start_time": "2022-02-17T09:06:51.859Z"
   },
   {
    "duration": 125,
    "start_time": "2022-02-17T09:06:51.878Z"
   },
   {
    "duration": 10,
    "start_time": "2022-02-17T09:06:52.005Z"
   },
   {
    "duration": 22,
    "start_time": "2022-02-17T09:06:52.032Z"
   },
   {
    "duration": 52,
    "start_time": "2022-02-17T09:06:52.056Z"
   },
   {
    "duration": 29,
    "start_time": "2022-02-17T09:06:52.114Z"
   },
   {
    "duration": 6,
    "start_time": "2022-02-17T09:06:52.147Z"
   },
   {
    "duration": 15,
    "start_time": "2022-02-17T09:06:52.156Z"
   },
   {
    "duration": 7,
    "start_time": "2022-02-17T09:06:52.173Z"
   },
   {
    "duration": 17,
    "start_time": "2022-02-17T09:06:52.183Z"
   },
   {
    "duration": 120,
    "start_time": "2022-02-17T09:06:52.202Z"
   },
   {
    "duration": 5,
    "start_time": "2022-02-17T09:06:52.332Z"
   },
   {
    "duration": 8,
    "start_time": "2022-02-17T09:06:52.339Z"
   },
   {
    "duration": 18,
    "start_time": "2022-02-17T09:06:52.349Z"
   },
   {
    "duration": 80,
    "start_time": "2022-02-17T09:06:52.369Z"
   },
   {
    "duration": 14,
    "start_time": "2022-02-17T09:06:52.452Z"
   },
   {
    "duration": 66,
    "start_time": "2022-02-17T09:06:52.468Z"
   },
   {
    "duration": 14,
    "start_time": "2022-02-17T09:06:52.537Z"
   },
   {
    "duration": 33,
    "start_time": "2022-02-17T09:06:52.553Z"
   },
   {
    "duration": 8,
    "start_time": "2022-02-17T09:06:52.588Z"
   },
   {
    "duration": 36,
    "start_time": "2022-02-17T09:06:52.598Z"
   },
   {
    "duration": 16,
    "start_time": "2022-02-17T09:06:52.636Z"
   },
   {
    "duration": 24,
    "start_time": "2022-02-17T09:06:52.655Z"
   },
   {
    "duration": 6,
    "start_time": "2022-02-17T09:06:52.681Z"
   },
   {
    "duration": 12,
    "start_time": "2022-02-17T09:06:52.689Z"
   },
   {
    "duration": 39,
    "start_time": "2022-02-17T09:06:52.703Z"
   },
   {
    "duration": 25,
    "start_time": "2022-02-17T09:06:52.744Z"
   },
   {
    "duration": 4,
    "start_time": "2022-02-17T09:06:52.772Z"
   },
   {
    "duration": 14,
    "start_time": "2022-02-17T09:06:52.778Z"
   },
   {
    "duration": 42,
    "start_time": "2022-02-17T09:06:52.795Z"
   },
   {
    "duration": 11,
    "start_time": "2022-02-17T09:06:52.839Z"
   },
   {
    "duration": 18,
    "start_time": "2022-02-17T09:06:52.853Z"
   },
   {
    "duration": 31,
    "start_time": "2022-02-17T09:06:52.874Z"
   },
   {
    "duration": 14,
    "start_time": "2022-02-17T09:06:52.933Z"
   },
   {
    "duration": 7,
    "start_time": "2022-02-17T09:06:52.950Z"
   },
   {
    "duration": 29,
    "start_time": "2022-02-17T09:06:52.959Z"
   },
   {
    "duration": 68,
    "start_time": "2022-02-17T09:06:52.991Z"
   },
   {
    "duration": 9,
    "start_time": "2022-02-17T09:06:53.062Z"
   },
   {
    "duration": 7166,
    "start_time": "2022-02-17T09:06:53.073Z"
   },
   {
    "duration": -116,
    "start_time": "2022-02-17T09:07:00.357Z"
   },
   {
    "duration": 5,
    "start_time": "2022-02-17T09:08:12.852Z"
   },
   {
    "duration": 28,
    "start_time": "2022-02-17T09:08:12.861Z"
   },
   {
    "duration": 18,
    "start_time": "2022-02-17T09:08:12.893Z"
   },
   {
    "duration": 12,
    "start_time": "2022-02-17T09:08:12.932Z"
   },
   {
    "duration": 17,
    "start_time": "2022-02-17T09:08:12.946Z"
   },
   {
    "duration": 10,
    "start_time": "2022-02-17T09:08:12.966Z"
   },
   {
    "duration": 14,
    "start_time": "2022-02-17T09:08:12.978Z"
   },
   {
    "duration": 42,
    "start_time": "2022-02-17T09:08:12.994Z"
   },
   {
    "duration": 211,
    "start_time": "2022-02-17T09:08:13.040Z"
   },
   {
    "duration": 11,
    "start_time": "2022-02-17T09:08:13.254Z"
   },
   {
    "duration": 35,
    "start_time": "2022-02-17T09:08:13.268Z"
   },
   {
    "duration": 144,
    "start_time": "2022-02-17T09:08:13.305Z"
   },
   {
    "duration": 19,
    "start_time": "2022-02-17T09:08:13.452Z"
   },
   {
    "duration": 186,
    "start_time": "2022-02-17T09:08:13.473Z"
   },
   {
    "duration": 14,
    "start_time": "2022-02-17T09:08:13.662Z"
   },
   {
    "duration": 27,
    "start_time": "2022-02-17T09:08:13.678Z"
   },
   {
    "duration": 142,
    "start_time": "2022-02-17T09:08:13.707Z"
   },
   {
    "duration": 18,
    "start_time": "2022-02-17T09:08:13.852Z"
   },
   {
    "duration": 121,
    "start_time": "2022-02-17T09:08:13.872Z"
   },
   {
    "duration": 11,
    "start_time": "2022-02-17T09:08:13.995Z"
   },
   {
    "duration": 41,
    "start_time": "2022-02-17T09:08:14.009Z"
   },
   {
    "duration": 56,
    "start_time": "2022-02-17T09:08:14.052Z"
   },
   {
    "duration": 25,
    "start_time": "2022-02-17T09:08:14.110Z"
   },
   {
    "duration": 8,
    "start_time": "2022-02-17T09:08:14.137Z"
   },
   {
    "duration": 16,
    "start_time": "2022-02-17T09:08:14.147Z"
   },
   {
    "duration": 12,
    "start_time": "2022-02-17T09:08:14.165Z"
   },
   {
    "duration": 50,
    "start_time": "2022-02-17T09:08:14.183Z"
   },
   {
    "duration": 106,
    "start_time": "2022-02-17T09:08:14.236Z"
   },
   {
    "duration": 7,
    "start_time": "2022-02-17T09:08:14.345Z"
   },
   {
    "duration": 10,
    "start_time": "2022-02-17T09:08:14.355Z"
   },
   {
    "duration": 18,
    "start_time": "2022-02-17T09:08:14.367Z"
   },
   {
    "duration": 91,
    "start_time": "2022-02-17T09:08:14.388Z"
   },
   {
    "duration": 16,
    "start_time": "2022-02-17T09:08:14.481Z"
   },
   {
    "duration": 66,
    "start_time": "2022-02-17T09:08:14.500Z"
   },
   {
    "duration": 13,
    "start_time": "2022-02-17T09:08:14.568Z"
   },
   {
    "duration": 49,
    "start_time": "2022-02-17T09:08:14.583Z"
   },
   {
    "duration": 8,
    "start_time": "2022-02-17T09:08:14.635Z"
   },
   {
    "duration": 7,
    "start_time": "2022-02-17T09:08:14.646Z"
   },
   {
    "duration": 19,
    "start_time": "2022-02-17T09:08:14.656Z"
   },
   {
    "duration": 29,
    "start_time": "2022-02-17T09:08:14.678Z"
   },
   {
    "duration": 39,
    "start_time": "2022-02-17T09:08:14.710Z"
   },
   {
    "duration": 19,
    "start_time": "2022-02-17T09:08:14.751Z"
   },
   {
    "duration": 16,
    "start_time": "2022-02-17T09:08:14.772Z"
   },
   {
    "duration": 27,
    "start_time": "2022-02-17T09:08:14.790Z"
   },
   {
    "duration": 3,
    "start_time": "2022-02-17T09:08:14.819Z"
   },
   {
    "duration": 8,
    "start_time": "2022-02-17T09:08:14.833Z"
   },
   {
    "duration": 20,
    "start_time": "2022-02-17T09:08:14.844Z"
   },
   {
    "duration": 8,
    "start_time": "2022-02-17T09:08:14.867Z"
   },
   {
    "duration": 17,
    "start_time": "2022-02-17T09:08:14.878Z"
   },
   {
    "duration": 59,
    "start_time": "2022-02-17T09:08:14.898Z"
   },
   {
    "duration": 11,
    "start_time": "2022-02-17T09:08:14.959Z"
   },
   {
    "duration": 6,
    "start_time": "2022-02-17T09:08:14.973Z"
   },
   {
    "duration": 55,
    "start_time": "2022-02-17T09:08:14.981Z"
   },
   {
    "duration": 37,
    "start_time": "2022-02-17T09:08:15.038Z"
   },
   {
    "duration": 14,
    "start_time": "2022-02-17T09:08:15.077Z"
   },
   {
    "duration": 7558,
    "start_time": "2022-02-17T09:08:15.094Z"
   },
   {
    "duration": -79,
    "start_time": "2022-02-17T09:08:22.733Z"
   },
   {
    "duration": 8,
    "start_time": "2022-02-17T09:10:50.118Z"
   },
   {
    "duration": 351,
    "start_time": "2022-02-17T09:10:50.982Z"
   },
   {
    "duration": 22,
    "start_time": "2022-02-17T09:10:52.335Z"
   },
   {
    "duration": 34,
    "start_time": "2022-02-17T09:19:07.101Z"
   },
   {
    "duration": 23,
    "start_time": "2022-02-17T09:19:15.700Z"
   },
   {
    "duration": 126,
    "start_time": "2022-02-17T11:09:05.993Z"
   },
   {
    "duration": 508,
    "start_time": "2022-02-17T11:09:10.872Z"
   },
   {
    "duration": 1649,
    "start_time": "2022-02-17T11:09:21.849Z"
   },
   {
    "duration": 21,
    "start_time": "2022-02-17T11:09:23.501Z"
   },
   {
    "duration": 36,
    "start_time": "2022-02-17T11:09:23.525Z"
   },
   {
    "duration": 20,
    "start_time": "2022-02-17T11:09:23.564Z"
   },
   {
    "duration": 18,
    "start_time": "2022-02-17T11:09:23.586Z"
   },
   {
    "duration": 11,
    "start_time": "2022-02-17T11:09:23.606Z"
   },
   {
    "duration": 21,
    "start_time": "2022-02-17T11:09:23.619Z"
   },
   {
    "duration": 10,
    "start_time": "2022-02-17T11:09:23.648Z"
   },
   {
    "duration": 239,
    "start_time": "2022-02-17T11:09:23.661Z"
   },
   {
    "duration": 10,
    "start_time": "2022-02-17T11:09:23.903Z"
   },
   {
    "duration": 61,
    "start_time": "2022-02-17T11:09:23.916Z"
   },
   {
    "duration": 149,
    "start_time": "2022-02-17T11:09:23.981Z"
   },
   {
    "duration": 35,
    "start_time": "2022-02-17T11:09:24.133Z"
   },
   {
    "duration": 187,
    "start_time": "2022-02-17T11:09:24.171Z"
   },
   {
    "duration": 14,
    "start_time": "2022-02-17T11:09:24.361Z"
   },
   {
    "duration": 42,
    "start_time": "2022-02-17T11:09:24.378Z"
   },
   {
    "duration": 111,
    "start_time": "2022-02-17T11:09:24.422Z"
   },
   {
    "duration": 28,
    "start_time": "2022-02-17T11:09:24.536Z"
   },
   {
    "duration": 121,
    "start_time": "2022-02-17T11:09:24.566Z"
   },
   {
    "duration": 10,
    "start_time": "2022-02-17T11:09:24.690Z"
   },
   {
    "duration": 22,
    "start_time": "2022-02-17T11:09:24.703Z"
   },
   {
    "duration": 79,
    "start_time": "2022-02-17T11:09:24.728Z"
   },
   {
    "duration": 14,
    "start_time": "2022-02-17T11:09:24.813Z"
   },
   {
    "duration": 26,
    "start_time": "2022-02-17T11:09:24.830Z"
   },
   {
    "duration": 33,
    "start_time": "2022-02-17T11:09:24.859Z"
   },
   {
    "duration": 17,
    "start_time": "2022-02-17T11:09:24.894Z"
   },
   {
    "duration": 32,
    "start_time": "2022-02-17T11:09:24.913Z"
   },
   {
    "duration": 115,
    "start_time": "2022-02-17T11:09:24.948Z"
   },
   {
    "duration": 6,
    "start_time": "2022-02-17T11:09:25.067Z"
   },
   {
    "duration": 23,
    "start_time": "2022-02-17T11:09:25.076Z"
   },
   {
    "duration": 38,
    "start_time": "2022-02-17T11:09:25.102Z"
   },
   {
    "duration": 81,
    "start_time": "2022-02-17T11:09:25.142Z"
   },
   {
    "duration": 14,
    "start_time": "2022-02-17T11:09:25.226Z"
   },
   {
    "duration": 48,
    "start_time": "2022-02-17T11:09:25.242Z"
   },
   {
    "duration": 12,
    "start_time": "2022-02-17T11:09:25.293Z"
   },
   {
    "duration": 55,
    "start_time": "2022-02-17T11:09:25.307Z"
   },
   {
    "duration": 9,
    "start_time": "2022-02-17T11:09:25.365Z"
   },
   {
    "duration": 12,
    "start_time": "2022-02-17T11:09:25.376Z"
   },
   {
    "duration": 15,
    "start_time": "2022-02-17T11:09:25.391Z"
   },
   {
    "duration": 43,
    "start_time": "2022-02-17T11:09:25.408Z"
   },
   {
    "duration": 8,
    "start_time": "2022-02-17T11:09:25.454Z"
   },
   {
    "duration": 28,
    "start_time": "2022-02-17T11:09:25.465Z"
   },
   {
    "duration": 11,
    "start_time": "2022-02-17T11:09:25.495Z"
   },
   {
    "duration": 25,
    "start_time": "2022-02-17T11:09:25.508Z"
   },
   {
    "duration": 15,
    "start_time": "2022-02-17T11:09:25.535Z"
   },
   {
    "duration": 11,
    "start_time": "2022-02-17T11:09:25.552Z"
   },
   {
    "duration": 17,
    "start_time": "2022-02-17T11:09:25.566Z"
   },
   {
    "duration": 13,
    "start_time": "2022-02-17T11:09:25.585Z"
   },
   {
    "duration": 20,
    "start_time": "2022-02-17T11:09:25.600Z"
   },
   {
    "duration": 59,
    "start_time": "2022-02-17T11:09:25.622Z"
   },
   {
    "duration": 12,
    "start_time": "2022-02-17T11:09:25.684Z"
   },
   {
    "duration": 6,
    "start_time": "2022-02-17T11:09:25.698Z"
   },
   {
    "duration": 58,
    "start_time": "2022-02-17T11:09:25.707Z"
   },
   {
    "duration": 36,
    "start_time": "2022-02-17T11:09:25.767Z"
   },
   {
    "duration": 7,
    "start_time": "2022-02-17T11:09:25.806Z"
   },
   {
    "duration": 408,
    "start_time": "2022-02-17T11:09:25.815Z"
   },
   {
    "duration": 41,
    "start_time": "2022-02-17T11:09:26.226Z"
   },
   {
    "duration": 2040,
    "start_time": "2022-02-17T11:09:26.269Z"
   },
   {
    "duration": 367,
    "start_time": "2022-02-17T11:12:17.681Z"
   },
   {
    "duration": 314,
    "start_time": "2022-02-17T11:12:26.111Z"
   },
   {
    "duration": 1973,
    "start_time": "2022-02-17T11:12:48.349Z"
   },
   {
    "duration": 100,
    "start_time": "2022-02-17T11:13:25.119Z"
   },
   {
    "duration": 115,
    "start_time": "2022-02-17T11:13:32.911Z"
   },
   {
    "duration": 111,
    "start_time": "2022-02-17T11:13:38.141Z"
   },
   {
    "duration": 1853,
    "start_time": "2022-02-17T11:13:44.955Z"
   },
   {
    "duration": 302,
    "start_time": "2022-02-17T11:21:06.352Z"
   },
   {
    "duration": 445,
    "start_time": "2022-02-17T11:22:06.728Z"
   },
   {
    "duration": 560,
    "start_time": "2022-02-17T11:29:26.201Z"
   },
   {
    "duration": 2655,
    "start_time": "2022-02-17T11:30:00.512Z"
   },
   {
    "duration": 344,
    "start_time": "2022-02-17T11:30:16.432Z"
   },
   {
    "duration": 463,
    "start_time": "2022-02-17T11:30:29.491Z"
   },
   {
    "duration": 3403,
    "start_time": "2022-02-17T11:31:39.528Z"
   },
   {
    "duration": 360,
    "start_time": "2022-02-17T11:43:42.315Z"
   },
   {
    "duration": 524,
    "start_time": "2022-02-17T11:44:15.714Z"
   },
   {
    "duration": 3,
    "start_time": "2022-02-17T11:44:25.888Z"
   },
   {
    "duration": 7,
    "start_time": "2022-02-17T11:44:36.046Z"
   },
   {
    "duration": 4,
    "start_time": "2022-02-17T11:45:03.294Z"
   },
   {
    "duration": 5,
    "start_time": "2022-02-17T11:45:03.966Z"
   },
   {
    "duration": 2738,
    "start_time": "2022-02-17T11:45:18.631Z"
   },
   {
    "duration": 8,
    "start_time": "2022-02-17T11:48:11.203Z"
   },
   {
    "duration": 11,
    "start_time": "2022-02-17T11:48:11.756Z"
   },
   {
    "duration": 782,
    "start_time": "2022-02-17T11:50:17.858Z"
   },
   {
    "duration": 658,
    "start_time": "2022-02-17T11:50:34.791Z"
   },
   {
    "duration": 3175,
    "start_time": "2022-02-17T11:50:45.237Z"
   },
   {
    "duration": 3269,
    "start_time": "2022-02-17T11:50:51.798Z"
   },
   {
    "duration": 153,
    "start_time": "2022-02-17T11:51:27.256Z"
   },
   {
    "duration": 7014,
    "start_time": "2022-02-17T11:51:33.386Z"
   },
   {
    "duration": 5773,
    "start_time": "2022-02-17T11:52:22.463Z"
   },
   {
    "duration": 4691,
    "start_time": "2022-02-17T11:53:14.549Z"
   },
   {
    "duration": 3688,
    "start_time": "2022-02-17T11:53:41.691Z"
   },
   {
    "duration": 3836,
    "start_time": "2022-02-17T11:54:18.191Z"
   },
   {
    "duration": 3404,
    "start_time": "2022-02-17T11:57:51.467Z"
   },
   {
    "duration": 3444,
    "start_time": "2022-02-17T11:57:58.193Z"
   },
   {
    "duration": 1024,
    "start_time": "2022-02-17T11:58:13.653Z"
   },
   {
    "duration": 4414,
    "start_time": "2022-02-17T11:58:19.848Z"
   },
   {
    "duration": 5891,
    "start_time": "2022-02-17T13:08:52.364Z"
   },
   {
    "duration": 4,
    "start_time": "2022-02-17T13:09:20.909Z"
   },
   {
    "duration": 32,
    "start_time": "2022-02-17T13:09:20.917Z"
   },
   {
    "duration": 20,
    "start_time": "2022-02-17T13:09:20.953Z"
   },
   {
    "duration": 17,
    "start_time": "2022-02-17T13:09:20.976Z"
   },
   {
    "duration": 14,
    "start_time": "2022-02-17T13:09:20.996Z"
   },
   {
    "duration": 44,
    "start_time": "2022-02-17T13:09:21.012Z"
   },
   {
    "duration": 140,
    "start_time": "2022-02-17T13:09:21.061Z"
   },
   {
    "duration": 19,
    "start_time": "2022-02-17T13:09:21.204Z"
   },
   {
    "duration": 217,
    "start_time": "2022-02-17T13:09:21.226Z"
   },
   {
    "duration": 18,
    "start_time": "2022-02-17T13:09:21.448Z"
   },
   {
    "duration": 58,
    "start_time": "2022-02-17T13:09:21.469Z"
   },
   {
    "duration": 186,
    "start_time": "2022-02-17T13:09:21.530Z"
   },
   {
    "duration": 39,
    "start_time": "2022-02-17T13:09:21.720Z"
   },
   {
    "duration": 245,
    "start_time": "2022-02-17T13:09:21.762Z"
   },
   {
    "duration": 12,
    "start_time": "2022-02-17T13:09:22.010Z"
   },
   {
    "duration": 50,
    "start_time": "2022-02-17T13:09:22.025Z"
   },
   {
    "duration": 124,
    "start_time": "2022-02-17T13:09:22.078Z"
   },
   {
    "duration": 19,
    "start_time": "2022-02-17T13:09:22.205Z"
   },
   {
    "duration": 152,
    "start_time": "2022-02-17T13:09:22.227Z"
   },
   {
    "duration": 12,
    "start_time": "2022-02-17T13:09:22.382Z"
   },
   {
    "duration": 26,
    "start_time": "2022-02-17T13:09:22.397Z"
   },
   {
    "duration": 89,
    "start_time": "2022-02-17T13:09:22.431Z"
   },
   {
    "duration": 27,
    "start_time": "2022-02-17T13:09:22.524Z"
   },
   {
    "duration": 21,
    "start_time": "2022-02-17T13:09:22.554Z"
   },
   {
    "duration": 18,
    "start_time": "2022-02-17T13:09:22.579Z"
   },
   {
    "duration": 22,
    "start_time": "2022-02-17T13:09:22.600Z"
   },
   {
    "duration": 27,
    "start_time": "2022-02-17T13:09:22.625Z"
   },
   {
    "duration": 140,
    "start_time": "2022-02-17T13:09:22.655Z"
   },
   {
    "duration": 9,
    "start_time": "2022-02-17T13:09:22.798Z"
   },
   {
    "duration": 11,
    "start_time": "2022-02-17T13:09:22.810Z"
   },
   {
    "duration": 38,
    "start_time": "2022-02-17T13:09:22.823Z"
   },
   {
    "duration": 66,
    "start_time": "2022-02-17T13:09:22.864Z"
   },
   {
    "duration": 24,
    "start_time": "2022-02-17T13:09:22.933Z"
   },
   {
    "duration": 59,
    "start_time": "2022-02-17T13:09:22.960Z"
   },
   {
    "duration": 12,
    "start_time": "2022-02-17T13:09:23.022Z"
   },
   {
    "duration": 46,
    "start_time": "2022-02-17T13:09:23.037Z"
   },
   {
    "duration": 8,
    "start_time": "2022-02-17T13:09:23.085Z"
   },
   {
    "duration": 6,
    "start_time": "2022-02-17T13:09:23.096Z"
   },
   {
    "duration": 54,
    "start_time": "2022-02-17T13:09:23.105Z"
   },
   {
    "duration": 20,
    "start_time": "2022-02-17T13:09:23.163Z"
   },
   {
    "duration": 6,
    "start_time": "2022-02-17T13:09:23.185Z"
   },
   {
    "duration": 12,
    "start_time": "2022-02-17T13:09:23.194Z"
   },
   {
    "duration": 47,
    "start_time": "2022-02-17T13:09:23.209Z"
   },
   {
    "duration": 33,
    "start_time": "2022-02-17T13:09:23.260Z"
   },
   {
    "duration": 4,
    "start_time": "2022-02-17T13:09:23.295Z"
   },
   {
    "duration": 10,
    "start_time": "2022-02-17T13:09:23.302Z"
   },
   {
    "duration": 35,
    "start_time": "2022-02-17T13:09:23.314Z"
   },
   {
    "duration": 12,
    "start_time": "2022-02-17T13:09:23.353Z"
   },
   {
    "duration": 23,
    "start_time": "2022-02-17T13:09:23.368Z"
   },
   {
    "duration": 58,
    "start_time": "2022-02-17T13:09:23.394Z"
   },
   {
    "duration": 17,
    "start_time": "2022-02-17T13:09:23.455Z"
   },
   {
    "duration": 9,
    "start_time": "2022-02-17T13:09:23.476Z"
   },
   {
    "duration": 27,
    "start_time": "2022-02-17T13:09:23.487Z"
   },
   {
    "duration": 75,
    "start_time": "2022-02-17T13:09:23.517Z"
   },
   {
    "duration": 22,
    "start_time": "2022-02-17T13:09:23.595Z"
   },
   {
    "duration": 426,
    "start_time": "2022-02-17T13:09:23.619Z"
   },
   {
    "duration": 30,
    "start_time": "2022-02-17T13:09:24.048Z"
   },
   {
    "duration": 6231,
    "start_time": "2022-02-17T13:09:24.081Z"
   },
   {
    "duration": 21,
    "start_time": "2022-02-17T13:46:55.971Z"
   },
   {
    "duration": 7,
    "start_time": "2022-02-17T13:47:10.050Z"
   },
   {
    "duration": 5378,
    "start_time": "2022-02-17T13:47:40.952Z"
   },
   {
    "duration": 9,
    "start_time": "2022-02-17T13:49:44.024Z"
   },
   {
    "duration": 5,
    "start_time": "2022-02-17T13:49:44.913Z"
   },
   {
    "duration": 5,
    "start_time": "2022-02-17T13:50:05.201Z"
   },
   {
    "duration": 7,
    "start_time": "2022-02-17T13:51:02.914Z"
   },
   {
    "duration": 5,
    "start_time": "2022-02-17T13:51:03.757Z"
   },
   {
    "duration": 11,
    "start_time": "2022-02-17T13:51:41.505Z"
   },
   {
    "duration": 11,
    "start_time": "2022-02-17T13:52:48.466Z"
   },
   {
    "duration": 12,
    "start_time": "2022-02-17T13:53:04.707Z"
   },
   {
    "duration": 15,
    "start_time": "2022-02-17T13:54:00.305Z"
   },
   {
    "duration": 12,
    "start_time": "2022-02-17T13:54:45.298Z"
   },
   {
    "duration": 13,
    "start_time": "2022-02-17T13:55:01.586Z"
   },
   {
    "duration": 14,
    "start_time": "2022-02-17T13:58:58.558Z"
   },
   {
    "duration": 15,
    "start_time": "2022-02-17T14:00:39.397Z"
   },
   {
    "duration": 24,
    "start_time": "2022-02-17T14:06:23.988Z"
   },
   {
    "duration": 31,
    "start_time": "2022-02-17T14:11:25.747Z"
   },
   {
    "duration": 55,
    "start_time": "2022-02-17T14:28:47.917Z"
   },
   {
    "duration": 4,
    "start_time": "2022-02-17T14:46:04.069Z"
   },
   {
    "duration": 33,
    "start_time": "2022-02-17T14:46:04.086Z"
   },
   {
    "duration": 26,
    "start_time": "2022-02-17T14:46:04.123Z"
   },
   {
    "duration": 17,
    "start_time": "2022-02-17T14:46:04.153Z"
   },
   {
    "duration": 10,
    "start_time": "2022-02-17T14:46:04.174Z"
   },
   {
    "duration": 36,
    "start_time": "2022-02-17T14:46:04.187Z"
   },
   {
    "duration": 24,
    "start_time": "2022-02-17T14:46:04.226Z"
   },
   {
    "duration": 8,
    "start_time": "2022-02-17T14:46:04.252Z"
   },
   {
    "duration": 215,
    "start_time": "2022-02-17T14:46:04.262Z"
   },
   {
    "duration": 12,
    "start_time": "2022-02-17T14:46:04.483Z"
   },
   {
    "duration": 53,
    "start_time": "2022-02-17T14:46:04.499Z"
   },
   {
    "duration": 134,
    "start_time": "2022-02-17T14:46:04.554Z"
   },
   {
    "duration": 21,
    "start_time": "2022-02-17T14:46:04.691Z"
   },
   {
    "duration": 187,
    "start_time": "2022-02-17T14:46:04.715Z"
   },
   {
    "duration": 14,
    "start_time": "2022-02-17T14:46:04.904Z"
   },
   {
    "duration": 46,
    "start_time": "2022-02-17T14:46:04.921Z"
   },
   {
    "duration": 113,
    "start_time": "2022-02-17T14:46:04.970Z"
   },
   {
    "duration": 19,
    "start_time": "2022-02-17T14:46:05.086Z"
   },
   {
    "duration": 123,
    "start_time": "2022-02-17T14:46:05.108Z"
   },
   {
    "duration": 21,
    "start_time": "2022-02-17T14:46:05.234Z"
   },
   {
    "duration": 27,
    "start_time": "2022-02-17T14:46:05.258Z"
   },
   {
    "duration": 82,
    "start_time": "2022-02-17T14:46:05.288Z"
   },
   {
    "duration": 12,
    "start_time": "2022-02-17T14:46:05.373Z"
   },
   {
    "duration": 38,
    "start_time": "2022-02-17T14:46:05.388Z"
   },
   {
    "duration": 23,
    "start_time": "2022-02-17T14:46:05.429Z"
   },
   {
    "duration": 19,
    "start_time": "2022-02-17T14:46:05.455Z"
   },
   {
    "duration": 41,
    "start_time": "2022-02-17T14:46:05.476Z"
   },
   {
    "duration": 114,
    "start_time": "2022-02-17T14:46:05.524Z"
   },
   {
    "duration": 8,
    "start_time": "2022-02-17T14:46:05.642Z"
   },
   {
    "duration": 23,
    "start_time": "2022-02-17T14:46:05.652Z"
   },
   {
    "duration": 23,
    "start_time": "2022-02-17T14:46:05.677Z"
   },
   {
    "duration": 55,
    "start_time": "2022-02-17T14:46:05.702Z"
   },
   {
    "duration": 15,
    "start_time": "2022-02-17T14:46:05.760Z"
   },
   {
    "duration": 61,
    "start_time": "2022-02-17T14:46:05.778Z"
   },
   {
    "duration": 13,
    "start_time": "2022-02-17T14:46:05.842Z"
   },
   {
    "duration": 48,
    "start_time": "2022-02-17T14:46:05.857Z"
   },
   {
    "duration": 8,
    "start_time": "2022-02-17T14:46:05.908Z"
   },
   {
    "duration": 11,
    "start_time": "2022-02-17T14:46:05.919Z"
   },
   {
    "duration": 25,
    "start_time": "2022-02-17T14:46:05.933Z"
   },
   {
    "duration": 33,
    "start_time": "2022-02-17T14:46:05.960Z"
   },
   {
    "duration": 6,
    "start_time": "2022-02-17T14:46:05.996Z"
   },
   {
    "duration": 22,
    "start_time": "2022-02-17T14:46:06.004Z"
   },
   {
    "duration": 29,
    "start_time": "2022-02-17T14:46:06.028Z"
   },
   {
    "duration": 36,
    "start_time": "2022-02-17T14:46:06.060Z"
   },
   {
    "duration": 4,
    "start_time": "2022-02-17T14:46:06.098Z"
   },
   {
    "duration": 27,
    "start_time": "2022-02-17T14:46:06.104Z"
   },
   {
    "duration": 26,
    "start_time": "2022-02-17T14:46:06.133Z"
   },
   {
    "duration": 32,
    "start_time": "2022-02-17T14:46:06.162Z"
   },
   {
    "duration": 24,
    "start_time": "2022-02-17T14:46:06.197Z"
   },
   {
    "duration": 41,
    "start_time": "2022-02-17T14:46:06.224Z"
   },
   {
    "duration": 11,
    "start_time": "2022-02-17T14:46:06.267Z"
   },
   {
    "duration": 13,
    "start_time": "2022-02-17T14:46:06.281Z"
   },
   {
    "duration": 40,
    "start_time": "2022-02-17T14:46:06.297Z"
   },
   {
    "duration": 42,
    "start_time": "2022-02-17T14:46:06.340Z"
   },
   {
    "duration": 32,
    "start_time": "2022-02-17T14:46:06.384Z"
   },
   {
    "duration": 367,
    "start_time": "2022-02-17T14:46:06.418Z"
   },
   {
    "duration": 26,
    "start_time": "2022-02-17T14:46:06.788Z"
   },
   {
    "duration": 5518,
    "start_time": "2022-02-17T14:46:06.816Z"
   },
   {
    "duration": 66,
    "start_time": "2022-02-17T14:46:12.338Z"
   },
   {
    "duration": 352,
    "start_time": "2022-02-17T16:25:38.650Z"
   },
   {
    "duration": 1900,
    "start_time": "2022-02-17T16:25:44.542Z"
   },
   {
    "duration": 49,
    "start_time": "2022-02-17T16:25:46.446Z"
   },
   {
    "duration": 22,
    "start_time": "2022-02-17T16:25:46.499Z"
   },
   {
    "duration": 14,
    "start_time": "2022-02-17T16:25:46.524Z"
   },
   {
    "duration": 20,
    "start_time": "2022-02-17T16:25:46.541Z"
   },
   {
    "duration": 11,
    "start_time": "2022-02-17T16:25:46.564Z"
   },
   {
    "duration": 8,
    "start_time": "2022-02-17T16:25:46.578Z"
   },
   {
    "duration": 11,
    "start_time": "2022-02-17T16:25:46.589Z"
   },
   {
    "duration": 265,
    "start_time": "2022-02-17T16:25:46.604Z"
   },
   {
    "duration": 17,
    "start_time": "2022-02-17T16:25:46.874Z"
   },
   {
    "duration": 69,
    "start_time": "2022-02-17T16:25:46.895Z"
   },
   {
    "duration": 231,
    "start_time": "2022-02-17T16:25:46.967Z"
   },
   {
    "duration": 29,
    "start_time": "2022-02-17T16:25:47.201Z"
   },
   {
    "duration": 218,
    "start_time": "2022-02-17T16:25:47.233Z"
   },
   {
    "duration": 15,
    "start_time": "2022-02-17T16:25:47.453Z"
   },
   {
    "duration": 32,
    "start_time": "2022-02-17T16:25:47.470Z"
   },
   {
    "duration": 164,
    "start_time": "2022-02-17T16:25:47.506Z"
   },
   {
    "duration": 22,
    "start_time": "2022-02-17T16:25:47.673Z"
   },
   {
    "duration": 148,
    "start_time": "2022-02-17T16:25:47.698Z"
   },
   {
    "duration": 14,
    "start_time": "2022-02-17T16:25:47.849Z"
   },
   {
    "duration": 22,
    "start_time": "2022-02-17T16:25:47.867Z"
   },
   {
    "duration": 101,
    "start_time": "2022-02-17T16:25:47.891Z"
   },
   {
    "duration": 14,
    "start_time": "2022-02-17T16:25:47.994Z"
   },
   {
    "duration": 12,
    "start_time": "2022-02-17T16:25:48.011Z"
   },
   {
    "duration": 21,
    "start_time": "2022-02-17T16:25:48.025Z"
   },
   {
    "duration": 26,
    "start_time": "2022-02-17T16:25:48.049Z"
   },
   {
    "duration": 14,
    "start_time": "2022-02-17T16:25:48.084Z"
   },
   {
    "duration": 149,
    "start_time": "2022-02-17T16:25:48.103Z"
   },
   {
    "duration": 12,
    "start_time": "2022-02-17T16:25:48.255Z"
   },
   {
    "duration": 9,
    "start_time": "2022-02-17T16:25:48.270Z"
   },
   {
    "duration": 18,
    "start_time": "2022-02-17T16:25:48.281Z"
   },
   {
    "duration": 86,
    "start_time": "2022-02-17T16:25:48.301Z"
   },
   {
    "duration": 15,
    "start_time": "2022-02-17T16:25:48.389Z"
   },
   {
    "duration": 76,
    "start_time": "2022-02-17T16:25:48.407Z"
   },
   {
    "duration": 14,
    "start_time": "2022-02-17T16:25:48.487Z"
   },
   {
    "duration": 70,
    "start_time": "2022-02-17T16:25:48.503Z"
   },
   {
    "duration": 8,
    "start_time": "2022-02-17T16:25:48.575Z"
   },
   {
    "duration": 4,
    "start_time": "2022-02-17T16:25:48.586Z"
   },
   {
    "duration": 15,
    "start_time": "2022-02-17T16:25:48.592Z"
   },
   {
    "duration": 56,
    "start_time": "2022-02-17T16:25:48.610Z"
   },
   {
    "duration": 6,
    "start_time": "2022-02-17T16:25:48.669Z"
   },
   {
    "duration": 11,
    "start_time": "2022-02-17T16:25:48.678Z"
   },
   {
    "duration": 14,
    "start_time": "2022-02-17T16:25:48.691Z"
   },
   {
    "duration": 61,
    "start_time": "2022-02-17T16:25:48.709Z"
   },
   {
    "duration": 5,
    "start_time": "2022-02-17T16:25:48.773Z"
   },
   {
    "duration": 17,
    "start_time": "2022-02-17T16:25:48.781Z"
   },
   {
    "duration": 14,
    "start_time": "2022-02-17T16:25:48.800Z"
   },
   {
    "duration": 17,
    "start_time": "2022-02-17T16:25:48.817Z"
   },
   {
    "duration": 18,
    "start_time": "2022-02-17T16:25:48.862Z"
   },
   {
    "duration": 32,
    "start_time": "2022-02-17T16:25:48.883Z"
   },
   {
    "duration": 45,
    "start_time": "2022-02-17T16:25:48.918Z"
   },
   {
    "duration": 8,
    "start_time": "2022-02-17T16:25:48.966Z"
   },
   {
    "duration": 27,
    "start_time": "2022-02-17T16:25:48.976Z"
   },
   {
    "duration": 76,
    "start_time": "2022-02-17T16:25:49.006Z"
   },
   {
    "duration": 10,
    "start_time": "2022-02-17T16:25:49.085Z"
   },
   {
    "duration": 388,
    "start_time": "2022-02-17T16:25:49.100Z"
   },
   {
    "duration": 36,
    "start_time": "2022-02-17T16:25:49.491Z"
   },
   {
    "duration": 5463,
    "start_time": "2022-02-17T16:25:49.530Z"
   },
   {
    "duration": 574,
    "start_time": "2022-02-17T16:25:54.996Z"
   },
   {
    "duration": 313,
    "start_time": "2022-02-17T16:26:04.792Z"
   },
   {
    "duration": 77,
    "start_time": "2022-02-17T16:26:23.386Z"
   },
   {
    "duration": 68,
    "start_time": "2022-02-17T16:26:34.842Z"
   },
   {
    "duration": 69,
    "start_time": "2022-02-17T16:37:21.690Z"
   },
   {
    "duration": 989,
    "start_time": "2022-02-17T18:41:30.405Z"
   },
   {
    "duration": 959,
    "start_time": "2022-02-17T18:42:00.869Z"
   },
   {
    "duration": 1105,
    "start_time": "2022-02-17T18:42:17.159Z"
   },
   {
    "duration": 911,
    "start_time": "2022-02-17T18:42:31.490Z"
   },
   {
    "duration": 8,
    "start_time": "2022-02-17T18:55:22.251Z"
   },
   {
    "duration": 8,
    "start_time": "2022-02-17T18:55:26.556Z"
   },
   {
    "duration": 8,
    "start_time": "2022-02-17T18:55:37.757Z"
   },
   {
    "duration": 291,
    "start_time": "2022-02-17T18:57:03.806Z"
   },
   {
    "duration": 598,
    "start_time": "2022-02-17T18:57:55.421Z"
   },
   {
    "duration": 5,
    "start_time": "2022-02-17T18:58:20.197Z"
   },
   {
    "duration": 36,
    "start_time": "2022-02-17T18:58:20.205Z"
   },
   {
    "duration": 16,
    "start_time": "2022-02-17T18:58:20.244Z"
   },
   {
    "duration": 9,
    "start_time": "2022-02-17T18:58:20.263Z"
   },
   {
    "duration": 12,
    "start_time": "2022-02-17T18:58:20.275Z"
   },
   {
    "duration": 14,
    "start_time": "2022-02-17T18:58:20.290Z"
   },
   {
    "duration": 10,
    "start_time": "2022-02-17T18:58:20.362Z"
   },
   {
    "duration": 6,
    "start_time": "2022-02-17T18:58:20.374Z"
   },
   {
    "duration": 201,
    "start_time": "2022-02-17T18:58:20.386Z"
   },
   {
    "duration": 12,
    "start_time": "2022-02-17T18:58:20.591Z"
   },
   {
    "duration": 31,
    "start_time": "2022-02-17T18:58:20.605Z"
   },
   {
    "duration": 156,
    "start_time": "2022-02-17T18:58:20.639Z"
   },
   {
    "duration": 21,
    "start_time": "2022-02-17T18:58:20.798Z"
   },
   {
    "duration": 179,
    "start_time": "2022-02-17T18:58:20.822Z"
   },
   {
    "duration": 12,
    "start_time": "2022-02-17T18:58:21.004Z"
   },
   {
    "duration": 42,
    "start_time": "2022-02-17T18:58:21.019Z"
   },
   {
    "duration": 106,
    "start_time": "2022-02-17T18:58:21.064Z"
   },
   {
    "duration": 19,
    "start_time": "2022-02-17T18:58:21.172Z"
   },
   {
    "duration": 132,
    "start_time": "2022-02-17T18:58:21.194Z"
   },
   {
    "duration": 12,
    "start_time": "2022-02-17T18:58:21.329Z"
   },
   {
    "duration": 18,
    "start_time": "2022-02-17T18:58:21.362Z"
   },
   {
    "duration": 52,
    "start_time": "2022-02-17T18:58:21.382Z"
   },
   {
    "duration": 29,
    "start_time": "2022-02-17T18:58:21.437Z"
   },
   {
    "duration": 8,
    "start_time": "2022-02-17T18:58:21.469Z"
   },
   {
    "duration": 15,
    "start_time": "2022-02-17T18:58:21.480Z"
   },
   {
    "duration": 10,
    "start_time": "2022-02-17T18:58:21.498Z"
   },
   {
    "duration": 13,
    "start_time": "2022-02-17T18:58:21.514Z"
   },
   {
    "duration": 106,
    "start_time": "2022-02-17T18:58:21.563Z"
   },
   {
    "duration": 6,
    "start_time": "2022-02-17T18:58:21.671Z"
   },
   {
    "duration": 6,
    "start_time": "2022-02-17T18:58:21.680Z"
   },
   {
    "duration": 20,
    "start_time": "2022-02-17T18:58:21.688Z"
   },
   {
    "duration": 82,
    "start_time": "2022-02-17T18:58:21.711Z"
   },
   {
    "duration": 15,
    "start_time": "2022-02-17T18:58:21.795Z"
   },
   {
    "duration": 64,
    "start_time": "2022-02-17T18:58:21.813Z"
   },
   {
    "duration": 14,
    "start_time": "2022-02-17T18:58:21.880Z"
   },
   {
    "duration": 31,
    "start_time": "2022-02-17T18:58:21.897Z"
   },
   {
    "duration": 37,
    "start_time": "2022-02-17T18:58:21.931Z"
   },
   {
    "duration": 5,
    "start_time": "2022-02-17T18:58:21.971Z"
   },
   {
    "duration": 16,
    "start_time": "2022-02-17T18:58:21.979Z"
   },
   {
    "duration": 19,
    "start_time": "2022-02-17T18:58:21.998Z"
   },
   {
    "duration": 43,
    "start_time": "2022-02-17T18:58:22.019Z"
   },
   {
    "duration": 12,
    "start_time": "2022-02-17T18:58:22.065Z"
   },
   {
    "duration": 17,
    "start_time": "2022-02-17T18:58:22.079Z"
   },
   {
    "duration": 23,
    "start_time": "2022-02-17T18:58:22.099Z"
   },
   {
    "duration": 5,
    "start_time": "2022-02-17T18:58:22.124Z"
   },
   {
    "duration": 7,
    "start_time": "2022-02-17T18:58:22.161Z"
   },
   {
    "duration": 13,
    "start_time": "2022-02-17T18:58:22.171Z"
   },
   {
    "duration": 12,
    "start_time": "2022-02-17T18:58:22.186Z"
   },
   {
    "duration": 20,
    "start_time": "2022-02-17T18:58:22.200Z"
   },
   {
    "duration": 68,
    "start_time": "2022-02-17T18:58:22.223Z"
   },
   {
    "duration": 14,
    "start_time": "2022-02-17T18:58:22.294Z"
   },
   {
    "duration": 7,
    "start_time": "2022-02-17T18:58:22.311Z"
   },
   {
    "duration": 59,
    "start_time": "2022-02-17T18:58:22.320Z"
   },
   {
    "duration": 30,
    "start_time": "2022-02-17T18:58:22.381Z"
   },
   {
    "duration": 12,
    "start_time": "2022-02-17T18:58:22.414Z"
   },
   {
    "duration": 386,
    "start_time": "2022-02-17T18:58:22.429Z"
   },
   {
    "duration": 25,
    "start_time": "2022-02-17T18:58:22.818Z"
   },
   {
    "duration": 5377,
    "start_time": "2022-02-17T18:58:22.861Z"
   },
   {
    "duration": 87,
    "start_time": "2022-02-17T18:58:28.241Z"
   },
   {
    "duration": 34,
    "start_time": "2022-02-17T18:58:28.331Z"
   },
   {
    "duration": 8,
    "start_time": "2022-02-17T18:58:28.368Z"
   },
   {
    "duration": 13,
    "start_time": "2022-02-17T18:58:28.380Z"
   },
   {
    "duration": 4650,
    "start_time": "2022-02-17T19:11:33.227Z"
   },
   {
    "duration": 6,
    "start_time": "2022-02-17T19:11:38.339Z"
   },
   {
    "duration": 39,
    "start_time": "2022-02-17T19:11:38.348Z"
   },
   {
    "duration": 15,
    "start_time": "2022-02-17T19:11:38.391Z"
   },
   {
    "duration": 12,
    "start_time": "2022-02-17T19:11:38.409Z"
   },
   {
    "duration": 38,
    "start_time": "2022-02-17T19:11:38.424Z"
   },
   {
    "duration": 12,
    "start_time": "2022-02-17T19:11:38.465Z"
   },
   {
    "duration": 10,
    "start_time": "2022-02-17T19:11:38.480Z"
   },
   {
    "duration": 8,
    "start_time": "2022-02-17T19:11:38.493Z"
   },
   {
    "duration": 237,
    "start_time": "2022-02-17T19:11:38.506Z"
   },
   {
    "duration": 16,
    "start_time": "2022-02-17T19:11:38.747Z"
   },
   {
    "duration": 32,
    "start_time": "2022-02-17T19:11:38.765Z"
   },
   {
    "duration": 135,
    "start_time": "2022-02-17T19:11:38.799Z"
   },
   {
    "duration": 33,
    "start_time": "2022-02-17T19:11:38.936Z"
   },
   {
    "duration": 166,
    "start_time": "2022-02-17T19:11:38.972Z"
   },
   {
    "duration": 21,
    "start_time": "2022-02-17T19:11:39.140Z"
   },
   {
    "duration": 25,
    "start_time": "2022-02-17T19:11:39.163Z"
   },
   {
    "duration": 125,
    "start_time": "2022-02-17T19:11:39.190Z"
   },
   {
    "duration": 19,
    "start_time": "2022-02-17T19:11:39.318Z"
   },
   {
    "duration": 131,
    "start_time": "2022-02-17T19:11:39.340Z"
   },
   {
    "duration": 10,
    "start_time": "2022-02-17T19:11:39.473Z"
   },
   {
    "duration": 25,
    "start_time": "2022-02-17T19:11:39.485Z"
   },
   {
    "duration": 82,
    "start_time": "2022-02-17T19:11:39.513Z"
   },
   {
    "duration": 14,
    "start_time": "2022-02-17T19:11:39.598Z"
   },
   {
    "duration": 7,
    "start_time": "2022-02-17T19:11:39.615Z"
   },
   {
    "duration": 39,
    "start_time": "2022-02-17T19:11:39.624Z"
   },
   {
    "duration": 9,
    "start_time": "2022-02-17T19:11:39.666Z"
   },
   {
    "duration": 13,
    "start_time": "2022-02-17T19:11:39.682Z"
   },
   {
    "duration": 120,
    "start_time": "2022-02-17T19:11:39.699Z"
   },
   {
    "duration": 6,
    "start_time": "2022-02-17T19:11:39.821Z"
   },
   {
    "duration": 6,
    "start_time": "2022-02-17T19:11:39.829Z"
   },
   {
    "duration": 36,
    "start_time": "2022-02-17T19:11:39.838Z"
   },
   {
    "duration": 52,
    "start_time": "2022-02-17T19:11:39.877Z"
   },
   {
    "duration": 38,
    "start_time": "2022-02-17T19:11:39.932Z"
   },
   {
    "duration": 43,
    "start_time": "2022-02-17T19:11:39.972Z"
   },
   {
    "duration": 13,
    "start_time": "2022-02-17T19:11:40.017Z"
   },
   {
    "duration": 31,
    "start_time": "2022-02-17T19:11:40.061Z"
   },
   {
    "duration": 9,
    "start_time": "2022-02-17T19:11:40.095Z"
   },
   {
    "duration": 18,
    "start_time": "2022-02-17T19:11:40.107Z"
   },
   {
    "duration": 36,
    "start_time": "2022-02-17T19:11:40.127Z"
   },
   {
    "duration": 21,
    "start_time": "2022-02-17T19:11:40.167Z"
   },
   {
    "duration": 6,
    "start_time": "2022-02-17T19:11:40.191Z"
   },
   {
    "duration": 10,
    "start_time": "2022-02-17T19:11:40.200Z"
   },
   {
    "duration": 54,
    "start_time": "2022-02-17T19:11:40.214Z"
   },
   {
    "duration": 29,
    "start_time": "2022-02-17T19:11:40.271Z"
   },
   {
    "duration": 5,
    "start_time": "2022-02-17T19:11:40.303Z"
   },
   {
    "duration": 9,
    "start_time": "2022-02-17T19:11:40.311Z"
   },
   {
    "duration": 46,
    "start_time": "2022-02-17T19:11:40.322Z"
   },
   {
    "duration": 9,
    "start_time": "2022-02-17T19:11:40.370Z"
   },
   {
    "duration": 16,
    "start_time": "2022-02-17T19:11:40.381Z"
   },
   {
    "duration": 63,
    "start_time": "2022-02-17T19:11:40.400Z"
   },
   {
    "duration": 12,
    "start_time": "2022-02-17T19:11:40.466Z"
   },
   {
    "duration": 6,
    "start_time": "2022-02-17T19:11:40.480Z"
   },
   {
    "duration": 24,
    "start_time": "2022-02-17T19:11:40.488Z"
   },
   {
    "duration": 71,
    "start_time": "2022-02-17T19:11:40.515Z"
   },
   {
    "duration": 11,
    "start_time": "2022-02-17T19:11:40.589Z"
   },
   {
    "duration": 380,
    "start_time": "2022-02-17T19:11:40.603Z"
   },
   {
    "duration": 23,
    "start_time": "2022-02-17T19:11:40.985Z"
   },
   {
    "duration": 5441,
    "start_time": "2022-02-17T19:11:41.011Z"
   },
   {
    "duration": 70,
    "start_time": "2022-02-17T19:11:46.455Z"
   },
   {
    "duration": 34,
    "start_time": "2022-02-17T19:11:46.527Z"
   },
   {
    "duration": 7,
    "start_time": "2022-02-17T19:11:46.564Z"
   },
   {
    "duration": 3671,
    "start_time": "2022-02-17T19:11:46.574Z"
   },
   {
    "duration": 556,
    "start_time": "2022-02-17T19:15:19.622Z"
   },
   {
    "duration": 4399,
    "start_time": "2022-02-17T19:15:27.609Z"
   },
   {
    "duration": 9,
    "start_time": "2022-02-17T19:17:05.368Z"
   },
   {
    "duration": 25,
    "start_time": "2022-02-17T19:17:18.117Z"
   },
   {
    "duration": 38,
    "start_time": "2022-02-17T19:17:27.526Z"
   },
   {
    "duration": 341,
    "start_time": "2022-02-17T19:18:51.259Z"
   },
   {
    "duration": 7,
    "start_time": "2022-02-17T19:19:14.601Z"
   },
   {
    "duration": 364,
    "start_time": "2022-02-17T19:19:28.853Z"
   },
   {
    "duration": 6,
    "start_time": "2022-02-17T19:19:33.551Z"
   },
   {
    "duration": 36,
    "start_time": "2022-02-17T19:19:33.560Z"
   },
   {
    "duration": 15,
    "start_time": "2022-02-17T19:19:33.600Z"
   },
   {
    "duration": 9,
    "start_time": "2022-02-17T19:19:33.618Z"
   },
   {
    "duration": 12,
    "start_time": "2022-02-17T19:19:33.663Z"
   },
   {
    "duration": 14,
    "start_time": "2022-02-17T19:19:33.678Z"
   },
   {
    "duration": 8,
    "start_time": "2022-02-17T19:19:33.694Z"
   },
   {
    "duration": 11,
    "start_time": "2022-02-17T19:19:33.708Z"
   },
   {
    "duration": 234,
    "start_time": "2022-02-17T19:19:33.723Z"
   },
   {
    "duration": 13,
    "start_time": "2022-02-17T19:19:33.962Z"
   },
   {
    "duration": 31,
    "start_time": "2022-02-17T19:19:33.977Z"
   },
   {
    "duration": 139,
    "start_time": "2022-02-17T19:19:34.010Z"
   },
   {
    "duration": 26,
    "start_time": "2022-02-17T19:19:34.152Z"
   },
   {
    "duration": 184,
    "start_time": "2022-02-17T19:19:34.181Z"
   },
   {
    "duration": 16,
    "start_time": "2022-02-17T19:19:34.369Z"
   },
   {
    "duration": 28,
    "start_time": "2022-02-17T19:19:34.388Z"
   },
   {
    "duration": 118,
    "start_time": "2022-02-17T19:19:34.419Z"
   },
   {
    "duration": 28,
    "start_time": "2022-02-17T19:19:34.540Z"
   },
   {
    "duration": 122,
    "start_time": "2022-02-17T19:19:34.571Z"
   },
   {
    "duration": 11,
    "start_time": "2022-02-17T19:19:34.695Z"
   },
   {
    "duration": 22,
    "start_time": "2022-02-17T19:19:34.708Z"
   },
   {
    "duration": 83,
    "start_time": "2022-02-17T19:19:34.733Z"
   },
   {
    "duration": 13,
    "start_time": "2022-02-17T19:19:34.822Z"
   },
   {
    "duration": 22,
    "start_time": "2022-02-17T19:19:34.839Z"
   },
   {
    "duration": 23,
    "start_time": "2022-02-17T19:19:34.864Z"
   },
   {
    "duration": 7,
    "start_time": "2022-02-17T19:19:34.890Z"
   },
   {
    "duration": 18,
    "start_time": "2022-02-17T19:19:34.900Z"
   },
   {
    "duration": 130,
    "start_time": "2022-02-17T19:19:34.920Z"
   },
   {
    "duration": 11,
    "start_time": "2022-02-17T19:19:35.053Z"
   },
   {
    "duration": 5,
    "start_time": "2022-02-17T19:19:35.066Z"
   },
   {
    "duration": 16,
    "start_time": "2022-02-17T19:19:35.074Z"
   },
   {
    "duration": 84,
    "start_time": "2022-02-17T19:19:35.093Z"
   },
   {
    "duration": 15,
    "start_time": "2022-02-17T19:19:35.179Z"
   },
   {
    "duration": 74,
    "start_time": "2022-02-17T19:19:35.197Z"
   },
   {
    "duration": 16,
    "start_time": "2022-02-17T19:19:35.273Z"
   },
   {
    "duration": 68,
    "start_time": "2022-02-17T19:19:35.293Z"
   },
   {
    "duration": 9,
    "start_time": "2022-02-17T19:19:35.364Z"
   },
   {
    "duration": 5,
    "start_time": "2022-02-17T19:19:35.377Z"
   },
   {
    "duration": 12,
    "start_time": "2022-02-17T19:19:35.385Z"
   },
   {
    "duration": 27,
    "start_time": "2022-02-17T19:19:35.400Z"
   },
   {
    "duration": 34,
    "start_time": "2022-02-17T19:19:35.430Z"
   },
   {
    "duration": 8,
    "start_time": "2022-02-17T19:19:35.467Z"
   },
   {
    "duration": 11,
    "start_time": "2022-02-17T19:19:35.478Z"
   },
   {
    "duration": 31,
    "start_time": "2022-02-17T19:19:35.492Z"
   },
   {
    "duration": 5,
    "start_time": "2022-02-17T19:19:35.563Z"
   },
   {
    "duration": 12,
    "start_time": "2022-02-17T19:19:35.571Z"
   },
   {
    "duration": 17,
    "start_time": "2022-02-17T19:19:35.587Z"
   },
   {
    "duration": 17,
    "start_time": "2022-02-17T19:19:35.607Z"
   },
   {
    "duration": 41,
    "start_time": "2022-02-17T19:19:35.627Z"
   },
   {
    "duration": 37,
    "start_time": "2022-02-17T19:19:35.670Z"
   },
   {
    "duration": 14,
    "start_time": "2022-02-17T19:19:35.709Z"
   },
   {
    "duration": 6,
    "start_time": "2022-02-17T19:19:35.726Z"
   },
   {
    "duration": 24,
    "start_time": "2022-02-17T19:19:35.762Z"
   },
   {
    "duration": 35,
    "start_time": "2022-02-17T19:19:35.789Z"
   },
   {
    "duration": 9,
    "start_time": "2022-02-17T19:19:35.826Z"
   },
   {
    "duration": 402,
    "start_time": "2022-02-17T19:19:35.863Z"
   },
   {
    "duration": 29,
    "start_time": "2022-02-17T19:19:36.268Z"
   },
   {
    "duration": 6106,
    "start_time": "2022-02-17T19:19:36.300Z"
   },
   {
    "duration": 95,
    "start_time": "2022-02-17T19:19:42.409Z"
   },
   {
    "duration": 11,
    "start_time": "2022-02-17T19:19:42.507Z"
   },
   {
    "duration": 8,
    "start_time": "2022-02-17T19:19:42.521Z"
   },
   {
    "duration": 9,
    "start_time": "2022-02-17T19:19:42.562Z"
   },
   {
    "duration": 15,
    "start_time": "2022-02-17T19:19:42.574Z"
   },
   {
    "duration": 7,
    "start_time": "2022-02-17T19:19:42.592Z"
   },
   {
    "duration": 8,
    "start_time": "2022-02-17T19:20:28.375Z"
   },
   {
    "duration": 13,
    "start_time": "2022-02-17T19:20:28.932Z"
   },
   {
    "duration": 8,
    "start_time": "2022-02-17T19:20:29.509Z"
   },
   {
    "duration": 8,
    "start_time": "2022-02-17T19:20:41.189Z"
   },
   {
    "duration": 7,
    "start_time": "2022-02-17T19:20:57.590Z"
   },
   {
    "duration": 271,
    "start_time": "2022-02-17T19:25:51.749Z"
   },
   {
    "duration": 271,
    "start_time": "2022-02-17T19:26:08.613Z"
   },
   {
    "duration": 8,
    "start_time": "2022-02-17T19:26:26.454Z"
   },
   {
    "duration": 8,
    "start_time": "2022-02-17T19:26:56.806Z"
   },
   {
    "duration": 13,
    "start_time": "2022-02-17T19:26:57.862Z"
   },
   {
    "duration": 8,
    "start_time": "2022-02-17T19:26:58.486Z"
   },
   {
    "duration": 4,
    "start_time": "2022-02-17T19:27:13.435Z"
   },
   {
    "duration": 27,
    "start_time": "2022-02-17T19:27:13.442Z"
   },
   {
    "duration": 14,
    "start_time": "2022-02-17T19:27:13.472Z"
   },
   {
    "duration": 12,
    "start_time": "2022-02-17T19:27:13.489Z"
   },
   {
    "duration": 9,
    "start_time": "2022-02-17T19:27:13.504Z"
   },
   {
    "duration": 11,
    "start_time": "2022-02-17T19:27:13.561Z"
   },
   {
    "duration": 6,
    "start_time": "2022-02-17T19:27:13.574Z"
   },
   {
    "duration": 7,
    "start_time": "2022-02-17T19:27:13.582Z"
   },
   {
    "duration": 223,
    "start_time": "2022-02-17T19:27:13.593Z"
   },
   {
    "duration": 13,
    "start_time": "2022-02-17T19:27:13.820Z"
   },
   {
    "duration": 49,
    "start_time": "2022-02-17T19:27:13.836Z"
   },
   {
    "duration": 124,
    "start_time": "2022-02-17T19:27:13.887Z"
   },
   {
    "duration": 21,
    "start_time": "2022-02-17T19:27:14.014Z"
   },
   {
    "duration": 185,
    "start_time": "2022-02-17T19:27:14.038Z"
   },
   {
    "duration": 12,
    "start_time": "2022-02-17T19:27:14.225Z"
   },
   {
    "duration": 35,
    "start_time": "2022-02-17T19:27:14.239Z"
   },
   {
    "duration": 104,
    "start_time": "2022-02-17T19:27:14.276Z"
   },
   {
    "duration": 17,
    "start_time": "2022-02-17T19:27:14.382Z"
   },
   {
    "duration": 126,
    "start_time": "2022-02-17T19:27:14.402Z"
   },
   {
    "duration": 11,
    "start_time": "2022-02-17T19:27:14.530Z"
   },
   {
    "duration": 30,
    "start_time": "2022-02-17T19:27:14.543Z"
   },
   {
    "duration": 53,
    "start_time": "2022-02-17T19:27:14.576Z"
   },
   {
    "duration": 31,
    "start_time": "2022-02-17T19:27:14.631Z"
   },
   {
    "duration": 6,
    "start_time": "2022-02-17T19:27:14.666Z"
   },
   {
    "duration": 13,
    "start_time": "2022-02-17T19:27:14.675Z"
   },
   {
    "duration": 7,
    "start_time": "2022-02-17T19:27:14.691Z"
   },
   {
    "duration": 13,
    "start_time": "2022-02-17T19:27:14.705Z"
   },
   {
    "duration": 106,
    "start_time": "2022-02-17T19:27:14.760Z"
   },
   {
    "duration": 6,
    "start_time": "2022-02-17T19:27:14.869Z"
   },
   {
    "duration": 6,
    "start_time": "2022-02-17T19:27:14.877Z"
   },
   {
    "duration": 19,
    "start_time": "2022-02-17T19:27:14.886Z"
   },
   {
    "duration": 79,
    "start_time": "2022-02-17T19:27:14.908Z"
   },
   {
    "duration": 16,
    "start_time": "2022-02-17T19:27:14.990Z"
   },
   {
    "duration": 60,
    "start_time": "2022-02-17T19:27:15.009Z"
   },
   {
    "duration": 13,
    "start_time": "2022-02-17T19:27:15.071Z"
   },
   {
    "duration": 35,
    "start_time": "2022-02-17T19:27:15.086Z"
   },
   {
    "duration": 8,
    "start_time": "2022-02-17T19:27:15.123Z"
   },
   {
    "duration": 30,
    "start_time": "2022-02-17T19:27:15.133Z"
   },
   {
    "duration": 13,
    "start_time": "2022-02-17T19:27:15.166Z"
   },
   {
    "duration": 22,
    "start_time": "2022-02-17T19:27:15.182Z"
   },
   {
    "duration": 6,
    "start_time": "2022-02-17T19:27:15.207Z"
   },
   {
    "duration": 46,
    "start_time": "2022-02-17T19:27:15.216Z"
   },
   {
    "duration": 13,
    "start_time": "2022-02-17T19:27:15.264Z"
   },
   {
    "duration": 34,
    "start_time": "2022-02-17T19:27:15.281Z"
   },
   {
    "duration": 5,
    "start_time": "2022-02-17T19:27:15.318Z"
   },
   {
    "duration": 35,
    "start_time": "2022-02-17T19:27:15.326Z"
   },
   {
    "duration": 10,
    "start_time": "2022-02-17T19:27:15.363Z"
   },
   {
    "duration": 10,
    "start_time": "2022-02-17T19:27:15.375Z"
   },
   {
    "duration": 16,
    "start_time": "2022-02-17T19:27:15.387Z"
   },
   {
    "duration": 69,
    "start_time": "2022-02-17T19:27:15.406Z"
   },
   {
    "duration": 15,
    "start_time": "2022-02-17T19:27:15.478Z"
   },
   {
    "duration": 8,
    "start_time": "2022-02-17T19:27:15.496Z"
   },
   {
    "duration": 64,
    "start_time": "2022-02-17T19:27:15.506Z"
   },
   {
    "duration": 28,
    "start_time": "2022-02-17T19:27:15.573Z"
   },
   {
    "duration": 16,
    "start_time": "2022-02-17T19:27:15.604Z"
   },
   {
    "duration": 374,
    "start_time": "2022-02-17T19:27:15.623Z"
   },
   {
    "duration": 26,
    "start_time": "2022-02-17T19:27:16.000Z"
   },
   {
    "duration": 5306,
    "start_time": "2022-02-17T19:27:16.029Z"
   },
   {
    "duration": 76,
    "start_time": "2022-02-17T19:27:21.337Z"
   },
   {
    "duration": 11,
    "start_time": "2022-02-17T19:27:21.415Z"
   },
   {
    "duration": 32,
    "start_time": "2022-02-17T19:27:21.429Z"
   },
   {
    "duration": 9,
    "start_time": "2022-02-17T19:27:21.464Z"
   },
   {
    "duration": 17,
    "start_time": "2022-02-17T19:27:21.476Z"
   },
   {
    "duration": 7,
    "start_time": "2022-02-17T19:27:21.495Z"
   },
   {
    "duration": 273,
    "start_time": "2022-02-17T19:30:17.846Z"
   },
   {
    "duration": 6,
    "start_time": "2022-02-17T19:30:35.705Z"
   },
   {
    "duration": 26,
    "start_time": "2022-02-17T19:30:35.714Z"
   },
   {
    "duration": 14,
    "start_time": "2022-02-17T19:30:35.744Z"
   },
   {
    "duration": 15,
    "start_time": "2022-02-17T19:30:35.761Z"
   },
   {
    "duration": 22,
    "start_time": "2022-02-17T19:30:35.779Z"
   },
   {
    "duration": 11,
    "start_time": "2022-02-17T19:30:35.804Z"
   },
   {
    "duration": 45,
    "start_time": "2022-02-17T19:30:35.818Z"
   },
   {
    "duration": 23,
    "start_time": "2022-02-17T19:30:35.867Z"
   },
   {
    "duration": 201,
    "start_time": "2022-02-17T19:30:35.893Z"
   },
   {
    "duration": 11,
    "start_time": "2022-02-17T19:30:36.097Z"
   },
   {
    "duration": 30,
    "start_time": "2022-02-17T19:30:36.111Z"
   },
   {
    "duration": 130,
    "start_time": "2022-02-17T19:30:36.162Z"
   },
   {
    "duration": 21,
    "start_time": "2022-02-17T19:30:36.295Z"
   },
   {
    "duration": 197,
    "start_time": "2022-02-17T19:30:36.318Z"
   },
   {
    "duration": 14,
    "start_time": "2022-02-17T19:30:36.517Z"
   },
   {
    "duration": 46,
    "start_time": "2022-02-17T19:30:36.534Z"
   },
   {
    "duration": 122,
    "start_time": "2022-02-17T19:30:36.584Z"
   },
   {
    "duration": 25,
    "start_time": "2022-02-17T19:30:36.710Z"
   },
   {
    "duration": 127,
    "start_time": "2022-02-17T19:30:36.738Z"
   },
   {
    "duration": 12,
    "start_time": "2022-02-17T19:30:36.868Z"
   },
   {
    "duration": 22,
    "start_time": "2022-02-17T19:30:36.883Z"
   },
   {
    "duration": 93,
    "start_time": "2022-02-17T19:30:36.908Z"
   },
   {
    "duration": 14,
    "start_time": "2022-02-17T19:30:37.008Z"
   },
   {
    "duration": 14,
    "start_time": "2022-02-17T19:30:37.025Z"
   },
   {
    "duration": 24,
    "start_time": "2022-02-17T19:30:37.042Z"
   },
   {
    "duration": 14,
    "start_time": "2022-02-17T19:30:37.068Z"
   },
   {
    "duration": 17,
    "start_time": "2022-02-17T19:30:37.084Z"
   },
   {
    "duration": 114,
    "start_time": "2022-02-17T19:30:37.104Z"
   },
   {
    "duration": 6,
    "start_time": "2022-02-17T19:30:37.221Z"
   },
   {
    "duration": 6,
    "start_time": "2022-02-17T19:30:37.230Z"
   },
   {
    "duration": 16,
    "start_time": "2022-02-17T19:30:37.261Z"
   },
   {
    "duration": 81,
    "start_time": "2022-02-17T19:30:37.280Z"
   },
   {
    "duration": 16,
    "start_time": "2022-02-17T19:30:37.364Z"
   },
   {
    "duration": 42,
    "start_time": "2022-02-17T19:30:37.383Z"
   },
   {
    "duration": 35,
    "start_time": "2022-02-17T19:30:37.428Z"
   },
   {
    "duration": 34,
    "start_time": "2022-02-17T19:30:37.466Z"
   },
   {
    "duration": 9,
    "start_time": "2022-02-17T19:30:37.502Z"
   },
   {
    "duration": 3,
    "start_time": "2022-02-17T19:30:37.514Z"
   },
   {
    "duration": 51,
    "start_time": "2022-02-17T19:30:37.520Z"
   },
   {
    "duration": 21,
    "start_time": "2022-02-17T19:30:37.573Z"
   },
   {
    "duration": 6,
    "start_time": "2022-02-17T19:30:37.597Z"
   },
   {
    "duration": 9,
    "start_time": "2022-02-17T19:30:37.606Z"
   },
   {
    "duration": 45,
    "start_time": "2022-02-17T19:30:37.618Z"
   },
   {
    "duration": 21,
    "start_time": "2022-02-17T19:30:37.666Z"
   },
   {
    "duration": 4,
    "start_time": "2022-02-17T19:30:37.689Z"
   },
   {
    "duration": 7,
    "start_time": "2022-02-17T19:30:37.696Z"
   },
   {
    "duration": 12,
    "start_time": "2022-02-17T19:30:37.706Z"
   },
   {
    "duration": 46,
    "start_time": "2022-02-17T19:30:37.721Z"
   },
   {
    "duration": 19,
    "start_time": "2022-02-17T19:30:37.770Z"
   },
   {
    "duration": 31,
    "start_time": "2022-02-17T19:30:37.792Z"
   },
   {
    "duration": 35,
    "start_time": "2022-02-17T19:30:37.826Z"
   },
   {
    "duration": 8,
    "start_time": "2022-02-17T19:30:37.864Z"
   },
   {
    "duration": 28,
    "start_time": "2022-02-17T19:30:37.874Z"
   },
   {
    "duration": 57,
    "start_time": "2022-02-17T19:30:37.905Z"
   },
   {
    "duration": 9,
    "start_time": "2022-02-17T19:30:37.965Z"
   },
   {
    "duration": 350,
    "start_time": "2022-02-17T19:30:37.977Z"
   },
   {
    "duration": 35,
    "start_time": "2022-02-17T19:30:38.329Z"
   },
   {
    "duration": 5566,
    "start_time": "2022-02-17T19:30:38.367Z"
   },
   {
    "duration": 78,
    "start_time": "2022-02-17T19:30:43.935Z"
   },
   {
    "duration": 11,
    "start_time": "2022-02-17T19:30:44.016Z"
   },
   {
    "duration": 34,
    "start_time": "2022-02-17T19:30:44.029Z"
   },
   {
    "duration": 11,
    "start_time": "2022-02-17T19:30:44.066Z"
   },
   {
    "duration": 13,
    "start_time": "2022-02-17T19:30:44.079Z"
   },
   {
    "duration": 10,
    "start_time": "2022-02-17T19:30:44.094Z"
   },
   {
    "duration": 12,
    "start_time": "2022-02-17T19:33:13.551Z"
   },
   {
    "duration": 10,
    "start_time": "2022-02-17T19:33:27.091Z"
   },
   {
    "duration": 10,
    "start_time": "2022-02-17T19:33:37.768Z"
   },
   {
    "duration": 10,
    "start_time": "2022-02-17T19:33:51.112Z"
   },
   {
    "duration": 10,
    "start_time": "2022-02-17T19:34:59.708Z"
   },
   {
    "duration": 10,
    "start_time": "2022-02-17T19:35:39.371Z"
   },
   {
    "duration": 9,
    "start_time": "2022-02-17T19:35:51.259Z"
   },
   {
    "duration": 5,
    "start_time": "2022-02-17T19:36:08.369Z"
   },
   {
    "duration": 22,
    "start_time": "2022-02-17T19:36:08.377Z"
   },
   {
    "duration": 14,
    "start_time": "2022-02-17T19:36:08.402Z"
   },
   {
    "duration": 9,
    "start_time": "2022-02-17T19:36:08.419Z"
   },
   {
    "duration": 8,
    "start_time": "2022-02-17T19:36:08.462Z"
   },
   {
    "duration": 15,
    "start_time": "2022-02-17T19:36:08.473Z"
   },
   {
    "duration": 8,
    "start_time": "2022-02-17T19:36:08.491Z"
   },
   {
    "duration": 61,
    "start_time": "2022-02-17T19:36:08.504Z"
   },
   {
    "duration": 196,
    "start_time": "2022-02-17T19:36:08.568Z"
   },
   {
    "duration": 11,
    "start_time": "2022-02-17T19:36:08.767Z"
   },
   {
    "duration": 32,
    "start_time": "2022-02-17T19:36:08.780Z"
   },
   {
    "duration": 133,
    "start_time": "2022-02-17T19:36:08.815Z"
   },
   {
    "duration": 26,
    "start_time": "2022-02-17T19:36:08.951Z"
   },
   {
    "duration": 170,
    "start_time": "2022-02-17T19:36:08.980Z"
   },
   {
    "duration": 17,
    "start_time": "2022-02-17T19:36:09.153Z"
   },
   {
    "duration": 27,
    "start_time": "2022-02-17T19:36:09.173Z"
   },
   {
    "duration": 124,
    "start_time": "2022-02-17T19:36:09.203Z"
   },
   {
    "duration": 32,
    "start_time": "2022-02-17T19:36:09.329Z"
   },
   {
    "duration": 109,
    "start_time": "2022-02-17T19:36:09.364Z"
   },
   {
    "duration": 10,
    "start_time": "2022-02-17T19:36:09.476Z"
   },
   {
    "duration": 23,
    "start_time": "2022-02-17T19:36:09.488Z"
   },
   {
    "duration": 89,
    "start_time": "2022-02-17T19:36:09.514Z"
   },
   {
    "duration": 13,
    "start_time": "2022-02-17T19:36:09.610Z"
   },
   {
    "duration": 8,
    "start_time": "2022-02-17T19:36:09.627Z"
   },
   {
    "duration": 29,
    "start_time": "2022-02-17T19:36:09.638Z"
   },
   {
    "duration": 8,
    "start_time": "2022-02-17T19:36:09.669Z"
   },
   {
    "duration": 19,
    "start_time": "2022-02-17T19:36:09.680Z"
   },
   {
    "duration": 126,
    "start_time": "2022-02-17T19:36:09.702Z"
   },
   {
    "duration": 8,
    "start_time": "2022-02-17T19:36:09.831Z"
   },
   {
    "duration": 19,
    "start_time": "2022-02-17T19:36:09.842Z"
   },
   {
    "duration": 26,
    "start_time": "2022-02-17T19:36:09.864Z"
   },
   {
    "duration": 68,
    "start_time": "2022-02-17T19:36:09.893Z"
   },
   {
    "duration": 17,
    "start_time": "2022-02-17T19:36:09.964Z"
   },
   {
    "duration": 44,
    "start_time": "2022-02-17T19:36:09.984Z"
   },
   {
    "duration": 40,
    "start_time": "2022-02-17T19:36:10.031Z"
   },
   {
    "duration": 34,
    "start_time": "2022-02-17T19:36:10.074Z"
   },
   {
    "duration": 9,
    "start_time": "2022-02-17T19:36:10.111Z"
   },
   {
    "duration": 38,
    "start_time": "2022-02-17T19:36:10.123Z"
   },
   {
    "duration": 14,
    "start_time": "2022-02-17T19:36:10.164Z"
   },
   {
    "duration": 24,
    "start_time": "2022-02-17T19:36:10.181Z"
   },
   {
    "duration": 11,
    "start_time": "2022-02-17T19:36:10.208Z"
   },
   {
    "duration": 39,
    "start_time": "2022-02-17T19:36:10.222Z"
   },
   {
    "duration": 12,
    "start_time": "2022-02-17T19:36:10.264Z"
   },
   {
    "duration": 30,
    "start_time": "2022-02-17T19:36:10.279Z"
   },
   {
    "duration": 5,
    "start_time": "2022-02-17T19:36:10.312Z"
   },
   {
    "duration": 43,
    "start_time": "2022-02-17T19:36:10.320Z"
   },
   {
    "duration": 11,
    "start_time": "2022-02-17T19:36:10.366Z"
   },
   {
    "duration": 11,
    "start_time": "2022-02-17T19:36:10.379Z"
   },
   {
    "duration": 17,
    "start_time": "2022-02-17T19:36:10.393Z"
   },
   {
    "duration": 66,
    "start_time": "2022-02-17T19:36:10.413Z"
   },
   {
    "duration": 11,
    "start_time": "2022-02-17T19:36:10.482Z"
   },
   {
    "duration": 7,
    "start_time": "2022-02-17T19:36:10.495Z"
   },
   {
    "duration": 58,
    "start_time": "2022-02-17T19:36:10.505Z"
   },
   {
    "duration": 34,
    "start_time": "2022-02-17T19:36:10.567Z"
   },
   {
    "duration": 9,
    "start_time": "2022-02-17T19:36:10.603Z"
   },
   {
    "duration": 412,
    "start_time": "2022-02-17T19:36:10.615Z"
   },
   {
    "duration": 34,
    "start_time": "2022-02-17T19:36:11.030Z"
   },
   {
    "duration": 6247,
    "start_time": "2022-02-17T19:36:11.067Z"
   },
   {
    "duration": 89,
    "start_time": "2022-02-17T19:36:17.316Z"
   },
   {
    "duration": 12,
    "start_time": "2022-02-17T19:36:17.407Z"
   },
   {
    "duration": 13,
    "start_time": "2022-02-17T19:36:17.422Z"
   },
   {
    "duration": 14,
    "start_time": "2022-02-17T19:36:17.463Z"
   },
   {
    "duration": 17,
    "start_time": "2022-02-17T19:36:17.480Z"
   },
   {
    "duration": 14,
    "start_time": "2022-02-17T19:36:17.501Z"
   },
   {
    "duration": 1398,
    "start_time": "2022-02-18T09:01:10.508Z"
   },
   {
    "duration": 20,
    "start_time": "2022-02-18T09:01:11.909Z"
   },
   {
    "duration": 23,
    "start_time": "2022-02-18T09:01:11.933Z"
   },
   {
    "duration": 13,
    "start_time": "2022-02-18T09:01:11.959Z"
   },
   {
    "duration": 11,
    "start_time": "2022-02-18T09:01:11.975Z"
   },
   {
    "duration": 10,
    "start_time": "2022-02-18T09:01:11.989Z"
   },
   {
    "duration": 47,
    "start_time": "2022-02-18T09:01:12.001Z"
   },
   {
    "duration": 5,
    "start_time": "2022-02-18T09:01:12.053Z"
   },
   {
    "duration": 215,
    "start_time": "2022-02-18T09:01:12.062Z"
   },
   {
    "duration": 13,
    "start_time": "2022-02-18T09:01:12.280Z"
   },
   {
    "duration": 36,
    "start_time": "2022-02-18T09:01:12.296Z"
   },
   {
    "duration": 159,
    "start_time": "2022-02-18T09:01:12.335Z"
   },
   {
    "duration": 22,
    "start_time": "2022-02-18T09:01:12.497Z"
   },
   {
    "duration": 185,
    "start_time": "2022-02-18T09:01:12.521Z"
   },
   {
    "duration": 12,
    "start_time": "2022-02-18T09:01:12.708Z"
   },
   {
    "duration": 42,
    "start_time": "2022-02-18T09:01:12.723Z"
   },
   {
    "duration": 110,
    "start_time": "2022-02-18T09:01:12.767Z"
   },
   {
    "duration": 17,
    "start_time": "2022-02-18T09:01:12.879Z"
   },
   {
    "duration": 125,
    "start_time": "2022-02-18T09:01:12.898Z"
   },
   {
    "duration": 11,
    "start_time": "2022-02-18T09:01:13.025Z"
   },
   {
    "duration": 19,
    "start_time": "2022-02-18T09:01:13.049Z"
   },
   {
    "duration": 77,
    "start_time": "2022-02-18T09:01:13.071Z"
   },
   {
    "duration": 13,
    "start_time": "2022-02-18T09:01:13.155Z"
   },
   {
    "duration": 8,
    "start_time": "2022-02-18T09:01:13.171Z"
   },
   {
    "duration": 19,
    "start_time": "2022-02-18T09:01:13.181Z"
   },
   {
    "duration": 21,
    "start_time": "2022-02-18T09:01:13.202Z"
   },
   {
    "duration": 26,
    "start_time": "2022-02-18T09:01:13.225Z"
   },
   {
    "duration": 112,
    "start_time": "2022-02-18T09:01:13.253Z"
   },
   {
    "duration": 6,
    "start_time": "2022-02-18T09:01:13.367Z"
   },
   {
    "duration": 5,
    "start_time": "2022-02-18T09:01:13.376Z"
   },
   {
    "duration": 16,
    "start_time": "2022-02-18T09:01:13.384Z"
   },
   {
    "duration": 86,
    "start_time": "2022-02-18T09:01:13.403Z"
   },
   {
    "duration": 14,
    "start_time": "2022-02-18T09:01:13.491Z"
   },
   {
    "duration": 63,
    "start_time": "2022-02-18T09:01:13.507Z"
   },
   {
    "duration": 12,
    "start_time": "2022-02-18T09:01:13.572Z"
   },
   {
    "duration": 50,
    "start_time": "2022-02-18T09:01:13.586Z"
   },
   {
    "duration": 12,
    "start_time": "2022-02-18T09:01:13.639Z"
   },
   {
    "duration": 10,
    "start_time": "2022-02-18T09:01:13.654Z"
   },
   {
    "duration": 13,
    "start_time": "2022-02-18T09:01:13.666Z"
   },
   {
    "duration": 28,
    "start_time": "2022-02-18T09:01:13.681Z"
   },
   {
    "duration": 6,
    "start_time": "2022-02-18T09:01:13.712Z"
   },
   {
    "duration": 8,
    "start_time": "2022-02-18T09:01:13.747Z"
   },
   {
    "duration": 16,
    "start_time": "2022-02-18T09:01:13.757Z"
   },
   {
    "duration": 22,
    "start_time": "2022-02-18T09:01:13.776Z"
   },
   {
    "duration": 4,
    "start_time": "2022-02-18T09:01:13.801Z"
   },
   {
    "duration": 9,
    "start_time": "2022-02-18T09:01:13.808Z"
   },
   {
    "duration": 11,
    "start_time": "2022-02-18T09:01:13.848Z"
   },
   {
    "duration": 14,
    "start_time": "2022-02-18T09:01:13.861Z"
   },
   {
    "duration": 23,
    "start_time": "2022-02-18T09:01:13.877Z"
   },
   {
    "duration": 54,
    "start_time": "2022-02-18T09:01:13.903Z"
   },
   {
    "duration": 13,
    "start_time": "2022-02-18T09:01:13.959Z"
   },
   {
    "duration": 23,
    "start_time": "2022-02-18T09:01:13.975Z"
   },
   {
    "duration": 56,
    "start_time": "2022-02-18T09:01:14.000Z"
   },
   {
    "duration": 10,
    "start_time": "2022-02-18T09:01:14.059Z"
   },
   {
    "duration": 579,
    "start_time": "2022-02-18T09:01:14.072Z"
   },
   {
    "duration": 27,
    "start_time": "2022-02-18T09:01:14.654Z"
   },
   {
    "duration": 5687,
    "start_time": "2022-02-18T09:01:14.684Z"
   },
   {
    "duration": 95,
    "start_time": "2022-02-18T09:01:20.375Z"
   },
   {
    "duration": 11,
    "start_time": "2022-02-18T09:01:20.473Z"
   },
   {
    "duration": 12,
    "start_time": "2022-02-18T09:01:20.486Z"
   },
   {
    "duration": 27,
    "start_time": "2022-02-18T09:01:20.500Z"
   },
   {
    "duration": 38,
    "start_time": "2022-02-18T09:01:20.529Z"
   },
   {
    "duration": 28,
    "start_time": "2022-02-18T09:01:20.570Z"
   },
   {
    "duration": 29,
    "start_time": "2022-02-18T09:01:53.244Z"
   },
   {
    "duration": 4,
    "start_time": "2022-02-18T09:02:00.966Z"
   },
   {
    "duration": 27,
    "start_time": "2022-02-18T09:02:00.973Z"
   },
   {
    "duration": 18,
    "start_time": "2022-02-18T09:02:01.002Z"
   },
   {
    "duration": 29,
    "start_time": "2022-02-18T09:02:01.023Z"
   },
   {
    "duration": 12,
    "start_time": "2022-02-18T09:02:01.054Z"
   },
   {
    "duration": 13,
    "start_time": "2022-02-18T09:02:01.068Z"
   },
   {
    "duration": 11,
    "start_time": "2022-02-18T09:02:01.084Z"
   },
   {
    "duration": 51,
    "start_time": "2022-02-18T09:02:01.099Z"
   },
   {
    "duration": 207,
    "start_time": "2022-02-18T09:02:01.154Z"
   },
   {
    "duration": 10,
    "start_time": "2022-02-18T09:02:01.364Z"
   },
   {
    "duration": 31,
    "start_time": "2022-02-18T09:02:01.377Z"
   },
   {
    "duration": 149,
    "start_time": "2022-02-18T09:02:01.411Z"
   },
   {
    "duration": 20,
    "start_time": "2022-02-18T09:02:01.562Z"
   },
   {
    "duration": 175,
    "start_time": "2022-02-18T09:02:01.584Z"
   },
   {
    "duration": 13,
    "start_time": "2022-02-18T09:02:01.761Z"
   },
   {
    "duration": 39,
    "start_time": "2022-02-18T09:02:01.776Z"
   },
   {
    "duration": 110,
    "start_time": "2022-02-18T09:02:01.818Z"
   },
   {
    "duration": 30,
    "start_time": "2022-02-18T09:02:01.931Z"
   },
   {
    "duration": 115,
    "start_time": "2022-02-18T09:02:01.963Z"
   },
   {
    "duration": 11,
    "start_time": "2022-02-18T09:02:02.081Z"
   },
   {
    "duration": 24,
    "start_time": "2022-02-18T09:02:02.096Z"
   },
   {
    "duration": 84,
    "start_time": "2022-02-18T09:02:02.122Z"
   },
   {
    "duration": 14,
    "start_time": "2022-02-18T09:02:02.212Z"
   },
   {
    "duration": 22,
    "start_time": "2022-02-18T09:02:02.229Z"
   },
   {
    "duration": 15,
    "start_time": "2022-02-18T09:02:02.253Z"
   },
   {
    "duration": 19,
    "start_time": "2022-02-18T09:02:02.271Z"
   },
   {
    "duration": 17,
    "start_time": "2022-02-18T09:02:02.293Z"
   },
   {
    "duration": 110,
    "start_time": "2022-02-18T09:02:02.313Z"
   },
   {
    "duration": 6,
    "start_time": "2022-02-18T09:02:02.426Z"
   },
   {
    "duration": 7,
    "start_time": "2022-02-18T09:02:02.449Z"
   },
   {
    "duration": 26,
    "start_time": "2022-02-18T09:02:02.459Z"
   },
   {
    "duration": 87,
    "start_time": "2022-02-18T09:02:02.488Z"
   },
   {
    "duration": 18,
    "start_time": "2022-02-18T09:02:02.578Z"
   },
   {
    "duration": 59,
    "start_time": "2022-02-18T09:02:02.598Z"
   },
   {
    "duration": 13,
    "start_time": "2022-02-18T09:02:02.660Z"
   },
   {
    "duration": 35,
    "start_time": "2022-02-18T09:02:02.676Z"
   },
   {
    "duration": 37,
    "start_time": "2022-02-18T09:02:02.713Z"
   },
   {
    "duration": 8,
    "start_time": "2022-02-18T09:02:02.753Z"
   },
   {
    "duration": 14,
    "start_time": "2022-02-18T09:02:02.764Z"
   },
   {
    "duration": 21,
    "start_time": "2022-02-18T09:02:02.781Z"
   },
   {
    "duration": 5,
    "start_time": "2022-02-18T09:02:02.804Z"
   },
   {
    "duration": 56,
    "start_time": "2022-02-18T09:02:02.811Z"
   },
   {
    "duration": 14,
    "start_time": "2022-02-18T09:02:02.869Z"
   },
   {
    "duration": 21,
    "start_time": "2022-02-18T09:02:02.885Z"
   },
   {
    "duration": 4,
    "start_time": "2022-02-18T09:02:02.909Z"
   },
   {
    "duration": 11,
    "start_time": "2022-02-18T09:02:02.916Z"
   },
   {
    "duration": 28,
    "start_time": "2022-02-18T09:02:02.929Z"
   },
   {
    "duration": 11,
    "start_time": "2022-02-18T09:02:02.960Z"
   },
   {
    "duration": 21,
    "start_time": "2022-02-18T09:02:02.974Z"
   },
   {
    "duration": 62,
    "start_time": "2022-02-18T09:02:02.998Z"
   },
   {
    "duration": 10,
    "start_time": "2022-02-18T09:02:03.063Z"
   },
   {
    "duration": 30,
    "start_time": "2022-02-18T09:02:03.075Z"
   },
   {
    "duration": 54,
    "start_time": "2022-02-18T09:02:03.107Z"
   },
   {
    "duration": 8,
    "start_time": "2022-02-18T09:02:03.163Z"
   },
   {
    "duration": 381,
    "start_time": "2022-02-18T09:02:03.174Z"
   },
   {
    "duration": 28,
    "start_time": "2022-02-18T09:02:03.557Z"
   },
   {
    "duration": 5355,
    "start_time": "2022-02-18T09:02:03.588Z"
   },
   {
    "duration": 65,
    "start_time": "2022-02-18T09:02:08.949Z"
   },
   {
    "duration": 35,
    "start_time": "2022-02-18T09:02:09.017Z"
   },
   {
    "duration": 14,
    "start_time": "2022-02-18T09:02:09.055Z"
   },
   {
    "duration": 16,
    "start_time": "2022-02-18T09:02:09.071Z"
   },
   {
    "duration": 22,
    "start_time": "2022-02-18T09:02:09.090Z"
   },
   {
    "duration": 12,
    "start_time": "2022-02-18T09:02:09.114Z"
   },
   {
    "duration": 66,
    "start_time": "2022-02-18T09:10:42.106Z"
   },
   {
    "duration": 5,
    "start_time": "2022-02-18T11:03:01.101Z"
   },
   {
    "duration": 25,
    "start_time": "2022-02-18T11:03:01.110Z"
   },
   {
    "duration": 23,
    "start_time": "2022-02-18T11:03:01.139Z"
   },
   {
    "duration": 38,
    "start_time": "2022-02-18T11:03:01.166Z"
   },
   {
    "duration": 47,
    "start_time": "2022-02-18T11:03:01.207Z"
   },
   {
    "duration": 15,
    "start_time": "2022-02-18T11:03:01.257Z"
   },
   {
    "duration": 20,
    "start_time": "2022-02-18T11:03:01.274Z"
   },
   {
    "duration": 9,
    "start_time": "2022-02-18T11:03:01.300Z"
   },
   {
    "duration": 316,
    "start_time": "2022-02-18T11:03:01.313Z"
   },
   {
    "duration": 24,
    "start_time": "2022-02-18T11:03:01.633Z"
   },
   {
    "duration": 66,
    "start_time": "2022-02-18T11:03:01.661Z"
   },
   {
    "duration": 134,
    "start_time": "2022-02-18T11:03:01.730Z"
   },
   {
    "duration": 23,
    "start_time": "2022-02-18T11:03:01.867Z"
   },
   {
    "duration": 197,
    "start_time": "2022-02-18T11:03:01.893Z"
   },
   {
    "duration": 13,
    "start_time": "2022-02-18T11:03:02.093Z"
   },
   {
    "duration": 49,
    "start_time": "2022-02-18T11:03:02.110Z"
   },
   {
    "duration": 152,
    "start_time": "2022-02-18T11:03:02.162Z"
   },
   {
    "duration": 37,
    "start_time": "2022-02-18T11:03:02.317Z"
   },
   {
    "duration": 122,
    "start_time": "2022-02-18T11:03:02.357Z"
   },
   {
    "duration": 11,
    "start_time": "2022-02-18T11:03:02.481Z"
   },
   {
    "duration": 22,
    "start_time": "2022-02-18T11:03:02.496Z"
   },
   {
    "duration": 95,
    "start_time": "2022-02-18T11:03:02.521Z"
   },
   {
    "duration": 26,
    "start_time": "2022-02-18T11:03:02.622Z"
   },
   {
    "duration": 7,
    "start_time": "2022-02-18T11:03:02.654Z"
   },
   {
    "duration": 36,
    "start_time": "2022-02-18T11:03:02.664Z"
   },
   {
    "duration": 13,
    "start_time": "2022-02-18T11:03:02.703Z"
   },
   {
    "duration": 17,
    "start_time": "2022-02-18T11:03:02.719Z"
   },
   {
    "duration": 114,
    "start_time": "2022-02-18T11:03:02.750Z"
   },
   {
    "duration": 9,
    "start_time": "2022-02-18T11:03:02.867Z"
   },
   {
    "duration": 9,
    "start_time": "2022-02-18T11:03:02.880Z"
   },
   {
    "duration": 21,
    "start_time": "2022-02-18T11:03:02.892Z"
   },
   {
    "duration": 92,
    "start_time": "2022-02-18T11:03:02.916Z"
   },
   {
    "duration": 14,
    "start_time": "2022-02-18T11:03:03.011Z"
   },
   {
    "duration": 63,
    "start_time": "2022-02-18T11:03:03.028Z"
   },
   {
    "duration": 13,
    "start_time": "2022-02-18T11:03:03.094Z"
   },
   {
    "duration": 56,
    "start_time": "2022-02-18T11:03:03.110Z"
   },
   {
    "duration": 9,
    "start_time": "2022-02-18T11:03:03.169Z"
   },
   {
    "duration": 4,
    "start_time": "2022-02-18T11:03:03.181Z"
   },
   {
    "duration": 17,
    "start_time": "2022-02-18T11:03:03.188Z"
   },
   {
    "duration": 57,
    "start_time": "2022-02-18T11:03:03.208Z"
   },
   {
    "duration": 6,
    "start_time": "2022-02-18T11:03:03.268Z"
   },
   {
    "duration": 10,
    "start_time": "2022-02-18T11:03:03.277Z"
   },
   {
    "duration": 24,
    "start_time": "2022-02-18T11:03:03.290Z"
   },
   {
    "duration": 57,
    "start_time": "2022-02-18T11:03:03.318Z"
   },
   {
    "duration": 5,
    "start_time": "2022-02-18T11:03:03.379Z"
   },
   {
    "duration": 14,
    "start_time": "2022-02-18T11:03:03.387Z"
   },
   {
    "duration": 14,
    "start_time": "2022-02-18T11:03:03.403Z"
   },
   {
    "duration": 42,
    "start_time": "2022-02-18T11:03:03.420Z"
   },
   {
    "duration": 23,
    "start_time": "2022-02-18T11:03:03.466Z"
   },
   {
    "duration": 73,
    "start_time": "2022-02-18T11:03:03.493Z"
   },
   {
    "duration": 17,
    "start_time": "2022-02-18T11:03:03.570Z"
   },
   {
    "duration": 30,
    "start_time": "2022-02-18T11:03:03.590Z"
   },
   {
    "duration": 51,
    "start_time": "2022-02-18T11:03:03.650Z"
   },
   {
    "duration": 8,
    "start_time": "2022-02-18T11:03:03.704Z"
   },
   {
    "duration": 407,
    "start_time": "2022-02-18T11:03:03.715Z"
   },
   {
    "duration": 44,
    "start_time": "2022-02-18T11:03:04.125Z"
   },
   {
    "duration": 5964,
    "start_time": "2022-02-18T11:03:04.171Z"
   },
   {
    "duration": 75,
    "start_time": "2022-02-18T11:03:10.138Z"
   },
   {
    "duration": 35,
    "start_time": "2022-02-18T11:03:10.216Z"
   },
   {
    "duration": 15,
    "start_time": "2022-02-18T11:03:10.254Z"
   },
   {
    "duration": 13,
    "start_time": "2022-02-18T11:03:10.272Z"
   },
   {
    "duration": 14,
    "start_time": "2022-02-18T11:03:10.288Z"
   },
   {
    "duration": 10,
    "start_time": "2022-02-18T11:03:10.305Z"
   },
   {
    "duration": 100,
    "start_time": "2022-02-27T16:30:31.312Z"
   },
   {
    "duration": 1409,
    "start_time": "2022-02-27T16:34:35.249Z"
   },
   {
    "duration": 20,
    "start_time": "2022-02-27T16:34:36.661Z"
   },
   {
    "duration": 28,
    "start_time": "2022-02-27T16:34:36.685Z"
   },
   {
    "duration": 15,
    "start_time": "2022-02-27T16:34:36.717Z"
   },
   {
    "duration": 12,
    "start_time": "2022-02-27T16:34:36.735Z"
   },
   {
    "duration": 45,
    "start_time": "2022-02-27T16:34:36.750Z"
   },
   {
    "duration": 14,
    "start_time": "2022-02-27T16:34:36.798Z"
   },
   {
    "duration": 8,
    "start_time": "2022-02-27T16:34:36.816Z"
   },
   {
    "duration": 226,
    "start_time": "2022-02-27T16:34:36.827Z"
   },
   {
    "duration": 12,
    "start_time": "2022-02-27T16:34:37.055Z"
   },
   {
    "duration": 50,
    "start_time": "2022-02-27T16:34:37.070Z"
   },
   {
    "duration": 147,
    "start_time": "2022-02-27T16:34:37.122Z"
   },
   {
    "duration": 33,
    "start_time": "2022-02-27T16:34:37.271Z"
   },
   {
    "duration": 189,
    "start_time": "2022-02-27T16:34:37.307Z"
   },
   {
    "duration": 14,
    "start_time": "2022-02-27T16:34:37.499Z"
   },
   {
    "duration": 28,
    "start_time": "2022-02-27T16:34:37.515Z"
   },
   {
    "duration": 135,
    "start_time": "2022-02-27T16:34:37.545Z"
   },
   {
    "duration": 24,
    "start_time": "2022-02-27T16:34:37.682Z"
   },
   {
    "duration": 133,
    "start_time": "2022-02-27T16:34:37.709Z"
   },
   {
    "duration": 11,
    "start_time": "2022-02-27T16:34:37.844Z"
   },
   {
    "duration": 39,
    "start_time": "2022-02-27T16:34:37.858Z"
   },
   {
    "duration": 79,
    "start_time": "2022-02-27T16:34:37.900Z"
   },
   {
    "duration": 15,
    "start_time": "2022-02-27T16:34:37.984Z"
   },
   {
    "duration": 10,
    "start_time": "2022-02-27T16:34:38.004Z"
   },
   {
    "duration": 17,
    "start_time": "2022-02-27T16:34:38.016Z"
   },
   {
    "duration": 12,
    "start_time": "2022-02-27T16:34:38.035Z"
   },
   {
    "duration": 13,
    "start_time": "2022-02-27T16:34:38.049Z"
   },
   {
    "duration": 111,
    "start_time": "2022-02-27T16:34:38.088Z"
   },
   {
    "duration": 8,
    "start_time": "2022-02-27T16:34:38.202Z"
   },
   {
    "duration": 12,
    "start_time": "2022-02-27T16:34:38.213Z"
   },
   {
    "duration": 19,
    "start_time": "2022-02-27T16:34:38.227Z"
   },
   {
    "duration": 90,
    "start_time": "2022-02-27T16:34:38.249Z"
   },
   {
    "duration": 16,
    "start_time": "2022-02-27T16:34:38.341Z"
   },
   {
    "duration": 68,
    "start_time": "2022-02-27T16:34:38.359Z"
   },
   {
    "duration": 14,
    "start_time": "2022-02-27T16:34:38.430Z"
   },
   {
    "duration": 65,
    "start_time": "2022-02-27T16:34:38.446Z"
   },
   {
    "duration": 7,
    "start_time": "2022-02-27T16:34:38.514Z"
   },
   {
    "duration": 13,
    "start_time": "2022-02-27T16:34:38.524Z"
   },
   {
    "duration": 14,
    "start_time": "2022-02-27T16:34:38.539Z"
   },
   {
    "duration": 47,
    "start_time": "2022-02-27T16:34:38.556Z"
   },
   {
    "duration": 8,
    "start_time": "2022-02-27T16:34:38.606Z"
   },
   {
    "duration": 19,
    "start_time": "2022-02-27T16:34:38.617Z"
   },
   {
    "duration": 16,
    "start_time": "2022-02-27T16:34:38.638Z"
   },
   {
    "duration": 51,
    "start_time": "2022-02-27T16:34:38.657Z"
   },
   {
    "duration": 4,
    "start_time": "2022-02-27T16:34:38.714Z"
   },
   {
    "duration": 9,
    "start_time": "2022-02-27T16:34:38.720Z"
   },
   {
    "duration": 11,
    "start_time": "2022-02-27T16:34:38.732Z"
   },
   {
    "duration": 10,
    "start_time": "2022-02-27T16:34:38.745Z"
   },
   {
    "duration": 44,
    "start_time": "2022-02-27T16:34:38.757Z"
   },
   {
    "duration": 30,
    "start_time": "2022-02-27T16:34:38.804Z"
   },
   {
    "duration": 12,
    "start_time": "2022-02-27T16:34:38.836Z"
   },
   {
    "duration": 55,
    "start_time": "2022-02-27T16:34:38.851Z"
   },
   {
    "duration": 31,
    "start_time": "2022-02-27T16:34:38.908Z"
   },
   {
    "duration": 11,
    "start_time": "2022-02-27T16:34:38.942Z"
   },
   {
    "duration": 411,
    "start_time": "2022-02-27T16:34:38.955Z"
   },
   {
    "duration": 52,
    "start_time": "2022-02-27T16:34:39.368Z"
   },
   {
    "duration": 34,
    "start_time": "2022-02-27T16:34:49.581Z"
   },
   {
    "duration": 62,
    "start_time": "2022-02-28T10:15:12.329Z"
   },
   {
    "duration": 231,
    "start_time": "2022-02-28T10:15:50.554Z"
   },
   {
    "duration": 1036,
    "start_time": "2022-02-28T10:15:54.486Z"
   },
   {
    "duration": 22,
    "start_time": "2022-02-28T10:15:55.523Z"
   },
   {
    "duration": 11,
    "start_time": "2022-02-28T10:15:55.547Z"
   },
   {
    "duration": 6,
    "start_time": "2022-02-28T10:15:55.560Z"
   },
   {
    "duration": 7,
    "start_time": "2022-02-28T10:15:55.568Z"
   },
   {
    "duration": 7,
    "start_time": "2022-02-28T10:15:55.577Z"
   },
   {
    "duration": 4,
    "start_time": "2022-02-28T10:15:55.586Z"
   },
   {
    "duration": 6,
    "start_time": "2022-02-28T10:15:55.592Z"
   },
   {
    "duration": 165,
    "start_time": "2022-02-28T10:15:55.600Z"
   },
   {
    "duration": 8,
    "start_time": "2022-02-28T10:15:55.767Z"
   },
   {
    "duration": 27,
    "start_time": "2022-02-28T10:15:55.777Z"
   },
   {
    "duration": 116,
    "start_time": "2022-02-28T10:15:55.806Z"
   },
   {
    "duration": 20,
    "start_time": "2022-02-28T10:15:55.924Z"
   },
   {
    "duration": 127,
    "start_time": "2022-02-28T10:15:55.946Z"
   },
   {
    "duration": 7,
    "start_time": "2022-02-28T10:15:56.075Z"
   },
   {
    "duration": 19,
    "start_time": "2022-02-28T10:15:56.084Z"
   },
   {
    "duration": 74,
    "start_time": "2022-02-28T10:15:56.105Z"
   },
   {
    "duration": 13,
    "start_time": "2022-02-28T10:15:56.181Z"
   },
   {
    "duration": 85,
    "start_time": "2022-02-28T10:15:56.195Z"
   },
   {
    "duration": 7,
    "start_time": "2022-02-28T10:15:56.281Z"
   },
   {
    "duration": 17,
    "start_time": "2022-02-28T10:15:56.289Z"
   },
   {
    "duration": 57,
    "start_time": "2022-02-28T10:15:56.308Z"
   },
   {
    "duration": 11,
    "start_time": "2022-02-28T10:15:56.369Z"
   },
   {
    "duration": 7,
    "start_time": "2022-02-28T10:15:56.382Z"
   },
   {
    "duration": 12,
    "start_time": "2022-02-28T10:15:56.390Z"
   },
   {
    "duration": 8,
    "start_time": "2022-02-28T10:15:56.404Z"
   },
   {
    "duration": 10,
    "start_time": "2022-02-28T10:15:56.414Z"
   },
   {
    "duration": 60,
    "start_time": "2022-02-28T10:15:56.438Z"
   },
   {
    "duration": 4,
    "start_time": "2022-02-28T10:15:56.500Z"
   },
   {
    "duration": 8,
    "start_time": "2022-02-28T10:15:56.506Z"
   },
   {
    "duration": 26,
    "start_time": "2022-02-28T10:15:56.515Z"
   },
   {
    "duration": 37,
    "start_time": "2022-02-28T10:15:56.543Z"
   },
   {
    "duration": 9,
    "start_time": "2022-02-28T10:15:56.582Z"
   },
   {
    "duration": 46,
    "start_time": "2022-02-28T10:15:56.592Z"
   },
   {
    "duration": 8,
    "start_time": "2022-02-28T10:15:56.640Z"
   },
   {
    "duration": 28,
    "start_time": "2022-02-28T10:15:56.650Z"
   },
   {
    "duration": 6,
    "start_time": "2022-02-28T10:15:56.679Z"
   },
   {
    "duration": 16,
    "start_time": "2022-02-28T10:15:56.686Z"
   },
   {
    "duration": 11,
    "start_time": "2022-02-28T10:15:56.703Z"
   },
   {
    "duration": 29,
    "start_time": "2022-02-28T10:15:56.716Z"
   },
   {
    "duration": 4,
    "start_time": "2022-02-28T10:15:56.747Z"
   },
   {
    "duration": 12,
    "start_time": "2022-02-28T10:15:56.753Z"
   },
   {
    "duration": 9,
    "start_time": "2022-02-28T10:15:56.766Z"
   },
   {
    "duration": 17,
    "start_time": "2022-02-28T10:15:56.776Z"
   },
   {
    "duration": 2,
    "start_time": "2022-02-28T10:15:56.795Z"
   },
   {
    "duration": 9,
    "start_time": "2022-02-28T10:15:56.799Z"
   },
   {
    "duration": 29,
    "start_time": "2022-02-28T10:15:56.809Z"
   },
   {
    "duration": 6,
    "start_time": "2022-02-28T10:15:56.840Z"
   },
   {
    "duration": 12,
    "start_time": "2022-02-28T10:15:56.848Z"
   },
   {
    "duration": 17,
    "start_time": "2022-02-28T10:15:56.862Z"
   },
   {
    "duration": 7,
    "start_time": "2022-02-28T10:15:56.881Z"
   },
   {
    "duration": 13,
    "start_time": "2022-02-28T10:15:56.889Z"
   },
   {
    "duration": 47,
    "start_time": "2022-02-28T10:15:56.904Z"
   },
   {
    "duration": 4,
    "start_time": "2022-02-28T10:15:56.953Z"
   },
   {
    "duration": 200,
    "start_time": "2022-02-28T10:15:56.959Z"
   },
   {
    "duration": 17,
    "start_time": "2022-02-28T10:15:57.161Z"
   },
   {
    "duration": 3156,
    "start_time": "2022-02-28T10:15:57.180Z"
   },
   {
    "duration": 34,
    "start_time": "2022-02-28T10:16:00.338Z"
   },
   {
    "duration": 8,
    "start_time": "2022-02-28T10:16:00.374Z"
   },
   {
    "duration": 11,
    "start_time": "2022-02-28T10:16:00.384Z"
   },
   {
    "duration": 20,
    "start_time": "2022-02-28T10:16:00.396Z"
   },
   {
    "duration": 27,
    "start_time": "2022-02-28T10:16:00.418Z"
   },
   {
    "duration": 20,
    "start_time": "2022-02-28T10:16:00.447Z"
   },
   {
    "duration": 19,
    "start_time": "2022-02-28T10:22:18.840Z"
   },
   {
    "duration": 4269,
    "start_time": "2022-02-28T10:32:51.611Z"
   },
   {
    "duration": 4437,
    "start_time": "2022-02-28T10:33:37.729Z"
   },
   {
    "duration": 3108,
    "start_time": "2022-02-28T10:33:52.082Z"
   },
   {
    "duration": 3348,
    "start_time": "2022-02-28T10:34:07.723Z"
   },
   {
    "duration": 3229,
    "start_time": "2022-02-28T10:35:48.141Z"
   },
   {
    "duration": 3804,
    "start_time": "2022-02-28T10:36:03.162Z"
   },
   {
    "duration": 1743,
    "start_time": "2022-02-28T10:37:16.523Z"
   },
   {
    "duration": 3307,
    "start_time": "2022-02-28T10:37:31.708Z"
   },
   {
    "duration": 580,
    "start_time": "2022-02-28T10:38:31.323Z"
   },
   {
    "duration": 734,
    "start_time": "2022-02-28T10:41:25.691Z"
   },
   {
    "duration": 654,
    "start_time": "2022-02-28T10:42:08.236Z"
   },
   {
    "duration": 557,
    "start_time": "2022-02-28T10:42:19.692Z"
   },
   {
    "duration": 547,
    "start_time": "2022-02-28T10:42:25.420Z"
   },
   {
    "duration": 772,
    "start_time": "2022-02-28T10:44:54.540Z"
   }
  ],
  "kernelspec": {
   "display_name": "Python 3 (ipykernel)",
   "language": "python",
   "name": "python3"
  },
  "language_info": {
   "codemirror_mode": {
    "name": "ipython",
    "version": 3
   },
   "file_extension": ".py",
   "mimetype": "text/x-python",
   "name": "python",
   "nbconvert_exporter": "python",
   "pygments_lexer": "ipython3",
   "version": "3.9.5"
  },
  "toc": {
   "base_numbering": 1,
   "nav_menu": {},
   "number_sections": true,
   "sideBar": true,
   "skip_h1_title": true,
   "title_cell": "Table of Contents",
   "title_sidebar": "Contents",
   "toc_cell": false,
   "toc_position": {
    "height": "calc(100% - 180px)",
    "left": "10px",
    "top": "150px",
    "width": "396.84px"
   },
   "toc_section_display": true,
   "toc_window_display": true
  }
 },
 "nbformat": 4,
 "nbformat_minor": 2
}
