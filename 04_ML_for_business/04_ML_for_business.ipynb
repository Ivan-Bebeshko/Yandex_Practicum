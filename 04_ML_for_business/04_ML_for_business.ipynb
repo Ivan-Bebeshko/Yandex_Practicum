{
 "cells": [
  {
   "cell_type": "markdown",
   "metadata": {},
   "source": [
    "# Выбор локации для скважины"
   ]
  },
  {
   "attachments": {},
   "cell_type": "markdown",
   "metadata": {},
   "source": [
    "Нужно решить, где бурить новую скважину.\n",
    "\n",
    "Предоставлены пробы нефти в трёх регионах: в каждом 10 000 месторождений, где измерили качество нефти и объём её запасов. Необходимо построить модель машинного обучения, которая поможет определить регион, где добыча принесёт наибольшую прибыль. Требуется проанализировать возможную прибыль и риски техникой *Bootstrap.*\n",
    "\n",
    "Шаги для выбора локации:\n",
    "\n",
    "- В избранном регионе ищут месторождения, для каждого определяют значения признаков;\n",
    "- Строят модель и оценивают объём запасов;\n",
    "- Выбирают месторождения с самым высокими оценками значений. Количество месторождений зависит от бюджета компании и стоимости разработки одной скважины;\n",
    "- Прибыль равна суммарной прибыли отобранных месторождений.\n",
    "- После оценки рисков нужно оставить лишь те регионы, в которых вероятность убытков меньше 2.5%. Среди них выбирают регион с наибольшей средней прибылью."
   ]
  },
  {
   "cell_type": "markdown",
   "metadata": {},
   "source": [
    "**Легенда:**\n",
    "- id — уникальный идентификатор скважины;\n",
    "- f0, f1, f2 — три признака точек (неважно, что они означают, но сами признаки значимы);\n",
    "- product — объём запасов в скважине (тыс. баррелей)."
   ]
  },
  {
   "cell_type": "markdown",
   "metadata": {},
   "source": [
    "## Импорт требуемых библиотек ##"
   ]
  },
  {
   "cell_type": "code",
   "execution_count": 25,
   "metadata": {},
   "outputs": [],
   "source": [
    "import pandas as pd             #программная библиотека для обработки и анализа данных. Работа pandas с данными строится поверх библиотеки NumPy\n",
    "import numpy as np              #поддержка многомерных массивов; поддержка высокоуровневых математических функций, предназначенных для работы с многомерными массивами\n",
    "\n",
    "from sklearn.linear_model import LinearRegression      #импорт модуля линейной регрессии\n",
    "\n",
    "from sklearn.model_selection import train_test_split   #функция train_test_split для разделения датафрейма\n",
    "\n",
    "from sklearn.metrics import mean_squared_error         #импорт среднеквардатичного отклонения для оценки качества модели"
   ]
  },
  {
   "cell_type": "markdown",
   "metadata": {},
   "source": [
    "## Загрузка и подготовка данных"
   ]
  },
  {
   "cell_type": "code",
   "execution_count": 26,
   "metadata": {},
   "outputs": [],
   "source": [
    "df0 = pd.read_csv('/datasets/geo_data_0.csv') #серверный путь\n",
    "df0.name = 'District 1'\n",
    "\n",
    "df1 = pd.read_csv('/datasets/geo_data_1.csv') #серверный путь\n",
    "df1.name = 'District 2'\n",
    "\n",
    "df2 = pd.read_csv('/datasets/geo_data_2.csv') #серверный путь\n",
    "df2.name = 'District 3'"
   ]
  },
  {
   "cell_type": "code",
   "execution_count": 27,
   "metadata": {},
   "outputs": [
    {
     "data": {
      "text/html": [
       "<div>\n",
       "<style scoped>\n",
       "    .dataframe tbody tr th:only-of-type {\n",
       "        vertical-align: middle;\n",
       "    }\n",
       "\n",
       "    .dataframe tbody tr th {\n",
       "        vertical-align: top;\n",
       "    }\n",
       "\n",
       "    .dataframe thead th {\n",
       "        text-align: right;\n",
       "    }\n",
       "</style>\n",
       "<table border=\"1\" class=\"dataframe\">\n",
       "  <thead>\n",
       "    <tr style=\"text-align: right;\">\n",
       "      <th></th>\n",
       "      <th>id</th>\n",
       "      <th>f0</th>\n",
       "      <th>f1</th>\n",
       "      <th>f2</th>\n",
       "      <th>product</th>\n",
       "    </tr>\n",
       "  </thead>\n",
       "  <tbody>\n",
       "    <tr>\n",
       "      <th>0</th>\n",
       "      <td>txEyH</td>\n",
       "      <td>0.705745</td>\n",
       "      <td>-0.497823</td>\n",
       "      <td>1.221170</td>\n",
       "      <td>105.280062</td>\n",
       "    </tr>\n",
       "    <tr>\n",
       "      <th>1</th>\n",
       "      <td>2acmU</td>\n",
       "      <td>1.334711</td>\n",
       "      <td>-0.340164</td>\n",
       "      <td>4.365080</td>\n",
       "      <td>73.037750</td>\n",
       "    </tr>\n",
       "    <tr>\n",
       "      <th>2</th>\n",
       "      <td>409Wp</td>\n",
       "      <td>1.022732</td>\n",
       "      <td>0.151990</td>\n",
       "      <td>1.419926</td>\n",
       "      <td>85.265647</td>\n",
       "    </tr>\n",
       "  </tbody>\n",
       "</table>\n",
       "</div>"
      ],
      "text/plain": [
       "      id        f0        f1        f2     product\n",
       "0  txEyH  0.705745 -0.497823  1.221170  105.280062\n",
       "1  2acmU  1.334711 -0.340164  4.365080   73.037750\n",
       "2  409Wp  1.022732  0.151990  1.419926   85.265647"
      ]
     },
     "metadata": {},
     "output_type": "display_data"
    },
    {
     "data": {
      "text/html": [
       "<div>\n",
       "<style scoped>\n",
       "    .dataframe tbody tr th:only-of-type {\n",
       "        vertical-align: middle;\n",
       "    }\n",
       "\n",
       "    .dataframe tbody tr th {\n",
       "        vertical-align: top;\n",
       "    }\n",
       "\n",
       "    .dataframe thead th {\n",
       "        text-align: right;\n",
       "    }\n",
       "</style>\n",
       "<table border=\"1\" class=\"dataframe\">\n",
       "  <thead>\n",
       "    <tr style=\"text-align: right;\">\n",
       "      <th></th>\n",
       "      <th>id</th>\n",
       "      <th>f0</th>\n",
       "      <th>f1</th>\n",
       "      <th>f2</th>\n",
       "      <th>product</th>\n",
       "    </tr>\n",
       "  </thead>\n",
       "  <tbody>\n",
       "    <tr>\n",
       "      <th>0</th>\n",
       "      <td>kBEdx</td>\n",
       "      <td>-15.001348</td>\n",
       "      <td>-8.276000</td>\n",
       "      <td>-0.005876</td>\n",
       "      <td>3.179103</td>\n",
       "    </tr>\n",
       "    <tr>\n",
       "      <th>1</th>\n",
       "      <td>62mP7</td>\n",
       "      <td>14.272088</td>\n",
       "      <td>-3.475083</td>\n",
       "      <td>0.999183</td>\n",
       "      <td>26.953261</td>\n",
       "    </tr>\n",
       "    <tr>\n",
       "      <th>2</th>\n",
       "      <td>vyE1P</td>\n",
       "      <td>6.263187</td>\n",
       "      <td>-5.948386</td>\n",
       "      <td>5.001160</td>\n",
       "      <td>134.766305</td>\n",
       "    </tr>\n",
       "  </tbody>\n",
       "</table>\n",
       "</div>"
      ],
      "text/plain": [
       "      id         f0        f1        f2     product\n",
       "0  kBEdx -15.001348 -8.276000 -0.005876    3.179103\n",
       "1  62mP7  14.272088 -3.475083  0.999183   26.953261\n",
       "2  vyE1P   6.263187 -5.948386  5.001160  134.766305"
      ]
     },
     "metadata": {},
     "output_type": "display_data"
    },
    {
     "data": {
      "text/html": [
       "<div>\n",
       "<style scoped>\n",
       "    .dataframe tbody tr th:only-of-type {\n",
       "        vertical-align: middle;\n",
       "    }\n",
       "\n",
       "    .dataframe tbody tr th {\n",
       "        vertical-align: top;\n",
       "    }\n",
       "\n",
       "    .dataframe thead th {\n",
       "        text-align: right;\n",
       "    }\n",
       "</style>\n",
       "<table border=\"1\" class=\"dataframe\">\n",
       "  <thead>\n",
       "    <tr style=\"text-align: right;\">\n",
       "      <th></th>\n",
       "      <th>id</th>\n",
       "      <th>f0</th>\n",
       "      <th>f1</th>\n",
       "      <th>f2</th>\n",
       "      <th>product</th>\n",
       "    </tr>\n",
       "  </thead>\n",
       "  <tbody>\n",
       "    <tr>\n",
       "      <th>0</th>\n",
       "      <td>fwXo0</td>\n",
       "      <td>-1.146987</td>\n",
       "      <td>0.963328</td>\n",
       "      <td>-0.828965</td>\n",
       "      <td>27.758673</td>\n",
       "    </tr>\n",
       "    <tr>\n",
       "      <th>1</th>\n",
       "      <td>WJtFt</td>\n",
       "      <td>0.262778</td>\n",
       "      <td>0.269839</td>\n",
       "      <td>-2.530187</td>\n",
       "      <td>56.069697</td>\n",
       "    </tr>\n",
       "    <tr>\n",
       "      <th>2</th>\n",
       "      <td>ovLUW</td>\n",
       "      <td>0.194587</td>\n",
       "      <td>0.289035</td>\n",
       "      <td>-5.586433</td>\n",
       "      <td>62.871910</td>\n",
       "    </tr>\n",
       "  </tbody>\n",
       "</table>\n",
       "</div>"
      ],
      "text/plain": [
       "      id        f0        f1        f2    product\n",
       "0  fwXo0 -1.146987  0.963328 -0.828965  27.758673\n",
       "1  WJtFt  0.262778  0.269839 -2.530187  56.069697\n",
       "2  ovLUW  0.194587  0.289035 -5.586433  62.871910"
      ]
     },
     "metadata": {},
     "output_type": "display_data"
    }
   ],
   "source": [
    "display(df0.head(3))\n",
    "display(df1.head(3))\n",
    "display(df2.head(3))"
   ]
  },
  {
   "cell_type": "code",
   "execution_count": 28,
   "metadata": {},
   "outputs": [
    {
     "name": "stdout",
     "output_type": "stream",
     "text": [
      "<class 'pandas.core.frame.DataFrame'>\n",
      "RangeIndex: 100000 entries, 0 to 99999\n",
      "Data columns (total 5 columns):\n",
      " #   Column   Non-Null Count   Dtype  \n",
      "---  ------   --------------   -----  \n",
      " 0   id       100000 non-null  object \n",
      " 1   f0       100000 non-null  float64\n",
      " 2   f1       100000 non-null  float64\n",
      " 3   f2       100000 non-null  float64\n",
      " 4   product  100000 non-null  float64\n",
      "dtypes: float64(4), object(1)\n",
      "memory usage: 3.8+ MB\n",
      "\n",
      "<class 'pandas.core.frame.DataFrame'>\n",
      "RangeIndex: 100000 entries, 0 to 99999\n",
      "Data columns (total 5 columns):\n",
      " #   Column   Non-Null Count   Dtype  \n",
      "---  ------   --------------   -----  \n",
      " 0   id       100000 non-null  object \n",
      " 1   f0       100000 non-null  float64\n",
      " 2   f1       100000 non-null  float64\n",
      " 3   f2       100000 non-null  float64\n",
      " 4   product  100000 non-null  float64\n",
      "dtypes: float64(4), object(1)\n",
      "memory usage: 3.8+ MB\n",
      "\n",
      "<class 'pandas.core.frame.DataFrame'>\n",
      "RangeIndex: 100000 entries, 0 to 99999\n",
      "Data columns (total 5 columns):\n",
      " #   Column   Non-Null Count   Dtype  \n",
      "---  ------   --------------   -----  \n",
      " 0   id       100000 non-null  object \n",
      " 1   f0       100000 non-null  float64\n",
      " 2   f1       100000 non-null  float64\n",
      " 3   f2       100000 non-null  float64\n",
      " 4   product  100000 non-null  float64\n",
      "dtypes: float64(4), object(1)\n",
      "memory usage: 3.8+ MB\n",
      "\n"
     ]
    }
   ],
   "source": [
    "df_list = [df0, df1, df2]\n",
    "\n",
    "for df_ in df_list:\n",
    "    df_.info()\n",
    "    print()"
   ]
  },
  {
   "cell_type": "code",
   "execution_count": 29,
   "metadata": {},
   "outputs": [
    {
     "data": {
      "text/html": [
       "<div>\n",
       "<style scoped>\n",
       "    .dataframe tbody tr th:only-of-type {\n",
       "        vertical-align: middle;\n",
       "    }\n",
       "\n",
       "    .dataframe tbody tr th {\n",
       "        vertical-align: top;\n",
       "    }\n",
       "\n",
       "    .dataframe thead th {\n",
       "        text-align: right;\n",
       "    }\n",
       "</style>\n",
       "<table border=\"1\" class=\"dataframe\">\n",
       "  <thead>\n",
       "    <tr style=\"text-align: right;\">\n",
       "      <th></th>\n",
       "      <th>f0</th>\n",
       "      <th>f1</th>\n",
       "      <th>f2</th>\n",
       "      <th>product</th>\n",
       "    </tr>\n",
       "  </thead>\n",
       "  <tbody>\n",
       "    <tr>\n",
       "      <th>count</th>\n",
       "      <td>100000.000000</td>\n",
       "      <td>100000.000000</td>\n",
       "      <td>100000.000000</td>\n",
       "      <td>100000.000000</td>\n",
       "    </tr>\n",
       "    <tr>\n",
       "      <th>mean</th>\n",
       "      <td>0.500419</td>\n",
       "      <td>0.250143</td>\n",
       "      <td>2.502647</td>\n",
       "      <td>92.500000</td>\n",
       "    </tr>\n",
       "    <tr>\n",
       "      <th>std</th>\n",
       "      <td>0.871832</td>\n",
       "      <td>0.504433</td>\n",
       "      <td>3.248248</td>\n",
       "      <td>44.288691</td>\n",
       "    </tr>\n",
       "    <tr>\n",
       "      <th>min</th>\n",
       "      <td>-1.408605</td>\n",
       "      <td>-0.848218</td>\n",
       "      <td>-12.088328</td>\n",
       "      <td>0.000000</td>\n",
       "    </tr>\n",
       "    <tr>\n",
       "      <th>25%</th>\n",
       "      <td>-0.072580</td>\n",
       "      <td>-0.200881</td>\n",
       "      <td>0.287748</td>\n",
       "      <td>56.497507</td>\n",
       "    </tr>\n",
       "    <tr>\n",
       "      <th>50%</th>\n",
       "      <td>0.502360</td>\n",
       "      <td>0.250252</td>\n",
       "      <td>2.515969</td>\n",
       "      <td>91.849972</td>\n",
       "    </tr>\n",
       "    <tr>\n",
       "      <th>75%</th>\n",
       "      <td>1.073581</td>\n",
       "      <td>0.700646</td>\n",
       "      <td>4.715088</td>\n",
       "      <td>128.564089</td>\n",
       "    </tr>\n",
       "    <tr>\n",
       "      <th>max</th>\n",
       "      <td>2.362331</td>\n",
       "      <td>1.343769</td>\n",
       "      <td>16.003790</td>\n",
       "      <td>185.364347</td>\n",
       "    </tr>\n",
       "  </tbody>\n",
       "</table>\n",
       "</div>"
      ],
      "text/plain": [
       "                  f0             f1             f2        product\n",
       "count  100000.000000  100000.000000  100000.000000  100000.000000\n",
       "mean        0.500419       0.250143       2.502647      92.500000\n",
       "std         0.871832       0.504433       3.248248      44.288691\n",
       "min        -1.408605      -0.848218     -12.088328       0.000000\n",
       "25%        -0.072580      -0.200881       0.287748      56.497507\n",
       "50%         0.502360       0.250252       2.515969      91.849972\n",
       "75%         1.073581       0.700646       4.715088     128.564089\n",
       "max         2.362331       1.343769      16.003790     185.364347"
      ]
     },
     "metadata": {},
     "output_type": "display_data"
    },
    {
     "data": {
      "text/html": [
       "<div>\n",
       "<style scoped>\n",
       "    .dataframe tbody tr th:only-of-type {\n",
       "        vertical-align: middle;\n",
       "    }\n",
       "\n",
       "    .dataframe tbody tr th {\n",
       "        vertical-align: top;\n",
       "    }\n",
       "\n",
       "    .dataframe thead th {\n",
       "        text-align: right;\n",
       "    }\n",
       "</style>\n",
       "<table border=\"1\" class=\"dataframe\">\n",
       "  <thead>\n",
       "    <tr style=\"text-align: right;\">\n",
       "      <th></th>\n",
       "      <th>f0</th>\n",
       "      <th>f1</th>\n",
       "      <th>f2</th>\n",
       "      <th>product</th>\n",
       "    </tr>\n",
       "  </thead>\n",
       "  <tbody>\n",
       "    <tr>\n",
       "      <th>count</th>\n",
       "      <td>100000.000000</td>\n",
       "      <td>100000.000000</td>\n",
       "      <td>100000.000000</td>\n",
       "      <td>100000.000000</td>\n",
       "    </tr>\n",
       "    <tr>\n",
       "      <th>mean</th>\n",
       "      <td>1.141296</td>\n",
       "      <td>-4.796579</td>\n",
       "      <td>2.494541</td>\n",
       "      <td>68.825000</td>\n",
       "    </tr>\n",
       "    <tr>\n",
       "      <th>std</th>\n",
       "      <td>8.965932</td>\n",
       "      <td>5.119872</td>\n",
       "      <td>1.703572</td>\n",
       "      <td>45.944423</td>\n",
       "    </tr>\n",
       "    <tr>\n",
       "      <th>min</th>\n",
       "      <td>-31.609576</td>\n",
       "      <td>-26.358598</td>\n",
       "      <td>-0.018144</td>\n",
       "      <td>0.000000</td>\n",
       "    </tr>\n",
       "    <tr>\n",
       "      <th>25%</th>\n",
       "      <td>-6.298551</td>\n",
       "      <td>-8.267985</td>\n",
       "      <td>1.000021</td>\n",
       "      <td>26.953261</td>\n",
       "    </tr>\n",
       "    <tr>\n",
       "      <th>50%</th>\n",
       "      <td>1.153055</td>\n",
       "      <td>-4.813172</td>\n",
       "      <td>2.011479</td>\n",
       "      <td>57.085625</td>\n",
       "    </tr>\n",
       "    <tr>\n",
       "      <th>75%</th>\n",
       "      <td>8.621015</td>\n",
       "      <td>-1.332816</td>\n",
       "      <td>3.999904</td>\n",
       "      <td>107.813044</td>\n",
       "    </tr>\n",
       "    <tr>\n",
       "      <th>max</th>\n",
       "      <td>29.421755</td>\n",
       "      <td>18.734063</td>\n",
       "      <td>5.019721</td>\n",
       "      <td>137.945408</td>\n",
       "    </tr>\n",
       "  </tbody>\n",
       "</table>\n",
       "</div>"
      ],
      "text/plain": [
       "                  f0             f1             f2        product\n",
       "count  100000.000000  100000.000000  100000.000000  100000.000000\n",
       "mean        1.141296      -4.796579       2.494541      68.825000\n",
       "std         8.965932       5.119872       1.703572      45.944423\n",
       "min       -31.609576     -26.358598      -0.018144       0.000000\n",
       "25%        -6.298551      -8.267985       1.000021      26.953261\n",
       "50%         1.153055      -4.813172       2.011479      57.085625\n",
       "75%         8.621015      -1.332816       3.999904     107.813044\n",
       "max        29.421755      18.734063       5.019721     137.945408"
      ]
     },
     "metadata": {},
     "output_type": "display_data"
    },
    {
     "data": {
      "text/html": [
       "<div>\n",
       "<style scoped>\n",
       "    .dataframe tbody tr th:only-of-type {\n",
       "        vertical-align: middle;\n",
       "    }\n",
       "\n",
       "    .dataframe tbody tr th {\n",
       "        vertical-align: top;\n",
       "    }\n",
       "\n",
       "    .dataframe thead th {\n",
       "        text-align: right;\n",
       "    }\n",
       "</style>\n",
       "<table border=\"1\" class=\"dataframe\">\n",
       "  <thead>\n",
       "    <tr style=\"text-align: right;\">\n",
       "      <th></th>\n",
       "      <th>f0</th>\n",
       "      <th>f1</th>\n",
       "      <th>f2</th>\n",
       "      <th>product</th>\n",
       "    </tr>\n",
       "  </thead>\n",
       "  <tbody>\n",
       "    <tr>\n",
       "      <th>count</th>\n",
       "      <td>100000.000000</td>\n",
       "      <td>100000.000000</td>\n",
       "      <td>100000.000000</td>\n",
       "      <td>100000.000000</td>\n",
       "    </tr>\n",
       "    <tr>\n",
       "      <th>mean</th>\n",
       "      <td>0.002023</td>\n",
       "      <td>-0.002081</td>\n",
       "      <td>2.495128</td>\n",
       "      <td>95.000000</td>\n",
       "    </tr>\n",
       "    <tr>\n",
       "      <th>std</th>\n",
       "      <td>1.732045</td>\n",
       "      <td>1.730417</td>\n",
       "      <td>3.473445</td>\n",
       "      <td>44.749921</td>\n",
       "    </tr>\n",
       "    <tr>\n",
       "      <th>min</th>\n",
       "      <td>-8.760004</td>\n",
       "      <td>-7.084020</td>\n",
       "      <td>-11.970335</td>\n",
       "      <td>0.000000</td>\n",
       "    </tr>\n",
       "    <tr>\n",
       "      <th>25%</th>\n",
       "      <td>-1.162288</td>\n",
       "      <td>-1.174820</td>\n",
       "      <td>0.130359</td>\n",
       "      <td>59.450441</td>\n",
       "    </tr>\n",
       "    <tr>\n",
       "      <th>50%</th>\n",
       "      <td>0.009424</td>\n",
       "      <td>-0.009482</td>\n",
       "      <td>2.484236</td>\n",
       "      <td>94.925613</td>\n",
       "    </tr>\n",
       "    <tr>\n",
       "      <th>75%</th>\n",
       "      <td>1.158535</td>\n",
       "      <td>1.163678</td>\n",
       "      <td>4.858794</td>\n",
       "      <td>130.595027</td>\n",
       "    </tr>\n",
       "    <tr>\n",
       "      <th>max</th>\n",
       "      <td>7.238262</td>\n",
       "      <td>7.844801</td>\n",
       "      <td>16.739402</td>\n",
       "      <td>190.029838</td>\n",
       "    </tr>\n",
       "  </tbody>\n",
       "</table>\n",
       "</div>"
      ],
      "text/plain": [
       "                  f0             f1             f2        product\n",
       "count  100000.000000  100000.000000  100000.000000  100000.000000\n",
       "mean        0.002023      -0.002081       2.495128      95.000000\n",
       "std         1.732045       1.730417       3.473445      44.749921\n",
       "min        -8.760004      -7.084020     -11.970335       0.000000\n",
       "25%        -1.162288      -1.174820       0.130359      59.450441\n",
       "50%         0.009424      -0.009482       2.484236      94.925613\n",
       "75%         1.158535       1.163678       4.858794     130.595027\n",
       "max         7.238262       7.844801      16.739402     190.029838"
      ]
     },
     "metadata": {},
     "output_type": "display_data"
    }
   ],
   "source": [
    "df_list = [df0, df1, df2]\n",
    "\n",
    "for df_ in df_list:\n",
    "    display(df_.describe())"
   ]
  },
  {
   "cell_type": "markdown",
   "metadata": {},
   "source": [
    "*Описание данных:*\n",
    "\n",
    "- 100000 строк, 5 столбцов;\n",
    "- пропусков и дубликатов нет;\n",
    "- не требуется изменение имен столбцов;\n",
    "- не требуется изменение типа данных."
   ]
  },
  {
   "cell_type": "markdown",
   "metadata": {},
   "source": [
    "`Целевой признак:`\n",
    "- product — объём запасов в скважине (тыс. баррелей).\n",
    "\n",
    "`Признаки:`\n",
    "- f0,f1, f2 - влияют на объём запасов в скважине."
   ]
  },
  {
   "cell_type": "markdown",
   "metadata": {},
   "source": [
    "## Обучение и проверка модели"
   ]
  },
  {
   "cell_type": "code",
   "execution_count": 30,
   "metadata": {},
   "outputs": [],
   "source": [
    "def production_est(df):\n",
    "    features = df.drop(columns=['id', 'product'])     #определение признаков\n",
    "    target = df['product']                 #определение целевого признака\n",
    "\n",
    "    #деление датафреймов на обучающую и валидационную выборки\n",
    "    features_train, features_valid, target_train, target_valid = train_test_split(features, target, test_size=0.25, random_state=42)\n",
    "\n",
    "    model = LinearRegression()                         #загрузка модели линейной регрессии\n",
    "    model.fit(features_train,target_train)             #обучение модели линейной регрессии\n",
    "    predictions_valid = model.predict(features_valid)  #предсказания модели на базе валидационной выборки\n",
    "\n",
    "    #rmse = mean_squared_error(target_valid, predictions_valid)**0.5 #расчет корня из среднеквадратичного отклонения\n",
    "        \n",
    "    return target_valid.reset_index(drop=True), pd.Series(predictions_valid)"
   ]
  },
  {
   "cell_type": "code",
   "execution_count": 31,
   "metadata": {},
   "outputs": [],
   "source": [
    "region_1_target, region_1_predictions = production_est(df0) #сохраним факт и прогноз модели валидационной выборки District 1\n",
    "region_2_target, region_2_predictions = production_est(df1) #сохраним факт и прогноз модели валидационной выборки District 2\n",
    "region_3_target, region_3_predictions = production_est(df2) #сохраним факт и прогноз модели валидационной выборки District 3"
   ]
  },
  {
   "cell_type": "code",
   "execution_count": 32,
   "metadata": {
    "scrolled": false
   },
   "outputs": [
    {
     "data": {
      "text/plain": [
       "0    101.901017\n",
       "1     78.217774\n",
       "2    115.266901\n",
       "dtype: float64"
      ]
     },
     "execution_count": 32,
     "metadata": {},
     "output_type": "execute_result"
    }
   ],
   "source": [
    "region_1_predictions.head(3) #посмотрим сформированный прогноз по объему запасов"
   ]
  },
  {
   "cell_type": "code",
   "execution_count": 33,
   "metadata": {},
   "outputs": [
    {
     "data": {
      "text/plain": [
       "0    122.073350\n",
       "1     48.738540\n",
       "2    131.338088\n",
       "Name: product, dtype: float64"
      ]
     },
     "execution_count": 33,
     "metadata": {},
     "output_type": "execute_result"
    }
   ],
   "source": [
    "region_1_target.head(3) #посмотрим сформированный факт по объему запасов"
   ]
  },
  {
   "cell_type": "code",
   "execution_count": 34,
   "metadata": {},
   "outputs": [],
   "source": [
    "#расчет корня из среднеквадратичного отклонения\n",
    "\n",
    "def rmse_procuction_calc(target,predictions):\n",
    "    rmse = mean_squared_error(target, predictions)**0.5 \n",
    "    return print(f'- отклонение RMSE = {round(rmse,2)}, запас предсказанного сырья: {round(predictions.mean(),2)}')"
   ]
  },
  {
   "cell_type": "code",
   "execution_count": 35,
   "metadata": {},
   "outputs": [
    {
     "name": "stdout",
     "output_type": "stream",
     "text": [
      "District #1:\n",
      "- отклонение RMSE = 37.76, запас предсказанного сырья: 92.4\n",
      "District #2:\n",
      "- отклонение RMSE = 0.89, запас предсказанного сырья: 68.71\n",
      "District #3:\n",
      "- отклонение RMSE = 40.15, запас предсказанного сырья: 94.77\n"
     ]
    }
   ],
   "source": [
    "print(\"District #1:\")\n",
    "rmse_procuction_calc(region_1_target, region_1_predictions) #District 1\n",
    "print(\"District #2:\")\n",
    "rmse_procuction_calc(region_2_target, region_2_predictions) #District 2\n",
    "print(\"District #3:\")\n",
    "rmse_procuction_calc(region_3_target, region_3_predictions) #District 3"
   ]
  },
  {
   "cell_type": "markdown",
   "metadata": {},
   "source": [
    "**Вывод:**\n",
    "1. Для региона №1 и №3 корень из среднеквадратичного отклонения по продуктивности находится в одном диапазоне 35-40  по объёму запасов в скважине (тыс. баррелей).\n",
    "2. У региона №2 отклонение минимальное, меньше 1, что выглядит аномальным: модель идеально предсказывает объем запасов в скважине, сильная корреляция между признаками F0-2 и целевым признаком. Проверим по коээфициенту корреляции Пирсона."
   ]
  },
  {
   "cell_type": "code",
   "execution_count": 36,
   "metadata": {},
   "outputs": [
    {
     "name": "stdout",
     "output_type": "stream",
     "text": [
      "коээфициента корреляции Пирсона для всех переменных\n"
     ]
    },
    {
     "data": {
      "text/html": [
       "<div>\n",
       "<style scoped>\n",
       "    .dataframe tbody tr th:only-of-type {\n",
       "        vertical-align: middle;\n",
       "    }\n",
       "\n",
       "    .dataframe tbody tr th {\n",
       "        vertical-align: top;\n",
       "    }\n",
       "\n",
       "    .dataframe thead th {\n",
       "        text-align: right;\n",
       "    }\n",
       "</style>\n",
       "<table border=\"1\" class=\"dataframe\">\n",
       "  <thead>\n",
       "    <tr style=\"text-align: right;\">\n",
       "      <th></th>\n",
       "      <th>f0</th>\n",
       "      <th>f1</th>\n",
       "      <th>f2</th>\n",
       "      <th>product</th>\n",
       "    </tr>\n",
       "  </thead>\n",
       "  <tbody>\n",
       "    <tr>\n",
       "      <th>f0</th>\n",
       "      <td>1.000000</td>\n",
       "      <td>0.182287</td>\n",
       "      <td>-0.001777</td>\n",
       "      <td>-0.030491</td>\n",
       "    </tr>\n",
       "    <tr>\n",
       "      <th>f1</th>\n",
       "      <td>0.182287</td>\n",
       "      <td>1.000000</td>\n",
       "      <td>-0.002595</td>\n",
       "      <td>-0.010155</td>\n",
       "    </tr>\n",
       "    <tr>\n",
       "      <th>f2</th>\n",
       "      <td>-0.001777</td>\n",
       "      <td>-0.002595</td>\n",
       "      <td>1.000000</td>\n",
       "      <td>0.999397</td>\n",
       "    </tr>\n",
       "    <tr>\n",
       "      <th>product</th>\n",
       "      <td>-0.030491</td>\n",
       "      <td>-0.010155</td>\n",
       "      <td>0.999397</td>\n",
       "      <td>1.000000</td>\n",
       "    </tr>\n",
       "  </tbody>\n",
       "</table>\n",
       "</div>"
      ],
      "text/plain": [
       "               f0        f1        f2   product\n",
       "f0       1.000000  0.182287 -0.001777 -0.030491\n",
       "f1       0.182287  1.000000 -0.002595 -0.010155\n",
       "f2      -0.001777 -0.002595  1.000000  0.999397\n",
       "product -0.030491 -0.010155  0.999397  1.000000"
      ]
     },
     "execution_count": 36,
     "metadata": {},
     "output_type": "execute_result"
    }
   ],
   "source": [
    "print(\"коээфициента корреляции Пирсона для всех переменных\")\n",
    "df1.corr()"
   ]
  },
  {
   "cell_type": "markdown",
   "metadata": {},
   "source": [
    "**Вывод:** Признак f2 и продуктивность / объем запасов скважины имеют положительную линейную зависимость, т.к. коэффициент корреляции равен 0.99 при максимальном значении 1."
   ]
  },
  {
   "cell_type": "markdown",
   "metadata": {},
   "source": [
    "## Подготовка к расчёту прибыли"
   ]
  },
  {
   "cell_type": "markdown",
   "metadata": {},
   "source": [
    "- Бюджет на разработку скважин в регионе — 10 млрд рублей.\n",
    "- При нынешних ценах один баррель сырья приносит 450 рублей дохода. Доход с каждой единицы продукта составляет 450 тыс. рублей, поскольку объём указан в тысячах баррелей.\n",
    "- При разведке региона исследуют 500 точек, из которых с помощью машинного обучения выбирают 200 лучших для разработки."
   ]
  },
  {
   "cell_type": "code",
   "execution_count": 37,
   "metadata": {},
   "outputs": [],
   "source": [
    "budget = 10000000000                #инвестиции в регион разработки в рублях\n",
    "barrel_cost = 450                  #доход в рублях с одного барреля\n",
    "k_revenue_unit = barrel_cost*1000   #перевод дохода на тысяцу баррелей\n",
    "wells_top = 200                     #топ фокусных скважин\n",
    "wells_number = 500                  #количество скважин под выборку"
   ]
  },
  {
   "cell_type": "code",
   "execution_count": 38,
   "metadata": {},
   "outputs": [
    {
     "name": "stdout",
     "output_type": "stream",
     "text": [
      "Достаточный объём сырья для безубыточной разработки новой скважины: 111.11 тыс. баррелей.\n"
     ]
    }
   ],
   "source": [
    "budget_revenu_ratio = budget/(k_revenue_unit*wells_top) #объем нефти в скважине для возврата инвестиций в 10 млрд.\n",
    "print(f'Достаточный объём сырья для безубыточной разработки новой скважины: {round(budget_revenu_ratio,2)} тыс. баррелей.')"
   ]
  },
  {
   "cell_type": "markdown",
   "metadata": {},
   "source": [
    "**Вывод:** \n",
    "- Объем запасов 1 скважины из 200 в целевом регионе должен быть не менее 111,11 тыс. баррелей, чтобы окупить инвестиции в разработку.\n",
    "- Расчетный объем запасов превышает средний показатель по District 1 и District 3; кроме того в 1.6 раза больше, чем в среднем для District 2."
   ]
  },
  {
   "cell_type": "markdown",
   "metadata": {},
   "source": [
    "## Расчёт прибыли и рисков "
   ]
  },
  {
   "cell_type": "markdown",
   "metadata": {},
   "source": [
    " ### Функция для расчёта прибыли по выбранным скважинам и предсказаниям модели ###\n"
   ]
  },
  {
   "cell_type": "markdown",
   "metadata": {},
   "source": [
    "1. Выбрать скважины с максимальными значениями предсказаний (200 шт.).\n",
    "2. Просуммировать целевое значение объёма сырья, соответствующее этим предсказаниям.\n",
    "3. Рассчитать прибыль для полученного объёма сырья."
   ]
  },
  {
   "cell_type": "code",
   "execution_count": 39,
   "metadata": {},
   "outputs": [],
   "source": [
    "def profit(predictions, target, wells):                            #формула принимает на вход прогноз, факт запасов, количество скважин в фокусе\n",
    "    predictions_sorted = predictions.sort_values(ascending=False)  #сортируем предсказания в порядке убывания\n",
    "    target_sorted_top = target[predictions_sorted.index][:wells]   #сортируем факт объема сырья, соответствующее предсказаниям для заданного количества скважин\n",
    "    profit = target_sorted_top.sum()*k_revenue_unit - budget       #выручка = запасы вы тыс. баррелей * стоимость запасов - инвестиции\n",
    "    return profit.astype(int)"
   ]
  },
  {
   "cell_type": "markdown",
   "metadata": {},
   "source": [
    "Проверим, как работает функция на существующей выборке в 200 шт. скважин"
   ]
  },
  {
   "cell_type": "code",
   "execution_count": 40,
   "metadata": {},
   "outputs": [
    {
     "name": "stdout",
     "output_type": "stream",
     "text": [
      "Прибыль по выбранным скважинам District 1: 3,359,141,114\n"
     ]
    }
   ],
   "source": [
    "profit_1 = profit(region_1_predictions, region_1_target, wells_top)\n",
    "print(\"Прибыль по выбранным скважинам District 1:\",'{0:,}'.format(profit_1))"
   ]
  },
  {
   "cell_type": "markdown",
   "metadata": {},
   "source": [
    "**Вывод:** Функция работает и применима для расчета рисков и прибыли."
   ]
  },
  {
   "cell_type": "markdown",
   "metadata": {},
   "source": [
    "### Расчет рисков и прибыли для каждого региона ###"
   ]
  },
  {
   "cell_type": "markdown",
   "metadata": {},
   "source": [
    "- Создадим 1000 случайных выборок из прогнозируемых моделью значений запасов для 500 скважин. Выберем 200 топовых из них и посчитаем прибыль по формуле (revenue).\n",
    "- В итоге получим 1000 возможных значений прибили, для которых можно будет найти доверительный интервал и зоны получения убытков (отрицательной прибыли)."
   ]
  },
  {
   "cell_type": "code",
   "execution_count": 18,
   "metadata": {},
   "outputs": [],
   "source": [
    "def risks(predictions, target, wells_number):\n",
    "    \n",
    "    state = np.random.RandomState(42)            #задаем рандом для каждой итерации\n",
    "\n",
    "    revenue_values = []                          #собираем список из прогнозируемой прибыли\n",
    "\n",
    "    for i in range(1000):\n",
    "        predictions_subsumple = predictions.sample(n=wells_number,         #прогноз запасов по модели для занного кол-ва скважин\n",
    "                                               random_state=state,         #рандом, каждый раз новое значение\n",
    "                                               replace=True                #возможно повторение значений в выборке\n",
    "                                              )\n",
    "        target_subsumple = target[predictions_subsumple.index]             #фактические запасы для отобранных по прогнозам\n",
    "    \n",
    "        revenue_values.append(profit(predictions_subsumple, target_subsumple, wells_top)) #собираем список из 1000 значений\n",
    "    \n",
    "    revenue_values = pd.Series(revenue_values)\n",
    "    \n",
    "    mean =  round(revenue_values.mean(),0)                                 #расчет среднего значения прибыли из 1000 выборок    \n",
    "    lower = round(revenue_values.quantile(0.05),0)                         #расчет 5% персентиля   \n",
    "    upper = round(revenue_values.quantile(1-0.05),0)                       #расчет 95% персентиля   \n",
    "    risk = (revenue_values<0).mean()                                       #расчет количества отрицательных значений к общему количеству\n",
    "    \n",
    "    return '{0:,}'.format(mean), '{0:,}'.format(lower), '{0:,}'.format(upper), '{:.1%}'.format(risk)"
   ]
  },
  {
   "cell_type": "code",
   "execution_count": 19,
   "metadata": {},
   "outputs": [],
   "source": [
    "mean_1, lower_1, upper_1, risk_1 = risks(region_1_predictions, region_1_target, wells_number)"
   ]
  },
  {
   "cell_type": "code",
   "execution_count": 20,
   "metadata": {
    "scrolled": true
   },
   "outputs": [
    {
     "name": "stdout",
     "output_type": "stream",
     "text": [
      "\u001b[1mDistrict 1:\u001b[0m\n",
      "Среднее значение прибыли =  427,847,560.0\n",
      "Квантиль 5% =  -9,708,119.0\n",
      "Квантиль 95% =  865,127,641.0\n",
      "Риск убытка =  5.5%\n"
     ]
    }
   ],
   "source": [
    "print('\\033[1m' + \"District 1:\"+ '\\033[0m')\n",
    "print(\"Среднее значение прибыли = \", mean_1)\n",
    "print(\"Квантиль 5% = \", lower_1)\n",
    "print(\"Квантиль 95% = \", upper_1)\n",
    "print(\"Риск убытка = \", risk_1)"
   ]
  },
  {
   "cell_type": "code",
   "execution_count": 21,
   "metadata": {},
   "outputs": [],
   "source": [
    "mean_2, lower_2, upper_2, risk_2 = risks(region_2_predictions, region_2_target, wells_number)"
   ]
  },
  {
   "cell_type": "code",
   "execution_count": 22,
   "metadata": {},
   "outputs": [
    {
     "name": "stdout",
     "output_type": "stream",
     "text": [
      "\u001b[1mDistrict 2:\u001b[0m\n",
      "Среднее значение прибыли =  511,362,776.0\n",
      "Квантиль 5% =  156,635,634.0\n",
      "Квантиль 95% =  868,428,755.0\n",
      "Риск убытка =  0.9%\n"
     ]
    }
   ],
   "source": [
    "print('\\033[1m' + \"District 2:\"+ '\\033[0m')\n",
    "print(\"Среднее значение прибыли = \", mean_2)\n",
    "print(\"Квантиль 5% = \", lower_2)\n",
    "print(\"Квантиль 95% = \", upper_2)\n",
    "print(\"Риск убытка = \", risk_2)"
   ]
  },
  {
   "cell_type": "code",
   "execution_count": 23,
   "metadata": {},
   "outputs": [],
   "source": [
    "mean_3, lower_3, upper_3, risk_3 = risks(region_3_predictions, region_3_target, wells_number)"
   ]
  },
  {
   "cell_type": "code",
   "execution_count": 24,
   "metadata": {
    "scrolled": true
   },
   "outputs": [
    {
     "name": "stdout",
     "output_type": "stream",
     "text": [
      "\u001b[1mDistrict 3:\u001b[0m\n",
      "Среднее значение прибыли =  402,575,607.0\n",
      "Квантиль 5% =  -79,364,961.0\n",
      "Квантиль 95% =  850,883,463.0\n",
      "Риск убытка =  7.4%\n"
     ]
    }
   ],
   "source": [
    "print('\\033[1m' + \"District 3:\"+ '\\033[0m')\n",
    "print(\"Среднее значение прибыли = \", mean_3)\n",
    "print(\"Квантиль 5% = \", lower_3)\n",
    "print(\"Квантиль 95% = \", upper_3)\n",
    "print(\"Риск убытка = \", risk_3)"
   ]
  },
  {
   "cell_type": "markdown",
   "metadata": {},
   "source": [
    "**Вывод:**\n",
    "- Только в District 2 вероятность убытков меньше 2.5%, кроме того модель очень корошо предсказывает запасы нефти на скважинах из-за сильной линейной связи между признаком f2 и целевым признаком (возможно ошибка или утечка целевого признака).\n",
    "- До поступления новых данных и уточнения информации по District 2 данный регион рекомендуется к разработке."
   ]
  },
  {
   "cell_type": "markdown",
   "metadata": {},
   "source": [
    "## Чек-лист готовности проекта"
   ]
  },
  {
   "cell_type": "markdown",
   "metadata": {},
   "source": [
    "- [x]  Jupyter Notebook открыт\n",
    "- [x]  Весь код выполняется без ошибок\n",
    "- [x]  Ячейки с кодом расположены в порядке исполнения\n",
    "- [x]  Выполнен шаг 1: данные подготовлены\n",
    "- [x]  Выполнен шаг 2: модели обучены и проверены\n",
    "    - [x]  Данные корректно разбиты на обучающую и валидационную выборки\n",
    "    - [x]  Модели обучены, предсказания сделаны\n",
    "    - [x]  Предсказания и правильные ответы на валидационной выборке сохранены\n",
    "    - [x]  На экране напечатаны результаты\n",
    "    - [x]  Сделаны выводы\n",
    "- [x]  Выполнен шаг 3: проведена подготовка к расчёту прибыли\n",
    "    - [x]  Для всех ключевых значений созданы константы Python\n",
    "    - [x]  Посчитано минимальное среднее количество продукта в месторождениях региона, достаточное для разработки\n",
    "    - [x]  По предыдущему пункту сделаны выводы\n",
    "    - [x]  Написана функция расчёта прибыли\n",
    "- [x]  Выполнен шаг 4: посчитаны риски и прибыль\n",
    "    - [x]  Проведена процедура *Bootstrap*\n",
    "    - [x]  Все параметры бутстрепа соответствуют условию\n",
    "    - [x]  Найдены все нужные величины\n",
    "    - [x]  Предложен регион для разработки месторождения\n",
    "    - [x]  Выбор региона обоснован"
   ]
  }
 ],
 "metadata": {
  "ExecuteTimeLog": [
   {
    "duration": 47,
    "start_time": "2022-04-11T12:44:21.377Z"
   },
   {
    "duration": 819,
    "start_time": "2022-04-11T12:44:24.450Z"
   },
   {
    "duration": 117,
    "start_time": "2022-04-11T12:44:26.528Z"
   },
   {
    "duration": 335,
    "start_time": "2022-04-11T12:44:44.760Z"
   },
   {
    "duration": 11,
    "start_time": "2022-04-11T12:45:37.081Z"
   },
   {
    "duration": 11,
    "start_time": "2022-04-11T12:45:43.612Z"
   },
   {
    "duration": 44,
    "start_time": "2022-04-11T12:45:56.442Z"
   },
   {
    "duration": 344,
    "start_time": "2022-04-11T12:46:06.376Z"
   },
   {
    "duration": 19,
    "start_time": "2022-04-11T12:46:07.336Z"
   },
   {
    "duration": 42,
    "start_time": "2022-04-11T12:48:10.073Z"
   },
   {
    "duration": 37,
    "start_time": "2022-04-11T12:48:13.833Z"
   },
   {
    "duration": 42,
    "start_time": "2022-04-11T12:48:17.225Z"
   },
   {
    "duration": 7,
    "start_time": "2022-04-11T12:48:57.995Z"
   },
   {
    "duration": 4,
    "start_time": "2022-04-11T12:49:02.391Z"
   },
   {
    "duration": 3,
    "start_time": "2022-04-11T12:49:09.113Z"
   },
   {
    "duration": 3,
    "start_time": "2022-04-11T12:49:12.090Z"
   },
   {
    "duration": 8,
    "start_time": "2022-04-11T12:49:17.736Z"
   },
   {
    "duration": 39,
    "start_time": "2022-04-11T12:49:28.057Z"
   },
   {
    "duration": 67,
    "start_time": "2022-04-11T12:50:22.319Z"
   },
   {
    "duration": 67,
    "start_time": "2022-04-11T12:50:48.088Z"
   },
   {
    "duration": 69,
    "start_time": "2022-04-11T12:50:50.840Z"
   },
   {
    "duration": 82,
    "start_time": "2022-04-11T12:50:59.928Z"
   },
   {
    "duration": 3,
    "start_time": "2022-04-11T12:51:08.457Z"
   },
   {
    "duration": 83,
    "start_time": "2022-04-11T12:51:11.193Z"
   },
   {
    "duration": 36,
    "start_time": "2022-04-11T12:52:00.665Z"
   },
   {
    "duration": 30,
    "start_time": "2022-04-11T12:52:12.201Z"
   },
   {
    "duration": 84,
    "start_time": "2022-04-11T12:52:14.552Z"
   },
   {
    "duration": 32,
    "start_time": "2022-04-11T12:52:24.264Z"
   },
   {
    "duration": 1075,
    "start_time": "2022-04-11T14:26:08.186Z"
   },
   {
    "duration": 42,
    "start_time": "2022-04-11T14:42:40.650Z"
   },
   {
    "duration": 4,
    "start_time": "2022-04-11T14:42:46.646Z"
   },
   {
    "duration": 372,
    "start_time": "2022-04-11T14:42:46.652Z"
   },
   {
    "duration": 27,
    "start_time": "2022-04-11T14:42:47.026Z"
   },
   {
    "duration": 46,
    "start_time": "2022-04-11T14:42:47.055Z"
   },
   {
    "duration": 108,
    "start_time": "2022-04-11T14:42:47.104Z"
   },
   {
    "duration": 9,
    "start_time": "2022-04-11T14:42:47.214Z"
   },
   {
    "duration": 9,
    "start_time": "2022-04-11T14:42:56.810Z"
   },
   {
    "duration": 405,
    "start_time": "2022-04-11T14:44:06.684Z"
   },
   {
    "duration": 254,
    "start_time": "2022-04-11T14:44:18.634Z"
   },
   {
    "duration": 198,
    "start_time": "2022-04-11T14:44:50.491Z"
   },
   {
    "duration": 463,
    "start_time": "2022-04-11T14:45:07.738Z"
   },
   {
    "duration": 398,
    "start_time": "2022-04-11T14:45:25.690Z"
   },
   {
    "duration": 250,
    "start_time": "2022-04-11T14:45:35.418Z"
   },
   {
    "duration": 251,
    "start_time": "2022-04-11T14:45:44.235Z"
   },
   {
    "duration": 225,
    "start_time": "2022-04-11T14:46:04.060Z"
   },
   {
    "duration": 3392,
    "start_time": "2022-04-11T14:46:58.811Z"
   },
   {
    "duration": 146,
    "start_time": "2022-04-11T14:47:14.444Z"
   },
   {
    "duration": 480,
    "start_time": "2022-04-11T14:48:41.101Z"
   },
   {
    "duration": 232,
    "start_time": "2022-04-11T14:49:21.758Z"
   },
   {
    "duration": 233,
    "start_time": "2022-04-11T14:49:37.852Z"
   },
   {
    "duration": 306,
    "start_time": "2022-04-11T14:49:47.579Z"
   },
   {
    "duration": 35,
    "start_time": "2022-04-11T14:51:41.147Z"
   },
   {
    "duration": 6,
    "start_time": "2022-04-11T14:54:30.603Z"
   },
   {
    "duration": 382,
    "start_time": "2022-04-11T14:55:51.611Z"
   },
   {
    "duration": 280,
    "start_time": "2022-04-11T14:56:15.420Z"
   },
   {
    "duration": 341,
    "start_time": "2022-04-11T14:56:26.461Z"
   },
   {
    "duration": 277,
    "start_time": "2022-04-11T14:56:40.812Z"
   },
   {
    "duration": 479,
    "start_time": "2022-04-11T14:56:47.803Z"
   },
   {
    "duration": 274,
    "start_time": "2022-04-11T14:56:58.411Z"
   },
   {
    "duration": 243,
    "start_time": "2022-04-11T14:57:58.351Z"
   },
   {
    "duration": 267,
    "start_time": "2022-04-11T14:58:03.723Z"
   },
   {
    "duration": 248,
    "start_time": "2022-04-11T14:58:10.747Z"
   },
   {
    "duration": 528,
    "start_time": "2022-04-11T14:58:14.555Z"
   },
   {
    "duration": 448,
    "start_time": "2022-04-11T14:58:20.432Z"
   },
   {
    "duration": 299,
    "start_time": "2022-04-11T14:58:32.987Z"
   },
   {
    "duration": 240,
    "start_time": "2022-04-11T14:58:37.755Z"
   },
   {
    "duration": 481,
    "start_time": "2022-04-11T14:58:40.400Z"
   },
   {
    "duration": 343,
    "start_time": "2022-04-11T14:58:49.243Z"
   },
   {
    "duration": 275,
    "start_time": "2022-04-11T14:59:18.717Z"
   },
   {
    "duration": 302,
    "start_time": "2022-04-11T14:59:29.294Z"
   },
   {
    "duration": 4,
    "start_time": "2022-04-11T15:00:00.667Z"
   },
   {
    "duration": 8,
    "start_time": "2022-04-11T15:00:08.331Z"
   },
   {
    "duration": 3,
    "start_time": "2022-04-11T15:00:19.547Z"
   },
   {
    "duration": 4,
    "start_time": "2022-04-11T15:00:24.587Z"
   },
   {
    "duration": 4,
    "start_time": "2022-04-11T15:00:28.155Z"
   },
   {
    "duration": 4,
    "start_time": "2022-04-11T15:00:31.960Z"
   },
   {
    "duration": 493,
    "start_time": "2022-04-11T15:00:31.966Z"
   },
   {
    "duration": 26,
    "start_time": "2022-04-11T15:00:32.461Z"
   },
   {
    "duration": 49,
    "start_time": "2022-04-11T15:00:32.489Z"
   },
   {
    "duration": 121,
    "start_time": "2022-04-11T15:00:32.540Z"
   },
   {
    "duration": 19,
    "start_time": "2022-04-11T15:00:32.663Z"
   },
   {
    "duration": 0,
    "start_time": "2022-04-11T15:00:32.684Z"
   },
   {
    "duration": 317,
    "start_time": "2022-04-11T15:00:44.972Z"
   },
   {
    "duration": 11,
    "start_time": "2022-04-11T15:03:26.827Z"
   },
   {
    "duration": 40,
    "start_time": "2022-04-11T15:03:35.948Z"
   },
   {
    "duration": 480,
    "start_time": "2022-04-11T15:03:44.237Z"
   },
   {
    "duration": 522,
    "start_time": "2022-04-11T15:04:09.565Z"
   },
   {
    "duration": 6,
    "start_time": "2022-04-11T15:04:14.940Z"
   },
   {
    "duration": 70,
    "start_time": "2022-04-11T15:04:22.012Z"
   },
   {
    "duration": 206,
    "start_time": "2022-04-11T15:04:33.982Z"
   },
   {
    "duration": 377,
    "start_time": "2022-04-11T15:04:38.221Z"
   },
   {
    "duration": 493,
    "start_time": "2022-04-11T15:10:35.037Z"
   },
   {
    "duration": 23,
    "start_time": "2022-04-11T15:10:36.412Z"
   },
   {
    "duration": 49,
    "start_time": "2022-04-11T15:10:37.900Z"
   },
   {
    "duration": 107,
    "start_time": "2022-04-11T15:10:38.605Z"
   },
   {
    "duration": 350,
    "start_time": "2022-04-11T15:10:51.933Z"
   },
   {
    "duration": 275,
    "start_time": "2022-04-11T15:11:00.509Z"
   },
   {
    "duration": 389,
    "start_time": "2022-04-11T15:11:15.101Z"
   },
   {
    "duration": 59,
    "start_time": "2022-04-11T15:52:14.224Z"
   },
   {
    "duration": 520,
    "start_time": "2022-04-11T15:52:51.962Z"
   },
   {
    "duration": 462,
    "start_time": "2022-04-11T15:53:23.520Z"
   },
   {
    "duration": 451,
    "start_time": "2022-04-11T15:53:30.833Z"
   },
   {
    "duration": 235,
    "start_time": "2022-04-11T15:53:57.251Z"
   },
   {
    "duration": 282,
    "start_time": "2022-04-11T15:54:18.306Z"
   },
   {
    "duration": 538,
    "start_time": "2022-04-11T15:56:05.745Z"
   },
   {
    "duration": 580,
    "start_time": "2022-04-11T15:56:13.503Z"
   },
   {
    "duration": 326,
    "start_time": "2022-04-11T15:57:06.061Z"
   },
   {
    "duration": 44,
    "start_time": "2022-04-12T10:15:04.913Z"
   },
   {
    "duration": 1306,
    "start_time": "2022-04-12T10:15:09.689Z"
   },
   {
    "duration": 348,
    "start_time": "2022-04-12T10:15:10.997Z"
   },
   {
    "duration": 24,
    "start_time": "2022-04-12T10:15:11.347Z"
   },
   {
    "duration": 50,
    "start_time": "2022-04-12T10:15:11.373Z"
   },
   {
    "duration": 95,
    "start_time": "2022-04-12T10:15:11.425Z"
   },
   {
    "duration": 294,
    "start_time": "2022-04-12T10:15:11.522Z"
   },
   {
    "duration": 182,
    "start_time": "2022-04-12T10:15:11.819Z"
   },
   {
    "duration": 144,
    "start_time": "2022-04-12T10:18:11.268Z"
   },
   {
    "duration": 287,
    "start_time": "2022-04-12T10:18:27.126Z"
   },
   {
    "duration": 362,
    "start_time": "2022-04-12T10:18:46.953Z"
   },
   {
    "duration": 259,
    "start_time": "2022-04-12T10:19:00.063Z"
   },
   {
    "duration": 494,
    "start_time": "2022-04-12T10:19:34.221Z"
   },
   {
    "duration": 303,
    "start_time": "2022-04-12T10:19:48.537Z"
   },
   {
    "duration": 194,
    "start_time": "2022-04-12T10:19:57.416Z"
   },
   {
    "duration": 235,
    "start_time": "2022-04-12T10:25:27.967Z"
   },
   {
    "duration": 335,
    "start_time": "2022-04-12T10:29:12.566Z"
   },
   {
    "duration": 431,
    "start_time": "2022-04-12T10:29:24.996Z"
   },
   {
    "duration": 282,
    "start_time": "2022-04-12T10:30:18.265Z"
   },
   {
    "duration": 40,
    "start_time": "2022-04-12T10:30:38.778Z"
   },
   {
    "duration": 328,
    "start_time": "2022-04-12T10:30:48.989Z"
   },
   {
    "duration": 6,
    "start_time": "2022-04-12T10:35:09.015Z"
   },
   {
    "duration": 71,
    "start_time": "2022-04-12T10:35:35.541Z"
   },
   {
    "duration": 459,
    "start_time": "2022-04-12T10:35:46.448Z"
   },
   {
    "duration": 34,
    "start_time": "2022-04-12T10:36:11.887Z"
   },
   {
    "duration": 33,
    "start_time": "2022-04-12T10:36:24.293Z"
   },
   {
    "duration": 20,
    "start_time": "2022-04-12T10:36:29.744Z"
   },
   {
    "duration": 349,
    "start_time": "2022-04-12T10:36:38.679Z"
   },
   {
    "duration": 15,
    "start_time": "2022-04-12T10:44:28.130Z"
   },
   {
    "duration": 20,
    "start_time": "2022-04-12T10:44:41.525Z"
   },
   {
    "duration": 4,
    "start_time": "2022-04-12T10:45:54.790Z"
   },
   {
    "duration": 411,
    "start_time": "2022-04-12T10:45:57.519Z"
   },
   {
    "duration": 6,
    "start_time": "2022-04-12T10:46:08.150Z"
   },
   {
    "duration": 231,
    "start_time": "2022-04-12T10:46:09.817Z"
   },
   {
    "duration": 374,
    "start_time": "2022-04-12T10:46:20.457Z"
   },
   {
    "duration": 2,
    "start_time": "2022-04-12T10:46:25.189Z"
   },
   {
    "duration": 457,
    "start_time": "2022-04-12T10:46:25.193Z"
   },
   {
    "duration": 18,
    "start_time": "2022-04-12T10:46:25.652Z"
   },
   {
    "duration": 72,
    "start_time": "2022-04-12T10:46:25.672Z"
   },
   {
    "duration": 108,
    "start_time": "2022-04-12T10:46:25.746Z"
   },
   {
    "duration": 5,
    "start_time": "2022-04-12T10:46:25.856Z"
   },
   {
    "duration": 144,
    "start_time": "2022-04-12T10:46:25.863Z"
   },
   {
    "duration": 112,
    "start_time": "2022-04-12T10:46:26.010Z"
   },
   {
    "duration": 7,
    "start_time": "2022-04-12T10:46:40.296Z"
   },
   {
    "duration": 368,
    "start_time": "2022-04-12T10:46:41.476Z"
   },
   {
    "duration": 5,
    "start_time": "2022-04-12T10:46:55.041Z"
   },
   {
    "duration": 263,
    "start_time": "2022-04-12T10:46:55.878Z"
   },
   {
    "duration": 5,
    "start_time": "2022-04-12T10:47:03.029Z"
   },
   {
    "duration": 216,
    "start_time": "2022-04-12T10:47:03.984Z"
   },
   {
    "duration": 4,
    "start_time": "2022-04-12T10:47:34.668Z"
   },
   {
    "duration": 591,
    "start_time": "2022-04-12T10:47:36.017Z"
   },
   {
    "duration": 4,
    "start_time": "2022-04-12T10:48:13.092Z"
   },
   {
    "duration": 471,
    "start_time": "2022-04-12T10:48:15.464Z"
   },
   {
    "duration": 253,
    "start_time": "2022-04-12T10:48:46.442Z"
   },
   {
    "duration": 202,
    "start_time": "2022-04-12T10:49:05.981Z"
   },
   {
    "duration": 205,
    "start_time": "2022-04-12T10:49:10.194Z"
   },
   {
    "duration": 8,
    "start_time": "2022-04-12T10:49:19.423Z"
   },
   {
    "duration": 175,
    "start_time": "2022-04-12T10:49:24.227Z"
   },
   {
    "duration": 4,
    "start_time": "2022-04-12T10:49:53.737Z"
   },
   {
    "duration": 80,
    "start_time": "2022-04-12T10:49:55.141Z"
   },
   {
    "duration": 4,
    "start_time": "2022-04-12T10:50:06.555Z"
   },
   {
    "duration": 374,
    "start_time": "2022-04-12T10:50:07.837Z"
   },
   {
    "duration": 4,
    "start_time": "2022-04-12T10:57:57.964Z"
   },
   {
    "duration": 380,
    "start_time": "2022-04-12T10:57:58.855Z"
   },
   {
    "duration": 4,
    "start_time": "2022-04-12T10:58:12.488Z"
   },
   {
    "duration": 5,
    "start_time": "2022-04-12T10:58:19.830Z"
   },
   {
    "duration": 371,
    "start_time": "2022-04-12T10:58:21.038Z"
   },
   {
    "duration": 4,
    "start_time": "2022-04-12T10:59:13.737Z"
   },
   {
    "duration": 115,
    "start_time": "2022-04-12T10:59:14.504Z"
   },
   {
    "duration": 5,
    "start_time": "2022-04-12T10:59:25.563Z"
   },
   {
    "duration": 277,
    "start_time": "2022-04-12T10:59:27.734Z"
   },
   {
    "duration": 4,
    "start_time": "2022-04-12T10:59:34.345Z"
   },
   {
    "duration": 395,
    "start_time": "2022-04-12T10:59:35.125Z"
   },
   {
    "duration": 361,
    "start_time": "2022-04-12T10:59:39.154Z"
   },
   {
    "duration": 15,
    "start_time": "2022-04-12T10:59:39.857Z"
   },
   {
    "duration": 3,
    "start_time": "2022-04-12T10:59:48.530Z"
   },
   {
    "duration": 4,
    "start_time": "2022-04-12T10:59:53.272Z"
   },
   {
    "duration": 8,
    "start_time": "2022-04-12T11:00:13.430Z"
   },
   {
    "duration": 3,
    "start_time": "2022-04-12T11:00:26.228Z"
   },
   {
    "duration": 11,
    "start_time": "2022-04-12T11:00:39.411Z"
   },
   {
    "duration": 417,
    "start_time": "2022-04-12T11:00:39.900Z"
   },
   {
    "duration": 3,
    "start_time": "2022-04-12T11:01:23.645Z"
   },
   {
    "duration": 7,
    "start_time": "2022-04-12T11:01:32.349Z"
   },
   {
    "duration": 4,
    "start_time": "2022-04-12T11:01:42.974Z"
   },
   {
    "duration": 353,
    "start_time": "2022-04-12T11:01:43.561Z"
   },
   {
    "duration": 15,
    "start_time": "2022-04-12T11:01:45.066Z"
   },
   {
    "duration": 8,
    "start_time": "2022-04-12T11:01:45.990Z"
   },
   {
    "duration": 3,
    "start_time": "2022-04-12T11:34:01.561Z"
   },
   {
    "duration": 495,
    "start_time": "2022-04-12T11:34:01.566Z"
   },
   {
    "duration": 26,
    "start_time": "2022-04-12T11:34:02.062Z"
   },
   {
    "duration": 56,
    "start_time": "2022-04-12T11:34:02.099Z"
   },
   {
    "duration": 114,
    "start_time": "2022-04-12T11:34:02.157Z"
   },
   {
    "duration": 3,
    "start_time": "2022-04-12T11:34:02.273Z"
   },
   {
    "duration": 335,
    "start_time": "2022-04-12T11:34:02.278Z"
   },
   {
    "duration": 110,
    "start_time": "2022-04-12T11:34:02.619Z"
   },
   {
    "duration": 79,
    "start_time": "2022-04-12T11:34:02.733Z"
   },
   {
    "duration": 181,
    "start_time": "2022-04-12T12:29:31.513Z"
   },
   {
    "duration": 3,
    "start_time": "2022-04-12T12:29:35.728Z"
   },
   {
    "duration": 357,
    "start_time": "2022-04-12T12:29:35.733Z"
   },
   {
    "duration": 22,
    "start_time": "2022-04-12T12:29:36.091Z"
   },
   {
    "duration": 38,
    "start_time": "2022-04-12T12:29:36.115Z"
   },
   {
    "duration": 112,
    "start_time": "2022-04-12T12:29:36.155Z"
   },
   {
    "duration": 191,
    "start_time": "2022-04-12T12:29:36.269Z"
   },
   {
    "duration": 0,
    "start_time": "2022-04-12T12:29:36.462Z"
   },
   {
    "duration": 0,
    "start_time": "2022-04-12T12:29:36.463Z"
   },
   {
    "duration": 4,
    "start_time": "2022-04-12T12:29:49.811Z"
   },
   {
    "duration": 291,
    "start_time": "2022-04-12T12:29:50.827Z"
   },
   {
    "duration": 4,
    "start_time": "2022-04-12T12:30:12.844Z"
   },
   {
    "duration": 297,
    "start_time": "2022-04-12T12:30:13.821Z"
   },
   {
    "duration": 26,
    "start_time": "2022-04-12T12:30:24.732Z"
   },
   {
    "duration": 196,
    "start_time": "2022-04-12T12:30:35.599Z"
   },
   {
    "duration": 19,
    "start_time": "2022-04-12T12:30:39.654Z"
   },
   {
    "duration": 45,
    "start_time": "2022-04-12T12:30:56.458Z"
   },
   {
    "duration": 107,
    "start_time": "2022-04-12T12:31:23.993Z"
   },
   {
    "duration": 4,
    "start_time": "2022-04-12T12:33:27.652Z"
   },
   {
    "duration": 130,
    "start_time": "2022-04-12T12:33:30.181Z"
   },
   {
    "duration": 84,
    "start_time": "2022-04-12T12:51:03.421Z"
   },
   {
    "duration": 4,
    "start_time": "2022-04-12T12:52:29.170Z"
   },
   {
    "duration": 71,
    "start_time": "2022-04-12T12:52:30.830Z"
   },
   {
    "duration": 21,
    "start_time": "2022-04-12T12:52:44.379Z"
   },
   {
    "duration": 22,
    "start_time": "2022-04-12T12:52:54.535Z"
   },
   {
    "duration": 37,
    "start_time": "2022-04-12T12:53:16.165Z"
   },
   {
    "duration": 32,
    "start_time": "2022-04-12T12:53:27.579Z"
   },
   {
    "duration": 22,
    "start_time": "2022-04-12T12:53:32.174Z"
   },
   {
    "duration": 250,
    "start_time": "2022-04-12T12:54:18.852Z"
   },
   {
    "duration": 293,
    "start_time": "2022-04-12T12:55:22.913Z"
   },
   {
    "duration": 4,
    "start_time": "2022-04-12T12:55:50.688Z"
   },
   {
    "duration": 455,
    "start_time": "2022-04-12T12:55:52.145Z"
   },
   {
    "duration": 4,
    "start_time": "2022-04-12T12:56:05.275Z"
   },
   {
    "duration": 45,
    "start_time": "2022-04-12T12:56:07.957Z"
   },
   {
    "duration": 7,
    "start_time": "2022-04-12T12:56:34.839Z"
   },
   {
    "duration": 329,
    "start_time": "2022-04-12T12:56:35.973Z"
   },
   {
    "duration": 4,
    "start_time": "2022-04-12T12:57:52.603Z"
   },
   {
    "duration": 293,
    "start_time": "2022-04-12T12:57:54.914Z"
   },
   {
    "duration": 169,
    "start_time": "2022-04-12T12:57:55.401Z"
   },
   {
    "duration": 3,
    "start_time": "2022-04-12T12:58:52.879Z"
   },
   {
    "duration": 3,
    "start_time": "2022-04-12T12:59:12.011Z"
   },
   {
    "duration": 9,
    "start_time": "2022-04-12T13:02:51.972Z"
   },
   {
    "duration": 4,
    "start_time": "2022-04-12T13:04:06.884Z"
   },
   {
    "duration": 7,
    "start_time": "2022-04-12T13:04:47.021Z"
   },
   {
    "duration": 8,
    "start_time": "2022-04-12T13:05:03.748Z"
   },
   {
    "duration": 170,
    "start_time": "2022-04-12T13:06:14.947Z"
   },
   {
    "duration": 3,
    "start_time": "2022-04-12T13:07:22.107Z"
   },
   {
    "duration": 4,
    "start_time": "2022-04-12T13:07:36.440Z"
   },
   {
    "duration": 7,
    "start_time": "2022-04-12T13:07:52.981Z"
   },
   {
    "duration": 3,
    "start_time": "2022-04-12T13:09:14.969Z"
   },
   {
    "duration": 6,
    "start_time": "2022-04-12T13:09:15.540Z"
   },
   {
    "duration": 3,
    "start_time": "2022-04-12T13:09:31.152Z"
   },
   {
    "duration": 12,
    "start_time": "2022-04-12T13:09:32.833Z"
   },
   {
    "duration": 4,
    "start_time": "2022-04-12T13:09:54.527Z"
   },
   {
    "duration": 7,
    "start_time": "2022-04-12T13:09:55.263Z"
   },
   {
    "duration": 3,
    "start_time": "2022-04-12T13:10:00.781Z"
   },
   {
    "duration": 6,
    "start_time": "2022-04-12T13:10:06.370Z"
   },
   {
    "duration": 3,
    "start_time": "2022-04-12T13:10:46.942Z"
   },
   {
    "duration": 11,
    "start_time": "2022-04-12T13:10:47.938Z"
   },
   {
    "duration": 3,
    "start_time": "2022-04-12T13:10:57.985Z"
   },
   {
    "duration": 6,
    "start_time": "2022-04-12T13:10:58.748Z"
   },
   {
    "duration": 297,
    "start_time": "2022-04-12T13:11:50.011Z"
   },
   {
    "duration": 3,
    "start_time": "2022-04-12T13:11:50.511Z"
   },
   {
    "duration": 6,
    "start_time": "2022-04-12T13:11:51.102Z"
   },
   {
    "duration": 385,
    "start_time": "2022-04-12T13:13:20.116Z"
   },
   {
    "duration": 3,
    "start_time": "2022-04-12T13:13:20.601Z"
   },
   {
    "duration": 6,
    "start_time": "2022-04-12T13:13:21.318Z"
   },
   {
    "duration": 2,
    "start_time": "2022-04-12T13:13:41.421Z"
   },
   {
    "duration": 9,
    "start_time": "2022-04-12T13:13:42.363Z"
   },
   {
    "duration": 3,
    "start_time": "2022-04-12T13:13:58.671Z"
   },
   {
    "duration": 6,
    "start_time": "2022-04-12T13:13:59.374Z"
   },
   {
    "duration": 2,
    "start_time": "2022-04-12T13:14:48.552Z"
   },
   {
    "duration": 7,
    "start_time": "2022-04-12T13:14:49.199Z"
   },
   {
    "duration": 3,
    "start_time": "2022-04-12T13:15:02.626Z"
   },
   {
    "duration": 6,
    "start_time": "2022-04-12T13:15:03.241Z"
   },
   {
    "duration": 3,
    "start_time": "2022-04-12T13:15:50.042Z"
   },
   {
    "duration": 5,
    "start_time": "2022-04-12T13:15:50.617Z"
   },
   {
    "duration": 3,
    "start_time": "2022-04-12T13:18:07.428Z"
   },
   {
    "duration": 250,
    "start_time": "2022-04-12T13:18:07.860Z"
   },
   {
    "duration": 4,
    "start_time": "2022-04-12T13:18:08.557Z"
   },
   {
    "duration": 6,
    "start_time": "2022-04-12T13:18:09.618Z"
   },
   {
    "duration": 3,
    "start_time": "2022-04-12T13:18:16.484Z"
   },
   {
    "duration": 3,
    "start_time": "2022-04-12T13:18:21.150Z"
   },
   {
    "duration": 6,
    "start_time": "2022-04-12T13:18:21.790Z"
   },
   {
    "duration": 4,
    "start_time": "2022-04-12T13:18:47.744Z"
   },
   {
    "duration": 7,
    "start_time": "2022-04-12T13:18:48.251Z"
   },
   {
    "duration": 3,
    "start_time": "2022-04-12T13:18:57.520Z"
   },
   {
    "duration": 6,
    "start_time": "2022-04-12T13:18:58.132Z"
   },
   {
    "duration": 3,
    "start_time": "2022-04-12T13:19:39.140Z"
   },
   {
    "duration": 12,
    "start_time": "2022-04-12T13:19:39.601Z"
   },
   {
    "duration": 3,
    "start_time": "2022-04-12T13:19:51.462Z"
   },
   {
    "duration": 6,
    "start_time": "2022-04-12T13:19:51.978Z"
   },
   {
    "duration": 6,
    "start_time": "2022-04-12T13:20:27.568Z"
   },
   {
    "duration": 3,
    "start_time": "2022-04-12T13:46:38.996Z"
   },
   {
    "duration": 433,
    "start_time": "2022-04-12T13:46:39.002Z"
   },
   {
    "duration": 17,
    "start_time": "2022-04-12T13:46:39.437Z"
   },
   {
    "duration": 33,
    "start_time": "2022-04-12T13:46:39.456Z"
   },
   {
    "duration": 86,
    "start_time": "2022-04-12T13:46:39.501Z"
   },
   {
    "duration": 4,
    "start_time": "2022-04-12T13:46:39.600Z"
   },
   {
    "duration": 297,
    "start_time": "2022-04-12T13:46:39.606Z"
   },
   {
    "duration": 4,
    "start_time": "2022-04-12T13:46:39.906Z"
   },
   {
    "duration": 189,
    "start_time": "2022-04-12T13:46:39.912Z"
   },
   {
    "duration": 16,
    "start_time": "2022-04-12T13:46:40.103Z"
   },
   {
    "duration": 8,
    "start_time": "2022-04-12T13:47:34.277Z"
   },
   {
    "duration": 3,
    "start_time": "2022-04-12T13:47:59.317Z"
   },
   {
    "duration": 7,
    "start_time": "2022-04-12T13:48:00.341Z"
   },
   {
    "duration": 8,
    "start_time": "2022-04-12T13:48:24.262Z"
   },
   {
    "duration": 2,
    "start_time": "2022-04-12T13:48:40.998Z"
   },
   {
    "duration": 6,
    "start_time": "2022-04-12T13:48:41.685Z"
   },
   {
    "duration": 14,
    "start_time": "2022-04-12T13:48:46.261Z"
   },
   {
    "duration": 178,
    "start_time": "2022-04-12T13:51:26.726Z"
   },
   {
    "duration": 183,
    "start_time": "2022-04-12T13:51:40.247Z"
   },
   {
    "duration": 2,
    "start_time": "2022-04-12T13:52:19.191Z"
   },
   {
    "duration": 2,
    "start_time": "2022-04-12T13:52:23.173Z"
   },
   {
    "duration": 3,
    "start_time": "2022-04-12T13:54:13.078Z"
   },
   {
    "duration": 2,
    "start_time": "2022-04-12T13:56:59.158Z"
   },
   {
    "duration": 3,
    "start_time": "2022-04-12T13:57:10.918Z"
   },
   {
    "duration": 3,
    "start_time": "2022-04-12T13:58:39.958Z"
   },
   {
    "duration": 178,
    "start_time": "2022-04-12T14:02:49.495Z"
   },
   {
    "duration": 8,
    "start_time": "2022-04-12T14:02:57.912Z"
   },
   {
    "duration": 4,
    "start_time": "2022-04-12T14:03:21.638Z"
   },
   {
    "duration": 4,
    "start_time": "2022-04-12T14:04:21.527Z"
   },
   {
    "duration": 4,
    "start_time": "2022-04-12T14:04:25.141Z"
   },
   {
    "duration": 4,
    "start_time": "2022-04-12T14:04:36.775Z"
   },
   {
    "duration": 4,
    "start_time": "2022-04-12T14:04:40.999Z"
   },
   {
    "duration": 5,
    "start_time": "2022-04-12T14:05:03.688Z"
   },
   {
    "duration": 6,
    "start_time": "2022-04-12T14:05:22.055Z"
   },
   {
    "duration": 183,
    "start_time": "2022-04-12T14:06:32.760Z"
   },
   {
    "duration": 190,
    "start_time": "2022-04-12T14:06:39.864Z"
   },
   {
    "duration": 175,
    "start_time": "2022-04-12T14:06:56.103Z"
   },
   {
    "duration": 182,
    "start_time": "2022-04-12T14:07:15.672Z"
   },
   {
    "duration": 6,
    "start_time": "2022-04-12T14:07:45.095Z"
   },
   {
    "duration": 6,
    "start_time": "2022-04-12T14:07:50.183Z"
   },
   {
    "duration": 6,
    "start_time": "2022-04-12T14:09:29.927Z"
   },
   {
    "duration": 177,
    "start_time": "2022-04-12T14:09:49.254Z"
   },
   {
    "duration": 192,
    "start_time": "2022-04-12T14:10:18.648Z"
   },
   {
    "duration": 177,
    "start_time": "2022-04-12T14:10:28.440Z"
   },
   {
    "duration": 6,
    "start_time": "2022-04-12T14:10:55.175Z"
   },
   {
    "duration": 8,
    "start_time": "2022-04-12T14:11:09.128Z"
   },
   {
    "duration": 49,
    "start_time": "2022-04-13T10:13:37.571Z"
   },
   {
    "duration": 1259,
    "start_time": "2022-04-13T10:13:41.751Z"
   },
   {
    "duration": 4467,
    "start_time": "2022-04-13T10:13:43.012Z"
   },
   {
    "duration": 28,
    "start_time": "2022-04-13T10:13:47.481Z"
   },
   {
    "duration": 50,
    "start_time": "2022-04-13T10:13:47.510Z"
   },
   {
    "duration": 118,
    "start_time": "2022-04-13T10:13:47.563Z"
   },
   {
    "duration": 4,
    "start_time": "2022-04-13T10:13:47.683Z"
   },
   {
    "duration": 248,
    "start_time": "2022-04-13T10:13:47.688Z"
   },
   {
    "duration": 4,
    "start_time": "2022-04-13T10:13:48.023Z"
   },
   {
    "duration": 99,
    "start_time": "2022-04-13T10:13:48.031Z"
   },
   {
    "duration": 17,
    "start_time": "2022-04-13T10:13:48.132Z"
   },
   {
    "duration": 4,
    "start_time": "2022-04-13T10:13:48.151Z"
   },
   {
    "duration": 3,
    "start_time": "2022-04-13T10:14:03.108Z"
   },
   {
    "duration": 3,
    "start_time": "2022-04-13T10:14:03.871Z"
   },
   {
    "duration": 4,
    "start_time": "2022-04-13T10:15:24.112Z"
   },
   {
    "duration": 5,
    "start_time": "2022-04-13T10:15:30.079Z"
   },
   {
    "duration": 4,
    "start_time": "2022-04-13T10:15:34.656Z"
   },
   {
    "duration": 386,
    "start_time": "2022-04-13T10:15:34.662Z"
   },
   {
    "duration": 24,
    "start_time": "2022-04-13T10:15:35.050Z"
   },
   {
    "duration": 57,
    "start_time": "2022-04-13T10:15:35.076Z"
   },
   {
    "duration": 118,
    "start_time": "2022-04-13T10:15:35.136Z"
   },
   {
    "duration": 6,
    "start_time": "2022-04-13T10:15:35.256Z"
   },
   {
    "duration": 360,
    "start_time": "2022-04-13T10:15:35.264Z"
   },
   {
    "duration": 5,
    "start_time": "2022-04-13T10:15:35.626Z"
   },
   {
    "duration": 91,
    "start_time": "2022-04-13T10:15:35.633Z"
   },
   {
    "duration": 15,
    "start_time": "2022-04-13T10:15:35.726Z"
   },
   {
    "duration": 4,
    "start_time": "2022-04-13T10:15:35.743Z"
   },
   {
    "duration": 7,
    "start_time": "2022-04-13T10:15:35.749Z"
   },
   {
    "duration": 4,
    "start_time": "2022-04-13T10:15:45.823Z"
   },
   {
    "duration": 3,
    "start_time": "2022-04-13T10:15:57.106Z"
   },
   {
    "duration": 3,
    "start_time": "2022-04-13T10:16:14.400Z"
   },
   {
    "duration": 5,
    "start_time": "2022-04-13T10:21:49.762Z"
   },
   {
    "duration": 11,
    "start_time": "2022-04-13T15:51:10.527Z"
   },
   {
    "duration": 4,
    "start_time": "2022-04-13T15:53:29.189Z"
   },
   {
    "duration": 63,
    "start_time": "2022-04-13T15:54:32.814Z"
   },
   {
    "duration": 1558,
    "start_time": "2022-04-13T15:54:38.185Z"
   },
   {
    "duration": 427,
    "start_time": "2022-04-13T15:54:39.745Z"
   },
   {
    "duration": 41,
    "start_time": "2022-04-13T15:54:40.174Z"
   },
   {
    "duration": 46,
    "start_time": "2022-04-13T15:54:40.218Z"
   },
   {
    "duration": 157,
    "start_time": "2022-04-13T15:54:40.267Z"
   },
   {
    "duration": 5,
    "start_time": "2022-04-13T15:54:40.427Z"
   },
   {
    "duration": 370,
    "start_time": "2022-04-13T15:54:40.435Z"
   },
   {
    "duration": 87,
    "start_time": "2022-04-13T15:54:40.809Z"
   },
   {
    "duration": 102,
    "start_time": "2022-04-13T15:54:40.903Z"
   },
   {
    "duration": 27,
    "start_time": "2022-04-13T15:54:41.007Z"
   },
   {
    "duration": 4,
    "start_time": "2022-04-13T15:54:41.036Z"
   },
   {
    "duration": 14,
    "start_time": "2022-04-13T15:54:41.042Z"
   },
   {
    "duration": 7,
    "start_time": "2022-04-13T15:54:41.058Z"
   },
   {
    "duration": 49,
    "start_time": "2022-04-13T15:54:41.068Z"
   },
   {
    "duration": 103,
    "start_time": "2022-04-13T15:55:29.292Z"
   },
   {
    "duration": 4,
    "start_time": "2022-04-13T15:56:01.391Z"
   },
   {
    "duration": 25,
    "start_time": "2022-04-13T15:56:02.142Z"
   },
   {
    "duration": 5,
    "start_time": "2022-04-13T15:56:45.630Z"
   },
   {
    "duration": 25,
    "start_time": "2022-04-13T15:56:47.934Z"
   },
   {
    "duration": 5,
    "start_time": "2022-04-13T15:57:04.190Z"
   },
   {
    "duration": 24,
    "start_time": "2022-04-13T15:57:04.960Z"
   },
   {
    "duration": 5,
    "start_time": "2022-04-13T15:57:50.400Z"
   },
   {
    "duration": 23,
    "start_time": "2022-04-13T15:57:51.023Z"
   },
   {
    "duration": 4,
    "start_time": "2022-04-13T15:59:52.848Z"
   },
   {
    "duration": 14,
    "start_time": "2022-04-13T15:59:53.663Z"
   },
   {
    "duration": 4,
    "start_time": "2022-04-13T16:00:27.455Z"
   },
   {
    "duration": 22,
    "start_time": "2022-04-13T16:00:28.159Z"
   },
   {
    "duration": 7,
    "start_time": "2022-04-13T16:06:33.906Z"
   },
   {
    "duration": 7,
    "start_time": "2022-04-13T16:20:17.546Z"
   },
   {
    "duration": 7,
    "start_time": "2022-04-13T16:20:51.113Z"
   },
   {
    "duration": 386,
    "start_time": "2022-04-13T16:20:51.728Z"
   },
   {
    "duration": 12,
    "start_time": "2022-04-13T16:20:52.295Z"
   },
   {
    "duration": 7,
    "start_time": "2022-04-13T16:21:08.177Z"
   },
   {
    "duration": 8,
    "start_time": "2022-04-13T16:41:46.482Z"
   },
   {
    "duration": 363,
    "start_time": "2022-04-13T16:41:47.330Z"
   },
   {
    "duration": 9,
    "start_time": "2022-04-13T16:41:48.081Z"
   },
   {
    "duration": 7,
    "start_time": "2022-04-13T16:42:00.033Z"
   },
   {
    "duration": 7,
    "start_time": "2022-04-13T16:42:10.737Z"
   },
   {
    "duration": 5,
    "start_time": "2022-04-13T16:42:26.276Z"
   },
   {
    "duration": 11,
    "start_time": "2022-04-13T16:42:26.769Z"
   },
   {
    "duration": 7,
    "start_time": "2022-04-13T16:43:38.322Z"
   },
   {
    "duration": 240,
    "start_time": "2022-04-13T16:43:39.282Z"
   },
   {
    "duration": 9,
    "start_time": "2022-04-13T16:43:39.889Z"
   },
   {
    "duration": 6,
    "start_time": "2022-04-13T16:45:26.851Z"
   },
   {
    "duration": 428,
    "start_time": "2022-04-13T16:45:27.582Z"
   },
   {
    "duration": 9,
    "start_time": "2022-04-13T16:45:30.125Z"
   },
   {
    "duration": 5,
    "start_time": "2022-04-13T16:46:00.034Z"
   },
   {
    "duration": 293,
    "start_time": "2022-04-13T16:46:00.929Z"
   },
   {
    "duration": 7,
    "start_time": "2022-04-13T16:46:01.970Z"
   },
   {
    "duration": 5,
    "start_time": "2022-04-13T16:46:07.788Z"
   },
   {
    "duration": 5358,
    "start_time": "2022-04-13T16:46:07.797Z"
   },
   {
    "duration": 40,
    "start_time": "2022-04-13T16:46:13.158Z"
   },
   {
    "duration": 66,
    "start_time": "2022-04-13T16:46:13.203Z"
   },
   {
    "duration": 191,
    "start_time": "2022-04-13T16:46:13.272Z"
   },
   {
    "duration": 6,
    "start_time": "2022-04-13T16:46:13.465Z"
   },
   {
    "duration": 334,
    "start_time": "2022-04-13T16:46:13.474Z"
   },
   {
    "duration": 83,
    "start_time": "2022-04-13T16:46:13.812Z"
   },
   {
    "duration": 121,
    "start_time": "2022-04-13T16:46:13.903Z"
   },
   {
    "duration": 13,
    "start_time": "2022-04-13T16:46:14.027Z"
   },
   {
    "duration": 30,
    "start_time": "2022-04-13T16:46:14.042Z"
   },
   {
    "duration": 4,
    "start_time": "2022-04-13T16:46:14.074Z"
   },
   {
    "duration": 6,
    "start_time": "2022-04-13T16:46:14.081Z"
   },
   {
    "duration": 32,
    "start_time": "2022-04-13T16:46:14.090Z"
   },
   {
    "duration": 21,
    "start_time": "2022-04-13T16:46:14.125Z"
   },
   {
    "duration": 11,
    "start_time": "2022-04-13T16:46:31.874Z"
   },
   {
    "duration": 6,
    "start_time": "2022-04-13T16:46:39.276Z"
   },
   {
    "duration": 746,
    "start_time": "2022-04-13T16:46:39.284Z"
   },
   {
    "duration": 62,
    "start_time": "2022-04-13T16:46:40.033Z"
   },
   {
    "duration": 120,
    "start_time": "2022-04-13T16:46:40.098Z"
   },
   {
    "duration": 149,
    "start_time": "2022-04-13T16:46:40.224Z"
   },
   {
    "duration": 19,
    "start_time": "2022-04-13T16:46:40.375Z"
   },
   {
    "duration": 303,
    "start_time": "2022-04-13T16:46:40.397Z"
   },
   {
    "duration": 11,
    "start_time": "2022-04-13T16:46:40.703Z"
   },
   {
    "duration": 192,
    "start_time": "2022-04-13T16:46:40.717Z"
   },
   {
    "duration": 0,
    "start_time": "2022-04-13T16:46:40.914Z"
   },
   {
    "duration": 0,
    "start_time": "2022-04-13T16:46:40.917Z"
   },
   {
    "duration": 0,
    "start_time": "2022-04-13T16:46:40.919Z"
   },
   {
    "duration": 0,
    "start_time": "2022-04-13T16:46:40.921Z"
   },
   {
    "duration": 0,
    "start_time": "2022-04-13T16:46:40.923Z"
   },
   {
    "duration": 0,
    "start_time": "2022-04-13T16:46:40.925Z"
   },
   {
    "duration": 0,
    "start_time": "2022-04-13T16:46:40.928Z"
   },
   {
    "duration": 6,
    "start_time": "2022-04-13T17:00:53.474Z"
   },
   {
    "duration": 335,
    "start_time": "2022-04-13T17:00:53.667Z"
   },
   {
    "duration": 16,
    "start_time": "2022-04-13T17:00:54.995Z"
   },
   {
    "duration": 7,
    "start_time": "2022-04-13T17:00:56.402Z"
   },
   {
    "duration": 7,
    "start_time": "2022-04-13T17:01:21.700Z"
   },
   {
    "duration": 444,
    "start_time": "2022-04-13T17:01:22.579Z"
   },
   {
    "duration": 8,
    "start_time": "2022-04-13T17:01:23.669Z"
   },
   {
    "duration": 6,
    "start_time": "2022-04-13T17:01:24.579Z"
   },
   {
    "duration": 5,
    "start_time": "2022-04-13T17:01:25.571Z"
   },
   {
    "duration": 12,
    "start_time": "2022-04-13T17:01:26.563Z"
   },
   {
    "duration": 21,
    "start_time": "2022-04-13T17:01:30.554Z"
   },
   {
    "duration": 6,
    "start_time": "2022-04-13T17:01:50.678Z"
   },
   {
    "duration": 413,
    "start_time": "2022-04-13T17:01:51.907Z"
   },
   {
    "duration": 7,
    "start_time": "2022-04-13T17:01:52.499Z"
   },
   {
    "duration": 13,
    "start_time": "2022-04-13T17:01:53.235Z"
   },
   {
    "duration": 6,
    "start_time": "2022-04-13T17:02:17.208Z"
   },
   {
    "duration": 485,
    "start_time": "2022-04-13T17:02:17.716Z"
   },
   {
    "duration": 7,
    "start_time": "2022-04-13T17:02:18.310Z"
   },
   {
    "duration": 6,
    "start_time": "2022-04-13T17:02:19.112Z"
   },
   {
    "duration": 5,
    "start_time": "2022-04-13T17:02:27.408Z"
   },
   {
    "duration": 388,
    "start_time": "2022-04-13T17:02:27.908Z"
   },
   {
    "duration": 7,
    "start_time": "2022-04-13T17:02:28.947Z"
   },
   {
    "duration": 7,
    "start_time": "2022-04-13T17:02:29.651Z"
   },
   {
    "duration": 6,
    "start_time": "2022-04-13T17:02:37.251Z"
   },
   {
    "duration": 267,
    "start_time": "2022-04-13T17:02:37.751Z"
   },
   {
    "duration": 7,
    "start_time": "2022-04-13T17:02:38.245Z"
   },
   {
    "duration": 10,
    "start_time": "2022-04-13T17:02:38.807Z"
   },
   {
    "duration": 6,
    "start_time": "2022-04-13T17:02:43.347Z"
   },
   {
    "duration": 279,
    "start_time": "2022-04-13T17:02:44.420Z"
   },
   {
    "duration": 10,
    "start_time": "2022-04-13T17:02:44.900Z"
   },
   {
    "duration": 6,
    "start_time": "2022-04-13T17:02:45.540Z"
   },
   {
    "duration": 11,
    "start_time": "2022-04-13T17:02:50.020Z"
   },
   {
    "duration": 6,
    "start_time": "2022-04-13T17:02:50.835Z"
   },
   {
    "duration": 7,
    "start_time": "2022-04-13T17:02:52.994Z"
   },
   {
    "duration": 4,
    "start_time": "2022-04-13T17:03:55.126Z"
   },
   {
    "duration": 566,
    "start_time": "2022-04-13T17:03:55.133Z"
   },
   {
    "duration": 40,
    "start_time": "2022-04-13T17:03:55.702Z"
   },
   {
    "duration": 118,
    "start_time": "2022-04-13T17:03:55.746Z"
   },
   {
    "duration": 178,
    "start_time": "2022-04-13T17:03:55.868Z"
   },
   {
    "duration": 8,
    "start_time": "2022-04-13T17:03:56.049Z"
   },
   {
    "duration": 343,
    "start_time": "2022-04-13T17:03:56.060Z"
   },
   {
    "duration": 17,
    "start_time": "2022-04-13T17:03:56.407Z"
   },
   {
    "duration": 76,
    "start_time": "2022-04-13T17:03:56.428Z"
   },
   {
    "duration": 19,
    "start_time": "2022-04-13T17:03:56.507Z"
   },
   {
    "duration": 16,
    "start_time": "2022-04-13T17:03:56.529Z"
   },
   {
    "duration": 30,
    "start_time": "2022-04-13T17:03:56.548Z"
   },
   {
    "duration": 14,
    "start_time": "2022-04-13T17:03:56.580Z"
   },
   {
    "duration": 27,
    "start_time": "2022-04-13T17:03:56.597Z"
   },
   {
    "duration": 10,
    "start_time": "2022-04-13T17:03:56.627Z"
   },
   {
    "duration": 25,
    "start_time": "2022-04-13T17:03:56.639Z"
   },
   {
    "duration": 4,
    "start_time": "2022-04-13T17:04:13.331Z"
   },
   {
    "duration": 19,
    "start_time": "2022-04-13T17:04:14.131Z"
   },
   {
    "duration": 4,
    "start_time": "2022-04-13T17:04:29.112Z"
   },
   {
    "duration": 6,
    "start_time": "2022-04-13T17:04:36.192Z"
   },
   {
    "duration": 26,
    "start_time": "2022-04-13T17:04:36.915Z"
   },
   {
    "duration": 6,
    "start_time": "2022-04-13T17:05:37.332Z"
   },
   {
    "duration": 33,
    "start_time": "2022-04-13T17:05:37.956Z"
   },
   {
    "duration": 5,
    "start_time": "2022-04-13T17:05:44.440Z"
   },
   {
    "duration": 5,
    "start_time": "2022-04-13T17:05:47.605Z"
   },
   {
    "duration": 29,
    "start_time": "2022-04-13T17:05:48.196Z"
   },
   {
    "duration": 5,
    "start_time": "2022-04-13T17:05:53.342Z"
   },
   {
    "duration": 577,
    "start_time": "2022-04-13T17:05:53.351Z"
   },
   {
    "duration": 36,
    "start_time": "2022-04-13T17:05:53.930Z"
   },
   {
    "duration": 109,
    "start_time": "2022-04-13T17:05:53.968Z"
   },
   {
    "duration": 157,
    "start_time": "2022-04-13T17:05:54.094Z"
   },
   {
    "duration": 8,
    "start_time": "2022-04-13T17:05:54.254Z"
   },
   {
    "duration": 367,
    "start_time": "2022-04-13T17:05:54.265Z"
   },
   {
    "duration": 26,
    "start_time": "2022-04-13T17:05:54.697Z"
   },
   {
    "duration": 25,
    "start_time": "2022-04-13T17:05:54.798Z"
   },
   {
    "duration": 6,
    "start_time": "2022-04-13T17:05:54.826Z"
   },
   {
    "duration": 16,
    "start_time": "2022-04-13T17:05:54.834Z"
   },
   {
    "duration": 55,
    "start_time": "2022-04-13T17:05:54.853Z"
   },
   {
    "duration": 5,
    "start_time": "2022-04-13T17:05:54.911Z"
   },
   {
    "duration": 6,
    "start_time": "2022-04-13T17:05:54.921Z"
   },
   {
    "duration": 9,
    "start_time": "2022-04-13T17:05:54.929Z"
   },
   {
    "duration": 23,
    "start_time": "2022-04-13T17:05:54.940Z"
   },
   {
    "duration": 4,
    "start_time": "2022-04-13T17:05:58.213Z"
   },
   {
    "duration": 35,
    "start_time": "2022-04-13T17:05:58.786Z"
   },
   {
    "duration": 4,
    "start_time": "2022-04-13T17:06:58.582Z"
   },
   {
    "duration": 541,
    "start_time": "2022-04-13T17:06:58.589Z"
   },
   {
    "duration": 29,
    "start_time": "2022-04-13T17:06:59.132Z"
   },
   {
    "duration": 93,
    "start_time": "2022-04-13T17:06:59.163Z"
   },
   {
    "duration": 170,
    "start_time": "2022-04-13T17:06:59.259Z"
   },
   {
    "duration": 6,
    "start_time": "2022-04-13T17:06:59.431Z"
   },
   {
    "duration": 370,
    "start_time": "2022-04-13T17:06:59.438Z"
   },
   {
    "duration": 13,
    "start_time": "2022-04-13T17:06:59.813Z"
   },
   {
    "duration": 89,
    "start_time": "2022-04-13T17:06:59.829Z"
   },
   {
    "duration": 76,
    "start_time": "2022-04-13T17:06:59.921Z"
   },
   {
    "duration": 46,
    "start_time": "2022-04-13T17:07:00.000Z"
   },
   {
    "duration": 20,
    "start_time": "2022-04-13T17:07:00.049Z"
   },
   {
    "duration": 5,
    "start_time": "2022-04-13T17:07:00.071Z"
   },
   {
    "duration": 9,
    "start_time": "2022-04-13T17:07:00.081Z"
   },
   {
    "duration": 23,
    "start_time": "2022-04-13T17:07:00.098Z"
   },
   {
    "duration": 27,
    "start_time": "2022-04-13T17:07:00.123Z"
   },
   {
    "duration": 23,
    "start_time": "2022-04-13T17:07:18.755Z"
   },
   {
    "duration": 22,
    "start_time": "2022-04-13T17:07:22.835Z"
   },
   {
    "duration": 5,
    "start_time": "2022-04-13T17:07:25.444Z"
   },
   {
    "duration": 24,
    "start_time": "2022-04-13T17:07:26.051Z"
   },
   {
    "duration": 4,
    "start_time": "2022-04-13T17:07:45.687Z"
   },
   {
    "duration": 43,
    "start_time": "2022-04-13T17:07:46.292Z"
   },
   {
    "duration": 5,
    "start_time": "2022-04-13T17:08:06.421Z"
   },
   {
    "duration": 506,
    "start_time": "2022-04-13T17:08:06.428Z"
   },
   {
    "duration": 31,
    "start_time": "2022-04-13T17:08:06.936Z"
   },
   {
    "duration": 80,
    "start_time": "2022-04-13T17:08:06.971Z"
   },
   {
    "duration": 171,
    "start_time": "2022-04-13T17:08:07.054Z"
   },
   {
    "duration": 6,
    "start_time": "2022-04-13T17:08:07.227Z"
   },
   {
    "duration": 376,
    "start_time": "2022-04-13T17:08:07.235Z"
   },
   {
    "duration": 95,
    "start_time": "2022-04-13T17:08:07.614Z"
   },
   {
    "duration": 88,
    "start_time": "2022-04-13T17:08:07.716Z"
   },
   {
    "duration": 7,
    "start_time": "2022-04-13T17:08:07.810Z"
   },
   {
    "duration": 13,
    "start_time": "2022-04-13T17:08:07.819Z"
   },
   {
    "duration": 20,
    "start_time": "2022-04-13T17:08:07.834Z"
   },
   {
    "duration": 8,
    "start_time": "2022-04-13T17:08:07.893Z"
   },
   {
    "duration": 14,
    "start_time": "2022-04-13T17:08:07.904Z"
   },
   {
    "duration": 6,
    "start_time": "2022-04-13T17:08:07.920Z"
   },
   {
    "duration": 26,
    "start_time": "2022-04-13T17:08:07.928Z"
   },
   {
    "duration": 6,
    "start_time": "2022-04-13T17:42:30.984Z"
   },
   {
    "duration": 30,
    "start_time": "2022-04-13T17:42:31.621Z"
   },
   {
    "duration": 5,
    "start_time": "2022-04-13T17:42:48.631Z"
   },
   {
    "duration": 1972,
    "start_time": "2022-04-13T17:42:48.639Z"
   },
   {
    "duration": 29,
    "start_time": "2022-04-13T17:42:50.613Z"
   },
   {
    "duration": 84,
    "start_time": "2022-04-13T17:42:50.645Z"
   },
   {
    "duration": 129,
    "start_time": "2022-04-13T17:42:50.731Z"
   },
   {
    "duration": 6,
    "start_time": "2022-04-13T17:42:50.863Z"
   },
   {
    "duration": 427,
    "start_time": "2022-04-13T17:42:50.871Z"
   },
   {
    "duration": 94,
    "start_time": "2022-04-13T17:42:51.301Z"
   },
   {
    "duration": 98,
    "start_time": "2022-04-13T17:42:51.398Z"
   },
   {
    "duration": 8,
    "start_time": "2022-04-13T17:42:51.500Z"
   },
   {
    "duration": 16,
    "start_time": "2022-04-13T17:42:51.510Z"
   },
   {
    "duration": 28,
    "start_time": "2022-04-13T17:42:51.529Z"
   },
   {
    "duration": 35,
    "start_time": "2022-04-13T17:42:51.560Z"
   },
   {
    "duration": 11,
    "start_time": "2022-04-13T17:42:51.598Z"
   },
   {
    "duration": 10,
    "start_time": "2022-04-13T17:42:51.611Z"
   },
   {
    "duration": 29,
    "start_time": "2022-04-13T17:42:51.623Z"
   },
   {
    "duration": 27,
    "start_time": "2022-04-13T17:45:02.630Z"
   },
   {
    "duration": 5,
    "start_time": "2022-04-13T17:45:07.832Z"
   },
   {
    "duration": 608,
    "start_time": "2022-04-13T17:45:07.840Z"
   },
   {
    "duration": 29,
    "start_time": "2022-04-13T17:45:08.450Z"
   },
   {
    "duration": 65,
    "start_time": "2022-04-13T17:45:08.481Z"
   },
   {
    "duration": 151,
    "start_time": "2022-04-13T17:45:08.549Z"
   },
   {
    "duration": 6,
    "start_time": "2022-04-13T17:45:08.702Z"
   },
   {
    "duration": 295,
    "start_time": "2022-04-13T17:45:08.710Z"
   },
   {
    "duration": 90,
    "start_time": "2022-04-13T17:45:09.007Z"
   },
   {
    "duration": 98,
    "start_time": "2022-04-13T17:45:09.101Z"
   },
   {
    "duration": 5,
    "start_time": "2022-04-13T17:45:09.202Z"
   },
   {
    "duration": 15,
    "start_time": "2022-04-13T17:45:09.210Z"
   },
   {
    "duration": 20,
    "start_time": "2022-04-13T17:45:09.227Z"
   },
   {
    "duration": 45,
    "start_time": "2022-04-13T17:45:09.249Z"
   },
   {
    "duration": 5,
    "start_time": "2022-04-13T17:45:09.300Z"
   },
   {
    "duration": 4,
    "start_time": "2022-04-13T17:45:09.308Z"
   },
   {
    "duration": 35,
    "start_time": "2022-04-13T17:45:09.315Z"
   },
   {
    "duration": 23,
    "start_time": "2022-04-13T17:51:51.622Z"
   },
   {
    "duration": 4,
    "start_time": "2022-04-13T17:59:29.841Z"
   },
   {
    "duration": 27,
    "start_time": "2022-04-13T17:59:30.607Z"
   },
   {
    "duration": 4,
    "start_time": "2022-04-13T18:00:06.871Z"
   },
   {
    "duration": 27,
    "start_time": "2022-04-13T18:00:07.686Z"
   },
   {
    "duration": 12,
    "start_time": "2022-04-13T18:01:35.016Z"
   },
   {
    "duration": 6,
    "start_time": "2022-04-13T18:01:41.187Z"
   },
   {
    "duration": 33,
    "start_time": "2022-04-13T18:01:41.661Z"
   },
   {
    "duration": 5,
    "start_time": "2022-04-13T18:37:33.481Z"
   },
   {
    "duration": 24,
    "start_time": "2022-04-13T18:38:10.808Z"
   },
   {
    "duration": 4,
    "start_time": "2022-04-13T18:38:26.413Z"
   },
   {
    "duration": 501,
    "start_time": "2022-04-13T18:38:26.421Z"
   },
   {
    "duration": 31,
    "start_time": "2022-04-13T18:38:26.924Z"
   },
   {
    "duration": 89,
    "start_time": "2022-04-13T18:38:26.957Z"
   },
   {
    "duration": 168,
    "start_time": "2022-04-13T18:38:27.050Z"
   },
   {
    "duration": 7,
    "start_time": "2022-04-13T18:38:27.220Z"
   },
   {
    "duration": 377,
    "start_time": "2022-04-13T18:38:27.229Z"
   },
   {
    "duration": 12,
    "start_time": "2022-04-13T18:38:27.609Z"
   },
   {
    "duration": 108,
    "start_time": "2022-04-13T18:38:27.696Z"
   },
   {
    "duration": 12,
    "start_time": "2022-04-13T18:38:27.807Z"
   },
   {
    "duration": 13,
    "start_time": "2022-04-13T18:38:27.821Z"
   },
   {
    "duration": 20,
    "start_time": "2022-04-13T18:38:27.837Z"
   },
   {
    "duration": 4,
    "start_time": "2022-04-13T18:38:27.894Z"
   },
   {
    "duration": 8,
    "start_time": "2022-04-13T18:38:27.900Z"
   },
   {
    "duration": 9,
    "start_time": "2022-04-13T18:38:27.910Z"
   },
   {
    "duration": 17,
    "start_time": "2022-04-13T18:38:27.922Z"
   },
   {
    "duration": 11,
    "start_time": "2022-04-13T18:38:40.216Z"
   },
   {
    "duration": 5,
    "start_time": "2022-04-13T18:38:57.226Z"
   },
   {
    "duration": 513,
    "start_time": "2022-04-13T18:38:57.235Z"
   },
   {
    "duration": 44,
    "start_time": "2022-04-13T18:38:57.750Z"
   },
   {
    "duration": 69,
    "start_time": "2022-04-13T18:38:57.797Z"
   },
   {
    "duration": 172,
    "start_time": "2022-04-13T18:38:57.871Z"
   },
   {
    "duration": 7,
    "start_time": "2022-04-13T18:38:58.046Z"
   },
   {
    "duration": 446,
    "start_time": "2022-04-13T18:38:58.056Z"
   },
   {
    "duration": 88,
    "start_time": "2022-04-13T18:38:58.505Z"
   },
   {
    "duration": 24,
    "start_time": "2022-04-13T18:38:58.596Z"
   },
   {
    "duration": 6,
    "start_time": "2022-04-13T18:38:58.623Z"
   },
   {
    "duration": 15,
    "start_time": "2022-04-13T18:38:58.631Z"
   },
   {
    "duration": 58,
    "start_time": "2022-04-13T18:38:58.649Z"
   },
   {
    "duration": 5,
    "start_time": "2022-04-13T18:38:58.710Z"
   },
   {
    "duration": 11,
    "start_time": "2022-04-13T18:38:58.721Z"
   },
   {
    "duration": 6,
    "start_time": "2022-04-13T18:38:58.735Z"
   },
   {
    "duration": 19,
    "start_time": "2022-04-13T18:38:58.743Z"
   },
   {
    "duration": 14,
    "start_time": "2022-04-13T18:39:13.500Z"
   },
   {
    "duration": 6,
    "start_time": "2022-04-13T18:39:30.535Z"
   },
   {
    "duration": 551,
    "start_time": "2022-04-13T18:39:30.546Z"
   },
   {
    "duration": 36,
    "start_time": "2022-04-13T18:39:31.101Z"
   },
   {
    "duration": 97,
    "start_time": "2022-04-13T18:39:31.140Z"
   },
   {
    "duration": 166,
    "start_time": "2022-04-13T18:39:31.241Z"
   },
   {
    "duration": 7,
    "start_time": "2022-04-13T18:39:31.410Z"
   },
   {
    "duration": 406,
    "start_time": "2022-04-13T18:39:31.419Z"
   },
   {
    "duration": 166,
    "start_time": "2022-04-13T18:39:31.829Z"
   },
   {
    "duration": 25,
    "start_time": "2022-04-13T18:39:31.997Z"
   },
   {
    "duration": 5,
    "start_time": "2022-04-13T18:39:32.026Z"
   },
   {
    "duration": 16,
    "start_time": "2022-04-13T18:39:32.035Z"
   },
   {
    "duration": 58,
    "start_time": "2022-04-13T18:39:32.054Z"
   },
   {
    "duration": 4,
    "start_time": "2022-04-13T18:39:32.114Z"
   },
   {
    "duration": 21,
    "start_time": "2022-04-13T18:39:32.122Z"
   },
   {
    "duration": 9,
    "start_time": "2022-04-13T18:39:32.145Z"
   },
   {
    "duration": 13,
    "start_time": "2022-04-13T18:39:32.157Z"
   },
   {
    "duration": 5,
    "start_time": "2022-04-13T18:42:25.945Z"
   },
   {
    "duration": 11,
    "start_time": "2022-04-13T18:42:26.649Z"
   },
   {
    "duration": 5,
    "start_time": "2022-04-13T18:42:32.155Z"
   },
   {
    "duration": 496,
    "start_time": "2022-04-13T18:42:32.163Z"
   },
   {
    "duration": 42,
    "start_time": "2022-04-13T18:42:32.662Z"
   },
   {
    "duration": 62,
    "start_time": "2022-04-13T18:42:32.706Z"
   },
   {
    "duration": 184,
    "start_time": "2022-04-13T18:42:32.794Z"
   },
   {
    "duration": 16,
    "start_time": "2022-04-13T18:42:32.982Z"
   },
   {
    "duration": 421,
    "start_time": "2022-04-13T18:42:33.001Z"
   },
   {
    "duration": 106,
    "start_time": "2022-04-13T18:42:33.497Z"
   },
   {
    "duration": 8,
    "start_time": "2022-04-13T18:42:33.606Z"
   },
   {
    "duration": 9,
    "start_time": "2022-04-13T18:42:33.618Z"
   },
   {
    "duration": 10,
    "start_time": "2022-04-13T18:42:33.632Z"
   },
   {
    "duration": 59,
    "start_time": "2022-04-13T18:42:33.645Z"
   },
   {
    "duration": 5,
    "start_time": "2022-04-13T18:42:33.707Z"
   },
   {
    "duration": 8,
    "start_time": "2022-04-13T18:42:33.715Z"
   },
   {
    "duration": 6,
    "start_time": "2022-04-13T18:42:33.725Z"
   },
   {
    "duration": 13,
    "start_time": "2022-04-13T18:42:33.733Z"
   },
   {
    "duration": 10,
    "start_time": "2022-04-13T18:42:47.866Z"
   },
   {
    "duration": 5,
    "start_time": "2022-04-13T18:42:53.423Z"
   },
   {
    "duration": 468,
    "start_time": "2022-04-13T18:42:53.430Z"
   },
   {
    "duration": 32,
    "start_time": "2022-04-13T18:42:53.901Z"
   },
   {
    "duration": 104,
    "start_time": "2022-04-13T18:42:53.937Z"
   },
   {
    "duration": 191,
    "start_time": "2022-04-13T18:42:54.044Z"
   },
   {
    "duration": 8,
    "start_time": "2022-04-13T18:42:54.238Z"
   },
   {
    "duration": 453,
    "start_time": "2022-04-13T18:42:54.249Z"
   },
   {
    "duration": 92,
    "start_time": "2022-04-13T18:42:54.706Z"
   },
   {
    "duration": 15,
    "start_time": "2022-04-13T18:42:54.801Z"
   },
   {
    "duration": 5,
    "start_time": "2022-04-13T18:42:54.912Z"
   },
   {
    "duration": 17,
    "start_time": "2022-04-13T18:42:54.919Z"
   },
   {
    "duration": 22,
    "start_time": "2022-04-13T18:42:54.939Z"
   },
   {
    "duration": 4,
    "start_time": "2022-04-13T18:42:54.964Z"
   },
   {
    "duration": 29,
    "start_time": "2022-04-13T18:42:54.971Z"
   },
   {
    "duration": 7,
    "start_time": "2022-04-13T18:42:55.003Z"
   },
   {
    "duration": 19,
    "start_time": "2022-04-13T18:42:55.012Z"
   },
   {
    "duration": 5,
    "start_time": "2022-04-13T18:43:41.712Z"
   },
   {
    "duration": 12,
    "start_time": "2022-04-13T18:43:42.345Z"
   },
   {
    "duration": 5,
    "start_time": "2022-04-13T18:45:36.392Z"
   },
   {
    "duration": 11,
    "start_time": "2022-04-13T18:45:37.161Z"
   },
   {
    "duration": 12,
    "start_time": "2022-04-13T18:46:02.122Z"
   },
   {
    "duration": 10,
    "start_time": "2022-04-13T18:46:07.979Z"
   },
   {
    "duration": 15,
    "start_time": "2022-04-13T18:46:18.349Z"
   },
   {
    "duration": 33,
    "start_time": "2022-04-13T18:46:58.110Z"
   },
   {
    "duration": 7,
    "start_time": "2022-04-13T18:48:25.531Z"
   },
   {
    "duration": 41,
    "start_time": "2022-04-13T18:48:26.073Z"
   },
   {
    "duration": 6,
    "start_time": "2022-04-13T18:48:33.993Z"
   },
   {
    "duration": 30,
    "start_time": "2022-04-13T18:48:35.288Z"
   },
   {
    "duration": 5,
    "start_time": "2022-04-13T18:49:49.098Z"
   },
   {
    "duration": 25,
    "start_time": "2022-04-13T18:49:49.788Z"
   },
   {
    "duration": 20,
    "start_time": "2022-04-13T18:50:18.100Z"
   },
   {
    "duration": 5,
    "start_time": "2022-04-13T18:51:36.228Z"
   },
   {
    "duration": 490,
    "start_time": "2022-04-13T18:51:36.237Z"
   },
   {
    "duration": 39,
    "start_time": "2022-04-13T18:51:36.729Z"
   },
   {
    "duration": 94,
    "start_time": "2022-04-13T18:51:36.770Z"
   },
   {
    "duration": 163,
    "start_time": "2022-04-13T18:51:36.867Z"
   },
   {
    "duration": 8,
    "start_time": "2022-04-13T18:51:37.033Z"
   },
   {
    "duration": 464,
    "start_time": "2022-04-13T18:51:37.044Z"
   },
   {
    "duration": 89,
    "start_time": "2022-04-13T18:51:37.512Z"
   },
   {
    "duration": 90,
    "start_time": "2022-04-13T18:51:37.605Z"
   },
   {
    "duration": 6,
    "start_time": "2022-04-13T18:51:37.697Z"
   },
   {
    "duration": 16,
    "start_time": "2022-04-13T18:51:37.706Z"
   },
   {
    "duration": 20,
    "start_time": "2022-04-13T18:51:37.725Z"
   },
   {
    "duration": 45,
    "start_time": "2022-04-13T18:51:37.748Z"
   },
   {
    "duration": 8,
    "start_time": "2022-04-13T18:51:37.797Z"
   },
   {
    "duration": 7,
    "start_time": "2022-04-13T18:51:37.808Z"
   },
   {
    "duration": 28,
    "start_time": "2022-04-13T18:51:37.818Z"
   },
   {
    "duration": 5,
    "start_time": "2022-04-13T18:53:00.026Z"
   },
   {
    "duration": 25,
    "start_time": "2022-04-13T18:53:00.568Z"
   },
   {
    "duration": 5,
    "start_time": "2022-04-13T18:53:25.395Z"
   },
   {
    "duration": 24,
    "start_time": "2022-04-13T18:53:25.898Z"
   },
   {
    "duration": 5,
    "start_time": "2022-04-13T18:53:32.026Z"
   },
   {
    "duration": 25,
    "start_time": "2022-04-13T18:53:32.538Z"
   },
   {
    "duration": 5,
    "start_time": "2022-04-13T18:53:45.929Z"
   },
   {
    "duration": 24,
    "start_time": "2022-04-13T18:53:46.458Z"
   },
   {
    "duration": 5,
    "start_time": "2022-04-13T18:53:51.511Z"
   },
   {
    "duration": 24,
    "start_time": "2022-04-13T18:53:51.850Z"
   },
   {
    "duration": 25,
    "start_time": "2022-04-13T18:54:57.178Z"
   },
   {
    "duration": 26,
    "start_time": "2022-04-13T18:55:13.452Z"
   },
   {
    "duration": 28,
    "start_time": "2022-04-13T18:55:59.306Z"
   },
   {
    "duration": 32,
    "start_time": "2022-04-13T18:56:20.715Z"
   },
   {
    "duration": 1056,
    "start_time": "2022-04-14T05:47:51.417Z"
   },
   {
    "duration": 327,
    "start_time": "2022-04-14T05:47:52.475Z"
   },
   {
    "duration": 24,
    "start_time": "2022-04-14T05:47:52.803Z"
   },
   {
    "duration": 45,
    "start_time": "2022-04-14T05:47:52.828Z"
   },
   {
    "duration": 95,
    "start_time": "2022-04-14T05:47:52.875Z"
   },
   {
    "duration": 4,
    "start_time": "2022-04-14T05:47:52.972Z"
   },
   {
    "duration": 377,
    "start_time": "2022-04-14T05:47:52.978Z"
   },
   {
    "duration": 90,
    "start_time": "2022-04-14T05:47:53.358Z"
   },
   {
    "duration": 6,
    "start_time": "2022-04-14T05:47:53.450Z"
   },
   {
    "duration": 3,
    "start_time": "2022-04-14T05:47:53.548Z"
   },
   {
    "duration": 12,
    "start_time": "2022-04-14T05:47:53.553Z"
   },
   {
    "duration": 14,
    "start_time": "2022-04-14T05:47:53.566Z"
   },
   {
    "duration": 3,
    "start_time": "2022-04-14T05:47:53.581Z"
   },
   {
    "duration": 5,
    "start_time": "2022-04-14T05:47:53.586Z"
   },
   {
    "duration": 5,
    "start_time": "2022-04-14T05:47:53.592Z"
   },
   {
    "duration": 50,
    "start_time": "2022-04-14T05:47:53.598Z"
   },
   {
    "duration": 3,
    "start_time": "2022-04-14T05:50:13.480Z"
   },
   {
    "duration": 337,
    "start_time": "2022-04-14T05:50:13.486Z"
   },
   {
    "duration": 30,
    "start_time": "2022-04-14T05:50:13.824Z"
   },
   {
    "duration": 41,
    "start_time": "2022-04-14T05:50:13.856Z"
   },
   {
    "duration": 114,
    "start_time": "2022-04-14T05:50:13.900Z"
   },
   {
    "duration": 5,
    "start_time": "2022-04-14T05:50:14.015Z"
   },
   {
    "duration": 337,
    "start_time": "2022-04-14T05:50:14.022Z"
   },
   {
    "duration": 87,
    "start_time": "2022-04-14T05:50:14.362Z"
   },
   {
    "duration": 104,
    "start_time": "2022-04-14T05:50:14.452Z"
   },
   {
    "duration": 3,
    "start_time": "2022-04-14T05:50:14.559Z"
   },
   {
    "duration": 10,
    "start_time": "2022-04-14T05:50:14.564Z"
   },
   {
    "duration": 18,
    "start_time": "2022-04-14T05:50:14.576Z"
   },
   {
    "duration": 4,
    "start_time": "2022-04-14T05:50:14.596Z"
   },
   {
    "duration": 4,
    "start_time": "2022-04-14T05:50:14.603Z"
   },
   {
    "duration": 5,
    "start_time": "2022-04-14T05:50:14.648Z"
   },
   {
    "duration": 17,
    "start_time": "2022-04-14T05:50:14.655Z"
   },
   {
    "duration": 3,
    "start_time": "2022-04-14T05:55:35.248Z"
   },
   {
    "duration": 328,
    "start_time": "2022-04-14T05:55:35.253Z"
   },
   {
    "duration": 17,
    "start_time": "2022-04-14T05:55:35.583Z"
   },
   {
    "duration": 54,
    "start_time": "2022-04-14T05:55:35.602Z"
   },
   {
    "duration": 95,
    "start_time": "2022-04-14T05:55:35.658Z"
   },
   {
    "duration": 5,
    "start_time": "2022-04-14T05:55:35.755Z"
   },
   {
    "duration": 387,
    "start_time": "2022-04-14T05:55:35.761Z"
   },
   {
    "duration": 6,
    "start_time": "2022-04-14T05:55:36.150Z"
   },
   {
    "duration": 6,
    "start_time": "2022-04-14T05:55:36.248Z"
   },
   {
    "duration": 5,
    "start_time": "2022-04-14T05:55:36.256Z"
   },
   {
    "duration": 9,
    "start_time": "2022-04-14T05:55:36.263Z"
   },
   {
    "duration": 17,
    "start_time": "2022-04-14T05:55:36.273Z"
   },
   {
    "duration": 4,
    "start_time": "2022-04-14T05:55:36.292Z"
   },
   {
    "duration": 5,
    "start_time": "2022-04-14T05:55:36.297Z"
   },
   {
    "duration": 44,
    "start_time": "2022-04-14T05:55:36.304Z"
   },
   {
    "duration": 21,
    "start_time": "2022-04-14T05:55:36.350Z"
   },
   {
    "duration": 94,
    "start_time": "2022-04-14T07:00:56.044Z"
   },
   {
    "duration": 3,
    "start_time": "2022-04-14T07:01:07.681Z"
   },
   {
    "duration": 329,
    "start_time": "2022-04-14T07:01:07.686Z"
   },
   {
    "duration": 19,
    "start_time": "2022-04-14T07:01:08.016Z"
   },
   {
    "duration": 37,
    "start_time": "2022-04-14T07:01:08.048Z"
   },
   {
    "duration": 101,
    "start_time": "2022-04-14T07:01:08.087Z"
   },
   {
    "duration": 4,
    "start_time": "2022-04-14T07:01:08.190Z"
   },
   {
    "duration": 259,
    "start_time": "2022-04-14T07:01:08.195Z"
   },
   {
    "duration": 93,
    "start_time": "2022-04-14T07:01:08.456Z"
   },
   {
    "duration": 97,
    "start_time": "2022-04-14T07:01:08.552Z"
   },
   {
    "duration": 7,
    "start_time": "2022-04-14T07:01:08.651Z"
   },
   {
    "duration": 12,
    "start_time": "2022-04-14T07:01:08.660Z"
   },
   {
    "duration": 15,
    "start_time": "2022-04-14T07:01:08.673Z"
   },
   {
    "duration": 4,
    "start_time": "2022-04-14T07:01:08.690Z"
   },
   {
    "duration": 7,
    "start_time": "2022-04-14T07:01:08.696Z"
   },
   {
    "duration": 5,
    "start_time": "2022-04-14T07:01:08.705Z"
   },
   {
    "duration": 46,
    "start_time": "2022-04-14T07:01:08.711Z"
   },
   {
    "duration": 10,
    "start_time": "2022-04-14T07:01:08.759Z"
   },
   {
    "duration": 116,
    "start_time": "2022-04-14T07:02:42.412Z"
   },
   {
    "duration": 4,
    "start_time": "2022-04-14T07:02:47.803Z"
   },
   {
    "duration": 107,
    "start_time": "2022-04-14T07:03:29.596Z"
   },
   {
    "duration": 4,
    "start_time": "2022-04-14T07:14:47.164Z"
   },
   {
    "duration": 8,
    "start_time": "2022-04-14T07:15:27.644Z"
   },
   {
    "duration": 13,
    "start_time": "2022-04-14T07:15:33.276Z"
   },
   {
    "duration": 4,
    "start_time": "2022-04-14T07:17:11.323Z"
   },
   {
    "duration": 1214,
    "start_time": "2022-04-14T07:17:11.979Z"
   },
   {
    "duration": 5,
    "start_time": "2022-04-14T07:17:28.683Z"
   },
   {
    "duration": 1133,
    "start_time": "2022-04-14T07:17:29.276Z"
   },
   {
    "duration": 1184,
    "start_time": "2022-04-14T07:17:38.971Z"
   },
   {
    "duration": 1118,
    "start_time": "2022-04-14T07:18:47.742Z"
   },
   {
    "duration": 5,
    "start_time": "2022-04-14T07:19:19.436Z"
   },
   {
    "duration": 1139,
    "start_time": "2022-04-14T07:19:20.236Z"
   },
   {
    "duration": 5,
    "start_time": "2022-04-14T07:19:29.755Z"
   },
   {
    "duration": 1341,
    "start_time": "2022-04-14T07:19:30.621Z"
   },
   {
    "duration": 5,
    "start_time": "2022-04-14T07:19:40.829Z"
   },
   {
    "duration": 1117,
    "start_time": "2022-04-14T07:19:42.447Z"
   },
   {
    "duration": 5,
    "start_time": "2022-04-14T07:19:49.691Z"
   },
   {
    "duration": 1093,
    "start_time": "2022-04-14T07:19:51.068Z"
   },
   {
    "duration": 4,
    "start_time": "2022-04-14T07:19:55.501Z"
   },
   {
    "duration": 1085,
    "start_time": "2022-04-14T07:19:57.851Z"
   },
   {
    "duration": 1097,
    "start_time": "2022-04-14T07:20:34.764Z"
   },
   {
    "duration": 1105,
    "start_time": "2022-04-14T07:21:16.140Z"
   },
   {
    "duration": 5,
    "start_time": "2022-04-14T07:22:15.899Z"
   },
   {
    "duration": 1096,
    "start_time": "2022-04-14T07:22:16.812Z"
   },
   {
    "duration": 3,
    "start_time": "2022-04-14T07:22:44.460Z"
   },
   {
    "duration": 4,
    "start_time": "2022-04-14T07:23:28.172Z"
   },
   {
    "duration": 1131,
    "start_time": "2022-04-14T07:23:28.748Z"
   },
   {
    "duration": 6,
    "start_time": "2022-04-14T07:23:57.917Z"
   },
   {
    "duration": 1594,
    "start_time": "2022-04-14T07:23:58.796Z"
   },
   {
    "duration": 4,
    "start_time": "2022-04-14T07:24:01.019Z"
   },
   {
    "duration": 6,
    "start_time": "2022-04-14T07:24:26.941Z"
   },
   {
    "duration": 1580,
    "start_time": "2022-04-14T07:24:27.980Z"
   },
   {
    "duration": 3,
    "start_time": "2022-04-14T07:24:29.563Z"
   },
   {
    "duration": 6,
    "start_time": "2022-04-14T07:24:53.421Z"
   },
   {
    "duration": 1580,
    "start_time": "2022-04-14T07:24:55.148Z"
   },
   {
    "duration": 3,
    "start_time": "2022-04-14T07:24:56.730Z"
   },
   {
    "duration": 92,
    "start_time": "2022-04-14T07:26:32.830Z"
   },
   {
    "duration": 4,
    "start_time": "2022-04-14T07:26:39.597Z"
   },
   {
    "duration": 4,
    "start_time": "2022-04-14T07:27:25.709Z"
   },
   {
    "duration": 106,
    "start_time": "2022-04-14T07:27:46.812Z"
   },
   {
    "duration": 101,
    "start_time": "2022-04-14T07:27:49.601Z"
   },
   {
    "duration": 4,
    "start_time": "2022-04-14T07:27:55.020Z"
   },
   {
    "duration": 4,
    "start_time": "2022-04-14T07:28:08.972Z"
   },
   {
    "duration": 1185,
    "start_time": "2022-04-14T07:28:47.629Z"
   },
   {
    "duration": 4,
    "start_time": "2022-04-14T07:28:48.816Z"
   },
   {
    "duration": 3,
    "start_time": "2022-04-14T07:28:58.941Z"
   },
   {
    "duration": 4,
    "start_time": "2022-04-14T07:29:36.171Z"
   },
   {
    "duration": 466,
    "start_time": "2022-04-14T07:29:36.178Z"
   },
   {
    "duration": 28,
    "start_time": "2022-04-14T07:29:36.645Z"
   },
   {
    "duration": 38,
    "start_time": "2022-04-14T07:29:36.674Z"
   },
   {
    "duration": 120,
    "start_time": "2022-04-14T07:29:36.715Z"
   },
   {
    "duration": 4,
    "start_time": "2022-04-14T07:29:36.837Z"
   },
   {
    "duration": 302,
    "start_time": "2022-04-14T07:29:36.857Z"
   },
   {
    "duration": 88,
    "start_time": "2022-04-14T07:29:37.162Z"
   },
   {
    "duration": 103,
    "start_time": "2022-04-14T07:29:37.252Z"
   },
   {
    "duration": 5,
    "start_time": "2022-04-14T07:29:37.357Z"
   },
   {
    "duration": 11,
    "start_time": "2022-04-14T07:29:37.364Z"
   },
   {
    "duration": 14,
    "start_time": "2022-04-14T07:29:37.377Z"
   },
   {
    "duration": 3,
    "start_time": "2022-04-14T07:29:37.393Z"
   },
   {
    "duration": 4,
    "start_time": "2022-04-14T07:29:37.399Z"
   },
   {
    "duration": 4,
    "start_time": "2022-04-14T07:29:37.405Z"
   },
   {
    "duration": 48,
    "start_time": "2022-04-14T07:29:37.411Z"
   },
   {
    "duration": 5,
    "start_time": "2022-04-14T07:29:37.461Z"
   },
   {
    "duration": 1192,
    "start_time": "2022-04-14T07:29:37.468Z"
   },
   {
    "duration": 5,
    "start_time": "2022-04-14T07:29:38.662Z"
   },
   {
    "duration": 1198,
    "start_time": "2022-04-14T07:29:38.669Z"
   },
   {
    "duration": 4,
    "start_time": "2022-04-14T07:29:39.869Z"
   },
   {
    "duration": 1155,
    "start_time": "2022-04-14T07:29:39.874Z"
   },
   {
    "duration": 4,
    "start_time": "2022-04-14T07:29:41.030Z"
   },
   {
    "duration": 8,
    "start_time": "2022-04-14T07:37:39.561Z"
   },
   {
    "duration": 5,
    "start_time": "2022-04-14T07:38:35.521Z"
   },
   {
    "duration": 4,
    "start_time": "2022-04-14T07:43:40.910Z"
   },
   {
    "duration": 9,
    "start_time": "2022-04-14T07:44:07.502Z"
   },
   {
    "duration": 4,
    "start_time": "2022-04-14T07:44:13.154Z"
   },
   {
    "duration": 8,
    "start_time": "2022-04-14T07:45:59.790Z"
   },
   {
    "duration": 8,
    "start_time": "2022-04-14T08:49:56.915Z"
   },
   {
    "duration": 5,
    "start_time": "2022-04-14T08:50:47.059Z"
   },
   {
    "duration": 1104,
    "start_time": "2022-04-14T08:50:48.771Z"
   },
   {
    "duration": 0,
    "start_time": "2022-04-14T08:50:49.876Z"
   },
   {
    "duration": 1109,
    "start_time": "2022-04-14T08:50:50.403Z"
   },
   {
    "duration": 1104,
    "start_time": "2022-04-14T08:51:37.608Z"
   },
   {
    "duration": 4,
    "start_time": "2022-04-14T08:51:50.340Z"
   },
   {
    "duration": 5,
    "start_time": "2022-04-14T08:59:12.901Z"
   },
   {
    "duration": 3,
    "start_time": "2022-04-14T08:59:46.032Z"
   },
   {
    "duration": 1991,
    "start_time": "2022-04-14T08:59:46.039Z"
   },
   {
    "duration": 29,
    "start_time": "2022-04-14T08:59:48.032Z"
   },
   {
    "duration": 37,
    "start_time": "2022-04-14T08:59:48.064Z"
   },
   {
    "duration": 112,
    "start_time": "2022-04-14T08:59:48.103Z"
   },
   {
    "duration": 5,
    "start_time": "2022-04-14T08:59:48.217Z"
   },
   {
    "duration": 424,
    "start_time": "2022-04-14T08:59:48.224Z"
   },
   {
    "duration": 6,
    "start_time": "2022-04-14T08:59:48.650Z"
   },
   {
    "duration": 101,
    "start_time": "2022-04-14T08:59:48.659Z"
   },
   {
    "duration": 5,
    "start_time": "2022-04-14T08:59:48.762Z"
   },
   {
    "duration": 10,
    "start_time": "2022-04-14T08:59:48.768Z"
   },
   {
    "duration": 14,
    "start_time": "2022-04-14T08:59:48.780Z"
   },
   {
    "duration": 3,
    "start_time": "2022-04-14T08:59:48.795Z"
   },
   {
    "duration": 4,
    "start_time": "2022-04-14T08:59:48.800Z"
   },
   {
    "duration": 4,
    "start_time": "2022-04-14T08:59:48.806Z"
   },
   {
    "duration": 37,
    "start_time": "2022-04-14T08:59:48.811Z"
   },
   {
    "duration": 5,
    "start_time": "2022-04-14T08:59:48.850Z"
   },
   {
    "duration": 1114,
    "start_time": "2022-04-14T08:59:48.857Z"
   },
   {
    "duration": 3,
    "start_time": "2022-04-14T08:59:49.973Z"
   },
   {
    "duration": 1101,
    "start_time": "2022-04-14T08:59:49.978Z"
   },
   {
    "duration": 10,
    "start_time": "2022-04-14T08:59:51.081Z"
   },
   {
    "duration": 0,
    "start_time": "2022-04-14T08:59:51.093Z"
   },
   {
    "duration": 0,
    "start_time": "2022-04-14T08:59:51.094Z"
   },
   {
    "duration": 1108,
    "start_time": "2022-04-14T09:00:04.532Z"
   },
   {
    "duration": 4,
    "start_time": "2022-04-14T09:00:05.700Z"
   },
   {
    "duration": 1109,
    "start_time": "2022-04-14T09:00:07.525Z"
   },
   {
    "duration": 14,
    "start_time": "2022-04-14T09:00:08.636Z"
   },
   {
    "duration": 1105,
    "start_time": "2022-04-14T09:00:17.796Z"
   },
   {
    "duration": 4,
    "start_time": "2022-04-14T09:00:18.903Z"
   },
   {
    "duration": 5,
    "start_time": "2022-04-14T09:11:56.023Z"
   },
   {
    "duration": 1121,
    "start_time": "2022-04-14T09:11:56.773Z"
   },
   {
    "duration": 4,
    "start_time": "2022-04-14T09:11:57.896Z"
   },
   {
    "duration": 1113,
    "start_time": "2022-04-14T09:11:58.341Z"
   },
   {
    "duration": 4,
    "start_time": "2022-04-14T09:11:59.456Z"
   },
   {
    "duration": 1114,
    "start_time": "2022-04-14T09:11:59.461Z"
   },
   {
    "duration": 4,
    "start_time": "2022-04-14T09:12:00.577Z"
   },
   {
    "duration": 5,
    "start_time": "2022-04-14T09:12:16.213Z"
   },
   {
    "duration": 1119,
    "start_time": "2022-04-14T09:12:16.836Z"
   },
   {
    "duration": 5,
    "start_time": "2022-04-14T09:12:17.957Z"
   },
   {
    "duration": 1828,
    "start_time": "2022-04-14T09:12:17.964Z"
   },
   {
    "duration": 6,
    "start_time": "2022-04-14T09:12:19.794Z"
   },
   {
    "duration": 1830,
    "start_time": "2022-04-14T09:12:19.802Z"
   },
   {
    "duration": 5,
    "start_time": "2022-04-14T09:12:21.634Z"
   },
   {
    "duration": 3,
    "start_time": "2022-04-14T09:12:40.977Z"
   },
   {
    "duration": 314,
    "start_time": "2022-04-14T09:12:40.982Z"
   },
   {
    "duration": 18,
    "start_time": "2022-04-14T09:12:41.298Z"
   },
   {
    "duration": 50,
    "start_time": "2022-04-14T09:12:41.318Z"
   },
   {
    "duration": 96,
    "start_time": "2022-04-14T09:12:41.369Z"
   },
   {
    "duration": 3,
    "start_time": "2022-04-14T09:12:41.467Z"
   },
   {
    "duration": 282,
    "start_time": "2022-04-14T09:12:41.472Z"
   },
   {
    "duration": 5,
    "start_time": "2022-04-14T09:12:41.757Z"
   },
   {
    "duration": 12,
    "start_time": "2022-04-14T09:12:41.848Z"
   },
   {
    "duration": 4,
    "start_time": "2022-04-14T09:12:41.950Z"
   },
   {
    "duration": 14,
    "start_time": "2022-04-14T09:12:41.955Z"
   },
   {
    "duration": 20,
    "start_time": "2022-04-14T09:12:41.970Z"
   },
   {
    "duration": 3,
    "start_time": "2022-04-14T09:12:41.992Z"
   },
   {
    "duration": 5,
    "start_time": "2022-04-14T09:12:41.996Z"
   },
   {
    "duration": 5,
    "start_time": "2022-04-14T09:12:42.002Z"
   },
   {
    "duration": 15,
    "start_time": "2022-04-14T09:12:42.009Z"
   },
   {
    "duration": 5,
    "start_time": "2022-04-14T09:12:42.048Z"
   },
   {
    "duration": 1124,
    "start_time": "2022-04-14T09:12:42.055Z"
   },
   {
    "duration": 4,
    "start_time": "2022-04-14T09:12:43.181Z"
   },
   {
    "duration": 1105,
    "start_time": "2022-04-14T09:12:43.187Z"
   },
   {
    "duration": 5,
    "start_time": "2022-04-14T09:12:44.293Z"
   },
   {
    "duration": 1109,
    "start_time": "2022-04-14T09:12:44.300Z"
   },
   {
    "duration": 5,
    "start_time": "2022-04-14T09:12:45.410Z"
   },
   {
    "duration": 20,
    "start_time": "2022-04-14T12:58:51.167Z"
   },
   {
    "duration": 1627,
    "start_time": "2022-04-14T12:58:54.081Z"
   },
   {
    "duration": 452,
    "start_time": "2022-04-14T12:58:55.711Z"
   },
   {
    "duration": 56,
    "start_time": "2022-04-14T12:58:56.165Z"
   },
   {
    "duration": 76,
    "start_time": "2022-04-14T12:58:56.224Z"
   },
   {
    "duration": 138,
    "start_time": "2022-04-14T12:58:56.305Z"
   },
   {
    "duration": 6,
    "start_time": "2022-04-14T12:58:56.446Z"
   },
   {
    "duration": 451,
    "start_time": "2022-04-14T12:58:56.454Z"
   },
   {
    "duration": 89,
    "start_time": "2022-04-14T12:58:56.908Z"
   },
   {
    "duration": 97,
    "start_time": "2022-04-14T12:58:57.001Z"
   },
   {
    "duration": 14,
    "start_time": "2022-04-14T12:58:57.100Z"
   },
   {
    "duration": 23,
    "start_time": "2022-04-14T12:58:57.116Z"
   },
   {
    "duration": 55,
    "start_time": "2022-04-14T12:58:57.142Z"
   },
   {
    "duration": 5,
    "start_time": "2022-04-14T12:58:57.200Z"
   },
   {
    "duration": 10,
    "start_time": "2022-04-14T12:58:57.211Z"
   },
   {
    "duration": 7,
    "start_time": "2022-04-14T12:58:57.224Z"
   },
   {
    "duration": 19,
    "start_time": "2022-04-14T12:58:57.234Z"
   },
   {
    "duration": 38,
    "start_time": "2022-04-14T12:58:57.255Z"
   },
   {
    "duration": 2029,
    "start_time": "2022-04-14T12:58:57.296Z"
   },
   {
    "duration": 0,
    "start_time": "2022-04-14T12:58:59.328Z"
   },
   {
    "duration": 0,
    "start_time": "2022-04-14T12:58:59.329Z"
   },
   {
    "duration": 0,
    "start_time": "2022-04-14T12:58:59.331Z"
   },
   {
    "duration": 0,
    "start_time": "2022-04-14T12:58:59.333Z"
   },
   {
    "duration": 0,
    "start_time": "2022-04-14T12:58:59.335Z"
   },
   {
    "duration": 8,
    "start_time": "2022-04-14T12:59:19.402Z"
   },
   {
    "duration": 1936,
    "start_time": "2022-04-14T12:59:19.915Z"
   },
   {
    "duration": 6,
    "start_time": "2022-04-14T12:59:21.854Z"
   },
   {
    "duration": 1854,
    "start_time": "2022-04-14T12:59:21.862Z"
   },
   {
    "duration": 6,
    "start_time": "2022-04-14T12:59:23.719Z"
   },
   {
    "duration": 5,
    "start_time": "2022-04-14T12:59:28.190Z"
   },
   {
    "duration": 459,
    "start_time": "2022-04-14T12:59:28.199Z"
   },
   {
    "duration": 34,
    "start_time": "2022-04-14T12:59:28.660Z"
   },
   {
    "duration": 58,
    "start_time": "2022-04-14T12:59:28.697Z"
   },
   {
    "duration": 212,
    "start_time": "2022-04-14T12:59:28.757Z"
   },
   {
    "duration": 8,
    "start_time": "2022-04-14T12:59:28.972Z"
   },
   {
    "duration": 404,
    "start_time": "2022-04-14T12:59:28.994Z"
   },
   {
    "duration": 94,
    "start_time": "2022-04-14T12:59:29.402Z"
   },
   {
    "duration": 105,
    "start_time": "2022-04-14T12:59:29.499Z"
   },
   {
    "duration": 5,
    "start_time": "2022-04-14T12:59:29.607Z"
   },
   {
    "duration": 13,
    "start_time": "2022-04-14T12:59:29.614Z"
   },
   {
    "duration": 19,
    "start_time": "2022-04-14T12:59:29.629Z"
   },
   {
    "duration": 4,
    "start_time": "2022-04-14T12:59:29.651Z"
   },
   {
    "duration": 5,
    "start_time": "2022-04-14T12:59:29.692Z"
   },
   {
    "duration": 8,
    "start_time": "2022-04-14T12:59:29.700Z"
   },
   {
    "duration": 15,
    "start_time": "2022-04-14T12:59:29.710Z"
   },
   {
    "duration": 10,
    "start_time": "2022-04-14T12:59:29.728Z"
   },
   {
    "duration": 2922,
    "start_time": "2022-04-14T12:59:29.741Z"
   },
   {
    "duration": 8,
    "start_time": "2022-04-14T12:59:32.666Z"
   },
   {
    "duration": 2050,
    "start_time": "2022-04-14T12:59:32.676Z"
   },
   {
    "duration": 7,
    "start_time": "2022-04-14T12:59:34.728Z"
   },
   {
    "duration": 2046,
    "start_time": "2022-04-14T12:59:34.737Z"
   },
   {
    "duration": 11,
    "start_time": "2022-04-14T12:59:36.785Z"
   },
   {
    "duration": 4,
    "start_time": "2022-04-14T13:00:36.039Z"
   },
   {
    "duration": 6,
    "start_time": "2022-04-14T13:01:08.573Z"
   },
   {
    "duration": 5,
    "start_time": "2022-04-14T13:01:23.225Z"
   },
   {
    "duration": 449,
    "start_time": "2022-04-14T13:01:23.233Z"
   },
   {
    "duration": 34,
    "start_time": "2022-04-14T13:01:23.684Z"
   },
   {
    "duration": 76,
    "start_time": "2022-04-14T13:01:23.721Z"
   },
   {
    "duration": 138,
    "start_time": "2022-04-14T13:01:23.799Z"
   },
   {
    "duration": 6,
    "start_time": "2022-04-14T13:01:23.939Z"
   },
   {
    "duration": 454,
    "start_time": "2022-04-14T13:01:23.947Z"
   },
   {
    "duration": 91,
    "start_time": "2022-04-14T13:01:24.404Z"
   },
   {
    "duration": 97,
    "start_time": "2022-04-14T13:01:24.501Z"
   },
   {
    "duration": 8,
    "start_time": "2022-04-14T13:01:24.600Z"
   },
   {
    "duration": 13,
    "start_time": "2022-04-14T13:01:24.610Z"
   },
   {
    "duration": 22,
    "start_time": "2022-04-14T13:01:24.626Z"
   },
   {
    "duration": 45,
    "start_time": "2022-04-14T13:01:24.651Z"
   },
   {
    "duration": 12,
    "start_time": "2022-04-14T13:01:24.698Z"
   },
   {
    "duration": 10,
    "start_time": "2022-04-14T13:01:24.712Z"
   },
   {
    "duration": 15,
    "start_time": "2022-04-14T13:01:24.724Z"
   },
   {
    "duration": 8,
    "start_time": "2022-04-14T13:01:24.741Z"
   },
   {
    "duration": 2034,
    "start_time": "2022-04-14T13:01:24.751Z"
   },
   {
    "duration": 7,
    "start_time": "2022-04-14T13:01:26.787Z"
   },
   {
    "duration": 1815,
    "start_time": "2022-04-14T13:01:26.796Z"
   },
   {
    "duration": 7,
    "start_time": "2022-04-14T13:01:28.613Z"
   },
   {
    "duration": 1923,
    "start_time": "2022-04-14T13:01:28.622Z"
   },
   {
    "duration": 7,
    "start_time": "2022-04-14T13:01:30.548Z"
   },
   {
    "duration": 8,
    "start_time": "2022-04-14T13:01:30.558Z"
   },
   {
    "duration": 5,
    "start_time": "2022-04-14T13:01:38.960Z"
   },
   {
    "duration": 440,
    "start_time": "2022-04-14T13:01:38.967Z"
   },
   {
    "duration": 29,
    "start_time": "2022-04-14T13:01:39.410Z"
   },
   {
    "duration": 76,
    "start_time": "2022-04-14T13:01:39.442Z"
   },
   {
    "duration": 150,
    "start_time": "2022-04-14T13:01:39.522Z"
   },
   {
    "duration": 20,
    "start_time": "2022-04-14T13:01:39.675Z"
   },
   {
    "duration": 304,
    "start_time": "2022-04-14T13:01:39.698Z"
   },
   {
    "duration": 91,
    "start_time": "2022-04-14T13:01:40.004Z"
   },
   {
    "duration": 15,
    "start_time": "2022-04-14T13:01:40.098Z"
   },
   {
    "duration": 101,
    "start_time": "2022-04-14T13:01:40.117Z"
   },
   {
    "duration": 12,
    "start_time": "2022-04-14T13:01:40.221Z"
   },
   {
    "duration": 28,
    "start_time": "2022-04-14T13:01:40.235Z"
   },
   {
    "duration": 5,
    "start_time": "2022-04-14T13:01:40.266Z"
   },
   {
    "duration": 5,
    "start_time": "2022-04-14T13:01:40.292Z"
   },
   {
    "duration": 7,
    "start_time": "2022-04-14T13:01:40.300Z"
   },
   {
    "duration": 24,
    "start_time": "2022-04-14T13:01:40.309Z"
   },
   {
    "duration": 9,
    "start_time": "2022-04-14T13:01:40.336Z"
   },
   {
    "duration": 1970,
    "start_time": "2022-04-14T13:01:40.348Z"
   },
   {
    "duration": 7,
    "start_time": "2022-04-14T13:01:42.321Z"
   },
   {
    "duration": 1956,
    "start_time": "2022-04-14T13:01:42.330Z"
   },
   {
    "duration": 8,
    "start_time": "2022-04-14T13:01:44.288Z"
   },
   {
    "duration": 2826,
    "start_time": "2022-04-14T13:01:44.299Z"
   },
   {
    "duration": 6,
    "start_time": "2022-04-14T13:01:47.128Z"
   },
   {
    "duration": 17,
    "start_time": "2022-04-14T13:01:47.136Z"
   },
   {
    "duration": 7,
    "start_time": "2022-04-14T13:02:02.427Z"
   },
   {
    "duration": 1946,
    "start_time": "2022-04-14T13:02:03.259Z"
   },
   {
    "duration": 6,
    "start_time": "2022-04-14T13:02:05.208Z"
   },
   {
    "duration": 7,
    "start_time": "2022-04-14T13:02:10.283Z"
   },
   {
    "duration": 1822,
    "start_time": "2022-04-14T13:02:10.841Z"
   },
   {
    "duration": 6,
    "start_time": "2022-04-14T13:02:12.666Z"
   },
   {
    "duration": 7,
    "start_time": "2022-04-14T13:02:28.304Z"
   },
   {
    "duration": 1794,
    "start_time": "2022-04-14T13:02:28.921Z"
   },
   {
    "duration": 8,
    "start_time": "2022-04-14T13:02:30.718Z"
   },
   {
    "duration": 1809,
    "start_time": "2022-04-14T13:02:31.610Z"
   },
   {
    "duration": 7,
    "start_time": "2022-04-14T13:02:33.801Z"
   },
   {
    "duration": 1811,
    "start_time": "2022-04-14T13:02:34.446Z"
   },
   {
    "duration": 7,
    "start_time": "2022-04-14T13:02:36.260Z"
   },
   {
    "duration": 4,
    "start_time": "2022-04-14T13:02:54.775Z"
   },
   {
    "duration": 469,
    "start_time": "2022-04-14T13:02:54.782Z"
   },
   {
    "duration": 41,
    "start_time": "2022-04-14T13:02:55.253Z"
   },
   {
    "duration": 57,
    "start_time": "2022-04-14T13:02:55.297Z"
   },
   {
    "duration": 159,
    "start_time": "2022-04-14T13:02:55.357Z"
   },
   {
    "duration": 6,
    "start_time": "2022-04-14T13:02:55.518Z"
   },
   {
    "duration": 377,
    "start_time": "2022-04-14T13:02:55.527Z"
   },
   {
    "duration": 88,
    "start_time": "2022-04-14T13:02:55.907Z"
   },
   {
    "duration": 100,
    "start_time": "2022-04-14T13:02:55.998Z"
   },
   {
    "duration": 9,
    "start_time": "2022-04-14T13:02:56.101Z"
   },
   {
    "duration": 18,
    "start_time": "2022-04-14T13:02:56.113Z"
   },
   {
    "duration": 26,
    "start_time": "2022-04-14T13:02:56.133Z"
   },
   {
    "duration": 4,
    "start_time": "2022-04-14T13:02:56.162Z"
   },
   {
    "duration": 4,
    "start_time": "2022-04-14T13:02:56.193Z"
   },
   {
    "duration": 9,
    "start_time": "2022-04-14T13:02:56.200Z"
   },
   {
    "duration": 21,
    "start_time": "2022-04-14T13:02:56.211Z"
   },
   {
    "duration": 8,
    "start_time": "2022-04-14T13:02:56.236Z"
   },
   {
    "duration": 1831,
    "start_time": "2022-04-14T13:02:56.247Z"
   },
   {
    "duration": 11,
    "start_time": "2022-04-14T13:02:58.081Z"
   },
   {
    "duration": 2028,
    "start_time": "2022-04-14T13:02:58.095Z"
   },
   {
    "duration": 7,
    "start_time": "2022-04-14T13:03:00.125Z"
   },
   {
    "duration": 1840,
    "start_time": "2022-04-14T13:03:00.134Z"
   },
   {
    "duration": 6,
    "start_time": "2022-04-14T13:03:01.976Z"
   },
   {
    "duration": 13,
    "start_time": "2022-04-14T13:03:01.984Z"
   },
   {
    "duration": 5,
    "start_time": "2022-04-14T13:03:14.719Z"
   },
   {
    "duration": 516,
    "start_time": "2022-04-14T13:03:14.727Z"
   },
   {
    "duration": 32,
    "start_time": "2022-04-14T13:03:15.245Z"
   },
   {
    "duration": 57,
    "start_time": "2022-04-14T13:03:15.296Z"
   },
   {
    "duration": 172,
    "start_time": "2022-04-14T13:03:15.355Z"
   },
   {
    "duration": 7,
    "start_time": "2022-04-14T13:03:15.530Z"
   },
   {
    "duration": 355,
    "start_time": "2022-04-14T13:03:15.540Z"
   },
   {
    "duration": 8,
    "start_time": "2022-04-14T13:03:15.898Z"
   },
   {
    "duration": 101,
    "start_time": "2022-04-14T13:03:15.909Z"
   },
   {
    "duration": 94,
    "start_time": "2022-04-14T13:03:16.015Z"
   },
   {
    "duration": 15,
    "start_time": "2022-04-14T13:03:16.112Z"
   },
   {
    "duration": 21,
    "start_time": "2022-04-14T13:03:16.129Z"
   },
   {
    "duration": 5,
    "start_time": "2022-04-14T13:03:16.152Z"
   },
   {
    "duration": 34,
    "start_time": "2022-04-14T13:03:16.159Z"
   },
   {
    "duration": 5,
    "start_time": "2022-04-14T13:03:16.196Z"
   },
   {
    "duration": 26,
    "start_time": "2022-04-14T13:03:16.203Z"
   },
   {
    "duration": 15,
    "start_time": "2022-04-14T13:03:16.231Z"
   },
   {
    "duration": 1864,
    "start_time": "2022-04-14T13:03:16.249Z"
   },
   {
    "duration": 7,
    "start_time": "2022-04-14T13:03:18.115Z"
   },
   {
    "duration": 2036,
    "start_time": "2022-04-14T13:03:18.125Z"
   },
   {
    "duration": 6,
    "start_time": "2022-04-14T13:03:20.163Z"
   },
   {
    "duration": 2147,
    "start_time": "2022-04-14T13:03:20.172Z"
   },
   {
    "duration": 8,
    "start_time": "2022-04-14T13:03:22.321Z"
   },
   {
    "duration": 11,
    "start_time": "2022-04-14T13:03:22.330Z"
   },
   {
    "duration": 5,
    "start_time": "2022-04-14T13:03:37.831Z"
   },
   {
    "duration": 450,
    "start_time": "2022-04-14T13:03:37.838Z"
   },
   {
    "duration": 32,
    "start_time": "2022-04-14T13:03:38.292Z"
   },
   {
    "duration": 84,
    "start_time": "2022-04-14T13:03:38.326Z"
   },
   {
    "duration": 186,
    "start_time": "2022-04-14T13:03:38.413Z"
   },
   {
    "duration": 8,
    "start_time": "2022-04-14T13:03:38.602Z"
   },
   {
    "duration": 395,
    "start_time": "2022-04-14T13:03:38.612Z"
   },
   {
    "duration": 87,
    "start_time": "2022-04-14T13:03:39.012Z"
   },
   {
    "duration": 102,
    "start_time": "2022-04-14T13:03:39.103Z"
   },
   {
    "duration": 6,
    "start_time": "2022-04-14T13:03:39.208Z"
   },
   {
    "duration": 11,
    "start_time": "2022-04-14T13:03:39.220Z"
   },
   {
    "duration": 22,
    "start_time": "2022-04-14T13:03:39.233Z"
   },
   {
    "duration": 6,
    "start_time": "2022-04-14T13:03:39.294Z"
   },
   {
    "duration": 9,
    "start_time": "2022-04-14T13:03:39.302Z"
   },
   {
    "duration": 8,
    "start_time": "2022-04-14T13:03:39.314Z"
   },
   {
    "duration": 22,
    "start_time": "2022-04-14T13:03:39.325Z"
   },
   {
    "duration": 14,
    "start_time": "2022-04-14T13:03:39.349Z"
   },
   {
    "duration": 1922,
    "start_time": "2022-04-14T13:03:39.394Z"
   },
   {
    "duration": 7,
    "start_time": "2022-04-14T13:03:41.318Z"
   },
   {
    "duration": 1922,
    "start_time": "2022-04-14T13:03:41.327Z"
   },
   {
    "duration": 6,
    "start_time": "2022-04-14T13:03:43.252Z"
   },
   {
    "duration": 2023,
    "start_time": "2022-04-14T13:03:43.294Z"
   },
   {
    "duration": 7,
    "start_time": "2022-04-14T13:03:45.320Z"
   },
   {
    "duration": 12,
    "start_time": "2022-04-14T13:03:45.330Z"
   },
   {
    "duration": 4,
    "start_time": "2022-04-14T13:03:59.576Z"
   },
   {
    "duration": 455,
    "start_time": "2022-04-14T13:03:59.583Z"
   },
   {
    "duration": 33,
    "start_time": "2022-04-14T13:04:00.040Z"
   },
   {
    "duration": 59,
    "start_time": "2022-04-14T13:04:00.095Z"
   },
   {
    "duration": 161,
    "start_time": "2022-04-14T13:04:00.159Z"
   },
   {
    "duration": 7,
    "start_time": "2022-04-14T13:04:00.323Z"
   },
   {
    "duration": 374,
    "start_time": "2022-04-14T13:04:00.333Z"
   },
   {
    "duration": 86,
    "start_time": "2022-04-14T13:04:00.710Z"
   },
   {
    "duration": 110,
    "start_time": "2022-04-14T13:04:00.800Z"
   },
   {
    "duration": 20,
    "start_time": "2022-04-14T13:04:00.913Z"
   },
   {
    "duration": 23,
    "start_time": "2022-04-14T13:04:00.935Z"
   },
   {
    "duration": 46,
    "start_time": "2022-04-14T13:04:00.961Z"
   },
   {
    "duration": 9,
    "start_time": "2022-04-14T13:04:01.009Z"
   },
   {
    "duration": 44,
    "start_time": "2022-04-14T13:04:01.023Z"
   },
   {
    "duration": 19,
    "start_time": "2022-04-14T13:04:01.069Z"
   },
   {
    "duration": 34,
    "start_time": "2022-04-14T13:04:01.090Z"
   },
   {
    "duration": 8,
    "start_time": "2022-04-14T13:04:01.127Z"
   },
   {
    "duration": 1751,
    "start_time": "2022-04-14T13:04:01.138Z"
   },
   {
    "duration": 7,
    "start_time": "2022-04-14T13:04:02.893Z"
   },
   {
    "duration": 1766,
    "start_time": "2022-04-14T13:04:02.903Z"
   },
   {
    "duration": 7,
    "start_time": "2022-04-14T13:04:04.671Z"
   },
   {
    "duration": 1842,
    "start_time": "2022-04-14T13:04:04.694Z"
   },
   {
    "duration": 6,
    "start_time": "2022-04-14T13:04:06.538Z"
   },
   {
    "duration": 7,
    "start_time": "2022-04-14T13:04:06.547Z"
   },
   {
    "duration": 5,
    "start_time": "2022-04-14T13:04:29.743Z"
   },
   {
    "duration": 637,
    "start_time": "2022-04-14T13:04:29.750Z"
   },
   {
    "duration": 37,
    "start_time": "2022-04-14T13:04:30.389Z"
   },
   {
    "duration": 85,
    "start_time": "2022-04-14T13:04:30.429Z"
   },
   {
    "duration": 152,
    "start_time": "2022-04-14T13:04:30.516Z"
   },
   {
    "duration": 8,
    "start_time": "2022-04-14T13:04:30.670Z"
   },
   {
    "duration": 401,
    "start_time": "2022-04-14T13:04:30.694Z"
   },
   {
    "duration": 9,
    "start_time": "2022-04-14T13:04:31.098Z"
   },
   {
    "duration": 9,
    "start_time": "2022-04-14T13:04:31.195Z"
   },
   {
    "duration": 34,
    "start_time": "2022-04-14T13:04:31.210Z"
   },
   {
    "duration": 93,
    "start_time": "2022-04-14T13:04:31.246Z"
   },
   {
    "duration": 26,
    "start_time": "2022-04-14T13:04:31.341Z"
   },
   {
    "duration": 5,
    "start_time": "2022-04-14T13:04:31.369Z"
   },
   {
    "duration": 27,
    "start_time": "2022-04-14T13:04:31.377Z"
   },
   {
    "duration": 29,
    "start_time": "2022-04-14T13:04:31.406Z"
   },
   {
    "duration": 29,
    "start_time": "2022-04-14T13:04:31.438Z"
   },
   {
    "duration": 28,
    "start_time": "2022-04-14T13:04:31.471Z"
   },
   {
    "duration": 1955,
    "start_time": "2022-04-14T13:04:31.501Z"
   },
   {
    "duration": 6,
    "start_time": "2022-04-14T13:04:33.459Z"
   },
   {
    "duration": 2064,
    "start_time": "2022-04-14T13:04:33.467Z"
   },
   {
    "duration": 7,
    "start_time": "2022-04-14T13:04:35.534Z"
   },
   {
    "duration": 1938,
    "start_time": "2022-04-14T13:04:35.543Z"
   },
   {
    "duration": 15,
    "start_time": "2022-04-14T13:04:37.483Z"
   },
   {
    "duration": 11,
    "start_time": "2022-04-14T13:04:37.500Z"
   },
   {
    "duration": 6,
    "start_time": "2022-04-14T13:04:52.463Z"
   },
   {
    "duration": 441,
    "start_time": "2022-04-14T13:04:52.472Z"
   },
   {
    "duration": 30,
    "start_time": "2022-04-14T13:04:52.915Z"
   },
   {
    "duration": 82,
    "start_time": "2022-04-14T13:04:52.948Z"
   },
   {
    "duration": 136,
    "start_time": "2022-04-14T13:04:53.035Z"
   },
   {
    "duration": 21,
    "start_time": "2022-04-14T13:04:53.173Z"
   },
   {
    "duration": 306,
    "start_time": "2022-04-14T13:04:53.196Z"
   },
   {
    "duration": 90,
    "start_time": "2022-04-14T13:04:53.505Z"
   },
   {
    "duration": 100,
    "start_time": "2022-04-14T13:04:53.598Z"
   },
   {
    "duration": 12,
    "start_time": "2022-04-14T13:04:53.702Z"
   },
   {
    "duration": 14,
    "start_time": "2022-04-14T13:04:53.717Z"
   },
   {
    "duration": 23,
    "start_time": "2022-04-14T13:04:53.734Z"
   },
   {
    "duration": 34,
    "start_time": "2022-04-14T13:04:53.760Z"
   },
   {
    "duration": 9,
    "start_time": "2022-04-14T13:04:53.798Z"
   },
   {
    "duration": 8,
    "start_time": "2022-04-14T13:04:53.810Z"
   },
   {
    "duration": 20,
    "start_time": "2022-04-14T13:04:53.820Z"
   },
   {
    "duration": 10,
    "start_time": "2022-04-14T13:04:53.843Z"
   },
   {
    "duration": 2518,
    "start_time": "2022-04-14T13:04:53.856Z"
   },
   {
    "duration": 8,
    "start_time": "2022-04-14T13:04:56.376Z"
   },
   {
    "duration": 2718,
    "start_time": "2022-04-14T13:04:56.395Z"
   },
   {
    "duration": 15,
    "start_time": "2022-04-14T13:04:59.115Z"
   },
   {
    "duration": 1991,
    "start_time": "2022-04-14T13:04:59.132Z"
   },
   {
    "duration": 7,
    "start_time": "2022-04-14T13:05:01.126Z"
   },
   {
    "duration": 48,
    "start_time": "2022-04-14T13:05:01.135Z"
   },
   {
    "duration": 5,
    "start_time": "2022-04-14T13:11:20.669Z"
   },
   {
    "duration": 443,
    "start_time": "2022-04-14T13:11:20.677Z"
   },
   {
    "duration": 30,
    "start_time": "2022-04-14T13:11:21.122Z"
   },
   {
    "duration": 81,
    "start_time": "2022-04-14T13:11:21.154Z"
   },
   {
    "duration": 137,
    "start_time": "2022-04-14T13:11:21.238Z"
   },
   {
    "duration": 18,
    "start_time": "2022-04-14T13:11:21.377Z"
   },
   {
    "duration": 309,
    "start_time": "2022-04-14T13:11:21.398Z"
   },
   {
    "duration": 9,
    "start_time": "2022-04-14T13:11:21.795Z"
   },
   {
    "duration": 97,
    "start_time": "2022-04-14T13:11:21.807Z"
   },
   {
    "duration": 7,
    "start_time": "2022-04-14T13:11:21.906Z"
   },
   {
    "duration": 12,
    "start_time": "2022-04-14T13:11:21.915Z"
   },
   {
    "duration": 20,
    "start_time": "2022-04-14T13:11:21.929Z"
   },
   {
    "duration": 4,
    "start_time": "2022-04-14T13:11:21.951Z"
   },
   {
    "duration": 5,
    "start_time": "2022-04-14T13:11:21.994Z"
   },
   {
    "duration": 6,
    "start_time": "2022-04-14T13:11:22.001Z"
   },
   {
    "duration": 20,
    "start_time": "2022-04-14T13:11:22.010Z"
   },
   {
    "duration": 8,
    "start_time": "2022-04-14T13:11:22.032Z"
   },
   {
    "duration": 1981,
    "start_time": "2022-04-14T13:11:22.043Z"
   },
   {
    "duration": 7,
    "start_time": "2022-04-14T13:11:24.026Z"
   },
   {
    "duration": 1898,
    "start_time": "2022-04-14T13:11:24.035Z"
   },
   {
    "duration": 7,
    "start_time": "2022-04-14T13:11:25.936Z"
   },
   {
    "duration": 1989,
    "start_time": "2022-04-14T13:11:25.946Z"
   },
   {
    "duration": 6,
    "start_time": "2022-04-14T13:11:27.938Z"
   },
   {
    "duration": 4,
    "start_time": "2022-04-14T13:21:40.173Z"
   },
   {
    "duration": 6,
    "start_time": "2022-04-14T13:21:43.512Z"
   },
   {
    "duration": 703,
    "start_time": "2022-04-14T13:21:43.521Z"
   },
   {
    "duration": 66,
    "start_time": "2022-04-14T13:21:44.227Z"
   },
   {
    "duration": 99,
    "start_time": "2022-04-14T13:21:44.296Z"
   },
   {
    "duration": 192,
    "start_time": "2022-04-14T13:21:44.400Z"
   },
   {
    "duration": 9,
    "start_time": "2022-04-14T13:21:44.598Z"
   },
   {
    "duration": 385,
    "start_time": "2022-04-14T13:21:44.610Z"
   },
   {
    "duration": 106,
    "start_time": "2022-04-14T13:21:44.998Z"
   },
   {
    "duration": 94,
    "start_time": "2022-04-14T13:21:45.111Z"
   },
   {
    "duration": 9,
    "start_time": "2022-04-14T13:21:45.208Z"
   },
   {
    "duration": 19,
    "start_time": "2022-04-14T13:21:45.220Z"
   },
   {
    "duration": 25,
    "start_time": "2022-04-14T13:21:45.242Z"
   },
   {
    "duration": 5,
    "start_time": "2022-04-14T13:21:45.293Z"
   },
   {
    "duration": 25,
    "start_time": "2022-04-14T13:21:45.303Z"
   },
   {
    "duration": 25,
    "start_time": "2022-04-14T13:21:45.331Z"
   },
   {
    "duration": 39,
    "start_time": "2022-04-14T13:21:45.359Z"
   },
   {
    "duration": 20,
    "start_time": "2022-04-14T13:21:45.401Z"
   },
   {
    "duration": 3495,
    "start_time": "2022-04-14T13:21:45.424Z"
   },
   {
    "duration": 7,
    "start_time": "2022-04-14T13:21:48.923Z"
   },
   {
    "duration": 2983,
    "start_time": "2022-04-14T13:21:48.933Z"
   },
   {
    "duration": 7,
    "start_time": "2022-04-14T13:21:51.919Z"
   },
   {
    "duration": 1922,
    "start_time": "2022-04-14T13:21:51.929Z"
   },
   {
    "duration": 6,
    "start_time": "2022-04-14T13:21:53.854Z"
   },
   {
    "duration": 5,
    "start_time": "2022-04-14T13:22:10.506Z"
   },
   {
    "duration": 458,
    "start_time": "2022-04-14T13:22:10.514Z"
   },
   {
    "duration": 31,
    "start_time": "2022-04-14T13:22:10.974Z"
   },
   {
    "duration": 59,
    "start_time": "2022-04-14T13:22:11.007Z"
   },
   {
    "duration": 169,
    "start_time": "2022-04-14T13:22:11.069Z"
   },
   {
    "duration": 7,
    "start_time": "2022-04-14T13:22:11.240Z"
   },
   {
    "duration": 543,
    "start_time": "2022-04-14T13:22:11.249Z"
   },
   {
    "duration": 96,
    "start_time": "2022-04-14T13:22:11.796Z"
   },
   {
    "duration": 8,
    "start_time": "2022-04-14T13:22:11.895Z"
   },
   {
    "duration": 5,
    "start_time": "2022-04-14T13:22:11.905Z"
   },
   {
    "duration": 16,
    "start_time": "2022-04-14T13:22:11.912Z"
   },
   {
    "duration": 62,
    "start_time": "2022-04-14T13:22:11.931Z"
   },
   {
    "duration": 4,
    "start_time": "2022-04-14T13:22:11.996Z"
   },
   {
    "duration": 10,
    "start_time": "2022-04-14T13:22:12.004Z"
   },
   {
    "duration": 7,
    "start_time": "2022-04-14T13:22:12.017Z"
   },
   {
    "duration": 20,
    "start_time": "2022-04-14T13:22:12.026Z"
   },
   {
    "duration": 10,
    "start_time": "2022-04-14T13:22:12.048Z"
   },
   {
    "duration": 3105,
    "start_time": "2022-04-14T13:22:12.060Z"
   },
   {
    "duration": 8,
    "start_time": "2022-04-14T13:22:15.168Z"
   },
   {
    "duration": 3072,
    "start_time": "2022-04-14T13:22:15.193Z"
   },
   {
    "duration": 8,
    "start_time": "2022-04-14T13:22:18.268Z"
   },
   {
    "duration": 2974,
    "start_time": "2022-04-14T13:22:18.294Z"
   },
   {
    "duration": 8,
    "start_time": "2022-04-14T13:22:21.271Z"
   },
   {
    "duration": 7,
    "start_time": "2022-04-14T13:22:34.675Z"
   },
   {
    "duration": 452,
    "start_time": "2022-04-14T13:22:34.685Z"
   },
   {
    "duration": 30,
    "start_time": "2022-04-14T13:22:35.140Z"
   },
   {
    "duration": 103,
    "start_time": "2022-04-14T13:22:35.172Z"
   },
   {
    "duration": 147,
    "start_time": "2022-04-14T13:22:35.279Z"
   },
   {
    "duration": 6,
    "start_time": "2022-04-14T13:22:35.429Z"
   },
   {
    "duration": 367,
    "start_time": "2022-04-14T13:22:35.437Z"
   },
   {
    "duration": 88,
    "start_time": "2022-04-14T13:22:35.807Z"
   },
   {
    "duration": 96,
    "start_time": "2022-04-14T13:22:35.899Z"
   },
   {
    "duration": 8,
    "start_time": "2022-04-14T13:22:35.997Z"
   },
   {
    "duration": 23,
    "start_time": "2022-04-14T13:22:36.007Z"
   },
   {
    "duration": 23,
    "start_time": "2022-04-14T13:22:36.032Z"
   },
   {
    "duration": 4,
    "start_time": "2022-04-14T13:22:36.057Z"
   },
   {
    "duration": 30,
    "start_time": "2022-04-14T13:22:36.065Z"
   },
   {
    "duration": 9,
    "start_time": "2022-04-14T13:22:36.098Z"
   },
   {
    "duration": 16,
    "start_time": "2022-04-14T13:22:36.110Z"
   },
   {
    "duration": 8,
    "start_time": "2022-04-14T13:22:36.128Z"
   },
   {
    "duration": 3121,
    "start_time": "2022-04-14T13:22:36.140Z"
   },
   {
    "duration": 8,
    "start_time": "2022-04-14T13:22:39.263Z"
   },
   {
    "duration": 1829,
    "start_time": "2022-04-14T13:22:39.273Z"
   },
   {
    "duration": 6,
    "start_time": "2022-04-14T13:22:41.105Z"
   },
   {
    "duration": 1933,
    "start_time": "2022-04-14T13:22:41.113Z"
   },
   {
    "duration": 8,
    "start_time": "2022-04-14T13:22:43.049Z"
   },
   {
    "duration": 5,
    "start_time": "2022-04-14T13:22:55.211Z"
   },
   {
    "duration": 446,
    "start_time": "2022-04-14T13:22:55.219Z"
   },
   {
    "duration": 38,
    "start_time": "2022-04-14T13:22:55.667Z"
   },
   {
    "duration": 59,
    "start_time": "2022-04-14T13:22:55.707Z"
   },
   {
    "duration": 137,
    "start_time": "2022-04-14T13:22:55.794Z"
   },
   {
    "duration": 6,
    "start_time": "2022-04-14T13:22:55.933Z"
   },
   {
    "duration": 450,
    "start_time": "2022-04-14T13:22:55.942Z"
   },
   {
    "duration": 98,
    "start_time": "2022-04-14T13:22:56.396Z"
   },
   {
    "duration": 6,
    "start_time": "2022-04-14T13:22:56.497Z"
   },
   {
    "duration": 6,
    "start_time": "2022-04-14T13:22:56.505Z"
   },
   {
    "duration": 15,
    "start_time": "2022-04-14T13:22:56.513Z"
   },
   {
    "duration": 21,
    "start_time": "2022-04-14T13:22:56.530Z"
   },
   {
    "duration": 41,
    "start_time": "2022-04-14T13:22:56.553Z"
   },
   {
    "duration": 7,
    "start_time": "2022-04-14T13:22:56.598Z"
   },
   {
    "duration": 6,
    "start_time": "2022-04-14T13:22:56.608Z"
   },
   {
    "duration": 17,
    "start_time": "2022-04-14T13:22:56.617Z"
   },
   {
    "duration": 95,
    "start_time": "2022-04-14T13:22:56.636Z"
   },
   {
    "duration": 3033,
    "start_time": "2022-04-14T13:22:56.735Z"
   },
   {
    "duration": 8,
    "start_time": "2022-04-14T13:22:59.771Z"
   },
   {
    "duration": 3357,
    "start_time": "2022-04-14T13:22:59.782Z"
   },
   {
    "duration": 5,
    "start_time": "2022-04-14T13:23:03.142Z"
   },
   {
    "duration": 1868,
    "start_time": "2022-04-14T13:23:03.149Z"
   },
   {
    "duration": 7,
    "start_time": "2022-04-14T13:23:05.020Z"
   },
   {
    "duration": 4,
    "start_time": "2022-04-14T13:23:21.555Z"
   },
   {
    "duration": 462,
    "start_time": "2022-04-14T13:23:21.562Z"
   },
   {
    "duration": 29,
    "start_time": "2022-04-14T13:23:22.026Z"
   },
   {
    "duration": 111,
    "start_time": "2022-04-14T13:23:22.057Z"
   },
   {
    "duration": 150,
    "start_time": "2022-04-14T13:23:22.171Z"
   },
   {
    "duration": 6,
    "start_time": "2022-04-14T13:23:22.324Z"
   },
   {
    "duration": 367,
    "start_time": "2022-04-14T13:23:22.333Z"
   },
   {
    "duration": 93,
    "start_time": "2022-04-14T13:23:22.703Z"
   },
   {
    "duration": 105,
    "start_time": "2022-04-14T13:23:22.799Z"
   },
   {
    "duration": 9,
    "start_time": "2022-04-14T13:23:22.906Z"
   },
   {
    "duration": 18,
    "start_time": "2022-04-14T13:23:22.918Z"
   },
   {
    "duration": 21,
    "start_time": "2022-04-14T13:23:22.939Z"
   },
   {
    "duration": 34,
    "start_time": "2022-04-14T13:23:22.963Z"
   },
   {
    "duration": 5,
    "start_time": "2022-04-14T13:23:23.001Z"
   },
   {
    "duration": 11,
    "start_time": "2022-04-14T13:23:23.008Z"
   },
   {
    "duration": 16,
    "start_time": "2022-04-14T13:23:23.021Z"
   },
   {
    "duration": 8,
    "start_time": "2022-04-14T13:23:23.039Z"
   },
   {
    "duration": 1880,
    "start_time": "2022-04-14T13:23:23.049Z"
   },
   {
    "duration": 6,
    "start_time": "2022-04-14T13:23:24.931Z"
   },
   {
    "duration": 2961,
    "start_time": "2022-04-14T13:23:24.941Z"
   },
   {
    "duration": 7,
    "start_time": "2022-04-14T13:23:27.905Z"
   },
   {
    "duration": 3101,
    "start_time": "2022-04-14T13:23:27.915Z"
   },
   {
    "duration": 7,
    "start_time": "2022-04-14T13:23:31.019Z"
   },
   {
    "duration": 6,
    "start_time": "2022-04-14T13:23:42.741Z"
   },
   {
    "duration": 678,
    "start_time": "2022-04-14T13:23:42.751Z"
   },
   {
    "duration": 45,
    "start_time": "2022-04-14T13:23:43.432Z"
   },
   {
    "duration": 62,
    "start_time": "2022-04-14T13:23:43.492Z"
   },
   {
    "duration": 157,
    "start_time": "2022-04-14T13:23:43.559Z"
   },
   {
    "duration": 6,
    "start_time": "2022-04-14T13:23:43.719Z"
   },
   {
    "duration": 369,
    "start_time": "2022-04-14T13:23:43.728Z"
   },
   {
    "duration": 94,
    "start_time": "2022-04-14T13:23:44.101Z"
   },
   {
    "duration": 97,
    "start_time": "2022-04-14T13:23:44.201Z"
   },
   {
    "duration": 11,
    "start_time": "2022-04-14T13:23:44.300Z"
   },
   {
    "duration": 21,
    "start_time": "2022-04-14T13:23:44.314Z"
   },
   {
    "duration": 25,
    "start_time": "2022-04-14T13:23:44.338Z"
   },
   {
    "duration": 4,
    "start_time": "2022-04-14T13:23:44.365Z"
   },
   {
    "duration": 4,
    "start_time": "2022-04-14T13:23:44.394Z"
   },
   {
    "duration": 8,
    "start_time": "2022-04-14T13:23:44.400Z"
   },
   {
    "duration": 23,
    "start_time": "2022-04-14T13:23:44.410Z"
   },
   {
    "duration": 8,
    "start_time": "2022-04-14T13:23:44.435Z"
   },
   {
    "duration": 1890,
    "start_time": "2022-04-14T13:23:44.445Z"
   },
   {
    "duration": 7,
    "start_time": "2022-04-14T13:23:46.337Z"
   },
   {
    "duration": 1914,
    "start_time": "2022-04-14T13:23:46.346Z"
   },
   {
    "duration": 6,
    "start_time": "2022-04-14T13:23:48.263Z"
   },
   {
    "duration": 1880,
    "start_time": "2022-04-14T13:23:48.271Z"
   },
   {
    "duration": 7,
    "start_time": "2022-04-14T13:23:50.153Z"
   },
   {
    "duration": 5,
    "start_time": "2022-04-14T13:24:01.690Z"
   },
   {
    "duration": 702,
    "start_time": "2022-04-14T13:24:01.698Z"
   },
   {
    "duration": 36,
    "start_time": "2022-04-14T13:24:02.403Z"
   },
   {
    "duration": 81,
    "start_time": "2022-04-14T13:24:02.441Z"
   },
   {
    "duration": 138,
    "start_time": "2022-04-14T13:24:02.526Z"
   },
   {
    "duration": 6,
    "start_time": "2022-04-14T13:24:02.667Z"
   },
   {
    "duration": 422,
    "start_time": "2022-04-14T13:24:02.675Z"
   },
   {
    "duration": 96,
    "start_time": "2022-04-14T13:24:03.100Z"
   },
   {
    "duration": 98,
    "start_time": "2022-04-14T13:24:03.199Z"
   },
   {
    "duration": 10,
    "start_time": "2022-04-14T13:24:03.300Z"
   },
   {
    "duration": 17,
    "start_time": "2022-04-14T13:24:03.313Z"
   },
   {
    "duration": 22,
    "start_time": "2022-04-14T13:24:03.332Z"
   },
   {
    "duration": 37,
    "start_time": "2022-04-14T13:24:03.356Z"
   },
   {
    "duration": 8,
    "start_time": "2022-04-14T13:24:03.398Z"
   },
   {
    "duration": 10,
    "start_time": "2022-04-14T13:24:03.409Z"
   },
   {
    "duration": 16,
    "start_time": "2022-04-14T13:24:03.422Z"
   },
   {
    "duration": 8,
    "start_time": "2022-04-14T13:24:03.440Z"
   },
   {
    "duration": 1914,
    "start_time": "2022-04-14T13:24:03.450Z"
   },
   {
    "duration": 8,
    "start_time": "2022-04-14T13:24:05.367Z"
   },
   {
    "duration": 2000,
    "start_time": "2022-04-14T13:24:05.392Z"
   },
   {
    "duration": 6,
    "start_time": "2022-04-14T13:24:07.395Z"
   },
   {
    "duration": 1880,
    "start_time": "2022-04-14T13:24:07.403Z"
   },
   {
    "duration": 10,
    "start_time": "2022-04-14T13:24:09.285Z"
   },
   {
    "duration": 4,
    "start_time": "2022-04-14T13:24:16.539Z"
   },
   {
    "duration": 467,
    "start_time": "2022-04-14T13:24:16.547Z"
   },
   {
    "duration": 29,
    "start_time": "2022-04-14T13:24:17.017Z"
   },
   {
    "duration": 81,
    "start_time": "2022-04-14T13:24:17.049Z"
   },
   {
    "duration": 158,
    "start_time": "2022-04-14T13:24:17.135Z"
   },
   {
    "duration": 7,
    "start_time": "2022-04-14T13:24:17.296Z"
   },
   {
    "duration": 391,
    "start_time": "2022-04-14T13:24:17.305Z"
   },
   {
    "duration": 95,
    "start_time": "2022-04-14T13:24:17.700Z"
   },
   {
    "duration": 94,
    "start_time": "2022-04-14T13:24:17.799Z"
   },
   {
    "duration": 4,
    "start_time": "2022-04-14T13:24:17.895Z"
   },
   {
    "duration": 16,
    "start_time": "2022-04-14T13:24:17.902Z"
   },
   {
    "duration": 20,
    "start_time": "2022-04-14T13:24:17.921Z"
   },
   {
    "duration": 4,
    "start_time": "2022-04-14T13:24:17.943Z"
   },
   {
    "duration": 5,
    "start_time": "2022-04-14T13:24:17.992Z"
   },
   {
    "duration": 12,
    "start_time": "2022-04-14T13:24:18.000Z"
   },
   {
    "duration": 17,
    "start_time": "2022-04-14T13:24:18.015Z"
   },
   {
    "duration": 7,
    "start_time": "2022-04-14T13:24:18.035Z"
   },
   {
    "duration": 1868,
    "start_time": "2022-04-14T13:24:18.044Z"
   },
   {
    "duration": 7,
    "start_time": "2022-04-14T13:24:19.915Z"
   },
   {
    "duration": 1860,
    "start_time": "2022-04-14T13:24:19.924Z"
   },
   {
    "duration": 8,
    "start_time": "2022-04-14T13:24:21.792Z"
   },
   {
    "duration": 1996,
    "start_time": "2022-04-14T13:24:21.803Z"
   },
   {
    "duration": 8,
    "start_time": "2022-04-14T13:24:23.802Z"
   },
   {
    "duration": 5,
    "start_time": "2022-04-14T13:24:43.122Z"
   },
   {
    "duration": 457,
    "start_time": "2022-04-14T13:24:43.130Z"
   },
   {
    "duration": 29,
    "start_time": "2022-04-14T13:24:43.589Z"
   },
   {
    "duration": 81,
    "start_time": "2022-04-14T13:24:43.621Z"
   },
   {
    "duration": 139,
    "start_time": "2022-04-14T13:24:43.705Z"
   },
   {
    "duration": 6,
    "start_time": "2022-04-14T13:24:43.847Z"
   },
   {
    "duration": 442,
    "start_time": "2022-04-14T13:24:43.855Z"
   },
   {
    "duration": 99,
    "start_time": "2022-04-14T13:24:44.300Z"
   },
   {
    "duration": 13,
    "start_time": "2022-04-14T13:24:44.492Z"
   },
   {
    "duration": 8,
    "start_time": "2022-04-14T13:24:44.507Z"
   },
   {
    "duration": 20,
    "start_time": "2022-04-14T13:24:44.517Z"
   },
   {
    "duration": 29,
    "start_time": "2022-04-14T13:24:44.540Z"
   },
   {
    "duration": 6,
    "start_time": "2022-04-14T13:24:44.594Z"
   },
   {
    "duration": 7,
    "start_time": "2022-04-14T13:24:44.605Z"
   },
   {
    "duration": 7,
    "start_time": "2022-04-14T13:24:44.614Z"
   },
   {
    "duration": 15,
    "start_time": "2022-04-14T13:24:44.624Z"
   },
   {
    "duration": 8,
    "start_time": "2022-04-14T13:24:44.641Z"
   },
   {
    "duration": 1927,
    "start_time": "2022-04-14T13:24:44.693Z"
   },
   {
    "duration": 6,
    "start_time": "2022-04-14T13:24:46.622Z"
   },
   {
    "duration": 1829,
    "start_time": "2022-04-14T13:24:46.630Z"
   },
   {
    "duration": 5,
    "start_time": "2022-04-14T13:24:48.462Z"
   },
   {
    "duration": 1895,
    "start_time": "2022-04-14T13:24:48.470Z"
   },
   {
    "duration": 8,
    "start_time": "2022-04-14T13:24:50.367Z"
   },
   {
    "duration": 5,
    "start_time": "2022-04-14T13:25:00.410Z"
   },
   {
    "duration": 564,
    "start_time": "2022-04-14T13:25:00.419Z"
   },
   {
    "duration": 30,
    "start_time": "2022-04-14T13:25:00.985Z"
   },
   {
    "duration": 89,
    "start_time": "2022-04-14T13:25:01.017Z"
   },
   {
    "duration": 152,
    "start_time": "2022-04-14T13:25:01.112Z"
   },
   {
    "duration": 7,
    "start_time": "2022-04-14T13:25:01.267Z"
   },
   {
    "duration": 417,
    "start_time": "2022-04-14T13:25:01.276Z"
   },
   {
    "duration": 11,
    "start_time": "2022-04-14T13:25:01.696Z"
   },
   {
    "duration": 16,
    "start_time": "2022-04-14T13:25:01.794Z"
   },
   {
    "duration": 12,
    "start_time": "2022-04-14T13:25:01.812Z"
   },
   {
    "duration": 32,
    "start_time": "2022-04-14T13:25:01.827Z"
   },
   {
    "duration": 27,
    "start_time": "2022-04-14T13:25:01.862Z"
   },
   {
    "duration": 4,
    "start_time": "2022-04-14T13:25:01.891Z"
   },
   {
    "duration": 17,
    "start_time": "2022-04-14T13:25:01.899Z"
   },
   {
    "duration": 10,
    "start_time": "2022-04-14T13:25:01.918Z"
   },
   {
    "duration": 29,
    "start_time": "2022-04-14T13:25:01.930Z"
   },
   {
    "duration": 52,
    "start_time": "2022-04-14T13:25:01.961Z"
   },
   {
    "duration": 2741,
    "start_time": "2022-04-14T13:25:02.016Z"
   },
   {
    "duration": 7,
    "start_time": "2022-04-14T13:25:04.760Z"
   },
   {
    "duration": 1970,
    "start_time": "2022-04-14T13:25:04.770Z"
   },
   {
    "duration": 6,
    "start_time": "2022-04-14T13:25:06.742Z"
   },
   {
    "duration": 1893,
    "start_time": "2022-04-14T13:25:06.750Z"
   },
   {
    "duration": 6,
    "start_time": "2022-04-14T13:25:08.645Z"
   },
   {
    "duration": 5,
    "start_time": "2022-04-14T13:25:19.723Z"
   },
   {
    "duration": 453,
    "start_time": "2022-04-14T13:25:19.731Z"
   },
   {
    "duration": 32,
    "start_time": "2022-04-14T13:25:20.187Z"
   },
   {
    "duration": 82,
    "start_time": "2022-04-14T13:25:20.222Z"
   },
   {
    "duration": 134,
    "start_time": "2022-04-14T13:25:20.307Z"
   },
   {
    "duration": 6,
    "start_time": "2022-04-14T13:25:20.443Z"
   },
   {
    "duration": 444,
    "start_time": "2022-04-14T13:25:20.451Z"
   },
   {
    "duration": 96,
    "start_time": "2022-04-14T13:25:20.898Z"
   },
   {
    "duration": 7,
    "start_time": "2022-04-14T13:25:20.996Z"
   },
   {
    "duration": 8,
    "start_time": "2022-04-14T13:25:21.005Z"
   },
   {
    "duration": 89,
    "start_time": "2022-04-14T13:25:21.016Z"
   },
   {
    "duration": 31,
    "start_time": "2022-04-14T13:25:21.108Z"
   },
   {
    "duration": 5,
    "start_time": "2022-04-14T13:25:21.142Z"
   },
   {
    "duration": 7,
    "start_time": "2022-04-14T13:25:21.194Z"
   },
   {
    "duration": 7,
    "start_time": "2022-04-14T13:25:21.204Z"
   },
   {
    "duration": 23,
    "start_time": "2022-04-14T13:25:21.214Z"
   },
   {
    "duration": 12,
    "start_time": "2022-04-14T13:25:21.240Z"
   },
   {
    "duration": 1895,
    "start_time": "2022-04-14T13:25:21.254Z"
   },
   {
    "duration": 7,
    "start_time": "2022-04-14T13:25:23.152Z"
   },
   {
    "duration": 1835,
    "start_time": "2022-04-14T13:25:23.162Z"
   },
   {
    "duration": 7,
    "start_time": "2022-04-14T13:25:25.000Z"
   },
   {
    "duration": 2051,
    "start_time": "2022-04-14T13:25:25.010Z"
   },
   {
    "duration": 9,
    "start_time": "2022-04-14T13:25:27.064Z"
   },
   {
    "duration": 5,
    "start_time": "2022-04-14T13:25:40.923Z"
   },
   {
    "duration": 487,
    "start_time": "2022-04-14T13:25:40.931Z"
   },
   {
    "duration": 33,
    "start_time": "2022-04-14T13:25:41.420Z"
   },
   {
    "duration": 68,
    "start_time": "2022-04-14T13:25:41.455Z"
   },
   {
    "duration": 126,
    "start_time": "2022-04-14T13:25:41.526Z"
   },
   {
    "duration": 6,
    "start_time": "2022-04-14T13:25:41.655Z"
   },
   {
    "duration": 432,
    "start_time": "2022-04-14T13:25:41.663Z"
   },
   {
    "duration": 9,
    "start_time": "2022-04-14T13:25:42.098Z"
   },
   {
    "duration": 102,
    "start_time": "2022-04-14T13:25:42.196Z"
   },
   {
    "duration": 14,
    "start_time": "2022-04-14T13:25:42.300Z"
   },
   {
    "duration": 36,
    "start_time": "2022-04-14T13:25:42.316Z"
   },
   {
    "duration": 22,
    "start_time": "2022-04-14T13:25:42.355Z"
   },
   {
    "duration": 5,
    "start_time": "2022-04-14T13:25:42.379Z"
   },
   {
    "duration": 10,
    "start_time": "2022-04-14T13:25:42.389Z"
   },
   {
    "duration": 12,
    "start_time": "2022-04-14T13:25:42.402Z"
   },
   {
    "duration": 18,
    "start_time": "2022-04-14T13:25:42.417Z"
   },
   {
    "duration": 20,
    "start_time": "2022-04-14T13:25:42.437Z"
   },
   {
    "duration": 2137,
    "start_time": "2022-04-14T13:25:42.460Z"
   },
   {
    "duration": 6,
    "start_time": "2022-04-14T13:25:44.599Z"
   },
   {
    "duration": 1850,
    "start_time": "2022-04-14T13:25:44.607Z"
   },
   {
    "duration": 6,
    "start_time": "2022-04-14T13:25:46.460Z"
   },
   {
    "duration": 1840,
    "start_time": "2022-04-14T13:25:46.468Z"
   },
   {
    "duration": 6,
    "start_time": "2022-04-14T13:25:48.310Z"
   },
   {
    "duration": 5,
    "start_time": "2022-04-14T13:27:12.126Z"
   },
   {
    "duration": 5,
    "start_time": "2022-04-14T13:27:14.339Z"
   },
   {
    "duration": 458,
    "start_time": "2022-04-14T13:27:14.346Z"
   },
   {
    "duration": 31,
    "start_time": "2022-04-14T13:27:14.806Z"
   },
   {
    "duration": 83,
    "start_time": "2022-04-14T13:27:14.839Z"
   },
   {
    "duration": 139,
    "start_time": "2022-04-14T13:27:14.925Z"
   },
   {
    "duration": 7,
    "start_time": "2022-04-14T13:27:15.066Z"
   },
   {
    "duration": 518,
    "start_time": "2022-04-14T13:27:15.075Z"
   },
   {
    "duration": 98,
    "start_time": "2022-04-14T13:27:15.598Z"
   },
   {
    "duration": 7,
    "start_time": "2022-04-14T13:27:15.699Z"
   },
   {
    "duration": 5,
    "start_time": "2022-04-14T13:27:15.708Z"
   },
   {
    "duration": 19,
    "start_time": "2022-04-14T13:27:15.715Z"
   },
   {
    "duration": 59,
    "start_time": "2022-04-14T13:27:15.736Z"
   },
   {
    "duration": 5,
    "start_time": "2022-04-14T13:27:15.798Z"
   },
   {
    "duration": 6,
    "start_time": "2022-04-14T13:27:15.810Z"
   },
   {
    "duration": 11,
    "start_time": "2022-04-14T13:27:15.819Z"
   },
   {
    "duration": 14,
    "start_time": "2022-04-14T13:27:15.833Z"
   },
   {
    "duration": 49,
    "start_time": "2022-04-14T13:27:15.850Z"
   },
   {
    "duration": 1847,
    "start_time": "2022-04-14T13:27:15.902Z"
   },
   {
    "duration": 7,
    "start_time": "2022-04-14T13:27:17.751Z"
   },
   {
    "duration": 1838,
    "start_time": "2022-04-14T13:27:17.760Z"
   },
   {
    "duration": 7,
    "start_time": "2022-04-14T13:27:19.600Z"
   },
   {
    "duration": 1832,
    "start_time": "2022-04-14T13:27:19.609Z"
   },
   {
    "duration": 6,
    "start_time": "2022-04-14T13:27:21.444Z"
   },
   {
    "duration": 5,
    "start_time": "2022-04-14T13:27:47.387Z"
   },
   {
    "duration": 468,
    "start_time": "2022-04-14T13:27:47.395Z"
   },
   {
    "duration": 37,
    "start_time": "2022-04-14T13:27:47.866Z"
   },
   {
    "duration": 60,
    "start_time": "2022-04-14T13:27:47.906Z"
   },
   {
    "duration": 141,
    "start_time": "2022-04-14T13:27:47.994Z"
   },
   {
    "duration": 7,
    "start_time": "2022-04-14T13:27:48.138Z"
   },
   {
    "duration": 545,
    "start_time": "2022-04-14T13:27:48.148Z"
   },
   {
    "duration": 99,
    "start_time": "2022-04-14T13:27:48.696Z"
   },
   {
    "duration": 10,
    "start_time": "2022-04-14T13:27:48.798Z"
   },
   {
    "duration": 17,
    "start_time": "2022-04-14T13:27:48.810Z"
   },
   {
    "duration": 28,
    "start_time": "2022-04-14T13:27:48.829Z"
   },
   {
    "duration": 41,
    "start_time": "2022-04-14T13:27:48.860Z"
   },
   {
    "duration": 5,
    "start_time": "2022-04-14T13:27:48.903Z"
   },
   {
    "duration": 17,
    "start_time": "2022-04-14T13:27:48.912Z"
   },
   {
    "duration": 18,
    "start_time": "2022-04-14T13:27:48.931Z"
   },
   {
    "duration": 25,
    "start_time": "2022-04-14T13:27:48.951Z"
   },
   {
    "duration": 18,
    "start_time": "2022-04-14T13:27:48.978Z"
   },
   {
    "duration": 1864,
    "start_time": "2022-04-14T13:27:48.998Z"
   },
   {
    "duration": 7,
    "start_time": "2022-04-14T13:27:50.864Z"
   },
   {
    "duration": 1855,
    "start_time": "2022-04-14T13:27:50.874Z"
   },
   {
    "duration": 8,
    "start_time": "2022-04-14T13:27:52.731Z"
   },
   {
    "duration": 1863,
    "start_time": "2022-04-14T13:27:52.741Z"
   },
   {
    "duration": 8,
    "start_time": "2022-04-14T13:27:54.606Z"
   },
   {
    "duration": 5,
    "start_time": "2022-04-14T13:28:06.906Z"
   },
   {
    "duration": 452,
    "start_time": "2022-04-14T13:28:06.914Z"
   },
   {
    "duration": 34,
    "start_time": "2022-04-14T13:28:07.369Z"
   },
   {
    "duration": 87,
    "start_time": "2022-04-14T13:28:07.406Z"
   },
   {
    "duration": 140,
    "start_time": "2022-04-14T13:28:07.496Z"
   },
   {
    "duration": 8,
    "start_time": "2022-04-14T13:28:07.638Z"
   },
   {
    "duration": 544,
    "start_time": "2022-04-14T13:28:07.649Z"
   },
   {
    "duration": 100,
    "start_time": "2022-04-14T13:28:08.196Z"
   },
   {
    "duration": 7,
    "start_time": "2022-04-14T13:28:08.298Z"
   },
   {
    "duration": 7,
    "start_time": "2022-04-14T13:28:08.307Z"
   },
   {
    "duration": 15,
    "start_time": "2022-04-14T13:28:08.318Z"
   },
   {
    "duration": 58,
    "start_time": "2022-04-14T13:28:08.335Z"
   },
   {
    "duration": 8,
    "start_time": "2022-04-14T13:28:08.397Z"
   },
   {
    "duration": 6,
    "start_time": "2022-04-14T13:28:08.411Z"
   },
   {
    "duration": 11,
    "start_time": "2022-04-14T13:28:08.419Z"
   },
   {
    "duration": 20,
    "start_time": "2022-04-14T13:28:08.434Z"
   },
   {
    "duration": 10,
    "start_time": "2022-04-14T13:28:08.494Z"
   },
   {
    "duration": 1899,
    "start_time": "2022-04-14T13:28:08.507Z"
   },
   {
    "duration": 6,
    "start_time": "2022-04-14T13:28:10.408Z"
   },
   {
    "duration": 1832,
    "start_time": "2022-04-14T13:28:10.416Z"
   },
   {
    "duration": 7,
    "start_time": "2022-04-14T13:28:12.250Z"
   },
   {
    "duration": 1995,
    "start_time": "2022-04-14T13:28:12.259Z"
   },
   {
    "duration": 7,
    "start_time": "2022-04-14T13:28:14.257Z"
   },
   {
    "duration": 5,
    "start_time": "2022-04-14T13:28:31.490Z"
   },
   {
    "duration": 461,
    "start_time": "2022-04-14T13:28:31.498Z"
   },
   {
    "duration": 41,
    "start_time": "2022-04-14T13:28:31.962Z"
   },
   {
    "duration": 55,
    "start_time": "2022-04-14T13:28:32.005Z"
   },
   {
    "duration": 163,
    "start_time": "2022-04-14T13:28:32.063Z"
   },
   {
    "duration": 6,
    "start_time": "2022-04-14T13:28:32.228Z"
   },
   {
    "duration": 370,
    "start_time": "2022-04-14T13:28:32.236Z"
   },
   {
    "duration": 95,
    "start_time": "2022-04-14T13:28:32.611Z"
   },
   {
    "duration": 10,
    "start_time": "2022-04-14T13:28:32.794Z"
   },
   {
    "duration": 11,
    "start_time": "2022-04-14T13:28:32.807Z"
   },
   {
    "duration": 14,
    "start_time": "2022-04-14T13:28:32.821Z"
   },
   {
    "duration": 56,
    "start_time": "2022-04-14T13:28:32.838Z"
   },
   {
    "duration": 4,
    "start_time": "2022-04-14T13:28:32.897Z"
   },
   {
    "duration": 9,
    "start_time": "2022-04-14T13:28:32.905Z"
   },
   {
    "duration": 6,
    "start_time": "2022-04-14T13:28:32.916Z"
   },
   {
    "duration": 18,
    "start_time": "2022-04-14T13:28:32.925Z"
   },
   {
    "duration": 51,
    "start_time": "2022-04-14T13:28:32.945Z"
   },
   {
    "duration": 1854,
    "start_time": "2022-04-14T13:28:32.998Z"
   },
   {
    "duration": 7,
    "start_time": "2022-04-14T13:28:34.854Z"
   },
   {
    "duration": 1856,
    "start_time": "2022-04-14T13:28:34.863Z"
   },
   {
    "duration": 6,
    "start_time": "2022-04-14T13:28:36.722Z"
   },
   {
    "duration": 2005,
    "start_time": "2022-04-14T13:28:36.731Z"
   },
   {
    "duration": 7,
    "start_time": "2022-04-14T13:28:38.738Z"
   },
   {
    "duration": 5,
    "start_time": "2022-04-14T13:28:42.507Z"
   },
   {
    "duration": 440,
    "start_time": "2022-04-14T13:28:42.515Z"
   },
   {
    "duration": 44,
    "start_time": "2022-04-14T13:28:42.957Z"
   },
   {
    "duration": 58,
    "start_time": "2022-04-14T13:28:43.004Z"
   },
   {
    "duration": 141,
    "start_time": "2022-04-14T13:28:43.092Z"
   },
   {
    "duration": 6,
    "start_time": "2022-04-14T13:28:43.235Z"
   },
   {
    "duration": 452,
    "start_time": "2022-04-14T13:28:43.243Z"
   },
   {
    "duration": 97,
    "start_time": "2022-04-14T13:28:43.698Z"
   },
   {
    "duration": 7,
    "start_time": "2022-04-14T13:28:43.798Z"
   },
   {
    "duration": 6,
    "start_time": "2022-04-14T13:28:43.808Z"
   },
   {
    "duration": 16,
    "start_time": "2022-04-14T13:28:43.816Z"
   },
   {
    "duration": 57,
    "start_time": "2022-04-14T13:28:43.835Z"
   },
   {
    "duration": 5,
    "start_time": "2022-04-14T13:28:43.895Z"
   },
   {
    "duration": 11,
    "start_time": "2022-04-14T13:28:43.904Z"
   },
   {
    "duration": 10,
    "start_time": "2022-04-14T13:28:43.917Z"
   },
   {
    "duration": 18,
    "start_time": "2022-04-14T13:28:43.929Z"
   },
   {
    "duration": 8,
    "start_time": "2022-04-14T13:28:43.949Z"
   },
   {
    "duration": 1864,
    "start_time": "2022-04-14T13:28:43.959Z"
   },
   {
    "duration": 6,
    "start_time": "2022-04-14T13:28:45.826Z"
   },
   {
    "duration": 1853,
    "start_time": "2022-04-14T13:28:45.835Z"
   },
   {
    "duration": 7,
    "start_time": "2022-04-14T13:28:47.692Z"
   },
   {
    "duration": 1858,
    "start_time": "2022-04-14T13:28:47.701Z"
   },
   {
    "duration": 7,
    "start_time": "2022-04-14T13:28:49.561Z"
   },
   {
    "duration": 4,
    "start_time": "2022-04-14T13:28:59.044Z"
   },
   {
    "duration": 637,
    "start_time": "2022-04-14T13:28:59.051Z"
   },
   {
    "duration": 50,
    "start_time": "2022-04-14T13:28:59.692Z"
   },
   {
    "duration": 120,
    "start_time": "2022-04-14T13:28:59.746Z"
   },
   {
    "duration": 159,
    "start_time": "2022-04-14T13:28:59.870Z"
   },
   {
    "duration": 6,
    "start_time": "2022-04-14T13:29:00.031Z"
   },
   {
    "duration": 463,
    "start_time": "2022-04-14T13:29:00.040Z"
   },
   {
    "duration": 88,
    "start_time": "2022-04-14T13:29:00.506Z"
   },
   {
    "duration": 98,
    "start_time": "2022-04-14T13:29:00.597Z"
   },
   {
    "duration": 13,
    "start_time": "2022-04-14T13:29:00.697Z"
   },
   {
    "duration": 37,
    "start_time": "2022-04-14T13:29:00.715Z"
   },
   {
    "duration": 42,
    "start_time": "2022-04-14T13:29:00.754Z"
   },
   {
    "duration": 4,
    "start_time": "2022-04-14T13:29:00.799Z"
   },
   {
    "duration": 19,
    "start_time": "2022-04-14T13:29:00.806Z"
   },
   {
    "duration": 20,
    "start_time": "2022-04-14T13:29:00.827Z"
   },
   {
    "duration": 37,
    "start_time": "2022-04-14T13:29:00.850Z"
   },
   {
    "duration": 11,
    "start_time": "2022-04-14T13:29:00.890Z"
   },
   {
    "duration": 1979,
    "start_time": "2022-04-14T13:29:00.903Z"
   },
   {
    "duration": 11,
    "start_time": "2022-04-14T13:29:02.885Z"
   },
   {
    "duration": 1894,
    "start_time": "2022-04-14T13:29:02.899Z"
   },
   {
    "duration": 7,
    "start_time": "2022-04-14T13:29:04.795Z"
   },
   {
    "duration": 1836,
    "start_time": "2022-04-14T13:29:04.804Z"
   },
   {
    "duration": 6,
    "start_time": "2022-04-14T13:29:06.642Z"
   },
   {
    "duration": 4,
    "start_time": "2022-04-14T13:29:26.694Z"
   },
   {
    "duration": 451,
    "start_time": "2022-04-14T13:29:26.702Z"
   },
   {
    "duration": 37,
    "start_time": "2022-04-14T13:29:27.155Z"
   },
   {
    "duration": 56,
    "start_time": "2022-04-14T13:29:27.195Z"
   },
   {
    "duration": 158,
    "start_time": "2022-04-14T13:29:27.255Z"
   },
   {
    "duration": 8,
    "start_time": "2022-04-14T13:29:27.416Z"
   },
   {
    "duration": 378,
    "start_time": "2022-04-14T13:29:27.427Z"
   },
   {
    "duration": 88,
    "start_time": "2022-04-14T13:29:27.808Z"
   },
   {
    "duration": 107,
    "start_time": "2022-04-14T13:29:27.899Z"
   },
   {
    "duration": 11,
    "start_time": "2022-04-14T13:29:28.008Z"
   },
   {
    "duration": 18,
    "start_time": "2022-04-14T13:29:28.022Z"
   },
   {
    "duration": 50,
    "start_time": "2022-04-14T13:29:28.043Z"
   },
   {
    "duration": 6,
    "start_time": "2022-04-14T13:29:28.096Z"
   },
   {
    "duration": 6,
    "start_time": "2022-04-14T13:29:28.110Z"
   },
   {
    "duration": 6,
    "start_time": "2022-04-14T13:29:28.120Z"
   },
   {
    "duration": 30,
    "start_time": "2022-04-14T13:29:28.129Z"
   },
   {
    "duration": 34,
    "start_time": "2022-04-14T13:29:28.161Z"
   },
   {
    "duration": 1875,
    "start_time": "2022-04-14T13:29:28.197Z"
   },
   {
    "duration": 7,
    "start_time": "2022-04-14T13:29:30.075Z"
   },
   {
    "duration": 1930,
    "start_time": "2022-04-14T13:29:30.094Z"
   },
   {
    "duration": 15,
    "start_time": "2022-04-14T13:29:32.037Z"
   },
   {
    "duration": 1983,
    "start_time": "2022-04-14T13:29:32.055Z"
   },
   {
    "duration": 8,
    "start_time": "2022-04-14T13:29:34.041Z"
   },
   {
    "duration": 206,
    "start_time": "2022-04-14T15:09:13.867Z"
   },
   {
    "duration": 1267,
    "start_time": "2022-04-14T15:11:16.997Z"
   },
   {
    "duration": 349,
    "start_time": "2022-04-14T15:11:18.266Z"
   },
   {
    "duration": 27,
    "start_time": "2022-04-14T15:11:18.616Z"
   },
   {
    "duration": 60,
    "start_time": "2022-04-14T15:11:18.645Z"
   },
   {
    "duration": 107,
    "start_time": "2022-04-14T15:11:18.706Z"
   },
   {
    "duration": 4,
    "start_time": "2022-04-14T15:11:18.815Z"
   },
   {
    "duration": 294,
    "start_time": "2022-04-14T15:11:18.820Z"
   },
   {
    "duration": 6,
    "start_time": "2022-04-14T15:11:19.202Z"
   },
   {
    "duration": 99,
    "start_time": "2022-04-14T15:11:19.210Z"
   },
   {
    "duration": 4,
    "start_time": "2022-04-14T15:11:19.312Z"
   },
   {
    "duration": 13,
    "start_time": "2022-04-14T15:11:19.318Z"
   },
   {
    "duration": 19,
    "start_time": "2022-04-14T15:11:19.333Z"
   },
   {
    "duration": 2,
    "start_time": "2022-04-14T15:11:19.354Z"
   },
   {
    "duration": 7,
    "start_time": "2022-04-14T15:11:19.358Z"
   },
   {
    "duration": 6,
    "start_time": "2022-04-14T15:11:19.367Z"
   },
   {
    "duration": 30,
    "start_time": "2022-04-14T15:11:19.374Z"
   },
   {
    "duration": 5,
    "start_time": "2022-04-14T15:11:19.406Z"
   },
   {
    "duration": 1414,
    "start_time": "2022-04-14T15:11:19.412Z"
   },
   {
    "duration": 5,
    "start_time": "2022-04-14T15:11:20.828Z"
   },
   {
    "duration": 1114,
    "start_time": "2022-04-14T15:11:20.835Z"
   },
   {
    "duration": 4,
    "start_time": "2022-04-14T15:11:21.951Z"
   },
   {
    "duration": 1263,
    "start_time": "2022-04-14T15:11:21.957Z"
   },
   {
    "duration": 5,
    "start_time": "2022-04-14T15:11:23.222Z"
   },
   {
    "duration": 3,
    "start_time": "2022-04-14T15:16:30.303Z"
   },
   {
    "duration": 360,
    "start_time": "2022-04-14T15:16:30.312Z"
   },
   {
    "duration": 26,
    "start_time": "2022-04-14T15:16:30.674Z"
   },
   {
    "duration": 65,
    "start_time": "2022-04-14T15:16:30.702Z"
   },
   {
    "duration": 157,
    "start_time": "2022-04-14T15:16:30.769Z"
   },
   {
    "duration": 6,
    "start_time": "2022-04-14T15:16:30.929Z"
   },
   {
    "duration": 364,
    "start_time": "2022-04-14T15:16:30.937Z"
   },
   {
    "duration": 6,
    "start_time": "2022-04-14T15:16:31.303Z"
   },
   {
    "duration": 92,
    "start_time": "2022-04-14T15:16:31.312Z"
   },
   {
    "duration": 11,
    "start_time": "2022-04-14T15:16:31.405Z"
   },
   {
    "duration": 13,
    "start_time": "2022-04-14T15:16:31.418Z"
   },
   {
    "duration": 16,
    "start_time": "2022-04-14T15:16:31.433Z"
   },
   {
    "duration": 3,
    "start_time": "2022-04-14T15:16:31.451Z"
   },
   {
    "duration": 8,
    "start_time": "2022-04-14T15:16:31.455Z"
   },
   {
    "duration": 12,
    "start_time": "2022-04-14T15:16:31.466Z"
   },
   {
    "duration": 12,
    "start_time": "2022-04-14T15:16:31.479Z"
   }
  ],
  "kernelspec": {
   "display_name": "Python 3",
   "language": "python",
   "name": "python3"
  },
  "language_info": {
   "codemirror_mode": {
    "name": "ipython",
    "version": 3
   },
   "file_extension": ".py",
   "mimetype": "text/x-python",
   "name": "python",
   "nbconvert_exporter": "python",
   "pygments_lexer": "ipython3",
   "version": "3.10.7 (tags/v3.10.7:6cc6b13, Sep  5 2022, 14:08:36) [MSC v.1933 64 bit (AMD64)]"
  },
  "toc": {
   "base_numbering": 1,
   "nav_menu": {},
   "number_sections": true,
   "sideBar": true,
   "skip_h1_title": true,
   "title_cell": "Table of Contents",
   "title_sidebar": "Contents",
   "toc_cell": false,
   "toc_position": {
    "height": "calc(100% - 180px)",
    "left": "10px",
    "top": "150px",
    "width": "405px"
   },
   "toc_section_display": true,
   "toc_window_display": true
  },
  "vscode": {
   "interpreter": {
    "hash": "55897f39ac7fcb5d9dfece991134c735844144358f4a79aa62d757304fbf59da"
   }
  }
 },
 "nbformat": 4,
 "nbformat_minor": 2
}
